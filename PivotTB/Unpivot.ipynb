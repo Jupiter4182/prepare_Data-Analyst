{
    "metadata": {
        "kernelspec": {
            "name": "SQL",
            "display_name": "SQL",
            "language": "sql"
        },
        "language_info": {
            "name": "sql",
            "version": ""
        }
    },
    "nbformat_minor": 2,
    "nbformat": 4,
    "cells": [
        {
            "cell_type": "markdown",
            "source": [
                "# **Long format**"
            ],
            "metadata": {
                "language": "sql",
                "azdata_cell_guid": "d98a2775-3089-47f9-b0a7-7e17cacb2a14"
            },
            "attachments": {}
        },
        {
            "cell_type": "code",
            "source": [
                "-- long format\r\n",
                "select * from revenue where year > 2010"
            ],
            "metadata": {
                "azdata_cell_guid": "72865548-ac5d-4e90-baab-c2bcb0cc2a5d",
                "language": "sql"
            },
            "outputs": [
                {
                    "output_type": "display_data",
                    "data": {
                        "text/html": "(6 rows affected)"
                    },
                    "metadata": {}
                },
                {
                    "output_type": "display_data",
                    "data": {
                        "text/html": "Total execution time: 00:00:00.015"
                    },
                    "metadata": {}
                },
                {
                    "output_type": "execute_result",
                    "execution_count": 1,
                    "data": {
                        "application/vnd.dataresource+json": {
                            "schema": {
                                "fields": [
                                    {
                                        "name": "year"
                                    },
                                    {
                                        "name": "studio_entertainment"
                                    },
                                    {
                                        "name": "disney_consumer_products"
                                    },
                                    {
                                        "name": "disney_interactive"
                                    },
                                    {
                                        "name": "walt_disney_parks_and_resorts"
                                    },
                                    {
                                        "name": "disney_media_networks"
                                    },
                                    {
                                        "name": "total"
                                    }
                                ]
                            },
                            "data": [
                                {
                                    "year": "2011",
                                    "studio_entertainment": "6351",
                                    "disney_consumer_products": "3049",
                                    "disney_interactive": "982",
                                    "walt_disney_parks_and_resorts": "11797",
                                    "disney_media_networks": "18714",
                                    "total": "40893"
                                },
                                {
                                    "year": "2012",
                                    "studio_entertainment": "5825",
                                    "disney_consumer_products": "3252",
                                    "disney_interactive": "845",
                                    "walt_disney_parks_and_resorts": "12920",
                                    "disney_media_networks": "19436",
                                    "total": "42278"
                                },
                                {
                                    "year": "2013",
                                    "studio_entertainment": "5979",
                                    "disney_consumer_products": "3555",
                                    "disney_interactive": "1064",
                                    "walt_disney_parks_and_resorts": "14087",
                                    "disney_media_networks": "20356",
                                    "total": "45041"
                                },
                                {
                                    "year": "2014",
                                    "studio_entertainment": "7278",
                                    "disney_consumer_products": "3985",
                                    "disney_interactive": "1299",
                                    "walt_disney_parks_and_resorts": "15099",
                                    "disney_media_networks": "21152",
                                    "total": "48813"
                                },
                                {
                                    "year": "2015",
                                    "studio_entertainment": "7366",
                                    "disney_consumer_products": "4499",
                                    "disney_interactive": "1174",
                                    "walt_disney_parks_and_resorts": "16162",
                                    "disney_media_networks": "23264",
                                    "total": "52465"
                                },
                                {
                                    "year": "2016",
                                    "studio_entertainment": "9441",
                                    "disney_consumer_products": "NULL",
                                    "disney_interactive": "NULL",
                                    "walt_disney_parks_and_resorts": "16974",
                                    "disney_media_networks": "23689",
                                    "total": "55632"
                                }
                            ]
                        },
                        "text/html": "<table><tr><th>year</th><th>studio_entertainment</th><th>disney_consumer_products</th><th>disney_interactive</th><th>walt_disney_parks_and_resorts</th><th>disney_media_networks</th><th>total</th></tr><tr><td>2011</td><td>6351</td><td>3049</td><td>982</td><td>11797</td><td>18714</td><td>40893</td></tr><tr><td>2012</td><td>5825</td><td>3252</td><td>845</td><td>12920</td><td>19436</td><td>42278</td></tr><tr><td>2013</td><td>5979</td><td>3555</td><td>1064</td><td>14087</td><td>20356</td><td>45041</td></tr><tr><td>2014</td><td>7278</td><td>3985</td><td>1299</td><td>15099</td><td>21152</td><td>48813</td></tr><tr><td>2015</td><td>7366</td><td>4499</td><td>1174</td><td>16162</td><td>23264</td><td>52465</td></tr><tr><td>2016</td><td>9441</td><td>NULL</td><td>NULL</td><td>16974</td><td>23689</td><td>55632</td></tr></table>"
                    },
                    "metadata": {}
                }
            ],
            "execution_count": 1
        },
        {
            "cell_type": "code",
            "source": [
                "select year,cat,rev_m_usd\r\n",
                "    from revenue\r\n",
                "    UNPIVOT(\r\n",
                "        rev_m_usd for cat in (\r\n",
                "            studio_entertainment,disney_consumer_products,disney_interactive\r\n",
                "        )\r\n",
                " )u\r\n",
                "where year > 2010\r\n",
                ""
            ],
            "metadata": {
                "language": "sql",
                "azdata_cell_guid": "688bc550-def7-4bdc-8b77-32df4d0da513"
            },
            "outputs": [
                {
                    "output_type": "display_data",
                    "data": {
                        "text/html": "(16 rows affected)"
                    },
                    "metadata": {}
                },
                {
                    "output_type": "display_data",
                    "data": {
                        "text/html": "Total execution time: 00:00:00.004"
                    },
                    "metadata": {}
                },
                {
                    "output_type": "execute_result",
                    "execution_count": 1,
                    "data": {
                        "application/vnd.dataresource+json": {
                            "schema": {
                                "fields": [
                                    {
                                        "name": "year"
                                    },
                                    {
                                        "name": "cat"
                                    },
                                    {
                                        "name": "rev_m_usd"
                                    }
                                ]
                            },
                            "data": [
                                {
                                    "year": "2011",
                                    "cat": "studio_entertainment",
                                    "rev_m_usd": "6351"
                                },
                                {
                                    "year": "2011",
                                    "cat": "disney_consumer_products",
                                    "rev_m_usd": "3049"
                                },
                                {
                                    "year": "2011",
                                    "cat": "disney_interactive",
                                    "rev_m_usd": "982"
                                },
                                {
                                    "year": "2012",
                                    "cat": "studio_entertainment",
                                    "rev_m_usd": "5825"
                                },
                                {
                                    "year": "2012",
                                    "cat": "disney_consumer_products",
                                    "rev_m_usd": "3252"
                                },
                                {
                                    "year": "2012",
                                    "cat": "disney_interactive",
                                    "rev_m_usd": "845"
                                },
                                {
                                    "year": "2013",
                                    "cat": "studio_entertainment",
                                    "rev_m_usd": "5979"
                                },
                                {
                                    "year": "2013",
                                    "cat": "disney_consumer_products",
                                    "rev_m_usd": "3555"
                                },
                                {
                                    "year": "2013",
                                    "cat": "disney_interactive",
                                    "rev_m_usd": "1064"
                                },
                                {
                                    "year": "2014",
                                    "cat": "studio_entertainment",
                                    "rev_m_usd": "7278"
                                },
                                {
                                    "year": "2014",
                                    "cat": "disney_consumer_products",
                                    "rev_m_usd": "3985"
                                },
                                {
                                    "year": "2014",
                                    "cat": "disney_interactive",
                                    "rev_m_usd": "1299"
                                },
                                {
                                    "year": "2015",
                                    "cat": "studio_entertainment",
                                    "rev_m_usd": "7366"
                                },
                                {
                                    "year": "2015",
                                    "cat": "disney_consumer_products",
                                    "rev_m_usd": "4499"
                                },
                                {
                                    "year": "2015",
                                    "cat": "disney_interactive",
                                    "rev_m_usd": "1174"
                                },
                                {
                                    "year": "2016",
                                    "cat": "studio_entertainment",
                                    "rev_m_usd": "9441"
                                }
                            ]
                        },
                        "text/html": "<table><tr><th>year</th><th>cat</th><th>rev_m_usd</th></tr><tr><td>2011</td><td>studio_entertainment</td><td>6351</td></tr><tr><td>2011</td><td>disney_consumer_products</td><td>3049</td></tr><tr><td>2011</td><td>disney_interactive</td><td>982</td></tr><tr><td>2012</td><td>studio_entertainment</td><td>5825</td></tr><tr><td>2012</td><td>disney_consumer_products</td><td>3252</td></tr><tr><td>2012</td><td>disney_interactive</td><td>845</td></tr><tr><td>2013</td><td>studio_entertainment</td><td>5979</td></tr><tr><td>2013</td><td>disney_consumer_products</td><td>3555</td></tr><tr><td>2013</td><td>disney_interactive</td><td>1064</td></tr><tr><td>2014</td><td>studio_entertainment</td><td>7278</td></tr><tr><td>2014</td><td>disney_consumer_products</td><td>3985</td></tr><tr><td>2014</td><td>disney_interactive</td><td>1299</td></tr><tr><td>2015</td><td>studio_entertainment</td><td>7366</td></tr><tr><td>2015</td><td>disney_consumer_products</td><td>4499</td></tr><tr><td>2015</td><td>disney_interactive</td><td>1174</td></tr><tr><td>2016</td><td>studio_entertainment</td><td>9441</td></tr></table>"
                    },
                    "metadata": {}
                }
            ],
            "execution_count": 1
        },
        {
            "cell_type": "code",
            "source": [
                "create view vw_revenue as \r\n",
                "    select year,cat,rev_m_usd \r\n",
                "    from revenue\r\n",
                "    UNPIVOT(\r\n",
                "        rev_m_usd for cat in (\r\n",
                "            studio_entertainment,disney_consumer_products,disney_interactive\r\n",
                "        )\r\n",
                " )u\r\n",
                "\r\n",
                "\r\n",
                ""
            ],
            "metadata": {
                "language": "sql",
                "azdata_cell_guid": "79b9dcaf-4c37-49d9-b87a-c337a17d692e"
            },
            "outputs": [
                {
                    "output_type": "display_data",
                    "data": {
                        "text/html": "Commands completed successfully."
                    },
                    "metadata": {}
                },
                {
                    "output_type": "display_data",
                    "data": {
                        "text/html": "Total execution time: 00:00:00.004"
                    },
                    "metadata": {}
                }
            ],
            "execution_count": 15
        },
        {
            "cell_type": "code",
            "source": [
                "select year,sum(rev_m_usd) from vw_revenue group by year"
            ],
            "metadata": {
                "language": "sql",
                "azdata_cell_guid": "60f61408-6afe-412f-8d28-1a6b9dd170ce"
            },
            "outputs": [
                {
                    "output_type": "display_data",
                    "data": {
                        "text/html": "(25 rows affected)"
                    },
                    "metadata": {}
                },
                {
                    "output_type": "display_data",
                    "data": {
                        "text/html": "Total execution time: 00:00:00.010"
                    },
                    "metadata": {}
                },
                {
                    "output_type": "execute_result",
                    "execution_count": 18,
                    "data": {
                        "application/vnd.dataresource+json": {
                            "schema": {
                                "fields": [
                                    {
                                        "name": "year"
                                    },
                                    {
                                        "name": "(No column name)"
                                    }
                                ]
                            },
                            "data": [
                                {
                                    "year": "1991",
                                    "(No column name)": "3317"
                                },
                                {
                                    "year": "1992",
                                    "(No column name)": "4196"
                                },
                                {
                                    "year": "1993",
                                    "(No column name)": "5088.5"
                                },
                                {
                                    "year": "1994",
                                    "(No column name)": "6591.2"
                                },
                                {
                                    "year": "1995",
                                    "(No column name)": "8151.5"
                                },
                                {
                                    "year": "1997",
                                    "(No column name)": "10937"
                                },
                                {
                                    "year": "1998",
                                    "(No column name)": "10302"
                                },
                                {
                                    "year": "1999",
                                    "(No column name)": "9784"
                                },
                                {
                                    "year": "2000",
                                    "(No column name)": "8964"
                                },
                                {
                                    "year": "2001",
                                    "(No column name)": "9594"
                                },
                                {
                                    "year": "2002",
                                    "(No column name)": "8905"
                                },
                                {
                                    "year": "2003",
                                    "(No column name)": "9708"
                                },
                                {
                                    "year": "2004",
                                    "(No column name)": "11224"
                                },
                                {
                                    "year": "2005",
                                    "(No column name)": "9714"
                                },
                                {
                                    "year": "2006",
                                    "(No column name)": "9722"
                                },
                                {
                                    "year": "2007",
                                    "(No column name)": "9838"
                                },
                                {
                                    "year": "2008",
                                    "(No column name)": "10482"
                                },
                                {
                                    "year": "2009",
                                    "(No column name)": "9273"
                                },
                                {
                                    "year": "2010",
                                    "(No column name)": "10140"
                                },
                                {
                                    "year": "2011",
                                    "(No column name)": "10382"
                                },
                                {
                                    "year": "2012",
                                    "(No column name)": "9922"
                                },
                                {
                                    "year": "2013",
                                    "(No column name)": "10598"
                                },
                                {
                                    "year": "2014",
                                    "(No column name)": "12562"
                                },
                                {
                                    "year": "2015",
                                    "(No column name)": "13039"
                                },
                                {
                                    "year": "2016",
                                    "(No column name)": "9441"
                                }
                            ]
                        },
                        "text/html": "<table><tr><th>year</th><th>(No column name)</th></tr><tr><td>1991</td><td>3317</td></tr><tr><td>1992</td><td>4196</td></tr><tr><td>1993</td><td>5088.5</td></tr><tr><td>1994</td><td>6591.2</td></tr><tr><td>1995</td><td>8151.5</td></tr><tr><td>1997</td><td>10937</td></tr><tr><td>1998</td><td>10302</td></tr><tr><td>1999</td><td>9784</td></tr><tr><td>2000</td><td>8964</td></tr><tr><td>2001</td><td>9594</td></tr><tr><td>2002</td><td>8905</td></tr><tr><td>2003</td><td>9708</td></tr><tr><td>2004</td><td>11224</td></tr><tr><td>2005</td><td>9714</td></tr><tr><td>2006</td><td>9722</td></tr><tr><td>2007</td><td>9838</td></tr><tr><td>2008</td><td>10482</td></tr><tr><td>2009</td><td>9273</td></tr><tr><td>2010</td><td>10140</td></tr><tr><td>2011</td><td>10382</td></tr><tr><td>2012</td><td>9922</td></tr><tr><td>2013</td><td>10598</td></tr><tr><td>2014</td><td>12562</td></tr><tr><td>2015</td><td>13039</td></tr><tr><td>2016</td><td>9441</td></tr></table>"
                    },
                    "metadata": {}
                }
            ],
            "execution_count": 18
        },
        {
            "cell_type": "code",
            "source": [
                "select year,cat,rev_usd\r\n",
                "from revenue \r\n",
                "UNPIVOT \r\n",
                "(\r\n",
                "rev_usd for cat in \r\n",
                "(studio_entertainment,disney_consumer_products)\r\n",
                ")u"
            ],
            "metadata": {
                "azdata_cell_guid": "eeb2b7f5-1aa4-4e25-8e91-22900cfdf377",
                "language": "sql"
            },
            "outputs": [
                {
                    "output_type": "display_data",
                    "data": {
                        "text/html": "(49 rows affected)"
                    },
                    "metadata": {}
                },
                {
                    "output_type": "display_data",
                    "data": {
                        "text/html": "Total execution time: 00:00:00.011"
                    },
                    "metadata": {}
                },
                {
                    "output_type": "execute_result",
                    "execution_count": 5,
                    "data": {
                        "application/vnd.dataresource+json": {
                            "schema": {
                                "fields": [
                                    {
                                        "name": "year"
                                    },
                                    {
                                        "name": "cat"
                                    },
                                    {
                                        "name": "rev_usd"
                                    }
                                ]
                            },
                            "data": [
                                {
                                    "year": "1991",
                                    "cat": "studio_entertainment",
                                    "rev_usd": "2593"
                                },
                                {
                                    "year": "1991",
                                    "cat": "disney_consumer_products",
                                    "rev_usd": "724"
                                },
                                {
                                    "year": "1992",
                                    "cat": "studio_entertainment",
                                    "rev_usd": "3115"
                                },
                                {
                                    "year": "1992",
                                    "cat": "disney_consumer_products",
                                    "rev_usd": "1081"
                                },
                                {
                                    "year": "1993",
                                    "cat": "studio_entertainment",
                                    "rev_usd": "3673.4"
                                },
                                {
                                    "year": "1993",
                                    "cat": "disney_consumer_products",
                                    "rev_usd": "1415.1"
                                },
                                {
                                    "year": "1994",
                                    "cat": "studio_entertainment",
                                    "rev_usd": "4793"
                                },
                                {
                                    "year": "1994",
                                    "cat": "disney_consumer_products",
                                    "rev_usd": "1798.2"
                                },
                                {
                                    "year": "1995",
                                    "cat": "studio_entertainment",
                                    "rev_usd": "6001.5"
                                },
                                {
                                    "year": "1995",
                                    "cat": "disney_consumer_products",
                                    "rev_usd": "2150"
                                },
                                {
                                    "year": "1997",
                                    "cat": "studio_entertainment",
                                    "rev_usd": "6981"
                                },
                                {
                                    "year": "1997",
                                    "cat": "disney_consumer_products",
                                    "rev_usd": "3782"
                                },
                                {
                                    "year": "1998",
                                    "cat": "studio_entertainment",
                                    "rev_usd": "6849"
                                },
                                {
                                    "year": "1998",
                                    "cat": "disney_consumer_products",
                                    "rev_usd": "3193"
                                },
                                {
                                    "year": "1999",
                                    "cat": "studio_entertainment",
                                    "rev_usd": "6548"
                                },
                                {
                                    "year": "1999",
                                    "cat": "disney_consumer_products",
                                    "rev_usd": "3030"
                                },
                                {
                                    "year": "2000",
                                    "cat": "studio_entertainment",
                                    "rev_usd": "5994"
                                },
                                {
                                    "year": "2000",
                                    "cat": "disney_consumer_products",
                                    "rev_usd": "2602"
                                },
                                {
                                    "year": "2001",
                                    "cat": "studio_entertainment",
                                    "rev_usd": "7004"
                                },
                                {
                                    "year": "2001",
                                    "cat": "disney_consumer_products",
                                    "rev_usd": "2590"
                                },
                                {
                                    "year": "2002",
                                    "cat": "studio_entertainment",
                                    "rev_usd": "6465"
                                },
                                {
                                    "year": "2002",
                                    "cat": "disney_consumer_products",
                                    "rev_usd": "2440"
                                },
                                {
                                    "year": "2003",
                                    "cat": "studio_entertainment",
                                    "rev_usd": "7364"
                                },
                                {
                                    "year": "2003",
                                    "cat": "disney_consumer_products",
                                    "rev_usd": "2344"
                                },
                                {
                                    "year": "2004",
                                    "cat": "studio_entertainment",
                                    "rev_usd": "8713"
                                },
                                {
                                    "year": "2004",
                                    "cat": "disney_consumer_products",
                                    "rev_usd": "2511"
                                },
                                {
                                    "year": "2005",
                                    "cat": "studio_entertainment",
                                    "rev_usd": "7587"
                                },
                                {
                                    "year": "2005",
                                    "cat": "disney_consumer_products",
                                    "rev_usd": "2127"
                                },
                                {
                                    "year": "2006",
                                    "cat": "studio_entertainment",
                                    "rev_usd": "7529"
                                },
                                {
                                    "year": "2006",
                                    "cat": "disney_consumer_products",
                                    "rev_usd": "2193"
                                },
                                {
                                    "year": "2007",
                                    "cat": "studio_entertainment",
                                    "rev_usd": "7491"
                                },
                                {
                                    "year": "2007",
                                    "cat": "disney_consumer_products",
                                    "rev_usd": "2347"
                                },
                                {
                                    "year": "2008",
                                    "cat": "studio_entertainment",
                                    "rev_usd": "7348"
                                },
                                {
                                    "year": "2008",
                                    "cat": "disney_consumer_products",
                                    "rev_usd": "2415"
                                },
                                {
                                    "year": "2009",
                                    "cat": "studio_entertainment",
                                    "rev_usd": "6136"
                                },
                                {
                                    "year": "2009",
                                    "cat": "disney_consumer_products",
                                    "rev_usd": "2425"
                                },
                                {
                                    "year": "2010",
                                    "cat": "studio_entertainment",
                                    "rev_usd": "6701"
                                },
                                {
                                    "year": "2010",
                                    "cat": "disney_consumer_products",
                                    "rev_usd": "2678"
                                },
                                {
                                    "year": "2011",
                                    "cat": "studio_entertainment",
                                    "rev_usd": "6351"
                                },
                                {
                                    "year": "2011",
                                    "cat": "disney_consumer_products",
                                    "rev_usd": "3049"
                                },
                                {
                                    "year": "2012",
                                    "cat": "studio_entertainment",
                                    "rev_usd": "5825"
                                },
                                {
                                    "year": "2012",
                                    "cat": "disney_consumer_products",
                                    "rev_usd": "3252"
                                },
                                {
                                    "year": "2013",
                                    "cat": "studio_entertainment",
                                    "rev_usd": "5979"
                                },
                                {
                                    "year": "2013",
                                    "cat": "disney_consumer_products",
                                    "rev_usd": "3555"
                                },
                                {
                                    "year": "2014",
                                    "cat": "studio_entertainment",
                                    "rev_usd": "7278"
                                },
                                {
                                    "year": "2014",
                                    "cat": "disney_consumer_products",
                                    "rev_usd": "3985"
                                },
                                {
                                    "year": "2015",
                                    "cat": "studio_entertainment",
                                    "rev_usd": "7366"
                                },
                                {
                                    "year": "2015",
                                    "cat": "disney_consumer_products",
                                    "rev_usd": "4499"
                                },
                                {
                                    "year": "2016",
                                    "cat": "studio_entertainment",
                                    "rev_usd": "9441"
                                }
                            ]
                        },
                        "text/html": "<table><tr><th>year</th><th>cat</th><th>rev_usd</th></tr><tr><td>1991</td><td>studio_entertainment</td><td>2593</td></tr><tr><td>1991</td><td>disney_consumer_products</td><td>724</td></tr><tr><td>1992</td><td>studio_entertainment</td><td>3115</td></tr><tr><td>1992</td><td>disney_consumer_products</td><td>1081</td></tr><tr><td>1993</td><td>studio_entertainment</td><td>3673.4</td></tr><tr><td>1993</td><td>disney_consumer_products</td><td>1415.1</td></tr><tr><td>1994</td><td>studio_entertainment</td><td>4793</td></tr><tr><td>1994</td><td>disney_consumer_products</td><td>1798.2</td></tr><tr><td>1995</td><td>studio_entertainment</td><td>6001.5</td></tr><tr><td>1995</td><td>disney_consumer_products</td><td>2150</td></tr><tr><td>1997</td><td>studio_entertainment</td><td>6981</td></tr><tr><td>1997</td><td>disney_consumer_products</td><td>3782</td></tr><tr><td>1998</td><td>studio_entertainment</td><td>6849</td></tr><tr><td>1998</td><td>disney_consumer_products</td><td>3193</td></tr><tr><td>1999</td><td>studio_entertainment</td><td>6548</td></tr><tr><td>1999</td><td>disney_consumer_products</td><td>3030</td></tr><tr><td>2000</td><td>studio_entertainment</td><td>5994</td></tr><tr><td>2000</td><td>disney_consumer_products</td><td>2602</td></tr><tr><td>2001</td><td>studio_entertainment</td><td>7004</td></tr><tr><td>2001</td><td>disney_consumer_products</td><td>2590</td></tr><tr><td>2002</td><td>studio_entertainment</td><td>6465</td></tr><tr><td>2002</td><td>disney_consumer_products</td><td>2440</td></tr><tr><td>2003</td><td>studio_entertainment</td><td>7364</td></tr><tr><td>2003</td><td>disney_consumer_products</td><td>2344</td></tr><tr><td>2004</td><td>studio_entertainment</td><td>8713</td></tr><tr><td>2004</td><td>disney_consumer_products</td><td>2511</td></tr><tr><td>2005</td><td>studio_entertainment</td><td>7587</td></tr><tr><td>2005</td><td>disney_consumer_products</td><td>2127</td></tr><tr><td>2006</td><td>studio_entertainment</td><td>7529</td></tr><tr><td>2006</td><td>disney_consumer_products</td><td>2193</td></tr><tr><td>2007</td><td>studio_entertainment</td><td>7491</td></tr><tr><td>2007</td><td>disney_consumer_products</td><td>2347</td></tr><tr><td>2008</td><td>studio_entertainment</td><td>7348</td></tr><tr><td>2008</td><td>disney_consumer_products</td><td>2415</td></tr><tr><td>2009</td><td>studio_entertainment</td><td>6136</td></tr><tr><td>2009</td><td>disney_consumer_products</td><td>2425</td></tr><tr><td>2010</td><td>studio_entertainment</td><td>6701</td></tr><tr><td>2010</td><td>disney_consumer_products</td><td>2678</td></tr><tr><td>2011</td><td>studio_entertainment</td><td>6351</td></tr><tr><td>2011</td><td>disney_consumer_products</td><td>3049</td></tr><tr><td>2012</td><td>studio_entertainment</td><td>5825</td></tr><tr><td>2012</td><td>disney_consumer_products</td><td>3252</td></tr><tr><td>2013</td><td>studio_entertainment</td><td>5979</td></tr><tr><td>2013</td><td>disney_consumer_products</td><td>3555</td></tr><tr><td>2014</td><td>studio_entertainment</td><td>7278</td></tr><tr><td>2014</td><td>disney_consumer_products</td><td>3985</td></tr><tr><td>2015</td><td>studio_entertainment</td><td>7366</td></tr><tr><td>2015</td><td>disney_consumer_products</td><td>4499</td></tr><tr><td>2016</td><td>studio_entertainment</td><td>9441</td></tr></table>"
                    },
                    "metadata": {}
                }
            ],
            "execution_count": 5
        },
        {
            "cell_type": "code",
            "source": [
                "select genre,isnull([2012],0)[2012],isnull([2013],0)[2013],isnull([2014],0)[2014],isnull([2015],0)[2015],isnull([2012]+[2013]+[2014]+[2015],0)Total\r\n",
                "from (select year(release_date)year,genre,sum(total_gross) gross from movie_gross group by genre,release_date)d\r\n",
                "PIVOT(\r\n",
                "    sum(gross) for year in ([2012],[2013],[2014],[2015])\r\n",
                ")pvt"
            ],
            "metadata": {
                "language": "sql",
                "azdata_cell_guid": "a3c1944f-be57-4135-b97a-cf129b00fb2f",
                "tags": []
            },
            "outputs": [
                {
                    "output_type": "display_data",
                    "data": {
                        "text/html": "(13 rows affected)"
                    },
                    "metadata": {}
                },
                {
                    "output_type": "display_data",
                    "data": {
                        "text/html": "Total execution time: 00:00:00.009"
                    },
                    "metadata": {}
                },
                {
                    "output_type": "execute_result",
                    "execution_count": 47,
                    "data": {
                        "application/vnd.dataresource+json": {
                            "schema": {
                                "fields": [
                                    {
                                        "name": "genre"
                                    },
                                    {
                                        "name": "2012"
                                    },
                                    {
                                        "name": "2013"
                                    },
                                    {
                                        "name": "2014"
                                    },
                                    {
                                        "name": "2015"
                                    },
                                    {
                                        "name": "Total"
                                    }
                                ]
                            },
                            "data": [
                                {
                                    "2012": "0",
                                    "2013": "0",
                                    "2014": "0",
                                    "2015": "0",
                                    "genre": "NULL",
                                    "Total": "0"
                                },
                                {
                                    "2012": "623279547",
                                    "2013": "408992272",
                                    "2014": "303315465",
                                    "2015": "639208031",
                                    "genre": "Action",
                                    "Total": "1974795315"
                                },
                                {
                                    "2012": "518946048",
                                    "2013": "1110359474",
                                    "2014": "856265000",
                                    "2015": "1522076961",
                                    "genre": "Adventure",
                                    "Total": "4007647483"
                                },
                                {
                                    "2012": "0",
                                    "2013": "0",
                                    "2014": "0",
                                    "2015": "0",
                                    "genre": "Black Comedy",
                                    "Total": "0"
                                },
                                {
                                    "2012": "35287788",
                                    "2013": "120942397",
                                    "2014": "118133042",
                                    "2015": "0",
                                    "genre": "Comedy",
                                    "Total": "0"
                                },
                                {
                                    "2012": "0",
                                    "2013": "0",
                                    "2014": "0",
                                    "2015": "0",
                                    "genre": "Concert/Performance",
                                    "Total": "0"
                                },
                                {
                                    "2012": "28965459",
                                    "2013": "0",
                                    "2014": "17780194",
                                    "2015": "16432322",
                                    "genre": "Documentary",
                                    "Total": "0"
                                },
                                {
                                    "2012": "246493215",
                                    "2013": "91755812",
                                    "2014": "36447959",
                                    "2015": "245631628",
                                    "genre": "Drama",
                                    "Total": "620328614"
                                },
                                {
                                    "2012": "0",
                                    "2013": "0",
                                    "2014": "0",
                                    "2015": "0",
                                    "genre": "Horror",
                                    "Total": "0"
                                },
                                {
                                    "2012": "0",
                                    "2013": "0",
                                    "2014": "128002372",
                                    "2015": "0",
                                    "genre": "Musical",
                                    "Total": "0"
                                },
                                {
                                    "2012": "0",
                                    "2013": "0",
                                    "2014": "54235441",
                                    "2015": "0",
                                    "genre": "Romantic Comedy",
                                    "Total": "0"
                                },
                                {
                                    "2012": "0",
                                    "2013": "0",
                                    "2014": "0",
                                    "2015": "72313754",
                                    "genre": "Thriller/Suspense",
                                    "Total": "0"
                                },
                                {
                                    "2012": "0",
                                    "2013": "89302115",
                                    "2014": "0",
                                    "2015": "0",
                                    "genre": "Western",
                                    "Total": "0"
                                }
                            ]
                        },
                        "text/html": "<table><tr><th>genre</th><th>2012</th><th>2013</th><th>2014</th><th>2015</th><th>Total</th></tr><tr><td>NULL</td><td>0</td><td>0</td><td>0</td><td>0</td><td>0</td></tr><tr><td>Action</td><td>623279547</td><td>408992272</td><td>303315465</td><td>639208031</td><td>1974795315</td></tr><tr><td>Adventure</td><td>518946048</td><td>1110359474</td><td>856265000</td><td>1522076961</td><td>4007647483</td></tr><tr><td>Black Comedy</td><td>0</td><td>0</td><td>0</td><td>0</td><td>0</td></tr><tr><td>Comedy</td><td>35287788</td><td>120942397</td><td>118133042</td><td>0</td><td>0</td></tr><tr><td>Concert/Performance</td><td>0</td><td>0</td><td>0</td><td>0</td><td>0</td></tr><tr><td>Documentary</td><td>28965459</td><td>0</td><td>17780194</td><td>16432322</td><td>0</td></tr><tr><td>Drama</td><td>246493215</td><td>91755812</td><td>36447959</td><td>245631628</td><td>620328614</td></tr><tr><td>Horror</td><td>0</td><td>0</td><td>0</td><td>0</td><td>0</td></tr><tr><td>Musical</td><td>0</td><td>0</td><td>128002372</td><td>0</td><td>0</td></tr><tr><td>Romantic Comedy</td><td>0</td><td>0</td><td>54235441</td><td>0</td><td>0</td></tr><tr><td>Thriller/Suspense</td><td>0</td><td>0</td><td>0</td><td>72313754</td><td>0</td></tr><tr><td>Western</td><td>0</td><td>89302115</td><td>0</td><td>0</td><td>0</td></tr></table>"
                    },
                    "metadata": {}
                }
            ],
            "execution_count": 47
        }
    ]
}