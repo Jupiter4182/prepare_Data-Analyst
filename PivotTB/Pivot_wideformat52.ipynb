{
    "metadata": {
        "kernelspec": {
            "name": "SQL",
            "display_name": "SQL",
            "language": "sql"
        },
        "language_info": {
            "name": "sql",
            "version": ""
        }
    },
    "nbformat_minor": 2,
    "nbformat": 4,
    "cells": [
        {
            "cell_type": "markdown",
            "source": [
                "<span style=\"color: var(--vscode-foreground);\"><b>select </b>&lt;non-pivoted Colum&gt;</span>\n",
                "\n",
                "> <span style=\"color: var(--vscode-foreground);\">&lt;first&nbsp;</span>    <span style=\"color: var(--vscode-foreground);\">pivoted colum&gt; AS &lt;column name&gt;,</span>\n",
                "\n",
                "> \\<second <span style=\"color: var(--vscode-foreground);\">pivoted colum&gt; AS &lt;column name&gt;,</span>\n",
                "\n",
                "> <span style=\"color: var(--vscode-foreground);\">...</span>\n",
                "\n",
                "> \\<last <span style=\"color: var(--vscode-foreground);\">pivoted colum&gt; AS &lt;column name&gt;</span>\n",
                "\n",
                "**FROM**\n",
                "\n",
                "         (\\<SELECT query that produces the data\\>)\n",
                "\n",
                "         AS \\< alias for the source query\\>\n",
                "\n",
                "**PIVOT**\n",
                "\n",
                "## **(**\n",
                "\n",
                "         \\<aggregation function (\\<column being aggregated\\>)\n",
                "\n",
                "**FOR** <span style=\"color: var(--vscode-foreground);\">[&lt;colum that contains the values that will become column headers]</span>\n",
                "\n",
                "     **IN** ( \\[first pivoted column\\], \\[second <span style=\"color: var(--vscode-foreground);\">pivoted column],</span>\n",
                "\n",
                "            <span style=\"color: var(--vscode-foreground);\">.... [last</span>    <span style=\"color: var(--vscode-foreground);\">&nbsp;pivoted column,</span><span style=\"color: var(--vscode-foreground);\">])</span>\n",
                "\n",
                "## <span style=\"color: var(--vscode-foreground);\"><b>)</b>&nbsp;A</span>S \\<alias for the pivot table\\>\n",
                "\n",
                "<span style=\"color: var(--vscode-foreground);\">&lt;optional OREDER BY clause&gt;</span>"
            ],
            "metadata": {
                "azdata_cell_guid": "fff307e3-25e2-4e90-8e19-42f9911408c0"
            },
            "attachments": {}
        },
        {
            "cell_type": "markdown",
            "source": [
                "## long format สรุปยอด"
            ],
            "metadata": {
                "language": "sql",
                "azdata_cell_guid": "24249aee-674f-44e9-89bc-bb877f4907f2"
            },
            "attachments": {}
        },
        {
            "cell_type": "code",
            "source": [
                "select year(release_date)year ,genre,sum(inflation_adjusted_gross)gross from movie_gross group by genre,release_date"
            ],
            "metadata": {
                "azdata_cell_guid": "482e851b-a1d5-4f75-9f49-b4a4b3621a8b",
                "language": "sql"
            },
            "outputs": [
                {
                    "output_type": "display_data",
                    "data": {
                        "text/html": "(574 rows affected)"
                    },
                    "metadata": {}
                },
                {
                    "output_type": "display_data",
                    "data": {
                        "text/html": "Total execution time: 00:00:00.017"
                    },
                    "metadata": {}
                },
                {
                    "output_type": "execute_result",
                    "execution_count": 13,
                    "data": {
                        "application/vnd.dataresource+json": {
                            "schema": {
                                "fields": [
                                    {
                                        "name": "year"
                                    },
                                    {
                                        "name": "genre"
                                    },
                                    {
                                        "name": "gross"
                                    }
                                ]
                            },
                            "data": [
                                {
                                    "year": "1937",
                                    "genre": "Musical",
                                    "gross": "5228953251"
                                },
                                {
                                    "year": "1940",
                                    "genre": "Adventure",
                                    "gross": "2188229052"
                                },
                                {
                                    "year": "1940",
                                    "genre": "Musical",
                                    "gross": "2187090808"
                                },
                                {
                                    "year": "1946",
                                    "genre": "Adventure",
                                    "gross": "1078510579"
                                },
                                {
                                    "year": "1950",
                                    "genre": "Drama",
                                    "gross": "920608730"
                                },
                                {
                                    "year": "1954",
                                    "genre": "Adventure",
                                    "gross": "528279994"
                                },
                                {
                                    "year": "1955",
                                    "genre": "Drama",
                                    "gross": "1236035515"
                                },
                                {
                                    "year": "1959",
                                    "genre": "Drama",
                                    "gross": "21505832"
                                },
                                {
                                    "year": "1961",
                                    "genre": "Comedy",
                                    "gross": "1362870985"
                                },
                                {
                                    "year": "1961",
                                    "genre": "Comedy",
                                    "gross": "310094574"
                                },
                                {
                                    "year": "1961",
                                    "genre": "Musical",
                                    "gross": "124841160"
                                },
                                {
                                    "year": "1962",
                                    "genre": "Comedy",
                                    "gross": "109581646"
                                },
                                {
                                    "year": "1963",
                                    "genre": "Adventure",
                                    "gross": "153870834"
                                },
                                {
                                    "year": "1967",
                                    "genre": "Musical",
                                    "gross": "789612346"
                                },
                                {
                                    "year": "1968",
                                    "genre": "Comedy",
                                    "gross": "138612686"
                                },
                                {
                                    "year": "1970",
                                    "genre": "Musical",
                                    "gross": "255161499"
                                },
                                {
                                    "year": "1970",
                                    "genre": "Comedy",
                                    "gross": "101200742"
                                },
                                {
                                    "year": "1971",
                                    "genre": "Musical",
                                    "gross": "91305448"
                                },
                                {
                                    "year": "1975",
                                    "genre": "Comedy",
                                    "gross": "131246872"
                                },
                                {
                                    "year": "1977",
                                    "genre": "Comedy",
                                    "gross": "98067733"
                                },
                                {
                                    "year": "1977",
                                    "genre": "NULL",
                                    "gross": "0"
                                },
                                {
                                    "year": "1977",
                                    "genre": "Adventure",
                                    "gross": "159743914"
                                },
                                {
                                    "year": "1977",
                                    "genre": "NULL",
                                    "gross": "105847527"
                                },
                                {
                                    "year": "1979",
                                    "genre": "NULL",
                                    "gross": "120377374"
                                },
                                {
                                    "year": "1980",
                                    "genre": "NULL",
                                    "gross": "9088096"
                                },
                                {
                                    "year": "1980",
                                    "genre": "NULL",
                                    "gross": "34472116"
                                },
                                {
                                    "year": "1981",
                                    "genre": "NULL",
                                    "gross": "48517980"
                                },
                                {
                                    "year": "1981",
                                    "genre": "Drama",
                                    "gross": "0"
                                },
                                {
                                    "year": "1981",
                                    "genre": "Comedy",
                                    "gross": "133118889"
                                },
                                {
                                    "year": "1981",
                                    "genre": "Action",
                                    "gross": "0"
                                },
                                {
                                    "year": "1982",
                                    "genre": "Drama",
                                    "gross": "12903059"
                                },
                                {
                                    "year": "1982",
                                    "genre": "Action",
                                    "gross": "77184895"
                                },
                                {
                                    "year": "1982",
                                    "genre": "Drama",
                                    "gross": "20643199"
                                },
                                {
                                    "year": "1983",
                                    "genre": "Comedy",
                                    "gross": "11519089"
                                },
                                {
                                    "year": "1983",
                                    "genre": "Horror",
                                    "gross": "15136765"
                                },
                                {
                                    "year": "1983",
                                    "genre": "Drama",
                                    "gross": "70669955"
                                },
                                {
                                    "year": "1983",
                                    "genre": "Drama",
                                    "gross": "3223725"
                                },
                                {
                                    "year": "1984",
                                    "genre": "Comedy",
                                    "gross": "157057661"
                                },
                                {
                                    "year": "1984",
                                    "genre": "Drama",
                                    "gross": "21075000"
                                },
                                {
                                    "year": "1985",
                                    "genre": "Adventure",
                                    "gross": "33900697"
                                },
                                {
                                    "year": "1985",
                                    "genre": "Adventure",
                                    "gross": "25215934"
                                },
                                {
                                    "year": "1985",
                                    "genre": "Adventure",
                                    "gross": "50553142"
                                },
                                {
                                    "year": "1985",
                                    "genre": "Comedy",
                                    "gross": "9736051"
                                },
                                {
                                    "year": "1985",
                                    "genre": "Drama",
                                    "gross": "22302956"
                                },
                                {
                                    "year": "1985",
                                    "genre": "Drama",
                                    "gross": "31415432"
                                },
                                {
                                    "year": "1986",
                                    "genre": "Comedy",
                                    "gross": "141183693"
                                },
                                {
                                    "year": "1986",
                                    "genre": "Comedy",
                                    "gross": "11003932"
                                },
                                {
                                    "year": "1986",
                                    "genre": "Comedy",
                                    "gross": "162748712"
                                },
                                {
                                    "year": "1986",
                                    "genre": "Adventure",
                                    "gross": "53637367"
                                },
                                {
                                    "year": "1986",
                                    "genre": "Adventure",
                                    "gross": "42183197"
                                },
                                {
                                    "year": "1986",
                                    "genre": "Comedy",
                                    "gross": "48758184"
                                },
                                {
                                    "year": "1986",
                                    "genre": "Drama",
                                    "gross": "117957323"
                                },
                                {
                                    "year": "1987",
                                    "genre": "Comedy",
                                    "gross": "113976921"
                                },
                                {
                                    "year": "1987",
                                    "genre": "Comedy",
                                    "gross": "54787202"
                                },
                                {
                                    "year": "1987",
                                    "genre": "Comedy",
                                    "gross": "50686462"
                                },
                                {
                                    "year": "1987",
                                    "genre": "Adventure",
                                    "gross": "32798382"
                                },
                                {
                                    "year": "1987",
                                    "genre": "Comedy",
                                    "gross": "72853569"
                                },
                                {
                                    "year": "1987",
                                    "genre": "Comedy",
                                    "gross": "141592160"
                                },
                                {
                                    "year": "1987",
                                    "genre": "Romantic Comedy",
                                    "gross": "68181300"
                                },
                                {
                                    "year": "1987",
                                    "genre": "Comedy",
                                    "gross": "44024529"
                                },
                                {
                                    "year": "1987",
                                    "genre": "Comedy",
                                    "gross": "353334607"
                                },
                                {
                                    "year": "1987",
                                    "genre": "Comedy",
                                    "gross": "254414837"
                                },
                                {
                                    "year": "1988",
                                    "genre": "Action",
                                    "gross": "60097074"
                                },
                                {
                                    "year": "1988",
                                    "genre": "Thriller/Suspense",
                                    "gross": "26062188"
                                },
                                {
                                    "year": "1988",
                                    "genre": "Adventure",
                                    "gross": "28073384"
                                },
                                {
                                    "year": "1988",
                                    "genre": "Comedy",
                                    "gross": "82352451"
                                },
                                {
                                    "year": "1988",
                                    "genre": "Comedy",
                                    "gross": "316250084"
                                },
                                {
                                    "year": "1988",
                                    "genre": "Drama",
                                    "gross": "160442289"
                                },
                                {
                                    "year": "1988",
                                    "genre": "Action",
                                    "gross": "12009960"
                                },
                                {
                                    "year": "1988",
                                    "genre": "Comedy",
                                    "gross": "11300331"
                                },
                                {
                                    "year": "1988",
                                    "genre": "Drama",
                                    "gross": "9772655"
                                },
                                {
                                    "year": "1988",
                                    "genre": "Comedy",
                                    "gross": "57845202"
                                },
                                {
                                    "year": "1988",
                                    "genre": "Adventure",
                                    "gross": "102254492"
                                },
                                {
                                    "year": "1988",
                                    "genre": "Drama",
                                    "gross": "120381757"
                                },
                                {
                                    "year": "1989",
                                    "genre": "Comedy",
                                    "gross": "85757817"
                                },
                                {
                                    "year": "1989",
                                    "genre": "Drama",
                                    "gross": "22740861"
                                },
                                {
                                    "year": "1989",
                                    "genre": "Comedy",
                                    "gross": "15233465"
                                },
                                {
                                    "year": "1989",
                                    "genre": "Drama",
                                    "gross": "202531517"
                                },
                                {
                                    "year": "1989",
                                    "genre": "Adventure",
                                    "gross": "276191669"
                                },
                                {
                                    "year": "1989",
                                    "genre": "Comedy",
                                    "gross": "150176361"
                                },
                                {
                                    "year": "1989",
                                    "genre": "Adventure",
                                    "gross": "16653473"
                                },
                                {
                                    "year": "1989",
                                    "genre": "Drama",
                                    "gross": "40983414"
                                },
                                {
                                    "year": "1989",
                                    "genre": "Drama",
                                    "gross": "23972012"
                                },
                                {
                                    "year": "1989",
                                    "genre": "Adventure",
                                    "gross": "223726012"
                                },
                                {
                                    "year": "1989",
                                    "genre": "Drama",
                                    "gross": "39884640"
                                },
                                {
                                    "year": "1990",
                                    "genre": "Drama",
                                    "gross": "40077147"
                                },
                                {
                                    "year": "1990",
                                    "genre": "Comedy",
                                    "gross": "2210321"
                                },
                                {
                                    "year": "1990",
                                    "genre": "Romantic Comedy",
                                    "gross": "356389765"
                                },
                                {
                                    "year": "1990",
                                    "genre": "Comedy",
                                    "gross": "49999822"
                                },
                                {
                                    "year": "1990",
                                    "genre": "Comedy",
                                    "gross": "29964452"
                                },
                                {
                                    "year": "1990",
                                    "genre": "Action",
                                    "gross": "29485923"
                                },
                                {
                                    "year": "1990",
                                    "genre": "Action",
                                    "gross": "207231621"
                                },
                                {
                                    "year": "1990",
                                    "genre": "Comedy",
                                    "gross": "39433357"
                                },
                                {
                                    "year": "1990",
                                    "genre": "Thriller/Suspense",
                                    "gross": "106290270"
                                },
                                {
                                    "year": "1990",
                                    "genre": "Adventure",
                                    "gross": "36107823"
                                },
                                {
                                    "year": "1990",
                                    "genre": "Comedy",
                                    "gross": "39963460"
                                },
                                {
                                    "year": "1990",
                                    "genre": "Comedy",
                                    "gross": "30722056"
                                },
                                {
                                    "year": "1990",
                                    "genre": "Adventure",
                                    "gross": "55796728"
                                },
                                {
                                    "year": "1990",
                                    "genre": "Comedy",
                                    "gross": "143108869"
                                },
                                {
                                    "year": "1990",
                                    "genre": "Romantic Comedy",
                                    "gross": "59679131"
                                },
                                {
                                    "year": "1991",
                                    "genre": "Adventure",
                                    "gross": "69540672"
                                },
                                {
                                    "year": "1991",
                                    "genre": "Comedy",
                                    "gross": "19149495"
                                },
                                {
                                    "year": "1991",
                                    "genre": "Adventure",
                                    "gross": "30084149"
                                },
                                {
                                    "year": "1991",
                                    "genre": "Romantic Comedy",
                                    "gross": "24939118"
                                },
                                {
                                    "year": "1991",
                                    "genre": "Comedy",
                                    "gross": "47181395"
                                },
                                {
                                    "year": "1991",
                                    "genre": "Action",
                                    "gross": "22580472"
                                },
                                {
                                    "year": "1991",
                                    "genre": "Comedy",
                                    "gross": "127571325"
                                },
                                {
                                    "year": "1991",
                                    "genre": "Drama",
                                    "gross": "14617333"
                                },
                                {
                                    "year": "1991",
                                    "genre": "Action",
                                    "gross": "93256673"
                                },
                                {
                                    "year": "1991",
                                    "genre": "Drama",
                                    "gross": "75084021"
                                },
                                {
                                    "year": "1991",
                                    "genre": "Drama",
                                    "gross": "37313540"
                                },
                                {
                                    "year": "1991",
                                    "genre": "Thriller/Suspense",
                                    "gross": "57544453"
                                },
                                {
                                    "year": "1991",
                                    "genre": "Comedy",
                                    "gross": "28320147"
                                },
                                {
                                    "year": "1991",
                                    "genre": "Drama",
                                    "gross": "31167691"
                                },
                                {
                                    "year": "1991",
                                    "genre": "Musical",
                                    "gross": "363017667"
                                },
                                {
                                    "year": "1991",
                                    "genre": "Comedy",
                                    "gross": "179821881"
                                },
                                {
                                    "year": "1992",
                                    "genre": "Thriller/Suspense",
                                    "gross": "178831137"
                                },
                                {
                                    "year": "1992",
                                    "genre": "Drama",
                                    "gross": "91304495"
                                },
                                {
                                    "year": "1992",
                                    "genre": "Comedy",
                                    "gross": "5872667"
                                },
                                {
                                    "year": "1992",
                                    "genre": "Comedy",
                                    "gross": "4631720"
                                },
                                {
                                    "year": "1992",
                                    "genre": "Comedy",
                                    "gross": "43068356"
                                },
                                {
                                    "year": "1992",
                                    "genre": "NULL",
                                    "gross": "5497481"
                                },
                                {
                                    "year": "1992",
                                    "genre": "NULL",
                                    "gross": "8187848"
                                },
                                {
                                    "year": "1992",
                                    "genre": "Comedy",
                                    "gross": "81369058"
                                },
                                {
                                    "year": "1992",
                                    "genre": "Comedy",
                                    "gross": "283583472"
                                },
                                {
                                    "year": "1992",
                                    "genre": "Comedy",
                                    "gross": "119162518"
                                },
                                {
                                    "year": "1992",
                                    "genre": "Drama",
                                    "gross": "24950752"
                                },
                                {
                                    "year": "1992",
                                    "genre": "Action",
                                    "gross": "58965304"
                                },
                                {
                                    "year": "1992",
                                    "genre": "NULL",
                                    "gross": "7295423"
                                },
                                {
                                    "year": "1992",
                                    "genre": "Comedy",
                                    "gross": "45741576"
                                },
                                {
                                    "year": "1992",
                                    "genre": "Drama",
                                    "gross": "14841352"
                                },
                                {
                                    "year": "1992",
                                    "genre": "Horror",
                                    "gross": "9907922"
                                },
                                {
                                    "year": "1992",
                                    "genre": "Comedy",
                                    "gross": "103120810"
                                },
                                {
                                    "year": "1992",
                                    "genre": "Adventure",
                                    "gross": "14421454"
                                },
                                {
                                    "year": "1992",
                                    "genre": "Drama",
                                    "gross": "43859823"
                                },
                                {
                                    "year": "1992",
                                    "genre": "Comedy",
                                    "gross": "441969178"
                                },
                                {
                                    "year": "1992",
                                    "genre": "Comedy",
                                    "gross": "94349900"
                                },
                                {
                                    "year": "1992",
                                    "genre": "Comedy",
                                    "gross": "55417615"
                                },
                                {
                                    "year": "1993",
                                    "genre": "Adventure",
                                    "gross": "73914543"
                                },
                                {
                                    "year": "1993",
                                    "genre": "Romantic Comedy",
                                    "gross": "15970955"
                                },
                                {
                                    "year": "1993",
                                    "genre": "Adventure",
                                    "gross": "85182343"
                                },
                                {
                                    "year": "1993",
                                    "genre": "Comedy",
                                    "gross": "11369541"
                                },
                                {
                                    "year": "1993",
                                    "genre": "Musical",
                                    "gross": "11468231"
                                },
                                {
                                    "year": "1993",
                                    "genre": "Adventure",
                                    "gross": "26248558"
                                },
                                {
                                    "year": "1993",
                                    "genre": "Romantic Comedy",
                                    "gross": "36165012"
                                },
                                {
                                    "year": "1993",
                                    "genre": "Adventure",
                                    "gross": "49080505"
                                },
                                {
                                    "year": "1993",
                                    "genre": "NULL",
                                    "gross": "9156084"
                                },
                                {
                                    "year": "1993",
                                    "genre": "Comedy",
                                    "gross": "29968953"
                                },
                                {
                                    "year": "1993",
                                    "genre": "Action",
                                    "gross": "42445058"
                                },
                                {
                                    "year": "1993",
                                    "genre": "Comedy",
                                    "gross": "25146538"
                                },
                                {
                                    "year": "1993",
                                    "genre": "Thriller/Suspense",
                                    "gross": "46064723"
                                },
                                {
                                    "year": "1993",
                                    "genre": "Drama",
                                    "gross": "79618610"
                                },
                                {
                                    "year": "1993",
                                    "genre": "Comedy",
                                    "gross": "52921433"
                                },
                                {
                                    "year": "1993",
                                    "genre": "Comedy",
                                    "gross": "80147079"
                                },
                                {
                                    "year": "1993",
                                    "genre": "Comedy",
                                    "gross": "40943541"
                                },
                                {
                                    "year": "1993",
                                    "genre": "NULL",
                                    "gross": "6554384"
                                },
                                {
                                    "year": "1993",
                                    "genre": "NULL",
                                    "gross": "6654819"
                                },
                                {
                                    "year": "1993",
                                    "genre": "Drama",
                                    "gross": "66768171"
                                },
                                {
                                    "year": "1993",
                                    "genre": "Comedy",
                                    "gross": "2127496"
                                },
                                {
                                    "year": "1993",
                                    "genre": "Action",
                                    "gross": "46919256"
                                },
                                {
                                    "year": "1993",
                                    "genre": "Comedy",
                                    "gross": "140392731"
                                },
                                {
                                    "year": "1993",
                                    "genre": "Musical",
                                    "gross": "100026637"
                                },
                                {
                                    "year": "1993",
                                    "genre": "Adventure",
                                    "gross": "109310377"
                                },
                                {
                                    "year": "1993",
                                    "genre": "Comedy",
                                    "gross": "116965668"
                                },
                                {
                                    "year": "1993",
                                    "genre": "Western",
                                    "gross": "115781734"
                                },
                                {
                                    "year": "1994",
                                    "genre": "Comedy",
                                    "gross": "50108763"
                                },
                                {
                                    "year": "1994",
                                    "genre": "Drama",
                                    "gross": "42610902"
                                },
                                {
                                    "year": "1994",
                                    "genre": "NULL",
                                    "gross": "5170709"
                                },
                                {
                                    "year": "1994",
                                    "genre": "Comedy",
                                    "gross": "63170804"
                                },
                                {
                                    "year": "1994",
                                    "genre": "Comedy",
                                    "gross": "19116981"
                                },
                                {
                                    "year": "1994",
                                    "genre": "Comedy",
                                    "gross": "23401275"
                                },
                                {
                                    "year": "1994",
                                    "genre": "Comedy",
                                    "gross": "94226333"
                                },
                                {
                                    "year": "1994",
                                    "genre": "Comedy",
                                    "gross": "1473665"
                                },
                                {
                                    "year": "1994",
                                    "genre": "Adventure",
                                    "gross": "18083994"
                                },
                                {
                                    "year": "1994",
                                    "genre": "Comedy",
                                    "gross": "18316030"
                                },
                                {
                                    "year": "1994",
                                    "genre": "Drama",
                                    "gross": "103354194"
                                },
                                {
                                    "year": "1994",
                                    "genre": "Action",
                                    "gross": "24267154"
                                },
                                {
                                    "year": "1994",
                                    "genre": "Comedy",
                                    "gross": "49945474"
                                },
                                {
                                    "year": "1994",
                                    "genre": "Adventure",
                                    "gross": "761640898"
                                },
                                {
                                    "year": "1994",
                                    "genre": "Romantic Comedy",
                                    "gross": "63651027"
                                },
                                {
                                    "year": "1994",
                                    "genre": "Comedy",
                                    "gross": "103798152"
                                },
                                {
                                    "year": "1994",
                                    "genre": "Comedy",
                                    "gross": "59673787"
                                },
                                {
                                    "year": "1994",
                                    "genre": "Thriller/Suspense",
                                    "gross": "40804816"
                                },
                                {
                                    "year": "1994",
                                    "genre": "Comedy",
                                    "gross": "21701998"
                                },
                                {
                                    "year": "1994",
                                    "genre": "Drama",
                                    "gross": "7035189"
                                },
                                {
                                    "year": "1994",
                                    "genre": "Drama",
                                    "gross": "50840394"
                                },
                                {
                                    "year": "1994",
                                    "genre": "Action",
                                    "gross": "34048315"
                                },
                                {
                                    "year": "1994",
                                    "genre": "Comedy",
                                    "gross": "12042634"
                                },
                                {
                                    "year": "1994",
                                    "genre": "Horror",
                                    "gross": "17727017"
                                },
                                {
                                    "year": "1994",
                                    "genre": "Drama",
                                    "gross": "6858345"
                                },
                                {
                                    "year": "1994",
                                    "genre": "Comedy",
                                    "gross": "298369717"
                                },
                                {
                                    "year": "1994",
                                    "genre": "Action",
                                    "gross": "60321919"
                                },
                                {
                                    "year": "1994",
                                    "genre": "Adventure",
                                    "gross": "88930321"
                                },
                                {
                                    "year": "1995",
                                    "genre": "Comedy",
                                    "gross": "51016522"
                                },
                                {
                                    "year": "1995",
                                    "genre": "Thriller/Suspense",
                                    "gross": "6829092"
                                },
                                {
                                    "year": "1995",
                                    "genre": "Romantic Comedy",
                                    "gross": "9857435"
                                },
                                {
                                    "year": "1995",
                                    "genre": "Comedy",
                                    "gross": "14641561"
                                },
                                {
                                    "year": "1995",
                                    "genre": "Comedy",
                                    "gross": "34245779"
                                },
                                {
                                    "year": "1995",
                                    "genre": "Comedy",
                                    "gross": "100977828"
                                },
                                {
                                    "year": "1995",
                                    "genre": "Western",
                                    "gross": "15983331"
                                },
                                {
                                    "year": "1995",
                                    "genre": "Romantic Comedy",
                                    "gross": "907414"
                                },
                                {
                                    "year": "1995",
                                    "genre": "Comedy",
                                    "gross": "1025425"
                                },
                                {
                                    "year": "1995",
                                    "genre": "Drama",
                                    "gross": "4770461"
                                },
                                {
                                    "year": "1995",
                                    "genre": "Comedy",
                                    "gross": "68479579"
                                },
                                {
                                    "year": "1995",
                                    "genre": "Romantic Comedy",
                                    "gross": "157082900"
                                },
                                {
                                    "year": "1995",
                                    "genre": "Action",
                                    "gross": "177102077"
                                },
                                {
                                    "year": "1995",
                                    "genre": "Drama",
                                    "gross": "29934306"
                                },
                                {
                                    "year": "1995",
                                    "genre": "Adventure",
                                    "gross": "274370957"
                                },
                                {
                                    "year": "1995",
                                    "genre": "Action",
                                    "gross": "67222776"
                                },
                                {
                                    "year": "1995",
                                    "genre": "Adventure",
                                    "gross": "47809421"
                                },
                                {
                                    "year": "1995",
                                    "genre": "Adventure",
                                    "gross": "25981285"
                                },
                                {
                                    "year": "1995",
                                    "genre": "Drama",
                                    "gross": "164552293"
                                },
                                {
                                    "year": "1995",
                                    "genre": "Thriller/Suspense",
                                    "gross": "11167895"
                                },
                                {
                                    "year": "1995",
                                    "genre": "Drama",
                                    "gross": "15365850"
                                },
                                {
                                    "year": "1995",
                                    "genre": "Comedy",
                                    "gross": "34372339"
                                },
                                {
                                    "year": "1995",
                                    "genre": "Drama",
                                    "gross": "46741467"
                                },
                                {
                                    "year": "1995",
                                    "genre": "Drama",
                                    "gross": "20643375"
                                },
                                {
                                    "year": "1995",
                                    "genre": "Drama",
                                    "gross": "59727216"
                                },
                                {
                                    "year": "1995",
                                    "genre": "Adventure",
                                    "gross": "370409631"
                                },
                                {
                                    "year": "1995",
                                    "genre": "Comedy",
                                    "gross": "147658438"
                                },
                                {
                                    "year": "1995",
                                    "genre": "Drama",
                                    "gross": "26302005"
                                },
                                {
                                    "year": "1995",
                                    "genre": "Adventure",
                                    "gross": "45911517"
                                },
                                {
                                    "year": "1995",
                                    "genre": "Drama",
                                    "gross": "157508868"
                                },
                                {
                                    "year": "1996",
                                    "genre": "Adventure",
                                    "gross": "19509726"
                                },
                                {
                                    "year": "1996",
                                    "genre": "Adventure",
                                    "gross": "65470567"
                                },
                                {
                                    "year": "1996",
                                    "genre": "Romantic Comedy",
                                    "gross": "24422334"
                                },
                                {
                                    "year": "1996",
                                    "genre": "Drama",
                                    "gross": "16482589"
                                },
                                {
                                    "year": "1996",
                                    "genre": "Drama",
                                    "gross": "97356578"
                                },
                                {
                                    "year": "1996",
                                    "genre": "Adventure",
                                    "gross": "62384706"
                                },
                                {
                                    "year": "1996",
                                    "genre": "Romantic Comedy",
                                    "gross": "2057055"
                                },
                                {
                                    "year": "1996",
                                    "genre": "Comedy",
                                    "gross": "1963937"
                                },
                                {
                                    "year": "1996",
                                    "genre": "Adventure",
                                    "gross": "55159783"
                                },
                                {
                                    "year": "1996",
                                    "genre": "Comedy",
                                    "gross": "17623615"
                                },
                                {
                                    "year": "1996",
                                    "genre": "Drama",
                                    "gross": "11171714"
                                },
                                {
                                    "year": "1996",
                                    "genre": "Drama",
                                    "gross": "41826566"
                                },
                                {
                                    "year": "1996",
                                    "genre": "Comedy",
                                    "gross": "51373912"
                                },
                                {
                                    "year": "1996",
                                    "genre": "Comedy",
                                    "gross": "59828966"
                                },
                                {
                                    "year": "1996",
                                    "genre": "Action",
                                    "gross": "255702705"
                                },
                                {
                                    "year": "1996",
                                    "genre": "Adventure",
                                    "gross": "190988799"
                                },
                                {
                                    "year": "1996",
                                    "genre": "Drama",
                                    "gross": "199559799"
                                },
                                {
                                    "year": "1996",
                                    "genre": "Comedy",
                                    "gross": "36009655"
                                },
                                {
                                    "year": "1996",
                                    "genre": "Drama",
                                    "gross": "111792852"
                                },
                                {
                                    "year": "1996",
                                    "genre": "Comedy",
                                    "gross": "50465108"
                                },
                                {
                                    "year": "1996",
                                    "genre": "Thriller/Suspense",
                                    "gross": "16284619"
                                },
                                {
                                    "year": "1996",
                                    "genre": "Comedy",
                                    "gross": "43713554"
                                },
                                {
                                    "year": "1996",
                                    "genre": "Comedy",
                                    "gross": "24333094"
                                },
                                {
                                    "year": "1996",
                                    "genre": "Action",
                                    "gross": "259807820"
                                },
                                {
                                    "year": "1996",
                                    "genre": "NULL",
                                    "gross": "65543"
                                },
                                {
                                    "year": "1996",
                                    "genre": "Comedy",
                                    "gross": "258728898"
                                },
                                {
                                    "year": "1996",
                                    "genre": "Drama",
                                    "gross": "91076877"
                                },
                                {
                                    "year": "1996",
                                    "genre": "Musical",
                                    "gross": "92077628"
                                },
                                {
                                    "year": "1997",
                                    "genre": "Action",
                                    "gross": "58804106"
                                },
                                {
                                    "year": "1997",
                                    "genre": "Drama",
                                    "gross": "1085093"
                                },
                                {
                                    "year": "1997",
                                    "genre": "Thriller/Suspense",
                                    "gross": "3957025"
                                },
                                {
                                    "year": "1997",
                                    "genre": "Comedy",
                                    "gross": "33613158"
                                },
                                {
                                    "year": "1997",
                                    "genre": "Comedy",
                                    "gross": "110058379"
                                },
                                {
                                    "year": "1997",
                                    "genre": "Comedy",
                                    "gross": "27117599"
                                },
                                {
                                    "year": "1997",
                                    "genre": "Black Comedy",
                                    "gross": "51579764"
                                },
                                {
                                    "year": "1997",
                                    "genre": "Comedy",
                                    "gross": "53693680"
                                },
                                {
                                    "year": "1997",
                                    "genre": "Comedy",
                                    "gross": "36265379"
                                },
                                {
                                    "year": "1997",
                                    "genre": "Action",
                                    "gross": "185712664"
                                },
                                {
                                    "year": "1997",
                                    "genre": "Adventure",
                                    "gross": "182029412"
                                },
                                {
                                    "year": "1997",
                                    "genre": "Comedy",
                                    "gross": "193326632"
                                },
                                {
                                    "year": "1997",
                                    "genre": "Comedy",
                                    "gross": "81692095"
                                },
                                {
                                    "year": "1997",
                                    "genre": "Comedy",
                                    "gross": "45266588"
                                },
                                {
                                    "year": "1997",
                                    "genre": "Drama",
                                    "gross": "88467531"
                                },
                                {
                                    "year": "1997",
                                    "genre": "Drama",
                                    "gross": "14561324"
                                },
                                {
                                    "year": "1997",
                                    "genre": "Drama",
                                    "gross": "3257546"
                                },
                                {
                                    "year": "1997",
                                    "genre": "Comedy",
                                    "gross": "28371890"
                                },
                                {
                                    "year": "1997",
                                    "genre": "Thriller/Suspense",
                                    "gross": "7652965"
                                },
                                {
                                    "year": "1997",
                                    "genre": "Comedy",
                                    "gross": "170406423"
                                },
                                {
                                    "year": "1997",
                                    "genre": "Comedy",
                                    "gross": "39145784"
                                },
                                {
                                    "year": "1997",
                                    "genre": "Drama",
                                    "gross": "10236836"
                                },
                                {
                                    "year": "1997",
                                    "genre": "Horror",
                                    "gross": "48546161"
                                },
                                {
                                    "year": "1998",
                                    "genre": "Action",
                                    "gross": "20136775"
                                },
                                {
                                    "year": "1998",
                                    "genre": "Comedy",
                                    "gross": "13690910"
                                },
                                {
                                    "year": "1998",
                                    "genre": "Comedy",
                                    "gross": "7829877"
                                },
                                {
                                    "year": "1998",
                                    "genre": "Drama",
                                    "gross": "38766948"
                                },
                                {
                                    "year": "1998",
                                    "genre": "Drama",
                                    "gross": "135497531"
                                },
                                {
                                    "year": "1998",
                                    "genre": "Romantic Comedy",
                                    "gross": "133620516"
                                },
                                {
                                    "year": "1998",
                                    "genre": "Adventure",
                                    "gross": "216807832"
                                },
                                {
                                    "year": "1998",
                                    "genre": "Adventure",
                                    "gross": "362324957"
                                },
                                {
                                    "year": "1998",
                                    "genre": "Comedy",
                                    "gross": "35668055"
                                },
                                {
                                    "year": "1998",
                                    "genre": "Comedy",
                                    "gross": "119185667"
                                },
                                {
                                    "year": "1998",
                                    "genre": "Drama",
                                    "gross": "1409943"
                                },
                                {
                                    "year": "1998",
                                    "genre": "Drama",
                                    "gross": "32809442"
                                },
                                {
                                    "year": "1998",
                                    "genre": "Comedy",
                                    "gross": "21694605"
                                },
                                {
                                    "year": "1998",
                                    "genre": "Drama",
                                    "gross": "41062682"
                                },
                                {
                                    "year": "1998",
                                    "genre": "Comedy",
                                    "gross": "288691833"
                                },
                                {
                                    "year": "1998",
                                    "genre": "Comedy",
                                    "gross": "21941840"
                                },
                                {
                                    "year": "1998",
                                    "genre": "Action",
                                    "gross": "198472008"
                                },
                                {
                                    "year": "1998",
                                    "genre": "Adventure",
                                    "gross": "288981698"
                                },
                                {
                                    "year": "1998",
                                    "genre": "Black Comedy",
                                    "gross": "28392518"
                                },
                                {
                                    "year": "1998",
                                    "genre": "Adventure",
                                    "gross": "87906042"
                                },
                                {
                                    "year": "1998",
                                    "genre": "Drama",
                                    "gross": "94139530"
                                },
                                {
                                    "year": "1999",
                                    "genre": "Comedy",
                                    "gross": "61150849"
                                },
                                {
                                    "year": "1999",
                                    "genre": "Romantic Comedy",
                                    "gross": "46145331"
                                },
                                {
                                    "year": "1999",
                                    "genre": "Adventure",
                                    "gross": "32228598"
                                },
                                {
                                    "year": "1999",
                                    "genre": "Romantic Comedy",
                                    "gross": "63354375"
                                },
                                {
                                    "year": "1999",
                                    "genre": "NULL",
                                    "gross": "380218"
                                },
                                {
                                    "year": "1999",
                                    "genre": "Drama",
                                    "gross": "56595842"
                                },
                                {
                                    "year": "1999",
                                    "genre": "Adventure",
                                    "gross": "283900254"
                                },
                                {
                                    "year": "1999",
                                    "genre": "Drama",
                                    "gross": "32007656"
                                },
                                {
                                    "year": "1999",
                                    "genre": "Comedy",
                                    "gross": "161610341"
                                },
                                {
                                    "year": "1999",
                                    "genre": "Thriller/Suspense",
                                    "gross": "485424724"
                                },
                                {
                                    "year": "1999",
                                    "genre": "Action",
                                    "gross": "54262148"
                                },
                                {
                                    "year": "1999",
                                    "genre": "Comedy",
                                    "gross": "295851"
                                },
                                {
                                    "year": "1999",
                                    "genre": "Comedy",
                                    "gross": "7566363"
                                },
                                {
                                    "year": "1999",
                                    "genre": "Comedy",
                                    "gross": "14755189"
                                },
                                {
                                    "year": "1999",
                                    "genre": "Drama",
                                    "gross": "10111144"
                                },
                                {
                                    "year": "1999",
                                    "genre": "Drama",
                                    "gross": "47794214"
                                },
                                {
                                    "year": "1999",
                                    "genre": "Adventure",
                                    "gross": "404450426"
                                },
                                {
                                    "year": "1999",
                                    "genre": "Drama",
                                    "gross": "4609153"
                                },
                                {
                                    "year": "1999",
                                    "genre": "Comedy",
                                    "gross": "106921374"
                                },
                                {
                                    "year": "1999",
                                    "genre": "Drama",
                                    "gross": "94838225"
                                },
                                {
                                    "year": "1999",
                                    "genre": "Comedy",
                                    "gross": "13180524"
                                },
                                {
                                    "year": "2000",
                                    "genre": "Musical",
                                    "gross": "94852354"
                                },
                                {
                                    "year": "2000",
                                    "genre": "Comedy",
                                    "gross": "2562155"
                                },
                                {
                                    "year": "2000",
                                    "genre": "Adventure",
                                    "gross": "71228678"
                                },
                                {
                                    "year": "2000",
                                    "genre": "Adventure",
                                    "gross": "95208344"
                                },
                                {
                                    "year": "2000",
                                    "genre": "Comedy",
                                    "gross": "42661516"
                                },
                                {
                                    "year": "2000",
                                    "genre": "Romantic Comedy",
                                    "gross": "57925202"
                                },
                                {
                                    "year": "2000",
                                    "genre": "Adventure",
                                    "gross": "215438985"
                                },
                                {
                                    "year": "2000",
                                    "genre": "Western",
                                    "gross": "89042541"
                                },
                                {
                                    "year": "2000",
                                    "genre": "Action",
                                    "gross": "158970411"
                                },
                                {
                                    "year": "2000",
                                    "genre": "Musical",
                                    "gross": "14238144"
                                },
                                {
                                    "year": "2000",
                                    "genre": "Comedy",
                                    "gross": "108993148"
                                },
                                {
                                    "year": "2000",
                                    "genre": "Drama",
                                    "gross": "95070168"
                                },
                                {
                                    "year": "2000",
                                    "genre": "Comedy",
                                    "gross": "20362201"
                                },
                                {
                                    "year": "2000",
                                    "genre": "Drama",
                                    "gross": "7404372"
                                },
                                {
                                    "year": "2000",
                                    "genre": "Drama",
                                    "gross": "180742479"
                                },
                                {
                                    "year": "2000",
                                    "genre": "Comedy",
                                    "gross": "104055039"
                                },
                                {
                                    "year": "2000",
                                    "genre": "Thriller/Suspense",
                                    "gross": "148208901"
                                },
                                {
                                    "year": "2000",
                                    "genre": "Adventure",
                                    "gross": "136789252"
                                },
                                {
                                    "year": "2000",
                                    "genre": "Comedy",
                                    "gross": "67922002"
                                },
                                {
                                    "year": "2001",
                                    "genre": "Action",
                                    "gross": "44418589"
                                },
                                {
                                    "year": "2001",
                                    "genre": "Comedy",
                                    "gross": "54656124"
                                },
                                {
                                    "year": "2001",
                                    "genre": "Comedy",
                                    "gross": "7114869"
                                },
                                {
                                    "year": "2001",
                                    "genre": "Action",
                                    "gross": "295705112"
                                },
                                {
                                    "year": "2001",
                                    "genre": "Adventure",
                                    "gross": "125188122"
                                },
                                {
                                    "year": "2001",
                                    "genre": "Drama",
                                    "gross": "25214223"
                                },
                                {
                                    "year": "2001",
                                    "genre": "Comedy",
                                    "gross": "161218928"
                                },
                                {
                                    "year": "2001",
                                    "genre": "Comedy",
                                    "gross": "7450434"
                                },
                                {
                                    "year": "2001",
                                    "genre": "Comedy",
                                    "gross": "25749730"
                                },
                                {
                                    "year": "2001",
                                    "genre": "Comedy",
                                    "gross": "35705805"
                                },
                                {
                                    "year": "2001",
                                    "genre": "NULL",
                                    "gross": "337782"
                                },
                                {
                                    "year": "2001",
                                    "genre": "Adventure",
                                    "gross": "416073179"
                                },
                                {
                                    "year": "2001",
                                    "genre": "Comedy",
                                    "gross": "20700691"
                                },
                                {
                                    "year": "2001",
                                    "genre": "Black Comedy",
                                    "gross": "76758193"
                                },
                                {
                                    "year": "2002",
                                    "genre": "NULL",
                                    "gross": "0"
                                },
                                {
                                    "year": "2002",
                                    "genre": "Musical",
                                    "gross": "36980311"
                                },
                                {
                                    "year": "2002",
                                    "genre": "Comedy",
                                    "gross": "117745317"
                                },
                                {
                                    "year": "2002",
                                    "genre": "Drama",
                                    "gross": "78682079"
                                },
                                {
                                    "year": "2002",
                                    "genre": "Adventure",
                                    "gross": "70269715"
                                },
                                {
                                    "year": "2002",
                                    "genre": "Action",
                                    "gross": "62480631"
                                },
                                {
                                    "year": "2002",
                                    "genre": "Comedy",
                                    "gross": "14797862"
                                },
                                {
                                    "year": "2002",
                                    "genre": "Drama",
                                    "gross": "109691666"
                                },
                                {
                                    "year": "2002",
                                    "genre": "Comedy",
                                    "gross": "10537188"
                                },
                                {
                                    "year": "2002",
                                    "genre": "Documentary",
                                    "gross": "6089874"
                                },
                                {
                                    "year": "2002",
                                    "genre": "Action",
                                    "gross": "43756218"
                                },
                                {
                                    "year": "2002",
                                    "genre": "Adventure",
                                    "gross": "211506702"
                                },
                                {
                                    "year": "2002",
                                    "genre": "Adventure",
                                    "gross": "24650121"
                                },
                                {
                                    "year": "2002",
                                    "genre": "Thriller/Suspense",
                                    "gross": "330754439"
                                },
                                {
                                    "year": "2002",
                                    "genre": "Adventure",
                                    "gross": "14338992"
                                },
                                {
                                    "year": "2002",
                                    "genre": "Comedy",
                                    "gross": "184521151"
                                },
                                {
                                    "year": "2002",
                                    "genre": "Drama",
                                    "gross": "9909094"
                                },
                                {
                                    "year": "2002",
                                    "genre": "Drama",
                                    "gross": "27789959"
                                },
                                {
                                    "year": "2002",
                                    "genre": "Comedy",
                                    "gross": "201959095"
                                },
                                {
                                    "year": "2002",
                                    "genre": "Adventure",
                                    "gross": "55189145"
                                },
                                {
                                    "year": "2002",
                                    "genre": "Comedy",
                                    "gross": "50624654"
                                },
                                {
                                    "year": "2002",
                                    "genre": "Drama",
                                    "gross": "18325463"
                                },
                                {
                                    "year": "2003",
                                    "genre": "Thriller/Suspense",
                                    "gross": "73793522"
                                },
                                {
                                    "year": "2003",
                                    "genre": "Adventure",
                                    "gross": "84537962"
                                },
                                {
                                    "year": "2003",
                                    "genre": "Adventure",
                                    "gross": "66966883"
                                },
                                {
                                    "year": "2003",
                                    "genre": "Comedy",
                                    "gross": "185481530"
                                },
                                {
                                    "year": "2003",
                                    "genre": "Comedy",
                                    "gross": "32298812"
                                },
                                {
                                    "year": "2003",
                                    "genre": "Documentary",
                                    "gross": "23803108"
                                },
                                {
                                    "year": "2003",
                                    "genre": "Drama",
                                    "gross": "94203395"
                                },
                                {
                                    "year": "2003",
                                    "genre": "Comedy",
                                    "gross": "59743191"
                                },
                                {
                                    "year": "2003",
                                    "genre": "Adventure",
                                    "gross": "518148559"
                                },
                                {
                                    "year": "2003",
                                    "genre": "Adventure",
                                    "gross": "426967926"
                                },
                                {
                                    "year": "2003",
                                    "genre": "Comedy",
                                    "gross": "154090360"
                                },
                                {
                                    "year": "2003",
                                    "genre": "Western",
                                    "gross": "81547672"
                                },
                                {
                                    "year": "2003",
                                    "genre": "Thriller/Suspense",
                                    "gross": "29895090"
                                },
                                {
                                    "year": "2003",
                                    "genre": "Comedy",
                                    "gross": "60944053"
                                },
                                {
                                    "year": "2003",
                                    "genre": "Drama",
                                    "gross": "2194759"
                                },
                                {
                                    "year": "2003",
                                    "genre": "Adventure",
                                    "gross": "119218333"
                                },
                                {
                                    "year": "2003",
                                    "genre": "Comedy",
                                    "gross": "105775678"
                                },
                                {
                                    "year": "2003",
                                    "genre": "Comedy",
                                    "gross": "42379650"
                                },
                                {
                                    "year": "2003",
                                    "genre": "Adventure",
                                    "gross": "9254344"
                                },
                                {
                                    "year": "2004",
                                    "genre": "Comedy",
                                    "gross": "8812764"
                                },
                                {
                                    "year": "2004",
                                    "genre": "Drama",
                                    "gross": "87392478"
                                },
                                {
                                    "year": "2004",
                                    "genre": "Comedy",
                                    "gross": "39816568"
                                },
                                {
                                    "year": "2004",
                                    "genre": "Western",
                                    "gross": "91340921"
                                },
                                {
                                    "year": "2004",
                                    "genre": "Comedy",
                                    "gross": "53881593"
                                },
                                {
                                    "year": "2004",
                                    "genre": "Comedy",
                                    "gross": "67910166"
                                },
                                {
                                    "year": "2004",
                                    "genre": "Western",
                                    "gross": "30416359"
                                },
                                {
                                    "year": "2004",
                                    "genre": "Comedy",
                                    "gross": "50886144"
                                },
                                {
                                    "year": "2004",
                                    "genre": "Adventure",
                                    "gross": "32585356"
                                },
                                {
                                    "year": "2004",
                                    "genre": "Documentary",
                                    "gross": "426246"
                                },
                                {
                                    "year": "2004",
                                    "genre": "Adventure",
                                    "gross": "70423706"
                                },
                                {
                                    "year": "2004",
                                    "genre": "Thriller/Suspense",
                                    "gross": "155021748"
                                },
                                {
                                    "year": "2004",
                                    "genre": "Romantic Comedy",
                                    "gross": "129164207"
                                },
                                {
                                    "year": "2004",
                                    "genre": "Comedy",
                                    "gross": "29593641"
                                },
                                {
                                    "year": "2004",
                                    "genre": "Comedy",
                                    "gross": "629502"
                                },
                                {
                                    "year": "2004",
                                    "genre": "Action",
                                    "gross": "101161045"
                                },
                                {
                                    "year": "2004",
                                    "genre": "Adventure",
                                    "gross": "354488708"
                                },
                                {
                                    "year": "2004",
                                    "genre": "Adventure",
                                    "gross": "234069353"
                                },
                                {
                                    "year": "2004",
                                    "genre": "Comedy",
                                    "gross": "32198655"
                                },
                                {
                                    "year": "2005",
                                    "genre": "Documentary",
                                    "gross": "11740942"
                                },
                                {
                                    "year": "2005",
                                    "genre": "Adventure",
                                    "gross": "23801835"
                                },
                                {
                                    "year": "2005",
                                    "genre": "Comedy",
                                    "gross": "148619029"
                                },
                                {
                                    "year": "2005",
                                    "genre": "Comedy",
                                    "gross": "32064685"
                                },
                                {
                                    "year": "2005",
                                    "genre": "Comedy",
                                    "gross": "28716947"
                                },
                                {
                                    "year": "2005",
                                    "genre": "Comedy",
                                    "gross": "67096891"
                                },
                                {
                                    "year": "2005",
                                    "genre": "Adventure",
                                    "gross": "6194870"
                                },
                                {
                                    "year": "2005",
                                    "genre": "Comedy",
                                    "gross": "86812798"
                                },
                                {
                                    "year": "2005",
                                    "genre": "Thriller/Suspense",
                                    "gross": "33500491"
                                },
                                {
                                    "year": "2005",
                                    "genre": "Adventure",
                                    "gross": "84088854"
                                },
                                {
                                    "year": "2005",
                                    "genre": "Adventure",
                                    "gross": "25616292"
                                },
                                {
                                    "year": "2005",
                                    "genre": "Thriller/Suspense",
                                    "gross": "117960425"
                                },
                                {
                                    "year": "2005",
                                    "genre": "Drama",
                                    "gross": "20162672"
                                },
                                {
                                    "year": "2005",
                                    "genre": "Drama",
                                    "gross": "13519621"
                                },
                                {
                                    "year": "2005",
                                    "genre": "Adventure",
                                    "gross": "177954661"
                                },
                                {
                                    "year": "2005",
                                    "genre": "Adventure",
                                    "gross": "381557539"
                                },
                                {
                                    "year": "2005",
                                    "genre": "Drama",
                                    "gross": "14574087"
                                },
                                {
                                    "year": "2006",
                                    "genre": "Drama",
                                    "gross": "54888236"
                                },
                                {
                                    "year": "2006",
                                    "genre": "Documentary",
                                    "gross": "12948025"
                                },
                                {
                                    "year": "2006",
                                    "genre": "Drama",
                                    "gross": "22044113"
                                },
                                {
                                    "year": "2006",
                                    "genre": "Adventure",
                                    "gross": "105037235"
                                },
                                {
                                    "year": "2006",
                                    "genre": "Comedy",
                                    "gross": "78667428"
                                },
                                {
                                    "year": "2006",
                                    "genre": "Horror",
                                    "gross": "29712825"
                                },
                                {
                                    "year": "2006",
                                    "genre": "Adventure",
                                    "gross": "48114115"
                                },
                                {
                                    "year": "2006",
                                    "genre": "Comedy",
                                    "gross": "34634731"
                                },
                                {
                                    "year": "2006",
                                    "genre": "Drama",
                                    "gross": "5512647"
                                },
                                {
                                    "year": "2006",
                                    "genre": "Comedy",
                                    "gross": "314140384"
                                },
                                {
                                    "year": "2006",
                                    "genre": "Adventure",
                                    "gross": "544817142"
                                },
                                {
                                    "year": "2006",
                                    "genre": "Drama",
                                    "gross": "84078780"
                                },
                                {
                                    "year": "2006",
                                    "genre": "Drama",
                                    "gross": "74398864"
                                },
                                {
                                    "year": "2006",
                                    "genre": "Action",
                                    "gross": "70801353"
                                },
                                {
                                    "year": "2006",
                                    "genre": "Musical",
                                    "gross": "30737517"
                                },
                                {
                                    "year": "2006",
                                    "genre": "Thriller/Suspense",
                                    "gross": "68289913"
                                },
                                {
                                    "year": "2006",
                                    "genre": "Comedy",
                                    "gross": "108694869"
                                },
                                {
                                    "year": "2006",
                                    "genre": "Thriller/Suspense",
                                    "gross": "82267038"
                                },
                                {
                                    "year": "2006",
                                    "genre": "Adventure",
                                    "gross": "64959548"
                                },
                                {
                                    "year": "2007",
                                    "genre": "Adventure",
                                    "gross": "12985302"
                                },
                                {
                                    "year": "2007",
                                    "genre": "Drama",
                                    "gross": "100760721"
                                },
                                {
                                    "year": "2007",
                                    "genre": "Comedy",
                                    "gross": "206110533"
                                },
                                {
                                    "year": "2007",
                                    "genre": "Adventure",
                                    "gross": "119860589"
                                },
                                {
                                    "year": "2007",
                                    "genre": "Drama",
                                    "gross": "5637048"
                                },
                                {
                                    "year": "2007",
                                    "genre": "Drama",
                                    "gross": "8779196"
                                },
                                {
                                    "year": "2007",
                                    "genre": "Thriller/Suspense",
                                    "gross": "25202168"
                                },
                                {
                                    "year": "2007",
                                    "genre": "Adventure",
                                    "gross": "379129960"
                                },
                                {
                                    "year": "2007",
                                    "genre": "Comedy",
                                    "gross": "252955933"
                                },
                                {
                                    "year": "2007",
                                    "genre": "Adventure",
                                    "gross": "53619462"
                                },
                                {
                                    "year": "2007",
                                    "genre": "Comedy",
                                    "gross": "111010758"
                                },
                                {
                                    "year": "2007",
                                    "genre": "Romantic Comedy",
                                    "gross": "58350234"
                                },
                                {
                                    "year": "2007",
                                    "genre": "Romantic Comedy",
                                    "gross": "156074310"
                                },
                                {
                                    "year": "2007",
                                    "genre": "Adventure",
                                    "gross": "267003525"
                                },
                                {
                                    "year": "2008",
                                    "genre": "Concert/Performance",
                                    "gross": "76646993"
                                },
                                {
                                    "year": "2008",
                                    "genre": "Drama",
                                    "gross": "68118371"
                                },
                                {
                                    "year": "2008",
                                    "genre": "Comedy",
                                    "gross": "53550960"
                                },
                                {
                                    "year": "2008",
                                    "genre": "Adventure",
                                    "gross": "166277038"
                                },
                                {
                                    "year": "2008",
                                    "genre": "Adventure",
                                    "gross": "262771918"
                                },
                                {
                                    "year": "2008",
                                    "genre": "Comedy",
                                    "gross": "19125841"
                                },
                                {
                                    "year": "2008",
                                    "genre": "Drama",
                                    "gross": "264247"
                                },
                                {
                                    "year": "2008",
                                    "genre": "Drama",
                                    "gross": "9295171"
                                },
                                {
                                    "year": "2008",
                                    "genre": "Comedy",
                                    "gross": "110932022"
                                },
                                {
                                    "year": "2008",
                                    "genre": "Documentary",
                                    "gross": "322979"
                                },
                                {
                                    "year": "2008",
                                    "genre": "Musical",
                                    "gross": "106308538"
                                },
                                {
                                    "year": "2008",
                                    "genre": "Comedy",
                                    "gross": "133702498"
                                },
                                {
                                    "year": "2008",
                                    "genre": "Comedy",
                                    "gross": "128039679"
                                },
                                {
                                    "year": "2009",
                                    "genre": "Romantic Comedy",
                                    "gross": "49767744"
                                },
                                {
                                    "year": "2009",
                                    "genre": "Concert/Performance",
                                    "gross": "38174685"
                                },
                                {
                                    "year": "2009",
                                    "genre": "Adventure",
                                    "gross": "75501997"
                                },
                                {
                                    "year": "2009",
                                    "genre": "Drama",
                                    "gross": "89443640"
                                },
                                {
                                    "year": "2009",
                                    "genre": "Documentary",
                                    "gross": "35981010"
                                },
                                {
                                    "year": "2009",
                                    "genre": "Adventure",
                                    "gross": "329336681"
                                },
                                {
                                    "year": "2009",
                                    "genre": "Romantic Comedy",
                                    "gross": "184288829"
                                },
                                {
                                    "year": "2009",
                                    "genre": "Adventure",
                                    "gross": "134246932"
                                },
                                {
                                    "year": "2009",
                                    "genre": "Adventure",
                                    "gross": "16961607"
                                },
                                {
                                    "year": "2009",
                                    "genre": "Documentary",
                                    "gross": "1563976"
                                },
                                {
                                    "year": "2009",
                                    "genre": "Documentary",
                                    "gross": "23064"
                                },
                                {
                                    "year": "2009",
                                    "genre": "Action",
                                    "gross": "43361416"
                                },
                                {
                                    "year": "2009",
                                    "genre": "Adventure",
                                    "gross": "34509545"
                                },
                                {
                                    "year": "2009",
                                    "genre": "Drama",
                                    "gross": "154927105"
                                },
                                {
                                    "year": "2009",
                                    "genre": "Adventure",
                                    "gross": "116316457"
                                },
                                {
                                    "year": "2009",
                                    "genre": "Comedy",
                                    "gross": "55503929"
                                },
                                {
                                    "year": "2010",
                                    "genre": "Romantic Comedy",
                                    "gross": "34917330"
                                },
                                {
                                    "year": "2010",
                                    "genre": "Adventure",
                                    "gross": "357063499"
                                },
                                {
                                    "year": "2010",
                                    "genre": "Documentary",
                                    "gross": "86264"
                                },
                                {
                                    "year": "2010",
                                    "genre": "Drama",
                                    "gross": "67258772"
                                },
                                {
                                    "year": "2010",
                                    "genre": "Documentary",
                                    "gross": "20751600"
                                },
                                {
                                    "year": "2010",
                                    "genre": "Action",
                                    "gross": "96971361"
                                },
                                {
                                    "year": "2010",
                                    "genre": "Adventure",
                                    "gross": "443408255"
                                },
                                {
                                    "year": "2010",
                                    "genre": "Adventure",
                                    "gross": "67473105"
                                },
                                {
                                    "year": "2010",
                                    "genre": "Drama",
                                    "gross": "45302137"
                                },
                                {
                                    "year": "2010",
                                    "genre": "Adventure",
                                    "gross": "51988"
                                },
                                {
                                    "year": "2010",
                                    "genre": "Comedy",
                                    "gross": "27461121"
                                },
                                {
                                    "year": "2010",
                                    "genre": "Drama",
                                    "gross": "63781920"
                                },
                                {
                                    "year": "2010",
                                    "genre": "Adventure",
                                    "gross": "214388548"
                                },
                                {
                                    "year": "2010",
                                    "genre": "Adventure",
                                    "gross": "183619259"
                                },
                                {
                                    "year": "2011",
                                    "genre": "Comedy",
                                    "gross": "106270797"
                                },
                                {
                                    "year": "2011",
                                    "genre": "Adventure",
                                    "gross": "58574607"
                                },
                                {
                                    "year": "2011",
                                    "genre": "Adventure",
                                    "gross": "22741603"
                                },
                                {
                                    "year": "2011",
                                    "genre": "Adventure",
                                    "gross": "2984"
                                },
                                {
                                    "year": "2011",
                                    "genre": "Documentary",
                                    "gross": "16401551"
                                },
                                {
                                    "year": "2011",
                                    "genre": "Comedy",
                                    "gross": "10768946"
                                },
                                {
                                    "year": "2011",
                                    "genre": "Adventure",
                                    "gross": "256263359"
                                },
                                {
                                    "year": "2011",
                                    "genre": "Adventure",
                                    "gross": "203522177"
                                },
                                {
                                    "year": "2011",
                                    "genre": "Adventure",
                                    "gross": "28375869"
                                },
                                {
                                    "year": "2011",
                                    "genre": "Drama",
                                    "gross": "180404976"
                                },
                                {
                                    "year": "2011",
                                    "genre": "Horror",
                                    "gross": "19452402"
                                },
                                {
                                    "year": "2011",
                                    "genre": "Action",
                                    "gross": "90848019"
                                },
                                {
                                    "year": "2011",
                                    "genre": "Comedy",
                                    "gross": "94189503"
                                },
                                {
                                    "year": "2011",
                                    "genre": "Drama",
                                    "gross": "84762149"
                                },
                                {
                                    "year": "2012",
                                    "genre": "Adventure",
                                    "gross": "20325733"
                                },
                                {
                                    "year": "2012",
                                    "genre": "Adventure",
                                    "gross": "77372445"
                                },
                                {
                                    "year": "2012",
                                    "genre": "Documentary",
                                    "gross": "30675725"
                                },
                                {
                                    "year": "2012",
                                    "genre": "Action",
                                    "gross": "660081224"
                                },
                                {
                                    "year": "2012",
                                    "genre": "Adventure",
                                    "gross": "251292441"
                                },
                                {
                                    "year": "2012",
                                    "genre": "Drama",
                                    "gross": "13165822"
                                },
                                {
                                    "year": "2012",
                                    "genre": "Drama",
                                    "gross": "54914942"
                                },
                                {
                                    "year": "2012",
                                    "genre": "Comedy",
                                    "gross": "37363513"
                                },
                                {
                                    "year": "2012",
                                    "genre": "Adventure",
                                    "gross": "200354959"
                                },
                                {
                                    "year": "2012",
                                    "genre": "Drama",
                                    "gross": "192122330"
                                },
                                {
                                    "year": "2013",
                                    "genre": "Adventure",
                                    "gross": "243434130"
                                },
                                {
                                    "year": "2013",
                                    "genre": "Action",
                                    "gross": "424084233"
                                },
                                {
                                    "year": "2013",
                                    "genre": "Adventure",
                                    "gross": "278395641"
                                },
                                {
                                    "year": "2013",
                                    "genre": "Western",
                                    "gross": "92597388"
                                },
                                {
                                    "year": "2013",
                                    "genre": "Comedy",
                                    "gross": "93614037"
                                },
                                {
                                    "year": "2013",
                                    "genre": "Drama",
                                    "gross": "3374251"
                                },
                                {
                                    "year": "2013",
                                    "genre": "Adventure",
                                    "gross": "213962184"
                                },
                                {
                                    "year": "2013",
                                    "genre": "Drama",
                                    "gross": "5367415"
                                },
                                {
                                    "year": "2013",
                                    "genre": "Adventure",
                                    "gross": "414997174"
                                },
                                {
                                    "year": "2013",
                                    "genre": "Comedy",
                                    "gross": "31787136"
                                },
                                {
                                    "year": "2013",
                                    "genre": "Drama",
                                    "gross": "86249969"
                                },
                                {
                                    "year": "2014",
                                    "genre": "Action",
                                    "gross": "44955015"
                                },
                                {
                                    "year": "2014",
                                    "genre": "Comedy",
                                    "gross": "52807594"
                                },
                                {
                                    "year": "2014",
                                    "genre": "Action",
                                    "gross": "268013076"
                                },
                                {
                                    "year": "2014",
                                    "genre": "Documentary",
                                    "gross": "18346024"
                                },
                                {
                                    "year": "2014",
                                    "genre": "Drama",
                                    "gross": "37607865"
                                },
                                {
                                    "year": "2014",
                                    "genre": "Adventure",
                                    "gross": "249089809"
                                },
                                {
                                    "year": "2014",
                                    "genre": "Adventure",
                                    "gross": "61040349"
                                },
                                {
                                    "year": "2014",
                                    "genre": "Adventure",
                                    "gross": "343771168"
                                },
                                {
                                    "year": "2014",
                                    "genre": "Romantic Comedy",
                                    "gross": "55961409"
                                },
                                {
                                    "year": "2014",
                                    "genre": "Comedy",
                                    "gross": "69055550"
                                },
                                {
                                    "year": "2014",
                                    "genre": "Adventure",
                                    "gross": "229249222"
                                },
                                {
                                    "year": "2014",
                                    "genre": "Musical",
                                    "gross": "130894237"
                                },
                                {
                                    "year": "2015",
                                    "genre": "Adventure",
                                    "gross": "12429583"
                                },
                                {
                                    "year": "2015",
                                    "genre": "Drama",
                                    "gross": "44480275"
                                },
                                {
                                    "year": "2015",
                                    "genre": "Drama",
                                    "gross": "201151353"
                                },
                                {
                                    "year": "2015",
                                    "genre": "Documentary",
                                    "gross": "16432322"
                                },
                                {
                                    "year": "2015",
                                    "genre": "Action",
                                    "gross": "459005868"
                                },
                                {
                                    "year": "2015",
                                    "genre": "Adventure",
                                    "gross": "93436322"
                                },
                                {
                                    "year": "2015",
                                    "genre": "Adventure",
                                    "gross": "356461711"
                                },
                                {
                                    "year": "2015",
                                    "genre": "Action",
                                    "gross": "180202163"
                                },
                                {
                                    "year": "2015",
                                    "genre": "Thriller/Suspense",
                                    "gross": "72313754"
                                },
                                {
                                    "year": "2015",
                                    "genre": "Adventure",
                                    "gross": "123087120"
                                },
                                {
                                    "year": "2015",
                                    "genre": "Adventure",
                                    "gross": "936662225"
                                },
                                {
                                    "year": "2016",
                                    "genre": "Thriller/Suspense",
                                    "gross": "27569558"
                                },
                                {
                                    "year": "2016",
                                    "genre": "Adventure",
                                    "gross": "341268248"
                                },
                                {
                                    "year": "2016",
                                    "genre": "Adventure",
                                    "gross": "364001123"
                                },
                                {
                                    "year": "2016",
                                    "genre": "Documentary",
                                    "gross": "7895708"
                                },
                                {
                                    "year": "2016",
                                    "genre": "Action",
                                    "gross": "408084349"
                                },
                                {
                                    "year": "2016",
                                    "genre": "Adventure",
                                    "gross": "77042381"
                                },
                                {
                                    "year": "2016",
                                    "genre": "Adventure",
                                    "gross": "486295561"
                                },
                                {
                                    "year": "2016",
                                    "genre": "Adventure",
                                    "gross": "55483770"
                                },
                                {
                                    "year": "2016",
                                    "genre": "Adventure",
                                    "gross": "76233151"
                                },
                                {
                                    "year": "2016",
                                    "genre": "Drama",
                                    "gross": "12545979"
                                },
                                {
                                    "year": "2016",
                                    "genre": "Drama",
                                    "gross": "8874389"
                                },
                                {
                                    "year": "2016",
                                    "genre": "Adventure",
                                    "gross": "232532923"
                                },
                                {
                                    "year": "2016",
                                    "genre": "Adventure",
                                    "gross": "246082029"
                                },
                                {
                                    "year": "2016",
                                    "genre": "Adventure",
                                    "gross": "529483936"
                                }
                            ]
                        },
                        "text/html": "<table><tr><th>year</th><th>genre</th><th>gross</th></tr><tr><td>1937</td><td>Musical</td><td>5228953251</td></tr><tr><td>1940</td><td>Adventure</td><td>2188229052</td></tr><tr><td>1940</td><td>Musical</td><td>2187090808</td></tr><tr><td>1946</td><td>Adventure</td><td>1078510579</td></tr><tr><td>1950</td><td>Drama</td><td>920608730</td></tr><tr><td>1954</td><td>Adventure</td><td>528279994</td></tr><tr><td>1955</td><td>Drama</td><td>1236035515</td></tr><tr><td>1959</td><td>Drama</td><td>21505832</td></tr><tr><td>1961</td><td>Comedy</td><td>1362870985</td></tr><tr><td>1961</td><td>Comedy</td><td>310094574</td></tr><tr><td>1961</td><td>Musical</td><td>124841160</td></tr><tr><td>1962</td><td>Comedy</td><td>109581646</td></tr><tr><td>1963</td><td>Adventure</td><td>153870834</td></tr><tr><td>1967</td><td>Musical</td><td>789612346</td></tr><tr><td>1968</td><td>Comedy</td><td>138612686</td></tr><tr><td>1970</td><td>Musical</td><td>255161499</td></tr><tr><td>1970</td><td>Comedy</td><td>101200742</td></tr><tr><td>1971</td><td>Musical</td><td>91305448</td></tr><tr><td>1975</td><td>Comedy</td><td>131246872</td></tr><tr><td>1977</td><td>Comedy</td><td>98067733</td></tr><tr><td>1977</td><td>NULL</td><td>0</td></tr><tr><td>1977</td><td>Adventure</td><td>159743914</td></tr><tr><td>1977</td><td>NULL</td><td>105847527</td></tr><tr><td>1979</td><td>NULL</td><td>120377374</td></tr><tr><td>1980</td><td>NULL</td><td>9088096</td></tr><tr><td>1980</td><td>NULL</td><td>34472116</td></tr><tr><td>1981</td><td>NULL</td><td>48517980</td></tr><tr><td>1981</td><td>Drama</td><td>0</td></tr><tr><td>1981</td><td>Comedy</td><td>133118889</td></tr><tr><td>1981</td><td>Action</td><td>0</td></tr><tr><td>1982</td><td>Drama</td><td>12903059</td></tr><tr><td>1982</td><td>Action</td><td>77184895</td></tr><tr><td>1982</td><td>Drama</td><td>20643199</td></tr><tr><td>1983</td><td>Comedy</td><td>11519089</td></tr><tr><td>1983</td><td>Horror</td><td>15136765</td></tr><tr><td>1983</td><td>Drama</td><td>70669955</td></tr><tr><td>1983</td><td>Drama</td><td>3223725</td></tr><tr><td>1984</td><td>Comedy</td><td>157057661</td></tr><tr><td>1984</td><td>Drama</td><td>21075000</td></tr><tr><td>1985</td><td>Adventure</td><td>33900697</td></tr><tr><td>1985</td><td>Adventure</td><td>25215934</td></tr><tr><td>1985</td><td>Adventure</td><td>50553142</td></tr><tr><td>1985</td><td>Comedy</td><td>9736051</td></tr><tr><td>1985</td><td>Drama</td><td>22302956</td></tr><tr><td>1985</td><td>Drama</td><td>31415432</td></tr><tr><td>1986</td><td>Comedy</td><td>141183693</td></tr><tr><td>1986</td><td>Comedy</td><td>11003932</td></tr><tr><td>1986</td><td>Comedy</td><td>162748712</td></tr><tr><td>1986</td><td>Adventure</td><td>53637367</td></tr><tr><td>1986</td><td>Adventure</td><td>42183197</td></tr><tr><td>1986</td><td>Comedy</td><td>48758184</td></tr><tr><td>1986</td><td>Drama</td><td>117957323</td></tr><tr><td>1987</td><td>Comedy</td><td>113976921</td></tr><tr><td>1987</td><td>Comedy</td><td>54787202</td></tr><tr><td>1987</td><td>Comedy</td><td>50686462</td></tr><tr><td>1987</td><td>Adventure</td><td>32798382</td></tr><tr><td>1987</td><td>Comedy</td><td>72853569</td></tr><tr><td>1987</td><td>Comedy</td><td>141592160</td></tr><tr><td>1987</td><td>Romantic Comedy</td><td>68181300</td></tr><tr><td>1987</td><td>Comedy</td><td>44024529</td></tr><tr><td>1987</td><td>Comedy</td><td>353334607</td></tr><tr><td>1987</td><td>Comedy</td><td>254414837</td></tr><tr><td>1988</td><td>Action</td><td>60097074</td></tr><tr><td>1988</td><td>Thriller/Suspense</td><td>26062188</td></tr><tr><td>1988</td><td>Adventure</td><td>28073384</td></tr><tr><td>1988</td><td>Comedy</td><td>82352451</td></tr><tr><td>1988</td><td>Comedy</td><td>316250084</td></tr><tr><td>1988</td><td>Drama</td><td>160442289</td></tr><tr><td>1988</td><td>Action</td><td>12009960</td></tr><tr><td>1988</td><td>Comedy</td><td>11300331</td></tr><tr><td>1988</td><td>Drama</td><td>9772655</td></tr><tr><td>1988</td><td>Comedy</td><td>57845202</td></tr><tr><td>1988</td><td>Adventure</td><td>102254492</td></tr><tr><td>1988</td><td>Drama</td><td>120381757</td></tr><tr><td>1989</td><td>Comedy</td><td>85757817</td></tr><tr><td>1989</td><td>Drama</td><td>22740861</td></tr><tr><td>1989</td><td>Comedy</td><td>15233465</td></tr><tr><td>1989</td><td>Drama</td><td>202531517</td></tr><tr><td>1989</td><td>Adventure</td><td>276191669</td></tr><tr><td>1989</td><td>Comedy</td><td>150176361</td></tr><tr><td>1989</td><td>Adventure</td><td>16653473</td></tr><tr><td>1989</td><td>Drama</td><td>40983414</td></tr><tr><td>1989</td><td>Drama</td><td>23972012</td></tr><tr><td>1989</td><td>Adventure</td><td>223726012</td></tr><tr><td>1989</td><td>Drama</td><td>39884640</td></tr><tr><td>1990</td><td>Drama</td><td>40077147</td></tr><tr><td>1990</td><td>Comedy</td><td>2210321</td></tr><tr><td>1990</td><td>Romantic Comedy</td><td>356389765</td></tr><tr><td>1990</td><td>Comedy</td><td>49999822</td></tr><tr><td>1990</td><td>Comedy</td><td>29964452</td></tr><tr><td>1990</td><td>Action</td><td>29485923</td></tr><tr><td>1990</td><td>Action</td><td>207231621</td></tr><tr><td>1990</td><td>Comedy</td><td>39433357</td></tr><tr><td>1990</td><td>Thriller/Suspense</td><td>106290270</td></tr><tr><td>1990</td><td>Adventure</td><td>36107823</td></tr><tr><td>1990</td><td>Comedy</td><td>39963460</td></tr><tr><td>1990</td><td>Comedy</td><td>30722056</td></tr><tr><td>1990</td><td>Adventure</td><td>55796728</td></tr><tr><td>1990</td><td>Comedy</td><td>143108869</td></tr><tr><td>1990</td><td>Romantic Comedy</td><td>59679131</td></tr><tr><td>1991</td><td>Adventure</td><td>69540672</td></tr><tr><td>1991</td><td>Comedy</td><td>19149495</td></tr><tr><td>1991</td><td>Adventure</td><td>30084149</td></tr><tr><td>1991</td><td>Romantic Comedy</td><td>24939118</td></tr><tr><td>1991</td><td>Comedy</td><td>47181395</td></tr><tr><td>1991</td><td>Action</td><td>22580472</td></tr><tr><td>1991</td><td>Comedy</td><td>127571325</td></tr><tr><td>1991</td><td>Drama</td><td>14617333</td></tr><tr><td>1991</td><td>Action</td><td>93256673</td></tr><tr><td>1991</td><td>Drama</td><td>75084021</td></tr><tr><td>1991</td><td>Drama</td><td>37313540</td></tr><tr><td>1991</td><td>Thriller/Suspense</td><td>57544453</td></tr><tr><td>1991</td><td>Comedy</td><td>28320147</td></tr><tr><td>1991</td><td>Drama</td><td>31167691</td></tr><tr><td>1991</td><td>Musical</td><td>363017667</td></tr><tr><td>1991</td><td>Comedy</td><td>179821881</td></tr><tr><td>1992</td><td>Thriller/Suspense</td><td>178831137</td></tr><tr><td>1992</td><td>Drama</td><td>91304495</td></tr><tr><td>1992</td><td>Comedy</td><td>5872667</td></tr><tr><td>1992</td><td>Comedy</td><td>4631720</td></tr><tr><td>1992</td><td>Comedy</td><td>43068356</td></tr><tr><td>1992</td><td>NULL</td><td>5497481</td></tr><tr><td>1992</td><td>NULL</td><td>8187848</td></tr><tr><td>1992</td><td>Comedy</td><td>81369058</td></tr><tr><td>1992</td><td>Comedy</td><td>283583472</td></tr><tr><td>1992</td><td>Comedy</td><td>119162518</td></tr><tr><td>1992</td><td>Drama</td><td>24950752</td></tr><tr><td>1992</td><td>Action</td><td>58965304</td></tr><tr><td>1992</td><td>NULL</td><td>7295423</td></tr><tr><td>1992</td><td>Comedy</td><td>45741576</td></tr><tr><td>1992</td><td>Drama</td><td>14841352</td></tr><tr><td>1992</td><td>Horror</td><td>9907922</td></tr><tr><td>1992</td><td>Comedy</td><td>103120810</td></tr><tr><td>1992</td><td>Adventure</td><td>14421454</td></tr><tr><td>1992</td><td>Drama</td><td>43859823</td></tr><tr><td>1992</td><td>Comedy</td><td>441969178</td></tr><tr><td>1992</td><td>Comedy</td><td>94349900</td></tr><tr><td>1992</td><td>Comedy</td><td>55417615</td></tr><tr><td>1993</td><td>Adventure</td><td>73914543</td></tr><tr><td>1993</td><td>Romantic Comedy</td><td>15970955</td></tr><tr><td>1993</td><td>Adventure</td><td>85182343</td></tr><tr><td>1993</td><td>Comedy</td><td>11369541</td></tr><tr><td>1993</td><td>Musical</td><td>11468231</td></tr><tr><td>1993</td><td>Adventure</td><td>26248558</td></tr><tr><td>1993</td><td>Romantic Comedy</td><td>36165012</td></tr><tr><td>1993</td><td>Adventure</td><td>49080505</td></tr><tr><td>1993</td><td>NULL</td><td>9156084</td></tr><tr><td>1993</td><td>Comedy</td><td>29968953</td></tr><tr><td>1993</td><td>Action</td><td>42445058</td></tr><tr><td>1993</td><td>Comedy</td><td>25146538</td></tr><tr><td>1993</td><td>Thriller/Suspense</td><td>46064723</td></tr><tr><td>1993</td><td>Drama</td><td>79618610</td></tr><tr><td>1993</td><td>Comedy</td><td>52921433</td></tr><tr><td>1993</td><td>Comedy</td><td>80147079</td></tr><tr><td>1993</td><td>Comedy</td><td>40943541</td></tr><tr><td>1993</td><td>NULL</td><td>6554384</td></tr><tr><td>1993</td><td>NULL</td><td>6654819</td></tr><tr><td>1993</td><td>Drama</td><td>66768171</td></tr><tr><td>1993</td><td>Comedy</td><td>2127496</td></tr><tr><td>1993</td><td>Action</td><td>46919256</td></tr><tr><td>1993</td><td>Comedy</td><td>140392731</td></tr><tr><td>1993</td><td>Musical</td><td>100026637</td></tr><tr><td>1993</td><td>Adventure</td><td>109310377</td></tr><tr><td>1993</td><td>Comedy</td><td>116965668</td></tr><tr><td>1993</td><td>Western</td><td>115781734</td></tr><tr><td>1994</td><td>Comedy</td><td>50108763</td></tr><tr><td>1994</td><td>Drama</td><td>42610902</td></tr><tr><td>1994</td><td>NULL</td><td>5170709</td></tr><tr><td>1994</td><td>Comedy</td><td>63170804</td></tr><tr><td>1994</td><td>Comedy</td><td>19116981</td></tr><tr><td>1994</td><td>Comedy</td><td>23401275</td></tr><tr><td>1994</td><td>Comedy</td><td>94226333</td></tr><tr><td>1994</td><td>Comedy</td><td>1473665</td></tr><tr><td>1994</td><td>Adventure</td><td>18083994</td></tr><tr><td>1994</td><td>Comedy</td><td>18316030</td></tr><tr><td>1994</td><td>Drama</td><td>103354194</td></tr><tr><td>1994</td><td>Action</td><td>24267154</td></tr><tr><td>1994</td><td>Comedy</td><td>49945474</td></tr><tr><td>1994</td><td>Adventure</td><td>761640898</td></tr><tr><td>1994</td><td>Romantic Comedy</td><td>63651027</td></tr><tr><td>1994</td><td>Comedy</td><td>103798152</td></tr><tr><td>1994</td><td>Comedy</td><td>59673787</td></tr><tr><td>1994</td><td>Thriller/Suspense</td><td>40804816</td></tr><tr><td>1994</td><td>Comedy</td><td>21701998</td></tr><tr><td>1994</td><td>Drama</td><td>7035189</td></tr><tr><td>1994</td><td>Drama</td><td>50840394</td></tr><tr><td>1994</td><td>Action</td><td>34048315</td></tr><tr><td>1994</td><td>Comedy</td><td>12042634</td></tr><tr><td>1994</td><td>Horror</td><td>17727017</td></tr><tr><td>1994</td><td>Drama</td><td>6858345</td></tr><tr><td>1994</td><td>Comedy</td><td>298369717</td></tr><tr><td>1994</td><td>Action</td><td>60321919</td></tr><tr><td>1994</td><td>Adventure</td><td>88930321</td></tr><tr><td>1995</td><td>Comedy</td><td>51016522</td></tr><tr><td>1995</td><td>Thriller/Suspense</td><td>6829092</td></tr><tr><td>1995</td><td>Romantic Comedy</td><td>9857435</td></tr><tr><td>1995</td><td>Comedy</td><td>14641561</td></tr><tr><td>1995</td><td>Comedy</td><td>34245779</td></tr><tr><td>1995</td><td>Comedy</td><td>100977828</td></tr><tr><td>1995</td><td>Western</td><td>15983331</td></tr><tr><td>1995</td><td>Romantic Comedy</td><td>907414</td></tr><tr><td>1995</td><td>Comedy</td><td>1025425</td></tr><tr><td>1995</td><td>Drama</td><td>4770461</td></tr><tr><td>1995</td><td>Comedy</td><td>68479579</td></tr><tr><td>1995</td><td>Romantic Comedy</td><td>157082900</td></tr><tr><td>1995</td><td>Action</td><td>177102077</td></tr><tr><td>1995</td><td>Drama</td><td>29934306</td></tr><tr><td>1995</td><td>Adventure</td><td>274370957</td></tr><tr><td>1995</td><td>Action</td><td>67222776</td></tr><tr><td>1995</td><td>Adventure</td><td>47809421</td></tr><tr><td>1995</td><td>Adventure</td><td>25981285</td></tr><tr><td>1995</td><td>Drama</td><td>164552293</td></tr><tr><td>1995</td><td>Thriller/Suspense</td><td>11167895</td></tr><tr><td>1995</td><td>Drama</td><td>15365850</td></tr><tr><td>1995</td><td>Comedy</td><td>34372339</td></tr><tr><td>1995</td><td>Drama</td><td>46741467</td></tr><tr><td>1995</td><td>Drama</td><td>20643375</td></tr><tr><td>1995</td><td>Drama</td><td>59727216</td></tr><tr><td>1995</td><td>Adventure</td><td>370409631</td></tr><tr><td>1995</td><td>Comedy</td><td>147658438</td></tr><tr><td>1995</td><td>Drama</td><td>26302005</td></tr><tr><td>1995</td><td>Adventure</td><td>45911517</td></tr><tr><td>1995</td><td>Drama</td><td>157508868</td></tr><tr><td>1996</td><td>Adventure</td><td>19509726</td></tr><tr><td>1996</td><td>Adventure</td><td>65470567</td></tr><tr><td>1996</td><td>Romantic Comedy</td><td>24422334</td></tr><tr><td>1996</td><td>Drama</td><td>16482589</td></tr><tr><td>1996</td><td>Drama</td><td>97356578</td></tr><tr><td>1996</td><td>Adventure</td><td>62384706</td></tr><tr><td>1996</td><td>Romantic Comedy</td><td>2057055</td></tr><tr><td>1996</td><td>Comedy</td><td>1963937</td></tr><tr><td>1996</td><td>Adventure</td><td>55159783</td></tr><tr><td>1996</td><td>Comedy</td><td>17623615</td></tr><tr><td>1996</td><td>Drama</td><td>11171714</td></tr><tr><td>1996</td><td>Drama</td><td>41826566</td></tr><tr><td>1996</td><td>Comedy</td><td>51373912</td></tr><tr><td>1996</td><td>Comedy</td><td>59828966</td></tr><tr><td>1996</td><td>Action</td><td>255702705</td></tr><tr><td>1996</td><td>Adventure</td><td>190988799</td></tr><tr><td>1996</td><td>Drama</td><td>199559799</td></tr><tr><td>1996</td><td>Comedy</td><td>36009655</td></tr><tr><td>1996</td><td>Drama</td><td>111792852</td></tr><tr><td>1996</td><td>Comedy</td><td>50465108</td></tr><tr><td>1996</td><td>Thriller/Suspense</td><td>16284619</td></tr><tr><td>1996</td><td>Comedy</td><td>43713554</td></tr><tr><td>1996</td><td>Comedy</td><td>24333094</td></tr><tr><td>1996</td><td>Action</td><td>259807820</td></tr><tr><td>1996</td><td>NULL</td><td>65543</td></tr><tr><td>1996</td><td>Comedy</td><td>258728898</td></tr><tr><td>1996</td><td>Drama</td><td>91076877</td></tr><tr><td>1996</td><td>Musical</td><td>92077628</td></tr><tr><td>1997</td><td>Action</td><td>58804106</td></tr><tr><td>1997</td><td>Drama</td><td>1085093</td></tr><tr><td>1997</td><td>Thriller/Suspense</td><td>3957025</td></tr><tr><td>1997</td><td>Comedy</td><td>33613158</td></tr><tr><td>1997</td><td>Comedy</td><td>110058379</td></tr><tr><td>1997</td><td>Comedy</td><td>27117599</td></tr><tr><td>1997</td><td>Black Comedy</td><td>51579764</td></tr><tr><td>1997</td><td>Comedy</td><td>53693680</td></tr><tr><td>1997</td><td>Comedy</td><td>36265379</td></tr><tr><td>1997</td><td>Action</td><td>185712664</td></tr><tr><td>1997</td><td>Adventure</td><td>182029412</td></tr><tr><td>1997</td><td>Comedy</td><td>193326632</td></tr><tr><td>1997</td><td>Comedy</td><td>81692095</td></tr><tr><td>1997</td><td>Comedy</td><td>45266588</td></tr><tr><td>1997</td><td>Drama</td><td>88467531</td></tr><tr><td>1997</td><td>Drama</td><td>14561324</td></tr><tr><td>1997</td><td>Drama</td><td>3257546</td></tr><tr><td>1997</td><td>Comedy</td><td>28371890</td></tr><tr><td>1997</td><td>Thriller/Suspense</td><td>7652965</td></tr><tr><td>1997</td><td>Comedy</td><td>170406423</td></tr><tr><td>1997</td><td>Comedy</td><td>39145784</td></tr><tr><td>1997</td><td>Drama</td><td>10236836</td></tr><tr><td>1997</td><td>Horror</td><td>48546161</td></tr><tr><td>1998</td><td>Action</td><td>20136775</td></tr><tr><td>1998</td><td>Comedy</td><td>13690910</td></tr><tr><td>1998</td><td>Comedy</td><td>7829877</td></tr><tr><td>1998</td><td>Drama</td><td>38766948</td></tr><tr><td>1998</td><td>Drama</td><td>135497531</td></tr><tr><td>1998</td><td>Romantic Comedy</td><td>133620516</td></tr><tr><td>1998</td><td>Adventure</td><td>216807832</td></tr><tr><td>1998</td><td>Adventure</td><td>362324957</td></tr><tr><td>1998</td><td>Comedy</td><td>35668055</td></tr><tr><td>1998</td><td>Comedy</td><td>119185667</td></tr><tr><td>1998</td><td>Drama</td><td>1409943</td></tr><tr><td>1998</td><td>Drama</td><td>32809442</td></tr><tr><td>1998</td><td>Comedy</td><td>21694605</td></tr><tr><td>1998</td><td>Drama</td><td>41062682</td></tr><tr><td>1998</td><td>Comedy</td><td>288691833</td></tr><tr><td>1998</td><td>Comedy</td><td>21941840</td></tr><tr><td>1998</td><td>Action</td><td>198472008</td></tr><tr><td>1998</td><td>Adventure</td><td>288981698</td></tr><tr><td>1998</td><td>Black Comedy</td><td>28392518</td></tr><tr><td>1998</td><td>Adventure</td><td>87906042</td></tr><tr><td>1998</td><td>Drama</td><td>94139530</td></tr><tr><td>1999</td><td>Comedy</td><td>61150849</td></tr><tr><td>1999</td><td>Romantic Comedy</td><td>46145331</td></tr><tr><td>1999</td><td>Adventure</td><td>32228598</td></tr><tr><td>1999</td><td>Romantic Comedy</td><td>63354375</td></tr><tr><td>1999</td><td>NULL</td><td>380218</td></tr><tr><td>1999</td><td>Drama</td><td>56595842</td></tr><tr><td>1999</td><td>Adventure</td><td>283900254</td></tr><tr><td>1999</td><td>Drama</td><td>32007656</td></tr><tr><td>1999</td><td>Comedy</td><td>161610341</td></tr><tr><td>1999</td><td>Thriller/Suspense</td><td>485424724</td></tr><tr><td>1999</td><td>Action</td><td>54262148</td></tr><tr><td>1999</td><td>Comedy</td><td>295851</td></tr><tr><td>1999</td><td>Comedy</td><td>7566363</td></tr><tr><td>1999</td><td>Comedy</td><td>14755189</td></tr><tr><td>1999</td><td>Drama</td><td>10111144</td></tr><tr><td>1999</td><td>Drama</td><td>47794214</td></tr><tr><td>1999</td><td>Adventure</td><td>404450426</td></tr><tr><td>1999</td><td>Drama</td><td>4609153</td></tr><tr><td>1999</td><td>Comedy</td><td>106921374</td></tr><tr><td>1999</td><td>Drama</td><td>94838225</td></tr><tr><td>1999</td><td>Comedy</td><td>13180524</td></tr><tr><td>2000</td><td>Musical</td><td>94852354</td></tr><tr><td>2000</td><td>Comedy</td><td>2562155</td></tr><tr><td>2000</td><td>Adventure</td><td>71228678</td></tr><tr><td>2000</td><td>Adventure</td><td>95208344</td></tr><tr><td>2000</td><td>Comedy</td><td>42661516</td></tr><tr><td>2000</td><td>Romantic Comedy</td><td>57925202</td></tr><tr><td>2000</td><td>Adventure</td><td>215438985</td></tr><tr><td>2000</td><td>Western</td><td>89042541</td></tr><tr><td>2000</td><td>Action</td><td>158970411</td></tr><tr><td>2000</td><td>Musical</td><td>14238144</td></tr><tr><td>2000</td><td>Comedy</td><td>108993148</td></tr><tr><td>2000</td><td>Drama</td><td>95070168</td></tr><tr><td>2000</td><td>Comedy</td><td>20362201</td></tr><tr><td>2000</td><td>Drama</td><td>7404372</td></tr><tr><td>2000</td><td>Drama</td><td>180742479</td></tr><tr><td>2000</td><td>Comedy</td><td>104055039</td></tr><tr><td>2000</td><td>Thriller/Suspense</td><td>148208901</td></tr><tr><td>2000</td><td>Adventure</td><td>136789252</td></tr><tr><td>2000</td><td>Comedy</td><td>67922002</td></tr><tr><td>2001</td><td>Action</td><td>44418589</td></tr><tr><td>2001</td><td>Comedy</td><td>54656124</td></tr><tr><td>2001</td><td>Comedy</td><td>7114869</td></tr><tr><td>2001</td><td>Action</td><td>295705112</td></tr><tr><td>2001</td><td>Adventure</td><td>125188122</td></tr><tr><td>2001</td><td>Drama</td><td>25214223</td></tr><tr><td>2001</td><td>Comedy</td><td>161218928</td></tr><tr><td>2001</td><td>Comedy</td><td>7450434</td></tr><tr><td>2001</td><td>Comedy</td><td>25749730</td></tr><tr><td>2001</td><td>Comedy</td><td>35705805</td></tr><tr><td>2001</td><td>NULL</td><td>337782</td></tr><tr><td>2001</td><td>Adventure</td><td>416073179</td></tr><tr><td>2001</td><td>Comedy</td><td>20700691</td></tr><tr><td>2001</td><td>Black Comedy</td><td>76758193</td></tr><tr><td>2002</td><td>NULL</td><td>0</td></tr><tr><td>2002</td><td>Musical</td><td>36980311</td></tr><tr><td>2002</td><td>Comedy</td><td>117745317</td></tr><tr><td>2002</td><td>Drama</td><td>78682079</td></tr><tr><td>2002</td><td>Adventure</td><td>70269715</td></tr><tr><td>2002</td><td>Action</td><td>62480631</td></tr><tr><td>2002</td><td>Comedy</td><td>14797862</td></tr><tr><td>2002</td><td>Drama</td><td>109691666</td></tr><tr><td>2002</td><td>Comedy</td><td>10537188</td></tr><tr><td>2002</td><td>Documentary</td><td>6089874</td></tr><tr><td>2002</td><td>Action</td><td>43756218</td></tr><tr><td>2002</td><td>Adventure</td><td>211506702</td></tr><tr><td>2002</td><td>Adventure</td><td>24650121</td></tr><tr><td>2002</td><td>Thriller/Suspense</td><td>330754439</td></tr><tr><td>2002</td><td>Adventure</td><td>14338992</td></tr><tr><td>2002</td><td>Comedy</td><td>184521151</td></tr><tr><td>2002</td><td>Drama</td><td>9909094</td></tr><tr><td>2002</td><td>Drama</td><td>27789959</td></tr><tr><td>2002</td><td>Comedy</td><td>201959095</td></tr><tr><td>2002</td><td>Adventure</td><td>55189145</td></tr><tr><td>2002</td><td>Comedy</td><td>50624654</td></tr><tr><td>2002</td><td>Drama</td><td>18325463</td></tr><tr><td>2003</td><td>Thriller/Suspense</td><td>73793522</td></tr><tr><td>2003</td><td>Adventure</td><td>84537962</td></tr><tr><td>2003</td><td>Adventure</td><td>66966883</td></tr><tr><td>2003</td><td>Comedy</td><td>185481530</td></tr><tr><td>2003</td><td>Comedy</td><td>32298812</td></tr><tr><td>2003</td><td>Documentary</td><td>23803108</td></tr><tr><td>2003</td><td>Drama</td><td>94203395</td></tr><tr><td>2003</td><td>Comedy</td><td>59743191</td></tr><tr><td>2003</td><td>Adventure</td><td>518148559</td></tr><tr><td>2003</td><td>Adventure</td><td>426967926</td></tr><tr><td>2003</td><td>Comedy</td><td>154090360</td></tr><tr><td>2003</td><td>Western</td><td>81547672</td></tr><tr><td>2003</td><td>Thriller/Suspense</td><td>29895090</td></tr><tr><td>2003</td><td>Comedy</td><td>60944053</td></tr><tr><td>2003</td><td>Drama</td><td>2194759</td></tr><tr><td>2003</td><td>Adventure</td><td>119218333</td></tr><tr><td>2003</td><td>Comedy</td><td>105775678</td></tr><tr><td>2003</td><td>Comedy</td><td>42379650</td></tr><tr><td>2003</td><td>Adventure</td><td>9254344</td></tr><tr><td>2004</td><td>Comedy</td><td>8812764</td></tr><tr><td>2004</td><td>Drama</td><td>87392478</td></tr><tr><td>2004</td><td>Comedy</td><td>39816568</td></tr><tr><td>2004</td><td>Western</td><td>91340921</td></tr><tr><td>2004</td><td>Comedy</td><td>53881593</td></tr><tr><td>2004</td><td>Comedy</td><td>67910166</td></tr><tr><td>2004</td><td>Western</td><td>30416359</td></tr><tr><td>2004</td><td>Comedy</td><td>50886144</td></tr><tr><td>2004</td><td>Adventure</td><td>32585356</td></tr><tr><td>2004</td><td>Documentary</td><td>426246</td></tr><tr><td>2004</td><td>Adventure</td><td>70423706</td></tr><tr><td>2004</td><td>Thriller/Suspense</td><td>155021748</td></tr><tr><td>2004</td><td>Romantic Comedy</td><td>129164207</td></tr><tr><td>2004</td><td>Comedy</td><td>29593641</td></tr><tr><td>2004</td><td>Comedy</td><td>629502</td></tr><tr><td>2004</td><td>Action</td><td>101161045</td></tr><tr><td>2004</td><td>Adventure</td><td>354488708</td></tr><tr><td>2004</td><td>Adventure</td><td>234069353</td></tr><tr><td>2004</td><td>Comedy</td><td>32198655</td></tr><tr><td>2005</td><td>Documentary</td><td>11740942</td></tr><tr><td>2005</td><td>Adventure</td><td>23801835</td></tr><tr><td>2005</td><td>Comedy</td><td>148619029</td></tr><tr><td>2005</td><td>Comedy</td><td>32064685</td></tr><tr><td>2005</td><td>Comedy</td><td>28716947</td></tr><tr><td>2005</td><td>Comedy</td><td>67096891</td></tr><tr><td>2005</td><td>Adventure</td><td>6194870</td></tr><tr><td>2005</td><td>Comedy</td><td>86812798</td></tr><tr><td>2005</td><td>Thriller/Suspense</td><td>33500491</td></tr><tr><td>2005</td><td>Adventure</td><td>84088854</td></tr><tr><td>2005</td><td>Adventure</td><td>25616292</td></tr><tr><td>2005</td><td>Thriller/Suspense</td><td>117960425</td></tr><tr><td>2005</td><td>Drama</td><td>20162672</td></tr><tr><td>2005</td><td>Drama</td><td>13519621</td></tr><tr><td>2005</td><td>Adventure</td><td>177954661</td></tr><tr><td>2005</td><td>Adventure</td><td>381557539</td></tr><tr><td>2005</td><td>Drama</td><td>14574087</td></tr><tr><td>2006</td><td>Drama</td><td>54888236</td></tr><tr><td>2006</td><td>Documentary</td><td>12948025</td></tr><tr><td>2006</td><td>Drama</td><td>22044113</td></tr><tr><td>2006</td><td>Adventure</td><td>105037235</td></tr><tr><td>2006</td><td>Comedy</td><td>78667428</td></tr><tr><td>2006</td><td>Horror</td><td>29712825</td></tr><tr><td>2006</td><td>Adventure</td><td>48114115</td></tr><tr><td>2006</td><td>Comedy</td><td>34634731</td></tr><tr><td>2006</td><td>Drama</td><td>5512647</td></tr><tr><td>2006</td><td>Comedy</td><td>314140384</td></tr><tr><td>2006</td><td>Adventure</td><td>544817142</td></tr><tr><td>2006</td><td>Drama</td><td>84078780</td></tr><tr><td>2006</td><td>Drama</td><td>74398864</td></tr><tr><td>2006</td><td>Action</td><td>70801353</td></tr><tr><td>2006</td><td>Musical</td><td>30737517</td></tr><tr><td>2006</td><td>Thriller/Suspense</td><td>68289913</td></tr><tr><td>2006</td><td>Comedy</td><td>108694869</td></tr><tr><td>2006</td><td>Thriller/Suspense</td><td>82267038</td></tr><tr><td>2006</td><td>Adventure</td><td>64959548</td></tr><tr><td>2007</td><td>Adventure</td><td>12985302</td></tr><tr><td>2007</td><td>Drama</td><td>100760721</td></tr><tr><td>2007</td><td>Comedy</td><td>206110533</td></tr><tr><td>2007</td><td>Adventure</td><td>119860589</td></tr><tr><td>2007</td><td>Drama</td><td>5637048</td></tr><tr><td>2007</td><td>Drama</td><td>8779196</td></tr><tr><td>2007</td><td>Thriller/Suspense</td><td>25202168</td></tr><tr><td>2007</td><td>Adventure</td><td>379129960</td></tr><tr><td>2007</td><td>Comedy</td><td>252955933</td></tr><tr><td>2007</td><td>Adventure</td><td>53619462</td></tr><tr><td>2007</td><td>Comedy</td><td>111010758</td></tr><tr><td>2007</td><td>Romantic Comedy</td><td>58350234</td></tr><tr><td>2007</td><td>Romantic Comedy</td><td>156074310</td></tr><tr><td>2007</td><td>Adventure</td><td>267003525</td></tr><tr><td>2008</td><td>Concert/Performance</td><td>76646993</td></tr><tr><td>2008</td><td>Drama</td><td>68118371</td></tr><tr><td>2008</td><td>Comedy</td><td>53550960</td></tr><tr><td>2008</td><td>Adventure</td><td>166277038</td></tr><tr><td>2008</td><td>Adventure</td><td>262771918</td></tr><tr><td>2008</td><td>Comedy</td><td>19125841</td></tr><tr><td>2008</td><td>Drama</td><td>264247</td></tr><tr><td>2008</td><td>Drama</td><td>9295171</td></tr><tr><td>2008</td><td>Comedy</td><td>110932022</td></tr><tr><td>2008</td><td>Documentary</td><td>322979</td></tr><tr><td>2008</td><td>Musical</td><td>106308538</td></tr><tr><td>2008</td><td>Comedy</td><td>133702498</td></tr><tr><td>2008</td><td>Comedy</td><td>128039679</td></tr><tr><td>2009</td><td>Romantic Comedy</td><td>49767744</td></tr><tr><td>2009</td><td>Concert/Performance</td><td>38174685</td></tr><tr><td>2009</td><td>Adventure</td><td>75501997</td></tr><tr><td>2009</td><td>Drama</td><td>89443640</td></tr><tr><td>2009</td><td>Documentary</td><td>35981010</td></tr><tr><td>2009</td><td>Adventure</td><td>329336681</td></tr><tr><td>2009</td><td>Romantic Comedy</td><td>184288829</td></tr><tr><td>2009</td><td>Adventure</td><td>134246932</td></tr><tr><td>2009</td><td>Adventure</td><td>16961607</td></tr><tr><td>2009</td><td>Documentary</td><td>1563976</td></tr><tr><td>2009</td><td>Documentary</td><td>23064</td></tr><tr><td>2009</td><td>Action</td><td>43361416</td></tr><tr><td>2009</td><td>Adventure</td><td>34509545</td></tr><tr><td>2009</td><td>Drama</td><td>154927105</td></tr><tr><td>2009</td><td>Adventure</td><td>116316457</td></tr><tr><td>2009</td><td>Comedy</td><td>55503929</td></tr><tr><td>2010</td><td>Romantic Comedy</td><td>34917330</td></tr><tr><td>2010</td><td>Adventure</td><td>357063499</td></tr><tr><td>2010</td><td>Documentary</td><td>86264</td></tr><tr><td>2010</td><td>Drama</td><td>67258772</td></tr><tr><td>2010</td><td>Documentary</td><td>20751600</td></tr><tr><td>2010</td><td>Action</td><td>96971361</td></tr><tr><td>2010</td><td>Adventure</td><td>443408255</td></tr><tr><td>2010</td><td>Adventure</td><td>67473105</td></tr><tr><td>2010</td><td>Drama</td><td>45302137</td></tr><tr><td>2010</td><td>Adventure</td><td>51988</td></tr><tr><td>2010</td><td>Comedy</td><td>27461121</td></tr><tr><td>2010</td><td>Drama</td><td>63781920</td></tr><tr><td>2010</td><td>Adventure</td><td>214388548</td></tr><tr><td>2010</td><td>Adventure</td><td>183619259</td></tr><tr><td>2011</td><td>Comedy</td><td>106270797</td></tr><tr><td>2011</td><td>Adventure</td><td>58574607</td></tr><tr><td>2011</td><td>Adventure</td><td>22741603</td></tr><tr><td>2011</td><td>Adventure</td><td>2984</td></tr><tr><td>2011</td><td>Documentary</td><td>16401551</td></tr><tr><td>2011</td><td>Comedy</td><td>10768946</td></tr><tr><td>2011</td><td>Adventure</td><td>256263359</td></tr><tr><td>2011</td><td>Adventure</td><td>203522177</td></tr><tr><td>2011</td><td>Adventure</td><td>28375869</td></tr><tr><td>2011</td><td>Drama</td><td>180404976</td></tr><tr><td>2011</td><td>Horror</td><td>19452402</td></tr><tr><td>2011</td><td>Action</td><td>90848019</td></tr><tr><td>2011</td><td>Comedy</td><td>94189503</td></tr><tr><td>2011</td><td>Drama</td><td>84762149</td></tr><tr><td>2012</td><td>Adventure</td><td>20325733</td></tr><tr><td>2012</td><td>Adventure</td><td>77372445</td></tr><tr><td>2012</td><td>Documentary</td><td>30675725</td></tr><tr><td>2012</td><td>Action</td><td>660081224</td></tr><tr><td>2012</td><td>Adventure</td><td>251292441</td></tr><tr><td>2012</td><td>Drama</td><td>13165822</td></tr><tr><td>2012</td><td>Drama</td><td>54914942</td></tr><tr><td>2012</td><td>Comedy</td><td>37363513</td></tr><tr><td>2012</td><td>Adventure</td><td>200354959</td></tr><tr><td>2012</td><td>Drama</td><td>192122330</td></tr><tr><td>2013</td><td>Adventure</td><td>243434130</td></tr><tr><td>2013</td><td>Action</td><td>424084233</td></tr><tr><td>2013</td><td>Adventure</td><td>278395641</td></tr><tr><td>2013</td><td>Western</td><td>92597388</td></tr><tr><td>2013</td><td>Comedy</td><td>93614037</td></tr><tr><td>2013</td><td>Drama</td><td>3374251</td></tr><tr><td>2013</td><td>Adventure</td><td>213962184</td></tr><tr><td>2013</td><td>Drama</td><td>5367415</td></tr><tr><td>2013</td><td>Adventure</td><td>414997174</td></tr><tr><td>2013</td><td>Comedy</td><td>31787136</td></tr><tr><td>2013</td><td>Drama</td><td>86249969</td></tr><tr><td>2014</td><td>Action</td><td>44955015</td></tr><tr><td>2014</td><td>Comedy</td><td>52807594</td></tr><tr><td>2014</td><td>Action</td><td>268013076</td></tr><tr><td>2014</td><td>Documentary</td><td>18346024</td></tr><tr><td>2014</td><td>Drama</td><td>37607865</td></tr><tr><td>2014</td><td>Adventure</td><td>249089809</td></tr><tr><td>2014</td><td>Adventure</td><td>61040349</td></tr><tr><td>2014</td><td>Adventure</td><td>343771168</td></tr><tr><td>2014</td><td>Romantic Comedy</td><td>55961409</td></tr><tr><td>2014</td><td>Comedy</td><td>69055550</td></tr><tr><td>2014</td><td>Adventure</td><td>229249222</td></tr><tr><td>2014</td><td>Musical</td><td>130894237</td></tr><tr><td>2015</td><td>Adventure</td><td>12429583</td></tr><tr><td>2015</td><td>Drama</td><td>44480275</td></tr><tr><td>2015</td><td>Drama</td><td>201151353</td></tr><tr><td>2015</td><td>Documentary</td><td>16432322</td></tr><tr><td>2015</td><td>Action</td><td>459005868</td></tr><tr><td>2015</td><td>Adventure</td><td>93436322</td></tr><tr><td>2015</td><td>Adventure</td><td>356461711</td></tr><tr><td>2015</td><td>Action</td><td>180202163</td></tr><tr><td>2015</td><td>Thriller/Suspense</td><td>72313754</td></tr><tr><td>2015</td><td>Adventure</td><td>123087120</td></tr><tr><td>2015</td><td>Adventure</td><td>936662225</td></tr><tr><td>2016</td><td>Thriller/Suspense</td><td>27569558</td></tr><tr><td>2016</td><td>Adventure</td><td>341268248</td></tr><tr><td>2016</td><td>Adventure</td><td>364001123</td></tr><tr><td>2016</td><td>Documentary</td><td>7895708</td></tr><tr><td>2016</td><td>Action</td><td>408084349</td></tr><tr><td>2016</td><td>Adventure</td><td>77042381</td></tr><tr><td>2016</td><td>Adventure</td><td>486295561</td></tr><tr><td>2016</td><td>Adventure</td><td>55483770</td></tr><tr><td>2016</td><td>Adventure</td><td>76233151</td></tr><tr><td>2016</td><td>Drama</td><td>12545979</td></tr><tr><td>2016</td><td>Drama</td><td>8874389</td></tr><tr><td>2016</td><td>Adventure</td><td>232532923</td></tr><tr><td>2016</td><td>Adventure</td><td>246082029</td></tr><tr><td>2016</td><td>Adventure</td><td>529483936</td></tr></table>"
                    },
                    "metadata": {}
                }
            ],
            "execution_count": 13
        },
        {
            "cell_type": "code",
            "source": [
                "select genre, [2012],[2013]\r\n",
                "from (select year(release_date)year ,genre,sum(inflation_adjusted_gross)gross from movie_gross group by genre,release_date) d\r\n",
                "pivot(\r\n",
                "sum(gross) \r\n",
                "for year in ([2012],[2013]) \r\n",
                ")pvt"
            ],
            "metadata": {
                "language": "sql",
                "azdata_cell_guid": "55557dbc-ae7a-4fd4-ae7a-5ffdb6234af8"
            },
            "outputs": [
                {
                    "output_type": "display_data",
                    "data": {
                        "text/html": "(13 rows affected)"
                    },
                    "metadata": {}
                },
                {
                    "output_type": "display_data",
                    "data": {
                        "text/html": "Total execution time: 00:00:00.011"
                    },
                    "metadata": {}
                },
                {
                    "output_type": "execute_result",
                    "execution_count": 21,
                    "data": {
                        "application/vnd.dataresource+json": {
                            "schema": {
                                "fields": [
                                    {
                                        "name": "genre"
                                    },
                                    {
                                        "name": "2012"
                                    },
                                    {
                                        "name": "2013"
                                    }
                                ]
                            },
                            "data": [
                                {
                                    "2012": "NULL",
                                    "2013": "NULL",
                                    "genre": "NULL"
                                },
                                {
                                    "2012": "660081224",
                                    "2013": "424084233",
                                    "genre": "Action"
                                },
                                {
                                    "2012": "549345578",
                                    "2013": "1150789129",
                                    "genre": "Adventure"
                                },
                                {
                                    "2012": "NULL",
                                    "2013": "NULL",
                                    "genre": "Black Comedy"
                                },
                                {
                                    "2012": "37363513",
                                    "2013": "125401173",
                                    "genre": "Comedy"
                                },
                                {
                                    "2012": "NULL",
                                    "2013": "NULL",
                                    "genre": "Concert/Performance"
                                },
                                {
                                    "2012": "30675725",
                                    "2013": "NULL",
                                    "genre": "Documentary"
                                },
                                {
                                    "2012": "260203094",
                                    "2013": "94991635",
                                    "genre": "Drama"
                                },
                                {
                                    "2012": "NULL",
                                    "2013": "NULL",
                                    "genre": "Horror"
                                },
                                {
                                    "2012": "NULL",
                                    "2013": "NULL",
                                    "genre": "Musical"
                                },
                                {
                                    "2012": "NULL",
                                    "2013": "NULL",
                                    "genre": "Romantic Comedy"
                                },
                                {
                                    "2012": "NULL",
                                    "2013": "NULL",
                                    "genre": "Thriller/Suspense"
                                },
                                {
                                    "2012": "NULL",
                                    "2013": "92597388",
                                    "genre": "Western"
                                }
                            ]
                        },
                        "text/html": "<table><tr><th>genre</th><th>2012</th><th>2013</th></tr><tr><td>NULL</td><td>NULL</td><td>NULL</td></tr><tr><td>Action</td><td>660081224</td><td>424084233</td></tr><tr><td>Adventure</td><td>549345578</td><td>1150789129</td></tr><tr><td>Black Comedy</td><td>NULL</td><td>NULL</td></tr><tr><td>Comedy</td><td>37363513</td><td>125401173</td></tr><tr><td>Concert/Performance</td><td>NULL</td><td>NULL</td></tr><tr><td>Documentary</td><td>30675725</td><td>NULL</td></tr><tr><td>Drama</td><td>260203094</td><td>94991635</td></tr><tr><td>Horror</td><td>NULL</td><td>NULL</td></tr><tr><td>Musical</td><td>NULL</td><td>NULL</td></tr><tr><td>Romantic Comedy</td><td>NULL</td><td>NULL</td></tr><tr><td>Thriller/Suspense</td><td>NULL</td><td>NULL</td></tr><tr><td>Western</td><td>NULL</td><td>92597388</td></tr></table>"
                    },
                    "metadata": {}
                }
            ],
            "execution_count": 21
        },
        {
            "cell_type": "code",
            "source": [
                "select genre , [2012],[2013],[2014]\r\n",
                "from (\r\n",
                "    select year(release_date)year ,genre,sum(total_gross)gross \r\n",
                "    from movie_gross \r\n",
                "    where genre in ('Action','Comedy')\r\n",
                "    group by genre, year(release_date)\r\n",
                ")d\r\n",
                "pivot (\r\n",
                "    sum(gross) for year in ([2012],[2013],[2014])\r\n",
                ")pvt"
            ],
            "metadata": {
                "azdata_cell_guid": "4cc2ea15-01b8-4eff-a306-8677bd3f2f09",
                "language": "sql",
                "tags": []
            },
            "outputs": [
                {
                    "output_type": "display_data",
                    "data": {
                        "text/html": "(2 rows affected)"
                    },
                    "metadata": {}
                },
                {
                    "output_type": "display_data",
                    "data": {
                        "text/html": "Total execution time: 00:00:00.009"
                    },
                    "metadata": {}
                },
                {
                    "output_type": "execute_result",
                    "execution_count": 21,
                    "data": {
                        "application/vnd.dataresource+json": {
                            "schema": {
                                "fields": [
                                    {
                                        "name": "genre"
                                    },
                                    {
                                        "name": "2012"
                                    },
                                    {
                                        "name": "2013"
                                    },
                                    {
                                        "name": "2014"
                                    }
                                ]
                            },
                            "data": [
                                {
                                    "2012": "623279547",
                                    "2013": "408992272",
                                    "2014": "303315465",
                                    "genre": "Action"
                                },
                                {
                                    "2012": "35287788",
                                    "2013": "120942397",
                                    "2014": "118133042",
                                    "genre": "Comedy"
                                }
                            ]
                        },
                        "text/html": "<table><tr><th>genre</th><th>2012</th><th>2013</th><th>2014</th></tr><tr><td>Action</td><td>623279547</td><td>408992272</td><td>303315465</td></tr><tr><td>Comedy</td><td>35287788</td><td>120942397</td><td>118133042</td></tr></table>"
                    },
                    "metadata": {}
                }
            ],
            "execution_count": 21
        },
        {
            "cell_type": "code",
            "source": [
                "select year , [Action],[Comedy] ,  format(isnull([Action],[Comedy]),'N0') total\r\n",
                "from (\r\n",
                "    select year(release_date)year ,genre,sum(total_gross)gross \r\n",
                "    from movie_gross \r\n",
                "    where year(release_date) > 2010\r\n",
                "    group by genre, year(release_date)\r\n",
                ")d\r\n",
                "pivot (\r\n",
                "    sum(gross) for genre in ([Action],[Comedy])\r\n",
                ")pvt"
            ],
            "metadata": {
                "language": "sql",
                "azdata_cell_guid": "fb44c0db-b5da-4a22-aa8e-4267331dd793"
            },
            "outputs": [
                {
                    "output_type": "display_data",
                    "data": {
                        "text/html": "(6 rows affected)"
                    },
                    "metadata": {}
                },
                {
                    "output_type": "display_data",
                    "data": {
                        "text/html": "Total execution time: 00:00:00.305"
                    },
                    "metadata": {}
                },
                {
                    "output_type": "execute_result",
                    "execution_count": 30,
                    "data": {
                        "application/vnd.dataresource+json": {
                            "schema": {
                                "fields": [
                                    {
                                        "name": "year"
                                    },
                                    {
                                        "name": "Action"
                                    },
                                    {
                                        "name": "Comedy"
                                    },
                                    {
                                        "name": "total"
                                    }
                                ]
                            },
                            "data": [
                                {
                                    "year": "2011",
                                    "Action": "85463309",
                                    "Comedy": "198723811",
                                    "total": "85,463,309"
                                },
                                {
                                    "year": "2012",
                                    "Action": "623279547",
                                    "Comedy": "35287788",
                                    "total": "623,279,547"
                                },
                                {
                                    "year": "2013",
                                    "Action": "408992272",
                                    "Comedy": "120942397",
                                    "total": "408,992,272"
                                },
                                {
                                    "year": "2014",
                                    "Action": "303315465",
                                    "Comedy": "118133042",
                                    "total": "303,315,465"
                                },
                                {
                                    "year": "2015",
                                    "Action": "639208031",
                                    "Comedy": "NULL",
                                    "total": "639,208,031"
                                },
                                {
                                    "year": "2016",
                                    "Action": "408084349",
                                    "Comedy": "NULL",
                                    "total": "408,084,349"
                                }
                            ]
                        },
                        "text/html": "<table><tr><th>year</th><th>Action</th><th>Comedy</th><th>total</th></tr><tr><td>2011</td><td>85463309</td><td>198723811</td><td>85,463,309</td></tr><tr><td>2012</td><td>623279547</td><td>35287788</td><td>623,279,547</td></tr><tr><td>2013</td><td>408992272</td><td>120942397</td><td>408,992,272</td></tr><tr><td>2014</td><td>303315465</td><td>118133042</td><td>303,315,465</td></tr><tr><td>2015</td><td>639208031</td><td>NULL</td><td>639,208,031</td></tr><tr><td>2016</td><td>408084349</td><td>NULL</td><td>408,084,349</td></tr></table>"
                    },
                    "metadata": {}
                }
            ],
            "execution_count": 30
        }
    ]
}