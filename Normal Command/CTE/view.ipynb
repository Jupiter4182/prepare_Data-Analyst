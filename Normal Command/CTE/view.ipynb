{
    "metadata": {
        "kernelspec": {
            "name": "SQL",
            "display_name": "SQL",
            "language": "sql"
        },
        "language_info": {
            "name": "sql",
            "version": ""
        }
    },
    "nbformat_minor": 2,
    "nbformat": 4,
    "cells": [
        {
            "cell_type": "code",
            "source": [
                "create view vw_g AS \r\n",
                "select * from movie_gross where mpaa_rating ='G'"
            ],
            "metadata": {
                "azdata_cell_guid": "91ef46ee-b771-4a8c-96a1-7729f8bc5bc5",
                "language": "sql"
            },
            "outputs": [
                {
                    "output_type": "display_data",
                    "data": {
                        "text/html": "Commands completed successfully."
                    },
                    "metadata": {}
                },
                {
                    "output_type": "display_data",
                    "data": {
                        "text/html": "Total execution time: 00:00:00.013"
                    },
                    "metadata": {}
                }
            ],
            "execution_count": 1
        },
        {
            "cell_type": "code",
            "source": [
                "select * from vw_g where  year(release_date) > 2014"
            ],
            "metadata": {
                "azdata_cell_guid": "8492b5a9-c90a-4528-bed8-b27fd4c0506a",
                "language": "sql"
            },
            "outputs": [
                {
                    "output_type": "display_data",
                    "data": {
                        "text/html": "(2 rows affected)"
                    },
                    "metadata": {}
                },
                {
                    "output_type": "display_data",
                    "data": {
                        "text/html": "Total execution time: 00:00:00.010"
                    },
                    "metadata": {}
                },
                {
                    "output_type": "execute_result",
                    "metadata": {},
                    "execution_count": 4,
                    "data": {
                        "application/vnd.dataresource+json": {
                            "schema": {
                                "fields": [
                                    {
                                        "name": "movie_title"
                                    },
                                    {
                                        "name": "release_date"
                                    },
                                    {
                                        "name": "genre"
                                    },
                                    {
                                        "name": "mpaa_rating"
                                    },
                                    {
                                        "name": "total_gross"
                                    },
                                    {
                                        "name": "inflation_adjusted_gross"
                                    }
                                ]
                            },
                            "data": [
                                {
                                    "movie_title": "Monkey Kingdom",
                                    "release_date": "2015-04-17",
                                    "genre": "Documentary",
                                    "mpaa_rating": "G",
                                    "total_gross": "16432322",
                                    "inflation_adjusted_gross": "16432322"
                                },
                                {
                                    "movie_title": "A Beautiful Planet",
                                    "release_date": "2016-04-29",
                                    "genre": "Documentary",
                                    "mpaa_rating": "G",
                                    "total_gross": "7895708",
                                    "inflation_adjusted_gross": "7895708"
                                }
                            ]
                        },
                        "text/html": [
                            "<table>",
                            "<tr><th>movie_title</th><th>release_date</th><th>genre</th><th>mpaa_rating</th><th>total_gross</th><th>inflation_adjusted_gross</th></tr>",
                            "<tr><td>Monkey Kingdom</td><td>2015-04-17</td><td>Documentary</td><td>G</td><td>16432322</td><td>16432322</td></tr>",
                            "<tr><td>A Beautiful Planet</td><td>2016-04-29</td><td>Documentary</td><td>G</td><td>7895708</td><td>7895708</td></tr>",
                            "</table>"
                        ]
                    }
                }
            ],
            "execution_count": 4
        },
        {
            "cell_type": "code",
            "source": [
                "create or alter view vw_debut as\r\n",
                "    SELECT movie_title,release_date, DATENAME(weekday,release_date)weekday ,month(release_date)month , year(release_date)year \r\n",
                "    from movie_gross"
            ],
            "metadata": {
                "language": "sql",
                "azdata_cell_guid": "55ff46b8-f2f1-4828-bf24-5a64947825fe",
                "tags": []
            },
            "outputs": [
                {
                    "output_type": "display_data",
                    "data": {
                        "text/html": "Commands completed successfully."
                    },
                    "metadata": {}
                },
                {
                    "output_type": "display_data",
                    "data": {
                        "text/html": "Total execution time: 00:00:00.007"
                    },
                    "metadata": {}
                }
            ],
            "execution_count": 33
        },
        {
            "cell_type": "code",
            "source": [
                "select weekday ,count(weekday) from vw_debut group by weekday order by count(weekday) Desc"
            ],
            "metadata": {
                "language": "sql",
                "azdata_cell_guid": "cb47c4f7-eaa2-46e1-b876-2cbdcbbe2b89"
            },
            "outputs": [
                {
                    "output_type": "display_data",
                    "data": {
                        "text/html": "(6 rows affected)"
                    },
                    "metadata": {}
                },
                {
                    "output_type": "display_data",
                    "data": {
                        "text/html": "Total execution time: 00:00:00.009"
                    },
                    "metadata": {}
                },
                {
                    "output_type": "execute_result",
                    "metadata": {},
                    "execution_count": 9,
                    "data": {
                        "application/vnd.dataresource+json": {
                            "schema": {
                                "fields": [
                                    {
                                        "name": "weekday"
                                    },
                                    {
                                        "name": "(No column name)"
                                    }
                                ]
                            },
                            "data": [
                                {
                                    "weekday": "Friday",
                                    "(No column name)": "464"
                                },
                                {
                                    "weekday": "Wednesday",
                                    "(No column name)": "75"
                                },
                                {
                                    "weekday": "Thursday",
                                    "(No column name)": "20"
                                },
                                {
                                    "weekday": "Tuesday",
                                    "(No column name)": "9"
                                },
                                {
                                    "weekday": "Saturday",
                                    "(No column name)": "7"
                                },
                                {
                                    "weekday": "Sunday",
                                    "(No column name)": "4"
                                }
                            ]
                        },
                        "text/html": [
                            "<table>",
                            "<tr><th>weekday</th><th>(No column name)</th></tr>",
                            "<tr><td>Friday</td><td>464</td></tr>",
                            "<tr><td>Wednesday</td><td>75</td></tr>",
                            "<tr><td>Thursday</td><td>20</td></tr>",
                            "<tr><td>Tuesday</td><td>9</td></tr>",
                            "<tr><td>Saturday</td><td>7</td></tr>",
                            "<tr><td>Sunday</td><td>4</td></tr>",
                            "</table>"
                        ]
                    }
                }
            ],
            "execution_count": 9
        },
        {
            "cell_type": "code",
            "source": [
                "create view mg_d AS\r\n",
                "    select mg.movie_title,release_date,genre,d.director from movie_gross mg left join director d on mg.movie_title = d.movie_title  "
            ],
            "metadata": {
                "language": "sql",
                "azdata_cell_guid": "eb6ad7f6-d4f3-42c2-94ab-4a9f5e5bd8d0"
            },
            "outputs": [
                {
                    "output_type": "display_data",
                    "data": {
                        "text/html": "Commands completed successfully."
                    },
                    "metadata": {}
                },
                {
                    "output_type": "display_data",
                    "data": {
                        "text/html": "Total execution time: 00:00:00.003"
                    },
                    "metadata": {}
                }
            ],
            "execution_count": 29
        },
        {
            "cell_type": "code",
            "source": [
                "select * from mg_d where genre = 'Action'"
            ],
            "metadata": {
                "language": "sql",
                "azdata_cell_guid": "753cbfb3-8319-4cc5-bb5c-2e154d345bc9"
            },
            "outputs": [
                {
                    "output_type": "display_data",
                    "data": {
                        "text/html": "(40 rows affected)"
                    },
                    "metadata": {}
                },
                {
                    "output_type": "display_data",
                    "data": {
                        "text/html": "Total execution time: 00:00:00.010"
                    },
                    "metadata": {}
                },
                {
                    "output_type": "execute_result",
                    "metadata": {},
                    "execution_count": 30,
                    "data": {
                        "application/vnd.dataresource+json": {
                            "schema": {
                                "fields": [
                                    {
                                        "name": "movie_title"
                                    },
                                    {
                                        "name": "release_date"
                                    },
                                    {
                                        "name": "genre"
                                    },
                                    {
                                        "name": "director"
                                    }
                                ]
                            },
                            "data": [
                                {
                                    "movie_title": "Condorman",
                                    "release_date": "1981-08-07",
                                    "genre": "Action",
                                    "director": "NULL"
                                },
                                {
                                    "movie_title": "Tron",
                                    "release_date": "1982-07-09",
                                    "genre": "Action",
                                    "director": "NULL"
                                },
                                {
                                    "movie_title": "Shoot to Kill",
                                    "release_date": "1988-02-12",
                                    "genre": "Action",
                                    "director": "NULL"
                                },
                                {
                                    "movie_title": "The Rescue",
                                    "release_date": "1988-08-05",
                                    "genre": "Action",
                                    "director": "NULL"
                                },
                                {
                                    "movie_title": "Fire Birds",
                                    "release_date": "1990-05-24",
                                    "genre": "Action",
                                    "director": "NULL"
                                },
                                {
                                    "movie_title": "Dick Tracy",
                                    "release_date": "1990-06-15",
                                    "genre": "Action",
                                    "director": "NULL"
                                },
                                {
                                    "movie_title": "One Good Cop",
                                    "release_date": "1991-05-03",
                                    "genre": "Action",
                                    "director": "NULL"
                                },
                                {
                                    "movie_title": "The Rocketeer",
                                    "release_date": "1991-06-21",
                                    "genre": "Action",
                                    "director": "NULL"
                                },
                                {
                                    "movie_title": "3 Ninjas",
                                    "release_date": "1992-08-07",
                                    "genre": "Action",
                                    "director": "NULL"
                                },
                                {
                                    "movie_title": "Super Mario Bros.",
                                    "release_date": "1993-05-28",
                                    "genre": "Action",
                                    "director": "NULL"
                                },
                                {
                                    "movie_title": "The Program",
                                    "release_date": "1993-09-24",
                                    "genre": "Action",
                                    "director": "NULL"
                                },
                                {
                                    "movie_title": "3 Ninjas Kick Back",
                                    "release_date": "1994-05-06",
                                    "genre": "Action",
                                    "director": "NULL"
                                },
                                {
                                    "movie_title": "Terminal Velocity",
                                    "release_date": "1994-09-23",
                                    "genre": "Action",
                                    "director": "NULL"
                                },
                                {
                                    "movie_title": "A Low Down Dirty Shame",
                                    "release_date": "1994-11-23",
                                    "genre": "Action",
                                    "director": "NULL"
                                },
                                {
                                    "movie_title": "Crimson Tide",
                                    "release_date": "1995-05-12",
                                    "genre": "Action",
                                    "director": "NULL"
                                },
                                {
                                    "movie_title": "Judge Dredd",
                                    "release_date": "1995-06-30",
                                    "genre": "Action",
                                    "director": "NULL"
                                },
                                {
                                    "movie_title": "The Rock",
                                    "release_date": "1996-06-07",
                                    "genre": "Action",
                                    "director": "NULL"
                                },
                                {
                                    "movie_title": "Ransom",
                                    "release_date": "1996-11-08",
                                    "genre": "Action",
                                    "director": "NULL"
                                },
                                {
                                    "movie_title": "Metro",
                                    "release_date": "1997-01-17",
                                    "genre": "Action",
                                    "director": "NULL"
                                },
                                {
                                    "movie_title": "Con Air",
                                    "release_date": "1997-06-06",
                                    "genre": "Action",
                                    "director": "NULL"
                                },
                                {
                                    "movie_title": "Deep Rising",
                                    "release_date": "1998-01-30",
                                    "genre": "Action",
                                    "director": "NULL"
                                },
                                {
                                    "movie_title": "Enemy of the State",
                                    "release_date": "1998-11-20",
                                    "genre": "Action",
                                    "director": "NULL"
                                },
                                {
                                    "movie_title": "The 13th Warrior",
                                    "release_date": "1999-08-27",
                                    "genre": "Action",
                                    "director": "NULL"
                                },
                                {
                                    "movie_title": "Gone in 60 Seconds",
                                    "release_date": "2000-06-09",
                                    "genre": "Action",
                                    "director": "NULL"
                                },
                                {
                                    "movie_title": "Double Take",
                                    "release_date": "2001-01-12",
                                    "genre": "Action",
                                    "director": "NULL"
                                },
                                {
                                    "movie_title": "Pearl Harbor",
                                    "release_date": "2001-05-25",
                                    "genre": "Action",
                                    "director": "NULL"
                                },
                                {
                                    "movie_title": "Reign of Fire",
                                    "release_date": "2002-02-19",
                                    "genre": "Action",
                                    "director": "NULL"
                                },
                                {
                                    "movie_title": "Bad Company",
                                    "release_date": "2002-06-07",
                                    "genre": "Action",
                                    "director": "NULL"
                                },
                                {
                                    "movie_title": "Ladder 49",
                                    "release_date": "2004-10-01",
                                    "genre": "Action",
                                    "director": "NULL"
                                },
                                {
                                    "movie_title": "The Guardian",
                                    "release_date": "2006-09-29",
                                    "genre": "Action",
                                    "director": "NULL"
                                },
                                {
                                    "movie_title": "Surrogates",
                                    "release_date": "2009-09-25",
                                    "genre": "Action",
                                    "director": "NULL"
                                },
                                {
                                    "movie_title": "Prince of Persia: Sands of Time",
                                    "release_date": "2010-05-28",
                                    "genre": "Action",
                                    "director": "NULL"
                                },
                                {
                                    "movie_title": "Real Steel",
                                    "release_date": "2011-10-07",
                                    "genre": "Action",
                                    "director": "NULL"
                                },
                                {
                                    "movie_title": "The Avengers",
                                    "release_date": "2012-05-04",
                                    "genre": "Action",
                                    "director": "NULL"
                                },
                                {
                                    "movie_title": "Iron Man 3",
                                    "release_date": "2013-05-03",
                                    "genre": "Action",
                                    "director": "NULL"
                                },
                                {
                                    "movie_title": "Need for Speed",
                                    "release_date": "2014-03-14",
                                    "genre": "Action",
                                    "director": "NULL"
                                },
                                {
                                    "movie_title": "Captain America: The Winter Soldier",
                                    "release_date": "2014-04-04",
                                    "genre": "Action",
                                    "director": "NULL"
                                },
                                {
                                    "movie_title": "Avengers: Age of Ultron",
                                    "release_date": "2015-05-01",
                                    "genre": "Action",
                                    "director": "NULL"
                                },
                                {
                                    "movie_title": "Ant-Man",
                                    "release_date": "2015-07-17",
                                    "genre": "Action",
                                    "director": "NULL"
                                },
                                {
                                    "movie_title": "Captain America: Civil War",
                                    "release_date": "2016-05-06",
                                    "genre": "Action",
                                    "director": "NULL"
                                }
                            ]
                        },
                        "text/html": [
                            "<table>",
                            "<tr><th>movie_title</th><th>release_date</th><th>genre</th><th>director</th></tr>",
                            "<tr><td>Condorman</td><td>1981-08-07</td><td>Action</td><td>NULL</td></tr>",
                            "<tr><td>Tron</td><td>1982-07-09</td><td>Action</td><td>NULL</td></tr>",
                            "<tr><td>Shoot to Kill</td><td>1988-02-12</td><td>Action</td><td>NULL</td></tr>",
                            "<tr><td>The Rescue</td><td>1988-08-05</td><td>Action</td><td>NULL</td></tr>",
                            "<tr><td>Fire Birds</td><td>1990-05-24</td><td>Action</td><td>NULL</td></tr>",
                            "<tr><td>Dick Tracy</td><td>1990-06-15</td><td>Action</td><td>NULL</td></tr>",
                            "<tr><td>One Good Cop</td><td>1991-05-03</td><td>Action</td><td>NULL</td></tr>",
                            "<tr><td>The Rocketeer</td><td>1991-06-21</td><td>Action</td><td>NULL</td></tr>",
                            "<tr><td>3 Ninjas</td><td>1992-08-07</td><td>Action</td><td>NULL</td></tr>",
                            "<tr><td>Super Mario Bros.</td><td>1993-05-28</td><td>Action</td><td>NULL</td></tr>",
                            "<tr><td>The Program</td><td>1993-09-24</td><td>Action</td><td>NULL</td></tr>",
                            "<tr><td>3 Ninjas Kick Back</td><td>1994-05-06</td><td>Action</td><td>NULL</td></tr>",
                            "<tr><td>Terminal Velocity</td><td>1994-09-23</td><td>Action</td><td>NULL</td></tr>",
                            "<tr><td>A Low Down Dirty Shame</td><td>1994-11-23</td><td>Action</td><td>NULL</td></tr>",
                            "<tr><td>Crimson Tide</td><td>1995-05-12</td><td>Action</td><td>NULL</td></tr>",
                            "<tr><td>Judge Dredd</td><td>1995-06-30</td><td>Action</td><td>NULL</td></tr>",
                            "<tr><td>The Rock</td><td>1996-06-07</td><td>Action</td><td>NULL</td></tr>",
                            "<tr><td>Ransom</td><td>1996-11-08</td><td>Action</td><td>NULL</td></tr>",
                            "<tr><td>Metro</td><td>1997-01-17</td><td>Action</td><td>NULL</td></tr>",
                            "<tr><td>Con Air</td><td>1997-06-06</td><td>Action</td><td>NULL</td></tr>",
                            "<tr><td>Deep Rising</td><td>1998-01-30</td><td>Action</td><td>NULL</td></tr>",
                            "<tr><td>Enemy of the State</td><td>1998-11-20</td><td>Action</td><td>NULL</td></tr>",
                            "<tr><td>The 13th Warrior</td><td>1999-08-27</td><td>Action</td><td>NULL</td></tr>",
                            "<tr><td>Gone in 60 Seconds</td><td>2000-06-09</td><td>Action</td><td>NULL</td></tr>",
                            "<tr><td>Double Take</td><td>2001-01-12</td><td>Action</td><td>NULL</td></tr>",
                            "<tr><td>Pearl Harbor</td><td>2001-05-25</td><td>Action</td><td>NULL</td></tr>",
                            "<tr><td>Reign of Fire</td><td>2002-02-19</td><td>Action</td><td>NULL</td></tr>",
                            "<tr><td>Bad Company</td><td>2002-06-07</td><td>Action</td><td>NULL</td></tr>",
                            "<tr><td>Ladder 49</td><td>2004-10-01</td><td>Action</td><td>NULL</td></tr>",
                            "<tr><td>The Guardian</td><td>2006-09-29</td><td>Action</td><td>NULL</td></tr>",
                            "<tr><td>Surrogates</td><td>2009-09-25</td><td>Action</td><td>NULL</td></tr>",
                            "<tr><td>Prince of Persia: Sands of Time</td><td>2010-05-28</td><td>Action</td><td>NULL</td></tr>",
                            "<tr><td>Real Steel</td><td>2011-10-07</td><td>Action</td><td>NULL</td></tr>",
                            "<tr><td>The Avengers</td><td>2012-05-04</td><td>Action</td><td>NULL</td></tr>",
                            "<tr><td>Iron Man 3</td><td>2013-05-03</td><td>Action</td><td>NULL</td></tr>",
                            "<tr><td>Need for Speed</td><td>2014-03-14</td><td>Action</td><td>NULL</td></tr>",
                            "<tr><td>Captain America: The Winter Soldier</td><td>2014-04-04</td><td>Action</td><td>NULL</td></tr>",
                            "<tr><td>Avengers: Age of Ultron</td><td>2015-05-01</td><td>Action</td><td>NULL</td></tr>",
                            "<tr><td>Ant-Man</td><td>2015-07-17</td><td>Action</td><td>NULL</td></tr>",
                            "<tr><td>Captain America: Civil War</td><td>2016-05-06</td><td>Action</td><td>NULL</td></tr>",
                            "</table>"
                        ]
                    }
                }
            ],
            "execution_count": 30
        },
        {
            "cell_type": "code",
            "source": [
                "-- สร้าง view in view \r\n",
                "create view vw_m2000 as \r\n",
                "select * from vw_debut where year > 2000"
            ],
            "metadata": {
                "language": "sql",
                "azdata_cell_guid": "69861984-cb9e-4787-af10-b253fd0ff1a9",
                "tags": [
                    "hide_input"
                ]
            },
            "outputs": [
                {
                    "output_type": "display_data",
                    "data": {
                        "text/html": "Commands completed successfully."
                    },
                    "metadata": {}
                },
                {
                    "output_type": "display_data",
                    "data": {
                        "text/html": "Total execution time: 00:00:00.002"
                    },
                    "metadata": {}
                }
            ],
            "execution_count": 37
        },
        {
            "cell_type": "code",
            "source": [
                "select * from vw_m2000 \r\n",
                "where weekday = 'Friday'"
            ],
            "metadata": {
                "language": "sql",
                "azdata_cell_guid": "f24414e1-33b7-4620-ada4-dd38651da85e"
            },
            "outputs": [
                {
                    "output_type": "display_data",
                    "data": {
                        "text/html": "(200 rows affected)"
                    },
                    "metadata": {}
                },
                {
                    "output_type": "display_data",
                    "data": {
                        "text/html": "Total execution time: 00:00:00.009"
                    },
                    "metadata": {}
                },
                {
                    "output_type": "execute_result",
                    "metadata": {},
                    "execution_count": 38,
                    "data": {
                        "application/vnd.dataresource+json": {
                            "schema": {
                                "fields": [
                                    {
                                        "name": "movie_title"
                                    },
                                    {
                                        "name": "release_date"
                                    },
                                    {
                                        "name": "weekday"
                                    },
                                    {
                                        "name": "month"
                                    },
                                    {
                                        "name": "year"
                                    }
                                ]
                            },
                            "data": [
                                {
                                    "movie_title": "Double Take",
                                    "release_date": "2001-01-12",
                                    "weekday": "Friday",
                                    "month": "1",
                                    "year": "2001"
                                },
                                {
                                    "movie_title": "Recess: School's Out",
                                    "release_date": "2001-02-16",
                                    "weekday": "Friday",
                                    "month": "2",
                                    "year": "2001"
                                },
                                {
                                    "movie_title": "Just Visiting",
                                    "release_date": "2001-04-06",
                                    "weekday": "Friday",
                                    "month": "4",
                                    "year": "2001"
                                },
                                {
                                    "movie_title": "Pearl Harbor",
                                    "release_date": "2001-05-25",
                                    "weekday": "Friday",
                                    "month": "5",
                                    "year": "2001"
                                },
                                {
                                    "movie_title": "Atlantis: The Lost Empire",
                                    "release_date": "2001-06-08",
                                    "weekday": "Friday",
                                    "month": "6",
                                    "year": "2001"
                                },
                                {
                                    "movie_title": "crazy/beautiful",
                                    "release_date": "2001-06-29",
                                    "weekday": "Friday",
                                    "month": "6",
                                    "year": "2001"
                                },
                                {
                                    "movie_title": "The Princess Diaries",
                                    "release_date": "2001-08-03",
                                    "weekday": "Friday",
                                    "month": "8",
                                    "year": "2001"
                                },
                                {
                                    "movie_title": "Bubble Boy",
                                    "release_date": "2001-08-24",
                                    "weekday": "Friday",
                                    "month": "8",
                                    "year": "2001"
                                },
                                {
                                    "movie_title": "Max Keeble's Big Move",
                                    "release_date": "2001-10-05",
                                    "weekday": "Friday",
                                    "month": "10",
                                    "year": "2001"
                                },
                                {
                                    "movie_title": "Corky Romano",
                                    "release_date": "2001-10-12",
                                    "weekday": "Friday",
                                    "month": "10",
                                    "year": "2001"
                                },
                                {
                                    "movie_title": "High Heels and Low Lifes",
                                    "release_date": "2001-10-26",
                                    "weekday": "Friday",
                                    "month": "10",
                                    "year": "2001"
                                },
                                {
                                    "movie_title": "Monsters, Inc.",
                                    "release_date": "2001-11-02",
                                    "weekday": "Friday",
                                    "month": "11",
                                    "year": "2001"
                                },
                                {
                                    "movie_title": "The Royal Tenenbaums",
                                    "release_date": "2001-12-14",
                                    "weekday": "Friday",
                                    "month": "12",
                                    "year": "2001"
                                },
                                {
                                    "movie_title": "Snow Dogs",
                                    "release_date": "2002-01-18",
                                    "weekday": "Friday",
                                    "month": "1",
                                    "year": "2002"
                                },
                                {
                                    "movie_title": "The Count of Monte Cristo",
                                    "release_date": "2002-01-25",
                                    "weekday": "Friday",
                                    "month": "1",
                                    "year": "2002"
                                },
                                {
                                    "movie_title": "Peter Pan: Return to Neverland",
                                    "release_date": "2002-02-15",
                                    "weekday": "Friday",
                                    "month": "2",
                                    "year": "2002"
                                },
                                {
                                    "movie_title": "Sorority Boys",
                                    "release_date": "2002-03-22",
                                    "weekday": "Friday",
                                    "month": "3",
                                    "year": "2002"
                                },
                                {
                                    "movie_title": "The Rookie",
                                    "release_date": "2002-03-29",
                                    "weekday": "Friday",
                                    "month": "3",
                                    "year": "2002"
                                },
                                {
                                    "movie_title": "Big Trouble",
                                    "release_date": "2002-04-05",
                                    "weekday": "Friday",
                                    "month": "4",
                                    "year": "2002"
                                },
                                {
                                    "movie_title": "ESPN's Ultimate X - The Movie",
                                    "release_date": "2002-05-10",
                                    "weekday": "Friday",
                                    "month": "5",
                                    "year": "2002"
                                },
                                {
                                    "movie_title": "Bad Company",
                                    "release_date": "2002-06-07",
                                    "weekday": "Friday",
                                    "month": "6",
                                    "year": "2002"
                                },
                                {
                                    "movie_title": "Lilo & Stitch",
                                    "release_date": "2002-06-21",
                                    "weekday": "Friday",
                                    "month": "6",
                                    "year": "2002"
                                },
                                {
                                    "movie_title": "The Country Bears",
                                    "release_date": "2002-07-26",
                                    "weekday": "Friday",
                                    "month": "7",
                                    "year": "2002"
                                },
                                {
                                    "movie_title": "Signs",
                                    "release_date": "2002-08-02",
                                    "weekday": "Friday",
                                    "month": "8",
                                    "year": "2002"
                                },
                                {
                                    "movie_title": "Sen to Chihiro no Kamikakushi",
                                    "release_date": "2002-09-20",
                                    "weekday": "Friday",
                                    "month": "9",
                                    "year": "2002"
                                },
                                {
                                    "movie_title": "Sweet Home Alabama",
                                    "release_date": "2002-09-27",
                                    "weekday": "Friday",
                                    "month": "9",
                                    "year": "2002"
                                },
                                {
                                    "movie_title": "Moonlight Mile",
                                    "release_date": "2002-09-27",
                                    "weekday": "Friday",
                                    "month": "9",
                                    "year": "2002"
                                },
                                {
                                    "movie_title": "Tuck Everlasting",
                                    "release_date": "2002-10-11",
                                    "weekday": "Friday",
                                    "month": "10",
                                    "year": "2002"
                                },
                                {
                                    "movie_title": "The Santa Clause 2",
                                    "release_date": "2002-11-01",
                                    "weekday": "Friday",
                                    "month": "11",
                                    "year": "2002"
                                },
                                {
                                    "movie_title": "The Hot Chick",
                                    "release_date": "2002-12-13",
                                    "weekday": "Friday",
                                    "month": "12",
                                    "year": "2002"
                                },
                                {
                                    "movie_title": "The Recruit",
                                    "release_date": "2003-01-31",
                                    "weekday": "Friday",
                                    "month": "1",
                                    "year": "2003"
                                },
                                {
                                    "movie_title": "Shanghai Knights",
                                    "release_date": "2003-02-07",
                                    "weekday": "Friday",
                                    "month": "2",
                                    "year": "2003"
                                },
                                {
                                    "movie_title": "The Jungle Book 2",
                                    "release_date": "2003-02-14",
                                    "weekday": "Friday",
                                    "month": "2",
                                    "year": "2003"
                                },
                                {
                                    "movie_title": "Bringing Down the House",
                                    "release_date": "2003-03-07",
                                    "weekday": "Friday",
                                    "month": "3",
                                    "year": "2003"
                                },
                                {
                                    "movie_title": "Piglet's Big Movie",
                                    "release_date": "2003-03-21",
                                    "weekday": "Friday",
                                    "month": "3",
                                    "year": "2003"
                                },
                                {
                                    "movie_title": "Ghosts of the Abyss",
                                    "release_date": "2003-04-11",
                                    "weekday": "Friday",
                                    "month": "4",
                                    "year": "2003"
                                },
                                {
                                    "movie_title": "Holes",
                                    "release_date": "2003-04-18",
                                    "weekday": "Friday",
                                    "month": "4",
                                    "year": "2003"
                                },
                                {
                                    "movie_title": "The Lizzie McGuire Movie",
                                    "release_date": "2003-05-02",
                                    "weekday": "Friday",
                                    "month": "5",
                                    "year": "2003"
                                },
                                {
                                    "movie_title": "Finding Nemo",
                                    "release_date": "2003-05-30",
                                    "weekday": "Friday",
                                    "month": "5",
                                    "year": "2003"
                                },
                                {
                                    "movie_title": "Open Range",
                                    "release_date": "2003-08-15",
                                    "weekday": "Friday",
                                    "month": "8",
                                    "year": "2003"
                                },
                                {
                                    "movie_title": "Cold Creek Manor",
                                    "release_date": "2003-09-19",
                                    "weekday": "Friday",
                                    "month": "9",
                                    "year": "2003"
                                },
                                {
                                    "movie_title": "Under the Tuscan Sun",
                                    "release_date": "2003-09-26",
                                    "weekday": "Friday",
                                    "month": "9",
                                    "year": "2003"
                                },
                                {
                                    "movie_title": "Veronica Guerin",
                                    "release_date": "2003-10-17",
                                    "weekday": "Friday",
                                    "month": "10",
                                    "year": "2003"
                                },
                                {
                                    "movie_title": "Brother Bear",
                                    "release_date": "2003-10-24",
                                    "weekday": "Friday",
                                    "month": "10",
                                    "year": "2003"
                                },
                                {
                                    "movie_title": "Calendar Girls",
                                    "release_date": "2003-12-19",
                                    "weekday": "Friday",
                                    "month": "12",
                                    "year": "2003"
                                },
                                {
                                    "movie_title": "Teacher's Pet: The Movie",
                                    "release_date": "2004-01-16",
                                    "weekday": "Friday",
                                    "month": "1",
                                    "year": "2004"
                                },
                                {
                                    "movie_title": "Miracle",
                                    "release_date": "2004-02-06",
                                    "weekday": "Friday",
                                    "month": "2",
                                    "year": "2004"
                                },
                                {
                                    "movie_title": "Confessions of a Teenage Drama Queen",
                                    "release_date": "2004-02-20",
                                    "weekday": "Friday",
                                    "month": "2",
                                    "year": "2004"
                                },
                                {
                                    "movie_title": "Hidalgo",
                                    "release_date": "2004-03-05",
                                    "weekday": "Friday",
                                    "month": "3",
                                    "year": "2004"
                                },
                                {
                                    "movie_title": "The Ladykillers",
                                    "release_date": "2004-03-26",
                                    "weekday": "Friday",
                                    "month": "3",
                                    "year": "2004"
                                },
                                {
                                    "movie_title": "Home on the Range",
                                    "release_date": "2004-04-02",
                                    "weekday": "Friday",
                                    "month": "4",
                                    "year": "2004"
                                },
                                {
                                    "movie_title": "The Alamo",
                                    "release_date": "2004-04-09",
                                    "weekday": "Friday",
                                    "month": "4",
                                    "year": "2004"
                                },
                                {
                                    "movie_title": "Raising Helen",
                                    "release_date": "2004-05-28",
                                    "weekday": "Friday",
                                    "month": "5",
                                    "year": "2004"
                                },
                                {
                                    "movie_title": "America's Heart and Soul",
                                    "release_date": "2004-07-02",
                                    "weekday": "Friday",
                                    "month": "7",
                                    "year": "2004"
                                },
                                {
                                    "movie_title": "The Village",
                                    "release_date": "2004-07-30",
                                    "weekday": "Friday",
                                    "month": "7",
                                    "year": "2004"
                                },
                                {
                                    "movie_title": "Mr. 3000",
                                    "release_date": "2004-09-17",
                                    "weekday": "Friday",
                                    "month": "9",
                                    "year": "2004"
                                },
                                {
                                    "movie_title": "The Last Shot",
                                    "release_date": "2004-09-24",
                                    "weekday": "Friday",
                                    "month": "9",
                                    "year": "2004"
                                },
                                {
                                    "movie_title": "Ladder 49",
                                    "release_date": "2004-10-01",
                                    "weekday": "Friday",
                                    "month": "10",
                                    "year": "2004"
                                },
                                {
                                    "movie_title": "The Incredibles",
                                    "release_date": "2004-11-05",
                                    "weekday": "Friday",
                                    "month": "11",
                                    "year": "2004"
                                },
                                {
                                    "movie_title": "National Treasure",
                                    "release_date": "2004-11-19",
                                    "weekday": "Friday",
                                    "month": "11",
                                    "year": "2004"
                                },
                                {
                                    "movie_title": "The Life Aquatic with Steve Zissou",
                                    "release_date": "2004-12-10",
                                    "weekday": "Friday",
                                    "month": "12",
                                    "year": "2004"
                                },
                                {
                                    "movie_title": "Aliens of the Deep",
                                    "release_date": "2005-01-28",
                                    "weekday": "Friday",
                                    "month": "1",
                                    "year": "2005"
                                },
                                {
                                    "movie_title": "Pooh's Heffalump Movie",
                                    "release_date": "2005-02-11",
                                    "weekday": "Friday",
                                    "month": "2",
                                    "year": "2005"
                                },
                                {
                                    "movie_title": "The Pacifier",
                                    "release_date": "2005-03-04",
                                    "weekday": "Friday",
                                    "month": "3",
                                    "year": "2005"
                                },
                                {
                                    "movie_title": "Ice Princess",
                                    "release_date": "2005-03-18",
                                    "weekday": "Friday",
                                    "month": "3",
                                    "year": "2005"
                                },
                                {
                                    "movie_title": "A Lot Like Love",
                                    "release_date": "2005-04-22",
                                    "weekday": "Friday",
                                    "month": "4",
                                    "year": "2005"
                                },
                                {
                                    "movie_title": "The Hitchhiker's Guide to the Galaxy",
                                    "release_date": "2005-04-29",
                                    "weekday": "Friday",
                                    "month": "4",
                                    "year": "2005"
                                },
                                {
                                    "movie_title": "Hauru no ugoku shiro",
                                    "release_date": "2005-06-10",
                                    "weekday": "Friday",
                                    "month": "6",
                                    "year": "2005"
                                },
                                {
                                    "movie_title": "Dark Water",
                                    "release_date": "2005-07-08",
                                    "weekday": "Friday",
                                    "month": "7",
                                    "year": "2005"
                                },
                                {
                                    "movie_title": "Sky High",
                                    "release_date": "2005-07-29",
                                    "weekday": "Friday",
                                    "month": "7",
                                    "year": "2005"
                                },
                                {
                                    "movie_title": "Valiant",
                                    "release_date": "2005-08-19",
                                    "weekday": "Friday",
                                    "month": "8",
                                    "year": "2005"
                                },
                                {
                                    "movie_title": "Flightplan",
                                    "release_date": "2005-09-23",
                                    "weekday": "Friday",
                                    "month": "9",
                                    "year": "2005"
                                },
                                {
                                    "movie_title": "The Greatest Game Ever Played",
                                    "release_date": "2005-09-30",
                                    "weekday": "Friday",
                                    "month": "9",
                                    "year": "2005"
                                },
                                {
                                    "movie_title": "Shopgirl",
                                    "release_date": "2005-10-21",
                                    "weekday": "Friday",
                                    "month": "10",
                                    "year": "2005"
                                },
                                {
                                    "movie_title": "Chicken Little",
                                    "release_date": "2005-11-04",
                                    "weekday": "Friday",
                                    "month": "11",
                                    "year": "2005"
                                },
                                {
                                    "movie_title": "The Chronicles of Narnia: The Lion, t…",
                                    "release_date": "2005-12-09",
                                    "weekday": "Friday",
                                    "month": "12",
                                    "year": "2005"
                                },
                                {
                                    "movie_title": "Glory Road",
                                    "release_date": "2006-01-13",
                                    "weekday": "Friday",
                                    "month": "1",
                                    "year": "2006"
                                },
                                {
                                    "movie_title": "Annapolis",
                                    "release_date": "2006-01-27",
                                    "weekday": "Friday",
                                    "month": "1",
                                    "year": "2006"
                                },
                                {
                                    "movie_title": "Roving Mars",
                                    "release_date": "2006-01-27",
                                    "weekday": "Friday",
                                    "month": "1",
                                    "year": "2006"
                                },
                                {
                                    "movie_title": "Eight Below",
                                    "release_date": "2006-02-17",
                                    "weekday": "Friday",
                                    "month": "2",
                                    "year": "2006"
                                },
                                {
                                    "movie_title": "The Shaggy Dog",
                                    "release_date": "2006-03-10",
                                    "weekday": "Friday",
                                    "month": "3",
                                    "year": "2006"
                                },
                                {
                                    "movie_title": "Stay Alive",
                                    "release_date": "2006-03-24",
                                    "weekday": "Friday",
                                    "month": "3",
                                    "year": "2006"
                                },
                                {
                                    "movie_title": "The Wild",
                                    "release_date": "2006-04-14",
                                    "weekday": "Friday",
                                    "month": "4",
                                    "year": "2006"
                                },
                                {
                                    "movie_title": "Stick It",
                                    "release_date": "2006-04-28",
                                    "weekday": "Friday",
                                    "month": "4",
                                    "year": "2006"
                                },
                                {
                                    "movie_title": "Goal! The Dream Begins",
                                    "release_date": "2006-05-12",
                                    "weekday": "Friday",
                                    "month": "5",
                                    "year": "2006"
                                },
                                {
                                    "movie_title": "Cars",
                                    "release_date": "2006-06-09",
                                    "weekday": "Friday",
                                    "month": "6",
                                    "year": "2006"
                                },
                                {
                                    "movie_title": "Pirates of the Caribbean: Dead Man’…",
                                    "release_date": "2006-07-07",
                                    "weekday": "Friday",
                                    "month": "7",
                                    "year": "2006"
                                },
                                {
                                    "movie_title": "Step Up",
                                    "release_date": "2006-08-11",
                                    "weekday": "Friday",
                                    "month": "8",
                                    "year": "2006"
                                },
                                {
                                    "movie_title": "Invincible",
                                    "release_date": "2006-08-25",
                                    "weekday": "Friday",
                                    "month": "8",
                                    "year": "2006"
                                },
                                {
                                    "movie_title": "The Guardian",
                                    "release_date": "2006-09-29",
                                    "weekday": "Friday",
                                    "month": "9",
                                    "year": "2006"
                                },
                                {
                                    "movie_title": "The Prestige",
                                    "release_date": "2006-10-20",
                                    "weekday": "Friday",
                                    "month": "10",
                                    "year": "2006"
                                },
                                {
                                    "movie_title": "Tim Burton's The Nightmare Before Chr…",
                                    "release_date": "2006-10-20",
                                    "weekday": "Friday",
                                    "month": "10",
                                    "year": "2006"
                                },
                                {
                                    "movie_title": "The Santa Clause 3: The Escape Clause",
                                    "release_date": "2006-11-03",
                                    "weekday": "Friday",
                                    "month": "11",
                                    "year": "2006"
                                },
                                {
                                    "movie_title": "Apocalypto",
                                    "release_date": "2006-12-08",
                                    "weekday": "Friday",
                                    "month": "12",
                                    "year": "2006"
                                },
                                {
                                    "movie_title": "Primeval",
                                    "release_date": "2007-01-12",
                                    "weekday": "Friday",
                                    "month": "1",
                                    "year": "2007"
                                },
                                {
                                    "movie_title": "Bridge to Terabithia",
                                    "release_date": "2007-02-16",
                                    "weekday": "Friday",
                                    "month": "2",
                                    "year": "2007"
                                },
                                {
                                    "movie_title": "Wild Hogs",
                                    "release_date": "2007-03-02",
                                    "weekday": "Friday",
                                    "month": "3",
                                    "year": "2007"
                                },
                                {
                                    "movie_title": "Meet the Robinsons",
                                    "release_date": "2007-03-30",
                                    "weekday": "Friday",
                                    "month": "3",
                                    "year": "2007"
                                },
                                {
                                    "movie_title": "The Lookout",
                                    "release_date": "2007-03-30",
                                    "weekday": "Friday",
                                    "month": "3",
                                    "year": "2007"
                                },
                                {
                                    "movie_title": "The Hoax",
                                    "release_date": "2007-04-06",
                                    "weekday": "Friday",
                                    "month": "4",
                                    "year": "2007"
                                },
                                {
                                    "movie_title": "The Invisible",
                                    "release_date": "2007-04-27",
                                    "weekday": "Friday",
                                    "month": "4",
                                    "year": "2007"
                                },
                                {
                                    "movie_title": "Ratatouille",
                                    "release_date": "2007-06-29",
                                    "weekday": "Friday",
                                    "month": "6",
                                    "year": "2007"
                                },
                                {
                                    "movie_title": "Underdog",
                                    "release_date": "2007-08-03",
                                    "weekday": "Friday",
                                    "month": "8",
                                    "year": "2007"
                                },
                                {
                                    "movie_title": "National Treasure 2: Book of Secrets",
                                    "release_date": "2007-12-21",
                                    "weekday": "Friday",
                                    "month": "12",
                                    "year": "2007"
                                },
                                {
                                    "movie_title": "Hannah Montana/Miley Cyrus: Best of B…",
                                    "release_date": "2008-02-01",
                                    "weekday": "Friday",
                                    "month": "2",
                                    "year": "2008"
                                },
                                {
                                    "movie_title": "College Road Trip",
                                    "release_date": "2008-03-07",
                                    "weekday": "Friday",
                                    "month": "3",
                                    "year": "2008"
                                },
                                {
                                    "movie_title": "The Chronicles of Narnia: Prince Caspian",
                                    "release_date": "2008-05-16",
                                    "weekday": "Friday",
                                    "month": "5",
                                    "year": "2008"
                                },
                                {
                                    "movie_title": "WALL-E",
                                    "release_date": "2008-06-27",
                                    "weekday": "Friday",
                                    "month": "6",
                                    "year": "2008"
                                },
                                {
                                    "movie_title": "Swing Vote",
                                    "release_date": "2008-08-01",
                                    "weekday": "Friday",
                                    "month": "8",
                                    "year": "2008"
                                },
                                {
                                    "movie_title": "Goal! 2: Living the Dream...",
                                    "release_date": "2008-08-29",
                                    "weekday": "Friday",
                                    "month": "8",
                                    "year": "2008"
                                },
                                {
                                    "movie_title": "Miracle at St. Anna",
                                    "release_date": "2008-09-26",
                                    "weekday": "Friday",
                                    "month": "9",
                                    "year": "2008"
                                },
                                {
                                    "movie_title": "Beverly Hills Chihuahua",
                                    "release_date": "2008-10-03",
                                    "weekday": "Friday",
                                    "month": "10",
                                    "year": "2008"
                                },
                                {
                                    "movie_title": "Morning Light",
                                    "release_date": "2008-10-17",
                                    "weekday": "Friday",
                                    "month": "10",
                                    "year": "2008"
                                },
                                {
                                    "movie_title": "High School Musical 3: Senior Year",
                                    "release_date": "2008-10-24",
                                    "weekday": "Friday",
                                    "month": "10",
                                    "year": "2008"
                                },
                                {
                                    "movie_title": "Bolt",
                                    "release_date": "2008-11-21",
                                    "weekday": "Friday",
                                    "month": "11",
                                    "year": "2008"
                                },
                                {
                                    "movie_title": "Confessions of a Shopaholic",
                                    "release_date": "2009-02-13",
                                    "weekday": "Friday",
                                    "month": "2",
                                    "year": "2009"
                                },
                                {
                                    "movie_title": "Jonas Brothers: The 3D Concert Experi…",
                                    "release_date": "2009-02-27",
                                    "weekday": "Friday",
                                    "month": "2",
                                    "year": "2009"
                                },
                                {
                                    "movie_title": "Race to Witch Mountain",
                                    "release_date": "2009-03-13",
                                    "weekday": "Friday",
                                    "month": "3",
                                    "year": "2009"
                                },
                                {
                                    "movie_title": "Hannah Montana the Movie",
                                    "release_date": "2009-04-10",
                                    "weekday": "Friday",
                                    "month": "4",
                                    "year": "2009"
                                },
                                {
                                    "movie_title": "Up",
                                    "release_date": "2009-05-29",
                                    "weekday": "Friday",
                                    "month": "5",
                                    "year": "2009"
                                },
                                {
                                    "movie_title": "The Proposal",
                                    "release_date": "2009-06-19",
                                    "weekday": "Friday",
                                    "month": "6",
                                    "year": "2009"
                                },
                                {
                                    "movie_title": "G-Force",
                                    "release_date": "2009-07-24",
                                    "weekday": "Friday",
                                    "month": "7",
                                    "year": "2009"
                                },
                                {
                                    "movie_title": "Gake no ue no Ponyo",
                                    "release_date": "2009-08-14",
                                    "weekday": "Friday",
                                    "month": "8",
                                    "year": "2009"
                                },
                                {
                                    "movie_title": "X Games 3D: The Movie",
                                    "release_date": "2009-08-21",
                                    "weekday": "Friday",
                                    "month": "8",
                                    "year": "2009"
                                },
                                {
                                    "movie_title": "Surrogates",
                                    "release_date": "2009-09-25",
                                    "weekday": "Friday",
                                    "month": "9",
                                    "year": "2009"
                                },
                                {
                                    "movie_title": "Toy Story 3D Double Feature",
                                    "release_date": "2009-10-02",
                                    "weekday": "Friday",
                                    "month": "10",
                                    "year": "2009"
                                },
                                {
                                    "movie_title": "Disney's A Christmas Carol",
                                    "release_date": "2009-11-06",
                                    "weekday": "Friday",
                                    "month": "11",
                                    "year": "2009"
                                },
                                {
                                    "movie_title": "When in Rome",
                                    "release_date": "2010-01-29",
                                    "weekday": "Friday",
                                    "month": "1",
                                    "year": "2010"
                                },
                                {
                                    "movie_title": "Alice in Wonderland",
                                    "release_date": "2010-03-05",
                                    "weekday": "Friday",
                                    "month": "3",
                                    "year": "2010"
                                },
                                {
                                    "movie_title": "Waking Sleeping Beauty",
                                    "release_date": "2010-03-26",
                                    "weekday": "Friday",
                                    "month": "3",
                                    "year": "2010"
                                },
                                {
                                    "movie_title": "Prince of Persia: Sands of Time",
                                    "release_date": "2010-05-28",
                                    "weekday": "Friday",
                                    "month": "5",
                                    "year": "2010"
                                },
                                {
                                    "movie_title": "Toy Story 3",
                                    "release_date": "2010-06-18",
                                    "weekday": "Friday",
                                    "month": "6",
                                    "year": "2010"
                                },
                                {
                                    "movie_title": "Step Up 3D",
                                    "release_date": "2010-08-06",
                                    "weekday": "Friday",
                                    "month": "8",
                                    "year": "2010"
                                },
                                {
                                    "movie_title": "Gedo Senki (Tales from Earthsea)",
                                    "release_date": "2010-08-13",
                                    "weekday": "Friday",
                                    "month": "8",
                                    "year": "2010"
                                },
                                {
                                    "movie_title": "You Again",
                                    "release_date": "2010-09-24",
                                    "weekday": "Friday",
                                    "month": "9",
                                    "year": "2010"
                                },
                                {
                                    "movie_title": "Secretariat",
                                    "release_date": "2010-10-08",
                                    "weekday": "Friday",
                                    "month": "10",
                                    "year": "2010"
                                },
                                {
                                    "movie_title": "Tron: Legacy",
                                    "release_date": "2010-12-17",
                                    "weekday": "Friday",
                                    "month": "12",
                                    "year": "2010"
                                },
                                {
                                    "movie_title": "Gnomeo and Juliet",
                                    "release_date": "2011-02-11",
                                    "weekday": "Friday",
                                    "month": "2",
                                    "year": "2011"
                                },
                                {
                                    "movie_title": "I am Number Four",
                                    "release_date": "2011-02-18",
                                    "weekday": "Friday",
                                    "month": "2",
                                    "year": "2011"
                                },
                                {
                                    "movie_title": "Mars Needs Moms",
                                    "release_date": "2011-03-11",
                                    "weekday": "Friday",
                                    "month": "3",
                                    "year": "2011"
                                },
                                {
                                    "movie_title": "African Cats",
                                    "release_date": "2011-04-22",
                                    "weekday": "Friday",
                                    "month": "4",
                                    "year": "2011"
                                },
                                {
                                    "movie_title": "Zokkomon",
                                    "release_date": "2011-04-22",
                                    "weekday": "Friday",
                                    "month": "4",
                                    "year": "2011"
                                },
                                {
                                    "movie_title": "Prom",
                                    "release_date": "2011-04-29",
                                    "weekday": "Friday",
                                    "month": "4",
                                    "year": "2011"
                                },
                                {
                                    "movie_title": "Pirates of the Caribbean: On Stranger…",
                                    "release_date": "2011-05-20",
                                    "weekday": "Friday",
                                    "month": "5",
                                    "year": "2011"
                                },
                                {
                                    "movie_title": "Cars 2",
                                    "release_date": "2011-06-24",
                                    "weekday": "Friday",
                                    "month": "6",
                                    "year": "2011"
                                },
                                {
                                    "movie_title": "Winnie the Pooh",
                                    "release_date": "2011-07-15",
                                    "weekday": "Friday",
                                    "month": "7",
                                    "year": "2011"
                                },
                                {
                                    "movie_title": "Fright Night",
                                    "release_date": "2011-08-19",
                                    "weekday": "Friday",
                                    "month": "8",
                                    "year": "2011"
                                },
                                {
                                    "movie_title": "Real Steel",
                                    "release_date": "2011-10-07",
                                    "weekday": "Friday",
                                    "month": "10",
                                    "year": "2011"
                                },
                                {
                                    "movie_title": "The Secret World of Arietty",
                                    "release_date": "2012-02-17",
                                    "weekday": "Friday",
                                    "month": "2",
                                    "year": "2012"
                                },
                                {
                                    "movie_title": "John Carter",
                                    "release_date": "2012-03-09",
                                    "weekday": "Friday",
                                    "month": "3",
                                    "year": "2012"
                                },
                                {
                                    "movie_title": "Chimpanzee",
                                    "release_date": "2012-04-20",
                                    "weekday": "Friday",
                                    "month": "4",
                                    "year": "2012"
                                },
                                {
                                    "movie_title": "The Avengers",
                                    "release_date": "2012-05-04",
                                    "weekday": "Friday",
                                    "month": "5",
                                    "year": "2012"
                                },
                                {
                                    "movie_title": "Brave",
                                    "release_date": "2012-06-22",
                                    "weekday": "Friday",
                                    "month": "6",
                                    "year": "2012"
                                },
                                {
                                    "movie_title": "People Like Us",
                                    "release_date": "2012-06-29",
                                    "weekday": "Friday",
                                    "month": "6",
                                    "year": "2012"
                                },
                                {
                                    "movie_title": "Frankenweenie",
                                    "release_date": "2012-10-05",
                                    "weekday": "Friday",
                                    "month": "10",
                                    "year": "2012"
                                },
                                {
                                    "movie_title": "Wreck-It Ralph",
                                    "release_date": "2012-11-02",
                                    "weekday": "Friday",
                                    "month": "11",
                                    "year": "2012"
                                },
                                {
                                    "movie_title": "Lincoln",
                                    "release_date": "2012-11-09",
                                    "weekday": "Friday",
                                    "month": "11",
                                    "year": "2012"
                                },
                                {
                                    "movie_title": "Oz the Great and Powerful",
                                    "release_date": "2013-03-08",
                                    "weekday": "Friday",
                                    "month": "3",
                                    "year": "2013"
                                },
                                {
                                    "movie_title": "Iron Man 3",
                                    "release_date": "2013-05-03",
                                    "weekday": "Friday",
                                    "month": "5",
                                    "year": "2013"
                                },
                                {
                                    "movie_title": "Monsters University",
                                    "release_date": "2013-06-21",
                                    "weekday": "Friday",
                                    "month": "6",
                                    "year": "2013"
                                },
                                {
                                    "movie_title": "Disney Planes",
                                    "release_date": "2013-08-09",
                                    "weekday": "Friday",
                                    "month": "8",
                                    "year": "2013"
                                },
                                {
                                    "movie_title": "The Fifth Estate",
                                    "release_date": "2013-10-18",
                                    "weekday": "Friday",
                                    "month": "10",
                                    "year": "2013"
                                },
                                {
                                    "movie_title": "Thor: The Dark World",
                                    "release_date": "2013-11-08",
                                    "weekday": "Friday",
                                    "month": "11",
                                    "year": "2013"
                                },
                                {
                                    "movie_title": "Kaze Tachinu",
                                    "release_date": "2013-11-08",
                                    "weekday": "Friday",
                                    "month": "11",
                                    "year": "2013"
                                },
                                {
                                    "movie_title": "Frozen",
                                    "release_date": "2013-11-22",
                                    "weekday": "Friday",
                                    "month": "11",
                                    "year": "2013"
                                },
                                {
                                    "movie_title": "Delivery Man",
                                    "release_date": "2013-11-22",
                                    "weekday": "Friday",
                                    "month": "11",
                                    "year": "2013"
                                },
                                {
                                    "movie_title": "Saving Mr. Banks",
                                    "release_date": "2013-12-13",
                                    "weekday": "Friday",
                                    "month": "12",
                                    "year": "2013"
                                },
                                {
                                    "movie_title": "Need for Speed",
                                    "release_date": "2014-03-14",
                                    "weekday": "Friday",
                                    "month": "3",
                                    "year": "2014"
                                },
                                {
                                    "movie_title": "Muppets Most Wanted",
                                    "release_date": "2014-03-21",
                                    "weekday": "Friday",
                                    "month": "3",
                                    "year": "2014"
                                },
                                {
                                    "movie_title": "Captain America: The Winter Soldier",
                                    "release_date": "2014-04-04",
                                    "weekday": "Friday",
                                    "month": "4",
                                    "year": "2014"
                                },
                                {
                                    "movie_title": "Bears",
                                    "release_date": "2014-04-18",
                                    "weekday": "Friday",
                                    "month": "4",
                                    "year": "2014"
                                },
                                {
                                    "movie_title": "Maleficent",
                                    "release_date": "2014-05-30",
                                    "weekday": "Friday",
                                    "month": "5",
                                    "year": "2014"
                                },
                                {
                                    "movie_title": "Planes: Fire and Rescue",
                                    "release_date": "2014-07-18",
                                    "weekday": "Friday",
                                    "month": "7",
                                    "year": "2014"
                                },
                                {
                                    "movie_title": "Guardians of the Galaxy",
                                    "release_date": "2014-08-01",
                                    "weekday": "Friday",
                                    "month": "8",
                                    "year": "2014"
                                },
                                {
                                    "movie_title": "The Hundred-Foot Journey",
                                    "release_date": "2014-08-08",
                                    "weekday": "Friday",
                                    "month": "8",
                                    "year": "2014"
                                },
                                {
                                    "movie_title": "Alexander and the Terrible, Horrible,…",
                                    "release_date": "2014-10-10",
                                    "weekday": "Friday",
                                    "month": "10",
                                    "year": "2014"
                                },
                                {
                                    "movie_title": "Big Hero 6",
                                    "release_date": "2014-11-07",
                                    "weekday": "Friday",
                                    "month": "11",
                                    "year": "2014"
                                },
                                {
                                    "movie_title": "Strange Magic",
                                    "release_date": "2015-01-23",
                                    "weekday": "Friday",
                                    "month": "1",
                                    "year": "2015"
                                },
                                {
                                    "movie_title": "McFarland, USA",
                                    "release_date": "2015-02-20",
                                    "weekday": "Friday",
                                    "month": "2",
                                    "year": "2015"
                                },
                                {
                                    "movie_title": "Cinderella",
                                    "release_date": "2015-03-13",
                                    "weekday": "Friday",
                                    "month": "3",
                                    "year": "2015"
                                },
                                {
                                    "movie_title": "Monkey Kingdom",
                                    "release_date": "2015-04-17",
                                    "weekday": "Friday",
                                    "month": "4",
                                    "year": "2015"
                                },
                                {
                                    "movie_title": "Avengers: Age of Ultron",
                                    "release_date": "2015-05-01",
                                    "weekday": "Friday",
                                    "month": "5",
                                    "year": "2015"
                                },
                                {
                                    "movie_title": "Tomorrowland",
                                    "release_date": "2015-05-22",
                                    "weekday": "Friday",
                                    "month": "5",
                                    "year": "2015"
                                },
                                {
                                    "movie_title": "Inside Out",
                                    "release_date": "2015-06-19",
                                    "weekday": "Friday",
                                    "month": "6",
                                    "year": "2015"
                                },
                                {
                                    "movie_title": "Ant-Man",
                                    "release_date": "2015-07-17",
                                    "weekday": "Friday",
                                    "month": "7",
                                    "year": "2015"
                                },
                                {
                                    "movie_title": "Bridge of Spies",
                                    "release_date": "2015-10-16",
                                    "weekday": "Friday",
                                    "month": "10",
                                    "year": "2015"
                                },
                                {
                                    "movie_title": "Star Wars Ep. VII: The Force Awakens",
                                    "release_date": "2015-12-18",
                                    "weekday": "Friday",
                                    "month": "12",
                                    "year": "2015"
                                },
                                {
                                    "movie_title": "The Finest Hours",
                                    "release_date": "2016-01-29",
                                    "weekday": "Friday",
                                    "month": "1",
                                    "year": "2016"
                                },
                                {
                                    "movie_title": "Zootopia",
                                    "release_date": "2016-03-04",
                                    "weekday": "Friday",
                                    "month": "3",
                                    "year": "2016"
                                },
                                {
                                    "movie_title": "The Jungle Book",
                                    "release_date": "2016-04-15",
                                    "weekday": "Friday",
                                    "month": "4",
                                    "year": "2016"
                                },
                                {
                                    "movie_title": "A Beautiful Planet",
                                    "release_date": "2016-04-29",
                                    "weekday": "Friday",
                                    "month": "4",
                                    "year": "2016"
                                },
                                {
                                    "movie_title": "Captain America: Civil War",
                                    "release_date": "2016-05-06",
                                    "weekday": "Friday",
                                    "month": "5",
                                    "year": "2016"
                                },
                                {
                                    "movie_title": "Alice Through the Looking Glass",
                                    "release_date": "2016-05-27",
                                    "weekday": "Friday",
                                    "month": "5",
                                    "year": "2016"
                                },
                                {
                                    "movie_title": "Finding Dory",
                                    "release_date": "2016-06-17",
                                    "weekday": "Friday",
                                    "month": "6",
                                    "year": "2016"
                                },
                                {
                                    "movie_title": "The BFG",
                                    "release_date": "2016-07-01",
                                    "weekday": "Friday",
                                    "month": "7",
                                    "year": "2016"
                                },
                                {
                                    "movie_title": "Pete’s Dragon",
                                    "release_date": "2016-08-12",
                                    "weekday": "Friday",
                                    "month": "8",
                                    "year": "2016"
                                },
                                {
                                    "movie_title": "The Light Between Oceans",
                                    "release_date": "2016-09-02",
                                    "weekday": "Friday",
                                    "month": "9",
                                    "year": "2016"
                                },
                                {
                                    "movie_title": "Queen of Katwe",
                                    "release_date": "2016-09-23",
                                    "weekday": "Friday",
                                    "month": "9",
                                    "year": "2016"
                                },
                                {
                                    "movie_title": "Doctor Strange",
                                    "release_date": "2016-11-04",
                                    "weekday": "Friday",
                                    "month": "11",
                                    "year": "2016"
                                },
                                {
                                    "movie_title": "Rogue One: A Star Wars Story",
                                    "release_date": "2016-12-16",
                                    "weekday": "Friday",
                                    "month": "12",
                                    "year": "2016"
                                }
                            ]
                        },
                        "text/html": [
                            "<table>",
                            "<tr><th>movie_title</th><th>release_date</th><th>weekday</th><th>month</th><th>year</th></tr>",
                            "<tr><td>Double Take</td><td>2001-01-12</td><td>Friday</td><td>1</td><td>2001</td></tr>",
                            "<tr><td>Recess: School&#39;s Out</td><td>2001-02-16</td><td>Friday</td><td>2</td><td>2001</td></tr>",
                            "<tr><td>Just Visiting</td><td>2001-04-06</td><td>Friday</td><td>4</td><td>2001</td></tr>",
                            "<tr><td>Pearl Harbor</td><td>2001-05-25</td><td>Friday</td><td>5</td><td>2001</td></tr>",
                            "<tr><td>Atlantis: The Lost Empire</td><td>2001-06-08</td><td>Friday</td><td>6</td><td>2001</td></tr>",
                            "<tr><td>crazy/beautiful</td><td>2001-06-29</td><td>Friday</td><td>6</td><td>2001</td></tr>",
                            "<tr><td>The Princess Diaries</td><td>2001-08-03</td><td>Friday</td><td>8</td><td>2001</td></tr>",
                            "<tr><td>Bubble Boy</td><td>2001-08-24</td><td>Friday</td><td>8</td><td>2001</td></tr>",
                            "<tr><td>Max Keeble&#39;s Big Move</td><td>2001-10-05</td><td>Friday</td><td>10</td><td>2001</td></tr>",
                            "<tr><td>Corky Romano</td><td>2001-10-12</td><td>Friday</td><td>10</td><td>2001</td></tr>",
                            "<tr><td>High Heels and Low Lifes</td><td>2001-10-26</td><td>Friday</td><td>10</td><td>2001</td></tr>",
                            "<tr><td>Monsters, Inc.</td><td>2001-11-02</td><td>Friday</td><td>11</td><td>2001</td></tr>",
                            "<tr><td>The Royal Tenenbaums</td><td>2001-12-14</td><td>Friday</td><td>12</td><td>2001</td></tr>",
                            "<tr><td>Snow Dogs</td><td>2002-01-18</td><td>Friday</td><td>1</td><td>2002</td></tr>",
                            "<tr><td>The Count of Monte Cristo</td><td>2002-01-25</td><td>Friday</td><td>1</td><td>2002</td></tr>",
                            "<tr><td>Peter Pan: Return to Neverland</td><td>2002-02-15</td><td>Friday</td><td>2</td><td>2002</td></tr>",
                            "<tr><td>Sorority Boys</td><td>2002-03-22</td><td>Friday</td><td>3</td><td>2002</td></tr>",
                            "<tr><td>The Rookie</td><td>2002-03-29</td><td>Friday</td><td>3</td><td>2002</td></tr>",
                            "<tr><td>Big Trouble</td><td>2002-04-05</td><td>Friday</td><td>4</td><td>2002</td></tr>",
                            "<tr><td>ESPN&#39;s Ultimate X - The Movie</td><td>2002-05-10</td><td>Friday</td><td>5</td><td>2002</td></tr>",
                            "<tr><td>Bad Company</td><td>2002-06-07</td><td>Friday</td><td>6</td><td>2002</td></tr>",
                            "<tr><td>Lilo &amp; Stitch</td><td>2002-06-21</td><td>Friday</td><td>6</td><td>2002</td></tr>",
                            "<tr><td>The Country Bears</td><td>2002-07-26</td><td>Friday</td><td>7</td><td>2002</td></tr>",
                            "<tr><td>Signs</td><td>2002-08-02</td><td>Friday</td><td>8</td><td>2002</td></tr>",
                            "<tr><td>Sen to Chihiro no Kamikakushi</td><td>2002-09-20</td><td>Friday</td><td>9</td><td>2002</td></tr>",
                            "<tr><td>Sweet Home Alabama</td><td>2002-09-27</td><td>Friday</td><td>9</td><td>2002</td></tr>",
                            "<tr><td>Moonlight Mile</td><td>2002-09-27</td><td>Friday</td><td>9</td><td>2002</td></tr>",
                            "<tr><td>Tuck Everlasting</td><td>2002-10-11</td><td>Friday</td><td>10</td><td>2002</td></tr>",
                            "<tr><td>The Santa Clause 2</td><td>2002-11-01</td><td>Friday</td><td>11</td><td>2002</td></tr>",
                            "<tr><td>The Hot Chick</td><td>2002-12-13</td><td>Friday</td><td>12</td><td>2002</td></tr>",
                            "<tr><td>The Recruit</td><td>2003-01-31</td><td>Friday</td><td>1</td><td>2003</td></tr>",
                            "<tr><td>Shanghai Knights</td><td>2003-02-07</td><td>Friday</td><td>2</td><td>2003</td></tr>",
                            "<tr><td>The Jungle Book 2</td><td>2003-02-14</td><td>Friday</td><td>2</td><td>2003</td></tr>",
                            "<tr><td>Bringing Down the House</td><td>2003-03-07</td><td>Friday</td><td>3</td><td>2003</td></tr>",
                            "<tr><td>Piglet&#39;s Big Movie</td><td>2003-03-21</td><td>Friday</td><td>3</td><td>2003</td></tr>",
                            "<tr><td>Ghosts of the Abyss</td><td>2003-04-11</td><td>Friday</td><td>4</td><td>2003</td></tr>",
                            "<tr><td>Holes</td><td>2003-04-18</td><td>Friday</td><td>4</td><td>2003</td></tr>",
                            "<tr><td>The Lizzie McGuire Movie</td><td>2003-05-02</td><td>Friday</td><td>5</td><td>2003</td></tr>",
                            "<tr><td>Finding Nemo</td><td>2003-05-30</td><td>Friday</td><td>5</td><td>2003</td></tr>",
                            "<tr><td>Open Range</td><td>2003-08-15</td><td>Friday</td><td>8</td><td>2003</td></tr>",
                            "<tr><td>Cold Creek Manor</td><td>2003-09-19</td><td>Friday</td><td>9</td><td>2003</td></tr>",
                            "<tr><td>Under the Tuscan Sun</td><td>2003-09-26</td><td>Friday</td><td>9</td><td>2003</td></tr>",
                            "<tr><td>Veronica Guerin</td><td>2003-10-17</td><td>Friday</td><td>10</td><td>2003</td></tr>",
                            "<tr><td>Brother Bear</td><td>2003-10-24</td><td>Friday</td><td>10</td><td>2003</td></tr>",
                            "<tr><td>Calendar Girls</td><td>2003-12-19</td><td>Friday</td><td>12</td><td>2003</td></tr>",
                            "<tr><td>Teacher&#39;s Pet: The Movie</td><td>2004-01-16</td><td>Friday</td><td>1</td><td>2004</td></tr>",
                            "<tr><td>Miracle</td><td>2004-02-06</td><td>Friday</td><td>2</td><td>2004</td></tr>",
                            "<tr><td>Confessions of a Teenage Drama Queen</td><td>2004-02-20</td><td>Friday</td><td>2</td><td>2004</td></tr>",
                            "<tr><td>Hidalgo</td><td>2004-03-05</td><td>Friday</td><td>3</td><td>2004</td></tr>",
                            "<tr><td>The Ladykillers</td><td>2004-03-26</td><td>Friday</td><td>3</td><td>2004</td></tr>",
                            "<tr><td>Home on the Range</td><td>2004-04-02</td><td>Friday</td><td>4</td><td>2004</td></tr>",
                            "<tr><td>The Alamo</td><td>2004-04-09</td><td>Friday</td><td>4</td><td>2004</td></tr>",
                            "<tr><td>Raising Helen</td><td>2004-05-28</td><td>Friday</td><td>5</td><td>2004</td></tr>",
                            "<tr><td>America&#39;s Heart and Soul</td><td>2004-07-02</td><td>Friday</td><td>7</td><td>2004</td></tr>",
                            "<tr><td>The Village</td><td>2004-07-30</td><td>Friday</td><td>7</td><td>2004</td></tr>",
                            "<tr><td>Mr. 3000</td><td>2004-09-17</td><td>Friday</td><td>9</td><td>2004</td></tr>",
                            "<tr><td>The Last Shot</td><td>2004-09-24</td><td>Friday</td><td>9</td><td>2004</td></tr>",
                            "<tr><td>Ladder 49</td><td>2004-10-01</td><td>Friday</td><td>10</td><td>2004</td></tr>",
                            "<tr><td>The Incredibles</td><td>2004-11-05</td><td>Friday</td><td>11</td><td>2004</td></tr>",
                            "<tr><td>National Treasure</td><td>2004-11-19</td><td>Friday</td><td>11</td><td>2004</td></tr>",
                            "<tr><td>The Life Aquatic with Steve Zissou</td><td>2004-12-10</td><td>Friday</td><td>12</td><td>2004</td></tr>",
                            "<tr><td>Aliens of the Deep</td><td>2005-01-28</td><td>Friday</td><td>1</td><td>2005</td></tr>",
                            "<tr><td>Pooh&#39;s Heffalump Movie</td><td>2005-02-11</td><td>Friday</td><td>2</td><td>2005</td></tr>",
                            "<tr><td>The Pacifier</td><td>2005-03-04</td><td>Friday</td><td>3</td><td>2005</td></tr>",
                            "<tr><td>Ice Princess</td><td>2005-03-18</td><td>Friday</td><td>3</td><td>2005</td></tr>",
                            "<tr><td>A Lot Like Love</td><td>2005-04-22</td><td>Friday</td><td>4</td><td>2005</td></tr>",
                            "<tr><td>The Hitchhiker&#39;s Guide to the Galaxy</td><td>2005-04-29</td><td>Friday</td><td>4</td><td>2005</td></tr>",
                            "<tr><td>Hauru no ugoku shiro</td><td>2005-06-10</td><td>Friday</td><td>6</td><td>2005</td></tr>",
                            "<tr><td>Dark Water</td><td>2005-07-08</td><td>Friday</td><td>7</td><td>2005</td></tr>",
                            "<tr><td>Sky High</td><td>2005-07-29</td><td>Friday</td><td>7</td><td>2005</td></tr>",
                            "<tr><td>Valiant</td><td>2005-08-19</td><td>Friday</td><td>8</td><td>2005</td></tr>",
                            "<tr><td>Flightplan</td><td>2005-09-23</td><td>Friday</td><td>9</td><td>2005</td></tr>",
                            "<tr><td>The Greatest Game Ever Played</td><td>2005-09-30</td><td>Friday</td><td>9</td><td>2005</td></tr>",
                            "<tr><td>Shopgirl</td><td>2005-10-21</td><td>Friday</td><td>10</td><td>2005</td></tr>",
                            "<tr><td>Chicken Little</td><td>2005-11-04</td><td>Friday</td><td>11</td><td>2005</td></tr>",
                            "<tr><td>The Chronicles of Narnia: The Lion, t…</td><td>2005-12-09</td><td>Friday</td><td>12</td><td>2005</td></tr>",
                            "<tr><td>Glory Road</td><td>2006-01-13</td><td>Friday</td><td>1</td><td>2006</td></tr>",
                            "<tr><td>Annapolis</td><td>2006-01-27</td><td>Friday</td><td>1</td><td>2006</td></tr>",
                            "<tr><td>Roving Mars</td><td>2006-01-27</td><td>Friday</td><td>1</td><td>2006</td></tr>",
                            "<tr><td>Eight Below</td><td>2006-02-17</td><td>Friday</td><td>2</td><td>2006</td></tr>",
                            "<tr><td>The Shaggy Dog</td><td>2006-03-10</td><td>Friday</td><td>3</td><td>2006</td></tr>",
                            "<tr><td>Stay Alive</td><td>2006-03-24</td><td>Friday</td><td>3</td><td>2006</td></tr>",
                            "<tr><td>The Wild</td><td>2006-04-14</td><td>Friday</td><td>4</td><td>2006</td></tr>",
                            "<tr><td>Stick It</td><td>2006-04-28</td><td>Friday</td><td>4</td><td>2006</td></tr>",
                            "<tr><td>Goal! The Dream Begins</td><td>2006-05-12</td><td>Friday</td><td>5</td><td>2006</td></tr>",
                            "<tr><td>Cars</td><td>2006-06-09</td><td>Friday</td><td>6</td><td>2006</td></tr>",
                            "<tr><td>Pirates of the Caribbean: Dead Man’…</td><td>2006-07-07</td><td>Friday</td><td>7</td><td>2006</td></tr>",
                            "<tr><td>Step Up</td><td>2006-08-11</td><td>Friday</td><td>8</td><td>2006</td></tr>",
                            "<tr><td>Invincible</td><td>2006-08-25</td><td>Friday</td><td>8</td><td>2006</td></tr>",
                            "<tr><td>The Guardian</td><td>2006-09-29</td><td>Friday</td><td>9</td><td>2006</td></tr>",
                            "<tr><td>The Prestige</td><td>2006-10-20</td><td>Friday</td><td>10</td><td>2006</td></tr>",
                            "<tr><td>Tim Burton&#39;s The Nightmare Before Chr…</td><td>2006-10-20</td><td>Friday</td><td>10</td><td>2006</td></tr>",
                            "<tr><td>The Santa Clause 3: The Escape Clause</td><td>2006-11-03</td><td>Friday</td><td>11</td><td>2006</td></tr>",
                            "<tr><td>Apocalypto</td><td>2006-12-08</td><td>Friday</td><td>12</td><td>2006</td></tr>",
                            "<tr><td>Primeval</td><td>2007-01-12</td><td>Friday</td><td>1</td><td>2007</td></tr>",
                            "<tr><td>Bridge to Terabithia</td><td>2007-02-16</td><td>Friday</td><td>2</td><td>2007</td></tr>",
                            "<tr><td>Wild Hogs</td><td>2007-03-02</td><td>Friday</td><td>3</td><td>2007</td></tr>",
                            "<tr><td>Meet the Robinsons</td><td>2007-03-30</td><td>Friday</td><td>3</td><td>2007</td></tr>",
                            "<tr><td>The Lookout</td><td>2007-03-30</td><td>Friday</td><td>3</td><td>2007</td></tr>",
                            "<tr><td>The Hoax</td><td>2007-04-06</td><td>Friday</td><td>4</td><td>2007</td></tr>",
                            "<tr><td>The Invisible</td><td>2007-04-27</td><td>Friday</td><td>4</td><td>2007</td></tr>",
                            "<tr><td>Ratatouille</td><td>2007-06-29</td><td>Friday</td><td>6</td><td>2007</td></tr>",
                            "<tr><td>Underdog</td><td>2007-08-03</td><td>Friday</td><td>8</td><td>2007</td></tr>",
                            "<tr><td>National Treasure 2: Book of Secrets</td><td>2007-12-21</td><td>Friday</td><td>12</td><td>2007</td></tr>",
                            "<tr><td>Hannah Montana/Miley Cyrus: Best of B…</td><td>2008-02-01</td><td>Friday</td><td>2</td><td>2008</td></tr>",
                            "<tr><td>College Road Trip</td><td>2008-03-07</td><td>Friday</td><td>3</td><td>2008</td></tr>",
                            "<tr><td>The Chronicles of Narnia: Prince Caspian</td><td>2008-05-16</td><td>Friday</td><td>5</td><td>2008</td></tr>",
                            "<tr><td>WALL-E</td><td>2008-06-27</td><td>Friday</td><td>6</td><td>2008</td></tr>",
                            "<tr><td>Swing Vote</td><td>2008-08-01</td><td>Friday</td><td>8</td><td>2008</td></tr>",
                            "<tr><td>Goal! 2: Living the Dream...</td><td>2008-08-29</td><td>Friday</td><td>8</td><td>2008</td></tr>",
                            "<tr><td>Miracle at St. Anna</td><td>2008-09-26</td><td>Friday</td><td>9</td><td>2008</td></tr>",
                            "<tr><td>Beverly Hills Chihuahua</td><td>2008-10-03</td><td>Friday</td><td>10</td><td>2008</td></tr>",
                            "<tr><td>Morning Light</td><td>2008-10-17</td><td>Friday</td><td>10</td><td>2008</td></tr>",
                            "<tr><td>High School Musical 3: Senior Year</td><td>2008-10-24</td><td>Friday</td><td>10</td><td>2008</td></tr>",
                            "<tr><td>Bolt</td><td>2008-11-21</td><td>Friday</td><td>11</td><td>2008</td></tr>",
                            "<tr><td>Confessions of a Shopaholic</td><td>2009-02-13</td><td>Friday</td><td>2</td><td>2009</td></tr>",
                            "<tr><td>Jonas Brothers: The 3D Concert Experi…</td><td>2009-02-27</td><td>Friday</td><td>2</td><td>2009</td></tr>",
                            "<tr><td>Race to Witch Mountain</td><td>2009-03-13</td><td>Friday</td><td>3</td><td>2009</td></tr>",
                            "<tr><td>Hannah Montana the Movie</td><td>2009-04-10</td><td>Friday</td><td>4</td><td>2009</td></tr>",
                            "<tr><td>Up</td><td>2009-05-29</td><td>Friday</td><td>5</td><td>2009</td></tr>",
                            "<tr><td>The Proposal</td><td>2009-06-19</td><td>Friday</td><td>6</td><td>2009</td></tr>",
                            "<tr><td>G-Force</td><td>2009-07-24</td><td>Friday</td><td>7</td><td>2009</td></tr>",
                            "<tr><td>Gake no ue no Ponyo</td><td>2009-08-14</td><td>Friday</td><td>8</td><td>2009</td></tr>",
                            "<tr><td>X Games 3D: The Movie</td><td>2009-08-21</td><td>Friday</td><td>8</td><td>2009</td></tr>",
                            "<tr><td>Surrogates</td><td>2009-09-25</td><td>Friday</td><td>9</td><td>2009</td></tr>",
                            "<tr><td>Toy Story 3D Double Feature</td><td>2009-10-02</td><td>Friday</td><td>10</td><td>2009</td></tr>",
                            "<tr><td>Disney&#39;s A Christmas Carol</td><td>2009-11-06</td><td>Friday</td><td>11</td><td>2009</td></tr>",
                            "<tr><td>When in Rome</td><td>2010-01-29</td><td>Friday</td><td>1</td><td>2010</td></tr>",
                            "<tr><td>Alice in Wonderland</td><td>2010-03-05</td><td>Friday</td><td>3</td><td>2010</td></tr>",
                            "<tr><td>Waking Sleeping Beauty</td><td>2010-03-26</td><td>Friday</td><td>3</td><td>2010</td></tr>",
                            "<tr><td>Prince of Persia: Sands of Time</td><td>2010-05-28</td><td>Friday</td><td>5</td><td>2010</td></tr>",
                            "<tr><td>Toy Story 3</td><td>2010-06-18</td><td>Friday</td><td>6</td><td>2010</td></tr>",
                            "<tr><td>Step Up 3D</td><td>2010-08-06</td><td>Friday</td><td>8</td><td>2010</td></tr>",
                            "<tr><td>Gedo Senki (Tales from Earthsea)</td><td>2010-08-13</td><td>Friday</td><td>8</td><td>2010</td></tr>",
                            "<tr><td>You Again</td><td>2010-09-24</td><td>Friday</td><td>9</td><td>2010</td></tr>",
                            "<tr><td>Secretariat</td><td>2010-10-08</td><td>Friday</td><td>10</td><td>2010</td></tr>",
                            "<tr><td>Tron: Legacy</td><td>2010-12-17</td><td>Friday</td><td>12</td><td>2010</td></tr>",
                            "<tr><td>Gnomeo and Juliet</td><td>2011-02-11</td><td>Friday</td><td>2</td><td>2011</td></tr>",
                            "<tr><td>I am Number Four</td><td>2011-02-18</td><td>Friday</td><td>2</td><td>2011</td></tr>",
                            "<tr><td>Mars Needs Moms</td><td>2011-03-11</td><td>Friday</td><td>3</td><td>2011</td></tr>",
                            "<tr><td>African Cats</td><td>2011-04-22</td><td>Friday</td><td>4</td><td>2011</td></tr>",
                            "<tr><td>Zokkomon</td><td>2011-04-22</td><td>Friday</td><td>4</td><td>2011</td></tr>",
                            "<tr><td>Prom</td><td>2011-04-29</td><td>Friday</td><td>4</td><td>2011</td></tr>",
                            "<tr><td>Pirates of the Caribbean: On Stranger…</td><td>2011-05-20</td><td>Friday</td><td>5</td><td>2011</td></tr>",
                            "<tr><td>Cars 2</td><td>2011-06-24</td><td>Friday</td><td>6</td><td>2011</td></tr>",
                            "<tr><td>Winnie the Pooh</td><td>2011-07-15</td><td>Friday</td><td>7</td><td>2011</td></tr>",
                            "<tr><td>Fright Night</td><td>2011-08-19</td><td>Friday</td><td>8</td><td>2011</td></tr>",
                            "<tr><td>Real Steel</td><td>2011-10-07</td><td>Friday</td><td>10</td><td>2011</td></tr>",
                            "<tr><td>The Secret World of Arietty</td><td>2012-02-17</td><td>Friday</td><td>2</td><td>2012</td></tr>",
                            "<tr><td>John Carter</td><td>2012-03-09</td><td>Friday</td><td>3</td><td>2012</td></tr>",
                            "<tr><td>Chimpanzee</td><td>2012-04-20</td><td>Friday</td><td>4</td><td>2012</td></tr>",
                            "<tr><td>The Avengers</td><td>2012-05-04</td><td>Friday</td><td>5</td><td>2012</td></tr>",
                            "<tr><td>Brave</td><td>2012-06-22</td><td>Friday</td><td>6</td><td>2012</td></tr>",
                            "<tr><td>People Like Us</td><td>2012-06-29</td><td>Friday</td><td>6</td><td>2012</td></tr>",
                            "<tr><td>Frankenweenie</td><td>2012-10-05</td><td>Friday</td><td>10</td><td>2012</td></tr>",
                            "<tr><td>Wreck-It Ralph</td><td>2012-11-02</td><td>Friday</td><td>11</td><td>2012</td></tr>",
                            "<tr><td>Lincoln</td><td>2012-11-09</td><td>Friday</td><td>11</td><td>2012</td></tr>",
                            "<tr><td>Oz the Great and Powerful</td><td>2013-03-08</td><td>Friday</td><td>3</td><td>2013</td></tr>",
                            "<tr><td>Iron Man 3</td><td>2013-05-03</td><td>Friday</td><td>5</td><td>2013</td></tr>",
                            "<tr><td>Monsters University</td><td>2013-06-21</td><td>Friday</td><td>6</td><td>2013</td></tr>",
                            "<tr><td>Disney Planes</td><td>2013-08-09</td><td>Friday</td><td>8</td><td>2013</td></tr>",
                            "<tr><td>The Fifth Estate</td><td>2013-10-18</td><td>Friday</td><td>10</td><td>2013</td></tr>",
                            "<tr><td>Thor: The Dark World</td><td>2013-11-08</td><td>Friday</td><td>11</td><td>2013</td></tr>",
                            "<tr><td>Kaze Tachinu</td><td>2013-11-08</td><td>Friday</td><td>11</td><td>2013</td></tr>",
                            "<tr><td>Frozen</td><td>2013-11-22</td><td>Friday</td><td>11</td><td>2013</td></tr>",
                            "<tr><td>Delivery Man</td><td>2013-11-22</td><td>Friday</td><td>11</td><td>2013</td></tr>",
                            "<tr><td>Saving Mr. Banks</td><td>2013-12-13</td><td>Friday</td><td>12</td><td>2013</td></tr>",
                            "<tr><td>Need for Speed</td><td>2014-03-14</td><td>Friday</td><td>3</td><td>2014</td></tr>",
                            "<tr><td>Muppets Most Wanted</td><td>2014-03-21</td><td>Friday</td><td>3</td><td>2014</td></tr>",
                            "<tr><td>Captain America: The Winter Soldier</td><td>2014-04-04</td><td>Friday</td><td>4</td><td>2014</td></tr>",
                            "<tr><td>Bears</td><td>2014-04-18</td><td>Friday</td><td>4</td><td>2014</td></tr>",
                            "<tr><td>Maleficent</td><td>2014-05-30</td><td>Friday</td><td>5</td><td>2014</td></tr>",
                            "<tr><td>Planes: Fire and Rescue</td><td>2014-07-18</td><td>Friday</td><td>7</td><td>2014</td></tr>",
                            "<tr><td>Guardians of the Galaxy</td><td>2014-08-01</td><td>Friday</td><td>8</td><td>2014</td></tr>",
                            "<tr><td>The Hundred-Foot Journey</td><td>2014-08-08</td><td>Friday</td><td>8</td><td>2014</td></tr>",
                            "<tr><td>Alexander and the Terrible, Horrible,…</td><td>2014-10-10</td><td>Friday</td><td>10</td><td>2014</td></tr>",
                            "<tr><td>Big Hero 6</td><td>2014-11-07</td><td>Friday</td><td>11</td><td>2014</td></tr>",
                            "<tr><td>Strange Magic</td><td>2015-01-23</td><td>Friday</td><td>1</td><td>2015</td></tr>",
                            "<tr><td>McFarland, USA</td><td>2015-02-20</td><td>Friday</td><td>2</td><td>2015</td></tr>",
                            "<tr><td>Cinderella</td><td>2015-03-13</td><td>Friday</td><td>3</td><td>2015</td></tr>",
                            "<tr><td>Monkey Kingdom</td><td>2015-04-17</td><td>Friday</td><td>4</td><td>2015</td></tr>",
                            "<tr><td>Avengers: Age of Ultron</td><td>2015-05-01</td><td>Friday</td><td>5</td><td>2015</td></tr>",
                            "<tr><td>Tomorrowland</td><td>2015-05-22</td><td>Friday</td><td>5</td><td>2015</td></tr>",
                            "<tr><td>Inside Out</td><td>2015-06-19</td><td>Friday</td><td>6</td><td>2015</td></tr>",
                            "<tr><td>Ant-Man</td><td>2015-07-17</td><td>Friday</td><td>7</td><td>2015</td></tr>",
                            "<tr><td>Bridge of Spies</td><td>2015-10-16</td><td>Friday</td><td>10</td><td>2015</td></tr>",
                            "<tr><td>Star Wars Ep. VII: The Force Awakens</td><td>2015-12-18</td><td>Friday</td><td>12</td><td>2015</td></tr>",
                            "<tr><td>The Finest Hours</td><td>2016-01-29</td><td>Friday</td><td>1</td><td>2016</td></tr>",
                            "<tr><td>Zootopia</td><td>2016-03-04</td><td>Friday</td><td>3</td><td>2016</td></tr>",
                            "<tr><td>The Jungle Book</td><td>2016-04-15</td><td>Friday</td><td>4</td><td>2016</td></tr>",
                            "<tr><td>A Beautiful Planet</td><td>2016-04-29</td><td>Friday</td><td>4</td><td>2016</td></tr>",
                            "<tr><td>Captain America: Civil War</td><td>2016-05-06</td><td>Friday</td><td>5</td><td>2016</td></tr>",
                            "<tr><td>Alice Through the Looking Glass</td><td>2016-05-27</td><td>Friday</td><td>5</td><td>2016</td></tr>",
                            "<tr><td>Finding Dory</td><td>2016-06-17</td><td>Friday</td><td>6</td><td>2016</td></tr>",
                            "<tr><td>The BFG</td><td>2016-07-01</td><td>Friday</td><td>7</td><td>2016</td></tr>",
                            "<tr><td>Pete’s Dragon</td><td>2016-08-12</td><td>Friday</td><td>8</td><td>2016</td></tr>",
                            "<tr><td>The Light Between Oceans</td><td>2016-09-02</td><td>Friday</td><td>9</td><td>2016</td></tr>",
                            "<tr><td>Queen of Katwe</td><td>2016-09-23</td><td>Friday</td><td>9</td><td>2016</td></tr>",
                            "<tr><td>Doctor Strange</td><td>2016-11-04</td><td>Friday</td><td>11</td><td>2016</td></tr>",
                            "<tr><td>Rogue One: A Star Wars Story</td><td>2016-12-16</td><td>Friday</td><td>12</td><td>2016</td></tr>",
                            "</table>"
                        ]
                    }
                }
            ],
            "execution_count": 38
        }
    ]
}