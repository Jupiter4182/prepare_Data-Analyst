{
    "metadata": {
        "kernelspec": {
            "name": "SQL",
            "display_name": "SQL",
            "language": "sql"
        },
        "language_info": {
            "name": "sql",
            "version": ""
        }
    },
    "nbformat_minor": 2,
    "nbformat": 4,
    "cells": [
        {
            "cell_type": "code",
            "source": [
                "select year(release_date)year,\r\n",
                "    sum(inflation_adjusted_gross) ,\r\n",
                "    1.0 * sum(inflation_adjusted_gross) / \r\n",
                "    (select sum(inflation_adjusted_gross)\r\n",
                "    from movie_gross where  year(release_date) > 2010) pct ,\r\n",
                "    format(1.0 * sum(inflation_adjusted_gross)/\r\n",
                "     (select sum(inflation_adjusted_gross)\r\n",
                "     from movie_gross where  year(release_date) > 2010),'P') fmt_pct\r\n",
                "     \r\n",
                "     from movie_gross \r\n",
                "     where year(release_date) > 2010\r\n",
                "     group by year(release_date)"
            ],
            "metadata": {
                "azdata_cell_guid": "b87125d4-ac16-4b92-909b-baaf66b1b6ed",
                "language": "sql",
                "tags": [
                    "hide_input"
                ]
            },
            "outputs": [
                {
                    "output_type": "display_data",
                    "data": {
                        "text/html": "(6 rows affected)"
                    },
                    "metadata": {}
                },
                {
                    "output_type": "display_data",
                    "data": {
                        "text/html": "Total execution time: 00:00:00.012"
                    },
                    "metadata": {}
                },
                {
                    "output_type": "execute_result",
                    "execution_count": 17,
                    "data": {
                        "application/vnd.dataresource+json": {
                            "schema": {
                                "fields": [
                                    {
                                        "name": "year"
                                    },
                                    {
                                        "name": "(No column name)"
                                    },
                                    {
                                        "name": "pct"
                                    },
                                    {
                                        "name": "fmt_pct"
                                    }
                                ]
                            },
                            "data": [
                                {
                                    "year": "2011",
                                    "(No column name)": "1172578942",
                                    "pct": "0.10171609450761191",
                                    "fmt_pct": "10.17%"
                                },
                                {
                                    "year": "2012",
                                    "(No column name)": "1537669134",
                                    "pct": "0.13338607180563009",
                                    "fmt_pct": "13.34%"
                                },
                                {
                                    "year": "2013",
                                    "(No column name)": "1887863558",
                                    "pct": "0.16376390638183956",
                                    "fmt_pct": "16.38%"
                                },
                                {
                                    "year": "2014",
                                    "(No column name)": "1560791318",
                                    "pct": "0.13539182013414339",
                                    "fmt_pct": "13.54%"
                                },
                                {
                                    "year": "2015",
                                    "(No column name)": "2495662696",
                                    "pct": "0.21648782316735272",
                                    "fmt_pct": "21.65%"
                                },
                                {
                                    "year": "2016",
                                    "(No column name)": "2873393105",
                                    "pct": "0.24925428400342230",
                                    "fmt_pct": "24.93%"
                                }
                            ]
                        },
                        "text/html": "<table><tr><th>year</th><th>(No column name)</th><th>pct</th><th>fmt_pct</th></tr><tr><td>2011</td><td>1172578942</td><td>0.10171609450761191</td><td>10.17%</td></tr><tr><td>2012</td><td>1537669134</td><td>0.13338607180563009</td><td>13.34%</td></tr><tr><td>2013</td><td>1887863558</td><td>0.16376390638183956</td><td>16.38%</td></tr><tr><td>2014</td><td>1560791318</td><td>0.13539182013414339</td><td>13.54%</td></tr><tr><td>2015</td><td>2495662696</td><td>0.21648782316735272</td><td>21.65%</td></tr><tr><td>2016</td><td>2873393105</td><td>0.24925428400342230</td><td>24.93%</td></tr></table>"
                    },
                    "metadata": {}
                }
            ],
            "execution_count": 17
        },
        {
            "cell_type": "code",
            "source": [
                "with cte as (\r\n",
                "    select year(release_date)year,\r\n",
                "    sum(inflation_adjusted_gross) gross\r\n",
                "    from movie_gross\r\n",
                "    where year(release_date) > 2010 \r\n",
                "    group by year(release_date)\r\n",
                ")\r\n",
                "select year ,gross,\r\n",
                "1.0 * gross/(select sum(gross)from cte), \r\n",
                "format(1.0 * gross/(select sum(gross)from cte),'P' )\r\n",
                "from cte\r\n",
                ""
            ],
            "metadata": {
                "language": "sql",
                "azdata_cell_guid": "45aa85e7-0aa9-4a1a-af4f-4b12c51be72d"
            },
            "outputs": [
                {
                    "output_type": "display_data",
                    "data": {
                        "text/html": "(6 rows affected)"
                    },
                    "metadata": {}
                },
                {
                    "output_type": "display_data",
                    "data": {
                        "text/html": "Total execution time: 00:00:00.009"
                    },
                    "metadata": {}
                },
                {
                    "output_type": "execute_result",
                    "execution_count": 28,
                    "data": {
                        "application/vnd.dataresource+json": {
                            "schema": {
                                "fields": [
                                    {
                                        "name": "year"
                                    },
                                    {
                                        "name": "gross"
                                    },
                                    {
                                        "name": "(No column name)"
                                    },
                                    {
                                        "name": "(No column name)"
                                    }
                                ]
                            },
                            "data": [
                                {
                                    "year": "2011",
                                    "gross": "1172578942",
                                    "(No column name)": "10.17%"
                                },
                                {
                                    "year": "2012",
                                    "gross": "1537669134",
                                    "(No column name)": "13.34%"
                                },
                                {
                                    "year": "2013",
                                    "gross": "1887863558",
                                    "(No column name)": "16.38%"
                                },
                                {
                                    "year": "2014",
                                    "gross": "1560791318",
                                    "(No column name)": "13.54%"
                                },
                                {
                                    "year": "2015",
                                    "gross": "2495662696",
                                    "(No column name)": "21.65%"
                                },
                                {
                                    "year": "2016",
                                    "gross": "2873393105",
                                    "(No column name)": "24.93%"
                                }
                            ]
                        },
                        "text/html": "<table><tr><th>year</th><th>gross</th><th>(No column name)</th><th>(No column name)</th></tr><tr><td>2011</td><td>1172578942</td><td>0.10171609450761191</td><td>10.17%</td></tr><tr><td>2012</td><td>1537669134</td><td>0.13338607180563009</td><td>13.34%</td></tr><tr><td>2013</td><td>1887863558</td><td>0.16376390638183956</td><td>16.38%</td></tr><tr><td>2014</td><td>1560791318</td><td>0.13539182013414339</td><td>13.54%</td></tr><tr><td>2015</td><td>2495662696</td><td>0.21648782316735272</td><td>21.65%</td></tr><tr><td>2016</td><td>2873393105</td><td>0.24925428400342230</td><td>24.93%</td></tr></table>"
                    },
                    "metadata": {}
                }
            ],
            "execution_count": 28
        },
        {
            "cell_type": "code",
            "source": [
                "with cte as (\r\n",
                "\r\n",
                "select movie_title,inflation_adjusted_gross,release_date ,\r\n",
                "CASE\r\n",
                "WHEN inflation_adjusted_gross BETWEEN 0 and 1000000 then '0-1,000,000 THB' \r\n",
                "WHEN inflation_adjusted_gross BETWEEN 1000001 and 50000000 then '1,000,000-50,000,000 THB' \r\n",
                "WHEN inflation_adjusted_gross BETWEEN 50000001 and 100e6 then '50,000,000-100,000,000 THB' \r\n",
                "WHEN inflation_adjusted_gross BETWEEN 100000001 and 500e6 then '100,000,001-500,000,000 THB' \r\n",
                "WHEN inflation_adjusted_gross BETWEEN 501e6 and 1000e6 then '500,000,001-1,000,000,000 THB' \r\n",
                "WHEN inflation_adjusted_gross > 1000e6 then '> 1,000,000,000 THB' \r\n",
                "end as gross\r\n",
                "from movie_gross\r\n",
                ")\r\n",
                "select format(sum(inflation_adjusted_gross),'#,##0'),\r\n",
                "gross,datepart(year,release_date)\r\n",
                " from cte group by gross ,datepart(year,release_date)\r\n",
                "\r\n",
                ""
            ],
            "metadata": {
                "language": "sql",
                "azdata_cell_guid": "9a241eb8-d5e0-470d-ba62-1008f8497b3e"
            },
            "outputs": [
                {
                    "output_type": "display_data",
                    "data": {
                        "text/html": "(143 rows affected)"
                    },
                    "metadata": {}
                },
                {
                    "output_type": "display_data",
                    "data": {
                        "text/html": "Total execution time: 00:00:00.015"
                    },
                    "metadata": {}
                },
                {
                    "output_type": "execute_result",
                    "execution_count": 29,
                    "data": {
                        "application/vnd.dataresource+json": {
                            "schema": {
                                "fields": [
                                    {
                                        "name": "(No column name)"
                                    },
                                    {
                                        "name": "rang"
                                    },
                                    {
                                        "name": "(No column name)"
                                    }
                                ]
                            },
                            "data": [
                                {
                                    "(No column name)": "1937",
                                    "rang": "> 1,000,000,000 THB"
                                },
                                {
                                    "(No column name)": "1940",
                                    "rang": "> 1,000,000,000 THB"
                                },
                                {
                                    "(No column name)": "1946",
                                    "rang": "> 1,000,000,000 THB"
                                },
                                {
                                    "(No column name)": "1950",
                                    "rang": "500,000,001-1,000,000,000 THB"
                                },
                                {
                                    "(No column name)": "1954",
                                    "rang": "500,000,001-1,000,000,000 THB"
                                },
                                {
                                    "(No column name)": "1955",
                                    "rang": "> 1,000,000,000 THB"
                                },
                                {
                                    "(No column name)": "1959",
                                    "rang": "1,000,000-50,000,000 THB"
                                },
                                {
                                    "(No column name)": "1961",
                                    "rang": "> 1,000,000,000 THB"
                                },
                                {
                                    "(No column name)": "1961",
                                    "rang": "100,000,001-500,000,000 THB"
                                },
                                {
                                    "(No column name)": "1962",
                                    "rang": "100,000,001-500,000,000 THB"
                                },
                                {
                                    "(No column name)": "1963",
                                    "rang": "100,000,001-500,000,000 THB"
                                },
                                {
                                    "(No column name)": "1967",
                                    "rang": "500,000,001-1,000,000,000 THB"
                                },
                                {
                                    "(No column name)": "1968",
                                    "rang": "100,000,001-500,000,000 THB"
                                },
                                {
                                    "(No column name)": "1970",
                                    "rang": "100,000,001-500,000,000 THB"
                                },
                                {
                                    "(No column name)": "1971",
                                    "rang": "50,000,000-100,000,000 THB"
                                },
                                {
                                    "(No column name)": "1975",
                                    "rang": "100,000,001-500,000,000 THB"
                                },
                                {
                                    "(No column name)": "1977",
                                    "rang": "0-1,000,000 THB"
                                },
                                {
                                    "(No column name)": "1977",
                                    "rang": "100,000,001-500,000,000 THB"
                                },
                                {
                                    "(No column name)": "1977",
                                    "rang": "50,000,000-100,000,000 THB"
                                },
                                {
                                    "(No column name)": "1979",
                                    "rang": "100,000,001-500,000,000 THB"
                                },
                                {
                                    "(No column name)": "1980",
                                    "rang": "1,000,000-50,000,000 THB"
                                },
                                {
                                    "(No column name)": "1981",
                                    "rang": "0-1,000,000 THB"
                                },
                                {
                                    "(No column name)": "1981",
                                    "rang": "1,000,000-50,000,000 THB"
                                },
                                {
                                    "(No column name)": "1981",
                                    "rang": "100,000,001-500,000,000 THB"
                                },
                                {
                                    "(No column name)": "1982",
                                    "rang": "1,000,000-50,000,000 THB"
                                },
                                {
                                    "(No column name)": "1982",
                                    "rang": "50,000,000-100,000,000 THB"
                                },
                                {
                                    "(No column name)": "1983",
                                    "rang": "1,000,000-50,000,000 THB"
                                },
                                {
                                    "(No column name)": "1983",
                                    "rang": "50,000,000-100,000,000 THB"
                                },
                                {
                                    "(No column name)": "1984",
                                    "rang": "1,000,000-50,000,000 THB"
                                },
                                {
                                    "(No column name)": "1984",
                                    "rang": "100,000,001-500,000,000 THB"
                                },
                                {
                                    "(No column name)": "1985",
                                    "rang": "1,000,000-50,000,000 THB"
                                },
                                {
                                    "(No column name)": "1985",
                                    "rang": "50,000,000-100,000,000 THB"
                                },
                                {
                                    "(No column name)": "1986",
                                    "rang": "1,000,000-50,000,000 THB"
                                },
                                {
                                    "(No column name)": "1986",
                                    "rang": "100,000,001-500,000,000 THB"
                                },
                                {
                                    "(No column name)": "1986",
                                    "rang": "50,000,000-100,000,000 THB"
                                },
                                {
                                    "(No column name)": "1987",
                                    "rang": "1,000,000-50,000,000 THB"
                                },
                                {
                                    "(No column name)": "1987",
                                    "rang": "100,000,001-500,000,000 THB"
                                },
                                {
                                    "(No column name)": "1987",
                                    "rang": "50,000,000-100,000,000 THB"
                                },
                                {
                                    "(No column name)": "1988",
                                    "rang": "1,000,000-50,000,000 THB"
                                },
                                {
                                    "(No column name)": "1988",
                                    "rang": "100,000,001-500,000,000 THB"
                                },
                                {
                                    "(No column name)": "1988",
                                    "rang": "50,000,000-100,000,000 THB"
                                },
                                {
                                    "(No column name)": "1989",
                                    "rang": "1,000,000-50,000,000 THB"
                                },
                                {
                                    "(No column name)": "1989",
                                    "rang": "100,000,001-500,000,000 THB"
                                },
                                {
                                    "(No column name)": "1989",
                                    "rang": "50,000,000-100,000,000 THB"
                                },
                                {
                                    "(No column name)": "1990",
                                    "rang": "1,000,000-50,000,000 THB"
                                },
                                {
                                    "(No column name)": "1990",
                                    "rang": "100,000,001-500,000,000 THB"
                                },
                                {
                                    "(No column name)": "1990",
                                    "rang": "50,000,000-100,000,000 THB"
                                },
                                {
                                    "(No column name)": "1991",
                                    "rang": "1,000,000-50,000,000 THB"
                                },
                                {
                                    "(No column name)": "1991",
                                    "rang": "100,000,001-500,000,000 THB"
                                },
                                {
                                    "(No column name)": "1991",
                                    "rang": "50,000,000-100,000,000 THB"
                                },
                                {
                                    "(No column name)": "1992",
                                    "rang": "1,000,000-50,000,000 THB"
                                },
                                {
                                    "(No column name)": "1992",
                                    "rang": "100,000,001-500,000,000 THB"
                                },
                                {
                                    "(No column name)": "1992",
                                    "rang": "50,000,000-100,000,000 THB"
                                },
                                {
                                    "(No column name)": "1993",
                                    "rang": "1,000,000-50,000,000 THB"
                                },
                                {
                                    "(No column name)": "1993",
                                    "rang": "100,000,001-500,000,000 THB"
                                },
                                {
                                    "(No column name)": "1993",
                                    "rang": "50,000,000-100,000,000 THB"
                                },
                                {
                                    "(No column name)": "1994",
                                    "rang": "0-1,000,000 THB"
                                },
                                {
                                    "(No column name)": "1994",
                                    "rang": "1,000,000-50,000,000 THB"
                                },
                                {
                                    "(No column name)": "1994",
                                    "rang": "100,000,001-500,000,000 THB"
                                },
                                {
                                    "(No column name)": "1994",
                                    "rang": "50,000,000-100,000,000 THB"
                                },
                                {
                                    "(No column name)": "1994",
                                    "rang": "500,000,001-1,000,000,000 THB"
                                },
                                {
                                    "(No column name)": "1995",
                                    "rang": "0-1,000,000 THB"
                                },
                                {
                                    "(No column name)": "1995",
                                    "rang": "1,000,000-50,000,000 THB"
                                },
                                {
                                    "(No column name)": "1995",
                                    "rang": "100,000,001-500,000,000 THB"
                                },
                                {
                                    "(No column name)": "1995",
                                    "rang": "50,000,000-100,000,000 THB"
                                },
                                {
                                    "(No column name)": "1996",
                                    "rang": "0-1,000,000 THB"
                                },
                                {
                                    "(No column name)": "1996",
                                    "rang": "1,000,000-50,000,000 THB"
                                },
                                {
                                    "(No column name)": "1996",
                                    "rang": "100,000,001-500,000,000 THB"
                                },
                                {
                                    "(No column name)": "1996",
                                    "rang": "50,000,000-100,000,000 THB"
                                },
                                {
                                    "(No column name)": "1997",
                                    "rang": "1,000,000-50,000,000 THB"
                                },
                                {
                                    "(No column name)": "1997",
                                    "rang": "100,000,001-500,000,000 THB"
                                },
                                {
                                    "(No column name)": "1997",
                                    "rang": "50,000,000-100,000,000 THB"
                                },
                                {
                                    "(No column name)": "1998",
                                    "rang": "0-1,000,000 THB"
                                },
                                {
                                    "(No column name)": "1998",
                                    "rang": "1,000,000-50,000,000 THB"
                                },
                                {
                                    "(No column name)": "1998",
                                    "rang": "100,000,001-500,000,000 THB"
                                },
                                {
                                    "(No column name)": "1998",
                                    "rang": "50,000,000-100,000,000 THB"
                                },
                                {
                                    "(No column name)": "1999",
                                    "rang": "0-1,000,000 THB"
                                },
                                {
                                    "(No column name)": "1999",
                                    "rang": "1,000,000-50,000,000 THB"
                                },
                                {
                                    "(No column name)": "1999",
                                    "rang": "100,000,001-500,000,000 THB"
                                },
                                {
                                    "(No column name)": "1999",
                                    "rang": "50,000,000-100,000,000 THB"
                                },
                                {
                                    "(No column name)": "2000",
                                    "rang": "1,000,000-50,000,000 THB"
                                },
                                {
                                    "(No column name)": "2000",
                                    "rang": "100,000,001-500,000,000 THB"
                                },
                                {
                                    "(No column name)": "2000",
                                    "rang": "50,000,000-100,000,000 THB"
                                },
                                {
                                    "(No column name)": "2001",
                                    "rang": "0-1,000,000 THB"
                                },
                                {
                                    "(No column name)": "2001",
                                    "rang": "1,000,000-50,000,000 THB"
                                },
                                {
                                    "(No column name)": "2001",
                                    "rang": "100,000,001-500,000,000 THB"
                                },
                                {
                                    "(No column name)": "2001",
                                    "rang": "50,000,000-100,000,000 THB"
                                },
                                {
                                    "(No column name)": "2002",
                                    "rang": "0-1,000,000 THB"
                                },
                                {
                                    "(No column name)": "2002",
                                    "rang": "1,000,000-50,000,000 THB"
                                },
                                {
                                    "(No column name)": "2002",
                                    "rang": "100,000,001-500,000,000 THB"
                                },
                                {
                                    "(No column name)": "2002",
                                    "rang": "50,000,000-100,000,000 THB"
                                },
                                {
                                    "(No column name)": "2003",
                                    "rang": "1,000,000-50,000,000 THB"
                                },
                                {
                                    "(No column name)": "2003",
                                    "rang": "100,000,001-500,000,000 THB"
                                },
                                {
                                    "(No column name)": "2003",
                                    "rang": "50,000,000-100,000,000 THB"
                                },
                                {
                                    "(No column name)": "2003",
                                    "rang": "500,000,001-1,000,000,000 THB"
                                },
                                {
                                    "(No column name)": "2004",
                                    "rang": "0-1,000,000 THB"
                                },
                                {
                                    "(No column name)": "2004",
                                    "rang": "1,000,000-50,000,000 THB"
                                },
                                {
                                    "(No column name)": "2004",
                                    "rang": "100,000,001-500,000,000 THB"
                                },
                                {
                                    "(No column name)": "2004",
                                    "rang": "50,000,000-100,000,000 THB"
                                },
                                {
                                    "(No column name)": "2005",
                                    "rang": "1,000,000-50,000,000 THB"
                                },
                                {
                                    "(No column name)": "2005",
                                    "rang": "100,000,001-500,000,000 THB"
                                },
                                {
                                    "(No column name)": "2005",
                                    "rang": "50,000,000-100,000,000 THB"
                                },
                                {
                                    "(No column name)": "2006",
                                    "rang": "1,000,000-50,000,000 THB"
                                },
                                {
                                    "(No column name)": "2006",
                                    "rang": "100,000,001-500,000,000 THB"
                                },
                                {
                                    "(No column name)": "2006",
                                    "rang": "50,000,000-100,000,000 THB"
                                },
                                {
                                    "(No column name)": "2006",
                                    "rang": "500,000,001-1,000,000,000 THB"
                                },
                                {
                                    "(No column name)": "2007",
                                    "rang": "1,000,000-50,000,000 THB"
                                },
                                {
                                    "(No column name)": "2007",
                                    "rang": "100,000,001-500,000,000 THB"
                                },
                                {
                                    "(No column name)": "2007",
                                    "rang": "50,000,000-100,000,000 THB"
                                },
                                {
                                    "(No column name)": "2008",
                                    "rang": "0-1,000,000 THB"
                                },
                                {
                                    "(No column name)": "2008",
                                    "rang": "1,000,000-50,000,000 THB"
                                },
                                {
                                    "(No column name)": "2008",
                                    "rang": "100,000,001-500,000,000 THB"
                                },
                                {
                                    "(No column name)": "2008",
                                    "rang": "50,000,000-100,000,000 THB"
                                },
                                {
                                    "(No column name)": "2009",
                                    "rang": "0-1,000,000 THB"
                                },
                                {
                                    "(No column name)": "2009",
                                    "rang": "1,000,000-50,000,000 THB"
                                },
                                {
                                    "(No column name)": "2009",
                                    "rang": "100,000,001-500,000,000 THB"
                                },
                                {
                                    "(No column name)": "2009",
                                    "rang": "50,000,000-100,000,000 THB"
                                },
                                {
                                    "(No column name)": "2010",
                                    "rang": "0-1,000,000 THB"
                                },
                                {
                                    "(No column name)": "2010",
                                    "rang": "1,000,000-50,000,000 THB"
                                },
                                {
                                    "(No column name)": "2010",
                                    "rang": "100,000,001-500,000,000 THB"
                                },
                                {
                                    "(No column name)": "2010",
                                    "rang": "50,000,000-100,000,000 THB"
                                },
                                {
                                    "(No column name)": "2011",
                                    "rang": "0-1,000,000 THB"
                                },
                                {
                                    "(No column name)": "2011",
                                    "rang": "1,000,000-50,000,000 THB"
                                },
                                {
                                    "(No column name)": "2011",
                                    "rang": "100,000,001-500,000,000 THB"
                                },
                                {
                                    "(No column name)": "2011",
                                    "rang": "50,000,000-100,000,000 THB"
                                },
                                {
                                    "(No column name)": "2012",
                                    "rang": "1,000,000-50,000,000 THB"
                                },
                                {
                                    "(No column name)": "2012",
                                    "rang": "100,000,001-500,000,000 THB"
                                },
                                {
                                    "(No column name)": "2012",
                                    "rang": "50,000,000-100,000,000 THB"
                                },
                                {
                                    "(No column name)": "2012",
                                    "rang": "500,000,001-1,000,000,000 THB"
                                },
                                {
                                    "(No column name)": "2013",
                                    "rang": "1,000,000-50,000,000 THB"
                                },
                                {
                                    "(No column name)": "2013",
                                    "rang": "100,000,001-500,000,000 THB"
                                },
                                {
                                    "(No column name)": "2013",
                                    "rang": "50,000,000-100,000,000 THB"
                                },
                                {
                                    "(No column name)": "2014",
                                    "rang": "1,000,000-50,000,000 THB"
                                },
                                {
                                    "(No column name)": "2014",
                                    "rang": "100,000,001-500,000,000 THB"
                                },
                                {
                                    "(No column name)": "2014",
                                    "rang": "50,000,000-100,000,000 THB"
                                },
                                {
                                    "(No column name)": "2015",
                                    "rang": "1,000,000-50,000,000 THB"
                                },
                                {
                                    "(No column name)": "2015",
                                    "rang": "100,000,001-500,000,000 THB"
                                },
                                {
                                    "(No column name)": "2015",
                                    "rang": "50,000,000-100,000,000 THB"
                                },
                                {
                                    "(No column name)": "2015",
                                    "rang": "500,000,001-1,000,000,000 THB"
                                },
                                {
                                    "(No column name)": "2016",
                                    "rang": "1,000,000-50,000,000 THB"
                                },
                                {
                                    "(No column name)": "2016",
                                    "rang": "100,000,001-500,000,000 THB"
                                },
                                {
                                    "(No column name)": "2016",
                                    "rang": "50,000,000-100,000,000 THB"
                                },
                                {
                                    "(No column name)": "2016",
                                    "rang": "500,000,001-1,000,000,000 THB"
                                }
                            ]
                        },
                        "text/html": "<table><tr><th>(No column name)</th><th>rang</th><th>(No column name)</th></tr><tr><td>5,228,953,251</td><td>&gt; 1,000,000,000 THB</td><td>1937</td></tr><tr><td>4,375,319,860</td><td>&gt; 1,000,000,000 THB</td><td>1940</td></tr><tr><td>1,078,510,579</td><td>&gt; 1,000,000,000 THB</td><td>1946</td></tr><tr><td>920,608,730</td><td>500,000,001-1,000,000,000 THB</td><td>1950</td></tr><tr><td>528,279,994</td><td>500,000,001-1,000,000,000 THB</td><td>1954</td></tr><tr><td>1,236,035,515</td><td>&gt; 1,000,000,000 THB</td><td>1955</td></tr><tr><td>21,505,832</td><td>1,000,000-50,000,000 THB</td><td>1959</td></tr><tr><td>1,362,870,985</td><td>&gt; 1,000,000,000 THB</td><td>1961</td></tr><tr><td>434,935,734</td><td>100,000,001-500,000,000 THB</td><td>1961</td></tr><tr><td>109,581,646</td><td>100,000,001-500,000,000 THB</td><td>1962</td></tr><tr><td>153,870,834</td><td>100,000,001-500,000,000 THB</td><td>1963</td></tr><tr><td>789,612,346</td><td>500,000,001-1,000,000,000 THB</td><td>1967</td></tr><tr><td>138,612,686</td><td>100,000,001-500,000,000 THB</td><td>1968</td></tr><tr><td>356,362,241</td><td>100,000,001-500,000,000 THB</td><td>1970</td></tr><tr><td>91,305,448</td><td>50,000,000-100,000,000 THB</td><td>1971</td></tr><tr><td>131,246,872</td><td>100,000,001-500,000,000 THB</td><td>1975</td></tr><tr><td>0</td><td>0-1,000,000 THB</td><td>1977</td></tr><tr><td>265,591,441</td><td>100,000,001-500,000,000 THB</td><td>1977</td></tr><tr><td>98,067,733</td><td>50,000,000-100,000,000 THB</td><td>1977</td></tr><tr><td>120,377,374</td><td>100,000,001-500,000,000 THB</td><td>1979</td></tr><tr><td>43,560,212</td><td>1,000,000-50,000,000 THB</td><td>1980</td></tr><tr><td>0</td><td>0-1,000,000 THB</td><td>1981</td></tr><tr><td>48,517,980</td><td>1,000,000-50,000,000 THB</td><td>1981</td></tr><tr><td>133,118,889</td><td>100,000,001-500,000,000 THB</td><td>1981</td></tr><tr><td>33,546,258</td><td>1,000,000-50,000,000 THB</td><td>1982</td></tr><tr><td>77,184,895</td><td>50,000,000-100,000,000 THB</td><td>1982</td></tr><tr><td>29,879,579</td><td>1,000,000-50,000,000 THB</td><td>1983</td></tr><tr><td>70,669,955</td><td>50,000,000-100,000,000 THB</td><td>1983</td></tr><tr><td>21,075,000</td><td>1,000,000-50,000,000 THB</td><td>1984</td></tr><tr><td>157,057,661</td><td>100,000,001-500,000,000 THB</td><td>1984</td></tr><tr><td>122,571,070</td><td>1,000,000-50,000,000 THB</td><td>1985</td></tr><tr><td>50,553,142</td><td>50,000,000-100,000,000 THB</td><td>1985</td></tr><tr><td>101,945,313</td><td>1,000,000-50,000,000 THB</td><td>1986</td></tr><tr><td>421,889,728</td><td>100,000,001-500,000,000 THB</td><td>1986</td></tr><tr><td>53,637,367</td><td>50,000,000-100,000,000 THB</td><td>1986</td></tr><tr><td>76,822,911</td><td>1,000,000-50,000,000 THB</td><td>1987</td></tr><tr><td>863,318,525</td><td>100,000,001-500,000,000 THB</td><td>1987</td></tr><tr><td>246,508,533</td><td>50,000,000-100,000,000 THB</td><td>1987</td></tr><tr><td>87,218,518</td><td>1,000,000-50,000,000 THB</td><td>1988</td></tr><tr><td>699,328,622</td><td>100,000,001-500,000,000 THB</td><td>1988</td></tr><tr><td>200,294,727</td><td>50,000,000-100,000,000 THB</td><td>1988</td></tr><tr><td>159,467,865</td><td>1,000,000-50,000,000 THB</td><td>1989</td></tr><tr><td>852,625,559</td><td>100,000,001-500,000,000 THB</td><td>1989</td></tr><tr><td>85,757,817</td><td>50,000,000-100,000,000 THB</td><td>1989</td></tr><tr><td>297,964,361</td><td>1,000,000-50,000,000 THB</td><td>1990</td></tr><tr><td>813,020,525</td><td>100,000,001-500,000,000 THB</td><td>1990</td></tr><tr><td>115,475,859</td><td>50,000,000-100,000,000 THB</td><td>1990</td></tr><tr><td>255,353,340</td><td>1,000,000-50,000,000 THB</td><td>1991</td></tr><tr><td>670,410,873</td><td>100,000,001-500,000,000 THB</td><td>1991</td></tr><tr><td>295,425,819</td><td>50,000,000-100,000,000 THB</td><td>1991</td></tr><tr><td>228,276,374</td><td>1,000,000-50,000,000 THB</td><td>1992</td></tr><tr><td>1,126,667,115</td><td>100,000,001-500,000,000 THB</td><td>1992</td></tr><tr><td>381,406,372</td><td>50,000,000-100,000,000 THB</td><td>1992</td></tr><tr><td>406,283,654</td><td>1,000,000-50,000,000 THB</td><td>1993</td></tr><tr><td>582,477,147</td><td>100,000,001-500,000,000 THB</td><td>1993</td></tr><tr><td>438,552,179</td><td>50,000,000-100,000,000 THB</td><td>1993</td></tr><tr><td>125,666</td><td>0-1,000,000 THB</td><td>1994</td></tr><tr><td>392,587,595</td><td>1,000,000-50,000,000 THB</td><td>1994</td></tr><tr><td>505,522,063</td><td>100,000,001-500,000,000 THB</td><td>1994</td></tr><tr><td>480,814,585</td><td>50,000,000-100,000,000 THB</td><td>1994</td></tr><tr><td>761,640,898</td><td>500,000,001-1,000,000,000 THB</td><td>1994</td></tr><tr><td>1,475,756</td><td>0-1,000,000 THB</td><td>1995</td></tr><tr><td>414,418,571</td><td>1,000,000-50,000,000 THB</td><td>1995</td></tr><tr><td>1,448,685,164</td><td>100,000,001-500,000,000 THB</td><td>1995</td></tr><tr><td>324,019,552</td><td>50,000,000-100,000,000 THB</td><td>1995</td></tr><tr><td>65,543</td><td>0-1,000,000 THB</td><td>1996</td></tr><tr><td>255,398,458</td><td>1,000,000-50,000,000 THB</td><td>1996</td></tr><tr><td>1,276,580,873</td><td>100,000,001-500,000,000 THB</td><td>1996</td></tr><tr><td>625,194,125</td><td>50,000,000-100,000,000 THB</td><td>1996</td></tr><tr><td>299,077,348</td><td>1,000,000-50,000,000 THB</td><td>1997</td></tr><tr><td>841,533,510</td><td>100,000,001-500,000,000 THB</td><td>1997</td></tr><tr><td>334,237,176</td><td>50,000,000-100,000,000 THB</td><td>1997</td></tr><tr><td>82,277</td><td>0-1,000,000 THB</td><td>1998</td></tr><tr><td>263,321,318</td><td>1,000,000-50,000,000 THB</td><td>1998</td></tr><tr><td>1,743,582,042</td><td>100,000,001-500,000,000 THB</td><td>1998</td></tr><tr><td>182,045,572</td><td>50,000,000-100,000,000 THB</td><td>1998</td></tr><tr><td>676,069</td><td>0-1,000,000 THB</td><td>1999</td></tr><tr><td>208,398,172</td><td>1,000,000-50,000,000 THB</td><td>1999</td></tr><tr><td>1,442,307,119</td><td>100,000,001-500,000,000 THB</td><td>1999</td></tr><tr><td>330,201,439</td><td>50,000,000-100,000,000 THB</td><td>1999</td></tr><tr><td>87,228,388</td><td>1,000,000-50,000,000 THB</td><td>2000</td></tr><tr><td>1,053,198,215</td><td>100,000,001-500,000,000 THB</td><td>2000</td></tr><tr><td>571,249,289</td><td>50,000,000-100,000,000 THB</td><td>2000</td></tr><tr><td>337,782</td><td>0-1,000,000 THB</td><td>2001</td></tr><tr><td>166,354,341</td><td>1,000,000-50,000,000 THB</td><td>2001</td></tr><tr><td>998,185,341</td><td>100,000,001-500,000,000 THB</td><td>2001</td></tr><tr><td>131,414,317</td><td>50,000,000-100,000,000 THB</td><td>2001</td></tr><tr><td>0</td><td>0-1,000,000 THB</td><td>2002</td></tr><tr><td>207,175,082</td><td>1,000,000-50,000,000 THB</td><td>2002</td></tr><tr><td>1,156,178,370</td><td>100,000,001-500,000,000 THB</td><td>2002</td></tr><tr><td>317,246,224</td><td>50,000,000-100,000,000 THB</td><td>2002</td></tr><tr><td>139,825,763</td><td>1,000,000-50,000,000 THB</td><td>2003</td></tr><tr><td>991,533,827</td><td>100,000,001-500,000,000 THB</td><td>2003</td></tr><tr><td>521,736,678</td><td>50,000,000-100,000,000 THB</td><td>2003</td></tr><tr><td>518,148,559</td><td>500,000,001-1,000,000,000 THB</td><td>2003</td></tr><tr><td>1,055,748</td><td>0-1,000,000 THB</td><td>2004</td></tr><tr><td>173,423,343</td><td>1,000,000-50,000,000 THB</td><td>2004</td></tr><tr><td>973,905,061</td><td>100,000,001-500,000,000 THB</td><td>2004</td></tr><tr><td>421,835,008</td><td>50,000,000-100,000,000 THB</td><td>2004</td></tr><tr><td>209,892,442</td><td>1,000,000-50,000,000 THB</td><td>2005</td></tr><tr><td>826,091,654</td><td>100,000,001-500,000,000 THB</td><td>2005</td></tr><tr><td>237,998,543</td><td>50,000,000-100,000,000 THB</td><td>2005</td></tr><tr><td>183,703,973</td><td>1,000,000-50,000,000 THB</td><td>2006</td></tr><tr><td>527,872,488</td><td>100,000,001-500,000,000 THB</td><td>2006</td></tr><tr><td>578,351,160</td><td>50,000,000-100,000,000 THB</td><td>2006</td></tr><tr><td>544,817,142</td><td>500,000,001-1,000,000,000 THB</td><td>2006</td></tr><tr><td>52,603,714</td><td>1,000,000-50,000,000 THB</td><td>2007</td></tr><tr><td>1,592,906,329</td><td>100,000,001-500,000,000 THB</td><td>2007</td></tr><tr><td>111,969,696</td><td>50,000,000-100,000,000 THB</td><td>2007</td></tr><tr><td>587,226</td><td>0-1,000,000 THB</td><td>2008</td></tr><tr><td>28,421,012</td><td>1,000,000-50,000,000 THB</td><td>2008</td></tr><tr><td>908,031,693</td><td>100,000,001-500,000,000 THB</td><td>2008</td></tr><tr><td>198,316,324</td><td>50,000,000-100,000,000 THB</td><td>2008</td></tr><tr><td>23,064</td><td>0-1,000,000 THB</td><td>2009</td></tr><tr><td>220,319,983</td><td>1,000,000-50,000,000 THB</td><td>2009</td></tr><tr><td>919,116,004</td><td>100,000,001-500,000,000 THB</td><td>2009</td></tr><tr><td>220,449,566</td><td>50,000,000-100,000,000 THB</td><td>2009</td></tr><tr><td>138,252</td><td>0-1,000,000 THB</td><td>2010</td></tr><tr><td>128,432,188</td><td>1,000,000-50,000,000 THB</td><td>2010</td></tr><tr><td>1,198,479,561</td><td>100,000,001-500,000,000 THB</td><td>2010</td></tr><tr><td>295,485,158</td><td>50,000,000-100,000,000 THB</td><td>2010</td></tr><tr><td>2,984</td><td>0-1,000,000 THB</td><td>2011</td></tr><tr><td>97,740,371</td><td>1,000,000-50,000,000 THB</td><td>2011</td></tr><tr><td>746,461,309</td><td>100,000,001-500,000,000 THB</td><td>2011</td></tr><tr><td>328,374,278</td><td>50,000,000-100,000,000 THB</td><td>2011</td></tr><tr><td>101,530,793</td><td>1,000,000-50,000,000 THB</td><td>2012</td></tr><tr><td>643,769,730</td><td>100,000,001-500,000,000 THB</td><td>2012</td></tr><tr><td>132,287,387</td><td>50,000,000-100,000,000 THB</td><td>2012</td></tr><tr><td>660,081,224</td><td>500,000,001-1,000,000,000 THB</td><td>2012</td></tr><tr><td>40,528,802</td><td>1,000,000-50,000,000 THB</td><td>2013</td></tr><tr><td>1,574,873,362</td><td>100,000,001-500,000,000 THB</td><td>2013</td></tr><tr><td>272,461,394</td><td>50,000,000-100,000,000 THB</td><td>2013</td></tr><tr><td>100,908,904</td><td>1,000,000-50,000,000 THB</td><td>2014</td></tr><tr><td>1,221,017,512</td><td>100,000,001-500,000,000 THB</td><td>2014</td></tr><tr><td>238,864,902</td><td>50,000,000-100,000,000 THB</td><td>2014</td></tr><tr><td>73,342,180</td><td>1,000,000-50,000,000 THB</td><td>2015</td></tr><tr><td>1,319,908,215</td><td>100,000,001-500,000,000 THB</td><td>2015</td></tr><tr><td>165,750,076</td><td>50,000,000-100,000,000 THB</td><td>2015</td></tr><tr><td>936,662,225</td><td>500,000,001-1,000,000,000 THB</td><td>2015</td></tr><tr><td>56,885,634</td><td>1,000,000-50,000,000 THB</td><td>2016</td></tr><tr><td>2,078,264,233</td><td>100,000,001-500,000,000 THB</td><td>2016</td></tr><tr><td>208,759,302</td><td>50,000,000-100,000,000 THB</td><td>2016</td></tr><tr><td>529,483,936</td><td>500,000,001-1,000,000,000 THB</td><td>2016</td></tr></table>"
                    },
                    "metadata": {}
                }
            ],
            "execution_count": 29
        },
        {
            "cell_type": "code",
            "source": [
                "-- อยากรู้ว่าหนังมากกว่า 1000e6 มีทั้งหมดกี่เรื่อง\r\n",
                "with cte as (\r\n",
                "\r\n",
                "select movie_title,inflation_adjusted_gross,release_date ,\r\n",
                "CASE\r\n",
                "WHEN inflation_adjusted_gross BETWEEN 0 and 1000000 then '0-1,000,000 THB' \r\n",
                "WHEN inflation_adjusted_gross BETWEEN 1000001 and 50000000 then '1,000,000-50,000,000 THB' \r\n",
                "WHEN inflation_adjusted_gross BETWEEN 50000001 and 100e6 then '50,000,000-100,000,000 THB' \r\n",
                "WHEN inflation_adjusted_gross BETWEEN 100000001 and 500e6 then '100,000,001-500,000,000 THB' \r\n",
                "WHEN inflation_adjusted_gross BETWEEN 501e6 and 1000e6 then '500,000,001-1,000,000,000 THB' \r\n",
                "WHEN inflation_adjusted_gross > 1000e6 then '> 1,000,000,000 THB' \r\n",
                "end as gross\r\n",
                "from movie_gross\r\n",
                ")\r\n",
                "select gross , count(*)\r\n",
                "from cte \r\n",
                "group by gross \r\n",
                ""
            ],
            "metadata": {
                "azdata_cell_guid": "de549e22-9f67-49ef-b548-31f8cbf20cce",
                "language": "sql"
            },
            "outputs": [
                {
                    "output_type": "display_data",
                    "data": {
                        "text/html": "(6 rows affected)"
                    },
                    "metadata": {}
                },
                {
                    "output_type": "display_data",
                    "data": {
                        "text/html": "Total execution time: 00:00:00.009"
                    },
                    "metadata": {}
                },
                {
                    "output_type": "execute_result",
                    "execution_count": 34,
                    "data": {
                        "application/vnd.dataresource+json": {
                            "schema": {
                                "fields": [
                                    {
                                        "name": "gross"
                                    },
                                    {
                                        "name": "(No column name)"
                                    }
                                ]
                            },
                            "data": [
                                {
                                    "gross": "> 1,000,000,000 THB",
                                    "(No column name)": "6"
                                },
                                {
                                    "gross": "0-1,000,000 THB",
                                    "(No column name)": "20"
                                },
                                {
                                    "gross": "1,000,000-50,000,000 THB",
                                    "(No column name)": "248"
                                },
                                {
                                    "gross": "100,000,001-500,000,000 THB",
                                    "(No column name)": "164"
                                },
                                {
                                    "gross": "50,000,000-100,000,000 THB",
                                    "(No column name)": "132"
                                },
                                {
                                    "gross": "500,000,001-1,000,000,000 THB",
                                    "(No column name)": "9"
                                }
                            ]
                        },
                        "text/html": "<table><tr><th>gross</th><th>(No column name)</th></tr><tr><td>&gt; 1,000,000,000 THB</td><td>6</td></tr><tr><td>0-1,000,000 THB</td><td>20</td></tr><tr><td>1,000,000-50,000,000 THB</td><td>248</td></tr><tr><td>100,000,001-500,000,000 THB</td><td>164</td></tr><tr><td>50,000,000-100,000,000 THB</td><td>132</td></tr><tr><td>500,000,001-1,000,000,000 THB</td><td>9</td></tr></table>"
                    },
                    "metadata": {}
                }
            ],
            "execution_count": 34
        },
        {
            "cell_type": "code",
            "source": [
                "select inflation_adjusted_gross from movie_gross"
            ],
            "metadata": {
                "language": "sql",
                "azdata_cell_guid": "dc2568a9-77e3-4012-a65a-f20f7feaef3a"
            },
            "outputs": [
                {
                    "output_type": "display_data",
                    "data": {
                        "text/html": "(579 rows affected)"
                    },
                    "metadata": {}
                },
                {
                    "output_type": "display_data",
                    "data": {
                        "text/html": "Total execution time: 00:00:00.008"
                    },
                    "metadata": {}
                },
                {
                    "output_type": "execute_result",
                    "execution_count": 35,
                    "data": {
                        "application/vnd.dataresource+json": {
                            "schema": {
                                "fields": [
                                    {
                                        "name": "inflation_adjusted_gross"
                                    }
                                ]
                            },
                            "data": [
                                {
                                    "inflation_adjusted_gross": "5228953251"
                                },
                                {
                                    "inflation_adjusted_gross": "2188229052"
                                },
                                {
                                    "inflation_adjusted_gross": "2187090808"
                                },
                                {
                                    "inflation_adjusted_gross": "1078510579"
                                },
                                {
                                    "inflation_adjusted_gross": "920608730"
                                },
                                {
                                    "inflation_adjusted_gross": "528279994"
                                },
                                {
                                    "inflation_adjusted_gross": "1236035515"
                                },
                                {
                                    "inflation_adjusted_gross": "21505832"
                                },
                                {
                                    "inflation_adjusted_gross": "1362870985"
                                },
                                {
                                    "inflation_adjusted_gross": "310094574"
                                },
                                {
                                    "inflation_adjusted_gross": "124841160"
                                },
                                {
                                    "inflation_adjusted_gross": "109581646"
                                },
                                {
                                    "inflation_adjusted_gross": "153870834"
                                },
                                {
                                    "inflation_adjusted_gross": "789612346"
                                },
                                {
                                    "inflation_adjusted_gross": "138612686"
                                },
                                {
                                    "inflation_adjusted_gross": "255161499"
                                },
                                {
                                    "inflation_adjusted_gross": "101200742"
                                },
                                {
                                    "inflation_adjusted_gross": "91305448"
                                },
                                {
                                    "inflation_adjusted_gross": "131246872"
                                },
                                {
                                    "inflation_adjusted_gross": "98067733"
                                },
                                {
                                    "inflation_adjusted_gross": "0"
                                },
                                {
                                    "inflation_adjusted_gross": "159743914"
                                },
                                {
                                    "inflation_adjusted_gross": "105847527"
                                },
                                {
                                    "inflation_adjusted_gross": "120377374"
                                },
                                {
                                    "inflation_adjusted_gross": "9088096"
                                },
                                {
                                    "inflation_adjusted_gross": "34472116"
                                },
                                {
                                    "inflation_adjusted_gross": "48517980"
                                },
                                {
                                    "inflation_adjusted_gross": "0"
                                },
                                {
                                    "inflation_adjusted_gross": "133118889"
                                },
                                {
                                    "inflation_adjusted_gross": "0"
                                },
                                {
                                    "inflation_adjusted_gross": "12903059"
                                },
                                {
                                    "inflation_adjusted_gross": "77184895"
                                },
                                {
                                    "inflation_adjusted_gross": "20643199"
                                },
                                {
                                    "inflation_adjusted_gross": "11519089"
                                },
                                {
                                    "inflation_adjusted_gross": "15136765"
                                },
                                {
                                    "inflation_adjusted_gross": "70669955"
                                },
                                {
                                    "inflation_adjusted_gross": "3223725"
                                },
                                {
                                    "inflation_adjusted_gross": "157057661"
                                },
                                {
                                    "inflation_adjusted_gross": "21075000"
                                },
                                {
                                    "inflation_adjusted_gross": "33900697"
                                },
                                {
                                    "inflation_adjusted_gross": "25215934"
                                },
                                {
                                    "inflation_adjusted_gross": "50553142"
                                },
                                {
                                    "inflation_adjusted_gross": "9736051"
                                },
                                {
                                    "inflation_adjusted_gross": "22302956"
                                },
                                {
                                    "inflation_adjusted_gross": "31415432"
                                },
                                {
                                    "inflation_adjusted_gross": "141183693"
                                },
                                {
                                    "inflation_adjusted_gross": "11003932"
                                },
                                {
                                    "inflation_adjusted_gross": "162748712"
                                },
                                {
                                    "inflation_adjusted_gross": "53637367"
                                },
                                {
                                    "inflation_adjusted_gross": "42183197"
                                },
                                {
                                    "inflation_adjusted_gross": "48758184"
                                },
                                {
                                    "inflation_adjusted_gross": "117957323"
                                },
                                {
                                    "inflation_adjusted_gross": "113976921"
                                },
                                {
                                    "inflation_adjusted_gross": "54787202"
                                },
                                {
                                    "inflation_adjusted_gross": "50686462"
                                },
                                {
                                    "inflation_adjusted_gross": "32798382"
                                },
                                {
                                    "inflation_adjusted_gross": "72853569"
                                },
                                {
                                    "inflation_adjusted_gross": "141592160"
                                },
                                {
                                    "inflation_adjusted_gross": "68181300"
                                },
                                {
                                    "inflation_adjusted_gross": "44024529"
                                },
                                {
                                    "inflation_adjusted_gross": "353334607"
                                },
                                {
                                    "inflation_adjusted_gross": "254414837"
                                },
                                {
                                    "inflation_adjusted_gross": "60097074"
                                },
                                {
                                    "inflation_adjusted_gross": "26062188"
                                },
                                {
                                    "inflation_adjusted_gross": "28073384"
                                },
                                {
                                    "inflation_adjusted_gross": "82352451"
                                },
                                {
                                    "inflation_adjusted_gross": "316250084"
                                },
                                {
                                    "inflation_adjusted_gross": "160442289"
                                },
                                {
                                    "inflation_adjusted_gross": "12009960"
                                },
                                {
                                    "inflation_adjusted_gross": "11300331"
                                },
                                {
                                    "inflation_adjusted_gross": "9772655"
                                },
                                {
                                    "inflation_adjusted_gross": "57845202"
                                },
                                {
                                    "inflation_adjusted_gross": "102254492"
                                },
                                {
                                    "inflation_adjusted_gross": "120381757"
                                },
                                {
                                    "inflation_adjusted_gross": "85757817"
                                },
                                {
                                    "inflation_adjusted_gross": "22740861"
                                },
                                {
                                    "inflation_adjusted_gross": "15233465"
                                },
                                {
                                    "inflation_adjusted_gross": "202531517"
                                },
                                {
                                    "inflation_adjusted_gross": "276191669"
                                },
                                {
                                    "inflation_adjusted_gross": "150176361"
                                },
                                {
                                    "inflation_adjusted_gross": "16653473"
                                },
                                {
                                    "inflation_adjusted_gross": "40983414"
                                },
                                {
                                    "inflation_adjusted_gross": "23972012"
                                },
                                {
                                    "inflation_adjusted_gross": "223726012"
                                },
                                {
                                    "inflation_adjusted_gross": "39884640"
                                },
                                {
                                    "inflation_adjusted_gross": "40077147"
                                },
                                {
                                    "inflation_adjusted_gross": "2210321"
                                },
                                {
                                    "inflation_adjusted_gross": "356389765"
                                },
                                {
                                    "inflation_adjusted_gross": "49999822"
                                },
                                {
                                    "inflation_adjusted_gross": "29964452"
                                },
                                {
                                    "inflation_adjusted_gross": "29485923"
                                },
                                {
                                    "inflation_adjusted_gross": "207231621"
                                },
                                {
                                    "inflation_adjusted_gross": "39433357"
                                },
                                {
                                    "inflation_adjusted_gross": "106290270"
                                },
                                {
                                    "inflation_adjusted_gross": "36107823"
                                },
                                {
                                    "inflation_adjusted_gross": "39963460"
                                },
                                {
                                    "inflation_adjusted_gross": "30722056"
                                },
                                {
                                    "inflation_adjusted_gross": "55796728"
                                },
                                {
                                    "inflation_adjusted_gross": "143108869"
                                },
                                {
                                    "inflation_adjusted_gross": "59679131"
                                },
                                {
                                    "inflation_adjusted_gross": "69540672"
                                },
                                {
                                    "inflation_adjusted_gross": "19149495"
                                },
                                {
                                    "inflation_adjusted_gross": "30084149"
                                },
                                {
                                    "inflation_adjusted_gross": "24939118"
                                },
                                {
                                    "inflation_adjusted_gross": "47181395"
                                },
                                {
                                    "inflation_adjusted_gross": "22580472"
                                },
                                {
                                    "inflation_adjusted_gross": "127571325"
                                },
                                {
                                    "inflation_adjusted_gross": "14617333"
                                },
                                {
                                    "inflation_adjusted_gross": "93256673"
                                },
                                {
                                    "inflation_adjusted_gross": "75084021"
                                },
                                {
                                    "inflation_adjusted_gross": "37313540"
                                },
                                {
                                    "inflation_adjusted_gross": "57544453"
                                },
                                {
                                    "inflation_adjusted_gross": "28320147"
                                },
                                {
                                    "inflation_adjusted_gross": "31167691"
                                },
                                {
                                    "inflation_adjusted_gross": "363017667"
                                },
                                {
                                    "inflation_adjusted_gross": "179821881"
                                },
                                {
                                    "inflation_adjusted_gross": "178831137"
                                },
                                {
                                    "inflation_adjusted_gross": "91304495"
                                },
                                {
                                    "inflation_adjusted_gross": "5872667"
                                },
                                {
                                    "inflation_adjusted_gross": "4631720"
                                },
                                {
                                    "inflation_adjusted_gross": "43068356"
                                },
                                {
                                    "inflation_adjusted_gross": "5497481"
                                },
                                {
                                    "inflation_adjusted_gross": "8187848"
                                },
                                {
                                    "inflation_adjusted_gross": "81369058"
                                },
                                {
                                    "inflation_adjusted_gross": "283583472"
                                },
                                {
                                    "inflation_adjusted_gross": "119162518"
                                },
                                {
                                    "inflation_adjusted_gross": "24950752"
                                },
                                {
                                    "inflation_adjusted_gross": "58965304"
                                },
                                {
                                    "inflation_adjusted_gross": "7295423"
                                },
                                {
                                    "inflation_adjusted_gross": "45741576"
                                },
                                {
                                    "inflation_adjusted_gross": "14841352"
                                },
                                {
                                    "inflation_adjusted_gross": "9907922"
                                },
                                {
                                    "inflation_adjusted_gross": "103120810"
                                },
                                {
                                    "inflation_adjusted_gross": "14421454"
                                },
                                {
                                    "inflation_adjusted_gross": "43859823"
                                },
                                {
                                    "inflation_adjusted_gross": "441969178"
                                },
                                {
                                    "inflation_adjusted_gross": "94349900"
                                },
                                {
                                    "inflation_adjusted_gross": "55417615"
                                },
                                {
                                    "inflation_adjusted_gross": "73914543"
                                },
                                {
                                    "inflation_adjusted_gross": "15970955"
                                },
                                {
                                    "inflation_adjusted_gross": "85182343"
                                },
                                {
                                    "inflation_adjusted_gross": "11369541"
                                },
                                {
                                    "inflation_adjusted_gross": "11468231"
                                },
                                {
                                    "inflation_adjusted_gross": "26248558"
                                },
                                {
                                    "inflation_adjusted_gross": "36165012"
                                },
                                {
                                    "inflation_adjusted_gross": "49080505"
                                },
                                {
                                    "inflation_adjusted_gross": "9156084"
                                },
                                {
                                    "inflation_adjusted_gross": "29968953"
                                },
                                {
                                    "inflation_adjusted_gross": "42445058"
                                },
                                {
                                    "inflation_adjusted_gross": "46064723"
                                },
                                {
                                    "inflation_adjusted_gross": "25146538"
                                },
                                {
                                    "inflation_adjusted_gross": "79618610"
                                },
                                {
                                    "inflation_adjusted_gross": "52921433"
                                },
                                {
                                    "inflation_adjusted_gross": "80147079"
                                },
                                {
                                    "inflation_adjusted_gross": "40943541"
                                },
                                {
                                    "inflation_adjusted_gross": "6554384"
                                },
                                {
                                    "inflation_adjusted_gross": "6654819"
                                },
                                {
                                    "inflation_adjusted_gross": "66768171"
                                },
                                {
                                    "inflation_adjusted_gross": "2127496"
                                },
                                {
                                    "inflation_adjusted_gross": "46919256"
                                },
                                {
                                    "inflation_adjusted_gross": "140392731"
                                },
                                {
                                    "inflation_adjusted_gross": "100026637"
                                },
                                {
                                    "inflation_adjusted_gross": "109310377"
                                },
                                {
                                    "inflation_adjusted_gross": "116965668"
                                },
                                {
                                    "inflation_adjusted_gross": "115781734"
                                },
                                {
                                    "inflation_adjusted_gross": "42940186"
                                },
                                {
                                    "inflation_adjusted_gross": "7168577"
                                },
                                {
                                    "inflation_adjusted_gross": "42610902"
                                },
                                {
                                    "inflation_adjusted_gross": "5170709"
                                },
                                {
                                    "inflation_adjusted_gross": "63170804"
                                },
                                {
                                    "inflation_adjusted_gross": "19116981"
                                },
                                {
                                    "inflation_adjusted_gross": "23401275"
                                },
                                {
                                    "inflation_adjusted_gross": "94226333"
                                },
                                {
                                    "inflation_adjusted_gross": "1473665"
                                },
                                {
                                    "inflation_adjusted_gross": "18083994"
                                },
                                {
                                    "inflation_adjusted_gross": "18316030"
                                },
                                {
                                    "inflation_adjusted_gross": "103354194"
                                },
                                {
                                    "inflation_adjusted_gross": "24267154"
                                },
                                {
                                    "inflation_adjusted_gross": "49945474"
                                },
                                {
                                    "inflation_adjusted_gross": "761640898"
                                },
                                {
                                    "inflation_adjusted_gross": "63651027"
                                },
                                {
                                    "inflation_adjusted_gross": "103798152"
                                },
                                {
                                    "inflation_adjusted_gross": "59673787"
                                },
                                {
                                    "inflation_adjusted_gross": "40804816"
                                },
                                {
                                    "inflation_adjusted_gross": "21576332"
                                },
                                {
                                    "inflation_adjusted_gross": "125666"
                                },
                                {
                                    "inflation_adjusted_gross": "7035189"
                                },
                                {
                                    "inflation_adjusted_gross": "50840394"
                                },
                                {
                                    "inflation_adjusted_gross": "34048315"
                                },
                                {
                                    "inflation_adjusted_gross": "12042634"
                                },
                                {
                                    "inflation_adjusted_gross": "17727017"
                                },
                                {
                                    "inflation_adjusted_gross": "6858345"
                                },
                                {
                                    "inflation_adjusted_gross": "298369717"
                                },
                                {
                                    "inflation_adjusted_gross": "60321919"
                                },
                                {
                                    "inflation_adjusted_gross": "88930321"
                                },
                                {
                                    "inflation_adjusted_gross": "51016522"
                                },
                                {
                                    "inflation_adjusted_gross": "6829092"
                                },
                                {
                                    "inflation_adjusted_gross": "9857435"
                                },
                                {
                                    "inflation_adjusted_gross": "14641561"
                                },
                                {
                                    "inflation_adjusted_gross": "34245779"
                                },
                                {
                                    "inflation_adjusted_gross": "77573459"
                                },
                                {
                                    "inflation_adjusted_gross": "23404369"
                                },
                                {
                                    "inflation_adjusted_gross": "15983331"
                                },
                                {
                                    "inflation_adjusted_gross": "907414"
                                },
                                {
                                    "inflation_adjusted_gross": "4770461"
                                },
                                {
                                    "inflation_adjusted_gross": "1025425"
                                },
                                {
                                    "inflation_adjusted_gross": "68479579"
                                },
                                {
                                    "inflation_adjusted_gross": "157082900"
                                },
                                {
                                    "inflation_adjusted_gross": "177102077"
                                },
                                {
                                    "inflation_adjusted_gross": "29934306"
                                },
                                {
                                    "inflation_adjusted_gross": "274370957"
                                },
                                {
                                    "inflation_adjusted_gross": "67222776"
                                },
                                {
                                    "inflation_adjusted_gross": "47809421"
                                },
                                {
                                    "inflation_adjusted_gross": "164552293"
                                },
                                {
                                    "inflation_adjusted_gross": "25981285"
                                },
                                {
                                    "inflation_adjusted_gross": "11167895"
                                },
                                {
                                    "inflation_adjusted_gross": "15365850"
                                },
                                {
                                    "inflation_adjusted_gross": "34372339"
                                },
                                {
                                    "inflation_adjusted_gross": "46741467"
                                },
                                {
                                    "inflation_adjusted_gross": "20075033"
                                },
                                {
                                    "inflation_adjusted_gross": "568342"
                                },
                                {
                                    "inflation_adjusted_gross": "59727216"
                                },
                                {
                                    "inflation_adjusted_gross": "370409631"
                                },
                                {
                                    "inflation_adjusted_gross": "147658438"
                                },
                                {
                                    "inflation_adjusted_gross": "26302005"
                                },
                                {
                                    "inflation_adjusted_gross": "45911517"
                                },
                                {
                                    "inflation_adjusted_gross": "157508868"
                                },
                                {
                                    "inflation_adjusted_gross": "19509726"
                                },
                                {
                                    "inflation_adjusted_gross": "65470567"
                                },
                                {
                                    "inflation_adjusted_gross": "24422334"
                                },
                                {
                                    "inflation_adjusted_gross": "16482589"
                                },
                                {
                                    "inflation_adjusted_gross": "97356578"
                                },
                                {
                                    "inflation_adjusted_gross": "62384706"
                                },
                                {
                                    "inflation_adjusted_gross": "2057055"
                                },
                                {
                                    "inflation_adjusted_gross": "1963937"
                                },
                                {
                                    "inflation_adjusted_gross": "55159783"
                                },
                                {
                                    "inflation_adjusted_gross": "17623615"
                                },
                                {
                                    "inflation_adjusted_gross": "11171714"
                                },
                                {
                                    "inflation_adjusted_gross": "41826566"
                                },
                                {
                                    "inflation_adjusted_gross": "51373912"
                                },
                                {
                                    "inflation_adjusted_gross": "59828966"
                                },
                                {
                                    "inflation_adjusted_gross": "255702705"
                                },
                                {
                                    "inflation_adjusted_gross": "190988799"
                                },
                                {
                                    "inflation_adjusted_gross": "199559799"
                                },
                                {
                                    "inflation_adjusted_gross": "36009655"
                                },
                                {
                                    "inflation_adjusted_gross": "111792852"
                                },
                                {
                                    "inflation_adjusted_gross": "50465108"
                                },
                                {
                                    "inflation_adjusted_gross": "16284619"
                                },
                                {
                                    "inflation_adjusted_gross": "43713554"
                                },
                                {
                                    "inflation_adjusted_gross": "24333094"
                                },
                                {
                                    "inflation_adjusted_gross": "259807820"
                                },
                                {
                                    "inflation_adjusted_gross": "65543"
                                },
                                {
                                    "inflation_adjusted_gross": "258728898"
                                },
                                {
                                    "inflation_adjusted_gross": "91076877"
                                },
                                {
                                    "inflation_adjusted_gross": "92077628"
                                },
                                {
                                    "inflation_adjusted_gross": "58804106"
                                },
                                {
                                    "inflation_adjusted_gross": "1085093"
                                },
                                {
                                    "inflation_adjusted_gross": "3957025"
                                },
                                {
                                    "inflation_adjusted_gross": "33613158"
                                },
                                {
                                    "inflation_adjusted_gross": "110058379"
                                },
                                {
                                    "inflation_adjusted_gross": "27117599"
                                },
                                {
                                    "inflation_adjusted_gross": "51579764"
                                },
                                {
                                    "inflation_adjusted_gross": "53693680"
                                },
                                {
                                    "inflation_adjusted_gross": "36265379"
                                },
                                {
                                    "inflation_adjusted_gross": "185712664"
                                },
                                {
                                    "inflation_adjusted_gross": "182029412"
                                },
                                {
                                    "inflation_adjusted_gross": "193326632"
                                },
                                {
                                    "inflation_adjusted_gross": "81692095"
                                },
                                {
                                    "inflation_adjusted_gross": "45266588"
                                },
                                {
                                    "inflation_adjusted_gross": "88467531"
                                },
                                {
                                    "inflation_adjusted_gross": "14561324"
                                },
                                {
                                    "inflation_adjusted_gross": "3257546"
                                },
                                {
                                    "inflation_adjusted_gross": "28371890"
                                },
                                {
                                    "inflation_adjusted_gross": "7652965"
                                },
                                {
                                    "inflation_adjusted_gross": "170406423"
                                },
                                {
                                    "inflation_adjusted_gross": "48546161"
                                },
                                {
                                    "inflation_adjusted_gross": "39145784"
                                },
                                {
                                    "inflation_adjusted_gross": "10236836"
                                },
                                {
                                    "inflation_adjusted_gross": "20136775"
                                },
                                {
                                    "inflation_adjusted_gross": "13608633"
                                },
                                {
                                    "inflation_adjusted_gross": "82277"
                                },
                                {
                                    "inflation_adjusted_gross": "7829877"
                                },
                                {
                                    "inflation_adjusted_gross": "38766948"
                                },
                                {
                                    "inflation_adjusted_gross": "135497531"
                                },
                                {
                                    "inflation_adjusted_gross": "133620516"
                                },
                                {
                                    "inflation_adjusted_gross": "216807832"
                                },
                                {
                                    "inflation_adjusted_gross": "362324957"
                                },
                                {
                                    "inflation_adjusted_gross": "35668055"
                                },
                                {
                                    "inflation_adjusted_gross": "119185667"
                                },
                                {
                                    "inflation_adjusted_gross": "1409943"
                                },
                                {
                                    "inflation_adjusted_gross": "32809442"
                                },
                                {
                                    "inflation_adjusted_gross": "21694605"
                                },
                                {
                                    "inflation_adjusted_gross": "41062682"
                                },
                                {
                                    "inflation_adjusted_gross": "288691833"
                                },
                                {
                                    "inflation_adjusted_gross": "21941840"
                                },
                                {
                                    "inflation_adjusted_gross": "288981698"
                                },
                                {
                                    "inflation_adjusted_gross": "198472008"
                                },
                                {
                                    "inflation_adjusted_gross": "28392518"
                                },
                                {
                                    "inflation_adjusted_gross": "94139530"
                                },
                                {
                                    "inflation_adjusted_gross": "87906042"
                                },
                                {
                                    "inflation_adjusted_gross": "61150849"
                                },
                                {
                                    "inflation_adjusted_gross": "46145331"
                                },
                                {
                                    "inflation_adjusted_gross": "32228598"
                                },
                                {
                                    "inflation_adjusted_gross": "63354375"
                                },
                                {
                                    "inflation_adjusted_gross": "380218"
                                },
                                {
                                    "inflation_adjusted_gross": "56595842"
                                },
                                {
                                    "inflation_adjusted_gross": "283900254"
                                },
                                {
                                    "inflation_adjusted_gross": "32007656"
                                },
                                {
                                    "inflation_adjusted_gross": "161610341"
                                },
                                {
                                    "inflation_adjusted_gross": "485424724"
                                },
                                {
                                    "inflation_adjusted_gross": "54262148"
                                },
                                {
                                    "inflation_adjusted_gross": "295851"
                                },
                                {
                                    "inflation_adjusted_gross": "7566363"
                                },
                                {
                                    "inflation_adjusted_gross": "14755189"
                                },
                                {
                                    "inflation_adjusted_gross": "10111144"
                                },
                                {
                                    "inflation_adjusted_gross": "47794214"
                                },
                                {
                                    "inflation_adjusted_gross": "404450426"
                                },
                                {
                                    "inflation_adjusted_gross": "4609153"
                                },
                                {
                                    "inflation_adjusted_gross": "106921374"
                                },
                                {
                                    "inflation_adjusted_gross": "94838225"
                                },
                                {
                                    "inflation_adjusted_gross": "13180524"
                                },
                                {
                                    "inflation_adjusted_gross": "94852354"
                                },
                                {
                                    "inflation_adjusted_gross": "2562155"
                                },
                                {
                                    "inflation_adjusted_gross": "71228678"
                                },
                                {
                                    "inflation_adjusted_gross": "95208344"
                                },
                                {
                                    "inflation_adjusted_gross": "42661516"
                                },
                                {
                                    "inflation_adjusted_gross": "57925202"
                                },
                                {
                                    "inflation_adjusted_gross": "215438985"
                                },
                                {
                                    "inflation_adjusted_gross": "89042541"
                                },
                                {
                                    "inflation_adjusted_gross": "158970411"
                                },
                                {
                                    "inflation_adjusted_gross": "14238144"
                                },
                                {
                                    "inflation_adjusted_gross": "108993148"
                                },
                                {
                                    "inflation_adjusted_gross": "95070168"
                                },
                                {
                                    "inflation_adjusted_gross": "20362201"
                                },
                                {
                                    "inflation_adjusted_gross": "7404372"
                                },
                                {
                                    "inflation_adjusted_gross": "180742479"
                                },
                                {
                                    "inflation_adjusted_gross": "148208901"
                                },
                                {
                                    "inflation_adjusted_gross": "104055039"
                                },
                                {
                                    "inflation_adjusted_gross": "136789252"
                                },
                                {
                                    "inflation_adjusted_gross": "67922002"
                                },
                                {
                                    "inflation_adjusted_gross": "44418589"
                                },
                                {
                                    "inflation_adjusted_gross": "54656124"
                                },
                                {
                                    "inflation_adjusted_gross": "7114869"
                                },
                                {
                                    "inflation_adjusted_gross": "295705112"
                                },
                                {
                                    "inflation_adjusted_gross": "125188122"
                                },
                                {
                                    "inflation_adjusted_gross": "25214223"
                                },
                                {
                                    "inflation_adjusted_gross": "161218928"
                                },
                                {
                                    "inflation_adjusted_gross": "7450434"
                                },
                                {
                                    "inflation_adjusted_gross": "25749730"
                                },
                                {
                                    "inflation_adjusted_gross": "35705805"
                                },
                                {
                                    "inflation_adjusted_gross": "337782"
                                },
                                {
                                    "inflation_adjusted_gross": "416073179"
                                },
                                {
                                    "inflation_adjusted_gross": "20700691"
                                },
                                {
                                    "inflation_adjusted_gross": "76758193"
                                },
                                {
                                    "inflation_adjusted_gross": "36980311"
                                },
                                {
                                    "inflation_adjusted_gross": "0"
                                },
                                {
                                    "inflation_adjusted_gross": "117745317"
                                },
                                {
                                    "inflation_adjusted_gross": "78682079"
                                },
                                {
                                    "inflation_adjusted_gross": "70269715"
                                },
                                {
                                    "inflation_adjusted_gross": "62480631"
                                },
                                {
                                    "inflation_adjusted_gross": "14797862"
                                },
                                {
                                    "inflation_adjusted_gross": "109691666"
                                },
                                {
                                    "inflation_adjusted_gross": "10537188"
                                },
                                {
                                    "inflation_adjusted_gross": "6089874"
                                },
                                {
                                    "inflation_adjusted_gross": "43756218"
                                },
                                {
                                    "inflation_adjusted_gross": "211506702"
                                },
                                {
                                    "inflation_adjusted_gross": "24650121"
                                },
                                {
                                    "inflation_adjusted_gross": "330754439"
                                },
                                {
                                    "inflation_adjusted_gross": "14338992"
                                },
                                {
                                    "inflation_adjusted_gross": "184521151"
                                },
                                {
                                    "inflation_adjusted_gross": "9909094"
                                },
                                {
                                    "inflation_adjusted_gross": "27789959"
                                },
                                {
                                    "inflation_adjusted_gross": "201959095"
                                },
                                {
                                    "inflation_adjusted_gross": "55189145"
                                },
                                {
                                    "inflation_adjusted_gross": "50624654"
                                },
                                {
                                    "inflation_adjusted_gross": "18325463"
                                },
                                {
                                    "inflation_adjusted_gross": "73793522"
                                },
                                {
                                    "inflation_adjusted_gross": "84537962"
                                },
                                {
                                    "inflation_adjusted_gross": "66966883"
                                },
                                {
                                    "inflation_adjusted_gross": "185481530"
                                },
                                {
                                    "inflation_adjusted_gross": "32298812"
                                },
                                {
                                    "inflation_adjusted_gross": "23803108"
                                },
                                {
                                    "inflation_adjusted_gross": "94203395"
                                },
                                {
                                    "inflation_adjusted_gross": "59743191"
                                },
                                {
                                    "inflation_adjusted_gross": "518148559"
                                },
                                {
                                    "inflation_adjusted_gross": "426967926"
                                },
                                {
                                    "inflation_adjusted_gross": "154090360"
                                },
                                {
                                    "inflation_adjusted_gross": "81547672"
                                },
                                {
                                    "inflation_adjusted_gross": "29895090"
                                },
                                {
                                    "inflation_adjusted_gross": "60944053"
                                },
                                {
                                    "inflation_adjusted_gross": "2194759"
                                },
                                {
                                    "inflation_adjusted_gross": "119218333"
                                },
                                {
                                    "inflation_adjusted_gross": "105775678"
                                },
                                {
                                    "inflation_adjusted_gross": "42379650"
                                },
                                {
                                    "inflation_adjusted_gross": "9254344"
                                },
                                {
                                    "inflation_adjusted_gross": "8812764"
                                },
                                {
                                    "inflation_adjusted_gross": "87392478"
                                },
                                {
                                    "inflation_adjusted_gross": "39816568"
                                },
                                {
                                    "inflation_adjusted_gross": "91340921"
                                },
                                {
                                    "inflation_adjusted_gross": "53881593"
                                },
                                {
                                    "inflation_adjusted_gross": "67910166"
                                },
                                {
                                    "inflation_adjusted_gross": "30416359"
                                },
                                {
                                    "inflation_adjusted_gross": "50886144"
                                },
                                {
                                    "inflation_adjusted_gross": "32585356"
                                },
                                {
                                    "inflation_adjusted_gross": "426246"
                                },
                                {
                                    "inflation_adjusted_gross": "70423706"
                                },
                                {
                                    "inflation_adjusted_gross": "155021748"
                                },
                                {
                                    "inflation_adjusted_gross": "129164207"
                                },
                                {
                                    "inflation_adjusted_gross": "29593641"
                                },
                                {
                                    "inflation_adjusted_gross": "629502"
                                },
                                {
                                    "inflation_adjusted_gross": "101161045"
                                },
                                {
                                    "inflation_adjusted_gross": "354488708"
                                },
                                {
                                    "inflation_adjusted_gross": "234069353"
                                },
                                {
                                    "inflation_adjusted_gross": "32198655"
                                },
                                {
                                    "inflation_adjusted_gross": "11740942"
                                },
                                {
                                    "inflation_adjusted_gross": "23801835"
                                },
                                {
                                    "inflation_adjusted_gross": "148619029"
                                },
                                {
                                    "inflation_adjusted_gross": "32064685"
                                },
                                {
                                    "inflation_adjusted_gross": "28716947"
                                },
                                {
                                    "inflation_adjusted_gross": "67096891"
                                },
                                {
                                    "inflation_adjusted_gross": "6194870"
                                },
                                {
                                    "inflation_adjusted_gross": "86812798"
                                },
                                {
                                    "inflation_adjusted_gross": "33500491"
                                },
                                {
                                    "inflation_adjusted_gross": "84088854"
                                },
                                {
                                    "inflation_adjusted_gross": "25616292"
                                },
                                {
                                    "inflation_adjusted_gross": "117960425"
                                },
                                {
                                    "inflation_adjusted_gross": "20162672"
                                },
                                {
                                    "inflation_adjusted_gross": "13519621"
                                },
                                {
                                    "inflation_adjusted_gross": "177954661"
                                },
                                {
                                    "inflation_adjusted_gross": "381557539"
                                },
                                {
                                    "inflation_adjusted_gross": "14574087"
                                },
                                {
                                    "inflation_adjusted_gross": "54888236"
                                },
                                {
                                    "inflation_adjusted_gross": "22044113"
                                },
                                {
                                    "inflation_adjusted_gross": "12948025"
                                },
                                {
                                    "inflation_adjusted_gross": "105037235"
                                },
                                {
                                    "inflation_adjusted_gross": "78667428"
                                },
                                {
                                    "inflation_adjusted_gross": "29712825"
                                },
                                {
                                    "inflation_adjusted_gross": "48114115"
                                },
                                {
                                    "inflation_adjusted_gross": "34634731"
                                },
                                {
                                    "inflation_adjusted_gross": "5512647"
                                },
                                {
                                    "inflation_adjusted_gross": "314140384"
                                },
                                {
                                    "inflation_adjusted_gross": "544817142"
                                },
                                {
                                    "inflation_adjusted_gross": "84078780"
                                },
                                {
                                    "inflation_adjusted_gross": "74398864"
                                },
                                {
                                    "inflation_adjusted_gross": "70801353"
                                },
                                {
                                    "inflation_adjusted_gross": "68289913"
                                },
                                {
                                    "inflation_adjusted_gross": "30737517"
                                },
                                {
                                    "inflation_adjusted_gross": "108694869"
                                },
                                {
                                    "inflation_adjusted_gross": "82267038"
                                },
                                {
                                    "inflation_adjusted_gross": "64959548"
                                },
                                {
                                    "inflation_adjusted_gross": "12985302"
                                },
                                {
                                    "inflation_adjusted_gross": "100760721"
                                },
                                {
                                    "inflation_adjusted_gross": "206110533"
                                },
                                {
                                    "inflation_adjusted_gross": "119860589"
                                },
                                {
                                    "inflation_adjusted_gross": "5637048"
                                },
                                {
                                    "inflation_adjusted_gross": "8779196"
                                },
                                {
                                    "inflation_adjusted_gross": "25202168"
                                },
                                {
                                    "inflation_adjusted_gross": "379129960"
                                },
                                {
                                    "inflation_adjusted_gross": "252955933"
                                },
                                {
                                    "inflation_adjusted_gross": "53619462"
                                },
                                {
                                    "inflation_adjusted_gross": "111010758"
                                },
                                {
                                    "inflation_adjusted_gross": "58350234"
                                },
                                {
                                    "inflation_adjusted_gross": "156074310"
                                },
                                {
                                    "inflation_adjusted_gross": "267003525"
                                },
                                {
                                    "inflation_adjusted_gross": "76646993"
                                },
                                {
                                    "inflation_adjusted_gross": "68118371"
                                },
                                {
                                    "inflation_adjusted_gross": "53550960"
                                },
                                {
                                    "inflation_adjusted_gross": "166277038"
                                },
                                {
                                    "inflation_adjusted_gross": "262771918"
                                },
                                {
                                    "inflation_adjusted_gross": "19125841"
                                },
                                {
                                    "inflation_adjusted_gross": "264247"
                                },
                                {
                                    "inflation_adjusted_gross": "9295171"
                                },
                                {
                                    "inflation_adjusted_gross": "110932022"
                                },
                                {
                                    "inflation_adjusted_gross": "322979"
                                },
                                {
                                    "inflation_adjusted_gross": "106308538"
                                },
                                {
                                    "inflation_adjusted_gross": "133702498"
                                },
                                {
                                    "inflation_adjusted_gross": "128039679"
                                },
                                {
                                    "inflation_adjusted_gross": "49767744"
                                },
                                {
                                    "inflation_adjusted_gross": "38174685"
                                },
                                {
                                    "inflation_adjusted_gross": "75501997"
                                },
                                {
                                    "inflation_adjusted_gross": "89443640"
                                },
                                {
                                    "inflation_adjusted_gross": "35981010"
                                },
                                {
                                    "inflation_adjusted_gross": "329336681"
                                },
                                {
                                    "inflation_adjusted_gross": "184288829"
                                },
                                {
                                    "inflation_adjusted_gross": "134246932"
                                },
                                {
                                    "inflation_adjusted_gross": "16961607"
                                },
                                {
                                    "inflation_adjusted_gross": "1563976"
                                },
                                {
                                    "inflation_adjusted_gross": "23064"
                                },
                                {
                                    "inflation_adjusted_gross": "43361416"
                                },
                                {
                                    "inflation_adjusted_gross": "34509545"
                                },
                                {
                                    "inflation_adjusted_gross": "154927105"
                                },
                                {
                                    "inflation_adjusted_gross": "116316457"
                                },
                                {
                                    "inflation_adjusted_gross": "55503929"
                                },
                                {
                                    "inflation_adjusted_gross": "34917330"
                                },
                                {
                                    "inflation_adjusted_gross": "357063499"
                                },
                                {
                                    "inflation_adjusted_gross": "86264"
                                },
                                {
                                    "inflation_adjusted_gross": "67258772"
                                },
                                {
                                    "inflation_adjusted_gross": "20751600"
                                },
                                {
                                    "inflation_adjusted_gross": "96971361"
                                },
                                {
                                    "inflation_adjusted_gross": "443408255"
                                },
                                {
                                    "inflation_adjusted_gross": "67473105"
                                },
                                {
                                    "inflation_adjusted_gross": "45302137"
                                },
                                {
                                    "inflation_adjusted_gross": "51988"
                                },
                                {
                                    "inflation_adjusted_gross": "27461121"
                                },
                                {
                                    "inflation_adjusted_gross": "63781920"
                                },
                                {
                                    "inflation_adjusted_gross": "214388548"
                                },
                                {
                                    "inflation_adjusted_gross": "183619259"
                                },
                                {
                                    "inflation_adjusted_gross": "106270797"
                                },
                                {
                                    "inflation_adjusted_gross": "58574607"
                                },
                                {
                                    "inflation_adjusted_gross": "22741603"
                                },
                                {
                                    "inflation_adjusted_gross": "16401551"
                                },
                                {
                                    "inflation_adjusted_gross": "2984"
                                },
                                {
                                    "inflation_adjusted_gross": "10768946"
                                },
                                {
                                    "inflation_adjusted_gross": "256263359"
                                },
                                {
                                    "inflation_adjusted_gross": "203522177"
                                },
                                {
                                    "inflation_adjusted_gross": "28375869"
                                },
                                {
                                    "inflation_adjusted_gross": "180404976"
                                },
                                {
                                    "inflation_adjusted_gross": "19452402"
                                },
                                {
                                    "inflation_adjusted_gross": "90848019"
                                },
                                {
                                    "inflation_adjusted_gross": "94189503"
                                },
                                {
                                    "inflation_adjusted_gross": "84762149"
                                },
                                {
                                    "inflation_adjusted_gross": "20325733"
                                },
                                {
                                    "inflation_adjusted_gross": "77372445"
                                },
                                {
                                    "inflation_adjusted_gross": "30675725"
                                },
                                {
                                    "inflation_adjusted_gross": "660081224"
                                },
                                {
                                    "inflation_adjusted_gross": "251292441"
                                },
                                {
                                    "inflation_adjusted_gross": "13165822"
                                },
                                {
                                    "inflation_adjusted_gross": "54914942"
                                },
                                {
                                    "inflation_adjusted_gross": "37363513"
                                },
                                {
                                    "inflation_adjusted_gross": "200354959"
                                },
                                {
                                    "inflation_adjusted_gross": "192122330"
                                },
                                {
                                    "inflation_adjusted_gross": "243434130"
                                },
                                {
                                    "inflation_adjusted_gross": "424084233"
                                },
                                {
                                    "inflation_adjusted_gross": "278395641"
                                },
                                {
                                    "inflation_adjusted_gross": "92597388"
                                },
                                {
                                    "inflation_adjusted_gross": "93614037"
                                },
                                {
                                    "inflation_adjusted_gross": "3374251"
                                },
                                {
                                    "inflation_adjusted_gross": "213962184"
                                },
                                {
                                    "inflation_adjusted_gross": "5367415"
                                },
                                {
                                    "inflation_adjusted_gross": "414997174"
                                },
                                {
                                    "inflation_adjusted_gross": "31787136"
                                },
                                {
                                    "inflation_adjusted_gross": "86249969"
                                },
                                {
                                    "inflation_adjusted_gross": "44955015"
                                },
                                {
                                    "inflation_adjusted_gross": "52807594"
                                },
                                {
                                    "inflation_adjusted_gross": "268013076"
                                },
                                {
                                    "inflation_adjusted_gross": "18346024"
                                },
                                {
                                    "inflation_adjusted_gross": "37607865"
                                },
                                {
                                    "inflation_adjusted_gross": "249089809"
                                },
                                {
                                    "inflation_adjusted_gross": "61040349"
                                },
                                {
                                    "inflation_adjusted_gross": "343771168"
                                },
                                {
                                    "inflation_adjusted_gross": "55961409"
                                },
                                {
                                    "inflation_adjusted_gross": "69055550"
                                },
                                {
                                    "inflation_adjusted_gross": "229249222"
                                },
                                {
                                    "inflation_adjusted_gross": "130894237"
                                },
                                {
                                    "inflation_adjusted_gross": "12429583"
                                },
                                {
                                    "inflation_adjusted_gross": "44480275"
                                },
                                {
                                    "inflation_adjusted_gross": "201151353"
                                },
                                {
                                    "inflation_adjusted_gross": "16432322"
                                },
                                {
                                    "inflation_adjusted_gross": "459005868"
                                },
                                {
                                    "inflation_adjusted_gross": "93436322"
                                },
                                {
                                    "inflation_adjusted_gross": "356461711"
                                },
                                {
                                    "inflation_adjusted_gross": "180202163"
                                },
                                {
                                    "inflation_adjusted_gross": "72313754"
                                },
                                {
                                    "inflation_adjusted_gross": "123087120"
                                },
                                {
                                    "inflation_adjusted_gross": "936662225"
                                },
                                {
                                    "inflation_adjusted_gross": "27569558"
                                },
                                {
                                    "inflation_adjusted_gross": "341268248"
                                },
                                {
                                    "inflation_adjusted_gross": "364001123"
                                },
                                {
                                    "inflation_adjusted_gross": "7895708"
                                },
                                {
                                    "inflation_adjusted_gross": "408084349"
                                },
                                {
                                    "inflation_adjusted_gross": "77042381"
                                },
                                {
                                    "inflation_adjusted_gross": "486295561"
                                },
                                {
                                    "inflation_adjusted_gross": "55483770"
                                },
                                {
                                    "inflation_adjusted_gross": "76233151"
                                },
                                {
                                    "inflation_adjusted_gross": "12545979"
                                },
                                {
                                    "inflation_adjusted_gross": "8874389"
                                },
                                {
                                    "inflation_adjusted_gross": "232532923"
                                },
                                {
                                    "inflation_adjusted_gross": "246082029"
                                },
                                {
                                    "inflation_adjusted_gross": "529483936"
                                }
                            ]
                        },
                        "text/html": "<table><tr><th>inflation_adjusted_gross</th></tr><tr><td>5228953251</td></tr><tr><td>2188229052</td></tr><tr><td>2187090808</td></tr><tr><td>1078510579</td></tr><tr><td>920608730</td></tr><tr><td>528279994</td></tr><tr><td>1236035515</td></tr><tr><td>21505832</td></tr><tr><td>1362870985</td></tr><tr><td>310094574</td></tr><tr><td>124841160</td></tr><tr><td>109581646</td></tr><tr><td>153870834</td></tr><tr><td>789612346</td></tr><tr><td>138612686</td></tr><tr><td>255161499</td></tr><tr><td>101200742</td></tr><tr><td>91305448</td></tr><tr><td>131246872</td></tr><tr><td>98067733</td></tr><tr><td>0</td></tr><tr><td>159743914</td></tr><tr><td>105847527</td></tr><tr><td>120377374</td></tr><tr><td>9088096</td></tr><tr><td>34472116</td></tr><tr><td>48517980</td></tr><tr><td>0</td></tr><tr><td>133118889</td></tr><tr><td>0</td></tr><tr><td>12903059</td></tr><tr><td>77184895</td></tr><tr><td>20643199</td></tr><tr><td>11519089</td></tr><tr><td>15136765</td></tr><tr><td>70669955</td></tr><tr><td>3223725</td></tr><tr><td>157057661</td></tr><tr><td>21075000</td></tr><tr><td>33900697</td></tr><tr><td>25215934</td></tr><tr><td>50553142</td></tr><tr><td>9736051</td></tr><tr><td>22302956</td></tr><tr><td>31415432</td></tr><tr><td>141183693</td></tr><tr><td>11003932</td></tr><tr><td>162748712</td></tr><tr><td>53637367</td></tr><tr><td>42183197</td></tr><tr><td>48758184</td></tr><tr><td>117957323</td></tr><tr><td>113976921</td></tr><tr><td>54787202</td></tr><tr><td>50686462</td></tr><tr><td>32798382</td></tr><tr><td>72853569</td></tr><tr><td>141592160</td></tr><tr><td>68181300</td></tr><tr><td>44024529</td></tr><tr><td>353334607</td></tr><tr><td>254414837</td></tr><tr><td>60097074</td></tr><tr><td>26062188</td></tr><tr><td>28073384</td></tr><tr><td>82352451</td></tr><tr><td>316250084</td></tr><tr><td>160442289</td></tr><tr><td>12009960</td></tr><tr><td>11300331</td></tr><tr><td>9772655</td></tr><tr><td>57845202</td></tr><tr><td>102254492</td></tr><tr><td>120381757</td></tr><tr><td>85757817</td></tr><tr><td>22740861</td></tr><tr><td>15233465</td></tr><tr><td>202531517</td></tr><tr><td>276191669</td></tr><tr><td>150176361</td></tr><tr><td>16653473</td></tr><tr><td>40983414</td></tr><tr><td>23972012</td></tr><tr><td>223726012</td></tr><tr><td>39884640</td></tr><tr><td>40077147</td></tr><tr><td>2210321</td></tr><tr><td>356389765</td></tr><tr><td>49999822</td></tr><tr><td>29964452</td></tr><tr><td>29485923</td></tr><tr><td>207231621</td></tr><tr><td>39433357</td></tr><tr><td>106290270</td></tr><tr><td>36107823</td></tr><tr><td>39963460</td></tr><tr><td>30722056</td></tr><tr><td>55796728</td></tr><tr><td>143108869</td></tr><tr><td>59679131</td></tr><tr><td>69540672</td></tr><tr><td>19149495</td></tr><tr><td>30084149</td></tr><tr><td>24939118</td></tr><tr><td>47181395</td></tr><tr><td>22580472</td></tr><tr><td>127571325</td></tr><tr><td>14617333</td></tr><tr><td>93256673</td></tr><tr><td>75084021</td></tr><tr><td>37313540</td></tr><tr><td>57544453</td></tr><tr><td>28320147</td></tr><tr><td>31167691</td></tr><tr><td>363017667</td></tr><tr><td>179821881</td></tr><tr><td>178831137</td></tr><tr><td>91304495</td></tr><tr><td>5872667</td></tr><tr><td>4631720</td></tr><tr><td>43068356</td></tr><tr><td>5497481</td></tr><tr><td>8187848</td></tr><tr><td>81369058</td></tr><tr><td>283583472</td></tr><tr><td>119162518</td></tr><tr><td>24950752</td></tr><tr><td>58965304</td></tr><tr><td>7295423</td></tr><tr><td>45741576</td></tr><tr><td>14841352</td></tr><tr><td>9907922</td></tr><tr><td>103120810</td></tr><tr><td>14421454</td></tr><tr><td>43859823</td></tr><tr><td>441969178</td></tr><tr><td>94349900</td></tr><tr><td>55417615</td></tr><tr><td>73914543</td></tr><tr><td>15970955</td></tr><tr><td>85182343</td></tr><tr><td>11369541</td></tr><tr><td>11468231</td></tr><tr><td>26248558</td></tr><tr><td>36165012</td></tr><tr><td>49080505</td></tr><tr><td>9156084</td></tr><tr><td>29968953</td></tr><tr><td>42445058</td></tr><tr><td>46064723</td></tr><tr><td>25146538</td></tr><tr><td>79618610</td></tr><tr><td>52921433</td></tr><tr><td>80147079</td></tr><tr><td>40943541</td></tr><tr><td>6554384</td></tr><tr><td>6654819</td></tr><tr><td>66768171</td></tr><tr><td>2127496</td></tr><tr><td>46919256</td></tr><tr><td>140392731</td></tr><tr><td>100026637</td></tr><tr><td>109310377</td></tr><tr><td>116965668</td></tr><tr><td>115781734</td></tr><tr><td>42940186</td></tr><tr><td>7168577</td></tr><tr><td>42610902</td></tr><tr><td>5170709</td></tr><tr><td>63170804</td></tr><tr><td>19116981</td></tr><tr><td>23401275</td></tr><tr><td>94226333</td></tr><tr><td>1473665</td></tr><tr><td>18083994</td></tr><tr><td>18316030</td></tr><tr><td>103354194</td></tr><tr><td>24267154</td></tr><tr><td>49945474</td></tr><tr><td>761640898</td></tr><tr><td>63651027</td></tr><tr><td>103798152</td></tr><tr><td>59673787</td></tr><tr><td>40804816</td></tr><tr><td>21576332</td></tr><tr><td>125666</td></tr><tr><td>7035189</td></tr><tr><td>50840394</td></tr><tr><td>34048315</td></tr><tr><td>12042634</td></tr><tr><td>17727017</td></tr><tr><td>6858345</td></tr><tr><td>298369717</td></tr><tr><td>60321919</td></tr><tr><td>88930321</td></tr><tr><td>51016522</td></tr><tr><td>6829092</td></tr><tr><td>9857435</td></tr><tr><td>14641561</td></tr><tr><td>34245779</td></tr><tr><td>77573459</td></tr><tr><td>23404369</td></tr><tr><td>15983331</td></tr><tr><td>907414</td></tr><tr><td>4770461</td></tr><tr><td>1025425</td></tr><tr><td>68479579</td></tr><tr><td>157082900</td></tr><tr><td>177102077</td></tr><tr><td>29934306</td></tr><tr><td>274370957</td></tr><tr><td>67222776</td></tr><tr><td>47809421</td></tr><tr><td>164552293</td></tr><tr><td>25981285</td></tr><tr><td>11167895</td></tr><tr><td>15365850</td></tr><tr><td>34372339</td></tr><tr><td>46741467</td></tr><tr><td>20075033</td></tr><tr><td>568342</td></tr><tr><td>59727216</td></tr><tr><td>370409631</td></tr><tr><td>147658438</td></tr><tr><td>26302005</td></tr><tr><td>45911517</td></tr><tr><td>157508868</td></tr><tr><td>19509726</td></tr><tr><td>65470567</td></tr><tr><td>24422334</td></tr><tr><td>16482589</td></tr><tr><td>97356578</td></tr><tr><td>62384706</td></tr><tr><td>2057055</td></tr><tr><td>1963937</td></tr><tr><td>55159783</td></tr><tr><td>17623615</td></tr><tr><td>11171714</td></tr><tr><td>41826566</td></tr><tr><td>51373912</td></tr><tr><td>59828966</td></tr><tr><td>255702705</td></tr><tr><td>190988799</td></tr><tr><td>199559799</td></tr><tr><td>36009655</td></tr><tr><td>111792852</td></tr><tr><td>50465108</td></tr><tr><td>16284619</td></tr><tr><td>43713554</td></tr><tr><td>24333094</td></tr><tr><td>259807820</td></tr><tr><td>65543</td></tr><tr><td>258728898</td></tr><tr><td>91076877</td></tr><tr><td>92077628</td></tr><tr><td>58804106</td></tr><tr><td>1085093</td></tr><tr><td>3957025</td></tr><tr><td>33613158</td></tr><tr><td>110058379</td></tr><tr><td>27117599</td></tr><tr><td>51579764</td></tr><tr><td>53693680</td></tr><tr><td>36265379</td></tr><tr><td>185712664</td></tr><tr><td>182029412</td></tr><tr><td>193326632</td></tr><tr><td>81692095</td></tr><tr><td>45266588</td></tr><tr><td>88467531</td></tr><tr><td>14561324</td></tr><tr><td>3257546</td></tr><tr><td>28371890</td></tr><tr><td>7652965</td></tr><tr><td>170406423</td></tr><tr><td>48546161</td></tr><tr><td>39145784</td></tr><tr><td>10236836</td></tr><tr><td>20136775</td></tr><tr><td>13608633</td></tr><tr><td>82277</td></tr><tr><td>7829877</td></tr><tr><td>38766948</td></tr><tr><td>135497531</td></tr><tr><td>133620516</td></tr><tr><td>216807832</td></tr><tr><td>362324957</td></tr><tr><td>35668055</td></tr><tr><td>119185667</td></tr><tr><td>1409943</td></tr><tr><td>32809442</td></tr><tr><td>21694605</td></tr><tr><td>41062682</td></tr><tr><td>288691833</td></tr><tr><td>21941840</td></tr><tr><td>288981698</td></tr><tr><td>198472008</td></tr><tr><td>28392518</td></tr><tr><td>94139530</td></tr><tr><td>87906042</td></tr><tr><td>61150849</td></tr><tr><td>46145331</td></tr><tr><td>32228598</td></tr><tr><td>63354375</td></tr><tr><td>380218</td></tr><tr><td>56595842</td></tr><tr><td>283900254</td></tr><tr><td>32007656</td></tr><tr><td>161610341</td></tr><tr><td>485424724</td></tr><tr><td>54262148</td></tr><tr><td>295851</td></tr><tr><td>7566363</td></tr><tr><td>14755189</td></tr><tr><td>10111144</td></tr><tr><td>47794214</td></tr><tr><td>404450426</td></tr><tr><td>4609153</td></tr><tr><td>106921374</td></tr><tr><td>94838225</td></tr><tr><td>13180524</td></tr><tr><td>94852354</td></tr><tr><td>2562155</td></tr><tr><td>71228678</td></tr><tr><td>95208344</td></tr><tr><td>42661516</td></tr><tr><td>57925202</td></tr><tr><td>215438985</td></tr><tr><td>89042541</td></tr><tr><td>158970411</td></tr><tr><td>14238144</td></tr><tr><td>108993148</td></tr><tr><td>95070168</td></tr><tr><td>20362201</td></tr><tr><td>7404372</td></tr><tr><td>180742479</td></tr><tr><td>148208901</td></tr><tr><td>104055039</td></tr><tr><td>136789252</td></tr><tr><td>67922002</td></tr><tr><td>44418589</td></tr><tr><td>54656124</td></tr><tr><td>7114869</td></tr><tr><td>295705112</td></tr><tr><td>125188122</td></tr><tr><td>25214223</td></tr><tr><td>161218928</td></tr><tr><td>7450434</td></tr><tr><td>25749730</td></tr><tr><td>35705805</td></tr><tr><td>337782</td></tr><tr><td>416073179</td></tr><tr><td>20700691</td></tr><tr><td>76758193</td></tr><tr><td>36980311</td></tr><tr><td>0</td></tr><tr><td>117745317</td></tr><tr><td>78682079</td></tr><tr><td>70269715</td></tr><tr><td>62480631</td></tr><tr><td>14797862</td></tr><tr><td>109691666</td></tr><tr><td>10537188</td></tr><tr><td>6089874</td></tr><tr><td>43756218</td></tr><tr><td>211506702</td></tr><tr><td>24650121</td></tr><tr><td>330754439</td></tr><tr><td>14338992</td></tr><tr><td>184521151</td></tr><tr><td>9909094</td></tr><tr><td>27789959</td></tr><tr><td>201959095</td></tr><tr><td>55189145</td></tr><tr><td>50624654</td></tr><tr><td>18325463</td></tr><tr><td>73793522</td></tr><tr><td>84537962</td></tr><tr><td>66966883</td></tr><tr><td>185481530</td></tr><tr><td>32298812</td></tr><tr><td>23803108</td></tr><tr><td>94203395</td></tr><tr><td>59743191</td></tr><tr><td>518148559</td></tr><tr><td>426967926</td></tr><tr><td>154090360</td></tr><tr><td>81547672</td></tr><tr><td>29895090</td></tr><tr><td>60944053</td></tr><tr><td>2194759</td></tr><tr><td>119218333</td></tr><tr><td>105775678</td></tr><tr><td>42379650</td></tr><tr><td>9254344</td></tr><tr><td>8812764</td></tr><tr><td>87392478</td></tr><tr><td>39816568</td></tr><tr><td>91340921</td></tr><tr><td>53881593</td></tr><tr><td>67910166</td></tr><tr><td>30416359</td></tr><tr><td>50886144</td></tr><tr><td>32585356</td></tr><tr><td>426246</td></tr><tr><td>70423706</td></tr><tr><td>155021748</td></tr><tr><td>129164207</td></tr><tr><td>29593641</td></tr><tr><td>629502</td></tr><tr><td>101161045</td></tr><tr><td>354488708</td></tr><tr><td>234069353</td></tr><tr><td>32198655</td></tr><tr><td>11740942</td></tr><tr><td>23801835</td></tr><tr><td>148619029</td></tr><tr><td>32064685</td></tr><tr><td>28716947</td></tr><tr><td>67096891</td></tr><tr><td>6194870</td></tr><tr><td>86812798</td></tr><tr><td>33500491</td></tr><tr><td>84088854</td></tr><tr><td>25616292</td></tr><tr><td>117960425</td></tr><tr><td>20162672</td></tr><tr><td>13519621</td></tr><tr><td>177954661</td></tr><tr><td>381557539</td></tr><tr><td>14574087</td></tr><tr><td>54888236</td></tr><tr><td>22044113</td></tr><tr><td>12948025</td></tr><tr><td>105037235</td></tr><tr><td>78667428</td></tr><tr><td>29712825</td></tr><tr><td>48114115</td></tr><tr><td>34634731</td></tr><tr><td>5512647</td></tr><tr><td>314140384</td></tr><tr><td>544817142</td></tr><tr><td>84078780</td></tr><tr><td>74398864</td></tr><tr><td>70801353</td></tr><tr><td>68289913</td></tr><tr><td>30737517</td></tr><tr><td>108694869</td></tr><tr><td>82267038</td></tr><tr><td>64959548</td></tr><tr><td>12985302</td></tr><tr><td>100760721</td></tr><tr><td>206110533</td></tr><tr><td>119860589</td></tr><tr><td>5637048</td></tr><tr><td>8779196</td></tr><tr><td>25202168</td></tr><tr><td>379129960</td></tr><tr><td>252955933</td></tr><tr><td>53619462</td></tr><tr><td>111010758</td></tr><tr><td>58350234</td></tr><tr><td>156074310</td></tr><tr><td>267003525</td></tr><tr><td>76646993</td></tr><tr><td>68118371</td></tr><tr><td>53550960</td></tr><tr><td>166277038</td></tr><tr><td>262771918</td></tr><tr><td>19125841</td></tr><tr><td>264247</td></tr><tr><td>9295171</td></tr><tr><td>110932022</td></tr><tr><td>322979</td></tr><tr><td>106308538</td></tr><tr><td>133702498</td></tr><tr><td>128039679</td></tr><tr><td>49767744</td></tr><tr><td>38174685</td></tr><tr><td>75501997</td></tr><tr><td>89443640</td></tr><tr><td>35981010</td></tr><tr><td>329336681</td></tr><tr><td>184288829</td></tr><tr><td>134246932</td></tr><tr><td>16961607</td></tr><tr><td>1563976</td></tr><tr><td>23064</td></tr><tr><td>43361416</td></tr><tr><td>34509545</td></tr><tr><td>154927105</td></tr><tr><td>116316457</td></tr><tr><td>55503929</td></tr><tr><td>34917330</td></tr><tr><td>357063499</td></tr><tr><td>86264</td></tr><tr><td>67258772</td></tr><tr><td>20751600</td></tr><tr><td>96971361</td></tr><tr><td>443408255</td></tr><tr><td>67473105</td></tr><tr><td>45302137</td></tr><tr><td>51988</td></tr><tr><td>27461121</td></tr><tr><td>63781920</td></tr><tr><td>214388548</td></tr><tr><td>183619259</td></tr><tr><td>106270797</td></tr><tr><td>58574607</td></tr><tr><td>22741603</td></tr><tr><td>16401551</td></tr><tr><td>2984</td></tr><tr><td>10768946</td></tr><tr><td>256263359</td></tr><tr><td>203522177</td></tr><tr><td>28375869</td></tr><tr><td>180404976</td></tr><tr><td>19452402</td></tr><tr><td>90848019</td></tr><tr><td>94189503</td></tr><tr><td>84762149</td></tr><tr><td>20325733</td></tr><tr><td>77372445</td></tr><tr><td>30675725</td></tr><tr><td>660081224</td></tr><tr><td>251292441</td></tr><tr><td>13165822</td></tr><tr><td>54914942</td></tr><tr><td>37363513</td></tr><tr><td>200354959</td></tr><tr><td>192122330</td></tr><tr><td>243434130</td></tr><tr><td>424084233</td></tr><tr><td>278395641</td></tr><tr><td>92597388</td></tr><tr><td>93614037</td></tr><tr><td>3374251</td></tr><tr><td>213962184</td></tr><tr><td>5367415</td></tr><tr><td>414997174</td></tr><tr><td>31787136</td></tr><tr><td>86249969</td></tr><tr><td>44955015</td></tr><tr><td>52807594</td></tr><tr><td>268013076</td></tr><tr><td>18346024</td></tr><tr><td>37607865</td></tr><tr><td>249089809</td></tr><tr><td>61040349</td></tr><tr><td>343771168</td></tr><tr><td>55961409</td></tr><tr><td>69055550</td></tr><tr><td>229249222</td></tr><tr><td>130894237</td></tr><tr><td>12429583</td></tr><tr><td>44480275</td></tr><tr><td>201151353</td></tr><tr><td>16432322</td></tr><tr><td>459005868</td></tr><tr><td>93436322</td></tr><tr><td>356461711</td></tr><tr><td>180202163</td></tr><tr><td>72313754</td></tr><tr><td>123087120</td></tr><tr><td>936662225</td></tr><tr><td>27569558</td></tr><tr><td>341268248</td></tr><tr><td>364001123</td></tr><tr><td>7895708</td></tr><tr><td>408084349</td></tr><tr><td>77042381</td></tr><tr><td>486295561</td></tr><tr><td>55483770</td></tr><tr><td>76233151</td></tr><tr><td>12545979</td></tr><tr><td>8874389</td></tr><tr><td>232532923</td></tr><tr><td>246082029</td></tr><tr><td>529483936</td></tr></table>"
                    },
                    "metadata": {}
                }
            ],
            "execution_count": 35
        }
    ]
}