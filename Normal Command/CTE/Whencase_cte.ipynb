{
    "metadata": {
        "kernelspec": {
            "name": "SQL",
            "display_name": "SQL",
            "language": "sql"
        },
        "language_info": {
            "name": "sql",
            "version": ""
        }
    },
    "nbformat_minor": 2,
    "nbformat": 4,
    "cells": [
        {
            "cell_type": "code",
            "source": [
                "with cte as (\r\n",
                "\r\n",
                "select menu,revenue ,\r\n",
                "CASE\r\n",
                "WHEN revenue BETWEEN 0 and 5000 then '0-5,000 THB' \r\n",
                "WHEN revenue BETWEEN 5001 and 8000 then '5,000-8,000 THB' \r\n",
                "WHEN revenue BETWEEN 8001 and 10000 then '8,001-10,000 THB' \r\n",
                "WHEN revenue BETWEEN 10001 and 15000 then '10,001-15,000 THB' \r\n",
                "WHEN revenue BETWEEN 15001 and 20000 then '15,001-20,000 THB' \r\n",
                "WHEN revenue BETWEEN 20001 and 25000 then '15,001-20,000 THB' \r\n",
                "WHEN revenue > 25000 then '> 25,000 THB' \r\n",
                "end as rang\r\n",
                "from daily_sales\r\n",
                ")\r\n",
                "select rang,count(rang) from cte group by rang\r\n",
                "\r\n",
                ""
            ],
            "metadata": {
                "azdata_cell_guid": "9c5cbf9c-2905-4661-bef3-4a550ef50428",
                "language": "sql",
                "tags": [
                    "hide_input"
                ]
            },
            "outputs": [
                {
                    "output_type": "display_data",
                    "data": {
                        "text/html": "(5 rows affected)"
                    },
                    "metadata": {}
                },
                {
                    "output_type": "display_data",
                    "data": {
                        "text/html": "Total execution time: 00:00:00.012"
                    },
                    "metadata": {}
                },
                {
                    "output_type": "execute_result",
                    "metadata": {},
                    "execution_count": 12,
                    "data": {
                        "application/vnd.dataresource+json": {
                            "schema": {
                                "fields": [
                                    {
                                        "name": "rang"
                                    },
                                    {
                                        "name": "(No column name)"
                                    }
                                ]
                            },
                            "data": [
                                {
                                    "rang": "> 25,000 THB",
                                    "(No column name)": "83"
                                },
                                {
                                    "rang": "10,001-15,000 THB",
                                    "(No column name)": "394"
                                },
                                {
                                    "rang": "15,001-20,000 THB",
                                    "(No column name)": "614"
                                },
                                {
                                    "rang": "8,001-10,000 THB",
                                    "(No column name)": "189"
                                },
                                {
                                    "rang": "5,000-8,000 THB",
                                    "(No column name)": "180"
                                }
                            ]
                        },
                        "text/html": [
                            "<table>",
                            "<tr><th>rang</th><th>(No column name)</th></tr>",
                            "<tr><td>&gt; 25,000 THB</td><td>83</td></tr>",
                            "<tr><td>10,001-15,000 THB</td><td>394</td></tr>",
                            "<tr><td>15,001-20,000 THB</td><td>614</td></tr>",
                            "<tr><td>8,001-10,000 THB</td><td>189</td></tr>",
                            "<tr><td>5,000-8,000 THB</td><td>180</td></tr>",
                            "</table>"
                        ]
                    }
                }
            ],
            "execution_count": 12
        },
        {
            "cell_type": "code",
            "source": [
                "with cte as (\r\n",
                "\r\n",
                "select menu,revenue,dt ,\r\n",
                "CASE\r\n",
                "WHEN revenue BETWEEN 0 and 5000 then '0-5,000 THB' \r\n",
                "WHEN revenue BETWEEN 5001 and 8000 then '5,000-8,000 THB' \r\n",
                "WHEN revenue BETWEEN 8001 and 10000 then '8,001-10,000 THB' \r\n",
                "WHEN revenue BETWEEN 10001 and 15000 then '10,001-15,000 THB' \r\n",
                "WHEN revenue BETWEEN 15001 and 20000 then '15,001-20,000 THB' \r\n",
                "WHEN revenue BETWEEN 20001 and 25000 then '15,001-20,000 THB' \r\n",
                "WHEN revenue > 25000 then '> 25,000 THB' \r\n",
                "end as rang\r\n",
                "from daily_sales\r\n",
                ")\r\n",
                "select format(sum(revenue),'#,##0'),\r\n",
                "rang,datepart(year,dt)\r\n",
                " from cte group by rang ,datepart(year,dt)\r\n",
                "\r\n",
                ""
            ],
            "metadata": {
                "azdata_cell_guid": "667e6bb5-81ec-433b-8943-f1d8f6faccb4",
                "language": "sql"
            },
            "outputs": [
                {
                    "output_type": "display_data",
                    "data": {
                        "text/html": "(10 rows affected)"
                    },
                    "metadata": {}
                },
                {
                    "output_type": "display_data",
                    "data": {
                        "text/html": "Total execution time: 00:00:00.010"
                    },
                    "metadata": {}
                },
                {
                    "output_type": "execute_result",
                    "metadata": {},
                    "execution_count": 20,
                    "data": {
                        "application/vnd.dataresource+json": {
                            "schema": {
                                "fields": [
                                    {
                                        "name": "(No column name)"
                                    },
                                    {
                                        "name": "rang"
                                    },
                                    {
                                        "name": "(No column name)"
                                    }
                                ]
                            },
                            "data": [
                                {
                                    "(No column name)": "2018",
                                    "rang": "15,001-20,000 THB"
                                },
                                {
                                    "(No column name)": "2018",
                                    "rang": "5,000-8,000 THB"
                                },
                                {
                                    "(No column name)": "2019",
                                    "rang": "> 25,000 THB"
                                },
                                {
                                    "(No column name)": "2018",
                                    "rang": "8,001-10,000 THB"
                                },
                                {
                                    "(No column name)": "2019",
                                    "rang": "10,001-15,000 THB"
                                },
                                {
                                    "(No column name)": "2019",
                                    "rang": "8,001-10,000 THB"
                                },
                                {
                                    "(No column name)": "2019",
                                    "rang": "15,001-20,000 THB"
                                },
                                {
                                    "(No column name)": "2018",
                                    "rang": "> 25,000 THB"
                                },
                                {
                                    "(No column name)": "2018",
                                    "rang": "10,001-15,000 THB"
                                },
                                {
                                    "(No column name)": "2019",
                                    "rang": "5,000-8,000 THB"
                                }
                            ]
                        },
                        "text/html": [
                            "<table>",
                            "<tr><th>(No column name)</th><th>rang</th><th>(No column name)</th></tr>",
                            "<tr><td>5,783,199</td><td>15,001-20,000 THB</td><td>2018</td></tr>",
                            "<tr><td>673,935</td><td>5,000-8,000 THB</td><td>2018</td></tr>",
                            "<tr><td>1,170,690</td><td>&gt; 25,000 THB</td><td>2019</td></tr>",
                            "<tr><td>922,786</td><td>8,001-10,000 THB</td><td>2018</td></tr>",
                            "<tr><td>2,600,498</td><td>10,001-15,000 THB</td><td>2019</td></tr>",
                            "<tr><td>772,025</td><td>8,001-10,000 THB</td><td>2019</td></tr>",
                            "<tr><td>5,902,716</td><td>15,001-20,000 THB</td><td>2019</td></tr>",
                            "<tr><td>992,940</td><td>&gt; 25,000 THB</td><td>2018</td></tr>",
                            "<tr><td>2,336,341</td><td>10,001-15,000 THB</td><td>2018</td></tr>",
                            "<tr><td>532,797</td><td>5,000-8,000 THB</td><td>2019</td></tr>",
                            "</table>"
                        ]
                    }
                }
            ],
            "execution_count": 20
        },
        {
            "cell_type": "code",
            "source": [
                ""
            ],
            "metadata": {
                "azdata_cell_guid": "25c83915-d440-4a38-abce-cb51681f64ab",
                "language": "sql",
                "tags": []
            },
            "outputs": [
                {
                    "output_type": "display_data",
                    "data": {
                        "text/html": "(1100 rows affected)"
                    },
                    "metadata": {}
                },
                {
                    "output_type": "display_data",
                    "data": {
                        "text/html": "Total execution time: 00:00:00.018"
                    },
                    "metadata": {}
                },
                {
                    "output_type": "execute_result",
                    "metadata": {},
                    "execution_count": 60,
                    "data": {
                        "application/vnd.dataresource+json": {
                            "schema": {
                                "fields": [
                                    {
                                        "name": "year"
                                    },
                                    {
                                        "name": "q"
                                    },
                                    {
                                        "name": "month"
                                    },
                                    {
                                        "name": "(No column name)"
                                    }
                                ]
                            },
                            "data": [
                                {
                                    "year": "NULL",
                                    "q": "NULL",
                                    "month": "NULL",
                                    "(No column name)": "68763500997"
                                },
                                {
                                    "year": "1937",
                                    "q": "NULL",
                                    "month": "NULL",
                                    "(No column name)": "5228953251"
                                },
                                {
                                    "year": "1937",
                                    "q": "4",
                                    "month": "NULL",
                                    "(No column name)": "5228953251"
                                },
                                {
                                    "year": "1937",
                                    "q": "4",
                                    "month": "12",
                                    "(No column name)": "5228953251"
                                },
                                {
                                    "year": "1937",
                                    "q": "4",
                                    "month": "12",
                                    "(No column name)": "5228953251"
                                },
                                {
                                    "year": "1940",
                                    "q": "NULL",
                                    "month": "NULL",
                                    "(No column name)": "4375319860"
                                },
                                {
                                    "year": "1940",
                                    "q": "1",
                                    "month": "NULL",
                                    "(No column name)": "2188229052"
                                },
                                {
                                    "year": "1940",
                                    "q": "1",
                                    "month": "2",
                                    "(No column name)": "2188229052"
                                },
                                {
                                    "year": "1940",
                                    "q": "1",
                                    "month": "2",
                                    "(No column name)": "2188229052"
                                },
                                {
                                    "year": "1940",
                                    "q": "4",
                                    "month": "NULL",
                                    "(No column name)": "2187090808"
                                },
                                {
                                    "year": "1940",
                                    "q": "4",
                                    "month": "11",
                                    "(No column name)": "2187090808"
                                },
                                {
                                    "year": "1940",
                                    "q": "4",
                                    "month": "11",
                                    "(No column name)": "2187090808"
                                },
                                {
                                    "year": "1946",
                                    "q": "NULL",
                                    "month": "NULL",
                                    "(No column name)": "1078510579"
                                },
                                {
                                    "year": "1946",
                                    "q": "4",
                                    "month": "NULL",
                                    "(No column name)": "1078510579"
                                },
                                {
                                    "year": "1946",
                                    "q": "4",
                                    "month": "11",
                                    "(No column name)": "1078510579"
                                },
                                {
                                    "year": "1946",
                                    "q": "4",
                                    "month": "11",
                                    "(No column name)": "1078510579"
                                },
                                {
                                    "year": "1950",
                                    "q": "NULL",
                                    "month": "NULL",
                                    "(No column name)": "920608730"
                                },
                                {
                                    "year": "1950",
                                    "q": "1",
                                    "month": "NULL",
                                    "(No column name)": "920608730"
                                },
                                {
                                    "year": "1950",
                                    "q": "1",
                                    "month": "2",
                                    "(No column name)": "920608730"
                                },
                                {
                                    "year": "1950",
                                    "q": "1",
                                    "month": "2",
                                    "(No column name)": "920608730"
                                },
                                {
                                    "year": "1954",
                                    "q": "NULL",
                                    "month": "NULL",
                                    "(No column name)": "528279994"
                                },
                                {
                                    "year": "1954",
                                    "q": "4",
                                    "month": "NULL",
                                    "(No column name)": "528279994"
                                },
                                {
                                    "year": "1954",
                                    "q": "4",
                                    "month": "12",
                                    "(No column name)": "528279994"
                                },
                                {
                                    "year": "1954",
                                    "q": "4",
                                    "month": "12",
                                    "(No column name)": "528279994"
                                },
                                {
                                    "year": "1955",
                                    "q": "NULL",
                                    "month": "NULL",
                                    "(No column name)": "1236035515"
                                },
                                {
                                    "year": "1955",
                                    "q": "2",
                                    "month": "NULL",
                                    "(No column name)": "1236035515"
                                },
                                {
                                    "year": "1955",
                                    "q": "2",
                                    "month": "6",
                                    "(No column name)": "1236035515"
                                },
                                {
                                    "year": "1955",
                                    "q": "2",
                                    "month": "6",
                                    "(No column name)": "1236035515"
                                },
                                {
                                    "year": "1959",
                                    "q": "NULL",
                                    "month": "NULL",
                                    "(No column name)": "21505832"
                                },
                                {
                                    "year": "1959",
                                    "q": "1",
                                    "month": "NULL",
                                    "(No column name)": "21505832"
                                },
                                {
                                    "year": "1959",
                                    "q": "1",
                                    "month": "1",
                                    "(No column name)": "21505832"
                                },
                                {
                                    "year": "1959",
                                    "q": "1",
                                    "month": "1",
                                    "(No column name)": "21505832"
                                },
                                {
                                    "year": "1961",
                                    "q": "NULL",
                                    "month": "NULL",
                                    "(No column name)": "1797806719"
                                },
                                {
                                    "year": "1961",
                                    "q": "1",
                                    "month": "NULL",
                                    "(No column name)": "1672965559"
                                },
                                {
                                    "year": "1961",
                                    "q": "1",
                                    "month": "1",
                                    "(No column name)": "1362870985"
                                },
                                {
                                    "year": "1961",
                                    "q": "1",
                                    "month": "1",
                                    "(No column name)": "1362870985"
                                },
                                {
                                    "year": "1961",
                                    "q": "1",
                                    "month": "3",
                                    "(No column name)": "310094574"
                                },
                                {
                                    "year": "1961",
                                    "q": "1",
                                    "month": "3",
                                    "(No column name)": "310094574"
                                },
                                {
                                    "year": "1961",
                                    "q": "4",
                                    "month": "NULL",
                                    "(No column name)": "124841160"
                                },
                                {
                                    "year": "1961",
                                    "q": "4",
                                    "month": "12",
                                    "(No column name)": "124841160"
                                },
                                {
                                    "year": "1961",
                                    "q": "4",
                                    "month": "12",
                                    "(No column name)": "124841160"
                                },
                                {
                                    "year": "1962",
                                    "q": "NULL",
                                    "month": "NULL",
                                    "(No column name)": "109581646"
                                },
                                {
                                    "year": "1962",
                                    "q": "2",
                                    "month": "NULL",
                                    "(No column name)": "109581646"
                                },
                                {
                                    "year": "1962",
                                    "q": "2",
                                    "month": "5",
                                    "(No column name)": "109581646"
                                },
                                {
                                    "year": "1962",
                                    "q": "2",
                                    "month": "5",
                                    "(No column name)": "109581646"
                                },
                                {
                                    "year": "1963",
                                    "q": "NULL",
                                    "month": "NULL",
                                    "(No column name)": "153870834"
                                },
                                {
                                    "year": "1963",
                                    "q": "4",
                                    "month": "NULL",
                                    "(No column name)": "153870834"
                                },
                                {
                                    "year": "1963",
                                    "q": "4",
                                    "month": "12",
                                    "(No column name)": "153870834"
                                },
                                {
                                    "year": "1963",
                                    "q": "4",
                                    "month": "12",
                                    "(No column name)": "153870834"
                                },
                                {
                                    "year": "1967",
                                    "q": "NULL",
                                    "month": "NULL",
                                    "(No column name)": "789612346"
                                },
                                {
                                    "year": "1967",
                                    "q": "4",
                                    "month": "NULL",
                                    "(No column name)": "789612346"
                                },
                                {
                                    "year": "1967",
                                    "q": "4",
                                    "month": "10",
                                    "(No column name)": "789612346"
                                },
                                {
                                    "year": "1967",
                                    "q": "4",
                                    "month": "10",
                                    "(No column name)": "789612346"
                                },
                                {
                                    "year": "1968",
                                    "q": "NULL",
                                    "month": "NULL",
                                    "(No column name)": "138612686"
                                },
                                {
                                    "year": "1968",
                                    "q": "1",
                                    "month": "NULL",
                                    "(No column name)": "138612686"
                                },
                                {
                                    "year": "1968",
                                    "q": "1",
                                    "month": "2",
                                    "(No column name)": "138612686"
                                },
                                {
                                    "year": "1968",
                                    "q": "1",
                                    "month": "2",
                                    "(No column name)": "138612686"
                                },
                                {
                                    "year": "1970",
                                    "q": "NULL",
                                    "month": "NULL",
                                    "(No column name)": "356362241"
                                },
                                {
                                    "year": "1970",
                                    "q": "2",
                                    "month": "NULL",
                                    "(No column name)": "255161499"
                                },
                                {
                                    "year": "1970",
                                    "q": "2",
                                    "month": "4",
                                    "(No column name)": "255161499"
                                },
                                {
                                    "year": "1970",
                                    "q": "2",
                                    "month": "4",
                                    "(No column name)": "255161499"
                                },
                                {
                                    "year": "1970",
                                    "q": "3",
                                    "month": "NULL",
                                    "(No column name)": "101200742"
                                },
                                {
                                    "year": "1970",
                                    "q": "3",
                                    "month": "7",
                                    "(No column name)": "101200742"
                                },
                                {
                                    "year": "1970",
                                    "q": "3",
                                    "month": "7",
                                    "(No column name)": "101200742"
                                },
                                {
                                    "year": "1971",
                                    "q": "NULL",
                                    "month": "NULL",
                                    "(No column name)": "91305448"
                                },
                                {
                                    "year": "1971",
                                    "q": "4",
                                    "month": "NULL",
                                    "(No column name)": "91305448"
                                },
                                {
                                    "year": "1971",
                                    "q": "4",
                                    "month": "10",
                                    "(No column name)": "91305448"
                                },
                                {
                                    "year": "1971",
                                    "q": "4",
                                    "month": "10",
                                    "(No column name)": "91305448"
                                },
                                {
                                    "year": "1975",
                                    "q": "NULL",
                                    "month": "NULL",
                                    "(No column name)": "131246872"
                                },
                                {
                                    "year": "1975",
                                    "q": "3",
                                    "month": "NULL",
                                    "(No column name)": "131246872"
                                },
                                {
                                    "year": "1975",
                                    "q": "3",
                                    "month": "7",
                                    "(No column name)": "131246872"
                                },
                                {
                                    "year": "1975",
                                    "q": "3",
                                    "month": "7",
                                    "(No column name)": "131246872"
                                },
                                {
                                    "year": "1977",
                                    "q": "NULL",
                                    "month": "NULL",
                                    "(No column name)": "363659174"
                                },
                                {
                                    "year": "1977",
                                    "q": "1",
                                    "month": "NULL",
                                    "(No column name)": "98067733"
                                },
                                {
                                    "year": "1977",
                                    "q": "1",
                                    "month": "1",
                                    "(No column name)": "98067733"
                                },
                                {
                                    "year": "1977",
                                    "q": "1",
                                    "month": "1",
                                    "(No column name)": "98067733"
                                },
                                {
                                    "year": "1977",
                                    "q": "1",
                                    "month": "3",
                                    "(No column name)": "0"
                                },
                                {
                                    "year": "1977",
                                    "q": "1",
                                    "month": "3",
                                    "(No column name)": "0"
                                },
                                {
                                    "year": "1977",
                                    "q": "2",
                                    "month": "NULL",
                                    "(No column name)": "265591441"
                                },
                                {
                                    "year": "1977",
                                    "q": "2",
                                    "month": "6",
                                    "(No column name)": "105847527"
                                },
                                {
                                    "year": "1977",
                                    "q": "2",
                                    "month": "6",
                                    "(No column name)": "159743914"
                                },
                                {
                                    "year": "1977",
                                    "q": "2",
                                    "month": "6",
                                    "(No column name)": "265591441"
                                },
                                {
                                    "year": "1979",
                                    "q": "NULL",
                                    "month": "NULL",
                                    "(No column name)": "120377374"
                                },
                                {
                                    "year": "1979",
                                    "q": "4",
                                    "month": "NULL",
                                    "(No column name)": "120377374"
                                },
                                {
                                    "year": "1979",
                                    "q": "4",
                                    "month": "12",
                                    "(No column name)": "120377374"
                                },
                                {
                                    "year": "1979",
                                    "q": "4",
                                    "month": "12",
                                    "(No column name)": "120377374"
                                },
                                {
                                    "year": "1980",
                                    "q": "NULL",
                                    "month": "NULL",
                                    "(No column name)": "43560212"
                                },
                                {
                                    "year": "1980",
                                    "q": "1",
                                    "month": "NULL",
                                    "(No column name)": "9088096"
                                },
                                {
                                    "year": "1980",
                                    "q": "1",
                                    "month": "2",
                                    "(No column name)": "9088096"
                                },
                                {
                                    "year": "1980",
                                    "q": "1",
                                    "month": "2",
                                    "(No column name)": "9088096"
                                },
                                {
                                    "year": "1980",
                                    "q": "2",
                                    "month": "NULL",
                                    "(No column name)": "34472116"
                                },
                                {
                                    "year": "1980",
                                    "q": "2",
                                    "month": "6",
                                    "(No column name)": "34472116"
                                },
                                {
                                    "year": "1980",
                                    "q": "2",
                                    "month": "6",
                                    "(No column name)": "34472116"
                                },
                                {
                                    "year": "1981",
                                    "q": "NULL",
                                    "month": "NULL",
                                    "(No column name)": "181636869"
                                },
                                {
                                    "year": "1981",
                                    "q": "1",
                                    "month": "NULL",
                                    "(No column name)": "48517980"
                                },
                                {
                                    "year": "1981",
                                    "q": "1",
                                    "month": "1",
                                    "(No column name)": "48517980"
                                },
                                {
                                    "year": "1981",
                                    "q": "1",
                                    "month": "1",
                                    "(No column name)": "48517980"
                                },
                                {
                                    "year": "1981",
                                    "q": "1",
                                    "month": "3",
                                    "(No column name)": "0"
                                },
                                {
                                    "year": "1981",
                                    "q": "1",
                                    "month": "3",
                                    "(No column name)": "0"
                                },
                                {
                                    "year": "1981",
                                    "q": "3",
                                    "month": "NULL",
                                    "(No column name)": "133118889"
                                },
                                {
                                    "year": "1981",
                                    "q": "3",
                                    "month": "7",
                                    "(No column name)": "133118889"
                                },
                                {
                                    "year": "1981",
                                    "q": "3",
                                    "month": "7",
                                    "(No column name)": "133118889"
                                },
                                {
                                    "year": "1981",
                                    "q": "3",
                                    "month": "8",
                                    "(No column name)": "0"
                                },
                                {
                                    "year": "1981",
                                    "q": "3",
                                    "month": "8",
                                    "(No column name)": "0"
                                },
                                {
                                    "year": "1982",
                                    "q": "NULL",
                                    "month": "NULL",
                                    "(No column name)": "110731153"
                                },
                                {
                                    "year": "1982",
                                    "q": "1",
                                    "month": "NULL",
                                    "(No column name)": "12903059"
                                },
                                {
                                    "year": "1982",
                                    "q": "1",
                                    "month": "2",
                                    "(No column name)": "12903059"
                                },
                                {
                                    "year": "1982",
                                    "q": "1",
                                    "month": "2",
                                    "(No column name)": "12903059"
                                },
                                {
                                    "year": "1982",
                                    "q": "3",
                                    "month": "NULL",
                                    "(No column name)": "77184895"
                                },
                                {
                                    "year": "1982",
                                    "q": "3",
                                    "month": "7",
                                    "(No column name)": "77184895"
                                },
                                {
                                    "year": "1982",
                                    "q": "3",
                                    "month": "7",
                                    "(No column name)": "77184895"
                                },
                                {
                                    "year": "1982",
                                    "q": "4",
                                    "month": "NULL",
                                    "(No column name)": "20643199"
                                },
                                {
                                    "year": "1982",
                                    "q": "4",
                                    "month": "11",
                                    "(No column name)": "20643199"
                                },
                                {
                                    "year": "1982",
                                    "q": "4",
                                    "month": "11",
                                    "(No column name)": "20643199"
                                },
                                {
                                    "year": "1983",
                                    "q": "NULL",
                                    "month": "NULL",
                                    "(No column name)": "100549534"
                                },
                                {
                                    "year": "1983",
                                    "q": "1",
                                    "month": "NULL",
                                    "(No column name)": "11519089"
                                },
                                {
                                    "year": "1983",
                                    "q": "1",
                                    "month": "3",
                                    "(No column name)": "11519089"
                                },
                                {
                                    "year": "1983",
                                    "q": "1",
                                    "month": "3",
                                    "(No column name)": "11519089"
                                },
                                {
                                    "year": "1983",
                                    "q": "2",
                                    "month": "NULL",
                                    "(No column name)": "15136765"
                                },
                                {
                                    "year": "1983",
                                    "q": "2",
                                    "month": "4",
                                    "(No column name)": "15136765"
                                },
                                {
                                    "year": "1983",
                                    "q": "2",
                                    "month": "4",
                                    "(No column name)": "15136765"
                                },
                                {
                                    "year": "1983",
                                    "q": "4",
                                    "month": "NULL",
                                    "(No column name)": "73893680"
                                },
                                {
                                    "year": "1983",
                                    "q": "4",
                                    "month": "10",
                                    "(No column name)": "70669955"
                                },
                                {
                                    "year": "1983",
                                    "q": "4",
                                    "month": "10",
                                    "(No column name)": "70669955"
                                },
                                {
                                    "year": "1983",
                                    "q": "4",
                                    "month": "11",
                                    "(No column name)": "3223725"
                                },
                                {
                                    "year": "1983",
                                    "q": "4",
                                    "month": "11",
                                    "(No column name)": "3223725"
                                },
                                {
                                    "year": "1984",
                                    "q": "NULL",
                                    "month": "NULL",
                                    "(No column name)": "178132661"
                                },
                                {
                                    "year": "1984",
                                    "q": "1",
                                    "month": "NULL",
                                    "(No column name)": "157057661"
                                },
                                {
                                    "year": "1984",
                                    "q": "1",
                                    "month": "3",
                                    "(No column name)": "157057661"
                                },
                                {
                                    "year": "1984",
                                    "q": "1",
                                    "month": "3",
                                    "(No column name)": "157057661"
                                },
                                {
                                    "year": "1984",
                                    "q": "3",
                                    "month": "NULL",
                                    "(No column name)": "21075000"
                                },
                                {
                                    "year": "1984",
                                    "q": "3",
                                    "month": "9",
                                    "(No column name)": "21075000"
                                },
                                {
                                    "year": "1984",
                                    "q": "3",
                                    "month": "9",
                                    "(No column name)": "21075000"
                                },
                                {
                                    "year": "1985",
                                    "q": "NULL",
                                    "month": "NULL",
                                    "(No column name)": "173124212"
                                },
                                {
                                    "year": "1985",
                                    "q": "1",
                                    "month": "NULL",
                                    "(No column name)": "33900697"
                                },
                                {
                                    "year": "1985",
                                    "q": "1",
                                    "month": "3",
                                    "(No column name)": "33900697"
                                },
                                {
                                    "year": "1985",
                                    "q": "1",
                                    "month": "3",
                                    "(No column name)": "33900697"
                                },
                                {
                                    "year": "1985",
                                    "q": "2",
                                    "month": "NULL",
                                    "(No column name)": "25215934"
                                },
                                {
                                    "year": "1985",
                                    "q": "2",
                                    "month": "6",
                                    "(No column name)": "25215934"
                                },
                                {
                                    "year": "1985",
                                    "q": "2",
                                    "month": "6",
                                    "(No column name)": "25215934"
                                },
                                {
                                    "year": "1985",
                                    "q": "3",
                                    "month": "NULL",
                                    "(No column name)": "82592149"
                                },
                                {
                                    "year": "1985",
                                    "q": "3",
                                    "month": "7",
                                    "(No column name)": "50553142"
                                },
                                {
                                    "year": "1985",
                                    "q": "3",
                                    "month": "7",
                                    "(No column name)": "50553142"
                                },
                                {
                                    "year": "1985",
                                    "q": "3",
                                    "month": "8",
                                    "(No column name)": "9736051"
                                },
                                {
                                    "year": "1985",
                                    "q": "3",
                                    "month": "8",
                                    "(No column name)": "9736051"
                                },
                                {
                                    "year": "1985",
                                    "q": "3",
                                    "month": "9",
                                    "(No column name)": "22302956"
                                },
                                {
                                    "year": "1985",
                                    "q": "3",
                                    "month": "9",
                                    "(No column name)": "22302956"
                                },
                                {
                                    "year": "1985",
                                    "q": "4",
                                    "month": "NULL",
                                    "(No column name)": "31415432"
                                },
                                {
                                    "year": "1985",
                                    "q": "4",
                                    "month": "11",
                                    "(No column name)": "31415432"
                                },
                                {
                                    "year": "1985",
                                    "q": "4",
                                    "month": "11",
                                    "(No column name)": "31415432"
                                },
                                {
                                    "year": "1986",
                                    "q": "NULL",
                                    "month": "NULL",
                                    "(No column name)": "577472408"
                                },
                                {
                                    "year": "1986",
                                    "q": "1",
                                    "month": "NULL",
                                    "(No column name)": "141183693"
                                },
                                {
                                    "year": "1986",
                                    "q": "1",
                                    "month": "1",
                                    "(No column name)": "141183693"
                                },
                                {
                                    "year": "1986",
                                    "q": "1",
                                    "month": "1",
                                    "(No column name)": "141183693"
                                },
                                {
                                    "year": "1986",
                                    "q": "2",
                                    "month": "NULL",
                                    "(No column name)": "173752644"
                                },
                                {
                                    "year": "1986",
                                    "q": "2",
                                    "month": "4",
                                    "(No column name)": "11003932"
                                },
                                {
                                    "year": "1986",
                                    "q": "2",
                                    "month": "4",
                                    "(No column name)": "11003932"
                                },
                                {
                                    "year": "1986",
                                    "q": "2",
                                    "month": "6",
                                    "(No column name)": "162748712"
                                },
                                {
                                    "year": "1986",
                                    "q": "2",
                                    "month": "6",
                                    "(No column name)": "162748712"
                                },
                                {
                                    "year": "1986",
                                    "q": "3",
                                    "month": "NULL",
                                    "(No column name)": "95820564"
                                },
                                {
                                    "year": "1986",
                                    "q": "3",
                                    "month": "7",
                                    "(No column name)": "95820564"
                                },
                                {
                                    "year": "1986",
                                    "q": "3",
                                    "month": "7",
                                    "(No column name)": "95820564"
                                },
                                {
                                    "year": "1986",
                                    "q": "4",
                                    "month": "NULL",
                                    "(No column name)": "166715507"
                                },
                                {
                                    "year": "1986",
                                    "q": "4",
                                    "month": "10",
                                    "(No column name)": "48758184"
                                },
                                {
                                    "year": "1986",
                                    "q": "4",
                                    "month": "10",
                                    "(No column name)": "117957323"
                                },
                                {
                                    "year": "1986",
                                    "q": "4",
                                    "month": "10",
                                    "(No column name)": "166715507"
                                },
                                {
                                    "year": "1987",
                                    "q": "NULL",
                                    "month": "NULL",
                                    "(No column name)": "1186649969"
                                },
                                {
                                    "year": "1987",
                                    "q": "1",
                                    "month": "NULL",
                                    "(No column name)": "168764123"
                                },
                                {
                                    "year": "1987",
                                    "q": "1",
                                    "month": "1",
                                    "(No column name)": "113976921"
                                },
                                {
                                    "year": "1987",
                                    "q": "1",
                                    "month": "1",
                                    "(No column name)": "113976921"
                                },
                                {
                                    "year": "1987",
                                    "q": "1",
                                    "month": "3",
                                    "(No column name)": "54787202"
                                },
                                {
                                    "year": "1987",
                                    "q": "1",
                                    "month": "3",
                                    "(No column name)": "54787202"
                                },
                                {
                                    "year": "1987",
                                    "q": "2",
                                    "month": "NULL",
                                    "(No column name)": "83484844"
                                },
                                {
                                    "year": "1987",
                                    "q": "2",
                                    "month": "5",
                                    "(No column name)": "50686462"
                                },
                                {
                                    "year": "1987",
                                    "q": "2",
                                    "month": "5",
                                    "(No column name)": "50686462"
                                },
                                {
                                    "year": "1987",
                                    "q": "2",
                                    "month": "6",
                                    "(No column name)": "32798382"
                                },
                                {
                                    "year": "1987",
                                    "q": "2",
                                    "month": "6",
                                    "(No column name)": "32798382"
                                },
                                {
                                    "year": "1987",
                                    "q": "3",
                                    "month": "NULL",
                                    "(No column name)": "282627029"
                                },
                                {
                                    "year": "1987",
                                    "q": "3",
                                    "month": "7",
                                    "(No column name)": "72853569"
                                },
                                {
                                    "year": "1987",
                                    "q": "3",
                                    "month": "7",
                                    "(No column name)": "72853569"
                                },
                                {
                                    "year": "1987",
                                    "q": "3",
                                    "month": "8",
                                    "(No column name)": "141592160"
                                },
                                {
                                    "year": "1987",
                                    "q": "3",
                                    "month": "8",
                                    "(No column name)": "68181300"
                                },
                                {
                                    "year": "1987",
                                    "q": "3",
                                    "month": "8",
                                    "(No column name)": "209773460"
                                },
                                {
                                    "year": "1987",
                                    "q": "4",
                                    "month": "NULL",
                                    "(No column name)": "651773973"
                                },
                                {
                                    "year": "1987",
                                    "q": "4",
                                    "month": "11",
                                    "(No column name)": "397359136"
                                },
                                {
                                    "year": "1987",
                                    "q": "4",
                                    "month": "11",
                                    "(No column name)": "397359136"
                                },
                                {
                                    "year": "1987",
                                    "q": "4",
                                    "month": "12",
                                    "(No column name)": "254414837"
                                },
                                {
                                    "year": "1987",
                                    "q": "4",
                                    "month": "12",
                                    "(No column name)": "254414837"
                                },
                                {
                                    "year": "1988",
                                    "q": "NULL",
                                    "month": "NULL",
                                    "(No column name)": "986841867"
                                },
                                {
                                    "year": "1988",
                                    "q": "1",
                                    "month": "NULL",
                                    "(No column name)": "86159262"
                                },
                                {
                                    "year": "1988",
                                    "q": "1",
                                    "month": "2",
                                    "(No column name)": "60097074"
                                },
                                {
                                    "year": "1988",
                                    "q": "1",
                                    "month": "2",
                                    "(No column name)": "60097074"
                                },
                                {
                                    "year": "1988",
                                    "q": "1",
                                    "month": "3",
                                    "(No column name)": "26062188"
                                },
                                {
                                    "year": "1988",
                                    "q": "1",
                                    "month": "3",
                                    "(No column name)": "26062188"
                                },
                                {
                                    "year": "1988",
                                    "q": "2",
                                    "month": "NULL",
                                    "(No column name)": "426675919"
                                },
                                {
                                    "year": "1988",
                                    "q": "2",
                                    "month": "4",
                                    "(No column name)": "28073384"
                                },
                                {
                                    "year": "1988",
                                    "q": "2",
                                    "month": "4",
                                    "(No column name)": "28073384"
                                },
                                {
                                    "year": "1988",
                                    "q": "2",
                                    "month": "6",
                                    "(No column name)": "398602535"
                                },
                                {
                                    "year": "1988",
                                    "q": "2",
                                    "month": "6",
                                    "(No column name)": "398602535"
                                },
                                {
                                    "year": "1988",
                                    "q": "3",
                                    "month": "NULL",
                                    "(No column name)": "183752580"
                                },
                                {
                                    "year": "1988",
                                    "q": "3",
                                    "month": "7",
                                    "(No column name)": "160442289"
                                },
                                {
                                    "year": "1988",
                                    "q": "3",
                                    "month": "7",
                                    "(No column name)": "160442289"
                                },
                                {
                                    "year": "1988",
                                    "q": "3",
                                    "month": "8",
                                    "(No column name)": "12009960"
                                },
                                {
                                    "year": "1988",
                                    "q": "3",
                                    "month": "8",
                                    "(No column name)": "12009960"
                                },
                                {
                                    "year": "1988",
                                    "q": "3",
                                    "month": "9",
                                    "(No column name)": "11300331"
                                },
                                {
                                    "year": "1988",
                                    "q": "3",
                                    "month": "9",
                                    "(No column name)": "11300331"
                                },
                                {
                                    "year": "1988",
                                    "q": "4",
                                    "month": "NULL",
                                    "(No column name)": "290254106"
                                },
                                {
                                    "year": "1988",
                                    "q": "4",
                                    "month": "11",
                                    "(No column name)": "102254492"
                                },
                                {
                                    "year": "1988",
                                    "q": "4",
                                    "month": "11",
                                    "(No column name)": "57845202"
                                },
                                {
                                    "year": "1988",
                                    "q": "4",
                                    "month": "11",
                                    "(No column name)": "9772655"
                                },
                                {
                                    "year": "1988",
                                    "q": "4",
                                    "month": "11",
                                    "(No column name)": "169872349"
                                },
                                {
                                    "year": "1988",
                                    "q": "4",
                                    "month": "12",
                                    "(No column name)": "120381757"
                                },
                                {
                                    "year": "1988",
                                    "q": "4",
                                    "month": "12",
                                    "(No column name)": "120381757"
                                },
                                {
                                    "year": "1989",
                                    "q": "NULL",
                                    "month": "NULL",
                                    "(No column name)": "1097851241"
                                },
                                {
                                    "year": "1989",
                                    "q": "1",
                                    "month": "NULL",
                                    "(No column name)": "108498678"
                                },
                                {
                                    "year": "1989",
                                    "q": "1",
                                    "month": "1",
                                    "(No column name)": "85757817"
                                },
                                {
                                    "year": "1989",
                                    "q": "1",
                                    "month": "1",
                                    "(No column name)": "85757817"
                                },
                                {
                                    "year": "1989",
                                    "q": "1",
                                    "month": "3",
                                    "(No column name)": "22740861"
                                },
                                {
                                    "year": "1989",
                                    "q": "1",
                                    "month": "3",
                                    "(No column name)": "22740861"
                                },
                                {
                                    "year": "1989",
                                    "q": "2",
                                    "month": "NULL",
                                    "(No column name)": "493956651"
                                },
                                {
                                    "year": "1989",
                                    "q": "2",
                                    "month": "4",
                                    "(No column name)": "15233465"
                                },
                                {
                                    "year": "1989",
                                    "q": "2",
                                    "month": "4",
                                    "(No column name)": "15233465"
                                },
                                {
                                    "year": "1989",
                                    "q": "2",
                                    "month": "6",
                                    "(No column name)": "276191669"
                                },
                                {
                                    "year": "1989",
                                    "q": "2",
                                    "month": "6",
                                    "(No column name)": "202531517"
                                },
                                {
                                    "year": "1989",
                                    "q": "2",
                                    "month": "6",
                                    "(No column name)": "478723186"
                                },
                                {
                                    "year": "1989",
                                    "q": "3",
                                    "month": "NULL",
                                    "(No column name)": "166829834"
                                },
                                {
                                    "year": "1989",
                                    "q": "3",
                                    "month": "7",
                                    "(No column name)": "150176361"
                                },
                                {
                                    "year": "1989",
                                    "q": "3",
                                    "month": "7",
                                    "(No column name)": "150176361"
                                },
                                {
                                    "year": "1989",
                                    "q": "3",
                                    "month": "8",
                                    "(No column name)": "16653473"
                                },
                                {
                                    "year": "1989",
                                    "q": "3",
                                    "month": "8",
                                    "(No column name)": "16653473"
                                },
                                {
                                    "year": "1989",
                                    "q": "4",
                                    "month": "NULL",
                                    "(No column name)": "328566078"
                                },
                                {
                                    "year": "1989",
                                    "q": "4",
                                    "month": "10",
                                    "(No column name)": "64955426"
                                },
                                {
                                    "year": "1989",
                                    "q": "4",
                                    "month": "10",
                                    "(No column name)": "64955426"
                                },
                                {
                                    "year": "1989",
                                    "q": "4",
                                    "month": "11",
                                    "(No column name)": "223726012"
                                },
                                {
                                    "year": "1989",
                                    "q": "4",
                                    "month": "11",
                                    "(No column name)": "223726012"
                                },
                                {
                                    "year": "1989",
                                    "q": "4",
                                    "month": "12",
                                    "(No column name)": "39884640"
                                },
                                {
                                    "year": "1989",
                                    "q": "4",
                                    "month": "12",
                                    "(No column name)": "39884640"
                                },
                                {
                                    "year": "1990",
                                    "q": "NULL",
                                    "month": "NULL",
                                    "(No column name)": "1226460745"
                                },
                                {
                                    "year": "1990",
                                    "q": "1",
                                    "month": "NULL",
                                    "(No column name)": "398677233"
                                },
                                {
                                    "year": "1990",
                                    "q": "1",
                                    "month": "2",
                                    "(No column name)": "2210321"
                                },
                                {
                                    "year": "1990",
                                    "q": "1",
                                    "month": "2",
                                    "(No column name)": "40077147"
                                },
                                {
                                    "year": "1990",
                                    "q": "1",
                                    "month": "2",
                                    "(No column name)": "42287468"
                                },
                                {
                                    "year": "1990",
                                    "q": "1",
                                    "month": "3",
                                    "(No column name)": "356389765"
                                },
                                {
                                    "year": "1990",
                                    "q": "1",
                                    "month": "3",
                                    "(No column name)": "356389765"
                                },
                                {
                                    "year": "1990",
                                    "q": "2",
                                    "month": "NULL",
                                    "(No column name)": "356115175"
                                },
                                {
                                    "year": "1990",
                                    "q": "2",
                                    "month": "4",
                                    "(No column name)": "79964274"
                                },
                                {
                                    "year": "1990",
                                    "q": "2",
                                    "month": "4",
                                    "(No column name)": "79964274"
                                },
                                {
                                    "year": "1990",
                                    "q": "2",
                                    "month": "5",
                                    "(No column name)": "29485923"
                                },
                                {
                                    "year": "1990",
                                    "q": "2",
                                    "month": "5",
                                    "(No column name)": "29485923"
                                },
                                {
                                    "year": "1990",
                                    "q": "2",
                                    "month": "6",
                                    "(No column name)": "207231621"
                                },
                                {
                                    "year": "1990",
                                    "q": "2",
                                    "month": "6",
                                    "(No column name)": "39433357"
                                },
                                {
                                    "year": "1990",
                                    "q": "2",
                                    "month": "6",
                                    "(No column name)": "246664978"
                                },
                                {
                                    "year": "1990",
                                    "q": "3",
                                    "month": "NULL",
                                    "(No column name)": "182361553"
                                },
                                {
                                    "year": "1990",
                                    "q": "3",
                                    "month": "7",
                                    "(No column name)": "106290270"
                                },
                                {
                                    "year": "1990",
                                    "q": "3",
                                    "month": "7",
                                    "(No column name)": "106290270"
                                },
                                {
                                    "year": "1990",
                                    "q": "3",
                                    "month": "8",
                                    "(No column name)": "36107823"
                                },
                                {
                                    "year": "1990",
                                    "q": "3",
                                    "month": "8",
                                    "(No column name)": "39963460"
                                },
                                {
                                    "year": "1990",
                                    "q": "3",
                                    "month": "8",
                                    "(No column name)": "76071283"
                                },
                                {
                                    "year": "1990",
                                    "q": "4",
                                    "month": "NULL",
                                    "(No column name)": "289306784"
                                },
                                {
                                    "year": "1990",
                                    "q": "4",
                                    "month": "10",
                                    "(No column name)": "30722056"
                                },
                                {
                                    "year": "1990",
                                    "q": "4",
                                    "month": "10",
                                    "(No column name)": "30722056"
                                },
                                {
                                    "year": "1990",
                                    "q": "4",
                                    "month": "11",
                                    "(No column name)": "55796728"
                                },
                                {
                                    "year": "1990",
                                    "q": "4",
                                    "month": "11",
                                    "(No column name)": "143108869"
                                },
                                {
                                    "year": "1990",
                                    "q": "4",
                                    "month": "11",
                                    "(No column name)": "198905597"
                                },
                                {
                                    "year": "1990",
                                    "q": "4",
                                    "month": "12",
                                    "(No column name)": "59679131"
                                },
                                {
                                    "year": "1990",
                                    "q": "4",
                                    "month": "12",
                                    "(No column name)": "59679131"
                                },
                                {
                                    "year": "1991",
                                    "q": "NULL",
                                    "month": "NULL",
                                    "(No column name)": "1221190032"
                                },
                                {
                                    "year": "1991",
                                    "q": "1",
                                    "month": "NULL",
                                    "(No column name)": "118774316"
                                },
                                {
                                    "year": "1991",
                                    "q": "1",
                                    "month": "1",
                                    "(No column name)": "69540672"
                                },
                                {
                                    "year": "1991",
                                    "q": "1",
                                    "month": "1",
                                    "(No column name)": "69540672"
                                },
                                {
                                    "year": "1991",
                                    "q": "1",
                                    "month": "2",
                                    "(No column name)": "19149495"
                                },
                                {
                                    "year": "1991",
                                    "q": "1",
                                    "month": "2",
                                    "(No column name)": "19149495"
                                },
                                {
                                    "year": "1991",
                                    "q": "1",
                                    "month": "3",
                                    "(No column name)": "30084149"
                                },
                                {
                                    "year": "1991",
                                    "q": "1",
                                    "month": "3",
                                    "(No column name)": "30084149"
                                },
                                {
                                    "year": "1991",
                                    "q": "2",
                                    "month": "NULL",
                                    "(No column name)": "330146316"
                                },
                                {
                                    "year": "1991",
                                    "q": "2",
                                    "month": "4",
                                    "(No column name)": "47181395"
                                },
                                {
                                    "year": "1991",
                                    "q": "2",
                                    "month": "4",
                                    "(No column name)": "24939118"
                                },
                                {
                                    "year": "1991",
                                    "q": "2",
                                    "month": "4",
                                    "(No column name)": "72120513"
                                },
                                {
                                    "year": "1991",
                                    "q": "2",
                                    "month": "5",
                                    "(No column name)": "22580472"
                                },
                                {
                                    "year": "1991",
                                    "q": "2",
                                    "month": "5",
                                    "(No column name)": "127571325"
                                },
                                {
                                    "year": "1991",
                                    "q": "2",
                                    "month": "5",
                                    "(No column name)": "14617333"
                                },
                                {
                                    "year": "1991",
                                    "q": "2",
                                    "month": "5",
                                    "(No column name)": "164769130"
                                },
                                {
                                    "year": "1991",
                                    "q": "2",
                                    "month": "6",
                                    "(No column name)": "93256673"
                                },
                                {
                                    "year": "1991",
                                    "q": "2",
                                    "month": "6",
                                    "(No column name)": "93256673"
                                },
                                {
                                    "year": "1991",
                                    "q": "3",
                                    "month": "NULL",
                                    "(No column name)": "169942014"
                                },
                                {
                                    "year": "1991",
                                    "q": "3",
                                    "month": "7",
                                    "(No column name)": "75084021"
                                },
                                {
                                    "year": "1991",
                                    "q": "3",
                                    "month": "7",
                                    "(No column name)": "75084021"
                                },
                                {
                                    "year": "1991",
                                    "q": "3",
                                    "month": "9",
                                    "(No column name)": "37313540"
                                },
                                {
                                    "year": "1991",
                                    "q": "3",
                                    "month": "9",
                                    "(No column name)": "57544453"
                                },
                                {
                                    "year": "1991",
                                    "q": "3",
                                    "month": "9",
                                    "(No column name)": "94857993"
                                },
                                {
                                    "year": "1991",
                                    "q": "4",
                                    "month": "NULL",
                                    "(No column name)": "602327386"
                                },
                                {
                                    "year": "1991",
                                    "q": "4",
                                    "month": "10",
                                    "(No column name)": "28320147"
                                },
                                {
                                    "year": "1991",
                                    "q": "4",
                                    "month": "10",
                                    "(No column name)": "28320147"
                                },
                                {
                                    "year": "1991",
                                    "q": "4",
                                    "month": "11",
                                    "(No column name)": "31167691"
                                },
                                {
                                    "year": "1991",
                                    "q": "4",
                                    "month": "11",
                                    "(No column name)": "363017667"
                                },
                                {
                                    "year": "1991",
                                    "q": "4",
                                    "month": "11",
                                    "(No column name)": "394185358"
                                },
                                {
                                    "year": "1991",
                                    "q": "4",
                                    "month": "12",
                                    "(No column name)": "179821881"
                                },
                                {
                                    "year": "1991",
                                    "q": "4",
                                    "month": "12",
                                    "(No column name)": "179821881"
                                },
                                {
                                    "year": "1992",
                                    "q": "NULL",
                                    "month": "NULL",
                                    "(No column name)": "1736349861"
                                },
                                {
                                    "year": "1992",
                                    "q": "1",
                                    "month": "NULL",
                                    "(No column name)": "280640019"
                                },
                                {
                                    "year": "1992",
                                    "q": "1",
                                    "month": "1",
                                    "(No column name)": "178831137"
                                },
                                {
                                    "year": "1992",
                                    "q": "1",
                                    "month": "1",
                                    "(No column name)": "178831137"
                                },
                                {
                                    "year": "1992",
                                    "q": "1",
                                    "month": "2",
                                    "(No column name)": "91304495"
                                },
                                {
                                    "year": "1992",
                                    "q": "1",
                                    "month": "2",
                                    "(No column name)": "91304495"
                                },
                                {
                                    "year": "1992",
                                    "q": "1",
                                    "month": "3",
                                    "(No column name)": "10504387"
                                },
                                {
                                    "year": "1992",
                                    "q": "1",
                                    "month": "3",
                                    "(No column name)": "10504387"
                                },
                                {
                                    "year": "1992",
                                    "q": "2",
                                    "month": "NULL",
                                    "(No column name)": "421706215"
                                },
                                {
                                    "year": "1992",
                                    "q": "2",
                                    "month": "4",
                                    "(No column name)": "13685329"
                                },
                                {
                                    "year": "1992",
                                    "q": "2",
                                    "month": "4",
                                    "(No column name)": "43068356"
                                },
                                {
                                    "year": "1992",
                                    "q": "2",
                                    "month": "4",
                                    "(No column name)": "56753685"
                                },
                                {
                                    "year": "1992",
                                    "q": "2",
                                    "month": "5",
                                    "(No column name)": "364952530"
                                },
                                {
                                    "year": "1992",
                                    "q": "2",
                                    "month": "5",
                                    "(No column name)": "364952530"
                                },
                                {
                                    "year": "1992",
                                    "q": "3",
                                    "month": "NULL",
                                    "(No column name)": "280864847"
                                },
                                {
                                    "year": "1992",
                                    "q": "3",
                                    "month": "7",
                                    "(No column name)": "119162518"
                                },
                                {
                                    "year": "1992",
                                    "q": "3",
                                    "month": "7",
                                    "(No column name)": "24950752"
                                },
                                {
                                    "year": "1992",
                                    "q": "3",
                                    "month": "7",
                                    "(No column name)": "144113270"
                                },
                                {
                                    "year": "1992",
                                    "q": "3",
                                    "month": "8",
                                    "(No column name)": "7295423"
                                },
                                {
                                    "year": "1992",
                                    "q": "3",
                                    "month": "8",
                                    "(No column name)": "58965304"
                                },
                                {
                                    "year": "1992",
                                    "q": "3",
                                    "month": "8",
                                    "(No column name)": "66260727"
                                },
                                {
                                    "year": "1992",
                                    "q": "3",
                                    "month": "9",
                                    "(No column name)": "45741576"
                                },
                                {
                                    "year": "1992",
                                    "q": "3",
                                    "month": "9",
                                    "(No column name)": "14841352"
                                },
                                {
                                    "year": "1992",
                                    "q": "3",
                                    "month": "9",
                                    "(No column name)": "9907922"
                                },
                                {
                                    "year": "1992",
                                    "q": "3",
                                    "month": "9",
                                    "(No column name)": "70490850"
                                },
                                {
                                    "year": "1992",
                                    "q": "4",
                                    "month": "NULL",
                                    "(No column name)": "753138780"
                                },
                                {
                                    "year": "1992",
                                    "q": "4",
                                    "month": "10",
                                    "(No column name)": "14421454"
                                },
                                {
                                    "year": "1992",
                                    "q": "4",
                                    "month": "10",
                                    "(No column name)": "103120810"
                                },
                                {
                                    "year": "1992",
                                    "q": "4",
                                    "month": "10",
                                    "(No column name)": "43859823"
                                },
                                {
                                    "year": "1992",
                                    "q": "4",
                                    "month": "10",
                                    "(No column name)": "161402087"
                                },
                                {
                                    "year": "1992",
                                    "q": "4",
                                    "month": "11",
                                    "(No column name)": "441969178"
                                },
                                {
                                    "year": "1992",
                                    "q": "4",
                                    "month": "11",
                                    "(No column name)": "441969178"
                                },
                                {
                                    "year": "1992",
                                    "q": "4",
                                    "month": "12",
                                    "(No column name)": "149767515"
                                },
                                {
                                    "year": "1992",
                                    "q": "4",
                                    "month": "12",
                                    "(No column name)": "149767515"
                                },
                                {
                                    "year": "1993",
                                    "q": "NULL",
                                    "month": "NULL",
                                    "(No column name)": "1427312980"
                                },
                                {
                                    "year": "1993",
                                    "q": "1",
                                    "month": "NULL",
                                    "(No column name)": "260319183"
                                },
                                {
                                    "year": "1993",
                                    "q": "1",
                                    "month": "1",
                                    "(No column name)": "73914543"
                                },
                                {
                                    "year": "1993",
                                    "q": "1",
                                    "month": "1",
                                    "(No column name)": "15970955"
                                },
                                {
                                    "year": "1993",
                                    "q": "1",
                                    "month": "1",
                                    "(No column name)": "89885498"
                                },
                                {
                                    "year": "1993",
                                    "q": "1",
                                    "month": "2",
                                    "(No column name)": "85182343"
                                },
                                {
                                    "year": "1993",
                                    "q": "1",
                                    "month": "2",
                                    "(No column name)": "11369541"
                                },
                                {
                                    "year": "1993",
                                    "q": "1",
                                    "month": "2",
                                    "(No column name)": "96551884"
                                },
                                {
                                    "year": "1993",
                                    "q": "1",
                                    "month": "3",
                                    "(No column name)": "26248558"
                                },
                                {
                                    "year": "1993",
                                    "q": "1",
                                    "month": "3",
                                    "(No column name)": "11468231"
                                },
                                {
                                    "year": "1993",
                                    "q": "1",
                                    "month": "3",
                                    "(No column name)": "36165012"
                                },
                                {
                                    "year": "1993",
                                    "q": "1",
                                    "month": "3",
                                    "(No column name)": "73881801"
                                },
                                {
                                    "year": "1993",
                                    "q": "2",
                                    "month": "NULL",
                                    "(No column name)": "281480471"
                                },
                                {
                                    "year": "1993",
                                    "q": "2",
                                    "month": "4",
                                    "(No column name)": "9156084"
                                },
                                {
                                    "year": "1993",
                                    "q": "2",
                                    "month": "4",
                                    "(No column name)": "49080505"
                                },
                                {
                                    "year": "1993",
                                    "q": "2",
                                    "month": "4",
                                    "(No column name)": "29968953"
                                },
                                {
                                    "year": "1993",
                                    "q": "2",
                                    "month": "4",
                                    "(No column name)": "88205542"
                                },
                                {
                                    "year": "1993",
                                    "q": "2",
                                    "month": "5",
                                    "(No column name)": "42445058"
                                },
                                {
                                    "year": "1993",
                                    "q": "2",
                                    "month": "5",
                                    "(No column name)": "42445058"
                                },
                                {
                                    "year": "1993",
                                    "q": "2",
                                    "month": "6",
                                    "(No column name)": "25146538"
                                },
                                {
                                    "year": "1993",
                                    "q": "2",
                                    "month": "6",
                                    "(No column name)": "79618610"
                                },
                                {
                                    "year": "1993",
                                    "q": "2",
                                    "month": "6",
                                    "(No column name)": "46064723"
                                },
                                {
                                    "year": "1993",
                                    "q": "2",
                                    "month": "6",
                                    "(No column name)": "150829871"
                                },
                                {
                                    "year": "1993",
                                    "q": "3",
                                    "month": "NULL",
                                    "(No column name)": "303036179"
                                },
                                {
                                    "year": "1993",
                                    "q": "3",
                                    "month": "7",
                                    "(No column name)": "174012053"
                                },
                                {
                                    "year": "1993",
                                    "q": "3",
                                    "month": "7",
                                    "(No column name)": "174012053"
                                },
                                {
                                    "year": "1993",
                                    "q": "3",
                                    "month": "8",
                                    "(No column name)": "13209203"
                                },
                                {
                                    "year": "1993",
                                    "q": "3",
                                    "month": "8",
                                    "(No column name)": "13209203"
                                },
                                {
                                    "year": "1993",
                                    "q": "3",
                                    "month": "9",
                                    "(No column name)": "46919256"
                                },
                                {
                                    "year": "1993",
                                    "q": "3",
                                    "month": "9",
                                    "(No column name)": "2127496"
                                },
                                {
                                    "year": "1993",
                                    "q": "3",
                                    "month": "9",
                                    "(No column name)": "66768171"
                                },
                                {
                                    "year": "1993",
                                    "q": "3",
                                    "month": "9",
                                    "(No column name)": "115814923"
                                },
                                {
                                    "year": "1993",
                                    "q": "4",
                                    "month": "NULL",
                                    "(No column name)": "582477147"
                                },
                                {
                                    "year": "1993",
                                    "q": "4",
                                    "month": "10",
                                    "(No column name)": "140392731"
                                },
                                {
                                    "year": "1993",
                                    "q": "4",
                                    "month": "10",
                                    "(No column name)": "100026637"
                                },
                                {
                                    "year": "1993",
                                    "q": "4",
                                    "month": "10",
                                    "(No column name)": "240419368"
                                },
                                {
                                    "year": "1993",
                                    "q": "4",
                                    "month": "11",
                                    "(No column name)": "109310377"
                                },
                                {
                                    "year": "1993",
                                    "q": "4",
                                    "month": "11",
                                    "(No column name)": "109310377"
                                },
                                {
                                    "year": "1993",
                                    "q": "4",
                                    "month": "12",
                                    "(No column name)": "116965668"
                                },
                                {
                                    "year": "1993",
                                    "q": "4",
                                    "month": "12",
                                    "(No column name)": "115781734"
                                },
                                {
                                    "year": "1993",
                                    "q": "4",
                                    "month": "12",
                                    "(No column name)": "232747402"
                                },
                                {
                                    "year": "1994",
                                    "q": "NULL",
                                    "month": "NULL",
                                    "(No column name)": "2140690807"
                                },
                                {
                                    "year": "1994",
                                    "q": "1",
                                    "month": "NULL",
                                    "(No column name)": "297805767"
                                },
                                {
                                    "year": "1994",
                                    "q": "1",
                                    "month": "1",
                                    "(No column name)": "5170709"
                                },
                                {
                                    "year": "1994",
                                    "q": "1",
                                    "month": "1",
                                    "(No column name)": "50108763"
                                },
                                {
                                    "year": "1994",
                                    "q": "1",
                                    "month": "1",
                                    "(No column name)": "42610902"
                                },
                                {
                                    "year": "1994",
                                    "q": "1",
                                    "month": "1",
                                    "(No column name)": "97890374"
                                },
                                {
                                    "year": "1994",
                                    "q": "1",
                                    "month": "2",
                                    "(No column name)": "63170804"
                                },
                                {
                                    "year": "1994",
                                    "q": "1",
                                    "month": "2",
                                    "(No column name)": "63170804"
                                },
                                {
                                    "year": "1994",
                                    "q": "1",
                                    "month": "3",
                                    "(No column name)": "136744589"
                                },
                                {
                                    "year": "1994",
                                    "q": "1",
                                    "month": "3",
                                    "(No column name)": "136744589"
                                },
                                {
                                    "year": "1994",
                                    "q": "2",
                                    "month": "NULL",
                                    "(No column name)": "1040732436"
                                },
                                {
                                    "year": "1994",
                                    "q": "2",
                                    "month": "4",
                                    "(No column name)": "18083994"
                                },
                                {
                                    "year": "1994",
                                    "q": "2",
                                    "month": "4",
                                    "(No column name)": "19789695"
                                },
                                {
                                    "year": "1994",
                                    "q": "2",
                                    "month": "4",
                                    "(No column name)": "103354194"
                                },
                                {
                                    "year": "1994",
                                    "q": "2",
                                    "month": "4",
                                    "(No column name)": "141227883"
                                },
                                {
                                    "year": "1994",
                                    "q": "2",
                                    "month": "5",
                                    "(No column name)": "24267154"
                                },
                                {
                                    "year": "1994",
                                    "q": "2",
                                    "month": "5",
                                    "(No column name)": "24267154"
                                },
                                {
                                    "year": "1994",
                                    "q": "2",
                                    "month": "6",
                                    "(No column name)": "761640898"
                                },
                                {
                                    "year": "1994",
                                    "q": "2",
                                    "month": "6",
                                    "(No column name)": "49945474"
                                },
                                {
                                    "year": "1994",
                                    "q": "2",
                                    "month": "6",
                                    "(No column name)": "63651027"
                                },
                                {
                                    "year": "1994",
                                    "q": "2",
                                    "month": "6",
                                    "(No column name)": "875237399"
                                },
                                {
                                    "year": "1994",
                                    "q": "3",
                                    "month": "NULL",
                                    "(No column name)": "329945285"
                                },
                                {
                                    "year": "1994",
                                    "q": "3",
                                    "month": "7",
                                    "(No column name)": "103798152"
                                },
                                {
                                    "year": "1994",
                                    "q": "3",
                                    "month": "7",
                                    "(No column name)": "103798152"
                                },
                                {
                                    "year": "1994",
                                    "q": "3",
                                    "month": "8",
                                    "(No column name)": "81375785"
                                },
                                {
                                    "year": "1994",
                                    "q": "3",
                                    "month": "8",
                                    "(No column name)": "40804816"
                                },
                                {
                                    "year": "1994",
                                    "q": "3",
                                    "month": "8",
                                    "(No column name)": "122180601"
                                },
                                {
                                    "year": "1994",
                                    "q": "3",
                                    "month": "9",
                                    "(No column name)": "34048315"
                                },
                                {
                                    "year": "1994",
                                    "q": "3",
                                    "month": "9",
                                    "(No column name)": "12042634"
                                },
                                {
                                    "year": "1994",
                                    "q": "3",
                                    "month": "9",
                                    "(No column name)": "57875583"
                                },
                                {
                                    "year": "1994",
                                    "q": "3",
                                    "month": "9",
                                    "(No column name)": "103966532"
                                },
                                {
                                    "year": "1994",
                                    "q": "4",
                                    "month": "NULL",
                                    "(No column name)": "472207319"
                                },
                                {
                                    "year": "1994",
                                    "q": "4",
                                    "month": "10",
                                    "(No column name)": "6858345"
                                },
                                {
                                    "year": "1994",
                                    "q": "4",
                                    "month": "10",
                                    "(No column name)": "17727017"
                                },
                                {
                                    "year": "1994",
                                    "q": "4",
                                    "month": "10",
                                    "(No column name)": "24585362"
                                },
                                {
                                    "year": "1994",
                                    "q": "4",
                                    "month": "11",
                                    "(No column name)": "60321919"
                                },
                                {
                                    "year": "1994",
                                    "q": "4",
                                    "month": "11",
                                    "(No column name)": "298369717"
                                },
                                {
                                    "year": "1994",
                                    "q": "4",
                                    "month": "11",
                                    "(No column name)": "358691636"
                                },
                                {
                                    "year": "1994",
                                    "q": "4",
                                    "month": "12",
                                    "(No column name)": "88930321"
                                },
                                {
                                    "year": "1994",
                                    "q": "4",
                                    "month": "12",
                                    "(No column name)": "88930321"
                                },
                                {
                                    "year": "1995",
                                    "q": "NULL",
                                    "month": "NULL",
                                    "(No column name)": "2188599043"
                                },
                                {
                                    "year": "1995",
                                    "q": "1",
                                    "month": "NULL",
                                    "(No column name)": "240254848"
                                },
                                {
                                    "year": "1995",
                                    "q": "1",
                                    "month": "1",
                                    "(No column name)": "51016522"
                                },
                                {
                                    "year": "1995",
                                    "q": "1",
                                    "month": "1",
                                    "(No column name)": "9857435"
                                },
                                {
                                    "year": "1995",
                                    "q": "1",
                                    "month": "1",
                                    "(No column name)": "6829092"
                                },
                                {
                                    "year": "1995",
                                    "q": "1",
                                    "month": "1",
                                    "(No column name)": "67703049"
                                },
                                {
                                    "year": "1995",
                                    "q": "1",
                                    "month": "2",
                                    "(No column name)": "48887340"
                                },
                                {
                                    "year": "1995",
                                    "q": "1",
                                    "month": "2",
                                    "(No column name)": "48887340"
                                },
                                {
                                    "year": "1995",
                                    "q": "1",
                                    "month": "3",
                                    "(No column name)": "102003253"
                                },
                                {
                                    "year": "1995",
                                    "q": "1",
                                    "month": "3",
                                    "(No column name)": "4770461"
                                },
                                {
                                    "year": "1995",
                                    "q": "1",
                                    "month": "3",
                                    "(No column name)": "907414"
                                },
                                {
                                    "year": "1995",
                                    "q": "1",
                                    "month": "3",
                                    "(No column name)": "15983331"
                                },
                                {
                                    "year": "1995",
                                    "q": "1",
                                    "month": "3",
                                    "(No column name)": "123664459"
                                },
                                {
                                    "year": "1995",
                                    "q": "2",
                                    "month": "NULL",
                                    "(No column name)": "774192595"
                                },
                                {
                                    "year": "1995",
                                    "q": "2",
                                    "month": "4",
                                    "(No column name)": "68479579"
                                },
                                {
                                    "year": "1995",
                                    "q": "2",
                                    "month": "4",
                                    "(No column name)": "157082900"
                                },
                                {
                                    "year": "1995",
                                    "q": "2",
                                    "month": "4",
                                    "(No column name)": "225562479"
                                },
                                {
                                    "year": "1995",
                                    "q": "2",
                                    "month": "5",
                                    "(No column name)": "177102077"
                                },
                                {
                                    "year": "1995",
                                    "q": "2",
                                    "month": "5",
                                    "(No column name)": "29934306"
                                },
                                {
                                    "year": "1995",
                                    "q": "2",
                                    "month": "5",
                                    "(No column name)": "207036383"
                                },
                                {
                                    "year": "1995",
                                    "q": "2",
                                    "month": "6",
                                    "(No column name)": "67222776"
                                },
                                {
                                    "year": "1995",
                                    "q": "2",
                                    "month": "6",
                                    "(No column name)": "274370957"
                                },
                                {
                                    "year": "1995",
                                    "q": "2",
                                    "month": "6",
                                    "(No column name)": "341593733"
                                },
                                {
                                    "year": "1995",
                                    "q": "3",
                                    "month": "NULL",
                                    "(No column name)": "299249083"
                                },
                                {
                                    "year": "1995",
                                    "q": "3",
                                    "month": "7",
                                    "(No column name)": "47809421"
                                },
                                {
                                    "year": "1995",
                                    "q": "3",
                                    "month": "7",
                                    "(No column name)": "47809421"
                                },
                                {
                                    "year": "1995",
                                    "q": "3",
                                    "month": "8",
                                    "(No column name)": "25981285"
                                },
                                {
                                    "year": "1995",
                                    "q": "3",
                                    "month": "8",
                                    "(No column name)": "164552293"
                                },
                                {
                                    "year": "1995",
                                    "q": "3",
                                    "month": "8",
                                    "(No column name)": "190533578"
                                },
                                {
                                    "year": "1995",
                                    "q": "3",
                                    "month": "9",
                                    "(No column name)": "34372339"
                                },
                                {
                                    "year": "1995",
                                    "q": "3",
                                    "month": "9",
                                    "(No column name)": "15365850"
                                },
                                {
                                    "year": "1995",
                                    "q": "3",
                                    "month": "9",
                                    "(No column name)": "11167895"
                                },
                                {
                                    "year": "1995",
                                    "q": "3",
                                    "month": "9",
                                    "(No column name)": "60906084"
                                },
                                {
                                    "year": "1995",
                                    "q": "4",
                                    "month": "NULL",
                                    "(No column name)": "874902517"
                                },
                                {
                                    "year": "1995",
                                    "q": "4",
                                    "month": "10",
                                    "(No column name)": "127112058"
                                },
                                {
                                    "year": "1995",
                                    "q": "4",
                                    "month": "10",
                                    "(No column name)": "127112058"
                                },
                                {
                                    "year": "1995",
                                    "q": "4",
                                    "month": "11",
                                    "(No column name)": "370409631"
                                },
                                {
                                    "year": "1995",
                                    "q": "4",
                                    "month": "11",
                                    "(No column name)": "370409631"
                                },
                                {
                                    "year": "1995",
                                    "q": "4",
                                    "month": "12",
                                    "(No column name)": "45911517"
                                },
                                {
                                    "year": "1995",
                                    "q": "4",
                                    "month": "12",
                                    "(No column name)": "147658438"
                                },
                                {
                                    "year": "1995",
                                    "q": "4",
                                    "month": "12",
                                    "(No column name)": "183810873"
                                },
                                {
                                    "year": "1995",
                                    "q": "4",
                                    "month": "12",
                                    "(No column name)": "377380828"
                                },
                                {
                                    "year": "1996",
                                    "q": "NULL",
                                    "month": "NULL",
                                    "(No column name)": "2157238999"
                                },
                                {
                                    "year": "1996",
                                    "q": "1",
                                    "month": "NULL",
                                    "(No column name)": "289647492"
                                },
                                {
                                    "year": "1996",
                                    "q": "1",
                                    "month": "2",
                                    "(No column name)": "84980293"
                                },
                                {
                                    "year": "1996",
                                    "q": "1",
                                    "month": "2",
                                    "(No column name)": "16482589"
                                },
                                {
                                    "year": "1996",
                                    "q": "1",
                                    "month": "2",
                                    "(No column name)": "24422334"
                                },
                                {
                                    "year": "1996",
                                    "q": "1",
                                    "month": "2",
                                    "(No column name)": "125885216"
                                },
                                {
                                    "year": "1996",
                                    "q": "1",
                                    "month": "3",
                                    "(No column name)": "62384706"
                                },
                                {
                                    "year": "1996",
                                    "q": "1",
                                    "month": "3",
                                    "(No column name)": "1963937"
                                },
                                {
                                    "year": "1996",
                                    "q": "1",
                                    "month": "3",
                                    "(No column name)": "97356578"
                                },
                                {
                                    "year": "1996",
                                    "q": "1",
                                    "month": "3",
                                    "(No column name)": "2057055"
                                },
                                {
                                    "year": "1996",
                                    "q": "1",
                                    "month": "3",
                                    "(No column name)": "163762276"
                                },
                                {
                                    "year": "1996",
                                    "q": "2",
                                    "month": "NULL",
                                    "(No column name)": "683676060"
                                },
                                {
                                    "year": "1996",
                                    "q": "2",
                                    "month": "4",
                                    "(No column name)": "55159783"
                                },
                                {
                                    "year": "1996",
                                    "q": "2",
                                    "month": "4",
                                    "(No column name)": "17623615"
                                },
                                {
                                    "year": "1996",
                                    "q": "2",
                                    "month": "4",
                                    "(No column name)": "72783398"
                                },
                                {
                                    "year": "1996",
                                    "q": "2",
                                    "month": "5",
                                    "(No column name)": "111202878"
                                },
                                {
                                    "year": "1996",
                                    "q": "2",
                                    "month": "5",
                                    "(No column name)": "52998280"
                                },
                                {
                                    "year": "1996",
                                    "q": "2",
                                    "month": "5",
                                    "(No column name)": "164201158"
                                },
                                {
                                    "year": "1996",
                                    "q": "2",
                                    "month": "6",
                                    "(No column name)": "255702705"
                                },
                                {
                                    "year": "1996",
                                    "q": "2",
                                    "month": "6",
                                    "(No column name)": "190988799"
                                },
                                {
                                    "year": "1996",
                                    "q": "2",
                                    "month": "6",
                                    "(No column name)": "446691504"
                                },
                                {
                                    "year": "1996",
                                    "q": "3",
                                    "month": "NULL",
                                    "(No column name)": "414112033"
                                },
                                {
                                    "year": "1996",
                                    "q": "3",
                                    "month": "7",
                                    "(No column name)": "36009655"
                                },
                                {
                                    "year": "1996",
                                    "q": "3",
                                    "month": "7",
                                    "(No column name)": "199559799"
                                },
                                {
                                    "year": "1996",
                                    "q": "3",
                                    "month": "7",
                                    "(No column name)": "235569454"
                                },
                                {
                                    "year": "1996",
                                    "q": "3",
                                    "month": "8",
                                    "(No column name)": "50465108"
                                },
                                {
                                    "year": "1996",
                                    "q": "3",
                                    "month": "8",
                                    "(No column name)": "111792852"
                                },
                                {
                                    "year": "1996",
                                    "q": "3",
                                    "month": "8",
                                    "(No column name)": "162257960"
                                },
                                {
                                    "year": "1996",
                                    "q": "3",
                                    "month": "9",
                                    "(No column name)": "16284619"
                                },
                                {
                                    "year": "1996",
                                    "q": "3",
                                    "month": "9",
                                    "(No column name)": "16284619"
                                },
                                {
                                    "year": "1996",
                                    "q": "4",
                                    "month": "NULL",
                                    "(No column name)": "769803414"
                                },
                                {
                                    "year": "1996",
                                    "q": "4",
                                    "month": "10",
                                    "(No column name)": "68046648"
                                },
                                {
                                    "year": "1996",
                                    "q": "4",
                                    "month": "10",
                                    "(No column name)": "68046648"
                                },
                                {
                                    "year": "1996",
                                    "q": "4",
                                    "month": "11",
                                    "(No column name)": "65543"
                                },
                                {
                                    "year": "1996",
                                    "q": "4",
                                    "month": "11",
                                    "(No column name)": "259807820"
                                },
                                {
                                    "year": "1996",
                                    "q": "4",
                                    "month": "11",
                                    "(No column name)": "258728898"
                                },
                                {
                                    "year": "1996",
                                    "q": "4",
                                    "month": "11",
                                    "(No column name)": "518602261"
                                },
                                {
                                    "year": "1996",
                                    "q": "4",
                                    "month": "12",
                                    "(No column name)": "91076877"
                                },
                                {
                                    "year": "1996",
                                    "q": "4",
                                    "month": "12",
                                    "(No column name)": "92077628"
                                },
                                {
                                    "year": "1996",
                                    "q": "4",
                                    "month": "12",
                                    "(No column name)": "183154505"
                                },
                                {
                                    "year": "1997",
                                    "q": "NULL",
                                    "month": "NULL",
                                    "(No column name)": "1474848034"
                                },
                                {
                                    "year": "1997",
                                    "q": "1",
                                    "month": "NULL",
                                    "(No column name)": "234635360"
                                },
                                {
                                    "year": "1997",
                                    "q": "1",
                                    "month": "1",
                                    "(No column name)": "58804106"
                                },
                                {
                                    "year": "1997",
                                    "q": "1",
                                    "month": "1",
                                    "(No column name)": "1085093"
                                },
                                {
                                    "year": "1997",
                                    "q": "1",
                                    "month": "1",
                                    "(No column name)": "3957025"
                                },
                                {
                                    "year": "1997",
                                    "q": "1",
                                    "month": "1",
                                    "(No column name)": "63846224"
                                },
                                {
                                    "year": "1997",
                                    "q": "1",
                                    "month": "2",
                                    "(No column name)": "33613158"
                                },
                                {
                                    "year": "1997",
                                    "q": "1",
                                    "month": "2",
                                    "(No column name)": "33613158"
                                },
                                {
                                    "year": "1997",
                                    "q": "1",
                                    "month": "3",
                                    "(No column name)": "137175978"
                                },
                                {
                                    "year": "1997",
                                    "q": "1",
                                    "month": "3",
                                    "(No column name)": "137175978"
                                },
                                {
                                    "year": "1997",
                                    "q": "2",
                                    "month": "NULL",
                                    "(No column name)": "509280899"
                                },
                                {
                                    "year": "1997",
                                    "q": "2",
                                    "month": "4",
                                    "(No column name)": "51579764"
                                },
                                {
                                    "year": "1997",
                                    "q": "2",
                                    "month": "4",
                                    "(No column name)": "53693680"
                                },
                                {
                                    "year": "1997",
                                    "q": "2",
                                    "month": "4",
                                    "(No column name)": "105273444"
                                },
                                {
                                    "year": "1997",
                                    "q": "2",
                                    "month": "5",
                                    "(No column name)": "36265379"
                                },
                                {
                                    "year": "1997",
                                    "q": "2",
                                    "month": "5",
                                    "(No column name)": "36265379"
                                },
                                {
                                    "year": "1997",
                                    "q": "2",
                                    "month": "6",
                                    "(No column name)": "185712664"
                                },
                                {
                                    "year": "1997",
                                    "q": "2",
                                    "month": "6",
                                    "(No column name)": "182029412"
                                },
                                {
                                    "year": "1997",
                                    "q": "2",
                                    "month": "6",
                                    "(No column name)": "367742076"
                                },
                                {
                                    "year": "1997",
                                    "q": "3",
                                    "month": "NULL",
                                    "(No column name)": "423314170"
                                },
                                {
                                    "year": "1997",
                                    "q": "3",
                                    "month": "7",
                                    "(No column name)": "275018727"
                                },
                                {
                                    "year": "1997",
                                    "q": "3",
                                    "month": "7",
                                    "(No column name)": "275018727"
                                },
                                {
                                    "year": "1997",
                                    "q": "3",
                                    "month": "8",
                                    "(No column name)": "45266588"
                                },
                                {
                                    "year": "1997",
                                    "q": "3",
                                    "month": "8",
                                    "(No column name)": "88467531"
                                },
                                {
                                    "year": "1997",
                                    "q": "3",
                                    "month": "8",
                                    "(No column name)": "133734119"
                                },
                                {
                                    "year": "1997",
                                    "q": "3",
                                    "month": "9",
                                    "(No column name)": "14561324"
                                },
                                {
                                    "year": "1997",
                                    "q": "3",
                                    "month": "9",
                                    "(No column name)": "14561324"
                                },
                                {
                                    "year": "1997",
                                    "q": "4",
                                    "month": "NULL",
                                    "(No column name)": "307617605"
                                },
                                {
                                    "year": "1997",
                                    "q": "4",
                                    "month": "10",
                                    "(No column name)": "28371890"
                                },
                                {
                                    "year": "1997",
                                    "q": "4",
                                    "month": "10",
                                    "(No column name)": "3257546"
                                },
                                {
                                    "year": "1997",
                                    "q": "4",
                                    "month": "10",
                                    "(No column name)": "7652965"
                                },
                                {
                                    "year": "1997",
                                    "q": "4",
                                    "month": "10",
                                    "(No column name)": "39282401"
                                },
                                {
                                    "year": "1997",
                                    "q": "4",
                                    "month": "11",
                                    "(No column name)": "170406423"
                                },
                                {
                                    "year": "1997",
                                    "q": "4",
                                    "month": "11",
                                    "(No column name)": "170406423"
                                },
                                {
                                    "year": "1997",
                                    "q": "4",
                                    "month": "12",
                                    "(No column name)": "39145784"
                                },
                                {
                                    "year": "1997",
                                    "q": "4",
                                    "month": "12",
                                    "(No column name)": "10236836"
                                },
                                {
                                    "year": "1997",
                                    "q": "4",
                                    "month": "12",
                                    "(No column name)": "48546161"
                                },
                                {
                                    "year": "1997",
                                    "q": "4",
                                    "month": "12",
                                    "(No column name)": "97928781"
                                },
                                {
                                    "year": "1998",
                                    "q": "NULL",
                                    "month": "NULL",
                                    "(No column name)": "2189031209"
                                },
                                {
                                    "year": "1998",
                                    "q": "1",
                                    "month": "NULL",
                                    "(No column name)": "41657562"
                                },
                                {
                                    "year": "1998",
                                    "q": "1",
                                    "month": "1",
                                    "(No column name)": "20136775"
                                },
                                {
                                    "year": "1998",
                                    "q": "1",
                                    "month": "1",
                                    "(No column name)": "20136775"
                                },
                                {
                                    "year": "1998",
                                    "q": "1",
                                    "month": "2",
                                    "(No column name)": "13690910"
                                },
                                {
                                    "year": "1998",
                                    "q": "1",
                                    "month": "2",
                                    "(No column name)": "13690910"
                                },
                                {
                                    "year": "1998",
                                    "q": "1",
                                    "month": "3",
                                    "(No column name)": "7829877"
                                },
                                {
                                    "year": "1998",
                                    "q": "1",
                                    "month": "3",
                                    "(No column name)": "7829877"
                                },
                                {
                                    "year": "1998",
                                    "q": "2",
                                    "month": "NULL",
                                    "(No column name)": "524692827"
                                },
                                {
                                    "year": "1998",
                                    "q": "2",
                                    "month": "5",
                                    "(No column name)": "174264479"
                                },
                                {
                                    "year": "1998",
                                    "q": "2",
                                    "month": "5",
                                    "(No column name)": "174264479"
                                },
                                {
                                    "year": "1998",
                                    "q": "2",
                                    "month": "6",
                                    "(No column name)": "216807832"
                                },
                                {
                                    "year": "1998",
                                    "q": "2",
                                    "month": "6",
                                    "(No column name)": "133620516"
                                },
                                {
                                    "year": "1998",
                                    "q": "2",
                                    "month": "6",
                                    "(No column name)": "350428348"
                                },
                                {
                                    "year": "1998",
                                    "q": "3",
                                    "month": "NULL",
                                    "(No column name)": "551398064"
                                },
                                {
                                    "year": "1998",
                                    "q": "3",
                                    "month": "7",
                                    "(No column name)": "362324957"
                                },
                                {
                                    "year": "1998",
                                    "q": "3",
                                    "month": "7",
                                    "(No column name)": "154853722"
                                },
                                {
                                    "year": "1998",
                                    "q": "3",
                                    "month": "7",
                                    "(No column name)": "517178679"
                                },
                                {
                                    "year": "1998",
                                    "q": "3",
                                    "month": "9",
                                    "(No column name)": "34219385"
                                },
                                {
                                    "year": "1998",
                                    "q": "3",
                                    "month": "9",
                                    "(No column name)": "34219385"
                                },
                                {
                                    "year": "1998",
                                    "q": "4",
                                    "month": "NULL",
                                    "(No column name)": "1071282756"
                                },
                                {
                                    "year": "1998",
                                    "q": "4",
                                    "month": "10",
                                    "(No column name)": "21694605"
                                },
                                {
                                    "year": "1998",
                                    "q": "4",
                                    "month": "10",
                                    "(No column name)": "41062682"
                                },
                                {
                                    "year": "1998",
                                    "q": "4",
                                    "month": "10",
                                    "(No column name)": "62757287"
                                },
                                {
                                    "year": "1998",
                                    "q": "4",
                                    "month": "11",
                                    "(No column name)": "198472008"
                                },
                                {
                                    "year": "1998",
                                    "q": "4",
                                    "month": "11",
                                    "(No column name)": "288981698"
                                },
                                {
                                    "year": "1998",
                                    "q": "4",
                                    "month": "11",
                                    "(No column name)": "310633673"
                                },
                                {
                                    "year": "1998",
                                    "q": "4",
                                    "month": "11",
                                    "(No column name)": "798087379"
                                },
                                {
                                    "year": "1998",
                                    "q": "4",
                                    "month": "12",
                                    "(No column name)": "87906042"
                                },
                                {
                                    "year": "1998",
                                    "q": "4",
                                    "month": "12",
                                    "(No column name)": "28392518"
                                },
                                {
                                    "year": "1998",
                                    "q": "4",
                                    "month": "12",
                                    "(No column name)": "94139530"
                                },
                                {
                                    "year": "1998",
                                    "q": "4",
                                    "month": "12",
                                    "(No column name)": "210438090"
                                },
                                {
                                    "year": "1999",
                                    "q": "NULL",
                                    "month": "NULL",
                                    "(No column name)": "1981582799"
                                },
                                {
                                    "year": "1999",
                                    "q": "1",
                                    "month": "NULL",
                                    "(No column name)": "202879153"
                                },
                                {
                                    "year": "1999",
                                    "q": "1",
                                    "month": "2",
                                    "(No column name)": "61150849"
                                },
                                {
                                    "year": "1999",
                                    "q": "1",
                                    "month": "2",
                                    "(No column name)": "46145331"
                                },
                                {
                                    "year": "1999",
                                    "q": "1",
                                    "month": "2",
                                    "(No column name)": "107296180"
                                },
                                {
                                    "year": "1999",
                                    "q": "1",
                                    "month": "3",
                                    "(No column name)": "32228598"
                                },
                                {
                                    "year": "1999",
                                    "q": "1",
                                    "month": "3",
                                    "(No column name)": "63354375"
                                },
                                {
                                    "year": "1999",
                                    "q": "1",
                                    "month": "3",
                                    "(No column name)": "95582973"
                                },
                                {
                                    "year": "1999",
                                    "q": "2",
                                    "month": "NULL",
                                    "(No column name)": "340876314"
                                },
                                {
                                    "year": "1999",
                                    "q": "2",
                                    "month": "5",
                                    "(No column name)": "380218"
                                },
                                {
                                    "year": "1999",
                                    "q": "2",
                                    "month": "5",
                                    "(No column name)": "380218"
                                },
                                {
                                    "year": "1999",
                                    "q": "2",
                                    "month": "6",
                                    "(No column name)": "283900254"
                                },
                                {
                                    "year": "1999",
                                    "q": "2",
                                    "month": "6",
                                    "(No column name)": "56595842"
                                },
                                {
                                    "year": "1999",
                                    "q": "2",
                                    "month": "6",
                                    "(No column name)": "340496096"
                                },
                                {
                                    "year": "1999",
                                    "q": "3",
                                    "month": "NULL",
                                    "(No column name)": "741167083"
                                },
                                {
                                    "year": "1999",
                                    "q": "3",
                                    "month": "7",
                                    "(No column name)": "161610341"
                                },
                                {
                                    "year": "1999",
                                    "q": "3",
                                    "month": "7",
                                    "(No column name)": "32007656"
                                },
                                {
                                    "year": "1999",
                                    "q": "3",
                                    "month": "7",
                                    "(No column name)": "193617997"
                                },
                                {
                                    "year": "1999",
                                    "q": "3",
                                    "month": "8",
                                    "(No column name)": "54262148"
                                },
                                {
                                    "year": "1999",
                                    "q": "3",
                                    "month": "8",
                                    "(No column name)": "485424724"
                                },
                                {
                                    "year": "1999",
                                    "q": "3",
                                    "month": "8",
                                    "(No column name)": "539686872"
                                },
                                {
                                    "year": "1999",
                                    "q": "3",
                                    "month": "9",
                                    "(No column name)": "7862214"
                                },
                                {
                                    "year": "1999",
                                    "q": "3",
                                    "month": "9",
                                    "(No column name)": "7862214"
                                },
                                {
                                    "year": "1999",
                                    "q": "4",
                                    "month": "NULL",
                                    "(No column name)": "696660249"
                                },
                                {
                                    "year": "1999",
                                    "q": "4",
                                    "month": "10",
                                    "(No column name)": "14755189"
                                },
                                {
                                    "year": "1999",
                                    "q": "4",
                                    "month": "10",
                                    "(No column name)": "10111144"
                                },
                                {
                                    "year": "1999",
                                    "q": "4",
                                    "month": "10",
                                    "(No column name)": "24866333"
                                },
                                {
                                    "year": "1999",
                                    "q": "4",
                                    "month": "11",
                                    "(No column name)": "404450426"
                                },
                                {
                                    "year": "1999",
                                    "q": "4",
                                    "month": "11",
                                    "(No column name)": "47794214"
                                },
                                {
                                    "year": "1999",
                                    "q": "4",
                                    "month": "11",
                                    "(No column name)": "452244640"
                                },
                                {
                                    "year": "1999",
                                    "q": "4",
                                    "month": "12",
                                    "(No column name)": "120101898"
                                },
                                {
                                    "year": "1999",
                                    "q": "4",
                                    "month": "12",
                                    "(No column name)": "99447378"
                                },
                                {
                                    "year": "1999",
                                    "q": "4",
                                    "month": "12",
                                    "(No column name)": "219549276"
                                },
                                {
                                    "year": "2000",
                                    "q": "NULL",
                                    "month": "NULL",
                                    "(No column name)": "1711675892"
                                },
                                {
                                    "year": "2000",
                                    "q": "1",
                                    "month": "NULL",
                                    "(No column name)": "306513047"
                                },
                                {
                                    "year": "2000",
                                    "q": "1",
                                    "month": "1",
                                    "(No column name)": "94852354"
                                },
                                {
                                    "year": "2000",
                                    "q": "1",
                                    "month": "1",
                                    "(No column name)": "94852354"
                                },
                                {
                                    "year": "2000",
                                    "q": "1",
                                    "month": "2",
                                    "(No column name)": "71228678"
                                },
                                {
                                    "year": "2000",
                                    "q": "1",
                                    "month": "2",
                                    "(No column name)": "2562155"
                                },
                                {
                                    "year": "2000",
                                    "q": "1",
                                    "month": "2",
                                    "(No column name)": "73790833"
                                },
                                {
                                    "year": "2000",
                                    "q": "1",
                                    "month": "3",
                                    "(No column name)": "95208344"
                                },
                                {
                                    "year": "2000",
                                    "q": "1",
                                    "month": "3",
                                    "(No column name)": "42661516"
                                },
                                {
                                    "year": "2000",
                                    "q": "1",
                                    "month": "3",
                                    "(No column name)": "137869860"
                                },
                                {
                                    "year": "2000",
                                    "q": "2",
                                    "month": "NULL",
                                    "(No column name)": "535615283"
                                },
                                {
                                    "year": "2000",
                                    "q": "2",
                                    "month": "4",
                                    "(No column name)": "57925202"
                                },
                                {
                                    "year": "2000",
                                    "q": "2",
                                    "month": "4",
                                    "(No column name)": "57925202"
                                },
                                {
                                    "year": "2000",
                                    "q": "2",
                                    "month": "5",
                                    "(No column name)": "215438985"
                                },
                                {
                                    "year": "2000",
                                    "q": "2",
                                    "month": "5",
                                    "(No column name)": "89042541"
                                },
                                {
                                    "year": "2000",
                                    "q": "2",
                                    "month": "5",
                                    "(No column name)": "304481526"
                                },
                                {
                                    "year": "2000",
                                    "q": "2",
                                    "month": "6",
                                    "(No column name)": "158970411"
                                },
                                {
                                    "year": "2000",
                                    "q": "2",
                                    "month": "6",
                                    "(No column name)": "14238144"
                                },
                                {
                                    "year": "2000",
                                    "q": "2",
                                    "month": "6",
                                    "(No column name)": "173208555"
                                },
                                {
                                    "year": "2000",
                                    "q": "3",
                                    "month": "NULL",
                                    "(No column name)": "412572368"
                                },
                                {
                                    "year": "2000",
                                    "q": "3",
                                    "month": "7",
                                    "(No column name)": "108993148"
                                },
                                {
                                    "year": "2000",
                                    "q": "3",
                                    "month": "7",
                                    "(No column name)": "108993148"
                                },
                                {
                                    "year": "2000",
                                    "q": "3",
                                    "month": "8",
                                    "(No column name)": "20362201"
                                },
                                {
                                    "year": "2000",
                                    "q": "3",
                                    "month": "8",
                                    "(No column name)": "95070168"
                                },
                                {
                                    "year": "2000",
                                    "q": "3",
                                    "month": "8",
                                    "(No column name)": "115432369"
                                },
                                {
                                    "year": "2000",
                                    "q": "3",
                                    "month": "9",
                                    "(No column name)": "188146851"
                                },
                                {
                                    "year": "2000",
                                    "q": "3",
                                    "month": "9",
                                    "(No column name)": "188146851"
                                },
                                {
                                    "year": "2000",
                                    "q": "4",
                                    "month": "NULL",
                                    "(No column name)": "456975194"
                                },
                                {
                                    "year": "2000",
                                    "q": "4",
                                    "month": "11",
                                    "(No column name)": "104055039"
                                },
                                {
                                    "year": "2000",
                                    "q": "4",
                                    "month": "11",
                                    "(No column name)": "148208901"
                                },
                                {
                                    "year": "2000",
                                    "q": "4",
                                    "month": "11",
                                    "(No column name)": "252263940"
                                },
                                {
                                    "year": "2000",
                                    "q": "4",
                                    "month": "12",
                                    "(No column name)": "136789252"
                                },
                                {
                                    "year": "2000",
                                    "q": "4",
                                    "month": "12",
                                    "(No column name)": "67922002"
                                },
                                {
                                    "year": "2000",
                                    "q": "4",
                                    "month": "12",
                                    "(No column name)": "204711254"
                                },
                                {
                                    "year": "2001",
                                    "q": "NULL",
                                    "month": "NULL",
                                    "(No column name)": "1296291781"
                                },
                                {
                                    "year": "2001",
                                    "q": "1",
                                    "month": "NULL",
                                    "(No column name)": "99074713"
                                },
                                {
                                    "year": "2001",
                                    "q": "1",
                                    "month": "1",
                                    "(No column name)": "44418589"
                                },
                                {
                                    "year": "2001",
                                    "q": "1",
                                    "month": "1",
                                    "(No column name)": "44418589"
                                },
                                {
                                    "year": "2001",
                                    "q": "1",
                                    "month": "2",
                                    "(No column name)": "54656124"
                                },
                                {
                                    "year": "2001",
                                    "q": "1",
                                    "month": "2",
                                    "(No column name)": "54656124"
                                },
                                {
                                    "year": "2001",
                                    "q": "2",
                                    "month": "NULL",
                                    "(No column name)": "453222326"
                                },
                                {
                                    "year": "2001",
                                    "q": "2",
                                    "month": "4",
                                    "(No column name)": "7114869"
                                },
                                {
                                    "year": "2001",
                                    "q": "2",
                                    "month": "4",
                                    "(No column name)": "7114869"
                                },
                                {
                                    "year": "2001",
                                    "q": "2",
                                    "month": "5",
                                    "(No column name)": "295705112"
                                },
                                {
                                    "year": "2001",
                                    "q": "2",
                                    "month": "5",
                                    "(No column name)": "295705112"
                                },
                                {
                                    "year": "2001",
                                    "q": "2",
                                    "month": "6",
                                    "(No column name)": "125188122"
                                },
                                {
                                    "year": "2001",
                                    "q": "2",
                                    "month": "6",
                                    "(No column name)": "25214223"
                                },
                                {
                                    "year": "2001",
                                    "q": "2",
                                    "month": "6",
                                    "(No column name)": "150402345"
                                },
                                {
                                    "year": "2001",
                                    "q": "3",
                                    "month": "NULL",
                                    "(No column name)": "168669362"
                                },
                                {
                                    "year": "2001",
                                    "q": "3",
                                    "month": "8",
                                    "(No column name)": "168669362"
                                },
                                {
                                    "year": "2001",
                                    "q": "3",
                                    "month": "8",
                                    "(No column name)": "168669362"
                                },
                                {
                                    "year": "2001",
                                    "q": "4",
                                    "month": "NULL",
                                    "(No column name)": "575325380"
                                },
                                {
                                    "year": "2001",
                                    "q": "4",
                                    "month": "10",
                                    "(No column name)": "337782"
                                },
                                {
                                    "year": "2001",
                                    "q": "4",
                                    "month": "10",
                                    "(No column name)": "61455535"
                                },
                                {
                                    "year": "2001",
                                    "q": "4",
                                    "month": "10",
                                    "(No column name)": "61793317"
                                },
                                {
                                    "year": "2001",
                                    "q": "4",
                                    "month": "11",
                                    "(No column name)": "416073179"
                                },
                                {
                                    "year": "2001",
                                    "q": "4",
                                    "month": "11",
                                    "(No column name)": "20700691"
                                },
                                {
                                    "year": "2001",
                                    "q": "4",
                                    "month": "11",
                                    "(No column name)": "436773870"
                                },
                                {
                                    "year": "2001",
                                    "q": "4",
                                    "month": "12",
                                    "(No column name)": "76758193"
                                },
                                {
                                    "year": "2001",
                                    "q": "4",
                                    "month": "12",
                                    "(No column name)": "76758193"
                                },
                                {
                                    "year": "2002",
                                    "q": "NULL",
                                    "month": "NULL",
                                    "(No column name)": "1680599676"
                                },
                                {
                                    "year": "2002",
                                    "q": "1",
                                    "month": "NULL",
                                    "(No column name)": "490647581"
                                },
                                {
                                    "year": "2002",
                                    "q": "1",
                                    "month": "1",
                                    "(No column name)": "0"
                                },
                                {
                                    "year": "2002",
                                    "q": "1",
                                    "month": "1",
                                    "(No column name)": "117745317"
                                },
                                {
                                    "year": "2002",
                                    "q": "1",
                                    "month": "1",
                                    "(No column name)": "78682079"
                                },
                                {
                                    "year": "2002",
                                    "q": "1",
                                    "month": "1",
                                    "(No column name)": "36980311"
                                },
                                {
                                    "year": "2002",
                                    "q": "1",
                                    "month": "1",
                                    "(No column name)": "233407707"
                                },
                                {
                                    "year": "2002",
                                    "q": "1",
                                    "month": "2",
                                    "(No column name)": "62480631"
                                },
                                {
                                    "year": "2002",
                                    "q": "1",
                                    "month": "2",
                                    "(No column name)": "70269715"
                                },
                                {
                                    "year": "2002",
                                    "q": "1",
                                    "month": "2",
                                    "(No column name)": "132750346"
                                },
                                {
                                    "year": "2002",
                                    "q": "1",
                                    "month": "3",
                                    "(No column name)": "14797862"
                                },
                                {
                                    "year": "2002",
                                    "q": "1",
                                    "month": "3",
                                    "(No column name)": "109691666"
                                },
                                {
                                    "year": "2002",
                                    "q": "1",
                                    "month": "3",
                                    "(No column name)": "124489528"
                                },
                                {
                                    "year": "2002",
                                    "q": "2",
                                    "month": "NULL",
                                    "(No column name)": "271889982"
                                },
                                {
                                    "year": "2002",
                                    "q": "2",
                                    "month": "4",
                                    "(No column name)": "10537188"
                                },
                                {
                                    "year": "2002",
                                    "q": "2",
                                    "month": "4",
                                    "(No column name)": "10537188"
                                },
                                {
                                    "year": "2002",
                                    "q": "2",
                                    "month": "5",
                                    "(No column name)": "6089874"
                                },
                                {
                                    "year": "2002",
                                    "q": "2",
                                    "month": "5",
                                    "(No column name)": "6089874"
                                },
                                {
                                    "year": "2002",
                                    "q": "2",
                                    "month": "6",
                                    "(No column name)": "43756218"
                                },
                                {
                                    "year": "2002",
                                    "q": "2",
                                    "month": "6",
                                    "(No column name)": "211506702"
                                },
                                {
                                    "year": "2002",
                                    "q": "2",
                                    "month": "6",
                                    "(No column name)": "255262920"
                                },
                                {
                                    "year": "2002",
                                    "q": "3",
                                    "month": "NULL",
                                    "(No column name)": "564173797"
                                },
                                {
                                    "year": "2002",
                                    "q": "3",
                                    "month": "7",
                                    "(No column name)": "24650121"
                                },
                                {
                                    "year": "2002",
                                    "q": "3",
                                    "month": "7",
                                    "(No column name)": "24650121"
                                },
                                {
                                    "year": "2002",
                                    "q": "3",
                                    "month": "8",
                                    "(No column name)": "330754439"
                                },
                                {
                                    "year": "2002",
                                    "q": "3",
                                    "month": "8",
                                    "(No column name)": "330754439"
                                },
                                {
                                    "year": "2002",
                                    "q": "3",
                                    "month": "9",
                                    "(No column name)": "14338992"
                                },
                                {
                                    "year": "2002",
                                    "q": "3",
                                    "month": "9",
                                    "(No column name)": "184521151"
                                },
                                {
                                    "year": "2002",
                                    "q": "3",
                                    "month": "9",
                                    "(No column name)": "9909094"
                                },
                                {
                                    "year": "2002",
                                    "q": "3",
                                    "month": "9",
                                    "(No column name)": "208769237"
                                },
                                {
                                    "year": "2002",
                                    "q": "4",
                                    "month": "NULL",
                                    "(No column name)": "353888316"
                                },
                                {
                                    "year": "2002",
                                    "q": "4",
                                    "month": "10",
                                    "(No column name)": "27789959"
                                },
                                {
                                    "year": "2002",
                                    "q": "4",
                                    "month": "10",
                                    "(No column name)": "27789959"
                                },
                                {
                                    "year": "2002",
                                    "q": "4",
                                    "month": "11",
                                    "(No column name)": "55189145"
                                },
                                {
                                    "year": "2002",
                                    "q": "4",
                                    "month": "11",
                                    "(No column name)": "201959095"
                                },
                                {
                                    "year": "2002",
                                    "q": "4",
                                    "month": "11",
                                    "(No column name)": "257148240"
                                },
                                {
                                    "year": "2002",
                                    "q": "4",
                                    "month": "12",
                                    "(No column name)": "50624654"
                                },
                                {
                                    "year": "2002",
                                    "q": "4",
                                    "month": "12",
                                    "(No column name)": "18325463"
                                },
                                {
                                    "year": "2002",
                                    "q": "4",
                                    "month": "12",
                                    "(No column name)": "68950117"
                                },
                                {
                                    "year": "2003",
                                    "q": "NULL",
                                    "month": "NULL",
                                    "(No column name)": "2171244827"
                                },
                                {
                                    "year": "2003",
                                    "q": "1",
                                    "month": "NULL",
                                    "(No column name)": "443078709"
                                },
                                {
                                    "year": "2003",
                                    "q": "1",
                                    "month": "1",
                                    "(No column name)": "73793522"
                                },
                                {
                                    "year": "2003",
                                    "q": "1",
                                    "month": "1",
                                    "(No column name)": "73793522"
                                },
                                {
                                    "year": "2003",
                                    "q": "1",
                                    "month": "2",
                                    "(No column name)": "151504845"
                                },
                                {
                                    "year": "2003",
                                    "q": "1",
                                    "month": "2",
                                    "(No column name)": "151504845"
                                },
                                {
                                    "year": "2003",
                                    "q": "1",
                                    "month": "3",
                                    "(No column name)": "217780342"
                                },
                                {
                                    "year": "2003",
                                    "q": "1",
                                    "month": "3",
                                    "(No column name)": "217780342"
                                },
                                {
                                    "year": "2003",
                                    "q": "2",
                                    "month": "NULL",
                                    "(No column name)": "695898253"
                                },
                                {
                                    "year": "2003",
                                    "q": "2",
                                    "month": "4",
                                    "(No column name)": "23803108"
                                },
                                {
                                    "year": "2003",
                                    "q": "2",
                                    "month": "4",
                                    "(No column name)": "94203395"
                                },
                                {
                                    "year": "2003",
                                    "q": "2",
                                    "month": "4",
                                    "(No column name)": "118006503"
                                },
                                {
                                    "year": "2003",
                                    "q": "2",
                                    "month": "5",
                                    "(No column name)": "518148559"
                                },
                                {
                                    "year": "2003",
                                    "q": "2",
                                    "month": "5",
                                    "(No column name)": "59743191"
                                },
                                {
                                    "year": "2003",
                                    "q": "2",
                                    "month": "5",
                                    "(No column name)": "577891750"
                                },
                                {
                                    "year": "2003",
                                    "q": "3",
                                    "month": "NULL",
                                    "(No column name)": "753445101"
                                },
                                {
                                    "year": "2003",
                                    "q": "3",
                                    "month": "7",
                                    "(No column name)": "426967926"
                                },
                                {
                                    "year": "2003",
                                    "q": "3",
                                    "month": "7",
                                    "(No column name)": "426967926"
                                },
                                {
                                    "year": "2003",
                                    "q": "3",
                                    "month": "8",
                                    "(No column name)": "154090360"
                                },
                                {
                                    "year": "2003",
                                    "q": "3",
                                    "month": "8",
                                    "(No column name)": "81547672"
                                },
                                {
                                    "year": "2003",
                                    "q": "3",
                                    "month": "8",
                                    "(No column name)": "235638032"
                                },
                                {
                                    "year": "2003",
                                    "q": "3",
                                    "month": "9",
                                    "(No column name)": "60944053"
                                },
                                {
                                    "year": "2003",
                                    "q": "3",
                                    "month": "9",
                                    "(No column name)": "29895090"
                                },
                                {
                                    "year": "2003",
                                    "q": "3",
                                    "month": "9",
                                    "(No column name)": "90839143"
                                },
                                {
                                    "year": "2003",
                                    "q": "4",
                                    "month": "NULL",
                                    "(No column name)": "278822764"
                                },
                                {
                                    "year": "2003",
                                    "q": "4",
                                    "month": "10",
                                    "(No column name)": "119218333"
                                },
                                {
                                    "year": "2003",
                                    "q": "4",
                                    "month": "10",
                                    "(No column name)": "2194759"
                                },
                                {
                                    "year": "2003",
                                    "q": "4",
                                    "month": "10",
                                    "(No column name)": "121413092"
                                },
                                {
                                    "year": "2003",
                                    "q": "4",
                                    "month": "11",
                                    "(No column name)": "105775678"
                                },
                                {
                                    "year": "2003",
                                    "q": "4",
                                    "month": "11",
                                    "(No column name)": "105775678"
                                },
                                {
                                    "year": "2003",
                                    "q": "4",
                                    "month": "12",
                                    "(No column name)": "9254344"
                                },
                                {
                                    "year": "2003",
                                    "q": "4",
                                    "month": "12",
                                    "(No column name)": "42379650"
                                },
                                {
                                    "year": "2003",
                                    "q": "4",
                                    "month": "12",
                                    "(No column name)": "51633994"
                                },
                                {
                                    "year": "2004",
                                    "q": "NULL",
                                    "month": "NULL",
                                    "(No column name)": "1570219160"
                                },
                                {
                                    "year": "2004",
                                    "q": "1",
                                    "month": "NULL",
                                    "(No column name)": "281244324"
                                },
                                {
                                    "year": "2004",
                                    "q": "1",
                                    "month": "1",
                                    "(No column name)": "8812764"
                                },
                                {
                                    "year": "2004",
                                    "q": "1",
                                    "month": "1",
                                    "(No column name)": "8812764"
                                },
                                {
                                    "year": "2004",
                                    "q": "1",
                                    "month": "2",
                                    "(No column name)": "39816568"
                                },
                                {
                                    "year": "2004",
                                    "q": "1",
                                    "month": "2",
                                    "(No column name)": "87392478"
                                },
                                {
                                    "year": "2004",
                                    "q": "1",
                                    "month": "2",
                                    "(No column name)": "127209046"
                                },
                                {
                                    "year": "2004",
                                    "q": "1",
                                    "month": "3",
                                    "(No column name)": "53881593"
                                },
                                {
                                    "year": "2004",
                                    "q": "1",
                                    "month": "3",
                                    "(No column name)": "91340921"
                                },
                                {
                                    "year": "2004",
                                    "q": "1",
                                    "month": "3",
                                    "(No column name)": "145222514"
                                },
                                {
                                    "year": "2004",
                                    "q": "2",
                                    "month": "NULL",
                                    "(No column name)": "181798025"
                                },
                                {
                                    "year": "2004",
                                    "q": "2",
                                    "month": "4",
                                    "(No column name)": "67910166"
                                },
                                {
                                    "year": "2004",
                                    "q": "2",
                                    "month": "4",
                                    "(No column name)": "30416359"
                                },
                                {
                                    "year": "2004",
                                    "q": "2",
                                    "month": "4",
                                    "(No column name)": "98326525"
                                },
                                {
                                    "year": "2004",
                                    "q": "2",
                                    "month": "5",
                                    "(No column name)": "50886144"
                                },
                                {
                                    "year": "2004",
                                    "q": "2",
                                    "month": "5",
                                    "(No column name)": "50886144"
                                },
                                {
                                    "year": "2004",
                                    "q": "2",
                                    "month": "6",
                                    "(No column name)": "32585356"
                                },
                                {
                                    "year": "2004",
                                    "q": "2",
                                    "month": "6",
                                    "(No column name)": "32585356"
                                },
                                {
                                    "year": "2004",
                                    "q": "3",
                                    "month": "NULL",
                                    "(No column name)": "385259050"
                                },
                                {
                                    "year": "2004",
                                    "q": "3",
                                    "month": "7",
                                    "(No column name)": "70423706"
                                },
                                {
                                    "year": "2004",
                                    "q": "3",
                                    "month": "7",
                                    "(No column name)": "426246"
                                },
                                {
                                    "year": "2004",
                                    "q": "3",
                                    "month": "7",
                                    "(No column name)": "155021748"
                                },
                                {
                                    "year": "2004",
                                    "q": "3",
                                    "month": "7",
                                    "(No column name)": "225871700"
                                },
                                {
                                    "year": "2004",
                                    "q": "3",
                                    "month": "8",
                                    "(No column name)": "129164207"
                                },
                                {
                                    "year": "2004",
                                    "q": "3",
                                    "month": "8",
                                    "(No column name)": "129164207"
                                },
                                {
                                    "year": "2004",
                                    "q": "3",
                                    "month": "9",
                                    "(No column name)": "30223143"
                                },
                                {
                                    "year": "2004",
                                    "q": "3",
                                    "month": "9",
                                    "(No column name)": "30223143"
                                },
                                {
                                    "year": "2004",
                                    "q": "4",
                                    "month": "NULL",
                                    "(No column name)": "721917761"
                                },
                                {
                                    "year": "2004",
                                    "q": "4",
                                    "month": "10",
                                    "(No column name)": "101161045"
                                },
                                {
                                    "year": "2004",
                                    "q": "4",
                                    "month": "10",
                                    "(No column name)": "101161045"
                                },
                                {
                                    "year": "2004",
                                    "q": "4",
                                    "month": "11",
                                    "(No column name)": "588558061"
                                },
                                {
                                    "year": "2004",
                                    "q": "4",
                                    "month": "11",
                                    "(No column name)": "588558061"
                                },
                                {
                                    "year": "2004",
                                    "q": "4",
                                    "month": "12",
                                    "(No column name)": "32198655"
                                },
                                {
                                    "year": "2004",
                                    "q": "4",
                                    "month": "12",
                                    "(No column name)": "32198655"
                                },
                                {
                                    "year": "2005",
                                    "q": "NULL",
                                    "month": "NULL",
                                    "(No column name)": "1273982639"
                                },
                                {
                                    "year": "2005",
                                    "q": "1",
                                    "month": "NULL",
                                    "(No column name)": "216226491"
                                },
                                {
                                    "year": "2005",
                                    "q": "1",
                                    "month": "1",
                                    "(No column name)": "11740942"
                                },
                                {
                                    "year": "2005",
                                    "q": "1",
                                    "month": "1",
                                    "(No column name)": "11740942"
                                },
                                {
                                    "year": "2005",
                                    "q": "1",
                                    "month": "2",
                                    "(No column name)": "23801835"
                                },
                                {
                                    "year": "2005",
                                    "q": "1",
                                    "month": "2",
                                    "(No column name)": "23801835"
                                },
                                {
                                    "year": "2005",
                                    "q": "1",
                                    "month": "3",
                                    "(No column name)": "180683714"
                                },
                                {
                                    "year": "2005",
                                    "q": "1",
                                    "month": "3",
                                    "(No column name)": "180683714"
                                },
                                {
                                    "year": "2005",
                                    "q": "2",
                                    "month": "NULL",
                                    "(No column name)": "188821506"
                                },
                                {
                                    "year": "2005",
                                    "q": "2",
                                    "month": "4",
                                    "(No column name)": "95813838"
                                },
                                {
                                    "year": "2005",
                                    "q": "2",
                                    "month": "4",
                                    "(No column name)": "95813838"
                                },
                                {
                                    "year": "2005",
                                    "q": "2",
                                    "month": "6",
                                    "(No column name)": "6194870"
                                },
                                {
                                    "year": "2005",
                                    "q": "2",
                                    "month": "6",
                                    "(No column name)": "86812798"
                                },
                                {
                                    "year": "2005",
                                    "q": "2",
                                    "month": "6",
                                    "(No column name)": "93007668"
                                },
                                {
                                    "year": "2005",
                                    "q": "3",
                                    "month": "NULL",
                                    "(No column name)": "281328734"
                                },
                                {
                                    "year": "2005",
                                    "q": "3",
                                    "month": "7",
                                    "(No column name)": "84088854"
                                },
                                {
                                    "year": "2005",
                                    "q": "3",
                                    "month": "7",
                                    "(No column name)": "33500491"
                                },
                                {
                                    "year": "2005",
                                    "q": "3",
                                    "month": "7",
                                    "(No column name)": "117589345"
                                },
                                {
                                    "year": "2005",
                                    "q": "3",
                                    "month": "8",
                                    "(No column name)": "25616292"
                                },
                                {
                                    "year": "2005",
                                    "q": "3",
                                    "month": "8",
                                    "(No column name)": "25616292"
                                },
                                {
                                    "year": "2005",
                                    "q": "3",
                                    "month": "9",
                                    "(No column name)": "20162672"
                                },
                                {
                                    "year": "2005",
                                    "q": "3",
                                    "month": "9",
                                    "(No column name)": "117960425"
                                },
                                {
                                    "year": "2005",
                                    "q": "3",
                                    "month": "9",
                                    "(No column name)": "138123097"
                                },
                                {
                                    "year": "2005",
                                    "q": "4",
                                    "month": "NULL",
                                    "(No column name)": "587605908"
                                },
                                {
                                    "year": "2005",
                                    "q": "4",
                                    "month": "10",
                                    "(No column name)": "13519621"
                                },
                                {
                                    "year": "2005",
                                    "q": "4",
                                    "month": "10",
                                    "(No column name)": "13519621"
                                },
                                {
                                    "year": "2005",
                                    "q": "4",
                                    "month": "11",
                                    "(No column name)": "177954661"
                                },
                                {
                                    "year": "2005",
                                    "q": "4",
                                    "month": "11",
                                    "(No column name)": "177954661"
                                },
                                {
                                    "year": "2005",
                                    "q": "4",
                                    "month": "12",
                                    "(No column name)": "381557539"
                                },
                                {
                                    "year": "2005",
                                    "q": "4",
                                    "month": "12",
                                    "(No column name)": "14574087"
                                },
                                {
                                    "year": "2005",
                                    "q": "4",
                                    "month": "12",
                                    "(No column name)": "396131626"
                                },
                                {
                                    "year": "2006",
                                    "q": "NULL",
                                    "month": "NULL",
                                    "(No column name)": "1834744763"
                                },
                                {
                                    "year": "2006",
                                    "q": "1",
                                    "month": "NULL",
                                    "(No column name)": "303297862"
                                },
                                {
                                    "year": "2006",
                                    "q": "1",
                                    "month": "1",
                                    "(No column name)": "12948025"
                                },
                                {
                                    "year": "2006",
                                    "q": "1",
                                    "month": "1",
                                    "(No column name)": "76932349"
                                },
                                {
                                    "year": "2006",
                                    "q": "1",
                                    "month": "1",
                                    "(No column name)": "89880374"
                                },
                                {
                                    "year": "2006",
                                    "q": "1",
                                    "month": "2",
                                    "(No column name)": "105037235"
                                },
                                {
                                    "year": "2006",
                                    "q": "1",
                                    "month": "2",
                                    "(No column name)": "105037235"
                                },
                                {
                                    "year": "2006",
                                    "q": "1",
                                    "month": "3",
                                    "(No column name)": "78667428"
                                },
                                {
                                    "year": "2006",
                                    "q": "1",
                                    "month": "3",
                                    "(No column name)": "29712825"
                                },
                                {
                                    "year": "2006",
                                    "q": "1",
                                    "month": "3",
                                    "(No column name)": "108380253"
                                },
                                {
                                    "year": "2006",
                                    "q": "2",
                                    "month": "NULL",
                                    "(No column name)": "402401877"
                                },
                                {
                                    "year": "2006",
                                    "q": "2",
                                    "month": "4",
                                    "(No column name)": "48114115"
                                },
                                {
                                    "year": "2006",
                                    "q": "2",
                                    "month": "4",
                                    "(No column name)": "34634731"
                                },
                                {
                                    "year": "2006",
                                    "q": "2",
                                    "month": "4",
                                    "(No column name)": "82748846"
                                },
                                {
                                    "year": "2006",
                                    "q": "2",
                                    "month": "5",
                                    "(No column name)": "5512647"
                                },
                                {
                                    "year": "2006",
                                    "q": "2",
                                    "month": "5",
                                    "(No column name)": "5512647"
                                },
                                {
                                    "year": "2006",
                                    "q": "2",
                                    "month": "6",
                                    "(No column name)": "314140384"
                                },
                                {
                                    "year": "2006",
                                    "q": "2",
                                    "month": "6",
                                    "(No column name)": "314140384"
                                },
                                {
                                    "year": "2006",
                                    "q": "3",
                                    "month": "NULL",
                                    "(No column name)": "774096139"
                                },
                                {
                                    "year": "2006",
                                    "q": "3",
                                    "month": "7",
                                    "(No column name)": "544817142"
                                },
                                {
                                    "year": "2006",
                                    "q": "3",
                                    "month": "7",
                                    "(No column name)": "544817142"
                                },
                                {
                                    "year": "2006",
                                    "q": "3",
                                    "month": "8",
                                    "(No column name)": "158477644"
                                },
                                {
                                    "year": "2006",
                                    "q": "3",
                                    "month": "8",
                                    "(No column name)": "158477644"
                                },
                                {
                                    "year": "2006",
                                    "q": "3",
                                    "month": "9",
                                    "(No column name)": "70801353"
                                },
                                {
                                    "year": "2006",
                                    "q": "3",
                                    "month": "9",
                                    "(No column name)": "70801353"
                                },
                                {
                                    "year": "2006",
                                    "q": "4",
                                    "month": "NULL",
                                    "(No column name)": "354948885"
                                },
                                {
                                    "year": "2006",
                                    "q": "4",
                                    "month": "10",
                                    "(No column name)": "30737517"
                                },
                                {
                                    "year": "2006",
                                    "q": "4",
                                    "month": "10",
                                    "(No column name)": "68289913"
                                },
                                {
                                    "year": "2006",
                                    "q": "4",
                                    "month": "10",
                                    "(No column name)": "99027430"
                                },
                                {
                                    "year": "2006",
                                    "q": "4",
                                    "month": "11",
                                    "(No column name)": "108694869"
                                },
                                {
                                    "year": "2006",
                                    "q": "4",
                                    "month": "11",
                                    "(No column name)": "82267038"
                                },
                                {
                                    "year": "2006",
                                    "q": "4",
                                    "month": "11",
                                    "(No column name)": "190961907"
                                },
                                {
                                    "year": "2006",
                                    "q": "4",
                                    "month": "12",
                                    "(No column name)": "64959548"
                                },
                                {
                                    "year": "2006",
                                    "q": "4",
                                    "month": "12",
                                    "(No column name)": "64959548"
                                },
                                {
                                    "year": "2007",
                                    "q": "NULL",
                                    "month": "NULL",
                                    "(No column name)": "1757479739"
                                },
                                {
                                    "year": "2007",
                                    "q": "1",
                                    "month": "NULL",
                                    "(No column name)": "445354193"
                                },
                                {
                                    "year": "2007",
                                    "q": "1",
                                    "month": "1",
                                    "(No column name)": "12985302"
                                },
                                {
                                    "year": "2007",
                                    "q": "1",
                                    "month": "1",
                                    "(No column name)": "12985302"
                                },
                                {
                                    "year": "2007",
                                    "q": "1",
                                    "month": "2",
                                    "(No column name)": "100760721"
                                },
                                {
                                    "year": "2007",
                                    "q": "1",
                                    "month": "2",
                                    "(No column name)": "100760721"
                                },
                                {
                                    "year": "2007",
                                    "q": "1",
                                    "month": "3",
                                    "(No column name)": "119860589"
                                },
                                {
                                    "year": "2007",
                                    "q": "1",
                                    "month": "3",
                                    "(No column name)": "206110533"
                                },
                                {
                                    "year": "2007",
                                    "q": "1",
                                    "month": "3",
                                    "(No column name)": "5637048"
                                },
                                {
                                    "year": "2007",
                                    "q": "1",
                                    "month": "3",
                                    "(No column name)": "331608170"
                                },
                                {
                                    "year": "2007",
                                    "q": "2",
                                    "month": "NULL",
                                    "(No column name)": "666067257"
                                },
                                {
                                    "year": "2007",
                                    "q": "2",
                                    "month": "4",
                                    "(No column name)": "8779196"
                                },
                                {
                                    "year": "2007",
                                    "q": "2",
                                    "month": "4",
                                    "(No column name)": "25202168"
                                },
                                {
                                    "year": "2007",
                                    "q": "2",
                                    "month": "4",
                                    "(No column name)": "33981364"
                                },
                                {
                                    "year": "2007",
                                    "q": "2",
                                    "month": "5",
                                    "(No column name)": "379129960"
                                },
                                {
                                    "year": "2007",
                                    "q": "2",
                                    "month": "5",
                                    "(No column name)": "379129960"
                                },
                                {
                                    "year": "2007",
                                    "q": "2",
                                    "month": "6",
                                    "(No column name)": "252955933"
                                },
                                {
                                    "year": "2007",
                                    "q": "2",
                                    "month": "6",
                                    "(No column name)": "252955933"
                                },
                                {
                                    "year": "2007",
                                    "q": "3",
                                    "month": "NULL",
                                    "(No column name)": "164630220"
                                },
                                {
                                    "year": "2007",
                                    "q": "3",
                                    "month": "8",
                                    "(No column name)": "53619462"
                                },
                                {
                                    "year": "2007",
                                    "q": "3",
                                    "month": "8",
                                    "(No column name)": "53619462"
                                },
                                {
                                    "year": "2007",
                                    "q": "3",
                                    "month": "9",
                                    "(No column name)": "111010758"
                                },
                                {
                                    "year": "2007",
                                    "q": "3",
                                    "month": "9",
                                    "(No column name)": "111010758"
                                },
                                {
                                    "year": "2007",
                                    "q": "4",
                                    "month": "NULL",
                                    "(No column name)": "481428069"
                                },
                                {
                                    "year": "2007",
                                    "q": "4",
                                    "month": "10",
                                    "(No column name)": "58350234"
                                },
                                {
                                    "year": "2007",
                                    "q": "4",
                                    "month": "10",
                                    "(No column name)": "58350234"
                                },
                                {
                                    "year": "2007",
                                    "q": "4",
                                    "month": "11",
                                    "(No column name)": "156074310"
                                },
                                {
                                    "year": "2007",
                                    "q": "4",
                                    "month": "11",
                                    "(No column name)": "156074310"
                                },
                                {
                                    "year": "2007",
                                    "q": "4",
                                    "month": "12",
                                    "(No column name)": "267003525"
                                },
                                {
                                    "year": "2007",
                                    "q": "4",
                                    "month": "12",
                                    "(No column name)": "267003525"
                                },
                                {
                                    "year": "2008",
                                    "q": "NULL",
                                    "month": "NULL",
                                    "(No column name)": "1135356255"
                                },
                                {
                                    "year": "2008",
                                    "q": "1",
                                    "month": "NULL",
                                    "(No column name)": "198316324"
                                },
                                {
                                    "year": "2008",
                                    "q": "1",
                                    "month": "2",
                                    "(No column name)": "76646993"
                                },
                                {
                                    "year": "2008",
                                    "q": "1",
                                    "month": "2",
                                    "(No column name)": "68118371"
                                },
                                {
                                    "year": "2008",
                                    "q": "1",
                                    "month": "2",
                                    "(No column name)": "144765364"
                                },
                                {
                                    "year": "2008",
                                    "q": "1",
                                    "month": "3",
                                    "(No column name)": "53550960"
                                },
                                {
                                    "year": "2008",
                                    "q": "1",
                                    "month": "3",
                                    "(No column name)": "53550960"
                                },
                                {
                                    "year": "2008",
                                    "q": "2",
                                    "month": "NULL",
                                    "(No column name)": "429048956"
                                },
                                {
                                    "year": "2008",
                                    "q": "2",
                                    "month": "5",
                                    "(No column name)": "166277038"
                                },
                                {
                                    "year": "2008",
                                    "q": "2",
                                    "month": "5",
                                    "(No column name)": "166277038"
                                },
                                {
                                    "year": "2008",
                                    "q": "2",
                                    "month": "6",
                                    "(No column name)": "262771918"
                                },
                                {
                                    "year": "2008",
                                    "q": "2",
                                    "month": "6",
                                    "(No column name)": "262771918"
                                },
                                {
                                    "year": "2008",
                                    "q": "3",
                                    "month": "NULL",
                                    "(No column name)": "28685259"
                                },
                                {
                                    "year": "2008",
                                    "q": "3",
                                    "month": "8",
                                    "(No column name)": "19125841"
                                },
                                {
                                    "year": "2008",
                                    "q": "3",
                                    "month": "8",
                                    "(No column name)": "264247"
                                },
                                {
                                    "year": "2008",
                                    "q": "3",
                                    "month": "8",
                                    "(No column name)": "19390088"
                                },
                                {
                                    "year": "2008",
                                    "q": "3",
                                    "month": "9",
                                    "(No column name)": "9295171"
                                },
                                {
                                    "year": "2008",
                                    "q": "3",
                                    "month": "9",
                                    "(No column name)": "9295171"
                                },
                                {
                                    "year": "2008",
                                    "q": "4",
                                    "month": "NULL",
                                    "(No column name)": "479305716"
                                },
                                {
                                    "year": "2008",
                                    "q": "4",
                                    "month": "10",
                                    "(No column name)": "110932022"
                                },
                                {
                                    "year": "2008",
                                    "q": "4",
                                    "month": "10",
                                    "(No column name)": "322979"
                                },
                                {
                                    "year": "2008",
                                    "q": "4",
                                    "month": "10",
                                    "(No column name)": "106308538"
                                },
                                {
                                    "year": "2008",
                                    "q": "4",
                                    "month": "10",
                                    "(No column name)": "217563539"
                                },
                                {
                                    "year": "2008",
                                    "q": "4",
                                    "month": "11",
                                    "(No column name)": "133702498"
                                },
                                {
                                    "year": "2008",
                                    "q": "4",
                                    "month": "11",
                                    "(No column name)": "133702498"
                                },
                                {
                                    "year": "2008",
                                    "q": "4",
                                    "month": "12",
                                    "(No column name)": "128039679"
                                },
                                {
                                    "year": "2008",
                                    "q": "4",
                                    "month": "12",
                                    "(No column name)": "128039679"
                                },
                                {
                                    "year": "2009",
                                    "q": "NULL",
                                    "month": "NULL",
                                    "(No column name)": "1359908617"
                                },
                                {
                                    "year": "2009",
                                    "q": "1",
                                    "month": "NULL",
                                    "(No column name)": "163444426"
                                },
                                {
                                    "year": "2009",
                                    "q": "1",
                                    "month": "2",
                                    "(No column name)": "38174685"
                                },
                                {
                                    "year": "2009",
                                    "q": "1",
                                    "month": "2",
                                    "(No column name)": "49767744"
                                },
                                {
                                    "year": "2009",
                                    "q": "1",
                                    "month": "2",
                                    "(No column name)": "87942429"
                                },
                                {
                                    "year": "2009",
                                    "q": "1",
                                    "month": "3",
                                    "(No column name)": "75501997"
                                },
                                {
                                    "year": "2009",
                                    "q": "1",
                                    "month": "3",
                                    "(No column name)": "75501997"
                                },
                                {
                                    "year": "2009",
                                    "q": "2",
                                    "month": "NULL",
                                    "(No column name)": "639050160"
                                },
                                {
                                    "year": "2009",
                                    "q": "2",
                                    "month": "4",
                                    "(No column name)": "35981010"
                                },
                                {
                                    "year": "2009",
                                    "q": "2",
                                    "month": "4",
                                    "(No column name)": "89443640"
                                },
                                {
                                    "year": "2009",
                                    "q": "2",
                                    "month": "4",
                                    "(No column name)": "125424650"
                                },
                                {
                                    "year": "2009",
                                    "q": "2",
                                    "month": "5",
                                    "(No column name)": "329336681"
                                },
                                {
                                    "year": "2009",
                                    "q": "2",
                                    "month": "5",
                                    "(No column name)": "329336681"
                                },
                                {
                                    "year": "2009",
                                    "q": "2",
                                    "month": "6",
                                    "(No column name)": "184288829"
                                },
                                {
                                    "year": "2009",
                                    "q": "2",
                                    "month": "6",
                                    "(No column name)": "184288829"
                                },
                                {
                                    "year": "2009",
                                    "q": "3",
                                    "month": "NULL",
                                    "(No column name)": "196156995"
                                },
                                {
                                    "year": "2009",
                                    "q": "3",
                                    "month": "7",
                                    "(No column name)": "134246932"
                                },
                                {
                                    "year": "2009",
                                    "q": "3",
                                    "month": "7",
                                    "(No column name)": "134246932"
                                },
                                {
                                    "year": "2009",
                                    "q": "3",
                                    "month": "8",
                                    "(No column name)": "16961607"
                                },
                                {
                                    "year": "2009",
                                    "q": "3",
                                    "month": "8",
                                    "(No column name)": "1563976"
                                },
                                {
                                    "year": "2009",
                                    "q": "3",
                                    "month": "8",
                                    "(No column name)": "18525583"
                                },
                                {
                                    "year": "2009",
                                    "q": "3",
                                    "month": "9",
                                    "(No column name)": "43361416"
                                },
                                {
                                    "year": "2009",
                                    "q": "3",
                                    "month": "9",
                                    "(No column name)": "23064"
                                },
                                {
                                    "year": "2009",
                                    "q": "3",
                                    "month": "9",
                                    "(No column name)": "43384480"
                                },
                                {
                                    "year": "2009",
                                    "q": "4",
                                    "month": "NULL",
                                    "(No column name)": "361257036"
                                },
                                {
                                    "year": "2009",
                                    "q": "4",
                                    "month": "10",
                                    "(No column name)": "34509545"
                                },
                                {
                                    "year": "2009",
                                    "q": "4",
                                    "month": "10",
                                    "(No column name)": "34509545"
                                },
                                {
                                    "year": "2009",
                                    "q": "4",
                                    "month": "11",
                                    "(No column name)": "116316457"
                                },
                                {
                                    "year": "2009",
                                    "q": "4",
                                    "month": "11",
                                    "(No column name)": "55503929"
                                },
                                {
                                    "year": "2009",
                                    "q": "4",
                                    "month": "11",
                                    "(No column name)": "154927105"
                                },
                                {
                                    "year": "2009",
                                    "q": "4",
                                    "month": "11",
                                    "(No column name)": "326747491"
                                },
                                {
                                    "year": "2010",
                                    "q": "NULL",
                                    "month": "NULL",
                                    "(No column name)": "1622535159"
                                },
                                {
                                    "year": "2010",
                                    "q": "1",
                                    "month": "NULL",
                                    "(No column name)": "459325865"
                                },
                                {
                                    "year": "2010",
                                    "q": "1",
                                    "month": "1",
                                    "(No column name)": "34917330"
                                },
                                {
                                    "year": "2010",
                                    "q": "1",
                                    "month": "1",
                                    "(No column name)": "34917330"
                                },
                                {
                                    "year": "2010",
                                    "q": "1",
                                    "month": "3",
                                    "(No column name)": "357063499"
                                },
                                {
                                    "year": "2010",
                                    "q": "1",
                                    "month": "3",
                                    "(No column name)": "86264"
                                },
                                {
                                    "year": "2010",
                                    "q": "1",
                                    "month": "3",
                                    "(No column name)": "67258772"
                                },
                                {
                                    "year": "2010",
                                    "q": "1",
                                    "month": "3",
                                    "(No column name)": "424408535"
                                },
                                {
                                    "year": "2010",
                                    "q": "2",
                                    "month": "NULL",
                                    "(No column name)": "561131216"
                                },
                                {
                                    "year": "2010",
                                    "q": "2",
                                    "month": "4",
                                    "(No column name)": "20751600"
                                },
                                {
                                    "year": "2010",
                                    "q": "2",
                                    "month": "4",
                                    "(No column name)": "20751600"
                                },
                                {
                                    "year": "2010",
                                    "q": "2",
                                    "month": "5",
                                    "(No column name)": "96971361"
                                },
                                {
                                    "year": "2010",
                                    "q": "2",
                                    "month": "5",
                                    "(No column name)": "96971361"
                                },
                                {
                                    "year": "2010",
                                    "q": "2",
                                    "month": "6",
                                    "(No column name)": "443408255"
                                },
                                {
                                    "year": "2010",
                                    "q": "2",
                                    "month": "6",
                                    "(No column name)": "443408255"
                                },
                                {
                                    "year": "2010",
                                    "q": "3",
                                    "month": "NULL",
                                    "(No column name)": "140288351"
                                },
                                {
                                    "year": "2010",
                                    "q": "3",
                                    "month": "7",
                                    "(No column name)": "67473105"
                                },
                                {
                                    "year": "2010",
                                    "q": "3",
                                    "month": "7",
                                    "(No column name)": "67473105"
                                },
                                {
                                    "year": "2010",
                                    "q": "3",
                                    "month": "8",
                                    "(No column name)": "51988"
                                },
                                {
                                    "year": "2010",
                                    "q": "3",
                                    "month": "8",
                                    "(No column name)": "45302137"
                                },
                                {
                                    "year": "2010",
                                    "q": "3",
                                    "month": "8",
                                    "(No column name)": "45354125"
                                },
                                {
                                    "year": "2010",
                                    "q": "3",
                                    "month": "9",
                                    "(No column name)": "27461121"
                                },
                                {
                                    "year": "2010",
                                    "q": "3",
                                    "month": "9",
                                    "(No column name)": "27461121"
                                },
                                {
                                    "year": "2010",
                                    "q": "4",
                                    "month": "NULL",
                                    "(No column name)": "461789727"
                                },
                                {
                                    "year": "2010",
                                    "q": "4",
                                    "month": "10",
                                    "(No column name)": "63781920"
                                },
                                {
                                    "year": "2010",
                                    "q": "4",
                                    "month": "10",
                                    "(No column name)": "63781920"
                                },
                                {
                                    "year": "2010",
                                    "q": "4",
                                    "month": "11",
                                    "(No column name)": "214388548"
                                },
                                {
                                    "year": "2010",
                                    "q": "4",
                                    "month": "11",
                                    "(No column name)": "214388548"
                                },
                                {
                                    "year": "2010",
                                    "q": "4",
                                    "month": "12",
                                    "(No column name)": "183619259"
                                },
                                {
                                    "year": "2010",
                                    "q": "4",
                                    "month": "12",
                                    "(No column name)": "183619259"
                                },
                                {
                                    "year": "2011",
                                    "q": "NULL",
                                    "month": "NULL",
                                    "(No column name)": "1172578942"
                                },
                                {
                                    "year": "2011",
                                    "q": "1",
                                    "month": "NULL",
                                    "(No column name)": "187587007"
                                },
                                {
                                    "year": "2011",
                                    "q": "1",
                                    "month": "2",
                                    "(No column name)": "58574607"
                                },
                                {
                                    "year": "2011",
                                    "q": "1",
                                    "month": "2",
                                    "(No column name)": "106270797"
                                },
                                {
                                    "year": "2011",
                                    "q": "1",
                                    "month": "2",
                                    "(No column name)": "164845404"
                                },
                                {
                                    "year": "2011",
                                    "q": "1",
                                    "month": "3",
                                    "(No column name)": "22741603"
                                },
                                {
                                    "year": "2011",
                                    "q": "1",
                                    "month": "3",
                                    "(No column name)": "22741603"
                                },
                                {
                                    "year": "2011",
                                    "q": "2",
                                    "month": "NULL",
                                    "(No column name)": "486959017"
                                },
                                {
                                    "year": "2011",
                                    "q": "2",
                                    "month": "4",
                                    "(No column name)": "2984"
                                },
                                {
                                    "year": "2011",
                                    "q": "2",
                                    "month": "4",
                                    "(No column name)": "10768946"
                                },
                                {
                                    "year": "2011",
                                    "q": "2",
                                    "month": "4",
                                    "(No column name)": "16401551"
                                },
                                {
                                    "year": "2011",
                                    "q": "2",
                                    "month": "4",
                                    "(No column name)": "27173481"
                                },
                                {
                                    "year": "2011",
                                    "q": "2",
                                    "month": "5",
                                    "(No column name)": "256263359"
                                },
                                {
                                    "year": "2011",
                                    "q": "2",
                                    "month": "5",
                                    "(No column name)": "256263359"
                                },
                                {
                                    "year": "2011",
                                    "q": "2",
                                    "month": "6",
                                    "(No column name)": "203522177"
                                },
                                {
                                    "year": "2011",
                                    "q": "2",
                                    "month": "6",
                                    "(No column name)": "203522177"
                                },
                                {
                                    "year": "2011",
                                    "q": "3",
                                    "month": "NULL",
                                    "(No column name)": "228233247"
                                },
                                {
                                    "year": "2011",
                                    "q": "3",
                                    "month": "7",
                                    "(No column name)": "28375869"
                                },
                                {
                                    "year": "2011",
                                    "q": "3",
                                    "month": "7",
                                    "(No column name)": "28375869"
                                },
                                {
                                    "year": "2011",
                                    "q": "3",
                                    "month": "8",
                                    "(No column name)": "180404976"
                                },
                                {
                                    "year": "2011",
                                    "q": "3",
                                    "month": "8",
                                    "(No column name)": "19452402"
                                },
                                {
                                    "year": "2011",
                                    "q": "3",
                                    "month": "8",
                                    "(No column name)": "199857378"
                                },
                                {
                                    "year": "2011",
                                    "q": "4",
                                    "month": "NULL",
                                    "(No column name)": "269799671"
                                },
                                {
                                    "year": "2011",
                                    "q": "4",
                                    "month": "10",
                                    "(No column name)": "90848019"
                                },
                                {
                                    "year": "2011",
                                    "q": "4",
                                    "month": "10",
                                    "(No column name)": "90848019"
                                },
                                {
                                    "year": "2011",
                                    "q": "4",
                                    "month": "11",
                                    "(No column name)": "94189503"
                                },
                                {
                                    "year": "2011",
                                    "q": "4",
                                    "month": "11",
                                    "(No column name)": "94189503"
                                },
                                {
                                    "year": "2011",
                                    "q": "4",
                                    "month": "12",
                                    "(No column name)": "84762149"
                                },
                                {
                                    "year": "2011",
                                    "q": "4",
                                    "month": "12",
                                    "(No column name)": "84762149"
                                },
                                {
                                    "year": "2012",
                                    "q": "NULL",
                                    "month": "NULL",
                                    "(No column name)": "1537669134"
                                },
                                {
                                    "year": "2012",
                                    "q": "1",
                                    "month": "NULL",
                                    "(No column name)": "97698178"
                                },
                                {
                                    "year": "2012",
                                    "q": "1",
                                    "month": "2",
                                    "(No column name)": "20325733"
                                },
                                {
                                    "year": "2012",
                                    "q": "1",
                                    "month": "2",
                                    "(No column name)": "20325733"
                                },
                                {
                                    "year": "2012",
                                    "q": "1",
                                    "month": "3",
                                    "(No column name)": "77372445"
                                },
                                {
                                    "year": "2012",
                                    "q": "1",
                                    "month": "3",
                                    "(No column name)": "77372445"
                                },
                                {
                                    "year": "2012",
                                    "q": "2",
                                    "month": "NULL",
                                    "(No column name)": "955215212"
                                },
                                {
                                    "year": "2012",
                                    "q": "2",
                                    "month": "4",
                                    "(No column name)": "30675725"
                                },
                                {
                                    "year": "2012",
                                    "q": "2",
                                    "month": "4",
                                    "(No column name)": "30675725"
                                },
                                {
                                    "year": "2012",
                                    "q": "2",
                                    "month": "5",
                                    "(No column name)": "660081224"
                                },
                                {
                                    "year": "2012",
                                    "q": "2",
                                    "month": "5",
                                    "(No column name)": "660081224"
                                },
                                {
                                    "year": "2012",
                                    "q": "2",
                                    "month": "6",
                                    "(No column name)": "251292441"
                                },
                                {
                                    "year": "2012",
                                    "q": "2",
                                    "month": "6",
                                    "(No column name)": "13165822"
                                },
                                {
                                    "year": "2012",
                                    "q": "2",
                                    "month": "6",
                                    "(No column name)": "264458263"
                                },
                                {
                                    "year": "2012",
                                    "q": "3",
                                    "month": "NULL",
                                    "(No column name)": "54914942"
                                },
                                {
                                    "year": "2012",
                                    "q": "3",
                                    "month": "8",
                                    "(No column name)": "54914942"
                                },
                                {
                                    "year": "2012",
                                    "q": "3",
                                    "month": "8",
                                    "(No column name)": "54914942"
                                },
                                {
                                    "year": "2012",
                                    "q": "4",
                                    "month": "NULL",
                                    "(No column name)": "429840802"
                                },
                                {
                                    "year": "2012",
                                    "q": "4",
                                    "month": "10",
                                    "(No column name)": "37363513"
                                },
                                {
                                    "year": "2012",
                                    "q": "4",
                                    "month": "10",
                                    "(No column name)": "37363513"
                                },
                                {
                                    "year": "2012",
                                    "q": "4",
                                    "month": "11",
                                    "(No column name)": "200354959"
                                },
                                {
                                    "year": "2012",
                                    "q": "4",
                                    "month": "11",
                                    "(No column name)": "192122330"
                                },
                                {
                                    "year": "2012",
                                    "q": "4",
                                    "month": "11",
                                    "(No column name)": "392477289"
                                },
                                {
                                    "year": "2013",
                                    "q": "NULL",
                                    "month": "NULL",
                                    "(No column name)": "1887863558"
                                },
                                {
                                    "year": "2013",
                                    "q": "1",
                                    "month": "NULL",
                                    "(No column name)": "243434130"
                                },
                                {
                                    "year": "2013",
                                    "q": "1",
                                    "month": "3",
                                    "(No column name)": "243434130"
                                },
                                {
                                    "year": "2013",
                                    "q": "1",
                                    "month": "3",
                                    "(No column name)": "243434130"
                                },
                                {
                                    "year": "2013",
                                    "q": "2",
                                    "month": "NULL",
                                    "(No column name)": "702479874"
                                },
                                {
                                    "year": "2013",
                                    "q": "2",
                                    "month": "5",
                                    "(No column name)": "424084233"
                                },
                                {
                                    "year": "2013",
                                    "q": "2",
                                    "month": "5",
                                    "(No column name)": "424084233"
                                },
                                {
                                    "year": "2013",
                                    "q": "2",
                                    "month": "6",
                                    "(No column name)": "278395641"
                                },
                                {
                                    "year": "2013",
                                    "q": "2",
                                    "month": "6",
                                    "(No column name)": "278395641"
                                },
                                {
                                    "year": "2013",
                                    "q": "3",
                                    "month": "NULL",
                                    "(No column name)": "186211425"
                                },
                                {
                                    "year": "2013",
                                    "q": "3",
                                    "month": "7",
                                    "(No column name)": "92597388"
                                },
                                {
                                    "year": "2013",
                                    "q": "3",
                                    "month": "7",
                                    "(No column name)": "92597388"
                                },
                                {
                                    "year": "2013",
                                    "q": "3",
                                    "month": "8",
                                    "(No column name)": "93614037"
                                },
                                {
                                    "year": "2013",
                                    "q": "3",
                                    "month": "8",
                                    "(No column name)": "93614037"
                                },
                                {
                                    "year": "2013",
                                    "q": "4",
                                    "month": "NULL",
                                    "(No column name)": "755738129"
                                },
                                {
                                    "year": "2013",
                                    "q": "4",
                                    "month": "10",
                                    "(No column name)": "3374251"
                                },
                                {
                                    "year": "2013",
                                    "q": "4",
                                    "month": "10",
                                    "(No column name)": "3374251"
                                },
                                {
                                    "year": "2013",
                                    "q": "4",
                                    "month": "11",
                                    "(No column name)": "628959358"
                                },
                                {
                                    "year": "2013",
                                    "q": "4",
                                    "month": "11",
                                    "(No column name)": "31787136"
                                },
                                {
                                    "year": "2013",
                                    "q": "4",
                                    "month": "11",
                                    "(No column name)": "5367415"
                                },
                                {
                                    "year": "2013",
                                    "q": "4",
                                    "month": "11",
                                    "(No column name)": "666113909"
                                },
                                {
                                    "year": "2013",
                                    "q": "4",
                                    "month": "12",
                                    "(No column name)": "86249969"
                                },
                                {
                                    "year": "2013",
                                    "q": "4",
                                    "month": "12",
                                    "(No column name)": "86249969"
                                },
                                {
                                    "year": "2014",
                                    "q": "NULL",
                                    "month": "NULL",
                                    "(No column name)": "1560791318"
                                },
                                {
                                    "year": "2014",
                                    "q": "1",
                                    "month": "NULL",
                                    "(No column name)": "97762609"
                                },
                                {
                                    "year": "2014",
                                    "q": "1",
                                    "month": "3",
                                    "(No column name)": "44955015"
                                },
                                {
                                    "year": "2014",
                                    "q": "1",
                                    "month": "3",
                                    "(No column name)": "52807594"
                                },
                                {
                                    "year": "2014",
                                    "q": "1",
                                    "month": "3",
                                    "(No column name)": "97762609"
                                },
                                {
                                    "year": "2014",
                                    "q": "2",
                                    "month": "NULL",
                                    "(No column name)": "573056774"
                                },
                                {
                                    "year": "2014",
                                    "q": "2",
                                    "month": "4",
                                    "(No column name)": "268013076"
                                },
                                {
                                    "year": "2014",
                                    "q": "2",
                                    "month": "4",
                                    "(No column name)": "18346024"
                                },
                                {
                                    "year": "2014",
                                    "q": "2",
                                    "month": "4",
                                    "(No column name)": "286359100"
                                },
                                {
                                    "year": "2014",
                                    "q": "2",
                                    "month": "5",
                                    "(No column name)": "249089809"
                                },
                                {
                                    "year": "2014",
                                    "q": "2",
                                    "month": "5",
                                    "(No column name)": "37607865"
                                },
                                {
                                    "year": "2014",
                                    "q": "2",
                                    "month": "5",
                                    "(No column name)": "286697674"
                                },
                                {
                                    "year": "2014",
                                    "q": "3",
                                    "month": "NULL",
                                    "(No column name)": "460772926"
                                },
                                {
                                    "year": "2014",
                                    "q": "3",
                                    "month": "7",
                                    "(No column name)": "61040349"
                                },
                                {
                                    "year": "2014",
                                    "q": "3",
                                    "month": "7",
                                    "(No column name)": "61040349"
                                },
                                {
                                    "year": "2014",
                                    "q": "3",
                                    "month": "8",
                                    "(No column name)": "343771168"
                                },
                                {
                                    "year": "2014",
                                    "q": "3",
                                    "month": "8",
                                    "(No column name)": "55961409"
                                },
                                {
                                    "year": "2014",
                                    "q": "3",
                                    "month": "8",
                                    "(No column name)": "399732577"
                                },
                                {
                                    "year": "2014",
                                    "q": "4",
                                    "month": "NULL",
                                    "(No column name)": "429199009"
                                },
                                {
                                    "year": "2014",
                                    "q": "4",
                                    "month": "10",
                                    "(No column name)": "69055550"
                                },
                                {
                                    "year": "2014",
                                    "q": "4",
                                    "month": "10",
                                    "(No column name)": "69055550"
                                },
                                {
                                    "year": "2014",
                                    "q": "4",
                                    "month": "11",
                                    "(No column name)": "229249222"
                                },
                                {
                                    "year": "2014",
                                    "q": "4",
                                    "month": "11",
                                    "(No column name)": "229249222"
                                },
                                {
                                    "year": "2014",
                                    "q": "4",
                                    "month": "12",
                                    "(No column name)": "130894237"
                                },
                                {
                                    "year": "2014",
                                    "q": "4",
                                    "month": "12",
                                    "(No column name)": "130894237"
                                },
                                {
                                    "year": "2015",
                                    "q": "NULL",
                                    "month": "NULL",
                                    "(No column name)": "2495662696"
                                },
                                {
                                    "year": "2015",
                                    "q": "1",
                                    "month": "NULL",
                                    "(No column name)": "258061211"
                                },
                                {
                                    "year": "2015",
                                    "q": "1",
                                    "month": "1",
                                    "(No column name)": "12429583"
                                },
                                {
                                    "year": "2015",
                                    "q": "1",
                                    "month": "1",
                                    "(No column name)": "12429583"
                                },
                                {
                                    "year": "2015",
                                    "q": "1",
                                    "month": "2",
                                    "(No column name)": "44480275"
                                },
                                {
                                    "year": "2015",
                                    "q": "1",
                                    "month": "2",
                                    "(No column name)": "44480275"
                                },
                                {
                                    "year": "2015",
                                    "q": "1",
                                    "month": "3",
                                    "(No column name)": "201151353"
                                },
                                {
                                    "year": "2015",
                                    "q": "1",
                                    "month": "3",
                                    "(No column name)": "201151353"
                                },
                                {
                                    "year": "2015",
                                    "q": "2",
                                    "month": "NULL",
                                    "(No column name)": "925336223"
                                },
                                {
                                    "year": "2015",
                                    "q": "2",
                                    "month": "4",
                                    "(No column name)": "16432322"
                                },
                                {
                                    "year": "2015",
                                    "q": "2",
                                    "month": "4",
                                    "(No column name)": "16432322"
                                },
                                {
                                    "year": "2015",
                                    "q": "2",
                                    "month": "5",
                                    "(No column name)": "459005868"
                                },
                                {
                                    "year": "2015",
                                    "q": "2",
                                    "month": "5",
                                    "(No column name)": "93436322"
                                },
                                {
                                    "year": "2015",
                                    "q": "2",
                                    "month": "5",
                                    "(No column name)": "552442190"
                                },
                                {
                                    "year": "2015",
                                    "q": "2",
                                    "month": "6",
                                    "(No column name)": "356461711"
                                },
                                {
                                    "year": "2015",
                                    "q": "2",
                                    "month": "6",
                                    "(No column name)": "356461711"
                                },
                                {
                                    "year": "2015",
                                    "q": "3",
                                    "month": "NULL",
                                    "(No column name)": "180202163"
                                },
                                {
                                    "year": "2015",
                                    "q": "3",
                                    "month": "7",
                                    "(No column name)": "180202163"
                                },
                                {
                                    "year": "2015",
                                    "q": "3",
                                    "month": "7",
                                    "(No column name)": "180202163"
                                },
                                {
                                    "year": "2015",
                                    "q": "4",
                                    "month": "NULL",
                                    "(No column name)": "1132063099"
                                },
                                {
                                    "year": "2015",
                                    "q": "4",
                                    "month": "10",
                                    "(No column name)": "72313754"
                                },
                                {
                                    "year": "2015",
                                    "q": "4",
                                    "month": "10",
                                    "(No column name)": "72313754"
                                },
                                {
                                    "year": "2015",
                                    "q": "4",
                                    "month": "11",
                                    "(No column name)": "123087120"
                                },
                                {
                                    "year": "2015",
                                    "q": "4",
                                    "month": "11",
                                    "(No column name)": "123087120"
                                },
                                {
                                    "year": "2015",
                                    "q": "4",
                                    "month": "12",
                                    "(No column name)": "936662225"
                                },
                                {
                                    "year": "2015",
                                    "q": "4",
                                    "month": "12",
                                    "(No column name)": "936662225"
                                },
                                {
                                    "year": "2016",
                                    "q": "NULL",
                                    "month": "NULL",
                                    "(No column name)": "2873393105"
                                },
                                {
                                    "year": "2016",
                                    "q": "1",
                                    "month": "NULL",
                                    "(No column name)": "368837806"
                                },
                                {
                                    "year": "2016",
                                    "q": "1",
                                    "month": "1",
                                    "(No column name)": "27569558"
                                },
                                {
                                    "year": "2016",
                                    "q": "1",
                                    "month": "1",
                                    "(No column name)": "27569558"
                                },
                                {
                                    "year": "2016",
                                    "q": "1",
                                    "month": "3",
                                    "(No column name)": "341268248"
                                },
                                {
                                    "year": "2016",
                                    "q": "1",
                                    "month": "3",
                                    "(No column name)": "341268248"
                                },
                                {
                                    "year": "2016",
                                    "q": "2",
                                    "month": "NULL",
                                    "(No column name)": "1343319122"
                                },
                                {
                                    "year": "2016",
                                    "q": "2",
                                    "month": "4",
                                    "(No column name)": "364001123"
                                },
                                {
                                    "year": "2016",
                                    "q": "2",
                                    "month": "4",
                                    "(No column name)": "7895708"
                                },
                                {
                                    "year": "2016",
                                    "q": "2",
                                    "month": "4",
                                    "(No column name)": "371896831"
                                },
                                {
                                    "year": "2016",
                                    "q": "2",
                                    "month": "5",
                                    "(No column name)": "408084349"
                                },
                                {
                                    "year": "2016",
                                    "q": "2",
                                    "month": "5",
                                    "(No column name)": "77042381"
                                },
                                {
                                    "year": "2016",
                                    "q": "2",
                                    "month": "5",
                                    "(No column name)": "485126730"
                                },
                                {
                                    "year": "2016",
                                    "q": "2",
                                    "month": "6",
                                    "(No column name)": "486295561"
                                },
                                {
                                    "year": "2016",
                                    "q": "2",
                                    "month": "6",
                                    "(No column name)": "486295561"
                                },
                                {
                                    "year": "2016",
                                    "q": "3",
                                    "month": "NULL",
                                    "(No column name)": "153137289"
                                },
                                {
                                    "year": "2016",
                                    "q": "3",
                                    "month": "7",
                                    "(No column name)": "55483770"
                                },
                                {
                                    "year": "2016",
                                    "q": "3",
                                    "month": "7",
                                    "(No column name)": "55483770"
                                },
                                {
                                    "year": "2016",
                                    "q": "3",
                                    "month": "8",
                                    "(No column name)": "76233151"
                                },
                                {
                                    "year": "2016",
                                    "q": "3",
                                    "month": "8",
                                    "(No column name)": "76233151"
                                },
                                {
                                    "year": "2016",
                                    "q": "3",
                                    "month": "9",
                                    "(No column name)": "21420368"
                                },
                                {
                                    "year": "2016",
                                    "q": "3",
                                    "month": "9",
                                    "(No column name)": "21420368"
                                },
                                {
                                    "year": "2016",
                                    "q": "4",
                                    "month": "NULL",
                                    "(No column name)": "1008098888"
                                },
                                {
                                    "year": "2016",
                                    "q": "4",
                                    "month": "11",
                                    "(No column name)": "478614952"
                                },
                                {
                                    "year": "2016",
                                    "q": "4",
                                    "month": "11",
                                    "(No column name)": "478614952"
                                },
                                {
                                    "year": "2016",
                                    "q": "4",
                                    "month": "12",
                                    "(No column name)": "529483936"
                                },
                                {
                                    "year": "2016",
                                    "q": "4",
                                    "month": "12",
                                    "(No column name)": "529483936"
                                }
                            ]
                        },
                        "text/html": [
                            "<table>",
                            "<tr><th>year</th><th>q</th><th>month</th><th>(No column name)</th></tr>",
                            "<tr><td>NULL</td><td>NULL</td><td>NULL</td><td>68763500997</td></tr>",
                            "<tr><td>1937</td><td>NULL</td><td>NULL</td><td>5228953251</td></tr>",
                            "<tr><td>1937</td><td>4</td><td>NULL</td><td>5228953251</td></tr>",
                            "<tr><td>1937</td><td>4</td><td>12</td><td>5228953251</td></tr>",
                            "<tr><td>1937</td><td>4</td><td>12</td><td>5228953251</td></tr>",
                            "<tr><td>1940</td><td>NULL</td><td>NULL</td><td>4375319860</td></tr>",
                            "<tr><td>1940</td><td>1</td><td>NULL</td><td>2188229052</td></tr>",
                            "<tr><td>1940</td><td>1</td><td>2</td><td>2188229052</td></tr>",
                            "<tr><td>1940</td><td>1</td><td>2</td><td>2188229052</td></tr>",
                            "<tr><td>1940</td><td>4</td><td>NULL</td><td>2187090808</td></tr>",
                            "<tr><td>1940</td><td>4</td><td>11</td><td>2187090808</td></tr>",
                            "<tr><td>1940</td><td>4</td><td>11</td><td>2187090808</td></tr>",
                            "<tr><td>1946</td><td>NULL</td><td>NULL</td><td>1078510579</td></tr>",
                            "<tr><td>1946</td><td>4</td><td>NULL</td><td>1078510579</td></tr>",
                            "<tr><td>1946</td><td>4</td><td>11</td><td>1078510579</td></tr>",
                            "<tr><td>1946</td><td>4</td><td>11</td><td>1078510579</td></tr>",
                            "<tr><td>1950</td><td>NULL</td><td>NULL</td><td>920608730</td></tr>",
                            "<tr><td>1950</td><td>1</td><td>NULL</td><td>920608730</td></tr>",
                            "<tr><td>1950</td><td>1</td><td>2</td><td>920608730</td></tr>",
                            "<tr><td>1950</td><td>1</td><td>2</td><td>920608730</td></tr>",
                            "<tr><td>1954</td><td>NULL</td><td>NULL</td><td>528279994</td></tr>",
                            "<tr><td>1954</td><td>4</td><td>NULL</td><td>528279994</td></tr>",
                            "<tr><td>1954</td><td>4</td><td>12</td><td>528279994</td></tr>",
                            "<tr><td>1954</td><td>4</td><td>12</td><td>528279994</td></tr>",
                            "<tr><td>1955</td><td>NULL</td><td>NULL</td><td>1236035515</td></tr>",
                            "<tr><td>1955</td><td>2</td><td>NULL</td><td>1236035515</td></tr>",
                            "<tr><td>1955</td><td>2</td><td>6</td><td>1236035515</td></tr>",
                            "<tr><td>1955</td><td>2</td><td>6</td><td>1236035515</td></tr>",
                            "<tr><td>1959</td><td>NULL</td><td>NULL</td><td>21505832</td></tr>",
                            "<tr><td>1959</td><td>1</td><td>NULL</td><td>21505832</td></tr>",
                            "<tr><td>1959</td><td>1</td><td>1</td><td>21505832</td></tr>",
                            "<tr><td>1959</td><td>1</td><td>1</td><td>21505832</td></tr>",
                            "<tr><td>1961</td><td>NULL</td><td>NULL</td><td>1797806719</td></tr>",
                            "<tr><td>1961</td><td>1</td><td>NULL</td><td>1672965559</td></tr>",
                            "<tr><td>1961</td><td>1</td><td>1</td><td>1362870985</td></tr>",
                            "<tr><td>1961</td><td>1</td><td>1</td><td>1362870985</td></tr>",
                            "<tr><td>1961</td><td>1</td><td>3</td><td>310094574</td></tr>",
                            "<tr><td>1961</td><td>1</td><td>3</td><td>310094574</td></tr>",
                            "<tr><td>1961</td><td>4</td><td>NULL</td><td>124841160</td></tr>",
                            "<tr><td>1961</td><td>4</td><td>12</td><td>124841160</td></tr>",
                            "<tr><td>1961</td><td>4</td><td>12</td><td>124841160</td></tr>",
                            "<tr><td>1962</td><td>NULL</td><td>NULL</td><td>109581646</td></tr>",
                            "<tr><td>1962</td><td>2</td><td>NULL</td><td>109581646</td></tr>",
                            "<tr><td>1962</td><td>2</td><td>5</td><td>109581646</td></tr>",
                            "<tr><td>1962</td><td>2</td><td>5</td><td>109581646</td></tr>",
                            "<tr><td>1963</td><td>NULL</td><td>NULL</td><td>153870834</td></tr>",
                            "<tr><td>1963</td><td>4</td><td>NULL</td><td>153870834</td></tr>",
                            "<tr><td>1963</td><td>4</td><td>12</td><td>153870834</td></tr>",
                            "<tr><td>1963</td><td>4</td><td>12</td><td>153870834</td></tr>",
                            "<tr><td>1967</td><td>NULL</td><td>NULL</td><td>789612346</td></tr>",
                            "<tr><td>1967</td><td>4</td><td>NULL</td><td>789612346</td></tr>",
                            "<tr><td>1967</td><td>4</td><td>10</td><td>789612346</td></tr>",
                            "<tr><td>1967</td><td>4</td><td>10</td><td>789612346</td></tr>",
                            "<tr><td>1968</td><td>NULL</td><td>NULL</td><td>138612686</td></tr>",
                            "<tr><td>1968</td><td>1</td><td>NULL</td><td>138612686</td></tr>",
                            "<tr><td>1968</td><td>1</td><td>2</td><td>138612686</td></tr>",
                            "<tr><td>1968</td><td>1</td><td>2</td><td>138612686</td></tr>",
                            "<tr><td>1970</td><td>NULL</td><td>NULL</td><td>356362241</td></tr>",
                            "<tr><td>1970</td><td>2</td><td>NULL</td><td>255161499</td></tr>",
                            "<tr><td>1970</td><td>2</td><td>4</td><td>255161499</td></tr>",
                            "<tr><td>1970</td><td>2</td><td>4</td><td>255161499</td></tr>",
                            "<tr><td>1970</td><td>3</td><td>NULL</td><td>101200742</td></tr>",
                            "<tr><td>1970</td><td>3</td><td>7</td><td>101200742</td></tr>",
                            "<tr><td>1970</td><td>3</td><td>7</td><td>101200742</td></tr>",
                            "<tr><td>1971</td><td>NULL</td><td>NULL</td><td>91305448</td></tr>",
                            "<tr><td>1971</td><td>4</td><td>NULL</td><td>91305448</td></tr>",
                            "<tr><td>1971</td><td>4</td><td>10</td><td>91305448</td></tr>",
                            "<tr><td>1971</td><td>4</td><td>10</td><td>91305448</td></tr>",
                            "<tr><td>1975</td><td>NULL</td><td>NULL</td><td>131246872</td></tr>",
                            "<tr><td>1975</td><td>3</td><td>NULL</td><td>131246872</td></tr>",
                            "<tr><td>1975</td><td>3</td><td>7</td><td>131246872</td></tr>",
                            "<tr><td>1975</td><td>3</td><td>7</td><td>131246872</td></tr>",
                            "<tr><td>1977</td><td>NULL</td><td>NULL</td><td>363659174</td></tr>",
                            "<tr><td>1977</td><td>1</td><td>NULL</td><td>98067733</td></tr>",
                            "<tr><td>1977</td><td>1</td><td>1</td><td>98067733</td></tr>",
                            "<tr><td>1977</td><td>1</td><td>1</td><td>98067733</td></tr>",
                            "<tr><td>1977</td><td>1</td><td>3</td><td>0</td></tr>",
                            "<tr><td>1977</td><td>1</td><td>3</td><td>0</td></tr>",
                            "<tr><td>1977</td><td>2</td><td>NULL</td><td>265591441</td></tr>",
                            "<tr><td>1977</td><td>2</td><td>6</td><td>105847527</td></tr>",
                            "<tr><td>1977</td><td>2</td><td>6</td><td>159743914</td></tr>",
                            "<tr><td>1977</td><td>2</td><td>6</td><td>265591441</td></tr>",
                            "<tr><td>1979</td><td>NULL</td><td>NULL</td><td>120377374</td></tr>",
                            "<tr><td>1979</td><td>4</td><td>NULL</td><td>120377374</td></tr>",
                            "<tr><td>1979</td><td>4</td><td>12</td><td>120377374</td></tr>",
                            "<tr><td>1979</td><td>4</td><td>12</td><td>120377374</td></tr>",
                            "<tr><td>1980</td><td>NULL</td><td>NULL</td><td>43560212</td></tr>",
                            "<tr><td>1980</td><td>1</td><td>NULL</td><td>9088096</td></tr>",
                            "<tr><td>1980</td><td>1</td><td>2</td><td>9088096</td></tr>",
                            "<tr><td>1980</td><td>1</td><td>2</td><td>9088096</td></tr>",
                            "<tr><td>1980</td><td>2</td><td>NULL</td><td>34472116</td></tr>",
                            "<tr><td>1980</td><td>2</td><td>6</td><td>34472116</td></tr>",
                            "<tr><td>1980</td><td>2</td><td>6</td><td>34472116</td></tr>",
                            "<tr><td>1981</td><td>NULL</td><td>NULL</td><td>181636869</td></tr>",
                            "<tr><td>1981</td><td>1</td><td>NULL</td><td>48517980</td></tr>",
                            "<tr><td>1981</td><td>1</td><td>1</td><td>48517980</td></tr>",
                            "<tr><td>1981</td><td>1</td><td>1</td><td>48517980</td></tr>",
                            "<tr><td>1981</td><td>1</td><td>3</td><td>0</td></tr>",
                            "<tr><td>1981</td><td>1</td><td>3</td><td>0</td></tr>",
                            "<tr><td>1981</td><td>3</td><td>NULL</td><td>133118889</td></tr>",
                            "<tr><td>1981</td><td>3</td><td>7</td><td>133118889</td></tr>",
                            "<tr><td>1981</td><td>3</td><td>7</td><td>133118889</td></tr>",
                            "<tr><td>1981</td><td>3</td><td>8</td><td>0</td></tr>",
                            "<tr><td>1981</td><td>3</td><td>8</td><td>0</td></tr>",
                            "<tr><td>1982</td><td>NULL</td><td>NULL</td><td>110731153</td></tr>",
                            "<tr><td>1982</td><td>1</td><td>NULL</td><td>12903059</td></tr>",
                            "<tr><td>1982</td><td>1</td><td>2</td><td>12903059</td></tr>",
                            "<tr><td>1982</td><td>1</td><td>2</td><td>12903059</td></tr>",
                            "<tr><td>1982</td><td>3</td><td>NULL</td><td>77184895</td></tr>",
                            "<tr><td>1982</td><td>3</td><td>7</td><td>77184895</td></tr>",
                            "<tr><td>1982</td><td>3</td><td>7</td><td>77184895</td></tr>",
                            "<tr><td>1982</td><td>4</td><td>NULL</td><td>20643199</td></tr>",
                            "<tr><td>1982</td><td>4</td><td>11</td><td>20643199</td></tr>",
                            "<tr><td>1982</td><td>4</td><td>11</td><td>20643199</td></tr>",
                            "<tr><td>1983</td><td>NULL</td><td>NULL</td><td>100549534</td></tr>",
                            "<tr><td>1983</td><td>1</td><td>NULL</td><td>11519089</td></tr>",
                            "<tr><td>1983</td><td>1</td><td>3</td><td>11519089</td></tr>",
                            "<tr><td>1983</td><td>1</td><td>3</td><td>11519089</td></tr>",
                            "<tr><td>1983</td><td>2</td><td>NULL</td><td>15136765</td></tr>",
                            "<tr><td>1983</td><td>2</td><td>4</td><td>15136765</td></tr>",
                            "<tr><td>1983</td><td>2</td><td>4</td><td>15136765</td></tr>",
                            "<tr><td>1983</td><td>4</td><td>NULL</td><td>73893680</td></tr>",
                            "<tr><td>1983</td><td>4</td><td>10</td><td>70669955</td></tr>",
                            "<tr><td>1983</td><td>4</td><td>10</td><td>70669955</td></tr>",
                            "<tr><td>1983</td><td>4</td><td>11</td><td>3223725</td></tr>",
                            "<tr><td>1983</td><td>4</td><td>11</td><td>3223725</td></tr>",
                            "<tr><td>1984</td><td>NULL</td><td>NULL</td><td>178132661</td></tr>",
                            "<tr><td>1984</td><td>1</td><td>NULL</td><td>157057661</td></tr>",
                            "<tr><td>1984</td><td>1</td><td>3</td><td>157057661</td></tr>",
                            "<tr><td>1984</td><td>1</td><td>3</td><td>157057661</td></tr>",
                            "<tr><td>1984</td><td>3</td><td>NULL</td><td>21075000</td></tr>",
                            "<tr><td>1984</td><td>3</td><td>9</td><td>21075000</td></tr>",
                            "<tr><td>1984</td><td>3</td><td>9</td><td>21075000</td></tr>",
                            "<tr><td>1985</td><td>NULL</td><td>NULL</td><td>173124212</td></tr>",
                            "<tr><td>1985</td><td>1</td><td>NULL</td><td>33900697</td></tr>",
                            "<tr><td>1985</td><td>1</td><td>3</td><td>33900697</td></tr>",
                            "<tr><td>1985</td><td>1</td><td>3</td><td>33900697</td></tr>",
                            "<tr><td>1985</td><td>2</td><td>NULL</td><td>25215934</td></tr>",
                            "<tr><td>1985</td><td>2</td><td>6</td><td>25215934</td></tr>",
                            "<tr><td>1985</td><td>2</td><td>6</td><td>25215934</td></tr>",
                            "<tr><td>1985</td><td>3</td><td>NULL</td><td>82592149</td></tr>",
                            "<tr><td>1985</td><td>3</td><td>7</td><td>50553142</td></tr>",
                            "<tr><td>1985</td><td>3</td><td>7</td><td>50553142</td></tr>",
                            "<tr><td>1985</td><td>3</td><td>8</td><td>9736051</td></tr>",
                            "<tr><td>1985</td><td>3</td><td>8</td><td>9736051</td></tr>",
                            "<tr><td>1985</td><td>3</td><td>9</td><td>22302956</td></tr>",
                            "<tr><td>1985</td><td>3</td><td>9</td><td>22302956</td></tr>",
                            "<tr><td>1985</td><td>4</td><td>NULL</td><td>31415432</td></tr>",
                            "<tr><td>1985</td><td>4</td><td>11</td><td>31415432</td></tr>",
                            "<tr><td>1985</td><td>4</td><td>11</td><td>31415432</td></tr>",
                            "<tr><td>1986</td><td>NULL</td><td>NULL</td><td>577472408</td></tr>",
                            "<tr><td>1986</td><td>1</td><td>NULL</td><td>141183693</td></tr>",
                            "<tr><td>1986</td><td>1</td><td>1</td><td>141183693</td></tr>",
                            "<tr><td>1986</td><td>1</td><td>1</td><td>141183693</td></tr>",
                            "<tr><td>1986</td><td>2</td><td>NULL</td><td>173752644</td></tr>",
                            "<tr><td>1986</td><td>2</td><td>4</td><td>11003932</td></tr>",
                            "<tr><td>1986</td><td>2</td><td>4</td><td>11003932</td></tr>",
                            "<tr><td>1986</td><td>2</td><td>6</td><td>162748712</td></tr>",
                            "<tr><td>1986</td><td>2</td><td>6</td><td>162748712</td></tr>",
                            "<tr><td>1986</td><td>3</td><td>NULL</td><td>95820564</td></tr>",
                            "<tr><td>1986</td><td>3</td><td>7</td><td>95820564</td></tr>",
                            "<tr><td>1986</td><td>3</td><td>7</td><td>95820564</td></tr>",
                            "<tr><td>1986</td><td>4</td><td>NULL</td><td>166715507</td></tr>",
                            "<tr><td>1986</td><td>4</td><td>10</td><td>48758184</td></tr>",
                            "<tr><td>1986</td><td>4</td><td>10</td><td>117957323</td></tr>",
                            "<tr><td>1986</td><td>4</td><td>10</td><td>166715507</td></tr>",
                            "<tr><td>1987</td><td>NULL</td><td>NULL</td><td>1186649969</td></tr>",
                            "<tr><td>1987</td><td>1</td><td>NULL</td><td>168764123</td></tr>",
                            "<tr><td>1987</td><td>1</td><td>1</td><td>113976921</td></tr>",
                            "<tr><td>1987</td><td>1</td><td>1</td><td>113976921</td></tr>",
                            "<tr><td>1987</td><td>1</td><td>3</td><td>54787202</td></tr>",
                            "<tr><td>1987</td><td>1</td><td>3</td><td>54787202</td></tr>",
                            "<tr><td>1987</td><td>2</td><td>NULL</td><td>83484844</td></tr>",
                            "<tr><td>1987</td><td>2</td><td>5</td><td>50686462</td></tr>",
                            "<tr><td>1987</td><td>2</td><td>5</td><td>50686462</td></tr>",
                            "<tr><td>1987</td><td>2</td><td>6</td><td>32798382</td></tr>",
                            "<tr><td>1987</td><td>2</td><td>6</td><td>32798382</td></tr>",
                            "<tr><td>1987</td><td>3</td><td>NULL</td><td>282627029</td></tr>",
                            "<tr><td>1987</td><td>3</td><td>7</td><td>72853569</td></tr>",
                            "<tr><td>1987</td><td>3</td><td>7</td><td>72853569</td></tr>",
                            "<tr><td>1987</td><td>3</td><td>8</td><td>141592160</td></tr>",
                            "<tr><td>1987</td><td>3</td><td>8</td><td>68181300</td></tr>",
                            "<tr><td>1987</td><td>3</td><td>8</td><td>209773460</td></tr>",
                            "<tr><td>1987</td><td>4</td><td>NULL</td><td>651773973</td></tr>",
                            "<tr><td>1987</td><td>4</td><td>11</td><td>397359136</td></tr>",
                            "<tr><td>1987</td><td>4</td><td>11</td><td>397359136</td></tr>",
                            "<tr><td>1987</td><td>4</td><td>12</td><td>254414837</td></tr>",
                            "<tr><td>1987</td><td>4</td><td>12</td><td>254414837</td></tr>",
                            "<tr><td>1988</td><td>NULL</td><td>NULL</td><td>986841867</td></tr>",
                            "<tr><td>1988</td><td>1</td><td>NULL</td><td>86159262</td></tr>",
                            "<tr><td>1988</td><td>1</td><td>2</td><td>60097074</td></tr>",
                            "<tr><td>1988</td><td>1</td><td>2</td><td>60097074</td></tr>",
                            "<tr><td>1988</td><td>1</td><td>3</td><td>26062188</td></tr>",
                            "<tr><td>1988</td><td>1</td><td>3</td><td>26062188</td></tr>",
                            "<tr><td>1988</td><td>2</td><td>NULL</td><td>426675919</td></tr>",
                            "<tr><td>1988</td><td>2</td><td>4</td><td>28073384</td></tr>",
                            "<tr><td>1988</td><td>2</td><td>4</td><td>28073384</td></tr>",
                            "<tr><td>1988</td><td>2</td><td>6</td><td>398602535</td></tr>",
                            "<tr><td>1988</td><td>2</td><td>6</td><td>398602535</td></tr>",
                            "<tr><td>1988</td><td>3</td><td>NULL</td><td>183752580</td></tr>",
                            "<tr><td>1988</td><td>3</td><td>7</td><td>160442289</td></tr>",
                            "<tr><td>1988</td><td>3</td><td>7</td><td>160442289</td></tr>",
                            "<tr><td>1988</td><td>3</td><td>8</td><td>12009960</td></tr>",
                            "<tr><td>1988</td><td>3</td><td>8</td><td>12009960</td></tr>",
                            "<tr><td>1988</td><td>3</td><td>9</td><td>11300331</td></tr>",
                            "<tr><td>1988</td><td>3</td><td>9</td><td>11300331</td></tr>",
                            "<tr><td>1988</td><td>4</td><td>NULL</td><td>290254106</td></tr>",
                            "<tr><td>1988</td><td>4</td><td>11</td><td>102254492</td></tr>",
                            "<tr><td>1988</td><td>4</td><td>11</td><td>57845202</td></tr>",
                            "<tr><td>1988</td><td>4</td><td>11</td><td>9772655</td></tr>",
                            "<tr><td>1988</td><td>4</td><td>11</td><td>169872349</td></tr>",
                            "<tr><td>1988</td><td>4</td><td>12</td><td>120381757</td></tr>",
                            "<tr><td>1988</td><td>4</td><td>12</td><td>120381757</td></tr>",
                            "<tr><td>1989</td><td>NULL</td><td>NULL</td><td>1097851241</td></tr>",
                            "<tr><td>1989</td><td>1</td><td>NULL</td><td>108498678</td></tr>",
                            "<tr><td>1989</td><td>1</td><td>1</td><td>85757817</td></tr>",
                            "<tr><td>1989</td><td>1</td><td>1</td><td>85757817</td></tr>",
                            "<tr><td>1989</td><td>1</td><td>3</td><td>22740861</td></tr>",
                            "<tr><td>1989</td><td>1</td><td>3</td><td>22740861</td></tr>",
                            "<tr><td>1989</td><td>2</td><td>NULL</td><td>493956651</td></tr>",
                            "<tr><td>1989</td><td>2</td><td>4</td><td>15233465</td></tr>",
                            "<tr><td>1989</td><td>2</td><td>4</td><td>15233465</td></tr>",
                            "<tr><td>1989</td><td>2</td><td>6</td><td>276191669</td></tr>",
                            "<tr><td>1989</td><td>2</td><td>6</td><td>202531517</td></tr>",
                            "<tr><td>1989</td><td>2</td><td>6</td><td>478723186</td></tr>",
                            "<tr><td>1989</td><td>3</td><td>NULL</td><td>166829834</td></tr>",
                            "<tr><td>1989</td><td>3</td><td>7</td><td>150176361</td></tr>",
                            "<tr><td>1989</td><td>3</td><td>7</td><td>150176361</td></tr>",
                            "<tr><td>1989</td><td>3</td><td>8</td><td>16653473</td></tr>",
                            "<tr><td>1989</td><td>3</td><td>8</td><td>16653473</td></tr>",
                            "<tr><td>1989</td><td>4</td><td>NULL</td><td>328566078</td></tr>",
                            "<tr><td>1989</td><td>4</td><td>10</td><td>64955426</td></tr>",
                            "<tr><td>1989</td><td>4</td><td>10</td><td>64955426</td></tr>",
                            "<tr><td>1989</td><td>4</td><td>11</td><td>223726012</td></tr>",
                            "<tr><td>1989</td><td>4</td><td>11</td><td>223726012</td></tr>",
                            "<tr><td>1989</td><td>4</td><td>12</td><td>39884640</td></tr>",
                            "<tr><td>1989</td><td>4</td><td>12</td><td>39884640</td></tr>",
                            "<tr><td>1990</td><td>NULL</td><td>NULL</td><td>1226460745</td></tr>",
                            "<tr><td>1990</td><td>1</td><td>NULL</td><td>398677233</td></tr>",
                            "<tr><td>1990</td><td>1</td><td>2</td><td>2210321</td></tr>",
                            "<tr><td>1990</td><td>1</td><td>2</td><td>40077147</td></tr>",
                            "<tr><td>1990</td><td>1</td><td>2</td><td>42287468</td></tr>",
                            "<tr><td>1990</td><td>1</td><td>3</td><td>356389765</td></tr>",
                            "<tr><td>1990</td><td>1</td><td>3</td><td>356389765</td></tr>",
                            "<tr><td>1990</td><td>2</td><td>NULL</td><td>356115175</td></tr>",
                            "<tr><td>1990</td><td>2</td><td>4</td><td>79964274</td></tr>",
                            "<tr><td>1990</td><td>2</td><td>4</td><td>79964274</td></tr>",
                            "<tr><td>1990</td><td>2</td><td>5</td><td>29485923</td></tr>",
                            "<tr><td>1990</td><td>2</td><td>5</td><td>29485923</td></tr>",
                            "<tr><td>1990</td><td>2</td><td>6</td><td>207231621</td></tr>",
                            "<tr><td>1990</td><td>2</td><td>6</td><td>39433357</td></tr>",
                            "<tr><td>1990</td><td>2</td><td>6</td><td>246664978</td></tr>",
                            "<tr><td>1990</td><td>3</td><td>NULL</td><td>182361553</td></tr>",
                            "<tr><td>1990</td><td>3</td><td>7</td><td>106290270</td></tr>",
                            "<tr><td>1990</td><td>3</td><td>7</td><td>106290270</td></tr>",
                            "<tr><td>1990</td><td>3</td><td>8</td><td>36107823</td></tr>",
                            "<tr><td>1990</td><td>3</td><td>8</td><td>39963460</td></tr>",
                            "<tr><td>1990</td><td>3</td><td>8</td><td>76071283</td></tr>",
                            "<tr><td>1990</td><td>4</td><td>NULL</td><td>289306784</td></tr>",
                            "<tr><td>1990</td><td>4</td><td>10</td><td>30722056</td></tr>",
                            "<tr><td>1990</td><td>4</td><td>10</td><td>30722056</td></tr>",
                            "<tr><td>1990</td><td>4</td><td>11</td><td>55796728</td></tr>",
                            "<tr><td>1990</td><td>4</td><td>11</td><td>143108869</td></tr>",
                            "<tr><td>1990</td><td>4</td><td>11</td><td>198905597</td></tr>",
                            "<tr><td>1990</td><td>4</td><td>12</td><td>59679131</td></tr>",
                            "<tr><td>1990</td><td>4</td><td>12</td><td>59679131</td></tr>",
                            "<tr><td>1991</td><td>NULL</td><td>NULL</td><td>1221190032</td></tr>",
                            "<tr><td>1991</td><td>1</td><td>NULL</td><td>118774316</td></tr>",
                            "<tr><td>1991</td><td>1</td><td>1</td><td>69540672</td></tr>",
                            "<tr><td>1991</td><td>1</td><td>1</td><td>69540672</td></tr>",
                            "<tr><td>1991</td><td>1</td><td>2</td><td>19149495</td></tr>",
                            "<tr><td>1991</td><td>1</td><td>2</td><td>19149495</td></tr>",
                            "<tr><td>1991</td><td>1</td><td>3</td><td>30084149</td></tr>",
                            "<tr><td>1991</td><td>1</td><td>3</td><td>30084149</td></tr>",
                            "<tr><td>1991</td><td>2</td><td>NULL</td><td>330146316</td></tr>",
                            "<tr><td>1991</td><td>2</td><td>4</td><td>47181395</td></tr>",
                            "<tr><td>1991</td><td>2</td><td>4</td><td>24939118</td></tr>",
                            "<tr><td>1991</td><td>2</td><td>4</td><td>72120513</td></tr>",
                            "<tr><td>1991</td><td>2</td><td>5</td><td>22580472</td></tr>",
                            "<tr><td>1991</td><td>2</td><td>5</td><td>127571325</td></tr>",
                            "<tr><td>1991</td><td>2</td><td>5</td><td>14617333</td></tr>",
                            "<tr><td>1991</td><td>2</td><td>5</td><td>164769130</td></tr>",
                            "<tr><td>1991</td><td>2</td><td>6</td><td>93256673</td></tr>",
                            "<tr><td>1991</td><td>2</td><td>6</td><td>93256673</td></tr>",
                            "<tr><td>1991</td><td>3</td><td>NULL</td><td>169942014</td></tr>",
                            "<tr><td>1991</td><td>3</td><td>7</td><td>75084021</td></tr>",
                            "<tr><td>1991</td><td>3</td><td>7</td><td>75084021</td></tr>",
                            "<tr><td>1991</td><td>3</td><td>9</td><td>37313540</td></tr>",
                            "<tr><td>1991</td><td>3</td><td>9</td><td>57544453</td></tr>",
                            "<tr><td>1991</td><td>3</td><td>9</td><td>94857993</td></tr>",
                            "<tr><td>1991</td><td>4</td><td>NULL</td><td>602327386</td></tr>",
                            "<tr><td>1991</td><td>4</td><td>10</td><td>28320147</td></tr>",
                            "<tr><td>1991</td><td>4</td><td>10</td><td>28320147</td></tr>",
                            "<tr><td>1991</td><td>4</td><td>11</td><td>31167691</td></tr>",
                            "<tr><td>1991</td><td>4</td><td>11</td><td>363017667</td></tr>",
                            "<tr><td>1991</td><td>4</td><td>11</td><td>394185358</td></tr>",
                            "<tr><td>1991</td><td>4</td><td>12</td><td>179821881</td></tr>",
                            "<tr><td>1991</td><td>4</td><td>12</td><td>179821881</td></tr>",
                            "<tr><td>1992</td><td>NULL</td><td>NULL</td><td>1736349861</td></tr>",
                            "<tr><td>1992</td><td>1</td><td>NULL</td><td>280640019</td></tr>",
                            "<tr><td>1992</td><td>1</td><td>1</td><td>178831137</td></tr>",
                            "<tr><td>1992</td><td>1</td><td>1</td><td>178831137</td></tr>",
                            "<tr><td>1992</td><td>1</td><td>2</td><td>91304495</td></tr>",
                            "<tr><td>1992</td><td>1</td><td>2</td><td>91304495</td></tr>",
                            "<tr><td>1992</td><td>1</td><td>3</td><td>10504387</td></tr>",
                            "<tr><td>1992</td><td>1</td><td>3</td><td>10504387</td></tr>",
                            "<tr><td>1992</td><td>2</td><td>NULL</td><td>421706215</td></tr>",
                            "<tr><td>1992</td><td>2</td><td>4</td><td>13685329</td></tr>",
                            "<tr><td>1992</td><td>2</td><td>4</td><td>43068356</td></tr>",
                            "<tr><td>1992</td><td>2</td><td>4</td><td>56753685</td></tr>",
                            "<tr><td>1992</td><td>2</td><td>5</td><td>364952530</td></tr>",
                            "<tr><td>1992</td><td>2</td><td>5</td><td>364952530</td></tr>",
                            "<tr><td>1992</td><td>3</td><td>NULL</td><td>280864847</td></tr>",
                            "<tr><td>1992</td><td>3</td><td>7</td><td>119162518</td></tr>",
                            "<tr><td>1992</td><td>3</td><td>7</td><td>24950752</td></tr>",
                            "<tr><td>1992</td><td>3</td><td>7</td><td>144113270</td></tr>",
                            "<tr><td>1992</td><td>3</td><td>8</td><td>7295423</td></tr>",
                            "<tr><td>1992</td><td>3</td><td>8</td><td>58965304</td></tr>",
                            "<tr><td>1992</td><td>3</td><td>8</td><td>66260727</td></tr>",
                            "<tr><td>1992</td><td>3</td><td>9</td><td>45741576</td></tr>",
                            "<tr><td>1992</td><td>3</td><td>9</td><td>14841352</td></tr>",
                            "<tr><td>1992</td><td>3</td><td>9</td><td>9907922</td></tr>",
                            "<tr><td>1992</td><td>3</td><td>9</td><td>70490850</td></tr>",
                            "<tr><td>1992</td><td>4</td><td>NULL</td><td>753138780</td></tr>",
                            "<tr><td>1992</td><td>4</td><td>10</td><td>14421454</td></tr>",
                            "<tr><td>1992</td><td>4</td><td>10</td><td>103120810</td></tr>",
                            "<tr><td>1992</td><td>4</td><td>10</td><td>43859823</td></tr>",
                            "<tr><td>1992</td><td>4</td><td>10</td><td>161402087</td></tr>",
                            "<tr><td>1992</td><td>4</td><td>11</td><td>441969178</td></tr>",
                            "<tr><td>1992</td><td>4</td><td>11</td><td>441969178</td></tr>",
                            "<tr><td>1992</td><td>4</td><td>12</td><td>149767515</td></tr>",
                            "<tr><td>1992</td><td>4</td><td>12</td><td>149767515</td></tr>",
                            "<tr><td>1993</td><td>NULL</td><td>NULL</td><td>1427312980</td></tr>",
                            "<tr><td>1993</td><td>1</td><td>NULL</td><td>260319183</td></tr>",
                            "<tr><td>1993</td><td>1</td><td>1</td><td>73914543</td></tr>",
                            "<tr><td>1993</td><td>1</td><td>1</td><td>15970955</td></tr>",
                            "<tr><td>1993</td><td>1</td><td>1</td><td>89885498</td></tr>",
                            "<tr><td>1993</td><td>1</td><td>2</td><td>85182343</td></tr>",
                            "<tr><td>1993</td><td>1</td><td>2</td><td>11369541</td></tr>",
                            "<tr><td>1993</td><td>1</td><td>2</td><td>96551884</td></tr>",
                            "<tr><td>1993</td><td>1</td><td>3</td><td>26248558</td></tr>",
                            "<tr><td>1993</td><td>1</td><td>3</td><td>11468231</td></tr>",
                            "<tr><td>1993</td><td>1</td><td>3</td><td>36165012</td></tr>",
                            "<tr><td>1993</td><td>1</td><td>3</td><td>73881801</td></tr>",
                            "<tr><td>1993</td><td>2</td><td>NULL</td><td>281480471</td></tr>",
                            "<tr><td>1993</td><td>2</td><td>4</td><td>9156084</td></tr>",
                            "<tr><td>1993</td><td>2</td><td>4</td><td>49080505</td></tr>",
                            "<tr><td>1993</td><td>2</td><td>4</td><td>29968953</td></tr>",
                            "<tr><td>1993</td><td>2</td><td>4</td><td>88205542</td></tr>",
                            "<tr><td>1993</td><td>2</td><td>5</td><td>42445058</td></tr>",
                            "<tr><td>1993</td><td>2</td><td>5</td><td>42445058</td></tr>",
                            "<tr><td>1993</td><td>2</td><td>6</td><td>25146538</td></tr>",
                            "<tr><td>1993</td><td>2</td><td>6</td><td>79618610</td></tr>",
                            "<tr><td>1993</td><td>2</td><td>6</td><td>46064723</td></tr>",
                            "<tr><td>1993</td><td>2</td><td>6</td><td>150829871</td></tr>",
                            "<tr><td>1993</td><td>3</td><td>NULL</td><td>303036179</td></tr>",
                            "<tr><td>1993</td><td>3</td><td>7</td><td>174012053</td></tr>",
                            "<tr><td>1993</td><td>3</td><td>7</td><td>174012053</td></tr>",
                            "<tr><td>1993</td><td>3</td><td>8</td><td>13209203</td></tr>",
                            "<tr><td>1993</td><td>3</td><td>8</td><td>13209203</td></tr>",
                            "<tr><td>1993</td><td>3</td><td>9</td><td>46919256</td></tr>",
                            "<tr><td>1993</td><td>3</td><td>9</td><td>2127496</td></tr>",
                            "<tr><td>1993</td><td>3</td><td>9</td><td>66768171</td></tr>",
                            "<tr><td>1993</td><td>3</td><td>9</td><td>115814923</td></tr>",
                            "<tr><td>1993</td><td>4</td><td>NULL</td><td>582477147</td></tr>",
                            "<tr><td>1993</td><td>4</td><td>10</td><td>140392731</td></tr>",
                            "<tr><td>1993</td><td>4</td><td>10</td><td>100026637</td></tr>",
                            "<tr><td>1993</td><td>4</td><td>10</td><td>240419368</td></tr>",
                            "<tr><td>1993</td><td>4</td><td>11</td><td>109310377</td></tr>",
                            "<tr><td>1993</td><td>4</td><td>11</td><td>109310377</td></tr>",
                            "<tr><td>1993</td><td>4</td><td>12</td><td>116965668</td></tr>",
                            "<tr><td>1993</td><td>4</td><td>12</td><td>115781734</td></tr>",
                            "<tr><td>1993</td><td>4</td><td>12</td><td>232747402</td></tr>",
                            "<tr><td>1994</td><td>NULL</td><td>NULL</td><td>2140690807</td></tr>",
                            "<tr><td>1994</td><td>1</td><td>NULL</td><td>297805767</td></tr>",
                            "<tr><td>1994</td><td>1</td><td>1</td><td>5170709</td></tr>",
                            "<tr><td>1994</td><td>1</td><td>1</td><td>50108763</td></tr>",
                            "<tr><td>1994</td><td>1</td><td>1</td><td>42610902</td></tr>",
                            "<tr><td>1994</td><td>1</td><td>1</td><td>97890374</td></tr>",
                            "<tr><td>1994</td><td>1</td><td>2</td><td>63170804</td></tr>",
                            "<tr><td>1994</td><td>1</td><td>2</td><td>63170804</td></tr>",
                            "<tr><td>1994</td><td>1</td><td>3</td><td>136744589</td></tr>",
                            "<tr><td>1994</td><td>1</td><td>3</td><td>136744589</td></tr>",
                            "<tr><td>1994</td><td>2</td><td>NULL</td><td>1040732436</td></tr>",
                            "<tr><td>1994</td><td>2</td><td>4</td><td>18083994</td></tr>",
                            "<tr><td>1994</td><td>2</td><td>4</td><td>19789695</td></tr>",
                            "<tr><td>1994</td><td>2</td><td>4</td><td>103354194</td></tr>",
                            "<tr><td>1994</td><td>2</td><td>4</td><td>141227883</td></tr>",
                            "<tr><td>1994</td><td>2</td><td>5</td><td>24267154</td></tr>",
                            "<tr><td>1994</td><td>2</td><td>5</td><td>24267154</td></tr>",
                            "<tr><td>1994</td><td>2</td><td>6</td><td>761640898</td></tr>",
                            "<tr><td>1994</td><td>2</td><td>6</td><td>49945474</td></tr>",
                            "<tr><td>1994</td><td>2</td><td>6</td><td>63651027</td></tr>",
                            "<tr><td>1994</td><td>2</td><td>6</td><td>875237399</td></tr>",
                            "<tr><td>1994</td><td>3</td><td>NULL</td><td>329945285</td></tr>",
                            "<tr><td>1994</td><td>3</td><td>7</td><td>103798152</td></tr>",
                            "<tr><td>1994</td><td>3</td><td>7</td><td>103798152</td></tr>",
                            "<tr><td>1994</td><td>3</td><td>8</td><td>81375785</td></tr>",
                            "<tr><td>1994</td><td>3</td><td>8</td><td>40804816</td></tr>",
                            "<tr><td>1994</td><td>3</td><td>8</td><td>122180601</td></tr>",
                            "<tr><td>1994</td><td>3</td><td>9</td><td>34048315</td></tr>",
                            "<tr><td>1994</td><td>3</td><td>9</td><td>12042634</td></tr>",
                            "<tr><td>1994</td><td>3</td><td>9</td><td>57875583</td></tr>",
                            "<tr><td>1994</td><td>3</td><td>9</td><td>103966532</td></tr>",
                            "<tr><td>1994</td><td>4</td><td>NULL</td><td>472207319</td></tr>",
                            "<tr><td>1994</td><td>4</td><td>10</td><td>6858345</td></tr>",
                            "<tr><td>1994</td><td>4</td><td>10</td><td>17727017</td></tr>",
                            "<tr><td>1994</td><td>4</td><td>10</td><td>24585362</td></tr>",
                            "<tr><td>1994</td><td>4</td><td>11</td><td>60321919</td></tr>",
                            "<tr><td>1994</td><td>4</td><td>11</td><td>298369717</td></tr>",
                            "<tr><td>1994</td><td>4</td><td>11</td><td>358691636</td></tr>",
                            "<tr><td>1994</td><td>4</td><td>12</td><td>88930321</td></tr>",
                            "<tr><td>1994</td><td>4</td><td>12</td><td>88930321</td></tr>",
                            "<tr><td>1995</td><td>NULL</td><td>NULL</td><td>2188599043</td></tr>",
                            "<tr><td>1995</td><td>1</td><td>NULL</td><td>240254848</td></tr>",
                            "<tr><td>1995</td><td>1</td><td>1</td><td>51016522</td></tr>",
                            "<tr><td>1995</td><td>1</td><td>1</td><td>9857435</td></tr>",
                            "<tr><td>1995</td><td>1</td><td>1</td><td>6829092</td></tr>",
                            "<tr><td>1995</td><td>1</td><td>1</td><td>67703049</td></tr>",
                            "<tr><td>1995</td><td>1</td><td>2</td><td>48887340</td></tr>",
                            "<tr><td>1995</td><td>1</td><td>2</td><td>48887340</td></tr>",
                            "<tr><td>1995</td><td>1</td><td>3</td><td>102003253</td></tr>",
                            "<tr><td>1995</td><td>1</td><td>3</td><td>4770461</td></tr>",
                            "<tr><td>1995</td><td>1</td><td>3</td><td>907414</td></tr>",
                            "<tr><td>1995</td><td>1</td><td>3</td><td>15983331</td></tr>",
                            "<tr><td>1995</td><td>1</td><td>3</td><td>123664459</td></tr>",
                            "<tr><td>1995</td><td>2</td><td>NULL</td><td>774192595</td></tr>",
                            "<tr><td>1995</td><td>2</td><td>4</td><td>68479579</td></tr>",
                            "<tr><td>1995</td><td>2</td><td>4</td><td>157082900</td></tr>",
                            "<tr><td>1995</td><td>2</td><td>4</td><td>225562479</td></tr>",
                            "<tr><td>1995</td><td>2</td><td>5</td><td>177102077</td></tr>",
                            "<tr><td>1995</td><td>2</td><td>5</td><td>29934306</td></tr>",
                            "<tr><td>1995</td><td>2</td><td>5</td><td>207036383</td></tr>",
                            "<tr><td>1995</td><td>2</td><td>6</td><td>67222776</td></tr>",
                            "<tr><td>1995</td><td>2</td><td>6</td><td>274370957</td></tr>",
                            "<tr><td>1995</td><td>2</td><td>6</td><td>341593733</td></tr>",
                            "<tr><td>1995</td><td>3</td><td>NULL</td><td>299249083</td></tr>",
                            "<tr><td>1995</td><td>3</td><td>7</td><td>47809421</td></tr>",
                            "<tr><td>1995</td><td>3</td><td>7</td><td>47809421</td></tr>",
                            "<tr><td>1995</td><td>3</td><td>8</td><td>25981285</td></tr>",
                            "<tr><td>1995</td><td>3</td><td>8</td><td>164552293</td></tr>",
                            "<tr><td>1995</td><td>3</td><td>8</td><td>190533578</td></tr>",
                            "<tr><td>1995</td><td>3</td><td>9</td><td>34372339</td></tr>",
                            "<tr><td>1995</td><td>3</td><td>9</td><td>15365850</td></tr>",
                            "<tr><td>1995</td><td>3</td><td>9</td><td>11167895</td></tr>",
                            "<tr><td>1995</td><td>3</td><td>9</td><td>60906084</td></tr>",
                            "<tr><td>1995</td><td>4</td><td>NULL</td><td>874902517</td></tr>",
                            "<tr><td>1995</td><td>4</td><td>10</td><td>127112058</td></tr>",
                            "<tr><td>1995</td><td>4</td><td>10</td><td>127112058</td></tr>",
                            "<tr><td>1995</td><td>4</td><td>11</td><td>370409631</td></tr>",
                            "<tr><td>1995</td><td>4</td><td>11</td><td>370409631</td></tr>",
                            "<tr><td>1995</td><td>4</td><td>12</td><td>45911517</td></tr>",
                            "<tr><td>1995</td><td>4</td><td>12</td><td>147658438</td></tr>",
                            "<tr><td>1995</td><td>4</td><td>12</td><td>183810873</td></tr>",
                            "<tr><td>1995</td><td>4</td><td>12</td><td>377380828</td></tr>",
                            "<tr><td>1996</td><td>NULL</td><td>NULL</td><td>2157238999</td></tr>",
                            "<tr><td>1996</td><td>1</td><td>NULL</td><td>289647492</td></tr>",
                            "<tr><td>1996</td><td>1</td><td>2</td><td>84980293</td></tr>",
                            "<tr><td>1996</td><td>1</td><td>2</td><td>16482589</td></tr>",
                            "<tr><td>1996</td><td>1</td><td>2</td><td>24422334</td></tr>",
                            "<tr><td>1996</td><td>1</td><td>2</td><td>125885216</td></tr>",
                            "<tr><td>1996</td><td>1</td><td>3</td><td>62384706</td></tr>",
                            "<tr><td>1996</td><td>1</td><td>3</td><td>1963937</td></tr>",
                            "<tr><td>1996</td><td>1</td><td>3</td><td>97356578</td></tr>",
                            "<tr><td>1996</td><td>1</td><td>3</td><td>2057055</td></tr>",
                            "<tr><td>1996</td><td>1</td><td>3</td><td>163762276</td></tr>",
                            "<tr><td>1996</td><td>2</td><td>NULL</td><td>683676060</td></tr>",
                            "<tr><td>1996</td><td>2</td><td>4</td><td>55159783</td></tr>",
                            "<tr><td>1996</td><td>2</td><td>4</td><td>17623615</td></tr>",
                            "<tr><td>1996</td><td>2</td><td>4</td><td>72783398</td></tr>",
                            "<tr><td>1996</td><td>2</td><td>5</td><td>111202878</td></tr>",
                            "<tr><td>1996</td><td>2</td><td>5</td><td>52998280</td></tr>",
                            "<tr><td>1996</td><td>2</td><td>5</td><td>164201158</td></tr>",
                            "<tr><td>1996</td><td>2</td><td>6</td><td>255702705</td></tr>",
                            "<tr><td>1996</td><td>2</td><td>6</td><td>190988799</td></tr>",
                            "<tr><td>1996</td><td>2</td><td>6</td><td>446691504</td></tr>",
                            "<tr><td>1996</td><td>3</td><td>NULL</td><td>414112033</td></tr>",
                            "<tr><td>1996</td><td>3</td><td>7</td><td>36009655</td></tr>",
                            "<tr><td>1996</td><td>3</td><td>7</td><td>199559799</td></tr>",
                            "<tr><td>1996</td><td>3</td><td>7</td><td>235569454</td></tr>",
                            "<tr><td>1996</td><td>3</td><td>8</td><td>50465108</td></tr>",
                            "<tr><td>1996</td><td>3</td><td>8</td><td>111792852</td></tr>",
                            "<tr><td>1996</td><td>3</td><td>8</td><td>162257960</td></tr>",
                            "<tr><td>1996</td><td>3</td><td>9</td><td>16284619</td></tr>",
                            "<tr><td>1996</td><td>3</td><td>9</td><td>16284619</td></tr>",
                            "<tr><td>1996</td><td>4</td><td>NULL</td><td>769803414</td></tr>",
                            "<tr><td>1996</td><td>4</td><td>10</td><td>68046648</td></tr>",
                            "<tr><td>1996</td><td>4</td><td>10</td><td>68046648</td></tr>",
                            "<tr><td>1996</td><td>4</td><td>11</td><td>65543</td></tr>",
                            "<tr><td>1996</td><td>4</td><td>11</td><td>259807820</td></tr>",
                            "<tr><td>1996</td><td>4</td><td>11</td><td>258728898</td></tr>",
                            "<tr><td>1996</td><td>4</td><td>11</td><td>518602261</td></tr>",
                            "<tr><td>1996</td><td>4</td><td>12</td><td>91076877</td></tr>",
                            "<tr><td>1996</td><td>4</td><td>12</td><td>92077628</td></tr>",
                            "<tr><td>1996</td><td>4</td><td>12</td><td>183154505</td></tr>",
                            "<tr><td>1997</td><td>NULL</td><td>NULL</td><td>1474848034</td></tr>",
                            "<tr><td>1997</td><td>1</td><td>NULL</td><td>234635360</td></tr>",
                            "<tr><td>1997</td><td>1</td><td>1</td><td>58804106</td></tr>",
                            "<tr><td>1997</td><td>1</td><td>1</td><td>1085093</td></tr>",
                            "<tr><td>1997</td><td>1</td><td>1</td><td>3957025</td></tr>",
                            "<tr><td>1997</td><td>1</td><td>1</td><td>63846224</td></tr>",
                            "<tr><td>1997</td><td>1</td><td>2</td><td>33613158</td></tr>",
                            "<tr><td>1997</td><td>1</td><td>2</td><td>33613158</td></tr>",
                            "<tr><td>1997</td><td>1</td><td>3</td><td>137175978</td></tr>",
                            "<tr><td>1997</td><td>1</td><td>3</td><td>137175978</td></tr>",
                            "<tr><td>1997</td><td>2</td><td>NULL</td><td>509280899</td></tr>",
                            "<tr><td>1997</td><td>2</td><td>4</td><td>51579764</td></tr>",
                            "<tr><td>1997</td><td>2</td><td>4</td><td>53693680</td></tr>",
                            "<tr><td>1997</td><td>2</td><td>4</td><td>105273444</td></tr>",
                            "<tr><td>1997</td><td>2</td><td>5</td><td>36265379</td></tr>",
                            "<tr><td>1997</td><td>2</td><td>5</td><td>36265379</td></tr>",
                            "<tr><td>1997</td><td>2</td><td>6</td><td>185712664</td></tr>",
                            "<tr><td>1997</td><td>2</td><td>6</td><td>182029412</td></tr>",
                            "<tr><td>1997</td><td>2</td><td>6</td><td>367742076</td></tr>",
                            "<tr><td>1997</td><td>3</td><td>NULL</td><td>423314170</td></tr>",
                            "<tr><td>1997</td><td>3</td><td>7</td><td>275018727</td></tr>",
                            "<tr><td>1997</td><td>3</td><td>7</td><td>275018727</td></tr>",
                            "<tr><td>1997</td><td>3</td><td>8</td><td>45266588</td></tr>",
                            "<tr><td>1997</td><td>3</td><td>8</td><td>88467531</td></tr>",
                            "<tr><td>1997</td><td>3</td><td>8</td><td>133734119</td></tr>",
                            "<tr><td>1997</td><td>3</td><td>9</td><td>14561324</td></tr>",
                            "<tr><td>1997</td><td>3</td><td>9</td><td>14561324</td></tr>",
                            "<tr><td>1997</td><td>4</td><td>NULL</td><td>307617605</td></tr>",
                            "<tr><td>1997</td><td>4</td><td>10</td><td>28371890</td></tr>",
                            "<tr><td>1997</td><td>4</td><td>10</td><td>3257546</td></tr>",
                            "<tr><td>1997</td><td>4</td><td>10</td><td>7652965</td></tr>",
                            "<tr><td>1997</td><td>4</td><td>10</td><td>39282401</td></tr>",
                            "<tr><td>1997</td><td>4</td><td>11</td><td>170406423</td></tr>",
                            "<tr><td>1997</td><td>4</td><td>11</td><td>170406423</td></tr>",
                            "<tr><td>1997</td><td>4</td><td>12</td><td>39145784</td></tr>",
                            "<tr><td>1997</td><td>4</td><td>12</td><td>10236836</td></tr>",
                            "<tr><td>1997</td><td>4</td><td>12</td><td>48546161</td></tr>",
                            "<tr><td>1997</td><td>4</td><td>12</td><td>97928781</td></tr>",
                            "<tr><td>1998</td><td>NULL</td><td>NULL</td><td>2189031209</td></tr>",
                            "<tr><td>1998</td><td>1</td><td>NULL</td><td>41657562</td></tr>",
                            "<tr><td>1998</td><td>1</td><td>1</td><td>20136775</td></tr>",
                            "<tr><td>1998</td><td>1</td><td>1</td><td>20136775</td></tr>",
                            "<tr><td>1998</td><td>1</td><td>2</td><td>13690910</td></tr>",
                            "<tr><td>1998</td><td>1</td><td>2</td><td>13690910</td></tr>",
                            "<tr><td>1998</td><td>1</td><td>3</td><td>7829877</td></tr>",
                            "<tr><td>1998</td><td>1</td><td>3</td><td>7829877</td></tr>",
                            "<tr><td>1998</td><td>2</td><td>NULL</td><td>524692827</td></tr>",
                            "<tr><td>1998</td><td>2</td><td>5</td><td>174264479</td></tr>",
                            "<tr><td>1998</td><td>2</td><td>5</td><td>174264479</td></tr>",
                            "<tr><td>1998</td><td>2</td><td>6</td><td>216807832</td></tr>",
                            "<tr><td>1998</td><td>2</td><td>6</td><td>133620516</td></tr>",
                            "<tr><td>1998</td><td>2</td><td>6</td><td>350428348</td></tr>",
                            "<tr><td>1998</td><td>3</td><td>NULL</td><td>551398064</td></tr>",
                            "<tr><td>1998</td><td>3</td><td>7</td><td>362324957</td></tr>",
                            "<tr><td>1998</td><td>3</td><td>7</td><td>154853722</td></tr>",
                            "<tr><td>1998</td><td>3</td><td>7</td><td>517178679</td></tr>",
                            "<tr><td>1998</td><td>3</td><td>9</td><td>34219385</td></tr>",
                            "<tr><td>1998</td><td>3</td><td>9</td><td>34219385</td></tr>",
                            "<tr><td>1998</td><td>4</td><td>NULL</td><td>1071282756</td></tr>",
                            "<tr><td>1998</td><td>4</td><td>10</td><td>21694605</td></tr>",
                            "<tr><td>1998</td><td>4</td><td>10</td><td>41062682</td></tr>",
                            "<tr><td>1998</td><td>4</td><td>10</td><td>62757287</td></tr>",
                            "<tr><td>1998</td><td>4</td><td>11</td><td>198472008</td></tr>",
                            "<tr><td>1998</td><td>4</td><td>11</td><td>288981698</td></tr>",
                            "<tr><td>1998</td><td>4</td><td>11</td><td>310633673</td></tr>",
                            "<tr><td>1998</td><td>4</td><td>11</td><td>798087379</td></tr>",
                            "<tr><td>1998</td><td>4</td><td>12</td><td>87906042</td></tr>",
                            "<tr><td>1998</td><td>4</td><td>12</td><td>28392518</td></tr>",
                            "<tr><td>1998</td><td>4</td><td>12</td><td>94139530</td></tr>",
                            "<tr><td>1998</td><td>4</td><td>12</td><td>210438090</td></tr>",
                            "<tr><td>1999</td><td>NULL</td><td>NULL</td><td>1981582799</td></tr>",
                            "<tr><td>1999</td><td>1</td><td>NULL</td><td>202879153</td></tr>",
                            "<tr><td>1999</td><td>1</td><td>2</td><td>61150849</td></tr>",
                            "<tr><td>1999</td><td>1</td><td>2</td><td>46145331</td></tr>",
                            "<tr><td>1999</td><td>1</td><td>2</td><td>107296180</td></tr>",
                            "<tr><td>1999</td><td>1</td><td>3</td><td>32228598</td></tr>",
                            "<tr><td>1999</td><td>1</td><td>3</td><td>63354375</td></tr>",
                            "<tr><td>1999</td><td>1</td><td>3</td><td>95582973</td></tr>",
                            "<tr><td>1999</td><td>2</td><td>NULL</td><td>340876314</td></tr>",
                            "<tr><td>1999</td><td>2</td><td>5</td><td>380218</td></tr>",
                            "<tr><td>1999</td><td>2</td><td>5</td><td>380218</td></tr>",
                            "<tr><td>1999</td><td>2</td><td>6</td><td>283900254</td></tr>",
                            "<tr><td>1999</td><td>2</td><td>6</td><td>56595842</td></tr>",
                            "<tr><td>1999</td><td>2</td><td>6</td><td>340496096</td></tr>",
                            "<tr><td>1999</td><td>3</td><td>NULL</td><td>741167083</td></tr>",
                            "<tr><td>1999</td><td>3</td><td>7</td><td>161610341</td></tr>",
                            "<tr><td>1999</td><td>3</td><td>7</td><td>32007656</td></tr>",
                            "<tr><td>1999</td><td>3</td><td>7</td><td>193617997</td></tr>",
                            "<tr><td>1999</td><td>3</td><td>8</td><td>54262148</td></tr>",
                            "<tr><td>1999</td><td>3</td><td>8</td><td>485424724</td></tr>",
                            "<tr><td>1999</td><td>3</td><td>8</td><td>539686872</td></tr>",
                            "<tr><td>1999</td><td>3</td><td>9</td><td>7862214</td></tr>",
                            "<tr><td>1999</td><td>3</td><td>9</td><td>7862214</td></tr>",
                            "<tr><td>1999</td><td>4</td><td>NULL</td><td>696660249</td></tr>",
                            "<tr><td>1999</td><td>4</td><td>10</td><td>14755189</td></tr>",
                            "<tr><td>1999</td><td>4</td><td>10</td><td>10111144</td></tr>",
                            "<tr><td>1999</td><td>4</td><td>10</td><td>24866333</td></tr>",
                            "<tr><td>1999</td><td>4</td><td>11</td><td>404450426</td></tr>",
                            "<tr><td>1999</td><td>4</td><td>11</td><td>47794214</td></tr>",
                            "<tr><td>1999</td><td>4</td><td>11</td><td>452244640</td></tr>",
                            "<tr><td>1999</td><td>4</td><td>12</td><td>120101898</td></tr>",
                            "<tr><td>1999</td><td>4</td><td>12</td><td>99447378</td></tr>",
                            "<tr><td>1999</td><td>4</td><td>12</td><td>219549276</td></tr>",
                            "<tr><td>2000</td><td>NULL</td><td>NULL</td><td>1711675892</td></tr>",
                            "<tr><td>2000</td><td>1</td><td>NULL</td><td>306513047</td></tr>",
                            "<tr><td>2000</td><td>1</td><td>1</td><td>94852354</td></tr>",
                            "<tr><td>2000</td><td>1</td><td>1</td><td>94852354</td></tr>",
                            "<tr><td>2000</td><td>1</td><td>2</td><td>71228678</td></tr>",
                            "<tr><td>2000</td><td>1</td><td>2</td><td>2562155</td></tr>",
                            "<tr><td>2000</td><td>1</td><td>2</td><td>73790833</td></tr>",
                            "<tr><td>2000</td><td>1</td><td>3</td><td>95208344</td></tr>",
                            "<tr><td>2000</td><td>1</td><td>3</td><td>42661516</td></tr>",
                            "<tr><td>2000</td><td>1</td><td>3</td><td>137869860</td></tr>",
                            "<tr><td>2000</td><td>2</td><td>NULL</td><td>535615283</td></tr>",
                            "<tr><td>2000</td><td>2</td><td>4</td><td>57925202</td></tr>",
                            "<tr><td>2000</td><td>2</td><td>4</td><td>57925202</td></tr>",
                            "<tr><td>2000</td><td>2</td><td>5</td><td>215438985</td></tr>",
                            "<tr><td>2000</td><td>2</td><td>5</td><td>89042541</td></tr>",
                            "<tr><td>2000</td><td>2</td><td>5</td><td>304481526</td></tr>",
                            "<tr><td>2000</td><td>2</td><td>6</td><td>158970411</td></tr>",
                            "<tr><td>2000</td><td>2</td><td>6</td><td>14238144</td></tr>",
                            "<tr><td>2000</td><td>2</td><td>6</td><td>173208555</td></tr>",
                            "<tr><td>2000</td><td>3</td><td>NULL</td><td>412572368</td></tr>",
                            "<tr><td>2000</td><td>3</td><td>7</td><td>108993148</td></tr>",
                            "<tr><td>2000</td><td>3</td><td>7</td><td>108993148</td></tr>",
                            "<tr><td>2000</td><td>3</td><td>8</td><td>20362201</td></tr>",
                            "<tr><td>2000</td><td>3</td><td>8</td><td>95070168</td></tr>",
                            "<tr><td>2000</td><td>3</td><td>8</td><td>115432369</td></tr>",
                            "<tr><td>2000</td><td>3</td><td>9</td><td>188146851</td></tr>",
                            "<tr><td>2000</td><td>3</td><td>9</td><td>188146851</td></tr>",
                            "<tr><td>2000</td><td>4</td><td>NULL</td><td>456975194</td></tr>",
                            "<tr><td>2000</td><td>4</td><td>11</td><td>104055039</td></tr>",
                            "<tr><td>2000</td><td>4</td><td>11</td><td>148208901</td></tr>",
                            "<tr><td>2000</td><td>4</td><td>11</td><td>252263940</td></tr>",
                            "<tr><td>2000</td><td>4</td><td>12</td><td>136789252</td></tr>",
                            "<tr><td>2000</td><td>4</td><td>12</td><td>67922002</td></tr>",
                            "<tr><td>2000</td><td>4</td><td>12</td><td>204711254</td></tr>",
                            "<tr><td>2001</td><td>NULL</td><td>NULL</td><td>1296291781</td></tr>",
                            "<tr><td>2001</td><td>1</td><td>NULL</td><td>99074713</td></tr>",
                            "<tr><td>2001</td><td>1</td><td>1</td><td>44418589</td></tr>",
                            "<tr><td>2001</td><td>1</td><td>1</td><td>44418589</td></tr>",
                            "<tr><td>2001</td><td>1</td><td>2</td><td>54656124</td></tr>",
                            "<tr><td>2001</td><td>1</td><td>2</td><td>54656124</td></tr>",
                            "<tr><td>2001</td><td>2</td><td>NULL</td><td>453222326</td></tr>",
                            "<tr><td>2001</td><td>2</td><td>4</td><td>7114869</td></tr>",
                            "<tr><td>2001</td><td>2</td><td>4</td><td>7114869</td></tr>",
                            "<tr><td>2001</td><td>2</td><td>5</td><td>295705112</td></tr>",
                            "<tr><td>2001</td><td>2</td><td>5</td><td>295705112</td></tr>",
                            "<tr><td>2001</td><td>2</td><td>6</td><td>125188122</td></tr>",
                            "<tr><td>2001</td><td>2</td><td>6</td><td>25214223</td></tr>",
                            "<tr><td>2001</td><td>2</td><td>6</td><td>150402345</td></tr>",
                            "<tr><td>2001</td><td>3</td><td>NULL</td><td>168669362</td></tr>",
                            "<tr><td>2001</td><td>3</td><td>8</td><td>168669362</td></tr>",
                            "<tr><td>2001</td><td>3</td><td>8</td><td>168669362</td></tr>",
                            "<tr><td>2001</td><td>4</td><td>NULL</td><td>575325380</td></tr>",
                            "<tr><td>2001</td><td>4</td><td>10</td><td>337782</td></tr>",
                            "<tr><td>2001</td><td>4</td><td>10</td><td>61455535</td></tr>",
                            "<tr><td>2001</td><td>4</td><td>10</td><td>61793317</td></tr>",
                            "<tr><td>2001</td><td>4</td><td>11</td><td>416073179</td></tr>",
                            "<tr><td>2001</td><td>4</td><td>11</td><td>20700691</td></tr>",
                            "<tr><td>2001</td><td>4</td><td>11</td><td>436773870</td></tr>",
                            "<tr><td>2001</td><td>4</td><td>12</td><td>76758193</td></tr>",
                            "<tr><td>2001</td><td>4</td><td>12</td><td>76758193</td></tr>",
                            "<tr><td>2002</td><td>NULL</td><td>NULL</td><td>1680599676</td></tr>",
                            "<tr><td>2002</td><td>1</td><td>NULL</td><td>490647581</td></tr>",
                            "<tr><td>2002</td><td>1</td><td>1</td><td>0</td></tr>",
                            "<tr><td>2002</td><td>1</td><td>1</td><td>117745317</td></tr>",
                            "<tr><td>2002</td><td>1</td><td>1</td><td>78682079</td></tr>",
                            "<tr><td>2002</td><td>1</td><td>1</td><td>36980311</td></tr>",
                            "<tr><td>2002</td><td>1</td><td>1</td><td>233407707</td></tr>",
                            "<tr><td>2002</td><td>1</td><td>2</td><td>62480631</td></tr>",
                            "<tr><td>2002</td><td>1</td><td>2</td><td>70269715</td></tr>",
                            "<tr><td>2002</td><td>1</td><td>2</td><td>132750346</td></tr>",
                            "<tr><td>2002</td><td>1</td><td>3</td><td>14797862</td></tr>",
                            "<tr><td>2002</td><td>1</td><td>3</td><td>109691666</td></tr>",
                            "<tr><td>2002</td><td>1</td><td>3</td><td>124489528</td></tr>",
                            "<tr><td>2002</td><td>2</td><td>NULL</td><td>271889982</td></tr>",
                            "<tr><td>2002</td><td>2</td><td>4</td><td>10537188</td></tr>",
                            "<tr><td>2002</td><td>2</td><td>4</td><td>10537188</td></tr>",
                            "<tr><td>2002</td><td>2</td><td>5</td><td>6089874</td></tr>",
                            "<tr><td>2002</td><td>2</td><td>5</td><td>6089874</td></tr>",
                            "<tr><td>2002</td><td>2</td><td>6</td><td>43756218</td></tr>",
                            "<tr><td>2002</td><td>2</td><td>6</td><td>211506702</td></tr>",
                            "<tr><td>2002</td><td>2</td><td>6</td><td>255262920</td></tr>",
                            "<tr><td>2002</td><td>3</td><td>NULL</td><td>564173797</td></tr>",
                            "<tr><td>2002</td><td>3</td><td>7</td><td>24650121</td></tr>",
                            "<tr><td>2002</td><td>3</td><td>7</td><td>24650121</td></tr>",
                            "<tr><td>2002</td><td>3</td><td>8</td><td>330754439</td></tr>",
                            "<tr><td>2002</td><td>3</td><td>8</td><td>330754439</td></tr>",
                            "<tr><td>2002</td><td>3</td><td>9</td><td>14338992</td></tr>",
                            "<tr><td>2002</td><td>3</td><td>9</td><td>184521151</td></tr>",
                            "<tr><td>2002</td><td>3</td><td>9</td><td>9909094</td></tr>",
                            "<tr><td>2002</td><td>3</td><td>9</td><td>208769237</td></tr>",
                            "<tr><td>2002</td><td>4</td><td>NULL</td><td>353888316</td></tr>",
                            "<tr><td>2002</td><td>4</td><td>10</td><td>27789959</td></tr>",
                            "<tr><td>2002</td><td>4</td><td>10</td><td>27789959</td></tr>",
                            "<tr><td>2002</td><td>4</td><td>11</td><td>55189145</td></tr>",
                            "<tr><td>2002</td><td>4</td><td>11</td><td>201959095</td></tr>",
                            "<tr><td>2002</td><td>4</td><td>11</td><td>257148240</td></tr>",
                            "<tr><td>2002</td><td>4</td><td>12</td><td>50624654</td></tr>",
                            "<tr><td>2002</td><td>4</td><td>12</td><td>18325463</td></tr>",
                            "<tr><td>2002</td><td>4</td><td>12</td><td>68950117</td></tr>",
                            "<tr><td>2003</td><td>NULL</td><td>NULL</td><td>2171244827</td></tr>",
                            "<tr><td>2003</td><td>1</td><td>NULL</td><td>443078709</td></tr>",
                            "<tr><td>2003</td><td>1</td><td>1</td><td>73793522</td></tr>",
                            "<tr><td>2003</td><td>1</td><td>1</td><td>73793522</td></tr>",
                            "<tr><td>2003</td><td>1</td><td>2</td><td>151504845</td></tr>",
                            "<tr><td>2003</td><td>1</td><td>2</td><td>151504845</td></tr>",
                            "<tr><td>2003</td><td>1</td><td>3</td><td>217780342</td></tr>",
                            "<tr><td>2003</td><td>1</td><td>3</td><td>217780342</td></tr>",
                            "<tr><td>2003</td><td>2</td><td>NULL</td><td>695898253</td></tr>",
                            "<tr><td>2003</td><td>2</td><td>4</td><td>23803108</td></tr>",
                            "<tr><td>2003</td><td>2</td><td>4</td><td>94203395</td></tr>",
                            "<tr><td>2003</td><td>2</td><td>4</td><td>118006503</td></tr>",
                            "<tr><td>2003</td><td>2</td><td>5</td><td>518148559</td></tr>",
                            "<tr><td>2003</td><td>2</td><td>5</td><td>59743191</td></tr>",
                            "<tr><td>2003</td><td>2</td><td>5</td><td>577891750</td></tr>",
                            "<tr><td>2003</td><td>3</td><td>NULL</td><td>753445101</td></tr>",
                            "<tr><td>2003</td><td>3</td><td>7</td><td>426967926</td></tr>",
                            "<tr><td>2003</td><td>3</td><td>7</td><td>426967926</td></tr>",
                            "<tr><td>2003</td><td>3</td><td>8</td><td>154090360</td></tr>",
                            "<tr><td>2003</td><td>3</td><td>8</td><td>81547672</td></tr>",
                            "<tr><td>2003</td><td>3</td><td>8</td><td>235638032</td></tr>",
                            "<tr><td>2003</td><td>3</td><td>9</td><td>60944053</td></tr>",
                            "<tr><td>2003</td><td>3</td><td>9</td><td>29895090</td></tr>",
                            "<tr><td>2003</td><td>3</td><td>9</td><td>90839143</td></tr>",
                            "<tr><td>2003</td><td>4</td><td>NULL</td><td>278822764</td></tr>",
                            "<tr><td>2003</td><td>4</td><td>10</td><td>119218333</td></tr>",
                            "<tr><td>2003</td><td>4</td><td>10</td><td>2194759</td></tr>",
                            "<tr><td>2003</td><td>4</td><td>10</td><td>121413092</td></tr>",
                            "<tr><td>2003</td><td>4</td><td>11</td><td>105775678</td></tr>",
                            "<tr><td>2003</td><td>4</td><td>11</td><td>105775678</td></tr>",
                            "<tr><td>2003</td><td>4</td><td>12</td><td>9254344</td></tr>",
                            "<tr><td>2003</td><td>4</td><td>12</td><td>42379650</td></tr>",
                            "<tr><td>2003</td><td>4</td><td>12</td><td>51633994</td></tr>",
                            "<tr><td>2004</td><td>NULL</td><td>NULL</td><td>1570219160</td></tr>",
                            "<tr><td>2004</td><td>1</td><td>NULL</td><td>281244324</td></tr>",
                            "<tr><td>2004</td><td>1</td><td>1</td><td>8812764</td></tr>",
                            "<tr><td>2004</td><td>1</td><td>1</td><td>8812764</td></tr>",
                            "<tr><td>2004</td><td>1</td><td>2</td><td>39816568</td></tr>",
                            "<tr><td>2004</td><td>1</td><td>2</td><td>87392478</td></tr>",
                            "<tr><td>2004</td><td>1</td><td>2</td><td>127209046</td></tr>",
                            "<tr><td>2004</td><td>1</td><td>3</td><td>53881593</td></tr>",
                            "<tr><td>2004</td><td>1</td><td>3</td><td>91340921</td></tr>",
                            "<tr><td>2004</td><td>1</td><td>3</td><td>145222514</td></tr>",
                            "<tr><td>2004</td><td>2</td><td>NULL</td><td>181798025</td></tr>",
                            "<tr><td>2004</td><td>2</td><td>4</td><td>67910166</td></tr>",
                            "<tr><td>2004</td><td>2</td><td>4</td><td>30416359</td></tr>",
                            "<tr><td>2004</td><td>2</td><td>4</td><td>98326525</td></tr>",
                            "<tr><td>2004</td><td>2</td><td>5</td><td>50886144</td></tr>",
                            "<tr><td>2004</td><td>2</td><td>5</td><td>50886144</td></tr>",
                            "<tr><td>2004</td><td>2</td><td>6</td><td>32585356</td></tr>",
                            "<tr><td>2004</td><td>2</td><td>6</td><td>32585356</td></tr>",
                            "<tr><td>2004</td><td>3</td><td>NULL</td><td>385259050</td></tr>",
                            "<tr><td>2004</td><td>3</td><td>7</td><td>70423706</td></tr>",
                            "<tr><td>2004</td><td>3</td><td>7</td><td>426246</td></tr>",
                            "<tr><td>2004</td><td>3</td><td>7</td><td>155021748</td></tr>",
                            "<tr><td>2004</td><td>3</td><td>7</td><td>225871700</td></tr>",
                            "<tr><td>2004</td><td>3</td><td>8</td><td>129164207</td></tr>",
                            "<tr><td>2004</td><td>3</td><td>8</td><td>129164207</td></tr>",
                            "<tr><td>2004</td><td>3</td><td>9</td><td>30223143</td></tr>",
                            "<tr><td>2004</td><td>3</td><td>9</td><td>30223143</td></tr>",
                            "<tr><td>2004</td><td>4</td><td>NULL</td><td>721917761</td></tr>",
                            "<tr><td>2004</td><td>4</td><td>10</td><td>101161045</td></tr>",
                            "<tr><td>2004</td><td>4</td><td>10</td><td>101161045</td></tr>",
                            "<tr><td>2004</td><td>4</td><td>11</td><td>588558061</td></tr>",
                            "<tr><td>2004</td><td>4</td><td>11</td><td>588558061</td></tr>",
                            "<tr><td>2004</td><td>4</td><td>12</td><td>32198655</td></tr>",
                            "<tr><td>2004</td><td>4</td><td>12</td><td>32198655</td></tr>",
                            "<tr><td>2005</td><td>NULL</td><td>NULL</td><td>1273982639</td></tr>",
                            "<tr><td>2005</td><td>1</td><td>NULL</td><td>216226491</td></tr>",
                            "<tr><td>2005</td><td>1</td><td>1</td><td>11740942</td></tr>",
                            "<tr><td>2005</td><td>1</td><td>1</td><td>11740942</td></tr>",
                            "<tr><td>2005</td><td>1</td><td>2</td><td>23801835</td></tr>",
                            "<tr><td>2005</td><td>1</td><td>2</td><td>23801835</td></tr>",
                            "<tr><td>2005</td><td>1</td><td>3</td><td>180683714</td></tr>",
                            "<tr><td>2005</td><td>1</td><td>3</td><td>180683714</td></tr>",
                            "<tr><td>2005</td><td>2</td><td>NULL</td><td>188821506</td></tr>",
                            "<tr><td>2005</td><td>2</td><td>4</td><td>95813838</td></tr>",
                            "<tr><td>2005</td><td>2</td><td>4</td><td>95813838</td></tr>",
                            "<tr><td>2005</td><td>2</td><td>6</td><td>6194870</td></tr>",
                            "<tr><td>2005</td><td>2</td><td>6</td><td>86812798</td></tr>",
                            "<tr><td>2005</td><td>2</td><td>6</td><td>93007668</td></tr>",
                            "<tr><td>2005</td><td>3</td><td>NULL</td><td>281328734</td></tr>",
                            "<tr><td>2005</td><td>3</td><td>7</td><td>84088854</td></tr>",
                            "<tr><td>2005</td><td>3</td><td>7</td><td>33500491</td></tr>",
                            "<tr><td>2005</td><td>3</td><td>7</td><td>117589345</td></tr>",
                            "<tr><td>2005</td><td>3</td><td>8</td><td>25616292</td></tr>",
                            "<tr><td>2005</td><td>3</td><td>8</td><td>25616292</td></tr>",
                            "<tr><td>2005</td><td>3</td><td>9</td><td>20162672</td></tr>",
                            "<tr><td>2005</td><td>3</td><td>9</td><td>117960425</td></tr>",
                            "<tr><td>2005</td><td>3</td><td>9</td><td>138123097</td></tr>",
                            "<tr><td>2005</td><td>4</td><td>NULL</td><td>587605908</td></tr>",
                            "<tr><td>2005</td><td>4</td><td>10</td><td>13519621</td></tr>",
                            "<tr><td>2005</td><td>4</td><td>10</td><td>13519621</td></tr>",
                            "<tr><td>2005</td><td>4</td><td>11</td><td>177954661</td></tr>",
                            "<tr><td>2005</td><td>4</td><td>11</td><td>177954661</td></tr>",
                            "<tr><td>2005</td><td>4</td><td>12</td><td>381557539</td></tr>",
                            "<tr><td>2005</td><td>4</td><td>12</td><td>14574087</td></tr>",
                            "<tr><td>2005</td><td>4</td><td>12</td><td>396131626</td></tr>",
                            "<tr><td>2006</td><td>NULL</td><td>NULL</td><td>1834744763</td></tr>",
                            "<tr><td>2006</td><td>1</td><td>NULL</td><td>303297862</td></tr>",
                            "<tr><td>2006</td><td>1</td><td>1</td><td>12948025</td></tr>",
                            "<tr><td>2006</td><td>1</td><td>1</td><td>76932349</td></tr>",
                            "<tr><td>2006</td><td>1</td><td>1</td><td>89880374</td></tr>",
                            "<tr><td>2006</td><td>1</td><td>2</td><td>105037235</td></tr>",
                            "<tr><td>2006</td><td>1</td><td>2</td><td>105037235</td></tr>",
                            "<tr><td>2006</td><td>1</td><td>3</td><td>78667428</td></tr>",
                            "<tr><td>2006</td><td>1</td><td>3</td><td>29712825</td></tr>",
                            "<tr><td>2006</td><td>1</td><td>3</td><td>108380253</td></tr>",
                            "<tr><td>2006</td><td>2</td><td>NULL</td><td>402401877</td></tr>",
                            "<tr><td>2006</td><td>2</td><td>4</td><td>48114115</td></tr>",
                            "<tr><td>2006</td><td>2</td><td>4</td><td>34634731</td></tr>",
                            "<tr><td>2006</td><td>2</td><td>4</td><td>82748846</td></tr>",
                            "<tr><td>2006</td><td>2</td><td>5</td><td>5512647</td></tr>",
                            "<tr><td>2006</td><td>2</td><td>5</td><td>5512647</td></tr>",
                            "<tr><td>2006</td><td>2</td><td>6</td><td>314140384</td></tr>",
                            "<tr><td>2006</td><td>2</td><td>6</td><td>314140384</td></tr>",
                            "<tr><td>2006</td><td>3</td><td>NULL</td><td>774096139</td></tr>",
                            "<tr><td>2006</td><td>3</td><td>7</td><td>544817142</td></tr>",
                            "<tr><td>2006</td><td>3</td><td>7</td><td>544817142</td></tr>",
                            "<tr><td>2006</td><td>3</td><td>8</td><td>158477644</td></tr>",
                            "<tr><td>2006</td><td>3</td><td>8</td><td>158477644</td></tr>",
                            "<tr><td>2006</td><td>3</td><td>9</td><td>70801353</td></tr>",
                            "<tr><td>2006</td><td>3</td><td>9</td><td>70801353</td></tr>",
                            "<tr><td>2006</td><td>4</td><td>NULL</td><td>354948885</td></tr>",
                            "<tr><td>2006</td><td>4</td><td>10</td><td>30737517</td></tr>",
                            "<tr><td>2006</td><td>4</td><td>10</td><td>68289913</td></tr>",
                            "<tr><td>2006</td><td>4</td><td>10</td><td>99027430</td></tr>",
                            "<tr><td>2006</td><td>4</td><td>11</td><td>108694869</td></tr>",
                            "<tr><td>2006</td><td>4</td><td>11</td><td>82267038</td></tr>",
                            "<tr><td>2006</td><td>4</td><td>11</td><td>190961907</td></tr>",
                            "<tr><td>2006</td><td>4</td><td>12</td><td>64959548</td></tr>",
                            "<tr><td>2006</td><td>4</td><td>12</td><td>64959548</td></tr>",
                            "<tr><td>2007</td><td>NULL</td><td>NULL</td><td>1757479739</td></tr>",
                            "<tr><td>2007</td><td>1</td><td>NULL</td><td>445354193</td></tr>",
                            "<tr><td>2007</td><td>1</td><td>1</td><td>12985302</td></tr>",
                            "<tr><td>2007</td><td>1</td><td>1</td><td>12985302</td></tr>",
                            "<tr><td>2007</td><td>1</td><td>2</td><td>100760721</td></tr>",
                            "<tr><td>2007</td><td>1</td><td>2</td><td>100760721</td></tr>",
                            "<tr><td>2007</td><td>1</td><td>3</td><td>119860589</td></tr>",
                            "<tr><td>2007</td><td>1</td><td>3</td><td>206110533</td></tr>",
                            "<tr><td>2007</td><td>1</td><td>3</td><td>5637048</td></tr>",
                            "<tr><td>2007</td><td>1</td><td>3</td><td>331608170</td></tr>",
                            "<tr><td>2007</td><td>2</td><td>NULL</td><td>666067257</td></tr>",
                            "<tr><td>2007</td><td>2</td><td>4</td><td>8779196</td></tr>",
                            "<tr><td>2007</td><td>2</td><td>4</td><td>25202168</td></tr>",
                            "<tr><td>2007</td><td>2</td><td>4</td><td>33981364</td></tr>",
                            "<tr><td>2007</td><td>2</td><td>5</td><td>379129960</td></tr>",
                            "<tr><td>2007</td><td>2</td><td>5</td><td>379129960</td></tr>",
                            "<tr><td>2007</td><td>2</td><td>6</td><td>252955933</td></tr>",
                            "<tr><td>2007</td><td>2</td><td>6</td><td>252955933</td></tr>",
                            "<tr><td>2007</td><td>3</td><td>NULL</td><td>164630220</td></tr>",
                            "<tr><td>2007</td><td>3</td><td>8</td><td>53619462</td></tr>",
                            "<tr><td>2007</td><td>3</td><td>8</td><td>53619462</td></tr>",
                            "<tr><td>2007</td><td>3</td><td>9</td><td>111010758</td></tr>",
                            "<tr><td>2007</td><td>3</td><td>9</td><td>111010758</td></tr>",
                            "<tr><td>2007</td><td>4</td><td>NULL</td><td>481428069</td></tr>",
                            "<tr><td>2007</td><td>4</td><td>10</td><td>58350234</td></tr>",
                            "<tr><td>2007</td><td>4</td><td>10</td><td>58350234</td></tr>",
                            "<tr><td>2007</td><td>4</td><td>11</td><td>156074310</td></tr>",
                            "<tr><td>2007</td><td>4</td><td>11</td><td>156074310</td></tr>",
                            "<tr><td>2007</td><td>4</td><td>12</td><td>267003525</td></tr>",
                            "<tr><td>2007</td><td>4</td><td>12</td><td>267003525</td></tr>",
                            "<tr><td>2008</td><td>NULL</td><td>NULL</td><td>1135356255</td></tr>",
                            "<tr><td>2008</td><td>1</td><td>NULL</td><td>198316324</td></tr>",
                            "<tr><td>2008</td><td>1</td><td>2</td><td>76646993</td></tr>",
                            "<tr><td>2008</td><td>1</td><td>2</td><td>68118371</td></tr>",
                            "<tr><td>2008</td><td>1</td><td>2</td><td>144765364</td></tr>",
                            "<tr><td>2008</td><td>1</td><td>3</td><td>53550960</td></tr>",
                            "<tr><td>2008</td><td>1</td><td>3</td><td>53550960</td></tr>",
                            "<tr><td>2008</td><td>2</td><td>NULL</td><td>429048956</td></tr>",
                            "<tr><td>2008</td><td>2</td><td>5</td><td>166277038</td></tr>",
                            "<tr><td>2008</td><td>2</td><td>5</td><td>166277038</td></tr>",
                            "<tr><td>2008</td><td>2</td><td>6</td><td>262771918</td></tr>",
                            "<tr><td>2008</td><td>2</td><td>6</td><td>262771918</td></tr>",
                            "<tr><td>2008</td><td>3</td><td>NULL</td><td>28685259</td></tr>",
                            "<tr><td>2008</td><td>3</td><td>8</td><td>19125841</td></tr>",
                            "<tr><td>2008</td><td>3</td><td>8</td><td>264247</td></tr>",
                            "<tr><td>2008</td><td>3</td><td>8</td><td>19390088</td></tr>",
                            "<tr><td>2008</td><td>3</td><td>9</td><td>9295171</td></tr>",
                            "<tr><td>2008</td><td>3</td><td>9</td><td>9295171</td></tr>",
                            "<tr><td>2008</td><td>4</td><td>NULL</td><td>479305716</td></tr>",
                            "<tr><td>2008</td><td>4</td><td>10</td><td>110932022</td></tr>",
                            "<tr><td>2008</td><td>4</td><td>10</td><td>322979</td></tr>",
                            "<tr><td>2008</td><td>4</td><td>10</td><td>106308538</td></tr>",
                            "<tr><td>2008</td><td>4</td><td>10</td><td>217563539</td></tr>",
                            "<tr><td>2008</td><td>4</td><td>11</td><td>133702498</td></tr>",
                            "<tr><td>2008</td><td>4</td><td>11</td><td>133702498</td></tr>",
                            "<tr><td>2008</td><td>4</td><td>12</td><td>128039679</td></tr>",
                            "<tr><td>2008</td><td>4</td><td>12</td><td>128039679</td></tr>",
                            "<tr><td>2009</td><td>NULL</td><td>NULL</td><td>1359908617</td></tr>",
                            "<tr><td>2009</td><td>1</td><td>NULL</td><td>163444426</td></tr>",
                            "<tr><td>2009</td><td>1</td><td>2</td><td>38174685</td></tr>",
                            "<tr><td>2009</td><td>1</td><td>2</td><td>49767744</td></tr>",
                            "<tr><td>2009</td><td>1</td><td>2</td><td>87942429</td></tr>",
                            "<tr><td>2009</td><td>1</td><td>3</td><td>75501997</td></tr>",
                            "<tr><td>2009</td><td>1</td><td>3</td><td>75501997</td></tr>",
                            "<tr><td>2009</td><td>2</td><td>NULL</td><td>639050160</td></tr>",
                            "<tr><td>2009</td><td>2</td><td>4</td><td>35981010</td></tr>",
                            "<tr><td>2009</td><td>2</td><td>4</td><td>89443640</td></tr>",
                            "<tr><td>2009</td><td>2</td><td>4</td><td>125424650</td></tr>",
                            "<tr><td>2009</td><td>2</td><td>5</td><td>329336681</td></tr>",
                            "<tr><td>2009</td><td>2</td><td>5</td><td>329336681</td></tr>",
                            "<tr><td>2009</td><td>2</td><td>6</td><td>184288829</td></tr>",
                            "<tr><td>2009</td><td>2</td><td>6</td><td>184288829</td></tr>",
                            "<tr><td>2009</td><td>3</td><td>NULL</td><td>196156995</td></tr>",
                            "<tr><td>2009</td><td>3</td><td>7</td><td>134246932</td></tr>",
                            "<tr><td>2009</td><td>3</td><td>7</td><td>134246932</td></tr>",
                            "<tr><td>2009</td><td>3</td><td>8</td><td>16961607</td></tr>",
                            "<tr><td>2009</td><td>3</td><td>8</td><td>1563976</td></tr>",
                            "<tr><td>2009</td><td>3</td><td>8</td><td>18525583</td></tr>",
                            "<tr><td>2009</td><td>3</td><td>9</td><td>43361416</td></tr>",
                            "<tr><td>2009</td><td>3</td><td>9</td><td>23064</td></tr>",
                            "<tr><td>2009</td><td>3</td><td>9</td><td>43384480</td></tr>",
                            "<tr><td>2009</td><td>4</td><td>NULL</td><td>361257036</td></tr>",
                            "<tr><td>2009</td><td>4</td><td>10</td><td>34509545</td></tr>",
                            "<tr><td>2009</td><td>4</td><td>10</td><td>34509545</td></tr>",
                            "<tr><td>2009</td><td>4</td><td>11</td><td>116316457</td></tr>",
                            "<tr><td>2009</td><td>4</td><td>11</td><td>55503929</td></tr>",
                            "<tr><td>2009</td><td>4</td><td>11</td><td>154927105</td></tr>",
                            "<tr><td>2009</td><td>4</td><td>11</td><td>326747491</td></tr>",
                            "<tr><td>2010</td><td>NULL</td><td>NULL</td><td>1622535159</td></tr>",
                            "<tr><td>2010</td><td>1</td><td>NULL</td><td>459325865</td></tr>",
                            "<tr><td>2010</td><td>1</td><td>1</td><td>34917330</td></tr>",
                            "<tr><td>2010</td><td>1</td><td>1</td><td>34917330</td></tr>",
                            "<tr><td>2010</td><td>1</td><td>3</td><td>357063499</td></tr>",
                            "<tr><td>2010</td><td>1</td><td>3</td><td>86264</td></tr>",
                            "<tr><td>2010</td><td>1</td><td>3</td><td>67258772</td></tr>",
                            "<tr><td>2010</td><td>1</td><td>3</td><td>424408535</td></tr>",
                            "<tr><td>2010</td><td>2</td><td>NULL</td><td>561131216</td></tr>",
                            "<tr><td>2010</td><td>2</td><td>4</td><td>20751600</td></tr>",
                            "<tr><td>2010</td><td>2</td><td>4</td><td>20751600</td></tr>",
                            "<tr><td>2010</td><td>2</td><td>5</td><td>96971361</td></tr>",
                            "<tr><td>2010</td><td>2</td><td>5</td><td>96971361</td></tr>",
                            "<tr><td>2010</td><td>2</td><td>6</td><td>443408255</td></tr>",
                            "<tr><td>2010</td><td>2</td><td>6</td><td>443408255</td></tr>",
                            "<tr><td>2010</td><td>3</td><td>NULL</td><td>140288351</td></tr>",
                            "<tr><td>2010</td><td>3</td><td>7</td><td>67473105</td></tr>",
                            "<tr><td>2010</td><td>3</td><td>7</td><td>67473105</td></tr>",
                            "<tr><td>2010</td><td>3</td><td>8</td><td>51988</td></tr>",
                            "<tr><td>2010</td><td>3</td><td>8</td><td>45302137</td></tr>",
                            "<tr><td>2010</td><td>3</td><td>8</td><td>45354125</td></tr>",
                            "<tr><td>2010</td><td>3</td><td>9</td><td>27461121</td></tr>",
                            "<tr><td>2010</td><td>3</td><td>9</td><td>27461121</td></tr>",
                            "<tr><td>2010</td><td>4</td><td>NULL</td><td>461789727</td></tr>",
                            "<tr><td>2010</td><td>4</td><td>10</td><td>63781920</td></tr>",
                            "<tr><td>2010</td><td>4</td><td>10</td><td>63781920</td></tr>",
                            "<tr><td>2010</td><td>4</td><td>11</td><td>214388548</td></tr>",
                            "<tr><td>2010</td><td>4</td><td>11</td><td>214388548</td></tr>",
                            "<tr><td>2010</td><td>4</td><td>12</td><td>183619259</td></tr>",
                            "<tr><td>2010</td><td>4</td><td>12</td><td>183619259</td></tr>",
                            "<tr><td>2011</td><td>NULL</td><td>NULL</td><td>1172578942</td></tr>",
                            "<tr><td>2011</td><td>1</td><td>NULL</td><td>187587007</td></tr>",
                            "<tr><td>2011</td><td>1</td><td>2</td><td>58574607</td></tr>",
                            "<tr><td>2011</td><td>1</td><td>2</td><td>106270797</td></tr>",
                            "<tr><td>2011</td><td>1</td><td>2</td><td>164845404</td></tr>",
                            "<tr><td>2011</td><td>1</td><td>3</td><td>22741603</td></tr>",
                            "<tr><td>2011</td><td>1</td><td>3</td><td>22741603</td></tr>",
                            "<tr><td>2011</td><td>2</td><td>NULL</td><td>486959017</td></tr>",
                            "<tr><td>2011</td><td>2</td><td>4</td><td>2984</td></tr>",
                            "<tr><td>2011</td><td>2</td><td>4</td><td>10768946</td></tr>",
                            "<tr><td>2011</td><td>2</td><td>4</td><td>16401551</td></tr>",
                            "<tr><td>2011</td><td>2</td><td>4</td><td>27173481</td></tr>",
                            "<tr><td>2011</td><td>2</td><td>5</td><td>256263359</td></tr>",
                            "<tr><td>2011</td><td>2</td><td>5</td><td>256263359</td></tr>",
                            "<tr><td>2011</td><td>2</td><td>6</td><td>203522177</td></tr>",
                            "<tr><td>2011</td><td>2</td><td>6</td><td>203522177</td></tr>",
                            "<tr><td>2011</td><td>3</td><td>NULL</td><td>228233247</td></tr>",
                            "<tr><td>2011</td><td>3</td><td>7</td><td>28375869</td></tr>",
                            "<tr><td>2011</td><td>3</td><td>7</td><td>28375869</td></tr>",
                            "<tr><td>2011</td><td>3</td><td>8</td><td>180404976</td></tr>",
                            "<tr><td>2011</td><td>3</td><td>8</td><td>19452402</td></tr>",
                            "<tr><td>2011</td><td>3</td><td>8</td><td>199857378</td></tr>",
                            "<tr><td>2011</td><td>4</td><td>NULL</td><td>269799671</td></tr>",
                            "<tr><td>2011</td><td>4</td><td>10</td><td>90848019</td></tr>",
                            "<tr><td>2011</td><td>4</td><td>10</td><td>90848019</td></tr>",
                            "<tr><td>2011</td><td>4</td><td>11</td><td>94189503</td></tr>",
                            "<tr><td>2011</td><td>4</td><td>11</td><td>94189503</td></tr>",
                            "<tr><td>2011</td><td>4</td><td>12</td><td>84762149</td></tr>",
                            "<tr><td>2011</td><td>4</td><td>12</td><td>84762149</td></tr>",
                            "<tr><td>2012</td><td>NULL</td><td>NULL</td><td>1537669134</td></tr>",
                            "<tr><td>2012</td><td>1</td><td>NULL</td><td>97698178</td></tr>",
                            "<tr><td>2012</td><td>1</td><td>2</td><td>20325733</td></tr>",
                            "<tr><td>2012</td><td>1</td><td>2</td><td>20325733</td></tr>",
                            "<tr><td>2012</td><td>1</td><td>3</td><td>77372445</td></tr>",
                            "<tr><td>2012</td><td>1</td><td>3</td><td>77372445</td></tr>",
                            "<tr><td>2012</td><td>2</td><td>NULL</td><td>955215212</td></tr>",
                            "<tr><td>2012</td><td>2</td><td>4</td><td>30675725</td></tr>",
                            "<tr><td>2012</td><td>2</td><td>4</td><td>30675725</td></tr>",
                            "<tr><td>2012</td><td>2</td><td>5</td><td>660081224</td></tr>",
                            "<tr><td>2012</td><td>2</td><td>5</td><td>660081224</td></tr>",
                            "<tr><td>2012</td><td>2</td><td>6</td><td>251292441</td></tr>",
                            "<tr><td>2012</td><td>2</td><td>6</td><td>13165822</td></tr>",
                            "<tr><td>2012</td><td>2</td><td>6</td><td>264458263</td></tr>",
                            "<tr><td>2012</td><td>3</td><td>NULL</td><td>54914942</td></tr>",
                            "<tr><td>2012</td><td>3</td><td>8</td><td>54914942</td></tr>",
                            "<tr><td>2012</td><td>3</td><td>8</td><td>54914942</td></tr>",
                            "<tr><td>2012</td><td>4</td><td>NULL</td><td>429840802</td></tr>",
                            "<tr><td>2012</td><td>4</td><td>10</td><td>37363513</td></tr>",
                            "<tr><td>2012</td><td>4</td><td>10</td><td>37363513</td></tr>",
                            "<tr><td>2012</td><td>4</td><td>11</td><td>200354959</td></tr>",
                            "<tr><td>2012</td><td>4</td><td>11</td><td>192122330</td></tr>",
                            "<tr><td>2012</td><td>4</td><td>11</td><td>392477289</td></tr>",
                            "<tr><td>2013</td><td>NULL</td><td>NULL</td><td>1887863558</td></tr>",
                            "<tr><td>2013</td><td>1</td><td>NULL</td><td>243434130</td></tr>",
                            "<tr><td>2013</td><td>1</td><td>3</td><td>243434130</td></tr>",
                            "<tr><td>2013</td><td>1</td><td>3</td><td>243434130</td></tr>",
                            "<tr><td>2013</td><td>2</td><td>NULL</td><td>702479874</td></tr>",
                            "<tr><td>2013</td><td>2</td><td>5</td><td>424084233</td></tr>",
                            "<tr><td>2013</td><td>2</td><td>5</td><td>424084233</td></tr>",
                            "<tr><td>2013</td><td>2</td><td>6</td><td>278395641</td></tr>",
                            "<tr><td>2013</td><td>2</td><td>6</td><td>278395641</td></tr>",
                            "<tr><td>2013</td><td>3</td><td>NULL</td><td>186211425</td></tr>",
                            "<tr><td>2013</td><td>3</td><td>7</td><td>92597388</td></tr>",
                            "<tr><td>2013</td><td>3</td><td>7</td><td>92597388</td></tr>",
                            "<tr><td>2013</td><td>3</td><td>8</td><td>93614037</td></tr>",
                            "<tr><td>2013</td><td>3</td><td>8</td><td>93614037</td></tr>",
                            "<tr><td>2013</td><td>4</td><td>NULL</td><td>755738129</td></tr>",
                            "<tr><td>2013</td><td>4</td><td>10</td><td>3374251</td></tr>",
                            "<tr><td>2013</td><td>4</td><td>10</td><td>3374251</td></tr>",
                            "<tr><td>2013</td><td>4</td><td>11</td><td>628959358</td></tr>",
                            "<tr><td>2013</td><td>4</td><td>11</td><td>31787136</td></tr>",
                            "<tr><td>2013</td><td>4</td><td>11</td><td>5367415</td></tr>",
                            "<tr><td>2013</td><td>4</td><td>11</td><td>666113909</td></tr>",
                            "<tr><td>2013</td><td>4</td><td>12</td><td>86249969</td></tr>",
                            "<tr><td>2013</td><td>4</td><td>12</td><td>86249969</td></tr>",
                            "<tr><td>2014</td><td>NULL</td><td>NULL</td><td>1560791318</td></tr>",
                            "<tr><td>2014</td><td>1</td><td>NULL</td><td>97762609</td></tr>",
                            "<tr><td>2014</td><td>1</td><td>3</td><td>44955015</td></tr>",
                            "<tr><td>2014</td><td>1</td><td>3</td><td>52807594</td></tr>",
                            "<tr><td>2014</td><td>1</td><td>3</td><td>97762609</td></tr>",
                            "<tr><td>2014</td><td>2</td><td>NULL</td><td>573056774</td></tr>",
                            "<tr><td>2014</td><td>2</td><td>4</td><td>268013076</td></tr>",
                            "<tr><td>2014</td><td>2</td><td>4</td><td>18346024</td></tr>",
                            "<tr><td>2014</td><td>2</td><td>4</td><td>286359100</td></tr>",
                            "<tr><td>2014</td><td>2</td><td>5</td><td>249089809</td></tr>",
                            "<tr><td>2014</td><td>2</td><td>5</td><td>37607865</td></tr>",
                            "<tr><td>2014</td><td>2</td><td>5</td><td>286697674</td></tr>",
                            "<tr><td>2014</td><td>3</td><td>NULL</td><td>460772926</td></tr>",
                            "<tr><td>2014</td><td>3</td><td>7</td><td>61040349</td></tr>",
                            "<tr><td>2014</td><td>3</td><td>7</td><td>61040349</td></tr>",
                            "<tr><td>2014</td><td>3</td><td>8</td><td>343771168</td></tr>",
                            "<tr><td>2014</td><td>3</td><td>8</td><td>55961409</td></tr>",
                            "<tr><td>2014</td><td>3</td><td>8</td><td>399732577</td></tr>",
                            "<tr><td>2014</td><td>4</td><td>NULL</td><td>429199009</td></tr>",
                            "<tr><td>2014</td><td>4</td><td>10</td><td>69055550</td></tr>",
                            "<tr><td>2014</td><td>4</td><td>10</td><td>69055550</td></tr>",
                            "<tr><td>2014</td><td>4</td><td>11</td><td>229249222</td></tr>",
                            "<tr><td>2014</td><td>4</td><td>11</td><td>229249222</td></tr>",
                            "<tr><td>2014</td><td>4</td><td>12</td><td>130894237</td></tr>",
                            "<tr><td>2014</td><td>4</td><td>12</td><td>130894237</td></tr>",
                            "<tr><td>2015</td><td>NULL</td><td>NULL</td><td>2495662696</td></tr>",
                            "<tr><td>2015</td><td>1</td><td>NULL</td><td>258061211</td></tr>",
                            "<tr><td>2015</td><td>1</td><td>1</td><td>12429583</td></tr>",
                            "<tr><td>2015</td><td>1</td><td>1</td><td>12429583</td></tr>",
                            "<tr><td>2015</td><td>1</td><td>2</td><td>44480275</td></tr>",
                            "<tr><td>2015</td><td>1</td><td>2</td><td>44480275</td></tr>",
                            "<tr><td>2015</td><td>1</td><td>3</td><td>201151353</td></tr>",
                            "<tr><td>2015</td><td>1</td><td>3</td><td>201151353</td></tr>",
                            "<tr><td>2015</td><td>2</td><td>NULL</td><td>925336223</td></tr>",
                            "<tr><td>2015</td><td>2</td><td>4</td><td>16432322</td></tr>",
                            "<tr><td>2015</td><td>2</td><td>4</td><td>16432322</td></tr>",
                            "<tr><td>2015</td><td>2</td><td>5</td><td>459005868</td></tr>",
                            "<tr><td>2015</td><td>2</td><td>5</td><td>93436322</td></tr>",
                            "<tr><td>2015</td><td>2</td><td>5</td><td>552442190</td></tr>",
                            "<tr><td>2015</td><td>2</td><td>6</td><td>356461711</td></tr>",
                            "<tr><td>2015</td><td>2</td><td>6</td><td>356461711</td></tr>",
                            "<tr><td>2015</td><td>3</td><td>NULL</td><td>180202163</td></tr>",
                            "<tr><td>2015</td><td>3</td><td>7</td><td>180202163</td></tr>",
                            "<tr><td>2015</td><td>3</td><td>7</td><td>180202163</td></tr>",
                            "<tr><td>2015</td><td>4</td><td>NULL</td><td>1132063099</td></tr>",
                            "<tr><td>2015</td><td>4</td><td>10</td><td>72313754</td></tr>",
                            "<tr><td>2015</td><td>4</td><td>10</td><td>72313754</td></tr>",
                            "<tr><td>2015</td><td>4</td><td>11</td><td>123087120</td></tr>",
                            "<tr><td>2015</td><td>4</td><td>11</td><td>123087120</td></tr>",
                            "<tr><td>2015</td><td>4</td><td>12</td><td>936662225</td></tr>",
                            "<tr><td>2015</td><td>4</td><td>12</td><td>936662225</td></tr>",
                            "<tr><td>2016</td><td>NULL</td><td>NULL</td><td>2873393105</td></tr>",
                            "<tr><td>2016</td><td>1</td><td>NULL</td><td>368837806</td></tr>",
                            "<tr><td>2016</td><td>1</td><td>1</td><td>27569558</td></tr>",
                            "<tr><td>2016</td><td>1</td><td>1</td><td>27569558</td></tr>",
                            "<tr><td>2016</td><td>1</td><td>3</td><td>341268248</td></tr>",
                            "<tr><td>2016</td><td>1</td><td>3</td><td>341268248</td></tr>",
                            "<tr><td>2016</td><td>2</td><td>NULL</td><td>1343319122</td></tr>",
                            "<tr><td>2016</td><td>2</td><td>4</td><td>364001123</td></tr>",
                            "<tr><td>2016</td><td>2</td><td>4</td><td>7895708</td></tr>",
                            "<tr><td>2016</td><td>2</td><td>4</td><td>371896831</td></tr>",
                            "<tr><td>2016</td><td>2</td><td>5</td><td>408084349</td></tr>",
                            "<tr><td>2016</td><td>2</td><td>5</td><td>77042381</td></tr>",
                            "<tr><td>2016</td><td>2</td><td>5</td><td>485126730</td></tr>",
                            "<tr><td>2016</td><td>2</td><td>6</td><td>486295561</td></tr>",
                            "<tr><td>2016</td><td>2</td><td>6</td><td>486295561</td></tr>",
                            "<tr><td>2016</td><td>3</td><td>NULL</td><td>153137289</td></tr>",
                            "<tr><td>2016</td><td>3</td><td>7</td><td>55483770</td></tr>",
                            "<tr><td>2016</td><td>3</td><td>7</td><td>55483770</td></tr>",
                            "<tr><td>2016</td><td>3</td><td>8</td><td>76233151</td></tr>",
                            "<tr><td>2016</td><td>3</td><td>8</td><td>76233151</td></tr>",
                            "<tr><td>2016</td><td>3</td><td>9</td><td>21420368</td></tr>",
                            "<tr><td>2016</td><td>3</td><td>9</td><td>21420368</td></tr>",
                            "<tr><td>2016</td><td>4</td><td>NULL</td><td>1008098888</td></tr>",
                            "<tr><td>2016</td><td>4</td><td>11</td><td>478614952</td></tr>",
                            "<tr><td>2016</td><td>4</td><td>11</td><td>478614952</td></tr>",
                            "<tr><td>2016</td><td>4</td><td>12</td><td>529483936</td></tr>",
                            "<tr><td>2016</td><td>4</td><td>12</td><td>529483936</td></tr>",
                            "</table>"
                        ]
                    }
                }
            ],
            "execution_count": 60
        }
    ]
}