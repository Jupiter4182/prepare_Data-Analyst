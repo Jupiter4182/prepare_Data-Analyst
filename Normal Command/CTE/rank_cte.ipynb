{
    "metadata": {
        "kernelspec": {
            "name": "SQL",
            "display_name": "SQL",
            "language": "sql"
        },
        "language_info": {
            "name": "sql",
            "version": ""
        }
    },
    "nbformat_minor": 2,
    "nbformat": 4,
    "cells": [
        {
            "cell_type": "code",
            "source": [
                "select movie_title,release_date,inflation_adjusted_gross,\r\n",
                "    rank() over(partition by year(release_date) order by inflation_adjusted_gross)gross_rank\r\n",
                "    from movie_gross\r\n",
                "    where year(release_date) > 2010\r\n",
                ""
            ],
            "metadata": {
                "azdata_cell_guid": "08d41ef8-5de3-47fb-a76a-5c12e46d0e5e",
                "language": "sql"
            },
            "outputs": [
                {
                    "output_type": "display_data",
                    "data": {
                        "text/html": "(72 rows affected)"
                    },
                    "metadata": {}
                },
                {
                    "output_type": "display_data",
                    "data": {
                        "text/html": "Total execution time: 00:00:00.006"
                    },
                    "metadata": {}
                },
                {
                    "output_type": "execute_result",
                    "metadata": {},
                    "execution_count": 4,
                    "data": {
                        "application/vnd.dataresource+json": {
                            "schema": {
                                "fields": [
                                    {
                                        "name": "movie_title"
                                    },
                                    {
                                        "name": "release_date"
                                    },
                                    {
                                        "name": "inflation_adjusted_gross"
                                    },
                                    {
                                        "name": "gross_rank"
                                    }
                                ]
                            },
                            "data": [
                                {
                                    "movie_title": "Zokkomon",
                                    "release_date": "2011-04-22",
                                    "inflation_adjusted_gross": "2984",
                                    "gross_rank": "1"
                                },
                                {
                                    "movie_title": "Prom",
                                    "release_date": "2011-04-29",
                                    "inflation_adjusted_gross": "10768946",
                                    "gross_rank": "2"
                                },
                                {
                                    "movie_title": "African Cats",
                                    "release_date": "2011-04-22",
                                    "inflation_adjusted_gross": "16401551",
                                    "gross_rank": "3"
                                },
                                {
                                    "movie_title": "Fright Night",
                                    "release_date": "2011-08-19",
                                    "inflation_adjusted_gross": "19452402",
                                    "gross_rank": "4"
                                },
                                {
                                    "movie_title": "Mars Needs Moms",
                                    "release_date": "2011-03-11",
                                    "inflation_adjusted_gross": "22741603",
                                    "gross_rank": "5"
                                },
                                {
                                    "movie_title": "Winnie the Pooh",
                                    "release_date": "2011-07-15",
                                    "inflation_adjusted_gross": "28375869",
                                    "gross_rank": "6"
                                },
                                {
                                    "movie_title": "I am Number Four",
                                    "release_date": "2011-02-18",
                                    "inflation_adjusted_gross": "58574607",
                                    "gross_rank": "7"
                                },
                                {
                                    "movie_title": "War Horse",
                                    "release_date": "2011-12-25",
                                    "inflation_adjusted_gross": "84762149",
                                    "gross_rank": "8"
                                },
                                {
                                    "movie_title": "Real Steel",
                                    "release_date": "2011-10-07",
                                    "inflation_adjusted_gross": "90848019",
                                    "gross_rank": "9"
                                },
                                {
                                    "movie_title": "The Muppets",
                                    "release_date": "2011-11-23",
                                    "inflation_adjusted_gross": "94189503",
                                    "gross_rank": "10"
                                },
                                {
                                    "movie_title": "Gnomeo and Juliet",
                                    "release_date": "2011-02-11",
                                    "inflation_adjusted_gross": "106270797",
                                    "gross_rank": "11"
                                },
                                {
                                    "movie_title": "The Help",
                                    "release_date": "2011-08-10",
                                    "inflation_adjusted_gross": "180404976",
                                    "gross_rank": "12"
                                },
                                {
                                    "movie_title": "Cars 2",
                                    "release_date": "2011-06-24",
                                    "inflation_adjusted_gross": "203522177",
                                    "gross_rank": "13"
                                },
                                {
                                    "movie_title": "Pirates of the Caribbean: On Stranger…",
                                    "release_date": "2011-05-20",
                                    "inflation_adjusted_gross": "256263359",
                                    "gross_rank": "14"
                                },
                                {
                                    "movie_title": "People Like Us",
                                    "release_date": "2012-06-29",
                                    "inflation_adjusted_gross": "13165822",
                                    "gross_rank": "1"
                                },
                                {
                                    "movie_title": "The Secret World of Arietty",
                                    "release_date": "2012-02-17",
                                    "inflation_adjusted_gross": "20325733",
                                    "gross_rank": "2"
                                },
                                {
                                    "movie_title": "Chimpanzee",
                                    "release_date": "2012-04-20",
                                    "inflation_adjusted_gross": "30675725",
                                    "gross_rank": "3"
                                },
                                {
                                    "movie_title": "Frankenweenie",
                                    "release_date": "2012-10-05",
                                    "inflation_adjusted_gross": "37363513",
                                    "gross_rank": "4"
                                },
                                {
                                    "movie_title": "The Odd Life of Timothy Green",
                                    "release_date": "2012-08-15",
                                    "inflation_adjusted_gross": "54914942",
                                    "gross_rank": "5"
                                },
                                {
                                    "movie_title": "John Carter",
                                    "release_date": "2012-03-09",
                                    "inflation_adjusted_gross": "77372445",
                                    "gross_rank": "6"
                                },
                                {
                                    "movie_title": "Lincoln",
                                    "release_date": "2012-11-09",
                                    "inflation_adjusted_gross": "192122330",
                                    "gross_rank": "7"
                                },
                                {
                                    "movie_title": "Wreck-It Ralph",
                                    "release_date": "2012-11-02",
                                    "inflation_adjusted_gross": "200354959",
                                    "gross_rank": "8"
                                },
                                {
                                    "movie_title": "Brave",
                                    "release_date": "2012-06-22",
                                    "inflation_adjusted_gross": "251292441",
                                    "gross_rank": "9"
                                },
                                {
                                    "movie_title": "The Avengers",
                                    "release_date": "2012-05-04",
                                    "inflation_adjusted_gross": "660081224",
                                    "gross_rank": "10"
                                },
                                {
                                    "movie_title": "The Fifth Estate",
                                    "release_date": "2013-10-18",
                                    "inflation_adjusted_gross": "3374251",
                                    "gross_rank": "1"
                                },
                                {
                                    "movie_title": "Kaze Tachinu",
                                    "release_date": "2013-11-08",
                                    "inflation_adjusted_gross": "5367415",
                                    "gross_rank": "2"
                                },
                                {
                                    "movie_title": "Delivery Man",
                                    "release_date": "2013-11-22",
                                    "inflation_adjusted_gross": "31787136",
                                    "gross_rank": "3"
                                },
                                {
                                    "movie_title": "Saving Mr. Banks",
                                    "release_date": "2013-12-13",
                                    "inflation_adjusted_gross": "86249969",
                                    "gross_rank": "4"
                                },
                                {
                                    "movie_title": "The Lone Ranger",
                                    "release_date": "2013-07-02",
                                    "inflation_adjusted_gross": "92597388",
                                    "gross_rank": "5"
                                },
                                {
                                    "movie_title": "Disney Planes",
                                    "release_date": "2013-08-09",
                                    "inflation_adjusted_gross": "93614037",
                                    "gross_rank": "6"
                                },
                                {
                                    "movie_title": "Thor: The Dark World",
                                    "release_date": "2013-11-08",
                                    "inflation_adjusted_gross": "213962184",
                                    "gross_rank": "7"
                                },
                                {
                                    "movie_title": "Oz the Great and Powerful",
                                    "release_date": "2013-03-08",
                                    "inflation_adjusted_gross": "243434130",
                                    "gross_rank": "8"
                                },
                                {
                                    "movie_title": "Monsters University",
                                    "release_date": "2013-06-21",
                                    "inflation_adjusted_gross": "278395641",
                                    "gross_rank": "9"
                                },
                                {
                                    "movie_title": "Frozen",
                                    "release_date": "2013-11-22",
                                    "inflation_adjusted_gross": "414997174",
                                    "gross_rank": "10"
                                },
                                {
                                    "movie_title": "Iron Man 3",
                                    "release_date": "2013-05-03",
                                    "inflation_adjusted_gross": "424084233",
                                    "gross_rank": "11"
                                },
                                {
                                    "movie_title": "Bears",
                                    "release_date": "2014-04-18",
                                    "inflation_adjusted_gross": "18346024",
                                    "gross_rank": "1"
                                },
                                {
                                    "movie_title": "Million Dollar Arm",
                                    "release_date": "2014-05-10",
                                    "inflation_adjusted_gross": "37607865",
                                    "gross_rank": "2"
                                },
                                {
                                    "movie_title": "Need for Speed",
                                    "release_date": "2014-03-14",
                                    "inflation_adjusted_gross": "44955015",
                                    "gross_rank": "3"
                                },
                                {
                                    "movie_title": "Muppets Most Wanted",
                                    "release_date": "2014-03-21",
                                    "inflation_adjusted_gross": "52807594",
                                    "gross_rank": "4"
                                },
                                {
                                    "movie_title": "The Hundred-Foot Journey",
                                    "release_date": "2014-08-08",
                                    "inflation_adjusted_gross": "55961409",
                                    "gross_rank": "5"
                                },
                                {
                                    "movie_title": "Planes: Fire and Rescue",
                                    "release_date": "2014-07-18",
                                    "inflation_adjusted_gross": "61040349",
                                    "gross_rank": "6"
                                },
                                {
                                    "movie_title": "Alexander and the Terrible, Horrible,…",
                                    "release_date": "2014-10-10",
                                    "inflation_adjusted_gross": "69055550",
                                    "gross_rank": "7"
                                },
                                {
                                    "movie_title": "Into the Woods",
                                    "release_date": "2014-12-25",
                                    "inflation_adjusted_gross": "130894237",
                                    "gross_rank": "8"
                                },
                                {
                                    "movie_title": "Big Hero 6",
                                    "release_date": "2014-11-07",
                                    "inflation_adjusted_gross": "229249222",
                                    "gross_rank": "9"
                                },
                                {
                                    "movie_title": "Maleficent",
                                    "release_date": "2014-05-30",
                                    "inflation_adjusted_gross": "249089809",
                                    "gross_rank": "10"
                                },
                                {
                                    "movie_title": "Captain America: The Winter Soldier",
                                    "release_date": "2014-04-04",
                                    "inflation_adjusted_gross": "268013076",
                                    "gross_rank": "11"
                                },
                                {
                                    "movie_title": "Guardians of the Galaxy",
                                    "release_date": "2014-08-01",
                                    "inflation_adjusted_gross": "343771168",
                                    "gross_rank": "12"
                                },
                                {
                                    "movie_title": "Strange Magic",
                                    "release_date": "2015-01-23",
                                    "inflation_adjusted_gross": "12429583",
                                    "gross_rank": "1"
                                },
                                {
                                    "movie_title": "Monkey Kingdom",
                                    "release_date": "2015-04-17",
                                    "inflation_adjusted_gross": "16432322",
                                    "gross_rank": "2"
                                },
                                {
                                    "movie_title": "McFarland, USA",
                                    "release_date": "2015-02-20",
                                    "inflation_adjusted_gross": "44480275",
                                    "gross_rank": "3"
                                },
                                {
                                    "movie_title": "Bridge of Spies",
                                    "release_date": "2015-10-16",
                                    "inflation_adjusted_gross": "72313754",
                                    "gross_rank": "4"
                                },
                                {
                                    "movie_title": "Tomorrowland",
                                    "release_date": "2015-05-22",
                                    "inflation_adjusted_gross": "93436322",
                                    "gross_rank": "5"
                                },
                                {
                                    "movie_title": "The Good Dinosaur",
                                    "release_date": "2015-11-25",
                                    "inflation_adjusted_gross": "123087120",
                                    "gross_rank": "6"
                                },
                                {
                                    "movie_title": "Ant-Man",
                                    "release_date": "2015-07-17",
                                    "inflation_adjusted_gross": "180202163",
                                    "gross_rank": "7"
                                },
                                {
                                    "movie_title": "Cinderella",
                                    "release_date": "2015-03-13",
                                    "inflation_adjusted_gross": "201151353",
                                    "gross_rank": "8"
                                },
                                {
                                    "movie_title": "Inside Out",
                                    "release_date": "2015-06-19",
                                    "inflation_adjusted_gross": "356461711",
                                    "gross_rank": "9"
                                },
                                {
                                    "movie_title": "Avengers: Age of Ultron",
                                    "release_date": "2015-05-01",
                                    "inflation_adjusted_gross": "459005868",
                                    "gross_rank": "10"
                                },
                                {
                                    "movie_title": "Star Wars Ep. VII: The Force Awakens",
                                    "release_date": "2015-12-18",
                                    "inflation_adjusted_gross": "936662225",
                                    "gross_rank": "11"
                                },
                                {
                                    "movie_title": "A Beautiful Planet",
                                    "release_date": "2016-04-29",
                                    "inflation_adjusted_gross": "7895708",
                                    "gross_rank": "1"
                                },
                                {
                                    "movie_title": "Queen of Katwe",
                                    "release_date": "2016-09-23",
                                    "inflation_adjusted_gross": "8874389",
                                    "gross_rank": "2"
                                },
                                {
                                    "movie_title": "The Light Between Oceans",
                                    "release_date": "2016-09-02",
                                    "inflation_adjusted_gross": "12545979",
                                    "gross_rank": "3"
                                },
                                {
                                    "movie_title": "The Finest Hours",
                                    "release_date": "2016-01-29",
                                    "inflation_adjusted_gross": "27569558",
                                    "gross_rank": "4"
                                },
                                {
                                    "movie_title": "The BFG",
                                    "release_date": "2016-07-01",
                                    "inflation_adjusted_gross": "55483770",
                                    "gross_rank": "5"
                                },
                                {
                                    "movie_title": "Pete’s Dragon",
                                    "release_date": "2016-08-12",
                                    "inflation_adjusted_gross": "76233151",
                                    "gross_rank": "6"
                                },
                                {
                                    "movie_title": "Alice Through the Looking Glass",
                                    "release_date": "2016-05-27",
                                    "inflation_adjusted_gross": "77042381",
                                    "gross_rank": "7"
                                },
                                {
                                    "movie_title": "Doctor Strange",
                                    "release_date": "2016-11-04",
                                    "inflation_adjusted_gross": "232532923",
                                    "gross_rank": "8"
                                },
                                {
                                    "movie_title": "Moana",
                                    "release_date": "2016-11-23",
                                    "inflation_adjusted_gross": "246082029",
                                    "gross_rank": "9"
                                },
                                {
                                    "movie_title": "Zootopia",
                                    "release_date": "2016-03-04",
                                    "inflation_adjusted_gross": "341268248",
                                    "gross_rank": "10"
                                },
                                {
                                    "movie_title": "The Jungle Book",
                                    "release_date": "2016-04-15",
                                    "inflation_adjusted_gross": "364001123",
                                    "gross_rank": "11"
                                },
                                {
                                    "movie_title": "Captain America: Civil War",
                                    "release_date": "2016-05-06",
                                    "inflation_adjusted_gross": "408084349",
                                    "gross_rank": "12"
                                },
                                {
                                    "movie_title": "Finding Dory",
                                    "release_date": "2016-06-17",
                                    "inflation_adjusted_gross": "486295561",
                                    "gross_rank": "13"
                                },
                                {
                                    "movie_title": "Rogue One: A Star Wars Story",
                                    "release_date": "2016-12-16",
                                    "inflation_adjusted_gross": "529483936",
                                    "gross_rank": "14"
                                }
                            ]
                        },
                        "text/html": [
                            "<table>",
                            "<tr><th>movie_title</th><th>release_date</th><th>inflation_adjusted_gross</th><th>gross_rank</th></tr>",
                            "<tr><td>Zokkomon</td><td>2011-04-22</td><td>2984</td><td>1</td></tr>",
                            "<tr><td>Prom</td><td>2011-04-29</td><td>10768946</td><td>2</td></tr>",
                            "<tr><td>African Cats</td><td>2011-04-22</td><td>16401551</td><td>3</td></tr>",
                            "<tr><td>Fright Night</td><td>2011-08-19</td><td>19452402</td><td>4</td></tr>",
                            "<tr><td>Mars Needs Moms</td><td>2011-03-11</td><td>22741603</td><td>5</td></tr>",
                            "<tr><td>Winnie the Pooh</td><td>2011-07-15</td><td>28375869</td><td>6</td></tr>",
                            "<tr><td>I am Number Four</td><td>2011-02-18</td><td>58574607</td><td>7</td></tr>",
                            "<tr><td>War Horse</td><td>2011-12-25</td><td>84762149</td><td>8</td></tr>",
                            "<tr><td>Real Steel</td><td>2011-10-07</td><td>90848019</td><td>9</td></tr>",
                            "<tr><td>The Muppets</td><td>2011-11-23</td><td>94189503</td><td>10</td></tr>",
                            "<tr><td>Gnomeo and Juliet</td><td>2011-02-11</td><td>106270797</td><td>11</td></tr>",
                            "<tr><td>The Help</td><td>2011-08-10</td><td>180404976</td><td>12</td></tr>",
                            "<tr><td>Cars 2</td><td>2011-06-24</td><td>203522177</td><td>13</td></tr>",
                            "<tr><td>Pirates of the Caribbean: On Stranger…</td><td>2011-05-20</td><td>256263359</td><td>14</td></tr>",
                            "<tr><td>People Like Us</td><td>2012-06-29</td><td>13165822</td><td>1</td></tr>",
                            "<tr><td>The Secret World of Arietty</td><td>2012-02-17</td><td>20325733</td><td>2</td></tr>",
                            "<tr><td>Chimpanzee</td><td>2012-04-20</td><td>30675725</td><td>3</td></tr>",
                            "<tr><td>Frankenweenie</td><td>2012-10-05</td><td>37363513</td><td>4</td></tr>",
                            "<tr><td>The Odd Life of Timothy Green</td><td>2012-08-15</td><td>54914942</td><td>5</td></tr>",
                            "<tr><td>John Carter</td><td>2012-03-09</td><td>77372445</td><td>6</td></tr>",
                            "<tr><td>Lincoln</td><td>2012-11-09</td><td>192122330</td><td>7</td></tr>",
                            "<tr><td>Wreck-It Ralph</td><td>2012-11-02</td><td>200354959</td><td>8</td></tr>",
                            "<tr><td>Brave</td><td>2012-06-22</td><td>251292441</td><td>9</td></tr>",
                            "<tr><td>The Avengers</td><td>2012-05-04</td><td>660081224</td><td>10</td></tr>",
                            "<tr><td>The Fifth Estate</td><td>2013-10-18</td><td>3374251</td><td>1</td></tr>",
                            "<tr><td>Kaze Tachinu</td><td>2013-11-08</td><td>5367415</td><td>2</td></tr>",
                            "<tr><td>Delivery Man</td><td>2013-11-22</td><td>31787136</td><td>3</td></tr>",
                            "<tr><td>Saving Mr. Banks</td><td>2013-12-13</td><td>86249969</td><td>4</td></tr>",
                            "<tr><td>The Lone Ranger</td><td>2013-07-02</td><td>92597388</td><td>5</td></tr>",
                            "<tr><td>Disney Planes</td><td>2013-08-09</td><td>93614037</td><td>6</td></tr>",
                            "<tr><td>Thor: The Dark World</td><td>2013-11-08</td><td>213962184</td><td>7</td></tr>",
                            "<tr><td>Oz the Great and Powerful</td><td>2013-03-08</td><td>243434130</td><td>8</td></tr>",
                            "<tr><td>Monsters University</td><td>2013-06-21</td><td>278395641</td><td>9</td></tr>",
                            "<tr><td>Frozen</td><td>2013-11-22</td><td>414997174</td><td>10</td></tr>",
                            "<tr><td>Iron Man 3</td><td>2013-05-03</td><td>424084233</td><td>11</td></tr>",
                            "<tr><td>Bears</td><td>2014-04-18</td><td>18346024</td><td>1</td></tr>",
                            "<tr><td>Million Dollar Arm</td><td>2014-05-10</td><td>37607865</td><td>2</td></tr>",
                            "<tr><td>Need for Speed</td><td>2014-03-14</td><td>44955015</td><td>3</td></tr>",
                            "<tr><td>Muppets Most Wanted</td><td>2014-03-21</td><td>52807594</td><td>4</td></tr>",
                            "<tr><td>The Hundred-Foot Journey</td><td>2014-08-08</td><td>55961409</td><td>5</td></tr>",
                            "<tr><td>Planes: Fire and Rescue</td><td>2014-07-18</td><td>61040349</td><td>6</td></tr>",
                            "<tr><td>Alexander and the Terrible, Horrible,…</td><td>2014-10-10</td><td>69055550</td><td>7</td></tr>",
                            "<tr><td>Into the Woods</td><td>2014-12-25</td><td>130894237</td><td>8</td></tr>",
                            "<tr><td>Big Hero 6</td><td>2014-11-07</td><td>229249222</td><td>9</td></tr>",
                            "<tr><td>Maleficent</td><td>2014-05-30</td><td>249089809</td><td>10</td></tr>",
                            "<tr><td>Captain America: The Winter Soldier</td><td>2014-04-04</td><td>268013076</td><td>11</td></tr>",
                            "<tr><td>Guardians of the Galaxy</td><td>2014-08-01</td><td>343771168</td><td>12</td></tr>",
                            "<tr><td>Strange Magic</td><td>2015-01-23</td><td>12429583</td><td>1</td></tr>",
                            "<tr><td>Monkey Kingdom</td><td>2015-04-17</td><td>16432322</td><td>2</td></tr>",
                            "<tr><td>McFarland, USA</td><td>2015-02-20</td><td>44480275</td><td>3</td></tr>",
                            "<tr><td>Bridge of Spies</td><td>2015-10-16</td><td>72313754</td><td>4</td></tr>",
                            "<tr><td>Tomorrowland</td><td>2015-05-22</td><td>93436322</td><td>5</td></tr>",
                            "<tr><td>The Good Dinosaur</td><td>2015-11-25</td><td>123087120</td><td>6</td></tr>",
                            "<tr><td>Ant-Man</td><td>2015-07-17</td><td>180202163</td><td>7</td></tr>",
                            "<tr><td>Cinderella</td><td>2015-03-13</td><td>201151353</td><td>8</td></tr>",
                            "<tr><td>Inside Out</td><td>2015-06-19</td><td>356461711</td><td>9</td></tr>",
                            "<tr><td>Avengers: Age of Ultron</td><td>2015-05-01</td><td>459005868</td><td>10</td></tr>",
                            "<tr><td>Star Wars Ep. VII: The Force Awakens</td><td>2015-12-18</td><td>936662225</td><td>11</td></tr>",
                            "<tr><td>A Beautiful Planet</td><td>2016-04-29</td><td>7895708</td><td>1</td></tr>",
                            "<tr><td>Queen of Katwe</td><td>2016-09-23</td><td>8874389</td><td>2</td></tr>",
                            "<tr><td>The Light Between Oceans</td><td>2016-09-02</td><td>12545979</td><td>3</td></tr>",
                            "<tr><td>The Finest Hours</td><td>2016-01-29</td><td>27569558</td><td>4</td></tr>",
                            "<tr><td>The BFG</td><td>2016-07-01</td><td>55483770</td><td>5</td></tr>",
                            "<tr><td>Pete’s Dragon</td><td>2016-08-12</td><td>76233151</td><td>6</td></tr>",
                            "<tr><td>Alice Through the Looking Glass</td><td>2016-05-27</td><td>77042381</td><td>7</td></tr>",
                            "<tr><td>Doctor Strange</td><td>2016-11-04</td><td>232532923</td><td>8</td></tr>",
                            "<tr><td>Moana</td><td>2016-11-23</td><td>246082029</td><td>9</td></tr>",
                            "<tr><td>Zootopia</td><td>2016-03-04</td><td>341268248</td><td>10</td></tr>",
                            "<tr><td>The Jungle Book</td><td>2016-04-15</td><td>364001123</td><td>11</td></tr>",
                            "<tr><td>Captain America: Civil War</td><td>2016-05-06</td><td>408084349</td><td>12</td></tr>",
                            "<tr><td>Finding Dory</td><td>2016-06-17</td><td>486295561</td><td>13</td></tr>",
                            "<tr><td>Rogue One: A Star Wars Story</td><td>2016-12-16</td><td>529483936</td><td>14</td></tr>",
                            "</table>"
                        ]
                    }
                }
            ],
            "execution_count": 4
        },
        {
            "cell_type": "code",
            "source": [
                "select movie_title,release_date,inflation_adjusted_gross,\r\n",
                "    rank() over(partition by year(release_date) order by inflation_adjusted_gross)gross_rank\r\n",
                "    from movie_gross\r\n",
                "    where year(release_date) > 2010\r\n",
                ""
            ],
            "metadata": {
                "language": "sql",
                "azdata_cell_guid": "c3694fba-aaa6-477f-a44d-89a111b50175"
            },
            "outputs": [
                {
                    "output_type": "display_data",
                    "data": {
                        "text/html": "(72 rows affected)"
                    },
                    "metadata": {}
                },
                {
                    "output_type": "display_data",
                    "data": {
                        "text/html": "Total execution time: 00:00:00.005"
                    },
                    "metadata": {}
                },
                {
                    "output_type": "execute_result",
                    "metadata": {},
                    "execution_count": 6,
                    "data": {
                        "application/vnd.dataresource+json": {
                            "schema": {
                                "fields": [
                                    {
                                        "name": "movie_title"
                                    },
                                    {
                                        "name": "release_date"
                                    },
                                    {
                                        "name": "inflation_adjusted_gross"
                                    },
                                    {
                                        "name": "gross_rank"
                                    }
                                ]
                            },
                            "data": [
                                {
                                    "movie_title": "Zokkomon",
                                    "release_date": "2011-04-22",
                                    "inflation_adjusted_gross": "2984",
                                    "gross_rank": "1"
                                },
                                {
                                    "movie_title": "Prom",
                                    "release_date": "2011-04-29",
                                    "inflation_adjusted_gross": "10768946",
                                    "gross_rank": "2"
                                },
                                {
                                    "movie_title": "African Cats",
                                    "release_date": "2011-04-22",
                                    "inflation_adjusted_gross": "16401551",
                                    "gross_rank": "3"
                                },
                                {
                                    "movie_title": "Fright Night",
                                    "release_date": "2011-08-19",
                                    "inflation_adjusted_gross": "19452402",
                                    "gross_rank": "4"
                                },
                                {
                                    "movie_title": "Mars Needs Moms",
                                    "release_date": "2011-03-11",
                                    "inflation_adjusted_gross": "22741603",
                                    "gross_rank": "5"
                                },
                                {
                                    "movie_title": "Winnie the Pooh",
                                    "release_date": "2011-07-15",
                                    "inflation_adjusted_gross": "28375869",
                                    "gross_rank": "6"
                                },
                                {
                                    "movie_title": "I am Number Four",
                                    "release_date": "2011-02-18",
                                    "inflation_adjusted_gross": "58574607",
                                    "gross_rank": "7"
                                },
                                {
                                    "movie_title": "War Horse",
                                    "release_date": "2011-12-25",
                                    "inflation_adjusted_gross": "84762149",
                                    "gross_rank": "8"
                                },
                                {
                                    "movie_title": "Real Steel",
                                    "release_date": "2011-10-07",
                                    "inflation_adjusted_gross": "90848019",
                                    "gross_rank": "9"
                                },
                                {
                                    "movie_title": "The Muppets",
                                    "release_date": "2011-11-23",
                                    "inflation_adjusted_gross": "94189503",
                                    "gross_rank": "10"
                                },
                                {
                                    "movie_title": "Gnomeo and Juliet",
                                    "release_date": "2011-02-11",
                                    "inflation_adjusted_gross": "106270797",
                                    "gross_rank": "11"
                                },
                                {
                                    "movie_title": "The Help",
                                    "release_date": "2011-08-10",
                                    "inflation_adjusted_gross": "180404976",
                                    "gross_rank": "12"
                                },
                                {
                                    "movie_title": "Cars 2",
                                    "release_date": "2011-06-24",
                                    "inflation_adjusted_gross": "203522177",
                                    "gross_rank": "13"
                                },
                                {
                                    "movie_title": "Pirates of the Caribbean: On Stranger…",
                                    "release_date": "2011-05-20",
                                    "inflation_adjusted_gross": "256263359",
                                    "gross_rank": "14"
                                },
                                {
                                    "movie_title": "People Like Us",
                                    "release_date": "2012-06-29",
                                    "inflation_adjusted_gross": "13165822",
                                    "gross_rank": "1"
                                },
                                {
                                    "movie_title": "The Secret World of Arietty",
                                    "release_date": "2012-02-17",
                                    "inflation_adjusted_gross": "20325733",
                                    "gross_rank": "2"
                                },
                                {
                                    "movie_title": "Chimpanzee",
                                    "release_date": "2012-04-20",
                                    "inflation_adjusted_gross": "30675725",
                                    "gross_rank": "3"
                                },
                                {
                                    "movie_title": "Frankenweenie",
                                    "release_date": "2012-10-05",
                                    "inflation_adjusted_gross": "37363513",
                                    "gross_rank": "4"
                                },
                                {
                                    "movie_title": "The Odd Life of Timothy Green",
                                    "release_date": "2012-08-15",
                                    "inflation_adjusted_gross": "54914942",
                                    "gross_rank": "5"
                                },
                                {
                                    "movie_title": "John Carter",
                                    "release_date": "2012-03-09",
                                    "inflation_adjusted_gross": "77372445",
                                    "gross_rank": "6"
                                },
                                {
                                    "movie_title": "Lincoln",
                                    "release_date": "2012-11-09",
                                    "inflation_adjusted_gross": "192122330",
                                    "gross_rank": "7"
                                },
                                {
                                    "movie_title": "Wreck-It Ralph",
                                    "release_date": "2012-11-02",
                                    "inflation_adjusted_gross": "200354959",
                                    "gross_rank": "8"
                                },
                                {
                                    "movie_title": "Brave",
                                    "release_date": "2012-06-22",
                                    "inflation_adjusted_gross": "251292441",
                                    "gross_rank": "9"
                                },
                                {
                                    "movie_title": "The Avengers",
                                    "release_date": "2012-05-04",
                                    "inflation_adjusted_gross": "660081224",
                                    "gross_rank": "10"
                                },
                                {
                                    "movie_title": "The Fifth Estate",
                                    "release_date": "2013-10-18",
                                    "inflation_adjusted_gross": "3374251",
                                    "gross_rank": "1"
                                },
                                {
                                    "movie_title": "Kaze Tachinu",
                                    "release_date": "2013-11-08",
                                    "inflation_adjusted_gross": "5367415",
                                    "gross_rank": "2"
                                },
                                {
                                    "movie_title": "Delivery Man",
                                    "release_date": "2013-11-22",
                                    "inflation_adjusted_gross": "31787136",
                                    "gross_rank": "3"
                                },
                                {
                                    "movie_title": "Saving Mr. Banks",
                                    "release_date": "2013-12-13",
                                    "inflation_adjusted_gross": "86249969",
                                    "gross_rank": "4"
                                },
                                {
                                    "movie_title": "The Lone Ranger",
                                    "release_date": "2013-07-02",
                                    "inflation_adjusted_gross": "92597388",
                                    "gross_rank": "5"
                                },
                                {
                                    "movie_title": "Disney Planes",
                                    "release_date": "2013-08-09",
                                    "inflation_adjusted_gross": "93614037",
                                    "gross_rank": "6"
                                },
                                {
                                    "movie_title": "Thor: The Dark World",
                                    "release_date": "2013-11-08",
                                    "inflation_adjusted_gross": "213962184",
                                    "gross_rank": "7"
                                },
                                {
                                    "movie_title": "Oz the Great and Powerful",
                                    "release_date": "2013-03-08",
                                    "inflation_adjusted_gross": "243434130",
                                    "gross_rank": "8"
                                },
                                {
                                    "movie_title": "Monsters University",
                                    "release_date": "2013-06-21",
                                    "inflation_adjusted_gross": "278395641",
                                    "gross_rank": "9"
                                },
                                {
                                    "movie_title": "Frozen",
                                    "release_date": "2013-11-22",
                                    "inflation_adjusted_gross": "414997174",
                                    "gross_rank": "10"
                                },
                                {
                                    "movie_title": "Iron Man 3",
                                    "release_date": "2013-05-03",
                                    "inflation_adjusted_gross": "424084233",
                                    "gross_rank": "11"
                                },
                                {
                                    "movie_title": "Bears",
                                    "release_date": "2014-04-18",
                                    "inflation_adjusted_gross": "18346024",
                                    "gross_rank": "1"
                                },
                                {
                                    "movie_title": "Million Dollar Arm",
                                    "release_date": "2014-05-10",
                                    "inflation_adjusted_gross": "37607865",
                                    "gross_rank": "2"
                                },
                                {
                                    "movie_title": "Need for Speed",
                                    "release_date": "2014-03-14",
                                    "inflation_adjusted_gross": "44955015",
                                    "gross_rank": "3"
                                },
                                {
                                    "movie_title": "Muppets Most Wanted",
                                    "release_date": "2014-03-21",
                                    "inflation_adjusted_gross": "52807594",
                                    "gross_rank": "4"
                                },
                                {
                                    "movie_title": "The Hundred-Foot Journey",
                                    "release_date": "2014-08-08",
                                    "inflation_adjusted_gross": "55961409",
                                    "gross_rank": "5"
                                },
                                {
                                    "movie_title": "Planes: Fire and Rescue",
                                    "release_date": "2014-07-18",
                                    "inflation_adjusted_gross": "61040349",
                                    "gross_rank": "6"
                                },
                                {
                                    "movie_title": "Alexander and the Terrible, Horrible,…",
                                    "release_date": "2014-10-10",
                                    "inflation_adjusted_gross": "69055550",
                                    "gross_rank": "7"
                                },
                                {
                                    "movie_title": "Into the Woods",
                                    "release_date": "2014-12-25",
                                    "inflation_adjusted_gross": "130894237",
                                    "gross_rank": "8"
                                },
                                {
                                    "movie_title": "Big Hero 6",
                                    "release_date": "2014-11-07",
                                    "inflation_adjusted_gross": "229249222",
                                    "gross_rank": "9"
                                },
                                {
                                    "movie_title": "Maleficent",
                                    "release_date": "2014-05-30",
                                    "inflation_adjusted_gross": "249089809",
                                    "gross_rank": "10"
                                },
                                {
                                    "movie_title": "Captain America: The Winter Soldier",
                                    "release_date": "2014-04-04",
                                    "inflation_adjusted_gross": "268013076",
                                    "gross_rank": "11"
                                },
                                {
                                    "movie_title": "Guardians of the Galaxy",
                                    "release_date": "2014-08-01",
                                    "inflation_adjusted_gross": "343771168",
                                    "gross_rank": "12"
                                },
                                {
                                    "movie_title": "Strange Magic",
                                    "release_date": "2015-01-23",
                                    "inflation_adjusted_gross": "12429583",
                                    "gross_rank": "1"
                                },
                                {
                                    "movie_title": "Monkey Kingdom",
                                    "release_date": "2015-04-17",
                                    "inflation_adjusted_gross": "16432322",
                                    "gross_rank": "2"
                                },
                                {
                                    "movie_title": "McFarland, USA",
                                    "release_date": "2015-02-20",
                                    "inflation_adjusted_gross": "44480275",
                                    "gross_rank": "3"
                                },
                                {
                                    "movie_title": "Bridge of Spies",
                                    "release_date": "2015-10-16",
                                    "inflation_adjusted_gross": "72313754",
                                    "gross_rank": "4"
                                },
                                {
                                    "movie_title": "Tomorrowland",
                                    "release_date": "2015-05-22",
                                    "inflation_adjusted_gross": "93436322",
                                    "gross_rank": "5"
                                },
                                {
                                    "movie_title": "The Good Dinosaur",
                                    "release_date": "2015-11-25",
                                    "inflation_adjusted_gross": "123087120",
                                    "gross_rank": "6"
                                },
                                {
                                    "movie_title": "Ant-Man",
                                    "release_date": "2015-07-17",
                                    "inflation_adjusted_gross": "180202163",
                                    "gross_rank": "7"
                                },
                                {
                                    "movie_title": "Cinderella",
                                    "release_date": "2015-03-13",
                                    "inflation_adjusted_gross": "201151353",
                                    "gross_rank": "8"
                                },
                                {
                                    "movie_title": "Inside Out",
                                    "release_date": "2015-06-19",
                                    "inflation_adjusted_gross": "356461711",
                                    "gross_rank": "9"
                                },
                                {
                                    "movie_title": "Avengers: Age of Ultron",
                                    "release_date": "2015-05-01",
                                    "inflation_adjusted_gross": "459005868",
                                    "gross_rank": "10"
                                },
                                {
                                    "movie_title": "Star Wars Ep. VII: The Force Awakens",
                                    "release_date": "2015-12-18",
                                    "inflation_adjusted_gross": "936662225",
                                    "gross_rank": "11"
                                },
                                {
                                    "movie_title": "A Beautiful Planet",
                                    "release_date": "2016-04-29",
                                    "inflation_adjusted_gross": "7895708",
                                    "gross_rank": "1"
                                },
                                {
                                    "movie_title": "Queen of Katwe",
                                    "release_date": "2016-09-23",
                                    "inflation_adjusted_gross": "8874389",
                                    "gross_rank": "2"
                                },
                                {
                                    "movie_title": "The Light Between Oceans",
                                    "release_date": "2016-09-02",
                                    "inflation_adjusted_gross": "12545979",
                                    "gross_rank": "3"
                                },
                                {
                                    "movie_title": "The Finest Hours",
                                    "release_date": "2016-01-29",
                                    "inflation_adjusted_gross": "27569558",
                                    "gross_rank": "4"
                                },
                                {
                                    "movie_title": "The BFG",
                                    "release_date": "2016-07-01",
                                    "inflation_adjusted_gross": "55483770",
                                    "gross_rank": "5"
                                },
                                {
                                    "movie_title": "Pete’s Dragon",
                                    "release_date": "2016-08-12",
                                    "inflation_adjusted_gross": "76233151",
                                    "gross_rank": "6"
                                },
                                {
                                    "movie_title": "Alice Through the Looking Glass",
                                    "release_date": "2016-05-27",
                                    "inflation_adjusted_gross": "77042381",
                                    "gross_rank": "7"
                                },
                                {
                                    "movie_title": "Doctor Strange",
                                    "release_date": "2016-11-04",
                                    "inflation_adjusted_gross": "232532923",
                                    "gross_rank": "8"
                                },
                                {
                                    "movie_title": "Moana",
                                    "release_date": "2016-11-23",
                                    "inflation_adjusted_gross": "246082029",
                                    "gross_rank": "9"
                                },
                                {
                                    "movie_title": "Zootopia",
                                    "release_date": "2016-03-04",
                                    "inflation_adjusted_gross": "341268248",
                                    "gross_rank": "10"
                                },
                                {
                                    "movie_title": "The Jungle Book",
                                    "release_date": "2016-04-15",
                                    "inflation_adjusted_gross": "364001123",
                                    "gross_rank": "11"
                                },
                                {
                                    "movie_title": "Captain America: Civil War",
                                    "release_date": "2016-05-06",
                                    "inflation_adjusted_gross": "408084349",
                                    "gross_rank": "12"
                                },
                                {
                                    "movie_title": "Finding Dory",
                                    "release_date": "2016-06-17",
                                    "inflation_adjusted_gross": "486295561",
                                    "gross_rank": "13"
                                },
                                {
                                    "movie_title": "Rogue One: A Star Wars Story",
                                    "release_date": "2016-12-16",
                                    "inflation_adjusted_gross": "529483936",
                                    "gross_rank": "14"
                                }
                            ]
                        },
                        "text/html": [
                            "<table>",
                            "<tr><th>movie_title</th><th>release_date</th><th>inflation_adjusted_gross</th><th>gross_rank</th></tr>",
                            "<tr><td>Zokkomon</td><td>2011-04-22</td><td>2984</td><td>1</td></tr>",
                            "<tr><td>Prom</td><td>2011-04-29</td><td>10768946</td><td>2</td></tr>",
                            "<tr><td>African Cats</td><td>2011-04-22</td><td>16401551</td><td>3</td></tr>",
                            "<tr><td>Fright Night</td><td>2011-08-19</td><td>19452402</td><td>4</td></tr>",
                            "<tr><td>Mars Needs Moms</td><td>2011-03-11</td><td>22741603</td><td>5</td></tr>",
                            "<tr><td>Winnie the Pooh</td><td>2011-07-15</td><td>28375869</td><td>6</td></tr>",
                            "<tr><td>I am Number Four</td><td>2011-02-18</td><td>58574607</td><td>7</td></tr>",
                            "<tr><td>War Horse</td><td>2011-12-25</td><td>84762149</td><td>8</td></tr>",
                            "<tr><td>Real Steel</td><td>2011-10-07</td><td>90848019</td><td>9</td></tr>",
                            "<tr><td>The Muppets</td><td>2011-11-23</td><td>94189503</td><td>10</td></tr>",
                            "<tr><td>Gnomeo and Juliet</td><td>2011-02-11</td><td>106270797</td><td>11</td></tr>",
                            "<tr><td>The Help</td><td>2011-08-10</td><td>180404976</td><td>12</td></tr>",
                            "<tr><td>Cars 2</td><td>2011-06-24</td><td>203522177</td><td>13</td></tr>",
                            "<tr><td>Pirates of the Caribbean: On Stranger…</td><td>2011-05-20</td><td>256263359</td><td>14</td></tr>",
                            "<tr><td>People Like Us</td><td>2012-06-29</td><td>13165822</td><td>1</td></tr>",
                            "<tr><td>The Secret World of Arietty</td><td>2012-02-17</td><td>20325733</td><td>2</td></tr>",
                            "<tr><td>Chimpanzee</td><td>2012-04-20</td><td>30675725</td><td>3</td></tr>",
                            "<tr><td>Frankenweenie</td><td>2012-10-05</td><td>37363513</td><td>4</td></tr>",
                            "<tr><td>The Odd Life of Timothy Green</td><td>2012-08-15</td><td>54914942</td><td>5</td></tr>",
                            "<tr><td>John Carter</td><td>2012-03-09</td><td>77372445</td><td>6</td></tr>",
                            "<tr><td>Lincoln</td><td>2012-11-09</td><td>192122330</td><td>7</td></tr>",
                            "<tr><td>Wreck-It Ralph</td><td>2012-11-02</td><td>200354959</td><td>8</td></tr>",
                            "<tr><td>Brave</td><td>2012-06-22</td><td>251292441</td><td>9</td></tr>",
                            "<tr><td>The Avengers</td><td>2012-05-04</td><td>660081224</td><td>10</td></tr>",
                            "<tr><td>The Fifth Estate</td><td>2013-10-18</td><td>3374251</td><td>1</td></tr>",
                            "<tr><td>Kaze Tachinu</td><td>2013-11-08</td><td>5367415</td><td>2</td></tr>",
                            "<tr><td>Delivery Man</td><td>2013-11-22</td><td>31787136</td><td>3</td></tr>",
                            "<tr><td>Saving Mr. Banks</td><td>2013-12-13</td><td>86249969</td><td>4</td></tr>",
                            "<tr><td>The Lone Ranger</td><td>2013-07-02</td><td>92597388</td><td>5</td></tr>",
                            "<tr><td>Disney Planes</td><td>2013-08-09</td><td>93614037</td><td>6</td></tr>",
                            "<tr><td>Thor: The Dark World</td><td>2013-11-08</td><td>213962184</td><td>7</td></tr>",
                            "<tr><td>Oz the Great and Powerful</td><td>2013-03-08</td><td>243434130</td><td>8</td></tr>",
                            "<tr><td>Monsters University</td><td>2013-06-21</td><td>278395641</td><td>9</td></tr>",
                            "<tr><td>Frozen</td><td>2013-11-22</td><td>414997174</td><td>10</td></tr>",
                            "<tr><td>Iron Man 3</td><td>2013-05-03</td><td>424084233</td><td>11</td></tr>",
                            "<tr><td>Bears</td><td>2014-04-18</td><td>18346024</td><td>1</td></tr>",
                            "<tr><td>Million Dollar Arm</td><td>2014-05-10</td><td>37607865</td><td>2</td></tr>",
                            "<tr><td>Need for Speed</td><td>2014-03-14</td><td>44955015</td><td>3</td></tr>",
                            "<tr><td>Muppets Most Wanted</td><td>2014-03-21</td><td>52807594</td><td>4</td></tr>",
                            "<tr><td>The Hundred-Foot Journey</td><td>2014-08-08</td><td>55961409</td><td>5</td></tr>",
                            "<tr><td>Planes: Fire and Rescue</td><td>2014-07-18</td><td>61040349</td><td>6</td></tr>",
                            "<tr><td>Alexander and the Terrible, Horrible,…</td><td>2014-10-10</td><td>69055550</td><td>7</td></tr>",
                            "<tr><td>Into the Woods</td><td>2014-12-25</td><td>130894237</td><td>8</td></tr>",
                            "<tr><td>Big Hero 6</td><td>2014-11-07</td><td>229249222</td><td>9</td></tr>",
                            "<tr><td>Maleficent</td><td>2014-05-30</td><td>249089809</td><td>10</td></tr>",
                            "<tr><td>Captain America: The Winter Soldier</td><td>2014-04-04</td><td>268013076</td><td>11</td></tr>",
                            "<tr><td>Guardians of the Galaxy</td><td>2014-08-01</td><td>343771168</td><td>12</td></tr>",
                            "<tr><td>Strange Magic</td><td>2015-01-23</td><td>12429583</td><td>1</td></tr>",
                            "<tr><td>Monkey Kingdom</td><td>2015-04-17</td><td>16432322</td><td>2</td></tr>",
                            "<tr><td>McFarland, USA</td><td>2015-02-20</td><td>44480275</td><td>3</td></tr>",
                            "<tr><td>Bridge of Spies</td><td>2015-10-16</td><td>72313754</td><td>4</td></tr>",
                            "<tr><td>Tomorrowland</td><td>2015-05-22</td><td>93436322</td><td>5</td></tr>",
                            "<tr><td>The Good Dinosaur</td><td>2015-11-25</td><td>123087120</td><td>6</td></tr>",
                            "<tr><td>Ant-Man</td><td>2015-07-17</td><td>180202163</td><td>7</td></tr>",
                            "<tr><td>Cinderella</td><td>2015-03-13</td><td>201151353</td><td>8</td></tr>",
                            "<tr><td>Inside Out</td><td>2015-06-19</td><td>356461711</td><td>9</td></tr>",
                            "<tr><td>Avengers: Age of Ultron</td><td>2015-05-01</td><td>459005868</td><td>10</td></tr>",
                            "<tr><td>Star Wars Ep. VII: The Force Awakens</td><td>2015-12-18</td><td>936662225</td><td>11</td></tr>",
                            "<tr><td>A Beautiful Planet</td><td>2016-04-29</td><td>7895708</td><td>1</td></tr>",
                            "<tr><td>Queen of Katwe</td><td>2016-09-23</td><td>8874389</td><td>2</td></tr>",
                            "<tr><td>The Light Between Oceans</td><td>2016-09-02</td><td>12545979</td><td>3</td></tr>",
                            "<tr><td>The Finest Hours</td><td>2016-01-29</td><td>27569558</td><td>4</td></tr>",
                            "<tr><td>The BFG</td><td>2016-07-01</td><td>55483770</td><td>5</td></tr>",
                            "<tr><td>Pete’s Dragon</td><td>2016-08-12</td><td>76233151</td><td>6</td></tr>",
                            "<tr><td>Alice Through the Looking Glass</td><td>2016-05-27</td><td>77042381</td><td>7</td></tr>",
                            "<tr><td>Doctor Strange</td><td>2016-11-04</td><td>232532923</td><td>8</td></tr>",
                            "<tr><td>Moana</td><td>2016-11-23</td><td>246082029</td><td>9</td></tr>",
                            "<tr><td>Zootopia</td><td>2016-03-04</td><td>341268248</td><td>10</td></tr>",
                            "<tr><td>The Jungle Book</td><td>2016-04-15</td><td>364001123</td><td>11</td></tr>",
                            "<tr><td>Captain America: Civil War</td><td>2016-05-06</td><td>408084349</td><td>12</td></tr>",
                            "<tr><td>Finding Dory</td><td>2016-06-17</td><td>486295561</td><td>13</td></tr>",
                            "<tr><td>Rogue One: A Star Wars Story</td><td>2016-12-16</td><td>529483936</td><td>14</td></tr>",
                            "</table>"
                        ]
                    }
                }
            ],
            "execution_count": 6
        },
        {
            "cell_type": "code",
            "source": [
                "select director,count(*) no_movie from director group by director"
            ],
            "metadata": {
                "language": "sql",
                "azdata_cell_guid": "8a38fcfb-addb-4ed5-b3b9-e0a765abcac3"
            },
            "outputs": [
                {
                    "output_type": "display_data",
                    "data": {
                        "text/html": "(29 rows affected)"
                    },
                    "metadata": {}
                },
                {
                    "output_type": "display_data",
                    "data": {
                        "text/html": "Total execution time: 00:00:00.008"
                    },
                    "metadata": {}
                },
                {
                    "output_type": "execute_result",
                    "metadata": {},
                    "execution_count": 11,
                    "data": {
                        "application/vnd.dataresource+json": {
                            "schema": {
                                "fields": [
                                    {
                                        "name": "director"
                                    },
                                    {
                                        "name": "(No column name)"
                                    }
                                ]
                            },
                            "data": [
                                {
                                    "director": "Art Stevens",
                                    "(No column name)": "1"
                                },
                                {
                                    "director": "Barry Cook",
                                    "(No column name)": "1"
                                },
                                {
                                    "director": "Ben Sharpsteen",
                                    "(No column name)": "2"
                                },
                                {
                                    "director": "Byron Howard",
                                    "(No column name)": "1"
                                },
                                {
                                    "director": "Chris Buck",
                                    "(No column name)": "2"
                                },
                                {
                                    "director": "Chris Sanders",
                                    "(No column name)": "1"
                                },
                                {
                                    "director": "Chris Williams",
                                    "(No column name)": "1"
                                },
                                {
                                    "director": "Clyde Geronimi",
                                    "(No column name)": "3"
                                },
                                {
                                    "director": "David Hand",
                                    "(No column name)": "2"
                                },
                                {
                                    "director": "Don Hall",
                                    "(No column name)": "1"
                                },
                                {
                                    "director": "full credits",
                                    "(No column name)": "2"
                                },
                                {
                                    "director": "Gary Trousdale",
                                    "(No column name)": "3"
                                },
                                {
                                    "director": "George Scribner",
                                    "(No column name)": "1"
                                },
                                {
                                    "director": "Hamilton Luske",
                                    "(No column name)": "2"
                                },
                                {
                                    "director": "Jack Kinney",
                                    "(No column name)": "4"
                                },
                                {
                                    "director": "Mark Dindal",
                                    "(No column name)": "2"
                                },
                                {
                                    "director": "Mike Gabriel",
                                    "(No column name)": "2"
                                },
                                {
                                    "director": "Nathan Greno",
                                    "(No column name)": "1"
                                },
                                {
                                    "director": "Norman Ferguson",
                                    "(No column name)": "1"
                                },
                                {
                                    "director": "Ralph Zondag",
                                    "(No column name)": "1"
                                },
                                {
                                    "director": "Rich Moore",
                                    "(No column name)": "1"
                                },
                                {
                                    "director": "Robert Walker",
                                    "(No column name)": "1"
                                },
                                {
                                    "director": "Roger Allers",
                                    "(No column name)": "1"
                                },
                                {
                                    "director": "Ron Clements",
                                    "(No column name)": "7"
                                },
                                {
                                    "director": "Stephen J. Anderson",
                                    "(No column name)": "2"
                                },
                                {
                                    "director": "Ted Berman",
                                    "(No column name)": "1"
                                },
                                {
                                    "director": "Wilfred Jackson",
                                    "(No column name)": "1"
                                },
                                {
                                    "director": "Will Finn",
                                    "(No column name)": "1"
                                },
                                {
                                    "director": "Wolfgang Reitherman",
                                    "(No column name)": "7"
                                }
                            ]
                        },
                        "text/html": [
                            "<table>",
                            "<tr><th>director</th><th>(No column name)</th></tr>",
                            "<tr><td>Art Stevens</td><td>1</td></tr>",
                            "<tr><td>Barry Cook</td><td>1</td></tr>",
                            "<tr><td>Ben Sharpsteen</td><td>2</td></tr>",
                            "<tr><td>Byron Howard</td><td>1</td></tr>",
                            "<tr><td>Chris Buck</td><td>2</td></tr>",
                            "<tr><td>Chris Sanders</td><td>1</td></tr>",
                            "<tr><td>Chris Williams</td><td>1</td></tr>",
                            "<tr><td>Clyde Geronimi</td><td>3</td></tr>",
                            "<tr><td>David Hand</td><td>2</td></tr>",
                            "<tr><td>Don Hall</td><td>1</td></tr>",
                            "<tr><td>full credits</td><td>2</td></tr>",
                            "<tr><td>Gary Trousdale</td><td>3</td></tr>",
                            "<tr><td>George Scribner</td><td>1</td></tr>",
                            "<tr><td>Hamilton Luske</td><td>2</td></tr>",
                            "<tr><td>Jack Kinney</td><td>4</td></tr>",
                            "<tr><td>Mark Dindal</td><td>2</td></tr>",
                            "<tr><td>Mike Gabriel</td><td>2</td></tr>",
                            "<tr><td>Nathan Greno</td><td>1</td></tr>",
                            "<tr><td>Norman Ferguson</td><td>1</td></tr>",
                            "<tr><td>Ralph Zondag</td><td>1</td></tr>",
                            "<tr><td>Rich Moore</td><td>1</td></tr>",
                            "<tr><td>Robert Walker</td><td>1</td></tr>",
                            "<tr><td>Roger Allers</td><td>1</td></tr>",
                            "<tr><td>Ron Clements</td><td>7</td></tr>",
                            "<tr><td>Stephen J. Anderson</td><td>2</td></tr>",
                            "<tr><td>Ted Berman</td><td>1</td></tr>",
                            "<tr><td>Wilfred Jackson</td><td>1</td></tr>",
                            "<tr><td>Will Finn</td><td>1</td></tr>",
                            "<tr><td>Wolfgang Reitherman</td><td>7</td></tr>",
                            "</table>"
                        ]
                    }
                }
            ],
            "execution_count": 11
        },
        {
            "cell_type": "code",
            "source": [
                "with cte as (\r\n",
                "    select director,count(*) no_movie from director group by director\r\n",
                ")\r\n",
                "select * ,\r\n",
                "    rank() over (order by no_movie desc)rank,\r\n",
                "    dense_rank() over (order by no_movie desc)dense_rank\r\n",
                "from cte"
            ],
            "metadata": {
                "language": "sql",
                "azdata_cell_guid": "7dd7e974-2702-4c5d-9a28-2a3360778e29"
            },
            "outputs": [
                {
                    "output_type": "display_data",
                    "data": {
                        "text/html": "(29 rows affected)"
                    },
                    "metadata": {}
                },
                {
                    "output_type": "display_data",
                    "data": {
                        "text/html": "Total execution time: 00:00:00.010"
                    },
                    "metadata": {}
                },
                {
                    "output_type": "execute_result",
                    "metadata": {},
                    "execution_count": 14,
                    "data": {
                        "application/vnd.dataresource+json": {
                            "schema": {
                                "fields": [
                                    {
                                        "name": "director"
                                    },
                                    {
                                        "name": "no_movie"
                                    },
                                    {
                                        "name": "rank"
                                    },
                                    {
                                        "name": "dense_rank"
                                    }
                                ]
                            },
                            "data": [
                                {
                                    "director": "Ron Clements",
                                    "no_movie": "7",
                                    "rank": "1",
                                    "dense_rank": "1"
                                },
                                {
                                    "director": "Wolfgang Reitherman",
                                    "no_movie": "7",
                                    "rank": "1",
                                    "dense_rank": "1"
                                },
                                {
                                    "director": "Jack Kinney",
                                    "no_movie": "4",
                                    "rank": "3",
                                    "dense_rank": "2"
                                },
                                {
                                    "director": "Clyde Geronimi",
                                    "no_movie": "3",
                                    "rank": "4",
                                    "dense_rank": "3"
                                },
                                {
                                    "director": "Gary Trousdale",
                                    "no_movie": "3",
                                    "rank": "4",
                                    "dense_rank": "3"
                                },
                                {
                                    "director": "full credits",
                                    "no_movie": "2",
                                    "rank": "6",
                                    "dense_rank": "4"
                                },
                                {
                                    "director": "Hamilton Luske",
                                    "no_movie": "2",
                                    "rank": "6",
                                    "dense_rank": "4"
                                },
                                {
                                    "director": "Stephen J. Anderson",
                                    "no_movie": "2",
                                    "rank": "6",
                                    "dense_rank": "4"
                                },
                                {
                                    "director": "David Hand",
                                    "no_movie": "2",
                                    "rank": "6",
                                    "dense_rank": "4"
                                },
                                {
                                    "director": "Chris Buck",
                                    "no_movie": "2",
                                    "rank": "6",
                                    "dense_rank": "4"
                                },
                                {
                                    "director": "Ben Sharpsteen",
                                    "no_movie": "2",
                                    "rank": "6",
                                    "dense_rank": "4"
                                },
                                {
                                    "director": "Mark Dindal",
                                    "no_movie": "2",
                                    "rank": "6",
                                    "dense_rank": "4"
                                },
                                {
                                    "director": "Mike Gabriel",
                                    "no_movie": "2",
                                    "rank": "6",
                                    "dense_rank": "4"
                                },
                                {
                                    "director": "Nathan Greno",
                                    "no_movie": "1",
                                    "rank": "14",
                                    "dense_rank": "5"
                                },
                                {
                                    "director": "Norman Ferguson",
                                    "no_movie": "1",
                                    "rank": "14",
                                    "dense_rank": "5"
                                },
                                {
                                    "director": "Ralph Zondag",
                                    "no_movie": "1",
                                    "rank": "14",
                                    "dense_rank": "5"
                                },
                                {
                                    "director": "Rich Moore",
                                    "no_movie": "1",
                                    "rank": "14",
                                    "dense_rank": "5"
                                },
                                {
                                    "director": "Robert Walker",
                                    "no_movie": "1",
                                    "rank": "14",
                                    "dense_rank": "5"
                                },
                                {
                                    "director": "Roger Allers",
                                    "no_movie": "1",
                                    "rank": "14",
                                    "dense_rank": "5"
                                },
                                {
                                    "director": "Byron Howard",
                                    "no_movie": "1",
                                    "rank": "14",
                                    "dense_rank": "5"
                                },
                                {
                                    "director": "Art Stevens",
                                    "no_movie": "1",
                                    "rank": "14",
                                    "dense_rank": "5"
                                },
                                {
                                    "director": "Barry Cook",
                                    "no_movie": "1",
                                    "rank": "14",
                                    "dense_rank": "5"
                                },
                                {
                                    "director": "Chris Sanders",
                                    "no_movie": "1",
                                    "rank": "14",
                                    "dense_rank": "5"
                                },
                                {
                                    "director": "Chris Williams",
                                    "no_movie": "1",
                                    "rank": "14",
                                    "dense_rank": "5"
                                },
                                {
                                    "director": "Don Hall",
                                    "no_movie": "1",
                                    "rank": "14",
                                    "dense_rank": "5"
                                },
                                {
                                    "director": "Ted Berman",
                                    "no_movie": "1",
                                    "rank": "14",
                                    "dense_rank": "5"
                                },
                                {
                                    "director": "Wilfred Jackson",
                                    "no_movie": "1",
                                    "rank": "14",
                                    "dense_rank": "5"
                                },
                                {
                                    "director": "Will Finn",
                                    "no_movie": "1",
                                    "rank": "14",
                                    "dense_rank": "5"
                                },
                                {
                                    "director": "George Scribner",
                                    "no_movie": "1",
                                    "rank": "14",
                                    "dense_rank": "5"
                                }
                            ]
                        },
                        "text/html": [
                            "<table>",
                            "<tr><th>director</th><th>no_movie</th><th>rank</th><th>dense_rank</th></tr>",
                            "<tr><td>Ron Clements</td><td>7</td><td>1</td><td>1</td></tr>",
                            "<tr><td>Wolfgang Reitherman</td><td>7</td><td>1</td><td>1</td></tr>",
                            "<tr><td>Jack Kinney</td><td>4</td><td>3</td><td>2</td></tr>",
                            "<tr><td>Clyde Geronimi</td><td>3</td><td>4</td><td>3</td></tr>",
                            "<tr><td>Gary Trousdale</td><td>3</td><td>4</td><td>3</td></tr>",
                            "<tr><td>full credits</td><td>2</td><td>6</td><td>4</td></tr>",
                            "<tr><td>Hamilton Luske</td><td>2</td><td>6</td><td>4</td></tr>",
                            "<tr><td>Stephen J. Anderson</td><td>2</td><td>6</td><td>4</td></tr>",
                            "<tr><td>David Hand</td><td>2</td><td>6</td><td>4</td></tr>",
                            "<tr><td>Chris Buck</td><td>2</td><td>6</td><td>4</td></tr>",
                            "<tr><td>Ben Sharpsteen</td><td>2</td><td>6</td><td>4</td></tr>",
                            "<tr><td>Mark Dindal</td><td>2</td><td>6</td><td>4</td></tr>",
                            "<tr><td>Mike Gabriel</td><td>2</td><td>6</td><td>4</td></tr>",
                            "<tr><td>Nathan Greno</td><td>1</td><td>14</td><td>5</td></tr>",
                            "<tr><td>Norman Ferguson</td><td>1</td><td>14</td><td>5</td></tr>",
                            "<tr><td>Ralph Zondag</td><td>1</td><td>14</td><td>5</td></tr>",
                            "<tr><td>Rich Moore</td><td>1</td><td>14</td><td>5</td></tr>",
                            "<tr><td>Robert Walker</td><td>1</td><td>14</td><td>5</td></tr>",
                            "<tr><td>Roger Allers</td><td>1</td><td>14</td><td>5</td></tr>",
                            "<tr><td>Byron Howard</td><td>1</td><td>14</td><td>5</td></tr>",
                            "<tr><td>Art Stevens</td><td>1</td><td>14</td><td>5</td></tr>",
                            "<tr><td>Barry Cook</td><td>1</td><td>14</td><td>5</td></tr>",
                            "<tr><td>Chris Sanders</td><td>1</td><td>14</td><td>5</td></tr>",
                            "<tr><td>Chris Williams</td><td>1</td><td>14</td><td>5</td></tr>",
                            "<tr><td>Don Hall</td><td>1</td><td>14</td><td>5</td></tr>",
                            "<tr><td>Ted Berman</td><td>1</td><td>14</td><td>5</td></tr>",
                            "<tr><td>Wilfred Jackson</td><td>1</td><td>14</td><td>5</td></tr>",
                            "<tr><td>Will Finn</td><td>1</td><td>14</td><td>5</td></tr>",
                            "<tr><td>George Scribner</td><td>1</td><td>14</td><td>5</td></tr>",
                            "</table>"
                        ]
                    }
                }
            ],
            "execution_count": 14
        }
    ]
}