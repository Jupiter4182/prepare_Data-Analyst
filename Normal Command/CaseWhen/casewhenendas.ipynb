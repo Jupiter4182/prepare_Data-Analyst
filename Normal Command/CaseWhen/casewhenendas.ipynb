{
    "metadata": {
        "kernelspec": {
            "name": "SQL",
            "display_name": "SQL",
            "language": "sql"
        },
        "language_info": {
            "name": "sql",
            "version": ""
        }
    },
    "nbformat_minor": 2,
    "nbformat": 4,
    "cells": [
        {
            "cell_type": "code",
            "source": [
                "select movie_title,mpaa_rating ,\r\n",
                "case mpaa_rating\r\n",
                "when 'G' then 'General'\r\n",
                "when 'PG' then 'Parental guidance'\r\n",
                "when 'pg' then 'Parental guidance-13'\r\n",
                "when 'R' then 'Restricted'\r\n",
                "-- else mpaa_rating\r\n",
                "end as rating\r\n",
                "from movie_gross"
            ],
            "metadata": {
                "azdata_cell_guid": "d21ca422-1bb7-4229-9460-775304f7395b",
                "language": "sql"
            },
            "outputs": [
                {
                    "output_type": "display_data",
                    "data": {
                        "text/html": "(579 rows affected)"
                    },
                    "metadata": {}
                },
                {
                    "output_type": "display_data",
                    "data": {
                        "text/html": "Total execution time: 00:00:00.011"
                    },
                    "metadata": {}
                },
                {
                    "output_type": "execute_result",
                    "metadata": {},
                    "execution_count": 5,
                    "data": {
                        "application/vnd.dataresource+json": {
                            "schema": {
                                "fields": [
                                    {
                                        "name": "movie_title"
                                    },
                                    {
                                        "name": "mpaa_rating"
                                    },
                                    {
                                        "name": "rating"
                                    }
                                ]
                            },
                            "data": [
                                {
                                    "movie_title": "Snow White and the Seven Dwarfs",
                                    "mpaa_rating": "G",
                                    "rating": "General"
                                },
                                {
                                    "movie_title": "Pinocchio",
                                    "mpaa_rating": "G",
                                    "rating": "General"
                                },
                                {
                                    "movie_title": "Fantasia",
                                    "mpaa_rating": "G",
                                    "rating": "General"
                                },
                                {
                                    "movie_title": "Song of the South",
                                    "mpaa_rating": "G",
                                    "rating": "General"
                                },
                                {
                                    "movie_title": "Cinderella",
                                    "mpaa_rating": "G",
                                    "rating": "General"
                                },
                                {
                                    "movie_title": "20,000 Leagues Under the Sea",
                                    "mpaa_rating": "NULL",
                                    "rating": "NULL"
                                },
                                {
                                    "movie_title": "Lady and the Tramp",
                                    "mpaa_rating": "G",
                                    "rating": "General"
                                },
                                {
                                    "movie_title": "Sleeping Beauty",
                                    "mpaa_rating": "NULL",
                                    "rating": "NULL"
                                },
                                {
                                    "movie_title": "101 Dalmatians",
                                    "mpaa_rating": "G",
                                    "rating": "General"
                                },
                                {
                                    "movie_title": "The Absent Minded Professor",
                                    "mpaa_rating": "NULL",
                                    "rating": "NULL"
                                },
                                {
                                    "movie_title": "Babes in Toyland",
                                    "mpaa_rating": "G",
                                    "rating": "General"
                                },
                                {
                                    "movie_title": "Bon Voyage!",
                                    "mpaa_rating": "Not Rated",
                                    "rating": "NULL"
                                },
                                {
                                    "movie_title": "The Sword in the Stone",
                                    "mpaa_rating": "NULL",
                                    "rating": "NULL"
                                },
                                {
                                    "movie_title": "The Jungle Book",
                                    "mpaa_rating": "Not Rated",
                                    "rating": "NULL"
                                },
                                {
                                    "movie_title": "Blackbeard's Ghost",
                                    "mpaa_rating": "NULL",
                                    "rating": "NULL"
                                },
                                {
                                    "movie_title": "The Aristocats",
                                    "mpaa_rating": "G",
                                    "rating": "General"
                                },
                                {
                                    "movie_title": "The Boatniks",
                                    "mpaa_rating": "NULL",
                                    "rating": "NULL"
                                },
                                {
                                    "movie_title": "Bedknobs and Broomsticks",
                                    "mpaa_rating": "NULL",
                                    "rating": "NULL"
                                },
                                {
                                    "movie_title": "The Apple Dumpling Gang",
                                    "mpaa_rating": "NULL",
                                    "rating": "NULL"
                                },
                                {
                                    "movie_title": "Freaky Friday",
                                    "mpaa_rating": "NULL",
                                    "rating": "NULL"
                                },
                                {
                                    "movie_title": "The Many Adventures of Winnie the Pooh",
                                    "mpaa_rating": "NULL",
                                    "rating": "NULL"
                                },
                                {
                                    "movie_title": "The Rescuers",
                                    "mpaa_rating": "NULL",
                                    "rating": "NULL"
                                },
                                {
                                    "movie_title": "Herbie Goes to Monte Carlo",
                                    "mpaa_rating": "NULL",
                                    "rating": "NULL"
                                },
                                {
                                    "movie_title": "The Black Hole",
                                    "mpaa_rating": "NULL",
                                    "rating": "NULL"
                                },
                                {
                                    "movie_title": "Midnight Madness",
                                    "mpaa_rating": "NULL",
                                    "rating": "NULL"
                                },
                                {
                                    "movie_title": "The Last Flight of Noah’s Ark",
                                    "mpaa_rating": "NULL",
                                    "rating": "NULL"
                                },
                                {
                                    "movie_title": "The Devil and Max Devlin",
                                    "mpaa_rating": "NULL",
                                    "rating": "NULL"
                                },
                                {
                                    "movie_title": "Amy",
                                    "mpaa_rating": "NULL",
                                    "rating": "NULL"
                                },
                                {
                                    "movie_title": "The Fox and the Hound",
                                    "mpaa_rating": "NULL",
                                    "rating": "NULL"
                                },
                                {
                                    "movie_title": "Condorman",
                                    "mpaa_rating": "NULL",
                                    "rating": "NULL"
                                },
                                {
                                    "movie_title": "Night Crossing",
                                    "mpaa_rating": "NULL",
                                    "rating": "NULL"
                                },
                                {
                                    "movie_title": "Tron",
                                    "mpaa_rating": "NULL",
                                    "rating": "NULL"
                                },
                                {
                                    "movie_title": "Tex",
                                    "mpaa_rating": "NULL",
                                    "rating": "NULL"
                                },
                                {
                                    "movie_title": "Trenchcoat",
                                    "mpaa_rating": "NULL",
                                    "rating": "NULL"
                                },
                                {
                                    "movie_title": "Something Wicked This Way Comes",
                                    "mpaa_rating": "NULL",
                                    "rating": "NULL"
                                },
                                {
                                    "movie_title": "Never Cry Wolf",
                                    "mpaa_rating": "NULL",
                                    "rating": "NULL"
                                },
                                {
                                    "movie_title": "Running Brave",
                                    "mpaa_rating": "NULL",
                                    "rating": "NULL"
                                },
                                {
                                    "movie_title": "Splash",
                                    "mpaa_rating": "PG",
                                    "rating": "Parental guidance"
                                },
                                {
                                    "movie_title": "Country",
                                    "mpaa_rating": "NULL",
                                    "rating": "NULL"
                                },
                                {
                                    "movie_title": "Baby: Secret of the Lost Legend",
                                    "mpaa_rating": "NULL",
                                    "rating": "NULL"
                                },
                                {
                                    "movie_title": "Return to Oz",
                                    "mpaa_rating": "NULL",
                                    "rating": "NULL"
                                },
                                {
                                    "movie_title": "The Black Cauldron",
                                    "mpaa_rating": "NULL",
                                    "rating": "NULL"
                                },
                                {
                                    "movie_title": "My Science Project",
                                    "mpaa_rating": "NULL",
                                    "rating": "NULL"
                                },
                                {
                                    "movie_title": "The Journey of Natty Gann",
                                    "mpaa_rating": "NULL",
                                    "rating": "NULL"
                                },
                                {
                                    "movie_title": "One Magic Christmas",
                                    "mpaa_rating": "NULL",
                                    "rating": "NULL"
                                },
                                {
                                    "movie_title": "Down and Out in Beverly Hills",
                                    "mpaa_rating": "R",
                                    "rating": "Restricted"
                                },
                                {
                                    "movie_title": "Off Beat",
                                    "mpaa_rating": "NULL",
                                    "rating": "NULL"
                                },
                                {
                                    "movie_title": "Ruthless People",
                                    "mpaa_rating": "R",
                                    "rating": "Restricted"
                                },
                                {
                                    "movie_title": "The Great Mouse Detective",
                                    "mpaa_rating": "NULL",
                                    "rating": "NULL"
                                },
                                {
                                    "movie_title": "Flight of the Navigator",
                                    "mpaa_rating": "NULL",
                                    "rating": "NULL"
                                },
                                {
                                    "movie_title": "Tough Guys",
                                    "mpaa_rating": "NULL",
                                    "rating": "NULL"
                                },
                                {
                                    "movie_title": "The Color of Money",
                                    "mpaa_rating": "R",
                                    "rating": "Restricted"
                                },
                                {
                                    "movie_title": "Outrageous Fortune",
                                    "mpaa_rating": "R",
                                    "rating": "Restricted"
                                },
                                {
                                    "movie_title": "Tin Men",
                                    "mpaa_rating": "NULL",
                                    "rating": "NULL"
                                },
                                {
                                    "movie_title": "Ernest Goes to Camp",
                                    "mpaa_rating": "NULL",
                                    "rating": "NULL"
                                },
                                {
                                    "movie_title": "Benji the Hunted",
                                    "mpaa_rating": "NULL",
                                    "rating": "NULL"
                                },
                                {
                                    "movie_title": "Adventures in Babysitting",
                                    "mpaa_rating": "NULL",
                                    "rating": "NULL"
                                },
                                {
                                    "movie_title": "Stakeout",
                                    "mpaa_rating": "R",
                                    "rating": "Restricted"
                                },
                                {
                                    "movie_title": "Can't Buy Me Love",
                                    "mpaa_rating": "NULL",
                                    "rating": "NULL"
                                },
                                {
                                    "movie_title": "Hello Again",
                                    "mpaa_rating": "NULL",
                                    "rating": "NULL"
                                },
                                {
                                    "movie_title": "3 Men and a Baby",
                                    "mpaa_rating": "PG",
                                    "rating": "Parental guidance"
                                },
                                {
                                    "movie_title": "Good Morning Vietnam",
                                    "mpaa_rating": "R",
                                    "rating": "Restricted"
                                },
                                {
                                    "movie_title": "Shoot to Kill",
                                    "mpaa_rating": "NULL",
                                    "rating": "NULL"
                                },
                                {
                                    "movie_title": "D.O.A.",
                                    "mpaa_rating": "NULL",
                                    "rating": "NULL"
                                },
                                {
                                    "movie_title": "Return to Snowy River",
                                    "mpaa_rating": "PG",
                                    "rating": "Parental guidance"
                                },
                                {
                                    "movie_title": "Big Business",
                                    "mpaa_rating": "PG",
                                    "rating": "Parental guidance"
                                },
                                {
                                    "movie_title": "Who Framed Roger Rabbit?",
                                    "mpaa_rating": "PG",
                                    "rating": "Parental guidance"
                                },
                                {
                                    "movie_title": "Cocktail",
                                    "mpaa_rating": "R",
                                    "rating": "Restricted"
                                },
                                {
                                    "movie_title": "The Rescue",
                                    "mpaa_rating": "NULL",
                                    "rating": "NULL"
                                },
                                {
                                    "movie_title": "Heartbreak Hotel",
                                    "mpaa_rating": "NULL",
                                    "rating": "NULL"
                                },
                                {
                                    "movie_title": "The Good Mother",
                                    "mpaa_rating": "NULL",
                                    "rating": "NULL"
                                },
                                {
                                    "movie_title": "Ernest Saves Christmas",
                                    "mpaa_rating": "PG",
                                    "rating": "Parental guidance"
                                },
                                {
                                    "movie_title": "Oliver & Company",
                                    "mpaa_rating": "G",
                                    "rating": "General"
                                },
                                {
                                    "movie_title": "Beaches",
                                    "mpaa_rating": "PG-13",
                                    "rating": "NULL"
                                },
                                {
                                    "movie_title": "Three Fugitives",
                                    "mpaa_rating": "PG-13",
                                    "rating": "NULL"
                                },
                                {
                                    "movie_title": "New York Stories",
                                    "mpaa_rating": "PG",
                                    "rating": "Parental guidance"
                                },
                                {
                                    "movie_title": "Disorganized Crime",
                                    "mpaa_rating": "NULL",
                                    "rating": "NULL"
                                },
                                {
                                    "movie_title": "Dead Poets Society",
                                    "mpaa_rating": "PG",
                                    "rating": "Parental guidance"
                                },
                                {
                                    "movie_title": "Honey, I Shrunk the Kids",
                                    "mpaa_rating": "PG",
                                    "rating": "Parental guidance"
                                },
                                {
                                    "movie_title": "Turner & Hooch",
                                    "mpaa_rating": "PG",
                                    "rating": "Parental guidance"
                                },
                                {
                                    "movie_title": "Cheetah",
                                    "mpaa_rating": "NULL",
                                    "rating": "NULL"
                                },
                                {
                                    "movie_title": "An Innocent Man",
                                    "mpaa_rating": "R",
                                    "rating": "Restricted"
                                },
                                {
                                    "movie_title": "Gross Anatomy",
                                    "mpaa_rating": "PG-13",
                                    "rating": "NULL"
                                },
                                {
                                    "movie_title": "The Little Mermaid",
                                    "mpaa_rating": "G",
                                    "rating": "General"
                                },
                                {
                                    "movie_title": "Blaze",
                                    "mpaa_rating": "R",
                                    "rating": "Restricted"
                                },
                                {
                                    "movie_title": "Stella",
                                    "mpaa_rating": "PG-13",
                                    "rating": "NULL"
                                },
                                {
                                    "movie_title": "Where the Heart Is",
                                    "mpaa_rating": "NULL",
                                    "rating": "NULL"
                                },
                                {
                                    "movie_title": "Pretty Woman",
                                    "mpaa_rating": "R",
                                    "rating": "Restricted"
                                },
                                {
                                    "movie_title": "Ernest Goes to Jail",
                                    "mpaa_rating": "PG",
                                    "rating": "Parental guidance"
                                },
                                {
                                    "movie_title": "Spaced Invaders",
                                    "mpaa_rating": "PG",
                                    "rating": "Parental guidance"
                                },
                                {
                                    "movie_title": "Fire Birds",
                                    "mpaa_rating": "PG-13",
                                    "rating": "NULL"
                                },
                                {
                                    "movie_title": "Dick Tracy",
                                    "mpaa_rating": "PG",
                                    "rating": "Parental guidance"
                                },
                                {
                                    "movie_title": "Betsy's Wedding",
                                    "mpaa_rating": "R",
                                    "rating": "Restricted"
                                },
                                {
                                    "movie_title": "Arachnophobia",
                                    "mpaa_rating": "PG-13",
                                    "rating": "NULL"
                                },
                                {
                                    "movie_title": "DuckTales: The Movie - Treasure of th…",
                                    "mpaa_rating": "G",
                                    "rating": "General"
                                },
                                {
                                    "movie_title": "Taking Care of Business",
                                    "mpaa_rating": "R",
                                    "rating": "Restricted"
                                },
                                {
                                    "movie_title": "Mr. Destiny",
                                    "mpaa_rating": "PG-13",
                                    "rating": "NULL"
                                },
                                {
                                    "movie_title": "The Rescuers Down Under",
                                    "mpaa_rating": "G",
                                    "rating": "General"
                                },
                                {
                                    "movie_title": "3 Men and a Little Lady",
                                    "mpaa_rating": "PG",
                                    "rating": "Parental guidance"
                                },
                                {
                                    "movie_title": "Green Card",
                                    "mpaa_rating": "PG-13",
                                    "rating": "NULL"
                                },
                                {
                                    "movie_title": "White Fang",
                                    "mpaa_rating": "PG",
                                    "rating": "Parental guidance"
                                },
                                {
                                    "movie_title": "Scenes from a Mall",
                                    "mpaa_rating": "NULL",
                                    "rating": "NULL"
                                },
                                {
                                    "movie_title": "Haakon Haakonsen",
                                    "mpaa_rating": "PG",
                                    "rating": "Parental guidance"
                                },
                                {
                                    "movie_title": "The Marrying Man",
                                    "mpaa_rating": "R",
                                    "rating": "Restricted"
                                },
                                {
                                    "movie_title": "Oscar",
                                    "mpaa_rating": "PG",
                                    "rating": "Parental guidance"
                                },
                                {
                                    "movie_title": "One Good Cop",
                                    "mpaa_rating": "R",
                                    "rating": "Restricted"
                                },
                                {
                                    "movie_title": "What About Bob?",
                                    "mpaa_rating": "PG",
                                    "rating": "Parental guidance"
                                },
                                {
                                    "movie_title": "Wild Hearts Can't Be Broken",
                                    "mpaa_rating": "NULL",
                                    "rating": "NULL"
                                },
                                {
                                    "movie_title": "The Rocketeer",
                                    "mpaa_rating": "PG",
                                    "rating": "Parental guidance"
                                },
                                {
                                    "movie_title": "The Doctor",
                                    "mpaa_rating": "PG-13",
                                    "rating": "NULL"
                                },
                                {
                                    "movie_title": "Paradise",
                                    "mpaa_rating": "PG-13",
                                    "rating": "NULL"
                                },
                                {
                                    "movie_title": "Deceived",
                                    "mpaa_rating": "PG-13",
                                    "rating": "NULL"
                                },
                                {
                                    "movie_title": "Ernest Scared Stupid",
                                    "mpaa_rating": "PG",
                                    "rating": "Parental guidance"
                                },
                                {
                                    "movie_title": "Billy Bathgate",
                                    "mpaa_rating": "R",
                                    "rating": "Restricted"
                                },
                                {
                                    "movie_title": "Beauty and the Beast",
                                    "mpaa_rating": "G",
                                    "rating": "General"
                                },
                                {
                                    "movie_title": "Father of the Bride",
                                    "mpaa_rating": "PG",
                                    "rating": "Parental guidance"
                                },
                                {
                                    "movie_title": "The Hand That Rocks the Cradle",
                                    "mpaa_rating": "R",
                                    "rating": "Restricted"
                                },
                                {
                                    "movie_title": "Medicine Man",
                                    "mpaa_rating": "PG-13",
                                    "rating": "NULL"
                                },
                                {
                                    "movie_title": "Blame it on the Bellboy",
                                    "mpaa_rating": "PG-13",
                                    "rating": "NULL"
                                },
                                {
                                    "movie_title": "Noises Off...",
                                    "mpaa_rating": "PG-13",
                                    "rating": "NULL"
                                },
                                {
                                    "movie_title": "Straight Talk",
                                    "mpaa_rating": "PG",
                                    "rating": "Parental guidance"
                                },
                                {
                                    "movie_title": "Newsies",
                                    "mpaa_rating": "PG",
                                    "rating": "Parental guidance"
                                },
                                {
                                    "movie_title": "Passed Away",
                                    "mpaa_rating": "PG-13",
                                    "rating": "NULL"
                                },
                                {
                                    "movie_title": "Encino Man",
                                    "mpaa_rating": "PG",
                                    "rating": "Parental guidance"
                                },
                                {
                                    "movie_title": "Sister Act",
                                    "mpaa_rating": "PG",
                                    "rating": "Parental guidance"
                                },
                                {
                                    "movie_title": "Honey I Blew Up the Kid",
                                    "mpaa_rating": "PG",
                                    "rating": "Parental guidance"
                                },
                                {
                                    "movie_title": "A Stranger Among Us",
                                    "mpaa_rating": "PG-13",
                                    "rating": "NULL"
                                },
                                {
                                    "movie_title": "3 Ninjas",
                                    "mpaa_rating": "PG",
                                    "rating": "Parental guidance"
                                },
                                {
                                    "movie_title": "A Gun in Betty Lou's Handbag",
                                    "mpaa_rating": "PG-13",
                                    "rating": "NULL"
                                },
                                {
                                    "movie_title": "Captain Ron",
                                    "mpaa_rating": "PG-13",
                                    "rating": "NULL"
                                },
                                {
                                    "movie_title": "Sarafina!",
                                    "mpaa_rating": "PG-13",
                                    "rating": "NULL"
                                },
                                {
                                    "movie_title": "Innocent Blood",
                                    "mpaa_rating": "R",
                                    "rating": "Restricted"
                                },
                                {
                                    "movie_title": "The Mighty Ducks",
                                    "mpaa_rating": "PG",
                                    "rating": "Parental guidance"
                                },
                                {
                                    "movie_title": "1492: Conquest of Paradise",
                                    "mpaa_rating": "PG-13",
                                    "rating": "NULL"
                                },
                                {
                                    "movie_title": "Consenting Adults",
                                    "mpaa_rating": "R",
                                    "rating": "Restricted"
                                },
                                {
                                    "movie_title": "Aladdin",
                                    "mpaa_rating": "G",
                                    "rating": "General"
                                },
                                {
                                    "movie_title": "The Distinguished Gentleman",
                                    "mpaa_rating": "R",
                                    "rating": "Restricted"
                                },
                                {
                                    "movie_title": "The Muppet Christmas Carol",
                                    "mpaa_rating": "G",
                                    "rating": "General"
                                },
                                {
                                    "movie_title": "Alive",
                                    "mpaa_rating": "R",
                                    "rating": "Restricted"
                                },
                                {
                                    "movie_title": "Aspen Extreme",
                                    "mpaa_rating": "PG-13",
                                    "rating": "NULL"
                                },
                                {
                                    "movie_title": "Homeward Bound: The Incredible Journey",
                                    "mpaa_rating": "G",
                                    "rating": "General"
                                },
                                {
                                    "movie_title": "The Cemetery Club",
                                    "mpaa_rating": "PG-13",
                                    "rating": "NULL"
                                },
                                {
                                    "movie_title": "Swing Kids",
                                    "mpaa_rating": "PG-13",
                                    "rating": "NULL"
                                },
                                {
                                    "movie_title": "A Far Off Place",
                                    "mpaa_rating": "PG",
                                    "rating": "Parental guidance"
                                },
                                {
                                    "movie_title": "Born Yesterday",
                                    "mpaa_rating": "PG",
                                    "rating": "Parental guidance"
                                },
                                {
                                    "movie_title": "The Adventures of Huck Finn",
                                    "mpaa_rating": "PG",
                                    "rating": "Parental guidance"
                                },
                                {
                                    "movie_title": "Bound by Honor",
                                    "mpaa_rating": "R",
                                    "rating": "Restricted"
                                },
                                {
                                    "movie_title": "Indian Summer",
                                    "mpaa_rating": "R",
                                    "rating": "Restricted"
                                },
                                {
                                    "movie_title": "Super Mario Bros.",
                                    "mpaa_rating": "PG",
                                    "rating": "Parental guidance"
                                },
                                {
                                    "movie_title": "Guilty as Sin",
                                    "mpaa_rating": "R",
                                    "rating": "Restricted"
                                },
                                {
                                    "movie_title": "Life With Mikey",
                                    "mpaa_rating": "PG",
                                    "rating": "Parental guidance"
                                },
                                {
                                    "movie_title": "What's Love Got to Do With It",
                                    "mpaa_rating": "R",
                                    "rating": "Restricted"
                                },
                                {
                                    "movie_title": "Son in Law",
                                    "mpaa_rating": "PG-13",
                                    "rating": "NULL"
                                },
                                {
                                    "movie_title": "Hocus Pocus",
                                    "mpaa_rating": "PG",
                                    "rating": "Parental guidance"
                                },
                                {
                                    "movie_title": "Another Stakeout",
                                    "mpaa_rating": "PG-13",
                                    "rating": "NULL"
                                },
                                {
                                    "movie_title": "My Boyfriend's Back",
                                    "mpaa_rating": "PG-13",
                                    "rating": "NULL"
                                },
                                {
                                    "movie_title": "Father Hood",
                                    "mpaa_rating": "PG-13",
                                    "rating": "NULL"
                                },
                                {
                                    "movie_title": "The Joy Luck Club",
                                    "mpaa_rating": "R",
                                    "rating": "Restricted"
                                },
                                {
                                    "movie_title": "Money for Nothing",
                                    "mpaa_rating": "R",
                                    "rating": "Restricted"
                                },
                                {
                                    "movie_title": "The Program",
                                    "mpaa_rating": "R",
                                    "rating": "Restricted"
                                },
                                {
                                    "movie_title": "Cool Runnings",
                                    "mpaa_rating": "PG",
                                    "rating": "Parental guidance"
                                },
                                {
                                    "movie_title": "The Nightmare Before Christmas",
                                    "mpaa_rating": "PG",
                                    "rating": "Parental guidance"
                                },
                                {
                                    "movie_title": "The Three Musketeers",
                                    "mpaa_rating": "PG",
                                    "rating": "Parental guidance"
                                },
                                {
                                    "movie_title": "Sister Act 2 Back in the Habit",
                                    "mpaa_rating": "PG",
                                    "rating": "Parental guidance"
                                },
                                {
                                    "movie_title": "Tombstone",
                                    "mpaa_rating": "R",
                                    "rating": "Restricted"
                                },
                                {
                                    "movie_title": "The Air Up There",
                                    "mpaa_rating": "PG",
                                    "rating": "Parental guidance"
                                },
                                {
                                    "movie_title": "Cabin Boy",
                                    "mpaa_rating": "PG-13",
                                    "rating": "NULL"
                                },
                                {
                                    "movie_title": "Iron Will",
                                    "mpaa_rating": "PG",
                                    "rating": "Parental guidance"
                                },
                                {
                                    "movie_title": "Red Rock West",
                                    "mpaa_rating": "R",
                                    "rating": "Restricted"
                                },
                                {
                                    "movie_title": "Blank Check",
                                    "mpaa_rating": "PG",
                                    "rating": "Parental guidance"
                                },
                                {
                                    "movie_title": "Angie",
                                    "mpaa_rating": "R",
                                    "rating": "Restricted"
                                },
                                {
                                    "movie_title": "The Ref",
                                    "mpaa_rating": "R",
                                    "rating": "Restricted"
                                },
                                {
                                    "movie_title": "D2: The Mighty Ducks",
                                    "mpaa_rating": "PG",
                                    "rating": "Parental guidance"
                                },
                                {
                                    "movie_title": "Holy Matrimony",
                                    "mpaa_rating": "NULL",
                                    "rating": "NULL"
                                },
                                {
                                    "movie_title": "White Fang 2: Myth of the White Wolf",
                                    "mpaa_rating": "PG",
                                    "rating": "Parental guidance"
                                },
                                {
                                    "movie_title": "The Inkwell",
                                    "mpaa_rating": "R",
                                    "rating": "Restricted"
                                },
                                {
                                    "movie_title": "When a Man Loves a Woman",
                                    "mpaa_rating": "R",
                                    "rating": "Restricted"
                                },
                                {
                                    "movie_title": "3 Ninjas Kick Back",
                                    "mpaa_rating": "PG",
                                    "rating": "Parental guidance"
                                },
                                {
                                    "movie_title": "Renaissance Man",
                                    "mpaa_rating": "PG-13",
                                    "rating": "NULL"
                                },
                                {
                                    "movie_title": "The Lion King",
                                    "mpaa_rating": "G",
                                    "rating": "General"
                                },
                                {
                                    "movie_title": "I Love Trouble",
                                    "mpaa_rating": "PG",
                                    "rating": "Parental guidance"
                                },
                                {
                                    "movie_title": "Angels in the Outfield",
                                    "mpaa_rating": "PG",
                                    "rating": "Parental guidance"
                                },
                                {
                                    "movie_title": "In the Army Now",
                                    "mpaa_rating": "PG",
                                    "rating": "Parental guidance"
                                },
                                {
                                    "movie_title": "Color of Night",
                                    "mpaa_rating": "R",
                                    "rating": "Restricted"
                                },
                                {
                                    "movie_title": "Camp Nowhere",
                                    "mpaa_rating": "PG",
                                    "rating": "Parental guidance"
                                },
                                {
                                    "movie_title": "It's Pat",
                                    "mpaa_rating": "NULL",
                                    "rating": "NULL"
                                },
                                {
                                    "movie_title": "A Simple Twist of Fate",
                                    "mpaa_rating": "PG-13",
                                    "rating": "NULL"
                                },
                                {
                                    "movie_title": "Quiz Show",
                                    "mpaa_rating": "PG-13",
                                    "rating": "NULL"
                                },
                                {
                                    "movie_title": "Terminal Velocity",
                                    "mpaa_rating": "PG-13",
                                    "rating": "NULL"
                                },
                                {
                                    "movie_title": "Ed Wood",
                                    "mpaa_rating": "R",
                                    "rating": "Restricted"
                                },
                                {
                                    "movie_title": "The Puppet Masters",
                                    "mpaa_rating": "R",
                                    "rating": "Restricted"
                                },
                                {
                                    "movie_title": "Squanto: A Warrior's Tale",
                                    "mpaa_rating": "PG",
                                    "rating": "Parental guidance"
                                },
                                {
                                    "movie_title": "The Santa Clause",
                                    "mpaa_rating": "PG",
                                    "rating": "Parental guidance"
                                },
                                {
                                    "movie_title": "A Low Down Dirty Shame",
                                    "mpaa_rating": "R",
                                    "rating": "Restricted"
                                },
                                {
                                    "movie_title": "The Jungle Book",
                                    "mpaa_rating": "PG",
                                    "rating": "Parental guidance"
                                },
                                {
                                    "movie_title": "Houseguest",
                                    "mpaa_rating": "PG",
                                    "rating": "Parental guidance"
                                },
                                {
                                    "movie_title": "Bad Company",
                                    "mpaa_rating": "R",
                                    "rating": "Restricted"
                                },
                                {
                                    "movie_title": "Miami Rhapsody",
                                    "mpaa_rating": "PG-13",
                                    "rating": "NULL"
                                },
                                {
                                    "movie_title": "The Jerky Boys",
                                    "mpaa_rating": "R",
                                    "rating": "Restricted"
                                },
                                {
                                    "movie_title": "Heavy Weights",
                                    "mpaa_rating": "PG",
                                    "rating": "Parental guidance"
                                },
                                {
                                    "movie_title": "Man of the House",
                                    "mpaa_rating": "PG",
                                    "rating": "Parental guidance"
                                },
                                {
                                    "movie_title": "Roommates",
                                    "mpaa_rating": "PG",
                                    "rating": "Parental guidance"
                                },
                                {
                                    "movie_title": "Tall Tale",
                                    "mpaa_rating": "PG",
                                    "rating": "Parental guidance"
                                },
                                {
                                    "movie_title": "A Pyromaniac's Love Story",
                                    "mpaa_rating": "PG",
                                    "rating": "Parental guidance"
                                },
                                {
                                    "movie_title": "Jefferson in Paris",
                                    "mpaa_rating": "PG-13",
                                    "rating": "NULL"
                                },
                                {
                                    "movie_title": "Funny Bones",
                                    "mpaa_rating": "R",
                                    "rating": "Restricted"
                                },
                                {
                                    "movie_title": "A Goofy Movie",
                                    "mpaa_rating": "G",
                                    "rating": "General"
                                },
                                {
                                    "movie_title": "While You Were Sleeping",
                                    "mpaa_rating": "PG",
                                    "rating": "Parental guidance"
                                },
                                {
                                    "movie_title": "Crimson Tide",
                                    "mpaa_rating": "R",
                                    "rating": "Restricted"
                                },
                                {
                                    "movie_title": "Mad Love",
                                    "mpaa_rating": "PG-13",
                                    "rating": "NULL"
                                },
                                {
                                    "movie_title": "Pocahontas",
                                    "mpaa_rating": "G",
                                    "rating": "General"
                                },
                                {
                                    "movie_title": "Judge Dredd",
                                    "mpaa_rating": "R",
                                    "rating": "Restricted"
                                },
                                {
                                    "movie_title": "Operation Dumbo Drop",
                                    "mpaa_rating": "PG",
                                    "rating": "Parental guidance"
                                },
                                {
                                    "movie_title": "Dangerous Minds",
                                    "mpaa_rating": "R",
                                    "rating": "Restricted"
                                },
                                {
                                    "movie_title": "A Kid in King Arthur's Court",
                                    "mpaa_rating": "PG",
                                    "rating": "Parental guidance"
                                },
                                {
                                    "movie_title": "The Tie That Binds",
                                    "mpaa_rating": "R",
                                    "rating": "Restricted"
                                },
                                {
                                    "movie_title": "Unstrung Heroes",
                                    "mpaa_rating": "PG",
                                    "rating": "Parental guidance"
                                },
                                {
                                    "movie_title": "The Big Green",
                                    "mpaa_rating": "PG",
                                    "rating": "Parental guidance"
                                },
                                {
                                    "movie_title": "Dead Presidents",
                                    "mpaa_rating": "R",
                                    "rating": "Restricted"
                                },
                                {
                                    "movie_title": "The Scarlet Letter",
                                    "mpaa_rating": "R",
                                    "rating": "Restricted"
                                },
                                {
                                    "movie_title": "Feast of July",
                                    "mpaa_rating": "R",
                                    "rating": "Restricted"
                                },
                                {
                                    "movie_title": "Powder",
                                    "mpaa_rating": "PG-13",
                                    "rating": "NULL"
                                },
                                {
                                    "movie_title": "Toy Story",
                                    "mpaa_rating": "G",
                                    "rating": "General"
                                },
                                {
                                    "movie_title": "Father of the Bride Part II",
                                    "mpaa_rating": "PG",
                                    "rating": "Parental guidance"
                                },
                                {
                                    "movie_title": "Nixon",
                                    "mpaa_rating": "R",
                                    "rating": "Restricted"
                                },
                                {
                                    "movie_title": "Tom and Huck",
                                    "mpaa_rating": "PG",
                                    "rating": "Parental guidance"
                                },
                                {
                                    "movie_title": "Mr. Holland's Opus",
                                    "mpaa_rating": "PG",
                                    "rating": "Parental guidance"
                                },
                                {
                                    "movie_title": "White Squall",
                                    "mpaa_rating": "PG-13",
                                    "rating": "NULL"
                                },
                                {
                                    "movie_title": "Muppet Treasure Island",
                                    "mpaa_rating": "G",
                                    "rating": "General"
                                },
                                {
                                    "movie_title": "Mr. Wrong",
                                    "mpaa_rating": "PG-13",
                                    "rating": "NULL"
                                },
                                {
                                    "movie_title": "Before and After",
                                    "mpaa_rating": "PG-13",
                                    "rating": "NULL"
                                },
                                {
                                    "movie_title": "Up Close & Personal",
                                    "mpaa_rating": "PG-13",
                                    "rating": "NULL"
                                },
                                {
                                    "movie_title": "Homeward Bound II: Lost in San Franc…",
                                    "mpaa_rating": "G",
                                    "rating": "General"
                                },
                                {
                                    "movie_title": "Two Much",
                                    "mpaa_rating": "PG-13",
                                    "rating": "NULL"
                                },
                                {
                                    "movie_title": "Un indien dans la ville",
                                    "mpaa_rating": "PG",
                                    "rating": "Parental guidance"
                                },
                                {
                                    "movie_title": "James and the Giant Peach",
                                    "mpaa_rating": "PG",
                                    "rating": "Parental guidance"
                                },
                                {
                                    "movie_title": "Celtic Pride",
                                    "mpaa_rating": "PG-13",
                                    "rating": "NULL"
                                },
                                {
                                    "movie_title": "Last Dance",
                                    "mpaa_rating": "R",
                                    "rating": "Restricted"
                                },
                                {
                                    "movie_title": "Boys",
                                    "mpaa_rating": "PG-13",
                                    "rating": "NULL"
                                },
                                {
                                    "movie_title": "Spy Hard",
                                    "mpaa_rating": "PG-13",
                                    "rating": "NULL"
                                },
                                {
                                    "movie_title": "Eddie",
                                    "mpaa_rating": "PG-13",
                                    "rating": "NULL"
                                },
                                {
                                    "movie_title": "The Rock",
                                    "mpaa_rating": "R",
                                    "rating": "Restricted"
                                },
                                {
                                    "movie_title": "The Hunchback of Notre Dame",
                                    "mpaa_rating": "G",
                                    "rating": "General"
                                },
                                {
                                    "movie_title": "Phenomenon",
                                    "mpaa_rating": "PG",
                                    "rating": "Parental guidance"
                                },
                                {
                                    "movie_title": "Kazaam",
                                    "mpaa_rating": "PG",
                                    "rating": "Parental guidance"
                                },
                                {
                                    "movie_title": "Jack",
                                    "mpaa_rating": "PG-13",
                                    "rating": "NULL"
                                },
                                {
                                    "movie_title": "First Kid",
                                    "mpaa_rating": "PG",
                                    "rating": "Parental guidance"
                                },
                                {
                                    "movie_title": "The Rich Man's Wife",
                                    "mpaa_rating": "R",
                                    "rating": "Restricted"
                                },
                                {
                                    "movie_title": "D3: The Mighty Ducks",
                                    "mpaa_rating": "PG",
                                    "rating": "Parental guidance"
                                },
                                {
                                    "movie_title": "The Associate",
                                    "mpaa_rating": "PG-13",
                                    "rating": "NULL"
                                },
                                {
                                    "movie_title": "Ransom",
                                    "mpaa_rating": "R",
                                    "rating": "Restricted"
                                },
                                {
                                    "movie_title": "The War at Home",
                                    "mpaa_rating": "R",
                                    "rating": "Restricted"
                                },
                                {
                                    "movie_title": "101 Dalmatians",
                                    "mpaa_rating": "G",
                                    "rating": "General"
                                },
                                {
                                    "movie_title": "The Preacher's Wife",
                                    "mpaa_rating": "PG",
                                    "rating": "Parental guidance"
                                },
                                {
                                    "movie_title": "Evita",
                                    "mpaa_rating": "PG",
                                    "rating": "Parental guidance"
                                },
                                {
                                    "movie_title": "Metro",
                                    "mpaa_rating": "R",
                                    "rating": "Restricted"
                                },
                                {
                                    "movie_title": "Prefontaine",
                                    "mpaa_rating": "PG-13",
                                    "rating": "NULL"
                                },
                                {
                                    "movie_title": "Shadow Conspiracy",
                                    "mpaa_rating": "R",
                                    "rating": "Restricted"
                                },
                                {
                                    "movie_title": "That Darn Cat",
                                    "mpaa_rating": "PG",
                                    "rating": "Parental guidance"
                                },
                                {
                                    "movie_title": "Jungle 2 Jungle",
                                    "mpaa_rating": "PG",
                                    "rating": "Parental guidance"
                                },
                                {
                                    "movie_title": "The Sixth Man",
                                    "mpaa_rating": "PG-13",
                                    "rating": "NULL"
                                },
                                {
                                    "movie_title": "Grosse Pointe Blank",
                                    "mpaa_rating": "R",
                                    "rating": "Restricted"
                                },
                                {
                                    "movie_title": "Romy and Michele's High School Reunion",
                                    "mpaa_rating": "R",
                                    "rating": "Restricted"
                                },
                                {
                                    "movie_title": "Gone Fishin'",
                                    "mpaa_rating": "PG",
                                    "rating": "Parental guidance"
                                },
                                {
                                    "movie_title": "Con Air",
                                    "mpaa_rating": "R",
                                    "rating": "Restricted"
                                },
                                {
                                    "movie_title": "Hercules",
                                    "mpaa_rating": "G",
                                    "rating": "General"
                                },
                                {
                                    "movie_title": "George Of The Jungle",
                                    "mpaa_rating": "PG",
                                    "rating": "Parental guidance"
                                },
                                {
                                    "movie_title": "Nothing To Lose",
                                    "mpaa_rating": "R",
                                    "rating": "Restricted"
                                },
                                {
                                    "movie_title": "Air Bud",
                                    "mpaa_rating": "PG",
                                    "rating": "Parental guidance"
                                },
                                {
                                    "movie_title": "G.I. Jane",
                                    "mpaa_rating": "R",
                                    "rating": "Restricted"
                                },
                                {
                                    "movie_title": "A Thousand Acres",
                                    "mpaa_rating": "R",
                                    "rating": "Restricted"
                                },
                                {
                                    "movie_title": "Washington Square",
                                    "mpaa_rating": "PG",
                                    "rating": "Parental guidance"
                                },
                                {
                                    "movie_title": "Rocket Man",
                                    "mpaa_rating": "PG",
                                    "rating": "Parental guidance"
                                },
                                {
                                    "movie_title": "Playing God",
                                    "mpaa_rating": "R",
                                    "rating": "Restricted"
                                },
                                {
                                    "movie_title": "Flubber",
                                    "mpaa_rating": "PG",
                                    "rating": "Parental guidance"
                                },
                                {
                                    "movie_title": "An American Werewolf in Paris",
                                    "mpaa_rating": "R",
                                    "rating": "Restricted"
                                },
                                {
                                    "movie_title": "Mr. Magoo",
                                    "mpaa_rating": "PG",
                                    "rating": "Parental guidance"
                                },
                                {
                                    "movie_title": "Kundun",
                                    "mpaa_rating": "PG-13",
                                    "rating": "NULL"
                                },
                                {
                                    "movie_title": "Deep Rising",
                                    "mpaa_rating": "R",
                                    "rating": "Restricted"
                                },
                                {
                                    "movie_title": "Krippendorf's Tribe",
                                    "mpaa_rating": "PG-13",
                                    "rating": "NULL"
                                },
                                {
                                    "movie_title": "An Alan Smithee Film: Burn Hollywood …",
                                    "mpaa_rating": "R",
                                    "rating": "Restricted"
                                },
                                {
                                    "movie_title": "Meet the Deedles",
                                    "mpaa_rating": "PG",
                                    "rating": "Parental guidance"
                                },
                                {
                                    "movie_title": "He Got Game",
                                    "mpaa_rating": "R",
                                    "rating": "Restricted"
                                },
                                {
                                    "movie_title": "The Horse Whisperer",
                                    "mpaa_rating": "PG-13",
                                    "rating": "NULL"
                                },
                                {
                                    "movie_title": "Six Days, Seven Nights",
                                    "mpaa_rating": "PG-13",
                                    "rating": "NULL"
                                },
                                {
                                    "movie_title": "Mulan",
                                    "mpaa_rating": "G",
                                    "rating": "General"
                                },
                                {
                                    "movie_title": "Armageddon",
                                    "mpaa_rating": "PG-13",
                                    "rating": "NULL"
                                },
                                {
                                    "movie_title": "Jane Austen's Mafia",
                                    "mpaa_rating": "PG-13",
                                    "rating": "NULL"
                                },
                                {
                                    "movie_title": "The Parent Trap",
                                    "mpaa_rating": "PG",
                                    "rating": "Parental guidance"
                                },
                                {
                                    "movie_title": "Firelight",
                                    "mpaa_rating": "R",
                                    "rating": "Restricted"
                                },
                                {
                                    "movie_title": "Simon Birch",
                                    "mpaa_rating": "PG",
                                    "rating": "Parental guidance"
                                },
                                {
                                    "movie_title": "Holy Man",
                                    "mpaa_rating": "PG",
                                    "rating": "Parental guidance"
                                },
                                {
                                    "movie_title": "Beloved",
                                    "mpaa_rating": "R",
                                    "rating": "Restricted"
                                },
                                {
                                    "movie_title": "The Waterboy",
                                    "mpaa_rating": "PG-13",
                                    "rating": "NULL"
                                },
                                {
                                    "movie_title": "I'll Be Home For Christmas",
                                    "mpaa_rating": "PG",
                                    "rating": "Parental guidance"
                                },
                                {
                                    "movie_title": "A Bug's Life",
                                    "mpaa_rating": "G",
                                    "rating": "General"
                                },
                                {
                                    "movie_title": "Enemy of the State",
                                    "mpaa_rating": "R",
                                    "rating": "Restricted"
                                },
                                {
                                    "movie_title": "Rushmore",
                                    "mpaa_rating": "R",
                                    "rating": "Restricted"
                                },
                                {
                                    "movie_title": "A Civil Action",
                                    "mpaa_rating": "PG-13",
                                    "rating": "NULL"
                                },
                                {
                                    "movie_title": "Mighty Joe Young",
                                    "mpaa_rating": "PG",
                                    "rating": "Parental guidance"
                                },
                                {
                                    "movie_title": "My Favorite Martian",
                                    "mpaa_rating": "PG",
                                    "rating": "Parental guidance"
                                },
                                {
                                    "movie_title": "The Other Sister",
                                    "mpaa_rating": "PG-13",
                                    "rating": "NULL"
                                },
                                {
                                    "movie_title": "Doug's 1st Movie",
                                    "mpaa_rating": "G",
                                    "rating": "General"
                                },
                                {
                                    "movie_title": "Ten Things I Hate About You",
                                    "mpaa_rating": "PG-13",
                                    "rating": "NULL"
                                },
                                {
                                    "movie_title": "Endurance",
                                    "mpaa_rating": "PG",
                                    "rating": "Parental guidance"
                                },
                                {
                                    "movie_title": "Instinct",
                                    "mpaa_rating": "R",
                                    "rating": "Restricted"
                                },
                                {
                                    "movie_title": "Tarzan",
                                    "mpaa_rating": "G",
                                    "rating": "General"
                                },
                                {
                                    "movie_title": "Summer of Sam",
                                    "mpaa_rating": "R",
                                    "rating": "Restricted"
                                },
                                {
                                    "movie_title": "Inspector Gadget",
                                    "mpaa_rating": "PG",
                                    "rating": "Parental guidance"
                                },
                                {
                                    "movie_title": "The Sixth Sense",
                                    "mpaa_rating": "PG-13",
                                    "rating": "NULL"
                                },
                                {
                                    "movie_title": "The 13th Warrior",
                                    "mpaa_rating": "R",
                                    "rating": "Restricted"
                                },
                                {
                                    "movie_title": "Breakfast of Champions",
                                    "mpaa_rating": "R",
                                    "rating": "Restricted"
                                },
                                {
                                    "movie_title": "Mumford",
                                    "mpaa_rating": "R",
                                    "rating": "Restricted"
                                },
                                {
                                    "movie_title": "Mystery, Alaska",
                                    "mpaa_rating": "R",
                                    "rating": "Restricted"
                                },
                                {
                                    "movie_title": "The Straight Story",
                                    "mpaa_rating": "G",
                                    "rating": "General"
                                },
                                {
                                    "movie_title": "The Insider",
                                    "mpaa_rating": "R",
                                    "rating": "Restricted"
                                },
                                {
                                    "movie_title": "Toy Story 2",
                                    "mpaa_rating": "G",
                                    "rating": "General"
                                },
                                {
                                    "movie_title": "Cradle Will Rock",
                                    "mpaa_rating": "R",
                                    "rating": "Restricted"
                                },
                                {
                                    "movie_title": "Deuce Bigalow: Male Gigolo",
                                    "mpaa_rating": "R",
                                    "rating": "Restricted"
                                },
                                {
                                    "movie_title": "Bicentennial Man",
                                    "mpaa_rating": "PG",
                                    "rating": "Parental guidance"
                                },
                                {
                                    "movie_title": "Play it to the Bone",
                                    "mpaa_rating": "R",
                                    "rating": "Restricted"
                                },
                                {
                                    "movie_title": "Fantasia 2000 (IMAX)",
                                    "mpaa_rating": "G",
                                    "rating": "General"
                                },
                                {
                                    "movie_title": "Gun Shy",
                                    "mpaa_rating": "R",
                                    "rating": "Restricted"
                                },
                                {
                                    "movie_title": "The Tigger Movie",
                                    "mpaa_rating": "G",
                                    "rating": "General"
                                },
                                {
                                    "movie_title": "Mission to Mars",
                                    "mpaa_rating": "PG",
                                    "rating": "Parental guidance"
                                },
                                {
                                    "movie_title": "High Fidelity",
                                    "mpaa_rating": "R",
                                    "rating": "Restricted"
                                },
                                {
                                    "movie_title": "Keeping the Faith",
                                    "mpaa_rating": "PG-13",
                                    "rating": "NULL"
                                },
                                {
                                    "movie_title": "Dinosaur",
                                    "mpaa_rating": "PG",
                                    "rating": "Parental guidance"
                                },
                                {
                                    "movie_title": "Shanghai Noon",
                                    "mpaa_rating": "PG-13",
                                    "rating": "NULL"
                                },
                                {
                                    "movie_title": "Gone in 60 Seconds",
                                    "mpaa_rating": "PG-13",
                                    "rating": "NULL"
                                },
                                {
                                    "movie_title": "Fantasia 2000 (Theatrical Release)",
                                    "mpaa_rating": "G",
                                    "rating": "General"
                                },
                                {
                                    "movie_title": "The Kid",
                                    "mpaa_rating": "PG",
                                    "rating": "Parental guidance"
                                },
                                {
                                    "movie_title": "Coyote Ugly",
                                    "mpaa_rating": "PG-13",
                                    "rating": "NULL"
                                },
                                {
                                    "movie_title": "The Crew",
                                    "mpaa_rating": "PG-13",
                                    "rating": "NULL"
                                },
                                {
                                    "movie_title": "Duets",
                                    "mpaa_rating": "R",
                                    "rating": "Restricted"
                                },
                                {
                                    "movie_title": "Remember the Titans",
                                    "mpaa_rating": "PG",
                                    "rating": "Parental guidance"
                                },
                                {
                                    "movie_title": "Unbreakable",
                                    "mpaa_rating": "PG-13",
                                    "rating": "NULL"
                                },
                                {
                                    "movie_title": "102 Dalmatians",
                                    "mpaa_rating": "G",
                                    "rating": "General"
                                },
                                {
                                    "movie_title": "The Emperor's New Groove",
                                    "mpaa_rating": "G",
                                    "rating": "General"
                                },
                                {
                                    "movie_title": "O Brother, Where Art Thou?",
                                    "mpaa_rating": "PG-13",
                                    "rating": "NULL"
                                },
                                {
                                    "movie_title": "Double Take",
                                    "mpaa_rating": "PG-13",
                                    "rating": "NULL"
                                },
                                {
                                    "movie_title": "Recess: School's Out",
                                    "mpaa_rating": "G",
                                    "rating": "General"
                                },
                                {
                                    "movie_title": "Just Visiting",
                                    "mpaa_rating": "PG-13",
                                    "rating": "NULL"
                                },
                                {
                                    "movie_title": "Pearl Harbor",
                                    "mpaa_rating": "PG-13",
                                    "rating": "NULL"
                                },
                                {
                                    "movie_title": "Atlantis: The Lost Empire",
                                    "mpaa_rating": "PG",
                                    "rating": "Parental guidance"
                                },
                                {
                                    "movie_title": "crazy/beautiful",
                                    "mpaa_rating": "PG-13",
                                    "rating": "NULL"
                                },
                                {
                                    "movie_title": "The Princess Diaries",
                                    "mpaa_rating": "G",
                                    "rating": "General"
                                },
                                {
                                    "movie_title": "Bubble Boy",
                                    "mpaa_rating": "PG-13",
                                    "rating": "NULL"
                                },
                                {
                                    "movie_title": "Max Keeble's Big Move",
                                    "mpaa_rating": "PG",
                                    "rating": "Parental guidance"
                                },
                                {
                                    "movie_title": "Corky Romano",
                                    "mpaa_rating": "PG-13",
                                    "rating": "NULL"
                                },
                                {
                                    "movie_title": "High Heels and Low Lifes",
                                    "mpaa_rating": "R",
                                    "rating": "Restricted"
                                },
                                {
                                    "movie_title": "Monsters, Inc.",
                                    "mpaa_rating": "G",
                                    "rating": "General"
                                },
                                {
                                    "movie_title": "Out Cold",
                                    "mpaa_rating": "PG-13",
                                    "rating": "NULL"
                                },
                                {
                                    "movie_title": "The Royal Tenenbaums",
                                    "mpaa_rating": "R",
                                    "rating": "Restricted"
                                },
                                {
                                    "movie_title": "Beauty and the Beast (IMAX)",
                                    "mpaa_rating": "G",
                                    "rating": "General"
                                },
                                {
                                    "movie_title": "Frank McKlusky C.I.",
                                    "mpaa_rating": "NULL",
                                    "rating": "NULL"
                                },
                                {
                                    "movie_title": "Snow Dogs",
                                    "mpaa_rating": "PG",
                                    "rating": "Parental guidance"
                                },
                                {
                                    "movie_title": "The Count of Monte Cristo",
                                    "mpaa_rating": "PG-13",
                                    "rating": "NULL"
                                },
                                {
                                    "movie_title": "Peter Pan: Return to Neverland",
                                    "mpaa_rating": "G",
                                    "rating": "General"
                                },
                                {
                                    "movie_title": "Reign of Fire",
                                    "mpaa_rating": "PG-13",
                                    "rating": "NULL"
                                },
                                {
                                    "movie_title": "Sorority Boys",
                                    "mpaa_rating": "R",
                                    "rating": "Restricted"
                                },
                                {
                                    "movie_title": "The Rookie",
                                    "mpaa_rating": "G",
                                    "rating": "General"
                                },
                                {
                                    "movie_title": "Big Trouble",
                                    "mpaa_rating": "PG-13",
                                    "rating": "NULL"
                                },
                                {
                                    "movie_title": "ESPN's Ultimate X - The Movie",
                                    "mpaa_rating": "PG",
                                    "rating": "Parental guidance"
                                },
                                {
                                    "movie_title": "Bad Company",
                                    "mpaa_rating": "PG-13",
                                    "rating": "NULL"
                                },
                                {
                                    "movie_title": "Lilo & Stitch",
                                    "mpaa_rating": "PG",
                                    "rating": "Parental guidance"
                                },
                                {
                                    "movie_title": "The Country Bears",
                                    "mpaa_rating": "G",
                                    "rating": "General"
                                },
                                {
                                    "movie_title": "Signs",
                                    "mpaa_rating": "PG-13",
                                    "rating": "NULL"
                                },
                                {
                                    "movie_title": "Sen to Chihiro no Kamikakushi",
                                    "mpaa_rating": "PG",
                                    "rating": "Parental guidance"
                                },
                                {
                                    "movie_title": "Sweet Home Alabama",
                                    "mpaa_rating": "PG-13",
                                    "rating": "NULL"
                                },
                                {
                                    "movie_title": "Moonlight Mile",
                                    "mpaa_rating": "PG-13",
                                    "rating": "NULL"
                                },
                                {
                                    "movie_title": "Tuck Everlasting",
                                    "mpaa_rating": "PG",
                                    "rating": "Parental guidance"
                                },
                                {
                                    "movie_title": "The Santa Clause 2",
                                    "mpaa_rating": "G",
                                    "rating": "General"
                                },
                                {
                                    "movie_title": "Treasure Planet",
                                    "mpaa_rating": "PG",
                                    "rating": "Parental guidance"
                                },
                                {
                                    "movie_title": "The Hot Chick",
                                    "mpaa_rating": "PG-13",
                                    "rating": "NULL"
                                },
                                {
                                    "movie_title": "25th Hour",
                                    "mpaa_rating": "R",
                                    "rating": "Restricted"
                                },
                                {
                                    "movie_title": "The Recruit",
                                    "mpaa_rating": "PG-13",
                                    "rating": "NULL"
                                },
                                {
                                    "movie_title": "Shanghai Knights",
                                    "mpaa_rating": "PG-13",
                                    "rating": "NULL"
                                },
                                {
                                    "movie_title": "The Jungle Book 2",
                                    "mpaa_rating": "G",
                                    "rating": "General"
                                },
                                {
                                    "movie_title": "Bringing Down the House",
                                    "mpaa_rating": "PG-13",
                                    "rating": "NULL"
                                },
                                {
                                    "movie_title": "Piglet's Big Movie",
                                    "mpaa_rating": "G",
                                    "rating": "General"
                                },
                                {
                                    "movie_title": "Ghosts of the Abyss",
                                    "mpaa_rating": "G",
                                    "rating": "General"
                                },
                                {
                                    "movie_title": "Holes",
                                    "mpaa_rating": "PG",
                                    "rating": "Parental guidance"
                                },
                                {
                                    "movie_title": "The Lizzie McGuire Movie",
                                    "mpaa_rating": "PG",
                                    "rating": "Parental guidance"
                                },
                                {
                                    "movie_title": "Finding Nemo",
                                    "mpaa_rating": "G",
                                    "rating": "General"
                                },
                                {
                                    "movie_title": "Pirates of the Caribbean: The Curse o…",
                                    "mpaa_rating": "PG-13",
                                    "rating": "NULL"
                                },
                                {
                                    "movie_title": "Freaky Friday",
                                    "mpaa_rating": "PG",
                                    "rating": "Parental guidance"
                                },
                                {
                                    "movie_title": "Open Range",
                                    "mpaa_rating": "R",
                                    "rating": "Restricted"
                                },
                                {
                                    "movie_title": "Cold Creek Manor",
                                    "mpaa_rating": "R",
                                    "rating": "Restricted"
                                },
                                {
                                    "movie_title": "Under the Tuscan Sun",
                                    "mpaa_rating": "PG-13",
                                    "rating": "NULL"
                                },
                                {
                                    "movie_title": "Veronica Guerin",
                                    "mpaa_rating": "R",
                                    "rating": "Restricted"
                                },
                                {
                                    "movie_title": "Brother Bear",
                                    "mpaa_rating": "G",
                                    "rating": "General"
                                },
                                {
                                    "movie_title": "The Haunted Mansion",
                                    "mpaa_rating": "PG",
                                    "rating": "Parental guidance"
                                },
                                {
                                    "movie_title": "Calendar Girls",
                                    "mpaa_rating": "PG-13",
                                    "rating": "NULL"
                                },
                                {
                                    "movie_title": "Young Black Stallion",
                                    "mpaa_rating": "G",
                                    "rating": "General"
                                },
                                {
                                    "movie_title": "Teacher's Pet: The Movie",
                                    "mpaa_rating": "PG",
                                    "rating": "Parental guidance"
                                },
                                {
                                    "movie_title": "Miracle",
                                    "mpaa_rating": "PG",
                                    "rating": "Parental guidance"
                                },
                                {
                                    "movie_title": "Confessions of a Teenage Drama Queen",
                                    "mpaa_rating": "PG",
                                    "rating": "Parental guidance"
                                },
                                {
                                    "movie_title": "Hidalgo",
                                    "mpaa_rating": "PG-13",
                                    "rating": "NULL"
                                },
                                {
                                    "movie_title": "The Ladykillers",
                                    "mpaa_rating": "R",
                                    "rating": "Restricted"
                                },
                                {
                                    "movie_title": "Home on the Range",
                                    "mpaa_rating": "PG",
                                    "rating": "Parental guidance"
                                },
                                {
                                    "movie_title": "The Alamo",
                                    "mpaa_rating": "PG-13",
                                    "rating": "NULL"
                                },
                                {
                                    "movie_title": "Raising Helen",
                                    "mpaa_rating": "PG-13",
                                    "rating": "NULL"
                                },
                                {
                                    "movie_title": "Around the World in 80 Days",
                                    "mpaa_rating": "PG",
                                    "rating": "Parental guidance"
                                },
                                {
                                    "movie_title": "America's Heart and Soul",
                                    "mpaa_rating": "Not Rated",
                                    "rating": "NULL"
                                },
                                {
                                    "movie_title": "King Arthur",
                                    "mpaa_rating": "PG-13",
                                    "rating": "NULL"
                                },
                                {
                                    "movie_title": "The Village",
                                    "mpaa_rating": "PG-13",
                                    "rating": "NULL"
                                },
                                {
                                    "movie_title": "The Princess Diaries 2: Royal Engagement",
                                    "mpaa_rating": "G",
                                    "rating": "General"
                                },
                                {
                                    "movie_title": "Mr. 3000",
                                    "mpaa_rating": "PG-13",
                                    "rating": "NULL"
                                },
                                {
                                    "movie_title": "The Last Shot",
                                    "mpaa_rating": "R",
                                    "rating": "Restricted"
                                },
                                {
                                    "movie_title": "Ladder 49",
                                    "mpaa_rating": "PG-13",
                                    "rating": "NULL"
                                },
                                {
                                    "movie_title": "The Incredibles",
                                    "mpaa_rating": "PG",
                                    "rating": "Parental guidance"
                                },
                                {
                                    "movie_title": "National Treasure",
                                    "mpaa_rating": "PG",
                                    "rating": "Parental guidance"
                                },
                                {
                                    "movie_title": "The Life Aquatic with Steve Zissou",
                                    "mpaa_rating": "R",
                                    "rating": "Restricted"
                                },
                                {
                                    "movie_title": "Aliens of the Deep",
                                    "mpaa_rating": "G",
                                    "rating": "General"
                                },
                                {
                                    "movie_title": "Pooh's Heffalump Movie",
                                    "mpaa_rating": "G",
                                    "rating": "General"
                                },
                                {
                                    "movie_title": "The Pacifier",
                                    "mpaa_rating": "PG",
                                    "rating": "Parental guidance"
                                },
                                {
                                    "movie_title": "Ice Princess",
                                    "mpaa_rating": "G",
                                    "rating": "General"
                                },
                                {
                                    "movie_title": "A Lot Like Love",
                                    "mpaa_rating": "PG-13",
                                    "rating": "NULL"
                                },
                                {
                                    "movie_title": "The Hitchhiker's Guide to the Galaxy",
                                    "mpaa_rating": "PG",
                                    "rating": "Parental guidance"
                                },
                                {
                                    "movie_title": "Hauru no ugoku shiro",
                                    "mpaa_rating": "PG",
                                    "rating": "Parental guidance"
                                },
                                {
                                    "movie_title": "Herbie: Fully Loaded",
                                    "mpaa_rating": "G",
                                    "rating": "General"
                                },
                                {
                                    "movie_title": "Dark Water",
                                    "mpaa_rating": "PG-13",
                                    "rating": "NULL"
                                },
                                {
                                    "movie_title": "Sky High",
                                    "mpaa_rating": "PG",
                                    "rating": "Parental guidance"
                                },
                                {
                                    "movie_title": "Valiant",
                                    "mpaa_rating": "G",
                                    "rating": "General"
                                },
                                {
                                    "movie_title": "Flightplan",
                                    "mpaa_rating": "PG-13",
                                    "rating": "NULL"
                                },
                                {
                                    "movie_title": "The Greatest Game Ever Played",
                                    "mpaa_rating": "PG",
                                    "rating": "Parental guidance"
                                },
                                {
                                    "movie_title": "Shopgirl",
                                    "mpaa_rating": "R",
                                    "rating": "Restricted"
                                },
                                {
                                    "movie_title": "Chicken Little",
                                    "mpaa_rating": "G",
                                    "rating": "General"
                                },
                                {
                                    "movie_title": "The Chronicles of Narnia: The Lion, t…",
                                    "mpaa_rating": "PG",
                                    "rating": "Parental guidance"
                                },
                                {
                                    "movie_title": "Casanova",
                                    "mpaa_rating": "R",
                                    "rating": "Restricted"
                                },
                                {
                                    "movie_title": "Glory Road",
                                    "mpaa_rating": "PG",
                                    "rating": "Parental guidance"
                                },
                                {
                                    "movie_title": "Annapolis",
                                    "mpaa_rating": "PG-13",
                                    "rating": "NULL"
                                },
                                {
                                    "movie_title": "Roving Mars",
                                    "mpaa_rating": "G",
                                    "rating": "General"
                                },
                                {
                                    "movie_title": "Eight Below",
                                    "mpaa_rating": "PG",
                                    "rating": "Parental guidance"
                                },
                                {
                                    "movie_title": "The Shaggy Dog",
                                    "mpaa_rating": "PG",
                                    "rating": "Parental guidance"
                                },
                                {
                                    "movie_title": "Stay Alive",
                                    "mpaa_rating": "PG-13",
                                    "rating": "NULL"
                                },
                                {
                                    "movie_title": "The Wild",
                                    "mpaa_rating": "G",
                                    "rating": "General"
                                },
                                {
                                    "movie_title": "Stick It",
                                    "mpaa_rating": "PG-13",
                                    "rating": "NULL"
                                },
                                {
                                    "movie_title": "Goal! The Dream Begins",
                                    "mpaa_rating": "PG",
                                    "rating": "Parental guidance"
                                },
                                {
                                    "movie_title": "Cars",
                                    "mpaa_rating": "G",
                                    "rating": "General"
                                },
                                {
                                    "movie_title": "Pirates of the Caribbean: Dead Man’…",
                                    "mpaa_rating": "PG-13",
                                    "rating": "NULL"
                                },
                                {
                                    "movie_title": "Step Up",
                                    "mpaa_rating": "PG-13",
                                    "rating": "NULL"
                                },
                                {
                                    "movie_title": "Invincible",
                                    "mpaa_rating": "PG",
                                    "rating": "Parental guidance"
                                },
                                {
                                    "movie_title": "The Guardian",
                                    "mpaa_rating": "PG-13",
                                    "rating": "NULL"
                                },
                                {
                                    "movie_title": "The Prestige",
                                    "mpaa_rating": "PG-13",
                                    "rating": "NULL"
                                },
                                {
                                    "movie_title": "Tim Burton's The Nightmare Before Chr…",
                                    "mpaa_rating": "PG",
                                    "rating": "Parental guidance"
                                },
                                {
                                    "movie_title": "The Santa Clause 3: The Escape Clause",
                                    "mpaa_rating": "G",
                                    "rating": "General"
                                },
                                {
                                    "movie_title": "Déjà Vu",
                                    "mpaa_rating": "PG-13",
                                    "rating": "NULL"
                                },
                                {
                                    "movie_title": "Apocalypto",
                                    "mpaa_rating": "R",
                                    "rating": "Restricted"
                                },
                                {
                                    "movie_title": "Primeval",
                                    "mpaa_rating": "R",
                                    "rating": "Restricted"
                                },
                                {
                                    "movie_title": "Bridge to Terabithia",
                                    "mpaa_rating": "PG",
                                    "rating": "Parental guidance"
                                },
                                {
                                    "movie_title": "Wild Hogs",
                                    "mpaa_rating": "PG-13",
                                    "rating": "NULL"
                                },
                                {
                                    "movie_title": "Meet the Robinsons",
                                    "mpaa_rating": "G",
                                    "rating": "General"
                                },
                                {
                                    "movie_title": "The Lookout",
                                    "mpaa_rating": "R",
                                    "rating": "Restricted"
                                },
                                {
                                    "movie_title": "The Hoax",
                                    "mpaa_rating": "R",
                                    "rating": "Restricted"
                                },
                                {
                                    "movie_title": "The Invisible",
                                    "mpaa_rating": "PG-13",
                                    "rating": "NULL"
                                },
                                {
                                    "movie_title": "Pirates of the Caribbean: At World’…",
                                    "mpaa_rating": "PG-13",
                                    "rating": "NULL"
                                },
                                {
                                    "movie_title": "Ratatouille",
                                    "mpaa_rating": "G",
                                    "rating": "General"
                                },
                                {
                                    "movie_title": "Underdog",
                                    "mpaa_rating": "PG",
                                    "rating": "Parental guidance"
                                },
                                {
                                    "movie_title": "The Game Plan",
                                    "mpaa_rating": "PG",
                                    "rating": "Parental guidance"
                                },
                                {
                                    "movie_title": "Dan in Real Life",
                                    "mpaa_rating": "PG-13",
                                    "rating": "NULL"
                                },
                                {
                                    "movie_title": "Enchanted",
                                    "mpaa_rating": "PG",
                                    "rating": "Parental guidance"
                                },
                                {
                                    "movie_title": "National Treasure 2: Book of Secrets",
                                    "mpaa_rating": "PG",
                                    "rating": "Parental guidance"
                                },
                                {
                                    "movie_title": "Hannah Montana/Miley Cyrus: Best of B…",
                                    "mpaa_rating": "G",
                                    "rating": "General"
                                },
                                {
                                    "movie_title": "Step Up 2 the Streets",
                                    "mpaa_rating": "PG-13",
                                    "rating": "NULL"
                                },
                                {
                                    "movie_title": "College Road Trip",
                                    "mpaa_rating": "G",
                                    "rating": "General"
                                },
                                {
                                    "movie_title": "The Chronicles of Narnia: Prince Caspian",
                                    "mpaa_rating": "PG",
                                    "rating": "Parental guidance"
                                },
                                {
                                    "movie_title": "WALL-E",
                                    "mpaa_rating": "G",
                                    "rating": "General"
                                },
                                {
                                    "movie_title": "Swing Vote",
                                    "mpaa_rating": "PG-13",
                                    "rating": "NULL"
                                },
                                {
                                    "movie_title": "Goal! 2: Living the Dream...",
                                    "mpaa_rating": "PG-13",
                                    "rating": "NULL"
                                },
                                {
                                    "movie_title": "Miracle at St. Anna",
                                    "mpaa_rating": "R",
                                    "rating": "Restricted"
                                },
                                {
                                    "movie_title": "Beverly Hills Chihuahua",
                                    "mpaa_rating": "PG",
                                    "rating": "Parental guidance"
                                },
                                {
                                    "movie_title": "Morning Light",
                                    "mpaa_rating": "PG",
                                    "rating": "Parental guidance"
                                },
                                {
                                    "movie_title": "High School Musical 3: Senior Year",
                                    "mpaa_rating": "G",
                                    "rating": "General"
                                },
                                {
                                    "movie_title": "Bolt",
                                    "mpaa_rating": "PG",
                                    "rating": "Parental guidance"
                                },
                                {
                                    "movie_title": "Bedtime Stories",
                                    "mpaa_rating": "PG",
                                    "rating": "Parental guidance"
                                },
                                {
                                    "movie_title": "Confessions of a Shopaholic",
                                    "mpaa_rating": "PG",
                                    "rating": "Parental guidance"
                                },
                                {
                                    "movie_title": "Jonas Brothers: The 3D Concert Experi…",
                                    "mpaa_rating": "G",
                                    "rating": "General"
                                },
                                {
                                    "movie_title": "Race to Witch Mountain",
                                    "mpaa_rating": "PG",
                                    "rating": "Parental guidance"
                                },
                                {
                                    "movie_title": "Hannah Montana the Movie",
                                    "mpaa_rating": "G",
                                    "rating": "General"
                                },
                                {
                                    "movie_title": "Earth",
                                    "mpaa_rating": "G",
                                    "rating": "General"
                                },
                                {
                                    "movie_title": "Up",
                                    "mpaa_rating": "PG",
                                    "rating": "Parental guidance"
                                },
                                {
                                    "movie_title": "The Proposal",
                                    "mpaa_rating": "PG-13",
                                    "rating": "NULL"
                                },
                                {
                                    "movie_title": "G-Force",
                                    "mpaa_rating": "PG",
                                    "rating": "Parental guidance"
                                },
                                {
                                    "movie_title": "Gake no ue no Ponyo",
                                    "mpaa_rating": "G",
                                    "rating": "General"
                                },
                                {
                                    "movie_title": "X Games 3D: The Movie",
                                    "mpaa_rating": "PG",
                                    "rating": "Parental guidance"
                                },
                                {
                                    "movie_title": "Walt and El Grupo",
                                    "mpaa_rating": "PG",
                                    "rating": "Parental guidance"
                                },
                                {
                                    "movie_title": "Surrogates",
                                    "mpaa_rating": "PG-13",
                                    "rating": "NULL"
                                },
                                {
                                    "movie_title": "Toy Story 3D Double Feature",
                                    "mpaa_rating": "G",
                                    "rating": "General"
                                },
                                {
                                    "movie_title": "Disney's A Christmas Carol",
                                    "mpaa_rating": "PG",
                                    "rating": "Parental guidance"
                                },
                                {
                                    "movie_title": "The Princess and the Frog",
                                    "mpaa_rating": "G",
                                    "rating": "General"
                                },
                                {
                                    "movie_title": "Old Dogs",
                                    "mpaa_rating": "PG",
                                    "rating": "Parental guidance"
                                },
                                {
                                    "movie_title": "When in Rome",
                                    "mpaa_rating": "PG-13",
                                    "rating": "NULL"
                                },
                                {
                                    "movie_title": "Alice in Wonderland",
                                    "mpaa_rating": "PG",
                                    "rating": "Parental guidance"
                                },
                                {
                                    "movie_title": "Waking Sleeping Beauty",
                                    "mpaa_rating": "PG",
                                    "rating": "Parental guidance"
                                },
                                {
                                    "movie_title": "The Last Song",
                                    "mpaa_rating": "PG",
                                    "rating": "Parental guidance"
                                },
                                {
                                    "movie_title": "Oceans",
                                    "mpaa_rating": "G",
                                    "rating": "General"
                                },
                                {
                                    "movie_title": "Prince of Persia: Sands of Time",
                                    "mpaa_rating": "PG-13",
                                    "rating": "NULL"
                                },
                                {
                                    "movie_title": "Toy Story 3",
                                    "mpaa_rating": "G",
                                    "rating": "General"
                                },
                                {
                                    "movie_title": "The Sorcerer's Apprentice",
                                    "mpaa_rating": "PG",
                                    "rating": "Parental guidance"
                                },
                                {
                                    "movie_title": "Step Up 3D",
                                    "mpaa_rating": "PG-13",
                                    "rating": "NULL"
                                },
                                {
                                    "movie_title": "Gedo Senki (Tales from Earthsea)",
                                    "mpaa_rating": "PG-13",
                                    "rating": "NULL"
                                },
                                {
                                    "movie_title": "You Again",
                                    "mpaa_rating": "PG",
                                    "rating": "Parental guidance"
                                },
                                {
                                    "movie_title": "Secretariat",
                                    "mpaa_rating": "PG",
                                    "rating": "Parental guidance"
                                },
                                {
                                    "movie_title": "Tangled",
                                    "mpaa_rating": "PG",
                                    "rating": "Parental guidance"
                                },
                                {
                                    "movie_title": "Tron: Legacy",
                                    "mpaa_rating": "PG",
                                    "rating": "Parental guidance"
                                },
                                {
                                    "movie_title": "Gnomeo and Juliet",
                                    "mpaa_rating": "G",
                                    "rating": "General"
                                },
                                {
                                    "movie_title": "I am Number Four",
                                    "mpaa_rating": "PG-13",
                                    "rating": "NULL"
                                },
                                {
                                    "movie_title": "Mars Needs Moms",
                                    "mpaa_rating": "PG",
                                    "rating": "Parental guidance"
                                },
                                {
                                    "movie_title": "African Cats",
                                    "mpaa_rating": "G",
                                    "rating": "General"
                                },
                                {
                                    "movie_title": "Zokkomon",
                                    "mpaa_rating": "PG",
                                    "rating": "Parental guidance"
                                },
                                {
                                    "movie_title": "Prom",
                                    "mpaa_rating": "PG",
                                    "rating": "Parental guidance"
                                },
                                {
                                    "movie_title": "Pirates of the Caribbean: On Stranger…",
                                    "mpaa_rating": "PG-13",
                                    "rating": "NULL"
                                },
                                {
                                    "movie_title": "Cars 2",
                                    "mpaa_rating": "G",
                                    "rating": "General"
                                },
                                {
                                    "movie_title": "Winnie the Pooh",
                                    "mpaa_rating": "G",
                                    "rating": "General"
                                },
                                {
                                    "movie_title": "The Help",
                                    "mpaa_rating": "PG-13",
                                    "rating": "NULL"
                                },
                                {
                                    "movie_title": "Fright Night",
                                    "mpaa_rating": "R",
                                    "rating": "Restricted"
                                },
                                {
                                    "movie_title": "Real Steel",
                                    "mpaa_rating": "PG-13",
                                    "rating": "NULL"
                                },
                                {
                                    "movie_title": "The Muppets",
                                    "mpaa_rating": "PG",
                                    "rating": "Parental guidance"
                                },
                                {
                                    "movie_title": "War Horse",
                                    "mpaa_rating": "PG-13",
                                    "rating": "NULL"
                                },
                                {
                                    "movie_title": "The Secret World of Arietty",
                                    "mpaa_rating": "G",
                                    "rating": "General"
                                },
                                {
                                    "movie_title": "John Carter",
                                    "mpaa_rating": "PG-13",
                                    "rating": "NULL"
                                },
                                {
                                    "movie_title": "Chimpanzee",
                                    "mpaa_rating": "G",
                                    "rating": "General"
                                },
                                {
                                    "movie_title": "The Avengers",
                                    "mpaa_rating": "PG-13",
                                    "rating": "NULL"
                                },
                                {
                                    "movie_title": "Brave",
                                    "mpaa_rating": "PG",
                                    "rating": "Parental guidance"
                                },
                                {
                                    "movie_title": "People Like Us",
                                    "mpaa_rating": "PG-13",
                                    "rating": "NULL"
                                },
                                {
                                    "movie_title": "The Odd Life of Timothy Green",
                                    "mpaa_rating": "PG",
                                    "rating": "Parental guidance"
                                },
                                {
                                    "movie_title": "Frankenweenie",
                                    "mpaa_rating": "PG",
                                    "rating": "Parental guidance"
                                },
                                {
                                    "movie_title": "Wreck-It Ralph",
                                    "mpaa_rating": "PG",
                                    "rating": "Parental guidance"
                                },
                                {
                                    "movie_title": "Lincoln",
                                    "mpaa_rating": "PG-13",
                                    "rating": "NULL"
                                },
                                {
                                    "movie_title": "Oz the Great and Powerful",
                                    "mpaa_rating": "PG",
                                    "rating": "Parental guidance"
                                },
                                {
                                    "movie_title": "Iron Man 3",
                                    "mpaa_rating": "PG-13",
                                    "rating": "NULL"
                                },
                                {
                                    "movie_title": "Monsters University",
                                    "mpaa_rating": "G",
                                    "rating": "General"
                                },
                                {
                                    "movie_title": "The Lone Ranger",
                                    "mpaa_rating": "PG-13",
                                    "rating": "NULL"
                                },
                                {
                                    "movie_title": "Disney Planes",
                                    "mpaa_rating": "PG",
                                    "rating": "Parental guidance"
                                },
                                {
                                    "movie_title": "The Fifth Estate",
                                    "mpaa_rating": "R",
                                    "rating": "Restricted"
                                },
                                {
                                    "movie_title": "Thor: The Dark World",
                                    "mpaa_rating": "PG-13",
                                    "rating": "NULL"
                                },
                                {
                                    "movie_title": "Kaze Tachinu",
                                    "mpaa_rating": "PG-13",
                                    "rating": "NULL"
                                },
                                {
                                    "movie_title": "Frozen",
                                    "mpaa_rating": "PG",
                                    "rating": "Parental guidance"
                                },
                                {
                                    "movie_title": "Delivery Man",
                                    "mpaa_rating": "PG-13",
                                    "rating": "NULL"
                                },
                                {
                                    "movie_title": "Saving Mr. Banks",
                                    "mpaa_rating": "PG-13",
                                    "rating": "NULL"
                                },
                                {
                                    "movie_title": "Need for Speed",
                                    "mpaa_rating": "PG-13",
                                    "rating": "NULL"
                                },
                                {
                                    "movie_title": "Muppets Most Wanted",
                                    "mpaa_rating": "PG",
                                    "rating": "Parental guidance"
                                },
                                {
                                    "movie_title": "Captain America: The Winter Soldier",
                                    "mpaa_rating": "PG-13",
                                    "rating": "NULL"
                                },
                                {
                                    "movie_title": "Bears",
                                    "mpaa_rating": "G",
                                    "rating": "General"
                                },
                                {
                                    "movie_title": "Million Dollar Arm",
                                    "mpaa_rating": "PG",
                                    "rating": "Parental guidance"
                                },
                                {
                                    "movie_title": "Maleficent",
                                    "mpaa_rating": "PG",
                                    "rating": "Parental guidance"
                                },
                                {
                                    "movie_title": "Planes: Fire and Rescue",
                                    "mpaa_rating": "PG",
                                    "rating": "Parental guidance"
                                },
                                {
                                    "movie_title": "Guardians of the Galaxy",
                                    "mpaa_rating": "PG-13",
                                    "rating": "NULL"
                                },
                                {
                                    "movie_title": "The Hundred-Foot Journey",
                                    "mpaa_rating": "PG",
                                    "rating": "Parental guidance"
                                },
                                {
                                    "movie_title": "Alexander and the Terrible, Horrible,…",
                                    "mpaa_rating": "PG",
                                    "rating": "Parental guidance"
                                },
                                {
                                    "movie_title": "Big Hero 6",
                                    "mpaa_rating": "PG",
                                    "rating": "Parental guidance"
                                },
                                {
                                    "movie_title": "Into the Woods",
                                    "mpaa_rating": "PG",
                                    "rating": "Parental guidance"
                                },
                                {
                                    "movie_title": "Strange Magic",
                                    "mpaa_rating": "PG",
                                    "rating": "Parental guidance"
                                },
                                {
                                    "movie_title": "McFarland, USA",
                                    "mpaa_rating": "PG",
                                    "rating": "Parental guidance"
                                },
                                {
                                    "movie_title": "Cinderella",
                                    "mpaa_rating": "PG",
                                    "rating": "Parental guidance"
                                },
                                {
                                    "movie_title": "Monkey Kingdom",
                                    "mpaa_rating": "G",
                                    "rating": "General"
                                },
                                {
                                    "movie_title": "Avengers: Age of Ultron",
                                    "mpaa_rating": "PG-13",
                                    "rating": "NULL"
                                },
                                {
                                    "movie_title": "Tomorrowland",
                                    "mpaa_rating": "PG",
                                    "rating": "Parental guidance"
                                },
                                {
                                    "movie_title": "Inside Out",
                                    "mpaa_rating": "PG",
                                    "rating": "Parental guidance"
                                },
                                {
                                    "movie_title": "Ant-Man",
                                    "mpaa_rating": "PG-13",
                                    "rating": "NULL"
                                },
                                {
                                    "movie_title": "Bridge of Spies",
                                    "mpaa_rating": "PG-13",
                                    "rating": "NULL"
                                },
                                {
                                    "movie_title": "The Good Dinosaur",
                                    "mpaa_rating": "PG",
                                    "rating": "Parental guidance"
                                },
                                {
                                    "movie_title": "Star Wars Ep. VII: The Force Awakens",
                                    "mpaa_rating": "PG-13",
                                    "rating": "NULL"
                                },
                                {
                                    "movie_title": "The Finest Hours",
                                    "mpaa_rating": "PG",
                                    "rating": "Parental guidance"
                                },
                                {
                                    "movie_title": "Zootopia",
                                    "mpaa_rating": "PG",
                                    "rating": "Parental guidance"
                                },
                                {
                                    "movie_title": "The Jungle Book",
                                    "mpaa_rating": "PG",
                                    "rating": "Parental guidance"
                                },
                                {
                                    "movie_title": "A Beautiful Planet",
                                    "mpaa_rating": "G",
                                    "rating": "General"
                                },
                                {
                                    "movie_title": "Captain America: Civil War",
                                    "mpaa_rating": "PG-13",
                                    "rating": "NULL"
                                },
                                {
                                    "movie_title": "Alice Through the Looking Glass",
                                    "mpaa_rating": "PG",
                                    "rating": "Parental guidance"
                                },
                                {
                                    "movie_title": "Finding Dory",
                                    "mpaa_rating": "PG",
                                    "rating": "Parental guidance"
                                },
                                {
                                    "movie_title": "The BFG",
                                    "mpaa_rating": "PG",
                                    "rating": "Parental guidance"
                                },
                                {
                                    "movie_title": "Pete’s Dragon",
                                    "mpaa_rating": "PG",
                                    "rating": "Parental guidance"
                                },
                                {
                                    "movie_title": "The Light Between Oceans",
                                    "mpaa_rating": "PG-13",
                                    "rating": "NULL"
                                },
                                {
                                    "movie_title": "Queen of Katwe",
                                    "mpaa_rating": "PG",
                                    "rating": "Parental guidance"
                                },
                                {
                                    "movie_title": "Doctor Strange",
                                    "mpaa_rating": "PG-13",
                                    "rating": "NULL"
                                },
                                {
                                    "movie_title": "Moana",
                                    "mpaa_rating": "PG",
                                    "rating": "Parental guidance"
                                },
                                {
                                    "movie_title": "Rogue One: A Star Wars Story",
                                    "mpaa_rating": "PG-13",
                                    "rating": "NULL"
                                }
                            ]
                        },
                        "text/html": [
                            "<table>",
                            "<tr><th>movie_title</th><th>mpaa_rating</th><th>rating</th></tr>",
                            "<tr><td>Snow White and the Seven Dwarfs</td><td>G</td><td>General</td></tr>",
                            "<tr><td>Pinocchio</td><td>G</td><td>General</td></tr>",
                            "<tr><td>Fantasia</td><td>G</td><td>General</td></tr>",
                            "<tr><td>Song of the South</td><td>G</td><td>General</td></tr>",
                            "<tr><td>Cinderella</td><td>G</td><td>General</td></tr>",
                            "<tr><td>20,000 Leagues Under the Sea</td><td>NULL</td><td>NULL</td></tr>",
                            "<tr><td>Lady and the Tramp</td><td>G</td><td>General</td></tr>",
                            "<tr><td>Sleeping Beauty</td><td>NULL</td><td>NULL</td></tr>",
                            "<tr><td>101 Dalmatians</td><td>G</td><td>General</td></tr>",
                            "<tr><td>The Absent Minded Professor</td><td>NULL</td><td>NULL</td></tr>",
                            "<tr><td>Babes in Toyland</td><td>G</td><td>General</td></tr>",
                            "<tr><td>Bon Voyage!</td><td>Not Rated</td><td>NULL</td></tr>",
                            "<tr><td>The Sword in the Stone</td><td>NULL</td><td>NULL</td></tr>",
                            "<tr><td>The Jungle Book</td><td>Not Rated</td><td>NULL</td></tr>",
                            "<tr><td>Blackbeard&#39;s Ghost</td><td>NULL</td><td>NULL</td></tr>",
                            "<tr><td>The Aristocats</td><td>G</td><td>General</td></tr>",
                            "<tr><td>The Boatniks</td><td>NULL</td><td>NULL</td></tr>",
                            "<tr><td>Bedknobs and Broomsticks</td><td>NULL</td><td>NULL</td></tr>",
                            "<tr><td>The Apple Dumpling Gang</td><td>NULL</td><td>NULL</td></tr>",
                            "<tr><td>Freaky Friday</td><td>NULL</td><td>NULL</td></tr>",
                            "<tr><td>The Many Adventures of Winnie the Pooh</td><td>NULL</td><td>NULL</td></tr>",
                            "<tr><td>The Rescuers</td><td>NULL</td><td>NULL</td></tr>",
                            "<tr><td>Herbie Goes to Monte Carlo</td><td>NULL</td><td>NULL</td></tr>",
                            "<tr><td>The Black Hole</td><td>NULL</td><td>NULL</td></tr>",
                            "<tr><td>Midnight Madness</td><td>NULL</td><td>NULL</td></tr>",
                            "<tr><td>The Last Flight of Noah’s Ark</td><td>NULL</td><td>NULL</td></tr>",
                            "<tr><td>The Devil and Max Devlin</td><td>NULL</td><td>NULL</td></tr>",
                            "<tr><td>Amy</td><td>NULL</td><td>NULL</td></tr>",
                            "<tr><td>The Fox and the Hound</td><td>NULL</td><td>NULL</td></tr>",
                            "<tr><td>Condorman</td><td>NULL</td><td>NULL</td></tr>",
                            "<tr><td>Night Crossing</td><td>NULL</td><td>NULL</td></tr>",
                            "<tr><td>Tron</td><td>NULL</td><td>NULL</td></tr>",
                            "<tr><td>Tex</td><td>NULL</td><td>NULL</td></tr>",
                            "<tr><td>Trenchcoat</td><td>NULL</td><td>NULL</td></tr>",
                            "<tr><td>Something Wicked This Way Comes</td><td>NULL</td><td>NULL</td></tr>",
                            "<tr><td>Never Cry Wolf</td><td>NULL</td><td>NULL</td></tr>",
                            "<tr><td>Running Brave</td><td>NULL</td><td>NULL</td></tr>",
                            "<tr><td>Splash</td><td>PG</td><td>Parental guidance</td></tr>",
                            "<tr><td>Country</td><td>NULL</td><td>NULL</td></tr>",
                            "<tr><td>Baby: Secret of the Lost Legend</td><td>NULL</td><td>NULL</td></tr>",
                            "<tr><td>Return to Oz</td><td>NULL</td><td>NULL</td></tr>",
                            "<tr><td>The Black Cauldron</td><td>NULL</td><td>NULL</td></tr>",
                            "<tr><td>My Science Project</td><td>NULL</td><td>NULL</td></tr>",
                            "<tr><td>The Journey of Natty Gann</td><td>NULL</td><td>NULL</td></tr>",
                            "<tr><td>One Magic Christmas</td><td>NULL</td><td>NULL</td></tr>",
                            "<tr><td>Down and Out in Beverly Hills</td><td>R</td><td>Restricted</td></tr>",
                            "<tr><td>Off Beat</td><td>NULL</td><td>NULL</td></tr>",
                            "<tr><td>Ruthless People</td><td>R</td><td>Restricted</td></tr>",
                            "<tr><td>The Great Mouse Detective</td><td>NULL</td><td>NULL</td></tr>",
                            "<tr><td>Flight of the Navigator</td><td>NULL</td><td>NULL</td></tr>",
                            "<tr><td>Tough Guys</td><td>NULL</td><td>NULL</td></tr>",
                            "<tr><td>The Color of Money</td><td>R</td><td>Restricted</td></tr>",
                            "<tr><td>Outrageous Fortune</td><td>R</td><td>Restricted</td></tr>",
                            "<tr><td>Tin Men</td><td>NULL</td><td>NULL</td></tr>",
                            "<tr><td>Ernest Goes to Camp</td><td>NULL</td><td>NULL</td></tr>",
                            "<tr><td>Benji the Hunted</td><td>NULL</td><td>NULL</td></tr>",
                            "<tr><td>Adventures in Babysitting</td><td>NULL</td><td>NULL</td></tr>",
                            "<tr><td>Stakeout</td><td>R</td><td>Restricted</td></tr>",
                            "<tr><td>Can&#39;t Buy Me Love</td><td>NULL</td><td>NULL</td></tr>",
                            "<tr><td>Hello Again</td><td>NULL</td><td>NULL</td></tr>",
                            "<tr><td>3 Men and a Baby</td><td>PG</td><td>Parental guidance</td></tr>",
                            "<tr><td>Good Morning Vietnam</td><td>R</td><td>Restricted</td></tr>",
                            "<tr><td>Shoot to Kill</td><td>NULL</td><td>NULL</td></tr>",
                            "<tr><td>D.O.A.</td><td>NULL</td><td>NULL</td></tr>",
                            "<tr><td>Return to Snowy River</td><td>PG</td><td>Parental guidance</td></tr>",
                            "<tr><td>Big Business</td><td>PG</td><td>Parental guidance</td></tr>",
                            "<tr><td>Who Framed Roger Rabbit?</td><td>PG</td><td>Parental guidance</td></tr>",
                            "<tr><td>Cocktail</td><td>R</td><td>Restricted</td></tr>",
                            "<tr><td>The Rescue</td><td>NULL</td><td>NULL</td></tr>",
                            "<tr><td>Heartbreak Hotel</td><td>NULL</td><td>NULL</td></tr>",
                            "<tr><td>The Good Mother</td><td>NULL</td><td>NULL</td></tr>",
                            "<tr><td>Ernest Saves Christmas</td><td>PG</td><td>Parental guidance</td></tr>",
                            "<tr><td>Oliver &amp; Company</td><td>G</td><td>General</td></tr>",
                            "<tr><td>Beaches</td><td>PG-13</td><td>NULL</td></tr>",
                            "<tr><td>Three Fugitives</td><td>PG-13</td><td>NULL</td></tr>",
                            "<tr><td>New York Stories</td><td>PG</td><td>Parental guidance</td></tr>",
                            "<tr><td>Disorganized Crime</td><td>NULL</td><td>NULL</td></tr>",
                            "<tr><td>Dead Poets Society</td><td>PG</td><td>Parental guidance</td></tr>",
                            "<tr><td>Honey, I Shrunk the Kids</td><td>PG</td><td>Parental guidance</td></tr>",
                            "<tr><td>Turner &amp; Hooch</td><td>PG</td><td>Parental guidance</td></tr>",
                            "<tr><td>Cheetah</td><td>NULL</td><td>NULL</td></tr>",
                            "<tr><td>An Innocent Man</td><td>R</td><td>Restricted</td></tr>",
                            "<tr><td>Gross Anatomy</td><td>PG-13</td><td>NULL</td></tr>",
                            "<tr><td>The Little Mermaid</td><td>G</td><td>General</td></tr>",
                            "<tr><td>Blaze</td><td>R</td><td>Restricted</td></tr>",
                            "<tr><td>Stella</td><td>PG-13</td><td>NULL</td></tr>",
                            "<tr><td>Where the Heart Is</td><td>NULL</td><td>NULL</td></tr>",
                            "<tr><td>Pretty Woman</td><td>R</td><td>Restricted</td></tr>",
                            "<tr><td>Ernest Goes to Jail</td><td>PG</td><td>Parental guidance</td></tr>",
                            "<tr><td>Spaced Invaders</td><td>PG</td><td>Parental guidance</td></tr>",
                            "<tr><td>Fire Birds</td><td>PG-13</td><td>NULL</td></tr>",
                            "<tr><td>Dick Tracy</td><td>PG</td><td>Parental guidance</td></tr>",
                            "<tr><td>Betsy&#39;s Wedding</td><td>R</td><td>Restricted</td></tr>",
                            "<tr><td>Arachnophobia</td><td>PG-13</td><td>NULL</td></tr>",
                            "<tr><td>DuckTales: The Movie - Treasure of th…</td><td>G</td><td>General</td></tr>",
                            "<tr><td>Taking Care of Business</td><td>R</td><td>Restricted</td></tr>",
                            "<tr><td>Mr. Destiny</td><td>PG-13</td><td>NULL</td></tr>",
                            "<tr><td>The Rescuers Down Under</td><td>G</td><td>General</td></tr>",
                            "<tr><td>3 Men and a Little Lady</td><td>PG</td><td>Parental guidance</td></tr>",
                            "<tr><td>Green Card</td><td>PG-13</td><td>NULL</td></tr>",
                            "<tr><td>White Fang</td><td>PG</td><td>Parental guidance</td></tr>",
                            "<tr><td>Scenes from a Mall</td><td>NULL</td><td>NULL</td></tr>",
                            "<tr><td>Haakon Haakonsen</td><td>PG</td><td>Parental guidance</td></tr>",
                            "<tr><td>The Marrying Man</td><td>R</td><td>Restricted</td></tr>",
                            "<tr><td>Oscar</td><td>PG</td><td>Parental guidance</td></tr>",
                            "<tr><td>One Good Cop</td><td>R</td><td>Restricted</td></tr>",
                            "<tr><td>What About Bob?</td><td>PG</td><td>Parental guidance</td></tr>",
                            "<tr><td>Wild Hearts Can&#39;t Be Broken</td><td>NULL</td><td>NULL</td></tr>",
                            "<tr><td>The Rocketeer</td><td>PG</td><td>Parental guidance</td></tr>",
                            "<tr><td>The Doctor</td><td>PG-13</td><td>NULL</td></tr>",
                            "<tr><td>Paradise</td><td>PG-13</td><td>NULL</td></tr>",
                            "<tr><td>Deceived</td><td>PG-13</td><td>NULL</td></tr>",
                            "<tr><td>Ernest Scared Stupid</td><td>PG</td><td>Parental guidance</td></tr>",
                            "<tr><td>Billy Bathgate</td><td>R</td><td>Restricted</td></tr>",
                            "<tr><td>Beauty and the Beast</td><td>G</td><td>General</td></tr>",
                            "<tr><td>Father of the Bride</td><td>PG</td><td>Parental guidance</td></tr>",
                            "<tr><td>The Hand That Rocks the Cradle</td><td>R</td><td>Restricted</td></tr>",
                            "<tr><td>Medicine Man</td><td>PG-13</td><td>NULL</td></tr>",
                            "<tr><td>Blame it on the Bellboy</td><td>PG-13</td><td>NULL</td></tr>",
                            "<tr><td>Noises Off...</td><td>PG-13</td><td>NULL</td></tr>",
                            "<tr><td>Straight Talk</td><td>PG</td><td>Parental guidance</td></tr>",
                            "<tr><td>Newsies</td><td>PG</td><td>Parental guidance</td></tr>",
                            "<tr><td>Passed Away</td><td>PG-13</td><td>NULL</td></tr>",
                            "<tr><td>Encino Man</td><td>PG</td><td>Parental guidance</td></tr>",
                            "<tr><td>Sister Act</td><td>PG</td><td>Parental guidance</td></tr>",
                            "<tr><td>Honey I Blew Up the Kid</td><td>PG</td><td>Parental guidance</td></tr>",
                            "<tr><td>A Stranger Among Us</td><td>PG-13</td><td>NULL</td></tr>",
                            "<tr><td>3 Ninjas</td><td>PG</td><td>Parental guidance</td></tr>",
                            "<tr><td>A Gun in Betty Lou&#39;s Handbag</td><td>PG-13</td><td>NULL</td></tr>",
                            "<tr><td>Captain Ron</td><td>PG-13</td><td>NULL</td></tr>",
                            "<tr><td>Sarafina!</td><td>PG-13</td><td>NULL</td></tr>",
                            "<tr><td>Innocent Blood</td><td>R</td><td>Restricted</td></tr>",
                            "<tr><td>The Mighty Ducks</td><td>PG</td><td>Parental guidance</td></tr>",
                            "<tr><td>1492: Conquest of Paradise</td><td>PG-13</td><td>NULL</td></tr>",
                            "<tr><td>Consenting Adults</td><td>R</td><td>Restricted</td></tr>",
                            "<tr><td>Aladdin</td><td>G</td><td>General</td></tr>",
                            "<tr><td>The Distinguished Gentleman</td><td>R</td><td>Restricted</td></tr>",
                            "<tr><td>The Muppet Christmas Carol</td><td>G</td><td>General</td></tr>",
                            "<tr><td>Alive</td><td>R</td><td>Restricted</td></tr>",
                            "<tr><td>Aspen Extreme</td><td>PG-13</td><td>NULL</td></tr>",
                            "<tr><td>Homeward Bound: The Incredible Journey</td><td>G</td><td>General</td></tr>",
                            "<tr><td>The Cemetery Club</td><td>PG-13</td><td>NULL</td></tr>",
                            "<tr><td>Swing Kids</td><td>PG-13</td><td>NULL</td></tr>",
                            "<tr><td>A Far Off Place</td><td>PG</td><td>Parental guidance</td></tr>",
                            "<tr><td>Born Yesterday</td><td>PG</td><td>Parental guidance</td></tr>",
                            "<tr><td>The Adventures of Huck Finn</td><td>PG</td><td>Parental guidance</td></tr>",
                            "<tr><td>Bound by Honor</td><td>R</td><td>Restricted</td></tr>",
                            "<tr><td>Indian Summer</td><td>R</td><td>Restricted</td></tr>",
                            "<tr><td>Super Mario Bros.</td><td>PG</td><td>Parental guidance</td></tr>",
                            "<tr><td>Guilty as Sin</td><td>R</td><td>Restricted</td></tr>",
                            "<tr><td>Life With Mikey</td><td>PG</td><td>Parental guidance</td></tr>",
                            "<tr><td>What&#39;s Love Got to Do With It</td><td>R</td><td>Restricted</td></tr>",
                            "<tr><td>Son in Law</td><td>PG-13</td><td>NULL</td></tr>",
                            "<tr><td>Hocus Pocus</td><td>PG</td><td>Parental guidance</td></tr>",
                            "<tr><td>Another Stakeout</td><td>PG-13</td><td>NULL</td></tr>",
                            "<tr><td>My Boyfriend&#39;s Back</td><td>PG-13</td><td>NULL</td></tr>",
                            "<tr><td>Father Hood</td><td>PG-13</td><td>NULL</td></tr>",
                            "<tr><td>The Joy Luck Club</td><td>R</td><td>Restricted</td></tr>",
                            "<tr><td>Money for Nothing</td><td>R</td><td>Restricted</td></tr>",
                            "<tr><td>The Program</td><td>R</td><td>Restricted</td></tr>",
                            "<tr><td>Cool Runnings</td><td>PG</td><td>Parental guidance</td></tr>",
                            "<tr><td>The Nightmare Before Christmas</td><td>PG</td><td>Parental guidance</td></tr>",
                            "<tr><td>The Three Musketeers</td><td>PG</td><td>Parental guidance</td></tr>",
                            "<tr><td>Sister Act 2 Back in the Habit</td><td>PG</td><td>Parental guidance</td></tr>",
                            "<tr><td>Tombstone</td><td>R</td><td>Restricted</td></tr>",
                            "<tr><td>The Air Up There</td><td>PG</td><td>Parental guidance</td></tr>",
                            "<tr><td>Cabin Boy</td><td>PG-13</td><td>NULL</td></tr>",
                            "<tr><td>Iron Will</td><td>PG</td><td>Parental guidance</td></tr>",
                            "<tr><td>Red Rock West</td><td>R</td><td>Restricted</td></tr>",
                            "<tr><td>Blank Check</td><td>PG</td><td>Parental guidance</td></tr>",
                            "<tr><td>Angie</td><td>R</td><td>Restricted</td></tr>",
                            "<tr><td>The Ref</td><td>R</td><td>Restricted</td></tr>",
                            "<tr><td>D2: The Mighty Ducks</td><td>PG</td><td>Parental guidance</td></tr>",
                            "<tr><td>Holy Matrimony</td><td>NULL</td><td>NULL</td></tr>",
                            "<tr><td>White Fang 2: Myth of the White Wolf</td><td>PG</td><td>Parental guidance</td></tr>",
                            "<tr><td>The Inkwell</td><td>R</td><td>Restricted</td></tr>",
                            "<tr><td>When a Man Loves a Woman</td><td>R</td><td>Restricted</td></tr>",
                            "<tr><td>3 Ninjas Kick Back</td><td>PG</td><td>Parental guidance</td></tr>",
                            "<tr><td>Renaissance Man</td><td>PG-13</td><td>NULL</td></tr>",
                            "<tr><td>The Lion King</td><td>G</td><td>General</td></tr>",
                            "<tr><td>I Love Trouble</td><td>PG</td><td>Parental guidance</td></tr>",
                            "<tr><td>Angels in the Outfield</td><td>PG</td><td>Parental guidance</td></tr>",
                            "<tr><td>In the Army Now</td><td>PG</td><td>Parental guidance</td></tr>",
                            "<tr><td>Color of Night</td><td>R</td><td>Restricted</td></tr>",
                            "<tr><td>Camp Nowhere</td><td>PG</td><td>Parental guidance</td></tr>",
                            "<tr><td>It&#39;s Pat</td><td>NULL</td><td>NULL</td></tr>",
                            "<tr><td>A Simple Twist of Fate</td><td>PG-13</td><td>NULL</td></tr>",
                            "<tr><td>Quiz Show</td><td>PG-13</td><td>NULL</td></tr>",
                            "<tr><td>Terminal Velocity</td><td>PG-13</td><td>NULL</td></tr>",
                            "<tr><td>Ed Wood</td><td>R</td><td>Restricted</td></tr>",
                            "<tr><td>The Puppet Masters</td><td>R</td><td>Restricted</td></tr>",
                            "<tr><td>Squanto: A Warrior&#39;s Tale</td><td>PG</td><td>Parental guidance</td></tr>",
                            "<tr><td>The Santa Clause</td><td>PG</td><td>Parental guidance</td></tr>",
                            "<tr><td>A Low Down Dirty Shame</td><td>R</td><td>Restricted</td></tr>",
                            "<tr><td>The Jungle Book</td><td>PG</td><td>Parental guidance</td></tr>",
                            "<tr><td>Houseguest</td><td>PG</td><td>Parental guidance</td></tr>",
                            "<tr><td>Bad Company</td><td>R</td><td>Restricted</td></tr>",
                            "<tr><td>Miami Rhapsody</td><td>PG-13</td><td>NULL</td></tr>",
                            "<tr><td>The Jerky Boys</td><td>R</td><td>Restricted</td></tr>",
                            "<tr><td>Heavy Weights</td><td>PG</td><td>Parental guidance</td></tr>",
                            "<tr><td>Man of the House</td><td>PG</td><td>Parental guidance</td></tr>",
                            "<tr><td>Roommates</td><td>PG</td><td>Parental guidance</td></tr>",
                            "<tr><td>Tall Tale</td><td>PG</td><td>Parental guidance</td></tr>",
                            "<tr><td>A Pyromaniac&#39;s Love Story</td><td>PG</td><td>Parental guidance</td></tr>",
                            "<tr><td>Jefferson in Paris</td><td>PG-13</td><td>NULL</td></tr>",
                            "<tr><td>Funny Bones</td><td>R</td><td>Restricted</td></tr>",
                            "<tr><td>A Goofy Movie</td><td>G</td><td>General</td></tr>",
                            "<tr><td>While You Were Sleeping</td><td>PG</td><td>Parental guidance</td></tr>",
                            "<tr><td>Crimson Tide</td><td>R</td><td>Restricted</td></tr>",
                            "<tr><td>Mad Love</td><td>PG-13</td><td>NULL</td></tr>",
                            "<tr><td>Pocahontas</td><td>G</td><td>General</td></tr>",
                            "<tr><td>Judge Dredd</td><td>R</td><td>Restricted</td></tr>",
                            "<tr><td>Operation Dumbo Drop</td><td>PG</td><td>Parental guidance</td></tr>",
                            "<tr><td>Dangerous Minds</td><td>R</td><td>Restricted</td></tr>",
                            "<tr><td>A Kid in King Arthur&#39;s Court</td><td>PG</td><td>Parental guidance</td></tr>",
                            "<tr><td>The Tie That Binds</td><td>R</td><td>Restricted</td></tr>",
                            "<tr><td>Unstrung Heroes</td><td>PG</td><td>Parental guidance</td></tr>",
                            "<tr><td>The Big Green</td><td>PG</td><td>Parental guidance</td></tr>",
                            "<tr><td>Dead Presidents</td><td>R</td><td>Restricted</td></tr>",
                            "<tr><td>The Scarlet Letter</td><td>R</td><td>Restricted</td></tr>",
                            "<tr><td>Feast of July</td><td>R</td><td>Restricted</td></tr>",
                            "<tr><td>Powder</td><td>PG-13</td><td>NULL</td></tr>",
                            "<tr><td>Toy Story</td><td>G</td><td>General</td></tr>",
                            "<tr><td>Father of the Bride Part II</td><td>PG</td><td>Parental guidance</td></tr>",
                            "<tr><td>Nixon</td><td>R</td><td>Restricted</td></tr>",
                            "<tr><td>Tom and Huck</td><td>PG</td><td>Parental guidance</td></tr>",
                            "<tr><td>Mr. Holland&#39;s Opus</td><td>PG</td><td>Parental guidance</td></tr>",
                            "<tr><td>White Squall</td><td>PG-13</td><td>NULL</td></tr>",
                            "<tr><td>Muppet Treasure Island</td><td>G</td><td>General</td></tr>",
                            "<tr><td>Mr. Wrong</td><td>PG-13</td><td>NULL</td></tr>",
                            "<tr><td>Before and After</td><td>PG-13</td><td>NULL</td></tr>",
                            "<tr><td>Up Close &amp; Personal</td><td>PG-13</td><td>NULL</td></tr>",
                            "<tr><td>Homeward Bound II: Lost in San Franc…</td><td>G</td><td>General</td></tr>",
                            "<tr><td>Two Much</td><td>PG-13</td><td>NULL</td></tr>",
                            "<tr><td>Un indien dans la ville</td><td>PG</td><td>Parental guidance</td></tr>",
                            "<tr><td>James and the Giant Peach</td><td>PG</td><td>Parental guidance</td></tr>",
                            "<tr><td>Celtic Pride</td><td>PG-13</td><td>NULL</td></tr>",
                            "<tr><td>Last Dance</td><td>R</td><td>Restricted</td></tr>",
                            "<tr><td>Boys</td><td>PG-13</td><td>NULL</td></tr>",
                            "<tr><td>Spy Hard</td><td>PG-13</td><td>NULL</td></tr>",
                            "<tr><td>Eddie</td><td>PG-13</td><td>NULL</td></tr>",
                            "<tr><td>The Rock</td><td>R</td><td>Restricted</td></tr>",
                            "<tr><td>The Hunchback of Notre Dame</td><td>G</td><td>General</td></tr>",
                            "<tr><td>Phenomenon</td><td>PG</td><td>Parental guidance</td></tr>",
                            "<tr><td>Kazaam</td><td>PG</td><td>Parental guidance</td></tr>",
                            "<tr><td>Jack</td><td>PG-13</td><td>NULL</td></tr>",
                            "<tr><td>First Kid</td><td>PG</td><td>Parental guidance</td></tr>",
                            "<tr><td>The Rich Man&#39;s Wife</td><td>R</td><td>Restricted</td></tr>",
                            "<tr><td>D3: The Mighty Ducks</td><td>PG</td><td>Parental guidance</td></tr>",
                            "<tr><td>The Associate</td><td>PG-13</td><td>NULL</td></tr>",
                            "<tr><td>Ransom</td><td>R</td><td>Restricted</td></tr>",
                            "<tr><td>The War at Home</td><td>R</td><td>Restricted</td></tr>",
                            "<tr><td>101 Dalmatians</td><td>G</td><td>General</td></tr>",
                            "<tr><td>The Preacher&#39;s Wife</td><td>PG</td><td>Parental guidance</td></tr>",
                            "<tr><td>Evita</td><td>PG</td><td>Parental guidance</td></tr>",
                            "<tr><td>Metro</td><td>R</td><td>Restricted</td></tr>",
                            "<tr><td>Prefontaine</td><td>PG-13</td><td>NULL</td></tr>",
                            "<tr><td>Shadow Conspiracy</td><td>R</td><td>Restricted</td></tr>",
                            "<tr><td>That Darn Cat</td><td>PG</td><td>Parental guidance</td></tr>",
                            "<tr><td>Jungle 2 Jungle</td><td>PG</td><td>Parental guidance</td></tr>",
                            "<tr><td>The Sixth Man</td><td>PG-13</td><td>NULL</td></tr>",
                            "<tr><td>Grosse Pointe Blank</td><td>R</td><td>Restricted</td></tr>",
                            "<tr><td>Romy and Michele&#39;s High School Reunion</td><td>R</td><td>Restricted</td></tr>",
                            "<tr><td>Gone Fishin&#39;</td><td>PG</td><td>Parental guidance</td></tr>",
                            "<tr><td>Con Air</td><td>R</td><td>Restricted</td></tr>",
                            "<tr><td>Hercules</td><td>G</td><td>General</td></tr>",
                            "<tr><td>George Of The Jungle</td><td>PG</td><td>Parental guidance</td></tr>",
                            "<tr><td>Nothing To Lose</td><td>R</td><td>Restricted</td></tr>",
                            "<tr><td>Air Bud</td><td>PG</td><td>Parental guidance</td></tr>",
                            "<tr><td>G.I. Jane</td><td>R</td><td>Restricted</td></tr>",
                            "<tr><td>A Thousand Acres</td><td>R</td><td>Restricted</td></tr>",
                            "<tr><td>Washington Square</td><td>PG</td><td>Parental guidance</td></tr>",
                            "<tr><td>Rocket Man</td><td>PG</td><td>Parental guidance</td></tr>",
                            "<tr><td>Playing God</td><td>R</td><td>Restricted</td></tr>",
                            "<tr><td>Flubber</td><td>PG</td><td>Parental guidance</td></tr>",
                            "<tr><td>An American Werewolf in Paris</td><td>R</td><td>Restricted</td></tr>",
                            "<tr><td>Mr. Magoo</td><td>PG</td><td>Parental guidance</td></tr>",
                            "<tr><td>Kundun</td><td>PG-13</td><td>NULL</td></tr>",
                            "<tr><td>Deep Rising</td><td>R</td><td>Restricted</td></tr>",
                            "<tr><td>Krippendorf&#39;s Tribe</td><td>PG-13</td><td>NULL</td></tr>",
                            "<tr><td>An Alan Smithee Film: Burn Hollywood …</td><td>R</td><td>Restricted</td></tr>",
                            "<tr><td>Meet the Deedles</td><td>PG</td><td>Parental guidance</td></tr>",
                            "<tr><td>He Got Game</td><td>R</td><td>Restricted</td></tr>",
                            "<tr><td>The Horse Whisperer</td><td>PG-13</td><td>NULL</td></tr>",
                            "<tr><td>Six Days, Seven Nights</td><td>PG-13</td><td>NULL</td></tr>",
                            "<tr><td>Mulan</td><td>G</td><td>General</td></tr>",
                            "<tr><td>Armageddon</td><td>PG-13</td><td>NULL</td></tr>",
                            "<tr><td>Jane Austen&#39;s Mafia</td><td>PG-13</td><td>NULL</td></tr>",
                            "<tr><td>The Parent Trap</td><td>PG</td><td>Parental guidance</td></tr>",
                            "<tr><td>Firelight</td><td>R</td><td>Restricted</td></tr>",
                            "<tr><td>Simon Birch</td><td>PG</td><td>Parental guidance</td></tr>",
                            "<tr><td>Holy Man</td><td>PG</td><td>Parental guidance</td></tr>",
                            "<tr><td>Beloved</td><td>R</td><td>Restricted</td></tr>",
                            "<tr><td>The Waterboy</td><td>PG-13</td><td>NULL</td></tr>",
                            "<tr><td>I&#39;ll Be Home For Christmas</td><td>PG</td><td>Parental guidance</td></tr>",
                            "<tr><td>A Bug&#39;s Life</td><td>G</td><td>General</td></tr>",
                            "<tr><td>Enemy of the State</td><td>R</td><td>Restricted</td></tr>",
                            "<tr><td>Rushmore</td><td>R</td><td>Restricted</td></tr>",
                            "<tr><td>A Civil Action</td><td>PG-13</td><td>NULL</td></tr>",
                            "<tr><td>Mighty Joe Young</td><td>PG</td><td>Parental guidance</td></tr>",
                            "<tr><td>My Favorite Martian</td><td>PG</td><td>Parental guidance</td></tr>",
                            "<tr><td>The Other Sister</td><td>PG-13</td><td>NULL</td></tr>",
                            "<tr><td>Doug&#39;s 1st Movie</td><td>G</td><td>General</td></tr>",
                            "<tr><td>Ten Things I Hate About You</td><td>PG-13</td><td>NULL</td></tr>",
                            "<tr><td>Endurance</td><td>PG</td><td>Parental guidance</td></tr>",
                            "<tr><td>Instinct</td><td>R</td><td>Restricted</td></tr>",
                            "<tr><td>Tarzan</td><td>G</td><td>General</td></tr>",
                            "<tr><td>Summer of Sam</td><td>R</td><td>Restricted</td></tr>",
                            "<tr><td>Inspector Gadget</td><td>PG</td><td>Parental guidance</td></tr>",
                            "<tr><td>The Sixth Sense</td><td>PG-13</td><td>NULL</td></tr>",
                            "<tr><td>The 13th Warrior</td><td>R</td><td>Restricted</td></tr>",
                            "<tr><td>Breakfast of Champions</td><td>R</td><td>Restricted</td></tr>",
                            "<tr><td>Mumford</td><td>R</td><td>Restricted</td></tr>",
                            "<tr><td>Mystery, Alaska</td><td>R</td><td>Restricted</td></tr>",
                            "<tr><td>The Straight Story</td><td>G</td><td>General</td></tr>",
                            "<tr><td>The Insider</td><td>R</td><td>Restricted</td></tr>",
                            "<tr><td>Toy Story 2</td><td>G</td><td>General</td></tr>",
                            "<tr><td>Cradle Will Rock</td><td>R</td><td>Restricted</td></tr>",
                            "<tr><td>Deuce Bigalow: Male Gigolo</td><td>R</td><td>Restricted</td></tr>",
                            "<tr><td>Bicentennial Man</td><td>PG</td><td>Parental guidance</td></tr>",
                            "<tr><td>Play it to the Bone</td><td>R</td><td>Restricted</td></tr>",
                            "<tr><td>Fantasia 2000 (IMAX)</td><td>G</td><td>General</td></tr>",
                            "<tr><td>Gun Shy</td><td>R</td><td>Restricted</td></tr>",
                            "<tr><td>The Tigger Movie</td><td>G</td><td>General</td></tr>",
                            "<tr><td>Mission to Mars</td><td>PG</td><td>Parental guidance</td></tr>",
                            "<tr><td>High Fidelity</td><td>R</td><td>Restricted</td></tr>",
                            "<tr><td>Keeping the Faith</td><td>PG-13</td><td>NULL</td></tr>",
                            "<tr><td>Dinosaur</td><td>PG</td><td>Parental guidance</td></tr>",
                            "<tr><td>Shanghai Noon</td><td>PG-13</td><td>NULL</td></tr>",
                            "<tr><td>Gone in 60 Seconds</td><td>PG-13</td><td>NULL</td></tr>",
                            "<tr><td>Fantasia 2000 (Theatrical Release)</td><td>G</td><td>General</td></tr>",
                            "<tr><td>The Kid</td><td>PG</td><td>Parental guidance</td></tr>",
                            "<tr><td>Coyote Ugly</td><td>PG-13</td><td>NULL</td></tr>",
                            "<tr><td>The Crew</td><td>PG-13</td><td>NULL</td></tr>",
                            "<tr><td>Duets</td><td>R</td><td>Restricted</td></tr>",
                            "<tr><td>Remember the Titans</td><td>PG</td><td>Parental guidance</td></tr>",
                            "<tr><td>Unbreakable</td><td>PG-13</td><td>NULL</td></tr>",
                            "<tr><td>102 Dalmatians</td><td>G</td><td>General</td></tr>",
                            "<tr><td>The Emperor&#39;s New Groove</td><td>G</td><td>General</td></tr>",
                            "<tr><td>O Brother, Where Art Thou?</td><td>PG-13</td><td>NULL</td></tr>",
                            "<tr><td>Double Take</td><td>PG-13</td><td>NULL</td></tr>",
                            "<tr><td>Recess: School&#39;s Out</td><td>G</td><td>General</td></tr>",
                            "<tr><td>Just Visiting</td><td>PG-13</td><td>NULL</td></tr>",
                            "<tr><td>Pearl Harbor</td><td>PG-13</td><td>NULL</td></tr>",
                            "<tr><td>Atlantis: The Lost Empire</td><td>PG</td><td>Parental guidance</td></tr>",
                            "<tr><td>crazy/beautiful</td><td>PG-13</td><td>NULL</td></tr>",
                            "<tr><td>The Princess Diaries</td><td>G</td><td>General</td></tr>",
                            "<tr><td>Bubble Boy</td><td>PG-13</td><td>NULL</td></tr>",
                            "<tr><td>Max Keeble&#39;s Big Move</td><td>PG</td><td>Parental guidance</td></tr>",
                            "<tr><td>Corky Romano</td><td>PG-13</td><td>NULL</td></tr>",
                            "<tr><td>High Heels and Low Lifes</td><td>R</td><td>Restricted</td></tr>",
                            "<tr><td>Monsters, Inc.</td><td>G</td><td>General</td></tr>",
                            "<tr><td>Out Cold</td><td>PG-13</td><td>NULL</td></tr>",
                            "<tr><td>The Royal Tenenbaums</td><td>R</td><td>Restricted</td></tr>",
                            "<tr><td>Beauty and the Beast (IMAX)</td><td>G</td><td>General</td></tr>",
                            "<tr><td>Frank McKlusky C.I.</td><td>NULL</td><td>NULL</td></tr>",
                            "<tr><td>Snow Dogs</td><td>PG</td><td>Parental guidance</td></tr>",
                            "<tr><td>The Count of Monte Cristo</td><td>PG-13</td><td>NULL</td></tr>",
                            "<tr><td>Peter Pan: Return to Neverland</td><td>G</td><td>General</td></tr>",
                            "<tr><td>Reign of Fire</td><td>PG-13</td><td>NULL</td></tr>",
                            "<tr><td>Sorority Boys</td><td>R</td><td>Restricted</td></tr>",
                            "<tr><td>The Rookie</td><td>G</td><td>General</td></tr>",
                            "<tr><td>Big Trouble</td><td>PG-13</td><td>NULL</td></tr>",
                            "<tr><td>ESPN&#39;s Ultimate X - The Movie</td><td>PG</td><td>Parental guidance</td></tr>",
                            "<tr><td>Bad Company</td><td>PG-13</td><td>NULL</td></tr>",
                            "<tr><td>Lilo &amp; Stitch</td><td>PG</td><td>Parental guidance</td></tr>",
                            "<tr><td>The Country Bears</td><td>G</td><td>General</td></tr>",
                            "<tr><td>Signs</td><td>PG-13</td><td>NULL</td></tr>",
                            "<tr><td>Sen to Chihiro no Kamikakushi</td><td>PG</td><td>Parental guidance</td></tr>",
                            "<tr><td>Sweet Home Alabama</td><td>PG-13</td><td>NULL</td></tr>",
                            "<tr><td>Moonlight Mile</td><td>PG-13</td><td>NULL</td></tr>",
                            "<tr><td>Tuck Everlasting</td><td>PG</td><td>Parental guidance</td></tr>",
                            "<tr><td>The Santa Clause 2</td><td>G</td><td>General</td></tr>",
                            "<tr><td>Treasure Planet</td><td>PG</td><td>Parental guidance</td></tr>",
                            "<tr><td>The Hot Chick</td><td>PG-13</td><td>NULL</td></tr>",
                            "<tr><td>25th Hour</td><td>R</td><td>Restricted</td></tr>",
                            "<tr><td>The Recruit</td><td>PG-13</td><td>NULL</td></tr>",
                            "<tr><td>Shanghai Knights</td><td>PG-13</td><td>NULL</td></tr>",
                            "<tr><td>The Jungle Book 2</td><td>G</td><td>General</td></tr>",
                            "<tr><td>Bringing Down the House</td><td>PG-13</td><td>NULL</td></tr>",
                            "<tr><td>Piglet&#39;s Big Movie</td><td>G</td><td>General</td></tr>",
                            "<tr><td>Ghosts of the Abyss</td><td>G</td><td>General</td></tr>",
                            "<tr><td>Holes</td><td>PG</td><td>Parental guidance</td></tr>",
                            "<tr><td>The Lizzie McGuire Movie</td><td>PG</td><td>Parental guidance</td></tr>",
                            "<tr><td>Finding Nemo</td><td>G</td><td>General</td></tr>",
                            "<tr><td>Pirates of the Caribbean: The Curse o…</td><td>PG-13</td><td>NULL</td></tr>",
                            "<tr><td>Freaky Friday</td><td>PG</td><td>Parental guidance</td></tr>",
                            "<tr><td>Open Range</td><td>R</td><td>Restricted</td></tr>",
                            "<tr><td>Cold Creek Manor</td><td>R</td><td>Restricted</td></tr>",
                            "<tr><td>Under the Tuscan Sun</td><td>PG-13</td><td>NULL</td></tr>",
                            "<tr><td>Veronica Guerin</td><td>R</td><td>Restricted</td></tr>",
                            "<tr><td>Brother Bear</td><td>G</td><td>General</td></tr>",
                            "<tr><td>The Haunted Mansion</td><td>PG</td><td>Parental guidance</td></tr>",
                            "<tr><td>Calendar Girls</td><td>PG-13</td><td>NULL</td></tr>",
                            "<tr><td>Young Black Stallion</td><td>G</td><td>General</td></tr>",
                            "<tr><td>Teacher&#39;s Pet: The Movie</td><td>PG</td><td>Parental guidance</td></tr>",
                            "<tr><td>Miracle</td><td>PG</td><td>Parental guidance</td></tr>",
                            "<tr><td>Confessions of a Teenage Drama Queen</td><td>PG</td><td>Parental guidance</td></tr>",
                            "<tr><td>Hidalgo</td><td>PG-13</td><td>NULL</td></tr>",
                            "<tr><td>The Ladykillers</td><td>R</td><td>Restricted</td></tr>",
                            "<tr><td>Home on the Range</td><td>PG</td><td>Parental guidance</td></tr>",
                            "<tr><td>The Alamo</td><td>PG-13</td><td>NULL</td></tr>",
                            "<tr><td>Raising Helen</td><td>PG-13</td><td>NULL</td></tr>",
                            "<tr><td>Around the World in 80 Days</td><td>PG</td><td>Parental guidance</td></tr>",
                            "<tr><td>America&#39;s Heart and Soul</td><td>Not Rated</td><td>NULL</td></tr>",
                            "<tr><td>King Arthur</td><td>PG-13</td><td>NULL</td></tr>",
                            "<tr><td>The Village</td><td>PG-13</td><td>NULL</td></tr>",
                            "<tr><td>The Princess Diaries 2: Royal Engagement</td><td>G</td><td>General</td></tr>",
                            "<tr><td>Mr. 3000</td><td>PG-13</td><td>NULL</td></tr>",
                            "<tr><td>The Last Shot</td><td>R</td><td>Restricted</td></tr>",
                            "<tr><td>Ladder 49</td><td>PG-13</td><td>NULL</td></tr>",
                            "<tr><td>The Incredibles</td><td>PG</td><td>Parental guidance</td></tr>",
                            "<tr><td>National Treasure</td><td>PG</td><td>Parental guidance</td></tr>",
                            "<tr><td>The Life Aquatic with Steve Zissou</td><td>R</td><td>Restricted</td></tr>",
                            "<tr><td>Aliens of the Deep</td><td>G</td><td>General</td></tr>",
                            "<tr><td>Pooh&#39;s Heffalump Movie</td><td>G</td><td>General</td></tr>",
                            "<tr><td>The Pacifier</td><td>PG</td><td>Parental guidance</td></tr>",
                            "<tr><td>Ice Princess</td><td>G</td><td>General</td></tr>",
                            "<tr><td>A Lot Like Love</td><td>PG-13</td><td>NULL</td></tr>",
                            "<tr><td>The Hitchhiker&#39;s Guide to the Galaxy</td><td>PG</td><td>Parental guidance</td></tr>",
                            "<tr><td>Hauru no ugoku shiro</td><td>PG</td><td>Parental guidance</td></tr>",
                            "<tr><td>Herbie: Fully Loaded</td><td>G</td><td>General</td></tr>",
                            "<tr><td>Dark Water</td><td>PG-13</td><td>NULL</td></tr>",
                            "<tr><td>Sky High</td><td>PG</td><td>Parental guidance</td></tr>",
                            "<tr><td>Valiant</td><td>G</td><td>General</td></tr>",
                            "<tr><td>Flightplan</td><td>PG-13</td><td>NULL</td></tr>",
                            "<tr><td>The Greatest Game Ever Played</td><td>PG</td><td>Parental guidance</td></tr>",
                            "<tr><td>Shopgirl</td><td>R</td><td>Restricted</td></tr>",
                            "<tr><td>Chicken Little</td><td>G</td><td>General</td></tr>",
                            "<tr><td>The Chronicles of Narnia: The Lion, t…</td><td>PG</td><td>Parental guidance</td></tr>",
                            "<tr><td>Casanova</td><td>R</td><td>Restricted</td></tr>",
                            "<tr><td>Glory Road</td><td>PG</td><td>Parental guidance</td></tr>",
                            "<tr><td>Annapolis</td><td>PG-13</td><td>NULL</td></tr>",
                            "<tr><td>Roving Mars</td><td>G</td><td>General</td></tr>",
                            "<tr><td>Eight Below</td><td>PG</td><td>Parental guidance</td></tr>",
                            "<tr><td>The Shaggy Dog</td><td>PG</td><td>Parental guidance</td></tr>",
                            "<tr><td>Stay Alive</td><td>PG-13</td><td>NULL</td></tr>",
                            "<tr><td>The Wild</td><td>G</td><td>General</td></tr>",
                            "<tr><td>Stick It</td><td>PG-13</td><td>NULL</td></tr>",
                            "<tr><td>Goal! The Dream Begins</td><td>PG</td><td>Parental guidance</td></tr>",
                            "<tr><td>Cars</td><td>G</td><td>General</td></tr>",
                            "<tr><td>Pirates of the Caribbean: Dead Man’…</td><td>PG-13</td><td>NULL</td></tr>",
                            "<tr><td>Step Up</td><td>PG-13</td><td>NULL</td></tr>",
                            "<tr><td>Invincible</td><td>PG</td><td>Parental guidance</td></tr>",
                            "<tr><td>The Guardian</td><td>PG-13</td><td>NULL</td></tr>",
                            "<tr><td>The Prestige</td><td>PG-13</td><td>NULL</td></tr>",
                            "<tr><td>Tim Burton&#39;s The Nightmare Before Chr…</td><td>PG</td><td>Parental guidance</td></tr>",
                            "<tr><td>The Santa Clause 3: The Escape Clause</td><td>G</td><td>General</td></tr>",
                            "<tr><td>Déjà Vu</td><td>PG-13</td><td>NULL</td></tr>",
                            "<tr><td>Apocalypto</td><td>R</td><td>Restricted</td></tr>",
                            "<tr><td>Primeval</td><td>R</td><td>Restricted</td></tr>",
                            "<tr><td>Bridge to Terabithia</td><td>PG</td><td>Parental guidance</td></tr>",
                            "<tr><td>Wild Hogs</td><td>PG-13</td><td>NULL</td></tr>",
                            "<tr><td>Meet the Robinsons</td><td>G</td><td>General</td></tr>",
                            "<tr><td>The Lookout</td><td>R</td><td>Restricted</td></tr>",
                            "<tr><td>The Hoax</td><td>R</td><td>Restricted</td></tr>",
                            "<tr><td>The Invisible</td><td>PG-13</td><td>NULL</td></tr>",
                            "<tr><td>Pirates of the Caribbean: At World’…</td><td>PG-13</td><td>NULL</td></tr>",
                            "<tr><td>Ratatouille</td><td>G</td><td>General</td></tr>",
                            "<tr><td>Underdog</td><td>PG</td><td>Parental guidance</td></tr>",
                            "<tr><td>The Game Plan</td><td>PG</td><td>Parental guidance</td></tr>",
                            "<tr><td>Dan in Real Life</td><td>PG-13</td><td>NULL</td></tr>",
                            "<tr><td>Enchanted</td><td>PG</td><td>Parental guidance</td></tr>",
                            "<tr><td>National Treasure 2: Book of Secrets</td><td>PG</td><td>Parental guidance</td></tr>",
                            "<tr><td>Hannah Montana/Miley Cyrus: Best of B…</td><td>G</td><td>General</td></tr>",
                            "<tr><td>Step Up 2 the Streets</td><td>PG-13</td><td>NULL</td></tr>",
                            "<tr><td>College Road Trip</td><td>G</td><td>General</td></tr>",
                            "<tr><td>The Chronicles of Narnia: Prince Caspian</td><td>PG</td><td>Parental guidance</td></tr>",
                            "<tr><td>WALL-E</td><td>G</td><td>General</td></tr>",
                            "<tr><td>Swing Vote</td><td>PG-13</td><td>NULL</td></tr>",
                            "<tr><td>Goal! 2: Living the Dream...</td><td>PG-13</td><td>NULL</td></tr>",
                            "<tr><td>Miracle at St. Anna</td><td>R</td><td>Restricted</td></tr>",
                            "<tr><td>Beverly Hills Chihuahua</td><td>PG</td><td>Parental guidance</td></tr>",
                            "<tr><td>Morning Light</td><td>PG</td><td>Parental guidance</td></tr>",
                            "<tr><td>High School Musical 3: Senior Year</td><td>G</td><td>General</td></tr>",
                            "<tr><td>Bolt</td><td>PG</td><td>Parental guidance</td></tr>",
                            "<tr><td>Bedtime Stories</td><td>PG</td><td>Parental guidance</td></tr>",
                            "<tr><td>Confessions of a Shopaholic</td><td>PG</td><td>Parental guidance</td></tr>",
                            "<tr><td>Jonas Brothers: The 3D Concert Experi…</td><td>G</td><td>General</td></tr>",
                            "<tr><td>Race to Witch Mountain</td><td>PG</td><td>Parental guidance</td></tr>",
                            "<tr><td>Hannah Montana the Movie</td><td>G</td><td>General</td></tr>",
                            "<tr><td>Earth</td><td>G</td><td>General</td></tr>",
                            "<tr><td>Up</td><td>PG</td><td>Parental guidance</td></tr>",
                            "<tr><td>The Proposal</td><td>PG-13</td><td>NULL</td></tr>",
                            "<tr><td>G-Force</td><td>PG</td><td>Parental guidance</td></tr>",
                            "<tr><td>Gake no ue no Ponyo</td><td>G</td><td>General</td></tr>",
                            "<tr><td>X Games 3D: The Movie</td><td>PG</td><td>Parental guidance</td></tr>",
                            "<tr><td>Walt and El Grupo</td><td>PG</td><td>Parental guidance</td></tr>",
                            "<tr><td>Surrogates</td><td>PG-13</td><td>NULL</td></tr>",
                            "<tr><td>Toy Story 3D Double Feature</td><td>G</td><td>General</td></tr>",
                            "<tr><td>Disney&#39;s A Christmas Carol</td><td>PG</td><td>Parental guidance</td></tr>",
                            "<tr><td>The Princess and the Frog</td><td>G</td><td>General</td></tr>",
                            "<tr><td>Old Dogs</td><td>PG</td><td>Parental guidance</td></tr>",
                            "<tr><td>When in Rome</td><td>PG-13</td><td>NULL</td></tr>",
                            "<tr><td>Alice in Wonderland</td><td>PG</td><td>Parental guidance</td></tr>",
                            "<tr><td>Waking Sleeping Beauty</td><td>PG</td><td>Parental guidance</td></tr>",
                            "<tr><td>The Last Song</td><td>PG</td><td>Parental guidance</td></tr>",
                            "<tr><td>Oceans</td><td>G</td><td>General</td></tr>",
                            "<tr><td>Prince of Persia: Sands of Time</td><td>PG-13</td><td>NULL</td></tr>",
                            "<tr><td>Toy Story 3</td><td>G</td><td>General</td></tr>",
                            "<tr><td>The Sorcerer&#39;s Apprentice</td><td>PG</td><td>Parental guidance</td></tr>",
                            "<tr><td>Step Up 3D</td><td>PG-13</td><td>NULL</td></tr>",
                            "<tr><td>Gedo Senki (Tales from Earthsea)</td><td>PG-13</td><td>NULL</td></tr>",
                            "<tr><td>You Again</td><td>PG</td><td>Parental guidance</td></tr>",
                            "<tr><td>Secretariat</td><td>PG</td><td>Parental guidance</td></tr>",
                            "<tr><td>Tangled</td><td>PG</td><td>Parental guidance</td></tr>",
                            "<tr><td>Tron: Legacy</td><td>PG</td><td>Parental guidance</td></tr>",
                            "<tr><td>Gnomeo and Juliet</td><td>G</td><td>General</td></tr>",
                            "<tr><td>I am Number Four</td><td>PG-13</td><td>NULL</td></tr>",
                            "<tr><td>Mars Needs Moms</td><td>PG</td><td>Parental guidance</td></tr>",
                            "<tr><td>African Cats</td><td>G</td><td>General</td></tr>",
                            "<tr><td>Zokkomon</td><td>PG</td><td>Parental guidance</td></tr>",
                            "<tr><td>Prom</td><td>PG</td><td>Parental guidance</td></tr>",
                            "<tr><td>Pirates of the Caribbean: On Stranger…</td><td>PG-13</td><td>NULL</td></tr>",
                            "<tr><td>Cars 2</td><td>G</td><td>General</td></tr>",
                            "<tr><td>Winnie the Pooh</td><td>G</td><td>General</td></tr>",
                            "<tr><td>The Help</td><td>PG-13</td><td>NULL</td></tr>",
                            "<tr><td>Fright Night</td><td>R</td><td>Restricted</td></tr>",
                            "<tr><td>Real Steel</td><td>PG-13</td><td>NULL</td></tr>",
                            "<tr><td>The Muppets</td><td>PG</td><td>Parental guidance</td></tr>",
                            "<tr><td>War Horse</td><td>PG-13</td><td>NULL</td></tr>",
                            "<tr><td>The Secret World of Arietty</td><td>G</td><td>General</td></tr>",
                            "<tr><td>John Carter</td><td>PG-13</td><td>NULL</td></tr>",
                            "<tr><td>Chimpanzee</td><td>G</td><td>General</td></tr>",
                            "<tr><td>The Avengers</td><td>PG-13</td><td>NULL</td></tr>",
                            "<tr><td>Brave</td><td>PG</td><td>Parental guidance</td></tr>",
                            "<tr><td>People Like Us</td><td>PG-13</td><td>NULL</td></tr>",
                            "<tr><td>The Odd Life of Timothy Green</td><td>PG</td><td>Parental guidance</td></tr>",
                            "<tr><td>Frankenweenie</td><td>PG</td><td>Parental guidance</td></tr>",
                            "<tr><td>Wreck-It Ralph</td><td>PG</td><td>Parental guidance</td></tr>",
                            "<tr><td>Lincoln</td><td>PG-13</td><td>NULL</td></tr>",
                            "<tr><td>Oz the Great and Powerful</td><td>PG</td><td>Parental guidance</td></tr>",
                            "<tr><td>Iron Man 3</td><td>PG-13</td><td>NULL</td></tr>",
                            "<tr><td>Monsters University</td><td>G</td><td>General</td></tr>",
                            "<tr><td>The Lone Ranger</td><td>PG-13</td><td>NULL</td></tr>",
                            "<tr><td>Disney Planes</td><td>PG</td><td>Parental guidance</td></tr>",
                            "<tr><td>The Fifth Estate</td><td>R</td><td>Restricted</td></tr>",
                            "<tr><td>Thor: The Dark World</td><td>PG-13</td><td>NULL</td></tr>",
                            "<tr><td>Kaze Tachinu</td><td>PG-13</td><td>NULL</td></tr>",
                            "<tr><td>Frozen</td><td>PG</td><td>Parental guidance</td></tr>",
                            "<tr><td>Delivery Man</td><td>PG-13</td><td>NULL</td></tr>",
                            "<tr><td>Saving Mr. Banks</td><td>PG-13</td><td>NULL</td></tr>",
                            "<tr><td>Need for Speed</td><td>PG-13</td><td>NULL</td></tr>",
                            "<tr><td>Muppets Most Wanted</td><td>PG</td><td>Parental guidance</td></tr>",
                            "<tr><td>Captain America: The Winter Soldier</td><td>PG-13</td><td>NULL</td></tr>",
                            "<tr><td>Bears</td><td>G</td><td>General</td></tr>",
                            "<tr><td>Million Dollar Arm</td><td>PG</td><td>Parental guidance</td></tr>",
                            "<tr><td>Maleficent</td><td>PG</td><td>Parental guidance</td></tr>",
                            "<tr><td>Planes: Fire and Rescue</td><td>PG</td><td>Parental guidance</td></tr>",
                            "<tr><td>Guardians of the Galaxy</td><td>PG-13</td><td>NULL</td></tr>",
                            "<tr><td>The Hundred-Foot Journey</td><td>PG</td><td>Parental guidance</td></tr>",
                            "<tr><td>Alexander and the Terrible, Horrible,…</td><td>PG</td><td>Parental guidance</td></tr>",
                            "<tr><td>Big Hero 6</td><td>PG</td><td>Parental guidance</td></tr>",
                            "<tr><td>Into the Woods</td><td>PG</td><td>Parental guidance</td></tr>",
                            "<tr><td>Strange Magic</td><td>PG</td><td>Parental guidance</td></tr>",
                            "<tr><td>McFarland, USA</td><td>PG</td><td>Parental guidance</td></tr>",
                            "<tr><td>Cinderella</td><td>PG</td><td>Parental guidance</td></tr>",
                            "<tr><td>Monkey Kingdom</td><td>G</td><td>General</td></tr>",
                            "<tr><td>Avengers: Age of Ultron</td><td>PG-13</td><td>NULL</td></tr>",
                            "<tr><td>Tomorrowland</td><td>PG</td><td>Parental guidance</td></tr>",
                            "<tr><td>Inside Out</td><td>PG</td><td>Parental guidance</td></tr>",
                            "<tr><td>Ant-Man</td><td>PG-13</td><td>NULL</td></tr>",
                            "<tr><td>Bridge of Spies</td><td>PG-13</td><td>NULL</td></tr>",
                            "<tr><td>The Good Dinosaur</td><td>PG</td><td>Parental guidance</td></tr>",
                            "<tr><td>Star Wars Ep. VII: The Force Awakens</td><td>PG-13</td><td>NULL</td></tr>",
                            "<tr><td>The Finest Hours</td><td>PG</td><td>Parental guidance</td></tr>",
                            "<tr><td>Zootopia</td><td>PG</td><td>Parental guidance</td></tr>",
                            "<tr><td>The Jungle Book</td><td>PG</td><td>Parental guidance</td></tr>",
                            "<tr><td>A Beautiful Planet</td><td>G</td><td>General</td></tr>",
                            "<tr><td>Captain America: Civil War</td><td>PG-13</td><td>NULL</td></tr>",
                            "<tr><td>Alice Through the Looking Glass</td><td>PG</td><td>Parental guidance</td></tr>",
                            "<tr><td>Finding Dory</td><td>PG</td><td>Parental guidance</td></tr>",
                            "<tr><td>The BFG</td><td>PG</td><td>Parental guidance</td></tr>",
                            "<tr><td>Pete’s Dragon</td><td>PG</td><td>Parental guidance</td></tr>",
                            "<tr><td>The Light Between Oceans</td><td>PG-13</td><td>NULL</td></tr>",
                            "<tr><td>Queen of Katwe</td><td>PG</td><td>Parental guidance</td></tr>",
                            "<tr><td>Doctor Strange</td><td>PG-13</td><td>NULL</td></tr>",
                            "<tr><td>Moana</td><td>PG</td><td>Parental guidance</td></tr>",
                            "<tr><td>Rogue One: A Star Wars Story</td><td>PG-13</td><td>NULL</td></tr>",
                            "</table>"
                        ]
                    }
                }
            ],
            "execution_count": 5
        },
        {
            "cell_type": "code",
            "source": [
                "with cte as (\r\n",
                "select movie_title ,inflation_adjusted_gross ,\r\n",
                "    case\r\n",
                "        when inflation_adjusted_gross BETWEEN 0 and 1000000 then '0-1,000,000'\r\n",
                "        when inflation_adjusted_gross BETWEEN 1000001 and 50000000 then '1,000,001-50,000,000'\r\n",
                "        when inflation_adjusted_gross BETWEEN 50000001 and 500e6 then '50M-500M'\r\n",
                "        when inflation_adjusted_gross BETWEEN 50000001 and 1000e6 then '500 M-100 M'\r\n",
                "        when inflation_adjusted_gross > 1000e6 then '> 100M'\r\n",
                "    \r\n",
                "    end as gross\r\n",
                "    from movie_gross\r\n",
                ")\r\n",
                "SELECT\r\n",
                "    gross,\r\n",
                "    COUNT(gross) movie_count\r\n",
                "FROM cte\r\n",
                "GROUP BY gross\r\n",
                ""
            ],
            "metadata": {
                "language": "sql",
                "azdata_cell_guid": "e8a3dd71-43eb-4473-893f-e1a1f4f2a29e"
            },
            "outputs": [
                {
                    "output_type": "display_data",
                    "data": {
                        "text/html": "(5 rows affected)"
                    },
                    "metadata": {}
                },
                {
                    "output_type": "display_data",
                    "data": {
                        "text/html": "Total execution time: 00:00:00.008"
                    },
                    "metadata": {}
                },
                {
                    "output_type": "execute_result",
                    "metadata": {},
                    "execution_count": 26,
                    "data": {
                        "application/vnd.dataresource+json": {
                            "schema": {
                                "fields": [
                                    {
                                        "name": "gross"
                                    },
                                    {
                                        "name": "movie_count"
                                    }
                                ]
                            },
                            "data": [
                                {
                                    "gross": "> 100M",
                                    "movie_count": "6"
                                },
                                {
                                    "gross": "0-1,000,000",
                                    "movie_count": "20"
                                },
                                {
                                    "gross": "1,000,001-50,000,000",
                                    "movie_count": "248"
                                },
                                {
                                    "gross": "500 M-100 M",
                                    "movie_count": "9"
                                },
                                {
                                    "gross": "50M-500M",
                                    "movie_count": "296"
                                }
                            ]
                        },
                        "text/html": [
                            "<table>",
                            "<tr><th>gross</th><th>movie_count</th></tr>",
                            "<tr><td>&gt; 100M</td><td>6</td></tr>",
                            "<tr><td>0-1,000,000</td><td>20</td></tr>",
                            "<tr><td>1,000,001-50,000,000</td><td>248</td></tr>",
                            "<tr><td>500 M-100 M</td><td>9</td></tr>",
                            "<tr><td>50M-500M</td><td>296</td></tr>",
                            "</table>"
                        ]
                    }
                }
            ],
            "execution_count": 26
        }
    ]
}