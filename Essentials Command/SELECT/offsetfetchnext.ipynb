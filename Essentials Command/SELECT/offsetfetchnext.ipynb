{
    "metadata": {
        "kernelspec": {
            "name": "SQL",
            "display_name": "SQL",
            "language": "sql"
        },
        "language_info": {
            "name": "sql",
            "version": ""
        }
    },
    "nbformat_minor": 2,
    "nbformat": 4,
    "cells": [
        {
            "cell_type": "markdown",
            "source": [
                "ORDER BY OFFSET FETCH"
            ],
            "metadata": {
                "azdata_cell_guid": "e8348271-47b8-4416-91d5-646bfef4c198"
            },
            "attachments": {}
        },
        {
            "cell_type": "code",
            "source": [
                "select * from movie_gross order by inflation_adjusted_gross DESC"
            ],
            "metadata": {
                "azdata_cell_guid": "7e4457ed-81f1-4da2-8968-abe8e19b3275",
                "language": "sql"
            },
            "outputs": [
                {
                    "output_type": "display_data",
                    "data": {
                        "text/html": "(579 rows affected)"
                    },
                    "metadata": {}
                },
                {
                    "output_type": "display_data",
                    "data": {
                        "text/html": "Total execution time: 00:00:00.014"
                    },
                    "metadata": {}
                },
                {
                    "output_type": "execute_result",
                    "execution_count": 10,
                    "data": {
                        "application/vnd.dataresource+json": {
                            "schema": {
                                "fields": [
                                    {
                                        "name": "movie_title"
                                    },
                                    {
                                        "name": "release_date"
                                    },
                                    {
                                        "name": "genre"
                                    },
                                    {
                                        "name": "mpaa_rating"
                                    },
                                    {
                                        "name": "total_gross"
                                    },
                                    {
                                        "name": "inflation_adjusted_gross"
                                    }
                                ]
                            },
                            "data": [
                                {
                                    "movie_title": "Snow White and the Seven Dwarfs",
                                    "release_date": "1937-12-21",
                                    "genre": "Musical",
                                    "mpaa_rating": "G",
                                    "total_gross": "184925485",
                                    "inflation_adjusted_gross": "5228953251"
                                },
                                {
                                    "movie_title": "Pinocchio",
                                    "release_date": "1940-02-09",
                                    "genre": "Adventure",
                                    "mpaa_rating": "G",
                                    "total_gross": "84300000",
                                    "inflation_adjusted_gross": "2188229052"
                                },
                                {
                                    "movie_title": "Fantasia",
                                    "release_date": "1940-11-13",
                                    "genre": "Musical",
                                    "mpaa_rating": "G",
                                    "total_gross": "83320000",
                                    "inflation_adjusted_gross": "2187090808"
                                },
                                {
                                    "movie_title": "101 Dalmatians",
                                    "release_date": "1961-01-25",
                                    "genre": "Comedy",
                                    "mpaa_rating": "G",
                                    "total_gross": "153000000",
                                    "inflation_adjusted_gross": "1362870985"
                                },
                                {
                                    "movie_title": "Lady and the Tramp",
                                    "release_date": "1955-06-22",
                                    "genre": "Drama",
                                    "mpaa_rating": "G",
                                    "total_gross": "93600000",
                                    "inflation_adjusted_gross": "1236035515"
                                },
                                {
                                    "movie_title": "Song of the South",
                                    "release_date": "1946-11-12",
                                    "genre": "Adventure",
                                    "mpaa_rating": "G",
                                    "total_gross": "65000000",
                                    "inflation_adjusted_gross": "1078510579"
                                },
                                {
                                    "movie_title": "Star Wars Ep. VII: The Force Awakens",
                                    "release_date": "2015-12-18",
                                    "genre": "Adventure",
                                    "mpaa_rating": "PG-13",
                                    "total_gross": "936662225",
                                    "inflation_adjusted_gross": "936662225"
                                },
                                {
                                    "movie_title": "Cinderella",
                                    "release_date": "1950-02-15",
                                    "genre": "Drama",
                                    "mpaa_rating": "G",
                                    "total_gross": "85000000",
                                    "inflation_adjusted_gross": "920608730"
                                },
                                {
                                    "movie_title": "The Jungle Book",
                                    "release_date": "1967-10-18",
                                    "genre": "Musical",
                                    "mpaa_rating": "Not Rated",
                                    "total_gross": "141843000",
                                    "inflation_adjusted_gross": "789612346"
                                },
                                {
                                    "movie_title": "The Lion King",
                                    "release_date": "1994-06-15",
                                    "genre": "Adventure",
                                    "mpaa_rating": "G",
                                    "total_gross": "422780140",
                                    "inflation_adjusted_gross": "761640898"
                                },
                                {
                                    "movie_title": "The Avengers",
                                    "release_date": "2012-05-04",
                                    "genre": "Action",
                                    "mpaa_rating": "PG-13",
                                    "total_gross": "623279547",
                                    "inflation_adjusted_gross": "660081224"
                                },
                                {
                                    "movie_title": "Pirates of the Caribbean: Dead Man’…",
                                    "release_date": "2006-07-07",
                                    "genre": "Adventure",
                                    "mpaa_rating": "PG-13",
                                    "total_gross": "423315812",
                                    "inflation_adjusted_gross": "544817142"
                                },
                                {
                                    "movie_title": "Rogue One: A Star Wars Story",
                                    "release_date": "2016-12-16",
                                    "genre": "Adventure",
                                    "mpaa_rating": "PG-13",
                                    "total_gross": "529483936",
                                    "inflation_adjusted_gross": "529483936"
                                },
                                {
                                    "movie_title": "20,000 Leagues Under the Sea",
                                    "release_date": "1954-12-23",
                                    "genre": "Adventure",
                                    "mpaa_rating": "NULL",
                                    "total_gross": "28200000",
                                    "inflation_adjusted_gross": "528279994"
                                },
                                {
                                    "movie_title": "Finding Nemo",
                                    "release_date": "2003-05-30",
                                    "genre": "Adventure",
                                    "mpaa_rating": "G",
                                    "total_gross": "380529370",
                                    "inflation_adjusted_gross": "518148559"
                                },
                                {
                                    "movie_title": "Finding Dory",
                                    "release_date": "2016-06-17",
                                    "genre": "Adventure",
                                    "mpaa_rating": "PG",
                                    "total_gross": "486295561",
                                    "inflation_adjusted_gross": "486295561"
                                },
                                {
                                    "movie_title": "The Sixth Sense",
                                    "release_date": "1999-08-06",
                                    "genre": "Thriller/Suspense",
                                    "mpaa_rating": "PG-13",
                                    "total_gross": "293506292",
                                    "inflation_adjusted_gross": "485424724"
                                },
                                {
                                    "movie_title": "Avengers: Age of Ultron",
                                    "release_date": "2015-05-01",
                                    "genre": "Action",
                                    "mpaa_rating": "PG-13",
                                    "total_gross": "459005868",
                                    "inflation_adjusted_gross": "459005868"
                                },
                                {
                                    "movie_title": "Toy Story 3",
                                    "release_date": "2010-06-18",
                                    "genre": "Adventure",
                                    "mpaa_rating": "G",
                                    "total_gross": "415004880",
                                    "inflation_adjusted_gross": "443408255"
                                },
                                {
                                    "movie_title": "Aladdin",
                                    "release_date": "1992-11-11",
                                    "genre": "Comedy",
                                    "mpaa_rating": "G",
                                    "total_gross": "217350219",
                                    "inflation_adjusted_gross": "441969178"
                                },
                                {
                                    "movie_title": "Pirates of the Caribbean: The Curse o…",
                                    "release_date": "2003-07-09",
                                    "genre": "Adventure",
                                    "mpaa_rating": "PG-13",
                                    "total_gross": "305411224",
                                    "inflation_adjusted_gross": "426967926"
                                },
                                {
                                    "movie_title": "Iron Man 3",
                                    "release_date": "2013-05-03",
                                    "genre": "Action",
                                    "mpaa_rating": "PG-13",
                                    "total_gross": "408992272",
                                    "inflation_adjusted_gross": "424084233"
                                },
                                {
                                    "movie_title": "Monsters, Inc.",
                                    "release_date": "2001-11-02",
                                    "genre": "Adventure",
                                    "mpaa_rating": "G",
                                    "total_gross": "289423425",
                                    "inflation_adjusted_gross": "416073179"
                                },
                                {
                                    "movie_title": "Frozen",
                                    "release_date": "2013-11-22",
                                    "genre": "Adventure",
                                    "mpaa_rating": "PG",
                                    "total_gross": "400738009",
                                    "inflation_adjusted_gross": "414997174"
                                },
                                {
                                    "movie_title": "Captain America: Civil War",
                                    "release_date": "2016-05-06",
                                    "genre": "Action",
                                    "mpaa_rating": "PG-13",
                                    "total_gross": "408084349",
                                    "inflation_adjusted_gross": "408084349"
                                },
                                {
                                    "movie_title": "Toy Story 2",
                                    "release_date": "1999-11-19",
                                    "genre": "Adventure",
                                    "mpaa_rating": "G",
                                    "total_gross": "245852179",
                                    "inflation_adjusted_gross": "404450426"
                                },
                                {
                                    "movie_title": "The Chronicles of Narnia: The Lion, t…",
                                    "release_date": "2005-12-09",
                                    "genre": "Adventure",
                                    "mpaa_rating": "PG",
                                    "total_gross": "291710957",
                                    "inflation_adjusted_gross": "381557539"
                                },
                                {
                                    "movie_title": "Pirates of the Caribbean: At World’…",
                                    "release_date": "2007-05-24",
                                    "genre": "Adventure",
                                    "mpaa_rating": "PG-13",
                                    "total_gross": "309420425",
                                    "inflation_adjusted_gross": "379129960"
                                },
                                {
                                    "movie_title": "Toy Story",
                                    "release_date": "1995-11-22",
                                    "genre": "Adventure",
                                    "mpaa_rating": "G",
                                    "total_gross": "191796233",
                                    "inflation_adjusted_gross": "370409631"
                                },
                                {
                                    "movie_title": "The Jungle Book",
                                    "release_date": "2016-04-15",
                                    "genre": "Adventure",
                                    "mpaa_rating": "PG",
                                    "total_gross": "364001123",
                                    "inflation_adjusted_gross": "364001123"
                                },
                                {
                                    "movie_title": "Beauty and the Beast",
                                    "release_date": "1991-11-13",
                                    "genre": "Musical",
                                    "mpaa_rating": "G",
                                    "total_gross": "218951625",
                                    "inflation_adjusted_gross": "363017667"
                                },
                                {
                                    "movie_title": "Armageddon",
                                    "release_date": "1998-07-01",
                                    "genre": "Adventure",
                                    "mpaa_rating": "PG-13",
                                    "total_gross": "201578182",
                                    "inflation_adjusted_gross": "362324957"
                                },
                                {
                                    "movie_title": "Alice in Wonderland",
                                    "release_date": "2010-03-05",
                                    "genre": "Adventure",
                                    "mpaa_rating": "PG",
                                    "total_gross": "334191110",
                                    "inflation_adjusted_gross": "357063499"
                                },
                                {
                                    "movie_title": "Inside Out",
                                    "release_date": "2015-06-19",
                                    "genre": "Adventure",
                                    "mpaa_rating": "PG",
                                    "total_gross": "356461711",
                                    "inflation_adjusted_gross": "356461711"
                                },
                                {
                                    "movie_title": "Pretty Woman",
                                    "release_date": "1990-03-23",
                                    "genre": "Romantic Comedy",
                                    "mpaa_rating": "R",
                                    "total_gross": "178406268",
                                    "inflation_adjusted_gross": "356389765"
                                },
                                {
                                    "movie_title": "The Incredibles",
                                    "release_date": "2004-11-05",
                                    "genre": "Adventure",
                                    "mpaa_rating": "PG",
                                    "total_gross": "261441092",
                                    "inflation_adjusted_gross": "354488708"
                                },
                                {
                                    "movie_title": "3 Men and a Baby",
                                    "release_date": "1987-11-25",
                                    "genre": "Comedy",
                                    "mpaa_rating": "PG",
                                    "total_gross": "167780960",
                                    "inflation_adjusted_gross": "353334607"
                                },
                                {
                                    "movie_title": "Guardians of the Galaxy",
                                    "release_date": "2014-08-01",
                                    "genre": "Adventure",
                                    "mpaa_rating": "PG-13",
                                    "total_gross": "333172112",
                                    "inflation_adjusted_gross": "343771168"
                                },
                                {
                                    "movie_title": "Zootopia",
                                    "release_date": "2016-03-04",
                                    "genre": "Adventure",
                                    "mpaa_rating": "PG",
                                    "total_gross": "341268248",
                                    "inflation_adjusted_gross": "341268248"
                                },
                                {
                                    "movie_title": "Signs",
                                    "release_date": "2002-08-02",
                                    "genre": "Thriller/Suspense",
                                    "mpaa_rating": "PG-13",
                                    "total_gross": "227965690",
                                    "inflation_adjusted_gross": "330754439"
                                },
                                {
                                    "movie_title": "Up",
                                    "release_date": "2009-05-29",
                                    "genre": "Adventure",
                                    "mpaa_rating": "PG",
                                    "total_gross": "293004164",
                                    "inflation_adjusted_gross": "329336681"
                                },
                                {
                                    "movie_title": "Who Framed Roger Rabbit?",
                                    "release_date": "1988-06-22",
                                    "genre": "Comedy",
                                    "mpaa_rating": "PG",
                                    "total_gross": "154112492",
                                    "inflation_adjusted_gross": "316250084"
                                },
                                {
                                    "movie_title": "Cars",
                                    "release_date": "2006-06-09",
                                    "genre": "Comedy",
                                    "mpaa_rating": "G",
                                    "total_gross": "244082982",
                                    "inflation_adjusted_gross": "314140384"
                                },
                                {
                                    "movie_title": "The Absent Minded Professor",
                                    "release_date": "1961-03-16",
                                    "genre": "Comedy",
                                    "mpaa_rating": "NULL",
                                    "total_gross": "25381407",
                                    "inflation_adjusted_gross": "310094574"
                                },
                                {
                                    "movie_title": "The Santa Clause",
                                    "release_date": "1994-11-11",
                                    "genre": "Comedy",
                                    "mpaa_rating": "PG",
                                    "total_gross": "144833357",
                                    "inflation_adjusted_gross": "298369717"
                                },
                                {
                                    "movie_title": "Pearl Harbor",
                                    "release_date": "2001-05-25",
                                    "genre": "Action",
                                    "mpaa_rating": "PG-13",
                                    "total_gross": "198539855",
                                    "inflation_adjusted_gross": "295705112"
                                },
                                {
                                    "movie_title": "A Bug's Life",
                                    "release_date": "1998-11-20",
                                    "genre": "Adventure",
                                    "mpaa_rating": "G",
                                    "total_gross": "162798565",
                                    "inflation_adjusted_gross": "288981698"
                                },
                                {
                                    "movie_title": "The Waterboy",
                                    "release_date": "1998-11-06",
                                    "genre": "Comedy",
                                    "mpaa_rating": "PG-13",
                                    "total_gross": "161491646",
                                    "inflation_adjusted_gross": "288691833"
                                },
                                {
                                    "movie_title": "Tarzan",
                                    "release_date": "1999-06-16",
                                    "genre": "Adventure",
                                    "mpaa_rating": "G",
                                    "total_gross": "171091819",
                                    "inflation_adjusted_gross": "283900254"
                                },
                                {
                                    "movie_title": "Sister Act",
                                    "release_date": "1992-05-29",
                                    "genre": "Comedy",
                                    "mpaa_rating": "PG",
                                    "total_gross": "139605150",
                                    "inflation_adjusted_gross": "283583472"
                                },
                                {
                                    "movie_title": "Monsters University",
                                    "release_date": "2013-06-21",
                                    "genre": "Adventure",
                                    "mpaa_rating": "G",
                                    "total_gross": "268488329",
                                    "inflation_adjusted_gross": "278395641"
                                },
                                {
                                    "movie_title": "Honey, I Shrunk the Kids",
                                    "release_date": "1989-06-23",
                                    "genre": "Adventure",
                                    "mpaa_rating": "PG",
                                    "total_gross": "130724172",
                                    "inflation_adjusted_gross": "276191669"
                                },
                                {
                                    "movie_title": "Pocahontas",
                                    "release_date": "1995-06-10",
                                    "genre": "Adventure",
                                    "mpaa_rating": "G",
                                    "total_gross": "141579773",
                                    "inflation_adjusted_gross": "274370957"
                                },
                                {
                                    "movie_title": "Captain America: The Winter Soldier",
                                    "release_date": "2014-04-04",
                                    "genre": "Action",
                                    "mpaa_rating": "PG-13",
                                    "total_gross": "259746958",
                                    "inflation_adjusted_gross": "268013076"
                                },
                                {
                                    "movie_title": "National Treasure 2: Book of Secrets",
                                    "release_date": "2007-12-21",
                                    "genre": "Adventure",
                                    "mpaa_rating": "PG",
                                    "total_gross": "219961501",
                                    "inflation_adjusted_gross": "267003525"
                                },
                                {
                                    "movie_title": "WALL-E",
                                    "release_date": "2008-06-27",
                                    "genre": "Adventure",
                                    "mpaa_rating": "G",
                                    "total_gross": "223808164",
                                    "inflation_adjusted_gross": "262771918"
                                },
                                {
                                    "movie_title": "Ransom",
                                    "release_date": "1996-11-08",
                                    "genre": "Action",
                                    "mpaa_rating": "R",
                                    "total_gross": "136492681",
                                    "inflation_adjusted_gross": "259807820"
                                },
                                {
                                    "movie_title": "101 Dalmatians",
                                    "release_date": "1996-11-27",
                                    "genre": "Comedy",
                                    "mpaa_rating": "G",
                                    "total_gross": "136189294",
                                    "inflation_adjusted_gross": "258728898"
                                },
                                {
                                    "movie_title": "Pirates of the Caribbean: On Stranger…",
                                    "release_date": "2011-05-20",
                                    "genre": "Adventure",
                                    "mpaa_rating": "PG-13",
                                    "total_gross": "241063875",
                                    "inflation_adjusted_gross": "256263359"
                                },
                                {
                                    "movie_title": "The Rock",
                                    "release_date": "1996-06-07",
                                    "genre": "Action",
                                    "mpaa_rating": "R",
                                    "total_gross": "134069511",
                                    "inflation_adjusted_gross": "255702705"
                                },
                                {
                                    "movie_title": "The Aristocats",
                                    "release_date": "1970-04-24",
                                    "genre": "Musical",
                                    "mpaa_rating": "G",
                                    "total_gross": "55675257",
                                    "inflation_adjusted_gross": "255161499"
                                },
                                {
                                    "movie_title": "Good Morning Vietnam",
                                    "release_date": "1987-12-23",
                                    "genre": "Comedy",
                                    "mpaa_rating": "R",
                                    "total_gross": "123922370",
                                    "inflation_adjusted_gross": "254414837"
                                },
                                {
                                    "movie_title": "Ratatouille",
                                    "release_date": "2007-06-29",
                                    "genre": "Comedy",
                                    "mpaa_rating": "G",
                                    "total_gross": "206445654",
                                    "inflation_adjusted_gross": "252955933"
                                },
                                {
                                    "movie_title": "Brave",
                                    "release_date": "2012-06-22",
                                    "genre": "Adventure",
                                    "mpaa_rating": "PG",
                                    "total_gross": "237282182",
                                    "inflation_adjusted_gross": "251292441"
                                },
                                {
                                    "movie_title": "Maleficent",
                                    "release_date": "2014-05-30",
                                    "genre": "Adventure",
                                    "mpaa_rating": "PG",
                                    "total_gross": "241407328",
                                    "inflation_adjusted_gross": "249089809"
                                },
                                {
                                    "movie_title": "Moana",
                                    "release_date": "2016-11-23",
                                    "genre": "Adventure",
                                    "mpaa_rating": "PG",
                                    "total_gross": "246082029",
                                    "inflation_adjusted_gross": "246082029"
                                },
                                {
                                    "movie_title": "Oz the Great and Powerful",
                                    "release_date": "2013-03-08",
                                    "genre": "Adventure",
                                    "mpaa_rating": "PG",
                                    "total_gross": "234770996",
                                    "inflation_adjusted_gross": "243434130"
                                },
                                {
                                    "movie_title": "National Treasure",
                                    "release_date": "2004-11-19",
                                    "genre": "Adventure",
                                    "mpaa_rating": "PG",
                                    "total_gross": "173005002",
                                    "inflation_adjusted_gross": "234069353"
                                },
                                {
                                    "movie_title": "Doctor Strange",
                                    "release_date": "2016-11-04",
                                    "genre": "Adventure",
                                    "mpaa_rating": "PG-13",
                                    "total_gross": "232532923",
                                    "inflation_adjusted_gross": "232532923"
                                },
                                {
                                    "movie_title": "Big Hero 6",
                                    "release_date": "2014-11-07",
                                    "genre": "Adventure",
                                    "mpaa_rating": "PG",
                                    "total_gross": "222527828",
                                    "inflation_adjusted_gross": "229249222"
                                },
                                {
                                    "movie_title": "The Little Mermaid",
                                    "release_date": "1989-11-15",
                                    "genre": "Adventure",
                                    "mpaa_rating": "G",
                                    "total_gross": "111543479",
                                    "inflation_adjusted_gross": "223726012"
                                },
                                {
                                    "movie_title": "Mulan",
                                    "release_date": "1998-06-19",
                                    "genre": "Adventure",
                                    "mpaa_rating": "G",
                                    "total_gross": "120620254",
                                    "inflation_adjusted_gross": "216807832"
                                },
                                {
                                    "movie_title": "Dinosaur",
                                    "release_date": "2000-05-19",
                                    "genre": "Adventure",
                                    "mpaa_rating": "PG",
                                    "total_gross": "137748063",
                                    "inflation_adjusted_gross": "215438985"
                                },
                                {
                                    "movie_title": "Tangled",
                                    "release_date": "2010-11-24",
                                    "genre": "Adventure",
                                    "mpaa_rating": "PG",
                                    "total_gross": "200821936",
                                    "inflation_adjusted_gross": "214388548"
                                },
                                {
                                    "movie_title": "Thor: The Dark World",
                                    "release_date": "2013-11-08",
                                    "genre": "Adventure",
                                    "mpaa_rating": "PG-13",
                                    "total_gross": "206362140",
                                    "inflation_adjusted_gross": "213962184"
                                },
                                {
                                    "movie_title": "Lilo & Stitch",
                                    "release_date": "2002-06-21",
                                    "genre": "Adventure",
                                    "mpaa_rating": "PG",
                                    "total_gross": "145771527",
                                    "inflation_adjusted_gross": "211506702"
                                },
                                {
                                    "movie_title": "Dick Tracy",
                                    "release_date": "1990-06-15",
                                    "genre": "Action",
                                    "mpaa_rating": "PG",
                                    "total_gross": "103738726",
                                    "inflation_adjusted_gross": "207231621"
                                },
                                {
                                    "movie_title": "Wild Hogs",
                                    "release_date": "2007-03-02",
                                    "genre": "Comedy",
                                    "mpaa_rating": "PG-13",
                                    "total_gross": "168213584",
                                    "inflation_adjusted_gross": "206110533"
                                },
                                {
                                    "movie_title": "Cars 2",
                                    "release_date": "2011-06-24",
                                    "genre": "Adventure",
                                    "mpaa_rating": "G",
                                    "total_gross": "191450875",
                                    "inflation_adjusted_gross": "203522177"
                                },
                                {
                                    "movie_title": "Dead Poets Society",
                                    "release_date": "1989-06-02",
                                    "genre": "Drama",
                                    "mpaa_rating": "PG",
                                    "total_gross": "95860116",
                                    "inflation_adjusted_gross": "202531517"
                                },
                                {
                                    "movie_title": "The Santa Clause 2",
                                    "release_date": "2002-11-01",
                                    "genre": "Comedy",
                                    "mpaa_rating": "G",
                                    "total_gross": "139225854",
                                    "inflation_adjusted_gross": "201959095"
                                },
                                {
                                    "movie_title": "Cinderella",
                                    "release_date": "2015-03-13",
                                    "genre": "Drama",
                                    "mpaa_rating": "PG",
                                    "total_gross": "201151353",
                                    "inflation_adjusted_gross": "201151353"
                                },
                                {
                                    "movie_title": "Wreck-It Ralph",
                                    "release_date": "2012-11-02",
                                    "genre": "Adventure",
                                    "mpaa_rating": "PG",
                                    "total_gross": "189412677",
                                    "inflation_adjusted_gross": "200354959"
                                },
                                {
                                    "movie_title": "Phenomenon",
                                    "release_date": "1996-07-05",
                                    "genre": "Drama",
                                    "mpaa_rating": "PG",
                                    "total_gross": "104636382",
                                    "inflation_adjusted_gross": "199559799"
                                },
                                {
                                    "movie_title": "Enemy of the State",
                                    "release_date": "1998-11-20",
                                    "genre": "Action",
                                    "mpaa_rating": "R",
                                    "total_gross": "111549836",
                                    "inflation_adjusted_gross": "198472008"
                                },
                                {
                                    "movie_title": "George Of The Jungle",
                                    "release_date": "1997-07-16",
                                    "genre": "Comedy",
                                    "mpaa_rating": "PG",
                                    "total_gross": "105263257",
                                    "inflation_adjusted_gross": "193326632"
                                },
                                {
                                    "movie_title": "Lincoln",
                                    "release_date": "2012-11-09",
                                    "genre": "Drama",
                                    "mpaa_rating": "PG-13",
                                    "total_gross": "182207973",
                                    "inflation_adjusted_gross": "192122330"
                                },
                                {
                                    "movie_title": "The Hunchback of Notre Dame",
                                    "release_date": "1996-06-21",
                                    "genre": "Adventure",
                                    "mpaa_rating": "G",
                                    "total_gross": "100138851",
                                    "inflation_adjusted_gross": "190988799"
                                },
                                {
                                    "movie_title": "Con Air",
                                    "release_date": "1997-06-06",
                                    "genre": "Action",
                                    "mpaa_rating": "R",
                                    "total_gross": "101117573",
                                    "inflation_adjusted_gross": "185712664"
                                },
                                {
                                    "movie_title": "Bringing Down the House",
                                    "release_date": "2003-03-07",
                                    "genre": "Comedy",
                                    "mpaa_rating": "PG-13",
                                    "total_gross": "132675402",
                                    "inflation_adjusted_gross": "185481530"
                                },
                                {
                                    "movie_title": "Sweet Home Alabama",
                                    "release_date": "2002-09-27",
                                    "genre": "Comedy",
                                    "mpaa_rating": "PG-13",
                                    "total_gross": "127214072",
                                    "inflation_adjusted_gross": "184521151"
                                },
                                {
                                    "movie_title": "The Proposal",
                                    "release_date": "2009-06-19",
                                    "genre": "Romantic Comedy",
                                    "mpaa_rating": "PG-13",
                                    "total_gross": "163958031",
                                    "inflation_adjusted_gross": "184288829"
                                },
                                {
                                    "movie_title": "Tron: Legacy",
                                    "release_date": "2010-12-17",
                                    "genre": "Adventure",
                                    "mpaa_rating": "PG",
                                    "total_gross": "172062763",
                                    "inflation_adjusted_gross": "183619259"
                                },
                                {
                                    "movie_title": "Hercules",
                                    "release_date": "1997-06-13",
                                    "genre": "Adventure",
                                    "mpaa_rating": "G",
                                    "total_gross": "99112101",
                                    "inflation_adjusted_gross": "182029412"
                                },
                                {
                                    "movie_title": "Remember the Titans",
                                    "release_date": "2000-09-29",
                                    "genre": "Drama",
                                    "mpaa_rating": "PG",
                                    "total_gross": "115654751",
                                    "inflation_adjusted_gross": "180742479"
                                },
                                {
                                    "movie_title": "The Help",
                                    "release_date": "2011-08-10",
                                    "genre": "Drama",
                                    "mpaa_rating": "PG-13",
                                    "total_gross": "169705587",
                                    "inflation_adjusted_gross": "180404976"
                                },
                                {
                                    "movie_title": "Ant-Man",
                                    "release_date": "2015-07-17",
                                    "genre": "Action",
                                    "mpaa_rating": "PG-13",
                                    "total_gross": "180202163",
                                    "inflation_adjusted_gross": "180202163"
                                },
                                {
                                    "movie_title": "Father of the Bride",
                                    "release_date": "1991-12-20",
                                    "genre": "Comedy",
                                    "mpaa_rating": "PG",
                                    "total_gross": "89325780",
                                    "inflation_adjusted_gross": "179821881"
                                },
                                {
                                    "movie_title": "The Hand That Rocks the Cradle",
                                    "release_date": "1992-01-10",
                                    "genre": "Thriller/Suspense",
                                    "mpaa_rating": "R",
                                    "total_gross": "88036683",
                                    "inflation_adjusted_gross": "178831137"
                                },
                                {
                                    "movie_title": "Chicken Little",
                                    "release_date": "2005-11-04",
                                    "genre": "Adventure",
                                    "mpaa_rating": "G",
                                    "total_gross": "135386665",
                                    "inflation_adjusted_gross": "177954661"
                                },
                                {
                                    "movie_title": "Crimson Tide",
                                    "release_date": "1995-05-12",
                                    "genre": "Action",
                                    "mpaa_rating": "R",
                                    "total_gross": "91387195",
                                    "inflation_adjusted_gross": "177102077"
                                },
                                {
                                    "movie_title": "Flubber",
                                    "release_date": "1997-11-26",
                                    "genre": "Comedy",
                                    "mpaa_rating": "PG",
                                    "total_gross": "92993801",
                                    "inflation_adjusted_gross": "170406423"
                                },
                                {
                                    "movie_title": "The Chronicles of Narnia: Prince Caspian",
                                    "release_date": "2008-05-16",
                                    "genre": "Adventure",
                                    "mpaa_rating": "PG",
                                    "total_gross": "141621490",
                                    "inflation_adjusted_gross": "166277038"
                                },
                                {
                                    "movie_title": "Dangerous Minds",
                                    "release_date": "1995-08-11",
                                    "genre": "Drama",
                                    "mpaa_rating": "R",
                                    "total_gross": "84919401",
                                    "inflation_adjusted_gross": "164552293"
                                },
                                {
                                    "movie_title": "Ruthless People",
                                    "release_date": "1986-06-27",
                                    "genre": "Comedy",
                                    "mpaa_rating": "R",
                                    "total_gross": "71624879",
                                    "inflation_adjusted_gross": "162748712"
                                },
                                {
                                    "movie_title": "Inspector Gadget",
                                    "release_date": "1999-07-23",
                                    "genre": "Comedy",
                                    "mpaa_rating": "PG",
                                    "total_gross": "97387965",
                                    "inflation_adjusted_gross": "161610341"
                                },
                                {
                                    "movie_title": "The Princess Diaries",
                                    "release_date": "2001-08-03",
                                    "genre": "Comedy",
                                    "mpaa_rating": "G",
                                    "total_gross": "108244774",
                                    "inflation_adjusted_gross": "161218928"
                                },
                                {
                                    "movie_title": "Cocktail",
                                    "release_date": "1988-07-29",
                                    "genre": "Drama",
                                    "mpaa_rating": "R",
                                    "total_gross": "78222753",
                                    "inflation_adjusted_gross": "160442289"
                                },
                                {
                                    "movie_title": "The Rescuers",
                                    "release_date": "1977-06-22",
                                    "genre": "Adventure",
                                    "mpaa_rating": "NULL",
                                    "total_gross": "48775599",
                                    "inflation_adjusted_gross": "159743914"
                                },
                                {
                                    "movie_title": "Gone in 60 Seconds",
                                    "release_date": "2000-06-09",
                                    "genre": "Action",
                                    "mpaa_rating": "PG-13",
                                    "total_gross": "101643008",
                                    "inflation_adjusted_gross": "158970411"
                                },
                                {
                                    "movie_title": "Mr. Holland's Opus",
                                    "release_date": "1995-12-29",
                                    "genre": "Drama",
                                    "mpaa_rating": "PG",
                                    "total_gross": "82582604",
                                    "inflation_adjusted_gross": "157508868"
                                },
                                {
                                    "movie_title": "While You Were Sleeping",
                                    "release_date": "1995-04-21",
                                    "genre": "Romantic Comedy",
                                    "mpaa_rating": "PG",
                                    "total_gross": "81057016",
                                    "inflation_adjusted_gross": "157082900"
                                },
                                {
                                    "movie_title": "Splash",
                                    "release_date": "1984-03-09",
                                    "genre": "Comedy",
                                    "mpaa_rating": "PG",
                                    "total_gross": "62599495",
                                    "inflation_adjusted_gross": "157057661"
                                },
                                {
                                    "movie_title": "Enchanted",
                                    "release_date": "2007-11-21",
                                    "genre": "Romantic Comedy",
                                    "mpaa_rating": "PG",
                                    "total_gross": "127706877",
                                    "inflation_adjusted_gross": "156074310"
                                },
                                {
                                    "movie_title": "The Village",
                                    "release_date": "2004-07-30",
                                    "genre": "Thriller/Suspense",
                                    "mpaa_rating": "PG-13",
                                    "total_gross": "114197520",
                                    "inflation_adjusted_gross": "155021748"
                                },
                                {
                                    "movie_title": "Disney's A Christmas Carol",
                                    "release_date": "2009-11-06",
                                    "genre": "Drama",
                                    "mpaa_rating": "PG",
                                    "total_gross": "137855863",
                                    "inflation_adjusted_gross": "154927105"
                                },
                                {
                                    "movie_title": "Freaky Friday",
                                    "release_date": "2003-08-06",
                                    "genre": "Comedy",
                                    "mpaa_rating": "PG",
                                    "total_gross": "110222438",
                                    "inflation_adjusted_gross": "154090360"
                                },
                                {
                                    "movie_title": "The Sword in the Stone",
                                    "release_date": "1963-12-25",
                                    "genre": "Adventure",
                                    "mpaa_rating": "NULL",
                                    "total_gross": "22182353",
                                    "inflation_adjusted_gross": "153870834"
                                },
                                {
                                    "movie_title": "Turner & Hooch",
                                    "release_date": "1989-07-28",
                                    "genre": "Comedy",
                                    "mpaa_rating": "PG",
                                    "total_gross": "71079915",
                                    "inflation_adjusted_gross": "150176361"
                                },
                                {
                                    "movie_title": "The Pacifier",
                                    "release_date": "2005-03-04",
                                    "genre": "Comedy",
                                    "mpaa_rating": "PG",
                                    "total_gross": "113006880",
                                    "inflation_adjusted_gross": "148619029"
                                },
                                {
                                    "movie_title": "Unbreakable",
                                    "release_date": "2000-11-22",
                                    "genre": "Thriller/Suspense",
                                    "mpaa_rating": "PG-13",
                                    "total_gross": "94999143",
                                    "inflation_adjusted_gross": "148208901"
                                },
                                {
                                    "movie_title": "Father of the Bride Part II",
                                    "release_date": "1995-12-08",
                                    "genre": "Comedy",
                                    "mpaa_rating": "PG",
                                    "total_gross": "76578911",
                                    "inflation_adjusted_gross": "147658438"
                                },
                                {
                                    "movie_title": "3 Men and a Little Lady",
                                    "release_date": "1990-11-21",
                                    "genre": "Comedy",
                                    "mpaa_rating": "PG",
                                    "total_gross": "71609321",
                                    "inflation_adjusted_gross": "143108869"
                                },
                                {
                                    "movie_title": "Stakeout",
                                    "release_date": "1987-08-05",
                                    "genre": "Comedy",
                                    "mpaa_rating": "R",
                                    "total_gross": "65673233",
                                    "inflation_adjusted_gross": "141592160"
                                },
                                {
                                    "movie_title": "Down and Out in Beverly Hills",
                                    "release_date": "1986-01-31",
                                    "genre": "Comedy",
                                    "mpaa_rating": "R",
                                    "total_gross": "62134225",
                                    "inflation_adjusted_gross": "141183693"
                                },
                                {
                                    "movie_title": "Cool Runnings",
                                    "release_date": "1993-10-01",
                                    "genre": "Comedy",
                                    "mpaa_rating": "PG",
                                    "total_gross": "68856263",
                                    "inflation_adjusted_gross": "140392731"
                                },
                                {
                                    "movie_title": "Blackbeard's Ghost",
                                    "release_date": "1968-02-08",
                                    "genre": "Comedy",
                                    "mpaa_rating": "NULL",
                                    "total_gross": "21540050",
                                    "inflation_adjusted_gross": "138612686"
                                },
                                {
                                    "movie_title": "The Emperor's New Groove",
                                    "release_date": "2000-12-15",
                                    "genre": "Adventure",
                                    "mpaa_rating": "G",
                                    "total_gross": "89296573",
                                    "inflation_adjusted_gross": "136789252"
                                },
                                {
                                    "movie_title": "The Horse Whisperer",
                                    "release_date": "1998-05-15",
                                    "genre": "Drama",
                                    "mpaa_rating": "PG-13",
                                    "total_gross": "75383563",
                                    "inflation_adjusted_gross": "135497531"
                                },
                                {
                                    "movie_title": "G-Force",
                                    "release_date": "2009-07-24",
                                    "genre": "Adventure",
                                    "mpaa_rating": "PG",
                                    "total_gross": "119436770",
                                    "inflation_adjusted_gross": "134246932"
                                },
                                {
                                    "movie_title": "Bolt",
                                    "release_date": "2008-11-21",
                                    "genre": "Comedy",
                                    "mpaa_rating": "PG",
                                    "total_gross": "114053759",
                                    "inflation_adjusted_gross": "133702498"
                                },
                                {
                                    "movie_title": "Six Days, Seven Nights",
                                    "release_date": "1998-06-12",
                                    "genre": "Romantic Comedy",
                                    "mpaa_rating": "PG-13",
                                    "total_gross": "74339294",
                                    "inflation_adjusted_gross": "133620516"
                                },
                                {
                                    "movie_title": "The Fox and the Hound",
                                    "release_date": "1981-07-10",
                                    "genre": "Comedy",
                                    "mpaa_rating": "NULL",
                                    "total_gross": "43899231",
                                    "inflation_adjusted_gross": "133118889"
                                },
                                {
                                    "movie_title": "The Apple Dumpling Gang",
                                    "release_date": "1975-07-01",
                                    "genre": "Comedy",
                                    "mpaa_rating": "NULL",
                                    "total_gross": "31916500",
                                    "inflation_adjusted_gross": "131246872"
                                },
                                {
                                    "movie_title": "Into the Woods",
                                    "release_date": "2014-12-25",
                                    "genre": "Musical",
                                    "mpaa_rating": "PG",
                                    "total_gross": "128002372",
                                    "inflation_adjusted_gross": "130894237"
                                },
                                {
                                    "movie_title": "The Princess Diaries 2: Royal Engagement",
                                    "release_date": "2004-08-11",
                                    "genre": "Romantic Comedy",
                                    "mpaa_rating": "G",
                                    "total_gross": "95149435",
                                    "inflation_adjusted_gross": "129164207"
                                },
                                {
                                    "movie_title": "Bedtime Stories",
                                    "release_date": "2008-12-25",
                                    "genre": "Comedy",
                                    "mpaa_rating": "PG",
                                    "total_gross": "110101975",
                                    "inflation_adjusted_gross": "128039679"
                                },
                                {
                                    "movie_title": "What About Bob?",
                                    "release_date": "1991-05-17",
                                    "genre": "Comedy",
                                    "mpaa_rating": "PG",
                                    "total_gross": "63710000",
                                    "inflation_adjusted_gross": "127571325"
                                },
                                {
                                    "movie_title": "Atlantis: The Lost Empire",
                                    "release_date": "2001-06-08",
                                    "genre": "Adventure",
                                    "mpaa_rating": "PG",
                                    "total_gross": "84052762",
                                    "inflation_adjusted_gross": "125188122"
                                },
                                {
                                    "movie_title": "Babes in Toyland",
                                    "release_date": "1961-12-14",
                                    "genre": "Musical",
                                    "mpaa_rating": "G",
                                    "total_gross": "10218316",
                                    "inflation_adjusted_gross": "124841160"
                                },
                                {
                                    "movie_title": "The Good Dinosaur",
                                    "release_date": "2015-11-25",
                                    "genre": "Adventure",
                                    "mpaa_rating": "PG",
                                    "total_gross": "123087120",
                                    "inflation_adjusted_gross": "123087120"
                                },
                                {
                                    "movie_title": "Beaches",
                                    "release_date": "1988-12-21",
                                    "genre": "Drama",
                                    "mpaa_rating": "PG-13",
                                    "total_gross": "57041866",
                                    "inflation_adjusted_gross": "120381757"
                                },
                                {
                                    "movie_title": "The Black Hole",
                                    "release_date": "1979-12-21",
                                    "genre": "NULL",
                                    "mpaa_rating": "NULL",
                                    "total_gross": "35841901",
                                    "inflation_adjusted_gross": "120377374"
                                },
                                {
                                    "movie_title": "Meet the Robinsons",
                                    "release_date": "2007-03-30",
                                    "genre": "Adventure",
                                    "mpaa_rating": "G",
                                    "total_gross": "97822171",
                                    "inflation_adjusted_gross": "119860589"
                                },
                                {
                                    "movie_title": "Brother Bear",
                                    "release_date": "2003-10-24",
                                    "genre": "Adventure",
                                    "mpaa_rating": "G",
                                    "total_gross": "85336277",
                                    "inflation_adjusted_gross": "119218333"
                                },
                                {
                                    "movie_title": "The Parent Trap",
                                    "release_date": "1998-07-29",
                                    "genre": "Comedy",
                                    "mpaa_rating": "PG",
                                    "total_gross": "66308518",
                                    "inflation_adjusted_gross": "119185667"
                                },
                                {
                                    "movie_title": "Honey I Blew Up the Kid",
                                    "release_date": "1992-07-17",
                                    "genre": "Comedy",
                                    "mpaa_rating": "PG",
                                    "total_gross": "58662452",
                                    "inflation_adjusted_gross": "119162518"
                                },
                                {
                                    "movie_title": "Flightplan",
                                    "release_date": "2005-09-23",
                                    "genre": "Thriller/Suspense",
                                    "mpaa_rating": "PG-13",
                                    "total_gross": "89706988",
                                    "inflation_adjusted_gross": "117960425"
                                },
                                {
                                    "movie_title": "The Color of Money",
                                    "release_date": "1986-10-17",
                                    "genre": "Drama",
                                    "mpaa_rating": "R",
                                    "total_gross": "52293000",
                                    "inflation_adjusted_gross": "117957323"
                                },
                                {
                                    "movie_title": "Snow Dogs",
                                    "release_date": "2002-01-18",
                                    "genre": "Comedy",
                                    "mpaa_rating": "PG",
                                    "total_gross": "81150692",
                                    "inflation_adjusted_gross": "117745317"
                                },
                                {
                                    "movie_title": "Sister Act 2 Back in the Habit",
                                    "release_date": "1993-12-10",
                                    "genre": "Comedy",
                                    "mpaa_rating": "PG",
                                    "total_gross": "57319029",
                                    "inflation_adjusted_gross": "116965668"
                                },
                                {
                                    "movie_title": "The Princess and the Frog",
                                    "release_date": "2009-11-25",
                                    "genre": "Adventure",
                                    "mpaa_rating": "G",
                                    "total_gross": "104400899",
                                    "inflation_adjusted_gross": "116316457"
                                },
                                {
                                    "movie_title": "Tombstone",
                                    "release_date": "1993-12-25",
                                    "genre": "Western",
                                    "mpaa_rating": "R",
                                    "total_gross": "56505065",
                                    "inflation_adjusted_gross": "115781734"
                                },
                                {
                                    "movie_title": "Outrageous Fortune",
                                    "release_date": "1987-01-30",
                                    "genre": "Comedy",
                                    "mpaa_rating": "R",
                                    "total_gross": "52864741",
                                    "inflation_adjusted_gross": "113976921"
                                },
                                {
                                    "movie_title": "Jack",
                                    "release_date": "1996-08-09",
                                    "genre": "Drama",
                                    "mpaa_rating": "PG-13",
                                    "total_gross": "58617334",
                                    "inflation_adjusted_gross": "111792852"
                                },
                                {
                                    "movie_title": "The Game Plan",
                                    "release_date": "2007-09-22",
                                    "genre": "Comedy",
                                    "mpaa_rating": "PG",
                                    "total_gross": "90648202",
                                    "inflation_adjusted_gross": "111010758"
                                },
                                {
                                    "movie_title": "Beverly Hills Chihuahua",
                                    "release_date": "2008-10-03",
                                    "genre": "Comedy",
                                    "mpaa_rating": "PG",
                                    "total_gross": "94514402",
                                    "inflation_adjusted_gross": "110932022"
                                },
                                {
                                    "movie_title": "Jungle 2 Jungle",
                                    "release_date": "1997-03-07",
                                    "genre": "Comedy",
                                    "mpaa_rating": "PG",
                                    "total_gross": "59925026",
                                    "inflation_adjusted_gross": "110058379"
                                },
                                {
                                    "movie_title": "The Rookie",
                                    "release_date": "2002-03-29",
                                    "genre": "Drama",
                                    "mpaa_rating": "G",
                                    "total_gross": "75600072",
                                    "inflation_adjusted_gross": "109691666"
                                },
                                {
                                    "movie_title": "Bon Voyage!",
                                    "release_date": "1962-05-17",
                                    "genre": "Comedy",
                                    "mpaa_rating": "Not Rated",
                                    "total_gross": "9230769",
                                    "inflation_adjusted_gross": "109581646"
                                },
                                {
                                    "movie_title": "The Three Musketeers",
                                    "release_date": "1993-11-12",
                                    "genre": "Adventure",
                                    "mpaa_rating": "PG",
                                    "total_gross": "53661805",
                                    "inflation_adjusted_gross": "109310377"
                                },
                                {
                                    "movie_title": "The Kid",
                                    "release_date": "2000-07-07",
                                    "genre": "Comedy",
                                    "mpaa_rating": "PG",
                                    "total_gross": "69688384",
                                    "inflation_adjusted_gross": "108993148"
                                },
                                {
                                    "movie_title": "The Santa Clause 3: The Escape Clause",
                                    "release_date": "2006-11-03",
                                    "genre": "Comedy",
                                    "mpaa_rating": "G",
                                    "total_gross": "84500122",
                                    "inflation_adjusted_gross": "108694869"
                                },
                                {
                                    "movie_title": "Deuce Bigalow: Male Gigolo",
                                    "release_date": "1999-12-10",
                                    "genre": "Comedy",
                                    "mpaa_rating": "R",
                                    "total_gross": "65535067",
                                    "inflation_adjusted_gross": "106921374"
                                },
                                {
                                    "movie_title": "High School Musical 3: Senior Year",
                                    "release_date": "2008-10-24",
                                    "genre": "Musical",
                                    "mpaa_rating": "G",
                                    "total_gross": "90559416",
                                    "inflation_adjusted_gross": "106308538"
                                },
                                {
                                    "movie_title": "Arachnophobia",
                                    "release_date": "1990-07-18",
                                    "genre": "Thriller/Suspense",
                                    "mpaa_rating": "PG-13",
                                    "total_gross": "53208180",
                                    "inflation_adjusted_gross": "106290270"
                                },
                                {
                                    "movie_title": "Gnomeo and Juliet",
                                    "release_date": "2011-02-11",
                                    "genre": "Comedy",
                                    "mpaa_rating": "G",
                                    "total_gross": "99967670",
                                    "inflation_adjusted_gross": "106270797"
                                },
                                {
                                    "movie_title": "Herbie Goes to Monte Carlo",
                                    "release_date": "1977-06-24",
                                    "genre": "NULL",
                                    "mpaa_rating": "NULL",
                                    "total_gross": "28000000",
                                    "inflation_adjusted_gross": "105847527"
                                },
                                {
                                    "movie_title": "The Haunted Mansion",
                                    "release_date": "2003-11-26",
                                    "genre": "Comedy",
                                    "mpaa_rating": "PG",
                                    "total_gross": "75817994",
                                    "inflation_adjusted_gross": "105775678"
                                },
                                {
                                    "movie_title": "Eight Below",
                                    "release_date": "2006-02-17",
                                    "genre": "Adventure",
                                    "mpaa_rating": "PG",
                                    "total_gross": "81612565",
                                    "inflation_adjusted_gross": "105037235"
                                },
                                {
                                    "movie_title": "102 Dalmatians",
                                    "release_date": "2000-11-22",
                                    "genre": "Comedy",
                                    "mpaa_rating": "G",
                                    "total_gross": "66941559",
                                    "inflation_adjusted_gross": "104055039"
                                },
                                {
                                    "movie_title": "Angels in the Outfield",
                                    "release_date": "1994-07-15",
                                    "genre": "Comedy",
                                    "mpaa_rating": "PG",
                                    "total_gross": "50236831",
                                    "inflation_adjusted_gross": "103798152"
                                },
                                {
                                    "movie_title": "When a Man Loves a Woman",
                                    "release_date": "1994-04-29",
                                    "genre": "Drama",
                                    "mpaa_rating": "R",
                                    "total_gross": "50021959",
                                    "inflation_adjusted_gross": "103354194"
                                },
                                {
                                    "movie_title": "The Mighty Ducks",
                                    "release_date": "1992-10-02",
                                    "genre": "Comedy",
                                    "mpaa_rating": "PG",
                                    "total_gross": "50752337",
                                    "inflation_adjusted_gross": "103120810"
                                },
                                {
                                    "movie_title": "Oliver & Company",
                                    "release_date": "1988-11-18",
                                    "genre": "Adventure",
                                    "mpaa_rating": "G",
                                    "total_gross": "49576671",
                                    "inflation_adjusted_gross": "102254492"
                                },
                                {
                                    "movie_title": "The Boatniks",
                                    "release_date": "1970-07-01",
                                    "genre": "Comedy",
                                    "mpaa_rating": "NULL",
                                    "total_gross": "18607492",
                                    "inflation_adjusted_gross": "101200742"
                                },
                                {
                                    "movie_title": "Ladder 49",
                                    "release_date": "2004-10-01",
                                    "genre": "Action",
                                    "mpaa_rating": "PG-13",
                                    "total_gross": "74541707",
                                    "inflation_adjusted_gross": "101161045"
                                },
                                {
                                    "movie_title": "Bridge to Terabithia",
                                    "release_date": "2007-02-16",
                                    "genre": "Drama",
                                    "mpaa_rating": "PG",
                                    "total_gross": "82234139",
                                    "inflation_adjusted_gross": "100760721"
                                },
                                {
                                    "movie_title": "The Nightmare Before Christmas",
                                    "release_date": "1993-10-13",
                                    "genre": "Musical",
                                    "mpaa_rating": "PG",
                                    "total_gross": "50408318",
                                    "inflation_adjusted_gross": "100026637"
                                },
                                {
                                    "movie_title": "Freaky Friday",
                                    "release_date": "1977-01-21",
                                    "genre": "Comedy",
                                    "mpaa_rating": "NULL",
                                    "total_gross": "25942000",
                                    "inflation_adjusted_gross": "98067733"
                                },
                                {
                                    "movie_title": "Up Close & Personal",
                                    "release_date": "1996-03-01",
                                    "genre": "Drama",
                                    "mpaa_rating": "PG-13",
                                    "total_gross": "51045801",
                                    "inflation_adjusted_gross": "97356578"
                                },
                                {
                                    "movie_title": "Prince of Persia: Sands of Time",
                                    "release_date": "2010-05-28",
                                    "genre": "Action",
                                    "mpaa_rating": "PG-13",
                                    "total_gross": "90759676",
                                    "inflation_adjusted_gross": "96971361"
                                },
                                {
                                    "movie_title": "Mission to Mars",
                                    "release_date": "2000-03-10",
                                    "genre": "Adventure",
                                    "mpaa_rating": "PG",
                                    "total_gross": "60874615",
                                    "inflation_adjusted_gross": "95208344"
                                },
                                {
                                    "movie_title": "Coyote Ugly",
                                    "release_date": "2000-08-04",
                                    "genre": "Drama",
                                    "mpaa_rating": "PG-13",
                                    "total_gross": "60786269",
                                    "inflation_adjusted_gross": "95070168"
                                },
                                {
                                    "movie_title": "Fantasia 2000 (IMAX)",
                                    "release_date": "2000-01-01",
                                    "genre": "Musical",
                                    "mpaa_rating": "G",
                                    "total_gross": "60507228",
                                    "inflation_adjusted_gross": "94852354"
                                },
                                {
                                    "movie_title": "Bicentennial Man",
                                    "release_date": "1999-12-17",
                                    "genre": "Drama",
                                    "mpaa_rating": "PG",
                                    "total_gross": "58220776",
                                    "inflation_adjusted_gross": "94838225"
                                },
                                {
                                    "movie_title": "The Distinguished Gentleman",
                                    "release_date": "1992-12-04",
                                    "genre": "Comedy",
                                    "mpaa_rating": "R",
                                    "total_gross": "46434570",
                                    "inflation_adjusted_gross": "94349900"
                                },
                                {
                                    "movie_title": "D2: The Mighty Ducks",
                                    "release_date": "1994-03-25",
                                    "genre": "Comedy",
                                    "mpaa_rating": "PG",
                                    "total_gross": "45604206",
                                    "inflation_adjusted_gross": "94226333"
                                },
                                {
                                    "movie_title": "Holes",
                                    "release_date": "2003-04-18",
                                    "genre": "Drama",
                                    "mpaa_rating": "PG",
                                    "total_gross": "67383924",
                                    "inflation_adjusted_gross": "94203395"
                                },
                                {
                                    "movie_title": "The Muppets",
                                    "release_date": "2011-11-23",
                                    "genre": "Comedy",
                                    "mpaa_rating": "PG",
                                    "total_gross": "88625922",
                                    "inflation_adjusted_gross": "94189503"
                                },
                                {
                                    "movie_title": "A Civil Action",
                                    "release_date": "1998-12-25",
                                    "genre": "Drama",
                                    "mpaa_rating": "PG-13",
                                    "total_gross": "56709981",
                                    "inflation_adjusted_gross": "94139530"
                                },
                                {
                                    "movie_title": "Disney Planes",
                                    "release_date": "2013-08-09",
                                    "genre": "Comedy",
                                    "mpaa_rating": "PG",
                                    "total_gross": "90282580",
                                    "inflation_adjusted_gross": "93614037"
                                },
                                {
                                    "movie_title": "Tomorrowland",
                                    "release_date": "2015-05-22",
                                    "genre": "Adventure",
                                    "mpaa_rating": "PG",
                                    "total_gross": "93436322",
                                    "inflation_adjusted_gross": "93436322"
                                },
                                {
                                    "movie_title": "The Rocketeer",
                                    "release_date": "1991-06-21",
                                    "genre": "Action",
                                    "mpaa_rating": "PG",
                                    "total_gross": "46573027",
                                    "inflation_adjusted_gross": "93256673"
                                },
                                {
                                    "movie_title": "The Lone Ranger",
                                    "release_date": "2013-07-02",
                                    "genre": "Western",
                                    "mpaa_rating": "PG-13",
                                    "total_gross": "89302115",
                                    "inflation_adjusted_gross": "92597388"
                                },
                                {
                                    "movie_title": "Evita",
                                    "release_date": "1996-12-25",
                                    "genre": "Musical",
                                    "mpaa_rating": "PG",
                                    "total_gross": "50047179",
                                    "inflation_adjusted_gross": "92077628"
                                },
                                {
                                    "movie_title": "Hidalgo",
                                    "release_date": "2004-03-05",
                                    "genre": "Western",
                                    "mpaa_rating": "PG-13",
                                    "total_gross": "67286731",
                                    "inflation_adjusted_gross": "91340921"
                                },
                                {
                                    "movie_title": "Bedknobs and Broomsticks",
                                    "release_date": "1971-10-07",
                                    "genre": "Musical",
                                    "mpaa_rating": "NULL",
                                    "total_gross": "17871174",
                                    "inflation_adjusted_gross": "91305448"
                                },
                                {
                                    "movie_title": "Medicine Man",
                                    "release_date": "1992-02-07",
                                    "genre": "Drama",
                                    "mpaa_rating": "PG-13",
                                    "total_gross": "44948240",
                                    "inflation_adjusted_gross": "91304495"
                                },
                                {
                                    "movie_title": "The Preacher's Wife",
                                    "release_date": "1996-12-13",
                                    "genre": "Drama",
                                    "mpaa_rating": "PG",
                                    "total_gross": "48102795",
                                    "inflation_adjusted_gross": "91076877"
                                },
                                {
                                    "movie_title": "Real Steel",
                                    "release_date": "2011-10-07",
                                    "genre": "Action",
                                    "mpaa_rating": "PG-13",
                                    "total_gross": "85463309",
                                    "inflation_adjusted_gross": "90848019"
                                },
                                {
                                    "movie_title": "Hannah Montana the Movie",
                                    "release_date": "2009-04-10",
                                    "genre": "Drama",
                                    "mpaa_rating": "G",
                                    "total_gross": "79576189",
                                    "inflation_adjusted_gross": "89443640"
                                },
                                {
                                    "movie_title": "Shanghai Noon",
                                    "release_date": "2000-05-26",
                                    "genre": "Western",
                                    "mpaa_rating": "PG-13",
                                    "total_gross": "56932305",
                                    "inflation_adjusted_gross": "89042541"
                                },
                                {
                                    "movie_title": "The Jungle Book",
                                    "release_date": "1994-12-25",
                                    "genre": "Adventure",
                                    "mpaa_rating": "PG",
                                    "total_gross": "44342956",
                                    "inflation_adjusted_gross": "88930321"
                                },
                                {
                                    "movie_title": "G.I. Jane",
                                    "release_date": "1997-08-22",
                                    "genre": "Drama",
                                    "mpaa_rating": "R",
                                    "total_gross": "48169156",
                                    "inflation_adjusted_gross": "88467531"
                                },
                                {
                                    "movie_title": "Mighty Joe Young",
                                    "release_date": "1998-12-25",
                                    "genre": "Adventure",
                                    "mpaa_rating": "PG",
                                    "total_gross": "50632037",
                                    "inflation_adjusted_gross": "87906042"
                                },
                                {
                                    "movie_title": "Miracle",
                                    "release_date": "2004-02-06",
                                    "genre": "Drama",
                                    "mpaa_rating": "PG",
                                    "total_gross": "64378093",
                                    "inflation_adjusted_gross": "87392478"
                                },
                                {
                                    "movie_title": "Herbie: Fully Loaded",
                                    "release_date": "2005-06-22",
                                    "genre": "Comedy",
                                    "mpaa_rating": "G",
                                    "total_gross": "66010682",
                                    "inflation_adjusted_gross": "86812798"
                                },
                                {
                                    "movie_title": "Saving Mr. Banks",
                                    "release_date": "2013-12-13",
                                    "genre": "Drama",
                                    "mpaa_rating": "PG-13",
                                    "total_gross": "83299761",
                                    "inflation_adjusted_gross": "86249969"
                                },
                                {
                                    "movie_title": "Three Fugitives",
                                    "release_date": "1989-01-27",
                                    "genre": "Comedy",
                                    "mpaa_rating": "PG-13",
                                    "total_gross": "40590000",
                                    "inflation_adjusted_gross": "85757817"
                                },
                                {
                                    "movie_title": "Homeward Bound: The Incredible Journey",
                                    "release_date": "1993-02-03",
                                    "genre": "Adventure",
                                    "mpaa_rating": "G",
                                    "total_gross": "41833324",
                                    "inflation_adjusted_gross": "85182343"
                                },
                                {
                                    "movie_title": "War Horse",
                                    "release_date": "2011-12-25",
                                    "genre": "Drama",
                                    "mpaa_rating": "PG-13",
                                    "total_gross": "79883359",
                                    "inflation_adjusted_gross": "84762149"
                                },
                                {
                                    "movie_title": "Shanghai Knights",
                                    "release_date": "2003-02-07",
                                    "genre": "Adventure",
                                    "mpaa_rating": "PG-13",
                                    "total_gross": "60470220",
                                    "inflation_adjusted_gross": "84537962"
                                },
                                {
                                    "movie_title": "Sky High",
                                    "release_date": "2005-07-29",
                                    "genre": "Adventure",
                                    "mpaa_rating": "PG",
                                    "total_gross": "63939454",
                                    "inflation_adjusted_gross": "84088854"
                                },
                                {
                                    "movie_title": "Step Up",
                                    "release_date": "2006-08-11",
                                    "genre": "Drama",
                                    "mpaa_rating": "PG-13",
                                    "total_gross": "65328121",
                                    "inflation_adjusted_gross": "84078780"
                                },
                                {
                                    "movie_title": "Big Business",
                                    "release_date": "1988-06-10",
                                    "genre": "Comedy",
                                    "mpaa_rating": "PG",
                                    "total_gross": "40150487",
                                    "inflation_adjusted_gross": "82352451"
                                },
                                {
                                    "movie_title": "Déjà Vu",
                                    "release_date": "2006-11-22",
                                    "genre": "Thriller/Suspense",
                                    "mpaa_rating": "PG-13",
                                    "total_gross": "64038616",
                                    "inflation_adjusted_gross": "82267038"
                                },
                                {
                                    "movie_title": "Nothing To Lose",
                                    "release_date": "1997-07-18",
                                    "genre": "Comedy",
                                    "mpaa_rating": "R",
                                    "total_gross": "44480039",
                                    "inflation_adjusted_gross": "81692095"
                                },
                                {
                                    "movie_title": "Open Range",
                                    "release_date": "2003-08-15",
                                    "genre": "Western",
                                    "mpaa_rating": "R",
                                    "total_gross": "58331254",
                                    "inflation_adjusted_gross": "81547672"
                                },
                                {
                                    "movie_title": "Encino Man",
                                    "release_date": "1992-05-22",
                                    "genre": "Comedy",
                                    "mpaa_rating": "PG",
                                    "total_gross": "40057130",
                                    "inflation_adjusted_gross": "81369058"
                                },
                                {
                                    "movie_title": "Hocus Pocus",
                                    "release_date": "1993-07-16",
                                    "genre": "Comedy",
                                    "mpaa_rating": "PG",
                                    "total_gross": "39360491",
                                    "inflation_adjusted_gross": "80147079"
                                },
                                {
                                    "movie_title": "What's Love Got to Do With It",
                                    "release_date": "1993-06-09",
                                    "genre": "Drama",
                                    "mpaa_rating": "R",
                                    "total_gross": "39100956",
                                    "inflation_adjusted_gross": "79618610"
                                },
                                {
                                    "movie_title": "The Count of Monte Cristo",
                                    "release_date": "2002-01-25",
                                    "genre": "Drama",
                                    "mpaa_rating": "PG-13",
                                    "total_gross": "54228104",
                                    "inflation_adjusted_gross": "78682079"
                                },
                                {
                                    "movie_title": "The Shaggy Dog",
                                    "release_date": "2006-03-10",
                                    "genre": "Comedy",
                                    "mpaa_rating": "PG",
                                    "total_gross": "61123569",
                                    "inflation_adjusted_gross": "78667428"
                                },
                                {
                                    "movie_title": "Man of the House",
                                    "release_date": "1995-03-03",
                                    "genre": "Comedy",
                                    "mpaa_rating": "PG",
                                    "total_gross": "40029009",
                                    "inflation_adjusted_gross": "77573459"
                                },
                                {
                                    "movie_title": "John Carter",
                                    "release_date": "2012-03-09",
                                    "genre": "Adventure",
                                    "mpaa_rating": "PG-13",
                                    "total_gross": "73058679",
                                    "inflation_adjusted_gross": "77372445"
                                },
                                {
                                    "movie_title": "Tron",
                                    "release_date": "1982-07-09",
                                    "genre": "Action",
                                    "mpaa_rating": "NULL",
                                    "total_gross": "26918576",
                                    "inflation_adjusted_gross": "77184895"
                                },
                                {
                                    "movie_title": "Alice Through the Looking Glass",
                                    "release_date": "2016-05-27",
                                    "genre": "Adventure",
                                    "mpaa_rating": "PG",
                                    "total_gross": "77042381",
                                    "inflation_adjusted_gross": "77042381"
                                },
                                {
                                    "movie_title": "The Royal Tenenbaums",
                                    "release_date": "2001-12-14",
                                    "genre": "Black Comedy",
                                    "mpaa_rating": "R",
                                    "total_gross": "52353636",
                                    "inflation_adjusted_gross": "76758193"
                                },
                                {
                                    "movie_title": "Hannah Montana/Miley Cyrus: Best of B…",
                                    "release_date": "2008-02-01",
                                    "genre": "Concert/Performance",
                                    "mpaa_rating": "G",
                                    "total_gross": "65281781",
                                    "inflation_adjusted_gross": "76646993"
                                },
                                {
                                    "movie_title": "Pete’s Dragon",
                                    "release_date": "2016-08-12",
                                    "genre": "Adventure",
                                    "mpaa_rating": "PG",
                                    "total_gross": "76233151",
                                    "inflation_adjusted_gross": "76233151"
                                },
                                {
                                    "movie_title": "Race to Witch Mountain",
                                    "release_date": "2009-03-13",
                                    "genre": "Adventure",
                                    "mpaa_rating": "PG",
                                    "total_gross": "67172594",
                                    "inflation_adjusted_gross": "75501997"
                                },
                                {
                                    "movie_title": "The Doctor",
                                    "release_date": "1991-07-24",
                                    "genre": "Drama",
                                    "mpaa_rating": "PG-13",
                                    "total_gross": "37497480",
                                    "inflation_adjusted_gross": "75084021"
                                },
                                {
                                    "movie_title": "Invincible",
                                    "release_date": "2006-08-25",
                                    "genre": "Drama",
                                    "mpaa_rating": "PG",
                                    "total_gross": "57806952",
                                    "inflation_adjusted_gross": "74398864"
                                },
                                {
                                    "movie_title": "Alive",
                                    "release_date": "1993-01-15",
                                    "genre": "Adventure",
                                    "mpaa_rating": "R",
                                    "total_gross": "36299670",
                                    "inflation_adjusted_gross": "73914543"
                                },
                                {
                                    "movie_title": "The Recruit",
                                    "release_date": "2003-01-31",
                                    "genre": "Thriller/Suspense",
                                    "mpaa_rating": "PG-13",
                                    "total_gross": "52784696",
                                    "inflation_adjusted_gross": "73793522"
                                },
                                {
                                    "movie_title": "Adventures in Babysitting",
                                    "release_date": "1987-07-03",
                                    "genre": "Comedy",
                                    "mpaa_rating": "NULL",
                                    "total_gross": "33790923",
                                    "inflation_adjusted_gross": "72853569"
                                },
                                {
                                    "movie_title": "Bridge of Spies",
                                    "release_date": "2015-10-16",
                                    "genre": "Thriller/Suspense",
                                    "mpaa_rating": "PG-13",
                                    "total_gross": "72313754",
                                    "inflation_adjusted_gross": "72313754"
                                },
                                {
                                    "movie_title": "The Tigger Movie",
                                    "release_date": "2000-02-11",
                                    "genre": "Adventure",
                                    "mpaa_rating": "G",
                                    "total_gross": "45542421",
                                    "inflation_adjusted_gross": "71228678"
                                },
                                {
                                    "movie_title": "The Guardian",
                                    "release_date": "2006-09-29",
                                    "genre": "Action",
                                    "mpaa_rating": "PG-13",
                                    "total_gross": "55011732",
                                    "inflation_adjusted_gross": "70801353"
                                },
                                {
                                    "movie_title": "Never Cry Wolf",
                                    "release_date": "1983-10-07",
                                    "genre": "Drama",
                                    "mpaa_rating": "NULL",
                                    "total_gross": "27668764",
                                    "inflation_adjusted_gross": "70669955"
                                },
                                {
                                    "movie_title": "King Arthur",
                                    "release_date": "2004-07-07",
                                    "genre": "Adventure",
                                    "mpaa_rating": "PG-13",
                                    "total_gross": "51877963",
                                    "inflation_adjusted_gross": "70423706"
                                },
                                {
                                    "movie_title": "Peter Pan: Return to Neverland",
                                    "release_date": "2002-02-15",
                                    "genre": "Adventure",
                                    "mpaa_rating": "G",
                                    "total_gross": "48430258",
                                    "inflation_adjusted_gross": "70269715"
                                },
                                {
                                    "movie_title": "White Fang",
                                    "release_date": "1991-01-18",
                                    "genre": "Adventure",
                                    "mpaa_rating": "PG",
                                    "total_gross": "34729091",
                                    "inflation_adjusted_gross": "69540672"
                                },
                                {
                                    "movie_title": "Alexander and the Terrible, Horrible,…",
                                    "release_date": "2014-10-10",
                                    "genre": "Comedy",
                                    "mpaa_rating": "PG",
                                    "total_gross": "66954149",
                                    "inflation_adjusted_gross": "69055550"
                                },
                                {
                                    "movie_title": "A Goofy Movie",
                                    "release_date": "1995-04-07",
                                    "genre": "Comedy",
                                    "mpaa_rating": "G",
                                    "total_gross": "35336439",
                                    "inflation_adjusted_gross": "68479579"
                                },
                                {
                                    "movie_title": "The Prestige",
                                    "release_date": "2006-10-20",
                                    "genre": "Thriller/Suspense",
                                    "mpaa_rating": "PG-13",
                                    "total_gross": "53089891",
                                    "inflation_adjusted_gross": "68289913"
                                },
                                {
                                    "movie_title": "Can't Buy Me Love",
                                    "release_date": "1987-08-14",
                                    "genre": "Romantic Comedy",
                                    "mpaa_rating": "NULL",
                                    "total_gross": "31623833",
                                    "inflation_adjusted_gross": "68181300"
                                },
                                {
                                    "movie_title": "Step Up 2 the Streets",
                                    "release_date": "2008-02-14",
                                    "genre": "Drama",
                                    "mpaa_rating": "PG-13",
                                    "total_gross": "58017783",
                                    "inflation_adjusted_gross": "68118371"
                                },
                                {
                                    "movie_title": "O Brother, Where Art Thou?",
                                    "release_date": "2000-12-22",
                                    "genre": "Comedy",
                                    "mpaa_rating": "PG-13",
                                    "total_gross": "45506619",
                                    "inflation_adjusted_gross": "67922002"
                                },
                                {
                                    "movie_title": "Home on the Range",
                                    "release_date": "2004-04-02",
                                    "genre": "Comedy",
                                    "mpaa_rating": "PG",
                                    "total_gross": "50026353",
                                    "inflation_adjusted_gross": "67910166"
                                },
                                {
                                    "movie_title": "The Sorcerer's Apprentice",
                                    "release_date": "2010-07-14",
                                    "genre": "Adventure",
                                    "mpaa_rating": "PG",
                                    "total_gross": "63150991",
                                    "inflation_adjusted_gross": "67473105"
                                },
                                {
                                    "movie_title": "The Last Song",
                                    "release_date": "2010-03-31",
                                    "genre": "Drama",
                                    "mpaa_rating": "PG",
                                    "total_gross": "62950384",
                                    "inflation_adjusted_gross": "67258772"
                                },
                                {
                                    "movie_title": "Judge Dredd",
                                    "release_date": "1995-06-30",
                                    "genre": "Action",
                                    "mpaa_rating": "R",
                                    "total_gross": "34687912",
                                    "inflation_adjusted_gross": "67222776"
                                },
                                {
                                    "movie_title": "The Hitchhiker's Guide to the Galaxy",
                                    "release_date": "2005-04-29",
                                    "genre": "Comedy",
                                    "mpaa_rating": "PG",
                                    "total_gross": "51019112",
                                    "inflation_adjusted_gross": "67096891"
                                },
                                {
                                    "movie_title": "The Jungle Book 2",
                                    "release_date": "2003-02-14",
                                    "genre": "Adventure",
                                    "mpaa_rating": "G",
                                    "total_gross": "47901582",
                                    "inflation_adjusted_gross": "66966883"
                                },
                                {
                                    "movie_title": "The Joy Luck Club",
                                    "release_date": "1993-09-08",
                                    "genre": "Drama",
                                    "mpaa_rating": "R",
                                    "total_gross": "32790064",
                                    "inflation_adjusted_gross": "66768171"
                                },
                                {
                                    "movie_title": "Muppet Treasure Island",
                                    "release_date": "1996-02-16",
                                    "genre": "Adventure",
                                    "mpaa_rating": "G",
                                    "total_gross": "34327391",
                                    "inflation_adjusted_gross": "65470567"
                                },
                                {
                                    "movie_title": "Apocalypto",
                                    "release_date": "2006-12-08",
                                    "genre": "Adventure",
                                    "mpaa_rating": "R",
                                    "total_gross": "50866635",
                                    "inflation_adjusted_gross": "64959548"
                                },
                                {
                                    "movie_title": "Secretariat",
                                    "release_date": "2010-10-08",
                                    "genre": "Drama",
                                    "mpaa_rating": "PG",
                                    "total_gross": "59699513",
                                    "inflation_adjusted_gross": "63781920"
                                },
                                {
                                    "movie_title": "I Love Trouble",
                                    "release_date": "1994-06-29",
                                    "genre": "Romantic Comedy",
                                    "mpaa_rating": "PG",
                                    "total_gross": "30806194",
                                    "inflation_adjusted_gross": "63651027"
                                },
                                {
                                    "movie_title": "Ten Things I Hate About You",
                                    "release_date": "1999-03-31",
                                    "genre": "Romantic Comedy",
                                    "mpaa_rating": "PG-13",
                                    "total_gross": "38177966",
                                    "inflation_adjusted_gross": "63354375"
                                },
                                {
                                    "movie_title": "Blank Check",
                                    "release_date": "1994-02-11",
                                    "genre": "Comedy",
                                    "mpaa_rating": "PG",
                                    "total_gross": "30573770",
                                    "inflation_adjusted_gross": "63170804"
                                },
                                {
                                    "movie_title": "Reign of Fire",
                                    "release_date": "2002-02-19",
                                    "genre": "Action",
                                    "mpaa_rating": "PG-13",
                                    "total_gross": "43061982",
                                    "inflation_adjusted_gross": "62480631"
                                },
                                {
                                    "movie_title": "Homeward Bound II: Lost in San Franc…",
                                    "release_date": "1996-03-08",
                                    "genre": "Adventure",
                                    "mpaa_rating": "G",
                                    "total_gross": "32709423",
                                    "inflation_adjusted_gross": "62384706"
                                },
                                {
                                    "movie_title": "My Favorite Martian",
                                    "release_date": "1999-02-12",
                                    "genre": "Comedy",
                                    "mpaa_rating": "PG",
                                    "total_gross": "36850101",
                                    "inflation_adjusted_gross": "61150849"
                                },
                                {
                                    "movie_title": "Planes: Fire and Rescue",
                                    "release_date": "2014-07-18",
                                    "genre": "Adventure",
                                    "mpaa_rating": "PG",
                                    "total_gross": "59157732",
                                    "inflation_adjusted_gross": "61040349"
                                },
                                {
                                    "movie_title": "Under the Tuscan Sun",
                                    "release_date": "2003-09-26",
                                    "genre": "Comedy",
                                    "mpaa_rating": "PG-13",
                                    "total_gross": "43601508",
                                    "inflation_adjusted_gross": "60944053"
                                },
                                {
                                    "movie_title": "A Low Down Dirty Shame",
                                    "release_date": "1994-11-23",
                                    "genre": "Action",
                                    "mpaa_rating": "R",
                                    "total_gross": "29317886",
                                    "inflation_adjusted_gross": "60321919"
                                },
                                {
                                    "movie_title": "Shoot to Kill",
                                    "release_date": "1988-02-12",
                                    "genre": "Action",
                                    "mpaa_rating": "NULL",
                                    "total_gross": "29300000",
                                    "inflation_adjusted_gross": "60097074"
                                },
                                {
                                    "movie_title": "Eddie",
                                    "release_date": "1996-05-31",
                                    "genre": "Comedy",
                                    "mpaa_rating": "PG-13",
                                    "total_gross": "31369401",
                                    "inflation_adjusted_gross": "59828966"
                                },
                                {
                                    "movie_title": "The Lizzie McGuire Movie",
                                    "release_date": "2003-05-02",
                                    "genre": "Comedy",
                                    "mpaa_rating": "PG",
                                    "total_gross": "42734455",
                                    "inflation_adjusted_gross": "59743191"
                                },
                                {
                                    "movie_title": "Powder",
                                    "release_date": "1995-10-27",
                                    "genre": "Drama",
                                    "mpaa_rating": "PG-13",
                                    "total_gross": "30833914",
                                    "inflation_adjusted_gross": "59727216"
                                },
                                {
                                    "movie_title": "Green Card",
                                    "release_date": "1990-12-25",
                                    "genre": "Romantic Comedy",
                                    "mpaa_rating": "PG-13",
                                    "total_gross": "29804169",
                                    "inflation_adjusted_gross": "59679131"
                                },
                                {
                                    "movie_title": "In the Army Now",
                                    "release_date": "1994-08-12",
                                    "genre": "Comedy",
                                    "mpaa_rating": "PG",
                                    "total_gross": "28881266",
                                    "inflation_adjusted_gross": "59673787"
                                },
                                {
                                    "movie_title": "3 Ninjas",
                                    "release_date": "1992-08-07",
                                    "genre": "Action",
                                    "mpaa_rating": "PG",
                                    "total_gross": "29028000",
                                    "inflation_adjusted_gross": "58965304"
                                },
                                {
                                    "movie_title": "Metro",
                                    "release_date": "1997-01-17",
                                    "genre": "Action",
                                    "mpaa_rating": "R",
                                    "total_gross": "32017895",
                                    "inflation_adjusted_gross": "58804106"
                                },
                                {
                                    "movie_title": "I am Number Four",
                                    "release_date": "2011-02-18",
                                    "genre": "Adventure",
                                    "mpaa_rating": "PG-13",
                                    "total_gross": "55100437",
                                    "inflation_adjusted_gross": "58574607"
                                },
                                {
                                    "movie_title": "Dan in Real Life",
                                    "release_date": "2007-10-20",
                                    "genre": "Romantic Comedy",
                                    "mpaa_rating": "PG-13",
                                    "total_gross": "47642963",
                                    "inflation_adjusted_gross": "58350234"
                                },
                                {
                                    "movie_title": "Keeping the Faith",
                                    "release_date": "2000-04-14",
                                    "genre": "Romantic Comedy",
                                    "mpaa_rating": "PG-13",
                                    "total_gross": "37036404",
                                    "inflation_adjusted_gross": "57925202"
                                },
                                {
                                    "movie_title": "Ernest Saves Christmas",
                                    "release_date": "1988-11-11",
                                    "genre": "Comedy",
                                    "mpaa_rating": "PG",
                                    "total_gross": "28202109",
                                    "inflation_adjusted_gross": "57845202"
                                },
                                {
                                    "movie_title": "Deceived",
                                    "release_date": "1991-09-27",
                                    "genre": "Thriller/Suspense",
                                    "mpaa_rating": "PG-13",
                                    "total_gross": "28738096",
                                    "inflation_adjusted_gross": "57544453"
                                },
                                {
                                    "movie_title": "Instinct",
                                    "release_date": "1999-06-04",
                                    "genre": "Drama",
                                    "mpaa_rating": "R",
                                    "total_gross": "34105207",
                                    "inflation_adjusted_gross": "56595842"
                                },
                                {
                                    "movie_title": "The Hundred-Foot Journey",
                                    "release_date": "2014-08-08",
                                    "genre": "Romantic Comedy",
                                    "mpaa_rating": "PG",
                                    "total_gross": "54235441",
                                    "inflation_adjusted_gross": "55961409"
                                },
                                {
                                    "movie_title": "The Rescuers Down Under",
                                    "release_date": "1990-11-16",
                                    "genre": "Adventure",
                                    "mpaa_rating": "G",
                                    "total_gross": "27931461",
                                    "inflation_adjusted_gross": "55796728"
                                },
                                {
                                    "movie_title": "Old Dogs",
                                    "release_date": "2009-11-25",
                                    "genre": "Comedy",
                                    "mpaa_rating": "PG",
                                    "total_gross": "49492060",
                                    "inflation_adjusted_gross": "55503929"
                                },
                                {
                                    "movie_title": "The BFG",
                                    "release_date": "2016-07-01",
                                    "genre": "Adventure",
                                    "mpaa_rating": "PG",
                                    "total_gross": "55483770",
                                    "inflation_adjusted_gross": "55483770"
                                },
                                {
                                    "movie_title": "The Muppet Christmas Carol",
                                    "release_date": "1992-12-11",
                                    "genre": "Comedy",
                                    "mpaa_rating": "G",
                                    "total_gross": "27281507",
                                    "inflation_adjusted_gross": "55417615"
                                },
                                {
                                    "movie_title": "Treasure Planet",
                                    "release_date": "2002-11-27",
                                    "genre": "Adventure",
                                    "mpaa_rating": "PG",
                                    "total_gross": "38120554",
                                    "inflation_adjusted_gross": "55189145"
                                },
                                {
                                    "movie_title": "James and the Giant Peach",
                                    "release_date": "1996-04-12",
                                    "genre": "Adventure",
                                    "mpaa_rating": "PG",
                                    "total_gross": "28921264",
                                    "inflation_adjusted_gross": "55159783"
                                },
                                {
                                    "movie_title": "The Odd Life of Timothy Green",
                                    "release_date": "2012-08-15",
                                    "genre": "Drama",
                                    "mpaa_rating": "PG",
                                    "total_gross": "51853450",
                                    "inflation_adjusted_gross": "54914942"
                                },
                                {
                                    "movie_title": "Glory Road",
                                    "release_date": "2006-01-13",
                                    "genre": "Drama",
                                    "mpaa_rating": "PG",
                                    "total_gross": "42647449",
                                    "inflation_adjusted_gross": "54888236"
                                },
                                {
                                    "movie_title": "Tin Men",
                                    "release_date": "1987-03-06",
                                    "genre": "Comedy",
                                    "mpaa_rating": "NULL",
                                    "total_gross": "25411386",
                                    "inflation_adjusted_gross": "54787202"
                                },
                                {
                                    "movie_title": "Recess: School's Out",
                                    "release_date": "2001-02-16",
                                    "genre": "Comedy",
                                    "mpaa_rating": "G",
                                    "total_gross": "36696761",
                                    "inflation_adjusted_gross": "54656124"
                                },
                                {
                                    "movie_title": "The 13th Warrior",
                                    "release_date": "1999-08-27",
                                    "genre": "Action",
                                    "mpaa_rating": "R",
                                    "total_gross": "32698899",
                                    "inflation_adjusted_gross": "54262148"
                                },
                                {
                                    "movie_title": "The Ladykillers",
                                    "release_date": "2004-03-26",
                                    "genre": "Comedy",
                                    "mpaa_rating": "R",
                                    "total_gross": "39692139",
                                    "inflation_adjusted_gross": "53881593"
                                },
                                {
                                    "movie_title": "Romy and Michele's High School Reunion",
                                    "release_date": "1997-04-25",
                                    "genre": "Comedy",
                                    "mpaa_rating": "R",
                                    "total_gross": "29235353",
                                    "inflation_adjusted_gross": "53693680"
                                },
                                {
                                    "movie_title": "The Great Mouse Detective",
                                    "release_date": "1986-07-02",
                                    "genre": "Adventure",
                                    "mpaa_rating": "NULL",
                                    "total_gross": "23605534",
                                    "inflation_adjusted_gross": "53637367"
                                },
                                {
                                    "movie_title": "Underdog",
                                    "release_date": "2007-08-03",
                                    "genre": "Adventure",
                                    "mpaa_rating": "PG",
                                    "total_gross": "43760605",
                                    "inflation_adjusted_gross": "53619462"
                                },
                                {
                                    "movie_title": "College Road Trip",
                                    "release_date": "2008-03-07",
                                    "genre": "Comedy",
                                    "mpaa_rating": "G",
                                    "total_gross": "45610425",
                                    "inflation_adjusted_gross": "53550960"
                                },
                                {
                                    "movie_title": "Son in Law",
                                    "release_date": "1993-07-02",
                                    "genre": "Comedy",
                                    "mpaa_rating": "PG-13",
                                    "total_gross": "25989889",
                                    "inflation_adjusted_gross": "52921433"
                                },
                                {
                                    "movie_title": "Muppets Most Wanted",
                                    "release_date": "2014-03-21",
                                    "genre": "Comedy",
                                    "mpaa_rating": "PG",
                                    "total_gross": "51178893",
                                    "inflation_adjusted_gross": "52807594"
                                },
                                {
                                    "movie_title": "Grosse Pointe Blank",
                                    "release_date": "1997-04-11",
                                    "genre": "Black Comedy",
                                    "mpaa_rating": "R",
                                    "total_gross": "28084357",
                                    "inflation_adjusted_gross": "51579764"
                                },
                                {
                                    "movie_title": "Spy Hard",
                                    "release_date": "1996-05-24",
                                    "genre": "Comedy",
                                    "mpaa_rating": "PG-13",
                                    "total_gross": "26936265",
                                    "inflation_adjusted_gross": "51373912"
                                },
                                {
                                    "movie_title": "Houseguest",
                                    "release_date": "1995-01-06",
                                    "genre": "Comedy",
                                    "mpaa_rating": "PG",
                                    "total_gross": "26325256",
                                    "inflation_adjusted_gross": "51016522"
                                },
                                {
                                    "movie_title": "Raising Helen",
                                    "release_date": "2004-05-28",
                                    "genre": "Comedy",
                                    "mpaa_rating": "PG-13",
                                    "total_gross": "37485528",
                                    "inflation_adjusted_gross": "50886144"
                                },
                                {
                                    "movie_title": "Quiz Show",
                                    "release_date": "1994-09-14",
                                    "genre": "Drama",
                                    "mpaa_rating": "PG-13",
                                    "total_gross": "24787282",
                                    "inflation_adjusted_gross": "50840394"
                                },
                                {
                                    "movie_title": "Ernest Goes to Camp",
                                    "release_date": "1987-05-22",
                                    "genre": "Comedy",
                                    "mpaa_rating": "NULL",
                                    "total_gross": "23509382",
                                    "inflation_adjusted_gross": "50686462"
                                },
                                {
                                    "movie_title": "The Hot Chick",
                                    "release_date": "2002-12-13",
                                    "genre": "Comedy",
                                    "mpaa_rating": "PG-13",
                                    "total_gross": "35081550",
                                    "inflation_adjusted_gross": "50624654"
                                },
                                {
                                    "movie_title": "The Black Cauldron",
                                    "release_date": "1985-07-24",
                                    "genre": "Adventure",
                                    "mpaa_rating": "NULL",
                                    "total_gross": "21288692",
                                    "inflation_adjusted_gross": "50553142"
                                },
                                {
                                    "movie_title": "First Kid",
                                    "release_date": "1996-08-30",
                                    "genre": "Comedy",
                                    "mpaa_rating": "PG",
                                    "total_gross": "26465920",
                                    "inflation_adjusted_gross": "50465108"
                                },
                                {
                                    "movie_title": "Ernest Goes to Jail",
                                    "release_date": "1990-04-06",
                                    "genre": "Comedy",
                                    "mpaa_rating": "PG",
                                    "total_gross": "25029569",
                                    "inflation_adjusted_gross": "49999822"
                                },
                                {
                                    "movie_title": "Renaissance Man",
                                    "release_date": "1994-06-03",
                                    "genre": "Comedy",
                                    "mpaa_rating": "PG-13",
                                    "total_gross": "24172899",
                                    "inflation_adjusted_gross": "49945474"
                                },
                                {
                                    "movie_title": "Confessions of a Shopaholic",
                                    "release_date": "2009-02-13",
                                    "genre": "Romantic Comedy",
                                    "mpaa_rating": "PG",
                                    "total_gross": "44277350",
                                    "inflation_adjusted_gross": "49767744"
                                },
                                {
                                    "movie_title": "The Adventures of Huck Finn",
                                    "release_date": "1993-04-02",
                                    "genre": "Adventure",
                                    "mpaa_rating": "PG",
                                    "total_gross": "24103594",
                                    "inflation_adjusted_gross": "49080505"
                                },
                                {
                                    "movie_title": "Tough Guys",
                                    "release_date": "1986-10-03",
                                    "genre": "Comedy",
                                    "mpaa_rating": "NULL",
                                    "total_gross": "21458229",
                                    "inflation_adjusted_gross": "48758184"
                                },
                                {
                                    "movie_title": "An American Werewolf in Paris",
                                    "release_date": "1997-12-25",
                                    "genre": "Horror",
                                    "mpaa_rating": "R",
                                    "total_gross": "26570463",
                                    "inflation_adjusted_gross": "48546161"
                                },
                                {
                                    "movie_title": "The Devil and Max Devlin",
                                    "release_date": "1981-01-01",
                                    "genre": "NULL",
                                    "mpaa_rating": "NULL",
                                    "total_gross": "16000000",
                                    "inflation_adjusted_gross": "48517980"
                                },
                                {
                                    "movie_title": "The Wild",
                                    "release_date": "2006-04-14",
                                    "genre": "Adventure",
                                    "mpaa_rating": "G",
                                    "total_gross": "37384046",
                                    "inflation_adjusted_gross": "48114115"
                                },
                                {
                                    "movie_title": "Operation Dumbo Drop",
                                    "release_date": "1995-07-28",
                                    "genre": "Adventure",
                                    "mpaa_rating": "PG",
                                    "total_gross": "24670346",
                                    "inflation_adjusted_gross": "47809421"
                                },
                                {
                                    "movie_title": "The Insider",
                                    "release_date": "1999-11-05",
                                    "genre": "Drama",
                                    "mpaa_rating": "R",
                                    "total_gross": "28965197",
                                    "inflation_adjusted_gross": "47794214"
                                },
                                {
                                    "movie_title": "Oscar",
                                    "release_date": "1991-04-26",
                                    "genre": "Comedy",
                                    "mpaa_rating": "PG",
                                    "total_gross": "23562716",
                                    "inflation_adjusted_gross": "47181395"
                                },
                                {
                                    "movie_title": "The Program",
                                    "release_date": "1993-09-24",
                                    "genre": "Action",
                                    "mpaa_rating": "R",
                                    "total_gross": "23042200",
                                    "inflation_adjusted_gross": "46919256"
                                },
                                {
                                    "movie_title": "Dead Presidents",
                                    "release_date": "1995-10-04",
                                    "genre": "Drama",
                                    "mpaa_rating": "R",
                                    "total_gross": "24120194",
                                    "inflation_adjusted_gross": "46741467"
                                },
                                {
                                    "movie_title": "The Other Sister",
                                    "release_date": "1999-02-26",
                                    "genre": "Romantic Comedy",
                                    "mpaa_rating": "PG-13",
                                    "total_gross": "27807627",
                                    "inflation_adjusted_gross": "46145331"
                                },
                                {
                                    "movie_title": "Guilty as Sin",
                                    "release_date": "1993-06-04",
                                    "genre": "Thriller/Suspense",
                                    "mpaa_rating": "R",
                                    "total_gross": "22622537",
                                    "inflation_adjusted_gross": "46064723"
                                },
                                {
                                    "movie_title": "Tom and Huck",
                                    "release_date": "1995-12-22",
                                    "genre": "Adventure",
                                    "mpaa_rating": "PG",
                                    "total_gross": "23837227",
                                    "inflation_adjusted_gross": "45911517"
                                },
                                {
                                    "movie_title": "Captain Ron",
                                    "release_date": "1992-09-18",
                                    "genre": "Comedy",
                                    "mpaa_rating": "PG-13",
                                    "total_gross": "22518097",
                                    "inflation_adjusted_gross": "45741576"
                                },
                                {
                                    "movie_title": "Step Up 3D",
                                    "release_date": "2010-08-06",
                                    "genre": "Drama",
                                    "mpaa_rating": "PG-13",
                                    "total_gross": "42400223",
                                    "inflation_adjusted_gross": "45302137"
                                },
                                {
                                    "movie_title": "Air Bud",
                                    "release_date": "1997-08-01",
                                    "genre": "Comedy",
                                    "mpaa_rating": "PG",
                                    "total_gross": "24646936",
                                    "inflation_adjusted_gross": "45266588"
                                },
                                {
                                    "movie_title": "Need for Speed",
                                    "release_date": "2014-03-14",
                                    "genre": "Action",
                                    "mpaa_rating": "PG-13",
                                    "total_gross": "43568507",
                                    "inflation_adjusted_gross": "44955015"
                                },
                                {
                                    "movie_title": "McFarland, USA",
                                    "release_date": "2015-02-20",
                                    "genre": "Drama",
                                    "mpaa_rating": "PG",
                                    "total_gross": "44480275",
                                    "inflation_adjusted_gross": "44480275"
                                },
                                {
                                    "movie_title": "Double Take",
                                    "release_date": "2001-01-12",
                                    "genre": "Action",
                                    "mpaa_rating": "PG-13",
                                    "total_gross": "29823162",
                                    "inflation_adjusted_gross": "44418589"
                                },
                                {
                                    "movie_title": "Hello Again",
                                    "release_date": "1987-11-06",
                                    "genre": "Comedy",
                                    "mpaa_rating": "NULL",
                                    "total_gross": "20419446",
                                    "inflation_adjusted_gross": "44024529"
                                },
                                {
                                    "movie_title": "Consenting Adults",
                                    "release_date": "1992-10-16",
                                    "genre": "Drama",
                                    "mpaa_rating": "R",
                                    "total_gross": "21591728",
                                    "inflation_adjusted_gross": "43859823"
                                },
                                {
                                    "movie_title": "Bad Company",
                                    "release_date": "2002-06-07",
                                    "genre": "Action",
                                    "mpaa_rating": "PG-13",
                                    "total_gross": "30157016",
                                    "inflation_adjusted_gross": "43756218"
                                },
                                {
                                    "movie_title": "D3: The Mighty Ducks",
                                    "release_date": "1996-10-04",
                                    "genre": "Comedy",
                                    "mpaa_rating": "PG",
                                    "total_gross": "22936273",
                                    "inflation_adjusted_gross": "43713554"
                                },
                                {
                                    "movie_title": "Surrogates",
                                    "release_date": "2009-09-25",
                                    "genre": "Action",
                                    "mpaa_rating": "PG-13",
                                    "total_gross": "38577772",
                                    "inflation_adjusted_gross": "43361416"
                                },
                                {
                                    "movie_title": "Straight Talk",
                                    "release_date": "1992-04-03",
                                    "genre": "Comedy",
                                    "mpaa_rating": "PG",
                                    "total_gross": "21202099",
                                    "inflation_adjusted_gross": "43068356"
                                },
                                {
                                    "movie_title": "The Air Up There",
                                    "release_date": "1994-01-07",
                                    "genre": "Comedy",
                                    "mpaa_rating": "PG",
                                    "total_gross": "20782439",
                                    "inflation_adjusted_gross": "42940186"
                                },
                                {
                                    "movie_title": "High Fidelity",
                                    "release_date": "2000-03-31",
                                    "genre": "Comedy",
                                    "mpaa_rating": "R",
                                    "total_gross": "27277055",
                                    "inflation_adjusted_gross": "42661516"
                                },
                                {
                                    "movie_title": "Iron Will",
                                    "release_date": "1994-01-14",
                                    "genre": "Drama",
                                    "mpaa_rating": "PG",
                                    "total_gross": "20623071",
                                    "inflation_adjusted_gross": "42610902"
                                },
                                {
                                    "movie_title": "Super Mario Bros.",
                                    "release_date": "1993-05-28",
                                    "genre": "Action",
                                    "mpaa_rating": "PG",
                                    "total_gross": "20844907",
                                    "inflation_adjusted_gross": "42445058"
                                },
                                {
                                    "movie_title": "Calendar Girls",
                                    "release_date": "2003-12-19",
                                    "genre": "Comedy",
                                    "mpaa_rating": "PG-13",
                                    "total_gross": "31011616",
                                    "inflation_adjusted_gross": "42379650"
                                },
                                {
                                    "movie_title": "Flight of the Navigator",
                                    "release_date": "1986-07-30",
                                    "genre": "Adventure",
                                    "mpaa_rating": "NULL",
                                    "total_gross": "18564613",
                                    "inflation_adjusted_gross": "42183197"
                                },
                                {
                                    "movie_title": "Boys",
                                    "release_date": "1996-05-10",
                                    "genre": "Drama",
                                    "mpaa_rating": "PG-13",
                                    "total_gross": "21930418",
                                    "inflation_adjusted_gross": "41826566"
                                },
                                {
                                    "movie_title": "Beloved",
                                    "release_date": "1998-10-16",
                                    "genre": "Drama",
                                    "mpaa_rating": "R",
                                    "total_gross": "22852487",
                                    "inflation_adjusted_gross": "41062682"
                                },
                                {
                                    "movie_title": "An Innocent Man",
                                    "release_date": "1989-10-06",
                                    "genre": "Drama",
                                    "mpaa_rating": "R",
                                    "total_gross": "19397847",
                                    "inflation_adjusted_gross": "40983414"
                                },
                                {
                                    "movie_title": "Another Stakeout",
                                    "release_date": "1993-07-23",
                                    "genre": "Comedy",
                                    "mpaa_rating": "PG-13",
                                    "total_gross": "20107504",
                                    "inflation_adjusted_gross": "40943541"
                                },
                                {
                                    "movie_title": "Color of Night",
                                    "release_date": "1994-08-19",
                                    "genre": "Thriller/Suspense",
                                    "mpaa_rating": "R",
                                    "total_gross": "19750470",
                                    "inflation_adjusted_gross": "40804816"
                                },
                                {
                                    "movie_title": "Stella",
                                    "release_date": "1990-02-02",
                                    "genre": "Drama",
                                    "mpaa_rating": "PG-13",
                                    "total_gross": "20062347",
                                    "inflation_adjusted_gross": "40077147"
                                },
                                {
                                    "movie_title": "Taking Care of Business",
                                    "release_date": "1990-08-17",
                                    "genre": "Comedy",
                                    "mpaa_rating": "R",
                                    "total_gross": "20005435",
                                    "inflation_adjusted_gross": "39963460"
                                },
                                {
                                    "movie_title": "Blaze",
                                    "release_date": "1989-12-13",
                                    "genre": "Drama",
                                    "mpaa_rating": "R",
                                    "total_gross": "19049727",
                                    "inflation_adjusted_gross": "39884640"
                                },
                                {
                                    "movie_title": "Confessions of a Teenage Drama Queen",
                                    "release_date": "2004-02-20",
                                    "genre": "Comedy",
                                    "mpaa_rating": "PG",
                                    "total_gross": "29331068",
                                    "inflation_adjusted_gross": "39816568"
                                },
                                {
                                    "movie_title": "Betsy's Wedding",
                                    "release_date": "1990-06-22",
                                    "genre": "Comedy",
                                    "mpaa_rating": "R",
                                    "total_gross": "19740070",
                                    "inflation_adjusted_gross": "39433357"
                                },
                                {
                                    "movie_title": "Mr. Magoo",
                                    "release_date": "1997-12-25",
                                    "genre": "Comedy",
                                    "mpaa_rating": "PG",
                                    "total_gross": "21437192",
                                    "inflation_adjusted_gross": "39145784"
                                },
                                {
                                    "movie_title": "He Got Game",
                                    "release_date": "1998-05-01",
                                    "genre": "Drama",
                                    "mpaa_rating": "R",
                                    "total_gross": "21567853",
                                    "inflation_adjusted_gross": "38766948"
                                },
                                {
                                    "movie_title": "Jonas Brothers: The 3D Concert Experi…",
                                    "release_date": "2009-02-27",
                                    "genre": "Concert/Performance",
                                    "mpaa_rating": "G",
                                    "total_gross": "38174685",
                                    "inflation_adjusted_gross": "38174685"
                                },
                                {
                                    "movie_title": "Million Dollar Arm",
                                    "release_date": "2014-05-10",
                                    "genre": "Drama",
                                    "mpaa_rating": "PG",
                                    "total_gross": "36447959",
                                    "inflation_adjusted_gross": "37607865"
                                },
                                {
                                    "movie_title": "Frankenweenie",
                                    "release_date": "2012-10-05",
                                    "genre": "Comedy",
                                    "mpaa_rating": "PG",
                                    "total_gross": "35287788",
                                    "inflation_adjusted_gross": "37363513"
                                },
                                {
                                    "movie_title": "Paradise",
                                    "release_date": "1991-09-18",
                                    "genre": "Drama",
                                    "mpaa_rating": "PG-13",
                                    "total_gross": "18634643",
                                    "inflation_adjusted_gross": "37313540"
                                },
                                {
                                    "movie_title": "Beauty and the Beast (IMAX)",
                                    "release_date": "2002-01-01",
                                    "genre": "Musical",
                                    "mpaa_rating": "G",
                                    "total_gross": "25487028",
                                    "inflation_adjusted_gross": "36980311"
                                },
                                {
                                    "movie_title": "Gone Fishin'",
                                    "release_date": "1997-05-30",
                                    "genre": "Comedy",
                                    "mpaa_rating": "PG",
                                    "total_gross": "19745922",
                                    "inflation_adjusted_gross": "36265379"
                                },
                                {
                                    "movie_title": "Born Yesterday",
                                    "release_date": "1993-03-26",
                                    "genre": "Romantic Comedy",
                                    "mpaa_rating": "PG",
                                    "total_gross": "17760754",
                                    "inflation_adjusted_gross": "36165012"
                                },
                                {
                                    "movie_title": "DuckTales: The Movie - Treasure of th…",
                                    "release_date": "1990-08-03",
                                    "genre": "Adventure",
                                    "mpaa_rating": "G",
                                    "total_gross": "18075331",
                                    "inflation_adjusted_gross": "36107823"
                                },
                                {
                                    "movie_title": "Kazaam",
                                    "release_date": "1996-07-17",
                                    "genre": "Comedy",
                                    "mpaa_rating": "PG",
                                    "total_gross": "18880508",
                                    "inflation_adjusted_gross": "36009655"
                                },
                                {
                                    "movie_title": "Earth",
                                    "release_date": "2009-04-22",
                                    "genre": "Documentary",
                                    "mpaa_rating": "G",
                                    "total_gross": "32011576",
                                    "inflation_adjusted_gross": "35981010"
                                },
                                {
                                    "movie_title": "Corky Romano",
                                    "release_date": "2001-10-12",
                                    "genre": "Comedy",
                                    "mpaa_rating": "PG-13",
                                    "total_gross": "23978402",
                                    "inflation_adjusted_gross": "35705805"
                                },
                                {
                                    "movie_title": "Jane Austen's Mafia",
                                    "release_date": "1998-07-24",
                                    "genre": "Comedy",
                                    "mpaa_rating": "PG-13",
                                    "total_gross": "19843795",
                                    "inflation_adjusted_gross": "35668055"
                                },
                                {
                                    "movie_title": "When in Rome",
                                    "release_date": "2010-01-29",
                                    "genre": "Romantic Comedy",
                                    "mpaa_rating": "PG-13",
                                    "total_gross": "32680633",
                                    "inflation_adjusted_gross": "34917330"
                                },
                                {
                                    "movie_title": "Stick It",
                                    "release_date": "2006-04-28",
                                    "genre": "Comedy",
                                    "mpaa_rating": "PG-13",
                                    "total_gross": "26910736",
                                    "inflation_adjusted_gross": "34634731"
                                },
                                {
                                    "movie_title": "Toy Story 3D Double Feature",
                                    "release_date": "2009-10-02",
                                    "genre": "Adventure",
                                    "mpaa_rating": "G",
                                    "total_gross": "30702446",
                                    "inflation_adjusted_gross": "34509545"
                                },
                                {
                                    "movie_title": "The Last Flight of Noah’s Ark",
                                    "release_date": "1980-06-25",
                                    "genre": "NULL",
                                    "mpaa_rating": "NULL",
                                    "total_gross": "11000000",
                                    "inflation_adjusted_gross": "34472116"
                                },
                                {
                                    "movie_title": "The Big Green",
                                    "release_date": "1995-09-29",
                                    "genre": "Comedy",
                                    "mpaa_rating": "PG",
                                    "total_gross": "17736619",
                                    "inflation_adjusted_gross": "34372339"
                                },
                                {
                                    "movie_title": "Heavy Weights",
                                    "release_date": "1995-02-17",
                                    "genre": "Comedy",
                                    "mpaa_rating": "PG",
                                    "total_gross": "17671310",
                                    "inflation_adjusted_gross": "34245779"
                                },
                                {
                                    "movie_title": "Terminal Velocity",
                                    "release_date": "1994-09-23",
                                    "genre": "Action",
                                    "mpaa_rating": "PG-13",
                                    "total_gross": "16478900",
                                    "inflation_adjusted_gross": "34048315"
                                },
                                {
                                    "movie_title": "Baby: Secret of the Lost Legend",
                                    "release_date": "1985-03-22",
                                    "genre": "Adventure",
                                    "mpaa_rating": "NULL",
                                    "total_gross": "14276095",
                                    "inflation_adjusted_gross": "33900697"
                                },
                                {
                                    "movie_title": "That Darn Cat",
                                    "release_date": "1997-02-14",
                                    "genre": "Comedy",
                                    "mpaa_rating": "PG",
                                    "total_gross": "18301828",
                                    "inflation_adjusted_gross": "33613158"
                                },
                                {
                                    "movie_title": "Dark Water",
                                    "release_date": "2005-07-08",
                                    "genre": "Thriller/Suspense",
                                    "mpaa_rating": "PG-13",
                                    "total_gross": "25473093",
                                    "inflation_adjusted_gross": "33500491"
                                },
                                {
                                    "movie_title": "Simon Birch",
                                    "release_date": "1998-09-11",
                                    "genre": "Drama",
                                    "mpaa_rating": "PG",
                                    "total_gross": "18253415",
                                    "inflation_adjusted_gross": "32809442"
                                },
                                {
                                    "movie_title": "Benji the Hunted",
                                    "release_date": "1987-06-05",
                                    "genre": "Adventure",
                                    "mpaa_rating": "NULL",
                                    "total_gross": "15212539",
                                    "inflation_adjusted_gross": "32798382"
                                },
                                {
                                    "movie_title": "Around the World in 80 Days",
                                    "release_date": "2004-06-16",
                                    "genre": "Adventure",
                                    "mpaa_rating": "PG",
                                    "total_gross": "24004159",
                                    "inflation_adjusted_gross": "32585356"
                                },
                                {
                                    "movie_title": "Piglet's Big Movie",
                                    "release_date": "2003-03-21",
                                    "genre": "Comedy",
                                    "mpaa_rating": "G",
                                    "total_gross": "23103423",
                                    "inflation_adjusted_gross": "32298812"
                                },
                                {
                                    "movie_title": "Doug's 1st Movie",
                                    "release_date": "1999-03-26",
                                    "genre": "Adventure",
                                    "mpaa_rating": "G",
                                    "total_gross": "19421271",
                                    "inflation_adjusted_gross": "32228598"
                                },
                                {
                                    "movie_title": "The Life Aquatic with Steve Zissou",
                                    "release_date": "2004-12-10",
                                    "genre": "Comedy",
                                    "mpaa_rating": "R",
                                    "total_gross": "24006726",
                                    "inflation_adjusted_gross": "32198655"
                                },
                                {
                                    "movie_title": "Ice Princess",
                                    "release_date": "2005-03-18",
                                    "genre": "Comedy",
                                    "mpaa_rating": "G",
                                    "total_gross": "24381334",
                                    "inflation_adjusted_gross": "32064685"
                                },
                                {
                                    "movie_title": "Summer of Sam",
                                    "release_date": "1999-07-02",
                                    "genre": "Drama",
                                    "mpaa_rating": "R",
                                    "total_gross": "19288130",
                                    "inflation_adjusted_gross": "32007656"
                                },
                                {
                                    "movie_title": "Delivery Man",
                                    "release_date": "2013-11-22",
                                    "genre": "Comedy",
                                    "mpaa_rating": "PG-13",
                                    "total_gross": "30659817",
                                    "inflation_adjusted_gross": "31787136"
                                },
                                {
                                    "movie_title": "One Magic Christmas",
                                    "release_date": "1985-11-22",
                                    "genre": "Drama",
                                    "mpaa_rating": "NULL",
                                    "total_gross": "13229514",
                                    "inflation_adjusted_gross": "31415432"
                                },
                                {
                                    "movie_title": "Billy Bathgate",
                                    "release_date": "1991-11-01",
                                    "genre": "Drama",
                                    "mpaa_rating": "R",
                                    "total_gross": "15565363",
                                    "inflation_adjusted_gross": "31167691"
                                },
                                {
                                    "movie_title": "Tim Burton's The Nightmare Before Chr…",
                                    "release_date": "2006-10-20",
                                    "genre": "Musical",
                                    "mpaa_rating": "PG",
                                    "total_gross": "24732041",
                                    "inflation_adjusted_gross": "30737517"
                                },
                                {
                                    "movie_title": "Mr. Destiny",
                                    "release_date": "1990-10-12",
                                    "genre": "Comedy",
                                    "mpaa_rating": "PG-13",
                                    "total_gross": "15379253",
                                    "inflation_adjusted_gross": "30722056"
                                },
                                {
                                    "movie_title": "Chimpanzee",
                                    "release_date": "2012-04-20",
                                    "genre": "Documentary",
                                    "mpaa_rating": "G",
                                    "total_gross": "28965459",
                                    "inflation_adjusted_gross": "30675725"
                                },
                                {
                                    "movie_title": "The Alamo",
                                    "release_date": "2004-04-09",
                                    "genre": "Western",
                                    "mpaa_rating": "PG-13",
                                    "total_gross": "22406362",
                                    "inflation_adjusted_gross": "30416359"
                                },
                                {
                                    "movie_title": "Haakon Haakonsen",
                                    "release_date": "1991-03-01",
                                    "genre": "Adventure",
                                    "mpaa_rating": "PG",
                                    "total_gross": "15024232",
                                    "inflation_adjusted_gross": "30084149"
                                },
                                {
                                    "movie_title": "Indian Summer",
                                    "release_date": "1993-04-23",
                                    "genre": "Comedy",
                                    "mpaa_rating": "R",
                                    "total_gross": "14717851",
                                    "inflation_adjusted_gross": "29968953"
                                },
                                {
                                    "movie_title": "Spaced Invaders",
                                    "release_date": "1990-04-27",
                                    "genre": "Comedy",
                                    "mpaa_rating": "PG",
                                    "total_gross": "15000000",
                                    "inflation_adjusted_gross": "29964452"
                                },
                                {
                                    "movie_title": "Mad Love",
                                    "release_date": "1995-05-26",
                                    "genre": "Drama",
                                    "mpaa_rating": "PG-13",
                                    "total_gross": "15446532",
                                    "inflation_adjusted_gross": "29934306"
                                },
                                {
                                    "movie_title": "Cold Creek Manor",
                                    "release_date": "2003-09-19",
                                    "genre": "Thriller/Suspense",
                                    "mpaa_rating": "R",
                                    "total_gross": "21384035",
                                    "inflation_adjusted_gross": "29895090"
                                },
                                {
                                    "movie_title": "Stay Alive",
                                    "release_date": "2006-03-24",
                                    "genre": "Horror",
                                    "mpaa_rating": "PG-13",
                                    "total_gross": "23086480",
                                    "inflation_adjusted_gross": "29712825"
                                },
                                {
                                    "movie_title": "Mr. 3000",
                                    "release_date": "2004-09-17",
                                    "genre": "Comedy",
                                    "mpaa_rating": "PG-13",
                                    "total_gross": "21800302",
                                    "inflation_adjusted_gross": "29593641"
                                },
                                {
                                    "movie_title": "Fire Birds",
                                    "release_date": "1990-05-24",
                                    "genre": "Action",
                                    "mpaa_rating": "PG-13",
                                    "total_gross": "14760451",
                                    "inflation_adjusted_gross": "29485923"
                                },
                                {
                                    "movie_title": "A Lot Like Love",
                                    "release_date": "2005-04-22",
                                    "genre": "Comedy",
                                    "mpaa_rating": "PG-13",
                                    "total_gross": "21835784",
                                    "inflation_adjusted_gross": "28716947"
                                },
                                {
                                    "movie_title": "Rushmore",
                                    "release_date": "1998-12-11",
                                    "genre": "Black Comedy",
                                    "mpaa_rating": "R",
                                    "total_gross": "17105219",
                                    "inflation_adjusted_gross": "28392518"
                                },
                                {
                                    "movie_title": "Winnie the Pooh",
                                    "release_date": "2011-07-15",
                                    "genre": "Adventure",
                                    "mpaa_rating": "G",
                                    "total_gross": "26692846",
                                    "inflation_adjusted_gross": "28375869"
                                },
                                {
                                    "movie_title": "Rocket Man",
                                    "release_date": "1997-10-10",
                                    "genre": "Comedy",
                                    "mpaa_rating": "PG",
                                    "total_gross": "15448043",
                                    "inflation_adjusted_gross": "28371890"
                                },
                                {
                                    "movie_title": "Ernest Scared Stupid",
                                    "release_date": "1991-10-11",
                                    "genre": "Comedy",
                                    "mpaa_rating": "PG",
                                    "total_gross": "14143280",
                                    "inflation_adjusted_gross": "28320147"
                                },
                                {
                                    "movie_title": "Return to Snowy River",
                                    "release_date": "1988-04-15",
                                    "genre": "Adventure",
                                    "mpaa_rating": "PG",
                                    "total_gross": "13687027",
                                    "inflation_adjusted_gross": "28073384"
                                },
                                {
                                    "movie_title": "Tuck Everlasting",
                                    "release_date": "2002-10-11",
                                    "genre": "Drama",
                                    "mpaa_rating": "PG",
                                    "total_gross": "19161999",
                                    "inflation_adjusted_gross": "27789959"
                                },
                                {
                                    "movie_title": "The Finest Hours",
                                    "release_date": "2016-01-29",
                                    "genre": "Thriller/Suspense",
                                    "mpaa_rating": "PG",
                                    "total_gross": "27569558",
                                    "inflation_adjusted_gross": "27569558"
                                },
                                {
                                    "movie_title": "You Again",
                                    "release_date": "2010-09-24",
                                    "genre": "Comedy",
                                    "mpaa_rating": "PG",
                                    "total_gross": "25702053",
                                    "inflation_adjusted_gross": "27461121"
                                },
                                {
                                    "movie_title": "The Sixth Man",
                                    "release_date": "1997-03-28",
                                    "genre": "Comedy",
                                    "mpaa_rating": "PG-13",
                                    "total_gross": "14765099",
                                    "inflation_adjusted_gross": "27117599"
                                },
                                {
                                    "movie_title": "Nixon",
                                    "release_date": "1995-12-20",
                                    "genre": "Drama",
                                    "mpaa_rating": "R",
                                    "total_gross": "13668249",
                                    "inflation_adjusted_gross": "26302005"
                                },
                                {
                                    "movie_title": "A Far Off Place",
                                    "release_date": "1993-03-12",
                                    "genre": "Adventure",
                                    "mpaa_rating": "PG",
                                    "total_gross": "12890752",
                                    "inflation_adjusted_gross": "26248558"
                                },
                                {
                                    "movie_title": "D.O.A.",
                                    "release_date": "1988-03-18",
                                    "genre": "Thriller/Suspense",
                                    "mpaa_rating": "NULL",
                                    "total_gross": "12706478",
                                    "inflation_adjusted_gross": "26062188"
                                },
                                {
                                    "movie_title": "A Kid in King Arthur's Court",
                                    "release_date": "1995-08-11",
                                    "genre": "Adventure",
                                    "mpaa_rating": "PG",
                                    "total_gross": "13406717",
                                    "inflation_adjusted_gross": "25981285"
                                },
                                {
                                    "movie_title": "Max Keeble's Big Move",
                                    "release_date": "2001-10-05",
                                    "genre": "Comedy",
                                    "mpaa_rating": "PG",
                                    "total_gross": "17292381",
                                    "inflation_adjusted_gross": "25749730"
                                },
                                {
                                    "movie_title": "Valiant",
                                    "release_date": "2005-08-19",
                                    "genre": "Adventure",
                                    "mpaa_rating": "G",
                                    "total_gross": "19478106",
                                    "inflation_adjusted_gross": "25616292"
                                },
                                {
                                    "movie_title": "Return to Oz",
                                    "release_date": "1985-06-21",
                                    "genre": "Adventure",
                                    "mpaa_rating": "NULL",
                                    "total_gross": "10618813",
                                    "inflation_adjusted_gross": "25215934"
                                },
                                {
                                    "movie_title": "crazy/beautiful",
                                    "release_date": "2001-06-29",
                                    "genre": "Drama",
                                    "mpaa_rating": "PG-13",
                                    "total_gross": "16929123",
                                    "inflation_adjusted_gross": "25214223"
                                },
                                {
                                    "movie_title": "The Invisible",
                                    "release_date": "2007-04-27",
                                    "genre": "Thriller/Suspense",
                                    "mpaa_rating": "PG-13",
                                    "total_gross": "20568319",
                                    "inflation_adjusted_gross": "25202168"
                                },
                                {
                                    "movie_title": "Life With Mikey",
                                    "release_date": "1993-06-04",
                                    "genre": "Comedy",
                                    "mpaa_rating": "PG",
                                    "total_gross": "12349549",
                                    "inflation_adjusted_gross": "25146538"
                                },
                                {
                                    "movie_title": "A Stranger Among Us",
                                    "release_date": "1992-07-17",
                                    "genre": "Drama",
                                    "mpaa_rating": "PG-13",
                                    "total_gross": "12282994",
                                    "inflation_adjusted_gross": "24950752"
                                },
                                {
                                    "movie_title": "The Marrying Man",
                                    "release_date": "1991-04-05",
                                    "genre": "Romantic Comedy",
                                    "mpaa_rating": "R",
                                    "total_gross": "12454768",
                                    "inflation_adjusted_gross": "24939118"
                                },
                                {
                                    "movie_title": "The Country Bears",
                                    "release_date": "2002-07-26",
                                    "genre": "Adventure",
                                    "mpaa_rating": "G",
                                    "total_gross": "16988996",
                                    "inflation_adjusted_gross": "24650121"
                                },
                                {
                                    "movie_title": "Mr. Wrong",
                                    "release_date": "1996-02-16",
                                    "genre": "Romantic Comedy",
                                    "mpaa_rating": "PG-13",
                                    "total_gross": "12805071",
                                    "inflation_adjusted_gross": "24422334"
                                },
                                {
                                    "movie_title": "The Associate",
                                    "release_date": "1996-10-25",
                                    "genre": "Comedy",
                                    "mpaa_rating": "PG-13",
                                    "total_gross": "12772657",
                                    "inflation_adjusted_gross": "24333094"
                                },
                                {
                                    "movie_title": "3 Ninjas Kick Back",
                                    "release_date": "1994-05-06",
                                    "genre": "Action",
                                    "mpaa_rating": "PG",
                                    "total_gross": "11744960",
                                    "inflation_adjusted_gross": "24267154"
                                },
                                {
                                    "movie_title": "Gross Anatomy",
                                    "release_date": "1989-10-20",
                                    "genre": "Drama",
                                    "mpaa_rating": "PG-13",
                                    "total_gross": "11346186",
                                    "inflation_adjusted_gross": "23972012"
                                },
                                {
                                    "movie_title": "Ghosts of the Abyss",
                                    "release_date": "2003-04-11",
                                    "genre": "Documentary",
                                    "mpaa_rating": "G",
                                    "total_gross": "17093668",
                                    "inflation_adjusted_gross": "23803108"
                                },
                                {
                                    "movie_title": "Pooh's Heffalump Movie",
                                    "release_date": "2005-02-11",
                                    "genre": "Adventure",
                                    "mpaa_rating": "G",
                                    "total_gross": "18098433",
                                    "inflation_adjusted_gross": "23801835"
                                },
                                {
                                    "movie_title": "Roommates",
                                    "release_date": "1995-03-03",
                                    "genre": "Comedy",
                                    "mpaa_rating": "PG",
                                    "total_gross": "12076989",
                                    "inflation_adjusted_gross": "23404369"
                                },
                                {
                                    "movie_title": "The Ref",
                                    "release_date": "1994-03-09",
                                    "genre": "Comedy",
                                    "mpaa_rating": "R",
                                    "total_gross": "11325885",
                                    "inflation_adjusted_gross": "23401275"
                                },
                                {
                                    "movie_title": "Mars Needs Moms",
                                    "release_date": "2011-03-11",
                                    "genre": "Adventure",
                                    "mpaa_rating": "PG",
                                    "total_gross": "21392758",
                                    "inflation_adjusted_gross": "22741603"
                                },
                                {
                                    "movie_title": "New York Stories",
                                    "release_date": "1989-03-01",
                                    "genre": "Drama",
                                    "mpaa_rating": "PG",
                                    "total_gross": "10763469",
                                    "inflation_adjusted_gross": "22740861"
                                },
                                {
                                    "movie_title": "One Good Cop",
                                    "release_date": "1991-05-03",
                                    "genre": "Action",
                                    "mpaa_rating": "R",
                                    "total_gross": "11276846",
                                    "inflation_adjusted_gross": "22580472"
                                },
                                {
                                    "movie_title": "The Journey of Natty Gann",
                                    "release_date": "1985-09-27",
                                    "genre": "Drama",
                                    "mpaa_rating": "NULL",
                                    "total_gross": "9468512",
                                    "inflation_adjusted_gross": "22302956"
                                },
                                {
                                    "movie_title": "Annapolis",
                                    "release_date": "2006-01-27",
                                    "genre": "Drama",
                                    "mpaa_rating": "PG-13",
                                    "total_gross": "17127992",
                                    "inflation_adjusted_gross": "22044113"
                                },
                                {
                                    "movie_title": "I'll Be Home For Christmas",
                                    "release_date": "1998-11-13",
                                    "genre": "Comedy",
                                    "mpaa_rating": "PG",
                                    "total_gross": "12214338",
                                    "inflation_adjusted_gross": "21941840"
                                },
                                {
                                    "movie_title": "Holy Man",
                                    "release_date": "1998-10-09",
                                    "genre": "Comedy",
                                    "mpaa_rating": "PG",
                                    "total_gross": "12069719",
                                    "inflation_adjusted_gross": "21694605"
                                },
                                {
                                    "movie_title": "Camp Nowhere",
                                    "release_date": "1994-08-26",
                                    "genre": "Comedy",
                                    "mpaa_rating": "PG",
                                    "total_gross": "10442641",
                                    "inflation_adjusted_gross": "21576332"
                                },
                                {
                                    "movie_title": "Sleeping Beauty",
                                    "release_date": "1959-01-29",
                                    "genre": "Drama",
                                    "mpaa_rating": "NULL",
                                    "total_gross": "9464608",
                                    "inflation_adjusted_gross": "21505832"
                                },
                                {
                                    "movie_title": "Country",
                                    "release_date": "1984-09-29",
                                    "genre": "Drama",
                                    "mpaa_rating": "NULL",
                                    "total_gross": "8400000",
                                    "inflation_adjusted_gross": "21075000"
                                },
                                {
                                    "movie_title": "Oceans",
                                    "release_date": "2010-04-22",
                                    "genre": "Documentary",
                                    "mpaa_rating": "G",
                                    "total_gross": "19422319",
                                    "inflation_adjusted_gross": "20751600"
                                },
                                {
                                    "movie_title": "Out Cold",
                                    "release_date": "2001-11-21",
                                    "genre": "Comedy",
                                    "mpaa_rating": "PG-13",
                                    "total_gross": "13906394",
                                    "inflation_adjusted_gross": "20700691"
                                },
                                {
                                    "movie_title": "Tex",
                                    "release_date": "1982-11-19",
                                    "genre": "Drama",
                                    "mpaa_rating": "NULL",
                                    "total_gross": "7199408",
                                    "inflation_adjusted_gross": "20643199"
                                },
                                {
                                    "movie_title": "The Crew",
                                    "release_date": "2000-08-25",
                                    "genre": "Comedy",
                                    "mpaa_rating": "PG-13",
                                    "total_gross": "13019253",
                                    "inflation_adjusted_gross": "20362201"
                                },
                                {
                                    "movie_title": "The Secret World of Arietty",
                                    "release_date": "2012-02-17",
                                    "genre": "Adventure",
                                    "mpaa_rating": "G",
                                    "total_gross": "19192510",
                                    "inflation_adjusted_gross": "20325733"
                                },
                                {
                                    "movie_title": "The Greatest Game Ever Played",
                                    "release_date": "2005-09-30",
                                    "genre": "Drama",
                                    "mpaa_rating": "PG",
                                    "total_gross": "15331289",
                                    "inflation_adjusted_gross": "20162672"
                                },
                                {
                                    "movie_title": "Deep Rising",
                                    "release_date": "1998-01-30",
                                    "genre": "Action",
                                    "mpaa_rating": "R",
                                    "total_gross": "11203026",
                                    "inflation_adjusted_gross": "20136775"
                                },
                                {
                                    "movie_title": "The Scarlet Letter",
                                    "release_date": "1995-10-13",
                                    "genre": "Drama",
                                    "mpaa_rating": "R",
                                    "total_gross": "10359006",
                                    "inflation_adjusted_gross": "20075033"
                                },
                                {
                                    "movie_title": "White Squall",
                                    "release_date": "1996-02-02",
                                    "genre": "Adventure",
                                    "mpaa_rating": "PG-13",
                                    "total_gross": "10229300",
                                    "inflation_adjusted_gross": "19509726"
                                },
                                {
                                    "movie_title": "Fright Night",
                                    "release_date": "2011-08-19",
                                    "genre": "Horror",
                                    "mpaa_rating": "R",
                                    "total_gross": "18298649",
                                    "inflation_adjusted_gross": "19452402"
                                },
                                {
                                    "movie_title": "Scenes from a Mall",
                                    "release_date": "1991-02-22",
                                    "genre": "Comedy",
                                    "mpaa_rating": "NULL",
                                    "total_gross": "9563393",
                                    "inflation_adjusted_gross": "19149495"
                                },
                                {
                                    "movie_title": "Swing Vote",
                                    "release_date": "2008-08-01",
                                    "genre": "Comedy",
                                    "mpaa_rating": "PG-13",
                                    "total_gross": "16289867",
                                    "inflation_adjusted_gross": "19125841"
                                },
                                {
                                    "movie_title": "Angie",
                                    "release_date": "1994-03-04",
                                    "genre": "Comedy",
                                    "mpaa_rating": "R",
                                    "total_gross": "9252349",
                                    "inflation_adjusted_gross": "19116981"
                                },
                                {
                                    "movie_title": "Bears",
                                    "release_date": "2014-04-18",
                                    "genre": "Documentary",
                                    "mpaa_rating": "G",
                                    "total_gross": "17780194",
                                    "inflation_adjusted_gross": "18346024"
                                },
                                {
                                    "movie_title": "25th Hour",
                                    "release_date": "2002-12-19",
                                    "genre": "Drama",
                                    "mpaa_rating": "R",
                                    "total_gross": "13084595",
                                    "inflation_adjusted_gross": "18325463"
                                },
                                {
                                    "movie_title": "The Inkwell",
                                    "release_date": "1994-04-22",
                                    "genre": "Comedy",
                                    "mpaa_rating": "R",
                                    "total_gross": "8864699",
                                    "inflation_adjusted_gross": "18316030"
                                },
                                {
                                    "movie_title": "White Fang 2: Myth of the White Wolf",
                                    "release_date": "1994-04-15",
                                    "genre": "Adventure",
                                    "mpaa_rating": "PG",
                                    "total_gross": "8752399",
                                    "inflation_adjusted_gross": "18083994"
                                },
                                {
                                    "movie_title": "The Puppet Masters",
                                    "release_date": "1994-10-21",
                                    "genre": "Horror",
                                    "mpaa_rating": "R",
                                    "total_gross": "8579626",
                                    "inflation_adjusted_gross": "17727017"
                                },
                                {
                                    "movie_title": "Celtic Pride",
                                    "release_date": "1996-04-19",
                                    "genre": "Comedy",
                                    "mpaa_rating": "PG-13",
                                    "total_gross": "9240378",
                                    "inflation_adjusted_gross": "17623615"
                                },
                                {
                                    "movie_title": "Gake no ue no Ponyo",
                                    "release_date": "2009-08-14",
                                    "genre": "Adventure",
                                    "mpaa_rating": "G",
                                    "total_gross": "15090399",
                                    "inflation_adjusted_gross": "16961607"
                                },
                                {
                                    "movie_title": "Cheetah",
                                    "release_date": "1989-08-18",
                                    "genre": "Adventure",
                                    "mpaa_rating": "NULL",
                                    "total_gross": "7882250",
                                    "inflation_adjusted_gross": "16653473"
                                },
                                {
                                    "movie_title": "Before and After",
                                    "release_date": "1996-02-23",
                                    "genre": "Drama",
                                    "mpaa_rating": "PG-13",
                                    "total_gross": "8642118",
                                    "inflation_adjusted_gross": "16482589"
                                },
                                {
                                    "movie_title": "Monkey Kingdom",
                                    "release_date": "2015-04-17",
                                    "genre": "Documentary",
                                    "mpaa_rating": "G",
                                    "total_gross": "16432322",
                                    "inflation_adjusted_gross": "16432322"
                                },
                                {
                                    "movie_title": "African Cats",
                                    "release_date": "2011-04-22",
                                    "genre": "Documentary",
                                    "mpaa_rating": "G",
                                    "total_gross": "15428747",
                                    "inflation_adjusted_gross": "16401551"
                                },
                                {
                                    "movie_title": "The Rich Man's Wife",
                                    "release_date": "1996-09-13",
                                    "genre": "Thriller/Suspense",
                                    "mpaa_rating": "R",
                                    "total_gross": "8538318",
                                    "inflation_adjusted_gross": "16284619"
                                },
                                {
                                    "movie_title": "Tall Tale",
                                    "release_date": "1995-03-24",
                                    "genre": "Western",
                                    "mpaa_rating": "PG",
                                    "total_gross": "8247627",
                                    "inflation_adjusted_gross": "15983331"
                                },
                                {
                                    "movie_title": "Aspen Extreme",
                                    "release_date": "1993-01-22",
                                    "genre": "Romantic Comedy",
                                    "mpaa_rating": "PG-13",
                                    "total_gross": "7843388",
                                    "inflation_adjusted_gross": "15970955"
                                },
                                {
                                    "movie_title": "Unstrung Heroes",
                                    "release_date": "1995-09-15",
                                    "genre": "Drama",
                                    "mpaa_rating": "PG",
                                    "total_gross": "7929000",
                                    "inflation_adjusted_gross": "15365850"
                                },
                                {
                                    "movie_title": "Disorganized Crime",
                                    "release_date": "1989-04-14",
                                    "genre": "Comedy",
                                    "mpaa_rating": "NULL",
                                    "total_gross": "7210149",
                                    "inflation_adjusted_gross": "15233465"
                                },
                                {
                                    "movie_title": "Something Wicked This Way Comes",
                                    "release_date": "1983-04-29",
                                    "genre": "Horror",
                                    "mpaa_rating": "NULL",
                                    "total_gross": "5656087",
                                    "inflation_adjusted_gross": "15136765"
                                },
                                {
                                    "movie_title": "Sarafina!",
                                    "release_date": "1992-09-18",
                                    "genre": "Drama",
                                    "mpaa_rating": "PG-13",
                                    "total_gross": "7306242",
                                    "inflation_adjusted_gross": "14841352"
                                },
                                {
                                    "movie_title": "Sorority Boys",
                                    "release_date": "2002-03-22",
                                    "genre": "Comedy",
                                    "mpaa_rating": "R",
                                    "total_gross": "10198766",
                                    "inflation_adjusted_gross": "14797862"
                                },
                                {
                                    "movie_title": "Mystery, Alaska",
                                    "release_date": "1999-10-01",
                                    "genre": "Comedy",
                                    "mpaa_rating": "R",
                                    "total_gross": "8891623",
                                    "inflation_adjusted_gross": "14755189"
                                },
                                {
                                    "movie_title": "The Jerky Boys",
                                    "release_date": "1995-02-03",
                                    "genre": "Comedy",
                                    "mpaa_rating": "R",
                                    "total_gross": "7555256",
                                    "inflation_adjusted_gross": "14641561"
                                },
                                {
                                    "movie_title": "Wild Hearts Can't Be Broken",
                                    "release_date": "1991-05-24",
                                    "genre": "Drama",
                                    "mpaa_rating": "NULL",
                                    "total_gross": "7300000",
                                    "inflation_adjusted_gross": "14617333"
                                },
                                {
                                    "movie_title": "Casanova",
                                    "release_date": "2005-12-25",
                                    "genre": "Drama",
                                    "mpaa_rating": "R",
                                    "total_gross": "11304403",
                                    "inflation_adjusted_gross": "14574087"
                                },
                                {
                                    "movie_title": "A Thousand Acres",
                                    "release_date": "1997-09-19",
                                    "genre": "Drama",
                                    "mpaa_rating": "R",
                                    "total_gross": "7928412",
                                    "inflation_adjusted_gross": "14561324"
                                },
                                {
                                    "movie_title": "1492: Conquest of Paradise",
                                    "release_date": "1992-10-09",
                                    "genre": "Adventure",
                                    "mpaa_rating": "PG-13",
                                    "total_gross": "7099531",
                                    "inflation_adjusted_gross": "14421454"
                                },
                                {
                                    "movie_title": "Sen to Chihiro no Kamikakushi",
                                    "release_date": "2002-09-20",
                                    "genre": "Adventure",
                                    "mpaa_rating": "PG",
                                    "total_gross": "10049886",
                                    "inflation_adjusted_gross": "14338992"
                                },
                                {
                                    "movie_title": "Fantasia 2000 (Theatrical Release)",
                                    "release_date": "2000-06-16",
                                    "genre": "Musical",
                                    "mpaa_rating": "G",
                                    "total_gross": "9103630",
                                    "inflation_adjusted_gross": "14238144"
                                },
                                {
                                    "movie_title": "Krippendorf's Tribe",
                                    "release_date": "1998-02-27",
                                    "genre": "Comedy",
                                    "mpaa_rating": "PG-13",
                                    "total_gross": "7571115",
                                    "inflation_adjusted_gross": "13608633"
                                },
                                {
                                    "movie_title": "Shopgirl",
                                    "release_date": "2005-10-21",
                                    "genre": "Drama",
                                    "mpaa_rating": "R",
                                    "total_gross": "10284523",
                                    "inflation_adjusted_gross": "13519621"
                                },
                                {
                                    "movie_title": "Play it to the Bone",
                                    "release_date": "1999-12-24",
                                    "genre": "Comedy",
                                    "mpaa_rating": "R",
                                    "total_gross": "8427204",
                                    "inflation_adjusted_gross": "13180524"
                                },
                                {
                                    "movie_title": "People Like Us",
                                    "release_date": "2012-06-29",
                                    "genre": "Drama",
                                    "mpaa_rating": "PG-13",
                                    "total_gross": "12431792",
                                    "inflation_adjusted_gross": "13165822"
                                },
                                {
                                    "movie_title": "Primeval",
                                    "release_date": "2007-01-12",
                                    "genre": "Adventure",
                                    "mpaa_rating": "R",
                                    "total_gross": "10597734",
                                    "inflation_adjusted_gross": "12985302"
                                },
                                {
                                    "movie_title": "Roving Mars",
                                    "release_date": "2006-01-27",
                                    "genre": "Documentary",
                                    "mpaa_rating": "G",
                                    "total_gross": "10407978",
                                    "inflation_adjusted_gross": "12948025"
                                },
                                {
                                    "movie_title": "Night Crossing",
                                    "release_date": "1982-02-05",
                                    "genre": "Drama",
                                    "mpaa_rating": "NULL",
                                    "total_gross": "4500000",
                                    "inflation_adjusted_gross": "12903059"
                                },
                                {
                                    "movie_title": "The Light Between Oceans",
                                    "release_date": "2016-09-02",
                                    "genre": "Drama",
                                    "mpaa_rating": "PG-13",
                                    "total_gross": "12545979",
                                    "inflation_adjusted_gross": "12545979"
                                },
                                {
                                    "movie_title": "Strange Magic",
                                    "release_date": "2015-01-23",
                                    "genre": "Adventure",
                                    "mpaa_rating": "PG",
                                    "total_gross": "12429583",
                                    "inflation_adjusted_gross": "12429583"
                                },
                                {
                                    "movie_title": "Ed Wood",
                                    "release_date": "1994-09-30",
                                    "genre": "Comedy",
                                    "mpaa_rating": "R",
                                    "total_gross": "5828466",
                                    "inflation_adjusted_gross": "12042634"
                                },
                                {
                                    "movie_title": "The Rescue",
                                    "release_date": "1988-08-05",
                                    "genre": "Action",
                                    "mpaa_rating": "NULL",
                                    "total_gross": "5855392",
                                    "inflation_adjusted_gross": "12009960"
                                },
                                {
                                    "movie_title": "Aliens of the Deep",
                                    "release_date": "2005-01-28",
                                    "genre": "Documentary",
                                    "mpaa_rating": "G",
                                    "total_gross": "8968684",
                                    "inflation_adjusted_gross": "11740942"
                                },
                                {
                                    "movie_title": "Trenchcoat",
                                    "release_date": "1983-03-11",
                                    "genre": "Comedy",
                                    "mpaa_rating": "NULL",
                                    "total_gross": "4304286",
                                    "inflation_adjusted_gross": "11519089"
                                },
                                {
                                    "movie_title": "Swing Kids",
                                    "release_date": "1993-03-05",
                                    "genre": "Musical",
                                    "mpaa_rating": "PG-13",
                                    "total_gross": "5632086",
                                    "inflation_adjusted_gross": "11468231"
                                },
                                {
                                    "movie_title": "The Cemetery Club",
                                    "release_date": "1993-02-03",
                                    "genre": "Comedy",
                                    "mpaa_rating": "PG-13",
                                    "total_gross": "5583621",
                                    "inflation_adjusted_gross": "11369541"
                                },
                                {
                                    "movie_title": "Heartbreak Hotel",
                                    "release_date": "1988-09-30",
                                    "genre": "Comedy",
                                    "mpaa_rating": "NULL",
                                    "total_gross": "5509417",
                                    "inflation_adjusted_gross": "11300331"
                                },
                                {
                                    "movie_title": "Last Dance",
                                    "release_date": "1996-05-03",
                                    "genre": "Drama",
                                    "mpaa_rating": "R",
                                    "total_gross": "5857534",
                                    "inflation_adjusted_gross": "11171714"
                                },
                                {
                                    "movie_title": "The Tie That Binds",
                                    "release_date": "1995-09-08",
                                    "genre": "Thriller/Suspense",
                                    "mpaa_rating": "R",
                                    "total_gross": "5762795",
                                    "inflation_adjusted_gross": "11167895"
                                },
                                {
                                    "movie_title": "Off Beat",
                                    "release_date": "1986-04-11",
                                    "genre": "Comedy",
                                    "mpaa_rating": "NULL",
                                    "total_gross": "4842778",
                                    "inflation_adjusted_gross": "11003932"
                                },
                                {
                                    "movie_title": "Prom",
                                    "release_date": "2011-04-29",
                                    "genre": "Comedy",
                                    "mpaa_rating": "PG",
                                    "total_gross": "10130219",
                                    "inflation_adjusted_gross": "10768946"
                                },
                                {
                                    "movie_title": "Big Trouble",
                                    "release_date": "2002-04-05",
                                    "genre": "Comedy",
                                    "mpaa_rating": "PG-13",
                                    "total_gross": "7262288",
                                    "inflation_adjusted_gross": "10537188"
                                },
                                {
                                    "movie_title": "Kundun",
                                    "release_date": "1997-12-25",
                                    "genre": "Drama",
                                    "mpaa_rating": "PG-13",
                                    "total_gross": "5686694",
                                    "inflation_adjusted_gross": "10236836"
                                },
                                {
                                    "movie_title": "The Straight Story",
                                    "release_date": "1999-10-15",
                                    "genre": "Drama",
                                    "mpaa_rating": "G",
                                    "total_gross": "6197866",
                                    "inflation_adjusted_gross": "10111144"
                                },
                                {
                                    "movie_title": "Moonlight Mile",
                                    "release_date": "2002-09-27",
                                    "genre": "Drama",
                                    "mpaa_rating": "PG-13",
                                    "total_gross": "6830957",
                                    "inflation_adjusted_gross": "9909094"
                                },
                                {
                                    "movie_title": "Innocent Blood",
                                    "release_date": "1992-09-25",
                                    "genre": "Horror",
                                    "mpaa_rating": "R",
                                    "total_gross": "4877567",
                                    "inflation_adjusted_gross": "9907922"
                                },
                                {
                                    "movie_title": "Miami Rhapsody",
                                    "release_date": "1995-01-27",
                                    "genre": "Romantic Comedy",
                                    "mpaa_rating": "PG-13",
                                    "total_gross": "5086578",
                                    "inflation_adjusted_gross": "9857435"
                                },
                                {
                                    "movie_title": "The Good Mother",
                                    "release_date": "1988-11-04",
                                    "genre": "Drama",
                                    "mpaa_rating": "NULL",
                                    "total_gross": "4764606",
                                    "inflation_adjusted_gross": "9772655"
                                },
                                {
                                    "movie_title": "My Science Project",
                                    "release_date": "1985-08-09",
                                    "genre": "Comedy",
                                    "mpaa_rating": "NULL",
                                    "total_gross": "4100000",
                                    "inflation_adjusted_gross": "9736051"
                                },
                                {
                                    "movie_title": "Miracle at St. Anna",
                                    "release_date": "2008-09-26",
                                    "genre": "Drama",
                                    "mpaa_rating": "R",
                                    "total_gross": "7916887",
                                    "inflation_adjusted_gross": "9295171"
                                },
                                {
                                    "movie_title": "Young Black Stallion",
                                    "release_date": "2003-12-25",
                                    "genre": "Adventure",
                                    "mpaa_rating": "G",
                                    "total_gross": "6751389",
                                    "inflation_adjusted_gross": "9254344"
                                },
                                {
                                    "movie_title": "Bound by Honor",
                                    "release_date": "1993-04-16",
                                    "genre": "NULL",
                                    "mpaa_rating": "R",
                                    "total_gross": "4496583",
                                    "inflation_adjusted_gross": "9156084"
                                },
                                {
                                    "movie_title": "Midnight Madness",
                                    "release_date": "1980-02-08",
                                    "genre": "NULL",
                                    "mpaa_rating": "NULL",
                                    "total_gross": "2900000",
                                    "inflation_adjusted_gross": "9088096"
                                },
                                {
                                    "movie_title": "Queen of Katwe",
                                    "release_date": "2016-09-23",
                                    "genre": "Drama",
                                    "mpaa_rating": "PG",
                                    "total_gross": "8874389",
                                    "inflation_adjusted_gross": "8874389"
                                },
                                {
                                    "movie_title": "Teacher's Pet: The Movie",
                                    "release_date": "2004-01-16",
                                    "genre": "Comedy",
                                    "mpaa_rating": "PG",
                                    "total_gross": "6491969",
                                    "inflation_adjusted_gross": "8812764"
                                },
                                {
                                    "movie_title": "The Hoax",
                                    "release_date": "2007-04-06",
                                    "genre": "Drama",
                                    "mpaa_rating": "R",
                                    "total_gross": "7164995",
                                    "inflation_adjusted_gross": "8779196"
                                },
                                {
                                    "movie_title": "Passed Away",
                                    "release_date": "1992-04-24",
                                    "genre": "NULL",
                                    "mpaa_rating": "PG-13",
                                    "total_gross": "4030793",
                                    "inflation_adjusted_gross": "8187848"
                                },
                                {
                                    "movie_title": "A Beautiful Planet",
                                    "release_date": "2016-04-29",
                                    "genre": "Documentary",
                                    "mpaa_rating": "G",
                                    "total_gross": "7895708",
                                    "inflation_adjusted_gross": "7895708"
                                },
                                {
                                    "movie_title": "Meet the Deedles",
                                    "release_date": "1998-03-27",
                                    "genre": "Comedy",
                                    "mpaa_rating": "PG",
                                    "total_gross": "4356126",
                                    "inflation_adjusted_gross": "7829877"
                                },
                                {
                                    "movie_title": "Playing God",
                                    "release_date": "1997-10-17",
                                    "genre": "Thriller/Suspense",
                                    "mpaa_rating": "R",
                                    "total_gross": "4166918",
                                    "inflation_adjusted_gross": "7652965"
                                },
                                {
                                    "movie_title": "Mumford",
                                    "release_date": "1999-09-24",
                                    "genre": "Comedy",
                                    "mpaa_rating": "R",
                                    "total_gross": "4559569",
                                    "inflation_adjusted_gross": "7566363"
                                },
                                {
                                    "movie_title": "Bubble Boy",
                                    "release_date": "2001-08-24",
                                    "genre": "Comedy",
                                    "mpaa_rating": "PG-13",
                                    "total_gross": "5002310",
                                    "inflation_adjusted_gross": "7450434"
                                },
                                {
                                    "movie_title": "Duets",
                                    "release_date": "2000-09-15",
                                    "genre": "Drama",
                                    "mpaa_rating": "R",
                                    "total_gross": "4734235",
                                    "inflation_adjusted_gross": "7404372"
                                },
                                {
                                    "movie_title": "A Gun in Betty Lou's Handbag",
                                    "release_date": "1992-08-21",
                                    "genre": "NULL",
                                    "mpaa_rating": "PG-13",
                                    "total_gross": "3591460",
                                    "inflation_adjusted_gross": "7295423"
                                },
                                {
                                    "movie_title": "Cabin Boy",
                                    "release_date": "1994-01-07",
                                    "genre": "Comedy",
                                    "mpaa_rating": "PG-13",
                                    "total_gross": "3469493",
                                    "inflation_adjusted_gross": "7168577"
                                },
                                {
                                    "movie_title": "Just Visiting",
                                    "release_date": "2001-04-06",
                                    "genre": "Comedy",
                                    "mpaa_rating": "PG-13",
                                    "total_gross": "4777007",
                                    "inflation_adjusted_gross": "7114869"
                                },
                                {
                                    "movie_title": "A Simple Twist of Fate",
                                    "release_date": "1994-09-02",
                                    "genre": "Drama",
                                    "mpaa_rating": "PG-13",
                                    "total_gross": "3404935",
                                    "inflation_adjusted_gross": "7035189"
                                },
                                {
                                    "movie_title": "Squanto: A Warrior's Tale",
                                    "release_date": "1994-10-28",
                                    "genre": "Drama",
                                    "mpaa_rating": "PG",
                                    "total_gross": "3319344",
                                    "inflation_adjusted_gross": "6858345"
                                },
                                {
                                    "movie_title": "Bad Company",
                                    "release_date": "1995-01-20",
                                    "genre": "Thriller/Suspense",
                                    "mpaa_rating": "R",
                                    "total_gross": "3523909",
                                    "inflation_adjusted_gross": "6829092"
                                },
                                {
                                    "movie_title": "Father Hood",
                                    "release_date": "1993-08-27",
                                    "genre": "NULL",
                                    "mpaa_rating": "PG-13",
                                    "total_gross": "3268203",
                                    "inflation_adjusted_gross": "6654819"
                                },
                                {
                                    "movie_title": "My Boyfriend's Back",
                                    "release_date": "1993-08-06",
                                    "genre": "NULL",
                                    "mpaa_rating": "PG-13",
                                    "total_gross": "3218882",
                                    "inflation_adjusted_gross": "6554384"
                                },
                                {
                                    "movie_title": "Hauru no ugoku shiro",
                                    "release_date": "2005-06-10",
                                    "genre": "Adventure",
                                    "mpaa_rating": "PG",
                                    "total_gross": "4710455",
                                    "inflation_adjusted_gross": "6194870"
                                },
                                {
                                    "movie_title": "ESPN's Ultimate X - The Movie",
                                    "release_date": "2002-05-10",
                                    "genre": "Documentary",
                                    "mpaa_rating": "PG",
                                    "total_gross": "4197175",
                                    "inflation_adjusted_gross": "6089874"
                                },
                                {
                                    "movie_title": "Blame it on the Bellboy",
                                    "release_date": "1992-03-06",
                                    "genre": "Comedy",
                                    "mpaa_rating": "PG-13",
                                    "total_gross": "2891055",
                                    "inflation_adjusted_gross": "5872667"
                                },
                                {
                                    "movie_title": "The Lookout",
                                    "release_date": "2007-03-30",
                                    "genre": "Drama",
                                    "mpaa_rating": "R",
                                    "total_gross": "4600585",
                                    "inflation_adjusted_gross": "5637048"
                                },
                                {
                                    "movie_title": "Goal! The Dream Begins",
                                    "release_date": "2006-05-12",
                                    "genre": "Drama",
                                    "mpaa_rating": "PG",
                                    "total_gross": "4283255",
                                    "inflation_adjusted_gross": "5512647"
                                },
                                {
                                    "movie_title": "Newsies",
                                    "release_date": "1992-04-08",
                                    "genre": "NULL",
                                    "mpaa_rating": "PG",
                                    "total_gross": "2706352",
                                    "inflation_adjusted_gross": "5497481"
                                },
                                {
                                    "movie_title": "Kaze Tachinu",
                                    "release_date": "2013-11-08",
                                    "genre": "Drama",
                                    "mpaa_rating": "PG-13",
                                    "total_gross": "5201879",
                                    "inflation_adjusted_gross": "5367415"
                                },
                                {
                                    "movie_title": "Red Rock West",
                                    "release_date": "1994-01-28",
                                    "genre": "NULL",
                                    "mpaa_rating": "R",
                                    "total_gross": "2502551",
                                    "inflation_adjusted_gross": "5170709"
                                },
                                {
                                    "movie_title": "Jefferson in Paris",
                                    "release_date": "1995-03-31",
                                    "genre": "Drama",
                                    "mpaa_rating": "PG-13",
                                    "total_gross": "2461628",
                                    "inflation_adjusted_gross": "4770461"
                                },
                                {
                                    "movie_title": "Noises Off...",
                                    "release_date": "1992-03-20",
                                    "genre": "Comedy",
                                    "mpaa_rating": "PG-13",
                                    "total_gross": "2280148",
                                    "inflation_adjusted_gross": "4631720"
                                },
                                {
                                    "movie_title": "Cradle Will Rock",
                                    "release_date": "1999-12-08",
                                    "genre": "Drama",
                                    "mpaa_rating": "R",
                                    "total_gross": "2899970",
                                    "inflation_adjusted_gross": "4609153"
                                },
                                {
                                    "movie_title": "Shadow Conspiracy",
                                    "release_date": "1997-01-31",
                                    "genre": "Thriller/Suspense",
                                    "mpaa_rating": "R",
                                    "total_gross": "2154540",
                                    "inflation_adjusted_gross": "3957025"
                                },
                                {
                                    "movie_title": "The Fifth Estate",
                                    "release_date": "2013-10-18",
                                    "genre": "Drama",
                                    "mpaa_rating": "R",
                                    "total_gross": "3254172",
                                    "inflation_adjusted_gross": "3374251"
                                },
                                {
                                    "movie_title": "Washington Square",
                                    "release_date": "1997-10-05",
                                    "genre": "Drama",
                                    "mpaa_rating": "PG",
                                    "total_gross": "1775644",
                                    "inflation_adjusted_gross": "3257546"
                                },
                                {
                                    "movie_title": "Running Brave",
                                    "release_date": "1983-11-04",
                                    "genre": "Drama",
                                    "mpaa_rating": "NULL",
                                    "total_gross": "1204595",
                                    "inflation_adjusted_gross": "3223725"
                                },
                                {
                                    "movie_title": "Gun Shy",
                                    "release_date": "2000-02-04",
                                    "genre": "Comedy",
                                    "mpaa_rating": "R",
                                    "total_gross": "1638202",
                                    "inflation_adjusted_gross": "2562155"
                                },
                                {
                                    "movie_title": "Where the Heart Is",
                                    "release_date": "1990-02-23",
                                    "genre": "Comedy",
                                    "mpaa_rating": "NULL",
                                    "total_gross": "1106475",
                                    "inflation_adjusted_gross": "2210321"
                                },
                                {
                                    "movie_title": "Veronica Guerin",
                                    "release_date": "2003-10-17",
                                    "genre": "Drama",
                                    "mpaa_rating": "R",
                                    "total_gross": "1569918",
                                    "inflation_adjusted_gross": "2194759"
                                },
                                {
                                    "movie_title": "Money for Nothing",
                                    "release_date": "1993-09-10",
                                    "genre": "Comedy",
                                    "mpaa_rating": "R",
                                    "total_gross": "1044824",
                                    "inflation_adjusted_gross": "2127496"
                                },
                                {
                                    "movie_title": "Two Much",
                                    "release_date": "1996-03-15",
                                    "genre": "Romantic Comedy",
                                    "mpaa_rating": "PG-13",
                                    "total_gross": "1078555",
                                    "inflation_adjusted_gross": "2057055"
                                },
                                {
                                    "movie_title": "Un indien dans la ville",
                                    "release_date": "1996-03-22",
                                    "genre": "Comedy",
                                    "mpaa_rating": "PG",
                                    "total_gross": "1029731",
                                    "inflation_adjusted_gross": "1963937"
                                },
                                {
                                    "movie_title": "X Games 3D: The Movie",
                                    "release_date": "2009-08-21",
                                    "genre": "Documentary",
                                    "mpaa_rating": "PG",
                                    "total_gross": "1391434",
                                    "inflation_adjusted_gross": "1563976"
                                },
                                {
                                    "movie_title": "Holy Matrimony",
                                    "release_date": "1994-04-08",
                                    "genre": "Comedy",
                                    "mpaa_rating": "NULL",
                                    "total_gross": "713234",
                                    "inflation_adjusted_gross": "1473665"
                                },
                                {
                                    "movie_title": "Firelight",
                                    "release_date": "1998-09-04",
                                    "genre": "Drama",
                                    "mpaa_rating": "R",
                                    "total_gross": "784419",
                                    "inflation_adjusted_gross": "1409943"
                                },
                                {
                                    "movie_title": "Prefontaine",
                                    "release_date": "1997-01-24",
                                    "genre": "Drama",
                                    "mpaa_rating": "PG-13",
                                    "total_gross": "590817",
                                    "inflation_adjusted_gross": "1085093"
                                },
                                {
                                    "movie_title": "Funny Bones",
                                    "release_date": "1995-03-31",
                                    "genre": "Comedy",
                                    "mpaa_rating": "R",
                                    "total_gross": "529135",
                                    "inflation_adjusted_gross": "1025425"
                                },
                                {
                                    "movie_title": "A Pyromaniac's Love Story",
                                    "release_date": "1995-03-28",
                                    "genre": "Romantic Comedy",
                                    "mpaa_rating": "PG",
                                    "total_gross": "468240",
                                    "inflation_adjusted_gross": "907414"
                                },
                                {
                                    "movie_title": "The Last Shot",
                                    "release_date": "2004-09-24",
                                    "genre": "Comedy",
                                    "mpaa_rating": "R",
                                    "total_gross": "463730",
                                    "inflation_adjusted_gross": "629502"
                                },
                                {
                                    "movie_title": "Feast of July",
                                    "release_date": "1995-10-13",
                                    "genre": "Drama",
                                    "mpaa_rating": "R",
                                    "total_gross": "293274",
                                    "inflation_adjusted_gross": "568342"
                                },
                                {
                                    "movie_title": "America's Heart and Soul",
                                    "release_date": "2004-07-02",
                                    "genre": "Documentary",
                                    "mpaa_rating": "Not Rated",
                                    "total_gross": "314000",
                                    "inflation_adjusted_gross": "426246"
                                },
                                {
                                    "movie_title": "Endurance",
                                    "release_date": "1999-05-14",
                                    "genre": "NULL",
                                    "mpaa_rating": "PG",
                                    "total_gross": "229128",
                                    "inflation_adjusted_gross": "380218"
                                },
                                {
                                    "movie_title": "High Heels and Low Lifes",
                                    "release_date": "2001-10-26",
                                    "genre": "NULL",
                                    "mpaa_rating": "R",
                                    "total_gross": "226792",
                                    "inflation_adjusted_gross": "337782"
                                },
                                {
                                    "movie_title": "Morning Light",
                                    "release_date": "2008-10-17",
                                    "genre": "Documentary",
                                    "mpaa_rating": "PG",
                                    "total_gross": "275093",
                                    "inflation_adjusted_gross": "322979"
                                },
                                {
                                    "movie_title": "Breakfast of Champions",
                                    "release_date": "1999-09-17",
                                    "genre": "Comedy",
                                    "mpaa_rating": "R",
                                    "total_gross": "178287",
                                    "inflation_adjusted_gross": "295851"
                                },
                                {
                                    "movie_title": "Goal! 2: Living the Dream...",
                                    "release_date": "2008-08-29",
                                    "genre": "Drama",
                                    "mpaa_rating": "PG-13",
                                    "total_gross": "225067",
                                    "inflation_adjusted_gross": "264247"
                                },
                                {
                                    "movie_title": "It's Pat",
                                    "release_date": "1994-08-26",
                                    "genre": "Comedy",
                                    "mpaa_rating": "NULL",
                                    "total_gross": "60822",
                                    "inflation_adjusted_gross": "125666"
                                },
                                {
                                    "movie_title": "Waking Sleeping Beauty",
                                    "release_date": "2010-03-26",
                                    "genre": "Documentary",
                                    "mpaa_rating": "PG",
                                    "total_gross": "80741",
                                    "inflation_adjusted_gross": "86264"
                                },
                                {
                                    "movie_title": "An Alan Smithee Film: Burn Hollywood …",
                                    "release_date": "1998-02-27",
                                    "genre": "Comedy",
                                    "mpaa_rating": "R",
                                    "total_gross": "45779",
                                    "inflation_adjusted_gross": "82277"
                                },
                                {
                                    "movie_title": "The War at Home",
                                    "release_date": "1996-11-20",
                                    "genre": "NULL",
                                    "mpaa_rating": "R",
                                    "total_gross": "34368",
                                    "inflation_adjusted_gross": "65543"
                                },
                                {
                                    "movie_title": "Gedo Senki (Tales from Earthsea)",
                                    "release_date": "2010-08-13",
                                    "genre": "Adventure",
                                    "mpaa_rating": "PG-13",
                                    "total_gross": "48658",
                                    "inflation_adjusted_gross": "51988"
                                },
                                {
                                    "movie_title": "Walt and El Grupo",
                                    "release_date": "2009-09-10",
                                    "genre": "Documentary",
                                    "mpaa_rating": "PG",
                                    "total_gross": "20521",
                                    "inflation_adjusted_gross": "23064"
                                },
                                {
                                    "movie_title": "Zokkomon",
                                    "release_date": "2011-04-22",
                                    "genre": "Adventure",
                                    "mpaa_rating": "PG",
                                    "total_gross": "2815",
                                    "inflation_adjusted_gross": "2984"
                                },
                                {
                                    "movie_title": "Frank McKlusky C.I.",
                                    "release_date": "2002-01-01",
                                    "genre": "NULL",
                                    "mpaa_rating": "NULL",
                                    "total_gross": "0",
                                    "inflation_adjusted_gross": "0"
                                },
                                {
                                    "movie_title": "Condorman",
                                    "release_date": "1981-08-07",
                                    "genre": "Action",
                                    "mpaa_rating": "NULL",
                                    "total_gross": "0",
                                    "inflation_adjusted_gross": "0"
                                },
                                {
                                    "movie_title": "Amy",
                                    "release_date": "1981-03-20",
                                    "genre": "Drama",
                                    "mpaa_rating": "NULL",
                                    "total_gross": "0",
                                    "inflation_adjusted_gross": "0"
                                },
                                {
                                    "movie_title": "The Many Adventures of Winnie the Pooh",
                                    "release_date": "1977-03-11",
                                    "genre": "NULL",
                                    "mpaa_rating": "NULL",
                                    "total_gross": "0",
                                    "inflation_adjusted_gross": "0"
                                }
                            ]
                        },
                        "text/html": "<table><tr><th>movie_title</th><th>release_date</th><th>genre</th><th>mpaa_rating</th><th>total_gross</th><th>inflation_adjusted_gross</th></tr><tr><td>Snow White and the Seven Dwarfs</td><td>1937-12-21</td><td>Musical</td><td>G</td><td>184925485</td><td>5228953251</td></tr><tr><td>Pinocchio</td><td>1940-02-09</td><td>Adventure</td><td>G</td><td>84300000</td><td>2188229052</td></tr><tr><td>Fantasia</td><td>1940-11-13</td><td>Musical</td><td>G</td><td>83320000</td><td>2187090808</td></tr><tr><td>101 Dalmatians</td><td>1961-01-25</td><td>Comedy</td><td>G</td><td>153000000</td><td>1362870985</td></tr><tr><td>Lady and the Tramp</td><td>1955-06-22</td><td>Drama</td><td>G</td><td>93600000</td><td>1236035515</td></tr><tr><td>Song of the South</td><td>1946-11-12</td><td>Adventure</td><td>G</td><td>65000000</td><td>1078510579</td></tr><tr><td>Star Wars Ep. VII: The Force Awakens</td><td>2015-12-18</td><td>Adventure</td><td>PG-13</td><td>936662225</td><td>936662225</td></tr><tr><td>Cinderella</td><td>1950-02-15</td><td>Drama</td><td>G</td><td>85000000</td><td>920608730</td></tr><tr><td>The Jungle Book</td><td>1967-10-18</td><td>Musical</td><td>Not Rated</td><td>141843000</td><td>789612346</td></tr><tr><td>The Lion King</td><td>1994-06-15</td><td>Adventure</td><td>G</td><td>422780140</td><td>761640898</td></tr><tr><td>The Avengers</td><td>2012-05-04</td><td>Action</td><td>PG-13</td><td>623279547</td><td>660081224</td></tr><tr><td>Pirates of the Caribbean: Dead Man’…</td><td>2006-07-07</td><td>Adventure</td><td>PG-13</td><td>423315812</td><td>544817142</td></tr><tr><td>Rogue One: A Star Wars Story</td><td>2016-12-16</td><td>Adventure</td><td>PG-13</td><td>529483936</td><td>529483936</td></tr><tr><td>20,000 Leagues Under the Sea</td><td>1954-12-23</td><td>Adventure</td><td>NULL</td><td>28200000</td><td>528279994</td></tr><tr><td>Finding Nemo</td><td>2003-05-30</td><td>Adventure</td><td>G</td><td>380529370</td><td>518148559</td></tr><tr><td>Finding Dory</td><td>2016-06-17</td><td>Adventure</td><td>PG</td><td>486295561</td><td>486295561</td></tr><tr><td>The Sixth Sense</td><td>1999-08-06</td><td>Thriller/Suspense</td><td>PG-13</td><td>293506292</td><td>485424724</td></tr><tr><td>Avengers: Age of Ultron</td><td>2015-05-01</td><td>Action</td><td>PG-13</td><td>459005868</td><td>459005868</td></tr><tr><td>Toy Story 3</td><td>2010-06-18</td><td>Adventure</td><td>G</td><td>415004880</td><td>443408255</td></tr><tr><td>Aladdin</td><td>1992-11-11</td><td>Comedy</td><td>G</td><td>217350219</td><td>441969178</td></tr><tr><td>Pirates of the Caribbean: The Curse o…</td><td>2003-07-09</td><td>Adventure</td><td>PG-13</td><td>305411224</td><td>426967926</td></tr><tr><td>Iron Man 3</td><td>2013-05-03</td><td>Action</td><td>PG-13</td><td>408992272</td><td>424084233</td></tr><tr><td>Monsters, Inc.</td><td>2001-11-02</td><td>Adventure</td><td>G</td><td>289423425</td><td>416073179</td></tr><tr><td>Frozen</td><td>2013-11-22</td><td>Adventure</td><td>PG</td><td>400738009</td><td>414997174</td></tr><tr><td>Captain America: Civil War</td><td>2016-05-06</td><td>Action</td><td>PG-13</td><td>408084349</td><td>408084349</td></tr><tr><td>Toy Story 2</td><td>1999-11-19</td><td>Adventure</td><td>G</td><td>245852179</td><td>404450426</td></tr><tr><td>The Chronicles of Narnia: The Lion, t…</td><td>2005-12-09</td><td>Adventure</td><td>PG</td><td>291710957</td><td>381557539</td></tr><tr><td>Pirates of the Caribbean: At World’…</td><td>2007-05-24</td><td>Adventure</td><td>PG-13</td><td>309420425</td><td>379129960</td></tr><tr><td>Toy Story</td><td>1995-11-22</td><td>Adventure</td><td>G</td><td>191796233</td><td>370409631</td></tr><tr><td>The Jungle Book</td><td>2016-04-15</td><td>Adventure</td><td>PG</td><td>364001123</td><td>364001123</td></tr><tr><td>Beauty and the Beast</td><td>1991-11-13</td><td>Musical</td><td>G</td><td>218951625</td><td>363017667</td></tr><tr><td>Armageddon</td><td>1998-07-01</td><td>Adventure</td><td>PG-13</td><td>201578182</td><td>362324957</td></tr><tr><td>Alice in Wonderland</td><td>2010-03-05</td><td>Adventure</td><td>PG</td><td>334191110</td><td>357063499</td></tr><tr><td>Inside Out</td><td>2015-06-19</td><td>Adventure</td><td>PG</td><td>356461711</td><td>356461711</td></tr><tr><td>Pretty Woman</td><td>1990-03-23</td><td>Romantic Comedy</td><td>R</td><td>178406268</td><td>356389765</td></tr><tr><td>The Incredibles</td><td>2004-11-05</td><td>Adventure</td><td>PG</td><td>261441092</td><td>354488708</td></tr><tr><td>3 Men and a Baby</td><td>1987-11-25</td><td>Comedy</td><td>PG</td><td>167780960</td><td>353334607</td></tr><tr><td>Guardians of the Galaxy</td><td>2014-08-01</td><td>Adventure</td><td>PG-13</td><td>333172112</td><td>343771168</td></tr><tr><td>Zootopia</td><td>2016-03-04</td><td>Adventure</td><td>PG</td><td>341268248</td><td>341268248</td></tr><tr><td>Signs</td><td>2002-08-02</td><td>Thriller/Suspense</td><td>PG-13</td><td>227965690</td><td>330754439</td></tr><tr><td>Up</td><td>2009-05-29</td><td>Adventure</td><td>PG</td><td>293004164</td><td>329336681</td></tr><tr><td>Who Framed Roger Rabbit?</td><td>1988-06-22</td><td>Comedy</td><td>PG</td><td>154112492</td><td>316250084</td></tr><tr><td>Cars</td><td>2006-06-09</td><td>Comedy</td><td>G</td><td>244082982</td><td>314140384</td></tr><tr><td>The Absent Minded Professor</td><td>1961-03-16</td><td>Comedy</td><td>NULL</td><td>25381407</td><td>310094574</td></tr><tr><td>The Santa Clause</td><td>1994-11-11</td><td>Comedy</td><td>PG</td><td>144833357</td><td>298369717</td></tr><tr><td>Pearl Harbor</td><td>2001-05-25</td><td>Action</td><td>PG-13</td><td>198539855</td><td>295705112</td></tr><tr><td>A Bug&#39;s Life</td><td>1998-11-20</td><td>Adventure</td><td>G</td><td>162798565</td><td>288981698</td></tr><tr><td>The Waterboy</td><td>1998-11-06</td><td>Comedy</td><td>PG-13</td><td>161491646</td><td>288691833</td></tr><tr><td>Tarzan</td><td>1999-06-16</td><td>Adventure</td><td>G</td><td>171091819</td><td>283900254</td></tr><tr><td>Sister Act</td><td>1992-05-29</td><td>Comedy</td><td>PG</td><td>139605150</td><td>283583472</td></tr><tr><td>Monsters University</td><td>2013-06-21</td><td>Adventure</td><td>G</td><td>268488329</td><td>278395641</td></tr><tr><td>Honey, I Shrunk the Kids</td><td>1989-06-23</td><td>Adventure</td><td>PG</td><td>130724172</td><td>276191669</td></tr><tr><td>Pocahontas</td><td>1995-06-10</td><td>Adventure</td><td>G</td><td>141579773</td><td>274370957</td></tr><tr><td>Captain America: The Winter Soldier</td><td>2014-04-04</td><td>Action</td><td>PG-13</td><td>259746958</td><td>268013076</td></tr><tr><td>National Treasure 2: Book of Secrets</td><td>2007-12-21</td><td>Adventure</td><td>PG</td><td>219961501</td><td>267003525</td></tr><tr><td>WALL-E</td><td>2008-06-27</td><td>Adventure</td><td>G</td><td>223808164</td><td>262771918</td></tr><tr><td>Ransom</td><td>1996-11-08</td><td>Action</td><td>R</td><td>136492681</td><td>259807820</td></tr><tr><td>101 Dalmatians</td><td>1996-11-27</td><td>Comedy</td><td>G</td><td>136189294</td><td>258728898</td></tr><tr><td>Pirates of the Caribbean: On Stranger…</td><td>2011-05-20</td><td>Adventure</td><td>PG-13</td><td>241063875</td><td>256263359</td></tr><tr><td>The Rock</td><td>1996-06-07</td><td>Action</td><td>R</td><td>134069511</td><td>255702705</td></tr><tr><td>The Aristocats</td><td>1970-04-24</td><td>Musical</td><td>G</td><td>55675257</td><td>255161499</td></tr><tr><td>Good Morning Vietnam</td><td>1987-12-23</td><td>Comedy</td><td>R</td><td>123922370</td><td>254414837</td></tr><tr><td>Ratatouille</td><td>2007-06-29</td><td>Comedy</td><td>G</td><td>206445654</td><td>252955933</td></tr><tr><td>Brave</td><td>2012-06-22</td><td>Adventure</td><td>PG</td><td>237282182</td><td>251292441</td></tr><tr><td>Maleficent</td><td>2014-05-30</td><td>Adventure</td><td>PG</td><td>241407328</td><td>249089809</td></tr><tr><td>Moana</td><td>2016-11-23</td><td>Adventure</td><td>PG</td><td>246082029</td><td>246082029</td></tr><tr><td>Oz the Great and Powerful</td><td>2013-03-08</td><td>Adventure</td><td>PG</td><td>234770996</td><td>243434130</td></tr><tr><td>National Treasure</td><td>2004-11-19</td><td>Adventure</td><td>PG</td><td>173005002</td><td>234069353</td></tr><tr><td>Doctor Strange</td><td>2016-11-04</td><td>Adventure</td><td>PG-13</td><td>232532923</td><td>232532923</td></tr><tr><td>Big Hero 6</td><td>2014-11-07</td><td>Adventure</td><td>PG</td><td>222527828</td><td>229249222</td></tr><tr><td>The Little Mermaid</td><td>1989-11-15</td><td>Adventure</td><td>G</td><td>111543479</td><td>223726012</td></tr><tr><td>Mulan</td><td>1998-06-19</td><td>Adventure</td><td>G</td><td>120620254</td><td>216807832</td></tr><tr><td>Dinosaur</td><td>2000-05-19</td><td>Adventure</td><td>PG</td><td>137748063</td><td>215438985</td></tr><tr><td>Tangled</td><td>2010-11-24</td><td>Adventure</td><td>PG</td><td>200821936</td><td>214388548</td></tr><tr><td>Thor: The Dark World</td><td>2013-11-08</td><td>Adventure</td><td>PG-13</td><td>206362140</td><td>213962184</td></tr><tr><td>Lilo &amp; Stitch</td><td>2002-06-21</td><td>Adventure</td><td>PG</td><td>145771527</td><td>211506702</td></tr><tr><td>Dick Tracy</td><td>1990-06-15</td><td>Action</td><td>PG</td><td>103738726</td><td>207231621</td></tr><tr><td>Wild Hogs</td><td>2007-03-02</td><td>Comedy</td><td>PG-13</td><td>168213584</td><td>206110533</td></tr><tr><td>Cars 2</td><td>2011-06-24</td><td>Adventure</td><td>G</td><td>191450875</td><td>203522177</td></tr><tr><td>Dead Poets Society</td><td>1989-06-02</td><td>Drama</td><td>PG</td><td>95860116</td><td>202531517</td></tr><tr><td>The Santa Clause 2</td><td>2002-11-01</td><td>Comedy</td><td>G</td><td>139225854</td><td>201959095</td></tr><tr><td>Cinderella</td><td>2015-03-13</td><td>Drama</td><td>PG</td><td>201151353</td><td>201151353</td></tr><tr><td>Wreck-It Ralph</td><td>2012-11-02</td><td>Adventure</td><td>PG</td><td>189412677</td><td>200354959</td></tr><tr><td>Phenomenon</td><td>1996-07-05</td><td>Drama</td><td>PG</td><td>104636382</td><td>199559799</td></tr><tr><td>Enemy of the State</td><td>1998-11-20</td><td>Action</td><td>R</td><td>111549836</td><td>198472008</td></tr><tr><td>George Of The Jungle</td><td>1997-07-16</td><td>Comedy</td><td>PG</td><td>105263257</td><td>193326632</td></tr><tr><td>Lincoln</td><td>2012-11-09</td><td>Drama</td><td>PG-13</td><td>182207973</td><td>192122330</td></tr><tr><td>The Hunchback of Notre Dame</td><td>1996-06-21</td><td>Adventure</td><td>G</td><td>100138851</td><td>190988799</td></tr><tr><td>Con Air</td><td>1997-06-06</td><td>Action</td><td>R</td><td>101117573</td><td>185712664</td></tr><tr><td>Bringing Down the House</td><td>2003-03-07</td><td>Comedy</td><td>PG-13</td><td>132675402</td><td>185481530</td></tr><tr><td>Sweet Home Alabama</td><td>2002-09-27</td><td>Comedy</td><td>PG-13</td><td>127214072</td><td>184521151</td></tr><tr><td>The Proposal</td><td>2009-06-19</td><td>Romantic Comedy</td><td>PG-13</td><td>163958031</td><td>184288829</td></tr><tr><td>Tron: Legacy</td><td>2010-12-17</td><td>Adventure</td><td>PG</td><td>172062763</td><td>183619259</td></tr><tr><td>Hercules</td><td>1997-06-13</td><td>Adventure</td><td>G</td><td>99112101</td><td>182029412</td></tr><tr><td>Remember the Titans</td><td>2000-09-29</td><td>Drama</td><td>PG</td><td>115654751</td><td>180742479</td></tr><tr><td>The Help</td><td>2011-08-10</td><td>Drama</td><td>PG-13</td><td>169705587</td><td>180404976</td></tr><tr><td>Ant-Man</td><td>2015-07-17</td><td>Action</td><td>PG-13</td><td>180202163</td><td>180202163</td></tr><tr><td>Father of the Bride</td><td>1991-12-20</td><td>Comedy</td><td>PG</td><td>89325780</td><td>179821881</td></tr><tr><td>The Hand That Rocks the Cradle</td><td>1992-01-10</td><td>Thriller/Suspense</td><td>R</td><td>88036683</td><td>178831137</td></tr><tr><td>Chicken Little</td><td>2005-11-04</td><td>Adventure</td><td>G</td><td>135386665</td><td>177954661</td></tr><tr><td>Crimson Tide</td><td>1995-05-12</td><td>Action</td><td>R</td><td>91387195</td><td>177102077</td></tr><tr><td>Flubber</td><td>1997-11-26</td><td>Comedy</td><td>PG</td><td>92993801</td><td>170406423</td></tr><tr><td>The Chronicles of Narnia: Prince Caspian</td><td>2008-05-16</td><td>Adventure</td><td>PG</td><td>141621490</td><td>166277038</td></tr><tr><td>Dangerous Minds</td><td>1995-08-11</td><td>Drama</td><td>R</td><td>84919401</td><td>164552293</td></tr><tr><td>Ruthless People</td><td>1986-06-27</td><td>Comedy</td><td>R</td><td>71624879</td><td>162748712</td></tr><tr><td>Inspector Gadget</td><td>1999-07-23</td><td>Comedy</td><td>PG</td><td>97387965</td><td>161610341</td></tr><tr><td>The Princess Diaries</td><td>2001-08-03</td><td>Comedy</td><td>G</td><td>108244774</td><td>161218928</td></tr><tr><td>Cocktail</td><td>1988-07-29</td><td>Drama</td><td>R</td><td>78222753</td><td>160442289</td></tr><tr><td>The Rescuers</td><td>1977-06-22</td><td>Adventure</td><td>NULL</td><td>48775599</td><td>159743914</td></tr><tr><td>Gone in 60 Seconds</td><td>2000-06-09</td><td>Action</td><td>PG-13</td><td>101643008</td><td>158970411</td></tr><tr><td>Mr. Holland&#39;s Opus</td><td>1995-12-29</td><td>Drama</td><td>PG</td><td>82582604</td><td>157508868</td></tr><tr><td>While You Were Sleeping</td><td>1995-04-21</td><td>Romantic Comedy</td><td>PG</td><td>81057016</td><td>157082900</td></tr><tr><td>Splash</td><td>1984-03-09</td><td>Comedy</td><td>PG</td><td>62599495</td><td>157057661</td></tr><tr><td>Enchanted</td><td>2007-11-21</td><td>Romantic Comedy</td><td>PG</td><td>127706877</td><td>156074310</td></tr><tr><td>The Village</td><td>2004-07-30</td><td>Thriller/Suspense</td><td>PG-13</td><td>114197520</td><td>155021748</td></tr><tr><td>Disney&#39;s A Christmas Carol</td><td>2009-11-06</td><td>Drama</td><td>PG</td><td>137855863</td><td>154927105</td></tr><tr><td>Freaky Friday</td><td>2003-08-06</td><td>Comedy</td><td>PG</td><td>110222438</td><td>154090360</td></tr><tr><td>The Sword in the Stone</td><td>1963-12-25</td><td>Adventure</td><td>NULL</td><td>22182353</td><td>153870834</td></tr><tr><td>Turner &amp; Hooch</td><td>1989-07-28</td><td>Comedy</td><td>PG</td><td>71079915</td><td>150176361</td></tr><tr><td>The Pacifier</td><td>2005-03-04</td><td>Comedy</td><td>PG</td><td>113006880</td><td>148619029</td></tr><tr><td>Unbreakable</td><td>2000-11-22</td><td>Thriller/Suspense</td><td>PG-13</td><td>94999143</td><td>148208901</td></tr><tr><td>Father of the Bride Part II</td><td>1995-12-08</td><td>Comedy</td><td>PG</td><td>76578911</td><td>147658438</td></tr><tr><td>3 Men and a Little Lady</td><td>1990-11-21</td><td>Comedy</td><td>PG</td><td>71609321</td><td>143108869</td></tr><tr><td>Stakeout</td><td>1987-08-05</td><td>Comedy</td><td>R</td><td>65673233</td><td>141592160</td></tr><tr><td>Down and Out in Beverly Hills</td><td>1986-01-31</td><td>Comedy</td><td>R</td><td>62134225</td><td>141183693</td></tr><tr><td>Cool Runnings</td><td>1993-10-01</td><td>Comedy</td><td>PG</td><td>68856263</td><td>140392731</td></tr><tr><td>Blackbeard&#39;s Ghost</td><td>1968-02-08</td><td>Comedy</td><td>NULL</td><td>21540050</td><td>138612686</td></tr><tr><td>The Emperor&#39;s New Groove</td><td>2000-12-15</td><td>Adventure</td><td>G</td><td>89296573</td><td>136789252</td></tr><tr><td>The Horse Whisperer</td><td>1998-05-15</td><td>Drama</td><td>PG-13</td><td>75383563</td><td>135497531</td></tr><tr><td>G-Force</td><td>2009-07-24</td><td>Adventure</td><td>PG</td><td>119436770</td><td>134246932</td></tr><tr><td>Bolt</td><td>2008-11-21</td><td>Comedy</td><td>PG</td><td>114053759</td><td>133702498</td></tr><tr><td>Six Days, Seven Nights</td><td>1998-06-12</td><td>Romantic Comedy</td><td>PG-13</td><td>74339294</td><td>133620516</td></tr><tr><td>The Fox and the Hound</td><td>1981-07-10</td><td>Comedy</td><td>NULL</td><td>43899231</td><td>133118889</td></tr><tr><td>The Apple Dumpling Gang</td><td>1975-07-01</td><td>Comedy</td><td>NULL</td><td>31916500</td><td>131246872</td></tr><tr><td>Into the Woods</td><td>2014-12-25</td><td>Musical</td><td>PG</td><td>128002372</td><td>130894237</td></tr><tr><td>The Princess Diaries 2: Royal Engagement</td><td>2004-08-11</td><td>Romantic Comedy</td><td>G</td><td>95149435</td><td>129164207</td></tr><tr><td>Bedtime Stories</td><td>2008-12-25</td><td>Comedy</td><td>PG</td><td>110101975</td><td>128039679</td></tr><tr><td>What About Bob?</td><td>1991-05-17</td><td>Comedy</td><td>PG</td><td>63710000</td><td>127571325</td></tr><tr><td>Atlantis: The Lost Empire</td><td>2001-06-08</td><td>Adventure</td><td>PG</td><td>84052762</td><td>125188122</td></tr><tr><td>Babes in Toyland</td><td>1961-12-14</td><td>Musical</td><td>G</td><td>10218316</td><td>124841160</td></tr><tr><td>The Good Dinosaur</td><td>2015-11-25</td><td>Adventure</td><td>PG</td><td>123087120</td><td>123087120</td></tr><tr><td>Beaches</td><td>1988-12-21</td><td>Drama</td><td>PG-13</td><td>57041866</td><td>120381757</td></tr><tr><td>The Black Hole</td><td>1979-12-21</td><td>NULL</td><td>NULL</td><td>35841901</td><td>120377374</td></tr><tr><td>Meet the Robinsons</td><td>2007-03-30</td><td>Adventure</td><td>G</td><td>97822171</td><td>119860589</td></tr><tr><td>Brother Bear</td><td>2003-10-24</td><td>Adventure</td><td>G</td><td>85336277</td><td>119218333</td></tr><tr><td>The Parent Trap</td><td>1998-07-29</td><td>Comedy</td><td>PG</td><td>66308518</td><td>119185667</td></tr><tr><td>Honey I Blew Up the Kid</td><td>1992-07-17</td><td>Comedy</td><td>PG</td><td>58662452</td><td>119162518</td></tr><tr><td>Flightplan</td><td>2005-09-23</td><td>Thriller/Suspense</td><td>PG-13</td><td>89706988</td><td>117960425</td></tr><tr><td>The Color of Money</td><td>1986-10-17</td><td>Drama</td><td>R</td><td>52293000</td><td>117957323</td></tr><tr><td>Snow Dogs</td><td>2002-01-18</td><td>Comedy</td><td>PG</td><td>81150692</td><td>117745317</td></tr><tr><td>Sister Act 2 Back in the Habit</td><td>1993-12-10</td><td>Comedy</td><td>PG</td><td>57319029</td><td>116965668</td></tr><tr><td>The Princess and the Frog</td><td>2009-11-25</td><td>Adventure</td><td>G</td><td>104400899</td><td>116316457</td></tr><tr><td>Tombstone</td><td>1993-12-25</td><td>Western</td><td>R</td><td>56505065</td><td>115781734</td></tr><tr><td>Outrageous Fortune</td><td>1987-01-30</td><td>Comedy</td><td>R</td><td>52864741</td><td>113976921</td></tr><tr><td>Jack</td><td>1996-08-09</td><td>Drama</td><td>PG-13</td><td>58617334</td><td>111792852</td></tr><tr><td>The Game Plan</td><td>2007-09-22</td><td>Comedy</td><td>PG</td><td>90648202</td><td>111010758</td></tr><tr><td>Beverly Hills Chihuahua</td><td>2008-10-03</td><td>Comedy</td><td>PG</td><td>94514402</td><td>110932022</td></tr><tr><td>Jungle 2 Jungle</td><td>1997-03-07</td><td>Comedy</td><td>PG</td><td>59925026</td><td>110058379</td></tr><tr><td>The Rookie</td><td>2002-03-29</td><td>Drama</td><td>G</td><td>75600072</td><td>109691666</td></tr><tr><td>Bon Voyage!</td><td>1962-05-17</td><td>Comedy</td><td>Not Rated</td><td>9230769</td><td>109581646</td></tr><tr><td>The Three Musketeers</td><td>1993-11-12</td><td>Adventure</td><td>PG</td><td>53661805</td><td>109310377</td></tr><tr><td>The Kid</td><td>2000-07-07</td><td>Comedy</td><td>PG</td><td>69688384</td><td>108993148</td></tr><tr><td>The Santa Clause 3: The Escape Clause</td><td>2006-11-03</td><td>Comedy</td><td>G</td><td>84500122</td><td>108694869</td></tr><tr><td>Deuce Bigalow: Male Gigolo</td><td>1999-12-10</td><td>Comedy</td><td>R</td><td>65535067</td><td>106921374</td></tr><tr><td>High School Musical 3: Senior Year</td><td>2008-10-24</td><td>Musical</td><td>G</td><td>90559416</td><td>106308538</td></tr><tr><td>Arachnophobia</td><td>1990-07-18</td><td>Thriller/Suspense</td><td>PG-13</td><td>53208180</td><td>106290270</td></tr><tr><td>Gnomeo and Juliet</td><td>2011-02-11</td><td>Comedy</td><td>G</td><td>99967670</td><td>106270797</td></tr><tr><td>Herbie Goes to Monte Carlo</td><td>1977-06-24</td><td>NULL</td><td>NULL</td><td>28000000</td><td>105847527</td></tr><tr><td>The Haunted Mansion</td><td>2003-11-26</td><td>Comedy</td><td>PG</td><td>75817994</td><td>105775678</td></tr><tr><td>Eight Below</td><td>2006-02-17</td><td>Adventure</td><td>PG</td><td>81612565</td><td>105037235</td></tr><tr><td>102 Dalmatians</td><td>2000-11-22</td><td>Comedy</td><td>G</td><td>66941559</td><td>104055039</td></tr><tr><td>Angels in the Outfield</td><td>1994-07-15</td><td>Comedy</td><td>PG</td><td>50236831</td><td>103798152</td></tr><tr><td>When a Man Loves a Woman</td><td>1994-04-29</td><td>Drama</td><td>R</td><td>50021959</td><td>103354194</td></tr><tr><td>The Mighty Ducks</td><td>1992-10-02</td><td>Comedy</td><td>PG</td><td>50752337</td><td>103120810</td></tr><tr><td>Oliver &amp; Company</td><td>1988-11-18</td><td>Adventure</td><td>G</td><td>49576671</td><td>102254492</td></tr><tr><td>The Boatniks</td><td>1970-07-01</td><td>Comedy</td><td>NULL</td><td>18607492</td><td>101200742</td></tr><tr><td>Ladder 49</td><td>2004-10-01</td><td>Action</td><td>PG-13</td><td>74541707</td><td>101161045</td></tr><tr><td>Bridge to Terabithia</td><td>2007-02-16</td><td>Drama</td><td>PG</td><td>82234139</td><td>100760721</td></tr><tr><td>The Nightmare Before Christmas</td><td>1993-10-13</td><td>Musical</td><td>PG</td><td>50408318</td><td>100026637</td></tr><tr><td>Freaky Friday</td><td>1977-01-21</td><td>Comedy</td><td>NULL</td><td>25942000</td><td>98067733</td></tr><tr><td>Up Close &amp; Personal</td><td>1996-03-01</td><td>Drama</td><td>PG-13</td><td>51045801</td><td>97356578</td></tr><tr><td>Prince of Persia: Sands of Time</td><td>2010-05-28</td><td>Action</td><td>PG-13</td><td>90759676</td><td>96971361</td></tr><tr><td>Mission to Mars</td><td>2000-03-10</td><td>Adventure</td><td>PG</td><td>60874615</td><td>95208344</td></tr><tr><td>Coyote Ugly</td><td>2000-08-04</td><td>Drama</td><td>PG-13</td><td>60786269</td><td>95070168</td></tr><tr><td>Fantasia 2000 (IMAX)</td><td>2000-01-01</td><td>Musical</td><td>G</td><td>60507228</td><td>94852354</td></tr><tr><td>Bicentennial Man</td><td>1999-12-17</td><td>Drama</td><td>PG</td><td>58220776</td><td>94838225</td></tr><tr><td>The Distinguished Gentleman</td><td>1992-12-04</td><td>Comedy</td><td>R</td><td>46434570</td><td>94349900</td></tr><tr><td>D2: The Mighty Ducks</td><td>1994-03-25</td><td>Comedy</td><td>PG</td><td>45604206</td><td>94226333</td></tr><tr><td>Holes</td><td>2003-04-18</td><td>Drama</td><td>PG</td><td>67383924</td><td>94203395</td></tr><tr><td>The Muppets</td><td>2011-11-23</td><td>Comedy</td><td>PG</td><td>88625922</td><td>94189503</td></tr><tr><td>A Civil Action</td><td>1998-12-25</td><td>Drama</td><td>PG-13</td><td>56709981</td><td>94139530</td></tr><tr><td>Disney Planes</td><td>2013-08-09</td><td>Comedy</td><td>PG</td><td>90282580</td><td>93614037</td></tr><tr><td>Tomorrowland</td><td>2015-05-22</td><td>Adventure</td><td>PG</td><td>93436322</td><td>93436322</td></tr><tr><td>The Rocketeer</td><td>1991-06-21</td><td>Action</td><td>PG</td><td>46573027</td><td>93256673</td></tr><tr><td>The Lone Ranger</td><td>2013-07-02</td><td>Western</td><td>PG-13</td><td>89302115</td><td>92597388</td></tr><tr><td>Evita</td><td>1996-12-25</td><td>Musical</td><td>PG</td><td>50047179</td><td>92077628</td></tr><tr><td>Hidalgo</td><td>2004-03-05</td><td>Western</td><td>PG-13</td><td>67286731</td><td>91340921</td></tr><tr><td>Bedknobs and Broomsticks</td><td>1971-10-07</td><td>Musical</td><td>NULL</td><td>17871174</td><td>91305448</td></tr><tr><td>Medicine Man</td><td>1992-02-07</td><td>Drama</td><td>PG-13</td><td>44948240</td><td>91304495</td></tr><tr><td>The Preacher&#39;s Wife</td><td>1996-12-13</td><td>Drama</td><td>PG</td><td>48102795</td><td>91076877</td></tr><tr><td>Real Steel</td><td>2011-10-07</td><td>Action</td><td>PG-13</td><td>85463309</td><td>90848019</td></tr><tr><td>Hannah Montana the Movie</td><td>2009-04-10</td><td>Drama</td><td>G</td><td>79576189</td><td>89443640</td></tr><tr><td>Shanghai Noon</td><td>2000-05-26</td><td>Western</td><td>PG-13</td><td>56932305</td><td>89042541</td></tr><tr><td>The Jungle Book</td><td>1994-12-25</td><td>Adventure</td><td>PG</td><td>44342956</td><td>88930321</td></tr><tr><td>G.I. Jane</td><td>1997-08-22</td><td>Drama</td><td>R</td><td>48169156</td><td>88467531</td></tr><tr><td>Mighty Joe Young</td><td>1998-12-25</td><td>Adventure</td><td>PG</td><td>50632037</td><td>87906042</td></tr><tr><td>Miracle</td><td>2004-02-06</td><td>Drama</td><td>PG</td><td>64378093</td><td>87392478</td></tr><tr><td>Herbie: Fully Loaded</td><td>2005-06-22</td><td>Comedy</td><td>G</td><td>66010682</td><td>86812798</td></tr><tr><td>Saving Mr. Banks</td><td>2013-12-13</td><td>Drama</td><td>PG-13</td><td>83299761</td><td>86249969</td></tr><tr><td>Three Fugitives</td><td>1989-01-27</td><td>Comedy</td><td>PG-13</td><td>40590000</td><td>85757817</td></tr><tr><td>Homeward Bound: The Incredible Journey</td><td>1993-02-03</td><td>Adventure</td><td>G</td><td>41833324</td><td>85182343</td></tr><tr><td>War Horse</td><td>2011-12-25</td><td>Drama</td><td>PG-13</td><td>79883359</td><td>84762149</td></tr><tr><td>Shanghai Knights</td><td>2003-02-07</td><td>Adventure</td><td>PG-13</td><td>60470220</td><td>84537962</td></tr><tr><td>Sky High</td><td>2005-07-29</td><td>Adventure</td><td>PG</td><td>63939454</td><td>84088854</td></tr><tr><td>Step Up</td><td>2006-08-11</td><td>Drama</td><td>PG-13</td><td>65328121</td><td>84078780</td></tr><tr><td>Big Business</td><td>1988-06-10</td><td>Comedy</td><td>PG</td><td>40150487</td><td>82352451</td></tr><tr><td>Déjà Vu</td><td>2006-11-22</td><td>Thriller/Suspense</td><td>PG-13</td><td>64038616</td><td>82267038</td></tr><tr><td>Nothing To Lose</td><td>1997-07-18</td><td>Comedy</td><td>R</td><td>44480039</td><td>81692095</td></tr><tr><td>Open Range</td><td>2003-08-15</td><td>Western</td><td>R</td><td>58331254</td><td>81547672</td></tr><tr><td>Encino Man</td><td>1992-05-22</td><td>Comedy</td><td>PG</td><td>40057130</td><td>81369058</td></tr><tr><td>Hocus Pocus</td><td>1993-07-16</td><td>Comedy</td><td>PG</td><td>39360491</td><td>80147079</td></tr><tr><td>What&#39;s Love Got to Do With It</td><td>1993-06-09</td><td>Drama</td><td>R</td><td>39100956</td><td>79618610</td></tr><tr><td>The Count of Monte Cristo</td><td>2002-01-25</td><td>Drama</td><td>PG-13</td><td>54228104</td><td>78682079</td></tr><tr><td>The Shaggy Dog</td><td>2006-03-10</td><td>Comedy</td><td>PG</td><td>61123569</td><td>78667428</td></tr><tr><td>Man of the House</td><td>1995-03-03</td><td>Comedy</td><td>PG</td><td>40029009</td><td>77573459</td></tr><tr><td>John Carter</td><td>2012-03-09</td><td>Adventure</td><td>PG-13</td><td>73058679</td><td>77372445</td></tr><tr><td>Tron</td><td>1982-07-09</td><td>Action</td><td>NULL</td><td>26918576</td><td>77184895</td></tr><tr><td>Alice Through the Looking Glass</td><td>2016-05-27</td><td>Adventure</td><td>PG</td><td>77042381</td><td>77042381</td></tr><tr><td>The Royal Tenenbaums</td><td>2001-12-14</td><td>Black Comedy</td><td>R</td><td>52353636</td><td>76758193</td></tr><tr><td>Hannah Montana/Miley Cyrus: Best of B…</td><td>2008-02-01</td><td>Concert/Performance</td><td>G</td><td>65281781</td><td>76646993</td></tr><tr><td>Pete’s Dragon</td><td>2016-08-12</td><td>Adventure</td><td>PG</td><td>76233151</td><td>76233151</td></tr><tr><td>Race to Witch Mountain</td><td>2009-03-13</td><td>Adventure</td><td>PG</td><td>67172594</td><td>75501997</td></tr><tr><td>The Doctor</td><td>1991-07-24</td><td>Drama</td><td>PG-13</td><td>37497480</td><td>75084021</td></tr><tr><td>Invincible</td><td>2006-08-25</td><td>Drama</td><td>PG</td><td>57806952</td><td>74398864</td></tr><tr><td>Alive</td><td>1993-01-15</td><td>Adventure</td><td>R</td><td>36299670</td><td>73914543</td></tr><tr><td>The Recruit</td><td>2003-01-31</td><td>Thriller/Suspense</td><td>PG-13</td><td>52784696</td><td>73793522</td></tr><tr><td>Adventures in Babysitting</td><td>1987-07-03</td><td>Comedy</td><td>NULL</td><td>33790923</td><td>72853569</td></tr><tr><td>Bridge of Spies</td><td>2015-10-16</td><td>Thriller/Suspense</td><td>PG-13</td><td>72313754</td><td>72313754</td></tr><tr><td>The Tigger Movie</td><td>2000-02-11</td><td>Adventure</td><td>G</td><td>45542421</td><td>71228678</td></tr><tr><td>The Guardian</td><td>2006-09-29</td><td>Action</td><td>PG-13</td><td>55011732</td><td>70801353</td></tr><tr><td>Never Cry Wolf</td><td>1983-10-07</td><td>Drama</td><td>NULL</td><td>27668764</td><td>70669955</td></tr><tr><td>King Arthur</td><td>2004-07-07</td><td>Adventure</td><td>PG-13</td><td>51877963</td><td>70423706</td></tr><tr><td>Peter Pan: Return to Neverland</td><td>2002-02-15</td><td>Adventure</td><td>G</td><td>48430258</td><td>70269715</td></tr><tr><td>White Fang</td><td>1991-01-18</td><td>Adventure</td><td>PG</td><td>34729091</td><td>69540672</td></tr><tr><td>Alexander and the Terrible, Horrible,…</td><td>2014-10-10</td><td>Comedy</td><td>PG</td><td>66954149</td><td>69055550</td></tr><tr><td>A Goofy Movie</td><td>1995-04-07</td><td>Comedy</td><td>G</td><td>35336439</td><td>68479579</td></tr><tr><td>The Prestige</td><td>2006-10-20</td><td>Thriller/Suspense</td><td>PG-13</td><td>53089891</td><td>68289913</td></tr><tr><td>Can&#39;t Buy Me Love</td><td>1987-08-14</td><td>Romantic Comedy</td><td>NULL</td><td>31623833</td><td>68181300</td></tr><tr><td>Step Up 2 the Streets</td><td>2008-02-14</td><td>Drama</td><td>PG-13</td><td>58017783</td><td>68118371</td></tr><tr><td>O Brother, Where Art Thou?</td><td>2000-12-22</td><td>Comedy</td><td>PG-13</td><td>45506619</td><td>67922002</td></tr><tr><td>Home on the Range</td><td>2004-04-02</td><td>Comedy</td><td>PG</td><td>50026353</td><td>67910166</td></tr><tr><td>The Sorcerer&#39;s Apprentice</td><td>2010-07-14</td><td>Adventure</td><td>PG</td><td>63150991</td><td>67473105</td></tr><tr><td>The Last Song</td><td>2010-03-31</td><td>Drama</td><td>PG</td><td>62950384</td><td>67258772</td></tr><tr><td>Judge Dredd</td><td>1995-06-30</td><td>Action</td><td>R</td><td>34687912</td><td>67222776</td></tr><tr><td>The Hitchhiker&#39;s Guide to the Galaxy</td><td>2005-04-29</td><td>Comedy</td><td>PG</td><td>51019112</td><td>67096891</td></tr><tr><td>The Jungle Book 2</td><td>2003-02-14</td><td>Adventure</td><td>G</td><td>47901582</td><td>66966883</td></tr><tr><td>The Joy Luck Club</td><td>1993-09-08</td><td>Drama</td><td>R</td><td>32790064</td><td>66768171</td></tr><tr><td>Muppet Treasure Island</td><td>1996-02-16</td><td>Adventure</td><td>G</td><td>34327391</td><td>65470567</td></tr><tr><td>Apocalypto</td><td>2006-12-08</td><td>Adventure</td><td>R</td><td>50866635</td><td>64959548</td></tr><tr><td>Secretariat</td><td>2010-10-08</td><td>Drama</td><td>PG</td><td>59699513</td><td>63781920</td></tr><tr><td>I Love Trouble</td><td>1994-06-29</td><td>Romantic Comedy</td><td>PG</td><td>30806194</td><td>63651027</td></tr><tr><td>Ten Things I Hate About You</td><td>1999-03-31</td><td>Romantic Comedy</td><td>PG-13</td><td>38177966</td><td>63354375</td></tr><tr><td>Blank Check</td><td>1994-02-11</td><td>Comedy</td><td>PG</td><td>30573770</td><td>63170804</td></tr><tr><td>Reign of Fire</td><td>2002-02-19</td><td>Action</td><td>PG-13</td><td>43061982</td><td>62480631</td></tr><tr><td>Homeward Bound II: Lost in San Franc…</td><td>1996-03-08</td><td>Adventure</td><td>G</td><td>32709423</td><td>62384706</td></tr><tr><td>My Favorite Martian</td><td>1999-02-12</td><td>Comedy</td><td>PG</td><td>36850101</td><td>61150849</td></tr><tr><td>Planes: Fire and Rescue</td><td>2014-07-18</td><td>Adventure</td><td>PG</td><td>59157732</td><td>61040349</td></tr><tr><td>Under the Tuscan Sun</td><td>2003-09-26</td><td>Comedy</td><td>PG-13</td><td>43601508</td><td>60944053</td></tr><tr><td>A Low Down Dirty Shame</td><td>1994-11-23</td><td>Action</td><td>R</td><td>29317886</td><td>60321919</td></tr><tr><td>Shoot to Kill</td><td>1988-02-12</td><td>Action</td><td>NULL</td><td>29300000</td><td>60097074</td></tr><tr><td>Eddie</td><td>1996-05-31</td><td>Comedy</td><td>PG-13</td><td>31369401</td><td>59828966</td></tr><tr><td>The Lizzie McGuire Movie</td><td>2003-05-02</td><td>Comedy</td><td>PG</td><td>42734455</td><td>59743191</td></tr><tr><td>Powder</td><td>1995-10-27</td><td>Drama</td><td>PG-13</td><td>30833914</td><td>59727216</td></tr><tr><td>Green Card</td><td>1990-12-25</td><td>Romantic Comedy</td><td>PG-13</td><td>29804169</td><td>59679131</td></tr><tr><td>In the Army Now</td><td>1994-08-12</td><td>Comedy</td><td>PG</td><td>28881266</td><td>59673787</td></tr><tr><td>3 Ninjas</td><td>1992-08-07</td><td>Action</td><td>PG</td><td>29028000</td><td>58965304</td></tr><tr><td>Metro</td><td>1997-01-17</td><td>Action</td><td>R</td><td>32017895</td><td>58804106</td></tr><tr><td>I am Number Four</td><td>2011-02-18</td><td>Adventure</td><td>PG-13</td><td>55100437</td><td>58574607</td></tr><tr><td>Dan in Real Life</td><td>2007-10-20</td><td>Romantic Comedy</td><td>PG-13</td><td>47642963</td><td>58350234</td></tr><tr><td>Keeping the Faith</td><td>2000-04-14</td><td>Romantic Comedy</td><td>PG-13</td><td>37036404</td><td>57925202</td></tr><tr><td>Ernest Saves Christmas</td><td>1988-11-11</td><td>Comedy</td><td>PG</td><td>28202109</td><td>57845202</td></tr><tr><td>Deceived</td><td>1991-09-27</td><td>Thriller/Suspense</td><td>PG-13</td><td>28738096</td><td>57544453</td></tr><tr><td>Instinct</td><td>1999-06-04</td><td>Drama</td><td>R</td><td>34105207</td><td>56595842</td></tr><tr><td>The Hundred-Foot Journey</td><td>2014-08-08</td><td>Romantic Comedy</td><td>PG</td><td>54235441</td><td>55961409</td></tr><tr><td>The Rescuers Down Under</td><td>1990-11-16</td><td>Adventure</td><td>G</td><td>27931461</td><td>55796728</td></tr><tr><td>Old Dogs</td><td>2009-11-25</td><td>Comedy</td><td>PG</td><td>49492060</td><td>55503929</td></tr><tr><td>The BFG</td><td>2016-07-01</td><td>Adventure</td><td>PG</td><td>55483770</td><td>55483770</td></tr><tr><td>The Muppet Christmas Carol</td><td>1992-12-11</td><td>Comedy</td><td>G</td><td>27281507</td><td>55417615</td></tr><tr><td>Treasure Planet</td><td>2002-11-27</td><td>Adventure</td><td>PG</td><td>38120554</td><td>55189145</td></tr><tr><td>James and the Giant Peach</td><td>1996-04-12</td><td>Adventure</td><td>PG</td><td>28921264</td><td>55159783</td></tr><tr><td>The Odd Life of Timothy Green</td><td>2012-08-15</td><td>Drama</td><td>PG</td><td>51853450</td><td>54914942</td></tr><tr><td>Glory Road</td><td>2006-01-13</td><td>Drama</td><td>PG</td><td>42647449</td><td>54888236</td></tr><tr><td>Tin Men</td><td>1987-03-06</td><td>Comedy</td><td>NULL</td><td>25411386</td><td>54787202</td></tr><tr><td>Recess: School&#39;s Out</td><td>2001-02-16</td><td>Comedy</td><td>G</td><td>36696761</td><td>54656124</td></tr><tr><td>The 13th Warrior</td><td>1999-08-27</td><td>Action</td><td>R</td><td>32698899</td><td>54262148</td></tr><tr><td>The Ladykillers</td><td>2004-03-26</td><td>Comedy</td><td>R</td><td>39692139</td><td>53881593</td></tr><tr><td>Romy and Michele&#39;s High School Reunion</td><td>1997-04-25</td><td>Comedy</td><td>R</td><td>29235353</td><td>53693680</td></tr><tr><td>The Great Mouse Detective</td><td>1986-07-02</td><td>Adventure</td><td>NULL</td><td>23605534</td><td>53637367</td></tr><tr><td>Underdog</td><td>2007-08-03</td><td>Adventure</td><td>PG</td><td>43760605</td><td>53619462</td></tr><tr><td>College Road Trip</td><td>2008-03-07</td><td>Comedy</td><td>G</td><td>45610425</td><td>53550960</td></tr><tr><td>Son in Law</td><td>1993-07-02</td><td>Comedy</td><td>PG-13</td><td>25989889</td><td>52921433</td></tr><tr><td>Muppets Most Wanted</td><td>2014-03-21</td><td>Comedy</td><td>PG</td><td>51178893</td><td>52807594</td></tr><tr><td>Grosse Pointe Blank</td><td>1997-04-11</td><td>Black Comedy</td><td>R</td><td>28084357</td><td>51579764</td></tr><tr><td>Spy Hard</td><td>1996-05-24</td><td>Comedy</td><td>PG-13</td><td>26936265</td><td>51373912</td></tr><tr><td>Houseguest</td><td>1995-01-06</td><td>Comedy</td><td>PG</td><td>26325256</td><td>51016522</td></tr><tr><td>Raising Helen</td><td>2004-05-28</td><td>Comedy</td><td>PG-13</td><td>37485528</td><td>50886144</td></tr><tr><td>Quiz Show</td><td>1994-09-14</td><td>Drama</td><td>PG-13</td><td>24787282</td><td>50840394</td></tr><tr><td>Ernest Goes to Camp</td><td>1987-05-22</td><td>Comedy</td><td>NULL</td><td>23509382</td><td>50686462</td></tr><tr><td>The Hot Chick</td><td>2002-12-13</td><td>Comedy</td><td>PG-13</td><td>35081550</td><td>50624654</td></tr><tr><td>The Black Cauldron</td><td>1985-07-24</td><td>Adventure</td><td>NULL</td><td>21288692</td><td>50553142</td></tr><tr><td>First Kid</td><td>1996-08-30</td><td>Comedy</td><td>PG</td><td>26465920</td><td>50465108</td></tr><tr><td>Ernest Goes to Jail</td><td>1990-04-06</td><td>Comedy</td><td>PG</td><td>25029569</td><td>49999822</td></tr><tr><td>Renaissance Man</td><td>1994-06-03</td><td>Comedy</td><td>PG-13</td><td>24172899</td><td>49945474</td></tr><tr><td>Confessions of a Shopaholic</td><td>2009-02-13</td><td>Romantic Comedy</td><td>PG</td><td>44277350</td><td>49767744</td></tr><tr><td>The Adventures of Huck Finn</td><td>1993-04-02</td><td>Adventure</td><td>PG</td><td>24103594</td><td>49080505</td></tr><tr><td>Tough Guys</td><td>1986-10-03</td><td>Comedy</td><td>NULL</td><td>21458229</td><td>48758184</td></tr><tr><td>An American Werewolf in Paris</td><td>1997-12-25</td><td>Horror</td><td>R</td><td>26570463</td><td>48546161</td></tr><tr><td>The Devil and Max Devlin</td><td>1981-01-01</td><td>NULL</td><td>NULL</td><td>16000000</td><td>48517980</td></tr><tr><td>The Wild</td><td>2006-04-14</td><td>Adventure</td><td>G</td><td>37384046</td><td>48114115</td></tr><tr><td>Operation Dumbo Drop</td><td>1995-07-28</td><td>Adventure</td><td>PG</td><td>24670346</td><td>47809421</td></tr><tr><td>The Insider</td><td>1999-11-05</td><td>Drama</td><td>R</td><td>28965197</td><td>47794214</td></tr><tr><td>Oscar</td><td>1991-04-26</td><td>Comedy</td><td>PG</td><td>23562716</td><td>47181395</td></tr><tr><td>The Program</td><td>1993-09-24</td><td>Action</td><td>R</td><td>23042200</td><td>46919256</td></tr><tr><td>Dead Presidents</td><td>1995-10-04</td><td>Drama</td><td>R</td><td>24120194</td><td>46741467</td></tr><tr><td>The Other Sister</td><td>1999-02-26</td><td>Romantic Comedy</td><td>PG-13</td><td>27807627</td><td>46145331</td></tr><tr><td>Guilty as Sin</td><td>1993-06-04</td><td>Thriller/Suspense</td><td>R</td><td>22622537</td><td>46064723</td></tr><tr><td>Tom and Huck</td><td>1995-12-22</td><td>Adventure</td><td>PG</td><td>23837227</td><td>45911517</td></tr><tr><td>Captain Ron</td><td>1992-09-18</td><td>Comedy</td><td>PG-13</td><td>22518097</td><td>45741576</td></tr><tr><td>Step Up 3D</td><td>2010-08-06</td><td>Drama</td><td>PG-13</td><td>42400223</td><td>45302137</td></tr><tr><td>Air Bud</td><td>1997-08-01</td><td>Comedy</td><td>PG</td><td>24646936</td><td>45266588</td></tr><tr><td>Need for Speed</td><td>2014-03-14</td><td>Action</td><td>PG-13</td><td>43568507</td><td>44955015</td></tr><tr><td>McFarland, USA</td><td>2015-02-20</td><td>Drama</td><td>PG</td><td>44480275</td><td>44480275</td></tr><tr><td>Double Take</td><td>2001-01-12</td><td>Action</td><td>PG-13</td><td>29823162</td><td>44418589</td></tr><tr><td>Hello Again</td><td>1987-11-06</td><td>Comedy</td><td>NULL</td><td>20419446</td><td>44024529</td></tr><tr><td>Consenting Adults</td><td>1992-10-16</td><td>Drama</td><td>R</td><td>21591728</td><td>43859823</td></tr><tr><td>Bad Company</td><td>2002-06-07</td><td>Action</td><td>PG-13</td><td>30157016</td><td>43756218</td></tr><tr><td>D3: The Mighty Ducks</td><td>1996-10-04</td><td>Comedy</td><td>PG</td><td>22936273</td><td>43713554</td></tr><tr><td>Surrogates</td><td>2009-09-25</td><td>Action</td><td>PG-13</td><td>38577772</td><td>43361416</td></tr><tr><td>Straight Talk</td><td>1992-04-03</td><td>Comedy</td><td>PG</td><td>21202099</td><td>43068356</td></tr><tr><td>The Air Up There</td><td>1994-01-07</td><td>Comedy</td><td>PG</td><td>20782439</td><td>42940186</td></tr><tr><td>High Fidelity</td><td>2000-03-31</td><td>Comedy</td><td>R</td><td>27277055</td><td>42661516</td></tr><tr><td>Iron Will</td><td>1994-01-14</td><td>Drama</td><td>PG</td><td>20623071</td><td>42610902</td></tr><tr><td>Super Mario Bros.</td><td>1993-05-28</td><td>Action</td><td>PG</td><td>20844907</td><td>42445058</td></tr><tr><td>Calendar Girls</td><td>2003-12-19</td><td>Comedy</td><td>PG-13</td><td>31011616</td><td>42379650</td></tr><tr><td>Flight of the Navigator</td><td>1986-07-30</td><td>Adventure</td><td>NULL</td><td>18564613</td><td>42183197</td></tr><tr><td>Boys</td><td>1996-05-10</td><td>Drama</td><td>PG-13</td><td>21930418</td><td>41826566</td></tr><tr><td>Beloved</td><td>1998-10-16</td><td>Drama</td><td>R</td><td>22852487</td><td>41062682</td></tr><tr><td>An Innocent Man</td><td>1989-10-06</td><td>Drama</td><td>R</td><td>19397847</td><td>40983414</td></tr><tr><td>Another Stakeout</td><td>1993-07-23</td><td>Comedy</td><td>PG-13</td><td>20107504</td><td>40943541</td></tr><tr><td>Color of Night</td><td>1994-08-19</td><td>Thriller/Suspense</td><td>R</td><td>19750470</td><td>40804816</td></tr><tr><td>Stella</td><td>1990-02-02</td><td>Drama</td><td>PG-13</td><td>20062347</td><td>40077147</td></tr><tr><td>Taking Care of Business</td><td>1990-08-17</td><td>Comedy</td><td>R</td><td>20005435</td><td>39963460</td></tr><tr><td>Blaze</td><td>1989-12-13</td><td>Drama</td><td>R</td><td>19049727</td><td>39884640</td></tr><tr><td>Confessions of a Teenage Drama Queen</td><td>2004-02-20</td><td>Comedy</td><td>PG</td><td>29331068</td><td>39816568</td></tr><tr><td>Betsy&#39;s Wedding</td><td>1990-06-22</td><td>Comedy</td><td>R</td><td>19740070</td><td>39433357</td></tr><tr><td>Mr. Magoo</td><td>1997-12-25</td><td>Comedy</td><td>PG</td><td>21437192</td><td>39145784</td></tr><tr><td>He Got Game</td><td>1998-05-01</td><td>Drama</td><td>R</td><td>21567853</td><td>38766948</td></tr><tr><td>Jonas Brothers: The 3D Concert Experi…</td><td>2009-02-27</td><td>Concert/Performance</td><td>G</td><td>38174685</td><td>38174685</td></tr><tr><td>Million Dollar Arm</td><td>2014-05-10</td><td>Drama</td><td>PG</td><td>36447959</td><td>37607865</td></tr><tr><td>Frankenweenie</td><td>2012-10-05</td><td>Comedy</td><td>PG</td><td>35287788</td><td>37363513</td></tr><tr><td>Paradise</td><td>1991-09-18</td><td>Drama</td><td>PG-13</td><td>18634643</td><td>37313540</td></tr><tr><td>Beauty and the Beast (IMAX)</td><td>2002-01-01</td><td>Musical</td><td>G</td><td>25487028</td><td>36980311</td></tr><tr><td>Gone Fishin&#39;</td><td>1997-05-30</td><td>Comedy</td><td>PG</td><td>19745922</td><td>36265379</td></tr><tr><td>Born Yesterday</td><td>1993-03-26</td><td>Romantic Comedy</td><td>PG</td><td>17760754</td><td>36165012</td></tr><tr><td>DuckTales: The Movie - Treasure of th…</td><td>1990-08-03</td><td>Adventure</td><td>G</td><td>18075331</td><td>36107823</td></tr><tr><td>Kazaam</td><td>1996-07-17</td><td>Comedy</td><td>PG</td><td>18880508</td><td>36009655</td></tr><tr><td>Earth</td><td>2009-04-22</td><td>Documentary</td><td>G</td><td>32011576</td><td>35981010</td></tr><tr><td>Corky Romano</td><td>2001-10-12</td><td>Comedy</td><td>PG-13</td><td>23978402</td><td>35705805</td></tr><tr><td>Jane Austen&#39;s Mafia</td><td>1998-07-24</td><td>Comedy</td><td>PG-13</td><td>19843795</td><td>35668055</td></tr><tr><td>When in Rome</td><td>2010-01-29</td><td>Romantic Comedy</td><td>PG-13</td><td>32680633</td><td>34917330</td></tr><tr><td>Stick It</td><td>2006-04-28</td><td>Comedy</td><td>PG-13</td><td>26910736</td><td>34634731</td></tr><tr><td>Toy Story 3D Double Feature</td><td>2009-10-02</td><td>Adventure</td><td>G</td><td>30702446</td><td>34509545</td></tr><tr><td>The Last Flight of Noah’s Ark</td><td>1980-06-25</td><td>NULL</td><td>NULL</td><td>11000000</td><td>34472116</td></tr><tr><td>The Big Green</td><td>1995-09-29</td><td>Comedy</td><td>PG</td><td>17736619</td><td>34372339</td></tr><tr><td>Heavy Weights</td><td>1995-02-17</td><td>Comedy</td><td>PG</td><td>17671310</td><td>34245779</td></tr><tr><td>Terminal Velocity</td><td>1994-09-23</td><td>Action</td><td>PG-13</td><td>16478900</td><td>34048315</td></tr><tr><td>Baby: Secret of the Lost Legend</td><td>1985-03-22</td><td>Adventure</td><td>NULL</td><td>14276095</td><td>33900697</td></tr><tr><td>That Darn Cat</td><td>1997-02-14</td><td>Comedy</td><td>PG</td><td>18301828</td><td>33613158</td></tr><tr><td>Dark Water</td><td>2005-07-08</td><td>Thriller/Suspense</td><td>PG-13</td><td>25473093</td><td>33500491</td></tr><tr><td>Simon Birch</td><td>1998-09-11</td><td>Drama</td><td>PG</td><td>18253415</td><td>32809442</td></tr><tr><td>Benji the Hunted</td><td>1987-06-05</td><td>Adventure</td><td>NULL</td><td>15212539</td><td>32798382</td></tr><tr><td>Around the World in 80 Days</td><td>2004-06-16</td><td>Adventure</td><td>PG</td><td>24004159</td><td>32585356</td></tr><tr><td>Piglet&#39;s Big Movie</td><td>2003-03-21</td><td>Comedy</td><td>G</td><td>23103423</td><td>32298812</td></tr><tr><td>Doug&#39;s 1st Movie</td><td>1999-03-26</td><td>Adventure</td><td>G</td><td>19421271</td><td>32228598</td></tr><tr><td>The Life Aquatic with Steve Zissou</td><td>2004-12-10</td><td>Comedy</td><td>R</td><td>24006726</td><td>32198655</td></tr><tr><td>Ice Princess</td><td>2005-03-18</td><td>Comedy</td><td>G</td><td>24381334</td><td>32064685</td></tr><tr><td>Summer of Sam</td><td>1999-07-02</td><td>Drama</td><td>R</td><td>19288130</td><td>32007656</td></tr><tr><td>Delivery Man</td><td>2013-11-22</td><td>Comedy</td><td>PG-13</td><td>30659817</td><td>31787136</td></tr><tr><td>One Magic Christmas</td><td>1985-11-22</td><td>Drama</td><td>NULL</td><td>13229514</td><td>31415432</td></tr><tr><td>Billy Bathgate</td><td>1991-11-01</td><td>Drama</td><td>R</td><td>15565363</td><td>31167691</td></tr><tr><td>Tim Burton&#39;s The Nightmare Before Chr…</td><td>2006-10-20</td><td>Musical</td><td>PG</td><td>24732041</td><td>30737517</td></tr><tr><td>Mr. Destiny</td><td>1990-10-12</td><td>Comedy</td><td>PG-13</td><td>15379253</td><td>30722056</td></tr><tr><td>Chimpanzee</td><td>2012-04-20</td><td>Documentary</td><td>G</td><td>28965459</td><td>30675725</td></tr><tr><td>The Alamo</td><td>2004-04-09</td><td>Western</td><td>PG-13</td><td>22406362</td><td>30416359</td></tr><tr><td>Haakon Haakonsen</td><td>1991-03-01</td><td>Adventure</td><td>PG</td><td>15024232</td><td>30084149</td></tr><tr><td>Indian Summer</td><td>1993-04-23</td><td>Comedy</td><td>R</td><td>14717851</td><td>29968953</td></tr><tr><td>Spaced Invaders</td><td>1990-04-27</td><td>Comedy</td><td>PG</td><td>15000000</td><td>29964452</td></tr><tr><td>Mad Love</td><td>1995-05-26</td><td>Drama</td><td>PG-13</td><td>15446532</td><td>29934306</td></tr><tr><td>Cold Creek Manor</td><td>2003-09-19</td><td>Thriller/Suspense</td><td>R</td><td>21384035</td><td>29895090</td></tr><tr><td>Stay Alive</td><td>2006-03-24</td><td>Horror</td><td>PG-13</td><td>23086480</td><td>29712825</td></tr><tr><td>Mr. 3000</td><td>2004-09-17</td><td>Comedy</td><td>PG-13</td><td>21800302</td><td>29593641</td></tr><tr><td>Fire Birds</td><td>1990-05-24</td><td>Action</td><td>PG-13</td><td>14760451</td><td>29485923</td></tr><tr><td>A Lot Like Love</td><td>2005-04-22</td><td>Comedy</td><td>PG-13</td><td>21835784</td><td>28716947</td></tr><tr><td>Rushmore</td><td>1998-12-11</td><td>Black Comedy</td><td>R</td><td>17105219</td><td>28392518</td></tr><tr><td>Winnie the Pooh</td><td>2011-07-15</td><td>Adventure</td><td>G</td><td>26692846</td><td>28375869</td></tr><tr><td>Rocket Man</td><td>1997-10-10</td><td>Comedy</td><td>PG</td><td>15448043</td><td>28371890</td></tr><tr><td>Ernest Scared Stupid</td><td>1991-10-11</td><td>Comedy</td><td>PG</td><td>14143280</td><td>28320147</td></tr><tr><td>Return to Snowy River</td><td>1988-04-15</td><td>Adventure</td><td>PG</td><td>13687027</td><td>28073384</td></tr><tr><td>Tuck Everlasting</td><td>2002-10-11</td><td>Drama</td><td>PG</td><td>19161999</td><td>27789959</td></tr><tr><td>The Finest Hours</td><td>2016-01-29</td><td>Thriller/Suspense</td><td>PG</td><td>27569558</td><td>27569558</td></tr><tr><td>You Again</td><td>2010-09-24</td><td>Comedy</td><td>PG</td><td>25702053</td><td>27461121</td></tr><tr><td>The Sixth Man</td><td>1997-03-28</td><td>Comedy</td><td>PG-13</td><td>14765099</td><td>27117599</td></tr><tr><td>Nixon</td><td>1995-12-20</td><td>Drama</td><td>R</td><td>13668249</td><td>26302005</td></tr><tr><td>A Far Off Place</td><td>1993-03-12</td><td>Adventure</td><td>PG</td><td>12890752</td><td>26248558</td></tr><tr><td>D.O.A.</td><td>1988-03-18</td><td>Thriller/Suspense</td><td>NULL</td><td>12706478</td><td>26062188</td></tr><tr><td>A Kid in King Arthur&#39;s Court</td><td>1995-08-11</td><td>Adventure</td><td>PG</td><td>13406717</td><td>25981285</td></tr><tr><td>Max Keeble&#39;s Big Move</td><td>2001-10-05</td><td>Comedy</td><td>PG</td><td>17292381</td><td>25749730</td></tr><tr><td>Valiant</td><td>2005-08-19</td><td>Adventure</td><td>G</td><td>19478106</td><td>25616292</td></tr><tr><td>Return to Oz</td><td>1985-06-21</td><td>Adventure</td><td>NULL</td><td>10618813</td><td>25215934</td></tr><tr><td>crazy/beautiful</td><td>2001-06-29</td><td>Drama</td><td>PG-13</td><td>16929123</td><td>25214223</td></tr><tr><td>The Invisible</td><td>2007-04-27</td><td>Thriller/Suspense</td><td>PG-13</td><td>20568319</td><td>25202168</td></tr><tr><td>Life With Mikey</td><td>1993-06-04</td><td>Comedy</td><td>PG</td><td>12349549</td><td>25146538</td></tr><tr><td>A Stranger Among Us</td><td>1992-07-17</td><td>Drama</td><td>PG-13</td><td>12282994</td><td>24950752</td></tr><tr><td>The Marrying Man</td><td>1991-04-05</td><td>Romantic Comedy</td><td>R</td><td>12454768</td><td>24939118</td></tr><tr><td>The Country Bears</td><td>2002-07-26</td><td>Adventure</td><td>G</td><td>16988996</td><td>24650121</td></tr><tr><td>Mr. Wrong</td><td>1996-02-16</td><td>Romantic Comedy</td><td>PG-13</td><td>12805071</td><td>24422334</td></tr><tr><td>The Associate</td><td>1996-10-25</td><td>Comedy</td><td>PG-13</td><td>12772657</td><td>24333094</td></tr><tr><td>3 Ninjas Kick Back</td><td>1994-05-06</td><td>Action</td><td>PG</td><td>11744960</td><td>24267154</td></tr><tr><td>Gross Anatomy</td><td>1989-10-20</td><td>Drama</td><td>PG-13</td><td>11346186</td><td>23972012</td></tr><tr><td>Ghosts of the Abyss</td><td>2003-04-11</td><td>Documentary</td><td>G</td><td>17093668</td><td>23803108</td></tr><tr><td>Pooh&#39;s Heffalump Movie</td><td>2005-02-11</td><td>Adventure</td><td>G</td><td>18098433</td><td>23801835</td></tr><tr><td>Roommates</td><td>1995-03-03</td><td>Comedy</td><td>PG</td><td>12076989</td><td>23404369</td></tr><tr><td>The Ref</td><td>1994-03-09</td><td>Comedy</td><td>R</td><td>11325885</td><td>23401275</td></tr><tr><td>Mars Needs Moms</td><td>2011-03-11</td><td>Adventure</td><td>PG</td><td>21392758</td><td>22741603</td></tr><tr><td>New York Stories</td><td>1989-03-01</td><td>Drama</td><td>PG</td><td>10763469</td><td>22740861</td></tr><tr><td>One Good Cop</td><td>1991-05-03</td><td>Action</td><td>R</td><td>11276846</td><td>22580472</td></tr><tr><td>The Journey of Natty Gann</td><td>1985-09-27</td><td>Drama</td><td>NULL</td><td>9468512</td><td>22302956</td></tr><tr><td>Annapolis</td><td>2006-01-27</td><td>Drama</td><td>PG-13</td><td>17127992</td><td>22044113</td></tr><tr><td>I&#39;ll Be Home For Christmas</td><td>1998-11-13</td><td>Comedy</td><td>PG</td><td>12214338</td><td>21941840</td></tr><tr><td>Holy Man</td><td>1998-10-09</td><td>Comedy</td><td>PG</td><td>12069719</td><td>21694605</td></tr><tr><td>Camp Nowhere</td><td>1994-08-26</td><td>Comedy</td><td>PG</td><td>10442641</td><td>21576332</td></tr><tr><td>Sleeping Beauty</td><td>1959-01-29</td><td>Drama</td><td>NULL</td><td>9464608</td><td>21505832</td></tr><tr><td>Country</td><td>1984-09-29</td><td>Drama</td><td>NULL</td><td>8400000</td><td>21075000</td></tr><tr><td>Oceans</td><td>2010-04-22</td><td>Documentary</td><td>G</td><td>19422319</td><td>20751600</td></tr><tr><td>Out Cold</td><td>2001-11-21</td><td>Comedy</td><td>PG-13</td><td>13906394</td><td>20700691</td></tr><tr><td>Tex</td><td>1982-11-19</td><td>Drama</td><td>NULL</td><td>7199408</td><td>20643199</td></tr><tr><td>The Crew</td><td>2000-08-25</td><td>Comedy</td><td>PG-13</td><td>13019253</td><td>20362201</td></tr><tr><td>The Secret World of Arietty</td><td>2012-02-17</td><td>Adventure</td><td>G</td><td>19192510</td><td>20325733</td></tr><tr><td>The Greatest Game Ever Played</td><td>2005-09-30</td><td>Drama</td><td>PG</td><td>15331289</td><td>20162672</td></tr><tr><td>Deep Rising</td><td>1998-01-30</td><td>Action</td><td>R</td><td>11203026</td><td>20136775</td></tr><tr><td>The Scarlet Letter</td><td>1995-10-13</td><td>Drama</td><td>R</td><td>10359006</td><td>20075033</td></tr><tr><td>White Squall</td><td>1996-02-02</td><td>Adventure</td><td>PG-13</td><td>10229300</td><td>19509726</td></tr><tr><td>Fright Night</td><td>2011-08-19</td><td>Horror</td><td>R</td><td>18298649</td><td>19452402</td></tr><tr><td>Scenes from a Mall</td><td>1991-02-22</td><td>Comedy</td><td>NULL</td><td>9563393</td><td>19149495</td></tr><tr><td>Swing Vote</td><td>2008-08-01</td><td>Comedy</td><td>PG-13</td><td>16289867</td><td>19125841</td></tr><tr><td>Angie</td><td>1994-03-04</td><td>Comedy</td><td>R</td><td>9252349</td><td>19116981</td></tr><tr><td>Bears</td><td>2014-04-18</td><td>Documentary</td><td>G</td><td>17780194</td><td>18346024</td></tr><tr><td>25th Hour</td><td>2002-12-19</td><td>Drama</td><td>R</td><td>13084595</td><td>18325463</td></tr><tr><td>The Inkwell</td><td>1994-04-22</td><td>Comedy</td><td>R</td><td>8864699</td><td>18316030</td></tr><tr><td>White Fang 2: Myth of the White Wolf</td><td>1994-04-15</td><td>Adventure</td><td>PG</td><td>8752399</td><td>18083994</td></tr><tr><td>The Puppet Masters</td><td>1994-10-21</td><td>Horror</td><td>R</td><td>8579626</td><td>17727017</td></tr><tr><td>Celtic Pride</td><td>1996-04-19</td><td>Comedy</td><td>PG-13</td><td>9240378</td><td>17623615</td></tr><tr><td>Gake no ue no Ponyo</td><td>2009-08-14</td><td>Adventure</td><td>G</td><td>15090399</td><td>16961607</td></tr><tr><td>Cheetah</td><td>1989-08-18</td><td>Adventure</td><td>NULL</td><td>7882250</td><td>16653473</td></tr><tr><td>Before and After</td><td>1996-02-23</td><td>Drama</td><td>PG-13</td><td>8642118</td><td>16482589</td></tr><tr><td>Monkey Kingdom</td><td>2015-04-17</td><td>Documentary</td><td>G</td><td>16432322</td><td>16432322</td></tr><tr><td>African Cats</td><td>2011-04-22</td><td>Documentary</td><td>G</td><td>15428747</td><td>16401551</td></tr><tr><td>The Rich Man&#39;s Wife</td><td>1996-09-13</td><td>Thriller/Suspense</td><td>R</td><td>8538318</td><td>16284619</td></tr><tr><td>Tall Tale</td><td>1995-03-24</td><td>Western</td><td>PG</td><td>8247627</td><td>15983331</td></tr><tr><td>Aspen Extreme</td><td>1993-01-22</td><td>Romantic Comedy</td><td>PG-13</td><td>7843388</td><td>15970955</td></tr><tr><td>Unstrung Heroes</td><td>1995-09-15</td><td>Drama</td><td>PG</td><td>7929000</td><td>15365850</td></tr><tr><td>Disorganized Crime</td><td>1989-04-14</td><td>Comedy</td><td>NULL</td><td>7210149</td><td>15233465</td></tr><tr><td>Something Wicked This Way Comes</td><td>1983-04-29</td><td>Horror</td><td>NULL</td><td>5656087</td><td>15136765</td></tr><tr><td>Sarafina!</td><td>1992-09-18</td><td>Drama</td><td>PG-13</td><td>7306242</td><td>14841352</td></tr><tr><td>Sorority Boys</td><td>2002-03-22</td><td>Comedy</td><td>R</td><td>10198766</td><td>14797862</td></tr><tr><td>Mystery, Alaska</td><td>1999-10-01</td><td>Comedy</td><td>R</td><td>8891623</td><td>14755189</td></tr><tr><td>The Jerky Boys</td><td>1995-02-03</td><td>Comedy</td><td>R</td><td>7555256</td><td>14641561</td></tr><tr><td>Wild Hearts Can&#39;t Be Broken</td><td>1991-05-24</td><td>Drama</td><td>NULL</td><td>7300000</td><td>14617333</td></tr><tr><td>Casanova</td><td>2005-12-25</td><td>Drama</td><td>R</td><td>11304403</td><td>14574087</td></tr><tr><td>A Thousand Acres</td><td>1997-09-19</td><td>Drama</td><td>R</td><td>7928412</td><td>14561324</td></tr><tr><td>1492: Conquest of Paradise</td><td>1992-10-09</td><td>Adventure</td><td>PG-13</td><td>7099531</td><td>14421454</td></tr><tr><td>Sen to Chihiro no Kamikakushi</td><td>2002-09-20</td><td>Adventure</td><td>PG</td><td>10049886</td><td>14338992</td></tr><tr><td>Fantasia 2000 (Theatrical Release)</td><td>2000-06-16</td><td>Musical</td><td>G</td><td>9103630</td><td>14238144</td></tr><tr><td>Krippendorf&#39;s Tribe</td><td>1998-02-27</td><td>Comedy</td><td>PG-13</td><td>7571115</td><td>13608633</td></tr><tr><td>Shopgirl</td><td>2005-10-21</td><td>Drama</td><td>R</td><td>10284523</td><td>13519621</td></tr><tr><td>Play it to the Bone</td><td>1999-12-24</td><td>Comedy</td><td>R</td><td>8427204</td><td>13180524</td></tr><tr><td>People Like Us</td><td>2012-06-29</td><td>Drama</td><td>PG-13</td><td>12431792</td><td>13165822</td></tr><tr><td>Primeval</td><td>2007-01-12</td><td>Adventure</td><td>R</td><td>10597734</td><td>12985302</td></tr><tr><td>Roving Mars</td><td>2006-01-27</td><td>Documentary</td><td>G</td><td>10407978</td><td>12948025</td></tr><tr><td>Night Crossing</td><td>1982-02-05</td><td>Drama</td><td>NULL</td><td>4500000</td><td>12903059</td></tr><tr><td>The Light Between Oceans</td><td>2016-09-02</td><td>Drama</td><td>PG-13</td><td>12545979</td><td>12545979</td></tr><tr><td>Strange Magic</td><td>2015-01-23</td><td>Adventure</td><td>PG</td><td>12429583</td><td>12429583</td></tr><tr><td>Ed Wood</td><td>1994-09-30</td><td>Comedy</td><td>R</td><td>5828466</td><td>12042634</td></tr><tr><td>The Rescue</td><td>1988-08-05</td><td>Action</td><td>NULL</td><td>5855392</td><td>12009960</td></tr><tr><td>Aliens of the Deep</td><td>2005-01-28</td><td>Documentary</td><td>G</td><td>8968684</td><td>11740942</td></tr><tr><td>Trenchcoat</td><td>1983-03-11</td><td>Comedy</td><td>NULL</td><td>4304286</td><td>11519089</td></tr><tr><td>Swing Kids</td><td>1993-03-05</td><td>Musical</td><td>PG-13</td><td>5632086</td><td>11468231</td></tr><tr><td>The Cemetery Club</td><td>1993-02-03</td><td>Comedy</td><td>PG-13</td><td>5583621</td><td>11369541</td></tr><tr><td>Heartbreak Hotel</td><td>1988-09-30</td><td>Comedy</td><td>NULL</td><td>5509417</td><td>11300331</td></tr><tr><td>Last Dance</td><td>1996-05-03</td><td>Drama</td><td>R</td><td>5857534</td><td>11171714</td></tr><tr><td>The Tie That Binds</td><td>1995-09-08</td><td>Thriller/Suspense</td><td>R</td><td>5762795</td><td>11167895</td></tr><tr><td>Off Beat</td><td>1986-04-11</td><td>Comedy</td><td>NULL</td><td>4842778</td><td>11003932</td></tr><tr><td>Prom</td><td>2011-04-29</td><td>Comedy</td><td>PG</td><td>10130219</td><td>10768946</td></tr><tr><td>Big Trouble</td><td>2002-04-05</td><td>Comedy</td><td>PG-13</td><td>7262288</td><td>10537188</td></tr><tr><td>Kundun</td><td>1997-12-25</td><td>Drama</td><td>PG-13</td><td>5686694</td><td>10236836</td></tr><tr><td>The Straight Story</td><td>1999-10-15</td><td>Drama</td><td>G</td><td>6197866</td><td>10111144</td></tr><tr><td>Moonlight Mile</td><td>2002-09-27</td><td>Drama</td><td>PG-13</td><td>6830957</td><td>9909094</td></tr><tr><td>Innocent Blood</td><td>1992-09-25</td><td>Horror</td><td>R</td><td>4877567</td><td>9907922</td></tr><tr><td>Miami Rhapsody</td><td>1995-01-27</td><td>Romantic Comedy</td><td>PG-13</td><td>5086578</td><td>9857435</td></tr><tr><td>The Good Mother</td><td>1988-11-04</td><td>Drama</td><td>NULL</td><td>4764606</td><td>9772655</td></tr><tr><td>My Science Project</td><td>1985-08-09</td><td>Comedy</td><td>NULL</td><td>4100000</td><td>9736051</td></tr><tr><td>Miracle at St. Anna</td><td>2008-09-26</td><td>Drama</td><td>R</td><td>7916887</td><td>9295171</td></tr><tr><td>Young Black Stallion</td><td>2003-12-25</td><td>Adventure</td><td>G</td><td>6751389</td><td>9254344</td></tr><tr><td>Bound by Honor</td><td>1993-04-16</td><td>NULL</td><td>R</td><td>4496583</td><td>9156084</td></tr><tr><td>Midnight Madness</td><td>1980-02-08</td><td>NULL</td><td>NULL</td><td>2900000</td><td>9088096</td></tr><tr><td>Queen of Katwe</td><td>2016-09-23</td><td>Drama</td><td>PG</td><td>8874389</td><td>8874389</td></tr><tr><td>Teacher&#39;s Pet: The Movie</td><td>2004-01-16</td><td>Comedy</td><td>PG</td><td>6491969</td><td>8812764</td></tr><tr><td>The Hoax</td><td>2007-04-06</td><td>Drama</td><td>R</td><td>7164995</td><td>8779196</td></tr><tr><td>Passed Away</td><td>1992-04-24</td><td>NULL</td><td>PG-13</td><td>4030793</td><td>8187848</td></tr><tr><td>A Beautiful Planet</td><td>2016-04-29</td><td>Documentary</td><td>G</td><td>7895708</td><td>7895708</td></tr><tr><td>Meet the Deedles</td><td>1998-03-27</td><td>Comedy</td><td>PG</td><td>4356126</td><td>7829877</td></tr><tr><td>Playing God</td><td>1997-10-17</td><td>Thriller/Suspense</td><td>R</td><td>4166918</td><td>7652965</td></tr><tr><td>Mumford</td><td>1999-09-24</td><td>Comedy</td><td>R</td><td>4559569</td><td>7566363</td></tr><tr><td>Bubble Boy</td><td>2001-08-24</td><td>Comedy</td><td>PG-13</td><td>5002310</td><td>7450434</td></tr><tr><td>Duets</td><td>2000-09-15</td><td>Drama</td><td>R</td><td>4734235</td><td>7404372</td></tr><tr><td>A Gun in Betty Lou&#39;s Handbag</td><td>1992-08-21</td><td>NULL</td><td>PG-13</td><td>3591460</td><td>7295423</td></tr><tr><td>Cabin Boy</td><td>1994-01-07</td><td>Comedy</td><td>PG-13</td><td>3469493</td><td>7168577</td></tr><tr><td>Just Visiting</td><td>2001-04-06</td><td>Comedy</td><td>PG-13</td><td>4777007</td><td>7114869</td></tr><tr><td>A Simple Twist of Fate</td><td>1994-09-02</td><td>Drama</td><td>PG-13</td><td>3404935</td><td>7035189</td></tr><tr><td>Squanto: A Warrior&#39;s Tale</td><td>1994-10-28</td><td>Drama</td><td>PG</td><td>3319344</td><td>6858345</td></tr><tr><td>Bad Company</td><td>1995-01-20</td><td>Thriller/Suspense</td><td>R</td><td>3523909</td><td>6829092</td></tr><tr><td>Father Hood</td><td>1993-08-27</td><td>NULL</td><td>PG-13</td><td>3268203</td><td>6654819</td></tr><tr><td>My Boyfriend&#39;s Back</td><td>1993-08-06</td><td>NULL</td><td>PG-13</td><td>3218882</td><td>6554384</td></tr><tr><td>Hauru no ugoku shiro</td><td>2005-06-10</td><td>Adventure</td><td>PG</td><td>4710455</td><td>6194870</td></tr><tr><td>ESPN&#39;s Ultimate X - The Movie</td><td>2002-05-10</td><td>Documentary</td><td>PG</td><td>4197175</td><td>6089874</td></tr><tr><td>Blame it on the Bellboy</td><td>1992-03-06</td><td>Comedy</td><td>PG-13</td><td>2891055</td><td>5872667</td></tr><tr><td>The Lookout</td><td>2007-03-30</td><td>Drama</td><td>R</td><td>4600585</td><td>5637048</td></tr><tr><td>Goal! The Dream Begins</td><td>2006-05-12</td><td>Drama</td><td>PG</td><td>4283255</td><td>5512647</td></tr><tr><td>Newsies</td><td>1992-04-08</td><td>NULL</td><td>PG</td><td>2706352</td><td>5497481</td></tr><tr><td>Kaze Tachinu</td><td>2013-11-08</td><td>Drama</td><td>PG-13</td><td>5201879</td><td>5367415</td></tr><tr><td>Red Rock West</td><td>1994-01-28</td><td>NULL</td><td>R</td><td>2502551</td><td>5170709</td></tr><tr><td>Jefferson in Paris</td><td>1995-03-31</td><td>Drama</td><td>PG-13</td><td>2461628</td><td>4770461</td></tr><tr><td>Noises Off...</td><td>1992-03-20</td><td>Comedy</td><td>PG-13</td><td>2280148</td><td>4631720</td></tr><tr><td>Cradle Will Rock</td><td>1999-12-08</td><td>Drama</td><td>R</td><td>2899970</td><td>4609153</td></tr><tr><td>Shadow Conspiracy</td><td>1997-01-31</td><td>Thriller/Suspense</td><td>R</td><td>2154540</td><td>3957025</td></tr><tr><td>The Fifth Estate</td><td>2013-10-18</td><td>Drama</td><td>R</td><td>3254172</td><td>3374251</td></tr><tr><td>Washington Square</td><td>1997-10-05</td><td>Drama</td><td>PG</td><td>1775644</td><td>3257546</td></tr><tr><td>Running Brave</td><td>1983-11-04</td><td>Drama</td><td>NULL</td><td>1204595</td><td>3223725</td></tr><tr><td>Gun Shy</td><td>2000-02-04</td><td>Comedy</td><td>R</td><td>1638202</td><td>2562155</td></tr><tr><td>Where the Heart Is</td><td>1990-02-23</td><td>Comedy</td><td>NULL</td><td>1106475</td><td>2210321</td></tr><tr><td>Veronica Guerin</td><td>2003-10-17</td><td>Drama</td><td>R</td><td>1569918</td><td>2194759</td></tr><tr><td>Money for Nothing</td><td>1993-09-10</td><td>Comedy</td><td>R</td><td>1044824</td><td>2127496</td></tr><tr><td>Two Much</td><td>1996-03-15</td><td>Romantic Comedy</td><td>PG-13</td><td>1078555</td><td>2057055</td></tr><tr><td>Un indien dans la ville</td><td>1996-03-22</td><td>Comedy</td><td>PG</td><td>1029731</td><td>1963937</td></tr><tr><td>X Games 3D: The Movie</td><td>2009-08-21</td><td>Documentary</td><td>PG</td><td>1391434</td><td>1563976</td></tr><tr><td>Holy Matrimony</td><td>1994-04-08</td><td>Comedy</td><td>NULL</td><td>713234</td><td>1473665</td></tr><tr><td>Firelight</td><td>1998-09-04</td><td>Drama</td><td>R</td><td>784419</td><td>1409943</td></tr><tr><td>Prefontaine</td><td>1997-01-24</td><td>Drama</td><td>PG-13</td><td>590817</td><td>1085093</td></tr><tr><td>Funny Bones</td><td>1995-03-31</td><td>Comedy</td><td>R</td><td>529135</td><td>1025425</td></tr><tr><td>A Pyromaniac&#39;s Love Story</td><td>1995-03-28</td><td>Romantic Comedy</td><td>PG</td><td>468240</td><td>907414</td></tr><tr><td>The Last Shot</td><td>2004-09-24</td><td>Comedy</td><td>R</td><td>463730</td><td>629502</td></tr><tr><td>Feast of July</td><td>1995-10-13</td><td>Drama</td><td>R</td><td>293274</td><td>568342</td></tr><tr><td>America&#39;s Heart and Soul</td><td>2004-07-02</td><td>Documentary</td><td>Not Rated</td><td>314000</td><td>426246</td></tr><tr><td>Endurance</td><td>1999-05-14</td><td>NULL</td><td>PG</td><td>229128</td><td>380218</td></tr><tr><td>High Heels and Low Lifes</td><td>2001-10-26</td><td>NULL</td><td>R</td><td>226792</td><td>337782</td></tr><tr><td>Morning Light</td><td>2008-10-17</td><td>Documentary</td><td>PG</td><td>275093</td><td>322979</td></tr><tr><td>Breakfast of Champions</td><td>1999-09-17</td><td>Comedy</td><td>R</td><td>178287</td><td>295851</td></tr><tr><td>Goal! 2: Living the Dream...</td><td>2008-08-29</td><td>Drama</td><td>PG-13</td><td>225067</td><td>264247</td></tr><tr><td>It&#39;s Pat</td><td>1994-08-26</td><td>Comedy</td><td>NULL</td><td>60822</td><td>125666</td></tr><tr><td>Waking Sleeping Beauty</td><td>2010-03-26</td><td>Documentary</td><td>PG</td><td>80741</td><td>86264</td></tr><tr><td>An Alan Smithee Film: Burn Hollywood …</td><td>1998-02-27</td><td>Comedy</td><td>R</td><td>45779</td><td>82277</td></tr><tr><td>The War at Home</td><td>1996-11-20</td><td>NULL</td><td>R</td><td>34368</td><td>65543</td></tr><tr><td>Gedo Senki (Tales from Earthsea)</td><td>2010-08-13</td><td>Adventure</td><td>PG-13</td><td>48658</td><td>51988</td></tr><tr><td>Walt and El Grupo</td><td>2009-09-10</td><td>Documentary</td><td>PG</td><td>20521</td><td>23064</td></tr><tr><td>Zokkomon</td><td>2011-04-22</td><td>Adventure</td><td>PG</td><td>2815</td><td>2984</td></tr><tr><td>Frank McKlusky C.I.</td><td>2002-01-01</td><td>NULL</td><td>NULL</td><td>0</td><td>0</td></tr><tr><td>Condorman</td><td>1981-08-07</td><td>Action</td><td>NULL</td><td>0</td><td>0</td></tr><tr><td>Amy</td><td>1981-03-20</td><td>Drama</td><td>NULL</td><td>0</td><td>0</td></tr><tr><td>The Many Adventures of Winnie the Pooh</td><td>1977-03-11</td><td>NULL</td><td>NULL</td><td>0</td><td>0</td></tr></table>"
                    },
                    "metadata": {}
                }
            ],
            "execution_count": 10
        },
        {
            "cell_type": "code",
            "source": [
                ""
            ],
            "metadata": {
                "language": "sql",
                "azdata_cell_guid": "216cfe9c-cf3d-4d51-8434-19761bac4eb0"
            },
            "outputs": [
                {
                    "output_type": "error",
                    "ename": "",
                    "evalue": "Msg 102, Level 15, State 1, Line 1\r\nIncorrect syntax near '='.",
                    "traceback": []
                },
                {
                    "output_type": "display_data",
                    "data": {
                        "text/html": "Total execution time: 00:00:00"
                    },
                    "metadata": {}
                }
            ],
            "execution_count": 38
        },
        {
            "cell_type": "code",
            "source": [
                "select * from movie_gross inner join director on movie_gross.movie_title = director.movie_title order by movie_gross.movie_title\r\n",
                ""
            ],
            "metadata": {
                "language": "sql",
                "azdata_cell_guid": "9a8c09df-136e-45a4-bcef-46cff311c565",
                "tags": []
            },
            "outputs": [
                {
                    "output_type": "display_data",
                    "data": {
                        "text/html": "(49 rows affected)"
                    },
                    "metadata": {}
                },
                {
                    "output_type": "display_data",
                    "data": {
                        "text/html": "Total execution time: 00:00:00.010"
                    },
                    "metadata": {}
                },
                {
                    "output_type": "execute_result",
                    "execution_count": 43,
                    "data": {
                        "application/vnd.dataresource+json": {
                            "schema": {
                                "fields": [
                                    {
                                        "name": "movie_title"
                                    },
                                    {
                                        "name": "release_date"
                                    },
                                    {
                                        "name": "genre"
                                    },
                                    {
                                        "name": "mpaa_rating"
                                    },
                                    {
                                        "name": "total_gross"
                                    },
                                    {
                                        "name": "inflation_adjusted_gross"
                                    },
                                    {
                                        "name": "movie_title"
                                    },
                                    {
                                        "name": "director"
                                    }
                                ]
                            },
                            "data": [
                                {
                                    "movie_title": "101 Dalmatians",
                                    "release_date": "1961-01-25",
                                    "genre": "Comedy",
                                    "mpaa_rating": "G",
                                    "total_gross": "153000000",
                                    "inflation_adjusted_gross": "1362870985",
                                    "director": "Wolfgang Reitherman"
                                },
                                {
                                    "movie_title": "101 Dalmatians",
                                    "release_date": "1996-11-27",
                                    "genre": "Comedy",
                                    "mpaa_rating": "G",
                                    "total_gross": "136189294",
                                    "inflation_adjusted_gross": "258728898",
                                    "director": "Wolfgang Reitherman"
                                },
                                {
                                    "movie_title": "Aladdin",
                                    "release_date": "1992-11-11",
                                    "genre": "Comedy",
                                    "mpaa_rating": "G",
                                    "total_gross": "217350219",
                                    "inflation_adjusted_gross": "441969178",
                                    "director": "Ron Clements"
                                },
                                {
                                    "movie_title": "Alice in Wonderland",
                                    "release_date": "2010-03-05",
                                    "genre": "Adventure",
                                    "mpaa_rating": "PG",
                                    "total_gross": "334191110",
                                    "inflation_adjusted_gross": "357063499",
                                    "director": "Clyde Geronimi"
                                },
                                {
                                    "movie_title": "Atlantis: The Lost Empire",
                                    "release_date": "2001-06-08",
                                    "genre": "Adventure",
                                    "mpaa_rating": "PG",
                                    "total_gross": "84052762",
                                    "inflation_adjusted_gross": "125188122",
                                    "director": "Gary Trousdale"
                                },
                                {
                                    "movie_title": "Beauty and the Beast",
                                    "release_date": "1991-11-13",
                                    "genre": "Musical",
                                    "mpaa_rating": "G",
                                    "total_gross": "218951625",
                                    "inflation_adjusted_gross": "363017667",
                                    "director": "Gary Trousdale"
                                },
                                {
                                    "movie_title": "Big Hero 6",
                                    "release_date": "2014-11-07",
                                    "genre": "Adventure",
                                    "mpaa_rating": "PG",
                                    "total_gross": "222527828",
                                    "inflation_adjusted_gross": "229249222",
                                    "director": "Don Hall"
                                },
                                {
                                    "movie_title": "Bolt",
                                    "release_date": "2008-11-21",
                                    "genre": "Comedy",
                                    "mpaa_rating": "PG",
                                    "total_gross": "114053759",
                                    "inflation_adjusted_gross": "133702498",
                                    "director": "Chris Williams"
                                },
                                {
                                    "movie_title": "Brother Bear",
                                    "release_date": "2003-10-24",
                                    "genre": "Adventure",
                                    "mpaa_rating": "G",
                                    "total_gross": "85336277",
                                    "inflation_adjusted_gross": "119218333",
                                    "director": "Robert Walker"
                                },
                                {
                                    "movie_title": "Chicken Little",
                                    "release_date": "2005-11-04",
                                    "genre": "Adventure",
                                    "mpaa_rating": "G",
                                    "total_gross": "135386665",
                                    "inflation_adjusted_gross": "177954661",
                                    "director": "Mark Dindal"
                                },
                                {
                                    "movie_title": "Cinderella",
                                    "release_date": "1950-02-15",
                                    "genre": "Drama",
                                    "mpaa_rating": "G",
                                    "total_gross": "85000000",
                                    "inflation_adjusted_gross": "920608730",
                                    "director": "Wilfred Jackson"
                                },
                                {
                                    "movie_title": "Cinderella",
                                    "release_date": "2015-03-13",
                                    "genre": "Drama",
                                    "mpaa_rating": "PG",
                                    "total_gross": "201151353",
                                    "inflation_adjusted_gross": "201151353",
                                    "director": "Wilfred Jackson"
                                },
                                {
                                    "movie_title": "Dinosaur",
                                    "release_date": "2000-05-19",
                                    "genre": "Adventure",
                                    "mpaa_rating": "PG",
                                    "total_gross": "137748063",
                                    "inflation_adjusted_gross": "215438985",
                                    "director": "Ralph Zondag"
                                },
                                {
                                    "movie_title": "Fantasia",
                                    "release_date": "1940-11-13",
                                    "genre": "Musical",
                                    "mpaa_rating": "G",
                                    "total_gross": "83320000",
                                    "inflation_adjusted_gross": "2187090808",
                                    "director": "full credits"
                                },
                                {
                                    "movie_title": "Frozen",
                                    "release_date": "2013-11-22",
                                    "genre": "Adventure",
                                    "mpaa_rating": "PG",
                                    "total_gross": "400738009",
                                    "inflation_adjusted_gross": "414997174",
                                    "director": "Chris Buck"
                                },
                                {
                                    "movie_title": "Hercules",
                                    "release_date": "1997-06-13",
                                    "genre": "Adventure",
                                    "mpaa_rating": "G",
                                    "total_gross": "99112101",
                                    "inflation_adjusted_gross": "182029412",
                                    "director": "Ron Clements"
                                },
                                {
                                    "movie_title": "Home on the Range",
                                    "release_date": "2004-04-02",
                                    "genre": "Comedy",
                                    "mpaa_rating": "PG",
                                    "total_gross": "50026353",
                                    "inflation_adjusted_gross": "67910166",
                                    "director": "Will Finn"
                                },
                                {
                                    "movie_title": "Lady and the Tramp",
                                    "release_date": "1955-06-22",
                                    "genre": "Drama",
                                    "mpaa_rating": "G",
                                    "total_gross": "93600000",
                                    "inflation_adjusted_gross": "1236035515",
                                    "director": "Hamilton Luske"
                                },
                                {
                                    "movie_title": "Lilo & Stitch",
                                    "release_date": "2002-06-21",
                                    "genre": "Adventure",
                                    "mpaa_rating": "PG",
                                    "total_gross": "145771527",
                                    "inflation_adjusted_gross": "211506702",
                                    "director": "Chris Sanders"
                                },
                                {
                                    "movie_title": "Meet the Robinsons",
                                    "release_date": "2007-03-30",
                                    "genre": "Adventure",
                                    "mpaa_rating": "G",
                                    "total_gross": "97822171",
                                    "inflation_adjusted_gross": "119860589",
                                    "director": "Stephen J. Anderson"
                                },
                                {
                                    "movie_title": "Moana",
                                    "release_date": "2016-11-23",
                                    "genre": "Adventure",
                                    "mpaa_rating": "PG",
                                    "total_gross": "246082029",
                                    "inflation_adjusted_gross": "246082029",
                                    "director": "Ron Clements"
                                },
                                {
                                    "movie_title": "Mulan",
                                    "release_date": "1998-06-19",
                                    "genre": "Adventure",
                                    "mpaa_rating": "G",
                                    "total_gross": "120620254",
                                    "inflation_adjusted_gross": "216807832",
                                    "director": "Barry Cook"
                                },
                                {
                                    "movie_title": "Oliver & Company",
                                    "release_date": "1988-11-18",
                                    "genre": "Adventure",
                                    "mpaa_rating": "G",
                                    "total_gross": "49576671",
                                    "inflation_adjusted_gross": "102254492",
                                    "director": "George Scribner"
                                },
                                {
                                    "movie_title": "Pinocchio",
                                    "release_date": "1940-02-09",
                                    "genre": "Adventure",
                                    "mpaa_rating": "G",
                                    "total_gross": "84300000",
                                    "inflation_adjusted_gross": "2188229052",
                                    "director": "Ben Sharpsteen"
                                },
                                {
                                    "movie_title": "Pocahontas",
                                    "release_date": "1995-06-10",
                                    "genre": "Adventure",
                                    "mpaa_rating": "G",
                                    "total_gross": "141579773",
                                    "inflation_adjusted_gross": "274370957",
                                    "director": "Mike Gabriel"
                                },
                                {
                                    "movie_title": "Sleeping Beauty",
                                    "release_date": "1959-01-29",
                                    "genre": "Drama",
                                    "mpaa_rating": "NULL",
                                    "total_gross": "9464608",
                                    "inflation_adjusted_gross": "21505832",
                                    "director": "Clyde Geronimi"
                                },
                                {
                                    "movie_title": "Snow White and the Seven Dwarfs",
                                    "release_date": "1937-12-21",
                                    "genre": "Musical",
                                    "mpaa_rating": "G",
                                    "total_gross": "184925485",
                                    "inflation_adjusted_gross": "5228953251",
                                    "director": "David Hand"
                                },
                                {
                                    "movie_title": "Tangled",
                                    "release_date": "2010-11-24",
                                    "genre": "Adventure",
                                    "mpaa_rating": "PG",
                                    "total_gross": "200821936",
                                    "inflation_adjusted_gross": "214388548",
                                    "director": "Nathan Greno"
                                },
                                {
                                    "movie_title": "Tarzan",
                                    "release_date": "1999-06-16",
                                    "genre": "Adventure",
                                    "mpaa_rating": "G",
                                    "total_gross": "171091819",
                                    "inflation_adjusted_gross": "283900254",
                                    "director": "Chris Buck"
                                },
                                {
                                    "movie_title": "The Aristocats",
                                    "release_date": "1970-04-24",
                                    "genre": "Musical",
                                    "mpaa_rating": "G",
                                    "total_gross": "55675257",
                                    "inflation_adjusted_gross": "255161499",
                                    "director": "Wolfgang Reitherman"
                                },
                                {
                                    "movie_title": "The Black Cauldron",
                                    "release_date": "1985-07-24",
                                    "genre": "Adventure",
                                    "mpaa_rating": "NULL",
                                    "total_gross": "21288692",
                                    "inflation_adjusted_gross": "50553142",
                                    "director": "Ted Berman"
                                },
                                {
                                    "movie_title": "The Emperor's New Groove",
                                    "release_date": "2000-12-15",
                                    "genre": "Adventure",
                                    "mpaa_rating": "G",
                                    "total_gross": "89296573",
                                    "inflation_adjusted_gross": "136789252",
                                    "director": "Mark Dindal"
                                },
                                {
                                    "movie_title": "The Fox and the Hound",
                                    "release_date": "1981-07-10",
                                    "genre": "Comedy",
                                    "mpaa_rating": "NULL",
                                    "total_gross": "43899231",
                                    "inflation_adjusted_gross": "133118889",
                                    "director": "Art Stevens"
                                },
                                {
                                    "movie_title": "The Great Mouse Detective",
                                    "release_date": "1986-07-02",
                                    "genre": "Adventure",
                                    "mpaa_rating": "NULL",
                                    "total_gross": "23605534",
                                    "inflation_adjusted_gross": "53637367",
                                    "director": "Ron Clements"
                                },
                                {
                                    "movie_title": "The Hunchback of Notre Dame",
                                    "release_date": "1996-06-21",
                                    "genre": "Adventure",
                                    "mpaa_rating": "G",
                                    "total_gross": "100138851",
                                    "inflation_adjusted_gross": "190988799",
                                    "director": "Gary Trousdale"
                                },
                                {
                                    "movie_title": "The Jungle Book",
                                    "release_date": "1967-10-18",
                                    "genre": "Musical",
                                    "mpaa_rating": "Not Rated",
                                    "total_gross": "141843000",
                                    "inflation_adjusted_gross": "789612346",
                                    "director": "Wolfgang Reitherman"
                                },
                                {
                                    "movie_title": "The Jungle Book",
                                    "release_date": "1994-12-25",
                                    "genre": "Adventure",
                                    "mpaa_rating": "PG",
                                    "total_gross": "44342956",
                                    "inflation_adjusted_gross": "88930321",
                                    "director": "Wolfgang Reitherman"
                                },
                                {
                                    "movie_title": "The Jungle Book",
                                    "release_date": "2016-04-15",
                                    "genre": "Adventure",
                                    "mpaa_rating": "PG",
                                    "total_gross": "364001123",
                                    "inflation_adjusted_gross": "364001123",
                                    "director": "Wolfgang Reitherman"
                                },
                                {
                                    "movie_title": "The Lion King",
                                    "release_date": "1994-06-15",
                                    "genre": "Adventure",
                                    "mpaa_rating": "G",
                                    "total_gross": "422780140",
                                    "inflation_adjusted_gross": "761640898",
                                    "director": "Roger Allers"
                                },
                                {
                                    "movie_title": "The Little Mermaid",
                                    "release_date": "1989-11-15",
                                    "genre": "Adventure",
                                    "mpaa_rating": "G",
                                    "total_gross": "111543479",
                                    "inflation_adjusted_gross": "223726012",
                                    "director": "Ron Clements"
                                },
                                {
                                    "movie_title": "The Many Adventures of Winnie the Pooh",
                                    "release_date": "1977-03-11",
                                    "genre": "NULL",
                                    "mpaa_rating": "NULL",
                                    "total_gross": "0",
                                    "inflation_adjusted_gross": "0",
                                    "director": "Wolfgang Reitherman"
                                },
                                {
                                    "movie_title": "The Princess and the Frog",
                                    "release_date": "2009-11-25",
                                    "genre": "Adventure",
                                    "mpaa_rating": "G",
                                    "total_gross": "104400899",
                                    "inflation_adjusted_gross": "116316457",
                                    "director": "Ron Clements"
                                },
                                {
                                    "movie_title": "The Rescuers",
                                    "release_date": "1977-06-22",
                                    "genre": "Adventure",
                                    "mpaa_rating": "NULL",
                                    "total_gross": "48775599",
                                    "inflation_adjusted_gross": "159743914",
                                    "director": "Wolfgang Reitherman"
                                },
                                {
                                    "movie_title": "The Rescuers Down Under",
                                    "release_date": "1990-11-16",
                                    "genre": "Adventure",
                                    "mpaa_rating": "G",
                                    "total_gross": "27931461",
                                    "inflation_adjusted_gross": "55796728",
                                    "director": "Mike Gabriel"
                                },
                                {
                                    "movie_title": "The Sword in the Stone",
                                    "release_date": "1963-12-25",
                                    "genre": "Adventure",
                                    "mpaa_rating": "NULL",
                                    "total_gross": "22182353",
                                    "inflation_adjusted_gross": "153870834",
                                    "director": "Wolfgang Reitherman"
                                },
                                {
                                    "movie_title": "Treasure Planet",
                                    "release_date": "2002-11-27",
                                    "genre": "Adventure",
                                    "mpaa_rating": "PG",
                                    "total_gross": "38120554",
                                    "inflation_adjusted_gross": "55189145",
                                    "director": "Ron Clements"
                                },
                                {
                                    "movie_title": "Winnie the Pooh",
                                    "release_date": "2011-07-15",
                                    "genre": "Adventure",
                                    "mpaa_rating": "G",
                                    "total_gross": "26692846",
                                    "inflation_adjusted_gross": "28375869",
                                    "director": "Stephen J. Anderson"
                                },
                                {
                                    "movie_title": "Wreck-It Ralph",
                                    "release_date": "2012-11-02",
                                    "genre": "Adventure",
                                    "mpaa_rating": "PG",
                                    "total_gross": "189412677",
                                    "inflation_adjusted_gross": "200354959",
                                    "director": "Rich Moore"
                                },
                                {
                                    "movie_title": "Zootopia",
                                    "release_date": "2016-03-04",
                                    "genre": "Adventure",
                                    "mpaa_rating": "PG",
                                    "total_gross": "341268248",
                                    "inflation_adjusted_gross": "341268248",
                                    "director": "Byron Howard"
                                }
                            ]
                        },
                        "text/html": "<table><tr><th>movie_title</th><th>release_date</th><th>genre</th><th>mpaa_rating</th><th>total_gross</th><th>inflation_adjusted_gross</th><th>movie_title</th><th>director</th></tr><tr><td>101 Dalmatians</td><td>1961-01-25</td><td>Comedy</td><td>G</td><td>153000000</td><td>1362870985</td><td>101 Dalmatians</td><td>Wolfgang Reitherman</td></tr><tr><td>101 Dalmatians</td><td>1996-11-27</td><td>Comedy</td><td>G</td><td>136189294</td><td>258728898</td><td>101 Dalmatians</td><td>Wolfgang Reitherman</td></tr><tr><td>Aladdin</td><td>1992-11-11</td><td>Comedy</td><td>G</td><td>217350219</td><td>441969178</td><td>Aladdin</td><td>Ron Clements</td></tr><tr><td>Alice in Wonderland</td><td>2010-03-05</td><td>Adventure</td><td>PG</td><td>334191110</td><td>357063499</td><td>Alice in Wonderland</td><td>Clyde Geronimi</td></tr><tr><td>Atlantis: The Lost Empire</td><td>2001-06-08</td><td>Adventure</td><td>PG</td><td>84052762</td><td>125188122</td><td>Atlantis: The Lost Empire</td><td>Gary Trousdale</td></tr><tr><td>Beauty and the Beast</td><td>1991-11-13</td><td>Musical</td><td>G</td><td>218951625</td><td>363017667</td><td>Beauty and the Beast</td><td>Gary Trousdale</td></tr><tr><td>Big Hero 6</td><td>2014-11-07</td><td>Adventure</td><td>PG</td><td>222527828</td><td>229249222</td><td>Big Hero 6</td><td>Don Hall</td></tr><tr><td>Bolt</td><td>2008-11-21</td><td>Comedy</td><td>PG</td><td>114053759</td><td>133702498</td><td>Bolt</td><td>Chris Williams</td></tr><tr><td>Brother Bear</td><td>2003-10-24</td><td>Adventure</td><td>G</td><td>85336277</td><td>119218333</td><td>Brother Bear</td><td>Robert Walker</td></tr><tr><td>Chicken Little</td><td>2005-11-04</td><td>Adventure</td><td>G</td><td>135386665</td><td>177954661</td><td>Chicken Little</td><td>Mark Dindal</td></tr><tr><td>Cinderella</td><td>1950-02-15</td><td>Drama</td><td>G</td><td>85000000</td><td>920608730</td><td>Cinderella</td><td>Wilfred Jackson</td></tr><tr><td>Cinderella</td><td>2015-03-13</td><td>Drama</td><td>PG</td><td>201151353</td><td>201151353</td><td>Cinderella</td><td>Wilfred Jackson</td></tr><tr><td>Dinosaur</td><td>2000-05-19</td><td>Adventure</td><td>PG</td><td>137748063</td><td>215438985</td><td>Dinosaur</td><td>Ralph Zondag</td></tr><tr><td>Fantasia</td><td>1940-11-13</td><td>Musical</td><td>G</td><td>83320000</td><td>2187090808</td><td>Fantasia</td><td>full credits</td></tr><tr><td>Frozen</td><td>2013-11-22</td><td>Adventure</td><td>PG</td><td>400738009</td><td>414997174</td><td>Frozen</td><td>Chris Buck</td></tr><tr><td>Hercules</td><td>1997-06-13</td><td>Adventure</td><td>G</td><td>99112101</td><td>182029412</td><td>Hercules</td><td>Ron Clements</td></tr><tr><td>Home on the Range</td><td>2004-04-02</td><td>Comedy</td><td>PG</td><td>50026353</td><td>67910166</td><td>Home on the Range</td><td>Will Finn</td></tr><tr><td>Lady and the Tramp</td><td>1955-06-22</td><td>Drama</td><td>G</td><td>93600000</td><td>1236035515</td><td>Lady and the Tramp</td><td>Hamilton Luske</td></tr><tr><td>Lilo &amp; Stitch</td><td>2002-06-21</td><td>Adventure</td><td>PG</td><td>145771527</td><td>211506702</td><td>Lilo &amp; Stitch</td><td>Chris Sanders</td></tr><tr><td>Meet the Robinsons</td><td>2007-03-30</td><td>Adventure</td><td>G</td><td>97822171</td><td>119860589</td><td>Meet the Robinsons</td><td>Stephen J. Anderson</td></tr><tr><td>Moana</td><td>2016-11-23</td><td>Adventure</td><td>PG</td><td>246082029</td><td>246082029</td><td>Moana</td><td>Ron Clements</td></tr><tr><td>Mulan</td><td>1998-06-19</td><td>Adventure</td><td>G</td><td>120620254</td><td>216807832</td><td>Mulan</td><td>Barry Cook</td></tr><tr><td>Oliver &amp; Company</td><td>1988-11-18</td><td>Adventure</td><td>G</td><td>49576671</td><td>102254492</td><td>Oliver &amp; Company</td><td>George Scribner</td></tr><tr><td>Pinocchio</td><td>1940-02-09</td><td>Adventure</td><td>G</td><td>84300000</td><td>2188229052</td><td>Pinocchio</td><td>Ben Sharpsteen</td></tr><tr><td>Pocahontas</td><td>1995-06-10</td><td>Adventure</td><td>G</td><td>141579773</td><td>274370957</td><td>Pocahontas</td><td>Mike Gabriel</td></tr><tr><td>Sleeping Beauty</td><td>1959-01-29</td><td>Drama</td><td>NULL</td><td>9464608</td><td>21505832</td><td>Sleeping Beauty</td><td>Clyde Geronimi</td></tr><tr><td>Snow White and the Seven Dwarfs</td><td>1937-12-21</td><td>Musical</td><td>G</td><td>184925485</td><td>5228953251</td><td>Snow White and the Seven Dwarfs</td><td>David Hand</td></tr><tr><td>Tangled</td><td>2010-11-24</td><td>Adventure</td><td>PG</td><td>200821936</td><td>214388548</td><td>Tangled</td><td>Nathan Greno</td></tr><tr><td>Tarzan</td><td>1999-06-16</td><td>Adventure</td><td>G</td><td>171091819</td><td>283900254</td><td>Tarzan</td><td>Chris Buck</td></tr><tr><td>The Aristocats</td><td>1970-04-24</td><td>Musical</td><td>G</td><td>55675257</td><td>255161499</td><td>The Aristocats</td><td>Wolfgang Reitherman</td></tr><tr><td>The Black Cauldron</td><td>1985-07-24</td><td>Adventure</td><td>NULL</td><td>21288692</td><td>50553142</td><td>The Black Cauldron</td><td>Ted Berman</td></tr><tr><td>The Emperor&#39;s New Groove</td><td>2000-12-15</td><td>Adventure</td><td>G</td><td>89296573</td><td>136789252</td><td>The Emperor&#39;s New Groove</td><td>Mark Dindal</td></tr><tr><td>The Fox and the Hound</td><td>1981-07-10</td><td>Comedy</td><td>NULL</td><td>43899231</td><td>133118889</td><td>The Fox and the Hound</td><td>Art Stevens</td></tr><tr><td>The Great Mouse Detective</td><td>1986-07-02</td><td>Adventure</td><td>NULL</td><td>23605534</td><td>53637367</td><td>The Great Mouse Detective</td><td>Ron Clements</td></tr><tr><td>The Hunchback of Notre Dame</td><td>1996-06-21</td><td>Adventure</td><td>G</td><td>100138851</td><td>190988799</td><td>The Hunchback of Notre Dame</td><td>Gary Trousdale</td></tr><tr><td>The Jungle Book</td><td>1967-10-18</td><td>Musical</td><td>Not Rated</td><td>141843000</td><td>789612346</td><td>The Jungle Book</td><td>Wolfgang Reitherman</td></tr><tr><td>The Jungle Book</td><td>1994-12-25</td><td>Adventure</td><td>PG</td><td>44342956</td><td>88930321</td><td>The Jungle Book</td><td>Wolfgang Reitherman</td></tr><tr><td>The Jungle Book</td><td>2016-04-15</td><td>Adventure</td><td>PG</td><td>364001123</td><td>364001123</td><td>The Jungle Book</td><td>Wolfgang Reitherman</td></tr><tr><td>The Lion King</td><td>1994-06-15</td><td>Adventure</td><td>G</td><td>422780140</td><td>761640898</td><td>The Lion King</td><td>Roger Allers</td></tr><tr><td>The Little Mermaid</td><td>1989-11-15</td><td>Adventure</td><td>G</td><td>111543479</td><td>223726012</td><td>The Little Mermaid</td><td>Ron Clements</td></tr><tr><td>The Many Adventures of Winnie the Pooh</td><td>1977-03-11</td><td>NULL</td><td>NULL</td><td>0</td><td>0</td><td>The Many Adventures of Winnie the Pooh</td><td>Wolfgang Reitherman</td></tr><tr><td>The Princess and the Frog</td><td>2009-11-25</td><td>Adventure</td><td>G</td><td>104400899</td><td>116316457</td><td>The Princess and the Frog</td><td>Ron Clements</td></tr><tr><td>The Rescuers</td><td>1977-06-22</td><td>Adventure</td><td>NULL</td><td>48775599</td><td>159743914</td><td>The Rescuers</td><td>Wolfgang Reitherman</td></tr><tr><td>The Rescuers Down Under</td><td>1990-11-16</td><td>Adventure</td><td>G</td><td>27931461</td><td>55796728</td><td>The Rescuers Down Under</td><td>Mike Gabriel</td></tr><tr><td>The Sword in the Stone</td><td>1963-12-25</td><td>Adventure</td><td>NULL</td><td>22182353</td><td>153870834</td><td>The Sword in the Stone</td><td>Wolfgang Reitherman</td></tr><tr><td>Treasure Planet</td><td>2002-11-27</td><td>Adventure</td><td>PG</td><td>38120554</td><td>55189145</td><td>Treasure Planet</td><td>Ron Clements</td></tr><tr><td>Winnie the Pooh</td><td>2011-07-15</td><td>Adventure</td><td>G</td><td>26692846</td><td>28375869</td><td>Winnie the Pooh</td><td>Stephen J. Anderson</td></tr><tr><td>Wreck-It Ralph</td><td>2012-11-02</td><td>Adventure</td><td>PG</td><td>189412677</td><td>200354959</td><td>Wreck-It Ralph</td><td>Rich Moore</td></tr><tr><td>Zootopia</td><td>2016-03-04</td><td>Adventure</td><td>PG</td><td>341268248</td><td>341268248</td><td>Zootopia</td><td>Byron Howard</td></tr></table>"
                    },
                    "metadata": {}
                }
            ],
            "execution_count": 43
        },
        {
            "cell_type": "code",
            "source": [
                ""
            ],
            "metadata": {
                "azdata_cell_guid": "749bfb22-0656-4f6a-9566-1daf1419bb24",
                "language": "sql"
            },
            "outputs": [],
            "execution_count": null
        },
        {
            "cell_type": "code",
            "source": [
                "select * from movie_gross inner join director on movie_gross.movie_title = director.movie_title \r\n",
                "order by inflation_adjusted_gross desc\r\n",
                "offset 10 row fetch next 10 row only\r\n",
                "-- เอาตั้งแต่อันดับเท่าไร กี่แถวกี่โรพ"
            ],
            "metadata": {
                "azdata_cell_guid": "1347e3d3-3fa7-47e5-a9b0-2b8efc0ddb4a",
                "language": "sql"
            },
            "outputs": [
                {
                    "output_type": "display_data",
                    "data": {
                        "text/html": "(10 rows affected)"
                    },
                    "metadata": {}
                },
                {
                    "output_type": "display_data",
                    "data": {
                        "text/html": "Total execution time: 00:00:00.012"
                    },
                    "metadata": {}
                },
                {
                    "output_type": "execute_result",
                    "metadata": {},
                    "execution_count": 1,
                    "data": {
                        "application/vnd.dataresource+json": {
                            "schema": {
                                "fields": [
                                    {
                                        "name": "movie_title"
                                    },
                                    {
                                        "name": "release_date"
                                    },
                                    {
                                        "name": "genre"
                                    },
                                    {
                                        "name": "mpaa_rating"
                                    },
                                    {
                                        "name": "total_gross"
                                    },
                                    {
                                        "name": "inflation_adjusted_gross"
                                    },
                                    {
                                        "name": "movie_title"
                                    },
                                    {
                                        "name": "director"
                                    }
                                ]
                            },
                            "data": [
                                {
                                    "movie_title": "The Jungle Book",
                                    "release_date": "2016-04-15",
                                    "genre": "Adventure",
                                    "mpaa_rating": "PG",
                                    "total_gross": "364001123",
                                    "inflation_adjusted_gross": "364001123",
                                    "director": "Wolfgang Reitherman"
                                },
                                {
                                    "movie_title": "Beauty and the Beast",
                                    "release_date": "1991-11-13",
                                    "genre": "Musical",
                                    "mpaa_rating": "G",
                                    "total_gross": "218951625",
                                    "inflation_adjusted_gross": "363017667",
                                    "director": "Gary Trousdale"
                                },
                                {
                                    "movie_title": "Alice in Wonderland",
                                    "release_date": "2010-03-05",
                                    "genre": "Adventure",
                                    "mpaa_rating": "PG",
                                    "total_gross": "334191110",
                                    "inflation_adjusted_gross": "357063499",
                                    "director": "Clyde Geronimi"
                                },
                                {
                                    "movie_title": "Zootopia",
                                    "release_date": "2016-03-04",
                                    "genre": "Adventure",
                                    "mpaa_rating": "PG",
                                    "total_gross": "341268248",
                                    "inflation_adjusted_gross": "341268248",
                                    "director": "Byron Howard"
                                },
                                {
                                    "movie_title": "Tarzan",
                                    "release_date": "1999-06-16",
                                    "genre": "Adventure",
                                    "mpaa_rating": "G",
                                    "total_gross": "171091819",
                                    "inflation_adjusted_gross": "283900254",
                                    "director": "Chris Buck"
                                },
                                {
                                    "movie_title": "Pocahontas",
                                    "release_date": "1995-06-10",
                                    "genre": "Adventure",
                                    "mpaa_rating": "G",
                                    "total_gross": "141579773",
                                    "inflation_adjusted_gross": "274370957",
                                    "director": "Mike Gabriel"
                                },
                                {
                                    "movie_title": "101 Dalmatians",
                                    "release_date": "1996-11-27",
                                    "genre": "Comedy",
                                    "mpaa_rating": "G",
                                    "total_gross": "136189294",
                                    "inflation_adjusted_gross": "258728898",
                                    "director": "Wolfgang Reitherman"
                                },
                                {
                                    "movie_title": "The Aristocats",
                                    "release_date": "1970-04-24",
                                    "genre": "Musical",
                                    "mpaa_rating": "G",
                                    "total_gross": "55675257",
                                    "inflation_adjusted_gross": "255161499",
                                    "director": "Wolfgang Reitherman"
                                },
                                {
                                    "movie_title": "Moana",
                                    "release_date": "2016-11-23",
                                    "genre": "Adventure",
                                    "mpaa_rating": "PG",
                                    "total_gross": "246082029",
                                    "inflation_adjusted_gross": "246082029",
                                    "director": "Ron Clements"
                                },
                                {
                                    "movie_title": "Big Hero 6",
                                    "release_date": "2014-11-07",
                                    "genre": "Adventure",
                                    "mpaa_rating": "PG",
                                    "total_gross": "222527828",
                                    "inflation_adjusted_gross": "229249222",
                                    "director": "Don Hall"
                                }
                            ]
                        },
                        "text/html": [
                            "<table>",
                            "<tr><th>movie_title</th><th>release_date</th><th>genre</th><th>mpaa_rating</th><th>total_gross</th><th>inflation_adjusted_gross</th><th>movie_title</th><th>director</th></tr>",
                            "<tr><td>The Jungle Book</td><td>2016-04-15</td><td>Adventure</td><td>PG</td><td>364001123</td><td>364001123</td><td>The Jungle Book</td><td>Wolfgang Reitherman</td></tr>",
                            "<tr><td>Beauty and the Beast</td><td>1991-11-13</td><td>Musical</td><td>G</td><td>218951625</td><td>363017667</td><td>Beauty and the Beast</td><td>Gary Trousdale</td></tr>",
                            "<tr><td>Alice in Wonderland</td><td>2010-03-05</td><td>Adventure</td><td>PG</td><td>334191110</td><td>357063499</td><td>Alice in Wonderland</td><td>Clyde Geronimi</td></tr>",
                            "<tr><td>Zootopia</td><td>2016-03-04</td><td>Adventure</td><td>PG</td><td>341268248</td><td>341268248</td><td>Zootopia</td><td>Byron Howard</td></tr>",
                            "<tr><td>Tarzan</td><td>1999-06-16</td><td>Adventure</td><td>G</td><td>171091819</td><td>283900254</td><td>Tarzan</td><td>Chris Buck</td></tr>",
                            "<tr><td>Pocahontas</td><td>1995-06-10</td><td>Adventure</td><td>G</td><td>141579773</td><td>274370957</td><td>Pocahontas</td><td>Mike Gabriel</td></tr>",
                            "<tr><td>101 Dalmatians</td><td>1996-11-27</td><td>Comedy</td><td>G</td><td>136189294</td><td>258728898</td><td>101 Dalmatians</td><td>Wolfgang Reitherman</td></tr>",
                            "<tr><td>The Aristocats</td><td>1970-04-24</td><td>Musical</td><td>G</td><td>55675257</td><td>255161499</td><td>The Aristocats</td><td>Wolfgang Reitherman</td></tr>",
                            "<tr><td>Moana</td><td>2016-11-23</td><td>Adventure</td><td>PG</td><td>246082029</td><td>246082029</td><td>Moana</td><td>Ron Clements</td></tr>",
                            "<tr><td>Big Hero 6</td><td>2014-11-07</td><td>Adventure</td><td>PG</td><td>222527828</td><td>229249222</td><td>Big Hero 6</td><td>Don Hall</td></tr>",
                            "</table>"
                        ]
                    }
                }
            ],
            "execution_count": 1
        },
        {
            "cell_type": "code",
            "source": [
                "select * from movie_gross \r\n",
                "order by inflation_adjusted_gross desc\r\n",
                "offset 10 row fetch next 10 row only\r\n",
                ""
            ],
            "metadata": {
                "language": "sql",
                "azdata_cell_guid": "5f9aea8f-c1ab-4481-9eb7-1baa2bda1ed0"
            },
            "outputs": [
                {
                    "output_type": "display_data",
                    "data": {
                        "text/html": "(10 rows affected)"
                    },
                    "metadata": {}
                },
                {
                    "output_type": "display_data",
                    "data": {
                        "text/html": "Total execution time: 00:00:00.004"
                    },
                    "metadata": {}
                },
                {
                    "output_type": "execute_result",
                    "execution_count": 25,
                    "data": {
                        "application/vnd.dataresource+json": {
                            "schema": {
                                "fields": [
                                    {
                                        "name": "movie_title"
                                    },
                                    {
                                        "name": "release_date"
                                    },
                                    {
                                        "name": "genre"
                                    },
                                    {
                                        "name": "mpaa_rating"
                                    },
                                    {
                                        "name": "total_gross"
                                    },
                                    {
                                        "name": "inflation_adjusted_gross"
                                    }
                                ]
                            },
                            "data": [
                                {
                                    "movie_title": "The Avengers",
                                    "release_date": "2012-05-04",
                                    "genre": "Action",
                                    "mpaa_rating": "PG-13",
                                    "total_gross": "623279547",
                                    "inflation_adjusted_gross": "660081224"
                                },
                                {
                                    "movie_title": "Pirates of the Caribbean: Dead Man’…",
                                    "release_date": "2006-07-07",
                                    "genre": "Adventure",
                                    "mpaa_rating": "PG-13",
                                    "total_gross": "423315812",
                                    "inflation_adjusted_gross": "544817142"
                                },
                                {
                                    "movie_title": "Rogue One: A Star Wars Story",
                                    "release_date": "2016-12-16",
                                    "genre": "Adventure",
                                    "mpaa_rating": "PG-13",
                                    "total_gross": "529483936",
                                    "inflation_adjusted_gross": "529483936"
                                },
                                {
                                    "movie_title": "20,000 Leagues Under the Sea",
                                    "release_date": "1954-12-23",
                                    "genre": "Adventure",
                                    "mpaa_rating": "NULL",
                                    "total_gross": "28200000",
                                    "inflation_adjusted_gross": "528279994"
                                },
                                {
                                    "movie_title": "Finding Nemo",
                                    "release_date": "2003-05-30",
                                    "genre": "Adventure",
                                    "mpaa_rating": "G",
                                    "total_gross": "380529370",
                                    "inflation_adjusted_gross": "518148559"
                                },
                                {
                                    "movie_title": "Finding Dory",
                                    "release_date": "2016-06-17",
                                    "genre": "Adventure",
                                    "mpaa_rating": "PG",
                                    "total_gross": "486295561",
                                    "inflation_adjusted_gross": "486295561"
                                },
                                {
                                    "movie_title": "The Sixth Sense",
                                    "release_date": "1999-08-06",
                                    "genre": "Thriller/Suspense",
                                    "mpaa_rating": "PG-13",
                                    "total_gross": "293506292",
                                    "inflation_adjusted_gross": "485424724"
                                },
                                {
                                    "movie_title": "Avengers: Age of Ultron",
                                    "release_date": "2015-05-01",
                                    "genre": "Action",
                                    "mpaa_rating": "PG-13",
                                    "total_gross": "459005868",
                                    "inflation_adjusted_gross": "459005868"
                                },
                                {
                                    "movie_title": "Toy Story 3",
                                    "release_date": "2010-06-18",
                                    "genre": "Adventure",
                                    "mpaa_rating": "G",
                                    "total_gross": "415004880",
                                    "inflation_adjusted_gross": "443408255"
                                },
                                {
                                    "movie_title": "Aladdin",
                                    "release_date": "1992-11-11",
                                    "genre": "Comedy",
                                    "mpaa_rating": "G",
                                    "total_gross": "217350219",
                                    "inflation_adjusted_gross": "441969178"
                                }
                            ]
                        },
                        "text/html": "<table><tr><th>movie_title</th><th>release_date</th><th>genre</th><th>mpaa_rating</th><th>total_gross</th><th>inflation_adjusted_gross</th></tr><tr><td>The Avengers</td><td>2012-05-04</td><td>Action</td><td>PG-13</td><td>623279547</td><td>660081224</td></tr><tr><td>Pirates of the Caribbean: Dead Man’…</td><td>2006-07-07</td><td>Adventure</td><td>PG-13</td><td>423315812</td><td>544817142</td></tr><tr><td>Rogue One: A Star Wars Story</td><td>2016-12-16</td><td>Adventure</td><td>PG-13</td><td>529483936</td><td>529483936</td></tr><tr><td>20,000 Leagues Under the Sea</td><td>1954-12-23</td><td>Adventure</td><td>NULL</td><td>28200000</td><td>528279994</td></tr><tr><td>Finding Nemo</td><td>2003-05-30</td><td>Adventure</td><td>G</td><td>380529370</td><td>518148559</td></tr><tr><td>Finding Dory</td><td>2016-06-17</td><td>Adventure</td><td>PG</td><td>486295561</td><td>486295561</td></tr><tr><td>The Sixth Sense</td><td>1999-08-06</td><td>Thriller/Suspense</td><td>PG-13</td><td>293506292</td><td>485424724</td></tr><tr><td>Avengers: Age of Ultron</td><td>2015-05-01</td><td>Action</td><td>PG-13</td><td>459005868</td><td>459005868</td></tr><tr><td>Toy Story 3</td><td>2010-06-18</td><td>Adventure</td><td>G</td><td>415004880</td><td>443408255</td></tr><tr><td>Aladdin</td><td>1992-11-11</td><td>Comedy</td><td>G</td><td>217350219</td><td>441969178</td></tr></table>"
                    },
                    "metadata": {}
                }
            ],
            "execution_count": 25
        },
        {
            "cell_type": "code",
            "source": [
                "select * from director where movie_title like 'The%'"
            ],
            "metadata": {
                "azdata_cell_guid": "509a9349-0afc-4244-8583-b3623ecb797d",
                "language": "sql"
            },
            "outputs": [
                {
                    "output_type": "display_data",
                    "data": {
                        "text/html": "(16 rows affected)"
                    },
                    "metadata": {}
                },
                {
                    "output_type": "display_data",
                    "data": {
                        "text/html": "Total execution time: 00:00:00.007"
                    },
                    "metadata": {}
                },
                {
                    "output_type": "execute_result",
                    "execution_count": 44,
                    "data": {
                        "application/vnd.dataresource+json": {
                            "schema": {
                                "fields": [
                                    {
                                        "name": "movie_title"
                                    },
                                    {
                                        "name": "director"
                                    }
                                ]
                            },
                            "data": [
                                {
                                    "movie_title": "The Three Caballeros",
                                    "director": "Norman Ferguson"
                                },
                                {
                                    "movie_title": "The Adventures of Ichabod and Mr. Toad",
                                    "director": "Jack Kinney"
                                },
                                {
                                    "movie_title": "The Sword in the Stone",
                                    "director": "Wolfgang Reitherman"
                                },
                                {
                                    "movie_title": "The Jungle Book",
                                    "director": "Wolfgang Reitherman"
                                },
                                {
                                    "movie_title": "The Aristocats",
                                    "director": "Wolfgang Reitherman"
                                },
                                {
                                    "movie_title": "The Many Adventures of Winnie the Pooh",
                                    "director": "Wolfgang Reitherman"
                                },
                                {
                                    "movie_title": "The Rescuers",
                                    "director": "Wolfgang Reitherman"
                                },
                                {
                                    "movie_title": "The Fox and the Hound",
                                    "director": "Art Stevens"
                                },
                                {
                                    "movie_title": "The Black Cauldron",
                                    "director": "Ted Berman"
                                },
                                {
                                    "movie_title": "The Great Mouse Detective",
                                    "director": "Ron Clements"
                                },
                                {
                                    "movie_title": "The Little Mermaid",
                                    "director": "Ron Clements"
                                },
                                {
                                    "movie_title": "The Rescuers Down Under",
                                    "director": "Mike Gabriel"
                                },
                                {
                                    "movie_title": "The Lion King",
                                    "director": "Roger Allers"
                                },
                                {
                                    "movie_title": "The Hunchback of Notre Dame",
                                    "director": "Gary Trousdale"
                                },
                                {
                                    "movie_title": "The Emperor's New Groove",
                                    "director": "Mark Dindal"
                                },
                                {
                                    "movie_title": "The Princess and the Frog",
                                    "director": "Ron Clements"
                                }
                            ]
                        },
                        "text/html": "<table><tr><th>movie_title</th><th>director</th></tr><tr><td>The Three Caballeros</td><td>Norman Ferguson</td></tr><tr><td>The Adventures of Ichabod and Mr. Toad</td><td>Jack Kinney</td></tr><tr><td>The Sword in the Stone</td><td>Wolfgang Reitherman</td></tr><tr><td>The Jungle Book</td><td>Wolfgang Reitherman</td></tr><tr><td>The Aristocats</td><td>Wolfgang Reitherman</td></tr><tr><td>The Many Adventures of Winnie the Pooh</td><td>Wolfgang Reitherman</td></tr><tr><td>The Rescuers</td><td>Wolfgang Reitherman</td></tr><tr><td>The Fox and the Hound</td><td>Art Stevens</td></tr><tr><td>The Black Cauldron</td><td>Ted Berman</td></tr><tr><td>The Great Mouse Detective</td><td>Ron Clements</td></tr><tr><td>The Little Mermaid</td><td>Ron Clements</td></tr><tr><td>The Rescuers Down Under</td><td>Mike Gabriel</td></tr><tr><td>The Lion King</td><td>Roger Allers</td></tr><tr><td>The Hunchback of Notre Dame</td><td>Gary Trousdale</td></tr><tr><td>The Emperor&#39;s New Groove</td><td>Mark Dindal</td></tr><tr><td>The Princess and the Frog</td><td>Ron Clements</td></tr></table>"
                    },
                    "metadata": {}
                }
            ],
            "execution_count": 44
        }
    ]
}