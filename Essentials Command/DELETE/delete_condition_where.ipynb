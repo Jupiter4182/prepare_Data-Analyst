{
    "metadata": {
        "kernelspec": {
            "name": "SQL",
            "display_name": "SQL",
            "language": "sql"
        },
        "language_info": {
            "name": "sql",
            "version": ""
        }
    },
    "nbformat_minor": 2,
    "nbformat": 4,
    "cells": [
        {
            "cell_type": "markdown",
            "source": [
                "# **DELETE**"
            ],
            "metadata": {
                "language": "sql",
                "azdata_cell_guid": "1c617d19-57a3-419f-9262-01917cd1c9b4"
            },
            "attachments": {}
        },
        {
            "cell_type": "code",
            "source": [
                "select * from movie_gross \r\n",
                "    where movie_title = 'Pinocchio'"
            ],
            "metadata": {
                "azdata_cell_guid": "359568a7-e782-42d5-8235-6fe08d635740",
                "language": "sql"
            },
            "outputs": [
                {
                    "output_type": "display_data",
                    "data": {
                        "text/html": "(0 rows affected)"
                    },
                    "metadata": {}
                },
                {
                    "output_type": "display_data",
                    "data": {
                        "text/html": "Total execution time: 00:00:00.002"
                    },
                    "metadata": {}
                },
                {
                    "output_type": "execute_result",
                    "metadata": {},
                    "execution_count": 3,
                    "data": {
                        "application/vnd.dataresource+json": {
                            "schema": {
                                "fields": [
                                    {
                                        "name": "movie_title"
                                    },
                                    {
                                        "name": "release_date"
                                    },
                                    {
                                        "name": "genre"
                                    },
                                    {
                                        "name": "mpaa_rating"
                                    },
                                    {
                                        "name": "total_gross"
                                    },
                                    {
                                        "name": "inflation_adjusted_gross"
                                    }
                                ]
                            },
                            "data": []
                        },
                        "text/html": [
                            "<table>",
                            "<tr><th>movie_title</th><th>release_date</th><th>genre</th><th>mpaa_rating</th><th>total_gross</th><th>inflation_adjusted_gross</th></tr>",
                            "</table>"
                        ]
                    }
                }
            ],
            "execution_count": 3
        },
        {
            "cell_type": "code",
            "source": [
                "Delete from movie_gross \r\n",
                "    where movie_title = 'Pinocchio'\r\n",
                "    "
            ],
            "metadata": {
                "language": "sql",
                "azdata_cell_guid": "bfa4ba30-20cc-44a3-bb67-0f164a6849e7"
            },
            "outputs": [
                {
                    "output_type": "display_data",
                    "data": {
                        "text/html": "(1 row affected)"
                    },
                    "metadata": {}
                },
                {
                    "output_type": "display_data",
                    "data": {
                        "text/html": "Total execution time: 00:00:00.002"
                    },
                    "metadata": {}
                }
            ],
            "execution_count": 2
        },
        {
            "cell_type": "code",
            "source": [
                "DELETE from movie\r\n",
                "-- drop table movie"
            ],
            "metadata": {
                "language": "sql",
                "azdata_cell_guid": "03865c8c-0fc4-4195-bb61-91d42da9f23e"
            },
            "outputs": [
                {
                    "output_type": "display_data",
                    "data": {
                        "text/html": "(578 rows affected)"
                    },
                    "metadata": {}
                },
                {
                    "output_type": "display_data",
                    "data": {
                        "text/html": "Total execution time: 00:00:00.001"
                    },
                    "metadata": {}
                }
            ],
            "execution_count": 36
        },
        {
            "cell_type": "code",
            "source": [
                "SELECT * from movie"
            ],
            "metadata": {
                "language": "sql",
                "azdata_cell_guid": "f2f03536-8965-42da-ab83-318d90572c45"
            },
            "outputs": [
                {
                    "output_type": "display_data",
                    "data": {
                        "text/html": "(83 rows affected)"
                    },
                    "metadata": {}
                },
                {
                    "output_type": "display_data",
                    "data": {
                        "text/html": "Total execution time: 00:00:00.002"
                    },
                    "metadata": {}
                },
                {
                    "output_type": "execute_result",
                    "metadata": {},
                    "execution_count": 47,
                    "data": {
                        "application/vnd.dataresource+json": {
                            "schema": {
                                "fields": [
                                    {
                                        "name": "movie_title"
                                    },
                                    {
                                        "name": "release_date"
                                    },
                                    {
                                        "name": "genre"
                                    },
                                    {
                                        "name": "mpaa_rating"
                                    },
                                    {
                                        "name": "total_gross"
                                    },
                                    {
                                        "name": "inflation_adjusted_gross"
                                    }
                                ]
                            },
                            "data": [
                                {
                                    "movie_title": "When in Rome",
                                    "release_date": "2010-01-29",
                                    "genre": "Romantic Comedy",
                                    "mpaa_rating": "PG-13",
                                    "total_gross": "32680633",
                                    "inflation_adjusted_gross": "34917330"
                                },
                                {
                                    "movie_title": "Alice in Wonderland",
                                    "release_date": "2010-03-05",
                                    "genre": "Adventure",
                                    "mpaa_rating": "PG",
                                    "total_gross": "334191110",
                                    "inflation_adjusted_gross": "357063499"
                                },
                                {
                                    "movie_title": "Waking Sleeping Beauty",
                                    "release_date": "2010-03-26",
                                    "genre": "Documentary",
                                    "mpaa_rating": "PG",
                                    "total_gross": "80741",
                                    "inflation_adjusted_gross": "86264"
                                },
                                {
                                    "movie_title": "The Last Song",
                                    "release_date": "2010-03-31",
                                    "genre": "Drama",
                                    "mpaa_rating": "PG",
                                    "total_gross": "62950384",
                                    "inflation_adjusted_gross": "67258772"
                                },
                                {
                                    "movie_title": "Oceans",
                                    "release_date": "2010-04-22",
                                    "genre": "Documentary",
                                    "mpaa_rating": "G",
                                    "total_gross": "19422319",
                                    "inflation_adjusted_gross": "20751600"
                                },
                                {
                                    "movie_title": "Toy Story 3",
                                    "release_date": "2010-06-18",
                                    "genre": "Adventure",
                                    "mpaa_rating": "G",
                                    "total_gross": "415004880",
                                    "inflation_adjusted_gross": "443408255"
                                },
                                {
                                    "movie_title": "The Sorcerer's Apprentice",
                                    "release_date": "2010-07-14",
                                    "genre": "Adventure",
                                    "mpaa_rating": "PG",
                                    "total_gross": "63150991",
                                    "inflation_adjusted_gross": "67473105"
                                },
                                {
                                    "movie_title": "Step Up 3D",
                                    "release_date": "2010-08-06",
                                    "genre": "Drama",
                                    "mpaa_rating": "PG-13",
                                    "total_gross": "42400223",
                                    "inflation_adjusted_gross": "45302137"
                                },
                                {
                                    "movie_title": "Gedo Senki (Tales from Earthsea)",
                                    "release_date": "2010-08-13",
                                    "genre": "Adventure",
                                    "mpaa_rating": "PG-13",
                                    "total_gross": "48658",
                                    "inflation_adjusted_gross": "51988"
                                },
                                {
                                    "movie_title": "You Again",
                                    "release_date": "2010-09-24",
                                    "genre": "Comedy",
                                    "mpaa_rating": "PG",
                                    "total_gross": "25702053",
                                    "inflation_adjusted_gross": "27461121"
                                },
                                {
                                    "movie_title": "Secretariat",
                                    "release_date": "2010-10-08",
                                    "genre": "Drama",
                                    "mpaa_rating": "PG",
                                    "total_gross": "59699513",
                                    "inflation_adjusted_gross": "63781920"
                                },
                                {
                                    "movie_title": "Tangled",
                                    "release_date": "2010-11-24",
                                    "genre": "Adventure",
                                    "mpaa_rating": "PG",
                                    "total_gross": "200821936",
                                    "inflation_adjusted_gross": "214388548"
                                },
                                {
                                    "movie_title": "Tron: Legacy",
                                    "release_date": "2010-12-17",
                                    "genre": "Adventure",
                                    "mpaa_rating": "PG",
                                    "total_gross": "172062763",
                                    "inflation_adjusted_gross": "183619259"
                                },
                                {
                                    "movie_title": "Gnomeo and Juliet",
                                    "release_date": "2011-02-11",
                                    "genre": "Comedy",
                                    "mpaa_rating": "G",
                                    "total_gross": "99967670",
                                    "inflation_adjusted_gross": "106270797"
                                },
                                {
                                    "movie_title": "I am Number Four",
                                    "release_date": "2011-02-18",
                                    "genre": "Adventure",
                                    "mpaa_rating": "PG-13",
                                    "total_gross": "55100437",
                                    "inflation_adjusted_gross": "58574607"
                                },
                                {
                                    "movie_title": "Mars Needs Moms",
                                    "release_date": "2011-03-11",
                                    "genre": "Adventure",
                                    "mpaa_rating": "PG",
                                    "total_gross": "21392758",
                                    "inflation_adjusted_gross": "22741603"
                                },
                                {
                                    "movie_title": "African Cats",
                                    "release_date": "2011-04-22",
                                    "genre": "Documentary",
                                    "mpaa_rating": "G",
                                    "total_gross": "15428747",
                                    "inflation_adjusted_gross": "16401551"
                                },
                                {
                                    "movie_title": "Zokkomon",
                                    "release_date": "2011-04-22",
                                    "genre": "Adventure",
                                    "mpaa_rating": "PG",
                                    "total_gross": "2815",
                                    "inflation_adjusted_gross": "2984"
                                },
                                {
                                    "movie_title": "Prom",
                                    "release_date": "2011-04-29",
                                    "genre": "Comedy",
                                    "mpaa_rating": "PG",
                                    "total_gross": "10130219",
                                    "inflation_adjusted_gross": "10768946"
                                },
                                {
                                    "movie_title": "Pirates of the Caribbean: On Stranger…",
                                    "release_date": "2011-05-20",
                                    "genre": "Adventure",
                                    "mpaa_rating": "PG-13",
                                    "total_gross": "241063875",
                                    "inflation_adjusted_gross": "256263359"
                                },
                                {
                                    "movie_title": "Cars 2",
                                    "release_date": "2011-06-24",
                                    "genre": "Adventure",
                                    "mpaa_rating": "G",
                                    "total_gross": "191450875",
                                    "inflation_adjusted_gross": "203522177"
                                },
                                {
                                    "movie_title": "Winnie the Pooh",
                                    "release_date": "2011-07-15",
                                    "genre": "Adventure",
                                    "mpaa_rating": "G",
                                    "total_gross": "26692846",
                                    "inflation_adjusted_gross": "28375869"
                                },
                                {
                                    "movie_title": "The Help",
                                    "release_date": "2011-08-10",
                                    "genre": "Drama",
                                    "mpaa_rating": "PG-13",
                                    "total_gross": "169705587",
                                    "inflation_adjusted_gross": "180404976"
                                },
                                {
                                    "movie_title": "Fright Night",
                                    "release_date": "2011-08-19",
                                    "genre": "Horror",
                                    "mpaa_rating": "R",
                                    "total_gross": "18298649",
                                    "inflation_adjusted_gross": "19452402"
                                },
                                {
                                    "movie_title": "The Muppets",
                                    "release_date": "2011-11-23",
                                    "genre": "Comedy",
                                    "mpaa_rating": "PG",
                                    "total_gross": "88625922",
                                    "inflation_adjusted_gross": "94189503"
                                },
                                {
                                    "movie_title": "War Horse",
                                    "release_date": "2011-12-25",
                                    "genre": "Drama",
                                    "mpaa_rating": "PG-13",
                                    "total_gross": "79883359",
                                    "inflation_adjusted_gross": "84762149"
                                },
                                {
                                    "movie_title": "The Secret World of Arietty",
                                    "release_date": "2012-02-17",
                                    "genre": "Adventure",
                                    "mpaa_rating": "G",
                                    "total_gross": "19192510",
                                    "inflation_adjusted_gross": "20325733"
                                },
                                {
                                    "movie_title": "John Carter",
                                    "release_date": "2012-03-09",
                                    "genre": "Adventure",
                                    "mpaa_rating": "PG-13",
                                    "total_gross": "73058679",
                                    "inflation_adjusted_gross": "77372445"
                                },
                                {
                                    "movie_title": "Chimpanzee",
                                    "release_date": "2012-04-20",
                                    "genre": "Documentary",
                                    "mpaa_rating": "G",
                                    "total_gross": "28965459",
                                    "inflation_adjusted_gross": "30675725"
                                },
                                {
                                    "movie_title": "The Avengers",
                                    "release_date": "2012-05-04",
                                    "genre": "Action",
                                    "mpaa_rating": "PG-13",
                                    "total_gross": "623279547",
                                    "inflation_adjusted_gross": "660081224"
                                },
                                {
                                    "movie_title": "Brave",
                                    "release_date": "2012-06-22",
                                    "genre": "Adventure",
                                    "mpaa_rating": "PG",
                                    "total_gross": "237282182",
                                    "inflation_adjusted_gross": "251292441"
                                },
                                {
                                    "movie_title": "People Like Us",
                                    "release_date": "2012-06-29",
                                    "genre": "Drama",
                                    "mpaa_rating": "PG-13",
                                    "total_gross": "12431792",
                                    "inflation_adjusted_gross": "13165822"
                                },
                                {
                                    "movie_title": "The Odd Life of Timothy Green",
                                    "release_date": "2012-08-15",
                                    "genre": "Drama",
                                    "mpaa_rating": "PG",
                                    "total_gross": "51853450",
                                    "inflation_adjusted_gross": "54914942"
                                },
                                {
                                    "movie_title": "Frankenweenie",
                                    "release_date": "2012-10-05",
                                    "genre": "Comedy",
                                    "mpaa_rating": "PG",
                                    "total_gross": "35287788",
                                    "inflation_adjusted_gross": "37363513"
                                },
                                {
                                    "movie_title": "Wreck-It Ralph",
                                    "release_date": "2012-11-02",
                                    "genre": "Adventure",
                                    "mpaa_rating": "PG",
                                    "total_gross": "189412677",
                                    "inflation_adjusted_gross": "200354959"
                                },
                                {
                                    "movie_title": "Lincoln",
                                    "release_date": "2012-11-09",
                                    "genre": "Drama",
                                    "mpaa_rating": "PG-13",
                                    "total_gross": "182207973",
                                    "inflation_adjusted_gross": "192122330"
                                },
                                {
                                    "movie_title": "Oz the Great and Powerful",
                                    "release_date": "2013-03-08",
                                    "genre": "Adventure",
                                    "mpaa_rating": "PG",
                                    "total_gross": "234770996",
                                    "inflation_adjusted_gross": "243434130"
                                },
                                {
                                    "movie_title": "Iron Man 3",
                                    "release_date": "2013-05-03",
                                    "genre": "Action",
                                    "mpaa_rating": "PG-13",
                                    "total_gross": "408992272",
                                    "inflation_adjusted_gross": "424084233"
                                },
                                {
                                    "movie_title": "Monsters University",
                                    "release_date": "2013-06-21",
                                    "genre": "Adventure",
                                    "mpaa_rating": "G",
                                    "total_gross": "268488329",
                                    "inflation_adjusted_gross": "278395641"
                                },
                                {
                                    "movie_title": "The Lone Ranger",
                                    "release_date": "2013-07-02",
                                    "genre": "Western",
                                    "mpaa_rating": "PG-13",
                                    "total_gross": "89302115",
                                    "inflation_adjusted_gross": "92597388"
                                },
                                {
                                    "movie_title": "Disney Planes",
                                    "release_date": "2013-08-09",
                                    "genre": "Comedy",
                                    "mpaa_rating": "PG",
                                    "total_gross": "90282580",
                                    "inflation_adjusted_gross": "93614037"
                                },
                                {
                                    "movie_title": "The Fifth Estate",
                                    "release_date": "2013-10-18",
                                    "genre": "Drama",
                                    "mpaa_rating": "R",
                                    "total_gross": "3254172",
                                    "inflation_adjusted_gross": "3374251"
                                },
                                {
                                    "movie_title": "Thor: The Dark World",
                                    "release_date": "2013-11-08",
                                    "genre": "Adventure",
                                    "mpaa_rating": "PG-13",
                                    "total_gross": "206362140",
                                    "inflation_adjusted_gross": "213962184"
                                },
                                {
                                    "movie_title": "Kaze Tachinu",
                                    "release_date": "2013-11-08",
                                    "genre": "Drama",
                                    "mpaa_rating": "PG-13",
                                    "total_gross": "5201879",
                                    "inflation_adjusted_gross": "5367415"
                                },
                                {
                                    "movie_title": "Frozen",
                                    "release_date": "2013-11-22",
                                    "genre": "Adventure",
                                    "mpaa_rating": "PG",
                                    "total_gross": "400738009",
                                    "inflation_adjusted_gross": "414997174"
                                },
                                {
                                    "movie_title": "Delivery Man",
                                    "release_date": "2013-11-22",
                                    "genre": "Comedy",
                                    "mpaa_rating": "PG-13",
                                    "total_gross": "30659817",
                                    "inflation_adjusted_gross": "31787136"
                                },
                                {
                                    "movie_title": "Saving Mr. Banks",
                                    "release_date": "2013-12-13",
                                    "genre": "Drama",
                                    "mpaa_rating": "PG-13",
                                    "total_gross": "83299761",
                                    "inflation_adjusted_gross": "86249969"
                                },
                                {
                                    "movie_title": "Muppets Most Wanted",
                                    "release_date": "2014-03-21",
                                    "genre": "Comedy",
                                    "mpaa_rating": "PG",
                                    "total_gross": "51178893",
                                    "inflation_adjusted_gross": "52807594"
                                },
                                {
                                    "movie_title": "Captain America: The Winter Soldier",
                                    "release_date": "2014-04-04",
                                    "genre": "Action",
                                    "mpaa_rating": "PG-13",
                                    "total_gross": "259746958",
                                    "inflation_adjusted_gross": "268013076"
                                },
                                {
                                    "movie_title": "Bears",
                                    "release_date": "2014-04-18",
                                    "genre": "Documentary",
                                    "mpaa_rating": "G",
                                    "total_gross": "17780194",
                                    "inflation_adjusted_gross": "18346024"
                                },
                                {
                                    "movie_title": "Million Dollar Arm",
                                    "release_date": "2014-05-10",
                                    "genre": "Drama",
                                    "mpaa_rating": "PG",
                                    "total_gross": "36447959",
                                    "inflation_adjusted_gross": "37607865"
                                },
                                {
                                    "movie_title": "Maleficent",
                                    "release_date": "2014-05-30",
                                    "genre": "Adventure",
                                    "mpaa_rating": "PG",
                                    "total_gross": "241407328",
                                    "inflation_adjusted_gross": "249089809"
                                },
                                {
                                    "movie_title": "Planes: Fire and Rescue",
                                    "release_date": "2014-07-18",
                                    "genre": "Adventure",
                                    "mpaa_rating": "PG",
                                    "total_gross": "59157732",
                                    "inflation_adjusted_gross": "61040349"
                                },
                                {
                                    "movie_title": "Guardians of the Galaxy",
                                    "release_date": "2014-08-01",
                                    "genre": "Adventure",
                                    "mpaa_rating": "PG-13",
                                    "total_gross": "333172112",
                                    "inflation_adjusted_gross": "343771168"
                                },
                                {
                                    "movie_title": "The Hundred-Foot Journey",
                                    "release_date": "2014-08-08",
                                    "genre": "Romantic Comedy",
                                    "mpaa_rating": "PG",
                                    "total_gross": "54235441",
                                    "inflation_adjusted_gross": "55961409"
                                },
                                {
                                    "movie_title": "Alexander and the Terrible, Horrible,…",
                                    "release_date": "2014-10-10",
                                    "genre": "Comedy",
                                    "mpaa_rating": "PG",
                                    "total_gross": "66954149",
                                    "inflation_adjusted_gross": "69055550"
                                },
                                {
                                    "movie_title": "Big Hero 6",
                                    "release_date": "2014-11-07",
                                    "genre": "Adventure",
                                    "mpaa_rating": "PG",
                                    "total_gross": "222527828",
                                    "inflation_adjusted_gross": "229249222"
                                },
                                {
                                    "movie_title": "Into the Woods",
                                    "release_date": "2014-12-25",
                                    "genre": "Musical",
                                    "mpaa_rating": "PG",
                                    "total_gross": "128002372",
                                    "inflation_adjusted_gross": "130894237"
                                },
                                {
                                    "movie_title": "Strange Magic",
                                    "release_date": "2015-01-23",
                                    "genre": "Adventure",
                                    "mpaa_rating": "PG",
                                    "total_gross": "12429583",
                                    "inflation_adjusted_gross": "12429583"
                                },
                                {
                                    "movie_title": "McFarland, USA",
                                    "release_date": "2015-02-20",
                                    "genre": "Drama",
                                    "mpaa_rating": "PG",
                                    "total_gross": "44480275",
                                    "inflation_adjusted_gross": "44480275"
                                },
                                {
                                    "movie_title": "Cinderella",
                                    "release_date": "2015-03-13",
                                    "genre": "Drama",
                                    "mpaa_rating": "PG",
                                    "total_gross": "201151353",
                                    "inflation_adjusted_gross": "201151353"
                                },
                                {
                                    "movie_title": "Monkey Kingdom",
                                    "release_date": "2015-04-17",
                                    "genre": "Documentary",
                                    "mpaa_rating": "G",
                                    "total_gross": "16432322",
                                    "inflation_adjusted_gross": "16432322"
                                },
                                {
                                    "movie_title": "Avengers: Age of Ultron",
                                    "release_date": "2015-05-01",
                                    "genre": "Action",
                                    "mpaa_rating": "PG-13",
                                    "total_gross": "459005868",
                                    "inflation_adjusted_gross": "459005868"
                                },
                                {
                                    "movie_title": "Tomorrowland",
                                    "release_date": "2015-05-22",
                                    "genre": "Adventure",
                                    "mpaa_rating": "PG",
                                    "total_gross": "93436322",
                                    "inflation_adjusted_gross": "93436322"
                                },
                                {
                                    "movie_title": "Inside Out",
                                    "release_date": "2015-06-19",
                                    "genre": "Adventure",
                                    "mpaa_rating": "PG",
                                    "total_gross": "356461711",
                                    "inflation_adjusted_gross": "356461711"
                                },
                                {
                                    "movie_title": "Ant-Man",
                                    "release_date": "2015-07-17",
                                    "genre": "Action",
                                    "mpaa_rating": "PG-13",
                                    "total_gross": "180202163",
                                    "inflation_adjusted_gross": "180202163"
                                },
                                {
                                    "movie_title": "Bridge of Spies",
                                    "release_date": "2015-10-16",
                                    "genre": "Thriller/Suspense",
                                    "mpaa_rating": "PG-13",
                                    "total_gross": "72313754",
                                    "inflation_adjusted_gross": "72313754"
                                },
                                {
                                    "movie_title": "The Good Dinosaur",
                                    "release_date": "2015-11-25",
                                    "genre": "Adventure",
                                    "mpaa_rating": "PG",
                                    "total_gross": "123087120",
                                    "inflation_adjusted_gross": "123087120"
                                },
                                {
                                    "movie_title": "Star Wars Ep. VII: The Force Awakens",
                                    "release_date": "2015-12-18",
                                    "genre": "Adventure",
                                    "mpaa_rating": "PG-13",
                                    "total_gross": "936662225",
                                    "inflation_adjusted_gross": "936662225"
                                },
                                {
                                    "movie_title": "The Finest Hours",
                                    "release_date": "2016-01-29",
                                    "genre": "Thriller/Suspense",
                                    "mpaa_rating": "PG",
                                    "total_gross": "27569558",
                                    "inflation_adjusted_gross": "27569558"
                                },
                                {
                                    "movie_title": "Zootopia",
                                    "release_date": "2016-03-04",
                                    "genre": "Adventure",
                                    "mpaa_rating": "PG",
                                    "total_gross": "341268248",
                                    "inflation_adjusted_gross": "341268248"
                                },
                                {
                                    "movie_title": "The Jungle Book",
                                    "release_date": "2016-04-15",
                                    "genre": "Adventure",
                                    "mpaa_rating": "PG",
                                    "total_gross": "364001123",
                                    "inflation_adjusted_gross": "364001123"
                                },
                                {
                                    "movie_title": "A Beautiful Planet",
                                    "release_date": "2016-04-29",
                                    "genre": "Documentary",
                                    "mpaa_rating": "G",
                                    "total_gross": "7895708",
                                    "inflation_adjusted_gross": "7895708"
                                },
                                {
                                    "movie_title": "Captain America: Civil War",
                                    "release_date": "2016-05-06",
                                    "genre": "Action",
                                    "mpaa_rating": "PG-13",
                                    "total_gross": "408084349",
                                    "inflation_adjusted_gross": "408084349"
                                },
                                {
                                    "movie_title": "Alice Through the Looking Glass",
                                    "release_date": "2016-05-27",
                                    "genre": "Adventure",
                                    "mpaa_rating": "PG",
                                    "total_gross": "77042381",
                                    "inflation_adjusted_gross": "77042381"
                                },
                                {
                                    "movie_title": "Finding Dory",
                                    "release_date": "2016-06-17",
                                    "genre": "Adventure",
                                    "mpaa_rating": "PG",
                                    "total_gross": "486295561",
                                    "inflation_adjusted_gross": "486295561"
                                },
                                {
                                    "movie_title": "The BFG",
                                    "release_date": "2016-07-01",
                                    "genre": "Adventure",
                                    "mpaa_rating": "PG",
                                    "total_gross": "55483770",
                                    "inflation_adjusted_gross": "55483770"
                                },
                                {
                                    "movie_title": "Pete’s Dragon",
                                    "release_date": "2016-08-12",
                                    "genre": "Adventure",
                                    "mpaa_rating": "PG",
                                    "total_gross": "76233151",
                                    "inflation_adjusted_gross": "76233151"
                                },
                                {
                                    "movie_title": "The Light Between Oceans",
                                    "release_date": "2016-09-02",
                                    "genre": "Drama",
                                    "mpaa_rating": "PG-13",
                                    "total_gross": "12545979",
                                    "inflation_adjusted_gross": "12545979"
                                },
                                {
                                    "movie_title": "Queen of Katwe",
                                    "release_date": "2016-09-23",
                                    "genre": "Drama",
                                    "mpaa_rating": "PG",
                                    "total_gross": "8874389",
                                    "inflation_adjusted_gross": "8874389"
                                },
                                {
                                    "movie_title": "Doctor Strange",
                                    "release_date": "2016-11-04",
                                    "genre": "Adventure",
                                    "mpaa_rating": "PG-13",
                                    "total_gross": "232532923",
                                    "inflation_adjusted_gross": "232532923"
                                },
                                {
                                    "movie_title": "Moana",
                                    "release_date": "2016-11-23",
                                    "genre": "Adventure",
                                    "mpaa_rating": "PG",
                                    "total_gross": "246082029",
                                    "inflation_adjusted_gross": "246082029"
                                },
                                {
                                    "movie_title": "Rogue One: A Star Wars Story",
                                    "release_date": "2016-12-16",
                                    "genre": "Adventure",
                                    "mpaa_rating": "PG-13",
                                    "total_gross": "529483936",
                                    "inflation_adjusted_gross": "529483936"
                                }
                            ]
                        },
                        "text/html": [
                            "<table>",
                            "<tr><th>movie_title</th><th>release_date</th><th>genre</th><th>mpaa_rating</th><th>total_gross</th><th>inflation_adjusted_gross</th></tr>",
                            "<tr><td>When in Rome</td><td>2010-01-29</td><td>Romantic Comedy</td><td>PG-13</td><td>32680633</td><td>34917330</td></tr>",
                            "<tr><td>Alice in Wonderland</td><td>2010-03-05</td><td>Adventure</td><td>PG</td><td>334191110</td><td>357063499</td></tr>",
                            "<tr><td>Waking Sleeping Beauty</td><td>2010-03-26</td><td>Documentary</td><td>PG</td><td>80741</td><td>86264</td></tr>",
                            "<tr><td>The Last Song</td><td>2010-03-31</td><td>Drama</td><td>PG</td><td>62950384</td><td>67258772</td></tr>",
                            "<tr><td>Oceans</td><td>2010-04-22</td><td>Documentary</td><td>G</td><td>19422319</td><td>20751600</td></tr>",
                            "<tr><td>Toy Story 3</td><td>2010-06-18</td><td>Adventure</td><td>G</td><td>415004880</td><td>443408255</td></tr>",
                            "<tr><td>The Sorcerer&#39;s Apprentice</td><td>2010-07-14</td><td>Adventure</td><td>PG</td><td>63150991</td><td>67473105</td></tr>",
                            "<tr><td>Step Up 3D</td><td>2010-08-06</td><td>Drama</td><td>PG-13</td><td>42400223</td><td>45302137</td></tr>",
                            "<tr><td>Gedo Senki (Tales from Earthsea)</td><td>2010-08-13</td><td>Adventure</td><td>PG-13</td><td>48658</td><td>51988</td></tr>",
                            "<tr><td>You Again</td><td>2010-09-24</td><td>Comedy</td><td>PG</td><td>25702053</td><td>27461121</td></tr>",
                            "<tr><td>Secretariat</td><td>2010-10-08</td><td>Drama</td><td>PG</td><td>59699513</td><td>63781920</td></tr>",
                            "<tr><td>Tangled</td><td>2010-11-24</td><td>Adventure</td><td>PG</td><td>200821936</td><td>214388548</td></tr>",
                            "<tr><td>Tron: Legacy</td><td>2010-12-17</td><td>Adventure</td><td>PG</td><td>172062763</td><td>183619259</td></tr>",
                            "<tr><td>Gnomeo and Juliet</td><td>2011-02-11</td><td>Comedy</td><td>G</td><td>99967670</td><td>106270797</td></tr>",
                            "<tr><td>I am Number Four</td><td>2011-02-18</td><td>Adventure</td><td>PG-13</td><td>55100437</td><td>58574607</td></tr>",
                            "<tr><td>Mars Needs Moms</td><td>2011-03-11</td><td>Adventure</td><td>PG</td><td>21392758</td><td>22741603</td></tr>",
                            "<tr><td>African Cats</td><td>2011-04-22</td><td>Documentary</td><td>G</td><td>15428747</td><td>16401551</td></tr>",
                            "<tr><td>Zokkomon</td><td>2011-04-22</td><td>Adventure</td><td>PG</td><td>2815</td><td>2984</td></tr>",
                            "<tr><td>Prom</td><td>2011-04-29</td><td>Comedy</td><td>PG</td><td>10130219</td><td>10768946</td></tr>",
                            "<tr><td>Pirates of the Caribbean: On Stranger…</td><td>2011-05-20</td><td>Adventure</td><td>PG-13</td><td>241063875</td><td>256263359</td></tr>",
                            "<tr><td>Cars 2</td><td>2011-06-24</td><td>Adventure</td><td>G</td><td>191450875</td><td>203522177</td></tr>",
                            "<tr><td>Winnie the Pooh</td><td>2011-07-15</td><td>Adventure</td><td>G</td><td>26692846</td><td>28375869</td></tr>",
                            "<tr><td>The Help</td><td>2011-08-10</td><td>Drama</td><td>PG-13</td><td>169705587</td><td>180404976</td></tr>",
                            "<tr><td>Fright Night</td><td>2011-08-19</td><td>Horror</td><td>R</td><td>18298649</td><td>19452402</td></tr>",
                            "<tr><td>The Muppets</td><td>2011-11-23</td><td>Comedy</td><td>PG</td><td>88625922</td><td>94189503</td></tr>",
                            "<tr><td>War Horse</td><td>2011-12-25</td><td>Drama</td><td>PG-13</td><td>79883359</td><td>84762149</td></tr>",
                            "<tr><td>The Secret World of Arietty</td><td>2012-02-17</td><td>Adventure</td><td>G</td><td>19192510</td><td>20325733</td></tr>",
                            "<tr><td>John Carter</td><td>2012-03-09</td><td>Adventure</td><td>PG-13</td><td>73058679</td><td>77372445</td></tr>",
                            "<tr><td>Chimpanzee</td><td>2012-04-20</td><td>Documentary</td><td>G</td><td>28965459</td><td>30675725</td></tr>",
                            "<tr><td>The Avengers</td><td>2012-05-04</td><td>Action</td><td>PG-13</td><td>623279547</td><td>660081224</td></tr>",
                            "<tr><td>Brave</td><td>2012-06-22</td><td>Adventure</td><td>PG</td><td>237282182</td><td>251292441</td></tr>",
                            "<tr><td>People Like Us</td><td>2012-06-29</td><td>Drama</td><td>PG-13</td><td>12431792</td><td>13165822</td></tr>",
                            "<tr><td>The Odd Life of Timothy Green</td><td>2012-08-15</td><td>Drama</td><td>PG</td><td>51853450</td><td>54914942</td></tr>",
                            "<tr><td>Frankenweenie</td><td>2012-10-05</td><td>Comedy</td><td>PG</td><td>35287788</td><td>37363513</td></tr>",
                            "<tr><td>Wreck-It Ralph</td><td>2012-11-02</td><td>Adventure</td><td>PG</td><td>189412677</td><td>200354959</td></tr>",
                            "<tr><td>Lincoln</td><td>2012-11-09</td><td>Drama</td><td>PG-13</td><td>182207973</td><td>192122330</td></tr>",
                            "<tr><td>Oz the Great and Powerful</td><td>2013-03-08</td><td>Adventure</td><td>PG</td><td>234770996</td><td>243434130</td></tr>",
                            "<tr><td>Iron Man 3</td><td>2013-05-03</td><td>Action</td><td>PG-13</td><td>408992272</td><td>424084233</td></tr>",
                            "<tr><td>Monsters University</td><td>2013-06-21</td><td>Adventure</td><td>G</td><td>268488329</td><td>278395641</td></tr>",
                            "<tr><td>The Lone Ranger</td><td>2013-07-02</td><td>Western</td><td>PG-13</td><td>89302115</td><td>92597388</td></tr>",
                            "<tr><td>Disney Planes</td><td>2013-08-09</td><td>Comedy</td><td>PG</td><td>90282580</td><td>93614037</td></tr>",
                            "<tr><td>The Fifth Estate</td><td>2013-10-18</td><td>Drama</td><td>R</td><td>3254172</td><td>3374251</td></tr>",
                            "<tr><td>Thor: The Dark World</td><td>2013-11-08</td><td>Adventure</td><td>PG-13</td><td>206362140</td><td>213962184</td></tr>",
                            "<tr><td>Kaze Tachinu</td><td>2013-11-08</td><td>Drama</td><td>PG-13</td><td>5201879</td><td>5367415</td></tr>",
                            "<tr><td>Frozen</td><td>2013-11-22</td><td>Adventure</td><td>PG</td><td>400738009</td><td>414997174</td></tr>",
                            "<tr><td>Delivery Man</td><td>2013-11-22</td><td>Comedy</td><td>PG-13</td><td>30659817</td><td>31787136</td></tr>",
                            "<tr><td>Saving Mr. Banks</td><td>2013-12-13</td><td>Drama</td><td>PG-13</td><td>83299761</td><td>86249969</td></tr>",
                            "<tr><td>Muppets Most Wanted</td><td>2014-03-21</td><td>Comedy</td><td>PG</td><td>51178893</td><td>52807594</td></tr>",
                            "<tr><td>Captain America: The Winter Soldier</td><td>2014-04-04</td><td>Action</td><td>PG-13</td><td>259746958</td><td>268013076</td></tr>",
                            "<tr><td>Bears</td><td>2014-04-18</td><td>Documentary</td><td>G</td><td>17780194</td><td>18346024</td></tr>",
                            "<tr><td>Million Dollar Arm</td><td>2014-05-10</td><td>Drama</td><td>PG</td><td>36447959</td><td>37607865</td></tr>",
                            "<tr><td>Maleficent</td><td>2014-05-30</td><td>Adventure</td><td>PG</td><td>241407328</td><td>249089809</td></tr>",
                            "<tr><td>Planes: Fire and Rescue</td><td>2014-07-18</td><td>Adventure</td><td>PG</td><td>59157732</td><td>61040349</td></tr>",
                            "<tr><td>Guardians of the Galaxy</td><td>2014-08-01</td><td>Adventure</td><td>PG-13</td><td>333172112</td><td>343771168</td></tr>",
                            "<tr><td>The Hundred-Foot Journey</td><td>2014-08-08</td><td>Romantic Comedy</td><td>PG</td><td>54235441</td><td>55961409</td></tr>",
                            "<tr><td>Alexander and the Terrible, Horrible,…</td><td>2014-10-10</td><td>Comedy</td><td>PG</td><td>66954149</td><td>69055550</td></tr>",
                            "<tr><td>Big Hero 6</td><td>2014-11-07</td><td>Adventure</td><td>PG</td><td>222527828</td><td>229249222</td></tr>",
                            "<tr><td>Into the Woods</td><td>2014-12-25</td><td>Musical</td><td>PG</td><td>128002372</td><td>130894237</td></tr>",
                            "<tr><td>Strange Magic</td><td>2015-01-23</td><td>Adventure</td><td>PG</td><td>12429583</td><td>12429583</td></tr>",
                            "<tr><td>McFarland, USA</td><td>2015-02-20</td><td>Drama</td><td>PG</td><td>44480275</td><td>44480275</td></tr>",
                            "<tr><td>Cinderella</td><td>2015-03-13</td><td>Drama</td><td>PG</td><td>201151353</td><td>201151353</td></tr>",
                            "<tr><td>Monkey Kingdom</td><td>2015-04-17</td><td>Documentary</td><td>G</td><td>16432322</td><td>16432322</td></tr>",
                            "<tr><td>Avengers: Age of Ultron</td><td>2015-05-01</td><td>Action</td><td>PG-13</td><td>459005868</td><td>459005868</td></tr>",
                            "<tr><td>Tomorrowland</td><td>2015-05-22</td><td>Adventure</td><td>PG</td><td>93436322</td><td>93436322</td></tr>",
                            "<tr><td>Inside Out</td><td>2015-06-19</td><td>Adventure</td><td>PG</td><td>356461711</td><td>356461711</td></tr>",
                            "<tr><td>Ant-Man</td><td>2015-07-17</td><td>Action</td><td>PG-13</td><td>180202163</td><td>180202163</td></tr>",
                            "<tr><td>Bridge of Spies</td><td>2015-10-16</td><td>Thriller/Suspense</td><td>PG-13</td><td>72313754</td><td>72313754</td></tr>",
                            "<tr><td>The Good Dinosaur</td><td>2015-11-25</td><td>Adventure</td><td>PG</td><td>123087120</td><td>123087120</td></tr>",
                            "<tr><td>Star Wars Ep. VII: The Force Awakens</td><td>2015-12-18</td><td>Adventure</td><td>PG-13</td><td>936662225</td><td>936662225</td></tr>",
                            "<tr><td>The Finest Hours</td><td>2016-01-29</td><td>Thriller/Suspense</td><td>PG</td><td>27569558</td><td>27569558</td></tr>",
                            "<tr><td>Zootopia</td><td>2016-03-04</td><td>Adventure</td><td>PG</td><td>341268248</td><td>341268248</td></tr>",
                            "<tr><td>The Jungle Book</td><td>2016-04-15</td><td>Adventure</td><td>PG</td><td>364001123</td><td>364001123</td></tr>",
                            "<tr><td>A Beautiful Planet</td><td>2016-04-29</td><td>Documentary</td><td>G</td><td>7895708</td><td>7895708</td></tr>",
                            "<tr><td>Captain America: Civil War</td><td>2016-05-06</td><td>Action</td><td>PG-13</td><td>408084349</td><td>408084349</td></tr>",
                            "<tr><td>Alice Through the Looking Glass</td><td>2016-05-27</td><td>Adventure</td><td>PG</td><td>77042381</td><td>77042381</td></tr>",
                            "<tr><td>Finding Dory</td><td>2016-06-17</td><td>Adventure</td><td>PG</td><td>486295561</td><td>486295561</td></tr>",
                            "<tr><td>The BFG</td><td>2016-07-01</td><td>Adventure</td><td>PG</td><td>55483770</td><td>55483770</td></tr>",
                            "<tr><td>Pete’s Dragon</td><td>2016-08-12</td><td>Adventure</td><td>PG</td><td>76233151</td><td>76233151</td></tr>",
                            "<tr><td>The Light Between Oceans</td><td>2016-09-02</td><td>Drama</td><td>PG-13</td><td>12545979</td><td>12545979</td></tr>",
                            "<tr><td>Queen of Katwe</td><td>2016-09-23</td><td>Drama</td><td>PG</td><td>8874389</td><td>8874389</td></tr>",
                            "<tr><td>Doctor Strange</td><td>2016-11-04</td><td>Adventure</td><td>PG-13</td><td>232532923</td><td>232532923</td></tr>",
                            "<tr><td>Moana</td><td>2016-11-23</td><td>Adventure</td><td>PG</td><td>246082029</td><td>246082029</td></tr>",
                            "<tr><td>Rogue One: A Star Wars Story</td><td>2016-12-16</td><td>Adventure</td><td>PG-13</td><td>529483936</td><td>529483936</td></tr>",
                            "</table>"
                        ]
                    }
                }
            ],
            "execution_count": 47
        },
        {
            "cell_type": "code",
            "source": [
                "select * into movie from movie_gross"
            ],
            "metadata": {
                "language": "sql",
                "azdata_cell_guid": "9112ba30-d939-496a-9fba-fdfca23c159b"
            },
            "outputs": [
                {
                    "output_type": "error",
                    "evalue": "Msg 2714, Level 16, State 6, Line 1\r\nThere is already an object named 'movie' in the database.",
                    "ename": "",
                    "traceback": []
                },
                {
                    "output_type": "display_data",
                    "data": {
                        "text/html": "Total execution time: 00:00:00.001"
                    },
                    "metadata": {}
                }
            ],
            "execution_count": 48
        },
        {
            "cell_type": "code",
            "source": [
                "delete from movie where year(release_date) < 2010"
            ],
            "metadata": {
                "language": "sql",
                "azdata_cell_guid": "7a9cc265-1fa3-441f-ba94-17511691e7bb"
            },
            "outputs": [
                {
                    "output_type": "display_data",
                    "data": {
                        "text/html": "(492 rows affected)"
                    },
                    "metadata": {}
                },
                {
                    "output_type": "display_data",
                    "data": {
                        "text/html": "Total execution time: 00:00:00.005"
                    },
                    "metadata": {}
                }
            ],
            "execution_count": 38
        },
        {
            "cell_type": "code",
            "source": [
                "delete from movie where genre = 'Action' and total_gross < 100e6\r\n",
                "-- ลบทิ้งจะเหลือ 10"
            ],
            "metadata": {
                "language": "sql",
                "azdata_cell_guid": "03c915f0-7b65-409f-9b7a-797da30e3e6c"
            },
            "outputs": [
                {
                    "output_type": "display_data",
                    "data": {
                        "text/html": "(3 rows affected)"
                    },
                    "metadata": {}
                },
                {
                    "output_type": "display_data",
                    "data": {
                        "text/html": "Total execution time: 00:00:00.006"
                    },
                    "metadata": {}
                }
            ],
            "execution_count": 39
        },
        {
            "cell_type": "code",
            "source": [
                "select * from movie m left join director d on m.movie_title = d.movie_title where director is null"
            ],
            "metadata": {
                "language": "sql",
                "azdata_cell_guid": "044f626a-1f60-42a9-8159-e0dbff3d5da8"
            },
            "outputs": [
                {
                    "output_type": "display_data",
                    "data": {
                        "text/html": "(73 rows affected)"
                    },
                    "metadata": {}
                },
                {
                    "output_type": "display_data",
                    "data": {
                        "text/html": "Total execution time: 00:00:00.012"
                    },
                    "metadata": {}
                },
                {
                    "output_type": "execute_result",
                    "metadata": {},
                    "execution_count": 50,
                    "data": {
                        "application/vnd.dataresource+json": {
                            "schema": {
                                "fields": [
                                    {
                                        "name": "movie_title"
                                    },
                                    {
                                        "name": "release_date"
                                    },
                                    {
                                        "name": "genre"
                                    },
                                    {
                                        "name": "mpaa_rating"
                                    },
                                    {
                                        "name": "total_gross"
                                    },
                                    {
                                        "name": "inflation_adjusted_gross"
                                    },
                                    {
                                        "name": "movie_title"
                                    },
                                    {
                                        "name": "director"
                                    }
                                ]
                            },
                            "data": [
                                {
                                    "movie_title": "NULL",
                                    "release_date": "2010-01-29",
                                    "genre": "Romantic Comedy",
                                    "mpaa_rating": "PG-13",
                                    "total_gross": "32680633",
                                    "inflation_adjusted_gross": "34917330",
                                    "director": "NULL"
                                },
                                {
                                    "movie_title": "NULL",
                                    "release_date": "2010-03-26",
                                    "genre": "Documentary",
                                    "mpaa_rating": "PG",
                                    "total_gross": "80741",
                                    "inflation_adjusted_gross": "86264",
                                    "director": "NULL"
                                },
                                {
                                    "movie_title": "NULL",
                                    "release_date": "2010-03-31",
                                    "genre": "Drama",
                                    "mpaa_rating": "PG",
                                    "total_gross": "62950384",
                                    "inflation_adjusted_gross": "67258772",
                                    "director": "NULL"
                                },
                                {
                                    "movie_title": "NULL",
                                    "release_date": "2010-04-22",
                                    "genre": "Documentary",
                                    "mpaa_rating": "G",
                                    "total_gross": "19422319",
                                    "inflation_adjusted_gross": "20751600",
                                    "director": "NULL"
                                },
                                {
                                    "movie_title": "NULL",
                                    "release_date": "2010-06-18",
                                    "genre": "Adventure",
                                    "mpaa_rating": "G",
                                    "total_gross": "415004880",
                                    "inflation_adjusted_gross": "443408255",
                                    "director": "NULL"
                                },
                                {
                                    "movie_title": "NULL",
                                    "release_date": "2010-07-14",
                                    "genre": "Adventure",
                                    "mpaa_rating": "PG",
                                    "total_gross": "63150991",
                                    "inflation_adjusted_gross": "67473105",
                                    "director": "NULL"
                                },
                                {
                                    "movie_title": "NULL",
                                    "release_date": "2010-08-06",
                                    "genre": "Drama",
                                    "mpaa_rating": "PG-13",
                                    "total_gross": "42400223",
                                    "inflation_adjusted_gross": "45302137",
                                    "director": "NULL"
                                },
                                {
                                    "movie_title": "NULL",
                                    "release_date": "2010-08-13",
                                    "genre": "Adventure",
                                    "mpaa_rating": "PG-13",
                                    "total_gross": "48658",
                                    "inflation_adjusted_gross": "51988",
                                    "director": "NULL"
                                },
                                {
                                    "movie_title": "NULL",
                                    "release_date": "2010-09-24",
                                    "genre": "Comedy",
                                    "mpaa_rating": "PG",
                                    "total_gross": "25702053",
                                    "inflation_adjusted_gross": "27461121",
                                    "director": "NULL"
                                },
                                {
                                    "movie_title": "NULL",
                                    "release_date": "2010-10-08",
                                    "genre": "Drama",
                                    "mpaa_rating": "PG",
                                    "total_gross": "59699513",
                                    "inflation_adjusted_gross": "63781920",
                                    "director": "NULL"
                                },
                                {
                                    "movie_title": "NULL",
                                    "release_date": "2010-12-17",
                                    "genre": "Adventure",
                                    "mpaa_rating": "PG",
                                    "total_gross": "172062763",
                                    "inflation_adjusted_gross": "183619259",
                                    "director": "NULL"
                                },
                                {
                                    "movie_title": "NULL",
                                    "release_date": "2011-02-11",
                                    "genre": "Comedy",
                                    "mpaa_rating": "G",
                                    "total_gross": "99967670",
                                    "inflation_adjusted_gross": "106270797",
                                    "director": "NULL"
                                },
                                {
                                    "movie_title": "NULL",
                                    "release_date": "2011-02-18",
                                    "genre": "Adventure",
                                    "mpaa_rating": "PG-13",
                                    "total_gross": "55100437",
                                    "inflation_adjusted_gross": "58574607",
                                    "director": "NULL"
                                },
                                {
                                    "movie_title": "NULL",
                                    "release_date": "2011-03-11",
                                    "genre": "Adventure",
                                    "mpaa_rating": "PG",
                                    "total_gross": "21392758",
                                    "inflation_adjusted_gross": "22741603",
                                    "director": "NULL"
                                },
                                {
                                    "movie_title": "NULL",
                                    "release_date": "2011-04-22",
                                    "genre": "Documentary",
                                    "mpaa_rating": "G",
                                    "total_gross": "15428747",
                                    "inflation_adjusted_gross": "16401551",
                                    "director": "NULL"
                                },
                                {
                                    "movie_title": "NULL",
                                    "release_date": "2011-04-22",
                                    "genre": "Adventure",
                                    "mpaa_rating": "PG",
                                    "total_gross": "2815",
                                    "inflation_adjusted_gross": "2984",
                                    "director": "NULL"
                                },
                                {
                                    "movie_title": "NULL",
                                    "release_date": "2011-04-29",
                                    "genre": "Comedy",
                                    "mpaa_rating": "PG",
                                    "total_gross": "10130219",
                                    "inflation_adjusted_gross": "10768946",
                                    "director": "NULL"
                                },
                                {
                                    "movie_title": "NULL",
                                    "release_date": "2011-05-20",
                                    "genre": "Adventure",
                                    "mpaa_rating": "PG-13",
                                    "total_gross": "241063875",
                                    "inflation_adjusted_gross": "256263359",
                                    "director": "NULL"
                                },
                                {
                                    "movie_title": "NULL",
                                    "release_date": "2011-06-24",
                                    "genre": "Adventure",
                                    "mpaa_rating": "G",
                                    "total_gross": "191450875",
                                    "inflation_adjusted_gross": "203522177",
                                    "director": "NULL"
                                },
                                {
                                    "movie_title": "NULL",
                                    "release_date": "2011-08-10",
                                    "genre": "Drama",
                                    "mpaa_rating": "PG-13",
                                    "total_gross": "169705587",
                                    "inflation_adjusted_gross": "180404976",
                                    "director": "NULL"
                                },
                                {
                                    "movie_title": "NULL",
                                    "release_date": "2011-08-19",
                                    "genre": "Horror",
                                    "mpaa_rating": "R",
                                    "total_gross": "18298649",
                                    "inflation_adjusted_gross": "19452402",
                                    "director": "NULL"
                                },
                                {
                                    "movie_title": "NULL",
                                    "release_date": "2011-11-23",
                                    "genre": "Comedy",
                                    "mpaa_rating": "PG",
                                    "total_gross": "88625922",
                                    "inflation_adjusted_gross": "94189503",
                                    "director": "NULL"
                                },
                                {
                                    "movie_title": "NULL",
                                    "release_date": "2011-12-25",
                                    "genre": "Drama",
                                    "mpaa_rating": "PG-13",
                                    "total_gross": "79883359",
                                    "inflation_adjusted_gross": "84762149",
                                    "director": "NULL"
                                },
                                {
                                    "movie_title": "NULL",
                                    "release_date": "2012-02-17",
                                    "genre": "Adventure",
                                    "mpaa_rating": "G",
                                    "total_gross": "19192510",
                                    "inflation_adjusted_gross": "20325733",
                                    "director": "NULL"
                                },
                                {
                                    "movie_title": "NULL",
                                    "release_date": "2012-03-09",
                                    "genre": "Adventure",
                                    "mpaa_rating": "PG-13",
                                    "total_gross": "73058679",
                                    "inflation_adjusted_gross": "77372445",
                                    "director": "NULL"
                                },
                                {
                                    "movie_title": "NULL",
                                    "release_date": "2012-04-20",
                                    "genre": "Documentary",
                                    "mpaa_rating": "G",
                                    "total_gross": "28965459",
                                    "inflation_adjusted_gross": "30675725",
                                    "director": "NULL"
                                },
                                {
                                    "movie_title": "NULL",
                                    "release_date": "2012-05-04",
                                    "genre": "Action",
                                    "mpaa_rating": "PG-13",
                                    "total_gross": "623279547",
                                    "inflation_adjusted_gross": "660081224",
                                    "director": "NULL"
                                },
                                {
                                    "movie_title": "NULL",
                                    "release_date": "2012-06-22",
                                    "genre": "Adventure",
                                    "mpaa_rating": "PG",
                                    "total_gross": "237282182",
                                    "inflation_adjusted_gross": "251292441",
                                    "director": "NULL"
                                },
                                {
                                    "movie_title": "NULL",
                                    "release_date": "2012-06-29",
                                    "genre": "Drama",
                                    "mpaa_rating": "PG-13",
                                    "total_gross": "12431792",
                                    "inflation_adjusted_gross": "13165822",
                                    "director": "NULL"
                                },
                                {
                                    "movie_title": "NULL",
                                    "release_date": "2012-08-15",
                                    "genre": "Drama",
                                    "mpaa_rating": "PG",
                                    "total_gross": "51853450",
                                    "inflation_adjusted_gross": "54914942",
                                    "director": "NULL"
                                },
                                {
                                    "movie_title": "NULL",
                                    "release_date": "2012-10-05",
                                    "genre": "Comedy",
                                    "mpaa_rating": "PG",
                                    "total_gross": "35287788",
                                    "inflation_adjusted_gross": "37363513",
                                    "director": "NULL"
                                },
                                {
                                    "movie_title": "NULL",
                                    "release_date": "2012-11-09",
                                    "genre": "Drama",
                                    "mpaa_rating": "PG-13",
                                    "total_gross": "182207973",
                                    "inflation_adjusted_gross": "192122330",
                                    "director": "NULL"
                                },
                                {
                                    "movie_title": "NULL",
                                    "release_date": "2013-03-08",
                                    "genre": "Adventure",
                                    "mpaa_rating": "PG",
                                    "total_gross": "234770996",
                                    "inflation_adjusted_gross": "243434130",
                                    "director": "NULL"
                                },
                                {
                                    "movie_title": "NULL",
                                    "release_date": "2013-05-03",
                                    "genre": "Action",
                                    "mpaa_rating": "PG-13",
                                    "total_gross": "408992272",
                                    "inflation_adjusted_gross": "424084233",
                                    "director": "NULL"
                                },
                                {
                                    "movie_title": "NULL",
                                    "release_date": "2013-06-21",
                                    "genre": "Adventure",
                                    "mpaa_rating": "G",
                                    "total_gross": "268488329",
                                    "inflation_adjusted_gross": "278395641",
                                    "director": "NULL"
                                },
                                {
                                    "movie_title": "NULL",
                                    "release_date": "2013-07-02",
                                    "genre": "Western",
                                    "mpaa_rating": "PG-13",
                                    "total_gross": "89302115",
                                    "inflation_adjusted_gross": "92597388",
                                    "director": "NULL"
                                },
                                {
                                    "movie_title": "NULL",
                                    "release_date": "2013-08-09",
                                    "genre": "Comedy",
                                    "mpaa_rating": "PG",
                                    "total_gross": "90282580",
                                    "inflation_adjusted_gross": "93614037",
                                    "director": "NULL"
                                },
                                {
                                    "movie_title": "NULL",
                                    "release_date": "2013-10-18",
                                    "genre": "Drama",
                                    "mpaa_rating": "R",
                                    "total_gross": "3254172",
                                    "inflation_adjusted_gross": "3374251",
                                    "director": "NULL"
                                },
                                {
                                    "movie_title": "NULL",
                                    "release_date": "2013-11-08",
                                    "genre": "Adventure",
                                    "mpaa_rating": "PG-13",
                                    "total_gross": "206362140",
                                    "inflation_adjusted_gross": "213962184",
                                    "director": "NULL"
                                },
                                {
                                    "movie_title": "NULL",
                                    "release_date": "2013-11-08",
                                    "genre": "Drama",
                                    "mpaa_rating": "PG-13",
                                    "total_gross": "5201879",
                                    "inflation_adjusted_gross": "5367415",
                                    "director": "NULL"
                                },
                                {
                                    "movie_title": "NULL",
                                    "release_date": "2013-11-22",
                                    "genre": "Comedy",
                                    "mpaa_rating": "PG-13",
                                    "total_gross": "30659817",
                                    "inflation_adjusted_gross": "31787136",
                                    "director": "NULL"
                                },
                                {
                                    "movie_title": "NULL",
                                    "release_date": "2013-12-13",
                                    "genre": "Drama",
                                    "mpaa_rating": "PG-13",
                                    "total_gross": "83299761",
                                    "inflation_adjusted_gross": "86249969",
                                    "director": "NULL"
                                },
                                {
                                    "movie_title": "NULL",
                                    "release_date": "2014-03-21",
                                    "genre": "Comedy",
                                    "mpaa_rating": "PG",
                                    "total_gross": "51178893",
                                    "inflation_adjusted_gross": "52807594",
                                    "director": "NULL"
                                },
                                {
                                    "movie_title": "NULL",
                                    "release_date": "2014-04-04",
                                    "genre": "Action",
                                    "mpaa_rating": "PG-13",
                                    "total_gross": "259746958",
                                    "inflation_adjusted_gross": "268013076",
                                    "director": "NULL"
                                },
                                {
                                    "movie_title": "NULL",
                                    "release_date": "2014-04-18",
                                    "genre": "Documentary",
                                    "mpaa_rating": "G",
                                    "total_gross": "17780194",
                                    "inflation_adjusted_gross": "18346024",
                                    "director": "NULL"
                                },
                                {
                                    "movie_title": "NULL",
                                    "release_date": "2014-05-10",
                                    "genre": "Drama",
                                    "mpaa_rating": "PG",
                                    "total_gross": "36447959",
                                    "inflation_adjusted_gross": "37607865",
                                    "director": "NULL"
                                },
                                {
                                    "movie_title": "NULL",
                                    "release_date": "2014-05-30",
                                    "genre": "Adventure",
                                    "mpaa_rating": "PG",
                                    "total_gross": "241407328",
                                    "inflation_adjusted_gross": "249089809",
                                    "director": "NULL"
                                },
                                {
                                    "movie_title": "NULL",
                                    "release_date": "2014-07-18",
                                    "genre": "Adventure",
                                    "mpaa_rating": "PG",
                                    "total_gross": "59157732",
                                    "inflation_adjusted_gross": "61040349",
                                    "director": "NULL"
                                },
                                {
                                    "movie_title": "NULL",
                                    "release_date": "2014-08-01",
                                    "genre": "Adventure",
                                    "mpaa_rating": "PG-13",
                                    "total_gross": "333172112",
                                    "inflation_adjusted_gross": "343771168",
                                    "director": "NULL"
                                },
                                {
                                    "movie_title": "NULL",
                                    "release_date": "2014-08-08",
                                    "genre": "Romantic Comedy",
                                    "mpaa_rating": "PG",
                                    "total_gross": "54235441",
                                    "inflation_adjusted_gross": "55961409",
                                    "director": "NULL"
                                },
                                {
                                    "movie_title": "NULL",
                                    "release_date": "2014-10-10",
                                    "genre": "Comedy",
                                    "mpaa_rating": "PG",
                                    "total_gross": "66954149",
                                    "inflation_adjusted_gross": "69055550",
                                    "director": "NULL"
                                },
                                {
                                    "movie_title": "NULL",
                                    "release_date": "2014-12-25",
                                    "genre": "Musical",
                                    "mpaa_rating": "PG",
                                    "total_gross": "128002372",
                                    "inflation_adjusted_gross": "130894237",
                                    "director": "NULL"
                                },
                                {
                                    "movie_title": "NULL",
                                    "release_date": "2015-01-23",
                                    "genre": "Adventure",
                                    "mpaa_rating": "PG",
                                    "total_gross": "12429583",
                                    "inflation_adjusted_gross": "12429583",
                                    "director": "NULL"
                                },
                                {
                                    "movie_title": "NULL",
                                    "release_date": "2015-02-20",
                                    "genre": "Drama",
                                    "mpaa_rating": "PG",
                                    "total_gross": "44480275",
                                    "inflation_adjusted_gross": "44480275",
                                    "director": "NULL"
                                },
                                {
                                    "movie_title": "NULL",
                                    "release_date": "2015-04-17",
                                    "genre": "Documentary",
                                    "mpaa_rating": "G",
                                    "total_gross": "16432322",
                                    "inflation_adjusted_gross": "16432322",
                                    "director": "NULL"
                                },
                                {
                                    "movie_title": "NULL",
                                    "release_date": "2015-05-01",
                                    "genre": "Action",
                                    "mpaa_rating": "PG-13",
                                    "total_gross": "459005868",
                                    "inflation_adjusted_gross": "459005868",
                                    "director": "NULL"
                                },
                                {
                                    "movie_title": "NULL",
                                    "release_date": "2015-05-22",
                                    "genre": "Adventure",
                                    "mpaa_rating": "PG",
                                    "total_gross": "93436322",
                                    "inflation_adjusted_gross": "93436322",
                                    "director": "NULL"
                                },
                                {
                                    "movie_title": "NULL",
                                    "release_date": "2015-06-19",
                                    "genre": "Adventure",
                                    "mpaa_rating": "PG",
                                    "total_gross": "356461711",
                                    "inflation_adjusted_gross": "356461711",
                                    "director": "NULL"
                                },
                                {
                                    "movie_title": "NULL",
                                    "release_date": "2015-07-17",
                                    "genre": "Action",
                                    "mpaa_rating": "PG-13",
                                    "total_gross": "180202163",
                                    "inflation_adjusted_gross": "180202163",
                                    "director": "NULL"
                                },
                                {
                                    "movie_title": "NULL",
                                    "release_date": "2015-10-16",
                                    "genre": "Thriller/Suspense",
                                    "mpaa_rating": "PG-13",
                                    "total_gross": "72313754",
                                    "inflation_adjusted_gross": "72313754",
                                    "director": "NULL"
                                },
                                {
                                    "movie_title": "NULL",
                                    "release_date": "2015-11-25",
                                    "genre": "Adventure",
                                    "mpaa_rating": "PG",
                                    "total_gross": "123087120",
                                    "inflation_adjusted_gross": "123087120",
                                    "director": "NULL"
                                },
                                {
                                    "movie_title": "NULL",
                                    "release_date": "2015-12-18",
                                    "genre": "Adventure",
                                    "mpaa_rating": "PG-13",
                                    "total_gross": "936662225",
                                    "inflation_adjusted_gross": "936662225",
                                    "director": "NULL"
                                },
                                {
                                    "movie_title": "NULL",
                                    "release_date": "2016-01-29",
                                    "genre": "Thriller/Suspense",
                                    "mpaa_rating": "PG",
                                    "total_gross": "27569558",
                                    "inflation_adjusted_gross": "27569558",
                                    "director": "NULL"
                                },
                                {
                                    "movie_title": "NULL",
                                    "release_date": "2016-04-29",
                                    "genre": "Documentary",
                                    "mpaa_rating": "G",
                                    "total_gross": "7895708",
                                    "inflation_adjusted_gross": "7895708",
                                    "director": "NULL"
                                },
                                {
                                    "movie_title": "NULL",
                                    "release_date": "2016-05-06",
                                    "genre": "Action",
                                    "mpaa_rating": "PG-13",
                                    "total_gross": "408084349",
                                    "inflation_adjusted_gross": "408084349",
                                    "director": "NULL"
                                },
                                {
                                    "movie_title": "NULL",
                                    "release_date": "2016-05-27",
                                    "genre": "Adventure",
                                    "mpaa_rating": "PG",
                                    "total_gross": "77042381",
                                    "inflation_adjusted_gross": "77042381",
                                    "director": "NULL"
                                },
                                {
                                    "movie_title": "NULL",
                                    "release_date": "2016-06-17",
                                    "genre": "Adventure",
                                    "mpaa_rating": "PG",
                                    "total_gross": "486295561",
                                    "inflation_adjusted_gross": "486295561",
                                    "director": "NULL"
                                },
                                {
                                    "movie_title": "NULL",
                                    "release_date": "2016-07-01",
                                    "genre": "Adventure",
                                    "mpaa_rating": "PG",
                                    "total_gross": "55483770",
                                    "inflation_adjusted_gross": "55483770",
                                    "director": "NULL"
                                },
                                {
                                    "movie_title": "NULL",
                                    "release_date": "2016-08-12",
                                    "genre": "Adventure",
                                    "mpaa_rating": "PG",
                                    "total_gross": "76233151",
                                    "inflation_adjusted_gross": "76233151",
                                    "director": "NULL"
                                },
                                {
                                    "movie_title": "NULL",
                                    "release_date": "2016-09-02",
                                    "genre": "Drama",
                                    "mpaa_rating": "PG-13",
                                    "total_gross": "12545979",
                                    "inflation_adjusted_gross": "12545979",
                                    "director": "NULL"
                                },
                                {
                                    "movie_title": "NULL",
                                    "release_date": "2016-09-23",
                                    "genre": "Drama",
                                    "mpaa_rating": "PG",
                                    "total_gross": "8874389",
                                    "inflation_adjusted_gross": "8874389",
                                    "director": "NULL"
                                },
                                {
                                    "movie_title": "NULL",
                                    "release_date": "2016-11-04",
                                    "genre": "Adventure",
                                    "mpaa_rating": "PG-13",
                                    "total_gross": "232532923",
                                    "inflation_adjusted_gross": "232532923",
                                    "director": "NULL"
                                },
                                {
                                    "movie_title": "NULL",
                                    "release_date": "2016-12-16",
                                    "genre": "Adventure",
                                    "mpaa_rating": "PG-13",
                                    "total_gross": "529483936",
                                    "inflation_adjusted_gross": "529483936",
                                    "director": "NULL"
                                }
                            ]
                        },
                        "text/html": [
                            "<table>",
                            "<tr><th>movie_title</th><th>release_date</th><th>genre</th><th>mpaa_rating</th><th>total_gross</th><th>inflation_adjusted_gross</th><th>movie_title</th><th>director</th></tr>",
                            "<tr><td>When in Rome</td><td>2010-01-29</td><td>Romantic Comedy</td><td>PG-13</td><td>32680633</td><td>34917330</td><td>NULL</td><td>NULL</td></tr>",
                            "<tr><td>Waking Sleeping Beauty</td><td>2010-03-26</td><td>Documentary</td><td>PG</td><td>80741</td><td>86264</td><td>NULL</td><td>NULL</td></tr>",
                            "<tr><td>The Last Song</td><td>2010-03-31</td><td>Drama</td><td>PG</td><td>62950384</td><td>67258772</td><td>NULL</td><td>NULL</td></tr>",
                            "<tr><td>Oceans</td><td>2010-04-22</td><td>Documentary</td><td>G</td><td>19422319</td><td>20751600</td><td>NULL</td><td>NULL</td></tr>",
                            "<tr><td>Toy Story 3</td><td>2010-06-18</td><td>Adventure</td><td>G</td><td>415004880</td><td>443408255</td><td>NULL</td><td>NULL</td></tr>",
                            "<tr><td>The Sorcerer&#39;s Apprentice</td><td>2010-07-14</td><td>Adventure</td><td>PG</td><td>63150991</td><td>67473105</td><td>NULL</td><td>NULL</td></tr>",
                            "<tr><td>Step Up 3D</td><td>2010-08-06</td><td>Drama</td><td>PG-13</td><td>42400223</td><td>45302137</td><td>NULL</td><td>NULL</td></tr>",
                            "<tr><td>Gedo Senki (Tales from Earthsea)</td><td>2010-08-13</td><td>Adventure</td><td>PG-13</td><td>48658</td><td>51988</td><td>NULL</td><td>NULL</td></tr>",
                            "<tr><td>You Again</td><td>2010-09-24</td><td>Comedy</td><td>PG</td><td>25702053</td><td>27461121</td><td>NULL</td><td>NULL</td></tr>",
                            "<tr><td>Secretariat</td><td>2010-10-08</td><td>Drama</td><td>PG</td><td>59699513</td><td>63781920</td><td>NULL</td><td>NULL</td></tr>",
                            "<tr><td>Tron: Legacy</td><td>2010-12-17</td><td>Adventure</td><td>PG</td><td>172062763</td><td>183619259</td><td>NULL</td><td>NULL</td></tr>",
                            "<tr><td>Gnomeo and Juliet</td><td>2011-02-11</td><td>Comedy</td><td>G</td><td>99967670</td><td>106270797</td><td>NULL</td><td>NULL</td></tr>",
                            "<tr><td>I am Number Four</td><td>2011-02-18</td><td>Adventure</td><td>PG-13</td><td>55100437</td><td>58574607</td><td>NULL</td><td>NULL</td></tr>",
                            "<tr><td>Mars Needs Moms</td><td>2011-03-11</td><td>Adventure</td><td>PG</td><td>21392758</td><td>22741603</td><td>NULL</td><td>NULL</td></tr>",
                            "<tr><td>African Cats</td><td>2011-04-22</td><td>Documentary</td><td>G</td><td>15428747</td><td>16401551</td><td>NULL</td><td>NULL</td></tr>",
                            "<tr><td>Zokkomon</td><td>2011-04-22</td><td>Adventure</td><td>PG</td><td>2815</td><td>2984</td><td>NULL</td><td>NULL</td></tr>",
                            "<tr><td>Prom</td><td>2011-04-29</td><td>Comedy</td><td>PG</td><td>10130219</td><td>10768946</td><td>NULL</td><td>NULL</td></tr>",
                            "<tr><td>Pirates of the Caribbean: On Stranger…</td><td>2011-05-20</td><td>Adventure</td><td>PG-13</td><td>241063875</td><td>256263359</td><td>NULL</td><td>NULL</td></tr>",
                            "<tr><td>Cars 2</td><td>2011-06-24</td><td>Adventure</td><td>G</td><td>191450875</td><td>203522177</td><td>NULL</td><td>NULL</td></tr>",
                            "<tr><td>The Help</td><td>2011-08-10</td><td>Drama</td><td>PG-13</td><td>169705587</td><td>180404976</td><td>NULL</td><td>NULL</td></tr>",
                            "<tr><td>Fright Night</td><td>2011-08-19</td><td>Horror</td><td>R</td><td>18298649</td><td>19452402</td><td>NULL</td><td>NULL</td></tr>",
                            "<tr><td>The Muppets</td><td>2011-11-23</td><td>Comedy</td><td>PG</td><td>88625922</td><td>94189503</td><td>NULL</td><td>NULL</td></tr>",
                            "<tr><td>War Horse</td><td>2011-12-25</td><td>Drama</td><td>PG-13</td><td>79883359</td><td>84762149</td><td>NULL</td><td>NULL</td></tr>",
                            "<tr><td>The Secret World of Arietty</td><td>2012-02-17</td><td>Adventure</td><td>G</td><td>19192510</td><td>20325733</td><td>NULL</td><td>NULL</td></tr>",
                            "<tr><td>John Carter</td><td>2012-03-09</td><td>Adventure</td><td>PG-13</td><td>73058679</td><td>77372445</td><td>NULL</td><td>NULL</td></tr>",
                            "<tr><td>Chimpanzee</td><td>2012-04-20</td><td>Documentary</td><td>G</td><td>28965459</td><td>30675725</td><td>NULL</td><td>NULL</td></tr>",
                            "<tr><td>The Avengers</td><td>2012-05-04</td><td>Action</td><td>PG-13</td><td>623279547</td><td>660081224</td><td>NULL</td><td>NULL</td></tr>",
                            "<tr><td>Brave</td><td>2012-06-22</td><td>Adventure</td><td>PG</td><td>237282182</td><td>251292441</td><td>NULL</td><td>NULL</td></tr>",
                            "<tr><td>People Like Us</td><td>2012-06-29</td><td>Drama</td><td>PG-13</td><td>12431792</td><td>13165822</td><td>NULL</td><td>NULL</td></tr>",
                            "<tr><td>The Odd Life of Timothy Green</td><td>2012-08-15</td><td>Drama</td><td>PG</td><td>51853450</td><td>54914942</td><td>NULL</td><td>NULL</td></tr>",
                            "<tr><td>Frankenweenie</td><td>2012-10-05</td><td>Comedy</td><td>PG</td><td>35287788</td><td>37363513</td><td>NULL</td><td>NULL</td></tr>",
                            "<tr><td>Lincoln</td><td>2012-11-09</td><td>Drama</td><td>PG-13</td><td>182207973</td><td>192122330</td><td>NULL</td><td>NULL</td></tr>",
                            "<tr><td>Oz the Great and Powerful</td><td>2013-03-08</td><td>Adventure</td><td>PG</td><td>234770996</td><td>243434130</td><td>NULL</td><td>NULL</td></tr>",
                            "<tr><td>Iron Man 3</td><td>2013-05-03</td><td>Action</td><td>PG-13</td><td>408992272</td><td>424084233</td><td>NULL</td><td>NULL</td></tr>",
                            "<tr><td>Monsters University</td><td>2013-06-21</td><td>Adventure</td><td>G</td><td>268488329</td><td>278395641</td><td>NULL</td><td>NULL</td></tr>",
                            "<tr><td>The Lone Ranger</td><td>2013-07-02</td><td>Western</td><td>PG-13</td><td>89302115</td><td>92597388</td><td>NULL</td><td>NULL</td></tr>",
                            "<tr><td>Disney Planes</td><td>2013-08-09</td><td>Comedy</td><td>PG</td><td>90282580</td><td>93614037</td><td>NULL</td><td>NULL</td></tr>",
                            "<tr><td>The Fifth Estate</td><td>2013-10-18</td><td>Drama</td><td>R</td><td>3254172</td><td>3374251</td><td>NULL</td><td>NULL</td></tr>",
                            "<tr><td>Thor: The Dark World</td><td>2013-11-08</td><td>Adventure</td><td>PG-13</td><td>206362140</td><td>213962184</td><td>NULL</td><td>NULL</td></tr>",
                            "<tr><td>Kaze Tachinu</td><td>2013-11-08</td><td>Drama</td><td>PG-13</td><td>5201879</td><td>5367415</td><td>NULL</td><td>NULL</td></tr>",
                            "<tr><td>Delivery Man</td><td>2013-11-22</td><td>Comedy</td><td>PG-13</td><td>30659817</td><td>31787136</td><td>NULL</td><td>NULL</td></tr>",
                            "<tr><td>Saving Mr. Banks</td><td>2013-12-13</td><td>Drama</td><td>PG-13</td><td>83299761</td><td>86249969</td><td>NULL</td><td>NULL</td></tr>",
                            "<tr><td>Muppets Most Wanted</td><td>2014-03-21</td><td>Comedy</td><td>PG</td><td>51178893</td><td>52807594</td><td>NULL</td><td>NULL</td></tr>",
                            "<tr><td>Captain America: The Winter Soldier</td><td>2014-04-04</td><td>Action</td><td>PG-13</td><td>259746958</td><td>268013076</td><td>NULL</td><td>NULL</td></tr>",
                            "<tr><td>Bears</td><td>2014-04-18</td><td>Documentary</td><td>G</td><td>17780194</td><td>18346024</td><td>NULL</td><td>NULL</td></tr>",
                            "<tr><td>Million Dollar Arm</td><td>2014-05-10</td><td>Drama</td><td>PG</td><td>36447959</td><td>37607865</td><td>NULL</td><td>NULL</td></tr>",
                            "<tr><td>Maleficent</td><td>2014-05-30</td><td>Adventure</td><td>PG</td><td>241407328</td><td>249089809</td><td>NULL</td><td>NULL</td></tr>",
                            "<tr><td>Planes: Fire and Rescue</td><td>2014-07-18</td><td>Adventure</td><td>PG</td><td>59157732</td><td>61040349</td><td>NULL</td><td>NULL</td></tr>",
                            "<tr><td>Guardians of the Galaxy</td><td>2014-08-01</td><td>Adventure</td><td>PG-13</td><td>333172112</td><td>343771168</td><td>NULL</td><td>NULL</td></tr>",
                            "<tr><td>The Hundred-Foot Journey</td><td>2014-08-08</td><td>Romantic Comedy</td><td>PG</td><td>54235441</td><td>55961409</td><td>NULL</td><td>NULL</td></tr>",
                            "<tr><td>Alexander and the Terrible, Horrible,…</td><td>2014-10-10</td><td>Comedy</td><td>PG</td><td>66954149</td><td>69055550</td><td>NULL</td><td>NULL</td></tr>",
                            "<tr><td>Into the Woods</td><td>2014-12-25</td><td>Musical</td><td>PG</td><td>128002372</td><td>130894237</td><td>NULL</td><td>NULL</td></tr>",
                            "<tr><td>Strange Magic</td><td>2015-01-23</td><td>Adventure</td><td>PG</td><td>12429583</td><td>12429583</td><td>NULL</td><td>NULL</td></tr>",
                            "<tr><td>McFarland, USA</td><td>2015-02-20</td><td>Drama</td><td>PG</td><td>44480275</td><td>44480275</td><td>NULL</td><td>NULL</td></tr>",
                            "<tr><td>Monkey Kingdom</td><td>2015-04-17</td><td>Documentary</td><td>G</td><td>16432322</td><td>16432322</td><td>NULL</td><td>NULL</td></tr>",
                            "<tr><td>Avengers: Age of Ultron</td><td>2015-05-01</td><td>Action</td><td>PG-13</td><td>459005868</td><td>459005868</td><td>NULL</td><td>NULL</td></tr>",
                            "<tr><td>Tomorrowland</td><td>2015-05-22</td><td>Adventure</td><td>PG</td><td>93436322</td><td>93436322</td><td>NULL</td><td>NULL</td></tr>",
                            "<tr><td>Inside Out</td><td>2015-06-19</td><td>Adventure</td><td>PG</td><td>356461711</td><td>356461711</td><td>NULL</td><td>NULL</td></tr>",
                            "<tr><td>Ant-Man</td><td>2015-07-17</td><td>Action</td><td>PG-13</td><td>180202163</td><td>180202163</td><td>NULL</td><td>NULL</td></tr>",
                            "<tr><td>Bridge of Spies</td><td>2015-10-16</td><td>Thriller/Suspense</td><td>PG-13</td><td>72313754</td><td>72313754</td><td>NULL</td><td>NULL</td></tr>",
                            "<tr><td>The Good Dinosaur</td><td>2015-11-25</td><td>Adventure</td><td>PG</td><td>123087120</td><td>123087120</td><td>NULL</td><td>NULL</td></tr>",
                            "<tr><td>Star Wars Ep. VII: The Force Awakens</td><td>2015-12-18</td><td>Adventure</td><td>PG-13</td><td>936662225</td><td>936662225</td><td>NULL</td><td>NULL</td></tr>",
                            "<tr><td>The Finest Hours</td><td>2016-01-29</td><td>Thriller/Suspense</td><td>PG</td><td>27569558</td><td>27569558</td><td>NULL</td><td>NULL</td></tr>",
                            "<tr><td>A Beautiful Planet</td><td>2016-04-29</td><td>Documentary</td><td>G</td><td>7895708</td><td>7895708</td><td>NULL</td><td>NULL</td></tr>",
                            "<tr><td>Captain America: Civil War</td><td>2016-05-06</td><td>Action</td><td>PG-13</td><td>408084349</td><td>408084349</td><td>NULL</td><td>NULL</td></tr>",
                            "<tr><td>Alice Through the Looking Glass</td><td>2016-05-27</td><td>Adventure</td><td>PG</td><td>77042381</td><td>77042381</td><td>NULL</td><td>NULL</td></tr>",
                            "<tr><td>Finding Dory</td><td>2016-06-17</td><td>Adventure</td><td>PG</td><td>486295561</td><td>486295561</td><td>NULL</td><td>NULL</td></tr>",
                            "<tr><td>The BFG</td><td>2016-07-01</td><td>Adventure</td><td>PG</td><td>55483770</td><td>55483770</td><td>NULL</td><td>NULL</td></tr>",
                            "<tr><td>Pete’s Dragon</td><td>2016-08-12</td><td>Adventure</td><td>PG</td><td>76233151</td><td>76233151</td><td>NULL</td><td>NULL</td></tr>",
                            "<tr><td>The Light Between Oceans</td><td>2016-09-02</td><td>Drama</td><td>PG-13</td><td>12545979</td><td>12545979</td><td>NULL</td><td>NULL</td></tr>",
                            "<tr><td>Queen of Katwe</td><td>2016-09-23</td><td>Drama</td><td>PG</td><td>8874389</td><td>8874389</td><td>NULL</td><td>NULL</td></tr>",
                            "<tr><td>Doctor Strange</td><td>2016-11-04</td><td>Adventure</td><td>PG-13</td><td>232532923</td><td>232532923</td><td>NULL</td><td>NULL</td></tr>",
                            "<tr><td>Rogue One: A Star Wars Story</td><td>2016-12-16</td><td>Adventure</td><td>PG-13</td><td>529483936</td><td>529483936</td><td>NULL</td><td>NULL</td></tr>",
                            "</table>"
                        ]
                    }
                }
            ],
            "execution_count": 50
        },
        {
            "cell_type": "markdown",
            "source": [
                "## DELET ข้อมูลในตารางแบบมีเงื่อนไข"
            ],
            "metadata": {
                "language": "sql",
                "azdata_cell_guid": "e9097b9a-77e8-4cfe-b21f-c716a6fa439f"
            },
            "attachments": {}
        },
        {
            "cell_type": "code",
            "source": [
                "delete from movie \r\n",
                "    from movie m left join director d on m.movie_title = d.movie_title where director is null"
            ],
            "metadata": {
                "language": "sql",
                "azdata_cell_guid": "5f9d87a7-53b0-4200-a388-d7aec4419fab"
            },
            "outputs": [
                {
                    "output_type": "display_data",
                    "data": {
                        "text/html": "(73 rows affected)"
                    },
                    "metadata": {}
                },
                {
                    "output_type": "display_data",
                    "data": {
                        "text/html": "Total execution time: 00:00:00.006"
                    },
                    "metadata": {}
                }
            ],
            "execution_count": 51
        },
        {
            "cell_type": "code",
            "source": [
                "select * from movie"
            ],
            "metadata": {
                "language": "sql",
                "azdata_cell_guid": "5825c19e-a63a-463d-a4f7-89ed0df74004"
            },
            "outputs": [
                {
                    "output_type": "display_data",
                    "data": {
                        "text/html": "(10 rows affected)"
                    },
                    "metadata": {}
                },
                {
                    "output_type": "display_data",
                    "data": {
                        "text/html": "Total execution time: 00:00:00.016"
                    },
                    "metadata": {}
                },
                {
                    "output_type": "execute_result",
                    "metadata": {},
                    "execution_count": 52,
                    "data": {
                        "application/vnd.dataresource+json": {
                            "schema": {
                                "fields": [
                                    {
                                        "name": "movie_title"
                                    },
                                    {
                                        "name": "release_date"
                                    },
                                    {
                                        "name": "genre"
                                    },
                                    {
                                        "name": "mpaa_rating"
                                    },
                                    {
                                        "name": "total_gross"
                                    },
                                    {
                                        "name": "inflation_adjusted_gross"
                                    }
                                ]
                            },
                            "data": [
                                {
                                    "movie_title": "Alice in Wonderland",
                                    "release_date": "2010-03-05",
                                    "genre": "Adventure",
                                    "mpaa_rating": "PG",
                                    "total_gross": "334191110",
                                    "inflation_adjusted_gross": "357063499"
                                },
                                {
                                    "movie_title": "Tangled",
                                    "release_date": "2010-11-24",
                                    "genre": "Adventure",
                                    "mpaa_rating": "PG",
                                    "total_gross": "200821936",
                                    "inflation_adjusted_gross": "214388548"
                                },
                                {
                                    "movie_title": "Winnie the Pooh",
                                    "release_date": "2011-07-15",
                                    "genre": "Adventure",
                                    "mpaa_rating": "G",
                                    "total_gross": "26692846",
                                    "inflation_adjusted_gross": "28375869"
                                },
                                {
                                    "movie_title": "Wreck-It Ralph",
                                    "release_date": "2012-11-02",
                                    "genre": "Adventure",
                                    "mpaa_rating": "PG",
                                    "total_gross": "189412677",
                                    "inflation_adjusted_gross": "200354959"
                                },
                                {
                                    "movie_title": "Frozen",
                                    "release_date": "2013-11-22",
                                    "genre": "Adventure",
                                    "mpaa_rating": "PG",
                                    "total_gross": "400738009",
                                    "inflation_adjusted_gross": "414997174"
                                },
                                {
                                    "movie_title": "Big Hero 6",
                                    "release_date": "2014-11-07",
                                    "genre": "Adventure",
                                    "mpaa_rating": "PG",
                                    "total_gross": "222527828",
                                    "inflation_adjusted_gross": "229249222"
                                },
                                {
                                    "movie_title": "Cinderella",
                                    "release_date": "2015-03-13",
                                    "genre": "Drama",
                                    "mpaa_rating": "PG",
                                    "total_gross": "201151353",
                                    "inflation_adjusted_gross": "201151353"
                                },
                                {
                                    "movie_title": "Zootopia",
                                    "release_date": "2016-03-04",
                                    "genre": "Adventure",
                                    "mpaa_rating": "PG",
                                    "total_gross": "341268248",
                                    "inflation_adjusted_gross": "341268248"
                                },
                                {
                                    "movie_title": "The Jungle Book",
                                    "release_date": "2016-04-15",
                                    "genre": "Adventure",
                                    "mpaa_rating": "PG",
                                    "total_gross": "364001123",
                                    "inflation_adjusted_gross": "364001123"
                                },
                                {
                                    "movie_title": "Moana",
                                    "release_date": "2016-11-23",
                                    "genre": "Adventure",
                                    "mpaa_rating": "PG",
                                    "total_gross": "246082029",
                                    "inflation_adjusted_gross": "246082029"
                                }
                            ]
                        },
                        "text/html": [
                            "<table>",
                            "<tr><th>movie_title</th><th>release_date</th><th>genre</th><th>mpaa_rating</th><th>total_gross</th><th>inflation_adjusted_gross</th></tr>",
                            "<tr><td>Alice in Wonderland</td><td>2010-03-05</td><td>Adventure</td><td>PG</td><td>334191110</td><td>357063499</td></tr>",
                            "<tr><td>Tangled</td><td>2010-11-24</td><td>Adventure</td><td>PG</td><td>200821936</td><td>214388548</td></tr>",
                            "<tr><td>Winnie the Pooh</td><td>2011-07-15</td><td>Adventure</td><td>G</td><td>26692846</td><td>28375869</td></tr>",
                            "<tr><td>Wreck-It Ralph</td><td>2012-11-02</td><td>Adventure</td><td>PG</td><td>189412677</td><td>200354959</td></tr>",
                            "<tr><td>Frozen</td><td>2013-11-22</td><td>Adventure</td><td>PG</td><td>400738009</td><td>414997174</td></tr>",
                            "<tr><td>Big Hero 6</td><td>2014-11-07</td><td>Adventure</td><td>PG</td><td>222527828</td><td>229249222</td></tr>",
                            "<tr><td>Cinderella</td><td>2015-03-13</td><td>Drama</td><td>PG</td><td>201151353</td><td>201151353</td></tr>",
                            "<tr><td>Zootopia</td><td>2016-03-04</td><td>Adventure</td><td>PG</td><td>341268248</td><td>341268248</td></tr>",
                            "<tr><td>The Jungle Book</td><td>2016-04-15</td><td>Adventure</td><td>PG</td><td>364001123</td><td>364001123</td></tr>",
                            "<tr><td>Moana</td><td>2016-11-23</td><td>Adventure</td><td>PG</td><td>246082029</td><td>246082029</td></tr>",
                            "</table>"
                        ]
                    }
                }
            ],
            "execution_count": 52
        },
        {
            "cell_type": "markdown",
            "source": [
                ""
            ],
            "metadata": {
                "language": "sql",
                "azdata_cell_guid": "b7d454e9-7bb2-4ea9-86cc-d0c79842911f"
            }
        }
    ]
}