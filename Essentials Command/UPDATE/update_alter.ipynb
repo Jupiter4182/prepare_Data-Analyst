{
    "metadata": {
        "kernelspec": {
            "name": "SQL",
            "display_name": "SQL",
            "language": "sql"
        },
        "language_info": {
            "name": "sql",
            "version": ""
        }
    },
    "nbformat_minor": 2,
    "nbformat": 4,
    "cells": [
        {
            "cell_type": "markdown",
            "source": [
                "# UPDATE แก้ข้อมูลในตาราง\n",
                "\n",
                "**update** \\[tablename\\] **set** \\[column name\\] =; แก้ไขข้อมูล\n",
                "\n",
                "**alter table** <span style=\"color: var(--vscode-foreground);\">[tablename] <b>add </b>[new&nbsp;</span>  <span style=\"color: var(--vscode-foreground);\">column name] <b>type&nbsp;</b>{money,varche...} <b>value&nbsp;</b>{1-255,null}</span>\n",
                "\n",
                "<span style=\"color: #859900;\">alter</span> <span style=\"color: #859900;\">table</span> movie <span style=\"color: #859900;\">add</span> gross\\_th <span style=\"color: #586e75;font-weight: bold;\">money</span> <span style=\"color: #859900;\"><b>null</b></span>\n",
                "\n",
                "<span style=\"color: #93a1a1;font-style: italic;\">-- Add new column name gross_th data type : money &nbsp;vaultes can be null</span>"
            ],
            "metadata": {
                "azdata_cell_guid": "b0e16ebb-08f0-443b-8775-f8d03cf6464f"
            },
            "attachments": {}
        },
        {
            "cell_type": "code",
            "source": [
                "update movie\r\n",
                "    set movie_title =upper(movie_title)"
            ],
            "metadata": {
                "azdata_cell_guid": "1166d432-debb-48f6-a667-ad13c79595d9",
                "language": "sql"
            },
            "outputs": [
                {
                    "output_type": "display_data",
                    "data": {
                        "text/html": "(579 rows affected)"
                    },
                    "metadata": {}
                },
                {
                    "output_type": "display_data",
                    "data": {
                        "text/html": "Total execution time: 00:00:00.005"
                    },
                    "metadata": {}
                }
            ],
            "execution_count": 2
        },
        {
            "cell_type": "code",
            "source": [
                "update movie\r\n",
                "    set movie_title =lower(movie_title), genre = upper(genre)"
            ],
            "metadata": {
                "language": "sql",
                "azdata_cell_guid": "f655b8c3-1c79-4228-a8de-4873061e9513",
                "tags": []
            },
            "outputs": [
                {
                    "output_type": "display_data",
                    "data": {
                        "text/html": "(579 rows affected)"
                    },
                    "metadata": {}
                },
                {
                    "output_type": "display_data",
                    "data": {
                        "text/html": "Total execution time: 00:00:00.004"
                    },
                    "metadata": {}
                }
            ],
            "execution_count": 4
        },
        {
            "cell_type": "code",
            "source": [
                "select * from movie"
            ],
            "metadata": {
                "language": "sql",
                "azdata_cell_guid": "8a086a70-2121-477d-b2b9-a5de790b7ae1"
            },
            "outputs": [
                {
                    "output_type": "display_data",
                    "data": {
                        "text/html": "(579 rows affected)"
                    },
                    "metadata": {}
                },
                {
                    "output_type": "display_data",
                    "data": {
                        "text/html": "Total execution time: 00:00:00.011"
                    },
                    "metadata": {}
                },
                {
                    "output_type": "execute_result",
                    "metadata": {},
                    "execution_count": 6,
                    "data": {
                        "application/vnd.dataresource+json": {
                            "schema": {
                                "fields": [
                                    {
                                        "name": "movie_title"
                                    },
                                    {
                                        "name": "release_date"
                                    },
                                    {
                                        "name": "genre"
                                    },
                                    {
                                        "name": "mpaa_rating"
                                    },
                                    {
                                        "name": "total_gross"
                                    },
                                    {
                                        "name": "inflation_adjusted_gross"
                                    }
                                ]
                            },
                            "data": [
                                {
                                    "movie_title": "snow white and the seven dwarfs",
                                    "release_date": "1937-12-21",
                                    "genre": "MUSICAL",
                                    "mpaa_rating": "G",
                                    "total_gross": "184925485",
                                    "inflation_adjusted_gross": "5228953251"
                                },
                                {
                                    "movie_title": "pinocchio",
                                    "release_date": "1940-02-09",
                                    "genre": "ADVENTURE",
                                    "mpaa_rating": "G",
                                    "total_gross": "84300000",
                                    "inflation_adjusted_gross": "2188229052"
                                },
                                {
                                    "movie_title": "fantasia",
                                    "release_date": "1940-11-13",
                                    "genre": "MUSICAL",
                                    "mpaa_rating": "G",
                                    "total_gross": "83320000",
                                    "inflation_adjusted_gross": "2187090808"
                                },
                                {
                                    "movie_title": "song of the south",
                                    "release_date": "1946-11-12",
                                    "genre": "ADVENTURE",
                                    "mpaa_rating": "G",
                                    "total_gross": "65000000",
                                    "inflation_adjusted_gross": "1078510579"
                                },
                                {
                                    "movie_title": "cinderella",
                                    "release_date": "1950-02-15",
                                    "genre": "DRAMA",
                                    "mpaa_rating": "G",
                                    "total_gross": "85000000",
                                    "inflation_adjusted_gross": "920608730"
                                },
                                {
                                    "movie_title": "20,000 leagues under the sea",
                                    "release_date": "1954-12-23",
                                    "genre": "ADVENTURE",
                                    "mpaa_rating": "NULL",
                                    "total_gross": "28200000",
                                    "inflation_adjusted_gross": "528279994"
                                },
                                {
                                    "movie_title": "lady and the tramp",
                                    "release_date": "1955-06-22",
                                    "genre": "DRAMA",
                                    "mpaa_rating": "G",
                                    "total_gross": "93600000",
                                    "inflation_adjusted_gross": "1236035515"
                                },
                                {
                                    "movie_title": "sleeping beauty",
                                    "release_date": "1959-01-29",
                                    "genre": "DRAMA",
                                    "mpaa_rating": "NULL",
                                    "total_gross": "9464608",
                                    "inflation_adjusted_gross": "21505832"
                                },
                                {
                                    "movie_title": "101 dalmatians",
                                    "release_date": "1961-01-25",
                                    "genre": "COMEDY",
                                    "mpaa_rating": "G",
                                    "total_gross": "153000000",
                                    "inflation_adjusted_gross": "1362870985"
                                },
                                {
                                    "movie_title": "the absent minded professor",
                                    "release_date": "1961-03-16",
                                    "genre": "COMEDY",
                                    "mpaa_rating": "NULL",
                                    "total_gross": "25381407",
                                    "inflation_adjusted_gross": "310094574"
                                },
                                {
                                    "movie_title": "babes in toyland",
                                    "release_date": "1961-12-14",
                                    "genre": "MUSICAL",
                                    "mpaa_rating": "G",
                                    "total_gross": "10218316",
                                    "inflation_adjusted_gross": "124841160"
                                },
                                {
                                    "movie_title": "bon voyage!",
                                    "release_date": "1962-05-17",
                                    "genre": "COMEDY",
                                    "mpaa_rating": "Not Rated",
                                    "total_gross": "9230769",
                                    "inflation_adjusted_gross": "109581646"
                                },
                                {
                                    "movie_title": "the sword in the stone",
                                    "release_date": "1963-12-25",
                                    "genre": "ADVENTURE",
                                    "mpaa_rating": "NULL",
                                    "total_gross": "22182353",
                                    "inflation_adjusted_gross": "153870834"
                                },
                                {
                                    "movie_title": "the jungle book",
                                    "release_date": "1967-10-18",
                                    "genre": "MUSICAL",
                                    "mpaa_rating": "Not Rated",
                                    "total_gross": "141843000",
                                    "inflation_adjusted_gross": "789612346"
                                },
                                {
                                    "movie_title": "blackbeard's ghost",
                                    "release_date": "1968-02-08",
                                    "genre": "COMEDY",
                                    "mpaa_rating": "NULL",
                                    "total_gross": "21540050",
                                    "inflation_adjusted_gross": "138612686"
                                },
                                {
                                    "movie_title": "the aristocats",
                                    "release_date": "1970-04-24",
                                    "genre": "MUSICAL",
                                    "mpaa_rating": "G",
                                    "total_gross": "55675257",
                                    "inflation_adjusted_gross": "255161499"
                                },
                                {
                                    "movie_title": "the boatniks",
                                    "release_date": "1970-07-01",
                                    "genre": "COMEDY",
                                    "mpaa_rating": "NULL",
                                    "total_gross": "18607492",
                                    "inflation_adjusted_gross": "101200742"
                                },
                                {
                                    "movie_title": "bedknobs and broomsticks",
                                    "release_date": "1971-10-07",
                                    "genre": "MUSICAL",
                                    "mpaa_rating": "NULL",
                                    "total_gross": "17871174",
                                    "inflation_adjusted_gross": "91305448"
                                },
                                {
                                    "movie_title": "the apple dumpling gang",
                                    "release_date": "1975-07-01",
                                    "genre": "COMEDY",
                                    "mpaa_rating": "NULL",
                                    "total_gross": "31916500",
                                    "inflation_adjusted_gross": "131246872"
                                },
                                {
                                    "movie_title": "freaky friday",
                                    "release_date": "1977-01-21",
                                    "genre": "COMEDY",
                                    "mpaa_rating": "NULL",
                                    "total_gross": "25942000",
                                    "inflation_adjusted_gross": "98067733"
                                },
                                {
                                    "movie_title": "the many adventures of winnie the pooh",
                                    "release_date": "1977-03-11",
                                    "genre": "NULL",
                                    "mpaa_rating": "NULL",
                                    "total_gross": "0",
                                    "inflation_adjusted_gross": "0"
                                },
                                {
                                    "movie_title": "the rescuers",
                                    "release_date": "1977-06-22",
                                    "genre": "ADVENTURE",
                                    "mpaa_rating": "NULL",
                                    "total_gross": "48775599",
                                    "inflation_adjusted_gross": "159743914"
                                },
                                {
                                    "movie_title": "herbie goes to monte carlo",
                                    "release_date": "1977-06-24",
                                    "genre": "NULL",
                                    "mpaa_rating": "NULL",
                                    "total_gross": "28000000",
                                    "inflation_adjusted_gross": "105847527"
                                },
                                {
                                    "movie_title": "the black hole",
                                    "release_date": "1979-12-21",
                                    "genre": "NULL",
                                    "mpaa_rating": "NULL",
                                    "total_gross": "35841901",
                                    "inflation_adjusted_gross": "120377374"
                                },
                                {
                                    "movie_title": "midnight madness",
                                    "release_date": "1980-02-08",
                                    "genre": "NULL",
                                    "mpaa_rating": "NULL",
                                    "total_gross": "2900000",
                                    "inflation_adjusted_gross": "9088096"
                                },
                                {
                                    "movie_title": "the last flight of noah’s ark",
                                    "release_date": "1980-06-25",
                                    "genre": "NULL",
                                    "mpaa_rating": "NULL",
                                    "total_gross": "11000000",
                                    "inflation_adjusted_gross": "34472116"
                                },
                                {
                                    "movie_title": "the devil and max devlin",
                                    "release_date": "1981-01-01",
                                    "genre": "NULL",
                                    "mpaa_rating": "NULL",
                                    "total_gross": "16000000",
                                    "inflation_adjusted_gross": "48517980"
                                },
                                {
                                    "movie_title": "amy",
                                    "release_date": "1981-03-20",
                                    "genre": "DRAMA",
                                    "mpaa_rating": "NULL",
                                    "total_gross": "0",
                                    "inflation_adjusted_gross": "0"
                                },
                                {
                                    "movie_title": "the fox and the hound",
                                    "release_date": "1981-07-10",
                                    "genre": "COMEDY",
                                    "mpaa_rating": "NULL",
                                    "total_gross": "43899231",
                                    "inflation_adjusted_gross": "133118889"
                                },
                                {
                                    "movie_title": "condorman",
                                    "release_date": "1981-08-07",
                                    "genre": "ACTION",
                                    "mpaa_rating": "NULL",
                                    "total_gross": "0",
                                    "inflation_adjusted_gross": "0"
                                },
                                {
                                    "movie_title": "night crossing",
                                    "release_date": "1982-02-05",
                                    "genre": "DRAMA",
                                    "mpaa_rating": "NULL",
                                    "total_gross": "4500000",
                                    "inflation_adjusted_gross": "12903059"
                                },
                                {
                                    "movie_title": "tron",
                                    "release_date": "1982-07-09",
                                    "genre": "ACTION",
                                    "mpaa_rating": "NULL",
                                    "total_gross": "26918576",
                                    "inflation_adjusted_gross": "77184895"
                                },
                                {
                                    "movie_title": "tex",
                                    "release_date": "1982-11-19",
                                    "genre": "DRAMA",
                                    "mpaa_rating": "NULL",
                                    "total_gross": "7199408",
                                    "inflation_adjusted_gross": "20643199"
                                },
                                {
                                    "movie_title": "trenchcoat",
                                    "release_date": "1983-03-11",
                                    "genre": "COMEDY",
                                    "mpaa_rating": "NULL",
                                    "total_gross": "4304286",
                                    "inflation_adjusted_gross": "11519089"
                                },
                                {
                                    "movie_title": "something wicked this way comes",
                                    "release_date": "1983-04-29",
                                    "genre": "HORROR",
                                    "mpaa_rating": "NULL",
                                    "total_gross": "5656087",
                                    "inflation_adjusted_gross": "15136765"
                                },
                                {
                                    "movie_title": "never cry wolf",
                                    "release_date": "1983-10-07",
                                    "genre": "DRAMA",
                                    "mpaa_rating": "NULL",
                                    "total_gross": "27668764",
                                    "inflation_adjusted_gross": "70669955"
                                },
                                {
                                    "movie_title": "running brave",
                                    "release_date": "1983-11-04",
                                    "genre": "DRAMA",
                                    "mpaa_rating": "NULL",
                                    "total_gross": "1204595",
                                    "inflation_adjusted_gross": "3223725"
                                },
                                {
                                    "movie_title": "splash",
                                    "release_date": "1984-03-09",
                                    "genre": "COMEDY",
                                    "mpaa_rating": "PG",
                                    "total_gross": "62599495",
                                    "inflation_adjusted_gross": "157057661"
                                },
                                {
                                    "movie_title": "country",
                                    "release_date": "1984-09-29",
                                    "genre": "DRAMA",
                                    "mpaa_rating": "NULL",
                                    "total_gross": "8400000",
                                    "inflation_adjusted_gross": "21075000"
                                },
                                {
                                    "movie_title": "baby: secret of the lost legend",
                                    "release_date": "1985-03-22",
                                    "genre": "ADVENTURE",
                                    "mpaa_rating": "NULL",
                                    "total_gross": "14276095",
                                    "inflation_adjusted_gross": "33900697"
                                },
                                {
                                    "movie_title": "return to oz",
                                    "release_date": "1985-06-21",
                                    "genre": "ADVENTURE",
                                    "mpaa_rating": "NULL",
                                    "total_gross": "10618813",
                                    "inflation_adjusted_gross": "25215934"
                                },
                                {
                                    "movie_title": "the black cauldron",
                                    "release_date": "1985-07-24",
                                    "genre": "ADVENTURE",
                                    "mpaa_rating": "NULL",
                                    "total_gross": "21288692",
                                    "inflation_adjusted_gross": "50553142"
                                },
                                {
                                    "movie_title": "my science project",
                                    "release_date": "1985-08-09",
                                    "genre": "COMEDY",
                                    "mpaa_rating": "NULL",
                                    "total_gross": "4100000",
                                    "inflation_adjusted_gross": "9736051"
                                },
                                {
                                    "movie_title": "the journey of natty gann",
                                    "release_date": "1985-09-27",
                                    "genre": "DRAMA",
                                    "mpaa_rating": "NULL",
                                    "total_gross": "9468512",
                                    "inflation_adjusted_gross": "22302956"
                                },
                                {
                                    "movie_title": "one magic christmas",
                                    "release_date": "1985-11-22",
                                    "genre": "DRAMA",
                                    "mpaa_rating": "NULL",
                                    "total_gross": "13229514",
                                    "inflation_adjusted_gross": "31415432"
                                },
                                {
                                    "movie_title": "down and out in beverly hills",
                                    "release_date": "1986-01-31",
                                    "genre": "COMEDY",
                                    "mpaa_rating": "R",
                                    "total_gross": "62134225",
                                    "inflation_adjusted_gross": "141183693"
                                },
                                {
                                    "movie_title": "off beat",
                                    "release_date": "1986-04-11",
                                    "genre": "COMEDY",
                                    "mpaa_rating": "NULL",
                                    "total_gross": "4842778",
                                    "inflation_adjusted_gross": "11003932"
                                },
                                {
                                    "movie_title": "ruthless people",
                                    "release_date": "1986-06-27",
                                    "genre": "COMEDY",
                                    "mpaa_rating": "R",
                                    "total_gross": "71624879",
                                    "inflation_adjusted_gross": "162748712"
                                },
                                {
                                    "movie_title": "the great mouse detective",
                                    "release_date": "1986-07-02",
                                    "genre": "ADVENTURE",
                                    "mpaa_rating": "NULL",
                                    "total_gross": "23605534",
                                    "inflation_adjusted_gross": "53637367"
                                },
                                {
                                    "movie_title": "flight of the navigator",
                                    "release_date": "1986-07-30",
                                    "genre": "ADVENTURE",
                                    "mpaa_rating": "NULL",
                                    "total_gross": "18564613",
                                    "inflation_adjusted_gross": "42183197"
                                },
                                {
                                    "movie_title": "tough guys",
                                    "release_date": "1986-10-03",
                                    "genre": "COMEDY",
                                    "mpaa_rating": "NULL",
                                    "total_gross": "21458229",
                                    "inflation_adjusted_gross": "48758184"
                                },
                                {
                                    "movie_title": "the color of money",
                                    "release_date": "1986-10-17",
                                    "genre": "DRAMA",
                                    "mpaa_rating": "R",
                                    "total_gross": "52293000",
                                    "inflation_adjusted_gross": "117957323"
                                },
                                {
                                    "movie_title": "outrageous fortune",
                                    "release_date": "1987-01-30",
                                    "genre": "COMEDY",
                                    "mpaa_rating": "R",
                                    "total_gross": "52864741",
                                    "inflation_adjusted_gross": "113976921"
                                },
                                {
                                    "movie_title": "tin men",
                                    "release_date": "1987-03-06",
                                    "genre": "COMEDY",
                                    "mpaa_rating": "NULL",
                                    "total_gross": "25411386",
                                    "inflation_adjusted_gross": "54787202"
                                },
                                {
                                    "movie_title": "ernest goes to camp",
                                    "release_date": "1987-05-22",
                                    "genre": "COMEDY",
                                    "mpaa_rating": "NULL",
                                    "total_gross": "23509382",
                                    "inflation_adjusted_gross": "50686462"
                                },
                                {
                                    "movie_title": "benji the hunted",
                                    "release_date": "1987-06-05",
                                    "genre": "ADVENTURE",
                                    "mpaa_rating": "NULL",
                                    "total_gross": "15212539",
                                    "inflation_adjusted_gross": "32798382"
                                },
                                {
                                    "movie_title": "adventures in babysitting",
                                    "release_date": "1987-07-03",
                                    "genre": "COMEDY",
                                    "mpaa_rating": "NULL",
                                    "total_gross": "33790923",
                                    "inflation_adjusted_gross": "72853569"
                                },
                                {
                                    "movie_title": "stakeout",
                                    "release_date": "1987-08-05",
                                    "genre": "COMEDY",
                                    "mpaa_rating": "R",
                                    "total_gross": "65673233",
                                    "inflation_adjusted_gross": "141592160"
                                },
                                {
                                    "movie_title": "can't buy me love",
                                    "release_date": "1987-08-14",
                                    "genre": "ROMANTIC COMEDY",
                                    "mpaa_rating": "NULL",
                                    "total_gross": "31623833",
                                    "inflation_adjusted_gross": "68181300"
                                },
                                {
                                    "movie_title": "hello again",
                                    "release_date": "1987-11-06",
                                    "genre": "COMEDY",
                                    "mpaa_rating": "NULL",
                                    "total_gross": "20419446",
                                    "inflation_adjusted_gross": "44024529"
                                },
                                {
                                    "movie_title": "3 men and a baby",
                                    "release_date": "1987-11-25",
                                    "genre": "COMEDY",
                                    "mpaa_rating": "PG",
                                    "total_gross": "167780960",
                                    "inflation_adjusted_gross": "353334607"
                                },
                                {
                                    "movie_title": "good morning vietnam",
                                    "release_date": "1987-12-23",
                                    "genre": "COMEDY",
                                    "mpaa_rating": "R",
                                    "total_gross": "123922370",
                                    "inflation_adjusted_gross": "254414837"
                                },
                                {
                                    "movie_title": "shoot to kill",
                                    "release_date": "1988-02-12",
                                    "genre": "ACTION",
                                    "mpaa_rating": "NULL",
                                    "total_gross": "29300000",
                                    "inflation_adjusted_gross": "60097074"
                                },
                                {
                                    "movie_title": "d.o.a.",
                                    "release_date": "1988-03-18",
                                    "genre": "THRILLER/SUSPENSE",
                                    "mpaa_rating": "NULL",
                                    "total_gross": "12706478",
                                    "inflation_adjusted_gross": "26062188"
                                },
                                {
                                    "movie_title": "return to snowy river",
                                    "release_date": "1988-04-15",
                                    "genre": "ADVENTURE",
                                    "mpaa_rating": "PG",
                                    "total_gross": "13687027",
                                    "inflation_adjusted_gross": "28073384"
                                },
                                {
                                    "movie_title": "big business",
                                    "release_date": "1988-06-10",
                                    "genre": "COMEDY",
                                    "mpaa_rating": "PG",
                                    "total_gross": "40150487",
                                    "inflation_adjusted_gross": "82352451"
                                },
                                {
                                    "movie_title": "who framed roger rabbit?",
                                    "release_date": "1988-06-22",
                                    "genre": "COMEDY",
                                    "mpaa_rating": "PG",
                                    "total_gross": "154112492",
                                    "inflation_adjusted_gross": "316250084"
                                },
                                {
                                    "movie_title": "cocktail",
                                    "release_date": "1988-07-29",
                                    "genre": "DRAMA",
                                    "mpaa_rating": "R",
                                    "total_gross": "78222753",
                                    "inflation_adjusted_gross": "160442289"
                                },
                                {
                                    "movie_title": "the rescue",
                                    "release_date": "1988-08-05",
                                    "genre": "ACTION",
                                    "mpaa_rating": "NULL",
                                    "total_gross": "5855392",
                                    "inflation_adjusted_gross": "12009960"
                                },
                                {
                                    "movie_title": "heartbreak hotel",
                                    "release_date": "1988-09-30",
                                    "genre": "COMEDY",
                                    "mpaa_rating": "NULL",
                                    "total_gross": "5509417",
                                    "inflation_adjusted_gross": "11300331"
                                },
                                {
                                    "movie_title": "the good mother",
                                    "release_date": "1988-11-04",
                                    "genre": "DRAMA",
                                    "mpaa_rating": "NULL",
                                    "total_gross": "4764606",
                                    "inflation_adjusted_gross": "9772655"
                                },
                                {
                                    "movie_title": "ernest saves christmas",
                                    "release_date": "1988-11-11",
                                    "genre": "COMEDY",
                                    "mpaa_rating": "PG",
                                    "total_gross": "28202109",
                                    "inflation_adjusted_gross": "57845202"
                                },
                                {
                                    "movie_title": "oliver & company",
                                    "release_date": "1988-11-18",
                                    "genre": "ADVENTURE",
                                    "mpaa_rating": "G",
                                    "total_gross": "49576671",
                                    "inflation_adjusted_gross": "102254492"
                                },
                                {
                                    "movie_title": "beaches",
                                    "release_date": "1988-12-21",
                                    "genre": "DRAMA",
                                    "mpaa_rating": "PG-13",
                                    "total_gross": "57041866",
                                    "inflation_adjusted_gross": "120381757"
                                },
                                {
                                    "movie_title": "three fugitives",
                                    "release_date": "1989-01-27",
                                    "genre": "COMEDY",
                                    "mpaa_rating": "PG-13",
                                    "total_gross": "40590000",
                                    "inflation_adjusted_gross": "85757817"
                                },
                                {
                                    "movie_title": "new york stories",
                                    "release_date": "1989-03-01",
                                    "genre": "DRAMA",
                                    "mpaa_rating": "PG",
                                    "total_gross": "10763469",
                                    "inflation_adjusted_gross": "22740861"
                                },
                                {
                                    "movie_title": "disorganized crime",
                                    "release_date": "1989-04-14",
                                    "genre": "COMEDY",
                                    "mpaa_rating": "NULL",
                                    "total_gross": "7210149",
                                    "inflation_adjusted_gross": "15233465"
                                },
                                {
                                    "movie_title": "dead poets society",
                                    "release_date": "1989-06-02",
                                    "genre": "DRAMA",
                                    "mpaa_rating": "PG",
                                    "total_gross": "95860116",
                                    "inflation_adjusted_gross": "202531517"
                                },
                                {
                                    "movie_title": "honey, i shrunk the kids",
                                    "release_date": "1989-06-23",
                                    "genre": "ADVENTURE",
                                    "mpaa_rating": "PG",
                                    "total_gross": "130724172",
                                    "inflation_adjusted_gross": "276191669"
                                },
                                {
                                    "movie_title": "turner & hooch",
                                    "release_date": "1989-07-28",
                                    "genre": "COMEDY",
                                    "mpaa_rating": "PG",
                                    "total_gross": "71079915",
                                    "inflation_adjusted_gross": "150176361"
                                },
                                {
                                    "movie_title": "cheetah",
                                    "release_date": "1989-08-18",
                                    "genre": "ADVENTURE",
                                    "mpaa_rating": "NULL",
                                    "total_gross": "7882250",
                                    "inflation_adjusted_gross": "16653473"
                                },
                                {
                                    "movie_title": "an innocent man",
                                    "release_date": "1989-10-06",
                                    "genre": "DRAMA",
                                    "mpaa_rating": "R",
                                    "total_gross": "19397847",
                                    "inflation_adjusted_gross": "40983414"
                                },
                                {
                                    "movie_title": "gross anatomy",
                                    "release_date": "1989-10-20",
                                    "genre": "DRAMA",
                                    "mpaa_rating": "PG-13",
                                    "total_gross": "11346186",
                                    "inflation_adjusted_gross": "23972012"
                                },
                                {
                                    "movie_title": "the little mermaid",
                                    "release_date": "1989-11-15",
                                    "genre": "ADVENTURE",
                                    "mpaa_rating": "G",
                                    "total_gross": "111543479",
                                    "inflation_adjusted_gross": "223726012"
                                },
                                {
                                    "movie_title": "blaze",
                                    "release_date": "1989-12-13",
                                    "genre": "DRAMA",
                                    "mpaa_rating": "R",
                                    "total_gross": "19049727",
                                    "inflation_adjusted_gross": "39884640"
                                },
                                {
                                    "movie_title": "stella",
                                    "release_date": "1990-02-02",
                                    "genre": "DRAMA",
                                    "mpaa_rating": "PG-13",
                                    "total_gross": "20062347",
                                    "inflation_adjusted_gross": "40077147"
                                },
                                {
                                    "movie_title": "where the heart is",
                                    "release_date": "1990-02-23",
                                    "genre": "COMEDY",
                                    "mpaa_rating": "NULL",
                                    "total_gross": "1106475",
                                    "inflation_adjusted_gross": "2210321"
                                },
                                {
                                    "movie_title": "pretty woman",
                                    "release_date": "1990-03-23",
                                    "genre": "ROMANTIC COMEDY",
                                    "mpaa_rating": "R",
                                    "total_gross": "178406268",
                                    "inflation_adjusted_gross": "356389765"
                                },
                                {
                                    "movie_title": "ernest goes to jail",
                                    "release_date": "1990-04-06",
                                    "genre": "COMEDY",
                                    "mpaa_rating": "PG",
                                    "total_gross": "25029569",
                                    "inflation_adjusted_gross": "49999822"
                                },
                                {
                                    "movie_title": "spaced invaders",
                                    "release_date": "1990-04-27",
                                    "genre": "COMEDY",
                                    "mpaa_rating": "PG",
                                    "total_gross": "15000000",
                                    "inflation_adjusted_gross": "29964452"
                                },
                                {
                                    "movie_title": "fire birds",
                                    "release_date": "1990-05-24",
                                    "genre": "ACTION",
                                    "mpaa_rating": "PG-13",
                                    "total_gross": "14760451",
                                    "inflation_adjusted_gross": "29485923"
                                },
                                {
                                    "movie_title": "dick tracy",
                                    "release_date": "1990-06-15",
                                    "genre": "ACTION",
                                    "mpaa_rating": "PG",
                                    "total_gross": "103738726",
                                    "inflation_adjusted_gross": "207231621"
                                },
                                {
                                    "movie_title": "betsy's wedding",
                                    "release_date": "1990-06-22",
                                    "genre": "COMEDY",
                                    "mpaa_rating": "R",
                                    "total_gross": "19740070",
                                    "inflation_adjusted_gross": "39433357"
                                },
                                {
                                    "movie_title": "arachnophobia",
                                    "release_date": "1990-07-18",
                                    "genre": "THRILLER/SUSPENSE",
                                    "mpaa_rating": "PG-13",
                                    "total_gross": "53208180",
                                    "inflation_adjusted_gross": "106290270"
                                },
                                {
                                    "movie_title": "ducktales: the movie - treasure of th…",
                                    "release_date": "1990-08-03",
                                    "genre": "ADVENTURE",
                                    "mpaa_rating": "G",
                                    "total_gross": "18075331",
                                    "inflation_adjusted_gross": "36107823"
                                },
                                {
                                    "movie_title": "taking care of business",
                                    "release_date": "1990-08-17",
                                    "genre": "COMEDY",
                                    "mpaa_rating": "R",
                                    "total_gross": "20005435",
                                    "inflation_adjusted_gross": "39963460"
                                },
                                {
                                    "movie_title": "mr. destiny",
                                    "release_date": "1990-10-12",
                                    "genre": "COMEDY",
                                    "mpaa_rating": "PG-13",
                                    "total_gross": "15379253",
                                    "inflation_adjusted_gross": "30722056"
                                },
                                {
                                    "movie_title": "the rescuers down under",
                                    "release_date": "1990-11-16",
                                    "genre": "ADVENTURE",
                                    "mpaa_rating": "G",
                                    "total_gross": "27931461",
                                    "inflation_adjusted_gross": "55796728"
                                },
                                {
                                    "movie_title": "3 men and a little lady",
                                    "release_date": "1990-11-21",
                                    "genre": "COMEDY",
                                    "mpaa_rating": "PG",
                                    "total_gross": "71609321",
                                    "inflation_adjusted_gross": "143108869"
                                },
                                {
                                    "movie_title": "green card",
                                    "release_date": "1990-12-25",
                                    "genre": "ROMANTIC COMEDY",
                                    "mpaa_rating": "PG-13",
                                    "total_gross": "29804169",
                                    "inflation_adjusted_gross": "59679131"
                                },
                                {
                                    "movie_title": "white fang",
                                    "release_date": "1991-01-18",
                                    "genre": "ADVENTURE",
                                    "mpaa_rating": "PG",
                                    "total_gross": "34729091",
                                    "inflation_adjusted_gross": "69540672"
                                },
                                {
                                    "movie_title": "scenes from a mall",
                                    "release_date": "1991-02-22",
                                    "genre": "COMEDY",
                                    "mpaa_rating": "NULL",
                                    "total_gross": "9563393",
                                    "inflation_adjusted_gross": "19149495"
                                },
                                {
                                    "movie_title": "haakon haakonsen",
                                    "release_date": "1991-03-01",
                                    "genre": "ADVENTURE",
                                    "mpaa_rating": "PG",
                                    "total_gross": "15024232",
                                    "inflation_adjusted_gross": "30084149"
                                },
                                {
                                    "movie_title": "the marrying man",
                                    "release_date": "1991-04-05",
                                    "genre": "ROMANTIC COMEDY",
                                    "mpaa_rating": "R",
                                    "total_gross": "12454768",
                                    "inflation_adjusted_gross": "24939118"
                                },
                                {
                                    "movie_title": "oscar",
                                    "release_date": "1991-04-26",
                                    "genre": "COMEDY",
                                    "mpaa_rating": "PG",
                                    "total_gross": "23562716",
                                    "inflation_adjusted_gross": "47181395"
                                },
                                {
                                    "movie_title": "one good cop",
                                    "release_date": "1991-05-03",
                                    "genre": "ACTION",
                                    "mpaa_rating": "R",
                                    "total_gross": "11276846",
                                    "inflation_adjusted_gross": "22580472"
                                },
                                {
                                    "movie_title": "what about bob?",
                                    "release_date": "1991-05-17",
                                    "genre": "COMEDY",
                                    "mpaa_rating": "PG",
                                    "total_gross": "63710000",
                                    "inflation_adjusted_gross": "127571325"
                                },
                                {
                                    "movie_title": "wild hearts can't be broken",
                                    "release_date": "1991-05-24",
                                    "genre": "DRAMA",
                                    "mpaa_rating": "NULL",
                                    "total_gross": "7300000",
                                    "inflation_adjusted_gross": "14617333"
                                },
                                {
                                    "movie_title": "the rocketeer",
                                    "release_date": "1991-06-21",
                                    "genre": "ACTION",
                                    "mpaa_rating": "PG",
                                    "total_gross": "46573027",
                                    "inflation_adjusted_gross": "93256673"
                                },
                                {
                                    "movie_title": "the doctor",
                                    "release_date": "1991-07-24",
                                    "genre": "DRAMA",
                                    "mpaa_rating": "PG-13",
                                    "total_gross": "37497480",
                                    "inflation_adjusted_gross": "75084021"
                                },
                                {
                                    "movie_title": "paradise",
                                    "release_date": "1991-09-18",
                                    "genre": "DRAMA",
                                    "mpaa_rating": "PG-13",
                                    "total_gross": "18634643",
                                    "inflation_adjusted_gross": "37313540"
                                },
                                {
                                    "movie_title": "deceived",
                                    "release_date": "1991-09-27",
                                    "genre": "THRILLER/SUSPENSE",
                                    "mpaa_rating": "PG-13",
                                    "total_gross": "28738096",
                                    "inflation_adjusted_gross": "57544453"
                                },
                                {
                                    "movie_title": "ernest scared stupid",
                                    "release_date": "1991-10-11",
                                    "genre": "COMEDY",
                                    "mpaa_rating": "PG",
                                    "total_gross": "14143280",
                                    "inflation_adjusted_gross": "28320147"
                                },
                                {
                                    "movie_title": "billy bathgate",
                                    "release_date": "1991-11-01",
                                    "genre": "DRAMA",
                                    "mpaa_rating": "R",
                                    "total_gross": "15565363",
                                    "inflation_adjusted_gross": "31167691"
                                },
                                {
                                    "movie_title": "beauty and the beast",
                                    "release_date": "1991-11-13",
                                    "genre": "MUSICAL",
                                    "mpaa_rating": "G",
                                    "total_gross": "218951625",
                                    "inflation_adjusted_gross": "363017667"
                                },
                                {
                                    "movie_title": "father of the bride",
                                    "release_date": "1991-12-20",
                                    "genre": "COMEDY",
                                    "mpaa_rating": "PG",
                                    "total_gross": "89325780",
                                    "inflation_adjusted_gross": "179821881"
                                },
                                {
                                    "movie_title": "the hand that rocks the cradle",
                                    "release_date": "1992-01-10",
                                    "genre": "THRILLER/SUSPENSE",
                                    "mpaa_rating": "R",
                                    "total_gross": "88036683",
                                    "inflation_adjusted_gross": "178831137"
                                },
                                {
                                    "movie_title": "medicine man",
                                    "release_date": "1992-02-07",
                                    "genre": "DRAMA",
                                    "mpaa_rating": "PG-13",
                                    "total_gross": "44948240",
                                    "inflation_adjusted_gross": "91304495"
                                },
                                {
                                    "movie_title": "blame it on the bellboy",
                                    "release_date": "1992-03-06",
                                    "genre": "COMEDY",
                                    "mpaa_rating": "PG-13",
                                    "total_gross": "2891055",
                                    "inflation_adjusted_gross": "5872667"
                                },
                                {
                                    "movie_title": "noises off...",
                                    "release_date": "1992-03-20",
                                    "genre": "COMEDY",
                                    "mpaa_rating": "PG-13",
                                    "total_gross": "2280148",
                                    "inflation_adjusted_gross": "4631720"
                                },
                                {
                                    "movie_title": "straight talk",
                                    "release_date": "1992-04-03",
                                    "genre": "COMEDY",
                                    "mpaa_rating": "PG",
                                    "total_gross": "21202099",
                                    "inflation_adjusted_gross": "43068356"
                                },
                                {
                                    "movie_title": "newsies",
                                    "release_date": "1992-04-08",
                                    "genre": "NULL",
                                    "mpaa_rating": "PG",
                                    "total_gross": "2706352",
                                    "inflation_adjusted_gross": "5497481"
                                },
                                {
                                    "movie_title": "passed away",
                                    "release_date": "1992-04-24",
                                    "genre": "NULL",
                                    "mpaa_rating": "PG-13",
                                    "total_gross": "4030793",
                                    "inflation_adjusted_gross": "8187848"
                                },
                                {
                                    "movie_title": "encino man",
                                    "release_date": "1992-05-22",
                                    "genre": "COMEDY",
                                    "mpaa_rating": "PG",
                                    "total_gross": "40057130",
                                    "inflation_adjusted_gross": "81369058"
                                },
                                {
                                    "movie_title": "sister act",
                                    "release_date": "1992-05-29",
                                    "genre": "COMEDY",
                                    "mpaa_rating": "PG",
                                    "total_gross": "139605150",
                                    "inflation_adjusted_gross": "283583472"
                                },
                                {
                                    "movie_title": "honey i blew up the kid",
                                    "release_date": "1992-07-17",
                                    "genre": "COMEDY",
                                    "mpaa_rating": "PG",
                                    "total_gross": "58662452",
                                    "inflation_adjusted_gross": "119162518"
                                },
                                {
                                    "movie_title": "a stranger among us",
                                    "release_date": "1992-07-17",
                                    "genre": "DRAMA",
                                    "mpaa_rating": "PG-13",
                                    "total_gross": "12282994",
                                    "inflation_adjusted_gross": "24950752"
                                },
                                {
                                    "movie_title": "3 ninjas",
                                    "release_date": "1992-08-07",
                                    "genre": "ACTION",
                                    "mpaa_rating": "PG",
                                    "total_gross": "29028000",
                                    "inflation_adjusted_gross": "58965304"
                                },
                                {
                                    "movie_title": "a gun in betty lou's handbag",
                                    "release_date": "1992-08-21",
                                    "genre": "NULL",
                                    "mpaa_rating": "PG-13",
                                    "total_gross": "3591460",
                                    "inflation_adjusted_gross": "7295423"
                                },
                                {
                                    "movie_title": "captain ron",
                                    "release_date": "1992-09-18",
                                    "genre": "COMEDY",
                                    "mpaa_rating": "PG-13",
                                    "total_gross": "22518097",
                                    "inflation_adjusted_gross": "45741576"
                                },
                                {
                                    "movie_title": "sarafina!",
                                    "release_date": "1992-09-18",
                                    "genre": "DRAMA",
                                    "mpaa_rating": "PG-13",
                                    "total_gross": "7306242",
                                    "inflation_adjusted_gross": "14841352"
                                },
                                {
                                    "movie_title": "innocent blood",
                                    "release_date": "1992-09-25",
                                    "genre": "HORROR",
                                    "mpaa_rating": "R",
                                    "total_gross": "4877567",
                                    "inflation_adjusted_gross": "9907922"
                                },
                                {
                                    "movie_title": "the mighty ducks",
                                    "release_date": "1992-10-02",
                                    "genre": "COMEDY",
                                    "mpaa_rating": "PG",
                                    "total_gross": "50752337",
                                    "inflation_adjusted_gross": "103120810"
                                },
                                {
                                    "movie_title": "1492: conquest of paradise",
                                    "release_date": "1992-10-09",
                                    "genre": "ADVENTURE",
                                    "mpaa_rating": "PG-13",
                                    "total_gross": "7099531",
                                    "inflation_adjusted_gross": "14421454"
                                },
                                {
                                    "movie_title": "consenting adults",
                                    "release_date": "1992-10-16",
                                    "genre": "DRAMA",
                                    "mpaa_rating": "R",
                                    "total_gross": "21591728",
                                    "inflation_adjusted_gross": "43859823"
                                },
                                {
                                    "movie_title": "aladdin",
                                    "release_date": "1992-11-11",
                                    "genre": "COMEDY",
                                    "mpaa_rating": "G",
                                    "total_gross": "217350219",
                                    "inflation_adjusted_gross": "441969178"
                                },
                                {
                                    "movie_title": "raising helen",
                                    "release_date": "2004-05-28",
                                    "genre": "COMEDY",
                                    "mpaa_rating": "PG-13",
                                    "total_gross": "37485528",
                                    "inflation_adjusted_gross": "50886144"
                                },
                                {
                                    "movie_title": "around the world in 80 days",
                                    "release_date": "2004-06-16",
                                    "genre": "ADVENTURE",
                                    "mpaa_rating": "PG",
                                    "total_gross": "24004159",
                                    "inflation_adjusted_gross": "32585356"
                                },
                                {
                                    "movie_title": "america's heart and soul",
                                    "release_date": "2004-07-02",
                                    "genre": "DOCUMENTARY",
                                    "mpaa_rating": "Not Rated",
                                    "total_gross": "314000",
                                    "inflation_adjusted_gross": "426246"
                                },
                                {
                                    "movie_title": "king arthur",
                                    "release_date": "2004-07-07",
                                    "genre": "ADVENTURE",
                                    "mpaa_rating": "PG-13",
                                    "total_gross": "51877963",
                                    "inflation_adjusted_gross": "70423706"
                                },
                                {
                                    "movie_title": "the village",
                                    "release_date": "2004-07-30",
                                    "genre": "THRILLER/SUSPENSE",
                                    "mpaa_rating": "PG-13",
                                    "total_gross": "114197520",
                                    "inflation_adjusted_gross": "155021748"
                                },
                                {
                                    "movie_title": "the princess diaries 2: royal engagement",
                                    "release_date": "2004-08-11",
                                    "genre": "ROMANTIC COMEDY",
                                    "mpaa_rating": "G",
                                    "total_gross": "95149435",
                                    "inflation_adjusted_gross": "129164207"
                                },
                                {
                                    "movie_title": "mr. 3000",
                                    "release_date": "2004-09-17",
                                    "genre": "COMEDY",
                                    "mpaa_rating": "PG-13",
                                    "total_gross": "21800302",
                                    "inflation_adjusted_gross": "29593641"
                                },
                                {
                                    "movie_title": "the last shot",
                                    "release_date": "2004-09-24",
                                    "genre": "COMEDY",
                                    "mpaa_rating": "R",
                                    "total_gross": "463730",
                                    "inflation_adjusted_gross": "629502"
                                },
                                {
                                    "movie_title": "ladder 49",
                                    "release_date": "2004-10-01",
                                    "genre": "ACTION",
                                    "mpaa_rating": "PG-13",
                                    "total_gross": "74541707",
                                    "inflation_adjusted_gross": "101161045"
                                },
                                {
                                    "movie_title": "the incredibles",
                                    "release_date": "2004-11-05",
                                    "genre": "ADVENTURE",
                                    "mpaa_rating": "PG",
                                    "total_gross": "261441092",
                                    "inflation_adjusted_gross": "354488708"
                                },
                                {
                                    "movie_title": "national treasure",
                                    "release_date": "2004-11-19",
                                    "genre": "ADVENTURE",
                                    "mpaa_rating": "PG",
                                    "total_gross": "173005002",
                                    "inflation_adjusted_gross": "234069353"
                                },
                                {
                                    "movie_title": "the life aquatic with steve zissou",
                                    "release_date": "2004-12-10",
                                    "genre": "COMEDY",
                                    "mpaa_rating": "R",
                                    "total_gross": "24006726",
                                    "inflation_adjusted_gross": "32198655"
                                },
                                {
                                    "movie_title": "aliens of the deep",
                                    "release_date": "2005-01-28",
                                    "genre": "DOCUMENTARY",
                                    "mpaa_rating": "G",
                                    "total_gross": "8968684",
                                    "inflation_adjusted_gross": "11740942"
                                },
                                {
                                    "movie_title": "pooh's heffalump movie",
                                    "release_date": "2005-02-11",
                                    "genre": "ADVENTURE",
                                    "mpaa_rating": "G",
                                    "total_gross": "18098433",
                                    "inflation_adjusted_gross": "23801835"
                                },
                                {
                                    "movie_title": "the pacifier",
                                    "release_date": "2005-03-04",
                                    "genre": "COMEDY",
                                    "mpaa_rating": "PG",
                                    "total_gross": "113006880",
                                    "inflation_adjusted_gross": "148619029"
                                },
                                {
                                    "movie_title": "ice princess",
                                    "release_date": "2005-03-18",
                                    "genre": "COMEDY",
                                    "mpaa_rating": "G",
                                    "total_gross": "24381334",
                                    "inflation_adjusted_gross": "32064685"
                                },
                                {
                                    "movie_title": "a lot like love",
                                    "release_date": "2005-04-22",
                                    "genre": "COMEDY",
                                    "mpaa_rating": "PG-13",
                                    "total_gross": "21835784",
                                    "inflation_adjusted_gross": "28716947"
                                },
                                {
                                    "movie_title": "the hitchhiker's guide to the galaxy",
                                    "release_date": "2005-04-29",
                                    "genre": "COMEDY",
                                    "mpaa_rating": "PG",
                                    "total_gross": "51019112",
                                    "inflation_adjusted_gross": "67096891"
                                },
                                {
                                    "movie_title": "hauru no ugoku shiro",
                                    "release_date": "2005-06-10",
                                    "genre": "ADVENTURE",
                                    "mpaa_rating": "PG",
                                    "total_gross": "4710455",
                                    "inflation_adjusted_gross": "6194870"
                                },
                                {
                                    "movie_title": "herbie: fully loaded",
                                    "release_date": "2005-06-22",
                                    "genre": "COMEDY",
                                    "mpaa_rating": "G",
                                    "total_gross": "66010682",
                                    "inflation_adjusted_gross": "86812798"
                                },
                                {
                                    "movie_title": "dark water",
                                    "release_date": "2005-07-08",
                                    "genre": "THRILLER/SUSPENSE",
                                    "mpaa_rating": "PG-13",
                                    "total_gross": "25473093",
                                    "inflation_adjusted_gross": "33500491"
                                },
                                {
                                    "movie_title": "sky high",
                                    "release_date": "2005-07-29",
                                    "genre": "ADVENTURE",
                                    "mpaa_rating": "PG",
                                    "total_gross": "63939454",
                                    "inflation_adjusted_gross": "84088854"
                                },
                                {
                                    "movie_title": "valiant",
                                    "release_date": "2005-08-19",
                                    "genre": "ADVENTURE",
                                    "mpaa_rating": "G",
                                    "total_gross": "19478106",
                                    "inflation_adjusted_gross": "25616292"
                                },
                                {
                                    "movie_title": "flightplan",
                                    "release_date": "2005-09-23",
                                    "genre": "THRILLER/SUSPENSE",
                                    "mpaa_rating": "PG-13",
                                    "total_gross": "89706988",
                                    "inflation_adjusted_gross": "117960425"
                                },
                                {
                                    "movie_title": "the greatest game ever played",
                                    "release_date": "2005-09-30",
                                    "genre": "DRAMA",
                                    "mpaa_rating": "PG",
                                    "total_gross": "15331289",
                                    "inflation_adjusted_gross": "20162672"
                                },
                                {
                                    "movie_title": "shopgirl",
                                    "release_date": "2005-10-21",
                                    "genre": "DRAMA",
                                    "mpaa_rating": "R",
                                    "total_gross": "10284523",
                                    "inflation_adjusted_gross": "13519621"
                                },
                                {
                                    "movie_title": "chicken little",
                                    "release_date": "2005-11-04",
                                    "genre": "ADVENTURE",
                                    "mpaa_rating": "G",
                                    "total_gross": "135386665",
                                    "inflation_adjusted_gross": "177954661"
                                },
                                {
                                    "movie_title": "the chronicles of narnia: the lion, t…",
                                    "release_date": "2005-12-09",
                                    "genre": "ADVENTURE",
                                    "mpaa_rating": "PG",
                                    "total_gross": "291710957",
                                    "inflation_adjusted_gross": "381557539"
                                },
                                {
                                    "movie_title": "casanova",
                                    "release_date": "2005-12-25",
                                    "genre": "DRAMA",
                                    "mpaa_rating": "R",
                                    "total_gross": "11304403",
                                    "inflation_adjusted_gross": "14574087"
                                },
                                {
                                    "movie_title": "glory road",
                                    "release_date": "2006-01-13",
                                    "genre": "DRAMA",
                                    "mpaa_rating": "PG",
                                    "total_gross": "42647449",
                                    "inflation_adjusted_gross": "54888236"
                                },
                                {
                                    "movie_title": "annapolis",
                                    "release_date": "2006-01-27",
                                    "genre": "DRAMA",
                                    "mpaa_rating": "PG-13",
                                    "total_gross": "17127992",
                                    "inflation_adjusted_gross": "22044113"
                                },
                                {
                                    "movie_title": "roving mars",
                                    "release_date": "2006-01-27",
                                    "genre": "DOCUMENTARY",
                                    "mpaa_rating": "G",
                                    "total_gross": "10407978",
                                    "inflation_adjusted_gross": "12948025"
                                },
                                {
                                    "movie_title": "eight below",
                                    "release_date": "2006-02-17",
                                    "genre": "ADVENTURE",
                                    "mpaa_rating": "PG",
                                    "total_gross": "81612565",
                                    "inflation_adjusted_gross": "105037235"
                                },
                                {
                                    "movie_title": "the shaggy dog",
                                    "release_date": "2006-03-10",
                                    "genre": "COMEDY",
                                    "mpaa_rating": "PG",
                                    "total_gross": "61123569",
                                    "inflation_adjusted_gross": "78667428"
                                },
                                {
                                    "movie_title": "stay alive",
                                    "release_date": "2006-03-24",
                                    "genre": "HORROR",
                                    "mpaa_rating": "PG-13",
                                    "total_gross": "23086480",
                                    "inflation_adjusted_gross": "29712825"
                                },
                                {
                                    "movie_title": "the wild",
                                    "release_date": "2006-04-14",
                                    "genre": "ADVENTURE",
                                    "mpaa_rating": "G",
                                    "total_gross": "37384046",
                                    "inflation_adjusted_gross": "48114115"
                                },
                                {
                                    "movie_title": "stick it",
                                    "release_date": "2006-04-28",
                                    "genre": "COMEDY",
                                    "mpaa_rating": "PG-13",
                                    "total_gross": "26910736",
                                    "inflation_adjusted_gross": "34634731"
                                },
                                {
                                    "movie_title": "goal! the dream begins",
                                    "release_date": "2006-05-12",
                                    "genre": "DRAMA",
                                    "mpaa_rating": "PG",
                                    "total_gross": "4283255",
                                    "inflation_adjusted_gross": "5512647"
                                },
                                {
                                    "movie_title": "cars",
                                    "release_date": "2006-06-09",
                                    "genre": "COMEDY",
                                    "mpaa_rating": "G",
                                    "total_gross": "244082982",
                                    "inflation_adjusted_gross": "314140384"
                                },
                                {
                                    "movie_title": "pirates of the caribbean: dead man’…",
                                    "release_date": "2006-07-07",
                                    "genre": "ADVENTURE",
                                    "mpaa_rating": "PG-13",
                                    "total_gross": "423315812",
                                    "inflation_adjusted_gross": "544817142"
                                },
                                {
                                    "movie_title": "step up",
                                    "release_date": "2006-08-11",
                                    "genre": "DRAMA",
                                    "mpaa_rating": "PG-13",
                                    "total_gross": "65328121",
                                    "inflation_adjusted_gross": "84078780"
                                },
                                {
                                    "movie_title": "invincible",
                                    "release_date": "2006-08-25",
                                    "genre": "DRAMA",
                                    "mpaa_rating": "PG",
                                    "total_gross": "57806952",
                                    "inflation_adjusted_gross": "74398864"
                                },
                                {
                                    "movie_title": "the guardian",
                                    "release_date": "2006-09-29",
                                    "genre": "ACTION",
                                    "mpaa_rating": "PG-13",
                                    "total_gross": "55011732",
                                    "inflation_adjusted_gross": "70801353"
                                },
                                {
                                    "movie_title": "the prestige",
                                    "release_date": "2006-10-20",
                                    "genre": "THRILLER/SUSPENSE",
                                    "mpaa_rating": "PG-13",
                                    "total_gross": "53089891",
                                    "inflation_adjusted_gross": "68289913"
                                },
                                {
                                    "movie_title": "tim burton's the nightmare before chr…",
                                    "release_date": "2006-10-20",
                                    "genre": "MUSICAL",
                                    "mpaa_rating": "PG",
                                    "total_gross": "24732041",
                                    "inflation_adjusted_gross": "30737517"
                                },
                                {
                                    "movie_title": "the santa clause 3: the escape clause",
                                    "release_date": "2006-11-03",
                                    "genre": "COMEDY",
                                    "mpaa_rating": "G",
                                    "total_gross": "84500122",
                                    "inflation_adjusted_gross": "108694869"
                                },
                                {
                                    "movie_title": "déjà vu",
                                    "release_date": "2006-11-22",
                                    "genre": "THRILLER/SUSPENSE",
                                    "mpaa_rating": "PG-13",
                                    "total_gross": "64038616",
                                    "inflation_adjusted_gross": "82267038"
                                },
                                {
                                    "movie_title": "apocalypto",
                                    "release_date": "2006-12-08",
                                    "genre": "ADVENTURE",
                                    "mpaa_rating": "R",
                                    "total_gross": "50866635",
                                    "inflation_adjusted_gross": "64959548"
                                },
                                {
                                    "movie_title": "primeval",
                                    "release_date": "2007-01-12",
                                    "genre": "ADVENTURE",
                                    "mpaa_rating": "R",
                                    "total_gross": "10597734",
                                    "inflation_adjusted_gross": "12985302"
                                },
                                {
                                    "movie_title": "bridge to terabithia",
                                    "release_date": "2007-02-16",
                                    "genre": "DRAMA",
                                    "mpaa_rating": "PG",
                                    "total_gross": "82234139",
                                    "inflation_adjusted_gross": "100760721"
                                },
                                {
                                    "movie_title": "wild hogs",
                                    "release_date": "2007-03-02",
                                    "genre": "COMEDY",
                                    "mpaa_rating": "PG-13",
                                    "total_gross": "168213584",
                                    "inflation_adjusted_gross": "206110533"
                                },
                                {
                                    "movie_title": "meet the robinsons",
                                    "release_date": "2007-03-30",
                                    "genre": "ADVENTURE",
                                    "mpaa_rating": "G",
                                    "total_gross": "97822171",
                                    "inflation_adjusted_gross": "119860589"
                                },
                                {
                                    "movie_title": "the lookout",
                                    "release_date": "2007-03-30",
                                    "genre": "DRAMA",
                                    "mpaa_rating": "R",
                                    "total_gross": "4600585",
                                    "inflation_adjusted_gross": "5637048"
                                },
                                {
                                    "movie_title": "the hoax",
                                    "release_date": "2007-04-06",
                                    "genre": "DRAMA",
                                    "mpaa_rating": "R",
                                    "total_gross": "7164995",
                                    "inflation_adjusted_gross": "8779196"
                                },
                                {
                                    "movie_title": "the invisible",
                                    "release_date": "2007-04-27",
                                    "genre": "THRILLER/SUSPENSE",
                                    "mpaa_rating": "PG-13",
                                    "total_gross": "20568319",
                                    "inflation_adjusted_gross": "25202168"
                                },
                                {
                                    "movie_title": "pirates of the caribbean: at world’…",
                                    "release_date": "2007-05-24",
                                    "genre": "ADVENTURE",
                                    "mpaa_rating": "PG-13",
                                    "total_gross": "309420425",
                                    "inflation_adjusted_gross": "379129960"
                                },
                                {
                                    "movie_title": "ratatouille",
                                    "release_date": "2007-06-29",
                                    "genre": "COMEDY",
                                    "mpaa_rating": "G",
                                    "total_gross": "206445654",
                                    "inflation_adjusted_gross": "252955933"
                                },
                                {
                                    "movie_title": "underdog",
                                    "release_date": "2007-08-03",
                                    "genre": "ADVENTURE",
                                    "mpaa_rating": "PG",
                                    "total_gross": "43760605",
                                    "inflation_adjusted_gross": "53619462"
                                },
                                {
                                    "movie_title": "the game plan",
                                    "release_date": "2007-09-22",
                                    "genre": "COMEDY",
                                    "mpaa_rating": "PG",
                                    "total_gross": "90648202",
                                    "inflation_adjusted_gross": "111010758"
                                },
                                {
                                    "movie_title": "dan in real life",
                                    "release_date": "2007-10-20",
                                    "genre": "ROMANTIC COMEDY",
                                    "mpaa_rating": "PG-13",
                                    "total_gross": "47642963",
                                    "inflation_adjusted_gross": "58350234"
                                },
                                {
                                    "movie_title": "enchanted",
                                    "release_date": "2007-11-21",
                                    "genre": "ROMANTIC COMEDY",
                                    "mpaa_rating": "PG",
                                    "total_gross": "127706877",
                                    "inflation_adjusted_gross": "156074310"
                                },
                                {
                                    "movie_title": "national treasure 2: book of secrets",
                                    "release_date": "2007-12-21",
                                    "genre": "ADVENTURE",
                                    "mpaa_rating": "PG",
                                    "total_gross": "219961501",
                                    "inflation_adjusted_gross": "267003525"
                                },
                                {
                                    "movie_title": "hannah montana/miley cyrus: best of b…",
                                    "release_date": "2008-02-01",
                                    "genre": "CONCERT/PERFORMANCE",
                                    "mpaa_rating": "G",
                                    "total_gross": "65281781",
                                    "inflation_adjusted_gross": "76646993"
                                },
                                {
                                    "movie_title": "step up 2 the streets",
                                    "release_date": "2008-02-14",
                                    "genre": "DRAMA",
                                    "mpaa_rating": "PG-13",
                                    "total_gross": "58017783",
                                    "inflation_adjusted_gross": "68118371"
                                },
                                {
                                    "movie_title": "college road trip",
                                    "release_date": "2008-03-07",
                                    "genre": "COMEDY",
                                    "mpaa_rating": "G",
                                    "total_gross": "45610425",
                                    "inflation_adjusted_gross": "53550960"
                                },
                                {
                                    "movie_title": "the chronicles of narnia: prince caspian",
                                    "release_date": "2008-05-16",
                                    "genre": "ADVENTURE",
                                    "mpaa_rating": "PG",
                                    "total_gross": "141621490",
                                    "inflation_adjusted_gross": "166277038"
                                },
                                {
                                    "movie_title": "wall-e",
                                    "release_date": "2008-06-27",
                                    "genre": "ADVENTURE",
                                    "mpaa_rating": "G",
                                    "total_gross": "223808164",
                                    "inflation_adjusted_gross": "262771918"
                                },
                                {
                                    "movie_title": "swing vote",
                                    "release_date": "2008-08-01",
                                    "genre": "COMEDY",
                                    "mpaa_rating": "PG-13",
                                    "total_gross": "16289867",
                                    "inflation_adjusted_gross": "19125841"
                                },
                                {
                                    "movie_title": "goal! 2: living the dream...",
                                    "release_date": "2008-08-29",
                                    "genre": "DRAMA",
                                    "mpaa_rating": "PG-13",
                                    "total_gross": "225067",
                                    "inflation_adjusted_gross": "264247"
                                },
                                {
                                    "movie_title": "miracle at st. anna",
                                    "release_date": "2008-09-26",
                                    "genre": "DRAMA",
                                    "mpaa_rating": "R",
                                    "total_gross": "7916887",
                                    "inflation_adjusted_gross": "9295171"
                                },
                                {
                                    "movie_title": "beverly hills chihuahua",
                                    "release_date": "2008-10-03",
                                    "genre": "COMEDY",
                                    "mpaa_rating": "PG",
                                    "total_gross": "94514402",
                                    "inflation_adjusted_gross": "110932022"
                                },
                                {
                                    "movie_title": "morning light",
                                    "release_date": "2008-10-17",
                                    "genre": "DOCUMENTARY",
                                    "mpaa_rating": "PG",
                                    "total_gross": "275093",
                                    "inflation_adjusted_gross": "322979"
                                },
                                {
                                    "movie_title": "high school musical 3: senior year",
                                    "release_date": "2008-10-24",
                                    "genre": "MUSICAL",
                                    "mpaa_rating": "G",
                                    "total_gross": "90559416",
                                    "inflation_adjusted_gross": "106308538"
                                },
                                {
                                    "movie_title": "bolt",
                                    "release_date": "2008-11-21",
                                    "genre": "COMEDY",
                                    "mpaa_rating": "PG",
                                    "total_gross": "114053759",
                                    "inflation_adjusted_gross": "133702498"
                                },
                                {
                                    "movie_title": "bedtime stories",
                                    "release_date": "2008-12-25",
                                    "genre": "COMEDY",
                                    "mpaa_rating": "PG",
                                    "total_gross": "110101975",
                                    "inflation_adjusted_gross": "128039679"
                                },
                                {
                                    "movie_title": "confessions of a shopaholic",
                                    "release_date": "2009-02-13",
                                    "genre": "ROMANTIC COMEDY",
                                    "mpaa_rating": "PG",
                                    "total_gross": "44277350",
                                    "inflation_adjusted_gross": "49767744"
                                },
                                {
                                    "movie_title": "jonas brothers: the 3d concert experi…",
                                    "release_date": "2009-02-27",
                                    "genre": "CONCERT/PERFORMANCE",
                                    "mpaa_rating": "G",
                                    "total_gross": "38174685",
                                    "inflation_adjusted_gross": "38174685"
                                },
                                {
                                    "movie_title": "race to witch mountain",
                                    "release_date": "2009-03-13",
                                    "genre": "ADVENTURE",
                                    "mpaa_rating": "PG",
                                    "total_gross": "67172594",
                                    "inflation_adjusted_gross": "75501997"
                                },
                                {
                                    "movie_title": "hannah montana the movie",
                                    "release_date": "2009-04-10",
                                    "genre": "DRAMA",
                                    "mpaa_rating": "G",
                                    "total_gross": "79576189",
                                    "inflation_adjusted_gross": "89443640"
                                },
                                {
                                    "movie_title": "earth",
                                    "release_date": "2009-04-22",
                                    "genre": "DOCUMENTARY",
                                    "mpaa_rating": "G",
                                    "total_gross": "32011576",
                                    "inflation_adjusted_gross": "35981010"
                                },
                                {
                                    "movie_title": "up",
                                    "release_date": "2009-05-29",
                                    "genre": "ADVENTURE",
                                    "mpaa_rating": "PG",
                                    "total_gross": "293004164",
                                    "inflation_adjusted_gross": "329336681"
                                },
                                {
                                    "movie_title": "the proposal",
                                    "release_date": "2009-06-19",
                                    "genre": "ROMANTIC COMEDY",
                                    "mpaa_rating": "PG-13",
                                    "total_gross": "163958031",
                                    "inflation_adjusted_gross": "184288829"
                                },
                                {
                                    "movie_title": "g-force",
                                    "release_date": "2009-07-24",
                                    "genre": "ADVENTURE",
                                    "mpaa_rating": "PG",
                                    "total_gross": "119436770",
                                    "inflation_adjusted_gross": "134246932"
                                },
                                {
                                    "movie_title": "gake no ue no ponyo",
                                    "release_date": "2009-08-14",
                                    "genre": "ADVENTURE",
                                    "mpaa_rating": "G",
                                    "total_gross": "15090399",
                                    "inflation_adjusted_gross": "16961607"
                                },
                                {
                                    "movie_title": "x games 3d: the movie",
                                    "release_date": "2009-08-21",
                                    "genre": "DOCUMENTARY",
                                    "mpaa_rating": "PG",
                                    "total_gross": "1391434",
                                    "inflation_adjusted_gross": "1563976"
                                },
                                {
                                    "movie_title": "walt and el grupo",
                                    "release_date": "2009-09-10",
                                    "genre": "DOCUMENTARY",
                                    "mpaa_rating": "PG",
                                    "total_gross": "20521",
                                    "inflation_adjusted_gross": "23064"
                                },
                                {
                                    "movie_title": "surrogates",
                                    "release_date": "2009-09-25",
                                    "genre": "ACTION",
                                    "mpaa_rating": "PG-13",
                                    "total_gross": "38577772",
                                    "inflation_adjusted_gross": "43361416"
                                },
                                {
                                    "movie_title": "toy story 3d double feature",
                                    "release_date": "2009-10-02",
                                    "genre": "ADVENTURE",
                                    "mpaa_rating": "G",
                                    "total_gross": "30702446",
                                    "inflation_adjusted_gross": "34509545"
                                },
                                {
                                    "movie_title": "disney's a christmas carol",
                                    "release_date": "2009-11-06",
                                    "genre": "DRAMA",
                                    "mpaa_rating": "PG",
                                    "total_gross": "137855863",
                                    "inflation_adjusted_gross": "154927105"
                                },
                                {
                                    "movie_title": "the princess and the frog",
                                    "release_date": "2009-11-25",
                                    "genre": "ADVENTURE",
                                    "mpaa_rating": "G",
                                    "total_gross": "104400899",
                                    "inflation_adjusted_gross": "116316457"
                                },
                                {
                                    "movie_title": "old dogs",
                                    "release_date": "2009-11-25",
                                    "genre": "COMEDY",
                                    "mpaa_rating": "PG",
                                    "total_gross": "49492060",
                                    "inflation_adjusted_gross": "55503929"
                                },
                                {
                                    "movie_title": "when in rome",
                                    "release_date": "2010-01-29",
                                    "genre": "ROMANTIC COMEDY",
                                    "mpaa_rating": "PG-13",
                                    "total_gross": "32680633",
                                    "inflation_adjusted_gross": "34917330"
                                },
                                {
                                    "movie_title": "alice in wonderland",
                                    "release_date": "2010-03-05",
                                    "genre": "ADVENTURE",
                                    "mpaa_rating": "PG",
                                    "total_gross": "334191110",
                                    "inflation_adjusted_gross": "357063499"
                                },
                                {
                                    "movie_title": "waking sleeping beauty",
                                    "release_date": "2010-03-26",
                                    "genre": "DOCUMENTARY",
                                    "mpaa_rating": "PG",
                                    "total_gross": "80741",
                                    "inflation_adjusted_gross": "86264"
                                },
                                {
                                    "movie_title": "the last song",
                                    "release_date": "2010-03-31",
                                    "genre": "DRAMA",
                                    "mpaa_rating": "PG",
                                    "total_gross": "62950384",
                                    "inflation_adjusted_gross": "67258772"
                                },
                                {
                                    "movie_title": "oceans",
                                    "release_date": "2010-04-22",
                                    "genre": "DOCUMENTARY",
                                    "mpaa_rating": "G",
                                    "total_gross": "19422319",
                                    "inflation_adjusted_gross": "20751600"
                                },
                                {
                                    "movie_title": "prince of persia: sands of time",
                                    "release_date": "2010-05-28",
                                    "genre": "ACTION",
                                    "mpaa_rating": "PG-13",
                                    "total_gross": "90759676",
                                    "inflation_adjusted_gross": "96971361"
                                },
                                {
                                    "movie_title": "toy story 3",
                                    "release_date": "2010-06-18",
                                    "genre": "ADVENTURE",
                                    "mpaa_rating": "G",
                                    "total_gross": "415004880",
                                    "inflation_adjusted_gross": "443408255"
                                },
                                {
                                    "movie_title": "the sorcerer's apprentice",
                                    "release_date": "2010-07-14",
                                    "genre": "ADVENTURE",
                                    "mpaa_rating": "PG",
                                    "total_gross": "63150991",
                                    "inflation_adjusted_gross": "67473105"
                                },
                                {
                                    "movie_title": "step up 3d",
                                    "release_date": "2010-08-06",
                                    "genre": "DRAMA",
                                    "mpaa_rating": "PG-13",
                                    "total_gross": "42400223",
                                    "inflation_adjusted_gross": "45302137"
                                },
                                {
                                    "movie_title": "gedo senki (tales from earthsea)",
                                    "release_date": "2010-08-13",
                                    "genre": "ADVENTURE",
                                    "mpaa_rating": "PG-13",
                                    "total_gross": "48658",
                                    "inflation_adjusted_gross": "51988"
                                },
                                {
                                    "movie_title": "you again",
                                    "release_date": "2010-09-24",
                                    "genre": "COMEDY",
                                    "mpaa_rating": "PG",
                                    "total_gross": "25702053",
                                    "inflation_adjusted_gross": "27461121"
                                },
                                {
                                    "movie_title": "secretariat",
                                    "release_date": "2010-10-08",
                                    "genre": "DRAMA",
                                    "mpaa_rating": "PG",
                                    "total_gross": "59699513",
                                    "inflation_adjusted_gross": "63781920"
                                },
                                {
                                    "movie_title": "tangled",
                                    "release_date": "2010-11-24",
                                    "genre": "ADVENTURE",
                                    "mpaa_rating": "PG",
                                    "total_gross": "200821936",
                                    "inflation_adjusted_gross": "214388548"
                                },
                                {
                                    "movie_title": "tron: legacy",
                                    "release_date": "2010-12-17",
                                    "genre": "ADVENTURE",
                                    "mpaa_rating": "PG",
                                    "total_gross": "172062763",
                                    "inflation_adjusted_gross": "183619259"
                                },
                                {
                                    "movie_title": "gnomeo and juliet",
                                    "release_date": "2011-02-11",
                                    "genre": "COMEDY",
                                    "mpaa_rating": "G",
                                    "total_gross": "99967670",
                                    "inflation_adjusted_gross": "106270797"
                                },
                                {
                                    "movie_title": "i am number four",
                                    "release_date": "2011-02-18",
                                    "genre": "ADVENTURE",
                                    "mpaa_rating": "PG-13",
                                    "total_gross": "55100437",
                                    "inflation_adjusted_gross": "58574607"
                                },
                                {
                                    "movie_title": "mars needs moms",
                                    "release_date": "2011-03-11",
                                    "genre": "ADVENTURE",
                                    "mpaa_rating": "PG",
                                    "total_gross": "21392758",
                                    "inflation_adjusted_gross": "22741603"
                                },
                                {
                                    "movie_title": "african cats",
                                    "release_date": "2011-04-22",
                                    "genre": "DOCUMENTARY",
                                    "mpaa_rating": "G",
                                    "total_gross": "15428747",
                                    "inflation_adjusted_gross": "16401551"
                                },
                                {
                                    "movie_title": "zokkomon",
                                    "release_date": "2011-04-22",
                                    "genre": "ADVENTURE",
                                    "mpaa_rating": "PG",
                                    "total_gross": "2815",
                                    "inflation_adjusted_gross": "2984"
                                },
                                {
                                    "movie_title": "prom",
                                    "release_date": "2011-04-29",
                                    "genre": "COMEDY",
                                    "mpaa_rating": "PG",
                                    "total_gross": "10130219",
                                    "inflation_adjusted_gross": "10768946"
                                },
                                {
                                    "movie_title": "pirates of the caribbean: on stranger…",
                                    "release_date": "2011-05-20",
                                    "genre": "ADVENTURE",
                                    "mpaa_rating": "PG-13",
                                    "total_gross": "241063875",
                                    "inflation_adjusted_gross": "256263359"
                                },
                                {
                                    "movie_title": "cars 2",
                                    "release_date": "2011-06-24",
                                    "genre": "ADVENTURE",
                                    "mpaa_rating": "G",
                                    "total_gross": "191450875",
                                    "inflation_adjusted_gross": "203522177"
                                },
                                {
                                    "movie_title": "winnie the pooh",
                                    "release_date": "2011-07-15",
                                    "genre": "ADVENTURE",
                                    "mpaa_rating": "G",
                                    "total_gross": "26692846",
                                    "inflation_adjusted_gross": "28375869"
                                },
                                {
                                    "movie_title": "the help",
                                    "release_date": "2011-08-10",
                                    "genre": "DRAMA",
                                    "mpaa_rating": "PG-13",
                                    "total_gross": "169705587",
                                    "inflation_adjusted_gross": "180404976"
                                },
                                {
                                    "movie_title": "fright night",
                                    "release_date": "2011-08-19",
                                    "genre": "HORROR",
                                    "mpaa_rating": "R",
                                    "total_gross": "18298649",
                                    "inflation_adjusted_gross": "19452402"
                                },
                                {
                                    "movie_title": "real steel",
                                    "release_date": "2011-10-07",
                                    "genre": "ACTION",
                                    "mpaa_rating": "PG-13",
                                    "total_gross": "85463309",
                                    "inflation_adjusted_gross": "90848019"
                                },
                                {
                                    "movie_title": "the muppets",
                                    "release_date": "2011-11-23",
                                    "genre": "COMEDY",
                                    "mpaa_rating": "PG",
                                    "total_gross": "88625922",
                                    "inflation_adjusted_gross": "94189503"
                                },
                                {
                                    "movie_title": "war horse",
                                    "release_date": "2011-12-25",
                                    "genre": "DRAMA",
                                    "mpaa_rating": "PG-13",
                                    "total_gross": "79883359",
                                    "inflation_adjusted_gross": "84762149"
                                },
                                {
                                    "movie_title": "the secret world of arietty",
                                    "release_date": "2012-02-17",
                                    "genre": "ADVENTURE",
                                    "mpaa_rating": "G",
                                    "total_gross": "19192510",
                                    "inflation_adjusted_gross": "20325733"
                                },
                                {
                                    "movie_title": "john carter",
                                    "release_date": "2012-03-09",
                                    "genre": "ADVENTURE",
                                    "mpaa_rating": "PG-13",
                                    "total_gross": "73058679",
                                    "inflation_adjusted_gross": "77372445"
                                },
                                {
                                    "movie_title": "chimpanzee",
                                    "release_date": "2012-04-20",
                                    "genre": "DOCUMENTARY",
                                    "mpaa_rating": "G",
                                    "total_gross": "28965459",
                                    "inflation_adjusted_gross": "30675725"
                                },
                                {
                                    "movie_title": "the avengers",
                                    "release_date": "2012-05-04",
                                    "genre": "ACTION",
                                    "mpaa_rating": "PG-13",
                                    "total_gross": "623279547",
                                    "inflation_adjusted_gross": "660081224"
                                },
                                {
                                    "movie_title": "brave",
                                    "release_date": "2012-06-22",
                                    "genre": "ADVENTURE",
                                    "mpaa_rating": "PG",
                                    "total_gross": "237282182",
                                    "inflation_adjusted_gross": "251292441"
                                },
                                {
                                    "movie_title": "people like us",
                                    "release_date": "2012-06-29",
                                    "genre": "DRAMA",
                                    "mpaa_rating": "PG-13",
                                    "total_gross": "12431792",
                                    "inflation_adjusted_gross": "13165822"
                                },
                                {
                                    "movie_title": "the odd life of timothy green",
                                    "release_date": "2012-08-15",
                                    "genre": "DRAMA",
                                    "mpaa_rating": "PG",
                                    "total_gross": "51853450",
                                    "inflation_adjusted_gross": "54914942"
                                },
                                {
                                    "movie_title": "frankenweenie",
                                    "release_date": "2012-10-05",
                                    "genre": "COMEDY",
                                    "mpaa_rating": "PG",
                                    "total_gross": "35287788",
                                    "inflation_adjusted_gross": "37363513"
                                },
                                {
                                    "movie_title": "wreck-it ralph",
                                    "release_date": "2012-11-02",
                                    "genre": "ADVENTURE",
                                    "mpaa_rating": "PG",
                                    "total_gross": "189412677",
                                    "inflation_adjusted_gross": "200354959"
                                },
                                {
                                    "movie_title": "lincoln",
                                    "release_date": "2012-11-09",
                                    "genre": "DRAMA",
                                    "mpaa_rating": "PG-13",
                                    "total_gross": "182207973",
                                    "inflation_adjusted_gross": "192122330"
                                },
                                {
                                    "movie_title": "oz the great and powerful",
                                    "release_date": "2013-03-08",
                                    "genre": "ADVENTURE",
                                    "mpaa_rating": "PG",
                                    "total_gross": "234770996",
                                    "inflation_adjusted_gross": "243434130"
                                },
                                {
                                    "movie_title": "iron man 3",
                                    "release_date": "2013-05-03",
                                    "genre": "ACTION",
                                    "mpaa_rating": "PG-13",
                                    "total_gross": "408992272",
                                    "inflation_adjusted_gross": "424084233"
                                },
                                {
                                    "movie_title": "monsters university",
                                    "release_date": "2013-06-21",
                                    "genre": "ADVENTURE",
                                    "mpaa_rating": "G",
                                    "total_gross": "268488329",
                                    "inflation_adjusted_gross": "278395641"
                                },
                                {
                                    "movie_title": "the lone ranger",
                                    "release_date": "2013-07-02",
                                    "genre": "WESTERN",
                                    "mpaa_rating": "PG-13",
                                    "total_gross": "89302115",
                                    "inflation_adjusted_gross": "92597388"
                                },
                                {
                                    "movie_title": "disney planes",
                                    "release_date": "2013-08-09",
                                    "genre": "COMEDY",
                                    "mpaa_rating": "PG",
                                    "total_gross": "90282580",
                                    "inflation_adjusted_gross": "93614037"
                                },
                                {
                                    "movie_title": "the fifth estate",
                                    "release_date": "2013-10-18",
                                    "genre": "DRAMA",
                                    "mpaa_rating": "R",
                                    "total_gross": "3254172",
                                    "inflation_adjusted_gross": "3374251"
                                },
                                {
                                    "movie_title": "thor: the dark world",
                                    "release_date": "2013-11-08",
                                    "genre": "ADVENTURE",
                                    "mpaa_rating": "PG-13",
                                    "total_gross": "206362140",
                                    "inflation_adjusted_gross": "213962184"
                                },
                                {
                                    "movie_title": "kaze tachinu",
                                    "release_date": "2013-11-08",
                                    "genre": "DRAMA",
                                    "mpaa_rating": "PG-13",
                                    "total_gross": "5201879",
                                    "inflation_adjusted_gross": "5367415"
                                },
                                {
                                    "movie_title": "frozen",
                                    "release_date": "2013-11-22",
                                    "genre": "ADVENTURE",
                                    "mpaa_rating": "PG",
                                    "total_gross": "400738009",
                                    "inflation_adjusted_gross": "414997174"
                                },
                                {
                                    "movie_title": "delivery man",
                                    "release_date": "2013-11-22",
                                    "genre": "COMEDY",
                                    "mpaa_rating": "PG-13",
                                    "total_gross": "30659817",
                                    "inflation_adjusted_gross": "31787136"
                                },
                                {
                                    "movie_title": "saving mr. banks",
                                    "release_date": "2013-12-13",
                                    "genre": "DRAMA",
                                    "mpaa_rating": "PG-13",
                                    "total_gross": "83299761",
                                    "inflation_adjusted_gross": "86249969"
                                },
                                {
                                    "movie_title": "need for speed",
                                    "release_date": "2014-03-14",
                                    "genre": "ACTION",
                                    "mpaa_rating": "PG-13",
                                    "total_gross": "43568507",
                                    "inflation_adjusted_gross": "44955015"
                                },
                                {
                                    "movie_title": "muppets most wanted",
                                    "release_date": "2014-03-21",
                                    "genre": "COMEDY",
                                    "mpaa_rating": "PG",
                                    "total_gross": "51178893",
                                    "inflation_adjusted_gross": "52807594"
                                },
                                {
                                    "movie_title": "captain america: the winter soldier",
                                    "release_date": "2014-04-04",
                                    "genre": "ACTION",
                                    "mpaa_rating": "PG-13",
                                    "total_gross": "259746958",
                                    "inflation_adjusted_gross": "268013076"
                                },
                                {
                                    "movie_title": "bears",
                                    "release_date": "2014-04-18",
                                    "genre": "DOCUMENTARY",
                                    "mpaa_rating": "G",
                                    "total_gross": "17780194",
                                    "inflation_adjusted_gross": "18346024"
                                },
                                {
                                    "movie_title": "million dollar arm",
                                    "release_date": "2014-05-10",
                                    "genre": "DRAMA",
                                    "mpaa_rating": "PG",
                                    "total_gross": "36447959",
                                    "inflation_adjusted_gross": "37607865"
                                },
                                {
                                    "movie_title": "maleficent",
                                    "release_date": "2014-05-30",
                                    "genre": "ADVENTURE",
                                    "mpaa_rating": "PG",
                                    "total_gross": "241407328",
                                    "inflation_adjusted_gross": "249089809"
                                },
                                {
                                    "movie_title": "planes: fire and rescue",
                                    "release_date": "2014-07-18",
                                    "genre": "ADVENTURE",
                                    "mpaa_rating": "PG",
                                    "total_gross": "59157732",
                                    "inflation_adjusted_gross": "61040349"
                                },
                                {
                                    "movie_title": "guardians of the galaxy",
                                    "release_date": "2014-08-01",
                                    "genre": "ADVENTURE",
                                    "mpaa_rating": "PG-13",
                                    "total_gross": "333172112",
                                    "inflation_adjusted_gross": "343771168"
                                },
                                {
                                    "movie_title": "the hundred-foot journey",
                                    "release_date": "2014-08-08",
                                    "genre": "ROMANTIC COMEDY",
                                    "mpaa_rating": "PG",
                                    "total_gross": "54235441",
                                    "inflation_adjusted_gross": "55961409"
                                },
                                {
                                    "movie_title": "alexander and the terrible, horrible,…",
                                    "release_date": "2014-10-10",
                                    "genre": "COMEDY",
                                    "mpaa_rating": "PG",
                                    "total_gross": "66954149",
                                    "inflation_adjusted_gross": "69055550"
                                },
                                {
                                    "movie_title": "big hero 6",
                                    "release_date": "2014-11-07",
                                    "genre": "ADVENTURE",
                                    "mpaa_rating": "PG",
                                    "total_gross": "222527828",
                                    "inflation_adjusted_gross": "229249222"
                                },
                                {
                                    "movie_title": "into the woods",
                                    "release_date": "2014-12-25",
                                    "genre": "MUSICAL",
                                    "mpaa_rating": "PG",
                                    "total_gross": "128002372",
                                    "inflation_adjusted_gross": "130894237"
                                },
                                {
                                    "movie_title": "strange magic",
                                    "release_date": "2015-01-23",
                                    "genre": "ADVENTURE",
                                    "mpaa_rating": "PG",
                                    "total_gross": "12429583",
                                    "inflation_adjusted_gross": "12429583"
                                },
                                {
                                    "movie_title": "mcfarland, usa",
                                    "release_date": "2015-02-20",
                                    "genre": "DRAMA",
                                    "mpaa_rating": "PG",
                                    "total_gross": "44480275",
                                    "inflation_adjusted_gross": "44480275"
                                },
                                {
                                    "movie_title": "cinderella",
                                    "release_date": "2015-03-13",
                                    "genre": "DRAMA",
                                    "mpaa_rating": "PG",
                                    "total_gross": "201151353",
                                    "inflation_adjusted_gross": "201151353"
                                },
                                {
                                    "movie_title": "monkey kingdom",
                                    "release_date": "2015-04-17",
                                    "genre": "DOCUMENTARY",
                                    "mpaa_rating": "G",
                                    "total_gross": "16432322",
                                    "inflation_adjusted_gross": "16432322"
                                },
                                {
                                    "movie_title": "avengers: age of ultron",
                                    "release_date": "2015-05-01",
                                    "genre": "ACTION",
                                    "mpaa_rating": "PG-13",
                                    "total_gross": "459005868",
                                    "inflation_adjusted_gross": "459005868"
                                },
                                {
                                    "movie_title": "tomorrowland",
                                    "release_date": "2015-05-22",
                                    "genre": "ADVENTURE",
                                    "mpaa_rating": "PG",
                                    "total_gross": "93436322",
                                    "inflation_adjusted_gross": "93436322"
                                },
                                {
                                    "movie_title": "inside out",
                                    "release_date": "2015-06-19",
                                    "genre": "ADVENTURE",
                                    "mpaa_rating": "PG",
                                    "total_gross": "356461711",
                                    "inflation_adjusted_gross": "356461711"
                                },
                                {
                                    "movie_title": "ant-man",
                                    "release_date": "2015-07-17",
                                    "genre": "ACTION",
                                    "mpaa_rating": "PG-13",
                                    "total_gross": "180202163",
                                    "inflation_adjusted_gross": "180202163"
                                },
                                {
                                    "movie_title": "bridge of spies",
                                    "release_date": "2015-10-16",
                                    "genre": "THRILLER/SUSPENSE",
                                    "mpaa_rating": "PG-13",
                                    "total_gross": "72313754",
                                    "inflation_adjusted_gross": "72313754"
                                },
                                {
                                    "movie_title": "the good dinosaur",
                                    "release_date": "2015-11-25",
                                    "genre": "ADVENTURE",
                                    "mpaa_rating": "PG",
                                    "total_gross": "123087120",
                                    "inflation_adjusted_gross": "123087120"
                                },
                                {
                                    "movie_title": "star wars ep. vii: the force awakens",
                                    "release_date": "2015-12-18",
                                    "genre": "ADVENTURE",
                                    "mpaa_rating": "PG-13",
                                    "total_gross": "936662225",
                                    "inflation_adjusted_gross": "936662225"
                                },
                                {
                                    "movie_title": "the finest hours",
                                    "release_date": "2016-01-29",
                                    "genre": "THRILLER/SUSPENSE",
                                    "mpaa_rating": "PG",
                                    "total_gross": "27569558",
                                    "inflation_adjusted_gross": "27569558"
                                },
                                {
                                    "movie_title": "zootopia",
                                    "release_date": "2016-03-04",
                                    "genre": "ADVENTURE",
                                    "mpaa_rating": "PG",
                                    "total_gross": "341268248",
                                    "inflation_adjusted_gross": "341268248"
                                },
                                {
                                    "movie_title": "the jungle book",
                                    "release_date": "2016-04-15",
                                    "genre": "ADVENTURE",
                                    "mpaa_rating": "PG",
                                    "total_gross": "364001123",
                                    "inflation_adjusted_gross": "364001123"
                                },
                                {
                                    "movie_title": "a beautiful planet",
                                    "release_date": "2016-04-29",
                                    "genre": "DOCUMENTARY",
                                    "mpaa_rating": "G",
                                    "total_gross": "7895708",
                                    "inflation_adjusted_gross": "7895708"
                                },
                                {
                                    "movie_title": "captain america: civil war",
                                    "release_date": "2016-05-06",
                                    "genre": "ACTION",
                                    "mpaa_rating": "PG-13",
                                    "total_gross": "408084349",
                                    "inflation_adjusted_gross": "408084349"
                                },
                                {
                                    "movie_title": "alice through the looking glass",
                                    "release_date": "2016-05-27",
                                    "genre": "ADVENTURE",
                                    "mpaa_rating": "PG",
                                    "total_gross": "77042381",
                                    "inflation_adjusted_gross": "77042381"
                                },
                                {
                                    "movie_title": "finding dory",
                                    "release_date": "2016-06-17",
                                    "genre": "ADVENTURE",
                                    "mpaa_rating": "PG",
                                    "total_gross": "486295561",
                                    "inflation_adjusted_gross": "486295561"
                                },
                                {
                                    "movie_title": "the bfg",
                                    "release_date": "2016-07-01",
                                    "genre": "ADVENTURE",
                                    "mpaa_rating": "PG",
                                    "total_gross": "55483770",
                                    "inflation_adjusted_gross": "55483770"
                                },
                                {
                                    "movie_title": "pete’s dragon",
                                    "release_date": "2016-08-12",
                                    "genre": "ADVENTURE",
                                    "mpaa_rating": "PG",
                                    "total_gross": "76233151",
                                    "inflation_adjusted_gross": "76233151"
                                },
                                {
                                    "movie_title": "the light between oceans",
                                    "release_date": "2016-09-02",
                                    "genre": "DRAMA",
                                    "mpaa_rating": "PG-13",
                                    "total_gross": "12545979",
                                    "inflation_adjusted_gross": "12545979"
                                },
                                {
                                    "movie_title": "queen of katwe",
                                    "release_date": "2016-09-23",
                                    "genre": "DRAMA",
                                    "mpaa_rating": "PG",
                                    "total_gross": "8874389",
                                    "inflation_adjusted_gross": "8874389"
                                },
                                {
                                    "movie_title": "doctor strange",
                                    "release_date": "2016-11-04",
                                    "genre": "ADVENTURE",
                                    "mpaa_rating": "PG-13",
                                    "total_gross": "232532923",
                                    "inflation_adjusted_gross": "232532923"
                                },
                                {
                                    "movie_title": "moana",
                                    "release_date": "2016-11-23",
                                    "genre": "ADVENTURE",
                                    "mpaa_rating": "PG",
                                    "total_gross": "246082029",
                                    "inflation_adjusted_gross": "246082029"
                                },
                                {
                                    "movie_title": "rogue one: a star wars story",
                                    "release_date": "2016-12-16",
                                    "genre": "ADVENTURE",
                                    "mpaa_rating": "PG-13",
                                    "total_gross": "529483936",
                                    "inflation_adjusted_gross": "529483936"
                                },
                                {
                                    "movie_title": "the distinguished gentleman",
                                    "release_date": "1992-12-04",
                                    "genre": "COMEDY",
                                    "mpaa_rating": "R",
                                    "total_gross": "46434570",
                                    "inflation_adjusted_gross": "94349900"
                                },
                                {
                                    "movie_title": "the muppet christmas carol",
                                    "release_date": "1992-12-11",
                                    "genre": "COMEDY",
                                    "mpaa_rating": "G",
                                    "total_gross": "27281507",
                                    "inflation_adjusted_gross": "55417615"
                                },
                                {
                                    "movie_title": "alive",
                                    "release_date": "1993-01-15",
                                    "genre": "ADVENTURE",
                                    "mpaa_rating": "R",
                                    "total_gross": "36299670",
                                    "inflation_adjusted_gross": "73914543"
                                },
                                {
                                    "movie_title": "aspen extreme",
                                    "release_date": "1993-01-22",
                                    "genre": "ROMANTIC COMEDY",
                                    "mpaa_rating": "PG-13",
                                    "total_gross": "7843388",
                                    "inflation_adjusted_gross": "15970955"
                                },
                                {
                                    "movie_title": "homeward bound: the incredible journey",
                                    "release_date": "1993-02-03",
                                    "genre": "ADVENTURE",
                                    "mpaa_rating": "G",
                                    "total_gross": "41833324",
                                    "inflation_adjusted_gross": "85182343"
                                },
                                {
                                    "movie_title": "the cemetery club",
                                    "release_date": "1993-02-03",
                                    "genre": "COMEDY",
                                    "mpaa_rating": "PG-13",
                                    "total_gross": "5583621",
                                    "inflation_adjusted_gross": "11369541"
                                },
                                {
                                    "movie_title": "swing kids",
                                    "release_date": "1993-03-05",
                                    "genre": "MUSICAL",
                                    "mpaa_rating": "PG-13",
                                    "total_gross": "5632086",
                                    "inflation_adjusted_gross": "11468231"
                                },
                                {
                                    "movie_title": "a far off place",
                                    "release_date": "1993-03-12",
                                    "genre": "ADVENTURE",
                                    "mpaa_rating": "PG",
                                    "total_gross": "12890752",
                                    "inflation_adjusted_gross": "26248558"
                                },
                                {
                                    "movie_title": "born yesterday",
                                    "release_date": "1993-03-26",
                                    "genre": "ROMANTIC COMEDY",
                                    "mpaa_rating": "PG",
                                    "total_gross": "17760754",
                                    "inflation_adjusted_gross": "36165012"
                                },
                                {
                                    "movie_title": "the adventures of huck finn",
                                    "release_date": "1993-04-02",
                                    "genre": "ADVENTURE",
                                    "mpaa_rating": "PG",
                                    "total_gross": "24103594",
                                    "inflation_adjusted_gross": "49080505"
                                },
                                {
                                    "movie_title": "bound by honor",
                                    "release_date": "1993-04-16",
                                    "genre": "NULL",
                                    "mpaa_rating": "R",
                                    "total_gross": "4496583",
                                    "inflation_adjusted_gross": "9156084"
                                },
                                {
                                    "movie_title": "indian summer",
                                    "release_date": "1993-04-23",
                                    "genre": "COMEDY",
                                    "mpaa_rating": "R",
                                    "total_gross": "14717851",
                                    "inflation_adjusted_gross": "29968953"
                                },
                                {
                                    "movie_title": "super mario bros.",
                                    "release_date": "1993-05-28",
                                    "genre": "ACTION",
                                    "mpaa_rating": "PG",
                                    "total_gross": "20844907",
                                    "inflation_adjusted_gross": "42445058"
                                },
                                {
                                    "movie_title": "guilty as sin",
                                    "release_date": "1993-06-04",
                                    "genre": "THRILLER/SUSPENSE",
                                    "mpaa_rating": "R",
                                    "total_gross": "22622537",
                                    "inflation_adjusted_gross": "46064723"
                                },
                                {
                                    "movie_title": "life with mikey",
                                    "release_date": "1993-06-04",
                                    "genre": "COMEDY",
                                    "mpaa_rating": "PG",
                                    "total_gross": "12349549",
                                    "inflation_adjusted_gross": "25146538"
                                },
                                {
                                    "movie_title": "what's love got to do with it",
                                    "release_date": "1993-06-09",
                                    "genre": "DRAMA",
                                    "mpaa_rating": "R",
                                    "total_gross": "39100956",
                                    "inflation_adjusted_gross": "79618610"
                                },
                                {
                                    "movie_title": "son in law",
                                    "release_date": "1993-07-02",
                                    "genre": "COMEDY",
                                    "mpaa_rating": "PG-13",
                                    "total_gross": "25989889",
                                    "inflation_adjusted_gross": "52921433"
                                },
                                {
                                    "movie_title": "hocus pocus",
                                    "release_date": "1993-07-16",
                                    "genre": "COMEDY",
                                    "mpaa_rating": "PG",
                                    "total_gross": "39360491",
                                    "inflation_adjusted_gross": "80147079"
                                },
                                {
                                    "movie_title": "another stakeout",
                                    "release_date": "1993-07-23",
                                    "genre": "COMEDY",
                                    "mpaa_rating": "PG-13",
                                    "total_gross": "20107504",
                                    "inflation_adjusted_gross": "40943541"
                                },
                                {
                                    "movie_title": "my boyfriend's back",
                                    "release_date": "1993-08-06",
                                    "genre": "NULL",
                                    "mpaa_rating": "PG-13",
                                    "total_gross": "3218882",
                                    "inflation_adjusted_gross": "6554384"
                                },
                                {
                                    "movie_title": "father hood",
                                    "release_date": "1993-08-27",
                                    "genre": "NULL",
                                    "mpaa_rating": "PG-13",
                                    "total_gross": "3268203",
                                    "inflation_adjusted_gross": "6654819"
                                },
                                {
                                    "movie_title": "the joy luck club",
                                    "release_date": "1993-09-08",
                                    "genre": "DRAMA",
                                    "mpaa_rating": "R",
                                    "total_gross": "32790064",
                                    "inflation_adjusted_gross": "66768171"
                                },
                                {
                                    "movie_title": "money for nothing",
                                    "release_date": "1993-09-10",
                                    "genre": "COMEDY",
                                    "mpaa_rating": "R",
                                    "total_gross": "1044824",
                                    "inflation_adjusted_gross": "2127496"
                                },
                                {
                                    "movie_title": "the program",
                                    "release_date": "1993-09-24",
                                    "genre": "ACTION",
                                    "mpaa_rating": "R",
                                    "total_gross": "23042200",
                                    "inflation_adjusted_gross": "46919256"
                                },
                                {
                                    "movie_title": "cool runnings",
                                    "release_date": "1993-10-01",
                                    "genre": "COMEDY",
                                    "mpaa_rating": "PG",
                                    "total_gross": "68856263",
                                    "inflation_adjusted_gross": "140392731"
                                },
                                {
                                    "movie_title": "the nightmare before christmas",
                                    "release_date": "1993-10-13",
                                    "genre": "MUSICAL",
                                    "mpaa_rating": "PG",
                                    "total_gross": "50408318",
                                    "inflation_adjusted_gross": "100026637"
                                },
                                {
                                    "movie_title": "the three musketeers",
                                    "release_date": "1993-11-12",
                                    "genre": "ADVENTURE",
                                    "mpaa_rating": "PG",
                                    "total_gross": "53661805",
                                    "inflation_adjusted_gross": "109310377"
                                },
                                {
                                    "movie_title": "sister act 2 back in the habit",
                                    "release_date": "1993-12-10",
                                    "genre": "COMEDY",
                                    "mpaa_rating": "PG",
                                    "total_gross": "57319029",
                                    "inflation_adjusted_gross": "116965668"
                                },
                                {
                                    "movie_title": "tombstone",
                                    "release_date": "1993-12-25",
                                    "genre": "WESTERN",
                                    "mpaa_rating": "R",
                                    "total_gross": "56505065",
                                    "inflation_adjusted_gross": "115781734"
                                },
                                {
                                    "movie_title": "the air up there",
                                    "release_date": "1994-01-07",
                                    "genre": "COMEDY",
                                    "mpaa_rating": "PG",
                                    "total_gross": "20782439",
                                    "inflation_adjusted_gross": "42940186"
                                },
                                {
                                    "movie_title": "cabin boy",
                                    "release_date": "1994-01-07",
                                    "genre": "COMEDY",
                                    "mpaa_rating": "PG-13",
                                    "total_gross": "3469493",
                                    "inflation_adjusted_gross": "7168577"
                                },
                                {
                                    "movie_title": "iron will",
                                    "release_date": "1994-01-14",
                                    "genre": "DRAMA",
                                    "mpaa_rating": "PG",
                                    "total_gross": "20623071",
                                    "inflation_adjusted_gross": "42610902"
                                },
                                {
                                    "movie_title": "red rock west",
                                    "release_date": "1994-01-28",
                                    "genre": "NULL",
                                    "mpaa_rating": "R",
                                    "total_gross": "2502551",
                                    "inflation_adjusted_gross": "5170709"
                                },
                                {
                                    "movie_title": "blank check",
                                    "release_date": "1994-02-11",
                                    "genre": "COMEDY",
                                    "mpaa_rating": "PG",
                                    "total_gross": "30573770",
                                    "inflation_adjusted_gross": "63170804"
                                },
                                {
                                    "movie_title": "angie",
                                    "release_date": "1994-03-04",
                                    "genre": "COMEDY",
                                    "mpaa_rating": "R",
                                    "total_gross": "9252349",
                                    "inflation_adjusted_gross": "19116981"
                                },
                                {
                                    "movie_title": "the ref",
                                    "release_date": "1994-03-09",
                                    "genre": "COMEDY",
                                    "mpaa_rating": "R",
                                    "total_gross": "11325885",
                                    "inflation_adjusted_gross": "23401275"
                                },
                                {
                                    "movie_title": "d2: the mighty ducks",
                                    "release_date": "1994-03-25",
                                    "genre": "COMEDY",
                                    "mpaa_rating": "PG",
                                    "total_gross": "45604206",
                                    "inflation_adjusted_gross": "94226333"
                                },
                                {
                                    "movie_title": "holy matrimony",
                                    "release_date": "1994-04-08",
                                    "genre": "COMEDY",
                                    "mpaa_rating": "NULL",
                                    "total_gross": "713234",
                                    "inflation_adjusted_gross": "1473665"
                                },
                                {
                                    "movie_title": "white fang 2: myth of the white wolf",
                                    "release_date": "1994-04-15",
                                    "genre": "ADVENTURE",
                                    "mpaa_rating": "PG",
                                    "total_gross": "8752399",
                                    "inflation_adjusted_gross": "18083994"
                                },
                                {
                                    "movie_title": "the inkwell",
                                    "release_date": "1994-04-22",
                                    "genre": "COMEDY",
                                    "mpaa_rating": "R",
                                    "total_gross": "8864699",
                                    "inflation_adjusted_gross": "18316030"
                                },
                                {
                                    "movie_title": "when a man loves a woman",
                                    "release_date": "1994-04-29",
                                    "genre": "DRAMA",
                                    "mpaa_rating": "R",
                                    "total_gross": "50021959",
                                    "inflation_adjusted_gross": "103354194"
                                },
                                {
                                    "movie_title": "3 ninjas kick back",
                                    "release_date": "1994-05-06",
                                    "genre": "ACTION",
                                    "mpaa_rating": "PG",
                                    "total_gross": "11744960",
                                    "inflation_adjusted_gross": "24267154"
                                },
                                {
                                    "movie_title": "renaissance man",
                                    "release_date": "1994-06-03",
                                    "genre": "COMEDY",
                                    "mpaa_rating": "PG-13",
                                    "total_gross": "24172899",
                                    "inflation_adjusted_gross": "49945474"
                                },
                                {
                                    "movie_title": "the lion king",
                                    "release_date": "1994-06-15",
                                    "genre": "ADVENTURE",
                                    "mpaa_rating": "G",
                                    "total_gross": "422780140",
                                    "inflation_adjusted_gross": "761640898"
                                },
                                {
                                    "movie_title": "i love trouble",
                                    "release_date": "1994-06-29",
                                    "genre": "ROMANTIC COMEDY",
                                    "mpaa_rating": "PG",
                                    "total_gross": "30806194",
                                    "inflation_adjusted_gross": "63651027"
                                },
                                {
                                    "movie_title": "angels in the outfield",
                                    "release_date": "1994-07-15",
                                    "genre": "COMEDY",
                                    "mpaa_rating": "PG",
                                    "total_gross": "50236831",
                                    "inflation_adjusted_gross": "103798152"
                                },
                                {
                                    "movie_title": "in the army now",
                                    "release_date": "1994-08-12",
                                    "genre": "COMEDY",
                                    "mpaa_rating": "PG",
                                    "total_gross": "28881266",
                                    "inflation_adjusted_gross": "59673787"
                                },
                                {
                                    "movie_title": "color of night",
                                    "release_date": "1994-08-19",
                                    "genre": "THRILLER/SUSPENSE",
                                    "mpaa_rating": "R",
                                    "total_gross": "19750470",
                                    "inflation_adjusted_gross": "40804816"
                                },
                                {
                                    "movie_title": "camp nowhere",
                                    "release_date": "1994-08-26",
                                    "genre": "COMEDY",
                                    "mpaa_rating": "PG",
                                    "total_gross": "10442641",
                                    "inflation_adjusted_gross": "21576332"
                                },
                                {
                                    "movie_title": "it's pat",
                                    "release_date": "1994-08-26",
                                    "genre": "COMEDY",
                                    "mpaa_rating": "NULL",
                                    "total_gross": "60822",
                                    "inflation_adjusted_gross": "125666"
                                },
                                {
                                    "movie_title": "a simple twist of fate",
                                    "release_date": "1994-09-02",
                                    "genre": "DRAMA",
                                    "mpaa_rating": "PG-13",
                                    "total_gross": "3404935",
                                    "inflation_adjusted_gross": "7035189"
                                },
                                {
                                    "movie_title": "quiz show",
                                    "release_date": "1994-09-14",
                                    "genre": "DRAMA",
                                    "mpaa_rating": "PG-13",
                                    "total_gross": "24787282",
                                    "inflation_adjusted_gross": "50840394"
                                },
                                {
                                    "movie_title": "terminal velocity",
                                    "release_date": "1994-09-23",
                                    "genre": "ACTION",
                                    "mpaa_rating": "PG-13",
                                    "total_gross": "16478900",
                                    "inflation_adjusted_gross": "34048315"
                                },
                                {
                                    "movie_title": "ed wood",
                                    "release_date": "1994-09-30",
                                    "genre": "COMEDY",
                                    "mpaa_rating": "R",
                                    "total_gross": "5828466",
                                    "inflation_adjusted_gross": "12042634"
                                },
                                {
                                    "movie_title": "the puppet masters",
                                    "release_date": "1994-10-21",
                                    "genre": "HORROR",
                                    "mpaa_rating": "R",
                                    "total_gross": "8579626",
                                    "inflation_adjusted_gross": "17727017"
                                },
                                {
                                    "movie_title": "squanto: a warrior's tale",
                                    "release_date": "1994-10-28",
                                    "genre": "DRAMA",
                                    "mpaa_rating": "PG",
                                    "total_gross": "3319344",
                                    "inflation_adjusted_gross": "6858345"
                                },
                                {
                                    "movie_title": "the santa clause",
                                    "release_date": "1994-11-11",
                                    "genre": "COMEDY",
                                    "mpaa_rating": "PG",
                                    "total_gross": "144833357",
                                    "inflation_adjusted_gross": "298369717"
                                },
                                {
                                    "movie_title": "a low down dirty shame",
                                    "release_date": "1994-11-23",
                                    "genre": "ACTION",
                                    "mpaa_rating": "R",
                                    "total_gross": "29317886",
                                    "inflation_adjusted_gross": "60321919"
                                },
                                {
                                    "movie_title": "the jungle book",
                                    "release_date": "1994-12-25",
                                    "genre": "ADVENTURE",
                                    "mpaa_rating": "PG",
                                    "total_gross": "44342956",
                                    "inflation_adjusted_gross": "88930321"
                                },
                                {
                                    "movie_title": "houseguest",
                                    "release_date": "1995-01-06",
                                    "genre": "COMEDY",
                                    "mpaa_rating": "PG",
                                    "total_gross": "26325256",
                                    "inflation_adjusted_gross": "51016522"
                                },
                                {
                                    "movie_title": "bad company",
                                    "release_date": "1995-01-20",
                                    "genre": "THRILLER/SUSPENSE",
                                    "mpaa_rating": "R",
                                    "total_gross": "3523909",
                                    "inflation_adjusted_gross": "6829092"
                                },
                                {
                                    "movie_title": "miami rhapsody",
                                    "release_date": "1995-01-27",
                                    "genre": "ROMANTIC COMEDY",
                                    "mpaa_rating": "PG-13",
                                    "total_gross": "5086578",
                                    "inflation_adjusted_gross": "9857435"
                                },
                                {
                                    "movie_title": "the jerky boys",
                                    "release_date": "1995-02-03",
                                    "genre": "COMEDY",
                                    "mpaa_rating": "R",
                                    "total_gross": "7555256",
                                    "inflation_adjusted_gross": "14641561"
                                },
                                {
                                    "movie_title": "heavy weights",
                                    "release_date": "1995-02-17",
                                    "genre": "COMEDY",
                                    "mpaa_rating": "PG",
                                    "total_gross": "17671310",
                                    "inflation_adjusted_gross": "34245779"
                                },
                                {
                                    "movie_title": "man of the house",
                                    "release_date": "1995-03-03",
                                    "genre": "COMEDY",
                                    "mpaa_rating": "PG",
                                    "total_gross": "40029009",
                                    "inflation_adjusted_gross": "77573459"
                                },
                                {
                                    "movie_title": "roommates",
                                    "release_date": "1995-03-03",
                                    "genre": "COMEDY",
                                    "mpaa_rating": "PG",
                                    "total_gross": "12076989",
                                    "inflation_adjusted_gross": "23404369"
                                },
                                {
                                    "movie_title": "tall tale",
                                    "release_date": "1995-03-24",
                                    "genre": "WESTERN",
                                    "mpaa_rating": "PG",
                                    "total_gross": "8247627",
                                    "inflation_adjusted_gross": "15983331"
                                },
                                {
                                    "movie_title": "a pyromaniac's love story",
                                    "release_date": "1995-03-28",
                                    "genre": "ROMANTIC COMEDY",
                                    "mpaa_rating": "PG",
                                    "total_gross": "468240",
                                    "inflation_adjusted_gross": "907414"
                                },
                                {
                                    "movie_title": "jefferson in paris",
                                    "release_date": "1995-03-31",
                                    "genre": "DRAMA",
                                    "mpaa_rating": "PG-13",
                                    "total_gross": "2461628",
                                    "inflation_adjusted_gross": "4770461"
                                },
                                {
                                    "movie_title": "funny bones",
                                    "release_date": "1995-03-31",
                                    "genre": "COMEDY",
                                    "mpaa_rating": "R",
                                    "total_gross": "529135",
                                    "inflation_adjusted_gross": "1025425"
                                },
                                {
                                    "movie_title": "a goofy movie",
                                    "release_date": "1995-04-07",
                                    "genre": "COMEDY",
                                    "mpaa_rating": "G",
                                    "total_gross": "35336439",
                                    "inflation_adjusted_gross": "68479579"
                                },
                                {
                                    "movie_title": "while you were sleeping",
                                    "release_date": "1995-04-21",
                                    "genre": "ROMANTIC COMEDY",
                                    "mpaa_rating": "PG",
                                    "total_gross": "81057016",
                                    "inflation_adjusted_gross": "157082900"
                                },
                                {
                                    "movie_title": "crimson tide",
                                    "release_date": "1995-05-12",
                                    "genre": "ACTION",
                                    "mpaa_rating": "R",
                                    "total_gross": "91387195",
                                    "inflation_adjusted_gross": "177102077"
                                },
                                {
                                    "movie_title": "mad love",
                                    "release_date": "1995-05-26",
                                    "genre": "DRAMA",
                                    "mpaa_rating": "PG-13",
                                    "total_gross": "15446532",
                                    "inflation_adjusted_gross": "29934306"
                                },
                                {
                                    "movie_title": "pocahontas",
                                    "release_date": "1995-06-10",
                                    "genre": "ADVENTURE",
                                    "mpaa_rating": "G",
                                    "total_gross": "141579773",
                                    "inflation_adjusted_gross": "274370957"
                                },
                                {
                                    "movie_title": "judge dredd",
                                    "release_date": "1995-06-30",
                                    "genre": "ACTION",
                                    "mpaa_rating": "R",
                                    "total_gross": "34687912",
                                    "inflation_adjusted_gross": "67222776"
                                },
                                {
                                    "movie_title": "operation dumbo drop",
                                    "release_date": "1995-07-28",
                                    "genre": "ADVENTURE",
                                    "mpaa_rating": "PG",
                                    "total_gross": "24670346",
                                    "inflation_adjusted_gross": "47809421"
                                },
                                {
                                    "movie_title": "dangerous minds",
                                    "release_date": "1995-08-11",
                                    "genre": "DRAMA",
                                    "mpaa_rating": "R",
                                    "total_gross": "84919401",
                                    "inflation_adjusted_gross": "164552293"
                                },
                                {
                                    "movie_title": "a kid in king arthur's court",
                                    "release_date": "1995-08-11",
                                    "genre": "ADVENTURE",
                                    "mpaa_rating": "PG",
                                    "total_gross": "13406717",
                                    "inflation_adjusted_gross": "25981285"
                                },
                                {
                                    "movie_title": "the tie that binds",
                                    "release_date": "1995-09-08",
                                    "genre": "THRILLER/SUSPENSE",
                                    "mpaa_rating": "R",
                                    "total_gross": "5762795",
                                    "inflation_adjusted_gross": "11167895"
                                },
                                {
                                    "movie_title": "unstrung heroes",
                                    "release_date": "1995-09-15",
                                    "genre": "DRAMA",
                                    "mpaa_rating": "PG",
                                    "total_gross": "7929000",
                                    "inflation_adjusted_gross": "15365850"
                                },
                                {
                                    "movie_title": "the big green",
                                    "release_date": "1995-09-29",
                                    "genre": "COMEDY",
                                    "mpaa_rating": "PG",
                                    "total_gross": "17736619",
                                    "inflation_adjusted_gross": "34372339"
                                },
                                {
                                    "movie_title": "dead presidents",
                                    "release_date": "1995-10-04",
                                    "genre": "DRAMA",
                                    "mpaa_rating": "R",
                                    "total_gross": "24120194",
                                    "inflation_adjusted_gross": "46741467"
                                },
                                {
                                    "movie_title": "the scarlet letter",
                                    "release_date": "1995-10-13",
                                    "genre": "DRAMA",
                                    "mpaa_rating": "R",
                                    "total_gross": "10359006",
                                    "inflation_adjusted_gross": "20075033"
                                },
                                {
                                    "movie_title": "feast of july",
                                    "release_date": "1995-10-13",
                                    "genre": "DRAMA",
                                    "mpaa_rating": "R",
                                    "total_gross": "293274",
                                    "inflation_adjusted_gross": "568342"
                                },
                                {
                                    "movie_title": "powder",
                                    "release_date": "1995-10-27",
                                    "genre": "DRAMA",
                                    "mpaa_rating": "PG-13",
                                    "total_gross": "30833914",
                                    "inflation_adjusted_gross": "59727216"
                                },
                                {
                                    "movie_title": "toy story",
                                    "release_date": "1995-11-22",
                                    "genre": "ADVENTURE",
                                    "mpaa_rating": "G",
                                    "total_gross": "191796233",
                                    "inflation_adjusted_gross": "370409631"
                                },
                                {
                                    "movie_title": "father of the bride part ii",
                                    "release_date": "1995-12-08",
                                    "genre": "COMEDY",
                                    "mpaa_rating": "PG",
                                    "total_gross": "76578911",
                                    "inflation_adjusted_gross": "147658438"
                                },
                                {
                                    "movie_title": "nixon",
                                    "release_date": "1995-12-20",
                                    "genre": "DRAMA",
                                    "mpaa_rating": "R",
                                    "total_gross": "13668249",
                                    "inflation_adjusted_gross": "26302005"
                                },
                                {
                                    "movie_title": "tom and huck",
                                    "release_date": "1995-12-22",
                                    "genre": "ADVENTURE",
                                    "mpaa_rating": "PG",
                                    "total_gross": "23837227",
                                    "inflation_adjusted_gross": "45911517"
                                },
                                {
                                    "movie_title": "mr. holland's opus",
                                    "release_date": "1995-12-29",
                                    "genre": "DRAMA",
                                    "mpaa_rating": "PG",
                                    "total_gross": "82582604",
                                    "inflation_adjusted_gross": "157508868"
                                },
                                {
                                    "movie_title": "white squall",
                                    "release_date": "1996-02-02",
                                    "genre": "ADVENTURE",
                                    "mpaa_rating": "PG-13",
                                    "total_gross": "10229300",
                                    "inflation_adjusted_gross": "19509726"
                                },
                                {
                                    "movie_title": "muppet treasure island",
                                    "release_date": "1996-02-16",
                                    "genre": "ADVENTURE",
                                    "mpaa_rating": "G",
                                    "total_gross": "34327391",
                                    "inflation_adjusted_gross": "65470567"
                                },
                                {
                                    "movie_title": "mr. wrong",
                                    "release_date": "1996-02-16",
                                    "genre": "ROMANTIC COMEDY",
                                    "mpaa_rating": "PG-13",
                                    "total_gross": "12805071",
                                    "inflation_adjusted_gross": "24422334"
                                },
                                {
                                    "movie_title": "before and after",
                                    "release_date": "1996-02-23",
                                    "genre": "DRAMA",
                                    "mpaa_rating": "PG-13",
                                    "total_gross": "8642118",
                                    "inflation_adjusted_gross": "16482589"
                                },
                                {
                                    "movie_title": "up close & personal",
                                    "release_date": "1996-03-01",
                                    "genre": "DRAMA",
                                    "mpaa_rating": "PG-13",
                                    "total_gross": "51045801",
                                    "inflation_adjusted_gross": "97356578"
                                },
                                {
                                    "movie_title": "homeward bound ii: lost in san franc…",
                                    "release_date": "1996-03-08",
                                    "genre": "ADVENTURE",
                                    "mpaa_rating": "G",
                                    "total_gross": "32709423",
                                    "inflation_adjusted_gross": "62384706"
                                },
                                {
                                    "movie_title": "two much",
                                    "release_date": "1996-03-15",
                                    "genre": "ROMANTIC COMEDY",
                                    "mpaa_rating": "PG-13",
                                    "total_gross": "1078555",
                                    "inflation_adjusted_gross": "2057055"
                                },
                                {
                                    "movie_title": "un indien dans la ville",
                                    "release_date": "1996-03-22",
                                    "genre": "COMEDY",
                                    "mpaa_rating": "PG",
                                    "total_gross": "1029731",
                                    "inflation_adjusted_gross": "1963937"
                                },
                                {
                                    "movie_title": "james and the giant peach",
                                    "release_date": "1996-04-12",
                                    "genre": "ADVENTURE",
                                    "mpaa_rating": "PG",
                                    "total_gross": "28921264",
                                    "inflation_adjusted_gross": "55159783"
                                },
                                {
                                    "movie_title": "celtic pride",
                                    "release_date": "1996-04-19",
                                    "genre": "COMEDY",
                                    "mpaa_rating": "PG-13",
                                    "total_gross": "9240378",
                                    "inflation_adjusted_gross": "17623615"
                                },
                                {
                                    "movie_title": "last dance",
                                    "release_date": "1996-05-03",
                                    "genre": "DRAMA",
                                    "mpaa_rating": "R",
                                    "total_gross": "5857534",
                                    "inflation_adjusted_gross": "11171714"
                                },
                                {
                                    "movie_title": "boys",
                                    "release_date": "1996-05-10",
                                    "genre": "DRAMA",
                                    "mpaa_rating": "PG-13",
                                    "total_gross": "21930418",
                                    "inflation_adjusted_gross": "41826566"
                                },
                                {
                                    "movie_title": "spy hard",
                                    "release_date": "1996-05-24",
                                    "genre": "COMEDY",
                                    "mpaa_rating": "PG-13",
                                    "total_gross": "26936265",
                                    "inflation_adjusted_gross": "51373912"
                                },
                                {
                                    "movie_title": "eddie",
                                    "release_date": "1996-05-31",
                                    "genre": "COMEDY",
                                    "mpaa_rating": "PG-13",
                                    "total_gross": "31369401",
                                    "inflation_adjusted_gross": "59828966"
                                },
                                {
                                    "movie_title": "the rock",
                                    "release_date": "1996-06-07",
                                    "genre": "ACTION",
                                    "mpaa_rating": "R",
                                    "total_gross": "134069511",
                                    "inflation_adjusted_gross": "255702705"
                                },
                                {
                                    "movie_title": "the hunchback of notre dame",
                                    "release_date": "1996-06-21",
                                    "genre": "ADVENTURE",
                                    "mpaa_rating": "G",
                                    "total_gross": "100138851",
                                    "inflation_adjusted_gross": "190988799"
                                },
                                {
                                    "movie_title": "phenomenon",
                                    "release_date": "1996-07-05",
                                    "genre": "DRAMA",
                                    "mpaa_rating": "PG",
                                    "total_gross": "104636382",
                                    "inflation_adjusted_gross": "199559799"
                                },
                                {
                                    "movie_title": "kazaam",
                                    "release_date": "1996-07-17",
                                    "genre": "COMEDY",
                                    "mpaa_rating": "PG",
                                    "total_gross": "18880508",
                                    "inflation_adjusted_gross": "36009655"
                                },
                                {
                                    "movie_title": "jack",
                                    "release_date": "1996-08-09",
                                    "genre": "DRAMA",
                                    "mpaa_rating": "PG-13",
                                    "total_gross": "58617334",
                                    "inflation_adjusted_gross": "111792852"
                                },
                                {
                                    "movie_title": "first kid",
                                    "release_date": "1996-08-30",
                                    "genre": "COMEDY",
                                    "mpaa_rating": "PG",
                                    "total_gross": "26465920",
                                    "inflation_adjusted_gross": "50465108"
                                },
                                {
                                    "movie_title": "the rich man's wife",
                                    "release_date": "1996-09-13",
                                    "genre": "THRILLER/SUSPENSE",
                                    "mpaa_rating": "R",
                                    "total_gross": "8538318",
                                    "inflation_adjusted_gross": "16284619"
                                },
                                {
                                    "movie_title": "d3: the mighty ducks",
                                    "release_date": "1996-10-04",
                                    "genre": "COMEDY",
                                    "mpaa_rating": "PG",
                                    "total_gross": "22936273",
                                    "inflation_adjusted_gross": "43713554"
                                },
                                {
                                    "movie_title": "the associate",
                                    "release_date": "1996-10-25",
                                    "genre": "COMEDY",
                                    "mpaa_rating": "PG-13",
                                    "total_gross": "12772657",
                                    "inflation_adjusted_gross": "24333094"
                                },
                                {
                                    "movie_title": "ransom",
                                    "release_date": "1996-11-08",
                                    "genre": "ACTION",
                                    "mpaa_rating": "R",
                                    "total_gross": "136492681",
                                    "inflation_adjusted_gross": "259807820"
                                },
                                {
                                    "movie_title": "the war at home",
                                    "release_date": "1996-11-20",
                                    "genre": "NULL",
                                    "mpaa_rating": "R",
                                    "total_gross": "34368",
                                    "inflation_adjusted_gross": "65543"
                                },
                                {
                                    "movie_title": "101 dalmatians",
                                    "release_date": "1996-11-27",
                                    "genre": "COMEDY",
                                    "mpaa_rating": "G",
                                    "total_gross": "136189294",
                                    "inflation_adjusted_gross": "258728898"
                                },
                                {
                                    "movie_title": "the preacher's wife",
                                    "release_date": "1996-12-13",
                                    "genre": "DRAMA",
                                    "mpaa_rating": "PG",
                                    "total_gross": "48102795",
                                    "inflation_adjusted_gross": "91076877"
                                },
                                {
                                    "movie_title": "evita",
                                    "release_date": "1996-12-25",
                                    "genre": "MUSICAL",
                                    "mpaa_rating": "PG",
                                    "total_gross": "50047179",
                                    "inflation_adjusted_gross": "92077628"
                                },
                                {
                                    "movie_title": "metro",
                                    "release_date": "1997-01-17",
                                    "genre": "ACTION",
                                    "mpaa_rating": "R",
                                    "total_gross": "32017895",
                                    "inflation_adjusted_gross": "58804106"
                                },
                                {
                                    "movie_title": "prefontaine",
                                    "release_date": "1997-01-24",
                                    "genre": "DRAMA",
                                    "mpaa_rating": "PG-13",
                                    "total_gross": "590817",
                                    "inflation_adjusted_gross": "1085093"
                                },
                                {
                                    "movie_title": "shadow conspiracy",
                                    "release_date": "1997-01-31",
                                    "genre": "THRILLER/SUSPENSE",
                                    "mpaa_rating": "R",
                                    "total_gross": "2154540",
                                    "inflation_adjusted_gross": "3957025"
                                },
                                {
                                    "movie_title": "that darn cat",
                                    "release_date": "1997-02-14",
                                    "genre": "COMEDY",
                                    "mpaa_rating": "PG",
                                    "total_gross": "18301828",
                                    "inflation_adjusted_gross": "33613158"
                                },
                                {
                                    "movie_title": "jungle 2 jungle",
                                    "release_date": "1997-03-07",
                                    "genre": "COMEDY",
                                    "mpaa_rating": "PG",
                                    "total_gross": "59925026",
                                    "inflation_adjusted_gross": "110058379"
                                },
                                {
                                    "movie_title": "the sixth man",
                                    "release_date": "1997-03-28",
                                    "genre": "COMEDY",
                                    "mpaa_rating": "PG-13",
                                    "total_gross": "14765099",
                                    "inflation_adjusted_gross": "27117599"
                                },
                                {
                                    "movie_title": "grosse pointe blank",
                                    "release_date": "1997-04-11",
                                    "genre": "BLACK COMEDY",
                                    "mpaa_rating": "R",
                                    "total_gross": "28084357",
                                    "inflation_adjusted_gross": "51579764"
                                },
                                {
                                    "movie_title": "romy and michele's high school reunion",
                                    "release_date": "1997-04-25",
                                    "genre": "COMEDY",
                                    "mpaa_rating": "R",
                                    "total_gross": "29235353",
                                    "inflation_adjusted_gross": "53693680"
                                },
                                {
                                    "movie_title": "gone fishin'",
                                    "release_date": "1997-05-30",
                                    "genre": "COMEDY",
                                    "mpaa_rating": "PG",
                                    "total_gross": "19745922",
                                    "inflation_adjusted_gross": "36265379"
                                },
                                {
                                    "movie_title": "con air",
                                    "release_date": "1997-06-06",
                                    "genre": "ACTION",
                                    "mpaa_rating": "R",
                                    "total_gross": "101117573",
                                    "inflation_adjusted_gross": "185712664"
                                },
                                {
                                    "movie_title": "hercules",
                                    "release_date": "1997-06-13",
                                    "genre": "ADVENTURE",
                                    "mpaa_rating": "G",
                                    "total_gross": "99112101",
                                    "inflation_adjusted_gross": "182029412"
                                },
                                {
                                    "movie_title": "george of the jungle",
                                    "release_date": "1997-07-16",
                                    "genre": "COMEDY",
                                    "mpaa_rating": "PG",
                                    "total_gross": "105263257",
                                    "inflation_adjusted_gross": "193326632"
                                },
                                {
                                    "movie_title": "nothing to lose",
                                    "release_date": "1997-07-18",
                                    "genre": "COMEDY",
                                    "mpaa_rating": "R",
                                    "total_gross": "44480039",
                                    "inflation_adjusted_gross": "81692095"
                                },
                                {
                                    "movie_title": "air bud",
                                    "release_date": "1997-08-01",
                                    "genre": "COMEDY",
                                    "mpaa_rating": "PG",
                                    "total_gross": "24646936",
                                    "inflation_adjusted_gross": "45266588"
                                },
                                {
                                    "movie_title": "g.i. jane",
                                    "release_date": "1997-08-22",
                                    "genre": "DRAMA",
                                    "mpaa_rating": "R",
                                    "total_gross": "48169156",
                                    "inflation_adjusted_gross": "88467531"
                                },
                                {
                                    "movie_title": "a thousand acres",
                                    "release_date": "1997-09-19",
                                    "genre": "DRAMA",
                                    "mpaa_rating": "R",
                                    "total_gross": "7928412",
                                    "inflation_adjusted_gross": "14561324"
                                },
                                {
                                    "movie_title": "washington square",
                                    "release_date": "1997-10-05",
                                    "genre": "DRAMA",
                                    "mpaa_rating": "PG",
                                    "total_gross": "1775644",
                                    "inflation_adjusted_gross": "3257546"
                                },
                                {
                                    "movie_title": "rocket man",
                                    "release_date": "1997-10-10",
                                    "genre": "COMEDY",
                                    "mpaa_rating": "PG",
                                    "total_gross": "15448043",
                                    "inflation_adjusted_gross": "28371890"
                                },
                                {
                                    "movie_title": "playing god",
                                    "release_date": "1997-10-17",
                                    "genre": "THRILLER/SUSPENSE",
                                    "mpaa_rating": "R",
                                    "total_gross": "4166918",
                                    "inflation_adjusted_gross": "7652965"
                                },
                                {
                                    "movie_title": "flubber",
                                    "release_date": "1997-11-26",
                                    "genre": "COMEDY",
                                    "mpaa_rating": "PG",
                                    "total_gross": "92993801",
                                    "inflation_adjusted_gross": "170406423"
                                },
                                {
                                    "movie_title": "an american werewolf in paris",
                                    "release_date": "1997-12-25",
                                    "genre": "HORROR",
                                    "mpaa_rating": "R",
                                    "total_gross": "26570463",
                                    "inflation_adjusted_gross": "48546161"
                                },
                                {
                                    "movie_title": "mr. magoo",
                                    "release_date": "1997-12-25",
                                    "genre": "COMEDY",
                                    "mpaa_rating": "PG",
                                    "total_gross": "21437192",
                                    "inflation_adjusted_gross": "39145784"
                                },
                                {
                                    "movie_title": "kundun",
                                    "release_date": "1997-12-25",
                                    "genre": "DRAMA",
                                    "mpaa_rating": "PG-13",
                                    "total_gross": "5686694",
                                    "inflation_adjusted_gross": "10236836"
                                },
                                {
                                    "movie_title": "deep rising",
                                    "release_date": "1998-01-30",
                                    "genre": "ACTION",
                                    "mpaa_rating": "R",
                                    "total_gross": "11203026",
                                    "inflation_adjusted_gross": "20136775"
                                },
                                {
                                    "movie_title": "krippendorf's tribe",
                                    "release_date": "1998-02-27",
                                    "genre": "COMEDY",
                                    "mpaa_rating": "PG-13",
                                    "total_gross": "7571115",
                                    "inflation_adjusted_gross": "13608633"
                                },
                                {
                                    "movie_title": "an alan smithee film: burn hollywood …",
                                    "release_date": "1998-02-27",
                                    "genre": "COMEDY",
                                    "mpaa_rating": "R",
                                    "total_gross": "45779",
                                    "inflation_adjusted_gross": "82277"
                                },
                                {
                                    "movie_title": "meet the deedles",
                                    "release_date": "1998-03-27",
                                    "genre": "COMEDY",
                                    "mpaa_rating": "PG",
                                    "total_gross": "4356126",
                                    "inflation_adjusted_gross": "7829877"
                                },
                                {
                                    "movie_title": "he got game",
                                    "release_date": "1998-05-01",
                                    "genre": "DRAMA",
                                    "mpaa_rating": "R",
                                    "total_gross": "21567853",
                                    "inflation_adjusted_gross": "38766948"
                                },
                                {
                                    "movie_title": "the horse whisperer",
                                    "release_date": "1998-05-15",
                                    "genre": "DRAMA",
                                    "mpaa_rating": "PG-13",
                                    "total_gross": "75383563",
                                    "inflation_adjusted_gross": "135497531"
                                },
                                {
                                    "movie_title": "six days, seven nights",
                                    "release_date": "1998-06-12",
                                    "genre": "ROMANTIC COMEDY",
                                    "mpaa_rating": "PG-13",
                                    "total_gross": "74339294",
                                    "inflation_adjusted_gross": "133620516"
                                },
                                {
                                    "movie_title": "mulan",
                                    "release_date": "1998-06-19",
                                    "genre": "ADVENTURE",
                                    "mpaa_rating": "G",
                                    "total_gross": "120620254",
                                    "inflation_adjusted_gross": "216807832"
                                },
                                {
                                    "movie_title": "armageddon",
                                    "release_date": "1998-07-01",
                                    "genre": "ADVENTURE",
                                    "mpaa_rating": "PG-13",
                                    "total_gross": "201578182",
                                    "inflation_adjusted_gross": "362324957"
                                },
                                {
                                    "movie_title": "jane austen's mafia",
                                    "release_date": "1998-07-24",
                                    "genre": "COMEDY",
                                    "mpaa_rating": "PG-13",
                                    "total_gross": "19843795",
                                    "inflation_adjusted_gross": "35668055"
                                },
                                {
                                    "movie_title": "the parent trap",
                                    "release_date": "1998-07-29",
                                    "genre": "COMEDY",
                                    "mpaa_rating": "PG",
                                    "total_gross": "66308518",
                                    "inflation_adjusted_gross": "119185667"
                                },
                                {
                                    "movie_title": "firelight",
                                    "release_date": "1998-09-04",
                                    "genre": "DRAMA",
                                    "mpaa_rating": "R",
                                    "total_gross": "784419",
                                    "inflation_adjusted_gross": "1409943"
                                },
                                {
                                    "movie_title": "simon birch",
                                    "release_date": "1998-09-11",
                                    "genre": "DRAMA",
                                    "mpaa_rating": "PG",
                                    "total_gross": "18253415",
                                    "inflation_adjusted_gross": "32809442"
                                },
                                {
                                    "movie_title": "holy man",
                                    "release_date": "1998-10-09",
                                    "genre": "COMEDY",
                                    "mpaa_rating": "PG",
                                    "total_gross": "12069719",
                                    "inflation_adjusted_gross": "21694605"
                                },
                                {
                                    "movie_title": "beloved",
                                    "release_date": "1998-10-16",
                                    "genre": "DRAMA",
                                    "mpaa_rating": "R",
                                    "total_gross": "22852487",
                                    "inflation_adjusted_gross": "41062682"
                                },
                                {
                                    "movie_title": "the waterboy",
                                    "release_date": "1998-11-06",
                                    "genre": "COMEDY",
                                    "mpaa_rating": "PG-13",
                                    "total_gross": "161491646",
                                    "inflation_adjusted_gross": "288691833"
                                },
                                {
                                    "movie_title": "i'll be home for christmas",
                                    "release_date": "1998-11-13",
                                    "genre": "COMEDY",
                                    "mpaa_rating": "PG",
                                    "total_gross": "12214338",
                                    "inflation_adjusted_gross": "21941840"
                                },
                                {
                                    "movie_title": "a bug's life",
                                    "release_date": "1998-11-20",
                                    "genre": "ADVENTURE",
                                    "mpaa_rating": "G",
                                    "total_gross": "162798565",
                                    "inflation_adjusted_gross": "288981698"
                                },
                                {
                                    "movie_title": "enemy of the state",
                                    "release_date": "1998-11-20",
                                    "genre": "ACTION",
                                    "mpaa_rating": "R",
                                    "total_gross": "111549836",
                                    "inflation_adjusted_gross": "198472008"
                                },
                                {
                                    "movie_title": "rushmore",
                                    "release_date": "1998-12-11",
                                    "genre": "BLACK COMEDY",
                                    "mpaa_rating": "R",
                                    "total_gross": "17105219",
                                    "inflation_adjusted_gross": "28392518"
                                },
                                {
                                    "movie_title": "a civil action",
                                    "release_date": "1998-12-25",
                                    "genre": "DRAMA",
                                    "mpaa_rating": "PG-13",
                                    "total_gross": "56709981",
                                    "inflation_adjusted_gross": "94139530"
                                },
                                {
                                    "movie_title": "mighty joe young",
                                    "release_date": "1998-12-25",
                                    "genre": "ADVENTURE",
                                    "mpaa_rating": "PG",
                                    "total_gross": "50632037",
                                    "inflation_adjusted_gross": "87906042"
                                },
                                {
                                    "movie_title": "my favorite martian",
                                    "release_date": "1999-02-12",
                                    "genre": "COMEDY",
                                    "mpaa_rating": "PG",
                                    "total_gross": "36850101",
                                    "inflation_adjusted_gross": "61150849"
                                },
                                {
                                    "movie_title": "the other sister",
                                    "release_date": "1999-02-26",
                                    "genre": "ROMANTIC COMEDY",
                                    "mpaa_rating": "PG-13",
                                    "total_gross": "27807627",
                                    "inflation_adjusted_gross": "46145331"
                                },
                                {
                                    "movie_title": "doug's 1st movie",
                                    "release_date": "1999-03-26",
                                    "genre": "ADVENTURE",
                                    "mpaa_rating": "G",
                                    "total_gross": "19421271",
                                    "inflation_adjusted_gross": "32228598"
                                },
                                {
                                    "movie_title": "ten things i hate about you",
                                    "release_date": "1999-03-31",
                                    "genre": "ROMANTIC COMEDY",
                                    "mpaa_rating": "PG-13",
                                    "total_gross": "38177966",
                                    "inflation_adjusted_gross": "63354375"
                                },
                                {
                                    "movie_title": "endurance",
                                    "release_date": "1999-05-14",
                                    "genre": "NULL",
                                    "mpaa_rating": "PG",
                                    "total_gross": "229128",
                                    "inflation_adjusted_gross": "380218"
                                },
                                {
                                    "movie_title": "instinct",
                                    "release_date": "1999-06-04",
                                    "genre": "DRAMA",
                                    "mpaa_rating": "R",
                                    "total_gross": "34105207",
                                    "inflation_adjusted_gross": "56595842"
                                },
                                {
                                    "movie_title": "tarzan",
                                    "release_date": "1999-06-16",
                                    "genre": "ADVENTURE",
                                    "mpaa_rating": "G",
                                    "total_gross": "171091819",
                                    "inflation_adjusted_gross": "283900254"
                                },
                                {
                                    "movie_title": "summer of sam",
                                    "release_date": "1999-07-02",
                                    "genre": "DRAMA",
                                    "mpaa_rating": "R",
                                    "total_gross": "19288130",
                                    "inflation_adjusted_gross": "32007656"
                                },
                                {
                                    "movie_title": "inspector gadget",
                                    "release_date": "1999-07-23",
                                    "genre": "COMEDY",
                                    "mpaa_rating": "PG",
                                    "total_gross": "97387965",
                                    "inflation_adjusted_gross": "161610341"
                                },
                                {
                                    "movie_title": "the sixth sense",
                                    "release_date": "1999-08-06",
                                    "genre": "THRILLER/SUSPENSE",
                                    "mpaa_rating": "PG-13",
                                    "total_gross": "293506292",
                                    "inflation_adjusted_gross": "485424724"
                                },
                                {
                                    "movie_title": "the 13th warrior",
                                    "release_date": "1999-08-27",
                                    "genre": "ACTION",
                                    "mpaa_rating": "R",
                                    "total_gross": "32698899",
                                    "inflation_adjusted_gross": "54262148"
                                },
                                {
                                    "movie_title": "breakfast of champions",
                                    "release_date": "1999-09-17",
                                    "genre": "COMEDY",
                                    "mpaa_rating": "R",
                                    "total_gross": "178287",
                                    "inflation_adjusted_gross": "295851"
                                },
                                {
                                    "movie_title": "mumford",
                                    "release_date": "1999-09-24",
                                    "genre": "COMEDY",
                                    "mpaa_rating": "R",
                                    "total_gross": "4559569",
                                    "inflation_adjusted_gross": "7566363"
                                },
                                {
                                    "movie_title": "mystery, alaska",
                                    "release_date": "1999-10-01",
                                    "genre": "COMEDY",
                                    "mpaa_rating": "R",
                                    "total_gross": "8891623",
                                    "inflation_adjusted_gross": "14755189"
                                },
                                {
                                    "movie_title": "the straight story",
                                    "release_date": "1999-10-15",
                                    "genre": "DRAMA",
                                    "mpaa_rating": "G",
                                    "total_gross": "6197866",
                                    "inflation_adjusted_gross": "10111144"
                                },
                                {
                                    "movie_title": "the insider",
                                    "release_date": "1999-11-05",
                                    "genre": "DRAMA",
                                    "mpaa_rating": "R",
                                    "total_gross": "28965197",
                                    "inflation_adjusted_gross": "47794214"
                                },
                                {
                                    "movie_title": "toy story 2",
                                    "release_date": "1999-11-19",
                                    "genre": "ADVENTURE",
                                    "mpaa_rating": "G",
                                    "total_gross": "245852179",
                                    "inflation_adjusted_gross": "404450426"
                                },
                                {
                                    "movie_title": "cradle will rock",
                                    "release_date": "1999-12-08",
                                    "genre": "DRAMA",
                                    "mpaa_rating": "R",
                                    "total_gross": "2899970",
                                    "inflation_adjusted_gross": "4609153"
                                },
                                {
                                    "movie_title": "deuce bigalow: male gigolo",
                                    "release_date": "1999-12-10",
                                    "genre": "COMEDY",
                                    "mpaa_rating": "R",
                                    "total_gross": "65535067",
                                    "inflation_adjusted_gross": "106921374"
                                },
                                {
                                    "movie_title": "bicentennial man",
                                    "release_date": "1999-12-17",
                                    "genre": "DRAMA",
                                    "mpaa_rating": "PG",
                                    "total_gross": "58220776",
                                    "inflation_adjusted_gross": "94838225"
                                },
                                {
                                    "movie_title": "play it to the bone",
                                    "release_date": "1999-12-24",
                                    "genre": "COMEDY",
                                    "mpaa_rating": "R",
                                    "total_gross": "8427204",
                                    "inflation_adjusted_gross": "13180524"
                                },
                                {
                                    "movie_title": "fantasia 2000 (imax)",
                                    "release_date": "2000-01-01",
                                    "genre": "MUSICAL",
                                    "mpaa_rating": "G",
                                    "total_gross": "60507228",
                                    "inflation_adjusted_gross": "94852354"
                                },
                                {
                                    "movie_title": "gun shy",
                                    "release_date": "2000-02-04",
                                    "genre": "COMEDY",
                                    "mpaa_rating": "R",
                                    "total_gross": "1638202",
                                    "inflation_adjusted_gross": "2562155"
                                },
                                {
                                    "movie_title": "the tigger movie",
                                    "release_date": "2000-02-11",
                                    "genre": "ADVENTURE",
                                    "mpaa_rating": "G",
                                    "total_gross": "45542421",
                                    "inflation_adjusted_gross": "71228678"
                                },
                                {
                                    "movie_title": "mission to mars",
                                    "release_date": "2000-03-10",
                                    "genre": "ADVENTURE",
                                    "mpaa_rating": "PG",
                                    "total_gross": "60874615",
                                    "inflation_adjusted_gross": "95208344"
                                },
                                {
                                    "movie_title": "high fidelity",
                                    "release_date": "2000-03-31",
                                    "genre": "COMEDY",
                                    "mpaa_rating": "R",
                                    "total_gross": "27277055",
                                    "inflation_adjusted_gross": "42661516"
                                },
                                {
                                    "movie_title": "keeping the faith",
                                    "release_date": "2000-04-14",
                                    "genre": "ROMANTIC COMEDY",
                                    "mpaa_rating": "PG-13",
                                    "total_gross": "37036404",
                                    "inflation_adjusted_gross": "57925202"
                                },
                                {
                                    "movie_title": "dinosaur",
                                    "release_date": "2000-05-19",
                                    "genre": "ADVENTURE",
                                    "mpaa_rating": "PG",
                                    "total_gross": "137748063",
                                    "inflation_adjusted_gross": "215438985"
                                },
                                {
                                    "movie_title": "shanghai noon",
                                    "release_date": "2000-05-26",
                                    "genre": "WESTERN",
                                    "mpaa_rating": "PG-13",
                                    "total_gross": "56932305",
                                    "inflation_adjusted_gross": "89042541"
                                },
                                {
                                    "movie_title": "gone in 60 seconds",
                                    "release_date": "2000-06-09",
                                    "genre": "ACTION",
                                    "mpaa_rating": "PG-13",
                                    "total_gross": "101643008",
                                    "inflation_adjusted_gross": "158970411"
                                },
                                {
                                    "movie_title": "fantasia 2000 (theatrical release)",
                                    "release_date": "2000-06-16",
                                    "genre": "MUSICAL",
                                    "mpaa_rating": "G",
                                    "total_gross": "9103630",
                                    "inflation_adjusted_gross": "14238144"
                                },
                                {
                                    "movie_title": "the kid",
                                    "release_date": "2000-07-07",
                                    "genre": "COMEDY",
                                    "mpaa_rating": "PG",
                                    "total_gross": "69688384",
                                    "inflation_adjusted_gross": "108993148"
                                },
                                {
                                    "movie_title": "coyote ugly",
                                    "release_date": "2000-08-04",
                                    "genre": "DRAMA",
                                    "mpaa_rating": "PG-13",
                                    "total_gross": "60786269",
                                    "inflation_adjusted_gross": "95070168"
                                },
                                {
                                    "movie_title": "the crew",
                                    "release_date": "2000-08-25",
                                    "genre": "COMEDY",
                                    "mpaa_rating": "PG-13",
                                    "total_gross": "13019253",
                                    "inflation_adjusted_gross": "20362201"
                                },
                                {
                                    "movie_title": "duets",
                                    "release_date": "2000-09-15",
                                    "genre": "DRAMA",
                                    "mpaa_rating": "R",
                                    "total_gross": "4734235",
                                    "inflation_adjusted_gross": "7404372"
                                },
                                {
                                    "movie_title": "remember the titans",
                                    "release_date": "2000-09-29",
                                    "genre": "DRAMA",
                                    "mpaa_rating": "PG",
                                    "total_gross": "115654751",
                                    "inflation_adjusted_gross": "180742479"
                                },
                                {
                                    "movie_title": "unbreakable",
                                    "release_date": "2000-11-22",
                                    "genre": "THRILLER/SUSPENSE",
                                    "mpaa_rating": "PG-13",
                                    "total_gross": "94999143",
                                    "inflation_adjusted_gross": "148208901"
                                },
                                {
                                    "movie_title": "102 dalmatians",
                                    "release_date": "2000-11-22",
                                    "genre": "COMEDY",
                                    "mpaa_rating": "G",
                                    "total_gross": "66941559",
                                    "inflation_adjusted_gross": "104055039"
                                },
                                {
                                    "movie_title": "the emperor's new groove",
                                    "release_date": "2000-12-15",
                                    "genre": "ADVENTURE",
                                    "mpaa_rating": "G",
                                    "total_gross": "89296573",
                                    "inflation_adjusted_gross": "136789252"
                                },
                                {
                                    "movie_title": "o brother, where art thou?",
                                    "release_date": "2000-12-22",
                                    "genre": "COMEDY",
                                    "mpaa_rating": "PG-13",
                                    "total_gross": "45506619",
                                    "inflation_adjusted_gross": "67922002"
                                },
                                {
                                    "movie_title": "double take",
                                    "release_date": "2001-01-12",
                                    "genre": "ACTION",
                                    "mpaa_rating": "PG-13",
                                    "total_gross": "29823162",
                                    "inflation_adjusted_gross": "44418589"
                                },
                                {
                                    "movie_title": "recess: school's out",
                                    "release_date": "2001-02-16",
                                    "genre": "COMEDY",
                                    "mpaa_rating": "G",
                                    "total_gross": "36696761",
                                    "inflation_adjusted_gross": "54656124"
                                },
                                {
                                    "movie_title": "just visiting",
                                    "release_date": "2001-04-06",
                                    "genre": "COMEDY",
                                    "mpaa_rating": "PG-13",
                                    "total_gross": "4777007",
                                    "inflation_adjusted_gross": "7114869"
                                },
                                {
                                    "movie_title": "pearl harbor",
                                    "release_date": "2001-05-25",
                                    "genre": "ACTION",
                                    "mpaa_rating": "PG-13",
                                    "total_gross": "198539855",
                                    "inflation_adjusted_gross": "295705112"
                                },
                                {
                                    "movie_title": "atlantis: the lost empire",
                                    "release_date": "2001-06-08",
                                    "genre": "ADVENTURE",
                                    "mpaa_rating": "PG",
                                    "total_gross": "84052762",
                                    "inflation_adjusted_gross": "125188122"
                                },
                                {
                                    "movie_title": "crazy/beautiful",
                                    "release_date": "2001-06-29",
                                    "genre": "DRAMA",
                                    "mpaa_rating": "PG-13",
                                    "total_gross": "16929123",
                                    "inflation_adjusted_gross": "25214223"
                                },
                                {
                                    "movie_title": "the princess diaries",
                                    "release_date": "2001-08-03",
                                    "genre": "COMEDY",
                                    "mpaa_rating": "G",
                                    "total_gross": "108244774",
                                    "inflation_adjusted_gross": "161218928"
                                },
                                {
                                    "movie_title": "bubble boy",
                                    "release_date": "2001-08-24",
                                    "genre": "COMEDY",
                                    "mpaa_rating": "PG-13",
                                    "total_gross": "5002310",
                                    "inflation_adjusted_gross": "7450434"
                                },
                                {
                                    "movie_title": "max keeble's big move",
                                    "release_date": "2001-10-05",
                                    "genre": "COMEDY",
                                    "mpaa_rating": "PG",
                                    "total_gross": "17292381",
                                    "inflation_adjusted_gross": "25749730"
                                },
                                {
                                    "movie_title": "corky romano",
                                    "release_date": "2001-10-12",
                                    "genre": "COMEDY",
                                    "mpaa_rating": "PG-13",
                                    "total_gross": "23978402",
                                    "inflation_adjusted_gross": "35705805"
                                },
                                {
                                    "movie_title": "high heels and low lifes",
                                    "release_date": "2001-10-26",
                                    "genre": "NULL",
                                    "mpaa_rating": "R",
                                    "total_gross": "226792",
                                    "inflation_adjusted_gross": "337782"
                                },
                                {
                                    "movie_title": "monsters, inc.",
                                    "release_date": "2001-11-02",
                                    "genre": "ADVENTURE",
                                    "mpaa_rating": "G",
                                    "total_gross": "289423425",
                                    "inflation_adjusted_gross": "416073179"
                                },
                                {
                                    "movie_title": "out cold",
                                    "release_date": "2001-11-21",
                                    "genre": "COMEDY",
                                    "mpaa_rating": "PG-13",
                                    "total_gross": "13906394",
                                    "inflation_adjusted_gross": "20700691"
                                },
                                {
                                    "movie_title": "the royal tenenbaums",
                                    "release_date": "2001-12-14",
                                    "genre": "BLACK COMEDY",
                                    "mpaa_rating": "R",
                                    "total_gross": "52353636",
                                    "inflation_adjusted_gross": "76758193"
                                },
                                {
                                    "movie_title": "beauty and the beast (imax)",
                                    "release_date": "2002-01-01",
                                    "genre": "MUSICAL",
                                    "mpaa_rating": "G",
                                    "total_gross": "25487028",
                                    "inflation_adjusted_gross": "36980311"
                                },
                                {
                                    "movie_title": "frank mcklusky c.i.",
                                    "release_date": "2002-01-01",
                                    "genre": "NULL",
                                    "mpaa_rating": "NULL",
                                    "total_gross": "0",
                                    "inflation_adjusted_gross": "0"
                                },
                                {
                                    "movie_title": "snow dogs",
                                    "release_date": "2002-01-18",
                                    "genre": "COMEDY",
                                    "mpaa_rating": "PG",
                                    "total_gross": "81150692",
                                    "inflation_adjusted_gross": "117745317"
                                },
                                {
                                    "movie_title": "the count of monte cristo",
                                    "release_date": "2002-01-25",
                                    "genre": "DRAMA",
                                    "mpaa_rating": "PG-13",
                                    "total_gross": "54228104",
                                    "inflation_adjusted_gross": "78682079"
                                },
                                {
                                    "movie_title": "peter pan: return to neverland",
                                    "release_date": "2002-02-15",
                                    "genre": "ADVENTURE",
                                    "mpaa_rating": "G",
                                    "total_gross": "48430258",
                                    "inflation_adjusted_gross": "70269715"
                                },
                                {
                                    "movie_title": "reign of fire",
                                    "release_date": "2002-02-19",
                                    "genre": "ACTION",
                                    "mpaa_rating": "PG-13",
                                    "total_gross": "43061982",
                                    "inflation_adjusted_gross": "62480631"
                                },
                                {
                                    "movie_title": "sorority boys",
                                    "release_date": "2002-03-22",
                                    "genre": "COMEDY",
                                    "mpaa_rating": "R",
                                    "total_gross": "10198766",
                                    "inflation_adjusted_gross": "14797862"
                                },
                                {
                                    "movie_title": "the rookie",
                                    "release_date": "2002-03-29",
                                    "genre": "DRAMA",
                                    "mpaa_rating": "G",
                                    "total_gross": "75600072",
                                    "inflation_adjusted_gross": "109691666"
                                },
                                {
                                    "movie_title": "big trouble",
                                    "release_date": "2002-04-05",
                                    "genre": "COMEDY",
                                    "mpaa_rating": "PG-13",
                                    "total_gross": "7262288",
                                    "inflation_adjusted_gross": "10537188"
                                },
                                {
                                    "movie_title": "espn's ultimate x - the movie",
                                    "release_date": "2002-05-10",
                                    "genre": "DOCUMENTARY",
                                    "mpaa_rating": "PG",
                                    "total_gross": "4197175",
                                    "inflation_adjusted_gross": "6089874"
                                },
                                {
                                    "movie_title": "bad company",
                                    "release_date": "2002-06-07",
                                    "genre": "ACTION",
                                    "mpaa_rating": "PG-13",
                                    "total_gross": "30157016",
                                    "inflation_adjusted_gross": "43756218"
                                },
                                {
                                    "movie_title": "lilo & stitch",
                                    "release_date": "2002-06-21",
                                    "genre": "ADVENTURE",
                                    "mpaa_rating": "PG",
                                    "total_gross": "145771527",
                                    "inflation_adjusted_gross": "211506702"
                                },
                                {
                                    "movie_title": "the country bears",
                                    "release_date": "2002-07-26",
                                    "genre": "ADVENTURE",
                                    "mpaa_rating": "G",
                                    "total_gross": "16988996",
                                    "inflation_adjusted_gross": "24650121"
                                },
                                {
                                    "movie_title": "signs",
                                    "release_date": "2002-08-02",
                                    "genre": "THRILLER/SUSPENSE",
                                    "mpaa_rating": "PG-13",
                                    "total_gross": "227965690",
                                    "inflation_adjusted_gross": "330754439"
                                },
                                {
                                    "movie_title": "sen to chihiro no kamikakushi",
                                    "release_date": "2002-09-20",
                                    "genre": "ADVENTURE",
                                    "mpaa_rating": "PG",
                                    "total_gross": "10049886",
                                    "inflation_adjusted_gross": "14338992"
                                },
                                {
                                    "movie_title": "sweet home alabama",
                                    "release_date": "2002-09-27",
                                    "genre": "COMEDY",
                                    "mpaa_rating": "PG-13",
                                    "total_gross": "127214072",
                                    "inflation_adjusted_gross": "184521151"
                                },
                                {
                                    "movie_title": "moonlight mile",
                                    "release_date": "2002-09-27",
                                    "genre": "DRAMA",
                                    "mpaa_rating": "PG-13",
                                    "total_gross": "6830957",
                                    "inflation_adjusted_gross": "9909094"
                                },
                                {
                                    "movie_title": "tuck everlasting",
                                    "release_date": "2002-10-11",
                                    "genre": "DRAMA",
                                    "mpaa_rating": "PG",
                                    "total_gross": "19161999",
                                    "inflation_adjusted_gross": "27789959"
                                },
                                {
                                    "movie_title": "the santa clause 2",
                                    "release_date": "2002-11-01",
                                    "genre": "COMEDY",
                                    "mpaa_rating": "G",
                                    "total_gross": "139225854",
                                    "inflation_adjusted_gross": "201959095"
                                },
                                {
                                    "movie_title": "treasure planet",
                                    "release_date": "2002-11-27",
                                    "genre": "ADVENTURE",
                                    "mpaa_rating": "PG",
                                    "total_gross": "38120554",
                                    "inflation_adjusted_gross": "55189145"
                                },
                                {
                                    "movie_title": "the hot chick",
                                    "release_date": "2002-12-13",
                                    "genre": "COMEDY",
                                    "mpaa_rating": "PG-13",
                                    "total_gross": "35081550",
                                    "inflation_adjusted_gross": "50624654"
                                },
                                {
                                    "movie_title": "25th hour",
                                    "release_date": "2002-12-19",
                                    "genre": "DRAMA",
                                    "mpaa_rating": "R",
                                    "total_gross": "13084595",
                                    "inflation_adjusted_gross": "18325463"
                                },
                                {
                                    "movie_title": "the recruit",
                                    "release_date": "2003-01-31",
                                    "genre": "THRILLER/SUSPENSE",
                                    "mpaa_rating": "PG-13",
                                    "total_gross": "52784696",
                                    "inflation_adjusted_gross": "73793522"
                                },
                                {
                                    "movie_title": "shanghai knights",
                                    "release_date": "2003-02-07",
                                    "genre": "ADVENTURE",
                                    "mpaa_rating": "PG-13",
                                    "total_gross": "60470220",
                                    "inflation_adjusted_gross": "84537962"
                                },
                                {
                                    "movie_title": "the jungle book 2",
                                    "release_date": "2003-02-14",
                                    "genre": "ADVENTURE",
                                    "mpaa_rating": "G",
                                    "total_gross": "47901582",
                                    "inflation_adjusted_gross": "66966883"
                                },
                                {
                                    "movie_title": "bringing down the house",
                                    "release_date": "2003-03-07",
                                    "genre": "COMEDY",
                                    "mpaa_rating": "PG-13",
                                    "total_gross": "132675402",
                                    "inflation_adjusted_gross": "185481530"
                                },
                                {
                                    "movie_title": "piglet's big movie",
                                    "release_date": "2003-03-21",
                                    "genre": "COMEDY",
                                    "mpaa_rating": "G",
                                    "total_gross": "23103423",
                                    "inflation_adjusted_gross": "32298812"
                                },
                                {
                                    "movie_title": "ghosts of the abyss",
                                    "release_date": "2003-04-11",
                                    "genre": "DOCUMENTARY",
                                    "mpaa_rating": "G",
                                    "total_gross": "17093668",
                                    "inflation_adjusted_gross": "23803108"
                                },
                                {
                                    "movie_title": "holes",
                                    "release_date": "2003-04-18",
                                    "genre": "DRAMA",
                                    "mpaa_rating": "PG",
                                    "total_gross": "67383924",
                                    "inflation_adjusted_gross": "94203395"
                                },
                                {
                                    "movie_title": "the lizzie mcguire movie",
                                    "release_date": "2003-05-02",
                                    "genre": "COMEDY",
                                    "mpaa_rating": "PG",
                                    "total_gross": "42734455",
                                    "inflation_adjusted_gross": "59743191"
                                },
                                {
                                    "movie_title": "finding nemo",
                                    "release_date": "2003-05-30",
                                    "genre": "ADVENTURE",
                                    "mpaa_rating": "G",
                                    "total_gross": "380529370",
                                    "inflation_adjusted_gross": "518148559"
                                },
                                {
                                    "movie_title": "pirates of the caribbean: the curse o…",
                                    "release_date": "2003-07-09",
                                    "genre": "ADVENTURE",
                                    "mpaa_rating": "PG-13",
                                    "total_gross": "305411224",
                                    "inflation_adjusted_gross": "426967926"
                                },
                                {
                                    "movie_title": "freaky friday",
                                    "release_date": "2003-08-06",
                                    "genre": "COMEDY",
                                    "mpaa_rating": "PG",
                                    "total_gross": "110222438",
                                    "inflation_adjusted_gross": "154090360"
                                },
                                {
                                    "movie_title": "open range",
                                    "release_date": "2003-08-15",
                                    "genre": "WESTERN",
                                    "mpaa_rating": "R",
                                    "total_gross": "58331254",
                                    "inflation_adjusted_gross": "81547672"
                                },
                                {
                                    "movie_title": "cold creek manor",
                                    "release_date": "2003-09-19",
                                    "genre": "THRILLER/SUSPENSE",
                                    "mpaa_rating": "R",
                                    "total_gross": "21384035",
                                    "inflation_adjusted_gross": "29895090"
                                },
                                {
                                    "movie_title": "under the tuscan sun",
                                    "release_date": "2003-09-26",
                                    "genre": "COMEDY",
                                    "mpaa_rating": "PG-13",
                                    "total_gross": "43601508",
                                    "inflation_adjusted_gross": "60944053"
                                },
                                {
                                    "movie_title": "veronica guerin",
                                    "release_date": "2003-10-17",
                                    "genre": "DRAMA",
                                    "mpaa_rating": "R",
                                    "total_gross": "1569918",
                                    "inflation_adjusted_gross": "2194759"
                                },
                                {
                                    "movie_title": "brother bear",
                                    "release_date": "2003-10-24",
                                    "genre": "ADVENTURE",
                                    "mpaa_rating": "G",
                                    "total_gross": "85336277",
                                    "inflation_adjusted_gross": "119218333"
                                },
                                {
                                    "movie_title": "the haunted mansion",
                                    "release_date": "2003-11-26",
                                    "genre": "COMEDY",
                                    "mpaa_rating": "PG",
                                    "total_gross": "75817994",
                                    "inflation_adjusted_gross": "105775678"
                                },
                                {
                                    "movie_title": "calendar girls",
                                    "release_date": "2003-12-19",
                                    "genre": "COMEDY",
                                    "mpaa_rating": "PG-13",
                                    "total_gross": "31011616",
                                    "inflation_adjusted_gross": "42379650"
                                },
                                {
                                    "movie_title": "young black stallion",
                                    "release_date": "2003-12-25",
                                    "genre": "ADVENTURE",
                                    "mpaa_rating": "G",
                                    "total_gross": "6751389",
                                    "inflation_adjusted_gross": "9254344"
                                },
                                {
                                    "movie_title": "teacher's pet: the movie",
                                    "release_date": "2004-01-16",
                                    "genre": "COMEDY",
                                    "mpaa_rating": "PG",
                                    "total_gross": "6491969",
                                    "inflation_adjusted_gross": "8812764"
                                },
                                {
                                    "movie_title": "miracle",
                                    "release_date": "2004-02-06",
                                    "genre": "DRAMA",
                                    "mpaa_rating": "PG",
                                    "total_gross": "64378093",
                                    "inflation_adjusted_gross": "87392478"
                                },
                                {
                                    "movie_title": "confessions of a teenage drama queen",
                                    "release_date": "2004-02-20",
                                    "genre": "COMEDY",
                                    "mpaa_rating": "PG",
                                    "total_gross": "29331068",
                                    "inflation_adjusted_gross": "39816568"
                                },
                                {
                                    "movie_title": "hidalgo",
                                    "release_date": "2004-03-05",
                                    "genre": "WESTERN",
                                    "mpaa_rating": "PG-13",
                                    "total_gross": "67286731",
                                    "inflation_adjusted_gross": "91340921"
                                },
                                {
                                    "movie_title": "the ladykillers",
                                    "release_date": "2004-03-26",
                                    "genre": "COMEDY",
                                    "mpaa_rating": "R",
                                    "total_gross": "39692139",
                                    "inflation_adjusted_gross": "53881593"
                                },
                                {
                                    "movie_title": "home on the range",
                                    "release_date": "2004-04-02",
                                    "genre": "COMEDY",
                                    "mpaa_rating": "PG",
                                    "total_gross": "50026353",
                                    "inflation_adjusted_gross": "67910166"
                                },
                                {
                                    "movie_title": "the alamo",
                                    "release_date": "2004-04-09",
                                    "genre": "WESTERN",
                                    "mpaa_rating": "PG-13",
                                    "total_gross": "22406362",
                                    "inflation_adjusted_gross": "30416359"
                                }
                            ]
                        },
                        "text/html": [
                            "<table>",
                            "<tr><th>movie_title</th><th>release_date</th><th>genre</th><th>mpaa_rating</th><th>total_gross</th><th>inflation_adjusted_gross</th></tr>",
                            "<tr><td>snow white and the seven dwarfs</td><td>1937-12-21</td><td>MUSICAL</td><td>G</td><td>184925485</td><td>5228953251</td></tr>",
                            "<tr><td>pinocchio</td><td>1940-02-09</td><td>ADVENTURE</td><td>G</td><td>84300000</td><td>2188229052</td></tr>",
                            "<tr><td>fantasia</td><td>1940-11-13</td><td>MUSICAL</td><td>G</td><td>83320000</td><td>2187090808</td></tr>",
                            "<tr><td>song of the south</td><td>1946-11-12</td><td>ADVENTURE</td><td>G</td><td>65000000</td><td>1078510579</td></tr>",
                            "<tr><td>cinderella</td><td>1950-02-15</td><td>DRAMA</td><td>G</td><td>85000000</td><td>920608730</td></tr>",
                            "<tr><td>20,000 leagues under the sea</td><td>1954-12-23</td><td>ADVENTURE</td><td>NULL</td><td>28200000</td><td>528279994</td></tr>",
                            "<tr><td>lady and the tramp</td><td>1955-06-22</td><td>DRAMA</td><td>G</td><td>93600000</td><td>1236035515</td></tr>",
                            "<tr><td>sleeping beauty</td><td>1959-01-29</td><td>DRAMA</td><td>NULL</td><td>9464608</td><td>21505832</td></tr>",
                            "<tr><td>101 dalmatians</td><td>1961-01-25</td><td>COMEDY</td><td>G</td><td>153000000</td><td>1362870985</td></tr>",
                            "<tr><td>the absent minded professor</td><td>1961-03-16</td><td>COMEDY</td><td>NULL</td><td>25381407</td><td>310094574</td></tr>",
                            "<tr><td>babes in toyland</td><td>1961-12-14</td><td>MUSICAL</td><td>G</td><td>10218316</td><td>124841160</td></tr>",
                            "<tr><td>bon voyage!</td><td>1962-05-17</td><td>COMEDY</td><td>Not Rated</td><td>9230769</td><td>109581646</td></tr>",
                            "<tr><td>the sword in the stone</td><td>1963-12-25</td><td>ADVENTURE</td><td>NULL</td><td>22182353</td><td>153870834</td></tr>",
                            "<tr><td>the jungle book</td><td>1967-10-18</td><td>MUSICAL</td><td>Not Rated</td><td>141843000</td><td>789612346</td></tr>",
                            "<tr><td>blackbeard&#39;s ghost</td><td>1968-02-08</td><td>COMEDY</td><td>NULL</td><td>21540050</td><td>138612686</td></tr>",
                            "<tr><td>the aristocats</td><td>1970-04-24</td><td>MUSICAL</td><td>G</td><td>55675257</td><td>255161499</td></tr>",
                            "<tr><td>the boatniks</td><td>1970-07-01</td><td>COMEDY</td><td>NULL</td><td>18607492</td><td>101200742</td></tr>",
                            "<tr><td>bedknobs and broomsticks</td><td>1971-10-07</td><td>MUSICAL</td><td>NULL</td><td>17871174</td><td>91305448</td></tr>",
                            "<tr><td>the apple dumpling gang</td><td>1975-07-01</td><td>COMEDY</td><td>NULL</td><td>31916500</td><td>131246872</td></tr>",
                            "<tr><td>freaky friday</td><td>1977-01-21</td><td>COMEDY</td><td>NULL</td><td>25942000</td><td>98067733</td></tr>",
                            "<tr><td>the many adventures of winnie the pooh</td><td>1977-03-11</td><td>NULL</td><td>NULL</td><td>0</td><td>0</td></tr>",
                            "<tr><td>the rescuers</td><td>1977-06-22</td><td>ADVENTURE</td><td>NULL</td><td>48775599</td><td>159743914</td></tr>",
                            "<tr><td>herbie goes to monte carlo</td><td>1977-06-24</td><td>NULL</td><td>NULL</td><td>28000000</td><td>105847527</td></tr>",
                            "<tr><td>the black hole</td><td>1979-12-21</td><td>NULL</td><td>NULL</td><td>35841901</td><td>120377374</td></tr>",
                            "<tr><td>midnight madness</td><td>1980-02-08</td><td>NULL</td><td>NULL</td><td>2900000</td><td>9088096</td></tr>",
                            "<tr><td>the last flight of noah’s ark</td><td>1980-06-25</td><td>NULL</td><td>NULL</td><td>11000000</td><td>34472116</td></tr>",
                            "<tr><td>the devil and max devlin</td><td>1981-01-01</td><td>NULL</td><td>NULL</td><td>16000000</td><td>48517980</td></tr>",
                            "<tr><td>amy</td><td>1981-03-20</td><td>DRAMA</td><td>NULL</td><td>0</td><td>0</td></tr>",
                            "<tr><td>the fox and the hound</td><td>1981-07-10</td><td>COMEDY</td><td>NULL</td><td>43899231</td><td>133118889</td></tr>",
                            "<tr><td>condorman</td><td>1981-08-07</td><td>ACTION</td><td>NULL</td><td>0</td><td>0</td></tr>",
                            "<tr><td>night crossing</td><td>1982-02-05</td><td>DRAMA</td><td>NULL</td><td>4500000</td><td>12903059</td></tr>",
                            "<tr><td>tron</td><td>1982-07-09</td><td>ACTION</td><td>NULL</td><td>26918576</td><td>77184895</td></tr>",
                            "<tr><td>tex</td><td>1982-11-19</td><td>DRAMA</td><td>NULL</td><td>7199408</td><td>20643199</td></tr>",
                            "<tr><td>trenchcoat</td><td>1983-03-11</td><td>COMEDY</td><td>NULL</td><td>4304286</td><td>11519089</td></tr>",
                            "<tr><td>something wicked this way comes</td><td>1983-04-29</td><td>HORROR</td><td>NULL</td><td>5656087</td><td>15136765</td></tr>",
                            "<tr><td>never cry wolf</td><td>1983-10-07</td><td>DRAMA</td><td>NULL</td><td>27668764</td><td>70669955</td></tr>",
                            "<tr><td>running brave</td><td>1983-11-04</td><td>DRAMA</td><td>NULL</td><td>1204595</td><td>3223725</td></tr>",
                            "<tr><td>splash</td><td>1984-03-09</td><td>COMEDY</td><td>PG</td><td>62599495</td><td>157057661</td></tr>",
                            "<tr><td>country</td><td>1984-09-29</td><td>DRAMA</td><td>NULL</td><td>8400000</td><td>21075000</td></tr>",
                            "<tr><td>baby: secret of the lost legend</td><td>1985-03-22</td><td>ADVENTURE</td><td>NULL</td><td>14276095</td><td>33900697</td></tr>",
                            "<tr><td>return to oz</td><td>1985-06-21</td><td>ADVENTURE</td><td>NULL</td><td>10618813</td><td>25215934</td></tr>",
                            "<tr><td>the black cauldron</td><td>1985-07-24</td><td>ADVENTURE</td><td>NULL</td><td>21288692</td><td>50553142</td></tr>",
                            "<tr><td>my science project</td><td>1985-08-09</td><td>COMEDY</td><td>NULL</td><td>4100000</td><td>9736051</td></tr>",
                            "<tr><td>the journey of natty gann</td><td>1985-09-27</td><td>DRAMA</td><td>NULL</td><td>9468512</td><td>22302956</td></tr>",
                            "<tr><td>one magic christmas</td><td>1985-11-22</td><td>DRAMA</td><td>NULL</td><td>13229514</td><td>31415432</td></tr>",
                            "<tr><td>down and out in beverly hills</td><td>1986-01-31</td><td>COMEDY</td><td>R</td><td>62134225</td><td>141183693</td></tr>",
                            "<tr><td>off beat</td><td>1986-04-11</td><td>COMEDY</td><td>NULL</td><td>4842778</td><td>11003932</td></tr>",
                            "<tr><td>ruthless people</td><td>1986-06-27</td><td>COMEDY</td><td>R</td><td>71624879</td><td>162748712</td></tr>",
                            "<tr><td>the great mouse detective</td><td>1986-07-02</td><td>ADVENTURE</td><td>NULL</td><td>23605534</td><td>53637367</td></tr>",
                            "<tr><td>flight of the navigator</td><td>1986-07-30</td><td>ADVENTURE</td><td>NULL</td><td>18564613</td><td>42183197</td></tr>",
                            "<tr><td>tough guys</td><td>1986-10-03</td><td>COMEDY</td><td>NULL</td><td>21458229</td><td>48758184</td></tr>",
                            "<tr><td>the color of money</td><td>1986-10-17</td><td>DRAMA</td><td>R</td><td>52293000</td><td>117957323</td></tr>",
                            "<tr><td>outrageous fortune</td><td>1987-01-30</td><td>COMEDY</td><td>R</td><td>52864741</td><td>113976921</td></tr>",
                            "<tr><td>tin men</td><td>1987-03-06</td><td>COMEDY</td><td>NULL</td><td>25411386</td><td>54787202</td></tr>",
                            "<tr><td>ernest goes to camp</td><td>1987-05-22</td><td>COMEDY</td><td>NULL</td><td>23509382</td><td>50686462</td></tr>",
                            "<tr><td>benji the hunted</td><td>1987-06-05</td><td>ADVENTURE</td><td>NULL</td><td>15212539</td><td>32798382</td></tr>",
                            "<tr><td>adventures in babysitting</td><td>1987-07-03</td><td>COMEDY</td><td>NULL</td><td>33790923</td><td>72853569</td></tr>",
                            "<tr><td>stakeout</td><td>1987-08-05</td><td>COMEDY</td><td>R</td><td>65673233</td><td>141592160</td></tr>",
                            "<tr><td>can&#39;t buy me love</td><td>1987-08-14</td><td>ROMANTIC COMEDY</td><td>NULL</td><td>31623833</td><td>68181300</td></tr>",
                            "<tr><td>hello again</td><td>1987-11-06</td><td>COMEDY</td><td>NULL</td><td>20419446</td><td>44024529</td></tr>",
                            "<tr><td>3 men and a baby</td><td>1987-11-25</td><td>COMEDY</td><td>PG</td><td>167780960</td><td>353334607</td></tr>",
                            "<tr><td>good morning vietnam</td><td>1987-12-23</td><td>COMEDY</td><td>R</td><td>123922370</td><td>254414837</td></tr>",
                            "<tr><td>shoot to kill</td><td>1988-02-12</td><td>ACTION</td><td>NULL</td><td>29300000</td><td>60097074</td></tr>",
                            "<tr><td>d.o.a.</td><td>1988-03-18</td><td>THRILLER/SUSPENSE</td><td>NULL</td><td>12706478</td><td>26062188</td></tr>",
                            "<tr><td>return to snowy river</td><td>1988-04-15</td><td>ADVENTURE</td><td>PG</td><td>13687027</td><td>28073384</td></tr>",
                            "<tr><td>big business</td><td>1988-06-10</td><td>COMEDY</td><td>PG</td><td>40150487</td><td>82352451</td></tr>",
                            "<tr><td>who framed roger rabbit?</td><td>1988-06-22</td><td>COMEDY</td><td>PG</td><td>154112492</td><td>316250084</td></tr>",
                            "<tr><td>cocktail</td><td>1988-07-29</td><td>DRAMA</td><td>R</td><td>78222753</td><td>160442289</td></tr>",
                            "<tr><td>the rescue</td><td>1988-08-05</td><td>ACTION</td><td>NULL</td><td>5855392</td><td>12009960</td></tr>",
                            "<tr><td>heartbreak hotel</td><td>1988-09-30</td><td>COMEDY</td><td>NULL</td><td>5509417</td><td>11300331</td></tr>",
                            "<tr><td>the good mother</td><td>1988-11-04</td><td>DRAMA</td><td>NULL</td><td>4764606</td><td>9772655</td></tr>",
                            "<tr><td>ernest saves christmas</td><td>1988-11-11</td><td>COMEDY</td><td>PG</td><td>28202109</td><td>57845202</td></tr>",
                            "<tr><td>oliver &amp; company</td><td>1988-11-18</td><td>ADVENTURE</td><td>G</td><td>49576671</td><td>102254492</td></tr>",
                            "<tr><td>beaches</td><td>1988-12-21</td><td>DRAMA</td><td>PG-13</td><td>57041866</td><td>120381757</td></tr>",
                            "<tr><td>three fugitives</td><td>1989-01-27</td><td>COMEDY</td><td>PG-13</td><td>40590000</td><td>85757817</td></tr>",
                            "<tr><td>new york stories</td><td>1989-03-01</td><td>DRAMA</td><td>PG</td><td>10763469</td><td>22740861</td></tr>",
                            "<tr><td>disorganized crime</td><td>1989-04-14</td><td>COMEDY</td><td>NULL</td><td>7210149</td><td>15233465</td></tr>",
                            "<tr><td>dead poets society</td><td>1989-06-02</td><td>DRAMA</td><td>PG</td><td>95860116</td><td>202531517</td></tr>",
                            "<tr><td>honey, i shrunk the kids</td><td>1989-06-23</td><td>ADVENTURE</td><td>PG</td><td>130724172</td><td>276191669</td></tr>",
                            "<tr><td>turner &amp; hooch</td><td>1989-07-28</td><td>COMEDY</td><td>PG</td><td>71079915</td><td>150176361</td></tr>",
                            "<tr><td>cheetah</td><td>1989-08-18</td><td>ADVENTURE</td><td>NULL</td><td>7882250</td><td>16653473</td></tr>",
                            "<tr><td>an innocent man</td><td>1989-10-06</td><td>DRAMA</td><td>R</td><td>19397847</td><td>40983414</td></tr>",
                            "<tr><td>gross anatomy</td><td>1989-10-20</td><td>DRAMA</td><td>PG-13</td><td>11346186</td><td>23972012</td></tr>",
                            "<tr><td>the little mermaid</td><td>1989-11-15</td><td>ADVENTURE</td><td>G</td><td>111543479</td><td>223726012</td></tr>",
                            "<tr><td>blaze</td><td>1989-12-13</td><td>DRAMA</td><td>R</td><td>19049727</td><td>39884640</td></tr>",
                            "<tr><td>stella</td><td>1990-02-02</td><td>DRAMA</td><td>PG-13</td><td>20062347</td><td>40077147</td></tr>",
                            "<tr><td>where the heart is</td><td>1990-02-23</td><td>COMEDY</td><td>NULL</td><td>1106475</td><td>2210321</td></tr>",
                            "<tr><td>pretty woman</td><td>1990-03-23</td><td>ROMANTIC COMEDY</td><td>R</td><td>178406268</td><td>356389765</td></tr>",
                            "<tr><td>ernest goes to jail</td><td>1990-04-06</td><td>COMEDY</td><td>PG</td><td>25029569</td><td>49999822</td></tr>",
                            "<tr><td>spaced invaders</td><td>1990-04-27</td><td>COMEDY</td><td>PG</td><td>15000000</td><td>29964452</td></tr>",
                            "<tr><td>fire birds</td><td>1990-05-24</td><td>ACTION</td><td>PG-13</td><td>14760451</td><td>29485923</td></tr>",
                            "<tr><td>dick tracy</td><td>1990-06-15</td><td>ACTION</td><td>PG</td><td>103738726</td><td>207231621</td></tr>",
                            "<tr><td>betsy&#39;s wedding</td><td>1990-06-22</td><td>COMEDY</td><td>R</td><td>19740070</td><td>39433357</td></tr>",
                            "<tr><td>arachnophobia</td><td>1990-07-18</td><td>THRILLER/SUSPENSE</td><td>PG-13</td><td>53208180</td><td>106290270</td></tr>",
                            "<tr><td>ducktales: the movie - treasure of th…</td><td>1990-08-03</td><td>ADVENTURE</td><td>G</td><td>18075331</td><td>36107823</td></tr>",
                            "<tr><td>taking care of business</td><td>1990-08-17</td><td>COMEDY</td><td>R</td><td>20005435</td><td>39963460</td></tr>",
                            "<tr><td>mr. destiny</td><td>1990-10-12</td><td>COMEDY</td><td>PG-13</td><td>15379253</td><td>30722056</td></tr>",
                            "<tr><td>the rescuers down under</td><td>1990-11-16</td><td>ADVENTURE</td><td>G</td><td>27931461</td><td>55796728</td></tr>",
                            "<tr><td>3 men and a little lady</td><td>1990-11-21</td><td>COMEDY</td><td>PG</td><td>71609321</td><td>143108869</td></tr>",
                            "<tr><td>green card</td><td>1990-12-25</td><td>ROMANTIC COMEDY</td><td>PG-13</td><td>29804169</td><td>59679131</td></tr>",
                            "<tr><td>white fang</td><td>1991-01-18</td><td>ADVENTURE</td><td>PG</td><td>34729091</td><td>69540672</td></tr>",
                            "<tr><td>scenes from a mall</td><td>1991-02-22</td><td>COMEDY</td><td>NULL</td><td>9563393</td><td>19149495</td></tr>",
                            "<tr><td>haakon haakonsen</td><td>1991-03-01</td><td>ADVENTURE</td><td>PG</td><td>15024232</td><td>30084149</td></tr>",
                            "<tr><td>the marrying man</td><td>1991-04-05</td><td>ROMANTIC COMEDY</td><td>R</td><td>12454768</td><td>24939118</td></tr>",
                            "<tr><td>oscar</td><td>1991-04-26</td><td>COMEDY</td><td>PG</td><td>23562716</td><td>47181395</td></tr>",
                            "<tr><td>one good cop</td><td>1991-05-03</td><td>ACTION</td><td>R</td><td>11276846</td><td>22580472</td></tr>",
                            "<tr><td>what about bob?</td><td>1991-05-17</td><td>COMEDY</td><td>PG</td><td>63710000</td><td>127571325</td></tr>",
                            "<tr><td>wild hearts can&#39;t be broken</td><td>1991-05-24</td><td>DRAMA</td><td>NULL</td><td>7300000</td><td>14617333</td></tr>",
                            "<tr><td>the rocketeer</td><td>1991-06-21</td><td>ACTION</td><td>PG</td><td>46573027</td><td>93256673</td></tr>",
                            "<tr><td>the doctor</td><td>1991-07-24</td><td>DRAMA</td><td>PG-13</td><td>37497480</td><td>75084021</td></tr>",
                            "<tr><td>paradise</td><td>1991-09-18</td><td>DRAMA</td><td>PG-13</td><td>18634643</td><td>37313540</td></tr>",
                            "<tr><td>deceived</td><td>1991-09-27</td><td>THRILLER/SUSPENSE</td><td>PG-13</td><td>28738096</td><td>57544453</td></tr>",
                            "<tr><td>ernest scared stupid</td><td>1991-10-11</td><td>COMEDY</td><td>PG</td><td>14143280</td><td>28320147</td></tr>",
                            "<tr><td>billy bathgate</td><td>1991-11-01</td><td>DRAMA</td><td>R</td><td>15565363</td><td>31167691</td></tr>",
                            "<tr><td>beauty and the beast</td><td>1991-11-13</td><td>MUSICAL</td><td>G</td><td>218951625</td><td>363017667</td></tr>",
                            "<tr><td>father of the bride</td><td>1991-12-20</td><td>COMEDY</td><td>PG</td><td>89325780</td><td>179821881</td></tr>",
                            "<tr><td>the hand that rocks the cradle</td><td>1992-01-10</td><td>THRILLER/SUSPENSE</td><td>R</td><td>88036683</td><td>178831137</td></tr>",
                            "<tr><td>medicine man</td><td>1992-02-07</td><td>DRAMA</td><td>PG-13</td><td>44948240</td><td>91304495</td></tr>",
                            "<tr><td>blame it on the bellboy</td><td>1992-03-06</td><td>COMEDY</td><td>PG-13</td><td>2891055</td><td>5872667</td></tr>",
                            "<tr><td>noises off...</td><td>1992-03-20</td><td>COMEDY</td><td>PG-13</td><td>2280148</td><td>4631720</td></tr>",
                            "<tr><td>straight talk</td><td>1992-04-03</td><td>COMEDY</td><td>PG</td><td>21202099</td><td>43068356</td></tr>",
                            "<tr><td>newsies</td><td>1992-04-08</td><td>NULL</td><td>PG</td><td>2706352</td><td>5497481</td></tr>",
                            "<tr><td>passed away</td><td>1992-04-24</td><td>NULL</td><td>PG-13</td><td>4030793</td><td>8187848</td></tr>",
                            "<tr><td>encino man</td><td>1992-05-22</td><td>COMEDY</td><td>PG</td><td>40057130</td><td>81369058</td></tr>",
                            "<tr><td>sister act</td><td>1992-05-29</td><td>COMEDY</td><td>PG</td><td>139605150</td><td>283583472</td></tr>",
                            "<tr><td>honey i blew up the kid</td><td>1992-07-17</td><td>COMEDY</td><td>PG</td><td>58662452</td><td>119162518</td></tr>",
                            "<tr><td>a stranger among us</td><td>1992-07-17</td><td>DRAMA</td><td>PG-13</td><td>12282994</td><td>24950752</td></tr>",
                            "<tr><td>3 ninjas</td><td>1992-08-07</td><td>ACTION</td><td>PG</td><td>29028000</td><td>58965304</td></tr>",
                            "<tr><td>a gun in betty lou&#39;s handbag</td><td>1992-08-21</td><td>NULL</td><td>PG-13</td><td>3591460</td><td>7295423</td></tr>",
                            "<tr><td>captain ron</td><td>1992-09-18</td><td>COMEDY</td><td>PG-13</td><td>22518097</td><td>45741576</td></tr>",
                            "<tr><td>sarafina!</td><td>1992-09-18</td><td>DRAMA</td><td>PG-13</td><td>7306242</td><td>14841352</td></tr>",
                            "<tr><td>innocent blood</td><td>1992-09-25</td><td>HORROR</td><td>R</td><td>4877567</td><td>9907922</td></tr>",
                            "<tr><td>the mighty ducks</td><td>1992-10-02</td><td>COMEDY</td><td>PG</td><td>50752337</td><td>103120810</td></tr>",
                            "<tr><td>1492: conquest of paradise</td><td>1992-10-09</td><td>ADVENTURE</td><td>PG-13</td><td>7099531</td><td>14421454</td></tr>",
                            "<tr><td>consenting adults</td><td>1992-10-16</td><td>DRAMA</td><td>R</td><td>21591728</td><td>43859823</td></tr>",
                            "<tr><td>aladdin</td><td>1992-11-11</td><td>COMEDY</td><td>G</td><td>217350219</td><td>441969178</td></tr>",
                            "<tr><td>raising helen</td><td>2004-05-28</td><td>COMEDY</td><td>PG-13</td><td>37485528</td><td>50886144</td></tr>",
                            "<tr><td>around the world in 80 days</td><td>2004-06-16</td><td>ADVENTURE</td><td>PG</td><td>24004159</td><td>32585356</td></tr>",
                            "<tr><td>america&#39;s heart and soul</td><td>2004-07-02</td><td>DOCUMENTARY</td><td>Not Rated</td><td>314000</td><td>426246</td></tr>",
                            "<tr><td>king arthur</td><td>2004-07-07</td><td>ADVENTURE</td><td>PG-13</td><td>51877963</td><td>70423706</td></tr>",
                            "<tr><td>the village</td><td>2004-07-30</td><td>THRILLER/SUSPENSE</td><td>PG-13</td><td>114197520</td><td>155021748</td></tr>",
                            "<tr><td>the princess diaries 2: royal engagement</td><td>2004-08-11</td><td>ROMANTIC COMEDY</td><td>G</td><td>95149435</td><td>129164207</td></tr>",
                            "<tr><td>mr. 3000</td><td>2004-09-17</td><td>COMEDY</td><td>PG-13</td><td>21800302</td><td>29593641</td></tr>",
                            "<tr><td>the last shot</td><td>2004-09-24</td><td>COMEDY</td><td>R</td><td>463730</td><td>629502</td></tr>",
                            "<tr><td>ladder 49</td><td>2004-10-01</td><td>ACTION</td><td>PG-13</td><td>74541707</td><td>101161045</td></tr>",
                            "<tr><td>the incredibles</td><td>2004-11-05</td><td>ADVENTURE</td><td>PG</td><td>261441092</td><td>354488708</td></tr>",
                            "<tr><td>national treasure</td><td>2004-11-19</td><td>ADVENTURE</td><td>PG</td><td>173005002</td><td>234069353</td></tr>",
                            "<tr><td>the life aquatic with steve zissou</td><td>2004-12-10</td><td>COMEDY</td><td>R</td><td>24006726</td><td>32198655</td></tr>",
                            "<tr><td>aliens of the deep</td><td>2005-01-28</td><td>DOCUMENTARY</td><td>G</td><td>8968684</td><td>11740942</td></tr>",
                            "<tr><td>pooh&#39;s heffalump movie</td><td>2005-02-11</td><td>ADVENTURE</td><td>G</td><td>18098433</td><td>23801835</td></tr>",
                            "<tr><td>the pacifier</td><td>2005-03-04</td><td>COMEDY</td><td>PG</td><td>113006880</td><td>148619029</td></tr>",
                            "<tr><td>ice princess</td><td>2005-03-18</td><td>COMEDY</td><td>G</td><td>24381334</td><td>32064685</td></tr>",
                            "<tr><td>a lot like love</td><td>2005-04-22</td><td>COMEDY</td><td>PG-13</td><td>21835784</td><td>28716947</td></tr>",
                            "<tr><td>the hitchhiker&#39;s guide to the galaxy</td><td>2005-04-29</td><td>COMEDY</td><td>PG</td><td>51019112</td><td>67096891</td></tr>",
                            "<tr><td>hauru no ugoku shiro</td><td>2005-06-10</td><td>ADVENTURE</td><td>PG</td><td>4710455</td><td>6194870</td></tr>",
                            "<tr><td>herbie: fully loaded</td><td>2005-06-22</td><td>COMEDY</td><td>G</td><td>66010682</td><td>86812798</td></tr>",
                            "<tr><td>dark water</td><td>2005-07-08</td><td>THRILLER/SUSPENSE</td><td>PG-13</td><td>25473093</td><td>33500491</td></tr>",
                            "<tr><td>sky high</td><td>2005-07-29</td><td>ADVENTURE</td><td>PG</td><td>63939454</td><td>84088854</td></tr>",
                            "<tr><td>valiant</td><td>2005-08-19</td><td>ADVENTURE</td><td>G</td><td>19478106</td><td>25616292</td></tr>",
                            "<tr><td>flightplan</td><td>2005-09-23</td><td>THRILLER/SUSPENSE</td><td>PG-13</td><td>89706988</td><td>117960425</td></tr>",
                            "<tr><td>the greatest game ever played</td><td>2005-09-30</td><td>DRAMA</td><td>PG</td><td>15331289</td><td>20162672</td></tr>",
                            "<tr><td>shopgirl</td><td>2005-10-21</td><td>DRAMA</td><td>R</td><td>10284523</td><td>13519621</td></tr>",
                            "<tr><td>chicken little</td><td>2005-11-04</td><td>ADVENTURE</td><td>G</td><td>135386665</td><td>177954661</td></tr>",
                            "<tr><td>the chronicles of narnia: the lion, t…</td><td>2005-12-09</td><td>ADVENTURE</td><td>PG</td><td>291710957</td><td>381557539</td></tr>",
                            "<tr><td>casanova</td><td>2005-12-25</td><td>DRAMA</td><td>R</td><td>11304403</td><td>14574087</td></tr>",
                            "<tr><td>glory road</td><td>2006-01-13</td><td>DRAMA</td><td>PG</td><td>42647449</td><td>54888236</td></tr>",
                            "<tr><td>annapolis</td><td>2006-01-27</td><td>DRAMA</td><td>PG-13</td><td>17127992</td><td>22044113</td></tr>",
                            "<tr><td>roving mars</td><td>2006-01-27</td><td>DOCUMENTARY</td><td>G</td><td>10407978</td><td>12948025</td></tr>",
                            "<tr><td>eight below</td><td>2006-02-17</td><td>ADVENTURE</td><td>PG</td><td>81612565</td><td>105037235</td></tr>",
                            "<tr><td>the shaggy dog</td><td>2006-03-10</td><td>COMEDY</td><td>PG</td><td>61123569</td><td>78667428</td></tr>",
                            "<tr><td>stay alive</td><td>2006-03-24</td><td>HORROR</td><td>PG-13</td><td>23086480</td><td>29712825</td></tr>",
                            "<tr><td>the wild</td><td>2006-04-14</td><td>ADVENTURE</td><td>G</td><td>37384046</td><td>48114115</td></tr>",
                            "<tr><td>stick it</td><td>2006-04-28</td><td>COMEDY</td><td>PG-13</td><td>26910736</td><td>34634731</td></tr>",
                            "<tr><td>goal! the dream begins</td><td>2006-05-12</td><td>DRAMA</td><td>PG</td><td>4283255</td><td>5512647</td></tr>",
                            "<tr><td>cars</td><td>2006-06-09</td><td>COMEDY</td><td>G</td><td>244082982</td><td>314140384</td></tr>",
                            "<tr><td>pirates of the caribbean: dead man’…</td><td>2006-07-07</td><td>ADVENTURE</td><td>PG-13</td><td>423315812</td><td>544817142</td></tr>",
                            "<tr><td>step up</td><td>2006-08-11</td><td>DRAMA</td><td>PG-13</td><td>65328121</td><td>84078780</td></tr>",
                            "<tr><td>invincible</td><td>2006-08-25</td><td>DRAMA</td><td>PG</td><td>57806952</td><td>74398864</td></tr>",
                            "<tr><td>the guardian</td><td>2006-09-29</td><td>ACTION</td><td>PG-13</td><td>55011732</td><td>70801353</td></tr>",
                            "<tr><td>the prestige</td><td>2006-10-20</td><td>THRILLER/SUSPENSE</td><td>PG-13</td><td>53089891</td><td>68289913</td></tr>",
                            "<tr><td>tim burton&#39;s the nightmare before chr…</td><td>2006-10-20</td><td>MUSICAL</td><td>PG</td><td>24732041</td><td>30737517</td></tr>",
                            "<tr><td>the santa clause 3: the escape clause</td><td>2006-11-03</td><td>COMEDY</td><td>G</td><td>84500122</td><td>108694869</td></tr>",
                            "<tr><td>déjà vu</td><td>2006-11-22</td><td>THRILLER/SUSPENSE</td><td>PG-13</td><td>64038616</td><td>82267038</td></tr>",
                            "<tr><td>apocalypto</td><td>2006-12-08</td><td>ADVENTURE</td><td>R</td><td>50866635</td><td>64959548</td></tr>",
                            "<tr><td>primeval</td><td>2007-01-12</td><td>ADVENTURE</td><td>R</td><td>10597734</td><td>12985302</td></tr>",
                            "<tr><td>bridge to terabithia</td><td>2007-02-16</td><td>DRAMA</td><td>PG</td><td>82234139</td><td>100760721</td></tr>",
                            "<tr><td>wild hogs</td><td>2007-03-02</td><td>COMEDY</td><td>PG-13</td><td>168213584</td><td>206110533</td></tr>",
                            "<tr><td>meet the robinsons</td><td>2007-03-30</td><td>ADVENTURE</td><td>G</td><td>97822171</td><td>119860589</td></tr>",
                            "<tr><td>the lookout</td><td>2007-03-30</td><td>DRAMA</td><td>R</td><td>4600585</td><td>5637048</td></tr>",
                            "<tr><td>the hoax</td><td>2007-04-06</td><td>DRAMA</td><td>R</td><td>7164995</td><td>8779196</td></tr>",
                            "<tr><td>the invisible</td><td>2007-04-27</td><td>THRILLER/SUSPENSE</td><td>PG-13</td><td>20568319</td><td>25202168</td></tr>",
                            "<tr><td>pirates of the caribbean: at world’…</td><td>2007-05-24</td><td>ADVENTURE</td><td>PG-13</td><td>309420425</td><td>379129960</td></tr>",
                            "<tr><td>ratatouille</td><td>2007-06-29</td><td>COMEDY</td><td>G</td><td>206445654</td><td>252955933</td></tr>",
                            "<tr><td>underdog</td><td>2007-08-03</td><td>ADVENTURE</td><td>PG</td><td>43760605</td><td>53619462</td></tr>",
                            "<tr><td>the game plan</td><td>2007-09-22</td><td>COMEDY</td><td>PG</td><td>90648202</td><td>111010758</td></tr>",
                            "<tr><td>dan in real life</td><td>2007-10-20</td><td>ROMANTIC COMEDY</td><td>PG-13</td><td>47642963</td><td>58350234</td></tr>",
                            "<tr><td>enchanted</td><td>2007-11-21</td><td>ROMANTIC COMEDY</td><td>PG</td><td>127706877</td><td>156074310</td></tr>",
                            "<tr><td>national treasure 2: book of secrets</td><td>2007-12-21</td><td>ADVENTURE</td><td>PG</td><td>219961501</td><td>267003525</td></tr>",
                            "<tr><td>hannah montana/miley cyrus: best of b…</td><td>2008-02-01</td><td>CONCERT/PERFORMANCE</td><td>G</td><td>65281781</td><td>76646993</td></tr>",
                            "<tr><td>step up 2 the streets</td><td>2008-02-14</td><td>DRAMA</td><td>PG-13</td><td>58017783</td><td>68118371</td></tr>",
                            "<tr><td>college road trip</td><td>2008-03-07</td><td>COMEDY</td><td>G</td><td>45610425</td><td>53550960</td></tr>",
                            "<tr><td>the chronicles of narnia: prince caspian</td><td>2008-05-16</td><td>ADVENTURE</td><td>PG</td><td>141621490</td><td>166277038</td></tr>",
                            "<tr><td>wall-e</td><td>2008-06-27</td><td>ADVENTURE</td><td>G</td><td>223808164</td><td>262771918</td></tr>",
                            "<tr><td>swing vote</td><td>2008-08-01</td><td>COMEDY</td><td>PG-13</td><td>16289867</td><td>19125841</td></tr>",
                            "<tr><td>goal! 2: living the dream...</td><td>2008-08-29</td><td>DRAMA</td><td>PG-13</td><td>225067</td><td>264247</td></tr>",
                            "<tr><td>miracle at st. anna</td><td>2008-09-26</td><td>DRAMA</td><td>R</td><td>7916887</td><td>9295171</td></tr>",
                            "<tr><td>beverly hills chihuahua</td><td>2008-10-03</td><td>COMEDY</td><td>PG</td><td>94514402</td><td>110932022</td></tr>",
                            "<tr><td>morning light</td><td>2008-10-17</td><td>DOCUMENTARY</td><td>PG</td><td>275093</td><td>322979</td></tr>",
                            "<tr><td>high school musical 3: senior year</td><td>2008-10-24</td><td>MUSICAL</td><td>G</td><td>90559416</td><td>106308538</td></tr>",
                            "<tr><td>bolt</td><td>2008-11-21</td><td>COMEDY</td><td>PG</td><td>114053759</td><td>133702498</td></tr>",
                            "<tr><td>bedtime stories</td><td>2008-12-25</td><td>COMEDY</td><td>PG</td><td>110101975</td><td>128039679</td></tr>",
                            "<tr><td>confessions of a shopaholic</td><td>2009-02-13</td><td>ROMANTIC COMEDY</td><td>PG</td><td>44277350</td><td>49767744</td></tr>",
                            "<tr><td>jonas brothers: the 3d concert experi…</td><td>2009-02-27</td><td>CONCERT/PERFORMANCE</td><td>G</td><td>38174685</td><td>38174685</td></tr>",
                            "<tr><td>race to witch mountain</td><td>2009-03-13</td><td>ADVENTURE</td><td>PG</td><td>67172594</td><td>75501997</td></tr>",
                            "<tr><td>hannah montana the movie</td><td>2009-04-10</td><td>DRAMA</td><td>G</td><td>79576189</td><td>89443640</td></tr>",
                            "<tr><td>earth</td><td>2009-04-22</td><td>DOCUMENTARY</td><td>G</td><td>32011576</td><td>35981010</td></tr>",
                            "<tr><td>up</td><td>2009-05-29</td><td>ADVENTURE</td><td>PG</td><td>293004164</td><td>329336681</td></tr>",
                            "<tr><td>the proposal</td><td>2009-06-19</td><td>ROMANTIC COMEDY</td><td>PG-13</td><td>163958031</td><td>184288829</td></tr>",
                            "<tr><td>g-force</td><td>2009-07-24</td><td>ADVENTURE</td><td>PG</td><td>119436770</td><td>134246932</td></tr>",
                            "<tr><td>gake no ue no ponyo</td><td>2009-08-14</td><td>ADVENTURE</td><td>G</td><td>15090399</td><td>16961607</td></tr>",
                            "<tr><td>x games 3d: the movie</td><td>2009-08-21</td><td>DOCUMENTARY</td><td>PG</td><td>1391434</td><td>1563976</td></tr>",
                            "<tr><td>walt and el grupo</td><td>2009-09-10</td><td>DOCUMENTARY</td><td>PG</td><td>20521</td><td>23064</td></tr>",
                            "<tr><td>surrogates</td><td>2009-09-25</td><td>ACTION</td><td>PG-13</td><td>38577772</td><td>43361416</td></tr>",
                            "<tr><td>toy story 3d double feature</td><td>2009-10-02</td><td>ADVENTURE</td><td>G</td><td>30702446</td><td>34509545</td></tr>",
                            "<tr><td>disney&#39;s a christmas carol</td><td>2009-11-06</td><td>DRAMA</td><td>PG</td><td>137855863</td><td>154927105</td></tr>",
                            "<tr><td>the princess and the frog</td><td>2009-11-25</td><td>ADVENTURE</td><td>G</td><td>104400899</td><td>116316457</td></tr>",
                            "<tr><td>old dogs</td><td>2009-11-25</td><td>COMEDY</td><td>PG</td><td>49492060</td><td>55503929</td></tr>",
                            "<tr><td>when in rome</td><td>2010-01-29</td><td>ROMANTIC COMEDY</td><td>PG-13</td><td>32680633</td><td>34917330</td></tr>",
                            "<tr><td>alice in wonderland</td><td>2010-03-05</td><td>ADVENTURE</td><td>PG</td><td>334191110</td><td>357063499</td></tr>",
                            "<tr><td>waking sleeping beauty</td><td>2010-03-26</td><td>DOCUMENTARY</td><td>PG</td><td>80741</td><td>86264</td></tr>",
                            "<tr><td>the last song</td><td>2010-03-31</td><td>DRAMA</td><td>PG</td><td>62950384</td><td>67258772</td></tr>",
                            "<tr><td>oceans</td><td>2010-04-22</td><td>DOCUMENTARY</td><td>G</td><td>19422319</td><td>20751600</td></tr>",
                            "<tr><td>prince of persia: sands of time</td><td>2010-05-28</td><td>ACTION</td><td>PG-13</td><td>90759676</td><td>96971361</td></tr>",
                            "<tr><td>toy story 3</td><td>2010-06-18</td><td>ADVENTURE</td><td>G</td><td>415004880</td><td>443408255</td></tr>",
                            "<tr><td>the sorcerer&#39;s apprentice</td><td>2010-07-14</td><td>ADVENTURE</td><td>PG</td><td>63150991</td><td>67473105</td></tr>",
                            "<tr><td>step up 3d</td><td>2010-08-06</td><td>DRAMA</td><td>PG-13</td><td>42400223</td><td>45302137</td></tr>",
                            "<tr><td>gedo senki (tales from earthsea)</td><td>2010-08-13</td><td>ADVENTURE</td><td>PG-13</td><td>48658</td><td>51988</td></tr>",
                            "<tr><td>you again</td><td>2010-09-24</td><td>COMEDY</td><td>PG</td><td>25702053</td><td>27461121</td></tr>",
                            "<tr><td>secretariat</td><td>2010-10-08</td><td>DRAMA</td><td>PG</td><td>59699513</td><td>63781920</td></tr>",
                            "<tr><td>tangled</td><td>2010-11-24</td><td>ADVENTURE</td><td>PG</td><td>200821936</td><td>214388548</td></tr>",
                            "<tr><td>tron: legacy</td><td>2010-12-17</td><td>ADVENTURE</td><td>PG</td><td>172062763</td><td>183619259</td></tr>",
                            "<tr><td>gnomeo and juliet</td><td>2011-02-11</td><td>COMEDY</td><td>G</td><td>99967670</td><td>106270797</td></tr>",
                            "<tr><td>i am number four</td><td>2011-02-18</td><td>ADVENTURE</td><td>PG-13</td><td>55100437</td><td>58574607</td></tr>",
                            "<tr><td>mars needs moms</td><td>2011-03-11</td><td>ADVENTURE</td><td>PG</td><td>21392758</td><td>22741603</td></tr>",
                            "<tr><td>african cats</td><td>2011-04-22</td><td>DOCUMENTARY</td><td>G</td><td>15428747</td><td>16401551</td></tr>",
                            "<tr><td>zokkomon</td><td>2011-04-22</td><td>ADVENTURE</td><td>PG</td><td>2815</td><td>2984</td></tr>",
                            "<tr><td>prom</td><td>2011-04-29</td><td>COMEDY</td><td>PG</td><td>10130219</td><td>10768946</td></tr>",
                            "<tr><td>pirates of the caribbean: on stranger…</td><td>2011-05-20</td><td>ADVENTURE</td><td>PG-13</td><td>241063875</td><td>256263359</td></tr>",
                            "<tr><td>cars 2</td><td>2011-06-24</td><td>ADVENTURE</td><td>G</td><td>191450875</td><td>203522177</td></tr>",
                            "<tr><td>winnie the pooh</td><td>2011-07-15</td><td>ADVENTURE</td><td>G</td><td>26692846</td><td>28375869</td></tr>",
                            "<tr><td>the help</td><td>2011-08-10</td><td>DRAMA</td><td>PG-13</td><td>169705587</td><td>180404976</td></tr>",
                            "<tr><td>fright night</td><td>2011-08-19</td><td>HORROR</td><td>R</td><td>18298649</td><td>19452402</td></tr>",
                            "<tr><td>real steel</td><td>2011-10-07</td><td>ACTION</td><td>PG-13</td><td>85463309</td><td>90848019</td></tr>",
                            "<tr><td>the muppets</td><td>2011-11-23</td><td>COMEDY</td><td>PG</td><td>88625922</td><td>94189503</td></tr>",
                            "<tr><td>war horse</td><td>2011-12-25</td><td>DRAMA</td><td>PG-13</td><td>79883359</td><td>84762149</td></tr>",
                            "<tr><td>the secret world of arietty</td><td>2012-02-17</td><td>ADVENTURE</td><td>G</td><td>19192510</td><td>20325733</td></tr>",
                            "<tr><td>john carter</td><td>2012-03-09</td><td>ADVENTURE</td><td>PG-13</td><td>73058679</td><td>77372445</td></tr>",
                            "<tr><td>chimpanzee</td><td>2012-04-20</td><td>DOCUMENTARY</td><td>G</td><td>28965459</td><td>30675725</td></tr>",
                            "<tr><td>the avengers</td><td>2012-05-04</td><td>ACTION</td><td>PG-13</td><td>623279547</td><td>660081224</td></tr>",
                            "<tr><td>brave</td><td>2012-06-22</td><td>ADVENTURE</td><td>PG</td><td>237282182</td><td>251292441</td></tr>",
                            "<tr><td>people like us</td><td>2012-06-29</td><td>DRAMA</td><td>PG-13</td><td>12431792</td><td>13165822</td></tr>",
                            "<tr><td>the odd life of timothy green</td><td>2012-08-15</td><td>DRAMA</td><td>PG</td><td>51853450</td><td>54914942</td></tr>",
                            "<tr><td>frankenweenie</td><td>2012-10-05</td><td>COMEDY</td><td>PG</td><td>35287788</td><td>37363513</td></tr>",
                            "<tr><td>wreck-it ralph</td><td>2012-11-02</td><td>ADVENTURE</td><td>PG</td><td>189412677</td><td>200354959</td></tr>",
                            "<tr><td>lincoln</td><td>2012-11-09</td><td>DRAMA</td><td>PG-13</td><td>182207973</td><td>192122330</td></tr>",
                            "<tr><td>oz the great and powerful</td><td>2013-03-08</td><td>ADVENTURE</td><td>PG</td><td>234770996</td><td>243434130</td></tr>",
                            "<tr><td>iron man 3</td><td>2013-05-03</td><td>ACTION</td><td>PG-13</td><td>408992272</td><td>424084233</td></tr>",
                            "<tr><td>monsters university</td><td>2013-06-21</td><td>ADVENTURE</td><td>G</td><td>268488329</td><td>278395641</td></tr>",
                            "<tr><td>the lone ranger</td><td>2013-07-02</td><td>WESTERN</td><td>PG-13</td><td>89302115</td><td>92597388</td></tr>",
                            "<tr><td>disney planes</td><td>2013-08-09</td><td>COMEDY</td><td>PG</td><td>90282580</td><td>93614037</td></tr>",
                            "<tr><td>the fifth estate</td><td>2013-10-18</td><td>DRAMA</td><td>R</td><td>3254172</td><td>3374251</td></tr>",
                            "<tr><td>thor: the dark world</td><td>2013-11-08</td><td>ADVENTURE</td><td>PG-13</td><td>206362140</td><td>213962184</td></tr>",
                            "<tr><td>kaze tachinu</td><td>2013-11-08</td><td>DRAMA</td><td>PG-13</td><td>5201879</td><td>5367415</td></tr>",
                            "<tr><td>frozen</td><td>2013-11-22</td><td>ADVENTURE</td><td>PG</td><td>400738009</td><td>414997174</td></tr>",
                            "<tr><td>delivery man</td><td>2013-11-22</td><td>COMEDY</td><td>PG-13</td><td>30659817</td><td>31787136</td></tr>",
                            "<tr><td>saving mr. banks</td><td>2013-12-13</td><td>DRAMA</td><td>PG-13</td><td>83299761</td><td>86249969</td></tr>",
                            "<tr><td>need for speed</td><td>2014-03-14</td><td>ACTION</td><td>PG-13</td><td>43568507</td><td>44955015</td></tr>",
                            "<tr><td>muppets most wanted</td><td>2014-03-21</td><td>COMEDY</td><td>PG</td><td>51178893</td><td>52807594</td></tr>",
                            "<tr><td>captain america: the winter soldier</td><td>2014-04-04</td><td>ACTION</td><td>PG-13</td><td>259746958</td><td>268013076</td></tr>",
                            "<tr><td>bears</td><td>2014-04-18</td><td>DOCUMENTARY</td><td>G</td><td>17780194</td><td>18346024</td></tr>",
                            "<tr><td>million dollar arm</td><td>2014-05-10</td><td>DRAMA</td><td>PG</td><td>36447959</td><td>37607865</td></tr>",
                            "<tr><td>maleficent</td><td>2014-05-30</td><td>ADVENTURE</td><td>PG</td><td>241407328</td><td>249089809</td></tr>",
                            "<tr><td>planes: fire and rescue</td><td>2014-07-18</td><td>ADVENTURE</td><td>PG</td><td>59157732</td><td>61040349</td></tr>",
                            "<tr><td>guardians of the galaxy</td><td>2014-08-01</td><td>ADVENTURE</td><td>PG-13</td><td>333172112</td><td>343771168</td></tr>",
                            "<tr><td>the hundred-foot journey</td><td>2014-08-08</td><td>ROMANTIC COMEDY</td><td>PG</td><td>54235441</td><td>55961409</td></tr>",
                            "<tr><td>alexander and the terrible, horrible,…</td><td>2014-10-10</td><td>COMEDY</td><td>PG</td><td>66954149</td><td>69055550</td></tr>",
                            "<tr><td>big hero 6</td><td>2014-11-07</td><td>ADVENTURE</td><td>PG</td><td>222527828</td><td>229249222</td></tr>",
                            "<tr><td>into the woods</td><td>2014-12-25</td><td>MUSICAL</td><td>PG</td><td>128002372</td><td>130894237</td></tr>",
                            "<tr><td>strange magic</td><td>2015-01-23</td><td>ADVENTURE</td><td>PG</td><td>12429583</td><td>12429583</td></tr>",
                            "<tr><td>mcfarland, usa</td><td>2015-02-20</td><td>DRAMA</td><td>PG</td><td>44480275</td><td>44480275</td></tr>",
                            "<tr><td>cinderella</td><td>2015-03-13</td><td>DRAMA</td><td>PG</td><td>201151353</td><td>201151353</td></tr>",
                            "<tr><td>monkey kingdom</td><td>2015-04-17</td><td>DOCUMENTARY</td><td>G</td><td>16432322</td><td>16432322</td></tr>",
                            "<tr><td>avengers: age of ultron</td><td>2015-05-01</td><td>ACTION</td><td>PG-13</td><td>459005868</td><td>459005868</td></tr>",
                            "<tr><td>tomorrowland</td><td>2015-05-22</td><td>ADVENTURE</td><td>PG</td><td>93436322</td><td>93436322</td></tr>",
                            "<tr><td>inside out</td><td>2015-06-19</td><td>ADVENTURE</td><td>PG</td><td>356461711</td><td>356461711</td></tr>",
                            "<tr><td>ant-man</td><td>2015-07-17</td><td>ACTION</td><td>PG-13</td><td>180202163</td><td>180202163</td></tr>",
                            "<tr><td>bridge of spies</td><td>2015-10-16</td><td>THRILLER/SUSPENSE</td><td>PG-13</td><td>72313754</td><td>72313754</td></tr>",
                            "<tr><td>the good dinosaur</td><td>2015-11-25</td><td>ADVENTURE</td><td>PG</td><td>123087120</td><td>123087120</td></tr>",
                            "<tr><td>star wars ep. vii: the force awakens</td><td>2015-12-18</td><td>ADVENTURE</td><td>PG-13</td><td>936662225</td><td>936662225</td></tr>",
                            "<tr><td>the finest hours</td><td>2016-01-29</td><td>THRILLER/SUSPENSE</td><td>PG</td><td>27569558</td><td>27569558</td></tr>",
                            "<tr><td>zootopia</td><td>2016-03-04</td><td>ADVENTURE</td><td>PG</td><td>341268248</td><td>341268248</td></tr>",
                            "<tr><td>the jungle book</td><td>2016-04-15</td><td>ADVENTURE</td><td>PG</td><td>364001123</td><td>364001123</td></tr>",
                            "<tr><td>a beautiful planet</td><td>2016-04-29</td><td>DOCUMENTARY</td><td>G</td><td>7895708</td><td>7895708</td></tr>",
                            "<tr><td>captain america: civil war</td><td>2016-05-06</td><td>ACTION</td><td>PG-13</td><td>408084349</td><td>408084349</td></tr>",
                            "<tr><td>alice through the looking glass</td><td>2016-05-27</td><td>ADVENTURE</td><td>PG</td><td>77042381</td><td>77042381</td></tr>",
                            "<tr><td>finding dory</td><td>2016-06-17</td><td>ADVENTURE</td><td>PG</td><td>486295561</td><td>486295561</td></tr>",
                            "<tr><td>the bfg</td><td>2016-07-01</td><td>ADVENTURE</td><td>PG</td><td>55483770</td><td>55483770</td></tr>",
                            "<tr><td>pete’s dragon</td><td>2016-08-12</td><td>ADVENTURE</td><td>PG</td><td>76233151</td><td>76233151</td></tr>",
                            "<tr><td>the light between oceans</td><td>2016-09-02</td><td>DRAMA</td><td>PG-13</td><td>12545979</td><td>12545979</td></tr>",
                            "<tr><td>queen of katwe</td><td>2016-09-23</td><td>DRAMA</td><td>PG</td><td>8874389</td><td>8874389</td></tr>",
                            "<tr><td>doctor strange</td><td>2016-11-04</td><td>ADVENTURE</td><td>PG-13</td><td>232532923</td><td>232532923</td></tr>",
                            "<tr><td>moana</td><td>2016-11-23</td><td>ADVENTURE</td><td>PG</td><td>246082029</td><td>246082029</td></tr>",
                            "<tr><td>rogue one: a star wars story</td><td>2016-12-16</td><td>ADVENTURE</td><td>PG-13</td><td>529483936</td><td>529483936</td></tr>",
                            "<tr><td>the distinguished gentleman</td><td>1992-12-04</td><td>COMEDY</td><td>R</td><td>46434570</td><td>94349900</td></tr>",
                            "<tr><td>the muppet christmas carol</td><td>1992-12-11</td><td>COMEDY</td><td>G</td><td>27281507</td><td>55417615</td></tr>",
                            "<tr><td>alive</td><td>1993-01-15</td><td>ADVENTURE</td><td>R</td><td>36299670</td><td>73914543</td></tr>",
                            "<tr><td>aspen extreme</td><td>1993-01-22</td><td>ROMANTIC COMEDY</td><td>PG-13</td><td>7843388</td><td>15970955</td></tr>",
                            "<tr><td>homeward bound: the incredible journey</td><td>1993-02-03</td><td>ADVENTURE</td><td>G</td><td>41833324</td><td>85182343</td></tr>",
                            "<tr><td>the cemetery club</td><td>1993-02-03</td><td>COMEDY</td><td>PG-13</td><td>5583621</td><td>11369541</td></tr>",
                            "<tr><td>swing kids</td><td>1993-03-05</td><td>MUSICAL</td><td>PG-13</td><td>5632086</td><td>11468231</td></tr>",
                            "<tr><td>a far off place</td><td>1993-03-12</td><td>ADVENTURE</td><td>PG</td><td>12890752</td><td>26248558</td></tr>",
                            "<tr><td>born yesterday</td><td>1993-03-26</td><td>ROMANTIC COMEDY</td><td>PG</td><td>17760754</td><td>36165012</td></tr>",
                            "<tr><td>the adventures of huck finn</td><td>1993-04-02</td><td>ADVENTURE</td><td>PG</td><td>24103594</td><td>49080505</td></tr>",
                            "<tr><td>bound by honor</td><td>1993-04-16</td><td>NULL</td><td>R</td><td>4496583</td><td>9156084</td></tr>",
                            "<tr><td>indian summer</td><td>1993-04-23</td><td>COMEDY</td><td>R</td><td>14717851</td><td>29968953</td></tr>",
                            "<tr><td>super mario bros.</td><td>1993-05-28</td><td>ACTION</td><td>PG</td><td>20844907</td><td>42445058</td></tr>",
                            "<tr><td>guilty as sin</td><td>1993-06-04</td><td>THRILLER/SUSPENSE</td><td>R</td><td>22622537</td><td>46064723</td></tr>",
                            "<tr><td>life with mikey</td><td>1993-06-04</td><td>COMEDY</td><td>PG</td><td>12349549</td><td>25146538</td></tr>",
                            "<tr><td>what&#39;s love got to do with it</td><td>1993-06-09</td><td>DRAMA</td><td>R</td><td>39100956</td><td>79618610</td></tr>",
                            "<tr><td>son in law</td><td>1993-07-02</td><td>COMEDY</td><td>PG-13</td><td>25989889</td><td>52921433</td></tr>",
                            "<tr><td>hocus pocus</td><td>1993-07-16</td><td>COMEDY</td><td>PG</td><td>39360491</td><td>80147079</td></tr>",
                            "<tr><td>another stakeout</td><td>1993-07-23</td><td>COMEDY</td><td>PG-13</td><td>20107504</td><td>40943541</td></tr>",
                            "<tr><td>my boyfriend&#39;s back</td><td>1993-08-06</td><td>NULL</td><td>PG-13</td><td>3218882</td><td>6554384</td></tr>",
                            "<tr><td>father hood</td><td>1993-08-27</td><td>NULL</td><td>PG-13</td><td>3268203</td><td>6654819</td></tr>",
                            "<tr><td>the joy luck club</td><td>1993-09-08</td><td>DRAMA</td><td>R</td><td>32790064</td><td>66768171</td></tr>",
                            "<tr><td>money for nothing</td><td>1993-09-10</td><td>COMEDY</td><td>R</td><td>1044824</td><td>2127496</td></tr>",
                            "<tr><td>the program</td><td>1993-09-24</td><td>ACTION</td><td>R</td><td>23042200</td><td>46919256</td></tr>",
                            "<tr><td>cool runnings</td><td>1993-10-01</td><td>COMEDY</td><td>PG</td><td>68856263</td><td>140392731</td></tr>",
                            "<tr><td>the nightmare before christmas</td><td>1993-10-13</td><td>MUSICAL</td><td>PG</td><td>50408318</td><td>100026637</td></tr>",
                            "<tr><td>the three musketeers</td><td>1993-11-12</td><td>ADVENTURE</td><td>PG</td><td>53661805</td><td>109310377</td></tr>",
                            "<tr><td>sister act 2 back in the habit</td><td>1993-12-10</td><td>COMEDY</td><td>PG</td><td>57319029</td><td>116965668</td></tr>",
                            "<tr><td>tombstone</td><td>1993-12-25</td><td>WESTERN</td><td>R</td><td>56505065</td><td>115781734</td></tr>",
                            "<tr><td>the air up there</td><td>1994-01-07</td><td>COMEDY</td><td>PG</td><td>20782439</td><td>42940186</td></tr>",
                            "<tr><td>cabin boy</td><td>1994-01-07</td><td>COMEDY</td><td>PG-13</td><td>3469493</td><td>7168577</td></tr>",
                            "<tr><td>iron will</td><td>1994-01-14</td><td>DRAMA</td><td>PG</td><td>20623071</td><td>42610902</td></tr>",
                            "<tr><td>red rock west</td><td>1994-01-28</td><td>NULL</td><td>R</td><td>2502551</td><td>5170709</td></tr>",
                            "<tr><td>blank check</td><td>1994-02-11</td><td>COMEDY</td><td>PG</td><td>30573770</td><td>63170804</td></tr>",
                            "<tr><td>angie</td><td>1994-03-04</td><td>COMEDY</td><td>R</td><td>9252349</td><td>19116981</td></tr>",
                            "<tr><td>the ref</td><td>1994-03-09</td><td>COMEDY</td><td>R</td><td>11325885</td><td>23401275</td></tr>",
                            "<tr><td>d2: the mighty ducks</td><td>1994-03-25</td><td>COMEDY</td><td>PG</td><td>45604206</td><td>94226333</td></tr>",
                            "<tr><td>holy matrimony</td><td>1994-04-08</td><td>COMEDY</td><td>NULL</td><td>713234</td><td>1473665</td></tr>",
                            "<tr><td>white fang 2: myth of the white wolf</td><td>1994-04-15</td><td>ADVENTURE</td><td>PG</td><td>8752399</td><td>18083994</td></tr>",
                            "<tr><td>the inkwell</td><td>1994-04-22</td><td>COMEDY</td><td>R</td><td>8864699</td><td>18316030</td></tr>",
                            "<tr><td>when a man loves a woman</td><td>1994-04-29</td><td>DRAMA</td><td>R</td><td>50021959</td><td>103354194</td></tr>",
                            "<tr><td>3 ninjas kick back</td><td>1994-05-06</td><td>ACTION</td><td>PG</td><td>11744960</td><td>24267154</td></tr>",
                            "<tr><td>renaissance man</td><td>1994-06-03</td><td>COMEDY</td><td>PG-13</td><td>24172899</td><td>49945474</td></tr>",
                            "<tr><td>the lion king</td><td>1994-06-15</td><td>ADVENTURE</td><td>G</td><td>422780140</td><td>761640898</td></tr>",
                            "<tr><td>i love trouble</td><td>1994-06-29</td><td>ROMANTIC COMEDY</td><td>PG</td><td>30806194</td><td>63651027</td></tr>",
                            "<tr><td>angels in the outfield</td><td>1994-07-15</td><td>COMEDY</td><td>PG</td><td>50236831</td><td>103798152</td></tr>",
                            "<tr><td>in the army now</td><td>1994-08-12</td><td>COMEDY</td><td>PG</td><td>28881266</td><td>59673787</td></tr>",
                            "<tr><td>color of night</td><td>1994-08-19</td><td>THRILLER/SUSPENSE</td><td>R</td><td>19750470</td><td>40804816</td></tr>",
                            "<tr><td>camp nowhere</td><td>1994-08-26</td><td>COMEDY</td><td>PG</td><td>10442641</td><td>21576332</td></tr>",
                            "<tr><td>it&#39;s pat</td><td>1994-08-26</td><td>COMEDY</td><td>NULL</td><td>60822</td><td>125666</td></tr>",
                            "<tr><td>a simple twist of fate</td><td>1994-09-02</td><td>DRAMA</td><td>PG-13</td><td>3404935</td><td>7035189</td></tr>",
                            "<tr><td>quiz show</td><td>1994-09-14</td><td>DRAMA</td><td>PG-13</td><td>24787282</td><td>50840394</td></tr>",
                            "<tr><td>terminal velocity</td><td>1994-09-23</td><td>ACTION</td><td>PG-13</td><td>16478900</td><td>34048315</td></tr>",
                            "<tr><td>ed wood</td><td>1994-09-30</td><td>COMEDY</td><td>R</td><td>5828466</td><td>12042634</td></tr>",
                            "<tr><td>the puppet masters</td><td>1994-10-21</td><td>HORROR</td><td>R</td><td>8579626</td><td>17727017</td></tr>",
                            "<tr><td>squanto: a warrior&#39;s tale</td><td>1994-10-28</td><td>DRAMA</td><td>PG</td><td>3319344</td><td>6858345</td></tr>",
                            "<tr><td>the santa clause</td><td>1994-11-11</td><td>COMEDY</td><td>PG</td><td>144833357</td><td>298369717</td></tr>",
                            "<tr><td>a low down dirty shame</td><td>1994-11-23</td><td>ACTION</td><td>R</td><td>29317886</td><td>60321919</td></tr>",
                            "<tr><td>the jungle book</td><td>1994-12-25</td><td>ADVENTURE</td><td>PG</td><td>44342956</td><td>88930321</td></tr>",
                            "<tr><td>houseguest</td><td>1995-01-06</td><td>COMEDY</td><td>PG</td><td>26325256</td><td>51016522</td></tr>",
                            "<tr><td>bad company</td><td>1995-01-20</td><td>THRILLER/SUSPENSE</td><td>R</td><td>3523909</td><td>6829092</td></tr>",
                            "<tr><td>miami rhapsody</td><td>1995-01-27</td><td>ROMANTIC COMEDY</td><td>PG-13</td><td>5086578</td><td>9857435</td></tr>",
                            "<tr><td>the jerky boys</td><td>1995-02-03</td><td>COMEDY</td><td>R</td><td>7555256</td><td>14641561</td></tr>",
                            "<tr><td>heavy weights</td><td>1995-02-17</td><td>COMEDY</td><td>PG</td><td>17671310</td><td>34245779</td></tr>",
                            "<tr><td>man of the house</td><td>1995-03-03</td><td>COMEDY</td><td>PG</td><td>40029009</td><td>77573459</td></tr>",
                            "<tr><td>roommates</td><td>1995-03-03</td><td>COMEDY</td><td>PG</td><td>12076989</td><td>23404369</td></tr>",
                            "<tr><td>tall tale</td><td>1995-03-24</td><td>WESTERN</td><td>PG</td><td>8247627</td><td>15983331</td></tr>",
                            "<tr><td>a pyromaniac&#39;s love story</td><td>1995-03-28</td><td>ROMANTIC COMEDY</td><td>PG</td><td>468240</td><td>907414</td></tr>",
                            "<tr><td>jefferson in paris</td><td>1995-03-31</td><td>DRAMA</td><td>PG-13</td><td>2461628</td><td>4770461</td></tr>",
                            "<tr><td>funny bones</td><td>1995-03-31</td><td>COMEDY</td><td>R</td><td>529135</td><td>1025425</td></tr>",
                            "<tr><td>a goofy movie</td><td>1995-04-07</td><td>COMEDY</td><td>G</td><td>35336439</td><td>68479579</td></tr>",
                            "<tr><td>while you were sleeping</td><td>1995-04-21</td><td>ROMANTIC COMEDY</td><td>PG</td><td>81057016</td><td>157082900</td></tr>",
                            "<tr><td>crimson tide</td><td>1995-05-12</td><td>ACTION</td><td>R</td><td>91387195</td><td>177102077</td></tr>",
                            "<tr><td>mad love</td><td>1995-05-26</td><td>DRAMA</td><td>PG-13</td><td>15446532</td><td>29934306</td></tr>",
                            "<tr><td>pocahontas</td><td>1995-06-10</td><td>ADVENTURE</td><td>G</td><td>141579773</td><td>274370957</td></tr>",
                            "<tr><td>judge dredd</td><td>1995-06-30</td><td>ACTION</td><td>R</td><td>34687912</td><td>67222776</td></tr>",
                            "<tr><td>operation dumbo drop</td><td>1995-07-28</td><td>ADVENTURE</td><td>PG</td><td>24670346</td><td>47809421</td></tr>",
                            "<tr><td>dangerous minds</td><td>1995-08-11</td><td>DRAMA</td><td>R</td><td>84919401</td><td>164552293</td></tr>",
                            "<tr><td>a kid in king arthur&#39;s court</td><td>1995-08-11</td><td>ADVENTURE</td><td>PG</td><td>13406717</td><td>25981285</td></tr>",
                            "<tr><td>the tie that binds</td><td>1995-09-08</td><td>THRILLER/SUSPENSE</td><td>R</td><td>5762795</td><td>11167895</td></tr>",
                            "<tr><td>unstrung heroes</td><td>1995-09-15</td><td>DRAMA</td><td>PG</td><td>7929000</td><td>15365850</td></tr>",
                            "<tr><td>the big green</td><td>1995-09-29</td><td>COMEDY</td><td>PG</td><td>17736619</td><td>34372339</td></tr>",
                            "<tr><td>dead presidents</td><td>1995-10-04</td><td>DRAMA</td><td>R</td><td>24120194</td><td>46741467</td></tr>",
                            "<tr><td>the scarlet letter</td><td>1995-10-13</td><td>DRAMA</td><td>R</td><td>10359006</td><td>20075033</td></tr>",
                            "<tr><td>feast of july</td><td>1995-10-13</td><td>DRAMA</td><td>R</td><td>293274</td><td>568342</td></tr>",
                            "<tr><td>powder</td><td>1995-10-27</td><td>DRAMA</td><td>PG-13</td><td>30833914</td><td>59727216</td></tr>",
                            "<tr><td>toy story</td><td>1995-11-22</td><td>ADVENTURE</td><td>G</td><td>191796233</td><td>370409631</td></tr>",
                            "<tr><td>father of the bride part ii</td><td>1995-12-08</td><td>COMEDY</td><td>PG</td><td>76578911</td><td>147658438</td></tr>",
                            "<tr><td>nixon</td><td>1995-12-20</td><td>DRAMA</td><td>R</td><td>13668249</td><td>26302005</td></tr>",
                            "<tr><td>tom and huck</td><td>1995-12-22</td><td>ADVENTURE</td><td>PG</td><td>23837227</td><td>45911517</td></tr>",
                            "<tr><td>mr. holland&#39;s opus</td><td>1995-12-29</td><td>DRAMA</td><td>PG</td><td>82582604</td><td>157508868</td></tr>",
                            "<tr><td>white squall</td><td>1996-02-02</td><td>ADVENTURE</td><td>PG-13</td><td>10229300</td><td>19509726</td></tr>",
                            "<tr><td>muppet treasure island</td><td>1996-02-16</td><td>ADVENTURE</td><td>G</td><td>34327391</td><td>65470567</td></tr>",
                            "<tr><td>mr. wrong</td><td>1996-02-16</td><td>ROMANTIC COMEDY</td><td>PG-13</td><td>12805071</td><td>24422334</td></tr>",
                            "<tr><td>before and after</td><td>1996-02-23</td><td>DRAMA</td><td>PG-13</td><td>8642118</td><td>16482589</td></tr>",
                            "<tr><td>up close &amp; personal</td><td>1996-03-01</td><td>DRAMA</td><td>PG-13</td><td>51045801</td><td>97356578</td></tr>",
                            "<tr><td>homeward bound ii: lost in san franc…</td><td>1996-03-08</td><td>ADVENTURE</td><td>G</td><td>32709423</td><td>62384706</td></tr>",
                            "<tr><td>two much</td><td>1996-03-15</td><td>ROMANTIC COMEDY</td><td>PG-13</td><td>1078555</td><td>2057055</td></tr>",
                            "<tr><td>un indien dans la ville</td><td>1996-03-22</td><td>COMEDY</td><td>PG</td><td>1029731</td><td>1963937</td></tr>",
                            "<tr><td>james and the giant peach</td><td>1996-04-12</td><td>ADVENTURE</td><td>PG</td><td>28921264</td><td>55159783</td></tr>",
                            "<tr><td>celtic pride</td><td>1996-04-19</td><td>COMEDY</td><td>PG-13</td><td>9240378</td><td>17623615</td></tr>",
                            "<tr><td>last dance</td><td>1996-05-03</td><td>DRAMA</td><td>R</td><td>5857534</td><td>11171714</td></tr>",
                            "<tr><td>boys</td><td>1996-05-10</td><td>DRAMA</td><td>PG-13</td><td>21930418</td><td>41826566</td></tr>",
                            "<tr><td>spy hard</td><td>1996-05-24</td><td>COMEDY</td><td>PG-13</td><td>26936265</td><td>51373912</td></tr>",
                            "<tr><td>eddie</td><td>1996-05-31</td><td>COMEDY</td><td>PG-13</td><td>31369401</td><td>59828966</td></tr>",
                            "<tr><td>the rock</td><td>1996-06-07</td><td>ACTION</td><td>R</td><td>134069511</td><td>255702705</td></tr>",
                            "<tr><td>the hunchback of notre dame</td><td>1996-06-21</td><td>ADVENTURE</td><td>G</td><td>100138851</td><td>190988799</td></tr>",
                            "<tr><td>phenomenon</td><td>1996-07-05</td><td>DRAMA</td><td>PG</td><td>104636382</td><td>199559799</td></tr>",
                            "<tr><td>kazaam</td><td>1996-07-17</td><td>COMEDY</td><td>PG</td><td>18880508</td><td>36009655</td></tr>",
                            "<tr><td>jack</td><td>1996-08-09</td><td>DRAMA</td><td>PG-13</td><td>58617334</td><td>111792852</td></tr>",
                            "<tr><td>first kid</td><td>1996-08-30</td><td>COMEDY</td><td>PG</td><td>26465920</td><td>50465108</td></tr>",
                            "<tr><td>the rich man&#39;s wife</td><td>1996-09-13</td><td>THRILLER/SUSPENSE</td><td>R</td><td>8538318</td><td>16284619</td></tr>",
                            "<tr><td>d3: the mighty ducks</td><td>1996-10-04</td><td>COMEDY</td><td>PG</td><td>22936273</td><td>43713554</td></tr>",
                            "<tr><td>the associate</td><td>1996-10-25</td><td>COMEDY</td><td>PG-13</td><td>12772657</td><td>24333094</td></tr>",
                            "<tr><td>ransom</td><td>1996-11-08</td><td>ACTION</td><td>R</td><td>136492681</td><td>259807820</td></tr>",
                            "<tr><td>the war at home</td><td>1996-11-20</td><td>NULL</td><td>R</td><td>34368</td><td>65543</td></tr>",
                            "<tr><td>101 dalmatians</td><td>1996-11-27</td><td>COMEDY</td><td>G</td><td>136189294</td><td>258728898</td></tr>",
                            "<tr><td>the preacher&#39;s wife</td><td>1996-12-13</td><td>DRAMA</td><td>PG</td><td>48102795</td><td>91076877</td></tr>",
                            "<tr><td>evita</td><td>1996-12-25</td><td>MUSICAL</td><td>PG</td><td>50047179</td><td>92077628</td></tr>",
                            "<tr><td>metro</td><td>1997-01-17</td><td>ACTION</td><td>R</td><td>32017895</td><td>58804106</td></tr>",
                            "<tr><td>prefontaine</td><td>1997-01-24</td><td>DRAMA</td><td>PG-13</td><td>590817</td><td>1085093</td></tr>",
                            "<tr><td>shadow conspiracy</td><td>1997-01-31</td><td>THRILLER/SUSPENSE</td><td>R</td><td>2154540</td><td>3957025</td></tr>",
                            "<tr><td>that darn cat</td><td>1997-02-14</td><td>COMEDY</td><td>PG</td><td>18301828</td><td>33613158</td></tr>",
                            "<tr><td>jungle 2 jungle</td><td>1997-03-07</td><td>COMEDY</td><td>PG</td><td>59925026</td><td>110058379</td></tr>",
                            "<tr><td>the sixth man</td><td>1997-03-28</td><td>COMEDY</td><td>PG-13</td><td>14765099</td><td>27117599</td></tr>",
                            "<tr><td>grosse pointe blank</td><td>1997-04-11</td><td>BLACK COMEDY</td><td>R</td><td>28084357</td><td>51579764</td></tr>",
                            "<tr><td>romy and michele&#39;s high school reunion</td><td>1997-04-25</td><td>COMEDY</td><td>R</td><td>29235353</td><td>53693680</td></tr>",
                            "<tr><td>gone fishin&#39;</td><td>1997-05-30</td><td>COMEDY</td><td>PG</td><td>19745922</td><td>36265379</td></tr>",
                            "<tr><td>con air</td><td>1997-06-06</td><td>ACTION</td><td>R</td><td>101117573</td><td>185712664</td></tr>",
                            "<tr><td>hercules</td><td>1997-06-13</td><td>ADVENTURE</td><td>G</td><td>99112101</td><td>182029412</td></tr>",
                            "<tr><td>george of the jungle</td><td>1997-07-16</td><td>COMEDY</td><td>PG</td><td>105263257</td><td>193326632</td></tr>",
                            "<tr><td>nothing to lose</td><td>1997-07-18</td><td>COMEDY</td><td>R</td><td>44480039</td><td>81692095</td></tr>",
                            "<tr><td>air bud</td><td>1997-08-01</td><td>COMEDY</td><td>PG</td><td>24646936</td><td>45266588</td></tr>",
                            "<tr><td>g.i. jane</td><td>1997-08-22</td><td>DRAMA</td><td>R</td><td>48169156</td><td>88467531</td></tr>",
                            "<tr><td>a thousand acres</td><td>1997-09-19</td><td>DRAMA</td><td>R</td><td>7928412</td><td>14561324</td></tr>",
                            "<tr><td>washington square</td><td>1997-10-05</td><td>DRAMA</td><td>PG</td><td>1775644</td><td>3257546</td></tr>",
                            "<tr><td>rocket man</td><td>1997-10-10</td><td>COMEDY</td><td>PG</td><td>15448043</td><td>28371890</td></tr>",
                            "<tr><td>playing god</td><td>1997-10-17</td><td>THRILLER/SUSPENSE</td><td>R</td><td>4166918</td><td>7652965</td></tr>",
                            "<tr><td>flubber</td><td>1997-11-26</td><td>COMEDY</td><td>PG</td><td>92993801</td><td>170406423</td></tr>",
                            "<tr><td>an american werewolf in paris</td><td>1997-12-25</td><td>HORROR</td><td>R</td><td>26570463</td><td>48546161</td></tr>",
                            "<tr><td>mr. magoo</td><td>1997-12-25</td><td>COMEDY</td><td>PG</td><td>21437192</td><td>39145784</td></tr>",
                            "<tr><td>kundun</td><td>1997-12-25</td><td>DRAMA</td><td>PG-13</td><td>5686694</td><td>10236836</td></tr>",
                            "<tr><td>deep rising</td><td>1998-01-30</td><td>ACTION</td><td>R</td><td>11203026</td><td>20136775</td></tr>",
                            "<tr><td>krippendorf&#39;s tribe</td><td>1998-02-27</td><td>COMEDY</td><td>PG-13</td><td>7571115</td><td>13608633</td></tr>",
                            "<tr><td>an alan smithee film: burn hollywood …</td><td>1998-02-27</td><td>COMEDY</td><td>R</td><td>45779</td><td>82277</td></tr>",
                            "<tr><td>meet the deedles</td><td>1998-03-27</td><td>COMEDY</td><td>PG</td><td>4356126</td><td>7829877</td></tr>",
                            "<tr><td>he got game</td><td>1998-05-01</td><td>DRAMA</td><td>R</td><td>21567853</td><td>38766948</td></tr>",
                            "<tr><td>the horse whisperer</td><td>1998-05-15</td><td>DRAMA</td><td>PG-13</td><td>75383563</td><td>135497531</td></tr>",
                            "<tr><td>six days, seven nights</td><td>1998-06-12</td><td>ROMANTIC COMEDY</td><td>PG-13</td><td>74339294</td><td>133620516</td></tr>",
                            "<tr><td>mulan</td><td>1998-06-19</td><td>ADVENTURE</td><td>G</td><td>120620254</td><td>216807832</td></tr>",
                            "<tr><td>armageddon</td><td>1998-07-01</td><td>ADVENTURE</td><td>PG-13</td><td>201578182</td><td>362324957</td></tr>",
                            "<tr><td>jane austen&#39;s mafia</td><td>1998-07-24</td><td>COMEDY</td><td>PG-13</td><td>19843795</td><td>35668055</td></tr>",
                            "<tr><td>the parent trap</td><td>1998-07-29</td><td>COMEDY</td><td>PG</td><td>66308518</td><td>119185667</td></tr>",
                            "<tr><td>firelight</td><td>1998-09-04</td><td>DRAMA</td><td>R</td><td>784419</td><td>1409943</td></tr>",
                            "<tr><td>simon birch</td><td>1998-09-11</td><td>DRAMA</td><td>PG</td><td>18253415</td><td>32809442</td></tr>",
                            "<tr><td>holy man</td><td>1998-10-09</td><td>COMEDY</td><td>PG</td><td>12069719</td><td>21694605</td></tr>",
                            "<tr><td>beloved</td><td>1998-10-16</td><td>DRAMA</td><td>R</td><td>22852487</td><td>41062682</td></tr>",
                            "<tr><td>the waterboy</td><td>1998-11-06</td><td>COMEDY</td><td>PG-13</td><td>161491646</td><td>288691833</td></tr>",
                            "<tr><td>i&#39;ll be home for christmas</td><td>1998-11-13</td><td>COMEDY</td><td>PG</td><td>12214338</td><td>21941840</td></tr>",
                            "<tr><td>a bug&#39;s life</td><td>1998-11-20</td><td>ADVENTURE</td><td>G</td><td>162798565</td><td>288981698</td></tr>",
                            "<tr><td>enemy of the state</td><td>1998-11-20</td><td>ACTION</td><td>R</td><td>111549836</td><td>198472008</td></tr>",
                            "<tr><td>rushmore</td><td>1998-12-11</td><td>BLACK COMEDY</td><td>R</td><td>17105219</td><td>28392518</td></tr>",
                            "<tr><td>a civil action</td><td>1998-12-25</td><td>DRAMA</td><td>PG-13</td><td>56709981</td><td>94139530</td></tr>",
                            "<tr><td>mighty joe young</td><td>1998-12-25</td><td>ADVENTURE</td><td>PG</td><td>50632037</td><td>87906042</td></tr>",
                            "<tr><td>my favorite martian</td><td>1999-02-12</td><td>COMEDY</td><td>PG</td><td>36850101</td><td>61150849</td></tr>",
                            "<tr><td>the other sister</td><td>1999-02-26</td><td>ROMANTIC COMEDY</td><td>PG-13</td><td>27807627</td><td>46145331</td></tr>",
                            "<tr><td>doug&#39;s 1st movie</td><td>1999-03-26</td><td>ADVENTURE</td><td>G</td><td>19421271</td><td>32228598</td></tr>",
                            "<tr><td>ten things i hate about you</td><td>1999-03-31</td><td>ROMANTIC COMEDY</td><td>PG-13</td><td>38177966</td><td>63354375</td></tr>",
                            "<tr><td>endurance</td><td>1999-05-14</td><td>NULL</td><td>PG</td><td>229128</td><td>380218</td></tr>",
                            "<tr><td>instinct</td><td>1999-06-04</td><td>DRAMA</td><td>R</td><td>34105207</td><td>56595842</td></tr>",
                            "<tr><td>tarzan</td><td>1999-06-16</td><td>ADVENTURE</td><td>G</td><td>171091819</td><td>283900254</td></tr>",
                            "<tr><td>summer of sam</td><td>1999-07-02</td><td>DRAMA</td><td>R</td><td>19288130</td><td>32007656</td></tr>",
                            "<tr><td>inspector gadget</td><td>1999-07-23</td><td>COMEDY</td><td>PG</td><td>97387965</td><td>161610341</td></tr>",
                            "<tr><td>the sixth sense</td><td>1999-08-06</td><td>THRILLER/SUSPENSE</td><td>PG-13</td><td>293506292</td><td>485424724</td></tr>",
                            "<tr><td>the 13th warrior</td><td>1999-08-27</td><td>ACTION</td><td>R</td><td>32698899</td><td>54262148</td></tr>",
                            "<tr><td>breakfast of champions</td><td>1999-09-17</td><td>COMEDY</td><td>R</td><td>178287</td><td>295851</td></tr>",
                            "<tr><td>mumford</td><td>1999-09-24</td><td>COMEDY</td><td>R</td><td>4559569</td><td>7566363</td></tr>",
                            "<tr><td>mystery, alaska</td><td>1999-10-01</td><td>COMEDY</td><td>R</td><td>8891623</td><td>14755189</td></tr>",
                            "<tr><td>the straight story</td><td>1999-10-15</td><td>DRAMA</td><td>G</td><td>6197866</td><td>10111144</td></tr>",
                            "<tr><td>the insider</td><td>1999-11-05</td><td>DRAMA</td><td>R</td><td>28965197</td><td>47794214</td></tr>",
                            "<tr><td>toy story 2</td><td>1999-11-19</td><td>ADVENTURE</td><td>G</td><td>245852179</td><td>404450426</td></tr>",
                            "<tr><td>cradle will rock</td><td>1999-12-08</td><td>DRAMA</td><td>R</td><td>2899970</td><td>4609153</td></tr>",
                            "<tr><td>deuce bigalow: male gigolo</td><td>1999-12-10</td><td>COMEDY</td><td>R</td><td>65535067</td><td>106921374</td></tr>",
                            "<tr><td>bicentennial man</td><td>1999-12-17</td><td>DRAMA</td><td>PG</td><td>58220776</td><td>94838225</td></tr>",
                            "<tr><td>play it to the bone</td><td>1999-12-24</td><td>COMEDY</td><td>R</td><td>8427204</td><td>13180524</td></tr>",
                            "<tr><td>fantasia 2000 (imax)</td><td>2000-01-01</td><td>MUSICAL</td><td>G</td><td>60507228</td><td>94852354</td></tr>",
                            "<tr><td>gun shy</td><td>2000-02-04</td><td>COMEDY</td><td>R</td><td>1638202</td><td>2562155</td></tr>",
                            "<tr><td>the tigger movie</td><td>2000-02-11</td><td>ADVENTURE</td><td>G</td><td>45542421</td><td>71228678</td></tr>",
                            "<tr><td>mission to mars</td><td>2000-03-10</td><td>ADVENTURE</td><td>PG</td><td>60874615</td><td>95208344</td></tr>",
                            "<tr><td>high fidelity</td><td>2000-03-31</td><td>COMEDY</td><td>R</td><td>27277055</td><td>42661516</td></tr>",
                            "<tr><td>keeping the faith</td><td>2000-04-14</td><td>ROMANTIC COMEDY</td><td>PG-13</td><td>37036404</td><td>57925202</td></tr>",
                            "<tr><td>dinosaur</td><td>2000-05-19</td><td>ADVENTURE</td><td>PG</td><td>137748063</td><td>215438985</td></tr>",
                            "<tr><td>shanghai noon</td><td>2000-05-26</td><td>WESTERN</td><td>PG-13</td><td>56932305</td><td>89042541</td></tr>",
                            "<tr><td>gone in 60 seconds</td><td>2000-06-09</td><td>ACTION</td><td>PG-13</td><td>101643008</td><td>158970411</td></tr>",
                            "<tr><td>fantasia 2000 (theatrical release)</td><td>2000-06-16</td><td>MUSICAL</td><td>G</td><td>9103630</td><td>14238144</td></tr>",
                            "<tr><td>the kid</td><td>2000-07-07</td><td>COMEDY</td><td>PG</td><td>69688384</td><td>108993148</td></tr>",
                            "<tr><td>coyote ugly</td><td>2000-08-04</td><td>DRAMA</td><td>PG-13</td><td>60786269</td><td>95070168</td></tr>",
                            "<tr><td>the crew</td><td>2000-08-25</td><td>COMEDY</td><td>PG-13</td><td>13019253</td><td>20362201</td></tr>",
                            "<tr><td>duets</td><td>2000-09-15</td><td>DRAMA</td><td>R</td><td>4734235</td><td>7404372</td></tr>",
                            "<tr><td>remember the titans</td><td>2000-09-29</td><td>DRAMA</td><td>PG</td><td>115654751</td><td>180742479</td></tr>",
                            "<tr><td>unbreakable</td><td>2000-11-22</td><td>THRILLER/SUSPENSE</td><td>PG-13</td><td>94999143</td><td>148208901</td></tr>",
                            "<tr><td>102 dalmatians</td><td>2000-11-22</td><td>COMEDY</td><td>G</td><td>66941559</td><td>104055039</td></tr>",
                            "<tr><td>the emperor&#39;s new groove</td><td>2000-12-15</td><td>ADVENTURE</td><td>G</td><td>89296573</td><td>136789252</td></tr>",
                            "<tr><td>o brother, where art thou?</td><td>2000-12-22</td><td>COMEDY</td><td>PG-13</td><td>45506619</td><td>67922002</td></tr>",
                            "<tr><td>double take</td><td>2001-01-12</td><td>ACTION</td><td>PG-13</td><td>29823162</td><td>44418589</td></tr>",
                            "<tr><td>recess: school&#39;s out</td><td>2001-02-16</td><td>COMEDY</td><td>G</td><td>36696761</td><td>54656124</td></tr>",
                            "<tr><td>just visiting</td><td>2001-04-06</td><td>COMEDY</td><td>PG-13</td><td>4777007</td><td>7114869</td></tr>",
                            "<tr><td>pearl harbor</td><td>2001-05-25</td><td>ACTION</td><td>PG-13</td><td>198539855</td><td>295705112</td></tr>",
                            "<tr><td>atlantis: the lost empire</td><td>2001-06-08</td><td>ADVENTURE</td><td>PG</td><td>84052762</td><td>125188122</td></tr>",
                            "<tr><td>crazy/beautiful</td><td>2001-06-29</td><td>DRAMA</td><td>PG-13</td><td>16929123</td><td>25214223</td></tr>",
                            "<tr><td>the princess diaries</td><td>2001-08-03</td><td>COMEDY</td><td>G</td><td>108244774</td><td>161218928</td></tr>",
                            "<tr><td>bubble boy</td><td>2001-08-24</td><td>COMEDY</td><td>PG-13</td><td>5002310</td><td>7450434</td></tr>",
                            "<tr><td>max keeble&#39;s big move</td><td>2001-10-05</td><td>COMEDY</td><td>PG</td><td>17292381</td><td>25749730</td></tr>",
                            "<tr><td>corky romano</td><td>2001-10-12</td><td>COMEDY</td><td>PG-13</td><td>23978402</td><td>35705805</td></tr>",
                            "<tr><td>high heels and low lifes</td><td>2001-10-26</td><td>NULL</td><td>R</td><td>226792</td><td>337782</td></tr>",
                            "<tr><td>monsters, inc.</td><td>2001-11-02</td><td>ADVENTURE</td><td>G</td><td>289423425</td><td>416073179</td></tr>",
                            "<tr><td>out cold</td><td>2001-11-21</td><td>COMEDY</td><td>PG-13</td><td>13906394</td><td>20700691</td></tr>",
                            "<tr><td>the royal tenenbaums</td><td>2001-12-14</td><td>BLACK COMEDY</td><td>R</td><td>52353636</td><td>76758193</td></tr>",
                            "<tr><td>beauty and the beast (imax)</td><td>2002-01-01</td><td>MUSICAL</td><td>G</td><td>25487028</td><td>36980311</td></tr>",
                            "<tr><td>frank mcklusky c.i.</td><td>2002-01-01</td><td>NULL</td><td>NULL</td><td>0</td><td>0</td></tr>",
                            "<tr><td>snow dogs</td><td>2002-01-18</td><td>COMEDY</td><td>PG</td><td>81150692</td><td>117745317</td></tr>",
                            "<tr><td>the count of monte cristo</td><td>2002-01-25</td><td>DRAMA</td><td>PG-13</td><td>54228104</td><td>78682079</td></tr>",
                            "<tr><td>peter pan: return to neverland</td><td>2002-02-15</td><td>ADVENTURE</td><td>G</td><td>48430258</td><td>70269715</td></tr>",
                            "<tr><td>reign of fire</td><td>2002-02-19</td><td>ACTION</td><td>PG-13</td><td>43061982</td><td>62480631</td></tr>",
                            "<tr><td>sorority boys</td><td>2002-03-22</td><td>COMEDY</td><td>R</td><td>10198766</td><td>14797862</td></tr>",
                            "<tr><td>the rookie</td><td>2002-03-29</td><td>DRAMA</td><td>G</td><td>75600072</td><td>109691666</td></tr>",
                            "<tr><td>big trouble</td><td>2002-04-05</td><td>COMEDY</td><td>PG-13</td><td>7262288</td><td>10537188</td></tr>",
                            "<tr><td>espn&#39;s ultimate x - the movie</td><td>2002-05-10</td><td>DOCUMENTARY</td><td>PG</td><td>4197175</td><td>6089874</td></tr>",
                            "<tr><td>bad company</td><td>2002-06-07</td><td>ACTION</td><td>PG-13</td><td>30157016</td><td>43756218</td></tr>",
                            "<tr><td>lilo &amp; stitch</td><td>2002-06-21</td><td>ADVENTURE</td><td>PG</td><td>145771527</td><td>211506702</td></tr>",
                            "<tr><td>the country bears</td><td>2002-07-26</td><td>ADVENTURE</td><td>G</td><td>16988996</td><td>24650121</td></tr>",
                            "<tr><td>signs</td><td>2002-08-02</td><td>THRILLER/SUSPENSE</td><td>PG-13</td><td>227965690</td><td>330754439</td></tr>",
                            "<tr><td>sen to chihiro no kamikakushi</td><td>2002-09-20</td><td>ADVENTURE</td><td>PG</td><td>10049886</td><td>14338992</td></tr>",
                            "<tr><td>sweet home alabama</td><td>2002-09-27</td><td>COMEDY</td><td>PG-13</td><td>127214072</td><td>184521151</td></tr>",
                            "<tr><td>moonlight mile</td><td>2002-09-27</td><td>DRAMA</td><td>PG-13</td><td>6830957</td><td>9909094</td></tr>",
                            "<tr><td>tuck everlasting</td><td>2002-10-11</td><td>DRAMA</td><td>PG</td><td>19161999</td><td>27789959</td></tr>",
                            "<tr><td>the santa clause 2</td><td>2002-11-01</td><td>COMEDY</td><td>G</td><td>139225854</td><td>201959095</td></tr>",
                            "<tr><td>treasure planet</td><td>2002-11-27</td><td>ADVENTURE</td><td>PG</td><td>38120554</td><td>55189145</td></tr>",
                            "<tr><td>the hot chick</td><td>2002-12-13</td><td>COMEDY</td><td>PG-13</td><td>35081550</td><td>50624654</td></tr>",
                            "<tr><td>25th hour</td><td>2002-12-19</td><td>DRAMA</td><td>R</td><td>13084595</td><td>18325463</td></tr>",
                            "<tr><td>the recruit</td><td>2003-01-31</td><td>THRILLER/SUSPENSE</td><td>PG-13</td><td>52784696</td><td>73793522</td></tr>",
                            "<tr><td>shanghai knights</td><td>2003-02-07</td><td>ADVENTURE</td><td>PG-13</td><td>60470220</td><td>84537962</td></tr>",
                            "<tr><td>the jungle book 2</td><td>2003-02-14</td><td>ADVENTURE</td><td>G</td><td>47901582</td><td>66966883</td></tr>",
                            "<tr><td>bringing down the house</td><td>2003-03-07</td><td>COMEDY</td><td>PG-13</td><td>132675402</td><td>185481530</td></tr>",
                            "<tr><td>piglet&#39;s big movie</td><td>2003-03-21</td><td>COMEDY</td><td>G</td><td>23103423</td><td>32298812</td></tr>",
                            "<tr><td>ghosts of the abyss</td><td>2003-04-11</td><td>DOCUMENTARY</td><td>G</td><td>17093668</td><td>23803108</td></tr>",
                            "<tr><td>holes</td><td>2003-04-18</td><td>DRAMA</td><td>PG</td><td>67383924</td><td>94203395</td></tr>",
                            "<tr><td>the lizzie mcguire movie</td><td>2003-05-02</td><td>COMEDY</td><td>PG</td><td>42734455</td><td>59743191</td></tr>",
                            "<tr><td>finding nemo</td><td>2003-05-30</td><td>ADVENTURE</td><td>G</td><td>380529370</td><td>518148559</td></tr>",
                            "<tr><td>pirates of the caribbean: the curse o…</td><td>2003-07-09</td><td>ADVENTURE</td><td>PG-13</td><td>305411224</td><td>426967926</td></tr>",
                            "<tr><td>freaky friday</td><td>2003-08-06</td><td>COMEDY</td><td>PG</td><td>110222438</td><td>154090360</td></tr>",
                            "<tr><td>open range</td><td>2003-08-15</td><td>WESTERN</td><td>R</td><td>58331254</td><td>81547672</td></tr>",
                            "<tr><td>cold creek manor</td><td>2003-09-19</td><td>THRILLER/SUSPENSE</td><td>R</td><td>21384035</td><td>29895090</td></tr>",
                            "<tr><td>under the tuscan sun</td><td>2003-09-26</td><td>COMEDY</td><td>PG-13</td><td>43601508</td><td>60944053</td></tr>",
                            "<tr><td>veronica guerin</td><td>2003-10-17</td><td>DRAMA</td><td>R</td><td>1569918</td><td>2194759</td></tr>",
                            "<tr><td>brother bear</td><td>2003-10-24</td><td>ADVENTURE</td><td>G</td><td>85336277</td><td>119218333</td></tr>",
                            "<tr><td>the haunted mansion</td><td>2003-11-26</td><td>COMEDY</td><td>PG</td><td>75817994</td><td>105775678</td></tr>",
                            "<tr><td>calendar girls</td><td>2003-12-19</td><td>COMEDY</td><td>PG-13</td><td>31011616</td><td>42379650</td></tr>",
                            "<tr><td>young black stallion</td><td>2003-12-25</td><td>ADVENTURE</td><td>G</td><td>6751389</td><td>9254344</td></tr>",
                            "<tr><td>teacher&#39;s pet: the movie</td><td>2004-01-16</td><td>COMEDY</td><td>PG</td><td>6491969</td><td>8812764</td></tr>",
                            "<tr><td>miracle</td><td>2004-02-06</td><td>DRAMA</td><td>PG</td><td>64378093</td><td>87392478</td></tr>",
                            "<tr><td>confessions of a teenage drama queen</td><td>2004-02-20</td><td>COMEDY</td><td>PG</td><td>29331068</td><td>39816568</td></tr>",
                            "<tr><td>hidalgo</td><td>2004-03-05</td><td>WESTERN</td><td>PG-13</td><td>67286731</td><td>91340921</td></tr>",
                            "<tr><td>the ladykillers</td><td>2004-03-26</td><td>COMEDY</td><td>R</td><td>39692139</td><td>53881593</td></tr>",
                            "<tr><td>home on the range</td><td>2004-04-02</td><td>COMEDY</td><td>PG</td><td>50026353</td><td>67910166</td></tr>",
                            "<tr><td>the alamo</td><td>2004-04-09</td><td>WESTERN</td><td>PG-13</td><td>22406362</td><td>30416359</td></tr>",
                            "</table>"
                        ]
                    }
                }
            ],
            "execution_count": 6
        },
        {
            "cell_type": "code",
            "source": [
                "alter table movie add gross_th money null\r\n",
                "-- Add new column name gross_th data type : money  vaultes can be null"
            ],
            "metadata": {
                "azdata_cell_guid": "5c4e5ba9-3fff-4a5f-a3e5-a5d16201fa8a",
                "language": "sql",
                "tags": []
            },
            "outputs": [
                {
                    "output_type": "display_data",
                    "data": {
                        "text/html": "Commands completed successfully."
                    },
                    "metadata": {}
                },
                {
                    "output_type": "display_data",
                    "data": {
                        "text/html": "Total execution time: 00:00:00.007"
                    },
                    "metadata": {}
                }
            ],
            "execution_count": 7
        },
        {
            "cell_type": "code",
            "source": [
                "select top 5 * from movie"
            ],
            "metadata": {
                "language": "sql",
                "azdata_cell_guid": "8e597660-ba88-4f95-bb46-8b821dfa7b4a"
            },
            "outputs": [
                {
                    "output_type": "display_data",
                    "data": {
                        "text/html": "(5 rows affected)"
                    },
                    "metadata": {}
                },
                {
                    "output_type": "display_data",
                    "data": {
                        "text/html": "Total execution time: 00:00:00.006"
                    },
                    "metadata": {}
                },
                {
                    "output_type": "execute_result",
                    "metadata": {},
                    "execution_count": 16,
                    "data": {
                        "application/vnd.dataresource+json": {
                            "schema": {
                                "fields": [
                                    {
                                        "name": "movie_title"
                                    },
                                    {
                                        "name": "release_date"
                                    },
                                    {
                                        "name": "genre"
                                    },
                                    {
                                        "name": "mpaa_rating"
                                    },
                                    {
                                        "name": "total_gross"
                                    },
                                    {
                                        "name": "inflation_adjusted_gross"
                                    },
                                    {
                                        "name": "gross_th"
                                    },
                                    {
                                        "name": "mpaa"
                                    }
                                ]
                            },
                            "data": [
                                {
                                    "movie_title": "snow white and the seven dwarfs",
                                    "release_date": "1937-12-21",
                                    "genre": "MUSICAL",
                                    "mpaa_rating": "G",
                                    "total_gross": "184925485",
                                    "inflation_adjusted_gross": "5228953251",
                                    "gross_th": "162097550781.00",
                                    "mpaa": "General audiences"
                                },
                                {
                                    "movie_title": "pinocchio",
                                    "release_date": "1940-02-09",
                                    "genre": "ADVENTURE",
                                    "mpaa_rating": "G",
                                    "total_gross": "84300000",
                                    "inflation_adjusted_gross": "2188229052",
                                    "gross_th": "67835100612.00",
                                    "mpaa": "General audiences"
                                },
                                {
                                    "movie_title": "fantasia",
                                    "release_date": "1940-11-13",
                                    "genre": "MUSICAL",
                                    "mpaa_rating": "G",
                                    "total_gross": "83320000",
                                    "inflation_adjusted_gross": "2187090808",
                                    "gross_th": "67799815048.00",
                                    "mpaa": "General audiences"
                                },
                                {
                                    "movie_title": "song of the south",
                                    "release_date": "1946-11-12",
                                    "genre": "ADVENTURE",
                                    "mpaa_rating": "G",
                                    "total_gross": "65000000",
                                    "inflation_adjusted_gross": "1078510579",
                                    "gross_th": "33433827949.00",
                                    "mpaa": "General audiences"
                                },
                                {
                                    "movie_title": "cinderella",
                                    "release_date": "1950-02-15",
                                    "genre": "DRAMA",
                                    "mpaa_rating": "G",
                                    "total_gross": "85000000",
                                    "inflation_adjusted_gross": "920608730",
                                    "gross_th": "28538870630.00",
                                    "mpaa": "General audiences"
                                }
                            ]
                        },
                        "text/html": [
                            "<table>",
                            "<tr><th>movie_title</th><th>release_date</th><th>genre</th><th>mpaa_rating</th><th>total_gross</th><th>inflation_adjusted_gross</th><th>gross_th</th><th>mpaa</th></tr>",
                            "<tr><td>snow white and the seven dwarfs</td><td>1937-12-21</td><td>MUSICAL</td><td>G</td><td>184925485</td><td>5228953251</td><td>162097550781.00</td><td>General audiences</td></tr>",
                            "<tr><td>pinocchio</td><td>1940-02-09</td><td>ADVENTURE</td><td>G</td><td>84300000</td><td>2188229052</td><td>67835100612.00</td><td>General audiences</td></tr>",
                            "<tr><td>fantasia</td><td>1940-11-13</td><td>MUSICAL</td><td>G</td><td>83320000</td><td>2187090808</td><td>67799815048.00</td><td>General audiences</td></tr>",
                            "<tr><td>song of the south</td><td>1946-11-12</td><td>ADVENTURE</td><td>G</td><td>65000000</td><td>1078510579</td><td>33433827949.00</td><td>General audiences</td></tr>",
                            "<tr><td>cinderella</td><td>1950-02-15</td><td>DRAMA</td><td>G</td><td>85000000</td><td>920608730</td><td>28538870630.00</td><td>General audiences</td></tr>",
                            "</table>"
                        ]
                    }
                }
            ],
            "execution_count": 16
        },
        {
            "cell_type": "code",
            "source": [
                "update movie\r\n",
                "    set gross_th = inflation_adjusted_gross * 31"
            ],
            "metadata": {
                "language": "sql",
                "azdata_cell_guid": "5ea41ced-e2bd-4d69-9c32-d695f26fcab3"
            },
            "outputs": [
                {
                    "output_type": "display_data",
                    "data": {
                        "text/html": "(579 rows affected)"
                    },
                    "metadata": {}
                },
                {
                    "output_type": "display_data",
                    "data": {
                        "text/html": "Total execution time: 00:00:00.009"
                    },
                    "metadata": {}
                }
            ],
            "execution_count": 11
        },
        {
            "cell_type": "code",
            "source": [
                "alter table movie add mpaa varchar(255) null"
            ],
            "metadata": {
                "language": "sql",
                "azdata_cell_guid": "143d49cd-196d-4c9d-b3f9-d16a18c45904"
            },
            "outputs": [
                {
                    "output_type": "display_data",
                    "data": {
                        "text/html": "Commands completed successfully."
                    },
                    "metadata": {}
                },
                {
                    "output_type": "display_data",
                    "data": {
                        "text/html": "Total execution time: 00:00:00.001"
                    },
                    "metadata": {}
                }
            ],
            "execution_count": 13
        },
        {
            "cell_type": "code",
            "source": [
                "update movie \r\n",
                "    set mpaa = case mpaa_rating     -- mpaa มีค่าเหมื่อน mpaa_rating\r\n",
                "    when 'G' then 'General audiences'     -- ถ้าค่าเป็น G ให้เป็น General audiences\r\n",
                "    end"
            ],
            "metadata": {
                "language": "sql",
                "azdata_cell_guid": "2bd32b58-5deb-42ce-a23c-5833fea0ae22"
            },
            "outputs": [
                {
                    "output_type": "display_data",
                    "data": {
                        "text/html": "(579 rows affected)"
                    },
                    "metadata": {}
                },
                {
                    "output_type": "display_data",
                    "data": {
                        "text/html": "Total execution time: 00:00:00.044"
                    },
                    "metadata": {}
                }
            ],
            "execution_count": 15
        }
    ]
}