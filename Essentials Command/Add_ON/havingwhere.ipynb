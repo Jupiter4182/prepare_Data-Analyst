{
    "metadata": {
        "kernelspec": {
            "name": "SQL",
            "display_name": "SQL",
            "language": "sql"
        },
        "language_info": {
            "name": "sql",
            "version": ""
        }
    },
    "nbformat_minor": 2,
    "nbformat": 4,
    "cells": [
        {
            "cell_type": "markdown",
            "source": [
                "WHERE , HAVING"
            ],
            "metadata": {
                "azdata_cell_guid": "5c6aac16-c92d-440c-b59b-acf9d0fa405e"
            },
            "attachments": {}
        },
        {
            "cell_type": "code",
            "source": [
                "select genre,count(*) \r\n",
                "from movie_gross \r\n",
                "GROUP by genre\r\n",
                "having count(*) > 50\r\n",
                ""
            ],
            "metadata": {
                "azdata_cell_guid": "49ea63c2-b796-4e03-ad4c-e13b4d94a3ad",
                "language": "sql"
            },
            "outputs": [
                {
                    "output_type": "display_data",
                    "data": {
                        "text/html": "(3 rows affected)"
                    },
                    "metadata": {}
                },
                {
                    "output_type": "display_data",
                    "data": {
                        "text/html": "Total execution time: 00:00:00.009"
                    },
                    "metadata": {}
                },
                {
                    "output_type": "execute_result",
                    "metadata": {},
                    "execution_count": 5,
                    "data": {
                        "application/vnd.dataresource+json": {
                            "schema": {
                                "fields": [
                                    {
                                        "name": "genre"
                                    },
                                    {
                                        "name": "(No column name)"
                                    }
                                ]
                            },
                            "data": [
                                {
                                    "genre": "Adventure",
                                    "(No column name)": "129"
                                },
                                {
                                    "genre": "Comedy",
                                    "(No column name)": "182"
                                },
                                {
                                    "genre": "Drama",
                                    "(No column name)": "114"
                                }
                            ]
                        },
                        "text/html": [
                            "<table>",
                            "<tr><th>genre</th><th>(No column name)</th></tr>",
                            "<tr><td>Adventure</td><td>129</td></tr>",
                            "<tr><td>Comedy</td><td>182</td></tr>",
                            "<tr><td>Drama</td><td>114</td></tr>",
                            "</table>"
                        ]
                    }
                }
            ],
            "execution_count": 5
        },
        {
            "cell_type": "code",
            "source": [
                "\r\n",
                "where genre not in ('Drama','Comedy')\r\n",
                "GROUP by genre\r\n",
                "\r\n",
                ""
            ],
            "metadata": {
                "language": "sql",
                "azdata_cell_guid": "6e56891c-84f2-42fc-93da-09cff62ed857"
            },
            "outputs": [
                {
                    "output_type": "display_data",
                    "data": {
                        "text/html": "(10 rows affected)"
                    },
                    "metadata": {}
                },
                {
                    "output_type": "display_data",
                    "data": {
                        "text/html": "Total execution time: 00:00:00.009"
                    },
                    "metadata": {}
                },
                {
                    "output_type": "execute_result",
                    "metadata": {},
                    "execution_count": 11,
                    "data": {
                        "application/vnd.dataresource+json": {
                            "schema": {
                                "fields": [
                                    {
                                        "name": "genre"
                                    },
                                    {
                                        "name": "(No column name)"
                                    }
                                ]
                            },
                            "data": [
                                {
                                    "genre": "Action",
                                    "(No column name)": "40"
                                },
                                {
                                    "genre": "Adventure",
                                    "(No column name)": "129"
                                },
                                {
                                    "genre": "Black Comedy",
                                    "(No column name)": "3"
                                },
                                {
                                    "genre": "Concert/Performance",
                                    "(No column name)": "2"
                                },
                                {
                                    "genre": "Documentary",
                                    "(No column name)": "16"
                                },
                                {
                                    "genre": "Horror",
                                    "(No column name)": "6"
                                },
                                {
                                    "genre": "Musical",
                                    "(No column name)": "16"
                                },
                                {
                                    "genre": "Romantic Comedy",
                                    "(No column name)": "23"
                                },
                                {
                                    "genre": "Thriller/Suspense",
                                    "(No column name)": "24"
                                },
                                {
                                    "genre": "Western",
                                    "(No column name)": "7"
                                }
                            ]
                        },
                        "text/html": [
                            "<table>",
                            "<tr><th>genre</th><th>(No column name)</th></tr>",
                            "<tr><td>Action</td><td>40</td></tr>",
                            "<tr><td>Adventure</td><td>129</td></tr>",
                            "<tr><td>Black Comedy</td><td>3</td></tr>",
                            "<tr><td>Concert/Performance</td><td>2</td></tr>",
                            "<tr><td>Documentary</td><td>16</td></tr>",
                            "<tr><td>Horror</td><td>6</td></tr>",
                            "<tr><td>Musical</td><td>16</td></tr>",
                            "<tr><td>Romantic Comedy</td><td>23</td></tr>",
                            "<tr><td>Thriller/Suspense</td><td>24</td></tr>",
                            "<tr><td>Western</td><td>7</td></tr>",
                            "</table>"
                        ]
                    }
                }
            ],
            "execution_count": 11
        },
        {
            "cell_type": "code",
            "source": [
                "select \r\n",
                "sum(inflation_adjusted_gross),DATEPART(year,release_date)[year]\r\n",
                "from movie_gross  where DATEPART(year,release_date) > 2000\r\n",
                "group by DATEPART(year,release_date) "
            ],
            "metadata": {
                "azdata_cell_guid": "958ff6a3-665e-4a9b-b8ec-ad47bd598523",
                "language": "sql"
            },
            "outputs": [
                {
                    "output_type": "display_data",
                    "data": {
                        "text/html": "(16 rows affected)"
                    },
                    "metadata": {}
                },
                {
                    "output_type": "display_data",
                    "data": {
                        "text/html": "Total execution time: 00:00:00.015"
                    },
                    "metadata": {}
                },
                {
                    "output_type": "execute_result",
                    "metadata": {},
                    "execution_count": 12,
                    "data": {
                        "application/vnd.dataresource+json": {
                            "schema": {
                                "fields": [
                                    {
                                        "name": "(No column name)"
                                    },
                                    {
                                        "name": "year"
                                    }
                                ]
                            },
                            "data": [
                                {
                                    "(No column name)": "1296291781",
                                    "year": "2001"
                                },
                                {
                                    "(No column name)": "1680599676",
                                    "year": "2002"
                                },
                                {
                                    "(No column name)": "2171244827",
                                    "year": "2003"
                                },
                                {
                                    "(No column name)": "1570219160",
                                    "year": "2004"
                                },
                                {
                                    "(No column name)": "1273982639",
                                    "year": "2005"
                                },
                                {
                                    "(No column name)": "1834744763",
                                    "year": "2006"
                                },
                                {
                                    "(No column name)": "1757479739",
                                    "year": "2007"
                                },
                                {
                                    "(No column name)": "1135356255",
                                    "year": "2008"
                                },
                                {
                                    "(No column name)": "1359908617",
                                    "year": "2009"
                                },
                                {
                                    "(No column name)": "1622535159",
                                    "year": "2010"
                                },
                                {
                                    "(No column name)": "1172578942",
                                    "year": "2011"
                                },
                                {
                                    "(No column name)": "1537669134",
                                    "year": "2012"
                                },
                                {
                                    "(No column name)": "1887863558",
                                    "year": "2013"
                                },
                                {
                                    "(No column name)": "1560791318",
                                    "year": "2014"
                                },
                                {
                                    "(No column name)": "2495662696",
                                    "year": "2015"
                                },
                                {
                                    "(No column name)": "2873393105",
                                    "year": "2016"
                                }
                            ]
                        },
                        "text/html": [
                            "<table>",
                            "<tr><th>(No column name)</th><th>year</th></tr>",
                            "<tr><td>1296291781</td><td>2001</td></tr>",
                            "<tr><td>1680599676</td><td>2002</td></tr>",
                            "<tr><td>2171244827</td><td>2003</td></tr>",
                            "<tr><td>1570219160</td><td>2004</td></tr>",
                            "<tr><td>1273982639</td><td>2005</td></tr>",
                            "<tr><td>1834744763</td><td>2006</td></tr>",
                            "<tr><td>1757479739</td><td>2007</td></tr>",
                            "<tr><td>1135356255</td><td>2008</td></tr>",
                            "<tr><td>1359908617</td><td>2009</td></tr>",
                            "<tr><td>1622535159</td><td>2010</td></tr>",
                            "<tr><td>1172578942</td><td>2011</td></tr>",
                            "<tr><td>1537669134</td><td>2012</td></tr>",
                            "<tr><td>1887863558</td><td>2013</td></tr>",
                            "<tr><td>1560791318</td><td>2014</td></tr>",
                            "<tr><td>2495662696</td><td>2015</td></tr>",
                            "<tr><td>2873393105</td><td>2016</td></tr>",
                            "</table>"
                        ]
                    }
                }
            ],
            "execution_count": 12
        }
    ]
}