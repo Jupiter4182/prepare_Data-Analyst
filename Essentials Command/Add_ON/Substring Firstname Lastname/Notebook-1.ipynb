{
    "metadata": {
        "kernelspec": {
            "name": "SQL",
            "display_name": "SQL",
            "language": "sql"
        },
        "language_info": {
            "name": "sql",
            "version": ""
        }
    },
    "nbformat_minor": 2,
    "nbformat": 4,
    "cells": [
        {
            "cell_type": "code",
            "source": [
                "SELECT movie_title, format(total_gross,'N0')total \r\n",
                ",format(total_gross,',#,##0')total \r\n",
                "FROM movie_gross"
            ],
            "metadata": {
                "azdata_cell_guid": "6143d1bc-a3c8-43af-a4ae-36542c1b2f4d",
                "language": "sql",
                "tags": [
                    "hide_input"
                ]
            },
            "outputs": [
                {
                    "output_type": "display_data",
                    "data": {
                        "text/html": "(579 rows affected)"
                    },
                    "metadata": {}
                },
                {
                    "output_type": "display_data",
                    "data": {
                        "text/html": "Total execution time: 00:00:00.028"
                    },
                    "metadata": {}
                },
                {
                    "output_type": "execute_result",
                    "metadata": {},
                    "execution_count": 18,
                    "data": {
                        "application/vnd.dataresource+json": {
                            "schema": {
                                "fields": [
                                    {
                                        "name": "movie_title"
                                    },
                                    {
                                        "name": "total"
                                    },
                                    {
                                        "name": "total"
                                    }
                                ]
                            },
                            "data": [
                                {
                                    "movie_title": "Snow White and the Seven Dwarfs",
                                    "total": "184,925,485"
                                },
                                {
                                    "movie_title": "Pinocchio",
                                    "total": "84,300,000"
                                },
                                {
                                    "movie_title": "Fantasia",
                                    "total": "83,320,000"
                                },
                                {
                                    "movie_title": "Song of the South",
                                    "total": "65,000,000"
                                },
                                {
                                    "movie_title": "Cinderella",
                                    "total": "85,000,000"
                                },
                                {
                                    "movie_title": "20,000 Leagues Under the Sea",
                                    "total": "28,200,000"
                                },
                                {
                                    "movie_title": "Lady and the Tramp",
                                    "total": "93,600,000"
                                },
                                {
                                    "movie_title": "Sleeping Beauty",
                                    "total": "9,464,608"
                                },
                                {
                                    "movie_title": "101 Dalmatians",
                                    "total": "153,000,000"
                                },
                                {
                                    "movie_title": "The Absent Minded Professor",
                                    "total": "25,381,407"
                                },
                                {
                                    "movie_title": "Babes in Toyland",
                                    "total": "10,218,316"
                                },
                                {
                                    "movie_title": "Bon Voyage!",
                                    "total": "9,230,769"
                                },
                                {
                                    "movie_title": "The Sword in the Stone",
                                    "total": "22,182,353"
                                },
                                {
                                    "movie_title": "The Jungle Book",
                                    "total": "141,843,000"
                                },
                                {
                                    "movie_title": "Blackbeard's Ghost",
                                    "total": "21,540,050"
                                },
                                {
                                    "movie_title": "The Aristocats",
                                    "total": "55,675,257"
                                },
                                {
                                    "movie_title": "The Boatniks",
                                    "total": "18,607,492"
                                },
                                {
                                    "movie_title": "Bedknobs and Broomsticks",
                                    "total": "17,871,174"
                                },
                                {
                                    "movie_title": "The Apple Dumpling Gang",
                                    "total": "31,916,500"
                                },
                                {
                                    "movie_title": "Freaky Friday",
                                    "total": "25,942,000"
                                },
                                {
                                    "movie_title": "The Many Adventures of Winnie the Pooh",
                                    "total": "0"
                                },
                                {
                                    "movie_title": "The Rescuers",
                                    "total": "48,775,599"
                                },
                                {
                                    "movie_title": "Herbie Goes to Monte Carlo",
                                    "total": "28,000,000"
                                },
                                {
                                    "movie_title": "The Black Hole",
                                    "total": "35,841,901"
                                },
                                {
                                    "movie_title": "Midnight Madness",
                                    "total": "2,900,000"
                                },
                                {
                                    "movie_title": "The Last Flight of Noah’s Ark",
                                    "total": "11,000,000"
                                },
                                {
                                    "movie_title": "The Devil and Max Devlin",
                                    "total": "16,000,000"
                                },
                                {
                                    "movie_title": "Amy",
                                    "total": "0"
                                },
                                {
                                    "movie_title": "The Fox and the Hound",
                                    "total": "43,899,231"
                                },
                                {
                                    "movie_title": "Condorman",
                                    "total": "0"
                                },
                                {
                                    "movie_title": "Night Crossing",
                                    "total": "4,500,000"
                                },
                                {
                                    "movie_title": "Tron",
                                    "total": "26,918,576"
                                },
                                {
                                    "movie_title": "Tex",
                                    "total": "7,199,408"
                                },
                                {
                                    "movie_title": "Trenchcoat",
                                    "total": "4,304,286"
                                },
                                {
                                    "movie_title": "Something Wicked This Way Comes",
                                    "total": "5,656,087"
                                },
                                {
                                    "movie_title": "Never Cry Wolf",
                                    "total": "27,668,764"
                                },
                                {
                                    "movie_title": "Running Brave",
                                    "total": "1,204,595"
                                },
                                {
                                    "movie_title": "Splash",
                                    "total": "62,599,495"
                                },
                                {
                                    "movie_title": "Country",
                                    "total": "8,400,000"
                                },
                                {
                                    "movie_title": "Baby: Secret of the Lost Legend",
                                    "total": "14,276,095"
                                },
                                {
                                    "movie_title": "Return to Oz",
                                    "total": "10,618,813"
                                },
                                {
                                    "movie_title": "The Black Cauldron",
                                    "total": "21,288,692"
                                },
                                {
                                    "movie_title": "My Science Project",
                                    "total": "4,100,000"
                                },
                                {
                                    "movie_title": "The Journey of Natty Gann",
                                    "total": "9,468,512"
                                },
                                {
                                    "movie_title": "One Magic Christmas",
                                    "total": "13,229,514"
                                },
                                {
                                    "movie_title": "Down and Out in Beverly Hills",
                                    "total": "62,134,225"
                                },
                                {
                                    "movie_title": "Off Beat",
                                    "total": "4,842,778"
                                },
                                {
                                    "movie_title": "Ruthless People",
                                    "total": "71,624,879"
                                },
                                {
                                    "movie_title": "The Great Mouse Detective",
                                    "total": "23,605,534"
                                },
                                {
                                    "movie_title": "Flight of the Navigator",
                                    "total": "18,564,613"
                                },
                                {
                                    "movie_title": "Tough Guys",
                                    "total": "21,458,229"
                                },
                                {
                                    "movie_title": "The Color of Money",
                                    "total": "52,293,000"
                                },
                                {
                                    "movie_title": "Outrageous Fortune",
                                    "total": "52,864,741"
                                },
                                {
                                    "movie_title": "Tin Men",
                                    "total": "25,411,386"
                                },
                                {
                                    "movie_title": "Ernest Goes to Camp",
                                    "total": "23,509,382"
                                },
                                {
                                    "movie_title": "Benji the Hunted",
                                    "total": "15,212,539"
                                },
                                {
                                    "movie_title": "Adventures in Babysitting",
                                    "total": "33,790,923"
                                },
                                {
                                    "movie_title": "Stakeout",
                                    "total": "65,673,233"
                                },
                                {
                                    "movie_title": "Can't Buy Me Love",
                                    "total": "31,623,833"
                                },
                                {
                                    "movie_title": "Hello Again",
                                    "total": "20,419,446"
                                },
                                {
                                    "movie_title": "3 Men and a Baby",
                                    "total": "167,780,960"
                                },
                                {
                                    "movie_title": "Good Morning Vietnam",
                                    "total": "123,922,370"
                                },
                                {
                                    "movie_title": "Shoot to Kill",
                                    "total": "29,300,000"
                                },
                                {
                                    "movie_title": "D.O.A.",
                                    "total": "12,706,478"
                                },
                                {
                                    "movie_title": "Return to Snowy River",
                                    "total": "13,687,027"
                                },
                                {
                                    "movie_title": "Big Business",
                                    "total": "40,150,487"
                                },
                                {
                                    "movie_title": "Who Framed Roger Rabbit?",
                                    "total": "154,112,492"
                                },
                                {
                                    "movie_title": "Cocktail",
                                    "total": "78,222,753"
                                },
                                {
                                    "movie_title": "The Rescue",
                                    "total": "5,855,392"
                                },
                                {
                                    "movie_title": "Heartbreak Hotel",
                                    "total": "5,509,417"
                                },
                                {
                                    "movie_title": "The Good Mother",
                                    "total": "4,764,606"
                                },
                                {
                                    "movie_title": "Ernest Saves Christmas",
                                    "total": "28,202,109"
                                },
                                {
                                    "movie_title": "Oliver & Company",
                                    "total": "49,576,671"
                                },
                                {
                                    "movie_title": "Beaches",
                                    "total": "57,041,866"
                                },
                                {
                                    "movie_title": "Three Fugitives",
                                    "total": "40,590,000"
                                },
                                {
                                    "movie_title": "New York Stories",
                                    "total": "10,763,469"
                                },
                                {
                                    "movie_title": "Disorganized Crime",
                                    "total": "7,210,149"
                                },
                                {
                                    "movie_title": "Dead Poets Society",
                                    "total": "95,860,116"
                                },
                                {
                                    "movie_title": "Honey, I Shrunk the Kids",
                                    "total": "130,724,172"
                                },
                                {
                                    "movie_title": "Turner & Hooch",
                                    "total": "71,079,915"
                                },
                                {
                                    "movie_title": "Cheetah",
                                    "total": "7,882,250"
                                },
                                {
                                    "movie_title": "An Innocent Man",
                                    "total": "19,397,847"
                                },
                                {
                                    "movie_title": "Gross Anatomy",
                                    "total": "11,346,186"
                                },
                                {
                                    "movie_title": "The Little Mermaid",
                                    "total": "111,543,479"
                                },
                                {
                                    "movie_title": "Blaze",
                                    "total": "19,049,727"
                                },
                                {
                                    "movie_title": "Stella",
                                    "total": "20,062,347"
                                },
                                {
                                    "movie_title": "Where the Heart Is",
                                    "total": "1,106,475"
                                },
                                {
                                    "movie_title": "Pretty Woman",
                                    "total": "178,406,268"
                                },
                                {
                                    "movie_title": "Ernest Goes to Jail",
                                    "total": "25,029,569"
                                },
                                {
                                    "movie_title": "Spaced Invaders",
                                    "total": "15,000,000"
                                },
                                {
                                    "movie_title": "Fire Birds",
                                    "total": "14,760,451"
                                },
                                {
                                    "movie_title": "Dick Tracy",
                                    "total": "103,738,726"
                                },
                                {
                                    "movie_title": "Betsy's Wedding",
                                    "total": "19,740,070"
                                },
                                {
                                    "movie_title": "Arachnophobia",
                                    "total": "53,208,180"
                                },
                                {
                                    "movie_title": "DuckTales: The Movie - Treasure of th…",
                                    "total": "18,075,331"
                                },
                                {
                                    "movie_title": "Taking Care of Business",
                                    "total": "20,005,435"
                                },
                                {
                                    "movie_title": "Mr. Destiny",
                                    "total": "15,379,253"
                                },
                                {
                                    "movie_title": "The Rescuers Down Under",
                                    "total": "27,931,461"
                                },
                                {
                                    "movie_title": "3 Men and a Little Lady",
                                    "total": "71,609,321"
                                },
                                {
                                    "movie_title": "Green Card",
                                    "total": "29,804,169"
                                },
                                {
                                    "movie_title": "White Fang",
                                    "total": "34,729,091"
                                },
                                {
                                    "movie_title": "Scenes from a Mall",
                                    "total": "9,563,393"
                                },
                                {
                                    "movie_title": "Haakon Haakonsen",
                                    "total": "15,024,232"
                                },
                                {
                                    "movie_title": "The Marrying Man",
                                    "total": "12,454,768"
                                },
                                {
                                    "movie_title": "Oscar",
                                    "total": "23,562,716"
                                },
                                {
                                    "movie_title": "One Good Cop",
                                    "total": "11,276,846"
                                },
                                {
                                    "movie_title": "What About Bob?",
                                    "total": "63,710,000"
                                },
                                {
                                    "movie_title": "Wild Hearts Can't Be Broken",
                                    "total": "7,300,000"
                                },
                                {
                                    "movie_title": "The Rocketeer",
                                    "total": "46,573,027"
                                },
                                {
                                    "movie_title": "The Doctor",
                                    "total": "37,497,480"
                                },
                                {
                                    "movie_title": "Paradise",
                                    "total": "18,634,643"
                                },
                                {
                                    "movie_title": "Deceived",
                                    "total": "28,738,096"
                                },
                                {
                                    "movie_title": "Ernest Scared Stupid",
                                    "total": "14,143,280"
                                },
                                {
                                    "movie_title": "Billy Bathgate",
                                    "total": "15,565,363"
                                },
                                {
                                    "movie_title": "Beauty and the Beast",
                                    "total": "218,951,625"
                                },
                                {
                                    "movie_title": "Father of the Bride",
                                    "total": "89,325,780"
                                },
                                {
                                    "movie_title": "The Hand That Rocks the Cradle",
                                    "total": "88,036,683"
                                },
                                {
                                    "movie_title": "Medicine Man",
                                    "total": "44,948,240"
                                },
                                {
                                    "movie_title": "Blame it on the Bellboy",
                                    "total": "2,891,055"
                                },
                                {
                                    "movie_title": "Noises Off...",
                                    "total": "2,280,148"
                                },
                                {
                                    "movie_title": "Straight Talk",
                                    "total": "21,202,099"
                                },
                                {
                                    "movie_title": "Newsies",
                                    "total": "2,706,352"
                                },
                                {
                                    "movie_title": "Passed Away",
                                    "total": "4,030,793"
                                },
                                {
                                    "movie_title": "Encino Man",
                                    "total": "40,057,130"
                                },
                                {
                                    "movie_title": "Sister Act",
                                    "total": "139,605,150"
                                },
                                {
                                    "movie_title": "Honey I Blew Up the Kid",
                                    "total": "58,662,452"
                                },
                                {
                                    "movie_title": "A Stranger Among Us",
                                    "total": "12,282,994"
                                },
                                {
                                    "movie_title": "3 Ninjas",
                                    "total": "29,028,000"
                                },
                                {
                                    "movie_title": "A Gun in Betty Lou's Handbag",
                                    "total": "3,591,460"
                                },
                                {
                                    "movie_title": "Captain Ron",
                                    "total": "22,518,097"
                                },
                                {
                                    "movie_title": "Sarafina!",
                                    "total": "7,306,242"
                                },
                                {
                                    "movie_title": "Innocent Blood",
                                    "total": "4,877,567"
                                },
                                {
                                    "movie_title": "The Mighty Ducks",
                                    "total": "50,752,337"
                                },
                                {
                                    "movie_title": "1492: Conquest of Paradise",
                                    "total": "7,099,531"
                                },
                                {
                                    "movie_title": "Consenting Adults",
                                    "total": "21,591,728"
                                },
                                {
                                    "movie_title": "Aladdin",
                                    "total": "217,350,219"
                                },
                                {
                                    "movie_title": "The Distinguished Gentleman",
                                    "total": "46,434,570"
                                },
                                {
                                    "movie_title": "The Muppet Christmas Carol",
                                    "total": "27,281,507"
                                },
                                {
                                    "movie_title": "Alive",
                                    "total": "36,299,670"
                                },
                                {
                                    "movie_title": "Aspen Extreme",
                                    "total": "7,843,388"
                                },
                                {
                                    "movie_title": "Homeward Bound: The Incredible Journey",
                                    "total": "41,833,324"
                                },
                                {
                                    "movie_title": "The Cemetery Club",
                                    "total": "5,583,621"
                                },
                                {
                                    "movie_title": "Swing Kids",
                                    "total": "5,632,086"
                                },
                                {
                                    "movie_title": "A Far Off Place",
                                    "total": "12,890,752"
                                },
                                {
                                    "movie_title": "Born Yesterday",
                                    "total": "17,760,754"
                                },
                                {
                                    "movie_title": "The Adventures of Huck Finn",
                                    "total": "24,103,594"
                                },
                                {
                                    "movie_title": "Bound by Honor",
                                    "total": "4,496,583"
                                },
                                {
                                    "movie_title": "Indian Summer",
                                    "total": "14,717,851"
                                },
                                {
                                    "movie_title": "Super Mario Bros.",
                                    "total": "20,844,907"
                                },
                                {
                                    "movie_title": "Guilty as Sin",
                                    "total": "22,622,537"
                                },
                                {
                                    "movie_title": "Life With Mikey",
                                    "total": "12,349,549"
                                },
                                {
                                    "movie_title": "What's Love Got to Do With It",
                                    "total": "39,100,956"
                                },
                                {
                                    "movie_title": "Son in Law",
                                    "total": "25,989,889"
                                },
                                {
                                    "movie_title": "Hocus Pocus",
                                    "total": "39,360,491"
                                },
                                {
                                    "movie_title": "Another Stakeout",
                                    "total": "20,107,504"
                                },
                                {
                                    "movie_title": "My Boyfriend's Back",
                                    "total": "3,218,882"
                                },
                                {
                                    "movie_title": "Father Hood",
                                    "total": "3,268,203"
                                },
                                {
                                    "movie_title": "The Joy Luck Club",
                                    "total": "32,790,064"
                                },
                                {
                                    "movie_title": "Money for Nothing",
                                    "total": "1,044,824"
                                },
                                {
                                    "movie_title": "The Program",
                                    "total": "23,042,200"
                                },
                                {
                                    "movie_title": "Cool Runnings",
                                    "total": "68,856,263"
                                },
                                {
                                    "movie_title": "The Nightmare Before Christmas",
                                    "total": "50,408,318"
                                },
                                {
                                    "movie_title": "The Three Musketeers",
                                    "total": "53,661,805"
                                },
                                {
                                    "movie_title": "Sister Act 2 Back in the Habit",
                                    "total": "57,319,029"
                                },
                                {
                                    "movie_title": "Tombstone",
                                    "total": "56,505,065"
                                },
                                {
                                    "movie_title": "The Air Up There",
                                    "total": "20,782,439"
                                },
                                {
                                    "movie_title": "Cabin Boy",
                                    "total": "3,469,493"
                                },
                                {
                                    "movie_title": "Iron Will",
                                    "total": "20,623,071"
                                },
                                {
                                    "movie_title": "Red Rock West",
                                    "total": "2,502,551"
                                },
                                {
                                    "movie_title": "Blank Check",
                                    "total": "30,573,770"
                                },
                                {
                                    "movie_title": "Angie",
                                    "total": "9,252,349"
                                },
                                {
                                    "movie_title": "The Ref",
                                    "total": "11,325,885"
                                },
                                {
                                    "movie_title": "D2: The Mighty Ducks",
                                    "total": "45,604,206"
                                },
                                {
                                    "movie_title": "Holy Matrimony",
                                    "total": "713,234"
                                },
                                {
                                    "movie_title": "White Fang 2: Myth of the White Wolf",
                                    "total": "8,752,399"
                                },
                                {
                                    "movie_title": "The Inkwell",
                                    "total": "8,864,699"
                                },
                                {
                                    "movie_title": "When a Man Loves a Woman",
                                    "total": "50,021,959"
                                },
                                {
                                    "movie_title": "3 Ninjas Kick Back",
                                    "total": "11,744,960"
                                },
                                {
                                    "movie_title": "Renaissance Man",
                                    "total": "24,172,899"
                                },
                                {
                                    "movie_title": "The Lion King",
                                    "total": "422,780,140"
                                },
                                {
                                    "movie_title": "I Love Trouble",
                                    "total": "30,806,194"
                                },
                                {
                                    "movie_title": "Angels in the Outfield",
                                    "total": "50,236,831"
                                },
                                {
                                    "movie_title": "In the Army Now",
                                    "total": "28,881,266"
                                },
                                {
                                    "movie_title": "Color of Night",
                                    "total": "19,750,470"
                                },
                                {
                                    "movie_title": "Camp Nowhere",
                                    "total": "10,442,641"
                                },
                                {
                                    "movie_title": "It's Pat",
                                    "total": "60,822"
                                },
                                {
                                    "movie_title": "A Simple Twist of Fate",
                                    "total": "3,404,935"
                                },
                                {
                                    "movie_title": "Quiz Show",
                                    "total": "24,787,282"
                                },
                                {
                                    "movie_title": "Terminal Velocity",
                                    "total": "16,478,900"
                                },
                                {
                                    "movie_title": "Ed Wood",
                                    "total": "5,828,466"
                                },
                                {
                                    "movie_title": "The Puppet Masters",
                                    "total": "8,579,626"
                                },
                                {
                                    "movie_title": "Squanto: A Warrior's Tale",
                                    "total": "3,319,344"
                                },
                                {
                                    "movie_title": "The Santa Clause",
                                    "total": "144,833,357"
                                },
                                {
                                    "movie_title": "A Low Down Dirty Shame",
                                    "total": "29,317,886"
                                },
                                {
                                    "movie_title": "The Jungle Book",
                                    "total": "44,342,956"
                                },
                                {
                                    "movie_title": "Houseguest",
                                    "total": "26,325,256"
                                },
                                {
                                    "movie_title": "Bad Company",
                                    "total": "3,523,909"
                                },
                                {
                                    "movie_title": "Miami Rhapsody",
                                    "total": "5,086,578"
                                },
                                {
                                    "movie_title": "The Jerky Boys",
                                    "total": "7,555,256"
                                },
                                {
                                    "movie_title": "Heavy Weights",
                                    "total": "17,671,310"
                                },
                                {
                                    "movie_title": "Man of the House",
                                    "total": "40,029,009"
                                },
                                {
                                    "movie_title": "Roommates",
                                    "total": "12,076,989"
                                },
                                {
                                    "movie_title": "Tall Tale",
                                    "total": "8,247,627"
                                },
                                {
                                    "movie_title": "A Pyromaniac's Love Story",
                                    "total": "468,240"
                                },
                                {
                                    "movie_title": "Jefferson in Paris",
                                    "total": "2,461,628"
                                },
                                {
                                    "movie_title": "Funny Bones",
                                    "total": "529,135"
                                },
                                {
                                    "movie_title": "A Goofy Movie",
                                    "total": "35,336,439"
                                },
                                {
                                    "movie_title": "While You Were Sleeping",
                                    "total": "81,057,016"
                                },
                                {
                                    "movie_title": "Crimson Tide",
                                    "total": "91,387,195"
                                },
                                {
                                    "movie_title": "Mad Love",
                                    "total": "15,446,532"
                                },
                                {
                                    "movie_title": "Pocahontas",
                                    "total": "141,579,773"
                                },
                                {
                                    "movie_title": "Judge Dredd",
                                    "total": "34,687,912"
                                },
                                {
                                    "movie_title": "Operation Dumbo Drop",
                                    "total": "24,670,346"
                                },
                                {
                                    "movie_title": "Dangerous Minds",
                                    "total": "84,919,401"
                                },
                                {
                                    "movie_title": "A Kid in King Arthur's Court",
                                    "total": "13,406,717"
                                },
                                {
                                    "movie_title": "The Tie That Binds",
                                    "total": "5,762,795"
                                },
                                {
                                    "movie_title": "Unstrung Heroes",
                                    "total": "7,929,000"
                                },
                                {
                                    "movie_title": "The Big Green",
                                    "total": "17,736,619"
                                },
                                {
                                    "movie_title": "Dead Presidents",
                                    "total": "24,120,194"
                                },
                                {
                                    "movie_title": "The Scarlet Letter",
                                    "total": "10,359,006"
                                },
                                {
                                    "movie_title": "Feast of July",
                                    "total": "293,274"
                                },
                                {
                                    "movie_title": "Powder",
                                    "total": "30,833,914"
                                },
                                {
                                    "movie_title": "Toy Story",
                                    "total": "191,796,233"
                                },
                                {
                                    "movie_title": "Father of the Bride Part II",
                                    "total": "76,578,911"
                                },
                                {
                                    "movie_title": "Nixon",
                                    "total": "13,668,249"
                                },
                                {
                                    "movie_title": "Tom and Huck",
                                    "total": "23,837,227"
                                },
                                {
                                    "movie_title": "Mr. Holland's Opus",
                                    "total": "82,582,604"
                                },
                                {
                                    "movie_title": "White Squall",
                                    "total": "10,229,300"
                                },
                                {
                                    "movie_title": "Muppet Treasure Island",
                                    "total": "34,327,391"
                                },
                                {
                                    "movie_title": "Mr. Wrong",
                                    "total": "12,805,071"
                                },
                                {
                                    "movie_title": "Before and After",
                                    "total": "8,642,118"
                                },
                                {
                                    "movie_title": "Up Close & Personal",
                                    "total": "51,045,801"
                                },
                                {
                                    "movie_title": "Homeward Bound II: Lost in San Franc…",
                                    "total": "32,709,423"
                                },
                                {
                                    "movie_title": "Two Much",
                                    "total": "1,078,555"
                                },
                                {
                                    "movie_title": "Un indien dans la ville",
                                    "total": "1,029,731"
                                },
                                {
                                    "movie_title": "James and the Giant Peach",
                                    "total": "28,921,264"
                                },
                                {
                                    "movie_title": "Celtic Pride",
                                    "total": "9,240,378"
                                },
                                {
                                    "movie_title": "Last Dance",
                                    "total": "5,857,534"
                                },
                                {
                                    "movie_title": "Boys",
                                    "total": "21,930,418"
                                },
                                {
                                    "movie_title": "Spy Hard",
                                    "total": "26,936,265"
                                },
                                {
                                    "movie_title": "Eddie",
                                    "total": "31,369,401"
                                },
                                {
                                    "movie_title": "The Rock",
                                    "total": "134,069,511"
                                },
                                {
                                    "movie_title": "The Hunchback of Notre Dame",
                                    "total": "100,138,851"
                                },
                                {
                                    "movie_title": "Phenomenon",
                                    "total": "104,636,382"
                                },
                                {
                                    "movie_title": "Kazaam",
                                    "total": "18,880,508"
                                },
                                {
                                    "movie_title": "Jack",
                                    "total": "58,617,334"
                                },
                                {
                                    "movie_title": "First Kid",
                                    "total": "26,465,920"
                                },
                                {
                                    "movie_title": "The Rich Man's Wife",
                                    "total": "8,538,318"
                                },
                                {
                                    "movie_title": "D3: The Mighty Ducks",
                                    "total": "22,936,273"
                                },
                                {
                                    "movie_title": "The Associate",
                                    "total": "12,772,657"
                                },
                                {
                                    "movie_title": "Ransom",
                                    "total": "136,492,681"
                                },
                                {
                                    "movie_title": "The War at Home",
                                    "total": "34,368"
                                },
                                {
                                    "movie_title": "101 Dalmatians",
                                    "total": "136,189,294"
                                },
                                {
                                    "movie_title": "The Preacher's Wife",
                                    "total": "48,102,795"
                                },
                                {
                                    "movie_title": "Evita",
                                    "total": "50,047,179"
                                },
                                {
                                    "movie_title": "Metro",
                                    "total": "32,017,895"
                                },
                                {
                                    "movie_title": "Prefontaine",
                                    "total": "590,817"
                                },
                                {
                                    "movie_title": "Shadow Conspiracy",
                                    "total": "2,154,540"
                                },
                                {
                                    "movie_title": "That Darn Cat",
                                    "total": "18,301,828"
                                },
                                {
                                    "movie_title": "Jungle 2 Jungle",
                                    "total": "59,925,026"
                                },
                                {
                                    "movie_title": "The Sixth Man",
                                    "total": "14,765,099"
                                },
                                {
                                    "movie_title": "Grosse Pointe Blank",
                                    "total": "28,084,357"
                                },
                                {
                                    "movie_title": "Romy and Michele's High School Reunion",
                                    "total": "29,235,353"
                                },
                                {
                                    "movie_title": "Gone Fishin'",
                                    "total": "19,745,922"
                                },
                                {
                                    "movie_title": "Con Air",
                                    "total": "101,117,573"
                                },
                                {
                                    "movie_title": "Hercules",
                                    "total": "99,112,101"
                                },
                                {
                                    "movie_title": "George Of The Jungle",
                                    "total": "105,263,257"
                                },
                                {
                                    "movie_title": "Nothing To Lose",
                                    "total": "44,480,039"
                                },
                                {
                                    "movie_title": "Air Bud",
                                    "total": "24,646,936"
                                },
                                {
                                    "movie_title": "G.I. Jane",
                                    "total": "48,169,156"
                                },
                                {
                                    "movie_title": "A Thousand Acres",
                                    "total": "7,928,412"
                                },
                                {
                                    "movie_title": "Washington Square",
                                    "total": "1,775,644"
                                },
                                {
                                    "movie_title": "Rocket Man",
                                    "total": "15,448,043"
                                },
                                {
                                    "movie_title": "Playing God",
                                    "total": "4,166,918"
                                },
                                {
                                    "movie_title": "Flubber",
                                    "total": "92,993,801"
                                },
                                {
                                    "movie_title": "An American Werewolf in Paris",
                                    "total": "26,570,463"
                                },
                                {
                                    "movie_title": "Mr. Magoo",
                                    "total": "21,437,192"
                                },
                                {
                                    "movie_title": "Kundun",
                                    "total": "5,686,694"
                                },
                                {
                                    "movie_title": "Deep Rising",
                                    "total": "11,203,026"
                                },
                                {
                                    "movie_title": "Krippendorf's Tribe",
                                    "total": "7,571,115"
                                },
                                {
                                    "movie_title": "An Alan Smithee Film: Burn Hollywood …",
                                    "total": "45,779"
                                },
                                {
                                    "movie_title": "Meet the Deedles",
                                    "total": "4,356,126"
                                },
                                {
                                    "movie_title": "He Got Game",
                                    "total": "21,567,853"
                                },
                                {
                                    "movie_title": "The Horse Whisperer",
                                    "total": "75,383,563"
                                },
                                {
                                    "movie_title": "Six Days, Seven Nights",
                                    "total": "74,339,294"
                                },
                                {
                                    "movie_title": "Mulan",
                                    "total": "120,620,254"
                                },
                                {
                                    "movie_title": "Armageddon",
                                    "total": "201,578,182"
                                },
                                {
                                    "movie_title": "Jane Austen's Mafia",
                                    "total": "19,843,795"
                                },
                                {
                                    "movie_title": "The Parent Trap",
                                    "total": "66,308,518"
                                },
                                {
                                    "movie_title": "Firelight",
                                    "total": "784,419"
                                },
                                {
                                    "movie_title": "Simon Birch",
                                    "total": "18,253,415"
                                },
                                {
                                    "movie_title": "Holy Man",
                                    "total": "12,069,719"
                                },
                                {
                                    "movie_title": "Beloved",
                                    "total": "22,852,487"
                                },
                                {
                                    "movie_title": "The Waterboy",
                                    "total": "161,491,646"
                                },
                                {
                                    "movie_title": "I'll Be Home For Christmas",
                                    "total": "12,214,338"
                                },
                                {
                                    "movie_title": "A Bug's Life",
                                    "total": "162,798,565"
                                },
                                {
                                    "movie_title": "Enemy of the State",
                                    "total": "111,549,836"
                                },
                                {
                                    "movie_title": "Rushmore",
                                    "total": "17,105,219"
                                },
                                {
                                    "movie_title": "A Civil Action",
                                    "total": "56,709,981"
                                },
                                {
                                    "movie_title": "Mighty Joe Young",
                                    "total": "50,632,037"
                                },
                                {
                                    "movie_title": "My Favorite Martian",
                                    "total": "36,850,101"
                                },
                                {
                                    "movie_title": "The Other Sister",
                                    "total": "27,807,627"
                                },
                                {
                                    "movie_title": "Doug's 1st Movie",
                                    "total": "19,421,271"
                                },
                                {
                                    "movie_title": "Ten Things I Hate About You",
                                    "total": "38,177,966"
                                },
                                {
                                    "movie_title": "Endurance",
                                    "total": "229,128"
                                },
                                {
                                    "movie_title": "Instinct",
                                    "total": "34,105,207"
                                },
                                {
                                    "movie_title": "Tarzan",
                                    "total": "171,091,819"
                                },
                                {
                                    "movie_title": "Summer of Sam",
                                    "total": "19,288,130"
                                },
                                {
                                    "movie_title": "Inspector Gadget",
                                    "total": "97,387,965"
                                },
                                {
                                    "movie_title": "The Sixth Sense",
                                    "total": "293,506,292"
                                },
                                {
                                    "movie_title": "The 13th Warrior",
                                    "total": "32,698,899"
                                },
                                {
                                    "movie_title": "Breakfast of Champions",
                                    "total": "178,287"
                                },
                                {
                                    "movie_title": "Mumford",
                                    "total": "4,559,569"
                                },
                                {
                                    "movie_title": "Mystery, Alaska",
                                    "total": "8,891,623"
                                },
                                {
                                    "movie_title": "The Straight Story",
                                    "total": "6,197,866"
                                },
                                {
                                    "movie_title": "The Insider",
                                    "total": "28,965,197"
                                },
                                {
                                    "movie_title": "Toy Story 2",
                                    "total": "245,852,179"
                                },
                                {
                                    "movie_title": "Cradle Will Rock",
                                    "total": "2,899,970"
                                },
                                {
                                    "movie_title": "Deuce Bigalow: Male Gigolo",
                                    "total": "65,535,067"
                                },
                                {
                                    "movie_title": "Bicentennial Man",
                                    "total": "58,220,776"
                                },
                                {
                                    "movie_title": "Play it to the Bone",
                                    "total": "8,427,204"
                                },
                                {
                                    "movie_title": "Fantasia 2000 (IMAX)",
                                    "total": "60,507,228"
                                },
                                {
                                    "movie_title": "Gun Shy",
                                    "total": "1,638,202"
                                },
                                {
                                    "movie_title": "The Tigger Movie",
                                    "total": "45,542,421"
                                },
                                {
                                    "movie_title": "Mission to Mars",
                                    "total": "60,874,615"
                                },
                                {
                                    "movie_title": "High Fidelity",
                                    "total": "27,277,055"
                                },
                                {
                                    "movie_title": "Keeping the Faith",
                                    "total": "37,036,404"
                                },
                                {
                                    "movie_title": "Dinosaur",
                                    "total": "137,748,063"
                                },
                                {
                                    "movie_title": "Shanghai Noon",
                                    "total": "56,932,305"
                                },
                                {
                                    "movie_title": "Gone in 60 Seconds",
                                    "total": "101,643,008"
                                },
                                {
                                    "movie_title": "Fantasia 2000 (Theatrical Release)",
                                    "total": "9,103,630"
                                },
                                {
                                    "movie_title": "The Kid",
                                    "total": "69,688,384"
                                },
                                {
                                    "movie_title": "Coyote Ugly",
                                    "total": "60,786,269"
                                },
                                {
                                    "movie_title": "The Crew",
                                    "total": "13,019,253"
                                },
                                {
                                    "movie_title": "Duets",
                                    "total": "4,734,235"
                                },
                                {
                                    "movie_title": "Remember the Titans",
                                    "total": "115,654,751"
                                },
                                {
                                    "movie_title": "Unbreakable",
                                    "total": "94,999,143"
                                },
                                {
                                    "movie_title": "102 Dalmatians",
                                    "total": "66,941,559"
                                },
                                {
                                    "movie_title": "The Emperor's New Groove",
                                    "total": "89,296,573"
                                },
                                {
                                    "movie_title": "O Brother, Where Art Thou?",
                                    "total": "45,506,619"
                                },
                                {
                                    "movie_title": "Double Take",
                                    "total": "29,823,162"
                                },
                                {
                                    "movie_title": "Recess: School's Out",
                                    "total": "36,696,761"
                                },
                                {
                                    "movie_title": "Just Visiting",
                                    "total": "4,777,007"
                                },
                                {
                                    "movie_title": "Pearl Harbor",
                                    "total": "198,539,855"
                                },
                                {
                                    "movie_title": "Atlantis: The Lost Empire",
                                    "total": "84,052,762"
                                },
                                {
                                    "movie_title": "crazy/beautiful",
                                    "total": "16,929,123"
                                },
                                {
                                    "movie_title": "The Princess Diaries",
                                    "total": "108,244,774"
                                },
                                {
                                    "movie_title": "Bubble Boy",
                                    "total": "5,002,310"
                                },
                                {
                                    "movie_title": "Max Keeble's Big Move",
                                    "total": "17,292,381"
                                },
                                {
                                    "movie_title": "Corky Romano",
                                    "total": "23,978,402"
                                },
                                {
                                    "movie_title": "High Heels and Low Lifes",
                                    "total": "226,792"
                                },
                                {
                                    "movie_title": "Monsters, Inc.",
                                    "total": "289,423,425"
                                },
                                {
                                    "movie_title": "Out Cold",
                                    "total": "13,906,394"
                                },
                                {
                                    "movie_title": "The Royal Tenenbaums",
                                    "total": "52,353,636"
                                },
                                {
                                    "movie_title": "Beauty and the Beast (IMAX)",
                                    "total": "25,487,028"
                                },
                                {
                                    "movie_title": "Frank McKlusky C.I.",
                                    "total": "0"
                                },
                                {
                                    "movie_title": "Snow Dogs",
                                    "total": "81,150,692"
                                },
                                {
                                    "movie_title": "The Count of Monte Cristo",
                                    "total": "54,228,104"
                                },
                                {
                                    "movie_title": "Peter Pan: Return to Neverland",
                                    "total": "48,430,258"
                                },
                                {
                                    "movie_title": "Reign of Fire",
                                    "total": "43,061,982"
                                },
                                {
                                    "movie_title": "Sorority Boys",
                                    "total": "10,198,766"
                                },
                                {
                                    "movie_title": "The Rookie",
                                    "total": "75,600,072"
                                },
                                {
                                    "movie_title": "Big Trouble",
                                    "total": "7,262,288"
                                },
                                {
                                    "movie_title": "ESPN's Ultimate X - The Movie",
                                    "total": "4,197,175"
                                },
                                {
                                    "movie_title": "Bad Company",
                                    "total": "30,157,016"
                                },
                                {
                                    "movie_title": "Lilo & Stitch",
                                    "total": "145,771,527"
                                },
                                {
                                    "movie_title": "The Country Bears",
                                    "total": "16,988,996"
                                },
                                {
                                    "movie_title": "Signs",
                                    "total": "227,965,690"
                                },
                                {
                                    "movie_title": "Sen to Chihiro no Kamikakushi",
                                    "total": "10,049,886"
                                },
                                {
                                    "movie_title": "Sweet Home Alabama",
                                    "total": "127,214,072"
                                },
                                {
                                    "movie_title": "Moonlight Mile",
                                    "total": "6,830,957"
                                },
                                {
                                    "movie_title": "Tuck Everlasting",
                                    "total": "19,161,999"
                                },
                                {
                                    "movie_title": "The Santa Clause 2",
                                    "total": "139,225,854"
                                },
                                {
                                    "movie_title": "Treasure Planet",
                                    "total": "38,120,554"
                                },
                                {
                                    "movie_title": "The Hot Chick",
                                    "total": "35,081,550"
                                },
                                {
                                    "movie_title": "25th Hour",
                                    "total": "13,084,595"
                                },
                                {
                                    "movie_title": "The Recruit",
                                    "total": "52,784,696"
                                },
                                {
                                    "movie_title": "Shanghai Knights",
                                    "total": "60,470,220"
                                },
                                {
                                    "movie_title": "The Jungle Book 2",
                                    "total": "47,901,582"
                                },
                                {
                                    "movie_title": "Bringing Down the House",
                                    "total": "132,675,402"
                                },
                                {
                                    "movie_title": "Piglet's Big Movie",
                                    "total": "23,103,423"
                                },
                                {
                                    "movie_title": "Ghosts of the Abyss",
                                    "total": "17,093,668"
                                },
                                {
                                    "movie_title": "Holes",
                                    "total": "67,383,924"
                                },
                                {
                                    "movie_title": "The Lizzie McGuire Movie",
                                    "total": "42,734,455"
                                },
                                {
                                    "movie_title": "Finding Nemo",
                                    "total": "380,529,370"
                                },
                                {
                                    "movie_title": "Pirates of the Caribbean: The Curse o…",
                                    "total": "305,411,224"
                                },
                                {
                                    "movie_title": "Freaky Friday",
                                    "total": "110,222,438"
                                },
                                {
                                    "movie_title": "Open Range",
                                    "total": "58,331,254"
                                },
                                {
                                    "movie_title": "Cold Creek Manor",
                                    "total": "21,384,035"
                                },
                                {
                                    "movie_title": "Under the Tuscan Sun",
                                    "total": "43,601,508"
                                },
                                {
                                    "movie_title": "Veronica Guerin",
                                    "total": "1,569,918"
                                },
                                {
                                    "movie_title": "Brother Bear",
                                    "total": "85,336,277"
                                },
                                {
                                    "movie_title": "The Haunted Mansion",
                                    "total": "75,817,994"
                                },
                                {
                                    "movie_title": "Calendar Girls",
                                    "total": "31,011,616"
                                },
                                {
                                    "movie_title": "Young Black Stallion",
                                    "total": "6,751,389"
                                },
                                {
                                    "movie_title": "Teacher's Pet: The Movie",
                                    "total": "6,491,969"
                                },
                                {
                                    "movie_title": "Miracle",
                                    "total": "64,378,093"
                                },
                                {
                                    "movie_title": "Confessions of a Teenage Drama Queen",
                                    "total": "29,331,068"
                                },
                                {
                                    "movie_title": "Hidalgo",
                                    "total": "67,286,731"
                                },
                                {
                                    "movie_title": "The Ladykillers",
                                    "total": "39,692,139"
                                },
                                {
                                    "movie_title": "Home on the Range",
                                    "total": "50,026,353"
                                },
                                {
                                    "movie_title": "The Alamo",
                                    "total": "22,406,362"
                                },
                                {
                                    "movie_title": "Raising Helen",
                                    "total": "37,485,528"
                                },
                                {
                                    "movie_title": "Around the World in 80 Days",
                                    "total": "24,004,159"
                                },
                                {
                                    "movie_title": "America's Heart and Soul",
                                    "total": "314,000"
                                },
                                {
                                    "movie_title": "King Arthur",
                                    "total": "51,877,963"
                                },
                                {
                                    "movie_title": "The Village",
                                    "total": "114,197,520"
                                },
                                {
                                    "movie_title": "The Princess Diaries 2: Royal Engagement",
                                    "total": "95,149,435"
                                },
                                {
                                    "movie_title": "Mr. 3000",
                                    "total": "21,800,302"
                                },
                                {
                                    "movie_title": "The Last Shot",
                                    "total": "463,730"
                                },
                                {
                                    "movie_title": "Ladder 49",
                                    "total": "74,541,707"
                                },
                                {
                                    "movie_title": "The Incredibles",
                                    "total": "261,441,092"
                                },
                                {
                                    "movie_title": "National Treasure",
                                    "total": "173,005,002"
                                },
                                {
                                    "movie_title": "The Life Aquatic with Steve Zissou",
                                    "total": "24,006,726"
                                },
                                {
                                    "movie_title": "Aliens of the Deep",
                                    "total": "8,968,684"
                                },
                                {
                                    "movie_title": "Pooh's Heffalump Movie",
                                    "total": "18,098,433"
                                },
                                {
                                    "movie_title": "The Pacifier",
                                    "total": "113,006,880"
                                },
                                {
                                    "movie_title": "Ice Princess",
                                    "total": "24,381,334"
                                },
                                {
                                    "movie_title": "A Lot Like Love",
                                    "total": "21,835,784"
                                },
                                {
                                    "movie_title": "The Hitchhiker's Guide to the Galaxy",
                                    "total": "51,019,112"
                                },
                                {
                                    "movie_title": "Hauru no ugoku shiro",
                                    "total": "4,710,455"
                                },
                                {
                                    "movie_title": "Herbie: Fully Loaded",
                                    "total": "66,010,682"
                                },
                                {
                                    "movie_title": "Dark Water",
                                    "total": "25,473,093"
                                },
                                {
                                    "movie_title": "Sky High",
                                    "total": "63,939,454"
                                },
                                {
                                    "movie_title": "Valiant",
                                    "total": "19,478,106"
                                },
                                {
                                    "movie_title": "Flightplan",
                                    "total": "89,706,988"
                                },
                                {
                                    "movie_title": "The Greatest Game Ever Played",
                                    "total": "15,331,289"
                                },
                                {
                                    "movie_title": "Shopgirl",
                                    "total": "10,284,523"
                                },
                                {
                                    "movie_title": "Chicken Little",
                                    "total": "135,386,665"
                                },
                                {
                                    "movie_title": "The Chronicles of Narnia: The Lion, t…",
                                    "total": "291,710,957"
                                },
                                {
                                    "movie_title": "Casanova",
                                    "total": "11,304,403"
                                },
                                {
                                    "movie_title": "Glory Road",
                                    "total": "42,647,449"
                                },
                                {
                                    "movie_title": "Annapolis",
                                    "total": "17,127,992"
                                },
                                {
                                    "movie_title": "Roving Mars",
                                    "total": "10,407,978"
                                },
                                {
                                    "movie_title": "Eight Below",
                                    "total": "81,612,565"
                                },
                                {
                                    "movie_title": "The Shaggy Dog",
                                    "total": "61,123,569"
                                },
                                {
                                    "movie_title": "Stay Alive",
                                    "total": "23,086,480"
                                },
                                {
                                    "movie_title": "The Wild",
                                    "total": "37,384,046"
                                },
                                {
                                    "movie_title": "Stick It",
                                    "total": "26,910,736"
                                },
                                {
                                    "movie_title": "Goal! The Dream Begins",
                                    "total": "4,283,255"
                                },
                                {
                                    "movie_title": "Cars",
                                    "total": "244,082,982"
                                },
                                {
                                    "movie_title": "Pirates of the Caribbean: Dead Man’…",
                                    "total": "423,315,812"
                                },
                                {
                                    "movie_title": "Step Up",
                                    "total": "65,328,121"
                                },
                                {
                                    "movie_title": "Invincible",
                                    "total": "57,806,952"
                                },
                                {
                                    "movie_title": "The Guardian",
                                    "total": "55,011,732"
                                },
                                {
                                    "movie_title": "The Prestige",
                                    "total": "53,089,891"
                                },
                                {
                                    "movie_title": "Tim Burton's The Nightmare Before Chr…",
                                    "total": "24,732,041"
                                },
                                {
                                    "movie_title": "The Santa Clause 3: The Escape Clause",
                                    "total": "84,500,122"
                                },
                                {
                                    "movie_title": "Déjà Vu",
                                    "total": "64,038,616"
                                },
                                {
                                    "movie_title": "Apocalypto",
                                    "total": "50,866,635"
                                },
                                {
                                    "movie_title": "Primeval",
                                    "total": "10,597,734"
                                },
                                {
                                    "movie_title": "Bridge to Terabithia",
                                    "total": "82,234,139"
                                },
                                {
                                    "movie_title": "Wild Hogs",
                                    "total": "168,213,584"
                                },
                                {
                                    "movie_title": "Meet the Robinsons",
                                    "total": "97,822,171"
                                },
                                {
                                    "movie_title": "The Lookout",
                                    "total": "4,600,585"
                                },
                                {
                                    "movie_title": "The Hoax",
                                    "total": "7,164,995"
                                },
                                {
                                    "movie_title": "The Invisible",
                                    "total": "20,568,319"
                                },
                                {
                                    "movie_title": "Pirates of the Caribbean: At World’…",
                                    "total": "309,420,425"
                                },
                                {
                                    "movie_title": "Ratatouille",
                                    "total": "206,445,654"
                                },
                                {
                                    "movie_title": "Underdog",
                                    "total": "43,760,605"
                                },
                                {
                                    "movie_title": "The Game Plan",
                                    "total": "90,648,202"
                                },
                                {
                                    "movie_title": "Dan in Real Life",
                                    "total": "47,642,963"
                                },
                                {
                                    "movie_title": "Enchanted",
                                    "total": "127,706,877"
                                },
                                {
                                    "movie_title": "National Treasure 2: Book of Secrets",
                                    "total": "219,961,501"
                                },
                                {
                                    "movie_title": "Hannah Montana/Miley Cyrus: Best of B…",
                                    "total": "65,281,781"
                                },
                                {
                                    "movie_title": "Step Up 2 the Streets",
                                    "total": "58,017,783"
                                },
                                {
                                    "movie_title": "College Road Trip",
                                    "total": "45,610,425"
                                },
                                {
                                    "movie_title": "The Chronicles of Narnia: Prince Caspian",
                                    "total": "141,621,490"
                                },
                                {
                                    "movie_title": "WALL-E",
                                    "total": "223,808,164"
                                },
                                {
                                    "movie_title": "Swing Vote",
                                    "total": "16,289,867"
                                },
                                {
                                    "movie_title": "Goal! 2: Living the Dream...",
                                    "total": "225,067"
                                },
                                {
                                    "movie_title": "Miracle at St. Anna",
                                    "total": "7,916,887"
                                },
                                {
                                    "movie_title": "Beverly Hills Chihuahua",
                                    "total": "94,514,402"
                                },
                                {
                                    "movie_title": "Morning Light",
                                    "total": "275,093"
                                },
                                {
                                    "movie_title": "High School Musical 3: Senior Year",
                                    "total": "90,559,416"
                                },
                                {
                                    "movie_title": "Bolt",
                                    "total": "114,053,759"
                                },
                                {
                                    "movie_title": "Bedtime Stories",
                                    "total": "110,101,975"
                                },
                                {
                                    "movie_title": "Confessions of a Shopaholic",
                                    "total": "44,277,350"
                                },
                                {
                                    "movie_title": "Jonas Brothers: The 3D Concert Experi…",
                                    "total": "38,174,685"
                                },
                                {
                                    "movie_title": "Race to Witch Mountain",
                                    "total": "67,172,594"
                                },
                                {
                                    "movie_title": "Hannah Montana the Movie",
                                    "total": "79,576,189"
                                },
                                {
                                    "movie_title": "Earth",
                                    "total": "32,011,576"
                                },
                                {
                                    "movie_title": "Up",
                                    "total": "293,004,164"
                                },
                                {
                                    "movie_title": "The Proposal",
                                    "total": "163,958,031"
                                },
                                {
                                    "movie_title": "G-Force",
                                    "total": "119,436,770"
                                },
                                {
                                    "movie_title": "Gake no ue no Ponyo",
                                    "total": "15,090,399"
                                },
                                {
                                    "movie_title": "X Games 3D: The Movie",
                                    "total": "1,391,434"
                                },
                                {
                                    "movie_title": "Walt and El Grupo",
                                    "total": "20,521"
                                },
                                {
                                    "movie_title": "Surrogates",
                                    "total": "38,577,772"
                                },
                                {
                                    "movie_title": "Toy Story 3D Double Feature",
                                    "total": "30,702,446"
                                },
                                {
                                    "movie_title": "Disney's A Christmas Carol",
                                    "total": "137,855,863"
                                },
                                {
                                    "movie_title": "The Princess and the Frog",
                                    "total": "104,400,899"
                                },
                                {
                                    "movie_title": "Old Dogs",
                                    "total": "49,492,060"
                                },
                                {
                                    "movie_title": "When in Rome",
                                    "total": "32,680,633"
                                },
                                {
                                    "movie_title": "Alice in Wonderland",
                                    "total": "334,191,110"
                                },
                                {
                                    "movie_title": "Waking Sleeping Beauty",
                                    "total": "80,741"
                                },
                                {
                                    "movie_title": "The Last Song",
                                    "total": "62,950,384"
                                },
                                {
                                    "movie_title": "Oceans",
                                    "total": "19,422,319"
                                },
                                {
                                    "movie_title": "Prince of Persia: Sands of Time",
                                    "total": "90,759,676"
                                },
                                {
                                    "movie_title": "Toy Story 3",
                                    "total": "415,004,880"
                                },
                                {
                                    "movie_title": "The Sorcerer's Apprentice",
                                    "total": "63,150,991"
                                },
                                {
                                    "movie_title": "Step Up 3D",
                                    "total": "42,400,223"
                                },
                                {
                                    "movie_title": "Gedo Senki (Tales from Earthsea)",
                                    "total": "48,658"
                                },
                                {
                                    "movie_title": "You Again",
                                    "total": "25,702,053"
                                },
                                {
                                    "movie_title": "Secretariat",
                                    "total": "59,699,513"
                                },
                                {
                                    "movie_title": "Tangled",
                                    "total": "200,821,936"
                                },
                                {
                                    "movie_title": "Tron: Legacy",
                                    "total": "172,062,763"
                                },
                                {
                                    "movie_title": "Gnomeo and Juliet",
                                    "total": "99,967,670"
                                },
                                {
                                    "movie_title": "I am Number Four",
                                    "total": "55,100,437"
                                },
                                {
                                    "movie_title": "Mars Needs Moms",
                                    "total": "21,392,758"
                                },
                                {
                                    "movie_title": "African Cats",
                                    "total": "15,428,747"
                                },
                                {
                                    "movie_title": "Zokkomon",
                                    "total": "2,815"
                                },
                                {
                                    "movie_title": "Prom",
                                    "total": "10,130,219"
                                },
                                {
                                    "movie_title": "Pirates of the Caribbean: On Stranger…",
                                    "total": "241,063,875"
                                },
                                {
                                    "movie_title": "Cars 2",
                                    "total": "191,450,875"
                                },
                                {
                                    "movie_title": "Winnie the Pooh",
                                    "total": "26,692,846"
                                },
                                {
                                    "movie_title": "The Help",
                                    "total": "169,705,587"
                                },
                                {
                                    "movie_title": "Fright Night",
                                    "total": "18,298,649"
                                },
                                {
                                    "movie_title": "Real Steel",
                                    "total": "85,463,309"
                                },
                                {
                                    "movie_title": "The Muppets",
                                    "total": "88,625,922"
                                },
                                {
                                    "movie_title": "War Horse",
                                    "total": "79,883,359"
                                },
                                {
                                    "movie_title": "The Secret World of Arietty",
                                    "total": "19,192,510"
                                },
                                {
                                    "movie_title": "John Carter",
                                    "total": "73,058,679"
                                },
                                {
                                    "movie_title": "Chimpanzee",
                                    "total": "28,965,459"
                                },
                                {
                                    "movie_title": "The Avengers",
                                    "total": "623,279,547"
                                },
                                {
                                    "movie_title": "Brave",
                                    "total": "237,282,182"
                                },
                                {
                                    "movie_title": "People Like Us",
                                    "total": "12,431,792"
                                },
                                {
                                    "movie_title": "The Odd Life of Timothy Green",
                                    "total": "51,853,450"
                                },
                                {
                                    "movie_title": "Frankenweenie",
                                    "total": "35,287,788"
                                },
                                {
                                    "movie_title": "Wreck-It Ralph",
                                    "total": "189,412,677"
                                },
                                {
                                    "movie_title": "Lincoln",
                                    "total": "182,207,973"
                                },
                                {
                                    "movie_title": "Oz the Great and Powerful",
                                    "total": "234,770,996"
                                },
                                {
                                    "movie_title": "Iron Man 3",
                                    "total": "408,992,272"
                                },
                                {
                                    "movie_title": "Monsters University",
                                    "total": "268,488,329"
                                },
                                {
                                    "movie_title": "The Lone Ranger",
                                    "total": "89,302,115"
                                },
                                {
                                    "movie_title": "Disney Planes",
                                    "total": "90,282,580"
                                },
                                {
                                    "movie_title": "The Fifth Estate",
                                    "total": "3,254,172"
                                },
                                {
                                    "movie_title": "Thor: The Dark World",
                                    "total": "206,362,140"
                                },
                                {
                                    "movie_title": "Kaze Tachinu",
                                    "total": "5,201,879"
                                },
                                {
                                    "movie_title": "Frozen",
                                    "total": "400,738,009"
                                },
                                {
                                    "movie_title": "Delivery Man",
                                    "total": "30,659,817"
                                },
                                {
                                    "movie_title": "Saving Mr. Banks",
                                    "total": "83,299,761"
                                },
                                {
                                    "movie_title": "Need for Speed",
                                    "total": "43,568,507"
                                },
                                {
                                    "movie_title": "Muppets Most Wanted",
                                    "total": "51,178,893"
                                },
                                {
                                    "movie_title": "Captain America: The Winter Soldier",
                                    "total": "259,746,958"
                                },
                                {
                                    "movie_title": "Bears",
                                    "total": "17,780,194"
                                },
                                {
                                    "movie_title": "Million Dollar Arm",
                                    "total": "36,447,959"
                                },
                                {
                                    "movie_title": "Maleficent",
                                    "total": "241,407,328"
                                },
                                {
                                    "movie_title": "Planes: Fire and Rescue",
                                    "total": "59,157,732"
                                },
                                {
                                    "movie_title": "Guardians of the Galaxy",
                                    "total": "333,172,112"
                                },
                                {
                                    "movie_title": "The Hundred-Foot Journey",
                                    "total": "54,235,441"
                                },
                                {
                                    "movie_title": "Alexander and the Terrible, Horrible,…",
                                    "total": "66,954,149"
                                },
                                {
                                    "movie_title": "Big Hero 6",
                                    "total": "222,527,828"
                                },
                                {
                                    "movie_title": "Into the Woods",
                                    "total": "128,002,372"
                                },
                                {
                                    "movie_title": "Strange Magic",
                                    "total": "12,429,583"
                                },
                                {
                                    "movie_title": "McFarland, USA",
                                    "total": "44,480,275"
                                },
                                {
                                    "movie_title": "Cinderella",
                                    "total": "201,151,353"
                                },
                                {
                                    "movie_title": "Monkey Kingdom",
                                    "total": "16,432,322"
                                },
                                {
                                    "movie_title": "Avengers: Age of Ultron",
                                    "total": "459,005,868"
                                },
                                {
                                    "movie_title": "Tomorrowland",
                                    "total": "93,436,322"
                                },
                                {
                                    "movie_title": "Inside Out",
                                    "total": "356,461,711"
                                },
                                {
                                    "movie_title": "Ant-Man",
                                    "total": "180,202,163"
                                },
                                {
                                    "movie_title": "Bridge of Spies",
                                    "total": "72,313,754"
                                },
                                {
                                    "movie_title": "The Good Dinosaur",
                                    "total": "123,087,120"
                                },
                                {
                                    "movie_title": "Star Wars Ep. VII: The Force Awakens",
                                    "total": "936,662,225"
                                },
                                {
                                    "movie_title": "The Finest Hours",
                                    "total": "27,569,558"
                                },
                                {
                                    "movie_title": "Zootopia",
                                    "total": "341,268,248"
                                },
                                {
                                    "movie_title": "The Jungle Book",
                                    "total": "364,001,123"
                                },
                                {
                                    "movie_title": "A Beautiful Planet",
                                    "total": "7,895,708"
                                },
                                {
                                    "movie_title": "Captain America: Civil War",
                                    "total": "408,084,349"
                                },
                                {
                                    "movie_title": "Alice Through the Looking Glass",
                                    "total": "77,042,381"
                                },
                                {
                                    "movie_title": "Finding Dory",
                                    "total": "486,295,561"
                                },
                                {
                                    "movie_title": "The BFG",
                                    "total": "55,483,770"
                                },
                                {
                                    "movie_title": "Pete’s Dragon",
                                    "total": "76,233,151"
                                },
                                {
                                    "movie_title": "The Light Between Oceans",
                                    "total": "12,545,979"
                                },
                                {
                                    "movie_title": "Queen of Katwe",
                                    "total": "8,874,389"
                                },
                                {
                                    "movie_title": "Doctor Strange",
                                    "total": "232,532,923"
                                },
                                {
                                    "movie_title": "Moana",
                                    "total": "246,082,029"
                                },
                                {
                                    "movie_title": "Rogue One: A Star Wars Story",
                                    "total": "529,483,936"
                                }
                            ]
                        },
                        "text/html": [
                            "<table>",
                            "<tr><th>movie_title</th><th>total</th><th>total</th></tr>",
                            "<tr><td>Snow White and the Seven Dwarfs</td><td>184,925,485</td><td>184,925,485</td></tr>",
                            "<tr><td>Pinocchio</td><td>84,300,000</td><td>84,300,000</td></tr>",
                            "<tr><td>Fantasia</td><td>83,320,000</td><td>83,320,000</td></tr>",
                            "<tr><td>Song of the South</td><td>65,000,000</td><td>65,000,000</td></tr>",
                            "<tr><td>Cinderella</td><td>85,000,000</td><td>85,000,000</td></tr>",
                            "<tr><td>20,000 Leagues Under the Sea</td><td>28,200,000</td><td>28,200,000</td></tr>",
                            "<tr><td>Lady and the Tramp</td><td>93,600,000</td><td>93,600,000</td></tr>",
                            "<tr><td>Sleeping Beauty</td><td>9,464,608</td><td>9,464,608</td></tr>",
                            "<tr><td>101 Dalmatians</td><td>153,000,000</td><td>153,000,000</td></tr>",
                            "<tr><td>The Absent Minded Professor</td><td>25,381,407</td><td>25,381,407</td></tr>",
                            "<tr><td>Babes in Toyland</td><td>10,218,316</td><td>10,218,316</td></tr>",
                            "<tr><td>Bon Voyage!</td><td>9,230,769</td><td>9,230,769</td></tr>",
                            "<tr><td>The Sword in the Stone</td><td>22,182,353</td><td>22,182,353</td></tr>",
                            "<tr><td>The Jungle Book</td><td>141,843,000</td><td>141,843,000</td></tr>",
                            "<tr><td>Blackbeard&#39;s Ghost</td><td>21,540,050</td><td>21,540,050</td></tr>",
                            "<tr><td>The Aristocats</td><td>55,675,257</td><td>55,675,257</td></tr>",
                            "<tr><td>The Boatniks</td><td>18,607,492</td><td>18,607,492</td></tr>",
                            "<tr><td>Bedknobs and Broomsticks</td><td>17,871,174</td><td>17,871,174</td></tr>",
                            "<tr><td>The Apple Dumpling Gang</td><td>31,916,500</td><td>31,916,500</td></tr>",
                            "<tr><td>Freaky Friday</td><td>25,942,000</td><td>25,942,000</td></tr>",
                            "<tr><td>The Many Adventures of Winnie the Pooh</td><td>0</td><td>0</td></tr>",
                            "<tr><td>The Rescuers</td><td>48,775,599</td><td>48,775,599</td></tr>",
                            "<tr><td>Herbie Goes to Monte Carlo</td><td>28,000,000</td><td>28,000,000</td></tr>",
                            "<tr><td>The Black Hole</td><td>35,841,901</td><td>35,841,901</td></tr>",
                            "<tr><td>Midnight Madness</td><td>2,900,000</td><td>2,900,000</td></tr>",
                            "<tr><td>The Last Flight of Noah’s Ark</td><td>11,000,000</td><td>11,000,000</td></tr>",
                            "<tr><td>The Devil and Max Devlin</td><td>16,000,000</td><td>16,000,000</td></tr>",
                            "<tr><td>Amy</td><td>0</td><td>0</td></tr>",
                            "<tr><td>The Fox and the Hound</td><td>43,899,231</td><td>43,899,231</td></tr>",
                            "<tr><td>Condorman</td><td>0</td><td>0</td></tr>",
                            "<tr><td>Night Crossing</td><td>4,500,000</td><td>4,500,000</td></tr>",
                            "<tr><td>Tron</td><td>26,918,576</td><td>26,918,576</td></tr>",
                            "<tr><td>Tex</td><td>7,199,408</td><td>7,199,408</td></tr>",
                            "<tr><td>Trenchcoat</td><td>4,304,286</td><td>4,304,286</td></tr>",
                            "<tr><td>Something Wicked This Way Comes</td><td>5,656,087</td><td>5,656,087</td></tr>",
                            "<tr><td>Never Cry Wolf</td><td>27,668,764</td><td>27,668,764</td></tr>",
                            "<tr><td>Running Brave</td><td>1,204,595</td><td>1,204,595</td></tr>",
                            "<tr><td>Splash</td><td>62,599,495</td><td>62,599,495</td></tr>",
                            "<tr><td>Country</td><td>8,400,000</td><td>8,400,000</td></tr>",
                            "<tr><td>Baby: Secret of the Lost Legend</td><td>14,276,095</td><td>14,276,095</td></tr>",
                            "<tr><td>Return to Oz</td><td>10,618,813</td><td>10,618,813</td></tr>",
                            "<tr><td>The Black Cauldron</td><td>21,288,692</td><td>21,288,692</td></tr>",
                            "<tr><td>My Science Project</td><td>4,100,000</td><td>4,100,000</td></tr>",
                            "<tr><td>The Journey of Natty Gann</td><td>9,468,512</td><td>9,468,512</td></tr>",
                            "<tr><td>One Magic Christmas</td><td>13,229,514</td><td>13,229,514</td></tr>",
                            "<tr><td>Down and Out in Beverly Hills</td><td>62,134,225</td><td>62,134,225</td></tr>",
                            "<tr><td>Off Beat</td><td>4,842,778</td><td>4,842,778</td></tr>",
                            "<tr><td>Ruthless People</td><td>71,624,879</td><td>71,624,879</td></tr>",
                            "<tr><td>The Great Mouse Detective</td><td>23,605,534</td><td>23,605,534</td></tr>",
                            "<tr><td>Flight of the Navigator</td><td>18,564,613</td><td>18,564,613</td></tr>",
                            "<tr><td>Tough Guys</td><td>21,458,229</td><td>21,458,229</td></tr>",
                            "<tr><td>The Color of Money</td><td>52,293,000</td><td>52,293,000</td></tr>",
                            "<tr><td>Outrageous Fortune</td><td>52,864,741</td><td>52,864,741</td></tr>",
                            "<tr><td>Tin Men</td><td>25,411,386</td><td>25,411,386</td></tr>",
                            "<tr><td>Ernest Goes to Camp</td><td>23,509,382</td><td>23,509,382</td></tr>",
                            "<tr><td>Benji the Hunted</td><td>15,212,539</td><td>15,212,539</td></tr>",
                            "<tr><td>Adventures in Babysitting</td><td>33,790,923</td><td>33,790,923</td></tr>",
                            "<tr><td>Stakeout</td><td>65,673,233</td><td>65,673,233</td></tr>",
                            "<tr><td>Can&#39;t Buy Me Love</td><td>31,623,833</td><td>31,623,833</td></tr>",
                            "<tr><td>Hello Again</td><td>20,419,446</td><td>20,419,446</td></tr>",
                            "<tr><td>3 Men and a Baby</td><td>167,780,960</td><td>167,780,960</td></tr>",
                            "<tr><td>Good Morning Vietnam</td><td>123,922,370</td><td>123,922,370</td></tr>",
                            "<tr><td>Shoot to Kill</td><td>29,300,000</td><td>29,300,000</td></tr>",
                            "<tr><td>D.O.A.</td><td>12,706,478</td><td>12,706,478</td></tr>",
                            "<tr><td>Return to Snowy River</td><td>13,687,027</td><td>13,687,027</td></tr>",
                            "<tr><td>Big Business</td><td>40,150,487</td><td>40,150,487</td></tr>",
                            "<tr><td>Who Framed Roger Rabbit?</td><td>154,112,492</td><td>154,112,492</td></tr>",
                            "<tr><td>Cocktail</td><td>78,222,753</td><td>78,222,753</td></tr>",
                            "<tr><td>The Rescue</td><td>5,855,392</td><td>5,855,392</td></tr>",
                            "<tr><td>Heartbreak Hotel</td><td>5,509,417</td><td>5,509,417</td></tr>",
                            "<tr><td>The Good Mother</td><td>4,764,606</td><td>4,764,606</td></tr>",
                            "<tr><td>Ernest Saves Christmas</td><td>28,202,109</td><td>28,202,109</td></tr>",
                            "<tr><td>Oliver &amp; Company</td><td>49,576,671</td><td>49,576,671</td></tr>",
                            "<tr><td>Beaches</td><td>57,041,866</td><td>57,041,866</td></tr>",
                            "<tr><td>Three Fugitives</td><td>40,590,000</td><td>40,590,000</td></tr>",
                            "<tr><td>New York Stories</td><td>10,763,469</td><td>10,763,469</td></tr>",
                            "<tr><td>Disorganized Crime</td><td>7,210,149</td><td>7,210,149</td></tr>",
                            "<tr><td>Dead Poets Society</td><td>95,860,116</td><td>95,860,116</td></tr>",
                            "<tr><td>Honey, I Shrunk the Kids</td><td>130,724,172</td><td>130,724,172</td></tr>",
                            "<tr><td>Turner &amp; Hooch</td><td>71,079,915</td><td>71,079,915</td></tr>",
                            "<tr><td>Cheetah</td><td>7,882,250</td><td>7,882,250</td></tr>",
                            "<tr><td>An Innocent Man</td><td>19,397,847</td><td>19,397,847</td></tr>",
                            "<tr><td>Gross Anatomy</td><td>11,346,186</td><td>11,346,186</td></tr>",
                            "<tr><td>The Little Mermaid</td><td>111,543,479</td><td>111,543,479</td></tr>",
                            "<tr><td>Blaze</td><td>19,049,727</td><td>19,049,727</td></tr>",
                            "<tr><td>Stella</td><td>20,062,347</td><td>20,062,347</td></tr>",
                            "<tr><td>Where the Heart Is</td><td>1,106,475</td><td>1,106,475</td></tr>",
                            "<tr><td>Pretty Woman</td><td>178,406,268</td><td>178,406,268</td></tr>",
                            "<tr><td>Ernest Goes to Jail</td><td>25,029,569</td><td>25,029,569</td></tr>",
                            "<tr><td>Spaced Invaders</td><td>15,000,000</td><td>15,000,000</td></tr>",
                            "<tr><td>Fire Birds</td><td>14,760,451</td><td>14,760,451</td></tr>",
                            "<tr><td>Dick Tracy</td><td>103,738,726</td><td>103,738,726</td></tr>",
                            "<tr><td>Betsy&#39;s Wedding</td><td>19,740,070</td><td>19,740,070</td></tr>",
                            "<tr><td>Arachnophobia</td><td>53,208,180</td><td>53,208,180</td></tr>",
                            "<tr><td>DuckTales: The Movie - Treasure of th…</td><td>18,075,331</td><td>18,075,331</td></tr>",
                            "<tr><td>Taking Care of Business</td><td>20,005,435</td><td>20,005,435</td></tr>",
                            "<tr><td>Mr. Destiny</td><td>15,379,253</td><td>15,379,253</td></tr>",
                            "<tr><td>The Rescuers Down Under</td><td>27,931,461</td><td>27,931,461</td></tr>",
                            "<tr><td>3 Men and a Little Lady</td><td>71,609,321</td><td>71,609,321</td></tr>",
                            "<tr><td>Green Card</td><td>29,804,169</td><td>29,804,169</td></tr>",
                            "<tr><td>White Fang</td><td>34,729,091</td><td>34,729,091</td></tr>",
                            "<tr><td>Scenes from a Mall</td><td>9,563,393</td><td>9,563,393</td></tr>",
                            "<tr><td>Haakon Haakonsen</td><td>15,024,232</td><td>15,024,232</td></tr>",
                            "<tr><td>The Marrying Man</td><td>12,454,768</td><td>12,454,768</td></tr>",
                            "<tr><td>Oscar</td><td>23,562,716</td><td>23,562,716</td></tr>",
                            "<tr><td>One Good Cop</td><td>11,276,846</td><td>11,276,846</td></tr>",
                            "<tr><td>What About Bob?</td><td>63,710,000</td><td>63,710,000</td></tr>",
                            "<tr><td>Wild Hearts Can&#39;t Be Broken</td><td>7,300,000</td><td>7,300,000</td></tr>",
                            "<tr><td>The Rocketeer</td><td>46,573,027</td><td>46,573,027</td></tr>",
                            "<tr><td>The Doctor</td><td>37,497,480</td><td>37,497,480</td></tr>",
                            "<tr><td>Paradise</td><td>18,634,643</td><td>18,634,643</td></tr>",
                            "<tr><td>Deceived</td><td>28,738,096</td><td>28,738,096</td></tr>",
                            "<tr><td>Ernest Scared Stupid</td><td>14,143,280</td><td>14,143,280</td></tr>",
                            "<tr><td>Billy Bathgate</td><td>15,565,363</td><td>15,565,363</td></tr>",
                            "<tr><td>Beauty and the Beast</td><td>218,951,625</td><td>218,951,625</td></tr>",
                            "<tr><td>Father of the Bride</td><td>89,325,780</td><td>89,325,780</td></tr>",
                            "<tr><td>The Hand That Rocks the Cradle</td><td>88,036,683</td><td>88,036,683</td></tr>",
                            "<tr><td>Medicine Man</td><td>44,948,240</td><td>44,948,240</td></tr>",
                            "<tr><td>Blame it on the Bellboy</td><td>2,891,055</td><td>2,891,055</td></tr>",
                            "<tr><td>Noises Off...</td><td>2,280,148</td><td>2,280,148</td></tr>",
                            "<tr><td>Straight Talk</td><td>21,202,099</td><td>21,202,099</td></tr>",
                            "<tr><td>Newsies</td><td>2,706,352</td><td>2,706,352</td></tr>",
                            "<tr><td>Passed Away</td><td>4,030,793</td><td>4,030,793</td></tr>",
                            "<tr><td>Encino Man</td><td>40,057,130</td><td>40,057,130</td></tr>",
                            "<tr><td>Sister Act</td><td>139,605,150</td><td>139,605,150</td></tr>",
                            "<tr><td>Honey I Blew Up the Kid</td><td>58,662,452</td><td>58,662,452</td></tr>",
                            "<tr><td>A Stranger Among Us</td><td>12,282,994</td><td>12,282,994</td></tr>",
                            "<tr><td>3 Ninjas</td><td>29,028,000</td><td>29,028,000</td></tr>",
                            "<tr><td>A Gun in Betty Lou&#39;s Handbag</td><td>3,591,460</td><td>3,591,460</td></tr>",
                            "<tr><td>Captain Ron</td><td>22,518,097</td><td>22,518,097</td></tr>",
                            "<tr><td>Sarafina!</td><td>7,306,242</td><td>7,306,242</td></tr>",
                            "<tr><td>Innocent Blood</td><td>4,877,567</td><td>4,877,567</td></tr>",
                            "<tr><td>The Mighty Ducks</td><td>50,752,337</td><td>50,752,337</td></tr>",
                            "<tr><td>1492: Conquest of Paradise</td><td>7,099,531</td><td>7,099,531</td></tr>",
                            "<tr><td>Consenting Adults</td><td>21,591,728</td><td>21,591,728</td></tr>",
                            "<tr><td>Aladdin</td><td>217,350,219</td><td>217,350,219</td></tr>",
                            "<tr><td>The Distinguished Gentleman</td><td>46,434,570</td><td>46,434,570</td></tr>",
                            "<tr><td>The Muppet Christmas Carol</td><td>27,281,507</td><td>27,281,507</td></tr>",
                            "<tr><td>Alive</td><td>36,299,670</td><td>36,299,670</td></tr>",
                            "<tr><td>Aspen Extreme</td><td>7,843,388</td><td>7,843,388</td></tr>",
                            "<tr><td>Homeward Bound: The Incredible Journey</td><td>41,833,324</td><td>41,833,324</td></tr>",
                            "<tr><td>The Cemetery Club</td><td>5,583,621</td><td>5,583,621</td></tr>",
                            "<tr><td>Swing Kids</td><td>5,632,086</td><td>5,632,086</td></tr>",
                            "<tr><td>A Far Off Place</td><td>12,890,752</td><td>12,890,752</td></tr>",
                            "<tr><td>Born Yesterday</td><td>17,760,754</td><td>17,760,754</td></tr>",
                            "<tr><td>The Adventures of Huck Finn</td><td>24,103,594</td><td>24,103,594</td></tr>",
                            "<tr><td>Bound by Honor</td><td>4,496,583</td><td>4,496,583</td></tr>",
                            "<tr><td>Indian Summer</td><td>14,717,851</td><td>14,717,851</td></tr>",
                            "<tr><td>Super Mario Bros.</td><td>20,844,907</td><td>20,844,907</td></tr>",
                            "<tr><td>Guilty as Sin</td><td>22,622,537</td><td>22,622,537</td></tr>",
                            "<tr><td>Life With Mikey</td><td>12,349,549</td><td>12,349,549</td></tr>",
                            "<tr><td>What&#39;s Love Got to Do With It</td><td>39,100,956</td><td>39,100,956</td></tr>",
                            "<tr><td>Son in Law</td><td>25,989,889</td><td>25,989,889</td></tr>",
                            "<tr><td>Hocus Pocus</td><td>39,360,491</td><td>39,360,491</td></tr>",
                            "<tr><td>Another Stakeout</td><td>20,107,504</td><td>20,107,504</td></tr>",
                            "<tr><td>My Boyfriend&#39;s Back</td><td>3,218,882</td><td>3,218,882</td></tr>",
                            "<tr><td>Father Hood</td><td>3,268,203</td><td>3,268,203</td></tr>",
                            "<tr><td>The Joy Luck Club</td><td>32,790,064</td><td>32,790,064</td></tr>",
                            "<tr><td>Money for Nothing</td><td>1,044,824</td><td>1,044,824</td></tr>",
                            "<tr><td>The Program</td><td>23,042,200</td><td>23,042,200</td></tr>",
                            "<tr><td>Cool Runnings</td><td>68,856,263</td><td>68,856,263</td></tr>",
                            "<tr><td>The Nightmare Before Christmas</td><td>50,408,318</td><td>50,408,318</td></tr>",
                            "<tr><td>The Three Musketeers</td><td>53,661,805</td><td>53,661,805</td></tr>",
                            "<tr><td>Sister Act 2 Back in the Habit</td><td>57,319,029</td><td>57,319,029</td></tr>",
                            "<tr><td>Tombstone</td><td>56,505,065</td><td>56,505,065</td></tr>",
                            "<tr><td>The Air Up There</td><td>20,782,439</td><td>20,782,439</td></tr>",
                            "<tr><td>Cabin Boy</td><td>3,469,493</td><td>3,469,493</td></tr>",
                            "<tr><td>Iron Will</td><td>20,623,071</td><td>20,623,071</td></tr>",
                            "<tr><td>Red Rock West</td><td>2,502,551</td><td>2,502,551</td></tr>",
                            "<tr><td>Blank Check</td><td>30,573,770</td><td>30,573,770</td></tr>",
                            "<tr><td>Angie</td><td>9,252,349</td><td>9,252,349</td></tr>",
                            "<tr><td>The Ref</td><td>11,325,885</td><td>11,325,885</td></tr>",
                            "<tr><td>D2: The Mighty Ducks</td><td>45,604,206</td><td>45,604,206</td></tr>",
                            "<tr><td>Holy Matrimony</td><td>713,234</td><td>713,234</td></tr>",
                            "<tr><td>White Fang 2: Myth of the White Wolf</td><td>8,752,399</td><td>8,752,399</td></tr>",
                            "<tr><td>The Inkwell</td><td>8,864,699</td><td>8,864,699</td></tr>",
                            "<tr><td>When a Man Loves a Woman</td><td>50,021,959</td><td>50,021,959</td></tr>",
                            "<tr><td>3 Ninjas Kick Back</td><td>11,744,960</td><td>11,744,960</td></tr>",
                            "<tr><td>Renaissance Man</td><td>24,172,899</td><td>24,172,899</td></tr>",
                            "<tr><td>The Lion King</td><td>422,780,140</td><td>422,780,140</td></tr>",
                            "<tr><td>I Love Trouble</td><td>30,806,194</td><td>30,806,194</td></tr>",
                            "<tr><td>Angels in the Outfield</td><td>50,236,831</td><td>50,236,831</td></tr>",
                            "<tr><td>In the Army Now</td><td>28,881,266</td><td>28,881,266</td></tr>",
                            "<tr><td>Color of Night</td><td>19,750,470</td><td>19,750,470</td></tr>",
                            "<tr><td>Camp Nowhere</td><td>10,442,641</td><td>10,442,641</td></tr>",
                            "<tr><td>It&#39;s Pat</td><td>60,822</td><td>60,822</td></tr>",
                            "<tr><td>A Simple Twist of Fate</td><td>3,404,935</td><td>3,404,935</td></tr>",
                            "<tr><td>Quiz Show</td><td>24,787,282</td><td>24,787,282</td></tr>",
                            "<tr><td>Terminal Velocity</td><td>16,478,900</td><td>16,478,900</td></tr>",
                            "<tr><td>Ed Wood</td><td>5,828,466</td><td>5,828,466</td></tr>",
                            "<tr><td>The Puppet Masters</td><td>8,579,626</td><td>8,579,626</td></tr>",
                            "<tr><td>Squanto: A Warrior&#39;s Tale</td><td>3,319,344</td><td>3,319,344</td></tr>",
                            "<tr><td>The Santa Clause</td><td>144,833,357</td><td>144,833,357</td></tr>",
                            "<tr><td>A Low Down Dirty Shame</td><td>29,317,886</td><td>29,317,886</td></tr>",
                            "<tr><td>The Jungle Book</td><td>44,342,956</td><td>44,342,956</td></tr>",
                            "<tr><td>Houseguest</td><td>26,325,256</td><td>26,325,256</td></tr>",
                            "<tr><td>Bad Company</td><td>3,523,909</td><td>3,523,909</td></tr>",
                            "<tr><td>Miami Rhapsody</td><td>5,086,578</td><td>5,086,578</td></tr>",
                            "<tr><td>The Jerky Boys</td><td>7,555,256</td><td>7,555,256</td></tr>",
                            "<tr><td>Heavy Weights</td><td>17,671,310</td><td>17,671,310</td></tr>",
                            "<tr><td>Man of the House</td><td>40,029,009</td><td>40,029,009</td></tr>",
                            "<tr><td>Roommates</td><td>12,076,989</td><td>12,076,989</td></tr>",
                            "<tr><td>Tall Tale</td><td>8,247,627</td><td>8,247,627</td></tr>",
                            "<tr><td>A Pyromaniac&#39;s Love Story</td><td>468,240</td><td>468,240</td></tr>",
                            "<tr><td>Jefferson in Paris</td><td>2,461,628</td><td>2,461,628</td></tr>",
                            "<tr><td>Funny Bones</td><td>529,135</td><td>529,135</td></tr>",
                            "<tr><td>A Goofy Movie</td><td>35,336,439</td><td>35,336,439</td></tr>",
                            "<tr><td>While You Were Sleeping</td><td>81,057,016</td><td>81,057,016</td></tr>",
                            "<tr><td>Crimson Tide</td><td>91,387,195</td><td>91,387,195</td></tr>",
                            "<tr><td>Mad Love</td><td>15,446,532</td><td>15,446,532</td></tr>",
                            "<tr><td>Pocahontas</td><td>141,579,773</td><td>141,579,773</td></tr>",
                            "<tr><td>Judge Dredd</td><td>34,687,912</td><td>34,687,912</td></tr>",
                            "<tr><td>Operation Dumbo Drop</td><td>24,670,346</td><td>24,670,346</td></tr>",
                            "<tr><td>Dangerous Minds</td><td>84,919,401</td><td>84,919,401</td></tr>",
                            "<tr><td>A Kid in King Arthur&#39;s Court</td><td>13,406,717</td><td>13,406,717</td></tr>",
                            "<tr><td>The Tie That Binds</td><td>5,762,795</td><td>5,762,795</td></tr>",
                            "<tr><td>Unstrung Heroes</td><td>7,929,000</td><td>7,929,000</td></tr>",
                            "<tr><td>The Big Green</td><td>17,736,619</td><td>17,736,619</td></tr>",
                            "<tr><td>Dead Presidents</td><td>24,120,194</td><td>24,120,194</td></tr>",
                            "<tr><td>The Scarlet Letter</td><td>10,359,006</td><td>10,359,006</td></tr>",
                            "<tr><td>Feast of July</td><td>293,274</td><td>293,274</td></tr>",
                            "<tr><td>Powder</td><td>30,833,914</td><td>30,833,914</td></tr>",
                            "<tr><td>Toy Story</td><td>191,796,233</td><td>191,796,233</td></tr>",
                            "<tr><td>Father of the Bride Part II</td><td>76,578,911</td><td>76,578,911</td></tr>",
                            "<tr><td>Nixon</td><td>13,668,249</td><td>13,668,249</td></tr>",
                            "<tr><td>Tom and Huck</td><td>23,837,227</td><td>23,837,227</td></tr>",
                            "<tr><td>Mr. Holland&#39;s Opus</td><td>82,582,604</td><td>82,582,604</td></tr>",
                            "<tr><td>White Squall</td><td>10,229,300</td><td>10,229,300</td></tr>",
                            "<tr><td>Muppet Treasure Island</td><td>34,327,391</td><td>34,327,391</td></tr>",
                            "<tr><td>Mr. Wrong</td><td>12,805,071</td><td>12,805,071</td></tr>",
                            "<tr><td>Before and After</td><td>8,642,118</td><td>8,642,118</td></tr>",
                            "<tr><td>Up Close &amp; Personal</td><td>51,045,801</td><td>51,045,801</td></tr>",
                            "<tr><td>Homeward Bound II: Lost in San Franc…</td><td>32,709,423</td><td>32,709,423</td></tr>",
                            "<tr><td>Two Much</td><td>1,078,555</td><td>1,078,555</td></tr>",
                            "<tr><td>Un indien dans la ville</td><td>1,029,731</td><td>1,029,731</td></tr>",
                            "<tr><td>James and the Giant Peach</td><td>28,921,264</td><td>28,921,264</td></tr>",
                            "<tr><td>Celtic Pride</td><td>9,240,378</td><td>9,240,378</td></tr>",
                            "<tr><td>Last Dance</td><td>5,857,534</td><td>5,857,534</td></tr>",
                            "<tr><td>Boys</td><td>21,930,418</td><td>21,930,418</td></tr>",
                            "<tr><td>Spy Hard</td><td>26,936,265</td><td>26,936,265</td></tr>",
                            "<tr><td>Eddie</td><td>31,369,401</td><td>31,369,401</td></tr>",
                            "<tr><td>The Rock</td><td>134,069,511</td><td>134,069,511</td></tr>",
                            "<tr><td>The Hunchback of Notre Dame</td><td>100,138,851</td><td>100,138,851</td></tr>",
                            "<tr><td>Phenomenon</td><td>104,636,382</td><td>104,636,382</td></tr>",
                            "<tr><td>Kazaam</td><td>18,880,508</td><td>18,880,508</td></tr>",
                            "<tr><td>Jack</td><td>58,617,334</td><td>58,617,334</td></tr>",
                            "<tr><td>First Kid</td><td>26,465,920</td><td>26,465,920</td></tr>",
                            "<tr><td>The Rich Man&#39;s Wife</td><td>8,538,318</td><td>8,538,318</td></tr>",
                            "<tr><td>D3: The Mighty Ducks</td><td>22,936,273</td><td>22,936,273</td></tr>",
                            "<tr><td>The Associate</td><td>12,772,657</td><td>12,772,657</td></tr>",
                            "<tr><td>Ransom</td><td>136,492,681</td><td>136,492,681</td></tr>",
                            "<tr><td>The War at Home</td><td>34,368</td><td>34,368</td></tr>",
                            "<tr><td>101 Dalmatians</td><td>136,189,294</td><td>136,189,294</td></tr>",
                            "<tr><td>The Preacher&#39;s Wife</td><td>48,102,795</td><td>48,102,795</td></tr>",
                            "<tr><td>Evita</td><td>50,047,179</td><td>50,047,179</td></tr>",
                            "<tr><td>Metro</td><td>32,017,895</td><td>32,017,895</td></tr>",
                            "<tr><td>Prefontaine</td><td>590,817</td><td>590,817</td></tr>",
                            "<tr><td>Shadow Conspiracy</td><td>2,154,540</td><td>2,154,540</td></tr>",
                            "<tr><td>That Darn Cat</td><td>18,301,828</td><td>18,301,828</td></tr>",
                            "<tr><td>Jungle 2 Jungle</td><td>59,925,026</td><td>59,925,026</td></tr>",
                            "<tr><td>The Sixth Man</td><td>14,765,099</td><td>14,765,099</td></tr>",
                            "<tr><td>Grosse Pointe Blank</td><td>28,084,357</td><td>28,084,357</td></tr>",
                            "<tr><td>Romy and Michele&#39;s High School Reunion</td><td>29,235,353</td><td>29,235,353</td></tr>",
                            "<tr><td>Gone Fishin&#39;</td><td>19,745,922</td><td>19,745,922</td></tr>",
                            "<tr><td>Con Air</td><td>101,117,573</td><td>101,117,573</td></tr>",
                            "<tr><td>Hercules</td><td>99,112,101</td><td>99,112,101</td></tr>",
                            "<tr><td>George Of The Jungle</td><td>105,263,257</td><td>105,263,257</td></tr>",
                            "<tr><td>Nothing To Lose</td><td>44,480,039</td><td>44,480,039</td></tr>",
                            "<tr><td>Air Bud</td><td>24,646,936</td><td>24,646,936</td></tr>",
                            "<tr><td>G.I. Jane</td><td>48,169,156</td><td>48,169,156</td></tr>",
                            "<tr><td>A Thousand Acres</td><td>7,928,412</td><td>7,928,412</td></tr>",
                            "<tr><td>Washington Square</td><td>1,775,644</td><td>1,775,644</td></tr>",
                            "<tr><td>Rocket Man</td><td>15,448,043</td><td>15,448,043</td></tr>",
                            "<tr><td>Playing God</td><td>4,166,918</td><td>4,166,918</td></tr>",
                            "<tr><td>Flubber</td><td>92,993,801</td><td>92,993,801</td></tr>",
                            "<tr><td>An American Werewolf in Paris</td><td>26,570,463</td><td>26,570,463</td></tr>",
                            "<tr><td>Mr. Magoo</td><td>21,437,192</td><td>21,437,192</td></tr>",
                            "<tr><td>Kundun</td><td>5,686,694</td><td>5,686,694</td></tr>",
                            "<tr><td>Deep Rising</td><td>11,203,026</td><td>11,203,026</td></tr>",
                            "<tr><td>Krippendorf&#39;s Tribe</td><td>7,571,115</td><td>7,571,115</td></tr>",
                            "<tr><td>An Alan Smithee Film: Burn Hollywood …</td><td>45,779</td><td>45,779</td></tr>",
                            "<tr><td>Meet the Deedles</td><td>4,356,126</td><td>4,356,126</td></tr>",
                            "<tr><td>He Got Game</td><td>21,567,853</td><td>21,567,853</td></tr>",
                            "<tr><td>The Horse Whisperer</td><td>75,383,563</td><td>75,383,563</td></tr>",
                            "<tr><td>Six Days, Seven Nights</td><td>74,339,294</td><td>74,339,294</td></tr>",
                            "<tr><td>Mulan</td><td>120,620,254</td><td>120,620,254</td></tr>",
                            "<tr><td>Armageddon</td><td>201,578,182</td><td>201,578,182</td></tr>",
                            "<tr><td>Jane Austen&#39;s Mafia</td><td>19,843,795</td><td>19,843,795</td></tr>",
                            "<tr><td>The Parent Trap</td><td>66,308,518</td><td>66,308,518</td></tr>",
                            "<tr><td>Firelight</td><td>784,419</td><td>784,419</td></tr>",
                            "<tr><td>Simon Birch</td><td>18,253,415</td><td>18,253,415</td></tr>",
                            "<tr><td>Holy Man</td><td>12,069,719</td><td>12,069,719</td></tr>",
                            "<tr><td>Beloved</td><td>22,852,487</td><td>22,852,487</td></tr>",
                            "<tr><td>The Waterboy</td><td>161,491,646</td><td>161,491,646</td></tr>",
                            "<tr><td>I&#39;ll Be Home For Christmas</td><td>12,214,338</td><td>12,214,338</td></tr>",
                            "<tr><td>A Bug&#39;s Life</td><td>162,798,565</td><td>162,798,565</td></tr>",
                            "<tr><td>Enemy of the State</td><td>111,549,836</td><td>111,549,836</td></tr>",
                            "<tr><td>Rushmore</td><td>17,105,219</td><td>17,105,219</td></tr>",
                            "<tr><td>A Civil Action</td><td>56,709,981</td><td>56,709,981</td></tr>",
                            "<tr><td>Mighty Joe Young</td><td>50,632,037</td><td>50,632,037</td></tr>",
                            "<tr><td>My Favorite Martian</td><td>36,850,101</td><td>36,850,101</td></tr>",
                            "<tr><td>The Other Sister</td><td>27,807,627</td><td>27,807,627</td></tr>",
                            "<tr><td>Doug&#39;s 1st Movie</td><td>19,421,271</td><td>19,421,271</td></tr>",
                            "<tr><td>Ten Things I Hate About You</td><td>38,177,966</td><td>38,177,966</td></tr>",
                            "<tr><td>Endurance</td><td>229,128</td><td>229,128</td></tr>",
                            "<tr><td>Instinct</td><td>34,105,207</td><td>34,105,207</td></tr>",
                            "<tr><td>Tarzan</td><td>171,091,819</td><td>171,091,819</td></tr>",
                            "<tr><td>Summer of Sam</td><td>19,288,130</td><td>19,288,130</td></tr>",
                            "<tr><td>Inspector Gadget</td><td>97,387,965</td><td>97,387,965</td></tr>",
                            "<tr><td>The Sixth Sense</td><td>293,506,292</td><td>293,506,292</td></tr>",
                            "<tr><td>The 13th Warrior</td><td>32,698,899</td><td>32,698,899</td></tr>",
                            "<tr><td>Breakfast of Champions</td><td>178,287</td><td>178,287</td></tr>",
                            "<tr><td>Mumford</td><td>4,559,569</td><td>4,559,569</td></tr>",
                            "<tr><td>Mystery, Alaska</td><td>8,891,623</td><td>8,891,623</td></tr>",
                            "<tr><td>The Straight Story</td><td>6,197,866</td><td>6,197,866</td></tr>",
                            "<tr><td>The Insider</td><td>28,965,197</td><td>28,965,197</td></tr>",
                            "<tr><td>Toy Story 2</td><td>245,852,179</td><td>245,852,179</td></tr>",
                            "<tr><td>Cradle Will Rock</td><td>2,899,970</td><td>2,899,970</td></tr>",
                            "<tr><td>Deuce Bigalow: Male Gigolo</td><td>65,535,067</td><td>65,535,067</td></tr>",
                            "<tr><td>Bicentennial Man</td><td>58,220,776</td><td>58,220,776</td></tr>",
                            "<tr><td>Play it to the Bone</td><td>8,427,204</td><td>8,427,204</td></tr>",
                            "<tr><td>Fantasia 2000 (IMAX)</td><td>60,507,228</td><td>60,507,228</td></tr>",
                            "<tr><td>Gun Shy</td><td>1,638,202</td><td>1,638,202</td></tr>",
                            "<tr><td>The Tigger Movie</td><td>45,542,421</td><td>45,542,421</td></tr>",
                            "<tr><td>Mission to Mars</td><td>60,874,615</td><td>60,874,615</td></tr>",
                            "<tr><td>High Fidelity</td><td>27,277,055</td><td>27,277,055</td></tr>",
                            "<tr><td>Keeping the Faith</td><td>37,036,404</td><td>37,036,404</td></tr>",
                            "<tr><td>Dinosaur</td><td>137,748,063</td><td>137,748,063</td></tr>",
                            "<tr><td>Shanghai Noon</td><td>56,932,305</td><td>56,932,305</td></tr>",
                            "<tr><td>Gone in 60 Seconds</td><td>101,643,008</td><td>101,643,008</td></tr>",
                            "<tr><td>Fantasia 2000 (Theatrical Release)</td><td>9,103,630</td><td>9,103,630</td></tr>",
                            "<tr><td>The Kid</td><td>69,688,384</td><td>69,688,384</td></tr>",
                            "<tr><td>Coyote Ugly</td><td>60,786,269</td><td>60,786,269</td></tr>",
                            "<tr><td>The Crew</td><td>13,019,253</td><td>13,019,253</td></tr>",
                            "<tr><td>Duets</td><td>4,734,235</td><td>4,734,235</td></tr>",
                            "<tr><td>Remember the Titans</td><td>115,654,751</td><td>115,654,751</td></tr>",
                            "<tr><td>Unbreakable</td><td>94,999,143</td><td>94,999,143</td></tr>",
                            "<tr><td>102 Dalmatians</td><td>66,941,559</td><td>66,941,559</td></tr>",
                            "<tr><td>The Emperor&#39;s New Groove</td><td>89,296,573</td><td>89,296,573</td></tr>",
                            "<tr><td>O Brother, Where Art Thou?</td><td>45,506,619</td><td>45,506,619</td></tr>",
                            "<tr><td>Double Take</td><td>29,823,162</td><td>29,823,162</td></tr>",
                            "<tr><td>Recess: School&#39;s Out</td><td>36,696,761</td><td>36,696,761</td></tr>",
                            "<tr><td>Just Visiting</td><td>4,777,007</td><td>4,777,007</td></tr>",
                            "<tr><td>Pearl Harbor</td><td>198,539,855</td><td>198,539,855</td></tr>",
                            "<tr><td>Atlantis: The Lost Empire</td><td>84,052,762</td><td>84,052,762</td></tr>",
                            "<tr><td>crazy/beautiful</td><td>16,929,123</td><td>16,929,123</td></tr>",
                            "<tr><td>The Princess Diaries</td><td>108,244,774</td><td>108,244,774</td></tr>",
                            "<tr><td>Bubble Boy</td><td>5,002,310</td><td>5,002,310</td></tr>",
                            "<tr><td>Max Keeble&#39;s Big Move</td><td>17,292,381</td><td>17,292,381</td></tr>",
                            "<tr><td>Corky Romano</td><td>23,978,402</td><td>23,978,402</td></tr>",
                            "<tr><td>High Heels and Low Lifes</td><td>226,792</td><td>226,792</td></tr>",
                            "<tr><td>Monsters, Inc.</td><td>289,423,425</td><td>289,423,425</td></tr>",
                            "<tr><td>Out Cold</td><td>13,906,394</td><td>13,906,394</td></tr>",
                            "<tr><td>The Royal Tenenbaums</td><td>52,353,636</td><td>52,353,636</td></tr>",
                            "<tr><td>Beauty and the Beast (IMAX)</td><td>25,487,028</td><td>25,487,028</td></tr>",
                            "<tr><td>Frank McKlusky C.I.</td><td>0</td><td>0</td></tr>",
                            "<tr><td>Snow Dogs</td><td>81,150,692</td><td>81,150,692</td></tr>",
                            "<tr><td>The Count of Monte Cristo</td><td>54,228,104</td><td>54,228,104</td></tr>",
                            "<tr><td>Peter Pan: Return to Neverland</td><td>48,430,258</td><td>48,430,258</td></tr>",
                            "<tr><td>Reign of Fire</td><td>43,061,982</td><td>43,061,982</td></tr>",
                            "<tr><td>Sorority Boys</td><td>10,198,766</td><td>10,198,766</td></tr>",
                            "<tr><td>The Rookie</td><td>75,600,072</td><td>75,600,072</td></tr>",
                            "<tr><td>Big Trouble</td><td>7,262,288</td><td>7,262,288</td></tr>",
                            "<tr><td>ESPN&#39;s Ultimate X - The Movie</td><td>4,197,175</td><td>4,197,175</td></tr>",
                            "<tr><td>Bad Company</td><td>30,157,016</td><td>30,157,016</td></tr>",
                            "<tr><td>Lilo &amp; Stitch</td><td>145,771,527</td><td>145,771,527</td></tr>",
                            "<tr><td>The Country Bears</td><td>16,988,996</td><td>16,988,996</td></tr>",
                            "<tr><td>Signs</td><td>227,965,690</td><td>227,965,690</td></tr>",
                            "<tr><td>Sen to Chihiro no Kamikakushi</td><td>10,049,886</td><td>10,049,886</td></tr>",
                            "<tr><td>Sweet Home Alabama</td><td>127,214,072</td><td>127,214,072</td></tr>",
                            "<tr><td>Moonlight Mile</td><td>6,830,957</td><td>6,830,957</td></tr>",
                            "<tr><td>Tuck Everlasting</td><td>19,161,999</td><td>19,161,999</td></tr>",
                            "<tr><td>The Santa Clause 2</td><td>139,225,854</td><td>139,225,854</td></tr>",
                            "<tr><td>Treasure Planet</td><td>38,120,554</td><td>38,120,554</td></tr>",
                            "<tr><td>The Hot Chick</td><td>35,081,550</td><td>35,081,550</td></tr>",
                            "<tr><td>25th Hour</td><td>13,084,595</td><td>13,084,595</td></tr>",
                            "<tr><td>The Recruit</td><td>52,784,696</td><td>52,784,696</td></tr>",
                            "<tr><td>Shanghai Knights</td><td>60,470,220</td><td>60,470,220</td></tr>",
                            "<tr><td>The Jungle Book 2</td><td>47,901,582</td><td>47,901,582</td></tr>",
                            "<tr><td>Bringing Down the House</td><td>132,675,402</td><td>132,675,402</td></tr>",
                            "<tr><td>Piglet&#39;s Big Movie</td><td>23,103,423</td><td>23,103,423</td></tr>",
                            "<tr><td>Ghosts of the Abyss</td><td>17,093,668</td><td>17,093,668</td></tr>",
                            "<tr><td>Holes</td><td>67,383,924</td><td>67,383,924</td></tr>",
                            "<tr><td>The Lizzie McGuire Movie</td><td>42,734,455</td><td>42,734,455</td></tr>",
                            "<tr><td>Finding Nemo</td><td>380,529,370</td><td>380,529,370</td></tr>",
                            "<tr><td>Pirates of the Caribbean: The Curse o…</td><td>305,411,224</td><td>305,411,224</td></tr>",
                            "<tr><td>Freaky Friday</td><td>110,222,438</td><td>110,222,438</td></tr>",
                            "<tr><td>Open Range</td><td>58,331,254</td><td>58,331,254</td></tr>",
                            "<tr><td>Cold Creek Manor</td><td>21,384,035</td><td>21,384,035</td></tr>",
                            "<tr><td>Under the Tuscan Sun</td><td>43,601,508</td><td>43,601,508</td></tr>",
                            "<tr><td>Veronica Guerin</td><td>1,569,918</td><td>1,569,918</td></tr>",
                            "<tr><td>Brother Bear</td><td>85,336,277</td><td>85,336,277</td></tr>",
                            "<tr><td>The Haunted Mansion</td><td>75,817,994</td><td>75,817,994</td></tr>",
                            "<tr><td>Calendar Girls</td><td>31,011,616</td><td>31,011,616</td></tr>",
                            "<tr><td>Young Black Stallion</td><td>6,751,389</td><td>6,751,389</td></tr>",
                            "<tr><td>Teacher&#39;s Pet: The Movie</td><td>6,491,969</td><td>6,491,969</td></tr>",
                            "<tr><td>Miracle</td><td>64,378,093</td><td>64,378,093</td></tr>",
                            "<tr><td>Confessions of a Teenage Drama Queen</td><td>29,331,068</td><td>29,331,068</td></tr>",
                            "<tr><td>Hidalgo</td><td>67,286,731</td><td>67,286,731</td></tr>",
                            "<tr><td>The Ladykillers</td><td>39,692,139</td><td>39,692,139</td></tr>",
                            "<tr><td>Home on the Range</td><td>50,026,353</td><td>50,026,353</td></tr>",
                            "<tr><td>The Alamo</td><td>22,406,362</td><td>22,406,362</td></tr>",
                            "<tr><td>Raising Helen</td><td>37,485,528</td><td>37,485,528</td></tr>",
                            "<tr><td>Around the World in 80 Days</td><td>24,004,159</td><td>24,004,159</td></tr>",
                            "<tr><td>America&#39;s Heart and Soul</td><td>314,000</td><td>314,000</td></tr>",
                            "<tr><td>King Arthur</td><td>51,877,963</td><td>51,877,963</td></tr>",
                            "<tr><td>The Village</td><td>114,197,520</td><td>114,197,520</td></tr>",
                            "<tr><td>The Princess Diaries 2: Royal Engagement</td><td>95,149,435</td><td>95,149,435</td></tr>",
                            "<tr><td>Mr. 3000</td><td>21,800,302</td><td>21,800,302</td></tr>",
                            "<tr><td>The Last Shot</td><td>463,730</td><td>463,730</td></tr>",
                            "<tr><td>Ladder 49</td><td>74,541,707</td><td>74,541,707</td></tr>",
                            "<tr><td>The Incredibles</td><td>261,441,092</td><td>261,441,092</td></tr>",
                            "<tr><td>National Treasure</td><td>173,005,002</td><td>173,005,002</td></tr>",
                            "<tr><td>The Life Aquatic with Steve Zissou</td><td>24,006,726</td><td>24,006,726</td></tr>",
                            "<tr><td>Aliens of the Deep</td><td>8,968,684</td><td>8,968,684</td></tr>",
                            "<tr><td>Pooh&#39;s Heffalump Movie</td><td>18,098,433</td><td>18,098,433</td></tr>",
                            "<tr><td>The Pacifier</td><td>113,006,880</td><td>113,006,880</td></tr>",
                            "<tr><td>Ice Princess</td><td>24,381,334</td><td>24,381,334</td></tr>",
                            "<tr><td>A Lot Like Love</td><td>21,835,784</td><td>21,835,784</td></tr>",
                            "<tr><td>The Hitchhiker&#39;s Guide to the Galaxy</td><td>51,019,112</td><td>51,019,112</td></tr>",
                            "<tr><td>Hauru no ugoku shiro</td><td>4,710,455</td><td>4,710,455</td></tr>",
                            "<tr><td>Herbie: Fully Loaded</td><td>66,010,682</td><td>66,010,682</td></tr>",
                            "<tr><td>Dark Water</td><td>25,473,093</td><td>25,473,093</td></tr>",
                            "<tr><td>Sky High</td><td>63,939,454</td><td>63,939,454</td></tr>",
                            "<tr><td>Valiant</td><td>19,478,106</td><td>19,478,106</td></tr>",
                            "<tr><td>Flightplan</td><td>89,706,988</td><td>89,706,988</td></tr>",
                            "<tr><td>The Greatest Game Ever Played</td><td>15,331,289</td><td>15,331,289</td></tr>",
                            "<tr><td>Shopgirl</td><td>10,284,523</td><td>10,284,523</td></tr>",
                            "<tr><td>Chicken Little</td><td>135,386,665</td><td>135,386,665</td></tr>",
                            "<tr><td>The Chronicles of Narnia: The Lion, t…</td><td>291,710,957</td><td>291,710,957</td></tr>",
                            "<tr><td>Casanova</td><td>11,304,403</td><td>11,304,403</td></tr>",
                            "<tr><td>Glory Road</td><td>42,647,449</td><td>42,647,449</td></tr>",
                            "<tr><td>Annapolis</td><td>17,127,992</td><td>17,127,992</td></tr>",
                            "<tr><td>Roving Mars</td><td>10,407,978</td><td>10,407,978</td></tr>",
                            "<tr><td>Eight Below</td><td>81,612,565</td><td>81,612,565</td></tr>",
                            "<tr><td>The Shaggy Dog</td><td>61,123,569</td><td>61,123,569</td></tr>",
                            "<tr><td>Stay Alive</td><td>23,086,480</td><td>23,086,480</td></tr>",
                            "<tr><td>The Wild</td><td>37,384,046</td><td>37,384,046</td></tr>",
                            "<tr><td>Stick It</td><td>26,910,736</td><td>26,910,736</td></tr>",
                            "<tr><td>Goal! The Dream Begins</td><td>4,283,255</td><td>4,283,255</td></tr>",
                            "<tr><td>Cars</td><td>244,082,982</td><td>244,082,982</td></tr>",
                            "<tr><td>Pirates of the Caribbean: Dead Man’…</td><td>423,315,812</td><td>423,315,812</td></tr>",
                            "<tr><td>Step Up</td><td>65,328,121</td><td>65,328,121</td></tr>",
                            "<tr><td>Invincible</td><td>57,806,952</td><td>57,806,952</td></tr>",
                            "<tr><td>The Guardian</td><td>55,011,732</td><td>55,011,732</td></tr>",
                            "<tr><td>The Prestige</td><td>53,089,891</td><td>53,089,891</td></tr>",
                            "<tr><td>Tim Burton&#39;s The Nightmare Before Chr…</td><td>24,732,041</td><td>24,732,041</td></tr>",
                            "<tr><td>The Santa Clause 3: The Escape Clause</td><td>84,500,122</td><td>84,500,122</td></tr>",
                            "<tr><td>Déjà Vu</td><td>64,038,616</td><td>64,038,616</td></tr>",
                            "<tr><td>Apocalypto</td><td>50,866,635</td><td>50,866,635</td></tr>",
                            "<tr><td>Primeval</td><td>10,597,734</td><td>10,597,734</td></tr>",
                            "<tr><td>Bridge to Terabithia</td><td>82,234,139</td><td>82,234,139</td></tr>",
                            "<tr><td>Wild Hogs</td><td>168,213,584</td><td>168,213,584</td></tr>",
                            "<tr><td>Meet the Robinsons</td><td>97,822,171</td><td>97,822,171</td></tr>",
                            "<tr><td>The Lookout</td><td>4,600,585</td><td>4,600,585</td></tr>",
                            "<tr><td>The Hoax</td><td>7,164,995</td><td>7,164,995</td></tr>",
                            "<tr><td>The Invisible</td><td>20,568,319</td><td>20,568,319</td></tr>",
                            "<tr><td>Pirates of the Caribbean: At World’…</td><td>309,420,425</td><td>309,420,425</td></tr>",
                            "<tr><td>Ratatouille</td><td>206,445,654</td><td>206,445,654</td></tr>",
                            "<tr><td>Underdog</td><td>43,760,605</td><td>43,760,605</td></tr>",
                            "<tr><td>The Game Plan</td><td>90,648,202</td><td>90,648,202</td></tr>",
                            "<tr><td>Dan in Real Life</td><td>47,642,963</td><td>47,642,963</td></tr>",
                            "<tr><td>Enchanted</td><td>127,706,877</td><td>127,706,877</td></tr>",
                            "<tr><td>National Treasure 2: Book of Secrets</td><td>219,961,501</td><td>219,961,501</td></tr>",
                            "<tr><td>Hannah Montana/Miley Cyrus: Best of B…</td><td>65,281,781</td><td>65,281,781</td></tr>",
                            "<tr><td>Step Up 2 the Streets</td><td>58,017,783</td><td>58,017,783</td></tr>",
                            "<tr><td>College Road Trip</td><td>45,610,425</td><td>45,610,425</td></tr>",
                            "<tr><td>The Chronicles of Narnia: Prince Caspian</td><td>141,621,490</td><td>141,621,490</td></tr>",
                            "<tr><td>WALL-E</td><td>223,808,164</td><td>223,808,164</td></tr>",
                            "<tr><td>Swing Vote</td><td>16,289,867</td><td>16,289,867</td></tr>",
                            "<tr><td>Goal! 2: Living the Dream...</td><td>225,067</td><td>225,067</td></tr>",
                            "<tr><td>Miracle at St. Anna</td><td>7,916,887</td><td>7,916,887</td></tr>",
                            "<tr><td>Beverly Hills Chihuahua</td><td>94,514,402</td><td>94,514,402</td></tr>",
                            "<tr><td>Morning Light</td><td>275,093</td><td>275,093</td></tr>",
                            "<tr><td>High School Musical 3: Senior Year</td><td>90,559,416</td><td>90,559,416</td></tr>",
                            "<tr><td>Bolt</td><td>114,053,759</td><td>114,053,759</td></tr>",
                            "<tr><td>Bedtime Stories</td><td>110,101,975</td><td>110,101,975</td></tr>",
                            "<tr><td>Confessions of a Shopaholic</td><td>44,277,350</td><td>44,277,350</td></tr>",
                            "<tr><td>Jonas Brothers: The 3D Concert Experi…</td><td>38,174,685</td><td>38,174,685</td></tr>",
                            "<tr><td>Race to Witch Mountain</td><td>67,172,594</td><td>67,172,594</td></tr>",
                            "<tr><td>Hannah Montana the Movie</td><td>79,576,189</td><td>79,576,189</td></tr>",
                            "<tr><td>Earth</td><td>32,011,576</td><td>32,011,576</td></tr>",
                            "<tr><td>Up</td><td>293,004,164</td><td>293,004,164</td></tr>",
                            "<tr><td>The Proposal</td><td>163,958,031</td><td>163,958,031</td></tr>",
                            "<tr><td>G-Force</td><td>119,436,770</td><td>119,436,770</td></tr>",
                            "<tr><td>Gake no ue no Ponyo</td><td>15,090,399</td><td>15,090,399</td></tr>",
                            "<tr><td>X Games 3D: The Movie</td><td>1,391,434</td><td>1,391,434</td></tr>",
                            "<tr><td>Walt and El Grupo</td><td>20,521</td><td>20,521</td></tr>",
                            "<tr><td>Surrogates</td><td>38,577,772</td><td>38,577,772</td></tr>",
                            "<tr><td>Toy Story 3D Double Feature</td><td>30,702,446</td><td>30,702,446</td></tr>",
                            "<tr><td>Disney&#39;s A Christmas Carol</td><td>137,855,863</td><td>137,855,863</td></tr>",
                            "<tr><td>The Princess and the Frog</td><td>104,400,899</td><td>104,400,899</td></tr>",
                            "<tr><td>Old Dogs</td><td>49,492,060</td><td>49,492,060</td></tr>",
                            "<tr><td>When in Rome</td><td>32,680,633</td><td>32,680,633</td></tr>",
                            "<tr><td>Alice in Wonderland</td><td>334,191,110</td><td>334,191,110</td></tr>",
                            "<tr><td>Waking Sleeping Beauty</td><td>80,741</td><td>80,741</td></tr>",
                            "<tr><td>The Last Song</td><td>62,950,384</td><td>62,950,384</td></tr>",
                            "<tr><td>Oceans</td><td>19,422,319</td><td>19,422,319</td></tr>",
                            "<tr><td>Prince of Persia: Sands of Time</td><td>90,759,676</td><td>90,759,676</td></tr>",
                            "<tr><td>Toy Story 3</td><td>415,004,880</td><td>415,004,880</td></tr>",
                            "<tr><td>The Sorcerer&#39;s Apprentice</td><td>63,150,991</td><td>63,150,991</td></tr>",
                            "<tr><td>Step Up 3D</td><td>42,400,223</td><td>42,400,223</td></tr>",
                            "<tr><td>Gedo Senki (Tales from Earthsea)</td><td>48,658</td><td>48,658</td></tr>",
                            "<tr><td>You Again</td><td>25,702,053</td><td>25,702,053</td></tr>",
                            "<tr><td>Secretariat</td><td>59,699,513</td><td>59,699,513</td></tr>",
                            "<tr><td>Tangled</td><td>200,821,936</td><td>200,821,936</td></tr>",
                            "<tr><td>Tron: Legacy</td><td>172,062,763</td><td>172,062,763</td></tr>",
                            "<tr><td>Gnomeo and Juliet</td><td>99,967,670</td><td>99,967,670</td></tr>",
                            "<tr><td>I am Number Four</td><td>55,100,437</td><td>55,100,437</td></tr>",
                            "<tr><td>Mars Needs Moms</td><td>21,392,758</td><td>21,392,758</td></tr>",
                            "<tr><td>African Cats</td><td>15,428,747</td><td>15,428,747</td></tr>",
                            "<tr><td>Zokkomon</td><td>2,815</td><td>2,815</td></tr>",
                            "<tr><td>Prom</td><td>10,130,219</td><td>10,130,219</td></tr>",
                            "<tr><td>Pirates of the Caribbean: On Stranger…</td><td>241,063,875</td><td>241,063,875</td></tr>",
                            "<tr><td>Cars 2</td><td>191,450,875</td><td>191,450,875</td></tr>",
                            "<tr><td>Winnie the Pooh</td><td>26,692,846</td><td>26,692,846</td></tr>",
                            "<tr><td>The Help</td><td>169,705,587</td><td>169,705,587</td></tr>",
                            "<tr><td>Fright Night</td><td>18,298,649</td><td>18,298,649</td></tr>",
                            "<tr><td>Real Steel</td><td>85,463,309</td><td>85,463,309</td></tr>",
                            "<tr><td>The Muppets</td><td>88,625,922</td><td>88,625,922</td></tr>",
                            "<tr><td>War Horse</td><td>79,883,359</td><td>79,883,359</td></tr>",
                            "<tr><td>The Secret World of Arietty</td><td>19,192,510</td><td>19,192,510</td></tr>",
                            "<tr><td>John Carter</td><td>73,058,679</td><td>73,058,679</td></tr>",
                            "<tr><td>Chimpanzee</td><td>28,965,459</td><td>28,965,459</td></tr>",
                            "<tr><td>The Avengers</td><td>623,279,547</td><td>623,279,547</td></tr>",
                            "<tr><td>Brave</td><td>237,282,182</td><td>237,282,182</td></tr>",
                            "<tr><td>People Like Us</td><td>12,431,792</td><td>12,431,792</td></tr>",
                            "<tr><td>The Odd Life of Timothy Green</td><td>51,853,450</td><td>51,853,450</td></tr>",
                            "<tr><td>Frankenweenie</td><td>35,287,788</td><td>35,287,788</td></tr>",
                            "<tr><td>Wreck-It Ralph</td><td>189,412,677</td><td>189,412,677</td></tr>",
                            "<tr><td>Lincoln</td><td>182,207,973</td><td>182,207,973</td></tr>",
                            "<tr><td>Oz the Great and Powerful</td><td>234,770,996</td><td>234,770,996</td></tr>",
                            "<tr><td>Iron Man 3</td><td>408,992,272</td><td>408,992,272</td></tr>",
                            "<tr><td>Monsters University</td><td>268,488,329</td><td>268,488,329</td></tr>",
                            "<tr><td>The Lone Ranger</td><td>89,302,115</td><td>89,302,115</td></tr>",
                            "<tr><td>Disney Planes</td><td>90,282,580</td><td>90,282,580</td></tr>",
                            "<tr><td>The Fifth Estate</td><td>3,254,172</td><td>3,254,172</td></tr>",
                            "<tr><td>Thor: The Dark World</td><td>206,362,140</td><td>206,362,140</td></tr>",
                            "<tr><td>Kaze Tachinu</td><td>5,201,879</td><td>5,201,879</td></tr>",
                            "<tr><td>Frozen</td><td>400,738,009</td><td>400,738,009</td></tr>",
                            "<tr><td>Delivery Man</td><td>30,659,817</td><td>30,659,817</td></tr>",
                            "<tr><td>Saving Mr. Banks</td><td>83,299,761</td><td>83,299,761</td></tr>",
                            "<tr><td>Need for Speed</td><td>43,568,507</td><td>43,568,507</td></tr>",
                            "<tr><td>Muppets Most Wanted</td><td>51,178,893</td><td>51,178,893</td></tr>",
                            "<tr><td>Captain America: The Winter Soldier</td><td>259,746,958</td><td>259,746,958</td></tr>",
                            "<tr><td>Bears</td><td>17,780,194</td><td>17,780,194</td></tr>",
                            "<tr><td>Million Dollar Arm</td><td>36,447,959</td><td>36,447,959</td></tr>",
                            "<tr><td>Maleficent</td><td>241,407,328</td><td>241,407,328</td></tr>",
                            "<tr><td>Planes: Fire and Rescue</td><td>59,157,732</td><td>59,157,732</td></tr>",
                            "<tr><td>Guardians of the Galaxy</td><td>333,172,112</td><td>333,172,112</td></tr>",
                            "<tr><td>The Hundred-Foot Journey</td><td>54,235,441</td><td>54,235,441</td></tr>",
                            "<tr><td>Alexander and the Terrible, Horrible,…</td><td>66,954,149</td><td>66,954,149</td></tr>",
                            "<tr><td>Big Hero 6</td><td>222,527,828</td><td>222,527,828</td></tr>",
                            "<tr><td>Into the Woods</td><td>128,002,372</td><td>128,002,372</td></tr>",
                            "<tr><td>Strange Magic</td><td>12,429,583</td><td>12,429,583</td></tr>",
                            "<tr><td>McFarland, USA</td><td>44,480,275</td><td>44,480,275</td></tr>",
                            "<tr><td>Cinderella</td><td>201,151,353</td><td>201,151,353</td></tr>",
                            "<tr><td>Monkey Kingdom</td><td>16,432,322</td><td>16,432,322</td></tr>",
                            "<tr><td>Avengers: Age of Ultron</td><td>459,005,868</td><td>459,005,868</td></tr>",
                            "<tr><td>Tomorrowland</td><td>93,436,322</td><td>93,436,322</td></tr>",
                            "<tr><td>Inside Out</td><td>356,461,711</td><td>356,461,711</td></tr>",
                            "<tr><td>Ant-Man</td><td>180,202,163</td><td>180,202,163</td></tr>",
                            "<tr><td>Bridge of Spies</td><td>72,313,754</td><td>72,313,754</td></tr>",
                            "<tr><td>The Good Dinosaur</td><td>123,087,120</td><td>123,087,120</td></tr>",
                            "<tr><td>Star Wars Ep. VII: The Force Awakens</td><td>936,662,225</td><td>936,662,225</td></tr>",
                            "<tr><td>The Finest Hours</td><td>27,569,558</td><td>27,569,558</td></tr>",
                            "<tr><td>Zootopia</td><td>341,268,248</td><td>341,268,248</td></tr>",
                            "<tr><td>The Jungle Book</td><td>364,001,123</td><td>364,001,123</td></tr>",
                            "<tr><td>A Beautiful Planet</td><td>7,895,708</td><td>7,895,708</td></tr>",
                            "<tr><td>Captain America: Civil War</td><td>408,084,349</td><td>408,084,349</td></tr>",
                            "<tr><td>Alice Through the Looking Glass</td><td>77,042,381</td><td>77,042,381</td></tr>",
                            "<tr><td>Finding Dory</td><td>486,295,561</td><td>486,295,561</td></tr>",
                            "<tr><td>The BFG</td><td>55,483,770</td><td>55,483,770</td></tr>",
                            "<tr><td>Pete’s Dragon</td><td>76,233,151</td><td>76,233,151</td></tr>",
                            "<tr><td>The Light Between Oceans</td><td>12,545,979</td><td>12,545,979</td></tr>",
                            "<tr><td>Queen of Katwe</td><td>8,874,389</td><td>8,874,389</td></tr>",
                            "<tr><td>Doctor Strange</td><td>232,532,923</td><td>232,532,923</td></tr>",
                            "<tr><td>Moana</td><td>246,082,029</td><td>246,082,029</td></tr>",
                            "<tr><td>Rogue One: A Star Wars Story</td><td>529,483,936</td><td>529,483,936</td></tr>",
                            "</table>"
                        ]
                    }
                }
            ],
            "execution_count": 18
        },
        {
            "cell_type": "code",
            "source": [
                "select \r\n",
                "    movie_title ,\r\n",
                "  \r\n",
                "    SUBSTRING(director,1,CHARINDEX(' ',director)-1) [First name],\r\n",
                "    SUBSTRING(director,CHARINDEX(' ',director)+1,100) [First name],\r\n",
                "    left(director,CHARINDEX(' ',director)-1)[Last name]\r\n",
                "    from director"
            ],
            "metadata": {
                "azdata_cell_guid": "dd1db001-2b77-4ba2-b122-6a85e71dd654",
                "language": "sql"
            },
            "outputs": [
                {
                    "output_type": "display_data",
                    "data": {
                        "text/html": "(56 rows affected)"
                    },
                    "metadata": {}
                },
                {
                    "output_type": "display_data",
                    "data": {
                        "text/html": "Total execution time: 00:00:00.009"
                    },
                    "metadata": {}
                },
                {
                    "output_type": "execute_result",
                    "metadata": {},
                    "execution_count": 38,
                    "data": {
                        "application/vnd.dataresource+json": {
                            "schema": {
                                "fields": [
                                    {
                                        "name": "movie_title"
                                    },
                                    {
                                        "name": "First name"
                                    },
                                    {
                                        "name": "First name"
                                    },
                                    {
                                        "name": "Last name"
                                    }
                                ]
                            },
                            "data": [
                                {
                                    "movie_title": "Snow White and the Seven Dwarfs",
                                    "First name": "Hand",
                                    "Last name": "David"
                                },
                                {
                                    "movie_title": "Pinocchio",
                                    "First name": "Sharpsteen",
                                    "Last name": "Ben"
                                },
                                {
                                    "movie_title": "Fantasia",
                                    "First name": "credits",
                                    "Last name": "full"
                                },
                                {
                                    "movie_title": "Dumbo",
                                    "First name": "Sharpsteen",
                                    "Last name": "Ben"
                                },
                                {
                                    "movie_title": "Bambi",
                                    "First name": "Hand",
                                    "Last name": "David"
                                },
                                {
                                    "movie_title": "Saludos Amigos",
                                    "First name": "Kinney",
                                    "Last name": "Jack"
                                },
                                {
                                    "movie_title": "The Three Caballeros",
                                    "First name": "Ferguson",
                                    "Last name": "Norman"
                                },
                                {
                                    "movie_title": "Make Mine Music",
                                    "First name": "Kinney",
                                    "Last name": "Jack"
                                },
                                {
                                    "movie_title": "Fun and Fancy Free",
                                    "First name": "Kinney",
                                    "Last name": "Jack"
                                },
                                {
                                    "movie_title": "Melody Time",
                                    "First name": "Geronimi",
                                    "Last name": "Clyde"
                                },
                                {
                                    "movie_title": "The Adventures of Ichabod and Mr. Toad",
                                    "First name": "Kinney",
                                    "Last name": "Jack"
                                },
                                {
                                    "movie_title": "Cinderella",
                                    "First name": "Jackson",
                                    "Last name": "Wilfred"
                                },
                                {
                                    "movie_title": "Alice in Wonderland",
                                    "First name": "Geronimi",
                                    "Last name": "Clyde"
                                },
                                {
                                    "movie_title": "Peter Pan",
                                    "First name": "Luske",
                                    "Last name": "Hamilton"
                                },
                                {
                                    "movie_title": "Lady and the Tramp",
                                    "First name": "Luske",
                                    "Last name": "Hamilton"
                                },
                                {
                                    "movie_title": "Sleeping Beauty",
                                    "First name": "Geronimi",
                                    "Last name": "Clyde"
                                },
                                {
                                    "movie_title": "101 Dalmatians",
                                    "First name": "Reitherman",
                                    "Last name": "Wolfgang"
                                },
                                {
                                    "movie_title": "The Sword in the Stone",
                                    "First name": "Reitherman",
                                    "Last name": "Wolfgang"
                                },
                                {
                                    "movie_title": "The Jungle Book",
                                    "First name": "Reitherman",
                                    "Last name": "Wolfgang"
                                },
                                {
                                    "movie_title": "The Aristocats",
                                    "First name": "Reitherman",
                                    "Last name": "Wolfgang"
                                },
                                {
                                    "movie_title": "Robin Hood",
                                    "First name": "Reitherman",
                                    "Last name": "Wolfgang"
                                },
                                {
                                    "movie_title": "The Many Adventures of Winnie the Pooh",
                                    "First name": "Reitherman",
                                    "Last name": "Wolfgang"
                                },
                                {
                                    "movie_title": "The Rescuers",
                                    "First name": "Reitherman",
                                    "Last name": "Wolfgang"
                                },
                                {
                                    "movie_title": "The Fox and the Hound",
                                    "First name": "Stevens",
                                    "Last name": "Art"
                                },
                                {
                                    "movie_title": "The Black Cauldron",
                                    "First name": "Berman",
                                    "Last name": "Ted"
                                },
                                {
                                    "movie_title": "The Great Mouse Detective",
                                    "First name": "Clements",
                                    "Last name": "Ron"
                                },
                                {
                                    "movie_title": "Oliver & Company",
                                    "First name": "Scribner",
                                    "Last name": "George"
                                },
                                {
                                    "movie_title": "The Little Mermaid",
                                    "First name": "Clements",
                                    "Last name": "Ron"
                                },
                                {
                                    "movie_title": "The Rescuers Down Under",
                                    "First name": "Gabriel",
                                    "Last name": "Mike"
                                },
                                {
                                    "movie_title": "Beauty and the Beast",
                                    "First name": "Trousdale",
                                    "Last name": "Gary"
                                },
                                {
                                    "movie_title": "Aladdin",
                                    "First name": "Clements",
                                    "Last name": "Ron"
                                },
                                {
                                    "movie_title": "The Lion King",
                                    "First name": "Allers",
                                    "Last name": "Roger"
                                },
                                {
                                    "movie_title": "Pocahontas",
                                    "First name": "Gabriel",
                                    "Last name": "Mike"
                                },
                                {
                                    "movie_title": "The Hunchback of Notre Dame",
                                    "First name": "Trousdale",
                                    "Last name": "Gary"
                                },
                                {
                                    "movie_title": "Hercules",
                                    "First name": "Clements",
                                    "Last name": "Ron"
                                },
                                {
                                    "movie_title": "Mulan",
                                    "First name": "Cook",
                                    "Last name": "Barry"
                                },
                                {
                                    "movie_title": "Tarzan",
                                    "First name": "Buck",
                                    "Last name": "Chris"
                                },
                                {
                                    "movie_title": "Fantasia 2000",
                                    "First name": "credits",
                                    "Last name": "full"
                                },
                                {
                                    "movie_title": "Dinosaur",
                                    "First name": "Zondag",
                                    "Last name": "Ralph"
                                },
                                {
                                    "movie_title": "The Emperor's New Groove",
                                    "First name": "Dindal",
                                    "Last name": "Mark"
                                },
                                {
                                    "movie_title": "Atlantis: The Lost Empire",
                                    "First name": "Trousdale",
                                    "Last name": "Gary"
                                },
                                {
                                    "movie_title": "Lilo & Stitch",
                                    "First name": "Sanders",
                                    "Last name": "Chris"
                                },
                                {
                                    "movie_title": "Treasure Planet",
                                    "First name": "Clements",
                                    "Last name": "Ron"
                                },
                                {
                                    "movie_title": "Brother Bear",
                                    "First name": "Walker",
                                    "Last name": "Robert"
                                },
                                {
                                    "movie_title": "Home on the Range",
                                    "First name": "Finn",
                                    "Last name": "Will"
                                },
                                {
                                    "movie_title": "Chicken Little",
                                    "First name": "Dindal",
                                    "Last name": "Mark"
                                },
                                {
                                    "movie_title": "Meet the Robinsons",
                                    "First name": "J. Anderson",
                                    "Last name": "Stephen"
                                },
                                {
                                    "movie_title": "Bolt",
                                    "First name": "Williams",
                                    "Last name": "Chris"
                                },
                                {
                                    "movie_title": "The Princess and the Frog",
                                    "First name": "Clements",
                                    "Last name": "Ron"
                                },
                                {
                                    "movie_title": "Tangled",
                                    "First name": "Greno",
                                    "Last name": "Nathan"
                                },
                                {
                                    "movie_title": "Winnie the Pooh",
                                    "First name": "J. Anderson",
                                    "Last name": "Stephen"
                                },
                                {
                                    "movie_title": "Wreck-It Ralph",
                                    "First name": "Moore",
                                    "Last name": "Rich"
                                },
                                {
                                    "movie_title": "Frozen",
                                    "First name": "Buck",
                                    "Last name": "Chris"
                                },
                                {
                                    "movie_title": "Big Hero 6",
                                    "First name": "Hall",
                                    "Last name": "Don"
                                },
                                {
                                    "movie_title": "Zootopia",
                                    "First name": "Howard",
                                    "Last name": "Byron"
                                },
                                {
                                    "movie_title": "Moana",
                                    "First name": "Clements",
                                    "Last name": "Ron"
                                }
                            ]
                        },
                        "text/html": [
                            "<table>",
                            "<tr><th>movie_title</th><th>First name</th><th>First name</th><th>Last name</th></tr>",
                            "<tr><td>Snow White and the Seven Dwarfs</td><td>David</td><td>Hand</td><td>David</td></tr>",
                            "<tr><td>Pinocchio</td><td>Ben</td><td>Sharpsteen</td><td>Ben</td></tr>",
                            "<tr><td>Fantasia</td><td>full</td><td>credits</td><td>full</td></tr>",
                            "<tr><td>Dumbo</td><td>Ben</td><td>Sharpsteen</td><td>Ben</td></tr>",
                            "<tr><td>Bambi</td><td>David</td><td>Hand</td><td>David</td></tr>",
                            "<tr><td>Saludos Amigos</td><td>Jack</td><td>Kinney</td><td>Jack</td></tr>",
                            "<tr><td>The Three Caballeros</td><td>Norman</td><td>Ferguson</td><td>Norman</td></tr>",
                            "<tr><td>Make Mine Music</td><td>Jack</td><td>Kinney</td><td>Jack</td></tr>",
                            "<tr><td>Fun and Fancy Free</td><td>Jack</td><td>Kinney</td><td>Jack</td></tr>",
                            "<tr><td>Melody Time</td><td>Clyde</td><td>Geronimi</td><td>Clyde</td></tr>",
                            "<tr><td>The Adventures of Ichabod and Mr. Toad</td><td>Jack</td><td>Kinney</td><td>Jack</td></tr>",
                            "<tr><td>Cinderella</td><td>Wilfred</td><td>Jackson</td><td>Wilfred</td></tr>",
                            "<tr><td>Alice in Wonderland</td><td>Clyde</td><td>Geronimi</td><td>Clyde</td></tr>",
                            "<tr><td>Peter Pan</td><td>Hamilton</td><td>Luske</td><td>Hamilton</td></tr>",
                            "<tr><td>Lady and the Tramp</td><td>Hamilton</td><td>Luske</td><td>Hamilton</td></tr>",
                            "<tr><td>Sleeping Beauty</td><td>Clyde</td><td>Geronimi</td><td>Clyde</td></tr>",
                            "<tr><td>101 Dalmatians</td><td>Wolfgang</td><td>Reitherman</td><td>Wolfgang</td></tr>",
                            "<tr><td>The Sword in the Stone</td><td>Wolfgang</td><td>Reitherman</td><td>Wolfgang</td></tr>",
                            "<tr><td>The Jungle Book</td><td>Wolfgang</td><td>Reitherman</td><td>Wolfgang</td></tr>",
                            "<tr><td>The Aristocats</td><td>Wolfgang</td><td>Reitherman</td><td>Wolfgang</td></tr>",
                            "<tr><td>Robin Hood</td><td>Wolfgang</td><td>Reitherman</td><td>Wolfgang</td></tr>",
                            "<tr><td>The Many Adventures of Winnie the Pooh</td><td>Wolfgang</td><td>Reitherman</td><td>Wolfgang</td></tr>",
                            "<tr><td>The Rescuers</td><td>Wolfgang</td><td>Reitherman</td><td>Wolfgang</td></tr>",
                            "<tr><td>The Fox and the Hound</td><td>Art</td><td>Stevens</td><td>Art</td></tr>",
                            "<tr><td>The Black Cauldron</td><td>Ted</td><td>Berman</td><td>Ted</td></tr>",
                            "<tr><td>The Great Mouse Detective</td><td>Ron</td><td>Clements</td><td>Ron</td></tr>",
                            "<tr><td>Oliver &amp; Company</td><td>George</td><td>Scribner</td><td>George</td></tr>",
                            "<tr><td>The Little Mermaid</td><td>Ron</td><td>Clements</td><td>Ron</td></tr>",
                            "<tr><td>The Rescuers Down Under</td><td>Mike</td><td>Gabriel</td><td>Mike</td></tr>",
                            "<tr><td>Beauty and the Beast</td><td>Gary</td><td>Trousdale</td><td>Gary</td></tr>",
                            "<tr><td>Aladdin</td><td>Ron</td><td>Clements</td><td>Ron</td></tr>",
                            "<tr><td>The Lion King</td><td>Roger</td><td>Allers</td><td>Roger</td></tr>",
                            "<tr><td>Pocahontas</td><td>Mike</td><td>Gabriel</td><td>Mike</td></tr>",
                            "<tr><td>The Hunchback of Notre Dame</td><td>Gary</td><td>Trousdale</td><td>Gary</td></tr>",
                            "<tr><td>Hercules</td><td>Ron</td><td>Clements</td><td>Ron</td></tr>",
                            "<tr><td>Mulan</td><td>Barry</td><td>Cook</td><td>Barry</td></tr>",
                            "<tr><td>Tarzan</td><td>Chris</td><td>Buck</td><td>Chris</td></tr>",
                            "<tr><td>Fantasia 2000</td><td>full</td><td>credits</td><td>full</td></tr>",
                            "<tr><td>Dinosaur</td><td>Ralph</td><td>Zondag</td><td>Ralph</td></tr>",
                            "<tr><td>The Emperor&#39;s New Groove</td><td>Mark</td><td>Dindal</td><td>Mark</td></tr>",
                            "<tr><td>Atlantis: The Lost Empire</td><td>Gary</td><td>Trousdale</td><td>Gary</td></tr>",
                            "<tr><td>Lilo &amp; Stitch</td><td>Chris</td><td>Sanders</td><td>Chris</td></tr>",
                            "<tr><td>Treasure Planet</td><td>Ron</td><td>Clements</td><td>Ron</td></tr>",
                            "<tr><td>Brother Bear</td><td>Robert</td><td>Walker</td><td>Robert</td></tr>",
                            "<tr><td>Home on the Range</td><td>Will</td><td>Finn</td><td>Will</td></tr>",
                            "<tr><td>Chicken Little</td><td>Mark</td><td>Dindal</td><td>Mark</td></tr>",
                            "<tr><td>Meet the Robinsons</td><td>Stephen</td><td>J. Anderson</td><td>Stephen</td></tr>",
                            "<tr><td>Bolt</td><td>Chris</td><td>Williams</td><td>Chris</td></tr>",
                            "<tr><td>The Princess and the Frog</td><td>Ron</td><td>Clements</td><td>Ron</td></tr>",
                            "<tr><td>Tangled</td><td>Nathan</td><td>Greno</td><td>Nathan</td></tr>",
                            "<tr><td>Winnie the Pooh</td><td>Stephen</td><td>J. Anderson</td><td>Stephen</td></tr>",
                            "<tr><td>Wreck-It Ralph</td><td>Rich</td><td>Moore</td><td>Rich</td></tr>",
                            "<tr><td>Frozen</td><td>Chris</td><td>Buck</td><td>Chris</td></tr>",
                            "<tr><td>Big Hero 6</td><td>Don</td><td>Hall</td><td>Don</td></tr>",
                            "<tr><td>Zootopia</td><td>Byron</td><td>Howard</td><td>Byron</td></tr>",
                            "<tr><td>Moana</td><td>Ron</td><td>Clements</td><td>Ron</td></tr>",
                            "</table>"
                        ]
                    }
                }
            ],
            "execution_count": 38
        }
    ]
}