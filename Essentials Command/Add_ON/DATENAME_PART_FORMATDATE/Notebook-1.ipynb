{
    "metadata": {
        "kernelspec": {
            "name": "SQL",
            "display_name": "SQL",
            "language": "sql"
        },
        "language_info": {
            "name": "sql",
            "version": ""
        }
    },
    "nbformat_minor": 2,
    "nbformat": 4,
    "cells": [
        {
            "cell_type": "code",
            "source": [
                "select release_date,\r\n",
                "year(release_date) year,\r\n",
                "month(release_date) month,\r\n",
                "day(release_date) day\r\n",
                "from movie_gross"
            ],
            "metadata": {
                "azdata_cell_guid": "a504f4f9-9c06-4faf-b854-dc6e6ee60687",
                "language": "sql",
                "tags": [
                    "hide_input"
                ]
            },
            "outputs": [
                {
                    "output_type": "display_data",
                    "data": {
                        "text/html": "(579 rows affected)"
                    },
                    "metadata": {}
                },
                {
                    "output_type": "display_data",
                    "data": {
                        "text/html": "Total execution time: 00:00:00.013"
                    },
                    "metadata": {}
                },
                {
                    "output_type": "execute_result",
                    "execution_count": 43,
                    "data": {
                        "application/vnd.dataresource+json": {
                            "schema": {
                                "fields": [
                                    {
                                        "name": "release_date"
                                    },
                                    {
                                        "name": "year"
                                    },
                                    {
                                        "name": "month"
                                    },
                                    {
                                        "name": "day"
                                    }
                                ]
                            },
                            "data": [
                                {
                                    "release_date": "1937-12-21",
                                    "year": "1937",
                                    "month": "12",
                                    "day": "21"
                                },
                                {
                                    "release_date": "1940-02-09",
                                    "year": "1940",
                                    "month": "2",
                                    "day": "9"
                                },
                                {
                                    "release_date": "1940-11-13",
                                    "year": "1940",
                                    "month": "11",
                                    "day": "13"
                                },
                                {
                                    "release_date": "1946-11-12",
                                    "year": "1946",
                                    "month": "11",
                                    "day": "12"
                                },
                                {
                                    "release_date": "1950-02-15",
                                    "year": "1950",
                                    "month": "2",
                                    "day": "15"
                                },
                                {
                                    "release_date": "1954-12-23",
                                    "year": "1954",
                                    "month": "12",
                                    "day": "23"
                                },
                                {
                                    "release_date": "1955-06-22",
                                    "year": "1955",
                                    "month": "6",
                                    "day": "22"
                                },
                                {
                                    "release_date": "1959-01-29",
                                    "year": "1959",
                                    "month": "1",
                                    "day": "29"
                                },
                                {
                                    "release_date": "1961-01-25",
                                    "year": "1961",
                                    "month": "1",
                                    "day": "25"
                                },
                                {
                                    "release_date": "1961-03-16",
                                    "year": "1961",
                                    "month": "3",
                                    "day": "16"
                                },
                                {
                                    "release_date": "1961-12-14",
                                    "year": "1961",
                                    "month": "12",
                                    "day": "14"
                                },
                                {
                                    "release_date": "1962-05-17",
                                    "year": "1962",
                                    "month": "5",
                                    "day": "17"
                                },
                                {
                                    "release_date": "1963-12-25",
                                    "year": "1963",
                                    "month": "12",
                                    "day": "25"
                                },
                                {
                                    "release_date": "1967-10-18",
                                    "year": "1967",
                                    "month": "10",
                                    "day": "18"
                                },
                                {
                                    "release_date": "1968-02-08",
                                    "year": "1968",
                                    "month": "2",
                                    "day": "8"
                                },
                                {
                                    "release_date": "1970-04-24",
                                    "year": "1970",
                                    "month": "4",
                                    "day": "24"
                                },
                                {
                                    "release_date": "1970-07-01",
                                    "year": "1970",
                                    "month": "7",
                                    "day": "1"
                                },
                                {
                                    "release_date": "1971-10-07",
                                    "year": "1971",
                                    "month": "10",
                                    "day": "7"
                                },
                                {
                                    "release_date": "1975-07-01",
                                    "year": "1975",
                                    "month": "7",
                                    "day": "1"
                                },
                                {
                                    "release_date": "1977-01-21",
                                    "year": "1977",
                                    "month": "1",
                                    "day": "21"
                                },
                                {
                                    "release_date": "1977-03-11",
                                    "year": "1977",
                                    "month": "3",
                                    "day": "11"
                                },
                                {
                                    "release_date": "1977-06-22",
                                    "year": "1977",
                                    "month": "6",
                                    "day": "22"
                                },
                                {
                                    "release_date": "1977-06-24",
                                    "year": "1977",
                                    "month": "6",
                                    "day": "24"
                                },
                                {
                                    "release_date": "1979-12-21",
                                    "year": "1979",
                                    "month": "12",
                                    "day": "21"
                                },
                                {
                                    "release_date": "1980-02-08",
                                    "year": "1980",
                                    "month": "2",
                                    "day": "8"
                                },
                                {
                                    "release_date": "1980-06-25",
                                    "year": "1980",
                                    "month": "6",
                                    "day": "25"
                                },
                                {
                                    "release_date": "1981-01-01",
                                    "year": "1981",
                                    "month": "1",
                                    "day": "1"
                                },
                                {
                                    "release_date": "1981-03-20",
                                    "year": "1981",
                                    "month": "3",
                                    "day": "20"
                                },
                                {
                                    "release_date": "1981-07-10",
                                    "year": "1981",
                                    "month": "7",
                                    "day": "10"
                                },
                                {
                                    "release_date": "1981-08-07",
                                    "year": "1981",
                                    "month": "8",
                                    "day": "7"
                                },
                                {
                                    "release_date": "1982-02-05",
                                    "year": "1982",
                                    "month": "2",
                                    "day": "5"
                                },
                                {
                                    "release_date": "1982-07-09",
                                    "year": "1982",
                                    "month": "7",
                                    "day": "9"
                                },
                                {
                                    "release_date": "1982-11-19",
                                    "year": "1982",
                                    "month": "11",
                                    "day": "19"
                                },
                                {
                                    "release_date": "1983-03-11",
                                    "year": "1983",
                                    "month": "3",
                                    "day": "11"
                                },
                                {
                                    "release_date": "1983-04-29",
                                    "year": "1983",
                                    "month": "4",
                                    "day": "29"
                                },
                                {
                                    "release_date": "1983-10-07",
                                    "year": "1983",
                                    "month": "10",
                                    "day": "7"
                                },
                                {
                                    "release_date": "1983-11-04",
                                    "year": "1983",
                                    "month": "11",
                                    "day": "4"
                                },
                                {
                                    "release_date": "1984-03-09",
                                    "year": "1984",
                                    "month": "3",
                                    "day": "9"
                                },
                                {
                                    "release_date": "1984-09-29",
                                    "year": "1984",
                                    "month": "9",
                                    "day": "29"
                                },
                                {
                                    "release_date": "1985-03-22",
                                    "year": "1985",
                                    "month": "3",
                                    "day": "22"
                                },
                                {
                                    "release_date": "1985-06-21",
                                    "year": "1985",
                                    "month": "6",
                                    "day": "21"
                                },
                                {
                                    "release_date": "1985-07-24",
                                    "year": "1985",
                                    "month": "7",
                                    "day": "24"
                                },
                                {
                                    "release_date": "1985-08-09",
                                    "year": "1985",
                                    "month": "8",
                                    "day": "9"
                                },
                                {
                                    "release_date": "1985-09-27",
                                    "year": "1985",
                                    "month": "9",
                                    "day": "27"
                                },
                                {
                                    "release_date": "1985-11-22",
                                    "year": "1985",
                                    "month": "11",
                                    "day": "22"
                                },
                                {
                                    "release_date": "1986-01-31",
                                    "year": "1986",
                                    "month": "1",
                                    "day": "31"
                                },
                                {
                                    "release_date": "1986-04-11",
                                    "year": "1986",
                                    "month": "4",
                                    "day": "11"
                                },
                                {
                                    "release_date": "1986-06-27",
                                    "year": "1986",
                                    "month": "6",
                                    "day": "27"
                                },
                                {
                                    "release_date": "1986-07-02",
                                    "year": "1986",
                                    "month": "7",
                                    "day": "2"
                                },
                                {
                                    "release_date": "1986-07-30",
                                    "year": "1986",
                                    "month": "7",
                                    "day": "30"
                                },
                                {
                                    "release_date": "1986-10-03",
                                    "year": "1986",
                                    "month": "10",
                                    "day": "3"
                                },
                                {
                                    "release_date": "1986-10-17",
                                    "year": "1986",
                                    "month": "10",
                                    "day": "17"
                                },
                                {
                                    "release_date": "1987-01-30",
                                    "year": "1987",
                                    "month": "1",
                                    "day": "30"
                                },
                                {
                                    "release_date": "1987-03-06",
                                    "year": "1987",
                                    "month": "3",
                                    "day": "6"
                                },
                                {
                                    "release_date": "1987-05-22",
                                    "year": "1987",
                                    "month": "5",
                                    "day": "22"
                                },
                                {
                                    "release_date": "1987-06-05",
                                    "year": "1987",
                                    "month": "6",
                                    "day": "5"
                                },
                                {
                                    "release_date": "1987-07-03",
                                    "year": "1987",
                                    "month": "7",
                                    "day": "3"
                                },
                                {
                                    "release_date": "1987-08-05",
                                    "year": "1987",
                                    "month": "8",
                                    "day": "5"
                                },
                                {
                                    "release_date": "1987-08-14",
                                    "year": "1987",
                                    "month": "8",
                                    "day": "14"
                                },
                                {
                                    "release_date": "1987-11-06",
                                    "year": "1987",
                                    "month": "11",
                                    "day": "6"
                                },
                                {
                                    "release_date": "1987-11-25",
                                    "year": "1987",
                                    "month": "11",
                                    "day": "25"
                                },
                                {
                                    "release_date": "1987-12-23",
                                    "year": "1987",
                                    "month": "12",
                                    "day": "23"
                                },
                                {
                                    "release_date": "1988-02-12",
                                    "year": "1988",
                                    "month": "2",
                                    "day": "12"
                                },
                                {
                                    "release_date": "1988-03-18",
                                    "year": "1988",
                                    "month": "3",
                                    "day": "18"
                                },
                                {
                                    "release_date": "1988-04-15",
                                    "year": "1988",
                                    "month": "4",
                                    "day": "15"
                                },
                                {
                                    "release_date": "1988-06-10",
                                    "year": "1988",
                                    "month": "6",
                                    "day": "10"
                                },
                                {
                                    "release_date": "1988-06-22",
                                    "year": "1988",
                                    "month": "6",
                                    "day": "22"
                                },
                                {
                                    "release_date": "1988-07-29",
                                    "year": "1988",
                                    "month": "7",
                                    "day": "29"
                                },
                                {
                                    "release_date": "1988-08-05",
                                    "year": "1988",
                                    "month": "8",
                                    "day": "5"
                                },
                                {
                                    "release_date": "1988-09-30",
                                    "year": "1988",
                                    "month": "9",
                                    "day": "30"
                                },
                                {
                                    "release_date": "1988-11-04",
                                    "year": "1988",
                                    "month": "11",
                                    "day": "4"
                                },
                                {
                                    "release_date": "1988-11-11",
                                    "year": "1988",
                                    "month": "11",
                                    "day": "11"
                                },
                                {
                                    "release_date": "1988-11-18",
                                    "year": "1988",
                                    "month": "11",
                                    "day": "18"
                                },
                                {
                                    "release_date": "1988-12-21",
                                    "year": "1988",
                                    "month": "12",
                                    "day": "21"
                                },
                                {
                                    "release_date": "1989-01-27",
                                    "year": "1989",
                                    "month": "1",
                                    "day": "27"
                                },
                                {
                                    "release_date": "1989-03-01",
                                    "year": "1989",
                                    "month": "3",
                                    "day": "1"
                                },
                                {
                                    "release_date": "1989-04-14",
                                    "year": "1989",
                                    "month": "4",
                                    "day": "14"
                                },
                                {
                                    "release_date": "1989-06-02",
                                    "year": "1989",
                                    "month": "6",
                                    "day": "2"
                                },
                                {
                                    "release_date": "1989-06-23",
                                    "year": "1989",
                                    "month": "6",
                                    "day": "23"
                                },
                                {
                                    "release_date": "1989-07-28",
                                    "year": "1989",
                                    "month": "7",
                                    "day": "28"
                                },
                                {
                                    "release_date": "1989-08-18",
                                    "year": "1989",
                                    "month": "8",
                                    "day": "18"
                                },
                                {
                                    "release_date": "1989-10-06",
                                    "year": "1989",
                                    "month": "10",
                                    "day": "6"
                                },
                                {
                                    "release_date": "1989-10-20",
                                    "year": "1989",
                                    "month": "10",
                                    "day": "20"
                                },
                                {
                                    "release_date": "1989-11-15",
                                    "year": "1989",
                                    "month": "11",
                                    "day": "15"
                                },
                                {
                                    "release_date": "1989-12-13",
                                    "year": "1989",
                                    "month": "12",
                                    "day": "13"
                                },
                                {
                                    "release_date": "1990-02-02",
                                    "year": "1990",
                                    "month": "2",
                                    "day": "2"
                                },
                                {
                                    "release_date": "1990-02-23",
                                    "year": "1990",
                                    "month": "2",
                                    "day": "23"
                                },
                                {
                                    "release_date": "1990-03-23",
                                    "year": "1990",
                                    "month": "3",
                                    "day": "23"
                                },
                                {
                                    "release_date": "1990-04-06",
                                    "year": "1990",
                                    "month": "4",
                                    "day": "6"
                                },
                                {
                                    "release_date": "1990-04-27",
                                    "year": "1990",
                                    "month": "4",
                                    "day": "27"
                                },
                                {
                                    "release_date": "1990-05-24",
                                    "year": "1990",
                                    "month": "5",
                                    "day": "24"
                                },
                                {
                                    "release_date": "1990-06-15",
                                    "year": "1990",
                                    "month": "6",
                                    "day": "15"
                                },
                                {
                                    "release_date": "1990-06-22",
                                    "year": "1990",
                                    "month": "6",
                                    "day": "22"
                                },
                                {
                                    "release_date": "1990-07-18",
                                    "year": "1990",
                                    "month": "7",
                                    "day": "18"
                                },
                                {
                                    "release_date": "1990-08-03",
                                    "year": "1990",
                                    "month": "8",
                                    "day": "3"
                                },
                                {
                                    "release_date": "1990-08-17",
                                    "year": "1990",
                                    "month": "8",
                                    "day": "17"
                                },
                                {
                                    "release_date": "1990-10-12",
                                    "year": "1990",
                                    "month": "10",
                                    "day": "12"
                                },
                                {
                                    "release_date": "1990-11-16",
                                    "year": "1990",
                                    "month": "11",
                                    "day": "16"
                                },
                                {
                                    "release_date": "1990-11-21",
                                    "year": "1990",
                                    "month": "11",
                                    "day": "21"
                                },
                                {
                                    "release_date": "1990-12-25",
                                    "year": "1990",
                                    "month": "12",
                                    "day": "25"
                                },
                                {
                                    "release_date": "1991-01-18",
                                    "year": "1991",
                                    "month": "1",
                                    "day": "18"
                                },
                                {
                                    "release_date": "1991-02-22",
                                    "year": "1991",
                                    "month": "2",
                                    "day": "22"
                                },
                                {
                                    "release_date": "1991-03-01",
                                    "year": "1991",
                                    "month": "3",
                                    "day": "1"
                                },
                                {
                                    "release_date": "1991-04-05",
                                    "year": "1991",
                                    "month": "4",
                                    "day": "5"
                                },
                                {
                                    "release_date": "1991-04-26",
                                    "year": "1991",
                                    "month": "4",
                                    "day": "26"
                                },
                                {
                                    "release_date": "1991-05-03",
                                    "year": "1991",
                                    "month": "5",
                                    "day": "3"
                                },
                                {
                                    "release_date": "1991-05-17",
                                    "year": "1991",
                                    "month": "5",
                                    "day": "17"
                                },
                                {
                                    "release_date": "1991-05-24",
                                    "year": "1991",
                                    "month": "5",
                                    "day": "24"
                                },
                                {
                                    "release_date": "1991-06-21",
                                    "year": "1991",
                                    "month": "6",
                                    "day": "21"
                                },
                                {
                                    "release_date": "1991-07-24",
                                    "year": "1991",
                                    "month": "7",
                                    "day": "24"
                                },
                                {
                                    "release_date": "1991-09-18",
                                    "year": "1991",
                                    "month": "9",
                                    "day": "18"
                                },
                                {
                                    "release_date": "1991-09-27",
                                    "year": "1991",
                                    "month": "9",
                                    "day": "27"
                                },
                                {
                                    "release_date": "1991-10-11",
                                    "year": "1991",
                                    "month": "10",
                                    "day": "11"
                                },
                                {
                                    "release_date": "1991-11-01",
                                    "year": "1991",
                                    "month": "11",
                                    "day": "1"
                                },
                                {
                                    "release_date": "1991-11-13",
                                    "year": "1991",
                                    "month": "11",
                                    "day": "13"
                                },
                                {
                                    "release_date": "1991-12-20",
                                    "year": "1991",
                                    "month": "12",
                                    "day": "20"
                                },
                                {
                                    "release_date": "1992-01-10",
                                    "year": "1992",
                                    "month": "1",
                                    "day": "10"
                                },
                                {
                                    "release_date": "1992-02-07",
                                    "year": "1992",
                                    "month": "2",
                                    "day": "7"
                                },
                                {
                                    "release_date": "1992-03-06",
                                    "year": "1992",
                                    "month": "3",
                                    "day": "6"
                                },
                                {
                                    "release_date": "1992-03-20",
                                    "year": "1992",
                                    "month": "3",
                                    "day": "20"
                                },
                                {
                                    "release_date": "1992-04-03",
                                    "year": "1992",
                                    "month": "4",
                                    "day": "3"
                                },
                                {
                                    "release_date": "1992-04-08",
                                    "year": "1992",
                                    "month": "4",
                                    "day": "8"
                                },
                                {
                                    "release_date": "1992-04-24",
                                    "year": "1992",
                                    "month": "4",
                                    "day": "24"
                                },
                                {
                                    "release_date": "1992-05-22",
                                    "year": "1992",
                                    "month": "5",
                                    "day": "22"
                                },
                                {
                                    "release_date": "1992-05-29",
                                    "year": "1992",
                                    "month": "5",
                                    "day": "29"
                                },
                                {
                                    "release_date": "1992-07-17",
                                    "year": "1992",
                                    "month": "7",
                                    "day": "17"
                                },
                                {
                                    "release_date": "1992-07-17",
                                    "year": "1992",
                                    "month": "7",
                                    "day": "17"
                                },
                                {
                                    "release_date": "1992-08-07",
                                    "year": "1992",
                                    "month": "8",
                                    "day": "7"
                                },
                                {
                                    "release_date": "1992-08-21",
                                    "year": "1992",
                                    "month": "8",
                                    "day": "21"
                                },
                                {
                                    "release_date": "1992-09-18",
                                    "year": "1992",
                                    "month": "9",
                                    "day": "18"
                                },
                                {
                                    "release_date": "1992-09-18",
                                    "year": "1992",
                                    "month": "9",
                                    "day": "18"
                                },
                                {
                                    "release_date": "1992-09-25",
                                    "year": "1992",
                                    "month": "9",
                                    "day": "25"
                                },
                                {
                                    "release_date": "1992-10-02",
                                    "year": "1992",
                                    "month": "10",
                                    "day": "2"
                                },
                                {
                                    "release_date": "1992-10-09",
                                    "year": "1992",
                                    "month": "10",
                                    "day": "9"
                                },
                                {
                                    "release_date": "1992-10-16",
                                    "year": "1992",
                                    "month": "10",
                                    "day": "16"
                                },
                                {
                                    "release_date": "1992-11-11",
                                    "year": "1992",
                                    "month": "11",
                                    "day": "11"
                                },
                                {
                                    "release_date": "1992-12-04",
                                    "year": "1992",
                                    "month": "12",
                                    "day": "4"
                                },
                                {
                                    "release_date": "1992-12-11",
                                    "year": "1992",
                                    "month": "12",
                                    "day": "11"
                                },
                                {
                                    "release_date": "1993-01-15",
                                    "year": "1993",
                                    "month": "1",
                                    "day": "15"
                                },
                                {
                                    "release_date": "1993-01-22",
                                    "year": "1993",
                                    "month": "1",
                                    "day": "22"
                                },
                                {
                                    "release_date": "1993-02-03",
                                    "year": "1993",
                                    "month": "2",
                                    "day": "3"
                                },
                                {
                                    "release_date": "1993-02-03",
                                    "year": "1993",
                                    "month": "2",
                                    "day": "3"
                                },
                                {
                                    "release_date": "1993-03-05",
                                    "year": "1993",
                                    "month": "3",
                                    "day": "5"
                                },
                                {
                                    "release_date": "1993-03-12",
                                    "year": "1993",
                                    "month": "3",
                                    "day": "12"
                                },
                                {
                                    "release_date": "1993-03-26",
                                    "year": "1993",
                                    "month": "3",
                                    "day": "26"
                                },
                                {
                                    "release_date": "1993-04-02",
                                    "year": "1993",
                                    "month": "4",
                                    "day": "2"
                                },
                                {
                                    "release_date": "1993-04-16",
                                    "year": "1993",
                                    "month": "4",
                                    "day": "16"
                                },
                                {
                                    "release_date": "1993-04-23",
                                    "year": "1993",
                                    "month": "4",
                                    "day": "23"
                                },
                                {
                                    "release_date": "1993-05-28",
                                    "year": "1993",
                                    "month": "5",
                                    "day": "28"
                                },
                                {
                                    "release_date": "1993-06-04",
                                    "year": "1993",
                                    "month": "6",
                                    "day": "4"
                                },
                                {
                                    "release_date": "1993-06-04",
                                    "year": "1993",
                                    "month": "6",
                                    "day": "4"
                                },
                                {
                                    "release_date": "1993-06-09",
                                    "year": "1993",
                                    "month": "6",
                                    "day": "9"
                                },
                                {
                                    "release_date": "1993-07-02",
                                    "year": "1993",
                                    "month": "7",
                                    "day": "2"
                                },
                                {
                                    "release_date": "1993-07-16",
                                    "year": "1993",
                                    "month": "7",
                                    "day": "16"
                                },
                                {
                                    "release_date": "1993-07-23",
                                    "year": "1993",
                                    "month": "7",
                                    "day": "23"
                                },
                                {
                                    "release_date": "1993-08-06",
                                    "year": "1993",
                                    "month": "8",
                                    "day": "6"
                                },
                                {
                                    "release_date": "1993-08-27",
                                    "year": "1993",
                                    "month": "8",
                                    "day": "27"
                                },
                                {
                                    "release_date": "1993-09-08",
                                    "year": "1993",
                                    "month": "9",
                                    "day": "8"
                                },
                                {
                                    "release_date": "1993-09-10",
                                    "year": "1993",
                                    "month": "9",
                                    "day": "10"
                                },
                                {
                                    "release_date": "1993-09-24",
                                    "year": "1993",
                                    "month": "9",
                                    "day": "24"
                                },
                                {
                                    "release_date": "1993-10-01",
                                    "year": "1993",
                                    "month": "10",
                                    "day": "1"
                                },
                                {
                                    "release_date": "1993-10-13",
                                    "year": "1993",
                                    "month": "10",
                                    "day": "13"
                                },
                                {
                                    "release_date": "1993-11-12",
                                    "year": "1993",
                                    "month": "11",
                                    "day": "12"
                                },
                                {
                                    "release_date": "1993-12-10",
                                    "year": "1993",
                                    "month": "12",
                                    "day": "10"
                                },
                                {
                                    "release_date": "1993-12-25",
                                    "year": "1993",
                                    "month": "12",
                                    "day": "25"
                                },
                                {
                                    "release_date": "1994-01-07",
                                    "year": "1994",
                                    "month": "1",
                                    "day": "7"
                                },
                                {
                                    "release_date": "1994-01-07",
                                    "year": "1994",
                                    "month": "1",
                                    "day": "7"
                                },
                                {
                                    "release_date": "1994-01-14",
                                    "year": "1994",
                                    "month": "1",
                                    "day": "14"
                                },
                                {
                                    "release_date": "1994-01-28",
                                    "year": "1994",
                                    "month": "1",
                                    "day": "28"
                                },
                                {
                                    "release_date": "1994-02-11",
                                    "year": "1994",
                                    "month": "2",
                                    "day": "11"
                                },
                                {
                                    "release_date": "1994-03-04",
                                    "year": "1994",
                                    "month": "3",
                                    "day": "4"
                                },
                                {
                                    "release_date": "1994-03-09",
                                    "year": "1994",
                                    "month": "3",
                                    "day": "9"
                                },
                                {
                                    "release_date": "1994-03-25",
                                    "year": "1994",
                                    "month": "3",
                                    "day": "25"
                                },
                                {
                                    "release_date": "1994-04-08",
                                    "year": "1994",
                                    "month": "4",
                                    "day": "8"
                                },
                                {
                                    "release_date": "1994-04-15",
                                    "year": "1994",
                                    "month": "4",
                                    "day": "15"
                                },
                                {
                                    "release_date": "1994-04-22",
                                    "year": "1994",
                                    "month": "4",
                                    "day": "22"
                                },
                                {
                                    "release_date": "1994-04-29",
                                    "year": "1994",
                                    "month": "4",
                                    "day": "29"
                                },
                                {
                                    "release_date": "1994-05-06",
                                    "year": "1994",
                                    "month": "5",
                                    "day": "6"
                                },
                                {
                                    "release_date": "1994-06-03",
                                    "year": "1994",
                                    "month": "6",
                                    "day": "3"
                                },
                                {
                                    "release_date": "1994-06-15",
                                    "year": "1994",
                                    "month": "6",
                                    "day": "15"
                                },
                                {
                                    "release_date": "1994-06-29",
                                    "year": "1994",
                                    "month": "6",
                                    "day": "29"
                                },
                                {
                                    "release_date": "1994-07-15",
                                    "year": "1994",
                                    "month": "7",
                                    "day": "15"
                                },
                                {
                                    "release_date": "1994-08-12",
                                    "year": "1994",
                                    "month": "8",
                                    "day": "12"
                                },
                                {
                                    "release_date": "1994-08-19",
                                    "year": "1994",
                                    "month": "8",
                                    "day": "19"
                                },
                                {
                                    "release_date": "1994-08-26",
                                    "year": "1994",
                                    "month": "8",
                                    "day": "26"
                                },
                                {
                                    "release_date": "1994-08-26",
                                    "year": "1994",
                                    "month": "8",
                                    "day": "26"
                                },
                                {
                                    "release_date": "1994-09-02",
                                    "year": "1994",
                                    "month": "9",
                                    "day": "2"
                                },
                                {
                                    "release_date": "1994-09-14",
                                    "year": "1994",
                                    "month": "9",
                                    "day": "14"
                                },
                                {
                                    "release_date": "1994-09-23",
                                    "year": "1994",
                                    "month": "9",
                                    "day": "23"
                                },
                                {
                                    "release_date": "1994-09-30",
                                    "year": "1994",
                                    "month": "9",
                                    "day": "30"
                                },
                                {
                                    "release_date": "1994-10-21",
                                    "year": "1994",
                                    "month": "10",
                                    "day": "21"
                                },
                                {
                                    "release_date": "1994-10-28",
                                    "year": "1994",
                                    "month": "10",
                                    "day": "28"
                                },
                                {
                                    "release_date": "1994-11-11",
                                    "year": "1994",
                                    "month": "11",
                                    "day": "11"
                                },
                                {
                                    "release_date": "1994-11-23",
                                    "year": "1994",
                                    "month": "11",
                                    "day": "23"
                                },
                                {
                                    "release_date": "1994-12-25",
                                    "year": "1994",
                                    "month": "12",
                                    "day": "25"
                                },
                                {
                                    "release_date": "1995-01-06",
                                    "year": "1995",
                                    "month": "1",
                                    "day": "6"
                                },
                                {
                                    "release_date": "1995-01-20",
                                    "year": "1995",
                                    "month": "1",
                                    "day": "20"
                                },
                                {
                                    "release_date": "1995-01-27",
                                    "year": "1995",
                                    "month": "1",
                                    "day": "27"
                                },
                                {
                                    "release_date": "1995-02-03",
                                    "year": "1995",
                                    "month": "2",
                                    "day": "3"
                                },
                                {
                                    "release_date": "1995-02-17",
                                    "year": "1995",
                                    "month": "2",
                                    "day": "17"
                                },
                                {
                                    "release_date": "1995-03-03",
                                    "year": "1995",
                                    "month": "3",
                                    "day": "3"
                                },
                                {
                                    "release_date": "1995-03-03",
                                    "year": "1995",
                                    "month": "3",
                                    "day": "3"
                                },
                                {
                                    "release_date": "1995-03-24",
                                    "year": "1995",
                                    "month": "3",
                                    "day": "24"
                                },
                                {
                                    "release_date": "1995-03-28",
                                    "year": "1995",
                                    "month": "3",
                                    "day": "28"
                                },
                                {
                                    "release_date": "1995-03-31",
                                    "year": "1995",
                                    "month": "3",
                                    "day": "31"
                                },
                                {
                                    "release_date": "1995-03-31",
                                    "year": "1995",
                                    "month": "3",
                                    "day": "31"
                                },
                                {
                                    "release_date": "1995-04-07",
                                    "year": "1995",
                                    "month": "4",
                                    "day": "7"
                                },
                                {
                                    "release_date": "1995-04-21",
                                    "year": "1995",
                                    "month": "4",
                                    "day": "21"
                                },
                                {
                                    "release_date": "1995-05-12",
                                    "year": "1995",
                                    "month": "5",
                                    "day": "12"
                                },
                                {
                                    "release_date": "1995-05-26",
                                    "year": "1995",
                                    "month": "5",
                                    "day": "26"
                                },
                                {
                                    "release_date": "1995-06-10",
                                    "year": "1995",
                                    "month": "6",
                                    "day": "10"
                                },
                                {
                                    "release_date": "1995-06-30",
                                    "year": "1995",
                                    "month": "6",
                                    "day": "30"
                                },
                                {
                                    "release_date": "1995-07-28",
                                    "year": "1995",
                                    "month": "7",
                                    "day": "28"
                                },
                                {
                                    "release_date": "1995-08-11",
                                    "year": "1995",
                                    "month": "8",
                                    "day": "11"
                                },
                                {
                                    "release_date": "1995-08-11",
                                    "year": "1995",
                                    "month": "8",
                                    "day": "11"
                                },
                                {
                                    "release_date": "1995-09-08",
                                    "year": "1995",
                                    "month": "9",
                                    "day": "8"
                                },
                                {
                                    "release_date": "1995-09-15",
                                    "year": "1995",
                                    "month": "9",
                                    "day": "15"
                                },
                                {
                                    "release_date": "1995-09-29",
                                    "year": "1995",
                                    "month": "9",
                                    "day": "29"
                                },
                                {
                                    "release_date": "1995-10-04",
                                    "year": "1995",
                                    "month": "10",
                                    "day": "4"
                                },
                                {
                                    "release_date": "1995-10-13",
                                    "year": "1995",
                                    "month": "10",
                                    "day": "13"
                                },
                                {
                                    "release_date": "1995-10-13",
                                    "year": "1995",
                                    "month": "10",
                                    "day": "13"
                                },
                                {
                                    "release_date": "1995-10-27",
                                    "year": "1995",
                                    "month": "10",
                                    "day": "27"
                                },
                                {
                                    "release_date": "1995-11-22",
                                    "year": "1995",
                                    "month": "11",
                                    "day": "22"
                                },
                                {
                                    "release_date": "1995-12-08",
                                    "year": "1995",
                                    "month": "12",
                                    "day": "8"
                                },
                                {
                                    "release_date": "1995-12-20",
                                    "year": "1995",
                                    "month": "12",
                                    "day": "20"
                                },
                                {
                                    "release_date": "1995-12-22",
                                    "year": "1995",
                                    "month": "12",
                                    "day": "22"
                                },
                                {
                                    "release_date": "1995-12-29",
                                    "year": "1995",
                                    "month": "12",
                                    "day": "29"
                                },
                                {
                                    "release_date": "1996-02-02",
                                    "year": "1996",
                                    "month": "2",
                                    "day": "2"
                                },
                                {
                                    "release_date": "1996-02-16",
                                    "year": "1996",
                                    "month": "2",
                                    "day": "16"
                                },
                                {
                                    "release_date": "1996-02-16",
                                    "year": "1996",
                                    "month": "2",
                                    "day": "16"
                                },
                                {
                                    "release_date": "1996-02-23",
                                    "year": "1996",
                                    "month": "2",
                                    "day": "23"
                                },
                                {
                                    "release_date": "1996-03-01",
                                    "year": "1996",
                                    "month": "3",
                                    "day": "1"
                                },
                                {
                                    "release_date": "1996-03-08",
                                    "year": "1996",
                                    "month": "3",
                                    "day": "8"
                                },
                                {
                                    "release_date": "1996-03-15",
                                    "year": "1996",
                                    "month": "3",
                                    "day": "15"
                                },
                                {
                                    "release_date": "1996-03-22",
                                    "year": "1996",
                                    "month": "3",
                                    "day": "22"
                                },
                                {
                                    "release_date": "1996-04-12",
                                    "year": "1996",
                                    "month": "4",
                                    "day": "12"
                                },
                                {
                                    "release_date": "1996-04-19",
                                    "year": "1996",
                                    "month": "4",
                                    "day": "19"
                                },
                                {
                                    "release_date": "1996-05-03",
                                    "year": "1996",
                                    "month": "5",
                                    "day": "3"
                                },
                                {
                                    "release_date": "1996-05-10",
                                    "year": "1996",
                                    "month": "5",
                                    "day": "10"
                                },
                                {
                                    "release_date": "1996-05-24",
                                    "year": "1996",
                                    "month": "5",
                                    "day": "24"
                                },
                                {
                                    "release_date": "1996-05-31",
                                    "year": "1996",
                                    "month": "5",
                                    "day": "31"
                                },
                                {
                                    "release_date": "1996-06-07",
                                    "year": "1996",
                                    "month": "6",
                                    "day": "7"
                                },
                                {
                                    "release_date": "1996-06-21",
                                    "year": "1996",
                                    "month": "6",
                                    "day": "21"
                                },
                                {
                                    "release_date": "1996-07-05",
                                    "year": "1996",
                                    "month": "7",
                                    "day": "5"
                                },
                                {
                                    "release_date": "1996-07-17",
                                    "year": "1996",
                                    "month": "7",
                                    "day": "17"
                                },
                                {
                                    "release_date": "1996-08-09",
                                    "year": "1996",
                                    "month": "8",
                                    "day": "9"
                                },
                                {
                                    "release_date": "1996-08-30",
                                    "year": "1996",
                                    "month": "8",
                                    "day": "30"
                                },
                                {
                                    "release_date": "1996-09-13",
                                    "year": "1996",
                                    "month": "9",
                                    "day": "13"
                                },
                                {
                                    "release_date": "1996-10-04",
                                    "year": "1996",
                                    "month": "10",
                                    "day": "4"
                                },
                                {
                                    "release_date": "1996-10-25",
                                    "year": "1996",
                                    "month": "10",
                                    "day": "25"
                                },
                                {
                                    "release_date": "1996-11-08",
                                    "year": "1996",
                                    "month": "11",
                                    "day": "8"
                                },
                                {
                                    "release_date": "1996-11-20",
                                    "year": "1996",
                                    "month": "11",
                                    "day": "20"
                                },
                                {
                                    "release_date": "1996-11-27",
                                    "year": "1996",
                                    "month": "11",
                                    "day": "27"
                                },
                                {
                                    "release_date": "1996-12-13",
                                    "year": "1996",
                                    "month": "12",
                                    "day": "13"
                                },
                                {
                                    "release_date": "1996-12-25",
                                    "year": "1996",
                                    "month": "12",
                                    "day": "25"
                                },
                                {
                                    "release_date": "1997-01-17",
                                    "year": "1997",
                                    "month": "1",
                                    "day": "17"
                                },
                                {
                                    "release_date": "1997-01-24",
                                    "year": "1997",
                                    "month": "1",
                                    "day": "24"
                                },
                                {
                                    "release_date": "1997-01-31",
                                    "year": "1997",
                                    "month": "1",
                                    "day": "31"
                                },
                                {
                                    "release_date": "1997-02-14",
                                    "year": "1997",
                                    "month": "2",
                                    "day": "14"
                                },
                                {
                                    "release_date": "1997-03-07",
                                    "year": "1997",
                                    "month": "3",
                                    "day": "7"
                                },
                                {
                                    "release_date": "1997-03-28",
                                    "year": "1997",
                                    "month": "3",
                                    "day": "28"
                                },
                                {
                                    "release_date": "1997-04-11",
                                    "year": "1997",
                                    "month": "4",
                                    "day": "11"
                                },
                                {
                                    "release_date": "1997-04-25",
                                    "year": "1997",
                                    "month": "4",
                                    "day": "25"
                                },
                                {
                                    "release_date": "1997-05-30",
                                    "year": "1997",
                                    "month": "5",
                                    "day": "30"
                                },
                                {
                                    "release_date": "1997-06-06",
                                    "year": "1997",
                                    "month": "6",
                                    "day": "6"
                                },
                                {
                                    "release_date": "1997-06-13",
                                    "year": "1997",
                                    "month": "6",
                                    "day": "13"
                                },
                                {
                                    "release_date": "1997-07-16",
                                    "year": "1997",
                                    "month": "7",
                                    "day": "16"
                                },
                                {
                                    "release_date": "1997-07-18",
                                    "year": "1997",
                                    "month": "7",
                                    "day": "18"
                                },
                                {
                                    "release_date": "1997-08-01",
                                    "year": "1997",
                                    "month": "8",
                                    "day": "1"
                                },
                                {
                                    "release_date": "1997-08-22",
                                    "year": "1997",
                                    "month": "8",
                                    "day": "22"
                                },
                                {
                                    "release_date": "1997-09-19",
                                    "year": "1997",
                                    "month": "9",
                                    "day": "19"
                                },
                                {
                                    "release_date": "1997-10-05",
                                    "year": "1997",
                                    "month": "10",
                                    "day": "5"
                                },
                                {
                                    "release_date": "1997-10-10",
                                    "year": "1997",
                                    "month": "10",
                                    "day": "10"
                                },
                                {
                                    "release_date": "1997-10-17",
                                    "year": "1997",
                                    "month": "10",
                                    "day": "17"
                                },
                                {
                                    "release_date": "1997-11-26",
                                    "year": "1997",
                                    "month": "11",
                                    "day": "26"
                                },
                                {
                                    "release_date": "1997-12-25",
                                    "year": "1997",
                                    "month": "12",
                                    "day": "25"
                                },
                                {
                                    "release_date": "1997-12-25",
                                    "year": "1997",
                                    "month": "12",
                                    "day": "25"
                                },
                                {
                                    "release_date": "1997-12-25",
                                    "year": "1997",
                                    "month": "12",
                                    "day": "25"
                                },
                                {
                                    "release_date": "1998-01-30",
                                    "year": "1998",
                                    "month": "1",
                                    "day": "30"
                                },
                                {
                                    "release_date": "1998-02-27",
                                    "year": "1998",
                                    "month": "2",
                                    "day": "27"
                                },
                                {
                                    "release_date": "1998-02-27",
                                    "year": "1998",
                                    "month": "2",
                                    "day": "27"
                                },
                                {
                                    "release_date": "1998-03-27",
                                    "year": "1998",
                                    "month": "3",
                                    "day": "27"
                                },
                                {
                                    "release_date": "1998-05-01",
                                    "year": "1998",
                                    "month": "5",
                                    "day": "1"
                                },
                                {
                                    "release_date": "1998-05-15",
                                    "year": "1998",
                                    "month": "5",
                                    "day": "15"
                                },
                                {
                                    "release_date": "1998-06-12",
                                    "year": "1998",
                                    "month": "6",
                                    "day": "12"
                                },
                                {
                                    "release_date": "1998-06-19",
                                    "year": "1998",
                                    "month": "6",
                                    "day": "19"
                                },
                                {
                                    "release_date": "1998-07-01",
                                    "year": "1998",
                                    "month": "7",
                                    "day": "1"
                                },
                                {
                                    "release_date": "1998-07-24",
                                    "year": "1998",
                                    "month": "7",
                                    "day": "24"
                                },
                                {
                                    "release_date": "1998-07-29",
                                    "year": "1998",
                                    "month": "7",
                                    "day": "29"
                                },
                                {
                                    "release_date": "1998-09-04",
                                    "year": "1998",
                                    "month": "9",
                                    "day": "4"
                                },
                                {
                                    "release_date": "1998-09-11",
                                    "year": "1998",
                                    "month": "9",
                                    "day": "11"
                                },
                                {
                                    "release_date": "1998-10-09",
                                    "year": "1998",
                                    "month": "10",
                                    "day": "9"
                                },
                                {
                                    "release_date": "1998-10-16",
                                    "year": "1998",
                                    "month": "10",
                                    "day": "16"
                                },
                                {
                                    "release_date": "1998-11-06",
                                    "year": "1998",
                                    "month": "11",
                                    "day": "6"
                                },
                                {
                                    "release_date": "1998-11-13",
                                    "year": "1998",
                                    "month": "11",
                                    "day": "13"
                                },
                                {
                                    "release_date": "1998-11-20",
                                    "year": "1998",
                                    "month": "11",
                                    "day": "20"
                                },
                                {
                                    "release_date": "1998-11-20",
                                    "year": "1998",
                                    "month": "11",
                                    "day": "20"
                                },
                                {
                                    "release_date": "1998-12-11",
                                    "year": "1998",
                                    "month": "12",
                                    "day": "11"
                                },
                                {
                                    "release_date": "1998-12-25",
                                    "year": "1998",
                                    "month": "12",
                                    "day": "25"
                                },
                                {
                                    "release_date": "1998-12-25",
                                    "year": "1998",
                                    "month": "12",
                                    "day": "25"
                                },
                                {
                                    "release_date": "1999-02-12",
                                    "year": "1999",
                                    "month": "2",
                                    "day": "12"
                                },
                                {
                                    "release_date": "1999-02-26",
                                    "year": "1999",
                                    "month": "2",
                                    "day": "26"
                                },
                                {
                                    "release_date": "1999-03-26",
                                    "year": "1999",
                                    "month": "3",
                                    "day": "26"
                                },
                                {
                                    "release_date": "1999-03-31",
                                    "year": "1999",
                                    "month": "3",
                                    "day": "31"
                                },
                                {
                                    "release_date": "1999-05-14",
                                    "year": "1999",
                                    "month": "5",
                                    "day": "14"
                                },
                                {
                                    "release_date": "1999-06-04",
                                    "year": "1999",
                                    "month": "6",
                                    "day": "4"
                                },
                                {
                                    "release_date": "1999-06-16",
                                    "year": "1999",
                                    "month": "6",
                                    "day": "16"
                                },
                                {
                                    "release_date": "1999-07-02",
                                    "year": "1999",
                                    "month": "7",
                                    "day": "2"
                                },
                                {
                                    "release_date": "1999-07-23",
                                    "year": "1999",
                                    "month": "7",
                                    "day": "23"
                                },
                                {
                                    "release_date": "1999-08-06",
                                    "year": "1999",
                                    "month": "8",
                                    "day": "6"
                                },
                                {
                                    "release_date": "1999-08-27",
                                    "year": "1999",
                                    "month": "8",
                                    "day": "27"
                                },
                                {
                                    "release_date": "1999-09-17",
                                    "year": "1999",
                                    "month": "9",
                                    "day": "17"
                                },
                                {
                                    "release_date": "1999-09-24",
                                    "year": "1999",
                                    "month": "9",
                                    "day": "24"
                                },
                                {
                                    "release_date": "1999-10-01",
                                    "year": "1999",
                                    "month": "10",
                                    "day": "1"
                                },
                                {
                                    "release_date": "1999-10-15",
                                    "year": "1999",
                                    "month": "10",
                                    "day": "15"
                                },
                                {
                                    "release_date": "1999-11-05",
                                    "year": "1999",
                                    "month": "11",
                                    "day": "5"
                                },
                                {
                                    "release_date": "1999-11-19",
                                    "year": "1999",
                                    "month": "11",
                                    "day": "19"
                                },
                                {
                                    "release_date": "1999-12-08",
                                    "year": "1999",
                                    "month": "12",
                                    "day": "8"
                                },
                                {
                                    "release_date": "1999-12-10",
                                    "year": "1999",
                                    "month": "12",
                                    "day": "10"
                                },
                                {
                                    "release_date": "1999-12-17",
                                    "year": "1999",
                                    "month": "12",
                                    "day": "17"
                                },
                                {
                                    "release_date": "1999-12-24",
                                    "year": "1999",
                                    "month": "12",
                                    "day": "24"
                                },
                                {
                                    "release_date": "2000-01-01",
                                    "year": "2000",
                                    "month": "1",
                                    "day": "1"
                                },
                                {
                                    "release_date": "2000-02-04",
                                    "year": "2000",
                                    "month": "2",
                                    "day": "4"
                                },
                                {
                                    "release_date": "2000-02-11",
                                    "year": "2000",
                                    "month": "2",
                                    "day": "11"
                                },
                                {
                                    "release_date": "2000-03-10",
                                    "year": "2000",
                                    "month": "3",
                                    "day": "10"
                                },
                                {
                                    "release_date": "2000-03-31",
                                    "year": "2000",
                                    "month": "3",
                                    "day": "31"
                                },
                                {
                                    "release_date": "2000-04-14",
                                    "year": "2000",
                                    "month": "4",
                                    "day": "14"
                                },
                                {
                                    "release_date": "2000-05-19",
                                    "year": "2000",
                                    "month": "5",
                                    "day": "19"
                                },
                                {
                                    "release_date": "2000-05-26",
                                    "year": "2000",
                                    "month": "5",
                                    "day": "26"
                                },
                                {
                                    "release_date": "2000-06-09",
                                    "year": "2000",
                                    "month": "6",
                                    "day": "9"
                                },
                                {
                                    "release_date": "2000-06-16",
                                    "year": "2000",
                                    "month": "6",
                                    "day": "16"
                                },
                                {
                                    "release_date": "2000-07-07",
                                    "year": "2000",
                                    "month": "7",
                                    "day": "7"
                                },
                                {
                                    "release_date": "2000-08-04",
                                    "year": "2000",
                                    "month": "8",
                                    "day": "4"
                                },
                                {
                                    "release_date": "2000-08-25",
                                    "year": "2000",
                                    "month": "8",
                                    "day": "25"
                                },
                                {
                                    "release_date": "2000-09-15",
                                    "year": "2000",
                                    "month": "9",
                                    "day": "15"
                                },
                                {
                                    "release_date": "2000-09-29",
                                    "year": "2000",
                                    "month": "9",
                                    "day": "29"
                                },
                                {
                                    "release_date": "2000-11-22",
                                    "year": "2000",
                                    "month": "11",
                                    "day": "22"
                                },
                                {
                                    "release_date": "2000-11-22",
                                    "year": "2000",
                                    "month": "11",
                                    "day": "22"
                                },
                                {
                                    "release_date": "2000-12-15",
                                    "year": "2000",
                                    "month": "12",
                                    "day": "15"
                                },
                                {
                                    "release_date": "2000-12-22",
                                    "year": "2000",
                                    "month": "12",
                                    "day": "22"
                                },
                                {
                                    "release_date": "2001-01-12",
                                    "year": "2001",
                                    "month": "1",
                                    "day": "12"
                                },
                                {
                                    "release_date": "2001-02-16",
                                    "year": "2001",
                                    "month": "2",
                                    "day": "16"
                                },
                                {
                                    "release_date": "2001-04-06",
                                    "year": "2001",
                                    "month": "4",
                                    "day": "6"
                                },
                                {
                                    "release_date": "2001-05-25",
                                    "year": "2001",
                                    "month": "5",
                                    "day": "25"
                                },
                                {
                                    "release_date": "2001-06-08",
                                    "year": "2001",
                                    "month": "6",
                                    "day": "8"
                                },
                                {
                                    "release_date": "2001-06-29",
                                    "year": "2001",
                                    "month": "6",
                                    "day": "29"
                                },
                                {
                                    "release_date": "2001-08-03",
                                    "year": "2001",
                                    "month": "8",
                                    "day": "3"
                                },
                                {
                                    "release_date": "2001-08-24",
                                    "year": "2001",
                                    "month": "8",
                                    "day": "24"
                                },
                                {
                                    "release_date": "2001-10-05",
                                    "year": "2001",
                                    "month": "10",
                                    "day": "5"
                                },
                                {
                                    "release_date": "2001-10-12",
                                    "year": "2001",
                                    "month": "10",
                                    "day": "12"
                                },
                                {
                                    "release_date": "2001-10-26",
                                    "year": "2001",
                                    "month": "10",
                                    "day": "26"
                                },
                                {
                                    "release_date": "2001-11-02",
                                    "year": "2001",
                                    "month": "11",
                                    "day": "2"
                                },
                                {
                                    "release_date": "2001-11-21",
                                    "year": "2001",
                                    "month": "11",
                                    "day": "21"
                                },
                                {
                                    "release_date": "2001-12-14",
                                    "year": "2001",
                                    "month": "12",
                                    "day": "14"
                                },
                                {
                                    "release_date": "2002-01-01",
                                    "year": "2002",
                                    "month": "1",
                                    "day": "1"
                                },
                                {
                                    "release_date": "2002-01-01",
                                    "year": "2002",
                                    "month": "1",
                                    "day": "1"
                                },
                                {
                                    "release_date": "2002-01-18",
                                    "year": "2002",
                                    "month": "1",
                                    "day": "18"
                                },
                                {
                                    "release_date": "2002-01-25",
                                    "year": "2002",
                                    "month": "1",
                                    "day": "25"
                                },
                                {
                                    "release_date": "2002-02-15",
                                    "year": "2002",
                                    "month": "2",
                                    "day": "15"
                                },
                                {
                                    "release_date": "2002-02-19",
                                    "year": "2002",
                                    "month": "2",
                                    "day": "19"
                                },
                                {
                                    "release_date": "2002-03-22",
                                    "year": "2002",
                                    "month": "3",
                                    "day": "22"
                                },
                                {
                                    "release_date": "2002-03-29",
                                    "year": "2002",
                                    "month": "3",
                                    "day": "29"
                                },
                                {
                                    "release_date": "2002-04-05",
                                    "year": "2002",
                                    "month": "4",
                                    "day": "5"
                                },
                                {
                                    "release_date": "2002-05-10",
                                    "year": "2002",
                                    "month": "5",
                                    "day": "10"
                                },
                                {
                                    "release_date": "2002-06-07",
                                    "year": "2002",
                                    "month": "6",
                                    "day": "7"
                                },
                                {
                                    "release_date": "2002-06-21",
                                    "year": "2002",
                                    "month": "6",
                                    "day": "21"
                                },
                                {
                                    "release_date": "2002-07-26",
                                    "year": "2002",
                                    "month": "7",
                                    "day": "26"
                                },
                                {
                                    "release_date": "2002-08-02",
                                    "year": "2002",
                                    "month": "8",
                                    "day": "2"
                                },
                                {
                                    "release_date": "2002-09-20",
                                    "year": "2002",
                                    "month": "9",
                                    "day": "20"
                                },
                                {
                                    "release_date": "2002-09-27",
                                    "year": "2002",
                                    "month": "9",
                                    "day": "27"
                                },
                                {
                                    "release_date": "2002-09-27",
                                    "year": "2002",
                                    "month": "9",
                                    "day": "27"
                                },
                                {
                                    "release_date": "2002-10-11",
                                    "year": "2002",
                                    "month": "10",
                                    "day": "11"
                                },
                                {
                                    "release_date": "2002-11-01",
                                    "year": "2002",
                                    "month": "11",
                                    "day": "1"
                                },
                                {
                                    "release_date": "2002-11-27",
                                    "year": "2002",
                                    "month": "11",
                                    "day": "27"
                                },
                                {
                                    "release_date": "2002-12-13",
                                    "year": "2002",
                                    "month": "12",
                                    "day": "13"
                                },
                                {
                                    "release_date": "2002-12-19",
                                    "year": "2002",
                                    "month": "12",
                                    "day": "19"
                                },
                                {
                                    "release_date": "2003-01-31",
                                    "year": "2003",
                                    "month": "1",
                                    "day": "31"
                                },
                                {
                                    "release_date": "2003-02-07",
                                    "year": "2003",
                                    "month": "2",
                                    "day": "7"
                                },
                                {
                                    "release_date": "2003-02-14",
                                    "year": "2003",
                                    "month": "2",
                                    "day": "14"
                                },
                                {
                                    "release_date": "2003-03-07",
                                    "year": "2003",
                                    "month": "3",
                                    "day": "7"
                                },
                                {
                                    "release_date": "2003-03-21",
                                    "year": "2003",
                                    "month": "3",
                                    "day": "21"
                                },
                                {
                                    "release_date": "2003-04-11",
                                    "year": "2003",
                                    "month": "4",
                                    "day": "11"
                                },
                                {
                                    "release_date": "2003-04-18",
                                    "year": "2003",
                                    "month": "4",
                                    "day": "18"
                                },
                                {
                                    "release_date": "2003-05-02",
                                    "year": "2003",
                                    "month": "5",
                                    "day": "2"
                                },
                                {
                                    "release_date": "2003-05-30",
                                    "year": "2003",
                                    "month": "5",
                                    "day": "30"
                                },
                                {
                                    "release_date": "2003-07-09",
                                    "year": "2003",
                                    "month": "7",
                                    "day": "9"
                                },
                                {
                                    "release_date": "2003-08-06",
                                    "year": "2003",
                                    "month": "8",
                                    "day": "6"
                                },
                                {
                                    "release_date": "2003-08-15",
                                    "year": "2003",
                                    "month": "8",
                                    "day": "15"
                                },
                                {
                                    "release_date": "2003-09-19",
                                    "year": "2003",
                                    "month": "9",
                                    "day": "19"
                                },
                                {
                                    "release_date": "2003-09-26",
                                    "year": "2003",
                                    "month": "9",
                                    "day": "26"
                                },
                                {
                                    "release_date": "2003-10-17",
                                    "year": "2003",
                                    "month": "10",
                                    "day": "17"
                                },
                                {
                                    "release_date": "2003-10-24",
                                    "year": "2003",
                                    "month": "10",
                                    "day": "24"
                                },
                                {
                                    "release_date": "2003-11-26",
                                    "year": "2003",
                                    "month": "11",
                                    "day": "26"
                                },
                                {
                                    "release_date": "2003-12-19",
                                    "year": "2003",
                                    "month": "12",
                                    "day": "19"
                                },
                                {
                                    "release_date": "2003-12-25",
                                    "year": "2003",
                                    "month": "12",
                                    "day": "25"
                                },
                                {
                                    "release_date": "2004-01-16",
                                    "year": "2004",
                                    "month": "1",
                                    "day": "16"
                                },
                                {
                                    "release_date": "2004-02-06",
                                    "year": "2004",
                                    "month": "2",
                                    "day": "6"
                                },
                                {
                                    "release_date": "2004-02-20",
                                    "year": "2004",
                                    "month": "2",
                                    "day": "20"
                                },
                                {
                                    "release_date": "2004-03-05",
                                    "year": "2004",
                                    "month": "3",
                                    "day": "5"
                                },
                                {
                                    "release_date": "2004-03-26",
                                    "year": "2004",
                                    "month": "3",
                                    "day": "26"
                                },
                                {
                                    "release_date": "2004-04-02",
                                    "year": "2004",
                                    "month": "4",
                                    "day": "2"
                                },
                                {
                                    "release_date": "2004-04-09",
                                    "year": "2004",
                                    "month": "4",
                                    "day": "9"
                                },
                                {
                                    "release_date": "2004-05-28",
                                    "year": "2004",
                                    "month": "5",
                                    "day": "28"
                                },
                                {
                                    "release_date": "2004-06-16",
                                    "year": "2004",
                                    "month": "6",
                                    "day": "16"
                                },
                                {
                                    "release_date": "2004-07-02",
                                    "year": "2004",
                                    "month": "7",
                                    "day": "2"
                                },
                                {
                                    "release_date": "2004-07-07",
                                    "year": "2004",
                                    "month": "7",
                                    "day": "7"
                                },
                                {
                                    "release_date": "2004-07-30",
                                    "year": "2004",
                                    "month": "7",
                                    "day": "30"
                                },
                                {
                                    "release_date": "2004-08-11",
                                    "year": "2004",
                                    "month": "8",
                                    "day": "11"
                                },
                                {
                                    "release_date": "2004-09-17",
                                    "year": "2004",
                                    "month": "9",
                                    "day": "17"
                                },
                                {
                                    "release_date": "2004-09-24",
                                    "year": "2004",
                                    "month": "9",
                                    "day": "24"
                                },
                                {
                                    "release_date": "2004-10-01",
                                    "year": "2004",
                                    "month": "10",
                                    "day": "1"
                                },
                                {
                                    "release_date": "2004-11-05",
                                    "year": "2004",
                                    "month": "11",
                                    "day": "5"
                                },
                                {
                                    "release_date": "2004-11-19",
                                    "year": "2004",
                                    "month": "11",
                                    "day": "19"
                                },
                                {
                                    "release_date": "2004-12-10",
                                    "year": "2004",
                                    "month": "12",
                                    "day": "10"
                                },
                                {
                                    "release_date": "2005-01-28",
                                    "year": "2005",
                                    "month": "1",
                                    "day": "28"
                                },
                                {
                                    "release_date": "2005-02-11",
                                    "year": "2005",
                                    "month": "2",
                                    "day": "11"
                                },
                                {
                                    "release_date": "2005-03-04",
                                    "year": "2005",
                                    "month": "3",
                                    "day": "4"
                                },
                                {
                                    "release_date": "2005-03-18",
                                    "year": "2005",
                                    "month": "3",
                                    "day": "18"
                                },
                                {
                                    "release_date": "2005-04-22",
                                    "year": "2005",
                                    "month": "4",
                                    "day": "22"
                                },
                                {
                                    "release_date": "2005-04-29",
                                    "year": "2005",
                                    "month": "4",
                                    "day": "29"
                                },
                                {
                                    "release_date": "2005-06-10",
                                    "year": "2005",
                                    "month": "6",
                                    "day": "10"
                                },
                                {
                                    "release_date": "2005-06-22",
                                    "year": "2005",
                                    "month": "6",
                                    "day": "22"
                                },
                                {
                                    "release_date": "2005-07-08",
                                    "year": "2005",
                                    "month": "7",
                                    "day": "8"
                                },
                                {
                                    "release_date": "2005-07-29",
                                    "year": "2005",
                                    "month": "7",
                                    "day": "29"
                                },
                                {
                                    "release_date": "2005-08-19",
                                    "year": "2005",
                                    "month": "8",
                                    "day": "19"
                                },
                                {
                                    "release_date": "2005-09-23",
                                    "year": "2005",
                                    "month": "9",
                                    "day": "23"
                                },
                                {
                                    "release_date": "2005-09-30",
                                    "year": "2005",
                                    "month": "9",
                                    "day": "30"
                                },
                                {
                                    "release_date": "2005-10-21",
                                    "year": "2005",
                                    "month": "10",
                                    "day": "21"
                                },
                                {
                                    "release_date": "2005-11-04",
                                    "year": "2005",
                                    "month": "11",
                                    "day": "4"
                                },
                                {
                                    "release_date": "2005-12-09",
                                    "year": "2005",
                                    "month": "12",
                                    "day": "9"
                                },
                                {
                                    "release_date": "2005-12-25",
                                    "year": "2005",
                                    "month": "12",
                                    "day": "25"
                                },
                                {
                                    "release_date": "2006-01-13",
                                    "year": "2006",
                                    "month": "1",
                                    "day": "13"
                                },
                                {
                                    "release_date": "2006-01-27",
                                    "year": "2006",
                                    "month": "1",
                                    "day": "27"
                                },
                                {
                                    "release_date": "2006-01-27",
                                    "year": "2006",
                                    "month": "1",
                                    "day": "27"
                                },
                                {
                                    "release_date": "2006-02-17",
                                    "year": "2006",
                                    "month": "2",
                                    "day": "17"
                                },
                                {
                                    "release_date": "2006-03-10",
                                    "year": "2006",
                                    "month": "3",
                                    "day": "10"
                                },
                                {
                                    "release_date": "2006-03-24",
                                    "year": "2006",
                                    "month": "3",
                                    "day": "24"
                                },
                                {
                                    "release_date": "2006-04-14",
                                    "year": "2006",
                                    "month": "4",
                                    "day": "14"
                                },
                                {
                                    "release_date": "2006-04-28",
                                    "year": "2006",
                                    "month": "4",
                                    "day": "28"
                                },
                                {
                                    "release_date": "2006-05-12",
                                    "year": "2006",
                                    "month": "5",
                                    "day": "12"
                                },
                                {
                                    "release_date": "2006-06-09",
                                    "year": "2006",
                                    "month": "6",
                                    "day": "9"
                                },
                                {
                                    "release_date": "2006-07-07",
                                    "year": "2006",
                                    "month": "7",
                                    "day": "7"
                                },
                                {
                                    "release_date": "2006-08-11",
                                    "year": "2006",
                                    "month": "8",
                                    "day": "11"
                                },
                                {
                                    "release_date": "2006-08-25",
                                    "year": "2006",
                                    "month": "8",
                                    "day": "25"
                                },
                                {
                                    "release_date": "2006-09-29",
                                    "year": "2006",
                                    "month": "9",
                                    "day": "29"
                                },
                                {
                                    "release_date": "2006-10-20",
                                    "year": "2006",
                                    "month": "10",
                                    "day": "20"
                                },
                                {
                                    "release_date": "2006-10-20",
                                    "year": "2006",
                                    "month": "10",
                                    "day": "20"
                                },
                                {
                                    "release_date": "2006-11-03",
                                    "year": "2006",
                                    "month": "11",
                                    "day": "3"
                                },
                                {
                                    "release_date": "2006-11-22",
                                    "year": "2006",
                                    "month": "11",
                                    "day": "22"
                                },
                                {
                                    "release_date": "2006-12-08",
                                    "year": "2006",
                                    "month": "12",
                                    "day": "8"
                                },
                                {
                                    "release_date": "2007-01-12",
                                    "year": "2007",
                                    "month": "1",
                                    "day": "12"
                                },
                                {
                                    "release_date": "2007-02-16",
                                    "year": "2007",
                                    "month": "2",
                                    "day": "16"
                                },
                                {
                                    "release_date": "2007-03-02",
                                    "year": "2007",
                                    "month": "3",
                                    "day": "2"
                                },
                                {
                                    "release_date": "2007-03-30",
                                    "year": "2007",
                                    "month": "3",
                                    "day": "30"
                                },
                                {
                                    "release_date": "2007-03-30",
                                    "year": "2007",
                                    "month": "3",
                                    "day": "30"
                                },
                                {
                                    "release_date": "2007-04-06",
                                    "year": "2007",
                                    "month": "4",
                                    "day": "6"
                                },
                                {
                                    "release_date": "2007-04-27",
                                    "year": "2007",
                                    "month": "4",
                                    "day": "27"
                                },
                                {
                                    "release_date": "2007-05-24",
                                    "year": "2007",
                                    "month": "5",
                                    "day": "24"
                                },
                                {
                                    "release_date": "2007-06-29",
                                    "year": "2007",
                                    "month": "6",
                                    "day": "29"
                                },
                                {
                                    "release_date": "2007-08-03",
                                    "year": "2007",
                                    "month": "8",
                                    "day": "3"
                                },
                                {
                                    "release_date": "2007-09-22",
                                    "year": "2007",
                                    "month": "9",
                                    "day": "22"
                                },
                                {
                                    "release_date": "2007-10-20",
                                    "year": "2007",
                                    "month": "10",
                                    "day": "20"
                                },
                                {
                                    "release_date": "2007-11-21",
                                    "year": "2007",
                                    "month": "11",
                                    "day": "21"
                                },
                                {
                                    "release_date": "2007-12-21",
                                    "year": "2007",
                                    "month": "12",
                                    "day": "21"
                                },
                                {
                                    "release_date": "2008-02-01",
                                    "year": "2008",
                                    "month": "2",
                                    "day": "1"
                                },
                                {
                                    "release_date": "2008-02-14",
                                    "year": "2008",
                                    "month": "2",
                                    "day": "14"
                                },
                                {
                                    "release_date": "2008-03-07",
                                    "year": "2008",
                                    "month": "3",
                                    "day": "7"
                                },
                                {
                                    "release_date": "2008-05-16",
                                    "year": "2008",
                                    "month": "5",
                                    "day": "16"
                                },
                                {
                                    "release_date": "2008-06-27",
                                    "year": "2008",
                                    "month": "6",
                                    "day": "27"
                                },
                                {
                                    "release_date": "2008-08-01",
                                    "year": "2008",
                                    "month": "8",
                                    "day": "1"
                                },
                                {
                                    "release_date": "2008-08-29",
                                    "year": "2008",
                                    "month": "8",
                                    "day": "29"
                                },
                                {
                                    "release_date": "2008-09-26",
                                    "year": "2008",
                                    "month": "9",
                                    "day": "26"
                                },
                                {
                                    "release_date": "2008-10-03",
                                    "year": "2008",
                                    "month": "10",
                                    "day": "3"
                                },
                                {
                                    "release_date": "2008-10-17",
                                    "year": "2008",
                                    "month": "10",
                                    "day": "17"
                                },
                                {
                                    "release_date": "2008-10-24",
                                    "year": "2008",
                                    "month": "10",
                                    "day": "24"
                                },
                                {
                                    "release_date": "2008-11-21",
                                    "year": "2008",
                                    "month": "11",
                                    "day": "21"
                                },
                                {
                                    "release_date": "2008-12-25",
                                    "year": "2008",
                                    "month": "12",
                                    "day": "25"
                                },
                                {
                                    "release_date": "2009-02-13",
                                    "year": "2009",
                                    "month": "2",
                                    "day": "13"
                                },
                                {
                                    "release_date": "2009-02-27",
                                    "year": "2009",
                                    "month": "2",
                                    "day": "27"
                                },
                                {
                                    "release_date": "2009-03-13",
                                    "year": "2009",
                                    "month": "3",
                                    "day": "13"
                                },
                                {
                                    "release_date": "2009-04-10",
                                    "year": "2009",
                                    "month": "4",
                                    "day": "10"
                                },
                                {
                                    "release_date": "2009-04-22",
                                    "year": "2009",
                                    "month": "4",
                                    "day": "22"
                                },
                                {
                                    "release_date": "2009-05-29",
                                    "year": "2009",
                                    "month": "5",
                                    "day": "29"
                                },
                                {
                                    "release_date": "2009-06-19",
                                    "year": "2009",
                                    "month": "6",
                                    "day": "19"
                                },
                                {
                                    "release_date": "2009-07-24",
                                    "year": "2009",
                                    "month": "7",
                                    "day": "24"
                                },
                                {
                                    "release_date": "2009-08-14",
                                    "year": "2009",
                                    "month": "8",
                                    "day": "14"
                                },
                                {
                                    "release_date": "2009-08-21",
                                    "year": "2009",
                                    "month": "8",
                                    "day": "21"
                                },
                                {
                                    "release_date": "2009-09-10",
                                    "year": "2009",
                                    "month": "9",
                                    "day": "10"
                                },
                                {
                                    "release_date": "2009-09-25",
                                    "year": "2009",
                                    "month": "9",
                                    "day": "25"
                                },
                                {
                                    "release_date": "2009-10-02",
                                    "year": "2009",
                                    "month": "10",
                                    "day": "2"
                                },
                                {
                                    "release_date": "2009-11-06",
                                    "year": "2009",
                                    "month": "11",
                                    "day": "6"
                                },
                                {
                                    "release_date": "2009-11-25",
                                    "year": "2009",
                                    "month": "11",
                                    "day": "25"
                                },
                                {
                                    "release_date": "2009-11-25",
                                    "year": "2009",
                                    "month": "11",
                                    "day": "25"
                                },
                                {
                                    "release_date": "2010-01-29",
                                    "year": "2010",
                                    "month": "1",
                                    "day": "29"
                                },
                                {
                                    "release_date": "2010-03-05",
                                    "year": "2010",
                                    "month": "3",
                                    "day": "5"
                                },
                                {
                                    "release_date": "2010-03-26",
                                    "year": "2010",
                                    "month": "3",
                                    "day": "26"
                                },
                                {
                                    "release_date": "2010-03-31",
                                    "year": "2010",
                                    "month": "3",
                                    "day": "31"
                                },
                                {
                                    "release_date": "2010-04-22",
                                    "year": "2010",
                                    "month": "4",
                                    "day": "22"
                                },
                                {
                                    "release_date": "2010-05-28",
                                    "year": "2010",
                                    "month": "5",
                                    "day": "28"
                                },
                                {
                                    "release_date": "2010-06-18",
                                    "year": "2010",
                                    "month": "6",
                                    "day": "18"
                                },
                                {
                                    "release_date": "2010-07-14",
                                    "year": "2010",
                                    "month": "7",
                                    "day": "14"
                                },
                                {
                                    "release_date": "2010-08-06",
                                    "year": "2010",
                                    "month": "8",
                                    "day": "6"
                                },
                                {
                                    "release_date": "2010-08-13",
                                    "year": "2010",
                                    "month": "8",
                                    "day": "13"
                                },
                                {
                                    "release_date": "2010-09-24",
                                    "year": "2010",
                                    "month": "9",
                                    "day": "24"
                                },
                                {
                                    "release_date": "2010-10-08",
                                    "year": "2010",
                                    "month": "10",
                                    "day": "8"
                                },
                                {
                                    "release_date": "2010-11-24",
                                    "year": "2010",
                                    "month": "11",
                                    "day": "24"
                                },
                                {
                                    "release_date": "2010-12-17",
                                    "year": "2010",
                                    "month": "12",
                                    "day": "17"
                                },
                                {
                                    "release_date": "2011-02-11",
                                    "year": "2011",
                                    "month": "2",
                                    "day": "11"
                                },
                                {
                                    "release_date": "2011-02-18",
                                    "year": "2011",
                                    "month": "2",
                                    "day": "18"
                                },
                                {
                                    "release_date": "2011-03-11",
                                    "year": "2011",
                                    "month": "3",
                                    "day": "11"
                                },
                                {
                                    "release_date": "2011-04-22",
                                    "year": "2011",
                                    "month": "4",
                                    "day": "22"
                                },
                                {
                                    "release_date": "2011-04-22",
                                    "year": "2011",
                                    "month": "4",
                                    "day": "22"
                                },
                                {
                                    "release_date": "2011-04-29",
                                    "year": "2011",
                                    "month": "4",
                                    "day": "29"
                                },
                                {
                                    "release_date": "2011-05-20",
                                    "year": "2011",
                                    "month": "5",
                                    "day": "20"
                                },
                                {
                                    "release_date": "2011-06-24",
                                    "year": "2011",
                                    "month": "6",
                                    "day": "24"
                                },
                                {
                                    "release_date": "2011-07-15",
                                    "year": "2011",
                                    "month": "7",
                                    "day": "15"
                                },
                                {
                                    "release_date": "2011-08-10",
                                    "year": "2011",
                                    "month": "8",
                                    "day": "10"
                                },
                                {
                                    "release_date": "2011-08-19",
                                    "year": "2011",
                                    "month": "8",
                                    "day": "19"
                                },
                                {
                                    "release_date": "2011-10-07",
                                    "year": "2011",
                                    "month": "10",
                                    "day": "7"
                                },
                                {
                                    "release_date": "2011-11-23",
                                    "year": "2011",
                                    "month": "11",
                                    "day": "23"
                                },
                                {
                                    "release_date": "2011-12-25",
                                    "year": "2011",
                                    "month": "12",
                                    "day": "25"
                                },
                                {
                                    "release_date": "2012-02-17",
                                    "year": "2012",
                                    "month": "2",
                                    "day": "17"
                                },
                                {
                                    "release_date": "2012-03-09",
                                    "year": "2012",
                                    "month": "3",
                                    "day": "9"
                                },
                                {
                                    "release_date": "2012-04-20",
                                    "year": "2012",
                                    "month": "4",
                                    "day": "20"
                                },
                                {
                                    "release_date": "2012-05-04",
                                    "year": "2012",
                                    "month": "5",
                                    "day": "4"
                                },
                                {
                                    "release_date": "2012-06-22",
                                    "year": "2012",
                                    "month": "6",
                                    "day": "22"
                                },
                                {
                                    "release_date": "2012-06-29",
                                    "year": "2012",
                                    "month": "6",
                                    "day": "29"
                                },
                                {
                                    "release_date": "2012-08-15",
                                    "year": "2012",
                                    "month": "8",
                                    "day": "15"
                                },
                                {
                                    "release_date": "2012-10-05",
                                    "year": "2012",
                                    "month": "10",
                                    "day": "5"
                                },
                                {
                                    "release_date": "2012-11-02",
                                    "year": "2012",
                                    "month": "11",
                                    "day": "2"
                                },
                                {
                                    "release_date": "2012-11-09",
                                    "year": "2012",
                                    "month": "11",
                                    "day": "9"
                                },
                                {
                                    "release_date": "2013-03-08",
                                    "year": "2013",
                                    "month": "3",
                                    "day": "8"
                                },
                                {
                                    "release_date": "2013-05-03",
                                    "year": "2013",
                                    "month": "5",
                                    "day": "3"
                                },
                                {
                                    "release_date": "2013-06-21",
                                    "year": "2013",
                                    "month": "6",
                                    "day": "21"
                                },
                                {
                                    "release_date": "2013-07-02",
                                    "year": "2013",
                                    "month": "7",
                                    "day": "2"
                                },
                                {
                                    "release_date": "2013-08-09",
                                    "year": "2013",
                                    "month": "8",
                                    "day": "9"
                                },
                                {
                                    "release_date": "2013-10-18",
                                    "year": "2013",
                                    "month": "10",
                                    "day": "18"
                                },
                                {
                                    "release_date": "2013-11-08",
                                    "year": "2013",
                                    "month": "11",
                                    "day": "8"
                                },
                                {
                                    "release_date": "2013-11-08",
                                    "year": "2013",
                                    "month": "11",
                                    "day": "8"
                                },
                                {
                                    "release_date": "2013-11-22",
                                    "year": "2013",
                                    "month": "11",
                                    "day": "22"
                                },
                                {
                                    "release_date": "2013-11-22",
                                    "year": "2013",
                                    "month": "11",
                                    "day": "22"
                                },
                                {
                                    "release_date": "2013-12-13",
                                    "year": "2013",
                                    "month": "12",
                                    "day": "13"
                                },
                                {
                                    "release_date": "2014-03-14",
                                    "year": "2014",
                                    "month": "3",
                                    "day": "14"
                                },
                                {
                                    "release_date": "2014-03-21",
                                    "year": "2014",
                                    "month": "3",
                                    "day": "21"
                                },
                                {
                                    "release_date": "2014-04-04",
                                    "year": "2014",
                                    "month": "4",
                                    "day": "4"
                                },
                                {
                                    "release_date": "2014-04-18",
                                    "year": "2014",
                                    "month": "4",
                                    "day": "18"
                                },
                                {
                                    "release_date": "2014-05-10",
                                    "year": "2014",
                                    "month": "5",
                                    "day": "10"
                                },
                                {
                                    "release_date": "2014-05-30",
                                    "year": "2014",
                                    "month": "5",
                                    "day": "30"
                                },
                                {
                                    "release_date": "2014-07-18",
                                    "year": "2014",
                                    "month": "7",
                                    "day": "18"
                                },
                                {
                                    "release_date": "2014-08-01",
                                    "year": "2014",
                                    "month": "8",
                                    "day": "1"
                                },
                                {
                                    "release_date": "2014-08-08",
                                    "year": "2014",
                                    "month": "8",
                                    "day": "8"
                                },
                                {
                                    "release_date": "2014-10-10",
                                    "year": "2014",
                                    "month": "10",
                                    "day": "10"
                                },
                                {
                                    "release_date": "2014-11-07",
                                    "year": "2014",
                                    "month": "11",
                                    "day": "7"
                                },
                                {
                                    "release_date": "2014-12-25",
                                    "year": "2014",
                                    "month": "12",
                                    "day": "25"
                                },
                                {
                                    "release_date": "2015-01-23",
                                    "year": "2015",
                                    "month": "1",
                                    "day": "23"
                                },
                                {
                                    "release_date": "2015-02-20",
                                    "year": "2015",
                                    "month": "2",
                                    "day": "20"
                                },
                                {
                                    "release_date": "2015-03-13",
                                    "year": "2015",
                                    "month": "3",
                                    "day": "13"
                                },
                                {
                                    "release_date": "2015-04-17",
                                    "year": "2015",
                                    "month": "4",
                                    "day": "17"
                                },
                                {
                                    "release_date": "2015-05-01",
                                    "year": "2015",
                                    "month": "5",
                                    "day": "1"
                                },
                                {
                                    "release_date": "2015-05-22",
                                    "year": "2015",
                                    "month": "5",
                                    "day": "22"
                                },
                                {
                                    "release_date": "2015-06-19",
                                    "year": "2015",
                                    "month": "6",
                                    "day": "19"
                                },
                                {
                                    "release_date": "2015-07-17",
                                    "year": "2015",
                                    "month": "7",
                                    "day": "17"
                                },
                                {
                                    "release_date": "2015-10-16",
                                    "year": "2015",
                                    "month": "10",
                                    "day": "16"
                                },
                                {
                                    "release_date": "2015-11-25",
                                    "year": "2015",
                                    "month": "11",
                                    "day": "25"
                                },
                                {
                                    "release_date": "2015-12-18",
                                    "year": "2015",
                                    "month": "12",
                                    "day": "18"
                                },
                                {
                                    "release_date": "2016-01-29",
                                    "year": "2016",
                                    "month": "1",
                                    "day": "29"
                                },
                                {
                                    "release_date": "2016-03-04",
                                    "year": "2016",
                                    "month": "3",
                                    "day": "4"
                                },
                                {
                                    "release_date": "2016-04-15",
                                    "year": "2016",
                                    "month": "4",
                                    "day": "15"
                                },
                                {
                                    "release_date": "2016-04-29",
                                    "year": "2016",
                                    "month": "4",
                                    "day": "29"
                                },
                                {
                                    "release_date": "2016-05-06",
                                    "year": "2016",
                                    "month": "5",
                                    "day": "6"
                                },
                                {
                                    "release_date": "2016-05-27",
                                    "year": "2016",
                                    "month": "5",
                                    "day": "27"
                                },
                                {
                                    "release_date": "2016-06-17",
                                    "year": "2016",
                                    "month": "6",
                                    "day": "17"
                                },
                                {
                                    "release_date": "2016-07-01",
                                    "year": "2016",
                                    "month": "7",
                                    "day": "1"
                                },
                                {
                                    "release_date": "2016-08-12",
                                    "year": "2016",
                                    "month": "8",
                                    "day": "12"
                                },
                                {
                                    "release_date": "2016-09-02",
                                    "year": "2016",
                                    "month": "9",
                                    "day": "2"
                                },
                                {
                                    "release_date": "2016-09-23",
                                    "year": "2016",
                                    "month": "9",
                                    "day": "23"
                                },
                                {
                                    "release_date": "2016-11-04",
                                    "year": "2016",
                                    "month": "11",
                                    "day": "4"
                                },
                                {
                                    "release_date": "2016-11-23",
                                    "year": "2016",
                                    "month": "11",
                                    "day": "23"
                                },
                                {
                                    "release_date": "2016-12-16",
                                    "year": "2016",
                                    "month": "12",
                                    "day": "16"
                                }
                            ]
                        },
                        "text/html": "<table><tr><th>release_date</th><th>year</th><th>month</th><th>day</th></tr><tr><td>1937-12-21</td><td>1937</td><td>12</td><td>21</td></tr><tr><td>1940-02-09</td><td>1940</td><td>2</td><td>9</td></tr><tr><td>1940-11-13</td><td>1940</td><td>11</td><td>13</td></tr><tr><td>1946-11-12</td><td>1946</td><td>11</td><td>12</td></tr><tr><td>1950-02-15</td><td>1950</td><td>2</td><td>15</td></tr><tr><td>1954-12-23</td><td>1954</td><td>12</td><td>23</td></tr><tr><td>1955-06-22</td><td>1955</td><td>6</td><td>22</td></tr><tr><td>1959-01-29</td><td>1959</td><td>1</td><td>29</td></tr><tr><td>1961-01-25</td><td>1961</td><td>1</td><td>25</td></tr><tr><td>1961-03-16</td><td>1961</td><td>3</td><td>16</td></tr><tr><td>1961-12-14</td><td>1961</td><td>12</td><td>14</td></tr><tr><td>1962-05-17</td><td>1962</td><td>5</td><td>17</td></tr><tr><td>1963-12-25</td><td>1963</td><td>12</td><td>25</td></tr><tr><td>1967-10-18</td><td>1967</td><td>10</td><td>18</td></tr><tr><td>1968-02-08</td><td>1968</td><td>2</td><td>8</td></tr><tr><td>1970-04-24</td><td>1970</td><td>4</td><td>24</td></tr><tr><td>1970-07-01</td><td>1970</td><td>7</td><td>1</td></tr><tr><td>1971-10-07</td><td>1971</td><td>10</td><td>7</td></tr><tr><td>1975-07-01</td><td>1975</td><td>7</td><td>1</td></tr><tr><td>1977-01-21</td><td>1977</td><td>1</td><td>21</td></tr><tr><td>1977-03-11</td><td>1977</td><td>3</td><td>11</td></tr><tr><td>1977-06-22</td><td>1977</td><td>6</td><td>22</td></tr><tr><td>1977-06-24</td><td>1977</td><td>6</td><td>24</td></tr><tr><td>1979-12-21</td><td>1979</td><td>12</td><td>21</td></tr><tr><td>1980-02-08</td><td>1980</td><td>2</td><td>8</td></tr><tr><td>1980-06-25</td><td>1980</td><td>6</td><td>25</td></tr><tr><td>1981-01-01</td><td>1981</td><td>1</td><td>1</td></tr><tr><td>1981-03-20</td><td>1981</td><td>3</td><td>20</td></tr><tr><td>1981-07-10</td><td>1981</td><td>7</td><td>10</td></tr><tr><td>1981-08-07</td><td>1981</td><td>8</td><td>7</td></tr><tr><td>1982-02-05</td><td>1982</td><td>2</td><td>5</td></tr><tr><td>1982-07-09</td><td>1982</td><td>7</td><td>9</td></tr><tr><td>1982-11-19</td><td>1982</td><td>11</td><td>19</td></tr><tr><td>1983-03-11</td><td>1983</td><td>3</td><td>11</td></tr><tr><td>1983-04-29</td><td>1983</td><td>4</td><td>29</td></tr><tr><td>1983-10-07</td><td>1983</td><td>10</td><td>7</td></tr><tr><td>1983-11-04</td><td>1983</td><td>11</td><td>4</td></tr><tr><td>1984-03-09</td><td>1984</td><td>3</td><td>9</td></tr><tr><td>1984-09-29</td><td>1984</td><td>9</td><td>29</td></tr><tr><td>1985-03-22</td><td>1985</td><td>3</td><td>22</td></tr><tr><td>1985-06-21</td><td>1985</td><td>6</td><td>21</td></tr><tr><td>1985-07-24</td><td>1985</td><td>7</td><td>24</td></tr><tr><td>1985-08-09</td><td>1985</td><td>8</td><td>9</td></tr><tr><td>1985-09-27</td><td>1985</td><td>9</td><td>27</td></tr><tr><td>1985-11-22</td><td>1985</td><td>11</td><td>22</td></tr><tr><td>1986-01-31</td><td>1986</td><td>1</td><td>31</td></tr><tr><td>1986-04-11</td><td>1986</td><td>4</td><td>11</td></tr><tr><td>1986-06-27</td><td>1986</td><td>6</td><td>27</td></tr><tr><td>1986-07-02</td><td>1986</td><td>7</td><td>2</td></tr><tr><td>1986-07-30</td><td>1986</td><td>7</td><td>30</td></tr><tr><td>1986-10-03</td><td>1986</td><td>10</td><td>3</td></tr><tr><td>1986-10-17</td><td>1986</td><td>10</td><td>17</td></tr><tr><td>1987-01-30</td><td>1987</td><td>1</td><td>30</td></tr><tr><td>1987-03-06</td><td>1987</td><td>3</td><td>6</td></tr><tr><td>1987-05-22</td><td>1987</td><td>5</td><td>22</td></tr><tr><td>1987-06-05</td><td>1987</td><td>6</td><td>5</td></tr><tr><td>1987-07-03</td><td>1987</td><td>7</td><td>3</td></tr><tr><td>1987-08-05</td><td>1987</td><td>8</td><td>5</td></tr><tr><td>1987-08-14</td><td>1987</td><td>8</td><td>14</td></tr><tr><td>1987-11-06</td><td>1987</td><td>11</td><td>6</td></tr><tr><td>1987-11-25</td><td>1987</td><td>11</td><td>25</td></tr><tr><td>1987-12-23</td><td>1987</td><td>12</td><td>23</td></tr><tr><td>1988-02-12</td><td>1988</td><td>2</td><td>12</td></tr><tr><td>1988-03-18</td><td>1988</td><td>3</td><td>18</td></tr><tr><td>1988-04-15</td><td>1988</td><td>4</td><td>15</td></tr><tr><td>1988-06-10</td><td>1988</td><td>6</td><td>10</td></tr><tr><td>1988-06-22</td><td>1988</td><td>6</td><td>22</td></tr><tr><td>1988-07-29</td><td>1988</td><td>7</td><td>29</td></tr><tr><td>1988-08-05</td><td>1988</td><td>8</td><td>5</td></tr><tr><td>1988-09-30</td><td>1988</td><td>9</td><td>30</td></tr><tr><td>1988-11-04</td><td>1988</td><td>11</td><td>4</td></tr><tr><td>1988-11-11</td><td>1988</td><td>11</td><td>11</td></tr><tr><td>1988-11-18</td><td>1988</td><td>11</td><td>18</td></tr><tr><td>1988-12-21</td><td>1988</td><td>12</td><td>21</td></tr><tr><td>1989-01-27</td><td>1989</td><td>1</td><td>27</td></tr><tr><td>1989-03-01</td><td>1989</td><td>3</td><td>1</td></tr><tr><td>1989-04-14</td><td>1989</td><td>4</td><td>14</td></tr><tr><td>1989-06-02</td><td>1989</td><td>6</td><td>2</td></tr><tr><td>1989-06-23</td><td>1989</td><td>6</td><td>23</td></tr><tr><td>1989-07-28</td><td>1989</td><td>7</td><td>28</td></tr><tr><td>1989-08-18</td><td>1989</td><td>8</td><td>18</td></tr><tr><td>1989-10-06</td><td>1989</td><td>10</td><td>6</td></tr><tr><td>1989-10-20</td><td>1989</td><td>10</td><td>20</td></tr><tr><td>1989-11-15</td><td>1989</td><td>11</td><td>15</td></tr><tr><td>1989-12-13</td><td>1989</td><td>12</td><td>13</td></tr><tr><td>1990-02-02</td><td>1990</td><td>2</td><td>2</td></tr><tr><td>1990-02-23</td><td>1990</td><td>2</td><td>23</td></tr><tr><td>1990-03-23</td><td>1990</td><td>3</td><td>23</td></tr><tr><td>1990-04-06</td><td>1990</td><td>4</td><td>6</td></tr><tr><td>1990-04-27</td><td>1990</td><td>4</td><td>27</td></tr><tr><td>1990-05-24</td><td>1990</td><td>5</td><td>24</td></tr><tr><td>1990-06-15</td><td>1990</td><td>6</td><td>15</td></tr><tr><td>1990-06-22</td><td>1990</td><td>6</td><td>22</td></tr><tr><td>1990-07-18</td><td>1990</td><td>7</td><td>18</td></tr><tr><td>1990-08-03</td><td>1990</td><td>8</td><td>3</td></tr><tr><td>1990-08-17</td><td>1990</td><td>8</td><td>17</td></tr><tr><td>1990-10-12</td><td>1990</td><td>10</td><td>12</td></tr><tr><td>1990-11-16</td><td>1990</td><td>11</td><td>16</td></tr><tr><td>1990-11-21</td><td>1990</td><td>11</td><td>21</td></tr><tr><td>1990-12-25</td><td>1990</td><td>12</td><td>25</td></tr><tr><td>1991-01-18</td><td>1991</td><td>1</td><td>18</td></tr><tr><td>1991-02-22</td><td>1991</td><td>2</td><td>22</td></tr><tr><td>1991-03-01</td><td>1991</td><td>3</td><td>1</td></tr><tr><td>1991-04-05</td><td>1991</td><td>4</td><td>5</td></tr><tr><td>1991-04-26</td><td>1991</td><td>4</td><td>26</td></tr><tr><td>1991-05-03</td><td>1991</td><td>5</td><td>3</td></tr><tr><td>1991-05-17</td><td>1991</td><td>5</td><td>17</td></tr><tr><td>1991-05-24</td><td>1991</td><td>5</td><td>24</td></tr><tr><td>1991-06-21</td><td>1991</td><td>6</td><td>21</td></tr><tr><td>1991-07-24</td><td>1991</td><td>7</td><td>24</td></tr><tr><td>1991-09-18</td><td>1991</td><td>9</td><td>18</td></tr><tr><td>1991-09-27</td><td>1991</td><td>9</td><td>27</td></tr><tr><td>1991-10-11</td><td>1991</td><td>10</td><td>11</td></tr><tr><td>1991-11-01</td><td>1991</td><td>11</td><td>1</td></tr><tr><td>1991-11-13</td><td>1991</td><td>11</td><td>13</td></tr><tr><td>1991-12-20</td><td>1991</td><td>12</td><td>20</td></tr><tr><td>1992-01-10</td><td>1992</td><td>1</td><td>10</td></tr><tr><td>1992-02-07</td><td>1992</td><td>2</td><td>7</td></tr><tr><td>1992-03-06</td><td>1992</td><td>3</td><td>6</td></tr><tr><td>1992-03-20</td><td>1992</td><td>3</td><td>20</td></tr><tr><td>1992-04-03</td><td>1992</td><td>4</td><td>3</td></tr><tr><td>1992-04-08</td><td>1992</td><td>4</td><td>8</td></tr><tr><td>1992-04-24</td><td>1992</td><td>4</td><td>24</td></tr><tr><td>1992-05-22</td><td>1992</td><td>5</td><td>22</td></tr><tr><td>1992-05-29</td><td>1992</td><td>5</td><td>29</td></tr><tr><td>1992-07-17</td><td>1992</td><td>7</td><td>17</td></tr><tr><td>1992-07-17</td><td>1992</td><td>7</td><td>17</td></tr><tr><td>1992-08-07</td><td>1992</td><td>8</td><td>7</td></tr><tr><td>1992-08-21</td><td>1992</td><td>8</td><td>21</td></tr><tr><td>1992-09-18</td><td>1992</td><td>9</td><td>18</td></tr><tr><td>1992-09-18</td><td>1992</td><td>9</td><td>18</td></tr><tr><td>1992-09-25</td><td>1992</td><td>9</td><td>25</td></tr><tr><td>1992-10-02</td><td>1992</td><td>10</td><td>2</td></tr><tr><td>1992-10-09</td><td>1992</td><td>10</td><td>9</td></tr><tr><td>1992-10-16</td><td>1992</td><td>10</td><td>16</td></tr><tr><td>1992-11-11</td><td>1992</td><td>11</td><td>11</td></tr><tr><td>1992-12-04</td><td>1992</td><td>12</td><td>4</td></tr><tr><td>1992-12-11</td><td>1992</td><td>12</td><td>11</td></tr><tr><td>1993-01-15</td><td>1993</td><td>1</td><td>15</td></tr><tr><td>1993-01-22</td><td>1993</td><td>1</td><td>22</td></tr><tr><td>1993-02-03</td><td>1993</td><td>2</td><td>3</td></tr><tr><td>1993-02-03</td><td>1993</td><td>2</td><td>3</td></tr><tr><td>1993-03-05</td><td>1993</td><td>3</td><td>5</td></tr><tr><td>1993-03-12</td><td>1993</td><td>3</td><td>12</td></tr><tr><td>1993-03-26</td><td>1993</td><td>3</td><td>26</td></tr><tr><td>1993-04-02</td><td>1993</td><td>4</td><td>2</td></tr><tr><td>1993-04-16</td><td>1993</td><td>4</td><td>16</td></tr><tr><td>1993-04-23</td><td>1993</td><td>4</td><td>23</td></tr><tr><td>1993-05-28</td><td>1993</td><td>5</td><td>28</td></tr><tr><td>1993-06-04</td><td>1993</td><td>6</td><td>4</td></tr><tr><td>1993-06-04</td><td>1993</td><td>6</td><td>4</td></tr><tr><td>1993-06-09</td><td>1993</td><td>6</td><td>9</td></tr><tr><td>1993-07-02</td><td>1993</td><td>7</td><td>2</td></tr><tr><td>1993-07-16</td><td>1993</td><td>7</td><td>16</td></tr><tr><td>1993-07-23</td><td>1993</td><td>7</td><td>23</td></tr><tr><td>1993-08-06</td><td>1993</td><td>8</td><td>6</td></tr><tr><td>1993-08-27</td><td>1993</td><td>8</td><td>27</td></tr><tr><td>1993-09-08</td><td>1993</td><td>9</td><td>8</td></tr><tr><td>1993-09-10</td><td>1993</td><td>9</td><td>10</td></tr><tr><td>1993-09-24</td><td>1993</td><td>9</td><td>24</td></tr><tr><td>1993-10-01</td><td>1993</td><td>10</td><td>1</td></tr><tr><td>1993-10-13</td><td>1993</td><td>10</td><td>13</td></tr><tr><td>1993-11-12</td><td>1993</td><td>11</td><td>12</td></tr><tr><td>1993-12-10</td><td>1993</td><td>12</td><td>10</td></tr><tr><td>1993-12-25</td><td>1993</td><td>12</td><td>25</td></tr><tr><td>1994-01-07</td><td>1994</td><td>1</td><td>7</td></tr><tr><td>1994-01-07</td><td>1994</td><td>1</td><td>7</td></tr><tr><td>1994-01-14</td><td>1994</td><td>1</td><td>14</td></tr><tr><td>1994-01-28</td><td>1994</td><td>1</td><td>28</td></tr><tr><td>1994-02-11</td><td>1994</td><td>2</td><td>11</td></tr><tr><td>1994-03-04</td><td>1994</td><td>3</td><td>4</td></tr><tr><td>1994-03-09</td><td>1994</td><td>3</td><td>9</td></tr><tr><td>1994-03-25</td><td>1994</td><td>3</td><td>25</td></tr><tr><td>1994-04-08</td><td>1994</td><td>4</td><td>8</td></tr><tr><td>1994-04-15</td><td>1994</td><td>4</td><td>15</td></tr><tr><td>1994-04-22</td><td>1994</td><td>4</td><td>22</td></tr><tr><td>1994-04-29</td><td>1994</td><td>4</td><td>29</td></tr><tr><td>1994-05-06</td><td>1994</td><td>5</td><td>6</td></tr><tr><td>1994-06-03</td><td>1994</td><td>6</td><td>3</td></tr><tr><td>1994-06-15</td><td>1994</td><td>6</td><td>15</td></tr><tr><td>1994-06-29</td><td>1994</td><td>6</td><td>29</td></tr><tr><td>1994-07-15</td><td>1994</td><td>7</td><td>15</td></tr><tr><td>1994-08-12</td><td>1994</td><td>8</td><td>12</td></tr><tr><td>1994-08-19</td><td>1994</td><td>8</td><td>19</td></tr><tr><td>1994-08-26</td><td>1994</td><td>8</td><td>26</td></tr><tr><td>1994-08-26</td><td>1994</td><td>8</td><td>26</td></tr><tr><td>1994-09-02</td><td>1994</td><td>9</td><td>2</td></tr><tr><td>1994-09-14</td><td>1994</td><td>9</td><td>14</td></tr><tr><td>1994-09-23</td><td>1994</td><td>9</td><td>23</td></tr><tr><td>1994-09-30</td><td>1994</td><td>9</td><td>30</td></tr><tr><td>1994-10-21</td><td>1994</td><td>10</td><td>21</td></tr><tr><td>1994-10-28</td><td>1994</td><td>10</td><td>28</td></tr><tr><td>1994-11-11</td><td>1994</td><td>11</td><td>11</td></tr><tr><td>1994-11-23</td><td>1994</td><td>11</td><td>23</td></tr><tr><td>1994-12-25</td><td>1994</td><td>12</td><td>25</td></tr><tr><td>1995-01-06</td><td>1995</td><td>1</td><td>6</td></tr><tr><td>1995-01-20</td><td>1995</td><td>1</td><td>20</td></tr><tr><td>1995-01-27</td><td>1995</td><td>1</td><td>27</td></tr><tr><td>1995-02-03</td><td>1995</td><td>2</td><td>3</td></tr><tr><td>1995-02-17</td><td>1995</td><td>2</td><td>17</td></tr><tr><td>1995-03-03</td><td>1995</td><td>3</td><td>3</td></tr><tr><td>1995-03-03</td><td>1995</td><td>3</td><td>3</td></tr><tr><td>1995-03-24</td><td>1995</td><td>3</td><td>24</td></tr><tr><td>1995-03-28</td><td>1995</td><td>3</td><td>28</td></tr><tr><td>1995-03-31</td><td>1995</td><td>3</td><td>31</td></tr><tr><td>1995-03-31</td><td>1995</td><td>3</td><td>31</td></tr><tr><td>1995-04-07</td><td>1995</td><td>4</td><td>7</td></tr><tr><td>1995-04-21</td><td>1995</td><td>4</td><td>21</td></tr><tr><td>1995-05-12</td><td>1995</td><td>5</td><td>12</td></tr><tr><td>1995-05-26</td><td>1995</td><td>5</td><td>26</td></tr><tr><td>1995-06-10</td><td>1995</td><td>6</td><td>10</td></tr><tr><td>1995-06-30</td><td>1995</td><td>6</td><td>30</td></tr><tr><td>1995-07-28</td><td>1995</td><td>7</td><td>28</td></tr><tr><td>1995-08-11</td><td>1995</td><td>8</td><td>11</td></tr><tr><td>1995-08-11</td><td>1995</td><td>8</td><td>11</td></tr><tr><td>1995-09-08</td><td>1995</td><td>9</td><td>8</td></tr><tr><td>1995-09-15</td><td>1995</td><td>9</td><td>15</td></tr><tr><td>1995-09-29</td><td>1995</td><td>9</td><td>29</td></tr><tr><td>1995-10-04</td><td>1995</td><td>10</td><td>4</td></tr><tr><td>1995-10-13</td><td>1995</td><td>10</td><td>13</td></tr><tr><td>1995-10-13</td><td>1995</td><td>10</td><td>13</td></tr><tr><td>1995-10-27</td><td>1995</td><td>10</td><td>27</td></tr><tr><td>1995-11-22</td><td>1995</td><td>11</td><td>22</td></tr><tr><td>1995-12-08</td><td>1995</td><td>12</td><td>8</td></tr><tr><td>1995-12-20</td><td>1995</td><td>12</td><td>20</td></tr><tr><td>1995-12-22</td><td>1995</td><td>12</td><td>22</td></tr><tr><td>1995-12-29</td><td>1995</td><td>12</td><td>29</td></tr><tr><td>1996-02-02</td><td>1996</td><td>2</td><td>2</td></tr><tr><td>1996-02-16</td><td>1996</td><td>2</td><td>16</td></tr><tr><td>1996-02-16</td><td>1996</td><td>2</td><td>16</td></tr><tr><td>1996-02-23</td><td>1996</td><td>2</td><td>23</td></tr><tr><td>1996-03-01</td><td>1996</td><td>3</td><td>1</td></tr><tr><td>1996-03-08</td><td>1996</td><td>3</td><td>8</td></tr><tr><td>1996-03-15</td><td>1996</td><td>3</td><td>15</td></tr><tr><td>1996-03-22</td><td>1996</td><td>3</td><td>22</td></tr><tr><td>1996-04-12</td><td>1996</td><td>4</td><td>12</td></tr><tr><td>1996-04-19</td><td>1996</td><td>4</td><td>19</td></tr><tr><td>1996-05-03</td><td>1996</td><td>5</td><td>3</td></tr><tr><td>1996-05-10</td><td>1996</td><td>5</td><td>10</td></tr><tr><td>1996-05-24</td><td>1996</td><td>5</td><td>24</td></tr><tr><td>1996-05-31</td><td>1996</td><td>5</td><td>31</td></tr><tr><td>1996-06-07</td><td>1996</td><td>6</td><td>7</td></tr><tr><td>1996-06-21</td><td>1996</td><td>6</td><td>21</td></tr><tr><td>1996-07-05</td><td>1996</td><td>7</td><td>5</td></tr><tr><td>1996-07-17</td><td>1996</td><td>7</td><td>17</td></tr><tr><td>1996-08-09</td><td>1996</td><td>8</td><td>9</td></tr><tr><td>1996-08-30</td><td>1996</td><td>8</td><td>30</td></tr><tr><td>1996-09-13</td><td>1996</td><td>9</td><td>13</td></tr><tr><td>1996-10-04</td><td>1996</td><td>10</td><td>4</td></tr><tr><td>1996-10-25</td><td>1996</td><td>10</td><td>25</td></tr><tr><td>1996-11-08</td><td>1996</td><td>11</td><td>8</td></tr><tr><td>1996-11-20</td><td>1996</td><td>11</td><td>20</td></tr><tr><td>1996-11-27</td><td>1996</td><td>11</td><td>27</td></tr><tr><td>1996-12-13</td><td>1996</td><td>12</td><td>13</td></tr><tr><td>1996-12-25</td><td>1996</td><td>12</td><td>25</td></tr><tr><td>1997-01-17</td><td>1997</td><td>1</td><td>17</td></tr><tr><td>1997-01-24</td><td>1997</td><td>1</td><td>24</td></tr><tr><td>1997-01-31</td><td>1997</td><td>1</td><td>31</td></tr><tr><td>1997-02-14</td><td>1997</td><td>2</td><td>14</td></tr><tr><td>1997-03-07</td><td>1997</td><td>3</td><td>7</td></tr><tr><td>1997-03-28</td><td>1997</td><td>3</td><td>28</td></tr><tr><td>1997-04-11</td><td>1997</td><td>4</td><td>11</td></tr><tr><td>1997-04-25</td><td>1997</td><td>4</td><td>25</td></tr><tr><td>1997-05-30</td><td>1997</td><td>5</td><td>30</td></tr><tr><td>1997-06-06</td><td>1997</td><td>6</td><td>6</td></tr><tr><td>1997-06-13</td><td>1997</td><td>6</td><td>13</td></tr><tr><td>1997-07-16</td><td>1997</td><td>7</td><td>16</td></tr><tr><td>1997-07-18</td><td>1997</td><td>7</td><td>18</td></tr><tr><td>1997-08-01</td><td>1997</td><td>8</td><td>1</td></tr><tr><td>1997-08-22</td><td>1997</td><td>8</td><td>22</td></tr><tr><td>1997-09-19</td><td>1997</td><td>9</td><td>19</td></tr><tr><td>1997-10-05</td><td>1997</td><td>10</td><td>5</td></tr><tr><td>1997-10-10</td><td>1997</td><td>10</td><td>10</td></tr><tr><td>1997-10-17</td><td>1997</td><td>10</td><td>17</td></tr><tr><td>1997-11-26</td><td>1997</td><td>11</td><td>26</td></tr><tr><td>1997-12-25</td><td>1997</td><td>12</td><td>25</td></tr><tr><td>1997-12-25</td><td>1997</td><td>12</td><td>25</td></tr><tr><td>1997-12-25</td><td>1997</td><td>12</td><td>25</td></tr><tr><td>1998-01-30</td><td>1998</td><td>1</td><td>30</td></tr><tr><td>1998-02-27</td><td>1998</td><td>2</td><td>27</td></tr><tr><td>1998-02-27</td><td>1998</td><td>2</td><td>27</td></tr><tr><td>1998-03-27</td><td>1998</td><td>3</td><td>27</td></tr><tr><td>1998-05-01</td><td>1998</td><td>5</td><td>1</td></tr><tr><td>1998-05-15</td><td>1998</td><td>5</td><td>15</td></tr><tr><td>1998-06-12</td><td>1998</td><td>6</td><td>12</td></tr><tr><td>1998-06-19</td><td>1998</td><td>6</td><td>19</td></tr><tr><td>1998-07-01</td><td>1998</td><td>7</td><td>1</td></tr><tr><td>1998-07-24</td><td>1998</td><td>7</td><td>24</td></tr><tr><td>1998-07-29</td><td>1998</td><td>7</td><td>29</td></tr><tr><td>1998-09-04</td><td>1998</td><td>9</td><td>4</td></tr><tr><td>1998-09-11</td><td>1998</td><td>9</td><td>11</td></tr><tr><td>1998-10-09</td><td>1998</td><td>10</td><td>9</td></tr><tr><td>1998-10-16</td><td>1998</td><td>10</td><td>16</td></tr><tr><td>1998-11-06</td><td>1998</td><td>11</td><td>6</td></tr><tr><td>1998-11-13</td><td>1998</td><td>11</td><td>13</td></tr><tr><td>1998-11-20</td><td>1998</td><td>11</td><td>20</td></tr><tr><td>1998-11-20</td><td>1998</td><td>11</td><td>20</td></tr><tr><td>1998-12-11</td><td>1998</td><td>12</td><td>11</td></tr><tr><td>1998-12-25</td><td>1998</td><td>12</td><td>25</td></tr><tr><td>1998-12-25</td><td>1998</td><td>12</td><td>25</td></tr><tr><td>1999-02-12</td><td>1999</td><td>2</td><td>12</td></tr><tr><td>1999-02-26</td><td>1999</td><td>2</td><td>26</td></tr><tr><td>1999-03-26</td><td>1999</td><td>3</td><td>26</td></tr><tr><td>1999-03-31</td><td>1999</td><td>3</td><td>31</td></tr><tr><td>1999-05-14</td><td>1999</td><td>5</td><td>14</td></tr><tr><td>1999-06-04</td><td>1999</td><td>6</td><td>4</td></tr><tr><td>1999-06-16</td><td>1999</td><td>6</td><td>16</td></tr><tr><td>1999-07-02</td><td>1999</td><td>7</td><td>2</td></tr><tr><td>1999-07-23</td><td>1999</td><td>7</td><td>23</td></tr><tr><td>1999-08-06</td><td>1999</td><td>8</td><td>6</td></tr><tr><td>1999-08-27</td><td>1999</td><td>8</td><td>27</td></tr><tr><td>1999-09-17</td><td>1999</td><td>9</td><td>17</td></tr><tr><td>1999-09-24</td><td>1999</td><td>9</td><td>24</td></tr><tr><td>1999-10-01</td><td>1999</td><td>10</td><td>1</td></tr><tr><td>1999-10-15</td><td>1999</td><td>10</td><td>15</td></tr><tr><td>1999-11-05</td><td>1999</td><td>11</td><td>5</td></tr><tr><td>1999-11-19</td><td>1999</td><td>11</td><td>19</td></tr><tr><td>1999-12-08</td><td>1999</td><td>12</td><td>8</td></tr><tr><td>1999-12-10</td><td>1999</td><td>12</td><td>10</td></tr><tr><td>1999-12-17</td><td>1999</td><td>12</td><td>17</td></tr><tr><td>1999-12-24</td><td>1999</td><td>12</td><td>24</td></tr><tr><td>2000-01-01</td><td>2000</td><td>1</td><td>1</td></tr><tr><td>2000-02-04</td><td>2000</td><td>2</td><td>4</td></tr><tr><td>2000-02-11</td><td>2000</td><td>2</td><td>11</td></tr><tr><td>2000-03-10</td><td>2000</td><td>3</td><td>10</td></tr><tr><td>2000-03-31</td><td>2000</td><td>3</td><td>31</td></tr><tr><td>2000-04-14</td><td>2000</td><td>4</td><td>14</td></tr><tr><td>2000-05-19</td><td>2000</td><td>5</td><td>19</td></tr><tr><td>2000-05-26</td><td>2000</td><td>5</td><td>26</td></tr><tr><td>2000-06-09</td><td>2000</td><td>6</td><td>9</td></tr><tr><td>2000-06-16</td><td>2000</td><td>6</td><td>16</td></tr><tr><td>2000-07-07</td><td>2000</td><td>7</td><td>7</td></tr><tr><td>2000-08-04</td><td>2000</td><td>8</td><td>4</td></tr><tr><td>2000-08-25</td><td>2000</td><td>8</td><td>25</td></tr><tr><td>2000-09-15</td><td>2000</td><td>9</td><td>15</td></tr><tr><td>2000-09-29</td><td>2000</td><td>9</td><td>29</td></tr><tr><td>2000-11-22</td><td>2000</td><td>11</td><td>22</td></tr><tr><td>2000-11-22</td><td>2000</td><td>11</td><td>22</td></tr><tr><td>2000-12-15</td><td>2000</td><td>12</td><td>15</td></tr><tr><td>2000-12-22</td><td>2000</td><td>12</td><td>22</td></tr><tr><td>2001-01-12</td><td>2001</td><td>1</td><td>12</td></tr><tr><td>2001-02-16</td><td>2001</td><td>2</td><td>16</td></tr><tr><td>2001-04-06</td><td>2001</td><td>4</td><td>6</td></tr><tr><td>2001-05-25</td><td>2001</td><td>5</td><td>25</td></tr><tr><td>2001-06-08</td><td>2001</td><td>6</td><td>8</td></tr><tr><td>2001-06-29</td><td>2001</td><td>6</td><td>29</td></tr><tr><td>2001-08-03</td><td>2001</td><td>8</td><td>3</td></tr><tr><td>2001-08-24</td><td>2001</td><td>8</td><td>24</td></tr><tr><td>2001-10-05</td><td>2001</td><td>10</td><td>5</td></tr><tr><td>2001-10-12</td><td>2001</td><td>10</td><td>12</td></tr><tr><td>2001-10-26</td><td>2001</td><td>10</td><td>26</td></tr><tr><td>2001-11-02</td><td>2001</td><td>11</td><td>2</td></tr><tr><td>2001-11-21</td><td>2001</td><td>11</td><td>21</td></tr><tr><td>2001-12-14</td><td>2001</td><td>12</td><td>14</td></tr><tr><td>2002-01-01</td><td>2002</td><td>1</td><td>1</td></tr><tr><td>2002-01-01</td><td>2002</td><td>1</td><td>1</td></tr><tr><td>2002-01-18</td><td>2002</td><td>1</td><td>18</td></tr><tr><td>2002-01-25</td><td>2002</td><td>1</td><td>25</td></tr><tr><td>2002-02-15</td><td>2002</td><td>2</td><td>15</td></tr><tr><td>2002-02-19</td><td>2002</td><td>2</td><td>19</td></tr><tr><td>2002-03-22</td><td>2002</td><td>3</td><td>22</td></tr><tr><td>2002-03-29</td><td>2002</td><td>3</td><td>29</td></tr><tr><td>2002-04-05</td><td>2002</td><td>4</td><td>5</td></tr><tr><td>2002-05-10</td><td>2002</td><td>5</td><td>10</td></tr><tr><td>2002-06-07</td><td>2002</td><td>6</td><td>7</td></tr><tr><td>2002-06-21</td><td>2002</td><td>6</td><td>21</td></tr><tr><td>2002-07-26</td><td>2002</td><td>7</td><td>26</td></tr><tr><td>2002-08-02</td><td>2002</td><td>8</td><td>2</td></tr><tr><td>2002-09-20</td><td>2002</td><td>9</td><td>20</td></tr><tr><td>2002-09-27</td><td>2002</td><td>9</td><td>27</td></tr><tr><td>2002-09-27</td><td>2002</td><td>9</td><td>27</td></tr><tr><td>2002-10-11</td><td>2002</td><td>10</td><td>11</td></tr><tr><td>2002-11-01</td><td>2002</td><td>11</td><td>1</td></tr><tr><td>2002-11-27</td><td>2002</td><td>11</td><td>27</td></tr><tr><td>2002-12-13</td><td>2002</td><td>12</td><td>13</td></tr><tr><td>2002-12-19</td><td>2002</td><td>12</td><td>19</td></tr><tr><td>2003-01-31</td><td>2003</td><td>1</td><td>31</td></tr><tr><td>2003-02-07</td><td>2003</td><td>2</td><td>7</td></tr><tr><td>2003-02-14</td><td>2003</td><td>2</td><td>14</td></tr><tr><td>2003-03-07</td><td>2003</td><td>3</td><td>7</td></tr><tr><td>2003-03-21</td><td>2003</td><td>3</td><td>21</td></tr><tr><td>2003-04-11</td><td>2003</td><td>4</td><td>11</td></tr><tr><td>2003-04-18</td><td>2003</td><td>4</td><td>18</td></tr><tr><td>2003-05-02</td><td>2003</td><td>5</td><td>2</td></tr><tr><td>2003-05-30</td><td>2003</td><td>5</td><td>30</td></tr><tr><td>2003-07-09</td><td>2003</td><td>7</td><td>9</td></tr><tr><td>2003-08-06</td><td>2003</td><td>8</td><td>6</td></tr><tr><td>2003-08-15</td><td>2003</td><td>8</td><td>15</td></tr><tr><td>2003-09-19</td><td>2003</td><td>9</td><td>19</td></tr><tr><td>2003-09-26</td><td>2003</td><td>9</td><td>26</td></tr><tr><td>2003-10-17</td><td>2003</td><td>10</td><td>17</td></tr><tr><td>2003-10-24</td><td>2003</td><td>10</td><td>24</td></tr><tr><td>2003-11-26</td><td>2003</td><td>11</td><td>26</td></tr><tr><td>2003-12-19</td><td>2003</td><td>12</td><td>19</td></tr><tr><td>2003-12-25</td><td>2003</td><td>12</td><td>25</td></tr><tr><td>2004-01-16</td><td>2004</td><td>1</td><td>16</td></tr><tr><td>2004-02-06</td><td>2004</td><td>2</td><td>6</td></tr><tr><td>2004-02-20</td><td>2004</td><td>2</td><td>20</td></tr><tr><td>2004-03-05</td><td>2004</td><td>3</td><td>5</td></tr><tr><td>2004-03-26</td><td>2004</td><td>3</td><td>26</td></tr><tr><td>2004-04-02</td><td>2004</td><td>4</td><td>2</td></tr><tr><td>2004-04-09</td><td>2004</td><td>4</td><td>9</td></tr><tr><td>2004-05-28</td><td>2004</td><td>5</td><td>28</td></tr><tr><td>2004-06-16</td><td>2004</td><td>6</td><td>16</td></tr><tr><td>2004-07-02</td><td>2004</td><td>7</td><td>2</td></tr><tr><td>2004-07-07</td><td>2004</td><td>7</td><td>7</td></tr><tr><td>2004-07-30</td><td>2004</td><td>7</td><td>30</td></tr><tr><td>2004-08-11</td><td>2004</td><td>8</td><td>11</td></tr><tr><td>2004-09-17</td><td>2004</td><td>9</td><td>17</td></tr><tr><td>2004-09-24</td><td>2004</td><td>9</td><td>24</td></tr><tr><td>2004-10-01</td><td>2004</td><td>10</td><td>1</td></tr><tr><td>2004-11-05</td><td>2004</td><td>11</td><td>5</td></tr><tr><td>2004-11-19</td><td>2004</td><td>11</td><td>19</td></tr><tr><td>2004-12-10</td><td>2004</td><td>12</td><td>10</td></tr><tr><td>2005-01-28</td><td>2005</td><td>1</td><td>28</td></tr><tr><td>2005-02-11</td><td>2005</td><td>2</td><td>11</td></tr><tr><td>2005-03-04</td><td>2005</td><td>3</td><td>4</td></tr><tr><td>2005-03-18</td><td>2005</td><td>3</td><td>18</td></tr><tr><td>2005-04-22</td><td>2005</td><td>4</td><td>22</td></tr><tr><td>2005-04-29</td><td>2005</td><td>4</td><td>29</td></tr><tr><td>2005-06-10</td><td>2005</td><td>6</td><td>10</td></tr><tr><td>2005-06-22</td><td>2005</td><td>6</td><td>22</td></tr><tr><td>2005-07-08</td><td>2005</td><td>7</td><td>8</td></tr><tr><td>2005-07-29</td><td>2005</td><td>7</td><td>29</td></tr><tr><td>2005-08-19</td><td>2005</td><td>8</td><td>19</td></tr><tr><td>2005-09-23</td><td>2005</td><td>9</td><td>23</td></tr><tr><td>2005-09-30</td><td>2005</td><td>9</td><td>30</td></tr><tr><td>2005-10-21</td><td>2005</td><td>10</td><td>21</td></tr><tr><td>2005-11-04</td><td>2005</td><td>11</td><td>4</td></tr><tr><td>2005-12-09</td><td>2005</td><td>12</td><td>9</td></tr><tr><td>2005-12-25</td><td>2005</td><td>12</td><td>25</td></tr><tr><td>2006-01-13</td><td>2006</td><td>1</td><td>13</td></tr><tr><td>2006-01-27</td><td>2006</td><td>1</td><td>27</td></tr><tr><td>2006-01-27</td><td>2006</td><td>1</td><td>27</td></tr><tr><td>2006-02-17</td><td>2006</td><td>2</td><td>17</td></tr><tr><td>2006-03-10</td><td>2006</td><td>3</td><td>10</td></tr><tr><td>2006-03-24</td><td>2006</td><td>3</td><td>24</td></tr><tr><td>2006-04-14</td><td>2006</td><td>4</td><td>14</td></tr><tr><td>2006-04-28</td><td>2006</td><td>4</td><td>28</td></tr><tr><td>2006-05-12</td><td>2006</td><td>5</td><td>12</td></tr><tr><td>2006-06-09</td><td>2006</td><td>6</td><td>9</td></tr><tr><td>2006-07-07</td><td>2006</td><td>7</td><td>7</td></tr><tr><td>2006-08-11</td><td>2006</td><td>8</td><td>11</td></tr><tr><td>2006-08-25</td><td>2006</td><td>8</td><td>25</td></tr><tr><td>2006-09-29</td><td>2006</td><td>9</td><td>29</td></tr><tr><td>2006-10-20</td><td>2006</td><td>10</td><td>20</td></tr><tr><td>2006-10-20</td><td>2006</td><td>10</td><td>20</td></tr><tr><td>2006-11-03</td><td>2006</td><td>11</td><td>3</td></tr><tr><td>2006-11-22</td><td>2006</td><td>11</td><td>22</td></tr><tr><td>2006-12-08</td><td>2006</td><td>12</td><td>8</td></tr><tr><td>2007-01-12</td><td>2007</td><td>1</td><td>12</td></tr><tr><td>2007-02-16</td><td>2007</td><td>2</td><td>16</td></tr><tr><td>2007-03-02</td><td>2007</td><td>3</td><td>2</td></tr><tr><td>2007-03-30</td><td>2007</td><td>3</td><td>30</td></tr><tr><td>2007-03-30</td><td>2007</td><td>3</td><td>30</td></tr><tr><td>2007-04-06</td><td>2007</td><td>4</td><td>6</td></tr><tr><td>2007-04-27</td><td>2007</td><td>4</td><td>27</td></tr><tr><td>2007-05-24</td><td>2007</td><td>5</td><td>24</td></tr><tr><td>2007-06-29</td><td>2007</td><td>6</td><td>29</td></tr><tr><td>2007-08-03</td><td>2007</td><td>8</td><td>3</td></tr><tr><td>2007-09-22</td><td>2007</td><td>9</td><td>22</td></tr><tr><td>2007-10-20</td><td>2007</td><td>10</td><td>20</td></tr><tr><td>2007-11-21</td><td>2007</td><td>11</td><td>21</td></tr><tr><td>2007-12-21</td><td>2007</td><td>12</td><td>21</td></tr><tr><td>2008-02-01</td><td>2008</td><td>2</td><td>1</td></tr><tr><td>2008-02-14</td><td>2008</td><td>2</td><td>14</td></tr><tr><td>2008-03-07</td><td>2008</td><td>3</td><td>7</td></tr><tr><td>2008-05-16</td><td>2008</td><td>5</td><td>16</td></tr><tr><td>2008-06-27</td><td>2008</td><td>6</td><td>27</td></tr><tr><td>2008-08-01</td><td>2008</td><td>8</td><td>1</td></tr><tr><td>2008-08-29</td><td>2008</td><td>8</td><td>29</td></tr><tr><td>2008-09-26</td><td>2008</td><td>9</td><td>26</td></tr><tr><td>2008-10-03</td><td>2008</td><td>10</td><td>3</td></tr><tr><td>2008-10-17</td><td>2008</td><td>10</td><td>17</td></tr><tr><td>2008-10-24</td><td>2008</td><td>10</td><td>24</td></tr><tr><td>2008-11-21</td><td>2008</td><td>11</td><td>21</td></tr><tr><td>2008-12-25</td><td>2008</td><td>12</td><td>25</td></tr><tr><td>2009-02-13</td><td>2009</td><td>2</td><td>13</td></tr><tr><td>2009-02-27</td><td>2009</td><td>2</td><td>27</td></tr><tr><td>2009-03-13</td><td>2009</td><td>3</td><td>13</td></tr><tr><td>2009-04-10</td><td>2009</td><td>4</td><td>10</td></tr><tr><td>2009-04-22</td><td>2009</td><td>4</td><td>22</td></tr><tr><td>2009-05-29</td><td>2009</td><td>5</td><td>29</td></tr><tr><td>2009-06-19</td><td>2009</td><td>6</td><td>19</td></tr><tr><td>2009-07-24</td><td>2009</td><td>7</td><td>24</td></tr><tr><td>2009-08-14</td><td>2009</td><td>8</td><td>14</td></tr><tr><td>2009-08-21</td><td>2009</td><td>8</td><td>21</td></tr><tr><td>2009-09-10</td><td>2009</td><td>9</td><td>10</td></tr><tr><td>2009-09-25</td><td>2009</td><td>9</td><td>25</td></tr><tr><td>2009-10-02</td><td>2009</td><td>10</td><td>2</td></tr><tr><td>2009-11-06</td><td>2009</td><td>11</td><td>6</td></tr><tr><td>2009-11-25</td><td>2009</td><td>11</td><td>25</td></tr><tr><td>2009-11-25</td><td>2009</td><td>11</td><td>25</td></tr><tr><td>2010-01-29</td><td>2010</td><td>1</td><td>29</td></tr><tr><td>2010-03-05</td><td>2010</td><td>3</td><td>5</td></tr><tr><td>2010-03-26</td><td>2010</td><td>3</td><td>26</td></tr><tr><td>2010-03-31</td><td>2010</td><td>3</td><td>31</td></tr><tr><td>2010-04-22</td><td>2010</td><td>4</td><td>22</td></tr><tr><td>2010-05-28</td><td>2010</td><td>5</td><td>28</td></tr><tr><td>2010-06-18</td><td>2010</td><td>6</td><td>18</td></tr><tr><td>2010-07-14</td><td>2010</td><td>7</td><td>14</td></tr><tr><td>2010-08-06</td><td>2010</td><td>8</td><td>6</td></tr><tr><td>2010-08-13</td><td>2010</td><td>8</td><td>13</td></tr><tr><td>2010-09-24</td><td>2010</td><td>9</td><td>24</td></tr><tr><td>2010-10-08</td><td>2010</td><td>10</td><td>8</td></tr><tr><td>2010-11-24</td><td>2010</td><td>11</td><td>24</td></tr><tr><td>2010-12-17</td><td>2010</td><td>12</td><td>17</td></tr><tr><td>2011-02-11</td><td>2011</td><td>2</td><td>11</td></tr><tr><td>2011-02-18</td><td>2011</td><td>2</td><td>18</td></tr><tr><td>2011-03-11</td><td>2011</td><td>3</td><td>11</td></tr><tr><td>2011-04-22</td><td>2011</td><td>4</td><td>22</td></tr><tr><td>2011-04-22</td><td>2011</td><td>4</td><td>22</td></tr><tr><td>2011-04-29</td><td>2011</td><td>4</td><td>29</td></tr><tr><td>2011-05-20</td><td>2011</td><td>5</td><td>20</td></tr><tr><td>2011-06-24</td><td>2011</td><td>6</td><td>24</td></tr><tr><td>2011-07-15</td><td>2011</td><td>7</td><td>15</td></tr><tr><td>2011-08-10</td><td>2011</td><td>8</td><td>10</td></tr><tr><td>2011-08-19</td><td>2011</td><td>8</td><td>19</td></tr><tr><td>2011-10-07</td><td>2011</td><td>10</td><td>7</td></tr><tr><td>2011-11-23</td><td>2011</td><td>11</td><td>23</td></tr><tr><td>2011-12-25</td><td>2011</td><td>12</td><td>25</td></tr><tr><td>2012-02-17</td><td>2012</td><td>2</td><td>17</td></tr><tr><td>2012-03-09</td><td>2012</td><td>3</td><td>9</td></tr><tr><td>2012-04-20</td><td>2012</td><td>4</td><td>20</td></tr><tr><td>2012-05-04</td><td>2012</td><td>5</td><td>4</td></tr><tr><td>2012-06-22</td><td>2012</td><td>6</td><td>22</td></tr><tr><td>2012-06-29</td><td>2012</td><td>6</td><td>29</td></tr><tr><td>2012-08-15</td><td>2012</td><td>8</td><td>15</td></tr><tr><td>2012-10-05</td><td>2012</td><td>10</td><td>5</td></tr><tr><td>2012-11-02</td><td>2012</td><td>11</td><td>2</td></tr><tr><td>2012-11-09</td><td>2012</td><td>11</td><td>9</td></tr><tr><td>2013-03-08</td><td>2013</td><td>3</td><td>8</td></tr><tr><td>2013-05-03</td><td>2013</td><td>5</td><td>3</td></tr><tr><td>2013-06-21</td><td>2013</td><td>6</td><td>21</td></tr><tr><td>2013-07-02</td><td>2013</td><td>7</td><td>2</td></tr><tr><td>2013-08-09</td><td>2013</td><td>8</td><td>9</td></tr><tr><td>2013-10-18</td><td>2013</td><td>10</td><td>18</td></tr><tr><td>2013-11-08</td><td>2013</td><td>11</td><td>8</td></tr><tr><td>2013-11-08</td><td>2013</td><td>11</td><td>8</td></tr><tr><td>2013-11-22</td><td>2013</td><td>11</td><td>22</td></tr><tr><td>2013-11-22</td><td>2013</td><td>11</td><td>22</td></tr><tr><td>2013-12-13</td><td>2013</td><td>12</td><td>13</td></tr><tr><td>2014-03-14</td><td>2014</td><td>3</td><td>14</td></tr><tr><td>2014-03-21</td><td>2014</td><td>3</td><td>21</td></tr><tr><td>2014-04-04</td><td>2014</td><td>4</td><td>4</td></tr><tr><td>2014-04-18</td><td>2014</td><td>4</td><td>18</td></tr><tr><td>2014-05-10</td><td>2014</td><td>5</td><td>10</td></tr><tr><td>2014-05-30</td><td>2014</td><td>5</td><td>30</td></tr><tr><td>2014-07-18</td><td>2014</td><td>7</td><td>18</td></tr><tr><td>2014-08-01</td><td>2014</td><td>8</td><td>1</td></tr><tr><td>2014-08-08</td><td>2014</td><td>8</td><td>8</td></tr><tr><td>2014-10-10</td><td>2014</td><td>10</td><td>10</td></tr><tr><td>2014-11-07</td><td>2014</td><td>11</td><td>7</td></tr><tr><td>2014-12-25</td><td>2014</td><td>12</td><td>25</td></tr><tr><td>2015-01-23</td><td>2015</td><td>1</td><td>23</td></tr><tr><td>2015-02-20</td><td>2015</td><td>2</td><td>20</td></tr><tr><td>2015-03-13</td><td>2015</td><td>3</td><td>13</td></tr><tr><td>2015-04-17</td><td>2015</td><td>4</td><td>17</td></tr><tr><td>2015-05-01</td><td>2015</td><td>5</td><td>1</td></tr><tr><td>2015-05-22</td><td>2015</td><td>5</td><td>22</td></tr><tr><td>2015-06-19</td><td>2015</td><td>6</td><td>19</td></tr><tr><td>2015-07-17</td><td>2015</td><td>7</td><td>17</td></tr><tr><td>2015-10-16</td><td>2015</td><td>10</td><td>16</td></tr><tr><td>2015-11-25</td><td>2015</td><td>11</td><td>25</td></tr><tr><td>2015-12-18</td><td>2015</td><td>12</td><td>18</td></tr><tr><td>2016-01-29</td><td>2016</td><td>1</td><td>29</td></tr><tr><td>2016-03-04</td><td>2016</td><td>3</td><td>4</td></tr><tr><td>2016-04-15</td><td>2016</td><td>4</td><td>15</td></tr><tr><td>2016-04-29</td><td>2016</td><td>4</td><td>29</td></tr><tr><td>2016-05-06</td><td>2016</td><td>5</td><td>6</td></tr><tr><td>2016-05-27</td><td>2016</td><td>5</td><td>27</td></tr><tr><td>2016-06-17</td><td>2016</td><td>6</td><td>17</td></tr><tr><td>2016-07-01</td><td>2016</td><td>7</td><td>1</td></tr><tr><td>2016-08-12</td><td>2016</td><td>8</td><td>12</td></tr><tr><td>2016-09-02</td><td>2016</td><td>9</td><td>2</td></tr><tr><td>2016-09-23</td><td>2016</td><td>9</td><td>23</td></tr><tr><td>2016-11-04</td><td>2016</td><td>11</td><td>4</td></tr><tr><td>2016-11-23</td><td>2016</td><td>11</td><td>23</td></tr><tr><td>2016-12-16</td><td>2016</td><td>12</td><td>16</td></tr></table>"
                    },
                    "metadata": {}
                }
            ],
            "execution_count": 43
        },
        {
            "cell_type": "code",
            "source": [
                "select release_date,\r\n",
                "DATEPART(year,release_date) year,\r\n",
                "DATEPART(month,release_date) month,\r\n",
                "DATEPART(day,release_date) day,\r\n",
                "DATEname(weekday,release_date) Day,\r\n",
                "DATEname(month,release_date) month\r\n",
                "from movie_gross"
            ],
            "metadata": {
                "azdata_cell_guid": "03091a22-aff6-467e-aedf-d98a7c0db998",
                "language": "sql"
            },
            "outputs": [
                {
                    "output_type": "display_data",
                    "data": {
                        "text/html": "(579 rows affected)"
                    },
                    "metadata": {}
                },
                {
                    "output_type": "display_data",
                    "data": {
                        "text/html": "Total execution time: 00:00:00.012"
                    },
                    "metadata": {}
                },
                {
                    "output_type": "execute_result",
                    "execution_count": 50,
                    "data": {
                        "application/vnd.dataresource+json": {
                            "schema": {
                                "fields": [
                                    {
                                        "name": "release_date"
                                    },
                                    {
                                        "name": "year"
                                    },
                                    {
                                        "name": "month"
                                    },
                                    {
                                        "name": "day"
                                    },
                                    {
                                        "name": "Day"
                                    },
                                    {
                                        "name": "month"
                                    }
                                ]
                            },
                            "data": [
                                {
                                    "release_date": "1937-12-21",
                                    "year": "1937",
                                    "month": "December",
                                    "day": "21",
                                    "Day": "Tuesday"
                                },
                                {
                                    "release_date": "1940-02-09",
                                    "year": "1940",
                                    "month": "February",
                                    "day": "9",
                                    "Day": "Friday"
                                },
                                {
                                    "release_date": "1940-11-13",
                                    "year": "1940",
                                    "month": "November",
                                    "day": "13",
                                    "Day": "Wednesday"
                                },
                                {
                                    "release_date": "1946-11-12",
                                    "year": "1946",
                                    "month": "November",
                                    "day": "12",
                                    "Day": "Tuesday"
                                },
                                {
                                    "release_date": "1950-02-15",
                                    "year": "1950",
                                    "month": "February",
                                    "day": "15",
                                    "Day": "Wednesday"
                                },
                                {
                                    "release_date": "1954-12-23",
                                    "year": "1954",
                                    "month": "December",
                                    "day": "23",
                                    "Day": "Thursday"
                                },
                                {
                                    "release_date": "1955-06-22",
                                    "year": "1955",
                                    "month": "June",
                                    "day": "22",
                                    "Day": "Wednesday"
                                },
                                {
                                    "release_date": "1959-01-29",
                                    "year": "1959",
                                    "month": "January",
                                    "day": "29",
                                    "Day": "Thursday"
                                },
                                {
                                    "release_date": "1961-01-25",
                                    "year": "1961",
                                    "month": "January",
                                    "day": "25",
                                    "Day": "Wednesday"
                                },
                                {
                                    "release_date": "1961-03-16",
                                    "year": "1961",
                                    "month": "March",
                                    "day": "16",
                                    "Day": "Thursday"
                                },
                                {
                                    "release_date": "1961-12-14",
                                    "year": "1961",
                                    "month": "December",
                                    "day": "14",
                                    "Day": "Thursday"
                                },
                                {
                                    "release_date": "1962-05-17",
                                    "year": "1962",
                                    "month": "May",
                                    "day": "17",
                                    "Day": "Thursday"
                                },
                                {
                                    "release_date": "1963-12-25",
                                    "year": "1963",
                                    "month": "December",
                                    "day": "25",
                                    "Day": "Wednesday"
                                },
                                {
                                    "release_date": "1967-10-18",
                                    "year": "1967",
                                    "month": "October",
                                    "day": "18",
                                    "Day": "Wednesday"
                                },
                                {
                                    "release_date": "1968-02-08",
                                    "year": "1968",
                                    "month": "February",
                                    "day": "8",
                                    "Day": "Thursday"
                                },
                                {
                                    "release_date": "1970-04-24",
                                    "year": "1970",
                                    "month": "April",
                                    "day": "24",
                                    "Day": "Friday"
                                },
                                {
                                    "release_date": "1970-07-01",
                                    "year": "1970",
                                    "month": "July",
                                    "day": "1",
                                    "Day": "Wednesday"
                                },
                                {
                                    "release_date": "1971-10-07",
                                    "year": "1971",
                                    "month": "October",
                                    "day": "7",
                                    "Day": "Thursday"
                                },
                                {
                                    "release_date": "1975-07-01",
                                    "year": "1975",
                                    "month": "July",
                                    "day": "1",
                                    "Day": "Tuesday"
                                },
                                {
                                    "release_date": "1977-01-21",
                                    "year": "1977",
                                    "month": "January",
                                    "day": "21",
                                    "Day": "Friday"
                                },
                                {
                                    "release_date": "1977-03-11",
                                    "year": "1977",
                                    "month": "March",
                                    "day": "11",
                                    "Day": "Friday"
                                },
                                {
                                    "release_date": "1977-06-22",
                                    "year": "1977",
                                    "month": "June",
                                    "day": "22",
                                    "Day": "Wednesday"
                                },
                                {
                                    "release_date": "1977-06-24",
                                    "year": "1977",
                                    "month": "June",
                                    "day": "24",
                                    "Day": "Friday"
                                },
                                {
                                    "release_date": "1979-12-21",
                                    "year": "1979",
                                    "month": "December",
                                    "day": "21",
                                    "Day": "Friday"
                                },
                                {
                                    "release_date": "1980-02-08",
                                    "year": "1980",
                                    "month": "February",
                                    "day": "8",
                                    "Day": "Friday"
                                },
                                {
                                    "release_date": "1980-06-25",
                                    "year": "1980",
                                    "month": "June",
                                    "day": "25",
                                    "Day": "Wednesday"
                                },
                                {
                                    "release_date": "1981-01-01",
                                    "year": "1981",
                                    "month": "January",
                                    "day": "1",
                                    "Day": "Thursday"
                                },
                                {
                                    "release_date": "1981-03-20",
                                    "year": "1981",
                                    "month": "March",
                                    "day": "20",
                                    "Day": "Friday"
                                },
                                {
                                    "release_date": "1981-07-10",
                                    "year": "1981",
                                    "month": "July",
                                    "day": "10",
                                    "Day": "Friday"
                                },
                                {
                                    "release_date": "1981-08-07",
                                    "year": "1981",
                                    "month": "August",
                                    "day": "7",
                                    "Day": "Friday"
                                },
                                {
                                    "release_date": "1982-02-05",
                                    "year": "1982",
                                    "month": "February",
                                    "day": "5",
                                    "Day": "Friday"
                                },
                                {
                                    "release_date": "1982-07-09",
                                    "year": "1982",
                                    "month": "July",
                                    "day": "9",
                                    "Day": "Friday"
                                },
                                {
                                    "release_date": "1982-11-19",
                                    "year": "1982",
                                    "month": "November",
                                    "day": "19",
                                    "Day": "Friday"
                                },
                                {
                                    "release_date": "1983-03-11",
                                    "year": "1983",
                                    "month": "March",
                                    "day": "11",
                                    "Day": "Friday"
                                },
                                {
                                    "release_date": "1983-04-29",
                                    "year": "1983",
                                    "month": "April",
                                    "day": "29",
                                    "Day": "Friday"
                                },
                                {
                                    "release_date": "1983-10-07",
                                    "year": "1983",
                                    "month": "October",
                                    "day": "7",
                                    "Day": "Friday"
                                },
                                {
                                    "release_date": "1983-11-04",
                                    "year": "1983",
                                    "month": "November",
                                    "day": "4",
                                    "Day": "Friday"
                                },
                                {
                                    "release_date": "1984-03-09",
                                    "year": "1984",
                                    "month": "March",
                                    "day": "9",
                                    "Day": "Friday"
                                },
                                {
                                    "release_date": "1984-09-29",
                                    "year": "1984",
                                    "month": "September",
                                    "day": "29",
                                    "Day": "Saturday"
                                },
                                {
                                    "release_date": "1985-03-22",
                                    "year": "1985",
                                    "month": "March",
                                    "day": "22",
                                    "Day": "Friday"
                                },
                                {
                                    "release_date": "1985-06-21",
                                    "year": "1985",
                                    "month": "June",
                                    "day": "21",
                                    "Day": "Friday"
                                },
                                {
                                    "release_date": "1985-07-24",
                                    "year": "1985",
                                    "month": "July",
                                    "day": "24",
                                    "Day": "Wednesday"
                                },
                                {
                                    "release_date": "1985-08-09",
                                    "year": "1985",
                                    "month": "August",
                                    "day": "9",
                                    "Day": "Friday"
                                },
                                {
                                    "release_date": "1985-09-27",
                                    "year": "1985",
                                    "month": "September",
                                    "day": "27",
                                    "Day": "Friday"
                                },
                                {
                                    "release_date": "1985-11-22",
                                    "year": "1985",
                                    "month": "November",
                                    "day": "22",
                                    "Day": "Friday"
                                },
                                {
                                    "release_date": "1986-01-31",
                                    "year": "1986",
                                    "month": "January",
                                    "day": "31",
                                    "Day": "Friday"
                                },
                                {
                                    "release_date": "1986-04-11",
                                    "year": "1986",
                                    "month": "April",
                                    "day": "11",
                                    "Day": "Friday"
                                },
                                {
                                    "release_date": "1986-06-27",
                                    "year": "1986",
                                    "month": "June",
                                    "day": "27",
                                    "Day": "Friday"
                                },
                                {
                                    "release_date": "1986-07-02",
                                    "year": "1986",
                                    "month": "July",
                                    "day": "2",
                                    "Day": "Wednesday"
                                },
                                {
                                    "release_date": "1986-07-30",
                                    "year": "1986",
                                    "month": "July",
                                    "day": "30",
                                    "Day": "Wednesday"
                                },
                                {
                                    "release_date": "1986-10-03",
                                    "year": "1986",
                                    "month": "October",
                                    "day": "3",
                                    "Day": "Friday"
                                },
                                {
                                    "release_date": "1986-10-17",
                                    "year": "1986",
                                    "month": "October",
                                    "day": "17",
                                    "Day": "Friday"
                                },
                                {
                                    "release_date": "1987-01-30",
                                    "year": "1987",
                                    "month": "January",
                                    "day": "30",
                                    "Day": "Friday"
                                },
                                {
                                    "release_date": "1987-03-06",
                                    "year": "1987",
                                    "month": "March",
                                    "day": "6",
                                    "Day": "Friday"
                                },
                                {
                                    "release_date": "1987-05-22",
                                    "year": "1987",
                                    "month": "May",
                                    "day": "22",
                                    "Day": "Friday"
                                },
                                {
                                    "release_date": "1987-06-05",
                                    "year": "1987",
                                    "month": "June",
                                    "day": "5",
                                    "Day": "Friday"
                                },
                                {
                                    "release_date": "1987-07-03",
                                    "year": "1987",
                                    "month": "July",
                                    "day": "3",
                                    "Day": "Friday"
                                },
                                {
                                    "release_date": "1987-08-05",
                                    "year": "1987",
                                    "month": "August",
                                    "day": "5",
                                    "Day": "Wednesday"
                                },
                                {
                                    "release_date": "1987-08-14",
                                    "year": "1987",
                                    "month": "August",
                                    "day": "14",
                                    "Day": "Friday"
                                },
                                {
                                    "release_date": "1987-11-06",
                                    "year": "1987",
                                    "month": "November",
                                    "day": "6",
                                    "Day": "Friday"
                                },
                                {
                                    "release_date": "1987-11-25",
                                    "year": "1987",
                                    "month": "November",
                                    "day": "25",
                                    "Day": "Wednesday"
                                },
                                {
                                    "release_date": "1987-12-23",
                                    "year": "1987",
                                    "month": "December",
                                    "day": "23",
                                    "Day": "Wednesday"
                                },
                                {
                                    "release_date": "1988-02-12",
                                    "year": "1988",
                                    "month": "February",
                                    "day": "12",
                                    "Day": "Friday"
                                },
                                {
                                    "release_date": "1988-03-18",
                                    "year": "1988",
                                    "month": "March",
                                    "day": "18",
                                    "Day": "Friday"
                                },
                                {
                                    "release_date": "1988-04-15",
                                    "year": "1988",
                                    "month": "April",
                                    "day": "15",
                                    "Day": "Friday"
                                },
                                {
                                    "release_date": "1988-06-10",
                                    "year": "1988",
                                    "month": "June",
                                    "day": "10",
                                    "Day": "Friday"
                                },
                                {
                                    "release_date": "1988-06-22",
                                    "year": "1988",
                                    "month": "June",
                                    "day": "22",
                                    "Day": "Wednesday"
                                },
                                {
                                    "release_date": "1988-07-29",
                                    "year": "1988",
                                    "month": "July",
                                    "day": "29",
                                    "Day": "Friday"
                                },
                                {
                                    "release_date": "1988-08-05",
                                    "year": "1988",
                                    "month": "August",
                                    "day": "5",
                                    "Day": "Friday"
                                },
                                {
                                    "release_date": "1988-09-30",
                                    "year": "1988",
                                    "month": "September",
                                    "day": "30",
                                    "Day": "Friday"
                                },
                                {
                                    "release_date": "1988-11-04",
                                    "year": "1988",
                                    "month": "November",
                                    "day": "4",
                                    "Day": "Friday"
                                },
                                {
                                    "release_date": "1988-11-11",
                                    "year": "1988",
                                    "month": "November",
                                    "day": "11",
                                    "Day": "Friday"
                                },
                                {
                                    "release_date": "1988-11-18",
                                    "year": "1988",
                                    "month": "November",
                                    "day": "18",
                                    "Day": "Friday"
                                },
                                {
                                    "release_date": "1988-12-21",
                                    "year": "1988",
                                    "month": "December",
                                    "day": "21",
                                    "Day": "Wednesday"
                                },
                                {
                                    "release_date": "1989-01-27",
                                    "year": "1989",
                                    "month": "January",
                                    "day": "27",
                                    "Day": "Friday"
                                },
                                {
                                    "release_date": "1989-03-01",
                                    "year": "1989",
                                    "month": "March",
                                    "day": "1",
                                    "Day": "Wednesday"
                                },
                                {
                                    "release_date": "1989-04-14",
                                    "year": "1989",
                                    "month": "April",
                                    "day": "14",
                                    "Day": "Friday"
                                },
                                {
                                    "release_date": "1989-06-02",
                                    "year": "1989",
                                    "month": "June",
                                    "day": "2",
                                    "Day": "Friday"
                                },
                                {
                                    "release_date": "1989-06-23",
                                    "year": "1989",
                                    "month": "June",
                                    "day": "23",
                                    "Day": "Friday"
                                },
                                {
                                    "release_date": "1989-07-28",
                                    "year": "1989",
                                    "month": "July",
                                    "day": "28",
                                    "Day": "Friday"
                                },
                                {
                                    "release_date": "1989-08-18",
                                    "year": "1989",
                                    "month": "August",
                                    "day": "18",
                                    "Day": "Friday"
                                },
                                {
                                    "release_date": "1989-10-06",
                                    "year": "1989",
                                    "month": "October",
                                    "day": "6",
                                    "Day": "Friday"
                                },
                                {
                                    "release_date": "1989-10-20",
                                    "year": "1989",
                                    "month": "October",
                                    "day": "20",
                                    "Day": "Friday"
                                },
                                {
                                    "release_date": "1989-11-15",
                                    "year": "1989",
                                    "month": "November",
                                    "day": "15",
                                    "Day": "Wednesday"
                                },
                                {
                                    "release_date": "1989-12-13",
                                    "year": "1989",
                                    "month": "December",
                                    "day": "13",
                                    "Day": "Wednesday"
                                },
                                {
                                    "release_date": "1990-02-02",
                                    "year": "1990",
                                    "month": "February",
                                    "day": "2",
                                    "Day": "Friday"
                                },
                                {
                                    "release_date": "1990-02-23",
                                    "year": "1990",
                                    "month": "February",
                                    "day": "23",
                                    "Day": "Friday"
                                },
                                {
                                    "release_date": "1990-03-23",
                                    "year": "1990",
                                    "month": "March",
                                    "day": "23",
                                    "Day": "Friday"
                                },
                                {
                                    "release_date": "1990-04-06",
                                    "year": "1990",
                                    "month": "April",
                                    "day": "6",
                                    "Day": "Friday"
                                },
                                {
                                    "release_date": "1990-04-27",
                                    "year": "1990",
                                    "month": "April",
                                    "day": "27",
                                    "Day": "Friday"
                                },
                                {
                                    "release_date": "1990-05-24",
                                    "year": "1990",
                                    "month": "May",
                                    "day": "24",
                                    "Day": "Thursday"
                                },
                                {
                                    "release_date": "1990-06-15",
                                    "year": "1990",
                                    "month": "June",
                                    "day": "15",
                                    "Day": "Friday"
                                },
                                {
                                    "release_date": "1990-06-22",
                                    "year": "1990",
                                    "month": "June",
                                    "day": "22",
                                    "Day": "Friday"
                                },
                                {
                                    "release_date": "1990-07-18",
                                    "year": "1990",
                                    "month": "July",
                                    "day": "18",
                                    "Day": "Wednesday"
                                },
                                {
                                    "release_date": "1990-08-03",
                                    "year": "1990",
                                    "month": "August",
                                    "day": "3",
                                    "Day": "Friday"
                                },
                                {
                                    "release_date": "1990-08-17",
                                    "year": "1990",
                                    "month": "August",
                                    "day": "17",
                                    "Day": "Friday"
                                },
                                {
                                    "release_date": "1990-10-12",
                                    "year": "1990",
                                    "month": "October",
                                    "day": "12",
                                    "Day": "Friday"
                                },
                                {
                                    "release_date": "1990-11-16",
                                    "year": "1990",
                                    "month": "November",
                                    "day": "16",
                                    "Day": "Friday"
                                },
                                {
                                    "release_date": "1990-11-21",
                                    "year": "1990",
                                    "month": "November",
                                    "day": "21",
                                    "Day": "Wednesday"
                                },
                                {
                                    "release_date": "1990-12-25",
                                    "year": "1990",
                                    "month": "December",
                                    "day": "25",
                                    "Day": "Tuesday"
                                },
                                {
                                    "release_date": "1991-01-18",
                                    "year": "1991",
                                    "month": "January",
                                    "day": "18",
                                    "Day": "Friday"
                                },
                                {
                                    "release_date": "1991-02-22",
                                    "year": "1991",
                                    "month": "February",
                                    "day": "22",
                                    "Day": "Friday"
                                },
                                {
                                    "release_date": "1991-03-01",
                                    "year": "1991",
                                    "month": "March",
                                    "day": "1",
                                    "Day": "Friday"
                                },
                                {
                                    "release_date": "1991-04-05",
                                    "year": "1991",
                                    "month": "April",
                                    "day": "5",
                                    "Day": "Friday"
                                },
                                {
                                    "release_date": "1991-04-26",
                                    "year": "1991",
                                    "month": "April",
                                    "day": "26",
                                    "Day": "Friday"
                                },
                                {
                                    "release_date": "1991-05-03",
                                    "year": "1991",
                                    "month": "May",
                                    "day": "3",
                                    "Day": "Friday"
                                },
                                {
                                    "release_date": "1991-05-17",
                                    "year": "1991",
                                    "month": "May",
                                    "day": "17",
                                    "Day": "Friday"
                                },
                                {
                                    "release_date": "1991-05-24",
                                    "year": "1991",
                                    "month": "May",
                                    "day": "24",
                                    "Day": "Friday"
                                },
                                {
                                    "release_date": "1991-06-21",
                                    "year": "1991",
                                    "month": "June",
                                    "day": "21",
                                    "Day": "Friday"
                                },
                                {
                                    "release_date": "1991-07-24",
                                    "year": "1991",
                                    "month": "July",
                                    "day": "24",
                                    "Day": "Wednesday"
                                },
                                {
                                    "release_date": "1991-09-18",
                                    "year": "1991",
                                    "month": "September",
                                    "day": "18",
                                    "Day": "Wednesday"
                                },
                                {
                                    "release_date": "1991-09-27",
                                    "year": "1991",
                                    "month": "September",
                                    "day": "27",
                                    "Day": "Friday"
                                },
                                {
                                    "release_date": "1991-10-11",
                                    "year": "1991",
                                    "month": "October",
                                    "day": "11",
                                    "Day": "Friday"
                                },
                                {
                                    "release_date": "1991-11-01",
                                    "year": "1991",
                                    "month": "November",
                                    "day": "1",
                                    "Day": "Friday"
                                },
                                {
                                    "release_date": "1991-11-13",
                                    "year": "1991",
                                    "month": "November",
                                    "day": "13",
                                    "Day": "Wednesday"
                                },
                                {
                                    "release_date": "1991-12-20",
                                    "year": "1991",
                                    "month": "December",
                                    "day": "20",
                                    "Day": "Friday"
                                },
                                {
                                    "release_date": "1992-01-10",
                                    "year": "1992",
                                    "month": "January",
                                    "day": "10",
                                    "Day": "Friday"
                                },
                                {
                                    "release_date": "1992-02-07",
                                    "year": "1992",
                                    "month": "February",
                                    "day": "7",
                                    "Day": "Friday"
                                },
                                {
                                    "release_date": "1992-03-06",
                                    "year": "1992",
                                    "month": "March",
                                    "day": "6",
                                    "Day": "Friday"
                                },
                                {
                                    "release_date": "1992-03-20",
                                    "year": "1992",
                                    "month": "March",
                                    "day": "20",
                                    "Day": "Friday"
                                },
                                {
                                    "release_date": "1992-04-03",
                                    "year": "1992",
                                    "month": "April",
                                    "day": "3",
                                    "Day": "Friday"
                                },
                                {
                                    "release_date": "1992-04-08",
                                    "year": "1992",
                                    "month": "April",
                                    "day": "8",
                                    "Day": "Wednesday"
                                },
                                {
                                    "release_date": "1992-04-24",
                                    "year": "1992",
                                    "month": "April",
                                    "day": "24",
                                    "Day": "Friday"
                                },
                                {
                                    "release_date": "1992-05-22",
                                    "year": "1992",
                                    "month": "May",
                                    "day": "22",
                                    "Day": "Friday"
                                },
                                {
                                    "release_date": "1992-05-29",
                                    "year": "1992",
                                    "month": "May",
                                    "day": "29",
                                    "Day": "Friday"
                                },
                                {
                                    "release_date": "1992-07-17",
                                    "year": "1992",
                                    "month": "July",
                                    "day": "17",
                                    "Day": "Friday"
                                },
                                {
                                    "release_date": "1992-07-17",
                                    "year": "1992",
                                    "month": "July",
                                    "day": "17",
                                    "Day": "Friday"
                                },
                                {
                                    "release_date": "1992-08-07",
                                    "year": "1992",
                                    "month": "August",
                                    "day": "7",
                                    "Day": "Friday"
                                },
                                {
                                    "release_date": "1992-08-21",
                                    "year": "1992",
                                    "month": "August",
                                    "day": "21",
                                    "Day": "Friday"
                                },
                                {
                                    "release_date": "1992-09-18",
                                    "year": "1992",
                                    "month": "September",
                                    "day": "18",
                                    "Day": "Friday"
                                },
                                {
                                    "release_date": "1992-09-18",
                                    "year": "1992",
                                    "month": "September",
                                    "day": "18",
                                    "Day": "Friday"
                                },
                                {
                                    "release_date": "1992-09-25",
                                    "year": "1992",
                                    "month": "September",
                                    "day": "25",
                                    "Day": "Friday"
                                },
                                {
                                    "release_date": "1992-10-02",
                                    "year": "1992",
                                    "month": "October",
                                    "day": "2",
                                    "Day": "Friday"
                                },
                                {
                                    "release_date": "1992-10-09",
                                    "year": "1992",
                                    "month": "October",
                                    "day": "9",
                                    "Day": "Friday"
                                },
                                {
                                    "release_date": "1992-10-16",
                                    "year": "1992",
                                    "month": "October",
                                    "day": "16",
                                    "Day": "Friday"
                                },
                                {
                                    "release_date": "1992-11-11",
                                    "year": "1992",
                                    "month": "November",
                                    "day": "11",
                                    "Day": "Wednesday"
                                },
                                {
                                    "release_date": "1992-12-04",
                                    "year": "1992",
                                    "month": "December",
                                    "day": "4",
                                    "Day": "Friday"
                                },
                                {
                                    "release_date": "1992-12-11",
                                    "year": "1992",
                                    "month": "December",
                                    "day": "11",
                                    "Day": "Friday"
                                },
                                {
                                    "release_date": "1993-01-15",
                                    "year": "1993",
                                    "month": "January",
                                    "day": "15",
                                    "Day": "Friday"
                                },
                                {
                                    "release_date": "1993-01-22",
                                    "year": "1993",
                                    "month": "January",
                                    "day": "22",
                                    "Day": "Friday"
                                },
                                {
                                    "release_date": "1993-02-03",
                                    "year": "1993",
                                    "month": "February",
                                    "day": "3",
                                    "Day": "Wednesday"
                                },
                                {
                                    "release_date": "1993-02-03",
                                    "year": "1993",
                                    "month": "February",
                                    "day": "3",
                                    "Day": "Wednesday"
                                },
                                {
                                    "release_date": "1993-03-05",
                                    "year": "1993",
                                    "month": "March",
                                    "day": "5",
                                    "Day": "Friday"
                                },
                                {
                                    "release_date": "1993-03-12",
                                    "year": "1993",
                                    "month": "March",
                                    "day": "12",
                                    "Day": "Friday"
                                },
                                {
                                    "release_date": "1993-03-26",
                                    "year": "1993",
                                    "month": "March",
                                    "day": "26",
                                    "Day": "Friday"
                                },
                                {
                                    "release_date": "1993-04-02",
                                    "year": "1993",
                                    "month": "April",
                                    "day": "2",
                                    "Day": "Friday"
                                },
                                {
                                    "release_date": "1993-04-16",
                                    "year": "1993",
                                    "month": "April",
                                    "day": "16",
                                    "Day": "Friday"
                                },
                                {
                                    "release_date": "1993-04-23",
                                    "year": "1993",
                                    "month": "April",
                                    "day": "23",
                                    "Day": "Friday"
                                },
                                {
                                    "release_date": "1993-05-28",
                                    "year": "1993",
                                    "month": "May",
                                    "day": "28",
                                    "Day": "Friday"
                                },
                                {
                                    "release_date": "1993-06-04",
                                    "year": "1993",
                                    "month": "June",
                                    "day": "4",
                                    "Day": "Friday"
                                },
                                {
                                    "release_date": "1993-06-04",
                                    "year": "1993",
                                    "month": "June",
                                    "day": "4",
                                    "Day": "Friday"
                                },
                                {
                                    "release_date": "1993-06-09",
                                    "year": "1993",
                                    "month": "June",
                                    "day": "9",
                                    "Day": "Wednesday"
                                },
                                {
                                    "release_date": "1993-07-02",
                                    "year": "1993",
                                    "month": "July",
                                    "day": "2",
                                    "Day": "Friday"
                                },
                                {
                                    "release_date": "1993-07-16",
                                    "year": "1993",
                                    "month": "July",
                                    "day": "16",
                                    "Day": "Friday"
                                },
                                {
                                    "release_date": "1993-07-23",
                                    "year": "1993",
                                    "month": "July",
                                    "day": "23",
                                    "Day": "Friday"
                                },
                                {
                                    "release_date": "1993-08-06",
                                    "year": "1993",
                                    "month": "August",
                                    "day": "6",
                                    "Day": "Friday"
                                },
                                {
                                    "release_date": "1993-08-27",
                                    "year": "1993",
                                    "month": "August",
                                    "day": "27",
                                    "Day": "Friday"
                                },
                                {
                                    "release_date": "1993-09-08",
                                    "year": "1993",
                                    "month": "September",
                                    "day": "8",
                                    "Day": "Wednesday"
                                },
                                {
                                    "release_date": "1993-09-10",
                                    "year": "1993",
                                    "month": "September",
                                    "day": "10",
                                    "Day": "Friday"
                                },
                                {
                                    "release_date": "1993-09-24",
                                    "year": "1993",
                                    "month": "September",
                                    "day": "24",
                                    "Day": "Friday"
                                },
                                {
                                    "release_date": "1993-10-01",
                                    "year": "1993",
                                    "month": "October",
                                    "day": "1",
                                    "Day": "Friday"
                                },
                                {
                                    "release_date": "1993-10-13",
                                    "year": "1993",
                                    "month": "October",
                                    "day": "13",
                                    "Day": "Wednesday"
                                },
                                {
                                    "release_date": "1993-11-12",
                                    "year": "1993",
                                    "month": "November",
                                    "day": "12",
                                    "Day": "Friday"
                                },
                                {
                                    "release_date": "1993-12-10",
                                    "year": "1993",
                                    "month": "December",
                                    "day": "10",
                                    "Day": "Friday"
                                },
                                {
                                    "release_date": "1993-12-25",
                                    "year": "1993",
                                    "month": "December",
                                    "day": "25",
                                    "Day": "Saturday"
                                },
                                {
                                    "release_date": "1994-01-07",
                                    "year": "1994",
                                    "month": "January",
                                    "day": "7",
                                    "Day": "Friday"
                                },
                                {
                                    "release_date": "1994-01-07",
                                    "year": "1994",
                                    "month": "January",
                                    "day": "7",
                                    "Day": "Friday"
                                },
                                {
                                    "release_date": "1994-01-14",
                                    "year": "1994",
                                    "month": "January",
                                    "day": "14",
                                    "Day": "Friday"
                                },
                                {
                                    "release_date": "1994-01-28",
                                    "year": "1994",
                                    "month": "January",
                                    "day": "28",
                                    "Day": "Friday"
                                },
                                {
                                    "release_date": "1994-02-11",
                                    "year": "1994",
                                    "month": "February",
                                    "day": "11",
                                    "Day": "Friday"
                                },
                                {
                                    "release_date": "1994-03-04",
                                    "year": "1994",
                                    "month": "March",
                                    "day": "4",
                                    "Day": "Friday"
                                },
                                {
                                    "release_date": "1994-03-09",
                                    "year": "1994",
                                    "month": "March",
                                    "day": "9",
                                    "Day": "Wednesday"
                                },
                                {
                                    "release_date": "1994-03-25",
                                    "year": "1994",
                                    "month": "March",
                                    "day": "25",
                                    "Day": "Friday"
                                },
                                {
                                    "release_date": "1994-04-08",
                                    "year": "1994",
                                    "month": "April",
                                    "day": "8",
                                    "Day": "Friday"
                                },
                                {
                                    "release_date": "1994-04-15",
                                    "year": "1994",
                                    "month": "April",
                                    "day": "15",
                                    "Day": "Friday"
                                },
                                {
                                    "release_date": "1994-04-22",
                                    "year": "1994",
                                    "month": "April",
                                    "day": "22",
                                    "Day": "Friday"
                                },
                                {
                                    "release_date": "1994-04-29",
                                    "year": "1994",
                                    "month": "April",
                                    "day": "29",
                                    "Day": "Friday"
                                },
                                {
                                    "release_date": "1994-05-06",
                                    "year": "1994",
                                    "month": "May",
                                    "day": "6",
                                    "Day": "Friday"
                                },
                                {
                                    "release_date": "1994-06-03",
                                    "year": "1994",
                                    "month": "June",
                                    "day": "3",
                                    "Day": "Friday"
                                },
                                {
                                    "release_date": "1994-06-15",
                                    "year": "1994",
                                    "month": "June",
                                    "day": "15",
                                    "Day": "Wednesday"
                                },
                                {
                                    "release_date": "1994-06-29",
                                    "year": "1994",
                                    "month": "June",
                                    "day": "29",
                                    "Day": "Wednesday"
                                },
                                {
                                    "release_date": "1994-07-15",
                                    "year": "1994",
                                    "month": "July",
                                    "day": "15",
                                    "Day": "Friday"
                                },
                                {
                                    "release_date": "1994-08-12",
                                    "year": "1994",
                                    "month": "August",
                                    "day": "12",
                                    "Day": "Friday"
                                },
                                {
                                    "release_date": "1994-08-19",
                                    "year": "1994",
                                    "month": "August",
                                    "day": "19",
                                    "Day": "Friday"
                                },
                                {
                                    "release_date": "1994-08-26",
                                    "year": "1994",
                                    "month": "August",
                                    "day": "26",
                                    "Day": "Friday"
                                },
                                {
                                    "release_date": "1994-08-26",
                                    "year": "1994",
                                    "month": "August",
                                    "day": "26",
                                    "Day": "Friday"
                                },
                                {
                                    "release_date": "1994-09-02",
                                    "year": "1994",
                                    "month": "September",
                                    "day": "2",
                                    "Day": "Friday"
                                },
                                {
                                    "release_date": "1994-09-14",
                                    "year": "1994",
                                    "month": "September",
                                    "day": "14",
                                    "Day": "Wednesday"
                                },
                                {
                                    "release_date": "1994-09-23",
                                    "year": "1994",
                                    "month": "September",
                                    "day": "23",
                                    "Day": "Friday"
                                },
                                {
                                    "release_date": "1994-09-30",
                                    "year": "1994",
                                    "month": "September",
                                    "day": "30",
                                    "Day": "Friday"
                                },
                                {
                                    "release_date": "1994-10-21",
                                    "year": "1994",
                                    "month": "October",
                                    "day": "21",
                                    "Day": "Friday"
                                },
                                {
                                    "release_date": "1994-10-28",
                                    "year": "1994",
                                    "month": "October",
                                    "day": "28",
                                    "Day": "Friday"
                                },
                                {
                                    "release_date": "1994-11-11",
                                    "year": "1994",
                                    "month": "November",
                                    "day": "11",
                                    "Day": "Friday"
                                },
                                {
                                    "release_date": "1994-11-23",
                                    "year": "1994",
                                    "month": "November",
                                    "day": "23",
                                    "Day": "Wednesday"
                                },
                                {
                                    "release_date": "1994-12-25",
                                    "year": "1994",
                                    "month": "December",
                                    "day": "25",
                                    "Day": "Sunday"
                                },
                                {
                                    "release_date": "1995-01-06",
                                    "year": "1995",
                                    "month": "January",
                                    "day": "6",
                                    "Day": "Friday"
                                },
                                {
                                    "release_date": "1995-01-20",
                                    "year": "1995",
                                    "month": "January",
                                    "day": "20",
                                    "Day": "Friday"
                                },
                                {
                                    "release_date": "1995-01-27",
                                    "year": "1995",
                                    "month": "January",
                                    "day": "27",
                                    "Day": "Friday"
                                },
                                {
                                    "release_date": "1995-02-03",
                                    "year": "1995",
                                    "month": "February",
                                    "day": "3",
                                    "Day": "Friday"
                                },
                                {
                                    "release_date": "1995-02-17",
                                    "year": "1995",
                                    "month": "February",
                                    "day": "17",
                                    "Day": "Friday"
                                },
                                {
                                    "release_date": "1995-03-03",
                                    "year": "1995",
                                    "month": "March",
                                    "day": "3",
                                    "Day": "Friday"
                                },
                                {
                                    "release_date": "1995-03-03",
                                    "year": "1995",
                                    "month": "March",
                                    "day": "3",
                                    "Day": "Friday"
                                },
                                {
                                    "release_date": "1995-03-24",
                                    "year": "1995",
                                    "month": "March",
                                    "day": "24",
                                    "Day": "Friday"
                                },
                                {
                                    "release_date": "1995-03-28",
                                    "year": "1995",
                                    "month": "March",
                                    "day": "28",
                                    "Day": "Tuesday"
                                },
                                {
                                    "release_date": "1995-03-31",
                                    "year": "1995",
                                    "month": "March",
                                    "day": "31",
                                    "Day": "Friday"
                                },
                                {
                                    "release_date": "1995-03-31",
                                    "year": "1995",
                                    "month": "March",
                                    "day": "31",
                                    "Day": "Friday"
                                },
                                {
                                    "release_date": "1995-04-07",
                                    "year": "1995",
                                    "month": "April",
                                    "day": "7",
                                    "Day": "Friday"
                                },
                                {
                                    "release_date": "1995-04-21",
                                    "year": "1995",
                                    "month": "April",
                                    "day": "21",
                                    "Day": "Friday"
                                },
                                {
                                    "release_date": "1995-05-12",
                                    "year": "1995",
                                    "month": "May",
                                    "day": "12",
                                    "Day": "Friday"
                                },
                                {
                                    "release_date": "1995-05-26",
                                    "year": "1995",
                                    "month": "May",
                                    "day": "26",
                                    "Day": "Friday"
                                },
                                {
                                    "release_date": "1995-06-10",
                                    "year": "1995",
                                    "month": "June",
                                    "day": "10",
                                    "Day": "Saturday"
                                },
                                {
                                    "release_date": "1995-06-30",
                                    "year": "1995",
                                    "month": "June",
                                    "day": "30",
                                    "Day": "Friday"
                                },
                                {
                                    "release_date": "1995-07-28",
                                    "year": "1995",
                                    "month": "July",
                                    "day": "28",
                                    "Day": "Friday"
                                },
                                {
                                    "release_date": "1995-08-11",
                                    "year": "1995",
                                    "month": "August",
                                    "day": "11",
                                    "Day": "Friday"
                                },
                                {
                                    "release_date": "1995-08-11",
                                    "year": "1995",
                                    "month": "August",
                                    "day": "11",
                                    "Day": "Friday"
                                },
                                {
                                    "release_date": "1995-09-08",
                                    "year": "1995",
                                    "month": "September",
                                    "day": "8",
                                    "Day": "Friday"
                                },
                                {
                                    "release_date": "1995-09-15",
                                    "year": "1995",
                                    "month": "September",
                                    "day": "15",
                                    "Day": "Friday"
                                },
                                {
                                    "release_date": "1995-09-29",
                                    "year": "1995",
                                    "month": "September",
                                    "day": "29",
                                    "Day": "Friday"
                                },
                                {
                                    "release_date": "1995-10-04",
                                    "year": "1995",
                                    "month": "October",
                                    "day": "4",
                                    "Day": "Wednesday"
                                },
                                {
                                    "release_date": "1995-10-13",
                                    "year": "1995",
                                    "month": "October",
                                    "day": "13",
                                    "Day": "Friday"
                                },
                                {
                                    "release_date": "1995-10-13",
                                    "year": "1995",
                                    "month": "October",
                                    "day": "13",
                                    "Day": "Friday"
                                },
                                {
                                    "release_date": "1995-10-27",
                                    "year": "1995",
                                    "month": "October",
                                    "day": "27",
                                    "Day": "Friday"
                                },
                                {
                                    "release_date": "1995-11-22",
                                    "year": "1995",
                                    "month": "November",
                                    "day": "22",
                                    "Day": "Wednesday"
                                },
                                {
                                    "release_date": "1995-12-08",
                                    "year": "1995",
                                    "month": "December",
                                    "day": "8",
                                    "Day": "Friday"
                                },
                                {
                                    "release_date": "1995-12-20",
                                    "year": "1995",
                                    "month": "December",
                                    "day": "20",
                                    "Day": "Wednesday"
                                },
                                {
                                    "release_date": "1995-12-22",
                                    "year": "1995",
                                    "month": "December",
                                    "day": "22",
                                    "Day": "Friday"
                                },
                                {
                                    "release_date": "1995-12-29",
                                    "year": "1995",
                                    "month": "December",
                                    "day": "29",
                                    "Day": "Friday"
                                },
                                {
                                    "release_date": "1996-02-02",
                                    "year": "1996",
                                    "month": "February",
                                    "day": "2",
                                    "Day": "Friday"
                                },
                                {
                                    "release_date": "1996-02-16",
                                    "year": "1996",
                                    "month": "February",
                                    "day": "16",
                                    "Day": "Friday"
                                },
                                {
                                    "release_date": "1996-02-16",
                                    "year": "1996",
                                    "month": "February",
                                    "day": "16",
                                    "Day": "Friday"
                                },
                                {
                                    "release_date": "1996-02-23",
                                    "year": "1996",
                                    "month": "February",
                                    "day": "23",
                                    "Day": "Friday"
                                },
                                {
                                    "release_date": "1996-03-01",
                                    "year": "1996",
                                    "month": "March",
                                    "day": "1",
                                    "Day": "Friday"
                                },
                                {
                                    "release_date": "1996-03-08",
                                    "year": "1996",
                                    "month": "March",
                                    "day": "8",
                                    "Day": "Friday"
                                },
                                {
                                    "release_date": "1996-03-15",
                                    "year": "1996",
                                    "month": "March",
                                    "day": "15",
                                    "Day": "Friday"
                                },
                                {
                                    "release_date": "1996-03-22",
                                    "year": "1996",
                                    "month": "March",
                                    "day": "22",
                                    "Day": "Friday"
                                },
                                {
                                    "release_date": "1996-04-12",
                                    "year": "1996",
                                    "month": "April",
                                    "day": "12",
                                    "Day": "Friday"
                                },
                                {
                                    "release_date": "1996-04-19",
                                    "year": "1996",
                                    "month": "April",
                                    "day": "19",
                                    "Day": "Friday"
                                },
                                {
                                    "release_date": "1996-05-03",
                                    "year": "1996",
                                    "month": "May",
                                    "day": "3",
                                    "Day": "Friday"
                                },
                                {
                                    "release_date": "1996-05-10",
                                    "year": "1996",
                                    "month": "May",
                                    "day": "10",
                                    "Day": "Friday"
                                },
                                {
                                    "release_date": "1996-05-24",
                                    "year": "1996",
                                    "month": "May",
                                    "day": "24",
                                    "Day": "Friday"
                                },
                                {
                                    "release_date": "1996-05-31",
                                    "year": "1996",
                                    "month": "May",
                                    "day": "31",
                                    "Day": "Friday"
                                },
                                {
                                    "release_date": "1996-06-07",
                                    "year": "1996",
                                    "month": "June",
                                    "day": "7",
                                    "Day": "Friday"
                                },
                                {
                                    "release_date": "1996-06-21",
                                    "year": "1996",
                                    "month": "June",
                                    "day": "21",
                                    "Day": "Friday"
                                },
                                {
                                    "release_date": "1996-07-05",
                                    "year": "1996",
                                    "month": "July",
                                    "day": "5",
                                    "Day": "Friday"
                                },
                                {
                                    "release_date": "1996-07-17",
                                    "year": "1996",
                                    "month": "July",
                                    "day": "17",
                                    "Day": "Wednesday"
                                },
                                {
                                    "release_date": "1996-08-09",
                                    "year": "1996",
                                    "month": "August",
                                    "day": "9",
                                    "Day": "Friday"
                                },
                                {
                                    "release_date": "1996-08-30",
                                    "year": "1996",
                                    "month": "August",
                                    "day": "30",
                                    "Day": "Friday"
                                },
                                {
                                    "release_date": "1996-09-13",
                                    "year": "1996",
                                    "month": "September",
                                    "day": "13",
                                    "Day": "Friday"
                                },
                                {
                                    "release_date": "1996-10-04",
                                    "year": "1996",
                                    "month": "October",
                                    "day": "4",
                                    "Day": "Friday"
                                },
                                {
                                    "release_date": "1996-10-25",
                                    "year": "1996",
                                    "month": "October",
                                    "day": "25",
                                    "Day": "Friday"
                                },
                                {
                                    "release_date": "1996-11-08",
                                    "year": "1996",
                                    "month": "November",
                                    "day": "8",
                                    "Day": "Friday"
                                },
                                {
                                    "release_date": "1996-11-20",
                                    "year": "1996",
                                    "month": "November",
                                    "day": "20",
                                    "Day": "Wednesday"
                                },
                                {
                                    "release_date": "1996-11-27",
                                    "year": "1996",
                                    "month": "November",
                                    "day": "27",
                                    "Day": "Wednesday"
                                },
                                {
                                    "release_date": "1996-12-13",
                                    "year": "1996",
                                    "month": "December",
                                    "day": "13",
                                    "Day": "Friday"
                                },
                                {
                                    "release_date": "1996-12-25",
                                    "year": "1996",
                                    "month": "December",
                                    "day": "25",
                                    "Day": "Wednesday"
                                },
                                {
                                    "release_date": "1997-01-17",
                                    "year": "1997",
                                    "month": "January",
                                    "day": "17",
                                    "Day": "Friday"
                                },
                                {
                                    "release_date": "1997-01-24",
                                    "year": "1997",
                                    "month": "January",
                                    "day": "24",
                                    "Day": "Friday"
                                },
                                {
                                    "release_date": "1997-01-31",
                                    "year": "1997",
                                    "month": "January",
                                    "day": "31",
                                    "Day": "Friday"
                                },
                                {
                                    "release_date": "1997-02-14",
                                    "year": "1997",
                                    "month": "February",
                                    "day": "14",
                                    "Day": "Friday"
                                },
                                {
                                    "release_date": "1997-03-07",
                                    "year": "1997",
                                    "month": "March",
                                    "day": "7",
                                    "Day": "Friday"
                                },
                                {
                                    "release_date": "1997-03-28",
                                    "year": "1997",
                                    "month": "March",
                                    "day": "28",
                                    "Day": "Friday"
                                },
                                {
                                    "release_date": "1997-04-11",
                                    "year": "1997",
                                    "month": "April",
                                    "day": "11",
                                    "Day": "Friday"
                                },
                                {
                                    "release_date": "1997-04-25",
                                    "year": "1997",
                                    "month": "April",
                                    "day": "25",
                                    "Day": "Friday"
                                },
                                {
                                    "release_date": "1997-05-30",
                                    "year": "1997",
                                    "month": "May",
                                    "day": "30",
                                    "Day": "Friday"
                                },
                                {
                                    "release_date": "1997-06-06",
                                    "year": "1997",
                                    "month": "June",
                                    "day": "6",
                                    "Day": "Friday"
                                },
                                {
                                    "release_date": "1997-06-13",
                                    "year": "1997",
                                    "month": "June",
                                    "day": "13",
                                    "Day": "Friday"
                                },
                                {
                                    "release_date": "1997-07-16",
                                    "year": "1997",
                                    "month": "July",
                                    "day": "16",
                                    "Day": "Wednesday"
                                },
                                {
                                    "release_date": "1997-07-18",
                                    "year": "1997",
                                    "month": "July",
                                    "day": "18",
                                    "Day": "Friday"
                                },
                                {
                                    "release_date": "1997-08-01",
                                    "year": "1997",
                                    "month": "August",
                                    "day": "1",
                                    "Day": "Friday"
                                },
                                {
                                    "release_date": "1997-08-22",
                                    "year": "1997",
                                    "month": "August",
                                    "day": "22",
                                    "Day": "Friday"
                                },
                                {
                                    "release_date": "1997-09-19",
                                    "year": "1997",
                                    "month": "September",
                                    "day": "19",
                                    "Day": "Friday"
                                },
                                {
                                    "release_date": "1997-10-05",
                                    "year": "1997",
                                    "month": "October",
                                    "day": "5",
                                    "Day": "Sunday"
                                },
                                {
                                    "release_date": "1997-10-10",
                                    "year": "1997",
                                    "month": "October",
                                    "day": "10",
                                    "Day": "Friday"
                                },
                                {
                                    "release_date": "1997-10-17",
                                    "year": "1997",
                                    "month": "October",
                                    "day": "17",
                                    "Day": "Friday"
                                },
                                {
                                    "release_date": "1997-11-26",
                                    "year": "1997",
                                    "month": "November",
                                    "day": "26",
                                    "Day": "Wednesday"
                                },
                                {
                                    "release_date": "1997-12-25",
                                    "year": "1997",
                                    "month": "December",
                                    "day": "25",
                                    "Day": "Thursday"
                                },
                                {
                                    "release_date": "1997-12-25",
                                    "year": "1997",
                                    "month": "December",
                                    "day": "25",
                                    "Day": "Thursday"
                                },
                                {
                                    "release_date": "1997-12-25",
                                    "year": "1997",
                                    "month": "December",
                                    "day": "25",
                                    "Day": "Thursday"
                                },
                                {
                                    "release_date": "1998-01-30",
                                    "year": "1998",
                                    "month": "January",
                                    "day": "30",
                                    "Day": "Friday"
                                },
                                {
                                    "release_date": "1998-02-27",
                                    "year": "1998",
                                    "month": "February",
                                    "day": "27",
                                    "Day": "Friday"
                                },
                                {
                                    "release_date": "1998-02-27",
                                    "year": "1998",
                                    "month": "February",
                                    "day": "27",
                                    "Day": "Friday"
                                },
                                {
                                    "release_date": "1998-03-27",
                                    "year": "1998",
                                    "month": "March",
                                    "day": "27",
                                    "Day": "Friday"
                                },
                                {
                                    "release_date": "1998-05-01",
                                    "year": "1998",
                                    "month": "May",
                                    "day": "1",
                                    "Day": "Friday"
                                },
                                {
                                    "release_date": "1998-05-15",
                                    "year": "1998",
                                    "month": "May",
                                    "day": "15",
                                    "Day": "Friday"
                                },
                                {
                                    "release_date": "1998-06-12",
                                    "year": "1998",
                                    "month": "June",
                                    "day": "12",
                                    "Day": "Friday"
                                },
                                {
                                    "release_date": "1998-06-19",
                                    "year": "1998",
                                    "month": "June",
                                    "day": "19",
                                    "Day": "Friday"
                                },
                                {
                                    "release_date": "1998-07-01",
                                    "year": "1998",
                                    "month": "July",
                                    "day": "1",
                                    "Day": "Wednesday"
                                },
                                {
                                    "release_date": "1998-07-24",
                                    "year": "1998",
                                    "month": "July",
                                    "day": "24",
                                    "Day": "Friday"
                                },
                                {
                                    "release_date": "1998-07-29",
                                    "year": "1998",
                                    "month": "July",
                                    "day": "29",
                                    "Day": "Wednesday"
                                },
                                {
                                    "release_date": "1998-09-04",
                                    "year": "1998",
                                    "month": "September",
                                    "day": "4",
                                    "Day": "Friday"
                                },
                                {
                                    "release_date": "1998-09-11",
                                    "year": "1998",
                                    "month": "September",
                                    "day": "11",
                                    "Day": "Friday"
                                },
                                {
                                    "release_date": "1998-10-09",
                                    "year": "1998",
                                    "month": "October",
                                    "day": "9",
                                    "Day": "Friday"
                                },
                                {
                                    "release_date": "1998-10-16",
                                    "year": "1998",
                                    "month": "October",
                                    "day": "16",
                                    "Day": "Friday"
                                },
                                {
                                    "release_date": "1998-11-06",
                                    "year": "1998",
                                    "month": "November",
                                    "day": "6",
                                    "Day": "Friday"
                                },
                                {
                                    "release_date": "1998-11-13",
                                    "year": "1998",
                                    "month": "November",
                                    "day": "13",
                                    "Day": "Friday"
                                },
                                {
                                    "release_date": "1998-11-20",
                                    "year": "1998",
                                    "month": "November",
                                    "day": "20",
                                    "Day": "Friday"
                                },
                                {
                                    "release_date": "1998-11-20",
                                    "year": "1998",
                                    "month": "November",
                                    "day": "20",
                                    "Day": "Friday"
                                },
                                {
                                    "release_date": "1998-12-11",
                                    "year": "1998",
                                    "month": "December",
                                    "day": "11",
                                    "Day": "Friday"
                                },
                                {
                                    "release_date": "1998-12-25",
                                    "year": "1998",
                                    "month": "December",
                                    "day": "25",
                                    "Day": "Friday"
                                },
                                {
                                    "release_date": "1998-12-25",
                                    "year": "1998",
                                    "month": "December",
                                    "day": "25",
                                    "Day": "Friday"
                                },
                                {
                                    "release_date": "1999-02-12",
                                    "year": "1999",
                                    "month": "February",
                                    "day": "12",
                                    "Day": "Friday"
                                },
                                {
                                    "release_date": "1999-02-26",
                                    "year": "1999",
                                    "month": "February",
                                    "day": "26",
                                    "Day": "Friday"
                                },
                                {
                                    "release_date": "1999-03-26",
                                    "year": "1999",
                                    "month": "March",
                                    "day": "26",
                                    "Day": "Friday"
                                },
                                {
                                    "release_date": "1999-03-31",
                                    "year": "1999",
                                    "month": "March",
                                    "day": "31",
                                    "Day": "Wednesday"
                                },
                                {
                                    "release_date": "1999-05-14",
                                    "year": "1999",
                                    "month": "May",
                                    "day": "14",
                                    "Day": "Friday"
                                },
                                {
                                    "release_date": "1999-06-04",
                                    "year": "1999",
                                    "month": "June",
                                    "day": "4",
                                    "Day": "Friday"
                                },
                                {
                                    "release_date": "1999-06-16",
                                    "year": "1999",
                                    "month": "June",
                                    "day": "16",
                                    "Day": "Wednesday"
                                },
                                {
                                    "release_date": "1999-07-02",
                                    "year": "1999",
                                    "month": "July",
                                    "day": "2",
                                    "Day": "Friday"
                                },
                                {
                                    "release_date": "1999-07-23",
                                    "year": "1999",
                                    "month": "July",
                                    "day": "23",
                                    "Day": "Friday"
                                },
                                {
                                    "release_date": "1999-08-06",
                                    "year": "1999",
                                    "month": "August",
                                    "day": "6",
                                    "Day": "Friday"
                                },
                                {
                                    "release_date": "1999-08-27",
                                    "year": "1999",
                                    "month": "August",
                                    "day": "27",
                                    "Day": "Friday"
                                },
                                {
                                    "release_date": "1999-09-17",
                                    "year": "1999",
                                    "month": "September",
                                    "day": "17",
                                    "Day": "Friday"
                                },
                                {
                                    "release_date": "1999-09-24",
                                    "year": "1999",
                                    "month": "September",
                                    "day": "24",
                                    "Day": "Friday"
                                },
                                {
                                    "release_date": "1999-10-01",
                                    "year": "1999",
                                    "month": "October",
                                    "day": "1",
                                    "Day": "Friday"
                                },
                                {
                                    "release_date": "1999-10-15",
                                    "year": "1999",
                                    "month": "October",
                                    "day": "15",
                                    "Day": "Friday"
                                },
                                {
                                    "release_date": "1999-11-05",
                                    "year": "1999",
                                    "month": "November",
                                    "day": "5",
                                    "Day": "Friday"
                                },
                                {
                                    "release_date": "1999-11-19",
                                    "year": "1999",
                                    "month": "November",
                                    "day": "19",
                                    "Day": "Friday"
                                },
                                {
                                    "release_date": "1999-12-08",
                                    "year": "1999",
                                    "month": "December",
                                    "day": "8",
                                    "Day": "Wednesday"
                                },
                                {
                                    "release_date": "1999-12-10",
                                    "year": "1999",
                                    "month": "December",
                                    "day": "10",
                                    "Day": "Friday"
                                },
                                {
                                    "release_date": "1999-12-17",
                                    "year": "1999",
                                    "month": "December",
                                    "day": "17",
                                    "Day": "Friday"
                                },
                                {
                                    "release_date": "1999-12-24",
                                    "year": "1999",
                                    "month": "December",
                                    "day": "24",
                                    "Day": "Friday"
                                },
                                {
                                    "release_date": "2000-01-01",
                                    "year": "2000",
                                    "month": "January",
                                    "day": "1",
                                    "Day": "Saturday"
                                },
                                {
                                    "release_date": "2000-02-04",
                                    "year": "2000",
                                    "month": "February",
                                    "day": "4",
                                    "Day": "Friday"
                                },
                                {
                                    "release_date": "2000-02-11",
                                    "year": "2000",
                                    "month": "February",
                                    "day": "11",
                                    "Day": "Friday"
                                },
                                {
                                    "release_date": "2000-03-10",
                                    "year": "2000",
                                    "month": "March",
                                    "day": "10",
                                    "Day": "Friday"
                                },
                                {
                                    "release_date": "2000-03-31",
                                    "year": "2000",
                                    "month": "March",
                                    "day": "31",
                                    "Day": "Friday"
                                },
                                {
                                    "release_date": "2000-04-14",
                                    "year": "2000",
                                    "month": "April",
                                    "day": "14",
                                    "Day": "Friday"
                                },
                                {
                                    "release_date": "2000-05-19",
                                    "year": "2000",
                                    "month": "May",
                                    "day": "19",
                                    "Day": "Friday"
                                },
                                {
                                    "release_date": "2000-05-26",
                                    "year": "2000",
                                    "month": "May",
                                    "day": "26",
                                    "Day": "Friday"
                                },
                                {
                                    "release_date": "2000-06-09",
                                    "year": "2000",
                                    "month": "June",
                                    "day": "9",
                                    "Day": "Friday"
                                },
                                {
                                    "release_date": "2000-06-16",
                                    "year": "2000",
                                    "month": "June",
                                    "day": "16",
                                    "Day": "Friday"
                                },
                                {
                                    "release_date": "2000-07-07",
                                    "year": "2000",
                                    "month": "July",
                                    "day": "7",
                                    "Day": "Friday"
                                },
                                {
                                    "release_date": "2000-08-04",
                                    "year": "2000",
                                    "month": "August",
                                    "day": "4",
                                    "Day": "Friday"
                                },
                                {
                                    "release_date": "2000-08-25",
                                    "year": "2000",
                                    "month": "August",
                                    "day": "25",
                                    "Day": "Friday"
                                },
                                {
                                    "release_date": "2000-09-15",
                                    "year": "2000",
                                    "month": "September",
                                    "day": "15",
                                    "Day": "Friday"
                                },
                                {
                                    "release_date": "2000-09-29",
                                    "year": "2000",
                                    "month": "September",
                                    "day": "29",
                                    "Day": "Friday"
                                },
                                {
                                    "release_date": "2000-11-22",
                                    "year": "2000",
                                    "month": "November",
                                    "day": "22",
                                    "Day": "Wednesday"
                                },
                                {
                                    "release_date": "2000-11-22",
                                    "year": "2000",
                                    "month": "November",
                                    "day": "22",
                                    "Day": "Wednesday"
                                },
                                {
                                    "release_date": "2000-12-15",
                                    "year": "2000",
                                    "month": "December",
                                    "day": "15",
                                    "Day": "Friday"
                                },
                                {
                                    "release_date": "2000-12-22",
                                    "year": "2000",
                                    "month": "December",
                                    "day": "22",
                                    "Day": "Friday"
                                },
                                {
                                    "release_date": "2001-01-12",
                                    "year": "2001",
                                    "month": "January",
                                    "day": "12",
                                    "Day": "Friday"
                                },
                                {
                                    "release_date": "2001-02-16",
                                    "year": "2001",
                                    "month": "February",
                                    "day": "16",
                                    "Day": "Friday"
                                },
                                {
                                    "release_date": "2001-04-06",
                                    "year": "2001",
                                    "month": "April",
                                    "day": "6",
                                    "Day": "Friday"
                                },
                                {
                                    "release_date": "2001-05-25",
                                    "year": "2001",
                                    "month": "May",
                                    "day": "25",
                                    "Day": "Friday"
                                },
                                {
                                    "release_date": "2001-06-08",
                                    "year": "2001",
                                    "month": "June",
                                    "day": "8",
                                    "Day": "Friday"
                                },
                                {
                                    "release_date": "2001-06-29",
                                    "year": "2001",
                                    "month": "June",
                                    "day": "29",
                                    "Day": "Friday"
                                },
                                {
                                    "release_date": "2001-08-03",
                                    "year": "2001",
                                    "month": "August",
                                    "day": "3",
                                    "Day": "Friday"
                                },
                                {
                                    "release_date": "2001-08-24",
                                    "year": "2001",
                                    "month": "August",
                                    "day": "24",
                                    "Day": "Friday"
                                },
                                {
                                    "release_date": "2001-10-05",
                                    "year": "2001",
                                    "month": "October",
                                    "day": "5",
                                    "Day": "Friday"
                                },
                                {
                                    "release_date": "2001-10-12",
                                    "year": "2001",
                                    "month": "October",
                                    "day": "12",
                                    "Day": "Friday"
                                },
                                {
                                    "release_date": "2001-10-26",
                                    "year": "2001",
                                    "month": "October",
                                    "day": "26",
                                    "Day": "Friday"
                                },
                                {
                                    "release_date": "2001-11-02",
                                    "year": "2001",
                                    "month": "November",
                                    "day": "2",
                                    "Day": "Friday"
                                },
                                {
                                    "release_date": "2001-11-21",
                                    "year": "2001",
                                    "month": "November",
                                    "day": "21",
                                    "Day": "Wednesday"
                                },
                                {
                                    "release_date": "2001-12-14",
                                    "year": "2001",
                                    "month": "December",
                                    "day": "14",
                                    "Day": "Friday"
                                },
                                {
                                    "release_date": "2002-01-01",
                                    "year": "2002",
                                    "month": "January",
                                    "day": "1",
                                    "Day": "Tuesday"
                                },
                                {
                                    "release_date": "2002-01-01",
                                    "year": "2002",
                                    "month": "January",
                                    "day": "1",
                                    "Day": "Tuesday"
                                },
                                {
                                    "release_date": "2002-01-18",
                                    "year": "2002",
                                    "month": "January",
                                    "day": "18",
                                    "Day": "Friday"
                                },
                                {
                                    "release_date": "2002-01-25",
                                    "year": "2002",
                                    "month": "January",
                                    "day": "25",
                                    "Day": "Friday"
                                },
                                {
                                    "release_date": "2002-02-15",
                                    "year": "2002",
                                    "month": "February",
                                    "day": "15",
                                    "Day": "Friday"
                                },
                                {
                                    "release_date": "2002-02-19",
                                    "year": "2002",
                                    "month": "February",
                                    "day": "19",
                                    "Day": "Tuesday"
                                },
                                {
                                    "release_date": "2002-03-22",
                                    "year": "2002",
                                    "month": "March",
                                    "day": "22",
                                    "Day": "Friday"
                                },
                                {
                                    "release_date": "2002-03-29",
                                    "year": "2002",
                                    "month": "March",
                                    "day": "29",
                                    "Day": "Friday"
                                },
                                {
                                    "release_date": "2002-04-05",
                                    "year": "2002",
                                    "month": "April",
                                    "day": "5",
                                    "Day": "Friday"
                                },
                                {
                                    "release_date": "2002-05-10",
                                    "year": "2002",
                                    "month": "May",
                                    "day": "10",
                                    "Day": "Friday"
                                },
                                {
                                    "release_date": "2002-06-07",
                                    "year": "2002",
                                    "month": "June",
                                    "day": "7",
                                    "Day": "Friday"
                                },
                                {
                                    "release_date": "2002-06-21",
                                    "year": "2002",
                                    "month": "June",
                                    "day": "21",
                                    "Day": "Friday"
                                },
                                {
                                    "release_date": "2002-07-26",
                                    "year": "2002",
                                    "month": "July",
                                    "day": "26",
                                    "Day": "Friday"
                                },
                                {
                                    "release_date": "2002-08-02",
                                    "year": "2002",
                                    "month": "August",
                                    "day": "2",
                                    "Day": "Friday"
                                },
                                {
                                    "release_date": "2002-09-20",
                                    "year": "2002",
                                    "month": "September",
                                    "day": "20",
                                    "Day": "Friday"
                                },
                                {
                                    "release_date": "2002-09-27",
                                    "year": "2002",
                                    "month": "September",
                                    "day": "27",
                                    "Day": "Friday"
                                },
                                {
                                    "release_date": "2002-09-27",
                                    "year": "2002",
                                    "month": "September",
                                    "day": "27",
                                    "Day": "Friday"
                                },
                                {
                                    "release_date": "2002-10-11",
                                    "year": "2002",
                                    "month": "October",
                                    "day": "11",
                                    "Day": "Friday"
                                },
                                {
                                    "release_date": "2002-11-01",
                                    "year": "2002",
                                    "month": "November",
                                    "day": "1",
                                    "Day": "Friday"
                                },
                                {
                                    "release_date": "2002-11-27",
                                    "year": "2002",
                                    "month": "November",
                                    "day": "27",
                                    "Day": "Wednesday"
                                },
                                {
                                    "release_date": "2002-12-13",
                                    "year": "2002",
                                    "month": "December",
                                    "day": "13",
                                    "Day": "Friday"
                                },
                                {
                                    "release_date": "2002-12-19",
                                    "year": "2002",
                                    "month": "December",
                                    "day": "19",
                                    "Day": "Thursday"
                                },
                                {
                                    "release_date": "2003-01-31",
                                    "year": "2003",
                                    "month": "January",
                                    "day": "31",
                                    "Day": "Friday"
                                },
                                {
                                    "release_date": "2003-02-07",
                                    "year": "2003",
                                    "month": "February",
                                    "day": "7",
                                    "Day": "Friday"
                                },
                                {
                                    "release_date": "2003-02-14",
                                    "year": "2003",
                                    "month": "February",
                                    "day": "14",
                                    "Day": "Friday"
                                },
                                {
                                    "release_date": "2003-03-07",
                                    "year": "2003",
                                    "month": "March",
                                    "day": "7",
                                    "Day": "Friday"
                                },
                                {
                                    "release_date": "2003-03-21",
                                    "year": "2003",
                                    "month": "March",
                                    "day": "21",
                                    "Day": "Friday"
                                },
                                {
                                    "release_date": "2003-04-11",
                                    "year": "2003",
                                    "month": "April",
                                    "day": "11",
                                    "Day": "Friday"
                                },
                                {
                                    "release_date": "2003-04-18",
                                    "year": "2003",
                                    "month": "April",
                                    "day": "18",
                                    "Day": "Friday"
                                },
                                {
                                    "release_date": "2003-05-02",
                                    "year": "2003",
                                    "month": "May",
                                    "day": "2",
                                    "Day": "Friday"
                                },
                                {
                                    "release_date": "2003-05-30",
                                    "year": "2003",
                                    "month": "May",
                                    "day": "30",
                                    "Day": "Friday"
                                },
                                {
                                    "release_date": "2003-07-09",
                                    "year": "2003",
                                    "month": "July",
                                    "day": "9",
                                    "Day": "Wednesday"
                                },
                                {
                                    "release_date": "2003-08-06",
                                    "year": "2003",
                                    "month": "August",
                                    "day": "6",
                                    "Day": "Wednesday"
                                },
                                {
                                    "release_date": "2003-08-15",
                                    "year": "2003",
                                    "month": "August",
                                    "day": "15",
                                    "Day": "Friday"
                                },
                                {
                                    "release_date": "2003-09-19",
                                    "year": "2003",
                                    "month": "September",
                                    "day": "19",
                                    "Day": "Friday"
                                },
                                {
                                    "release_date": "2003-09-26",
                                    "year": "2003",
                                    "month": "September",
                                    "day": "26",
                                    "Day": "Friday"
                                },
                                {
                                    "release_date": "2003-10-17",
                                    "year": "2003",
                                    "month": "October",
                                    "day": "17",
                                    "Day": "Friday"
                                },
                                {
                                    "release_date": "2003-10-24",
                                    "year": "2003",
                                    "month": "October",
                                    "day": "24",
                                    "Day": "Friday"
                                },
                                {
                                    "release_date": "2003-11-26",
                                    "year": "2003",
                                    "month": "November",
                                    "day": "26",
                                    "Day": "Wednesday"
                                },
                                {
                                    "release_date": "2003-12-19",
                                    "year": "2003",
                                    "month": "December",
                                    "day": "19",
                                    "Day": "Friday"
                                },
                                {
                                    "release_date": "2003-12-25",
                                    "year": "2003",
                                    "month": "December",
                                    "day": "25",
                                    "Day": "Thursday"
                                },
                                {
                                    "release_date": "2004-01-16",
                                    "year": "2004",
                                    "month": "January",
                                    "day": "16",
                                    "Day": "Friday"
                                },
                                {
                                    "release_date": "2004-02-06",
                                    "year": "2004",
                                    "month": "February",
                                    "day": "6",
                                    "Day": "Friday"
                                },
                                {
                                    "release_date": "2004-02-20",
                                    "year": "2004",
                                    "month": "February",
                                    "day": "20",
                                    "Day": "Friday"
                                },
                                {
                                    "release_date": "2004-03-05",
                                    "year": "2004",
                                    "month": "March",
                                    "day": "5",
                                    "Day": "Friday"
                                },
                                {
                                    "release_date": "2004-03-26",
                                    "year": "2004",
                                    "month": "March",
                                    "day": "26",
                                    "Day": "Friday"
                                },
                                {
                                    "release_date": "2004-04-02",
                                    "year": "2004",
                                    "month": "April",
                                    "day": "2",
                                    "Day": "Friday"
                                },
                                {
                                    "release_date": "2004-04-09",
                                    "year": "2004",
                                    "month": "April",
                                    "day": "9",
                                    "Day": "Friday"
                                },
                                {
                                    "release_date": "2004-05-28",
                                    "year": "2004",
                                    "month": "May",
                                    "day": "28",
                                    "Day": "Friday"
                                },
                                {
                                    "release_date": "2004-06-16",
                                    "year": "2004",
                                    "month": "June",
                                    "day": "16",
                                    "Day": "Wednesday"
                                },
                                {
                                    "release_date": "2004-07-02",
                                    "year": "2004",
                                    "month": "July",
                                    "day": "2",
                                    "Day": "Friday"
                                },
                                {
                                    "release_date": "2004-07-07",
                                    "year": "2004",
                                    "month": "July",
                                    "day": "7",
                                    "Day": "Wednesday"
                                },
                                {
                                    "release_date": "2004-07-30",
                                    "year": "2004",
                                    "month": "July",
                                    "day": "30",
                                    "Day": "Friday"
                                },
                                {
                                    "release_date": "2004-08-11",
                                    "year": "2004",
                                    "month": "August",
                                    "day": "11",
                                    "Day": "Wednesday"
                                },
                                {
                                    "release_date": "2004-09-17",
                                    "year": "2004",
                                    "month": "September",
                                    "day": "17",
                                    "Day": "Friday"
                                },
                                {
                                    "release_date": "2004-09-24",
                                    "year": "2004",
                                    "month": "September",
                                    "day": "24",
                                    "Day": "Friday"
                                },
                                {
                                    "release_date": "2004-10-01",
                                    "year": "2004",
                                    "month": "October",
                                    "day": "1",
                                    "Day": "Friday"
                                },
                                {
                                    "release_date": "2004-11-05",
                                    "year": "2004",
                                    "month": "November",
                                    "day": "5",
                                    "Day": "Friday"
                                },
                                {
                                    "release_date": "2004-11-19",
                                    "year": "2004",
                                    "month": "November",
                                    "day": "19",
                                    "Day": "Friday"
                                },
                                {
                                    "release_date": "2004-12-10",
                                    "year": "2004",
                                    "month": "December",
                                    "day": "10",
                                    "Day": "Friday"
                                },
                                {
                                    "release_date": "2005-01-28",
                                    "year": "2005",
                                    "month": "January",
                                    "day": "28",
                                    "Day": "Friday"
                                },
                                {
                                    "release_date": "2005-02-11",
                                    "year": "2005",
                                    "month": "February",
                                    "day": "11",
                                    "Day": "Friday"
                                },
                                {
                                    "release_date": "2005-03-04",
                                    "year": "2005",
                                    "month": "March",
                                    "day": "4",
                                    "Day": "Friday"
                                },
                                {
                                    "release_date": "2005-03-18",
                                    "year": "2005",
                                    "month": "March",
                                    "day": "18",
                                    "Day": "Friday"
                                },
                                {
                                    "release_date": "2005-04-22",
                                    "year": "2005",
                                    "month": "April",
                                    "day": "22",
                                    "Day": "Friday"
                                },
                                {
                                    "release_date": "2005-04-29",
                                    "year": "2005",
                                    "month": "April",
                                    "day": "29",
                                    "Day": "Friday"
                                },
                                {
                                    "release_date": "2005-06-10",
                                    "year": "2005",
                                    "month": "June",
                                    "day": "10",
                                    "Day": "Friday"
                                },
                                {
                                    "release_date": "2005-06-22",
                                    "year": "2005",
                                    "month": "June",
                                    "day": "22",
                                    "Day": "Wednesday"
                                },
                                {
                                    "release_date": "2005-07-08",
                                    "year": "2005",
                                    "month": "July",
                                    "day": "8",
                                    "Day": "Friday"
                                },
                                {
                                    "release_date": "2005-07-29",
                                    "year": "2005",
                                    "month": "July",
                                    "day": "29",
                                    "Day": "Friday"
                                },
                                {
                                    "release_date": "2005-08-19",
                                    "year": "2005",
                                    "month": "August",
                                    "day": "19",
                                    "Day": "Friday"
                                },
                                {
                                    "release_date": "2005-09-23",
                                    "year": "2005",
                                    "month": "September",
                                    "day": "23",
                                    "Day": "Friday"
                                },
                                {
                                    "release_date": "2005-09-30",
                                    "year": "2005",
                                    "month": "September",
                                    "day": "30",
                                    "Day": "Friday"
                                },
                                {
                                    "release_date": "2005-10-21",
                                    "year": "2005",
                                    "month": "October",
                                    "day": "21",
                                    "Day": "Friday"
                                },
                                {
                                    "release_date": "2005-11-04",
                                    "year": "2005",
                                    "month": "November",
                                    "day": "4",
                                    "Day": "Friday"
                                },
                                {
                                    "release_date": "2005-12-09",
                                    "year": "2005",
                                    "month": "December",
                                    "day": "9",
                                    "Day": "Friday"
                                },
                                {
                                    "release_date": "2005-12-25",
                                    "year": "2005",
                                    "month": "December",
                                    "day": "25",
                                    "Day": "Sunday"
                                },
                                {
                                    "release_date": "2006-01-13",
                                    "year": "2006",
                                    "month": "January",
                                    "day": "13",
                                    "Day": "Friday"
                                },
                                {
                                    "release_date": "2006-01-27",
                                    "year": "2006",
                                    "month": "January",
                                    "day": "27",
                                    "Day": "Friday"
                                },
                                {
                                    "release_date": "2006-01-27",
                                    "year": "2006",
                                    "month": "January",
                                    "day": "27",
                                    "Day": "Friday"
                                },
                                {
                                    "release_date": "2006-02-17",
                                    "year": "2006",
                                    "month": "February",
                                    "day": "17",
                                    "Day": "Friday"
                                },
                                {
                                    "release_date": "2006-03-10",
                                    "year": "2006",
                                    "month": "March",
                                    "day": "10",
                                    "Day": "Friday"
                                },
                                {
                                    "release_date": "2006-03-24",
                                    "year": "2006",
                                    "month": "March",
                                    "day": "24",
                                    "Day": "Friday"
                                },
                                {
                                    "release_date": "2006-04-14",
                                    "year": "2006",
                                    "month": "April",
                                    "day": "14",
                                    "Day": "Friday"
                                },
                                {
                                    "release_date": "2006-04-28",
                                    "year": "2006",
                                    "month": "April",
                                    "day": "28",
                                    "Day": "Friday"
                                },
                                {
                                    "release_date": "2006-05-12",
                                    "year": "2006",
                                    "month": "May",
                                    "day": "12",
                                    "Day": "Friday"
                                },
                                {
                                    "release_date": "2006-06-09",
                                    "year": "2006",
                                    "month": "June",
                                    "day": "9",
                                    "Day": "Friday"
                                },
                                {
                                    "release_date": "2006-07-07",
                                    "year": "2006",
                                    "month": "July",
                                    "day": "7",
                                    "Day": "Friday"
                                },
                                {
                                    "release_date": "2006-08-11",
                                    "year": "2006",
                                    "month": "August",
                                    "day": "11",
                                    "Day": "Friday"
                                },
                                {
                                    "release_date": "2006-08-25",
                                    "year": "2006",
                                    "month": "August",
                                    "day": "25",
                                    "Day": "Friday"
                                },
                                {
                                    "release_date": "2006-09-29",
                                    "year": "2006",
                                    "month": "September",
                                    "day": "29",
                                    "Day": "Friday"
                                },
                                {
                                    "release_date": "2006-10-20",
                                    "year": "2006",
                                    "month": "October",
                                    "day": "20",
                                    "Day": "Friday"
                                },
                                {
                                    "release_date": "2006-10-20",
                                    "year": "2006",
                                    "month": "October",
                                    "day": "20",
                                    "Day": "Friday"
                                },
                                {
                                    "release_date": "2006-11-03",
                                    "year": "2006",
                                    "month": "November",
                                    "day": "3",
                                    "Day": "Friday"
                                },
                                {
                                    "release_date": "2006-11-22",
                                    "year": "2006",
                                    "month": "November",
                                    "day": "22",
                                    "Day": "Wednesday"
                                },
                                {
                                    "release_date": "2006-12-08",
                                    "year": "2006",
                                    "month": "December",
                                    "day": "8",
                                    "Day": "Friday"
                                },
                                {
                                    "release_date": "2007-01-12",
                                    "year": "2007",
                                    "month": "January",
                                    "day": "12",
                                    "Day": "Friday"
                                },
                                {
                                    "release_date": "2007-02-16",
                                    "year": "2007",
                                    "month": "February",
                                    "day": "16",
                                    "Day": "Friday"
                                },
                                {
                                    "release_date": "2007-03-02",
                                    "year": "2007",
                                    "month": "March",
                                    "day": "2",
                                    "Day": "Friday"
                                },
                                {
                                    "release_date": "2007-03-30",
                                    "year": "2007",
                                    "month": "March",
                                    "day": "30",
                                    "Day": "Friday"
                                },
                                {
                                    "release_date": "2007-03-30",
                                    "year": "2007",
                                    "month": "March",
                                    "day": "30",
                                    "Day": "Friday"
                                },
                                {
                                    "release_date": "2007-04-06",
                                    "year": "2007",
                                    "month": "April",
                                    "day": "6",
                                    "Day": "Friday"
                                },
                                {
                                    "release_date": "2007-04-27",
                                    "year": "2007",
                                    "month": "April",
                                    "day": "27",
                                    "Day": "Friday"
                                },
                                {
                                    "release_date": "2007-05-24",
                                    "year": "2007",
                                    "month": "May",
                                    "day": "24",
                                    "Day": "Thursday"
                                },
                                {
                                    "release_date": "2007-06-29",
                                    "year": "2007",
                                    "month": "June",
                                    "day": "29",
                                    "Day": "Friday"
                                },
                                {
                                    "release_date": "2007-08-03",
                                    "year": "2007",
                                    "month": "August",
                                    "day": "3",
                                    "Day": "Friday"
                                },
                                {
                                    "release_date": "2007-09-22",
                                    "year": "2007",
                                    "month": "September",
                                    "day": "22",
                                    "Day": "Saturday"
                                },
                                {
                                    "release_date": "2007-10-20",
                                    "year": "2007",
                                    "month": "October",
                                    "day": "20",
                                    "Day": "Saturday"
                                },
                                {
                                    "release_date": "2007-11-21",
                                    "year": "2007",
                                    "month": "November",
                                    "day": "21",
                                    "Day": "Wednesday"
                                },
                                {
                                    "release_date": "2007-12-21",
                                    "year": "2007",
                                    "month": "December",
                                    "day": "21",
                                    "Day": "Friday"
                                },
                                {
                                    "release_date": "2008-02-01",
                                    "year": "2008",
                                    "month": "February",
                                    "day": "1",
                                    "Day": "Friday"
                                },
                                {
                                    "release_date": "2008-02-14",
                                    "year": "2008",
                                    "month": "February",
                                    "day": "14",
                                    "Day": "Thursday"
                                },
                                {
                                    "release_date": "2008-03-07",
                                    "year": "2008",
                                    "month": "March",
                                    "day": "7",
                                    "Day": "Friday"
                                },
                                {
                                    "release_date": "2008-05-16",
                                    "year": "2008",
                                    "month": "May",
                                    "day": "16",
                                    "Day": "Friday"
                                },
                                {
                                    "release_date": "2008-06-27",
                                    "year": "2008",
                                    "month": "June",
                                    "day": "27",
                                    "Day": "Friday"
                                },
                                {
                                    "release_date": "2008-08-01",
                                    "year": "2008",
                                    "month": "August",
                                    "day": "1",
                                    "Day": "Friday"
                                },
                                {
                                    "release_date": "2008-08-29",
                                    "year": "2008",
                                    "month": "August",
                                    "day": "29",
                                    "Day": "Friday"
                                },
                                {
                                    "release_date": "2008-09-26",
                                    "year": "2008",
                                    "month": "September",
                                    "day": "26",
                                    "Day": "Friday"
                                },
                                {
                                    "release_date": "2008-10-03",
                                    "year": "2008",
                                    "month": "October",
                                    "day": "3",
                                    "Day": "Friday"
                                },
                                {
                                    "release_date": "2008-10-17",
                                    "year": "2008",
                                    "month": "October",
                                    "day": "17",
                                    "Day": "Friday"
                                },
                                {
                                    "release_date": "2008-10-24",
                                    "year": "2008",
                                    "month": "October",
                                    "day": "24",
                                    "Day": "Friday"
                                },
                                {
                                    "release_date": "2008-11-21",
                                    "year": "2008",
                                    "month": "November",
                                    "day": "21",
                                    "Day": "Friday"
                                },
                                {
                                    "release_date": "2008-12-25",
                                    "year": "2008",
                                    "month": "December",
                                    "day": "25",
                                    "Day": "Thursday"
                                },
                                {
                                    "release_date": "2009-02-13",
                                    "year": "2009",
                                    "month": "February",
                                    "day": "13",
                                    "Day": "Friday"
                                },
                                {
                                    "release_date": "2009-02-27",
                                    "year": "2009",
                                    "month": "February",
                                    "day": "27",
                                    "Day": "Friday"
                                },
                                {
                                    "release_date": "2009-03-13",
                                    "year": "2009",
                                    "month": "March",
                                    "day": "13",
                                    "Day": "Friday"
                                },
                                {
                                    "release_date": "2009-04-10",
                                    "year": "2009",
                                    "month": "April",
                                    "day": "10",
                                    "Day": "Friday"
                                },
                                {
                                    "release_date": "2009-04-22",
                                    "year": "2009",
                                    "month": "April",
                                    "day": "22",
                                    "Day": "Wednesday"
                                },
                                {
                                    "release_date": "2009-05-29",
                                    "year": "2009",
                                    "month": "May",
                                    "day": "29",
                                    "Day": "Friday"
                                },
                                {
                                    "release_date": "2009-06-19",
                                    "year": "2009",
                                    "month": "June",
                                    "day": "19",
                                    "Day": "Friday"
                                },
                                {
                                    "release_date": "2009-07-24",
                                    "year": "2009",
                                    "month": "July",
                                    "day": "24",
                                    "Day": "Friday"
                                },
                                {
                                    "release_date": "2009-08-14",
                                    "year": "2009",
                                    "month": "August",
                                    "day": "14",
                                    "Day": "Friday"
                                },
                                {
                                    "release_date": "2009-08-21",
                                    "year": "2009",
                                    "month": "August",
                                    "day": "21",
                                    "Day": "Friday"
                                },
                                {
                                    "release_date": "2009-09-10",
                                    "year": "2009",
                                    "month": "September",
                                    "day": "10",
                                    "Day": "Thursday"
                                },
                                {
                                    "release_date": "2009-09-25",
                                    "year": "2009",
                                    "month": "September",
                                    "day": "25",
                                    "Day": "Friday"
                                },
                                {
                                    "release_date": "2009-10-02",
                                    "year": "2009",
                                    "month": "October",
                                    "day": "2",
                                    "Day": "Friday"
                                },
                                {
                                    "release_date": "2009-11-06",
                                    "year": "2009",
                                    "month": "November",
                                    "day": "6",
                                    "Day": "Friday"
                                },
                                {
                                    "release_date": "2009-11-25",
                                    "year": "2009",
                                    "month": "November",
                                    "day": "25",
                                    "Day": "Wednesday"
                                },
                                {
                                    "release_date": "2009-11-25",
                                    "year": "2009",
                                    "month": "November",
                                    "day": "25",
                                    "Day": "Wednesday"
                                },
                                {
                                    "release_date": "2010-01-29",
                                    "year": "2010",
                                    "month": "January",
                                    "day": "29",
                                    "Day": "Friday"
                                },
                                {
                                    "release_date": "2010-03-05",
                                    "year": "2010",
                                    "month": "March",
                                    "day": "5",
                                    "Day": "Friday"
                                },
                                {
                                    "release_date": "2010-03-26",
                                    "year": "2010",
                                    "month": "March",
                                    "day": "26",
                                    "Day": "Friday"
                                },
                                {
                                    "release_date": "2010-03-31",
                                    "year": "2010",
                                    "month": "March",
                                    "day": "31",
                                    "Day": "Wednesday"
                                },
                                {
                                    "release_date": "2010-04-22",
                                    "year": "2010",
                                    "month": "April",
                                    "day": "22",
                                    "Day": "Thursday"
                                },
                                {
                                    "release_date": "2010-05-28",
                                    "year": "2010",
                                    "month": "May",
                                    "day": "28",
                                    "Day": "Friday"
                                },
                                {
                                    "release_date": "2010-06-18",
                                    "year": "2010",
                                    "month": "June",
                                    "day": "18",
                                    "Day": "Friday"
                                },
                                {
                                    "release_date": "2010-07-14",
                                    "year": "2010",
                                    "month": "July",
                                    "day": "14",
                                    "Day": "Wednesday"
                                },
                                {
                                    "release_date": "2010-08-06",
                                    "year": "2010",
                                    "month": "August",
                                    "day": "6",
                                    "Day": "Friday"
                                },
                                {
                                    "release_date": "2010-08-13",
                                    "year": "2010",
                                    "month": "August",
                                    "day": "13",
                                    "Day": "Friday"
                                },
                                {
                                    "release_date": "2010-09-24",
                                    "year": "2010",
                                    "month": "September",
                                    "day": "24",
                                    "Day": "Friday"
                                },
                                {
                                    "release_date": "2010-10-08",
                                    "year": "2010",
                                    "month": "October",
                                    "day": "8",
                                    "Day": "Friday"
                                },
                                {
                                    "release_date": "2010-11-24",
                                    "year": "2010",
                                    "month": "November",
                                    "day": "24",
                                    "Day": "Wednesday"
                                },
                                {
                                    "release_date": "2010-12-17",
                                    "year": "2010",
                                    "month": "December",
                                    "day": "17",
                                    "Day": "Friday"
                                },
                                {
                                    "release_date": "2011-02-11",
                                    "year": "2011",
                                    "month": "February",
                                    "day": "11",
                                    "Day": "Friday"
                                },
                                {
                                    "release_date": "2011-02-18",
                                    "year": "2011",
                                    "month": "February",
                                    "day": "18",
                                    "Day": "Friday"
                                },
                                {
                                    "release_date": "2011-03-11",
                                    "year": "2011",
                                    "month": "March",
                                    "day": "11",
                                    "Day": "Friday"
                                },
                                {
                                    "release_date": "2011-04-22",
                                    "year": "2011",
                                    "month": "April",
                                    "day": "22",
                                    "Day": "Friday"
                                },
                                {
                                    "release_date": "2011-04-22",
                                    "year": "2011",
                                    "month": "April",
                                    "day": "22",
                                    "Day": "Friday"
                                },
                                {
                                    "release_date": "2011-04-29",
                                    "year": "2011",
                                    "month": "April",
                                    "day": "29",
                                    "Day": "Friday"
                                },
                                {
                                    "release_date": "2011-05-20",
                                    "year": "2011",
                                    "month": "May",
                                    "day": "20",
                                    "Day": "Friday"
                                },
                                {
                                    "release_date": "2011-06-24",
                                    "year": "2011",
                                    "month": "June",
                                    "day": "24",
                                    "Day": "Friday"
                                },
                                {
                                    "release_date": "2011-07-15",
                                    "year": "2011",
                                    "month": "July",
                                    "day": "15",
                                    "Day": "Friday"
                                },
                                {
                                    "release_date": "2011-08-10",
                                    "year": "2011",
                                    "month": "August",
                                    "day": "10",
                                    "Day": "Wednesday"
                                },
                                {
                                    "release_date": "2011-08-19",
                                    "year": "2011",
                                    "month": "August",
                                    "day": "19",
                                    "Day": "Friday"
                                },
                                {
                                    "release_date": "2011-10-07",
                                    "year": "2011",
                                    "month": "October",
                                    "day": "7",
                                    "Day": "Friday"
                                },
                                {
                                    "release_date": "2011-11-23",
                                    "year": "2011",
                                    "month": "November",
                                    "day": "23",
                                    "Day": "Wednesday"
                                },
                                {
                                    "release_date": "2011-12-25",
                                    "year": "2011",
                                    "month": "December",
                                    "day": "25",
                                    "Day": "Sunday"
                                },
                                {
                                    "release_date": "2012-02-17",
                                    "year": "2012",
                                    "month": "February",
                                    "day": "17",
                                    "Day": "Friday"
                                },
                                {
                                    "release_date": "2012-03-09",
                                    "year": "2012",
                                    "month": "March",
                                    "day": "9",
                                    "Day": "Friday"
                                },
                                {
                                    "release_date": "2012-04-20",
                                    "year": "2012",
                                    "month": "April",
                                    "day": "20",
                                    "Day": "Friday"
                                },
                                {
                                    "release_date": "2012-05-04",
                                    "year": "2012",
                                    "month": "May",
                                    "day": "4",
                                    "Day": "Friday"
                                },
                                {
                                    "release_date": "2012-06-22",
                                    "year": "2012",
                                    "month": "June",
                                    "day": "22",
                                    "Day": "Friday"
                                },
                                {
                                    "release_date": "2012-06-29",
                                    "year": "2012",
                                    "month": "June",
                                    "day": "29",
                                    "Day": "Friday"
                                },
                                {
                                    "release_date": "2012-08-15",
                                    "year": "2012",
                                    "month": "August",
                                    "day": "15",
                                    "Day": "Wednesday"
                                },
                                {
                                    "release_date": "2012-10-05",
                                    "year": "2012",
                                    "month": "October",
                                    "day": "5",
                                    "Day": "Friday"
                                },
                                {
                                    "release_date": "2012-11-02",
                                    "year": "2012",
                                    "month": "November",
                                    "day": "2",
                                    "Day": "Friday"
                                },
                                {
                                    "release_date": "2012-11-09",
                                    "year": "2012",
                                    "month": "November",
                                    "day": "9",
                                    "Day": "Friday"
                                },
                                {
                                    "release_date": "2013-03-08",
                                    "year": "2013",
                                    "month": "March",
                                    "day": "8",
                                    "Day": "Friday"
                                },
                                {
                                    "release_date": "2013-05-03",
                                    "year": "2013",
                                    "month": "May",
                                    "day": "3",
                                    "Day": "Friday"
                                },
                                {
                                    "release_date": "2013-06-21",
                                    "year": "2013",
                                    "month": "June",
                                    "day": "21",
                                    "Day": "Friday"
                                },
                                {
                                    "release_date": "2013-07-02",
                                    "year": "2013",
                                    "month": "July",
                                    "day": "2",
                                    "Day": "Tuesday"
                                },
                                {
                                    "release_date": "2013-08-09",
                                    "year": "2013",
                                    "month": "August",
                                    "day": "9",
                                    "Day": "Friday"
                                },
                                {
                                    "release_date": "2013-10-18",
                                    "year": "2013",
                                    "month": "October",
                                    "day": "18",
                                    "Day": "Friday"
                                },
                                {
                                    "release_date": "2013-11-08",
                                    "year": "2013",
                                    "month": "November",
                                    "day": "8",
                                    "Day": "Friday"
                                },
                                {
                                    "release_date": "2013-11-08",
                                    "year": "2013",
                                    "month": "November",
                                    "day": "8",
                                    "Day": "Friday"
                                },
                                {
                                    "release_date": "2013-11-22",
                                    "year": "2013",
                                    "month": "November",
                                    "day": "22",
                                    "Day": "Friday"
                                },
                                {
                                    "release_date": "2013-11-22",
                                    "year": "2013",
                                    "month": "November",
                                    "day": "22",
                                    "Day": "Friday"
                                },
                                {
                                    "release_date": "2013-12-13",
                                    "year": "2013",
                                    "month": "December",
                                    "day": "13",
                                    "Day": "Friday"
                                },
                                {
                                    "release_date": "2014-03-14",
                                    "year": "2014",
                                    "month": "March",
                                    "day": "14",
                                    "Day": "Friday"
                                },
                                {
                                    "release_date": "2014-03-21",
                                    "year": "2014",
                                    "month": "March",
                                    "day": "21",
                                    "Day": "Friday"
                                },
                                {
                                    "release_date": "2014-04-04",
                                    "year": "2014",
                                    "month": "April",
                                    "day": "4",
                                    "Day": "Friday"
                                },
                                {
                                    "release_date": "2014-04-18",
                                    "year": "2014",
                                    "month": "April",
                                    "day": "18",
                                    "Day": "Friday"
                                },
                                {
                                    "release_date": "2014-05-10",
                                    "year": "2014",
                                    "month": "May",
                                    "day": "10",
                                    "Day": "Saturday"
                                },
                                {
                                    "release_date": "2014-05-30",
                                    "year": "2014",
                                    "month": "May",
                                    "day": "30",
                                    "Day": "Friday"
                                },
                                {
                                    "release_date": "2014-07-18",
                                    "year": "2014",
                                    "month": "July",
                                    "day": "18",
                                    "Day": "Friday"
                                },
                                {
                                    "release_date": "2014-08-01",
                                    "year": "2014",
                                    "month": "August",
                                    "day": "1",
                                    "Day": "Friday"
                                },
                                {
                                    "release_date": "2014-08-08",
                                    "year": "2014",
                                    "month": "August",
                                    "day": "8",
                                    "Day": "Friday"
                                },
                                {
                                    "release_date": "2014-10-10",
                                    "year": "2014",
                                    "month": "October",
                                    "day": "10",
                                    "Day": "Friday"
                                },
                                {
                                    "release_date": "2014-11-07",
                                    "year": "2014",
                                    "month": "November",
                                    "day": "7",
                                    "Day": "Friday"
                                },
                                {
                                    "release_date": "2014-12-25",
                                    "year": "2014",
                                    "month": "December",
                                    "day": "25",
                                    "Day": "Thursday"
                                },
                                {
                                    "release_date": "2015-01-23",
                                    "year": "2015",
                                    "month": "January",
                                    "day": "23",
                                    "Day": "Friday"
                                },
                                {
                                    "release_date": "2015-02-20",
                                    "year": "2015",
                                    "month": "February",
                                    "day": "20",
                                    "Day": "Friday"
                                },
                                {
                                    "release_date": "2015-03-13",
                                    "year": "2015",
                                    "month": "March",
                                    "day": "13",
                                    "Day": "Friday"
                                },
                                {
                                    "release_date": "2015-04-17",
                                    "year": "2015",
                                    "month": "April",
                                    "day": "17",
                                    "Day": "Friday"
                                },
                                {
                                    "release_date": "2015-05-01",
                                    "year": "2015",
                                    "month": "May",
                                    "day": "1",
                                    "Day": "Friday"
                                },
                                {
                                    "release_date": "2015-05-22",
                                    "year": "2015",
                                    "month": "May",
                                    "day": "22",
                                    "Day": "Friday"
                                },
                                {
                                    "release_date": "2015-06-19",
                                    "year": "2015",
                                    "month": "June",
                                    "day": "19",
                                    "Day": "Friday"
                                },
                                {
                                    "release_date": "2015-07-17",
                                    "year": "2015",
                                    "month": "July",
                                    "day": "17",
                                    "Day": "Friday"
                                },
                                {
                                    "release_date": "2015-10-16",
                                    "year": "2015",
                                    "month": "October",
                                    "day": "16",
                                    "Day": "Friday"
                                },
                                {
                                    "release_date": "2015-11-25",
                                    "year": "2015",
                                    "month": "November",
                                    "day": "25",
                                    "Day": "Wednesday"
                                },
                                {
                                    "release_date": "2015-12-18",
                                    "year": "2015",
                                    "month": "December",
                                    "day": "18",
                                    "Day": "Friday"
                                },
                                {
                                    "release_date": "2016-01-29",
                                    "year": "2016",
                                    "month": "January",
                                    "day": "29",
                                    "Day": "Friday"
                                },
                                {
                                    "release_date": "2016-03-04",
                                    "year": "2016",
                                    "month": "March",
                                    "day": "4",
                                    "Day": "Friday"
                                },
                                {
                                    "release_date": "2016-04-15",
                                    "year": "2016",
                                    "month": "April",
                                    "day": "15",
                                    "Day": "Friday"
                                },
                                {
                                    "release_date": "2016-04-29",
                                    "year": "2016",
                                    "month": "April",
                                    "day": "29",
                                    "Day": "Friday"
                                },
                                {
                                    "release_date": "2016-05-06",
                                    "year": "2016",
                                    "month": "May",
                                    "day": "6",
                                    "Day": "Friday"
                                },
                                {
                                    "release_date": "2016-05-27",
                                    "year": "2016",
                                    "month": "May",
                                    "day": "27",
                                    "Day": "Friday"
                                },
                                {
                                    "release_date": "2016-06-17",
                                    "year": "2016",
                                    "month": "June",
                                    "day": "17",
                                    "Day": "Friday"
                                },
                                {
                                    "release_date": "2016-07-01",
                                    "year": "2016",
                                    "month": "July",
                                    "day": "1",
                                    "Day": "Friday"
                                },
                                {
                                    "release_date": "2016-08-12",
                                    "year": "2016",
                                    "month": "August",
                                    "day": "12",
                                    "Day": "Friday"
                                },
                                {
                                    "release_date": "2016-09-02",
                                    "year": "2016",
                                    "month": "September",
                                    "day": "2",
                                    "Day": "Friday"
                                },
                                {
                                    "release_date": "2016-09-23",
                                    "year": "2016",
                                    "month": "September",
                                    "day": "23",
                                    "Day": "Friday"
                                },
                                {
                                    "release_date": "2016-11-04",
                                    "year": "2016",
                                    "month": "November",
                                    "day": "4",
                                    "Day": "Friday"
                                },
                                {
                                    "release_date": "2016-11-23",
                                    "year": "2016",
                                    "month": "November",
                                    "day": "23",
                                    "Day": "Wednesday"
                                },
                                {
                                    "release_date": "2016-12-16",
                                    "year": "2016",
                                    "month": "December",
                                    "day": "16",
                                    "Day": "Friday"
                                }
                            ]
                        },
                        "text/html": "<table><tr><th>release_date</th><th>year</th><th>month</th><th>day</th><th>Day</th><th>month</th></tr><tr><td>1937-12-21</td><td>1937</td><td>12</td><td>21</td><td>Tuesday</td><td>December</td></tr><tr><td>1940-02-09</td><td>1940</td><td>2</td><td>9</td><td>Friday</td><td>February</td></tr><tr><td>1940-11-13</td><td>1940</td><td>11</td><td>13</td><td>Wednesday</td><td>November</td></tr><tr><td>1946-11-12</td><td>1946</td><td>11</td><td>12</td><td>Tuesday</td><td>November</td></tr><tr><td>1950-02-15</td><td>1950</td><td>2</td><td>15</td><td>Wednesday</td><td>February</td></tr><tr><td>1954-12-23</td><td>1954</td><td>12</td><td>23</td><td>Thursday</td><td>December</td></tr><tr><td>1955-06-22</td><td>1955</td><td>6</td><td>22</td><td>Wednesday</td><td>June</td></tr><tr><td>1959-01-29</td><td>1959</td><td>1</td><td>29</td><td>Thursday</td><td>January</td></tr><tr><td>1961-01-25</td><td>1961</td><td>1</td><td>25</td><td>Wednesday</td><td>January</td></tr><tr><td>1961-03-16</td><td>1961</td><td>3</td><td>16</td><td>Thursday</td><td>March</td></tr><tr><td>1961-12-14</td><td>1961</td><td>12</td><td>14</td><td>Thursday</td><td>December</td></tr><tr><td>1962-05-17</td><td>1962</td><td>5</td><td>17</td><td>Thursday</td><td>May</td></tr><tr><td>1963-12-25</td><td>1963</td><td>12</td><td>25</td><td>Wednesday</td><td>December</td></tr><tr><td>1967-10-18</td><td>1967</td><td>10</td><td>18</td><td>Wednesday</td><td>October</td></tr><tr><td>1968-02-08</td><td>1968</td><td>2</td><td>8</td><td>Thursday</td><td>February</td></tr><tr><td>1970-04-24</td><td>1970</td><td>4</td><td>24</td><td>Friday</td><td>April</td></tr><tr><td>1970-07-01</td><td>1970</td><td>7</td><td>1</td><td>Wednesday</td><td>July</td></tr><tr><td>1971-10-07</td><td>1971</td><td>10</td><td>7</td><td>Thursday</td><td>October</td></tr><tr><td>1975-07-01</td><td>1975</td><td>7</td><td>1</td><td>Tuesday</td><td>July</td></tr><tr><td>1977-01-21</td><td>1977</td><td>1</td><td>21</td><td>Friday</td><td>January</td></tr><tr><td>1977-03-11</td><td>1977</td><td>3</td><td>11</td><td>Friday</td><td>March</td></tr><tr><td>1977-06-22</td><td>1977</td><td>6</td><td>22</td><td>Wednesday</td><td>June</td></tr><tr><td>1977-06-24</td><td>1977</td><td>6</td><td>24</td><td>Friday</td><td>June</td></tr><tr><td>1979-12-21</td><td>1979</td><td>12</td><td>21</td><td>Friday</td><td>December</td></tr><tr><td>1980-02-08</td><td>1980</td><td>2</td><td>8</td><td>Friday</td><td>February</td></tr><tr><td>1980-06-25</td><td>1980</td><td>6</td><td>25</td><td>Wednesday</td><td>June</td></tr><tr><td>1981-01-01</td><td>1981</td><td>1</td><td>1</td><td>Thursday</td><td>January</td></tr><tr><td>1981-03-20</td><td>1981</td><td>3</td><td>20</td><td>Friday</td><td>March</td></tr><tr><td>1981-07-10</td><td>1981</td><td>7</td><td>10</td><td>Friday</td><td>July</td></tr><tr><td>1981-08-07</td><td>1981</td><td>8</td><td>7</td><td>Friday</td><td>August</td></tr><tr><td>1982-02-05</td><td>1982</td><td>2</td><td>5</td><td>Friday</td><td>February</td></tr><tr><td>1982-07-09</td><td>1982</td><td>7</td><td>9</td><td>Friday</td><td>July</td></tr><tr><td>1982-11-19</td><td>1982</td><td>11</td><td>19</td><td>Friday</td><td>November</td></tr><tr><td>1983-03-11</td><td>1983</td><td>3</td><td>11</td><td>Friday</td><td>March</td></tr><tr><td>1983-04-29</td><td>1983</td><td>4</td><td>29</td><td>Friday</td><td>April</td></tr><tr><td>1983-10-07</td><td>1983</td><td>10</td><td>7</td><td>Friday</td><td>October</td></tr><tr><td>1983-11-04</td><td>1983</td><td>11</td><td>4</td><td>Friday</td><td>November</td></tr><tr><td>1984-03-09</td><td>1984</td><td>3</td><td>9</td><td>Friday</td><td>March</td></tr><tr><td>1984-09-29</td><td>1984</td><td>9</td><td>29</td><td>Saturday</td><td>September</td></tr><tr><td>1985-03-22</td><td>1985</td><td>3</td><td>22</td><td>Friday</td><td>March</td></tr><tr><td>1985-06-21</td><td>1985</td><td>6</td><td>21</td><td>Friday</td><td>June</td></tr><tr><td>1985-07-24</td><td>1985</td><td>7</td><td>24</td><td>Wednesday</td><td>July</td></tr><tr><td>1985-08-09</td><td>1985</td><td>8</td><td>9</td><td>Friday</td><td>August</td></tr><tr><td>1985-09-27</td><td>1985</td><td>9</td><td>27</td><td>Friday</td><td>September</td></tr><tr><td>1985-11-22</td><td>1985</td><td>11</td><td>22</td><td>Friday</td><td>November</td></tr><tr><td>1986-01-31</td><td>1986</td><td>1</td><td>31</td><td>Friday</td><td>January</td></tr><tr><td>1986-04-11</td><td>1986</td><td>4</td><td>11</td><td>Friday</td><td>April</td></tr><tr><td>1986-06-27</td><td>1986</td><td>6</td><td>27</td><td>Friday</td><td>June</td></tr><tr><td>1986-07-02</td><td>1986</td><td>7</td><td>2</td><td>Wednesday</td><td>July</td></tr><tr><td>1986-07-30</td><td>1986</td><td>7</td><td>30</td><td>Wednesday</td><td>July</td></tr><tr><td>1986-10-03</td><td>1986</td><td>10</td><td>3</td><td>Friday</td><td>October</td></tr><tr><td>1986-10-17</td><td>1986</td><td>10</td><td>17</td><td>Friday</td><td>October</td></tr><tr><td>1987-01-30</td><td>1987</td><td>1</td><td>30</td><td>Friday</td><td>January</td></tr><tr><td>1987-03-06</td><td>1987</td><td>3</td><td>6</td><td>Friday</td><td>March</td></tr><tr><td>1987-05-22</td><td>1987</td><td>5</td><td>22</td><td>Friday</td><td>May</td></tr><tr><td>1987-06-05</td><td>1987</td><td>6</td><td>5</td><td>Friday</td><td>June</td></tr><tr><td>1987-07-03</td><td>1987</td><td>7</td><td>3</td><td>Friday</td><td>July</td></tr><tr><td>1987-08-05</td><td>1987</td><td>8</td><td>5</td><td>Wednesday</td><td>August</td></tr><tr><td>1987-08-14</td><td>1987</td><td>8</td><td>14</td><td>Friday</td><td>August</td></tr><tr><td>1987-11-06</td><td>1987</td><td>11</td><td>6</td><td>Friday</td><td>November</td></tr><tr><td>1987-11-25</td><td>1987</td><td>11</td><td>25</td><td>Wednesday</td><td>November</td></tr><tr><td>1987-12-23</td><td>1987</td><td>12</td><td>23</td><td>Wednesday</td><td>December</td></tr><tr><td>1988-02-12</td><td>1988</td><td>2</td><td>12</td><td>Friday</td><td>February</td></tr><tr><td>1988-03-18</td><td>1988</td><td>3</td><td>18</td><td>Friday</td><td>March</td></tr><tr><td>1988-04-15</td><td>1988</td><td>4</td><td>15</td><td>Friday</td><td>April</td></tr><tr><td>1988-06-10</td><td>1988</td><td>6</td><td>10</td><td>Friday</td><td>June</td></tr><tr><td>1988-06-22</td><td>1988</td><td>6</td><td>22</td><td>Wednesday</td><td>June</td></tr><tr><td>1988-07-29</td><td>1988</td><td>7</td><td>29</td><td>Friday</td><td>July</td></tr><tr><td>1988-08-05</td><td>1988</td><td>8</td><td>5</td><td>Friday</td><td>August</td></tr><tr><td>1988-09-30</td><td>1988</td><td>9</td><td>30</td><td>Friday</td><td>September</td></tr><tr><td>1988-11-04</td><td>1988</td><td>11</td><td>4</td><td>Friday</td><td>November</td></tr><tr><td>1988-11-11</td><td>1988</td><td>11</td><td>11</td><td>Friday</td><td>November</td></tr><tr><td>1988-11-18</td><td>1988</td><td>11</td><td>18</td><td>Friday</td><td>November</td></tr><tr><td>1988-12-21</td><td>1988</td><td>12</td><td>21</td><td>Wednesday</td><td>December</td></tr><tr><td>1989-01-27</td><td>1989</td><td>1</td><td>27</td><td>Friday</td><td>January</td></tr><tr><td>1989-03-01</td><td>1989</td><td>3</td><td>1</td><td>Wednesday</td><td>March</td></tr><tr><td>1989-04-14</td><td>1989</td><td>4</td><td>14</td><td>Friday</td><td>April</td></tr><tr><td>1989-06-02</td><td>1989</td><td>6</td><td>2</td><td>Friday</td><td>June</td></tr><tr><td>1989-06-23</td><td>1989</td><td>6</td><td>23</td><td>Friday</td><td>June</td></tr><tr><td>1989-07-28</td><td>1989</td><td>7</td><td>28</td><td>Friday</td><td>July</td></tr><tr><td>1989-08-18</td><td>1989</td><td>8</td><td>18</td><td>Friday</td><td>August</td></tr><tr><td>1989-10-06</td><td>1989</td><td>10</td><td>6</td><td>Friday</td><td>October</td></tr><tr><td>1989-10-20</td><td>1989</td><td>10</td><td>20</td><td>Friday</td><td>October</td></tr><tr><td>1989-11-15</td><td>1989</td><td>11</td><td>15</td><td>Wednesday</td><td>November</td></tr><tr><td>1989-12-13</td><td>1989</td><td>12</td><td>13</td><td>Wednesday</td><td>December</td></tr><tr><td>1990-02-02</td><td>1990</td><td>2</td><td>2</td><td>Friday</td><td>February</td></tr><tr><td>1990-02-23</td><td>1990</td><td>2</td><td>23</td><td>Friday</td><td>February</td></tr><tr><td>1990-03-23</td><td>1990</td><td>3</td><td>23</td><td>Friday</td><td>March</td></tr><tr><td>1990-04-06</td><td>1990</td><td>4</td><td>6</td><td>Friday</td><td>April</td></tr><tr><td>1990-04-27</td><td>1990</td><td>4</td><td>27</td><td>Friday</td><td>April</td></tr><tr><td>1990-05-24</td><td>1990</td><td>5</td><td>24</td><td>Thursday</td><td>May</td></tr><tr><td>1990-06-15</td><td>1990</td><td>6</td><td>15</td><td>Friday</td><td>June</td></tr><tr><td>1990-06-22</td><td>1990</td><td>6</td><td>22</td><td>Friday</td><td>June</td></tr><tr><td>1990-07-18</td><td>1990</td><td>7</td><td>18</td><td>Wednesday</td><td>July</td></tr><tr><td>1990-08-03</td><td>1990</td><td>8</td><td>3</td><td>Friday</td><td>August</td></tr><tr><td>1990-08-17</td><td>1990</td><td>8</td><td>17</td><td>Friday</td><td>August</td></tr><tr><td>1990-10-12</td><td>1990</td><td>10</td><td>12</td><td>Friday</td><td>October</td></tr><tr><td>1990-11-16</td><td>1990</td><td>11</td><td>16</td><td>Friday</td><td>November</td></tr><tr><td>1990-11-21</td><td>1990</td><td>11</td><td>21</td><td>Wednesday</td><td>November</td></tr><tr><td>1990-12-25</td><td>1990</td><td>12</td><td>25</td><td>Tuesday</td><td>December</td></tr><tr><td>1991-01-18</td><td>1991</td><td>1</td><td>18</td><td>Friday</td><td>January</td></tr><tr><td>1991-02-22</td><td>1991</td><td>2</td><td>22</td><td>Friday</td><td>February</td></tr><tr><td>1991-03-01</td><td>1991</td><td>3</td><td>1</td><td>Friday</td><td>March</td></tr><tr><td>1991-04-05</td><td>1991</td><td>4</td><td>5</td><td>Friday</td><td>April</td></tr><tr><td>1991-04-26</td><td>1991</td><td>4</td><td>26</td><td>Friday</td><td>April</td></tr><tr><td>1991-05-03</td><td>1991</td><td>5</td><td>3</td><td>Friday</td><td>May</td></tr><tr><td>1991-05-17</td><td>1991</td><td>5</td><td>17</td><td>Friday</td><td>May</td></tr><tr><td>1991-05-24</td><td>1991</td><td>5</td><td>24</td><td>Friday</td><td>May</td></tr><tr><td>1991-06-21</td><td>1991</td><td>6</td><td>21</td><td>Friday</td><td>June</td></tr><tr><td>1991-07-24</td><td>1991</td><td>7</td><td>24</td><td>Wednesday</td><td>July</td></tr><tr><td>1991-09-18</td><td>1991</td><td>9</td><td>18</td><td>Wednesday</td><td>September</td></tr><tr><td>1991-09-27</td><td>1991</td><td>9</td><td>27</td><td>Friday</td><td>September</td></tr><tr><td>1991-10-11</td><td>1991</td><td>10</td><td>11</td><td>Friday</td><td>October</td></tr><tr><td>1991-11-01</td><td>1991</td><td>11</td><td>1</td><td>Friday</td><td>November</td></tr><tr><td>1991-11-13</td><td>1991</td><td>11</td><td>13</td><td>Wednesday</td><td>November</td></tr><tr><td>1991-12-20</td><td>1991</td><td>12</td><td>20</td><td>Friday</td><td>December</td></tr><tr><td>1992-01-10</td><td>1992</td><td>1</td><td>10</td><td>Friday</td><td>January</td></tr><tr><td>1992-02-07</td><td>1992</td><td>2</td><td>7</td><td>Friday</td><td>February</td></tr><tr><td>1992-03-06</td><td>1992</td><td>3</td><td>6</td><td>Friday</td><td>March</td></tr><tr><td>1992-03-20</td><td>1992</td><td>3</td><td>20</td><td>Friday</td><td>March</td></tr><tr><td>1992-04-03</td><td>1992</td><td>4</td><td>3</td><td>Friday</td><td>April</td></tr><tr><td>1992-04-08</td><td>1992</td><td>4</td><td>8</td><td>Wednesday</td><td>April</td></tr><tr><td>1992-04-24</td><td>1992</td><td>4</td><td>24</td><td>Friday</td><td>April</td></tr><tr><td>1992-05-22</td><td>1992</td><td>5</td><td>22</td><td>Friday</td><td>May</td></tr><tr><td>1992-05-29</td><td>1992</td><td>5</td><td>29</td><td>Friday</td><td>May</td></tr><tr><td>1992-07-17</td><td>1992</td><td>7</td><td>17</td><td>Friday</td><td>July</td></tr><tr><td>1992-07-17</td><td>1992</td><td>7</td><td>17</td><td>Friday</td><td>July</td></tr><tr><td>1992-08-07</td><td>1992</td><td>8</td><td>7</td><td>Friday</td><td>August</td></tr><tr><td>1992-08-21</td><td>1992</td><td>8</td><td>21</td><td>Friday</td><td>August</td></tr><tr><td>1992-09-18</td><td>1992</td><td>9</td><td>18</td><td>Friday</td><td>September</td></tr><tr><td>1992-09-18</td><td>1992</td><td>9</td><td>18</td><td>Friday</td><td>September</td></tr><tr><td>1992-09-25</td><td>1992</td><td>9</td><td>25</td><td>Friday</td><td>September</td></tr><tr><td>1992-10-02</td><td>1992</td><td>10</td><td>2</td><td>Friday</td><td>October</td></tr><tr><td>1992-10-09</td><td>1992</td><td>10</td><td>9</td><td>Friday</td><td>October</td></tr><tr><td>1992-10-16</td><td>1992</td><td>10</td><td>16</td><td>Friday</td><td>October</td></tr><tr><td>1992-11-11</td><td>1992</td><td>11</td><td>11</td><td>Wednesday</td><td>November</td></tr><tr><td>1992-12-04</td><td>1992</td><td>12</td><td>4</td><td>Friday</td><td>December</td></tr><tr><td>1992-12-11</td><td>1992</td><td>12</td><td>11</td><td>Friday</td><td>December</td></tr><tr><td>1993-01-15</td><td>1993</td><td>1</td><td>15</td><td>Friday</td><td>January</td></tr><tr><td>1993-01-22</td><td>1993</td><td>1</td><td>22</td><td>Friday</td><td>January</td></tr><tr><td>1993-02-03</td><td>1993</td><td>2</td><td>3</td><td>Wednesday</td><td>February</td></tr><tr><td>1993-02-03</td><td>1993</td><td>2</td><td>3</td><td>Wednesday</td><td>February</td></tr><tr><td>1993-03-05</td><td>1993</td><td>3</td><td>5</td><td>Friday</td><td>March</td></tr><tr><td>1993-03-12</td><td>1993</td><td>3</td><td>12</td><td>Friday</td><td>March</td></tr><tr><td>1993-03-26</td><td>1993</td><td>3</td><td>26</td><td>Friday</td><td>March</td></tr><tr><td>1993-04-02</td><td>1993</td><td>4</td><td>2</td><td>Friday</td><td>April</td></tr><tr><td>1993-04-16</td><td>1993</td><td>4</td><td>16</td><td>Friday</td><td>April</td></tr><tr><td>1993-04-23</td><td>1993</td><td>4</td><td>23</td><td>Friday</td><td>April</td></tr><tr><td>1993-05-28</td><td>1993</td><td>5</td><td>28</td><td>Friday</td><td>May</td></tr><tr><td>1993-06-04</td><td>1993</td><td>6</td><td>4</td><td>Friday</td><td>June</td></tr><tr><td>1993-06-04</td><td>1993</td><td>6</td><td>4</td><td>Friday</td><td>June</td></tr><tr><td>1993-06-09</td><td>1993</td><td>6</td><td>9</td><td>Wednesday</td><td>June</td></tr><tr><td>1993-07-02</td><td>1993</td><td>7</td><td>2</td><td>Friday</td><td>July</td></tr><tr><td>1993-07-16</td><td>1993</td><td>7</td><td>16</td><td>Friday</td><td>July</td></tr><tr><td>1993-07-23</td><td>1993</td><td>7</td><td>23</td><td>Friday</td><td>July</td></tr><tr><td>1993-08-06</td><td>1993</td><td>8</td><td>6</td><td>Friday</td><td>August</td></tr><tr><td>1993-08-27</td><td>1993</td><td>8</td><td>27</td><td>Friday</td><td>August</td></tr><tr><td>1993-09-08</td><td>1993</td><td>9</td><td>8</td><td>Wednesday</td><td>September</td></tr><tr><td>1993-09-10</td><td>1993</td><td>9</td><td>10</td><td>Friday</td><td>September</td></tr><tr><td>1993-09-24</td><td>1993</td><td>9</td><td>24</td><td>Friday</td><td>September</td></tr><tr><td>1993-10-01</td><td>1993</td><td>10</td><td>1</td><td>Friday</td><td>October</td></tr><tr><td>1993-10-13</td><td>1993</td><td>10</td><td>13</td><td>Wednesday</td><td>October</td></tr><tr><td>1993-11-12</td><td>1993</td><td>11</td><td>12</td><td>Friday</td><td>November</td></tr><tr><td>1993-12-10</td><td>1993</td><td>12</td><td>10</td><td>Friday</td><td>December</td></tr><tr><td>1993-12-25</td><td>1993</td><td>12</td><td>25</td><td>Saturday</td><td>December</td></tr><tr><td>1994-01-07</td><td>1994</td><td>1</td><td>7</td><td>Friday</td><td>January</td></tr><tr><td>1994-01-07</td><td>1994</td><td>1</td><td>7</td><td>Friday</td><td>January</td></tr><tr><td>1994-01-14</td><td>1994</td><td>1</td><td>14</td><td>Friday</td><td>January</td></tr><tr><td>1994-01-28</td><td>1994</td><td>1</td><td>28</td><td>Friday</td><td>January</td></tr><tr><td>1994-02-11</td><td>1994</td><td>2</td><td>11</td><td>Friday</td><td>February</td></tr><tr><td>1994-03-04</td><td>1994</td><td>3</td><td>4</td><td>Friday</td><td>March</td></tr><tr><td>1994-03-09</td><td>1994</td><td>3</td><td>9</td><td>Wednesday</td><td>March</td></tr><tr><td>1994-03-25</td><td>1994</td><td>3</td><td>25</td><td>Friday</td><td>March</td></tr><tr><td>1994-04-08</td><td>1994</td><td>4</td><td>8</td><td>Friday</td><td>April</td></tr><tr><td>1994-04-15</td><td>1994</td><td>4</td><td>15</td><td>Friday</td><td>April</td></tr><tr><td>1994-04-22</td><td>1994</td><td>4</td><td>22</td><td>Friday</td><td>April</td></tr><tr><td>1994-04-29</td><td>1994</td><td>4</td><td>29</td><td>Friday</td><td>April</td></tr><tr><td>1994-05-06</td><td>1994</td><td>5</td><td>6</td><td>Friday</td><td>May</td></tr><tr><td>1994-06-03</td><td>1994</td><td>6</td><td>3</td><td>Friday</td><td>June</td></tr><tr><td>1994-06-15</td><td>1994</td><td>6</td><td>15</td><td>Wednesday</td><td>June</td></tr><tr><td>1994-06-29</td><td>1994</td><td>6</td><td>29</td><td>Wednesday</td><td>June</td></tr><tr><td>1994-07-15</td><td>1994</td><td>7</td><td>15</td><td>Friday</td><td>July</td></tr><tr><td>1994-08-12</td><td>1994</td><td>8</td><td>12</td><td>Friday</td><td>August</td></tr><tr><td>1994-08-19</td><td>1994</td><td>8</td><td>19</td><td>Friday</td><td>August</td></tr><tr><td>1994-08-26</td><td>1994</td><td>8</td><td>26</td><td>Friday</td><td>August</td></tr><tr><td>1994-08-26</td><td>1994</td><td>8</td><td>26</td><td>Friday</td><td>August</td></tr><tr><td>1994-09-02</td><td>1994</td><td>9</td><td>2</td><td>Friday</td><td>September</td></tr><tr><td>1994-09-14</td><td>1994</td><td>9</td><td>14</td><td>Wednesday</td><td>September</td></tr><tr><td>1994-09-23</td><td>1994</td><td>9</td><td>23</td><td>Friday</td><td>September</td></tr><tr><td>1994-09-30</td><td>1994</td><td>9</td><td>30</td><td>Friday</td><td>September</td></tr><tr><td>1994-10-21</td><td>1994</td><td>10</td><td>21</td><td>Friday</td><td>October</td></tr><tr><td>1994-10-28</td><td>1994</td><td>10</td><td>28</td><td>Friday</td><td>October</td></tr><tr><td>1994-11-11</td><td>1994</td><td>11</td><td>11</td><td>Friday</td><td>November</td></tr><tr><td>1994-11-23</td><td>1994</td><td>11</td><td>23</td><td>Wednesday</td><td>November</td></tr><tr><td>1994-12-25</td><td>1994</td><td>12</td><td>25</td><td>Sunday</td><td>December</td></tr><tr><td>1995-01-06</td><td>1995</td><td>1</td><td>6</td><td>Friday</td><td>January</td></tr><tr><td>1995-01-20</td><td>1995</td><td>1</td><td>20</td><td>Friday</td><td>January</td></tr><tr><td>1995-01-27</td><td>1995</td><td>1</td><td>27</td><td>Friday</td><td>January</td></tr><tr><td>1995-02-03</td><td>1995</td><td>2</td><td>3</td><td>Friday</td><td>February</td></tr><tr><td>1995-02-17</td><td>1995</td><td>2</td><td>17</td><td>Friday</td><td>February</td></tr><tr><td>1995-03-03</td><td>1995</td><td>3</td><td>3</td><td>Friday</td><td>March</td></tr><tr><td>1995-03-03</td><td>1995</td><td>3</td><td>3</td><td>Friday</td><td>March</td></tr><tr><td>1995-03-24</td><td>1995</td><td>3</td><td>24</td><td>Friday</td><td>March</td></tr><tr><td>1995-03-28</td><td>1995</td><td>3</td><td>28</td><td>Tuesday</td><td>March</td></tr><tr><td>1995-03-31</td><td>1995</td><td>3</td><td>31</td><td>Friday</td><td>March</td></tr><tr><td>1995-03-31</td><td>1995</td><td>3</td><td>31</td><td>Friday</td><td>March</td></tr><tr><td>1995-04-07</td><td>1995</td><td>4</td><td>7</td><td>Friday</td><td>April</td></tr><tr><td>1995-04-21</td><td>1995</td><td>4</td><td>21</td><td>Friday</td><td>April</td></tr><tr><td>1995-05-12</td><td>1995</td><td>5</td><td>12</td><td>Friday</td><td>May</td></tr><tr><td>1995-05-26</td><td>1995</td><td>5</td><td>26</td><td>Friday</td><td>May</td></tr><tr><td>1995-06-10</td><td>1995</td><td>6</td><td>10</td><td>Saturday</td><td>June</td></tr><tr><td>1995-06-30</td><td>1995</td><td>6</td><td>30</td><td>Friday</td><td>June</td></tr><tr><td>1995-07-28</td><td>1995</td><td>7</td><td>28</td><td>Friday</td><td>July</td></tr><tr><td>1995-08-11</td><td>1995</td><td>8</td><td>11</td><td>Friday</td><td>August</td></tr><tr><td>1995-08-11</td><td>1995</td><td>8</td><td>11</td><td>Friday</td><td>August</td></tr><tr><td>1995-09-08</td><td>1995</td><td>9</td><td>8</td><td>Friday</td><td>September</td></tr><tr><td>1995-09-15</td><td>1995</td><td>9</td><td>15</td><td>Friday</td><td>September</td></tr><tr><td>1995-09-29</td><td>1995</td><td>9</td><td>29</td><td>Friday</td><td>September</td></tr><tr><td>1995-10-04</td><td>1995</td><td>10</td><td>4</td><td>Wednesday</td><td>October</td></tr><tr><td>1995-10-13</td><td>1995</td><td>10</td><td>13</td><td>Friday</td><td>October</td></tr><tr><td>1995-10-13</td><td>1995</td><td>10</td><td>13</td><td>Friday</td><td>October</td></tr><tr><td>1995-10-27</td><td>1995</td><td>10</td><td>27</td><td>Friday</td><td>October</td></tr><tr><td>1995-11-22</td><td>1995</td><td>11</td><td>22</td><td>Wednesday</td><td>November</td></tr><tr><td>1995-12-08</td><td>1995</td><td>12</td><td>8</td><td>Friday</td><td>December</td></tr><tr><td>1995-12-20</td><td>1995</td><td>12</td><td>20</td><td>Wednesday</td><td>December</td></tr><tr><td>1995-12-22</td><td>1995</td><td>12</td><td>22</td><td>Friday</td><td>December</td></tr><tr><td>1995-12-29</td><td>1995</td><td>12</td><td>29</td><td>Friday</td><td>December</td></tr><tr><td>1996-02-02</td><td>1996</td><td>2</td><td>2</td><td>Friday</td><td>February</td></tr><tr><td>1996-02-16</td><td>1996</td><td>2</td><td>16</td><td>Friday</td><td>February</td></tr><tr><td>1996-02-16</td><td>1996</td><td>2</td><td>16</td><td>Friday</td><td>February</td></tr><tr><td>1996-02-23</td><td>1996</td><td>2</td><td>23</td><td>Friday</td><td>February</td></tr><tr><td>1996-03-01</td><td>1996</td><td>3</td><td>1</td><td>Friday</td><td>March</td></tr><tr><td>1996-03-08</td><td>1996</td><td>3</td><td>8</td><td>Friday</td><td>March</td></tr><tr><td>1996-03-15</td><td>1996</td><td>3</td><td>15</td><td>Friday</td><td>March</td></tr><tr><td>1996-03-22</td><td>1996</td><td>3</td><td>22</td><td>Friday</td><td>March</td></tr><tr><td>1996-04-12</td><td>1996</td><td>4</td><td>12</td><td>Friday</td><td>April</td></tr><tr><td>1996-04-19</td><td>1996</td><td>4</td><td>19</td><td>Friday</td><td>April</td></tr><tr><td>1996-05-03</td><td>1996</td><td>5</td><td>3</td><td>Friday</td><td>May</td></tr><tr><td>1996-05-10</td><td>1996</td><td>5</td><td>10</td><td>Friday</td><td>May</td></tr><tr><td>1996-05-24</td><td>1996</td><td>5</td><td>24</td><td>Friday</td><td>May</td></tr><tr><td>1996-05-31</td><td>1996</td><td>5</td><td>31</td><td>Friday</td><td>May</td></tr><tr><td>1996-06-07</td><td>1996</td><td>6</td><td>7</td><td>Friday</td><td>June</td></tr><tr><td>1996-06-21</td><td>1996</td><td>6</td><td>21</td><td>Friday</td><td>June</td></tr><tr><td>1996-07-05</td><td>1996</td><td>7</td><td>5</td><td>Friday</td><td>July</td></tr><tr><td>1996-07-17</td><td>1996</td><td>7</td><td>17</td><td>Wednesday</td><td>July</td></tr><tr><td>1996-08-09</td><td>1996</td><td>8</td><td>9</td><td>Friday</td><td>August</td></tr><tr><td>1996-08-30</td><td>1996</td><td>8</td><td>30</td><td>Friday</td><td>August</td></tr><tr><td>1996-09-13</td><td>1996</td><td>9</td><td>13</td><td>Friday</td><td>September</td></tr><tr><td>1996-10-04</td><td>1996</td><td>10</td><td>4</td><td>Friday</td><td>October</td></tr><tr><td>1996-10-25</td><td>1996</td><td>10</td><td>25</td><td>Friday</td><td>October</td></tr><tr><td>1996-11-08</td><td>1996</td><td>11</td><td>8</td><td>Friday</td><td>November</td></tr><tr><td>1996-11-20</td><td>1996</td><td>11</td><td>20</td><td>Wednesday</td><td>November</td></tr><tr><td>1996-11-27</td><td>1996</td><td>11</td><td>27</td><td>Wednesday</td><td>November</td></tr><tr><td>1996-12-13</td><td>1996</td><td>12</td><td>13</td><td>Friday</td><td>December</td></tr><tr><td>1996-12-25</td><td>1996</td><td>12</td><td>25</td><td>Wednesday</td><td>December</td></tr><tr><td>1997-01-17</td><td>1997</td><td>1</td><td>17</td><td>Friday</td><td>January</td></tr><tr><td>1997-01-24</td><td>1997</td><td>1</td><td>24</td><td>Friday</td><td>January</td></tr><tr><td>1997-01-31</td><td>1997</td><td>1</td><td>31</td><td>Friday</td><td>January</td></tr><tr><td>1997-02-14</td><td>1997</td><td>2</td><td>14</td><td>Friday</td><td>February</td></tr><tr><td>1997-03-07</td><td>1997</td><td>3</td><td>7</td><td>Friday</td><td>March</td></tr><tr><td>1997-03-28</td><td>1997</td><td>3</td><td>28</td><td>Friday</td><td>March</td></tr><tr><td>1997-04-11</td><td>1997</td><td>4</td><td>11</td><td>Friday</td><td>April</td></tr><tr><td>1997-04-25</td><td>1997</td><td>4</td><td>25</td><td>Friday</td><td>April</td></tr><tr><td>1997-05-30</td><td>1997</td><td>5</td><td>30</td><td>Friday</td><td>May</td></tr><tr><td>1997-06-06</td><td>1997</td><td>6</td><td>6</td><td>Friday</td><td>June</td></tr><tr><td>1997-06-13</td><td>1997</td><td>6</td><td>13</td><td>Friday</td><td>June</td></tr><tr><td>1997-07-16</td><td>1997</td><td>7</td><td>16</td><td>Wednesday</td><td>July</td></tr><tr><td>1997-07-18</td><td>1997</td><td>7</td><td>18</td><td>Friday</td><td>July</td></tr><tr><td>1997-08-01</td><td>1997</td><td>8</td><td>1</td><td>Friday</td><td>August</td></tr><tr><td>1997-08-22</td><td>1997</td><td>8</td><td>22</td><td>Friday</td><td>August</td></tr><tr><td>1997-09-19</td><td>1997</td><td>9</td><td>19</td><td>Friday</td><td>September</td></tr><tr><td>1997-10-05</td><td>1997</td><td>10</td><td>5</td><td>Sunday</td><td>October</td></tr><tr><td>1997-10-10</td><td>1997</td><td>10</td><td>10</td><td>Friday</td><td>October</td></tr><tr><td>1997-10-17</td><td>1997</td><td>10</td><td>17</td><td>Friday</td><td>October</td></tr><tr><td>1997-11-26</td><td>1997</td><td>11</td><td>26</td><td>Wednesday</td><td>November</td></tr><tr><td>1997-12-25</td><td>1997</td><td>12</td><td>25</td><td>Thursday</td><td>December</td></tr><tr><td>1997-12-25</td><td>1997</td><td>12</td><td>25</td><td>Thursday</td><td>December</td></tr><tr><td>1997-12-25</td><td>1997</td><td>12</td><td>25</td><td>Thursday</td><td>December</td></tr><tr><td>1998-01-30</td><td>1998</td><td>1</td><td>30</td><td>Friday</td><td>January</td></tr><tr><td>1998-02-27</td><td>1998</td><td>2</td><td>27</td><td>Friday</td><td>February</td></tr><tr><td>1998-02-27</td><td>1998</td><td>2</td><td>27</td><td>Friday</td><td>February</td></tr><tr><td>1998-03-27</td><td>1998</td><td>3</td><td>27</td><td>Friday</td><td>March</td></tr><tr><td>1998-05-01</td><td>1998</td><td>5</td><td>1</td><td>Friday</td><td>May</td></tr><tr><td>1998-05-15</td><td>1998</td><td>5</td><td>15</td><td>Friday</td><td>May</td></tr><tr><td>1998-06-12</td><td>1998</td><td>6</td><td>12</td><td>Friday</td><td>June</td></tr><tr><td>1998-06-19</td><td>1998</td><td>6</td><td>19</td><td>Friday</td><td>June</td></tr><tr><td>1998-07-01</td><td>1998</td><td>7</td><td>1</td><td>Wednesday</td><td>July</td></tr><tr><td>1998-07-24</td><td>1998</td><td>7</td><td>24</td><td>Friday</td><td>July</td></tr><tr><td>1998-07-29</td><td>1998</td><td>7</td><td>29</td><td>Wednesday</td><td>July</td></tr><tr><td>1998-09-04</td><td>1998</td><td>9</td><td>4</td><td>Friday</td><td>September</td></tr><tr><td>1998-09-11</td><td>1998</td><td>9</td><td>11</td><td>Friday</td><td>September</td></tr><tr><td>1998-10-09</td><td>1998</td><td>10</td><td>9</td><td>Friday</td><td>October</td></tr><tr><td>1998-10-16</td><td>1998</td><td>10</td><td>16</td><td>Friday</td><td>October</td></tr><tr><td>1998-11-06</td><td>1998</td><td>11</td><td>6</td><td>Friday</td><td>November</td></tr><tr><td>1998-11-13</td><td>1998</td><td>11</td><td>13</td><td>Friday</td><td>November</td></tr><tr><td>1998-11-20</td><td>1998</td><td>11</td><td>20</td><td>Friday</td><td>November</td></tr><tr><td>1998-11-20</td><td>1998</td><td>11</td><td>20</td><td>Friday</td><td>November</td></tr><tr><td>1998-12-11</td><td>1998</td><td>12</td><td>11</td><td>Friday</td><td>December</td></tr><tr><td>1998-12-25</td><td>1998</td><td>12</td><td>25</td><td>Friday</td><td>December</td></tr><tr><td>1998-12-25</td><td>1998</td><td>12</td><td>25</td><td>Friday</td><td>December</td></tr><tr><td>1999-02-12</td><td>1999</td><td>2</td><td>12</td><td>Friday</td><td>February</td></tr><tr><td>1999-02-26</td><td>1999</td><td>2</td><td>26</td><td>Friday</td><td>February</td></tr><tr><td>1999-03-26</td><td>1999</td><td>3</td><td>26</td><td>Friday</td><td>March</td></tr><tr><td>1999-03-31</td><td>1999</td><td>3</td><td>31</td><td>Wednesday</td><td>March</td></tr><tr><td>1999-05-14</td><td>1999</td><td>5</td><td>14</td><td>Friday</td><td>May</td></tr><tr><td>1999-06-04</td><td>1999</td><td>6</td><td>4</td><td>Friday</td><td>June</td></tr><tr><td>1999-06-16</td><td>1999</td><td>6</td><td>16</td><td>Wednesday</td><td>June</td></tr><tr><td>1999-07-02</td><td>1999</td><td>7</td><td>2</td><td>Friday</td><td>July</td></tr><tr><td>1999-07-23</td><td>1999</td><td>7</td><td>23</td><td>Friday</td><td>July</td></tr><tr><td>1999-08-06</td><td>1999</td><td>8</td><td>6</td><td>Friday</td><td>August</td></tr><tr><td>1999-08-27</td><td>1999</td><td>8</td><td>27</td><td>Friday</td><td>August</td></tr><tr><td>1999-09-17</td><td>1999</td><td>9</td><td>17</td><td>Friday</td><td>September</td></tr><tr><td>1999-09-24</td><td>1999</td><td>9</td><td>24</td><td>Friday</td><td>September</td></tr><tr><td>1999-10-01</td><td>1999</td><td>10</td><td>1</td><td>Friday</td><td>October</td></tr><tr><td>1999-10-15</td><td>1999</td><td>10</td><td>15</td><td>Friday</td><td>October</td></tr><tr><td>1999-11-05</td><td>1999</td><td>11</td><td>5</td><td>Friday</td><td>November</td></tr><tr><td>1999-11-19</td><td>1999</td><td>11</td><td>19</td><td>Friday</td><td>November</td></tr><tr><td>1999-12-08</td><td>1999</td><td>12</td><td>8</td><td>Wednesday</td><td>December</td></tr><tr><td>1999-12-10</td><td>1999</td><td>12</td><td>10</td><td>Friday</td><td>December</td></tr><tr><td>1999-12-17</td><td>1999</td><td>12</td><td>17</td><td>Friday</td><td>December</td></tr><tr><td>1999-12-24</td><td>1999</td><td>12</td><td>24</td><td>Friday</td><td>December</td></tr><tr><td>2000-01-01</td><td>2000</td><td>1</td><td>1</td><td>Saturday</td><td>January</td></tr><tr><td>2000-02-04</td><td>2000</td><td>2</td><td>4</td><td>Friday</td><td>February</td></tr><tr><td>2000-02-11</td><td>2000</td><td>2</td><td>11</td><td>Friday</td><td>February</td></tr><tr><td>2000-03-10</td><td>2000</td><td>3</td><td>10</td><td>Friday</td><td>March</td></tr><tr><td>2000-03-31</td><td>2000</td><td>3</td><td>31</td><td>Friday</td><td>March</td></tr><tr><td>2000-04-14</td><td>2000</td><td>4</td><td>14</td><td>Friday</td><td>April</td></tr><tr><td>2000-05-19</td><td>2000</td><td>5</td><td>19</td><td>Friday</td><td>May</td></tr><tr><td>2000-05-26</td><td>2000</td><td>5</td><td>26</td><td>Friday</td><td>May</td></tr><tr><td>2000-06-09</td><td>2000</td><td>6</td><td>9</td><td>Friday</td><td>June</td></tr><tr><td>2000-06-16</td><td>2000</td><td>6</td><td>16</td><td>Friday</td><td>June</td></tr><tr><td>2000-07-07</td><td>2000</td><td>7</td><td>7</td><td>Friday</td><td>July</td></tr><tr><td>2000-08-04</td><td>2000</td><td>8</td><td>4</td><td>Friday</td><td>August</td></tr><tr><td>2000-08-25</td><td>2000</td><td>8</td><td>25</td><td>Friday</td><td>August</td></tr><tr><td>2000-09-15</td><td>2000</td><td>9</td><td>15</td><td>Friday</td><td>September</td></tr><tr><td>2000-09-29</td><td>2000</td><td>9</td><td>29</td><td>Friday</td><td>September</td></tr><tr><td>2000-11-22</td><td>2000</td><td>11</td><td>22</td><td>Wednesday</td><td>November</td></tr><tr><td>2000-11-22</td><td>2000</td><td>11</td><td>22</td><td>Wednesday</td><td>November</td></tr><tr><td>2000-12-15</td><td>2000</td><td>12</td><td>15</td><td>Friday</td><td>December</td></tr><tr><td>2000-12-22</td><td>2000</td><td>12</td><td>22</td><td>Friday</td><td>December</td></tr><tr><td>2001-01-12</td><td>2001</td><td>1</td><td>12</td><td>Friday</td><td>January</td></tr><tr><td>2001-02-16</td><td>2001</td><td>2</td><td>16</td><td>Friday</td><td>February</td></tr><tr><td>2001-04-06</td><td>2001</td><td>4</td><td>6</td><td>Friday</td><td>April</td></tr><tr><td>2001-05-25</td><td>2001</td><td>5</td><td>25</td><td>Friday</td><td>May</td></tr><tr><td>2001-06-08</td><td>2001</td><td>6</td><td>8</td><td>Friday</td><td>June</td></tr><tr><td>2001-06-29</td><td>2001</td><td>6</td><td>29</td><td>Friday</td><td>June</td></tr><tr><td>2001-08-03</td><td>2001</td><td>8</td><td>3</td><td>Friday</td><td>August</td></tr><tr><td>2001-08-24</td><td>2001</td><td>8</td><td>24</td><td>Friday</td><td>August</td></tr><tr><td>2001-10-05</td><td>2001</td><td>10</td><td>5</td><td>Friday</td><td>October</td></tr><tr><td>2001-10-12</td><td>2001</td><td>10</td><td>12</td><td>Friday</td><td>October</td></tr><tr><td>2001-10-26</td><td>2001</td><td>10</td><td>26</td><td>Friday</td><td>October</td></tr><tr><td>2001-11-02</td><td>2001</td><td>11</td><td>2</td><td>Friday</td><td>November</td></tr><tr><td>2001-11-21</td><td>2001</td><td>11</td><td>21</td><td>Wednesday</td><td>November</td></tr><tr><td>2001-12-14</td><td>2001</td><td>12</td><td>14</td><td>Friday</td><td>December</td></tr><tr><td>2002-01-01</td><td>2002</td><td>1</td><td>1</td><td>Tuesday</td><td>January</td></tr><tr><td>2002-01-01</td><td>2002</td><td>1</td><td>1</td><td>Tuesday</td><td>January</td></tr><tr><td>2002-01-18</td><td>2002</td><td>1</td><td>18</td><td>Friday</td><td>January</td></tr><tr><td>2002-01-25</td><td>2002</td><td>1</td><td>25</td><td>Friday</td><td>January</td></tr><tr><td>2002-02-15</td><td>2002</td><td>2</td><td>15</td><td>Friday</td><td>February</td></tr><tr><td>2002-02-19</td><td>2002</td><td>2</td><td>19</td><td>Tuesday</td><td>February</td></tr><tr><td>2002-03-22</td><td>2002</td><td>3</td><td>22</td><td>Friday</td><td>March</td></tr><tr><td>2002-03-29</td><td>2002</td><td>3</td><td>29</td><td>Friday</td><td>March</td></tr><tr><td>2002-04-05</td><td>2002</td><td>4</td><td>5</td><td>Friday</td><td>April</td></tr><tr><td>2002-05-10</td><td>2002</td><td>5</td><td>10</td><td>Friday</td><td>May</td></tr><tr><td>2002-06-07</td><td>2002</td><td>6</td><td>7</td><td>Friday</td><td>June</td></tr><tr><td>2002-06-21</td><td>2002</td><td>6</td><td>21</td><td>Friday</td><td>June</td></tr><tr><td>2002-07-26</td><td>2002</td><td>7</td><td>26</td><td>Friday</td><td>July</td></tr><tr><td>2002-08-02</td><td>2002</td><td>8</td><td>2</td><td>Friday</td><td>August</td></tr><tr><td>2002-09-20</td><td>2002</td><td>9</td><td>20</td><td>Friday</td><td>September</td></tr><tr><td>2002-09-27</td><td>2002</td><td>9</td><td>27</td><td>Friday</td><td>September</td></tr><tr><td>2002-09-27</td><td>2002</td><td>9</td><td>27</td><td>Friday</td><td>September</td></tr><tr><td>2002-10-11</td><td>2002</td><td>10</td><td>11</td><td>Friday</td><td>October</td></tr><tr><td>2002-11-01</td><td>2002</td><td>11</td><td>1</td><td>Friday</td><td>November</td></tr><tr><td>2002-11-27</td><td>2002</td><td>11</td><td>27</td><td>Wednesday</td><td>November</td></tr><tr><td>2002-12-13</td><td>2002</td><td>12</td><td>13</td><td>Friday</td><td>December</td></tr><tr><td>2002-12-19</td><td>2002</td><td>12</td><td>19</td><td>Thursday</td><td>December</td></tr><tr><td>2003-01-31</td><td>2003</td><td>1</td><td>31</td><td>Friday</td><td>January</td></tr><tr><td>2003-02-07</td><td>2003</td><td>2</td><td>7</td><td>Friday</td><td>February</td></tr><tr><td>2003-02-14</td><td>2003</td><td>2</td><td>14</td><td>Friday</td><td>February</td></tr><tr><td>2003-03-07</td><td>2003</td><td>3</td><td>7</td><td>Friday</td><td>March</td></tr><tr><td>2003-03-21</td><td>2003</td><td>3</td><td>21</td><td>Friday</td><td>March</td></tr><tr><td>2003-04-11</td><td>2003</td><td>4</td><td>11</td><td>Friday</td><td>April</td></tr><tr><td>2003-04-18</td><td>2003</td><td>4</td><td>18</td><td>Friday</td><td>April</td></tr><tr><td>2003-05-02</td><td>2003</td><td>5</td><td>2</td><td>Friday</td><td>May</td></tr><tr><td>2003-05-30</td><td>2003</td><td>5</td><td>30</td><td>Friday</td><td>May</td></tr><tr><td>2003-07-09</td><td>2003</td><td>7</td><td>9</td><td>Wednesday</td><td>July</td></tr><tr><td>2003-08-06</td><td>2003</td><td>8</td><td>6</td><td>Wednesday</td><td>August</td></tr><tr><td>2003-08-15</td><td>2003</td><td>8</td><td>15</td><td>Friday</td><td>August</td></tr><tr><td>2003-09-19</td><td>2003</td><td>9</td><td>19</td><td>Friday</td><td>September</td></tr><tr><td>2003-09-26</td><td>2003</td><td>9</td><td>26</td><td>Friday</td><td>September</td></tr><tr><td>2003-10-17</td><td>2003</td><td>10</td><td>17</td><td>Friday</td><td>October</td></tr><tr><td>2003-10-24</td><td>2003</td><td>10</td><td>24</td><td>Friday</td><td>October</td></tr><tr><td>2003-11-26</td><td>2003</td><td>11</td><td>26</td><td>Wednesday</td><td>November</td></tr><tr><td>2003-12-19</td><td>2003</td><td>12</td><td>19</td><td>Friday</td><td>December</td></tr><tr><td>2003-12-25</td><td>2003</td><td>12</td><td>25</td><td>Thursday</td><td>December</td></tr><tr><td>2004-01-16</td><td>2004</td><td>1</td><td>16</td><td>Friday</td><td>January</td></tr><tr><td>2004-02-06</td><td>2004</td><td>2</td><td>6</td><td>Friday</td><td>February</td></tr><tr><td>2004-02-20</td><td>2004</td><td>2</td><td>20</td><td>Friday</td><td>February</td></tr><tr><td>2004-03-05</td><td>2004</td><td>3</td><td>5</td><td>Friday</td><td>March</td></tr><tr><td>2004-03-26</td><td>2004</td><td>3</td><td>26</td><td>Friday</td><td>March</td></tr><tr><td>2004-04-02</td><td>2004</td><td>4</td><td>2</td><td>Friday</td><td>April</td></tr><tr><td>2004-04-09</td><td>2004</td><td>4</td><td>9</td><td>Friday</td><td>April</td></tr><tr><td>2004-05-28</td><td>2004</td><td>5</td><td>28</td><td>Friday</td><td>May</td></tr><tr><td>2004-06-16</td><td>2004</td><td>6</td><td>16</td><td>Wednesday</td><td>June</td></tr><tr><td>2004-07-02</td><td>2004</td><td>7</td><td>2</td><td>Friday</td><td>July</td></tr><tr><td>2004-07-07</td><td>2004</td><td>7</td><td>7</td><td>Wednesday</td><td>July</td></tr><tr><td>2004-07-30</td><td>2004</td><td>7</td><td>30</td><td>Friday</td><td>July</td></tr><tr><td>2004-08-11</td><td>2004</td><td>8</td><td>11</td><td>Wednesday</td><td>August</td></tr><tr><td>2004-09-17</td><td>2004</td><td>9</td><td>17</td><td>Friday</td><td>September</td></tr><tr><td>2004-09-24</td><td>2004</td><td>9</td><td>24</td><td>Friday</td><td>September</td></tr><tr><td>2004-10-01</td><td>2004</td><td>10</td><td>1</td><td>Friday</td><td>October</td></tr><tr><td>2004-11-05</td><td>2004</td><td>11</td><td>5</td><td>Friday</td><td>November</td></tr><tr><td>2004-11-19</td><td>2004</td><td>11</td><td>19</td><td>Friday</td><td>November</td></tr><tr><td>2004-12-10</td><td>2004</td><td>12</td><td>10</td><td>Friday</td><td>December</td></tr><tr><td>2005-01-28</td><td>2005</td><td>1</td><td>28</td><td>Friday</td><td>January</td></tr><tr><td>2005-02-11</td><td>2005</td><td>2</td><td>11</td><td>Friday</td><td>February</td></tr><tr><td>2005-03-04</td><td>2005</td><td>3</td><td>4</td><td>Friday</td><td>March</td></tr><tr><td>2005-03-18</td><td>2005</td><td>3</td><td>18</td><td>Friday</td><td>March</td></tr><tr><td>2005-04-22</td><td>2005</td><td>4</td><td>22</td><td>Friday</td><td>April</td></tr><tr><td>2005-04-29</td><td>2005</td><td>4</td><td>29</td><td>Friday</td><td>April</td></tr><tr><td>2005-06-10</td><td>2005</td><td>6</td><td>10</td><td>Friday</td><td>June</td></tr><tr><td>2005-06-22</td><td>2005</td><td>6</td><td>22</td><td>Wednesday</td><td>June</td></tr><tr><td>2005-07-08</td><td>2005</td><td>7</td><td>8</td><td>Friday</td><td>July</td></tr><tr><td>2005-07-29</td><td>2005</td><td>7</td><td>29</td><td>Friday</td><td>July</td></tr><tr><td>2005-08-19</td><td>2005</td><td>8</td><td>19</td><td>Friday</td><td>August</td></tr><tr><td>2005-09-23</td><td>2005</td><td>9</td><td>23</td><td>Friday</td><td>September</td></tr><tr><td>2005-09-30</td><td>2005</td><td>9</td><td>30</td><td>Friday</td><td>September</td></tr><tr><td>2005-10-21</td><td>2005</td><td>10</td><td>21</td><td>Friday</td><td>October</td></tr><tr><td>2005-11-04</td><td>2005</td><td>11</td><td>4</td><td>Friday</td><td>November</td></tr><tr><td>2005-12-09</td><td>2005</td><td>12</td><td>9</td><td>Friday</td><td>December</td></tr><tr><td>2005-12-25</td><td>2005</td><td>12</td><td>25</td><td>Sunday</td><td>December</td></tr><tr><td>2006-01-13</td><td>2006</td><td>1</td><td>13</td><td>Friday</td><td>January</td></tr><tr><td>2006-01-27</td><td>2006</td><td>1</td><td>27</td><td>Friday</td><td>January</td></tr><tr><td>2006-01-27</td><td>2006</td><td>1</td><td>27</td><td>Friday</td><td>January</td></tr><tr><td>2006-02-17</td><td>2006</td><td>2</td><td>17</td><td>Friday</td><td>February</td></tr><tr><td>2006-03-10</td><td>2006</td><td>3</td><td>10</td><td>Friday</td><td>March</td></tr><tr><td>2006-03-24</td><td>2006</td><td>3</td><td>24</td><td>Friday</td><td>March</td></tr><tr><td>2006-04-14</td><td>2006</td><td>4</td><td>14</td><td>Friday</td><td>April</td></tr><tr><td>2006-04-28</td><td>2006</td><td>4</td><td>28</td><td>Friday</td><td>April</td></tr><tr><td>2006-05-12</td><td>2006</td><td>5</td><td>12</td><td>Friday</td><td>May</td></tr><tr><td>2006-06-09</td><td>2006</td><td>6</td><td>9</td><td>Friday</td><td>June</td></tr><tr><td>2006-07-07</td><td>2006</td><td>7</td><td>7</td><td>Friday</td><td>July</td></tr><tr><td>2006-08-11</td><td>2006</td><td>8</td><td>11</td><td>Friday</td><td>August</td></tr><tr><td>2006-08-25</td><td>2006</td><td>8</td><td>25</td><td>Friday</td><td>August</td></tr><tr><td>2006-09-29</td><td>2006</td><td>9</td><td>29</td><td>Friday</td><td>September</td></tr><tr><td>2006-10-20</td><td>2006</td><td>10</td><td>20</td><td>Friday</td><td>October</td></tr><tr><td>2006-10-20</td><td>2006</td><td>10</td><td>20</td><td>Friday</td><td>October</td></tr><tr><td>2006-11-03</td><td>2006</td><td>11</td><td>3</td><td>Friday</td><td>November</td></tr><tr><td>2006-11-22</td><td>2006</td><td>11</td><td>22</td><td>Wednesday</td><td>November</td></tr><tr><td>2006-12-08</td><td>2006</td><td>12</td><td>8</td><td>Friday</td><td>December</td></tr><tr><td>2007-01-12</td><td>2007</td><td>1</td><td>12</td><td>Friday</td><td>January</td></tr><tr><td>2007-02-16</td><td>2007</td><td>2</td><td>16</td><td>Friday</td><td>February</td></tr><tr><td>2007-03-02</td><td>2007</td><td>3</td><td>2</td><td>Friday</td><td>March</td></tr><tr><td>2007-03-30</td><td>2007</td><td>3</td><td>30</td><td>Friday</td><td>March</td></tr><tr><td>2007-03-30</td><td>2007</td><td>3</td><td>30</td><td>Friday</td><td>March</td></tr><tr><td>2007-04-06</td><td>2007</td><td>4</td><td>6</td><td>Friday</td><td>April</td></tr><tr><td>2007-04-27</td><td>2007</td><td>4</td><td>27</td><td>Friday</td><td>April</td></tr><tr><td>2007-05-24</td><td>2007</td><td>5</td><td>24</td><td>Thursday</td><td>May</td></tr><tr><td>2007-06-29</td><td>2007</td><td>6</td><td>29</td><td>Friday</td><td>June</td></tr><tr><td>2007-08-03</td><td>2007</td><td>8</td><td>3</td><td>Friday</td><td>August</td></tr><tr><td>2007-09-22</td><td>2007</td><td>9</td><td>22</td><td>Saturday</td><td>September</td></tr><tr><td>2007-10-20</td><td>2007</td><td>10</td><td>20</td><td>Saturday</td><td>October</td></tr><tr><td>2007-11-21</td><td>2007</td><td>11</td><td>21</td><td>Wednesday</td><td>November</td></tr><tr><td>2007-12-21</td><td>2007</td><td>12</td><td>21</td><td>Friday</td><td>December</td></tr><tr><td>2008-02-01</td><td>2008</td><td>2</td><td>1</td><td>Friday</td><td>February</td></tr><tr><td>2008-02-14</td><td>2008</td><td>2</td><td>14</td><td>Thursday</td><td>February</td></tr><tr><td>2008-03-07</td><td>2008</td><td>3</td><td>7</td><td>Friday</td><td>March</td></tr><tr><td>2008-05-16</td><td>2008</td><td>5</td><td>16</td><td>Friday</td><td>May</td></tr><tr><td>2008-06-27</td><td>2008</td><td>6</td><td>27</td><td>Friday</td><td>June</td></tr><tr><td>2008-08-01</td><td>2008</td><td>8</td><td>1</td><td>Friday</td><td>August</td></tr><tr><td>2008-08-29</td><td>2008</td><td>8</td><td>29</td><td>Friday</td><td>August</td></tr><tr><td>2008-09-26</td><td>2008</td><td>9</td><td>26</td><td>Friday</td><td>September</td></tr><tr><td>2008-10-03</td><td>2008</td><td>10</td><td>3</td><td>Friday</td><td>October</td></tr><tr><td>2008-10-17</td><td>2008</td><td>10</td><td>17</td><td>Friday</td><td>October</td></tr><tr><td>2008-10-24</td><td>2008</td><td>10</td><td>24</td><td>Friday</td><td>October</td></tr><tr><td>2008-11-21</td><td>2008</td><td>11</td><td>21</td><td>Friday</td><td>November</td></tr><tr><td>2008-12-25</td><td>2008</td><td>12</td><td>25</td><td>Thursday</td><td>December</td></tr><tr><td>2009-02-13</td><td>2009</td><td>2</td><td>13</td><td>Friday</td><td>February</td></tr><tr><td>2009-02-27</td><td>2009</td><td>2</td><td>27</td><td>Friday</td><td>February</td></tr><tr><td>2009-03-13</td><td>2009</td><td>3</td><td>13</td><td>Friday</td><td>March</td></tr><tr><td>2009-04-10</td><td>2009</td><td>4</td><td>10</td><td>Friday</td><td>April</td></tr><tr><td>2009-04-22</td><td>2009</td><td>4</td><td>22</td><td>Wednesday</td><td>April</td></tr><tr><td>2009-05-29</td><td>2009</td><td>5</td><td>29</td><td>Friday</td><td>May</td></tr><tr><td>2009-06-19</td><td>2009</td><td>6</td><td>19</td><td>Friday</td><td>June</td></tr><tr><td>2009-07-24</td><td>2009</td><td>7</td><td>24</td><td>Friday</td><td>July</td></tr><tr><td>2009-08-14</td><td>2009</td><td>8</td><td>14</td><td>Friday</td><td>August</td></tr><tr><td>2009-08-21</td><td>2009</td><td>8</td><td>21</td><td>Friday</td><td>August</td></tr><tr><td>2009-09-10</td><td>2009</td><td>9</td><td>10</td><td>Thursday</td><td>September</td></tr><tr><td>2009-09-25</td><td>2009</td><td>9</td><td>25</td><td>Friday</td><td>September</td></tr><tr><td>2009-10-02</td><td>2009</td><td>10</td><td>2</td><td>Friday</td><td>October</td></tr><tr><td>2009-11-06</td><td>2009</td><td>11</td><td>6</td><td>Friday</td><td>November</td></tr><tr><td>2009-11-25</td><td>2009</td><td>11</td><td>25</td><td>Wednesday</td><td>November</td></tr><tr><td>2009-11-25</td><td>2009</td><td>11</td><td>25</td><td>Wednesday</td><td>November</td></tr><tr><td>2010-01-29</td><td>2010</td><td>1</td><td>29</td><td>Friday</td><td>January</td></tr><tr><td>2010-03-05</td><td>2010</td><td>3</td><td>5</td><td>Friday</td><td>March</td></tr><tr><td>2010-03-26</td><td>2010</td><td>3</td><td>26</td><td>Friday</td><td>March</td></tr><tr><td>2010-03-31</td><td>2010</td><td>3</td><td>31</td><td>Wednesday</td><td>March</td></tr><tr><td>2010-04-22</td><td>2010</td><td>4</td><td>22</td><td>Thursday</td><td>April</td></tr><tr><td>2010-05-28</td><td>2010</td><td>5</td><td>28</td><td>Friday</td><td>May</td></tr><tr><td>2010-06-18</td><td>2010</td><td>6</td><td>18</td><td>Friday</td><td>June</td></tr><tr><td>2010-07-14</td><td>2010</td><td>7</td><td>14</td><td>Wednesday</td><td>July</td></tr><tr><td>2010-08-06</td><td>2010</td><td>8</td><td>6</td><td>Friday</td><td>August</td></tr><tr><td>2010-08-13</td><td>2010</td><td>8</td><td>13</td><td>Friday</td><td>August</td></tr><tr><td>2010-09-24</td><td>2010</td><td>9</td><td>24</td><td>Friday</td><td>September</td></tr><tr><td>2010-10-08</td><td>2010</td><td>10</td><td>8</td><td>Friday</td><td>October</td></tr><tr><td>2010-11-24</td><td>2010</td><td>11</td><td>24</td><td>Wednesday</td><td>November</td></tr><tr><td>2010-12-17</td><td>2010</td><td>12</td><td>17</td><td>Friday</td><td>December</td></tr><tr><td>2011-02-11</td><td>2011</td><td>2</td><td>11</td><td>Friday</td><td>February</td></tr><tr><td>2011-02-18</td><td>2011</td><td>2</td><td>18</td><td>Friday</td><td>February</td></tr><tr><td>2011-03-11</td><td>2011</td><td>3</td><td>11</td><td>Friday</td><td>March</td></tr><tr><td>2011-04-22</td><td>2011</td><td>4</td><td>22</td><td>Friday</td><td>April</td></tr><tr><td>2011-04-22</td><td>2011</td><td>4</td><td>22</td><td>Friday</td><td>April</td></tr><tr><td>2011-04-29</td><td>2011</td><td>4</td><td>29</td><td>Friday</td><td>April</td></tr><tr><td>2011-05-20</td><td>2011</td><td>5</td><td>20</td><td>Friday</td><td>May</td></tr><tr><td>2011-06-24</td><td>2011</td><td>6</td><td>24</td><td>Friday</td><td>June</td></tr><tr><td>2011-07-15</td><td>2011</td><td>7</td><td>15</td><td>Friday</td><td>July</td></tr><tr><td>2011-08-10</td><td>2011</td><td>8</td><td>10</td><td>Wednesday</td><td>August</td></tr><tr><td>2011-08-19</td><td>2011</td><td>8</td><td>19</td><td>Friday</td><td>August</td></tr><tr><td>2011-10-07</td><td>2011</td><td>10</td><td>7</td><td>Friday</td><td>October</td></tr><tr><td>2011-11-23</td><td>2011</td><td>11</td><td>23</td><td>Wednesday</td><td>November</td></tr><tr><td>2011-12-25</td><td>2011</td><td>12</td><td>25</td><td>Sunday</td><td>December</td></tr><tr><td>2012-02-17</td><td>2012</td><td>2</td><td>17</td><td>Friday</td><td>February</td></tr><tr><td>2012-03-09</td><td>2012</td><td>3</td><td>9</td><td>Friday</td><td>March</td></tr><tr><td>2012-04-20</td><td>2012</td><td>4</td><td>20</td><td>Friday</td><td>April</td></tr><tr><td>2012-05-04</td><td>2012</td><td>5</td><td>4</td><td>Friday</td><td>May</td></tr><tr><td>2012-06-22</td><td>2012</td><td>6</td><td>22</td><td>Friday</td><td>June</td></tr><tr><td>2012-06-29</td><td>2012</td><td>6</td><td>29</td><td>Friday</td><td>June</td></tr><tr><td>2012-08-15</td><td>2012</td><td>8</td><td>15</td><td>Wednesday</td><td>August</td></tr><tr><td>2012-10-05</td><td>2012</td><td>10</td><td>5</td><td>Friday</td><td>October</td></tr><tr><td>2012-11-02</td><td>2012</td><td>11</td><td>2</td><td>Friday</td><td>November</td></tr><tr><td>2012-11-09</td><td>2012</td><td>11</td><td>9</td><td>Friday</td><td>November</td></tr><tr><td>2013-03-08</td><td>2013</td><td>3</td><td>8</td><td>Friday</td><td>March</td></tr><tr><td>2013-05-03</td><td>2013</td><td>5</td><td>3</td><td>Friday</td><td>May</td></tr><tr><td>2013-06-21</td><td>2013</td><td>6</td><td>21</td><td>Friday</td><td>June</td></tr><tr><td>2013-07-02</td><td>2013</td><td>7</td><td>2</td><td>Tuesday</td><td>July</td></tr><tr><td>2013-08-09</td><td>2013</td><td>8</td><td>9</td><td>Friday</td><td>August</td></tr><tr><td>2013-10-18</td><td>2013</td><td>10</td><td>18</td><td>Friday</td><td>October</td></tr><tr><td>2013-11-08</td><td>2013</td><td>11</td><td>8</td><td>Friday</td><td>November</td></tr><tr><td>2013-11-08</td><td>2013</td><td>11</td><td>8</td><td>Friday</td><td>November</td></tr><tr><td>2013-11-22</td><td>2013</td><td>11</td><td>22</td><td>Friday</td><td>November</td></tr><tr><td>2013-11-22</td><td>2013</td><td>11</td><td>22</td><td>Friday</td><td>November</td></tr><tr><td>2013-12-13</td><td>2013</td><td>12</td><td>13</td><td>Friday</td><td>December</td></tr><tr><td>2014-03-14</td><td>2014</td><td>3</td><td>14</td><td>Friday</td><td>March</td></tr><tr><td>2014-03-21</td><td>2014</td><td>3</td><td>21</td><td>Friday</td><td>March</td></tr><tr><td>2014-04-04</td><td>2014</td><td>4</td><td>4</td><td>Friday</td><td>April</td></tr><tr><td>2014-04-18</td><td>2014</td><td>4</td><td>18</td><td>Friday</td><td>April</td></tr><tr><td>2014-05-10</td><td>2014</td><td>5</td><td>10</td><td>Saturday</td><td>May</td></tr><tr><td>2014-05-30</td><td>2014</td><td>5</td><td>30</td><td>Friday</td><td>May</td></tr><tr><td>2014-07-18</td><td>2014</td><td>7</td><td>18</td><td>Friday</td><td>July</td></tr><tr><td>2014-08-01</td><td>2014</td><td>8</td><td>1</td><td>Friday</td><td>August</td></tr><tr><td>2014-08-08</td><td>2014</td><td>8</td><td>8</td><td>Friday</td><td>August</td></tr><tr><td>2014-10-10</td><td>2014</td><td>10</td><td>10</td><td>Friday</td><td>October</td></tr><tr><td>2014-11-07</td><td>2014</td><td>11</td><td>7</td><td>Friday</td><td>November</td></tr><tr><td>2014-12-25</td><td>2014</td><td>12</td><td>25</td><td>Thursday</td><td>December</td></tr><tr><td>2015-01-23</td><td>2015</td><td>1</td><td>23</td><td>Friday</td><td>January</td></tr><tr><td>2015-02-20</td><td>2015</td><td>2</td><td>20</td><td>Friday</td><td>February</td></tr><tr><td>2015-03-13</td><td>2015</td><td>3</td><td>13</td><td>Friday</td><td>March</td></tr><tr><td>2015-04-17</td><td>2015</td><td>4</td><td>17</td><td>Friday</td><td>April</td></tr><tr><td>2015-05-01</td><td>2015</td><td>5</td><td>1</td><td>Friday</td><td>May</td></tr><tr><td>2015-05-22</td><td>2015</td><td>5</td><td>22</td><td>Friday</td><td>May</td></tr><tr><td>2015-06-19</td><td>2015</td><td>6</td><td>19</td><td>Friday</td><td>June</td></tr><tr><td>2015-07-17</td><td>2015</td><td>7</td><td>17</td><td>Friday</td><td>July</td></tr><tr><td>2015-10-16</td><td>2015</td><td>10</td><td>16</td><td>Friday</td><td>October</td></tr><tr><td>2015-11-25</td><td>2015</td><td>11</td><td>25</td><td>Wednesday</td><td>November</td></tr><tr><td>2015-12-18</td><td>2015</td><td>12</td><td>18</td><td>Friday</td><td>December</td></tr><tr><td>2016-01-29</td><td>2016</td><td>1</td><td>29</td><td>Friday</td><td>January</td></tr><tr><td>2016-03-04</td><td>2016</td><td>3</td><td>4</td><td>Friday</td><td>March</td></tr><tr><td>2016-04-15</td><td>2016</td><td>4</td><td>15</td><td>Friday</td><td>April</td></tr><tr><td>2016-04-29</td><td>2016</td><td>4</td><td>29</td><td>Friday</td><td>April</td></tr><tr><td>2016-05-06</td><td>2016</td><td>5</td><td>6</td><td>Friday</td><td>May</td></tr><tr><td>2016-05-27</td><td>2016</td><td>5</td><td>27</td><td>Friday</td><td>May</td></tr><tr><td>2016-06-17</td><td>2016</td><td>6</td><td>17</td><td>Friday</td><td>June</td></tr><tr><td>2016-07-01</td><td>2016</td><td>7</td><td>1</td><td>Friday</td><td>July</td></tr><tr><td>2016-08-12</td><td>2016</td><td>8</td><td>12</td><td>Friday</td><td>August</td></tr><tr><td>2016-09-02</td><td>2016</td><td>9</td><td>2</td><td>Friday</td><td>September</td></tr><tr><td>2016-09-23</td><td>2016</td><td>9</td><td>23</td><td>Friday</td><td>September</td></tr><tr><td>2016-11-04</td><td>2016</td><td>11</td><td>4</td><td>Friday</td><td>November</td></tr><tr><td>2016-11-23</td><td>2016</td><td>11</td><td>23</td><td>Wednesday</td><td>November</td></tr><tr><td>2016-12-16</td><td>2016</td><td>12</td><td>16</td><td>Friday</td><td>December</td></tr></table>"
                    },
                    "metadata": {}
                }
            ],
            "execution_count": 50
        },
        {
            "cell_type": "code",
            "source": [
                "select top 10 release_date,\r\n",
                "format(release_date,'d','th') as th,\r\n",
                "format(release_date,'dd','th') as ddth,\r\n",
                "format(release_date,'ddd','th') as dddth,\r\n",
                "format(release_date,'dddd','th') as dddth\r\n",
                "from movie_gross"
            ],
            "metadata": {
                "azdata_cell_guid": "d8abe0a0-ba5a-4028-b7dd-4763586ec710",
                "language": "sql"
            },
            "outputs": [
                {
                    "output_type": "display_data",
                    "data": {
                        "text/html": "(10 rows affected)"
                    },
                    "metadata": {}
                },
                {
                    "output_type": "display_data",
                    "data": {
                        "text/html": "Total execution time: 00:00:00.007"
                    },
                    "metadata": {}
                },
                {
                    "output_type": "execute_result",
                    "execution_count": 59,
                    "data": {
                        "application/vnd.dataresource+json": {
                            "schema": {
                                "fields": [
                                    {
                                        "name": "release_date"
                                    },
                                    {
                                        "name": "th"
                                    },
                                    {
                                        "name": "ddth"
                                    },
                                    {
                                        "name": "dddth"
                                    },
                                    {
                                        "name": "dddth"
                                    }
                                ]
                            },
                            "data": [
                                {
                                    "release_date": "1937-12-21",
                                    "th": "21/12/2480",
                                    "ddth": "21",
                                    "dddth": "อังคาร"
                                },
                                {
                                    "release_date": "1940-02-09",
                                    "th": "9/2/2483",
                                    "ddth": "09",
                                    "dddth": "ศุกร์"
                                },
                                {
                                    "release_date": "1940-11-13",
                                    "th": "13/11/2483",
                                    "ddth": "13",
                                    "dddth": "พุธ"
                                },
                                {
                                    "release_date": "1946-11-12",
                                    "th": "12/11/2489",
                                    "ddth": "12",
                                    "dddth": "อังคาร"
                                },
                                {
                                    "release_date": "1950-02-15",
                                    "th": "15/2/2493",
                                    "ddth": "15",
                                    "dddth": "พุธ"
                                },
                                {
                                    "release_date": "1954-12-23",
                                    "th": "23/12/2497",
                                    "ddth": "23",
                                    "dddth": "พฤหัสบดี"
                                },
                                {
                                    "release_date": "1955-06-22",
                                    "th": "22/6/2498",
                                    "ddth": "22",
                                    "dddth": "พุธ"
                                },
                                {
                                    "release_date": "1959-01-29",
                                    "th": "29/1/2502",
                                    "ddth": "29",
                                    "dddth": "พฤหัสบดี"
                                },
                                {
                                    "release_date": "1961-01-25",
                                    "th": "25/1/2504",
                                    "ddth": "25",
                                    "dddth": "พุธ"
                                },
                                {
                                    "release_date": "1961-03-16",
                                    "th": "16/3/2504",
                                    "ddth": "16",
                                    "dddth": "พฤหัสบดี"
                                }
                            ]
                        },
                        "text/html": "<table><tr><th>release_date</th><th>th</th><th>ddth</th><th>dddth</th><th>dddth</th></tr><tr><td>1937-12-21</td><td>21/12/2480</td><td>21</td><td>อ.</td><td>อังคาร</td></tr><tr><td>1940-02-09</td><td>9/2/2483</td><td>09</td><td>ศ.</td><td>ศุกร์</td></tr><tr><td>1940-11-13</td><td>13/11/2483</td><td>13</td><td>พ.</td><td>พุธ</td></tr><tr><td>1946-11-12</td><td>12/11/2489</td><td>12</td><td>อ.</td><td>อังคาร</td></tr><tr><td>1950-02-15</td><td>15/2/2493</td><td>15</td><td>พ.</td><td>พุธ</td></tr><tr><td>1954-12-23</td><td>23/12/2497</td><td>23</td><td>พฤ.</td><td>พฤหัสบดี</td></tr><tr><td>1955-06-22</td><td>22/6/2498</td><td>22</td><td>พ.</td><td>พุธ</td></tr><tr><td>1959-01-29</td><td>29/1/2502</td><td>29</td><td>พฤ.</td><td>พฤหัสบดี</td></tr><tr><td>1961-01-25</td><td>25/1/2504</td><td>25</td><td>พ.</td><td>พุธ</td></tr><tr><td>1961-03-16</td><td>16/3/2504</td><td>16</td><td>พฤ.</td><td>พฤหัสบดี</td></tr></table>"
                    },
                    "metadata": {}
                }
            ],
            "execution_count": 59
        },
        {
            "cell_type": "code",
            "source": [
                "select getdate()"
            ],
            "metadata": {
                "azdata_cell_guid": "ff1443c7-3ea3-4a2e-a880-f1c21b09fb57",
                "language": "sql"
            },
            "outputs": [
                {
                    "output_type": "display_data",
                    "data": {
                        "text/html": "(1 row affected)"
                    },
                    "metadata": {}
                },
                {
                    "output_type": "display_data",
                    "data": {
                        "text/html": "Total execution time: 00:00:00.059"
                    },
                    "metadata": {}
                },
                {
                    "output_type": "execute_result",
                    "execution_count": 1,
                    "data": {
                        "application/vnd.dataresource+json": {
                            "schema": {
                                "fields": [
                                    {
                                        "name": "(No column name)"
                                    }
                                ]
                            },
                            "data": [
                                {
                                    "(No column name)": "2023-09-26 18:20:55.507"
                                }
                            ]
                        },
                        "text/html": "<table><tr><th>(No column name)</th></tr><tr><td>2023-09-26 18:20:55.507</td></tr></table>"
                    },
                    "metadata": {}
                }
            ],
            "execution_count": 1
        },
        {
            "cell_type": "code",
            "source": [
                "select DATEDIFF(day,'2000-02-03',getdate())day,\r\n",
                " DATEDIFF(month,'2000-02-03',getdate())month,\r\n",
                " DATEDIFF(year,'2000-02-03',getdate())y"
            ],
            "metadata": {
                "language": "sql",
                "azdata_cell_guid": "d3ec937d-46dc-4956-b725-c859436ee9c5",
                "tags": [
                    "hide_input"
                ]
            },
            "outputs": [
                {
                    "output_type": "display_data",
                    "data": {
                        "text/html": "(1 row affected)"
                    },
                    "metadata": {}
                },
                {
                    "output_type": "display_data",
                    "data": {
                        "text/html": "Total execution time: 00:00:00.002"
                    },
                    "metadata": {}
                },
                {
                    "output_type": "execute_result",
                    "execution_count": 6,
                    "data": {
                        "application/vnd.dataresource+json": {
                            "schema": {
                                "fields": [
                                    {
                                        "name": "day"
                                    },
                                    {
                                        "name": "month"
                                    },
                                    {
                                        "name": "y"
                                    }
                                ]
                            },
                            "data": [
                                {
                                    "day": "8636",
                                    "month": "283",
                                    "y": "23"
                                }
                            ]
                        },
                        "text/html": "<table><tr><th>day</th><th>month</th><th>y</th></tr><tr><td>8636</td><td>283</td><td>23</td></tr></table>"
                    },
                    "metadata": {}
                }
            ],
            "execution_count": 6
        },
        {
            "cell_type": "code",
            "source": [
                "SELECT cast('2023-09-16 8:30' as datetime) in_time , cast ('2023-09-16 19:00' as datetime) out_time,\r\n",
                "datediff(minute, cast('2023-09-16 8:30' as datetime),cast ('2023-09-16 19:00' as datetime))minute ,\r\n",
                "datediff(minute, cast('2023-09-16 8:30' as datetime),cast ('2023-09-16 19:00' as datetime))/60 hh,\r\n",
                "datediff(minute, cast('2023-09-16 8:30' as datetime),cast ('2023-09-16 19:00' as datetime))%60 mm,\r\n",
                "\r\n",
                "\r\n",
                "\r\n",
                ""
            ],
            "metadata": {
                "azdata_cell_guid": "10cba478-118a-41a3-b7a4-aea434a02a7f",
                "language": "sql",
                "tags": []
            },
            "outputs": [
                {
                    "output_type": "display_data",
                    "data": {
                        "text/html": "(1 row affected)"
                    },
                    "metadata": {}
                },
                {
                    "output_type": "display_data",
                    "data": {
                        "text/html": "Total execution time: 00:00:00.011"
                    },
                    "metadata": {}
                },
                {
                    "output_type": "execute_result",
                    "execution_count": 13,
                    "data": {
                        "application/vnd.dataresource+json": {
                            "schema": {
                                "fields": [
                                    {
                                        "name": "in_time"
                                    },
                                    {
                                        "name": "out_time"
                                    },
                                    {
                                        "name": "minute"
                                    },
                                    {
                                        "name": "(No column name)"
                                    },
                                    {
                                        "name": "(No column name)"
                                    },
                                    {
                                        "name": "(No column name)"
                                    }
                                ]
                            },
                            "data": [
                                {
                                    "in_time": "2023-09-16 08:30:00.000",
                                    "out_time": "2023-09-16 19:00:00.000",
                                    "minute": "630",
                                    "(No column name)": "11"
                                }
                            ]
                        },
                        "text/html": "<table><tr><th>in_time</th><th>out_time</th><th>minute</th><th>(No column name)</th><th>(No column name)</th><th>(No column name)</th></tr><tr><td>2023-09-16 08:30:00.000</td><td>2023-09-16 19:00:00.000</td><td>630</td><td>10</td><td>30</td><td>11</td></tr></table>"
                    },
                    "metadata": {}
                }
            ],
            "execution_count": 13
        }
    ]
}