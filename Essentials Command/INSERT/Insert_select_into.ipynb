{
    "metadata": {
        "kernelspec": {
            "name": "SQL",
            "display_name": "SQL",
            "language": "sql"
        },
        "language_info": {
            "name": "sql",
            "version": ""
        }
    },
    "nbformat_minor": 2,
    "nbformat": 4,
    "cells": [
        {
            "cell_type": "markdown",
            "source": [
                "# INSERT INTO เพิมค่าในตาราง"
            ],
            "metadata": {
                "azdata_cell_guid": "8a46cce6-1168-4156-a9c8-154ef433d56f"
            },
            "attachments": {}
        },
        {
            "cell_type": "code",
            "source": [
                "select top 5 * \r\n",
                "into movie  -- create table\r\n",
                "from movie_gross\r\n",
                ""
            ],
            "metadata": {
                "azdata_cell_guid": "b32d444a-bc4e-47b9-ab9c-b830e5fd7694",
                "language": "sql"
            },
            "outputs": [
                {
                    "output_type": "display_data",
                    "data": {
                        "text/html": "(5 rows affected)"
                    },
                    "metadata": {}
                },
                {
                    "output_type": "display_data",
                    "data": {
                        "text/html": "Total execution time: 00:00:00.016"
                    },
                    "metadata": {}
                }
            ],
            "execution_count": 2
        },
        {
            "cell_type": "code",
            "source": [
                "SELECT * from movie"
            ],
            "metadata": {
                "language": "sql",
                "azdata_cell_guid": "4e5b20c9-d05e-46f6-a6c2-3f33dd13abde"
            },
            "outputs": [
                {
                    "output_type": "display_data",
                    "data": {
                        "text/html": "(7 rows affected)"
                    },
                    "metadata": {}
                },
                {
                    "output_type": "display_data",
                    "data": {
                        "text/html": "Total execution time: 00:00:00.008"
                    },
                    "metadata": {}
                },
                {
                    "output_type": "execute_result",
                    "execution_count": 8,
                    "data": {
                        "application/vnd.dataresource+json": {
                            "schema": {
                                "fields": [
                                    {
                                        "name": "movie_title"
                                    },
                                    {
                                        "name": "release_date"
                                    },
                                    {
                                        "name": "genre"
                                    },
                                    {
                                        "name": "mpaa_rating"
                                    },
                                    {
                                        "name": "total_gross"
                                    },
                                    {
                                        "name": "inflation_adjusted_gross"
                                    }
                                ]
                            },
                            "data": [
                                {
                                    "movie_title": "Snow White and the Seven Dwarfs",
                                    "release_date": "1937-12-21",
                                    "genre": "Musical",
                                    "mpaa_rating": "G",
                                    "total_gross": "184925485",
                                    "inflation_adjusted_gross": "5228953251"
                                },
                                {
                                    "movie_title": "Pinocchio",
                                    "release_date": "1940-02-09",
                                    "genre": "Adventure",
                                    "mpaa_rating": "G",
                                    "total_gross": "84300000",
                                    "inflation_adjusted_gross": "2188229052"
                                },
                                {
                                    "movie_title": "Fantasia",
                                    "release_date": "1940-11-13",
                                    "genre": "Musical",
                                    "mpaa_rating": "G",
                                    "total_gross": "83320000",
                                    "inflation_adjusted_gross": "2187090808"
                                },
                                {
                                    "movie_title": "Song of the South",
                                    "release_date": "1946-11-12",
                                    "genre": "Adventure",
                                    "mpaa_rating": "G",
                                    "total_gross": "65000000",
                                    "inflation_adjusted_gross": "1078510579"
                                },
                                {
                                    "movie_title": "Cinderella",
                                    "release_date": "1950-02-15",
                                    "genre": "Drama",
                                    "mpaa_rating": "G",
                                    "total_gross": "85000000",
                                    "inflation_adjusted_gross": "920608730"
                                },
                                {
                                    "movie_title": "demo",
                                    "release_date": "2023-10-04",
                                    "genre": "Drame",
                                    "mpaa_rating": "G",
                                    "total_gross": "NULL",
                                    "inflation_adjusted_gross": "NULL"
                                },
                                {
                                    "movie_title": "frozen2",
                                    "release_date": "NULL",
                                    "genre": "Adventure",
                                    "mpaa_rating": "NULL",
                                    "total_gross": "NULL",
                                    "inflation_adjusted_gross": "NULL"
                                }
                            ]
                        },
                        "text/html": "<table><tr><th>movie_title</th><th>release_date</th><th>genre</th><th>mpaa_rating</th><th>total_gross</th><th>inflation_adjusted_gross</th></tr><tr><td>Snow White and the Seven Dwarfs</td><td>1937-12-21</td><td>Musical</td><td>G</td><td>184925485</td><td>5228953251</td></tr><tr><td>Pinocchio</td><td>1940-02-09</td><td>Adventure</td><td>G</td><td>84300000</td><td>2188229052</td></tr><tr><td>Fantasia</td><td>1940-11-13</td><td>Musical</td><td>G</td><td>83320000</td><td>2187090808</td></tr><tr><td>Song of the South</td><td>1946-11-12</td><td>Adventure</td><td>G</td><td>65000000</td><td>1078510579</td></tr><tr><td>Cinderella</td><td>1950-02-15</td><td>Drama</td><td>G</td><td>85000000</td><td>920608730</td></tr><tr><td>demo</td><td>2023-10-04</td><td>Drame</td><td>G</td><td>NULL</td><td>NULL</td></tr><tr><td>frozen2</td><td>NULL</td><td>Adventure</td><td>NULL</td><td>NULL</td><td>NULL</td></tr></table>"
                    },
                    "metadata": {}
                }
            ],
            "execution_count": 8
        },
        {
            "cell_type": "markdown",
            "source": [
                "# **insert into** Table\\_name **values (**'value1' ,'value2' ...''**)**"
            ],
            "metadata": {
                "azdata_cell_guid": "9f829d1e-ff50-4491-8267-5d80ea963402"
            },
            "attachments": {}
        },
        {
            "cell_type": "code",
            "source": [
                "insert into movie values ('demo','2023-10-4','Drame','G',NULL,NULL)"
            ],
            "metadata": {
                "language": "sql",
                "azdata_cell_guid": "3dc7bbb2-3d5e-42af-8940-88d203c50c47"
            },
            "outputs": [
                {
                    "output_type": "display_data",
                    "data": {
                        "text/html": "(1 row affected)"
                    },
                    "metadata": {}
                },
                {
                    "output_type": "display_data",
                    "data": {
                        "text/html": "Total execution time: 00:00:00.002"
                    },
                    "metadata": {}
                }
            ],
            "execution_count": 5
        },
        {
            "cell_type": "markdown",
            "source": [
                "INSERT just values we want \n",
                "\n",
                "## **INSERT INTO** Tablename('Columname1',' Columname2', .. , ' ' ) values ( 'Vcolumn1' ,'Vcolumn2', ', .. , ' ' )"
            ],
            "metadata": {
                "language": "sql",
                "azdata_cell_guid": "5c28ba61-a91f-4378-845f-786ad1513dc5"
            },
            "attachments": {}
        },
        {
            "cell_type": "code",
            "source": [
                "insert into movie(movie_title,genre) values ('frozen2','Adventure')"
            ],
            "metadata": {
                "language": "sql",
                "azdata_cell_guid": "256edeaf-7ee9-4a71-8921-f02199e62cac"
            },
            "outputs": [
                {
                    "output_type": "display_data",
                    "data": {
                        "text/html": "(1 row affected)"
                    },
                    "metadata": {}
                },
                {
                    "output_type": "display_data",
                    "data": {
                        "text/html": "Total execution time: 00:00:00.010"
                    },
                    "metadata": {}
                }
            ],
            "execution_count": 7
        },
        {
            "cell_type": "markdown",
            "source": [
                "# INSERT 2 tables"
            ],
            "metadata": {
                "language": "sql",
                "azdata_cell_guid": "e2c1f7b2-63b3-4c76-aa03-690c50575b08"
            },
            "attachments": {}
        },
        {
            "cell_type": "code",
            "source": [
                "select * \r\n",
                "into m2000\r\n",
                "from movie_gross where year(release_date) = 2000"
            ],
            "metadata": {
                "language": "sql",
                "azdata_cell_guid": "6a925d85-9f83-4df0-969d-3c725d4d6c0a"
            },
            "outputs": [
                {
                    "output_type": "display_data",
                    "data": {
                        "text/html": "(19 rows affected)"
                    },
                    "metadata": {}
                },
                {
                    "output_type": "display_data",
                    "data": {
                        "text/html": "Total execution time: 00:00:00.004"
                    },
                    "metadata": {}
                }
            ],
            "execution_count": 10
        },
        {
            "cell_type": "code",
            "source": [
                "select * \r\n",
                "into m2001\r\n",
                "from movie_gross where year(release_date) = 2001"
            ],
            "metadata": {
                "language": "sql",
                "azdata_cell_guid": "ef2cee6d-8fd5-48f3-a7f2-0f57a72e121d"
            },
            "outputs": [
                {
                    "output_type": "display_data",
                    "data": {
                        "text/html": "(14 rows affected)"
                    },
                    "metadata": {}
                },
                {
                    "output_type": "display_data",
                    "data": {
                        "text/html": "Total execution time: 00:00:00.004"
                    },
                    "metadata": {}
                }
            ],
            "execution_count": 11
        },
        {
            "cell_type": "markdown",
            "source": [
                "Concept insert  \n",
                "m2000ยึดซ้าย  ฝั่งขวาเป็นค่า 2001"
            ],
            "metadata": {
                "language": "sql",
                "azdata_cell_guid": "f7700b61-4019-4432-9919-f4102cfe8cc9"
            },
            "attachments": {}
        },
        {
            "cell_type": "code",
            "source": [
                "insert into m2000 select * from m2001"
            ],
            "metadata": {
                "language": "sql",
                "azdata_cell_guid": "e669f222-e6e3-4df6-8f0e-edf9b492d308"
            },
            "outputs": [
                {
                    "output_type": "display_data",
                    "data": {
                        "text/html": "(14 rows affected)"
                    },
                    "metadata": {}
                },
                {
                    "output_type": "display_data",
                    "data": {
                        "text/html": "Total execution time: 00:00:00.002"
                    },
                    "metadata": {}
                }
            ],
            "execution_count": 13
        },
        {
            "cell_type": "code",
            "source": [
                "select * from m2001"
            ],
            "metadata": {
                "language": "sql",
                "azdata_cell_guid": "0ed8a78a-fe46-4b16-86f9-6da9c9a79710"
            },
            "outputs": [
                {
                    "output_type": "display_data",
                    "data": {
                        "text/html": "(14 rows affected)"
                    },
                    "metadata": {}
                },
                {
                    "output_type": "display_data",
                    "data": {
                        "text/html": "Total execution time: 00:00:00.008"
                    },
                    "metadata": {}
                },
                {
                    "output_type": "execute_result",
                    "execution_count": 15,
                    "data": {
                        "application/vnd.dataresource+json": {
                            "schema": {
                                "fields": [
                                    {
                                        "name": "movie_title"
                                    },
                                    {
                                        "name": "release_date"
                                    },
                                    {
                                        "name": "genre"
                                    },
                                    {
                                        "name": "mpaa_rating"
                                    },
                                    {
                                        "name": "total_gross"
                                    },
                                    {
                                        "name": "inflation_adjusted_gross"
                                    }
                                ]
                            },
                            "data": [
                                {
                                    "movie_title": "Double Take",
                                    "release_date": "2001-01-12",
                                    "genre": "Action",
                                    "mpaa_rating": "PG-13",
                                    "total_gross": "29823162",
                                    "inflation_adjusted_gross": "44418589"
                                },
                                {
                                    "movie_title": "Recess: School's Out",
                                    "release_date": "2001-02-16",
                                    "genre": "Comedy",
                                    "mpaa_rating": "G",
                                    "total_gross": "36696761",
                                    "inflation_adjusted_gross": "54656124"
                                },
                                {
                                    "movie_title": "Just Visiting",
                                    "release_date": "2001-04-06",
                                    "genre": "Comedy",
                                    "mpaa_rating": "PG-13",
                                    "total_gross": "4777007",
                                    "inflation_adjusted_gross": "7114869"
                                },
                                {
                                    "movie_title": "Pearl Harbor",
                                    "release_date": "2001-05-25",
                                    "genre": "Action",
                                    "mpaa_rating": "PG-13",
                                    "total_gross": "198539855",
                                    "inflation_adjusted_gross": "295705112"
                                },
                                {
                                    "movie_title": "Atlantis: The Lost Empire",
                                    "release_date": "2001-06-08",
                                    "genre": "Adventure",
                                    "mpaa_rating": "PG",
                                    "total_gross": "84052762",
                                    "inflation_adjusted_gross": "125188122"
                                },
                                {
                                    "movie_title": "crazy/beautiful",
                                    "release_date": "2001-06-29",
                                    "genre": "Drama",
                                    "mpaa_rating": "PG-13",
                                    "total_gross": "16929123",
                                    "inflation_adjusted_gross": "25214223"
                                },
                                {
                                    "movie_title": "The Princess Diaries",
                                    "release_date": "2001-08-03",
                                    "genre": "Comedy",
                                    "mpaa_rating": "G",
                                    "total_gross": "108244774",
                                    "inflation_adjusted_gross": "161218928"
                                },
                                {
                                    "movie_title": "Bubble Boy",
                                    "release_date": "2001-08-24",
                                    "genre": "Comedy",
                                    "mpaa_rating": "PG-13",
                                    "total_gross": "5002310",
                                    "inflation_adjusted_gross": "7450434"
                                },
                                {
                                    "movie_title": "Max Keeble's Big Move",
                                    "release_date": "2001-10-05",
                                    "genre": "Comedy",
                                    "mpaa_rating": "PG",
                                    "total_gross": "17292381",
                                    "inflation_adjusted_gross": "25749730"
                                },
                                {
                                    "movie_title": "Corky Romano",
                                    "release_date": "2001-10-12",
                                    "genre": "Comedy",
                                    "mpaa_rating": "PG-13",
                                    "total_gross": "23978402",
                                    "inflation_adjusted_gross": "35705805"
                                },
                                {
                                    "movie_title": "High Heels and Low Lifes",
                                    "release_date": "2001-10-26",
                                    "genre": "NULL",
                                    "mpaa_rating": "R",
                                    "total_gross": "226792",
                                    "inflation_adjusted_gross": "337782"
                                },
                                {
                                    "movie_title": "Monsters, Inc.",
                                    "release_date": "2001-11-02",
                                    "genre": "Adventure",
                                    "mpaa_rating": "G",
                                    "total_gross": "289423425",
                                    "inflation_adjusted_gross": "416073179"
                                },
                                {
                                    "movie_title": "Out Cold",
                                    "release_date": "2001-11-21",
                                    "genre": "Comedy",
                                    "mpaa_rating": "PG-13",
                                    "total_gross": "13906394",
                                    "inflation_adjusted_gross": "20700691"
                                },
                                {
                                    "movie_title": "The Royal Tenenbaums",
                                    "release_date": "2001-12-14",
                                    "genre": "Black Comedy",
                                    "mpaa_rating": "R",
                                    "total_gross": "52353636",
                                    "inflation_adjusted_gross": "76758193"
                                }
                            ]
                        },
                        "text/html": "<table><tr><th>movie_title</th><th>release_date</th><th>genre</th><th>mpaa_rating</th><th>total_gross</th><th>inflation_adjusted_gross</th></tr><tr><td>Double Take</td><td>2001-01-12</td><td>Action</td><td>PG-13</td><td>29823162</td><td>44418589</td></tr><tr><td>Recess: School&#39;s Out</td><td>2001-02-16</td><td>Comedy</td><td>G</td><td>36696761</td><td>54656124</td></tr><tr><td>Just Visiting</td><td>2001-04-06</td><td>Comedy</td><td>PG-13</td><td>4777007</td><td>7114869</td></tr><tr><td>Pearl Harbor</td><td>2001-05-25</td><td>Action</td><td>PG-13</td><td>198539855</td><td>295705112</td></tr><tr><td>Atlantis: The Lost Empire</td><td>2001-06-08</td><td>Adventure</td><td>PG</td><td>84052762</td><td>125188122</td></tr><tr><td>crazy/beautiful</td><td>2001-06-29</td><td>Drama</td><td>PG-13</td><td>16929123</td><td>25214223</td></tr><tr><td>The Princess Diaries</td><td>2001-08-03</td><td>Comedy</td><td>G</td><td>108244774</td><td>161218928</td></tr><tr><td>Bubble Boy</td><td>2001-08-24</td><td>Comedy</td><td>PG-13</td><td>5002310</td><td>7450434</td></tr><tr><td>Max Keeble&#39;s Big Move</td><td>2001-10-05</td><td>Comedy</td><td>PG</td><td>17292381</td><td>25749730</td></tr><tr><td>Corky Romano</td><td>2001-10-12</td><td>Comedy</td><td>PG-13</td><td>23978402</td><td>35705805</td></tr><tr><td>High Heels and Low Lifes</td><td>2001-10-26</td><td>NULL</td><td>R</td><td>226792</td><td>337782</td></tr><tr><td>Monsters, Inc.</td><td>2001-11-02</td><td>Adventure</td><td>G</td><td>289423425</td><td>416073179</td></tr><tr><td>Out Cold</td><td>2001-11-21</td><td>Comedy</td><td>PG-13</td><td>13906394</td><td>20700691</td></tr><tr><td>The Royal Tenenbaums</td><td>2001-12-14</td><td>Black Comedy</td><td>R</td><td>52353636</td><td>76758193</td></tr></table>"
                    },
                    "metadata": {}
                }
            ],
            "execution_count": 15
        },
        {
            "cell_type": "markdown",
            "source": [
                "\\------------------------------------------------------------------------------------------------------------------------------------------------------------------------------------------------------------------------------"
            ],
            "metadata": {
                "language": "sql",
                "azdata_cell_guid": "1255f60a-6d90-4e68-a757-6c68ac250fa3"
            },
            "attachments": {}
        },
        {
            "cell_type": "markdown",
            "source": [
                "SELECT INTO สร้างตารางใหม่จากตารางเดิม"
            ],
            "metadata": {
                "language": "sql",
                "azdata_cell_guid": "79efebd8-a766-4d4c-befe-57a3b2dc2b1b"
            },
            "attachments": {}
        },
        {
            "cell_type": "code",
            "source": [
                "select movie_title,release_date,genre \r\n",
                "    into adventure\r\n",
                "    from movie_gross\r\n",
                "    where genre='Adventure'"
            ],
            "metadata": {
                "language": "sql",
                "azdata_cell_guid": "eac6d6e0-407a-4b5c-880d-0ee9ad28898c",
                "tags": []
            },
            "outputs": [
                {
                    "output_type": "display_data",
                    "data": {
                        "text/html": "(129 rows affected)"
                    },
                    "metadata": {}
                },
                {
                    "output_type": "display_data",
                    "data": {
                        "text/html": "Total execution time: 00:00:00.004"
                    },
                    "metadata": {}
                }
            ],
            "execution_count": 18
        },
        {
            "cell_type": "code",
            "source": [
                "drop table if exists adventure; -- ดรอปตารางถ้ามีอยู่แล้ว\r\n",
                "select movie_title,release_date,genre \r\n",
                "    into adventure\r\n",
                "    from movie_gross\r\n",
                "    where genre='Adventure' and year(release_date) > 2000"
            ],
            "metadata": {
                "language": "sql",
                "azdata_cell_guid": "76fbf8ea-d02d-4195-8ca3-e4290e7a8c52"
            },
            "outputs": [
                {
                    "output_type": "display_data",
                    "data": {
                        "text/html": "(78 rows affected)"
                    },
                    "metadata": {}
                },
                {
                    "output_type": "display_data",
                    "data": {
                        "text/html": "Total execution time: 00:00:00.006"
                    },
                    "metadata": {}
                }
            ],
            "execution_count": 20
        },
        {
            "cell_type": "code",
            "source": [
                "drop table if exists movie\r\n",
                "select * into movie \r\n",
                "from movie_gross where year(release_date) < 2000"
            ],
            "metadata": {
                "language": "sql",
                "azdata_cell_guid": "5a6fd24d-29c9-4688-b591-d74f2a639c9a"
            },
            "outputs": [],
            "execution_count": null
        },
        {
            "cell_type": "code",
            "source": [
                "insert into movie \r\n",
                "    select * from movie_gross where year(release_date) >= 2000"
            ],
            "metadata": {
                "language": "sql",
                "azdata_cell_guid": "16b0a364-4686-493e-8889-3c02daab2cf6"
            },
            "outputs": [],
            "execution_count": null
        }
    ]
}