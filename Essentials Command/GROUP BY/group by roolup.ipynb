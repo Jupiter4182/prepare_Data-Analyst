{
    "metadata": {
        "kernelspec": {
            "name": "SQL",
            "display_name": "SQL",
            "language": "sql"
        },
        "language_info": {
            "name": "sql",
            "version": ""
        }
    },
    "nbformat_minor": 2,
    "nbformat": 4,
    "cells": [
        {
            "cell_type": "code",
            "source": [
                "select * from daily_sales"
            ],
            "metadata": {
                "azdata_cell_guid": "5686c886-61e8-4efd-8205-e217060b9301",
                "language": "sql"
            },
            "outputs": [
                {
                    "output_type": "display_data",
                    "data": {
                        "text/html": "(1460 rows affected)"
                    },
                    "metadata": {}
                },
                {
                    "output_type": "display_data",
                    "data": {
                        "text/html": "Total execution time: 00:00:00.014"
                    },
                    "metadata": {}
                },
                {
                    "output_type": "execute_result",
                    "execution_count": 1,
                    "data": {
                        "application/vnd.dataresource+json": {
                            "schema": {
                                "fields": [
                                    {
                                        "name": "menu"
                                    },
                                    {
                                        "name": "dt"
                                    },
                                    {
                                        "name": "revenue"
                                    }
                                ]
                            },
                            "data": [
                                {
                                    "menu": "coffee",
                                    "dt": "2018-01-01",
                                    "revenue": "10318"
                                },
                                {
                                    "menu": "tea",
                                    "dt": "2018-01-01",
                                    "revenue": "18064"
                                },
                                {
                                    "menu": "coffee",
                                    "dt": "2018-01-02",
                                    "revenue": "23543"
                                },
                                {
                                    "menu": "tea",
                                    "dt": "2018-01-02",
                                    "revenue": "11734"
                                },
                                {
                                    "menu": "coffee",
                                    "dt": "2018-01-03",
                                    "revenue": "14140"
                                },
                                {
                                    "menu": "tea",
                                    "dt": "2018-01-03",
                                    "revenue": "18537"
                                },
                                {
                                    "menu": "coffee",
                                    "dt": "2018-01-04",
                                    "revenue": "18482"
                                },
                                {
                                    "menu": "tea",
                                    "dt": "2018-01-04",
                                    "revenue": "19584"
                                },
                                {
                                    "menu": "coffee",
                                    "dt": "2018-01-05",
                                    "revenue": "8392"
                                },
                                {
                                    "menu": "tea",
                                    "dt": "2018-01-05",
                                    "revenue": "9517"
                                },
                                {
                                    "menu": "coffee",
                                    "dt": "2018-01-06",
                                    "revenue": "26544"
                                },
                                {
                                    "menu": "tea",
                                    "dt": "2018-01-06",
                                    "revenue": "6620"
                                },
                                {
                                    "menu": "coffee",
                                    "dt": "2018-01-07",
                                    "revenue": "10700"
                                },
                                {
                                    "menu": "tea",
                                    "dt": "2018-01-07",
                                    "revenue": "9712"
                                },
                                {
                                    "menu": "coffee",
                                    "dt": "2018-01-08",
                                    "revenue": "16578"
                                },
                                {
                                    "menu": "tea",
                                    "dt": "2018-01-08",
                                    "revenue": "10347"
                                },
                                {
                                    "menu": "coffee",
                                    "dt": "2018-01-09",
                                    "revenue": "23797"
                                },
                                {
                                    "menu": "tea",
                                    "dt": "2018-01-09",
                                    "revenue": "12011"
                                },
                                {
                                    "menu": "coffee",
                                    "dt": "2018-01-10",
                                    "revenue": "8086"
                                },
                                {
                                    "menu": "tea",
                                    "dt": "2018-01-10",
                                    "revenue": "7510"
                                },
                                {
                                    "menu": "coffee",
                                    "dt": "2018-01-11",
                                    "revenue": "14986"
                                },
                                {
                                    "menu": "tea",
                                    "dt": "2018-01-11",
                                    "revenue": "15948"
                                },
                                {
                                    "menu": "coffee",
                                    "dt": "2018-01-12",
                                    "revenue": "9189"
                                },
                                {
                                    "menu": "tea",
                                    "dt": "2018-01-12",
                                    "revenue": "12719"
                                },
                                {
                                    "menu": "coffee",
                                    "dt": "2018-01-13",
                                    "revenue": "19015"
                                },
                                {
                                    "menu": "tea",
                                    "dt": "2018-01-13",
                                    "revenue": "19345"
                                },
                                {
                                    "menu": "coffee",
                                    "dt": "2018-01-14",
                                    "revenue": "21688"
                                },
                                {
                                    "menu": "tea",
                                    "dt": "2018-01-14",
                                    "revenue": "6065"
                                },
                                {
                                    "menu": "coffee",
                                    "dt": "2018-01-15",
                                    "revenue": "19279"
                                },
                                {
                                    "menu": "tea",
                                    "dt": "2018-01-15",
                                    "revenue": "18361"
                                },
                                {
                                    "menu": "coffee",
                                    "dt": "2018-01-16",
                                    "revenue": "7698"
                                },
                                {
                                    "menu": "tea",
                                    "dt": "2018-01-16",
                                    "revenue": "13612"
                                },
                                {
                                    "menu": "coffee",
                                    "dt": "2018-01-17",
                                    "revenue": "26199"
                                },
                                {
                                    "menu": "tea",
                                    "dt": "2018-01-17",
                                    "revenue": "14540"
                                },
                                {
                                    "menu": "coffee",
                                    "dt": "2018-01-18",
                                    "revenue": "13283"
                                },
                                {
                                    "menu": "tea",
                                    "dt": "2018-01-18",
                                    "revenue": "15954"
                                },
                                {
                                    "menu": "coffee",
                                    "dt": "2018-01-19",
                                    "revenue": "15480"
                                },
                                {
                                    "menu": "tea",
                                    "dt": "2018-01-19",
                                    "revenue": "6226"
                                },
                                {
                                    "menu": "coffee",
                                    "dt": "2018-01-20",
                                    "revenue": "21969"
                                },
                                {
                                    "menu": "tea",
                                    "dt": "2018-01-20",
                                    "revenue": "18016"
                                },
                                {
                                    "menu": "coffee",
                                    "dt": "2018-01-21",
                                    "revenue": "20138"
                                },
                                {
                                    "menu": "tea",
                                    "dt": "2018-01-21",
                                    "revenue": "8540"
                                },
                                {
                                    "menu": "coffee",
                                    "dt": "2018-01-22",
                                    "revenue": "7142"
                                },
                                {
                                    "menu": "tea",
                                    "dt": "2018-01-22",
                                    "revenue": "7136"
                                },
                                {
                                    "menu": "coffee",
                                    "dt": "2018-01-23",
                                    "revenue": "8655"
                                },
                                {
                                    "menu": "tea",
                                    "dt": "2018-01-23",
                                    "revenue": "7141"
                                },
                                {
                                    "menu": "coffee",
                                    "dt": "2018-01-24",
                                    "revenue": "22288"
                                },
                                {
                                    "menu": "tea",
                                    "dt": "2018-01-24",
                                    "revenue": "14091"
                                },
                                {
                                    "menu": "coffee",
                                    "dt": "2018-01-25",
                                    "revenue": "17258"
                                },
                                {
                                    "menu": "tea",
                                    "dt": "2018-01-25",
                                    "revenue": "6326"
                                },
                                {
                                    "menu": "coffee",
                                    "dt": "2018-01-26",
                                    "revenue": "19784"
                                },
                                {
                                    "menu": "tea",
                                    "dt": "2018-01-26",
                                    "revenue": "11716"
                                },
                                {
                                    "menu": "coffee",
                                    "dt": "2018-01-27",
                                    "revenue": "24867"
                                },
                                {
                                    "menu": "tea",
                                    "dt": "2018-01-27",
                                    "revenue": "9134"
                                },
                                {
                                    "menu": "coffee",
                                    "dt": "2018-01-28",
                                    "revenue": "22788"
                                },
                                {
                                    "menu": "tea",
                                    "dt": "2018-01-28",
                                    "revenue": "12450"
                                },
                                {
                                    "menu": "coffee",
                                    "dt": "2018-01-29",
                                    "revenue": "22692"
                                },
                                {
                                    "menu": "tea",
                                    "dt": "2018-01-29",
                                    "revenue": "12205"
                                },
                                {
                                    "menu": "coffee",
                                    "dt": "2018-01-30",
                                    "revenue": "18936"
                                },
                                {
                                    "menu": "tea",
                                    "dt": "2018-01-30",
                                    "revenue": "19277"
                                },
                                {
                                    "menu": "coffee",
                                    "dt": "2018-01-31",
                                    "revenue": "8643"
                                },
                                {
                                    "menu": "tea",
                                    "dt": "2018-01-31",
                                    "revenue": "7504"
                                },
                                {
                                    "menu": "coffee",
                                    "dt": "2018-02-01",
                                    "revenue": "7482"
                                },
                                {
                                    "menu": "tea",
                                    "dt": "2018-02-01",
                                    "revenue": "13786"
                                },
                                {
                                    "menu": "coffee",
                                    "dt": "2018-02-02",
                                    "revenue": "18838"
                                },
                                {
                                    "menu": "tea",
                                    "dt": "2018-02-02",
                                    "revenue": "16239"
                                },
                                {
                                    "menu": "coffee",
                                    "dt": "2018-02-03",
                                    "revenue": "18227"
                                },
                                {
                                    "menu": "tea",
                                    "dt": "2018-02-03",
                                    "revenue": "17606"
                                },
                                {
                                    "menu": "coffee",
                                    "dt": "2018-02-04",
                                    "revenue": "19498"
                                },
                                {
                                    "menu": "tea",
                                    "dt": "2018-02-04",
                                    "revenue": "18324"
                                },
                                {
                                    "menu": "coffee",
                                    "dt": "2018-02-05",
                                    "revenue": "15575"
                                },
                                {
                                    "menu": "tea",
                                    "dt": "2018-02-05",
                                    "revenue": "13408"
                                },
                                {
                                    "menu": "coffee",
                                    "dt": "2018-02-06",
                                    "revenue": "19578"
                                },
                                {
                                    "menu": "tea",
                                    "dt": "2018-02-06",
                                    "revenue": "11296"
                                },
                                {
                                    "menu": "coffee",
                                    "dt": "2018-02-07",
                                    "revenue": "15896"
                                },
                                {
                                    "menu": "tea",
                                    "dt": "2018-02-07",
                                    "revenue": "10420"
                                },
                                {
                                    "menu": "coffee",
                                    "dt": "2018-02-08",
                                    "revenue": "13740"
                                },
                                {
                                    "menu": "tea",
                                    "dt": "2018-02-08",
                                    "revenue": "7608"
                                },
                                {
                                    "menu": "coffee",
                                    "dt": "2018-02-09",
                                    "revenue": "15969"
                                },
                                {
                                    "menu": "tea",
                                    "dt": "2018-02-09",
                                    "revenue": "13675"
                                },
                                {
                                    "menu": "coffee",
                                    "dt": "2018-02-10",
                                    "revenue": "18380"
                                },
                                {
                                    "menu": "tea",
                                    "dt": "2018-02-10",
                                    "revenue": "16441"
                                },
                                {
                                    "menu": "coffee",
                                    "dt": "2018-02-11",
                                    "revenue": "26856"
                                },
                                {
                                    "menu": "tea",
                                    "dt": "2018-02-11",
                                    "revenue": "9603"
                                },
                                {
                                    "menu": "coffee",
                                    "dt": "2018-02-12",
                                    "revenue": "21234"
                                },
                                {
                                    "menu": "tea",
                                    "dt": "2018-02-12",
                                    "revenue": "12399"
                                },
                                {
                                    "menu": "coffee",
                                    "dt": "2018-02-13",
                                    "revenue": "18316"
                                },
                                {
                                    "menu": "tea",
                                    "dt": "2018-02-13",
                                    "revenue": "8112"
                                },
                                {
                                    "menu": "coffee",
                                    "dt": "2018-02-14",
                                    "revenue": "26171"
                                },
                                {
                                    "menu": "tea",
                                    "dt": "2018-02-14",
                                    "revenue": "5350"
                                },
                                {
                                    "menu": "coffee",
                                    "dt": "2018-02-15",
                                    "revenue": "26659"
                                },
                                {
                                    "menu": "tea",
                                    "dt": "2018-02-15",
                                    "revenue": "8870"
                                },
                                {
                                    "menu": "coffee",
                                    "dt": "2018-02-16",
                                    "revenue": "20074"
                                },
                                {
                                    "menu": "tea",
                                    "dt": "2018-02-16",
                                    "revenue": "18519"
                                },
                                {
                                    "menu": "coffee",
                                    "dt": "2018-02-17",
                                    "revenue": "13870"
                                },
                                {
                                    "menu": "tea",
                                    "dt": "2018-02-17",
                                    "revenue": "6908"
                                },
                                {
                                    "menu": "coffee",
                                    "dt": "2018-02-18",
                                    "revenue": "18182"
                                },
                                {
                                    "menu": "tea",
                                    "dt": "2018-02-18",
                                    "revenue": "16729"
                                },
                                {
                                    "menu": "coffee",
                                    "dt": "2018-02-19",
                                    "revenue": "18275"
                                },
                                {
                                    "menu": "tea",
                                    "dt": "2018-02-19",
                                    "revenue": "11653"
                                },
                                {
                                    "menu": "coffee",
                                    "dt": "2018-02-20",
                                    "revenue": "22201"
                                },
                                {
                                    "menu": "tea",
                                    "dt": "2018-02-20",
                                    "revenue": "17886"
                                },
                                {
                                    "menu": "coffee",
                                    "dt": "2018-02-21",
                                    "revenue": "20751"
                                },
                                {
                                    "menu": "tea",
                                    "dt": "2018-02-21",
                                    "revenue": "19123"
                                },
                                {
                                    "menu": "coffee",
                                    "dt": "2018-02-22",
                                    "revenue": "26460"
                                },
                                {
                                    "menu": "tea",
                                    "dt": "2018-02-22",
                                    "revenue": "5402"
                                },
                                {
                                    "menu": "coffee",
                                    "dt": "2018-02-23",
                                    "revenue": "18469"
                                },
                                {
                                    "menu": "tea",
                                    "dt": "2018-02-23",
                                    "revenue": "9644"
                                },
                                {
                                    "menu": "coffee",
                                    "dt": "2018-02-24",
                                    "revenue": "26259"
                                },
                                {
                                    "menu": "tea",
                                    "dt": "2018-02-24",
                                    "revenue": "5681"
                                },
                                {
                                    "menu": "coffee",
                                    "dt": "2018-02-25",
                                    "revenue": "19918"
                                },
                                {
                                    "menu": "tea",
                                    "dt": "2018-02-25",
                                    "revenue": "11736"
                                },
                                {
                                    "menu": "coffee",
                                    "dt": "2018-02-26",
                                    "revenue": "16463"
                                },
                                {
                                    "menu": "tea",
                                    "dt": "2018-02-26",
                                    "revenue": "8588"
                                },
                                {
                                    "menu": "coffee",
                                    "dt": "2018-02-27",
                                    "revenue": "10557"
                                },
                                {
                                    "menu": "tea",
                                    "dt": "2018-02-27",
                                    "revenue": "8246"
                                },
                                {
                                    "menu": "coffee",
                                    "dt": "2018-02-28",
                                    "revenue": "20499"
                                },
                                {
                                    "menu": "tea",
                                    "dt": "2018-02-28",
                                    "revenue": "18891"
                                },
                                {
                                    "menu": "coffee",
                                    "dt": "2018-03-01",
                                    "revenue": "17900"
                                },
                                {
                                    "menu": "tea",
                                    "dt": "2018-03-01",
                                    "revenue": "10421"
                                },
                                {
                                    "menu": "coffee",
                                    "dt": "2018-03-02",
                                    "revenue": "18853"
                                },
                                {
                                    "menu": "tea",
                                    "dt": "2018-03-02",
                                    "revenue": "9847"
                                },
                                {
                                    "menu": "coffee",
                                    "dt": "2018-03-03",
                                    "revenue": "20432"
                                },
                                {
                                    "menu": "tea",
                                    "dt": "2018-03-03",
                                    "revenue": "15466"
                                },
                                {
                                    "menu": "coffee",
                                    "dt": "2018-03-04",
                                    "revenue": "17764"
                                },
                                {
                                    "menu": "tea",
                                    "dt": "2018-03-04",
                                    "revenue": "10898"
                                },
                                {
                                    "menu": "coffee",
                                    "dt": "2018-03-05",
                                    "revenue": "25528"
                                },
                                {
                                    "menu": "tea",
                                    "dt": "2018-03-05",
                                    "revenue": "7849"
                                },
                                {
                                    "menu": "coffee",
                                    "dt": "2018-03-06",
                                    "revenue": "19370"
                                },
                                {
                                    "menu": "tea",
                                    "dt": "2018-03-06",
                                    "revenue": "11474"
                                },
                                {
                                    "menu": "coffee",
                                    "dt": "2018-03-07",
                                    "revenue": "9238"
                                },
                                {
                                    "menu": "tea",
                                    "dt": "2018-03-07",
                                    "revenue": "15395"
                                },
                                {
                                    "menu": "coffee",
                                    "dt": "2018-03-08",
                                    "revenue": "9804"
                                },
                                {
                                    "menu": "tea",
                                    "dt": "2018-03-08",
                                    "revenue": "17586"
                                },
                                {
                                    "menu": "coffee",
                                    "dt": "2018-03-09",
                                    "revenue": "26987"
                                },
                                {
                                    "menu": "tea",
                                    "dt": "2018-03-09",
                                    "revenue": "12420"
                                },
                                {
                                    "menu": "coffee",
                                    "dt": "2018-03-10",
                                    "revenue": "15481"
                                },
                                {
                                    "menu": "tea",
                                    "dt": "2018-03-10",
                                    "revenue": "12359"
                                },
                                {
                                    "menu": "coffee",
                                    "dt": "2018-03-11",
                                    "revenue": "20472"
                                },
                                {
                                    "menu": "tea",
                                    "dt": "2018-03-11",
                                    "revenue": "8582"
                                },
                                {
                                    "menu": "coffee",
                                    "dt": "2018-03-12",
                                    "revenue": "21885"
                                },
                                {
                                    "menu": "tea",
                                    "dt": "2018-03-12",
                                    "revenue": "10660"
                                },
                                {
                                    "menu": "coffee",
                                    "dt": "2018-03-13",
                                    "revenue": "26429"
                                },
                                {
                                    "menu": "tea",
                                    "dt": "2018-03-13",
                                    "revenue": "6450"
                                },
                                {
                                    "menu": "coffee",
                                    "dt": "2018-03-14",
                                    "revenue": "14446"
                                },
                                {
                                    "menu": "tea",
                                    "dt": "2018-03-14",
                                    "revenue": "13238"
                                },
                                {
                                    "menu": "coffee",
                                    "dt": "2018-03-15",
                                    "revenue": "13584"
                                },
                                {
                                    "menu": "tea",
                                    "dt": "2018-03-15",
                                    "revenue": "13756"
                                },
                                {
                                    "menu": "coffee",
                                    "dt": "2018-03-16",
                                    "revenue": "7345"
                                },
                                {
                                    "menu": "tea",
                                    "dt": "2018-03-16",
                                    "revenue": "15126"
                                },
                                {
                                    "menu": "coffee",
                                    "dt": "2018-03-17",
                                    "revenue": "9222"
                                },
                                {
                                    "menu": "tea",
                                    "dt": "2018-03-17",
                                    "revenue": "7340"
                                },
                                {
                                    "menu": "coffee",
                                    "dt": "2018-03-18",
                                    "revenue": "16737"
                                },
                                {
                                    "menu": "tea",
                                    "dt": "2018-03-18",
                                    "revenue": "12202"
                                },
                                {
                                    "menu": "coffee",
                                    "dt": "2018-03-19",
                                    "revenue": "7462"
                                },
                                {
                                    "menu": "tea",
                                    "dt": "2018-03-19",
                                    "revenue": "8557"
                                },
                                {
                                    "menu": "coffee",
                                    "dt": "2018-03-20",
                                    "revenue": "20951"
                                },
                                {
                                    "menu": "tea",
                                    "dt": "2018-03-20",
                                    "revenue": "15720"
                                },
                                {
                                    "menu": "coffee",
                                    "dt": "2018-03-21",
                                    "revenue": "8285"
                                },
                                {
                                    "menu": "tea",
                                    "dt": "2018-03-21",
                                    "revenue": "7629"
                                },
                                {
                                    "menu": "coffee",
                                    "dt": "2018-03-22",
                                    "revenue": "25555"
                                },
                                {
                                    "menu": "tea",
                                    "dt": "2018-03-22",
                                    "revenue": "8402"
                                },
                                {
                                    "menu": "coffee",
                                    "dt": "2018-03-23",
                                    "revenue": "23066"
                                },
                                {
                                    "menu": "tea",
                                    "dt": "2018-03-23",
                                    "revenue": "11176"
                                },
                                {
                                    "menu": "coffee",
                                    "dt": "2018-03-24",
                                    "revenue": "9345"
                                },
                                {
                                    "menu": "tea",
                                    "dt": "2018-03-24",
                                    "revenue": "9175"
                                },
                                {
                                    "menu": "coffee",
                                    "dt": "2018-03-25",
                                    "revenue": "12481"
                                },
                                {
                                    "menu": "tea",
                                    "dt": "2018-03-25",
                                    "revenue": "8605"
                                },
                                {
                                    "menu": "coffee",
                                    "dt": "2018-03-26",
                                    "revenue": "18820"
                                },
                                {
                                    "menu": "tea",
                                    "dt": "2018-03-26",
                                    "revenue": "18304"
                                },
                                {
                                    "menu": "coffee",
                                    "dt": "2018-03-27",
                                    "revenue": "7812"
                                },
                                {
                                    "menu": "tea",
                                    "dt": "2018-03-27",
                                    "revenue": "18110"
                                },
                                {
                                    "menu": "coffee",
                                    "dt": "2018-03-28",
                                    "revenue": "25097"
                                },
                                {
                                    "menu": "tea",
                                    "dt": "2018-03-28",
                                    "revenue": "14601"
                                },
                                {
                                    "menu": "coffee",
                                    "dt": "2018-03-29",
                                    "revenue": "11093"
                                },
                                {
                                    "menu": "tea",
                                    "dt": "2018-03-29",
                                    "revenue": "18659"
                                },
                                {
                                    "menu": "coffee",
                                    "dt": "2018-03-30",
                                    "revenue": "16839"
                                },
                                {
                                    "menu": "tea",
                                    "dt": "2018-03-30",
                                    "revenue": "17035"
                                },
                                {
                                    "menu": "coffee",
                                    "dt": "2018-03-31",
                                    "revenue": "18098"
                                },
                                {
                                    "menu": "tea",
                                    "dt": "2018-03-31",
                                    "revenue": "16016"
                                },
                                {
                                    "menu": "coffee",
                                    "dt": "2018-04-01",
                                    "revenue": "10776"
                                },
                                {
                                    "menu": "tea",
                                    "dt": "2018-04-01",
                                    "revenue": "16845"
                                },
                                {
                                    "menu": "coffee",
                                    "dt": "2018-04-02",
                                    "revenue": "26071"
                                },
                                {
                                    "menu": "tea",
                                    "dt": "2018-04-02",
                                    "revenue": "14485"
                                },
                                {
                                    "menu": "coffee",
                                    "dt": "2018-04-03",
                                    "revenue": "16214"
                                },
                                {
                                    "menu": "tea",
                                    "dt": "2018-04-03",
                                    "revenue": "9356"
                                },
                                {
                                    "menu": "coffee",
                                    "dt": "2018-04-04",
                                    "revenue": "9270"
                                },
                                {
                                    "menu": "tea",
                                    "dt": "2018-04-04",
                                    "revenue": "18966"
                                },
                                {
                                    "menu": "coffee",
                                    "dt": "2018-04-05",
                                    "revenue": "12761"
                                },
                                {
                                    "menu": "tea",
                                    "dt": "2018-04-05",
                                    "revenue": "5035"
                                },
                                {
                                    "menu": "coffee",
                                    "dt": "2018-04-06",
                                    "revenue": "10129"
                                },
                                {
                                    "menu": "tea",
                                    "dt": "2018-04-06",
                                    "revenue": "18528"
                                },
                                {
                                    "menu": "coffee",
                                    "dt": "2018-04-07",
                                    "revenue": "19025"
                                },
                                {
                                    "menu": "tea",
                                    "dt": "2018-04-07",
                                    "revenue": "8468"
                                },
                                {
                                    "menu": "coffee",
                                    "dt": "2018-04-08",
                                    "revenue": "22896"
                                },
                                {
                                    "menu": "tea",
                                    "dt": "2018-04-08",
                                    "revenue": "12076"
                                },
                                {
                                    "menu": "coffee",
                                    "dt": "2018-04-09",
                                    "revenue": "17148"
                                },
                                {
                                    "menu": "tea",
                                    "dt": "2018-04-09",
                                    "revenue": "5620"
                                },
                                {
                                    "menu": "coffee",
                                    "dt": "2018-04-10",
                                    "revenue": "14599"
                                },
                                {
                                    "menu": "tea",
                                    "dt": "2018-04-10",
                                    "revenue": "11876"
                                },
                                {
                                    "menu": "coffee",
                                    "dt": "2018-04-11",
                                    "revenue": "13325"
                                },
                                {
                                    "menu": "tea",
                                    "dt": "2018-04-11",
                                    "revenue": "17942"
                                },
                                {
                                    "menu": "coffee",
                                    "dt": "2018-04-12",
                                    "revenue": "13763"
                                },
                                {
                                    "menu": "tea",
                                    "dt": "2018-04-12",
                                    "revenue": "7547"
                                },
                                {
                                    "menu": "coffee",
                                    "dt": "2018-04-13",
                                    "revenue": "26969"
                                },
                                {
                                    "menu": "tea",
                                    "dt": "2018-04-13",
                                    "revenue": "7220"
                                },
                                {
                                    "menu": "coffee",
                                    "dt": "2018-04-14",
                                    "revenue": "14828"
                                },
                                {
                                    "menu": "tea",
                                    "dt": "2018-04-14",
                                    "revenue": "17517"
                                },
                                {
                                    "menu": "coffee",
                                    "dt": "2018-04-15",
                                    "revenue": "15230"
                                },
                                {
                                    "menu": "tea",
                                    "dt": "2018-04-15",
                                    "revenue": "12846"
                                },
                                {
                                    "menu": "coffee",
                                    "dt": "2018-04-16",
                                    "revenue": "7665"
                                },
                                {
                                    "menu": "tea",
                                    "dt": "2018-04-16",
                                    "revenue": "5963"
                                },
                                {
                                    "menu": "coffee",
                                    "dt": "2018-04-17",
                                    "revenue": "10085"
                                },
                                {
                                    "menu": "tea",
                                    "dt": "2018-04-17",
                                    "revenue": "19658"
                                },
                                {
                                    "menu": "coffee",
                                    "dt": "2018-04-18",
                                    "revenue": "14358"
                                },
                                {
                                    "menu": "tea",
                                    "dt": "2018-04-18",
                                    "revenue": "16069"
                                },
                                {
                                    "menu": "coffee",
                                    "dt": "2018-04-19",
                                    "revenue": "19899"
                                },
                                {
                                    "menu": "tea",
                                    "dt": "2018-04-19",
                                    "revenue": "17303"
                                },
                                {
                                    "menu": "coffee",
                                    "dt": "2018-04-20",
                                    "revenue": "15824"
                                },
                                {
                                    "menu": "tea",
                                    "dt": "2018-04-20",
                                    "revenue": "16183"
                                },
                                {
                                    "menu": "coffee",
                                    "dt": "2018-04-21",
                                    "revenue": "8601"
                                },
                                {
                                    "menu": "tea",
                                    "dt": "2018-04-21",
                                    "revenue": "6326"
                                },
                                {
                                    "menu": "coffee",
                                    "dt": "2018-04-22",
                                    "revenue": "21227"
                                },
                                {
                                    "menu": "tea",
                                    "dt": "2018-04-22",
                                    "revenue": "5771"
                                },
                                {
                                    "menu": "coffee",
                                    "dt": "2018-04-23",
                                    "revenue": "25403"
                                },
                                {
                                    "menu": "tea",
                                    "dt": "2018-04-23",
                                    "revenue": "14636"
                                },
                                {
                                    "menu": "coffee",
                                    "dt": "2018-04-24",
                                    "revenue": "12386"
                                },
                                {
                                    "menu": "tea",
                                    "dt": "2018-04-24",
                                    "revenue": "18138"
                                },
                                {
                                    "menu": "coffee",
                                    "dt": "2018-04-25",
                                    "revenue": "25518"
                                },
                                {
                                    "menu": "tea",
                                    "dt": "2018-04-25",
                                    "revenue": "14813"
                                },
                                {
                                    "menu": "coffee",
                                    "dt": "2018-04-26",
                                    "revenue": "12718"
                                },
                                {
                                    "menu": "tea",
                                    "dt": "2018-04-26",
                                    "revenue": "6512"
                                },
                                {
                                    "menu": "coffee",
                                    "dt": "2018-04-27",
                                    "revenue": "13377"
                                },
                                {
                                    "menu": "tea",
                                    "dt": "2018-04-27",
                                    "revenue": "9716"
                                },
                                {
                                    "menu": "coffee",
                                    "dt": "2018-04-28",
                                    "revenue": "23462"
                                },
                                {
                                    "menu": "tea",
                                    "dt": "2018-04-28",
                                    "revenue": "14314"
                                },
                                {
                                    "menu": "coffee",
                                    "dt": "2018-04-29",
                                    "revenue": "13947"
                                },
                                {
                                    "menu": "tea",
                                    "dt": "2018-04-29",
                                    "revenue": "18778"
                                },
                                {
                                    "menu": "coffee",
                                    "dt": "2018-04-30",
                                    "revenue": "18456"
                                },
                                {
                                    "menu": "tea",
                                    "dt": "2018-04-30",
                                    "revenue": "6712"
                                },
                                {
                                    "menu": "coffee",
                                    "dt": "2018-05-01",
                                    "revenue": "8619"
                                },
                                {
                                    "menu": "tea",
                                    "dt": "2018-05-01",
                                    "revenue": "5714"
                                },
                                {
                                    "menu": "coffee",
                                    "dt": "2018-05-02",
                                    "revenue": "15086"
                                },
                                {
                                    "menu": "tea",
                                    "dt": "2018-05-02",
                                    "revenue": "19842"
                                },
                                {
                                    "menu": "coffee",
                                    "dt": "2018-05-03",
                                    "revenue": "23634"
                                },
                                {
                                    "menu": "tea",
                                    "dt": "2018-05-03",
                                    "revenue": "7727"
                                },
                                {
                                    "menu": "coffee",
                                    "dt": "2018-05-04",
                                    "revenue": "8677"
                                },
                                {
                                    "menu": "tea",
                                    "dt": "2018-05-04",
                                    "revenue": "6933"
                                },
                                {
                                    "menu": "coffee",
                                    "dt": "2018-05-05",
                                    "revenue": "8024"
                                },
                                {
                                    "menu": "tea",
                                    "dt": "2018-05-05",
                                    "revenue": "5801"
                                },
                                {
                                    "menu": "coffee",
                                    "dt": "2018-05-06",
                                    "revenue": "24321"
                                },
                                {
                                    "menu": "tea",
                                    "dt": "2018-05-06",
                                    "revenue": "5920"
                                },
                                {
                                    "menu": "coffee",
                                    "dt": "2018-05-07",
                                    "revenue": "23240"
                                },
                                {
                                    "menu": "tea",
                                    "dt": "2018-05-07",
                                    "revenue": "17512"
                                },
                                {
                                    "menu": "coffee",
                                    "dt": "2018-05-08",
                                    "revenue": "25266"
                                },
                                {
                                    "menu": "tea",
                                    "dt": "2018-05-08",
                                    "revenue": "14758"
                                },
                                {
                                    "menu": "coffee",
                                    "dt": "2018-05-09",
                                    "revenue": "20683"
                                },
                                {
                                    "menu": "tea",
                                    "dt": "2018-05-09",
                                    "revenue": "11434"
                                },
                                {
                                    "menu": "coffee",
                                    "dt": "2018-05-10",
                                    "revenue": "23768"
                                },
                                {
                                    "menu": "tea",
                                    "dt": "2018-05-10",
                                    "revenue": "9445"
                                },
                                {
                                    "menu": "coffee",
                                    "dt": "2018-05-11",
                                    "revenue": "13069"
                                },
                                {
                                    "menu": "tea",
                                    "dt": "2018-05-11",
                                    "revenue": "7483"
                                },
                                {
                                    "menu": "coffee",
                                    "dt": "2018-05-12",
                                    "revenue": "11017"
                                },
                                {
                                    "menu": "tea",
                                    "dt": "2018-05-12",
                                    "revenue": "5805"
                                },
                                {
                                    "menu": "coffee",
                                    "dt": "2018-05-13",
                                    "revenue": "15427"
                                },
                                {
                                    "menu": "tea",
                                    "dt": "2018-05-13",
                                    "revenue": "9114"
                                },
                                {
                                    "menu": "coffee",
                                    "dt": "2018-05-14",
                                    "revenue": "11522"
                                },
                                {
                                    "menu": "tea",
                                    "dt": "2018-05-14",
                                    "revenue": "19178"
                                },
                                {
                                    "menu": "coffee",
                                    "dt": "2018-05-15",
                                    "revenue": "19266"
                                },
                                {
                                    "menu": "tea",
                                    "dt": "2018-05-15",
                                    "revenue": "10754"
                                },
                                {
                                    "menu": "coffee",
                                    "dt": "2018-05-16",
                                    "revenue": "18658"
                                },
                                {
                                    "menu": "tea",
                                    "dt": "2018-05-16",
                                    "revenue": "12127"
                                },
                                {
                                    "menu": "coffee",
                                    "dt": "2018-05-17",
                                    "revenue": "20844"
                                },
                                {
                                    "menu": "tea",
                                    "dt": "2018-05-17",
                                    "revenue": "16257"
                                },
                                {
                                    "menu": "coffee",
                                    "dt": "2018-05-18",
                                    "revenue": "23052"
                                },
                                {
                                    "menu": "tea",
                                    "dt": "2018-05-18",
                                    "revenue": "13623"
                                },
                                {
                                    "menu": "coffee",
                                    "dt": "2018-05-19",
                                    "revenue": "18327"
                                },
                                {
                                    "menu": "tea",
                                    "dt": "2018-05-19",
                                    "revenue": "17502"
                                },
                                {
                                    "menu": "coffee",
                                    "dt": "2018-05-20",
                                    "revenue": "9470"
                                },
                                {
                                    "menu": "tea",
                                    "dt": "2018-05-20",
                                    "revenue": "19920"
                                },
                                {
                                    "menu": "coffee",
                                    "dt": "2018-05-21",
                                    "revenue": "13886"
                                },
                                {
                                    "menu": "tea",
                                    "dt": "2018-05-21",
                                    "revenue": "15409"
                                },
                                {
                                    "menu": "coffee",
                                    "dt": "2018-05-22",
                                    "revenue": "20817"
                                },
                                {
                                    "menu": "tea",
                                    "dt": "2018-05-22",
                                    "revenue": "17031"
                                },
                                {
                                    "menu": "coffee",
                                    "dt": "2018-05-23",
                                    "revenue": "20714"
                                },
                                {
                                    "menu": "tea",
                                    "dt": "2018-05-23",
                                    "revenue": "16683"
                                },
                                {
                                    "menu": "coffee",
                                    "dt": "2018-05-24",
                                    "revenue": "13477"
                                },
                                {
                                    "menu": "tea",
                                    "dt": "2018-05-24",
                                    "revenue": "11555"
                                },
                                {
                                    "menu": "coffee",
                                    "dt": "2018-05-25",
                                    "revenue": "15869"
                                },
                                {
                                    "menu": "tea",
                                    "dt": "2018-05-25",
                                    "revenue": "11026"
                                },
                                {
                                    "menu": "coffee",
                                    "dt": "2018-05-26",
                                    "revenue": "14104"
                                },
                                {
                                    "menu": "tea",
                                    "dt": "2018-05-26",
                                    "revenue": "6109"
                                },
                                {
                                    "menu": "coffee",
                                    "dt": "2018-05-27",
                                    "revenue": "9075"
                                },
                                {
                                    "menu": "tea",
                                    "dt": "2018-05-27",
                                    "revenue": "5695"
                                },
                                {
                                    "menu": "coffee",
                                    "dt": "2018-05-28",
                                    "revenue": "13794"
                                },
                                {
                                    "menu": "tea",
                                    "dt": "2018-05-28",
                                    "revenue": "14891"
                                },
                                {
                                    "menu": "coffee",
                                    "dt": "2018-05-29",
                                    "revenue": "25248"
                                },
                                {
                                    "menu": "tea",
                                    "dt": "2018-05-29",
                                    "revenue": "15684"
                                },
                                {
                                    "menu": "coffee",
                                    "dt": "2018-05-30",
                                    "revenue": "13488"
                                },
                                {
                                    "menu": "tea",
                                    "dt": "2018-05-30",
                                    "revenue": "8059"
                                },
                                {
                                    "menu": "coffee",
                                    "dt": "2018-05-31",
                                    "revenue": "13639"
                                },
                                {
                                    "menu": "tea",
                                    "dt": "2018-05-31",
                                    "revenue": "7884"
                                },
                                {
                                    "menu": "coffee",
                                    "dt": "2018-06-01",
                                    "revenue": "19133"
                                },
                                {
                                    "menu": "tea",
                                    "dt": "2018-06-01",
                                    "revenue": "15527"
                                },
                                {
                                    "menu": "coffee",
                                    "dt": "2018-06-02",
                                    "revenue": "22376"
                                },
                                {
                                    "menu": "tea",
                                    "dt": "2018-06-02",
                                    "revenue": "6809"
                                },
                                {
                                    "menu": "coffee",
                                    "dt": "2018-06-03",
                                    "revenue": "9594"
                                },
                                {
                                    "menu": "tea",
                                    "dt": "2018-06-03",
                                    "revenue": "19509"
                                },
                                {
                                    "menu": "coffee",
                                    "dt": "2018-06-04",
                                    "revenue": "22678"
                                },
                                {
                                    "menu": "tea",
                                    "dt": "2018-06-04",
                                    "revenue": "17269"
                                },
                                {
                                    "menu": "coffee",
                                    "dt": "2018-06-05",
                                    "revenue": "15897"
                                },
                                {
                                    "menu": "tea",
                                    "dt": "2018-06-05",
                                    "revenue": "11636"
                                },
                                {
                                    "menu": "coffee",
                                    "dt": "2018-06-06",
                                    "revenue": "26895"
                                },
                                {
                                    "menu": "tea",
                                    "dt": "2018-06-06",
                                    "revenue": "11830"
                                },
                                {
                                    "menu": "coffee",
                                    "dt": "2018-06-07",
                                    "revenue": "7920"
                                },
                                {
                                    "menu": "tea",
                                    "dt": "2018-06-07",
                                    "revenue": "10653"
                                },
                                {
                                    "menu": "coffee",
                                    "dt": "2018-06-08",
                                    "revenue": "16206"
                                },
                                {
                                    "menu": "tea",
                                    "dt": "2018-06-08",
                                    "revenue": "19526"
                                },
                                {
                                    "menu": "coffee",
                                    "dt": "2018-06-09",
                                    "revenue": "17644"
                                },
                                {
                                    "menu": "tea",
                                    "dt": "2018-06-09",
                                    "revenue": "8099"
                                },
                                {
                                    "menu": "coffee",
                                    "dt": "2018-06-10",
                                    "revenue": "18983"
                                },
                                {
                                    "menu": "tea",
                                    "dt": "2018-06-10",
                                    "revenue": "10435"
                                },
                                {
                                    "menu": "coffee",
                                    "dt": "2018-06-11",
                                    "revenue": "24160"
                                },
                                {
                                    "menu": "tea",
                                    "dt": "2018-06-11",
                                    "revenue": "18973"
                                },
                                {
                                    "menu": "coffee",
                                    "dt": "2018-06-12",
                                    "revenue": "7229"
                                },
                                {
                                    "menu": "tea",
                                    "dt": "2018-06-12",
                                    "revenue": "17082"
                                },
                                {
                                    "menu": "coffee",
                                    "dt": "2018-06-13",
                                    "revenue": "10898"
                                },
                                {
                                    "menu": "tea",
                                    "dt": "2018-06-13",
                                    "revenue": "7377"
                                },
                                {
                                    "menu": "coffee",
                                    "dt": "2018-06-14",
                                    "revenue": "23896"
                                },
                                {
                                    "menu": "tea",
                                    "dt": "2018-06-14",
                                    "revenue": "8138"
                                },
                                {
                                    "menu": "coffee",
                                    "dt": "2018-06-15",
                                    "revenue": "16813"
                                },
                                {
                                    "menu": "tea",
                                    "dt": "2018-06-15",
                                    "revenue": "15159"
                                },
                                {
                                    "menu": "coffee",
                                    "dt": "2018-06-16",
                                    "revenue": "16852"
                                },
                                {
                                    "menu": "tea",
                                    "dt": "2018-06-16",
                                    "revenue": "13892"
                                },
                                {
                                    "menu": "coffee",
                                    "dt": "2018-06-17",
                                    "revenue": "15797"
                                },
                                {
                                    "menu": "tea",
                                    "dt": "2018-06-17",
                                    "revenue": "17593"
                                },
                                {
                                    "menu": "coffee",
                                    "dt": "2018-06-18",
                                    "revenue": "8736"
                                },
                                {
                                    "menu": "tea",
                                    "dt": "2018-06-18",
                                    "revenue": "19352"
                                },
                                {
                                    "menu": "coffee",
                                    "dt": "2018-06-19",
                                    "revenue": "15269"
                                },
                                {
                                    "menu": "tea",
                                    "dt": "2018-06-19",
                                    "revenue": "5220"
                                },
                                {
                                    "menu": "coffee",
                                    "dt": "2018-06-20",
                                    "revenue": "11359"
                                },
                                {
                                    "menu": "tea",
                                    "dt": "2018-06-20",
                                    "revenue": "12036"
                                },
                                {
                                    "menu": "coffee",
                                    "dt": "2018-06-21",
                                    "revenue": "14472"
                                },
                                {
                                    "menu": "tea",
                                    "dt": "2018-06-21",
                                    "revenue": "8361"
                                },
                                {
                                    "menu": "coffee",
                                    "dt": "2018-06-22",
                                    "revenue": "11710"
                                },
                                {
                                    "menu": "tea",
                                    "dt": "2018-06-22",
                                    "revenue": "11295"
                                },
                                {
                                    "menu": "coffee",
                                    "dt": "2018-06-23",
                                    "revenue": "26740"
                                },
                                {
                                    "menu": "tea",
                                    "dt": "2018-06-23",
                                    "revenue": "18189"
                                },
                                {
                                    "menu": "coffee",
                                    "dt": "2018-06-24",
                                    "revenue": "24029"
                                },
                                {
                                    "menu": "tea",
                                    "dt": "2018-06-24",
                                    "revenue": "6132"
                                },
                                {
                                    "menu": "coffee",
                                    "dt": "2018-06-25",
                                    "revenue": "23443"
                                },
                                {
                                    "menu": "tea",
                                    "dt": "2018-06-25",
                                    "revenue": "12352"
                                },
                                {
                                    "menu": "coffee",
                                    "dt": "2018-06-26",
                                    "revenue": "19210"
                                },
                                {
                                    "menu": "tea",
                                    "dt": "2018-06-26",
                                    "revenue": "8371"
                                },
                                {
                                    "menu": "coffee",
                                    "dt": "2018-06-27",
                                    "revenue": "19390"
                                },
                                {
                                    "menu": "tea",
                                    "dt": "2018-06-27",
                                    "revenue": "18587"
                                },
                                {
                                    "menu": "coffee",
                                    "dt": "2018-06-28",
                                    "revenue": "9195"
                                },
                                {
                                    "menu": "tea",
                                    "dt": "2018-06-28",
                                    "revenue": "8685"
                                },
                                {
                                    "menu": "coffee",
                                    "dt": "2018-06-29",
                                    "revenue": "15850"
                                },
                                {
                                    "menu": "tea",
                                    "dt": "2018-06-29",
                                    "revenue": "19425"
                                },
                                {
                                    "menu": "coffee",
                                    "dt": "2018-06-30",
                                    "revenue": "13407"
                                },
                                {
                                    "menu": "tea",
                                    "dt": "2018-06-30",
                                    "revenue": "15634"
                                },
                                {
                                    "menu": "coffee",
                                    "dt": "2018-07-01",
                                    "revenue": "22079"
                                },
                                {
                                    "menu": "tea",
                                    "dt": "2018-07-01",
                                    "revenue": "5899"
                                },
                                {
                                    "menu": "coffee",
                                    "dt": "2018-07-02",
                                    "revenue": "16928"
                                },
                                {
                                    "menu": "tea",
                                    "dt": "2018-07-02",
                                    "revenue": "6984"
                                },
                                {
                                    "menu": "coffee",
                                    "dt": "2018-07-03",
                                    "revenue": "19842"
                                },
                                {
                                    "menu": "tea",
                                    "dt": "2018-07-03",
                                    "revenue": "12424"
                                },
                                {
                                    "menu": "coffee",
                                    "dt": "2018-07-04",
                                    "revenue": "12803"
                                },
                                {
                                    "menu": "tea",
                                    "dt": "2018-07-04",
                                    "revenue": "8014"
                                },
                                {
                                    "menu": "coffee",
                                    "dt": "2018-07-05",
                                    "revenue": "14031"
                                },
                                {
                                    "menu": "tea",
                                    "dt": "2018-07-05",
                                    "revenue": "15492"
                                },
                                {
                                    "menu": "coffee",
                                    "dt": "2018-07-06",
                                    "revenue": "14121"
                                },
                                {
                                    "menu": "tea",
                                    "dt": "2018-07-06",
                                    "revenue": "6990"
                                },
                                {
                                    "menu": "coffee",
                                    "dt": "2018-07-07",
                                    "revenue": "8555"
                                },
                                {
                                    "menu": "tea",
                                    "dt": "2018-07-07",
                                    "revenue": "17651"
                                },
                                {
                                    "menu": "coffee",
                                    "dt": "2018-07-08",
                                    "revenue": "16993"
                                },
                                {
                                    "menu": "tea",
                                    "dt": "2018-07-08",
                                    "revenue": "9460"
                                },
                                {
                                    "menu": "coffee",
                                    "dt": "2018-07-09",
                                    "revenue": "26295"
                                },
                                {
                                    "menu": "tea",
                                    "dt": "2018-07-09",
                                    "revenue": "8517"
                                },
                                {
                                    "menu": "coffee",
                                    "dt": "2018-07-10",
                                    "revenue": "10867"
                                },
                                {
                                    "menu": "tea",
                                    "dt": "2018-07-10",
                                    "revenue": "7633"
                                },
                                {
                                    "menu": "coffee",
                                    "dt": "2018-07-11",
                                    "revenue": "10425"
                                },
                                {
                                    "menu": "tea",
                                    "dt": "2018-07-11",
                                    "revenue": "7345"
                                },
                                {
                                    "menu": "coffee",
                                    "dt": "2018-07-12",
                                    "revenue": "22942"
                                },
                                {
                                    "menu": "tea",
                                    "dt": "2018-07-12",
                                    "revenue": "8802"
                                },
                                {
                                    "menu": "coffee",
                                    "dt": "2018-07-13",
                                    "revenue": "17448"
                                },
                                {
                                    "menu": "tea",
                                    "dt": "2018-07-13",
                                    "revenue": "8767"
                                },
                                {
                                    "menu": "coffee",
                                    "dt": "2018-07-14",
                                    "revenue": "23369"
                                },
                                {
                                    "menu": "tea",
                                    "dt": "2018-07-14",
                                    "revenue": "13048"
                                },
                                {
                                    "menu": "coffee",
                                    "dt": "2018-07-15",
                                    "revenue": "24218"
                                },
                                {
                                    "menu": "tea",
                                    "dt": "2018-07-15",
                                    "revenue": "18688"
                                },
                                {
                                    "menu": "coffee",
                                    "dt": "2018-07-16",
                                    "revenue": "8238"
                                },
                                {
                                    "menu": "tea",
                                    "dt": "2018-07-16",
                                    "revenue": "17099"
                                },
                                {
                                    "menu": "coffee",
                                    "dt": "2018-07-17",
                                    "revenue": "10148"
                                },
                                {
                                    "menu": "tea",
                                    "dt": "2018-07-17",
                                    "revenue": "16923"
                                },
                                {
                                    "menu": "coffee",
                                    "dt": "2018-07-18",
                                    "revenue": "8476"
                                },
                                {
                                    "menu": "tea",
                                    "dt": "2018-07-18",
                                    "revenue": "14938"
                                },
                                {
                                    "menu": "coffee",
                                    "dt": "2018-07-19",
                                    "revenue": "7481"
                                },
                                {
                                    "menu": "tea",
                                    "dt": "2018-07-19",
                                    "revenue": "19319"
                                },
                                {
                                    "menu": "coffee",
                                    "dt": "2018-07-20",
                                    "revenue": "13289"
                                },
                                {
                                    "menu": "tea",
                                    "dt": "2018-07-20",
                                    "revenue": "7699"
                                },
                                {
                                    "menu": "coffee",
                                    "dt": "2018-07-21",
                                    "revenue": "14762"
                                },
                                {
                                    "menu": "tea",
                                    "dt": "2018-07-21",
                                    "revenue": "8966"
                                },
                                {
                                    "menu": "coffee",
                                    "dt": "2018-07-22",
                                    "revenue": "26969"
                                },
                                {
                                    "menu": "tea",
                                    "dt": "2018-07-22",
                                    "revenue": "6571"
                                },
                                {
                                    "menu": "coffee",
                                    "dt": "2018-07-23",
                                    "revenue": "18769"
                                },
                                {
                                    "menu": "tea",
                                    "dt": "2018-07-23",
                                    "revenue": "9898"
                                },
                                {
                                    "menu": "coffee",
                                    "dt": "2018-07-24",
                                    "revenue": "12299"
                                },
                                {
                                    "menu": "tea",
                                    "dt": "2018-07-24",
                                    "revenue": "15056"
                                },
                                {
                                    "menu": "coffee",
                                    "dt": "2018-07-25",
                                    "revenue": "18590"
                                },
                                {
                                    "menu": "tea",
                                    "dt": "2018-07-25",
                                    "revenue": "8529"
                                },
                                {
                                    "menu": "coffee",
                                    "dt": "2018-07-26",
                                    "revenue": "18398"
                                },
                                {
                                    "menu": "tea",
                                    "dt": "2018-07-26",
                                    "revenue": "16883"
                                },
                                {
                                    "menu": "coffee",
                                    "dt": "2018-07-27",
                                    "revenue": "9990"
                                },
                                {
                                    "menu": "tea",
                                    "dt": "2018-07-27",
                                    "revenue": "16851"
                                },
                                {
                                    "menu": "coffee",
                                    "dt": "2018-07-28",
                                    "revenue": "16490"
                                },
                                {
                                    "menu": "tea",
                                    "dt": "2018-07-28",
                                    "revenue": "17198"
                                },
                                {
                                    "menu": "coffee",
                                    "dt": "2018-07-29",
                                    "revenue": "11707"
                                },
                                {
                                    "menu": "tea",
                                    "dt": "2018-07-29",
                                    "revenue": "9802"
                                },
                                {
                                    "menu": "coffee",
                                    "dt": "2018-07-30",
                                    "revenue": "9205"
                                },
                                {
                                    "menu": "tea",
                                    "dt": "2018-07-30",
                                    "revenue": "12950"
                                },
                                {
                                    "menu": "coffee",
                                    "dt": "2018-07-31",
                                    "revenue": "24846"
                                },
                                {
                                    "menu": "tea",
                                    "dt": "2018-07-31",
                                    "revenue": "19250"
                                },
                                {
                                    "menu": "coffee",
                                    "dt": "2018-08-01",
                                    "revenue": "23478"
                                },
                                {
                                    "menu": "tea",
                                    "dt": "2018-08-01",
                                    "revenue": "9195"
                                },
                                {
                                    "menu": "coffee",
                                    "dt": "2018-08-02",
                                    "revenue": "15964"
                                },
                                {
                                    "menu": "tea",
                                    "dt": "2018-08-02",
                                    "revenue": "14144"
                                },
                                {
                                    "menu": "coffee",
                                    "dt": "2018-08-03",
                                    "revenue": "26876"
                                },
                                {
                                    "menu": "tea",
                                    "dt": "2018-08-03",
                                    "revenue": "18350"
                                },
                                {
                                    "menu": "coffee",
                                    "dt": "2018-08-04",
                                    "revenue": "10220"
                                },
                                {
                                    "menu": "tea",
                                    "dt": "2018-08-04",
                                    "revenue": "6441"
                                },
                                {
                                    "menu": "coffee",
                                    "dt": "2018-08-05",
                                    "revenue": "26626"
                                },
                                {
                                    "menu": "tea",
                                    "dt": "2018-08-05",
                                    "revenue": "9119"
                                },
                                {
                                    "menu": "coffee",
                                    "dt": "2018-08-06",
                                    "revenue": "25391"
                                },
                                {
                                    "menu": "tea",
                                    "dt": "2018-08-06",
                                    "revenue": "7404"
                                },
                                {
                                    "menu": "coffee",
                                    "dt": "2018-08-07",
                                    "revenue": "8503"
                                },
                                {
                                    "menu": "tea",
                                    "dt": "2018-08-07",
                                    "revenue": "19900"
                                },
                                {
                                    "menu": "coffee",
                                    "dt": "2018-08-08",
                                    "revenue": "9424"
                                },
                                {
                                    "menu": "tea",
                                    "dt": "2018-08-08",
                                    "revenue": "7882"
                                },
                                {
                                    "menu": "coffee",
                                    "dt": "2018-08-09",
                                    "revenue": "16607"
                                },
                                {
                                    "menu": "tea",
                                    "dt": "2018-08-09",
                                    "revenue": "13262"
                                },
                                {
                                    "menu": "coffee",
                                    "dt": "2018-08-10",
                                    "revenue": "22563"
                                },
                                {
                                    "menu": "tea",
                                    "dt": "2018-08-10",
                                    "revenue": "14885"
                                },
                                {
                                    "menu": "coffee",
                                    "dt": "2018-08-11",
                                    "revenue": "24457"
                                },
                                {
                                    "menu": "tea",
                                    "dt": "2018-08-11",
                                    "revenue": "6110"
                                },
                                {
                                    "menu": "coffee",
                                    "dt": "2018-08-12",
                                    "revenue": "17657"
                                },
                                {
                                    "menu": "tea",
                                    "dt": "2018-08-12",
                                    "revenue": "19130"
                                },
                                {
                                    "menu": "coffee",
                                    "dt": "2018-08-13",
                                    "revenue": "15224"
                                },
                                {
                                    "menu": "tea",
                                    "dt": "2018-08-13",
                                    "revenue": "9127"
                                },
                                {
                                    "menu": "coffee",
                                    "dt": "2018-08-14",
                                    "revenue": "25227"
                                },
                                {
                                    "menu": "tea",
                                    "dt": "2018-08-14",
                                    "revenue": "15102"
                                },
                                {
                                    "menu": "coffee",
                                    "dt": "2018-08-15",
                                    "revenue": "22525"
                                },
                                {
                                    "menu": "tea",
                                    "dt": "2018-08-15",
                                    "revenue": "19908"
                                },
                                {
                                    "menu": "coffee",
                                    "dt": "2018-08-16",
                                    "revenue": "21497"
                                },
                                {
                                    "menu": "tea",
                                    "dt": "2018-08-16",
                                    "revenue": "17485"
                                },
                                {
                                    "menu": "coffee",
                                    "dt": "2018-08-17",
                                    "revenue": "15835"
                                },
                                {
                                    "menu": "tea",
                                    "dt": "2018-08-17",
                                    "revenue": "17290"
                                },
                                {
                                    "menu": "coffee",
                                    "dt": "2018-08-18",
                                    "revenue": "14693"
                                },
                                {
                                    "menu": "tea",
                                    "dt": "2018-08-18",
                                    "revenue": "13606"
                                },
                                {
                                    "menu": "coffee",
                                    "dt": "2018-08-19",
                                    "revenue": "19951"
                                },
                                {
                                    "menu": "tea",
                                    "dt": "2018-08-19",
                                    "revenue": "19376"
                                },
                                {
                                    "menu": "coffee",
                                    "dt": "2018-08-20",
                                    "revenue": "24472"
                                },
                                {
                                    "menu": "tea",
                                    "dt": "2018-08-20",
                                    "revenue": "9705"
                                },
                                {
                                    "menu": "coffee",
                                    "dt": "2018-08-21",
                                    "revenue": "14556"
                                },
                                {
                                    "menu": "tea",
                                    "dt": "2018-08-21",
                                    "revenue": "9293"
                                },
                                {
                                    "menu": "coffee",
                                    "dt": "2018-08-22",
                                    "revenue": "16569"
                                },
                                {
                                    "menu": "tea",
                                    "dt": "2018-08-22",
                                    "revenue": "7917"
                                },
                                {
                                    "menu": "coffee",
                                    "dt": "2018-08-23",
                                    "revenue": "9286"
                                },
                                {
                                    "menu": "tea",
                                    "dt": "2018-08-23",
                                    "revenue": "17078"
                                },
                                {
                                    "menu": "coffee",
                                    "dt": "2018-08-24",
                                    "revenue": "21031"
                                },
                                {
                                    "menu": "tea",
                                    "dt": "2018-08-24",
                                    "revenue": "11085"
                                },
                                {
                                    "menu": "coffee",
                                    "dt": "2018-08-25",
                                    "revenue": "7017"
                                },
                                {
                                    "menu": "tea",
                                    "dt": "2018-08-25",
                                    "revenue": "17542"
                                },
                                {
                                    "menu": "coffee",
                                    "dt": "2018-08-26",
                                    "revenue": "25098"
                                },
                                {
                                    "menu": "tea",
                                    "dt": "2018-08-26",
                                    "revenue": "18594"
                                },
                                {
                                    "menu": "coffee",
                                    "dt": "2018-08-27",
                                    "revenue": "16867"
                                },
                                {
                                    "menu": "tea",
                                    "dt": "2018-08-27",
                                    "revenue": "8252"
                                },
                                {
                                    "menu": "coffee",
                                    "dt": "2018-08-28",
                                    "revenue": "20978"
                                },
                                {
                                    "menu": "tea",
                                    "dt": "2018-08-28",
                                    "revenue": "13976"
                                },
                                {
                                    "menu": "coffee",
                                    "dt": "2018-08-29",
                                    "revenue": "23917"
                                },
                                {
                                    "menu": "tea",
                                    "dt": "2018-08-29",
                                    "revenue": "19596"
                                },
                                {
                                    "menu": "coffee",
                                    "dt": "2018-08-30",
                                    "revenue": "14624"
                                },
                                {
                                    "menu": "tea",
                                    "dt": "2018-08-30",
                                    "revenue": "18867"
                                },
                                {
                                    "menu": "coffee",
                                    "dt": "2018-08-31",
                                    "revenue": "22187"
                                },
                                {
                                    "menu": "tea",
                                    "dt": "2018-08-31",
                                    "revenue": "15345"
                                },
                                {
                                    "menu": "coffee",
                                    "dt": "2018-09-01",
                                    "revenue": "7503"
                                },
                                {
                                    "menu": "tea",
                                    "dt": "2018-09-01",
                                    "revenue": "17462"
                                },
                                {
                                    "menu": "coffee",
                                    "dt": "2018-09-02",
                                    "revenue": "18417"
                                },
                                {
                                    "menu": "tea",
                                    "dt": "2018-09-02",
                                    "revenue": "7526"
                                },
                                {
                                    "menu": "coffee",
                                    "dt": "2018-09-03",
                                    "revenue": "10915"
                                },
                                {
                                    "menu": "tea",
                                    "dt": "2018-09-03",
                                    "revenue": "8635"
                                },
                                {
                                    "menu": "coffee",
                                    "dt": "2018-09-04",
                                    "revenue": "23743"
                                },
                                {
                                    "menu": "tea",
                                    "dt": "2018-09-04",
                                    "revenue": "17024"
                                },
                                {
                                    "menu": "coffee",
                                    "dt": "2018-09-05",
                                    "revenue": "24347"
                                },
                                {
                                    "menu": "tea",
                                    "dt": "2018-09-05",
                                    "revenue": "18977"
                                },
                                {
                                    "menu": "coffee",
                                    "dt": "2018-09-06",
                                    "revenue": "24665"
                                },
                                {
                                    "menu": "tea",
                                    "dt": "2018-09-06",
                                    "revenue": "5289"
                                },
                                {
                                    "menu": "coffee",
                                    "dt": "2018-09-07",
                                    "revenue": "26848"
                                },
                                {
                                    "menu": "tea",
                                    "dt": "2018-09-07",
                                    "revenue": "12643"
                                },
                                {
                                    "menu": "coffee",
                                    "dt": "2018-09-08",
                                    "revenue": "7165"
                                },
                                {
                                    "menu": "tea",
                                    "dt": "2018-09-08",
                                    "revenue": "9628"
                                },
                                {
                                    "menu": "coffee",
                                    "dt": "2018-09-09",
                                    "revenue": "13974"
                                },
                                {
                                    "menu": "tea",
                                    "dt": "2018-09-09",
                                    "revenue": "10306"
                                },
                                {
                                    "menu": "coffee",
                                    "dt": "2018-09-10",
                                    "revenue": "21121"
                                },
                                {
                                    "menu": "tea",
                                    "dt": "2018-09-10",
                                    "revenue": "12423"
                                },
                                {
                                    "menu": "coffee",
                                    "dt": "2018-09-11",
                                    "revenue": "12318"
                                },
                                {
                                    "menu": "tea",
                                    "dt": "2018-09-11",
                                    "revenue": "17798"
                                },
                                {
                                    "menu": "coffee",
                                    "dt": "2018-09-12",
                                    "revenue": "19080"
                                },
                                {
                                    "menu": "tea",
                                    "dt": "2018-09-12",
                                    "revenue": "12429"
                                },
                                {
                                    "menu": "coffee",
                                    "dt": "2018-09-13",
                                    "revenue": "9414"
                                },
                                {
                                    "menu": "tea",
                                    "dt": "2018-09-13",
                                    "revenue": "12026"
                                },
                                {
                                    "menu": "coffee",
                                    "dt": "2018-09-14",
                                    "revenue": "18045"
                                },
                                {
                                    "menu": "tea",
                                    "dt": "2018-09-14",
                                    "revenue": "10329"
                                },
                                {
                                    "menu": "coffee",
                                    "dt": "2018-09-15",
                                    "revenue": "8298"
                                },
                                {
                                    "menu": "tea",
                                    "dt": "2018-09-15",
                                    "revenue": "6058"
                                },
                                {
                                    "menu": "coffee",
                                    "dt": "2018-09-16",
                                    "revenue": "23508"
                                },
                                {
                                    "menu": "tea",
                                    "dt": "2018-09-16",
                                    "revenue": "12049"
                                },
                                {
                                    "menu": "coffee",
                                    "dt": "2018-09-17",
                                    "revenue": "20980"
                                },
                                {
                                    "menu": "tea",
                                    "dt": "2018-09-17",
                                    "revenue": "13329"
                                },
                                {
                                    "menu": "coffee",
                                    "dt": "2018-09-18",
                                    "revenue": "15326"
                                },
                                {
                                    "menu": "tea",
                                    "dt": "2018-09-18",
                                    "revenue": "6860"
                                },
                                {
                                    "menu": "coffee",
                                    "dt": "2018-09-19",
                                    "revenue": "26562"
                                },
                                {
                                    "menu": "tea",
                                    "dt": "2018-09-19",
                                    "revenue": "15531"
                                },
                                {
                                    "menu": "coffee",
                                    "dt": "2018-09-20",
                                    "revenue": "14059"
                                },
                                {
                                    "menu": "tea",
                                    "dt": "2018-09-20",
                                    "revenue": "8848"
                                },
                                {
                                    "menu": "coffee",
                                    "dt": "2018-09-21",
                                    "revenue": "26441"
                                },
                                {
                                    "menu": "tea",
                                    "dt": "2018-09-21",
                                    "revenue": "17416"
                                },
                                {
                                    "menu": "coffee",
                                    "dt": "2018-09-22",
                                    "revenue": "26144"
                                },
                                {
                                    "menu": "tea",
                                    "dt": "2018-09-22",
                                    "revenue": "17756"
                                },
                                {
                                    "menu": "coffee",
                                    "dt": "2018-09-23",
                                    "revenue": "16321"
                                },
                                {
                                    "menu": "tea",
                                    "dt": "2018-09-23",
                                    "revenue": "9043"
                                },
                                {
                                    "menu": "coffee",
                                    "dt": "2018-09-24",
                                    "revenue": "26394"
                                },
                                {
                                    "menu": "tea",
                                    "dt": "2018-09-24",
                                    "revenue": "12081"
                                },
                                {
                                    "menu": "coffee",
                                    "dt": "2018-09-25",
                                    "revenue": "13424"
                                },
                                {
                                    "menu": "tea",
                                    "dt": "2018-09-25",
                                    "revenue": "6837"
                                },
                                {
                                    "menu": "coffee",
                                    "dt": "2018-09-26",
                                    "revenue": "11576"
                                },
                                {
                                    "menu": "tea",
                                    "dt": "2018-09-26",
                                    "revenue": "13434"
                                },
                                {
                                    "menu": "coffee",
                                    "dt": "2018-09-27",
                                    "revenue": "9353"
                                },
                                {
                                    "menu": "tea",
                                    "dt": "2018-09-27",
                                    "revenue": "17880"
                                },
                                {
                                    "menu": "coffee",
                                    "dt": "2018-09-28",
                                    "revenue": "11777"
                                },
                                {
                                    "menu": "tea",
                                    "dt": "2018-09-28",
                                    "revenue": "12737"
                                },
                                {
                                    "menu": "coffee",
                                    "dt": "2018-09-29",
                                    "revenue": "17500"
                                },
                                {
                                    "menu": "tea",
                                    "dt": "2018-09-29",
                                    "revenue": "19043"
                                },
                                {
                                    "menu": "coffee",
                                    "dt": "2018-09-30",
                                    "revenue": "20821"
                                },
                                {
                                    "menu": "tea",
                                    "dt": "2018-09-30",
                                    "revenue": "15885"
                                },
                                {
                                    "menu": "coffee",
                                    "dt": "2018-10-01",
                                    "revenue": "8469"
                                },
                                {
                                    "menu": "tea",
                                    "dt": "2018-10-01",
                                    "revenue": "9765"
                                },
                                {
                                    "menu": "coffee",
                                    "dt": "2018-10-02",
                                    "revenue": "8836"
                                },
                                {
                                    "menu": "tea",
                                    "dt": "2018-10-02",
                                    "revenue": "17327"
                                },
                                {
                                    "menu": "coffee",
                                    "dt": "2018-10-03",
                                    "revenue": "13214"
                                },
                                {
                                    "menu": "tea",
                                    "dt": "2018-10-03",
                                    "revenue": "9804"
                                },
                                {
                                    "menu": "coffee",
                                    "dt": "2018-10-04",
                                    "revenue": "7080"
                                },
                                {
                                    "menu": "tea",
                                    "dt": "2018-10-04",
                                    "revenue": "6659"
                                },
                                {
                                    "menu": "coffee",
                                    "dt": "2018-10-05",
                                    "revenue": "8320"
                                },
                                {
                                    "menu": "tea",
                                    "dt": "2018-10-05",
                                    "revenue": "13809"
                                },
                                {
                                    "menu": "coffee",
                                    "dt": "2018-10-06",
                                    "revenue": "10408"
                                },
                                {
                                    "menu": "tea",
                                    "dt": "2018-10-06",
                                    "revenue": "7592"
                                },
                                {
                                    "menu": "coffee",
                                    "dt": "2018-10-07",
                                    "revenue": "20469"
                                },
                                {
                                    "menu": "tea",
                                    "dt": "2018-10-07",
                                    "revenue": "8566"
                                },
                                {
                                    "menu": "coffee",
                                    "dt": "2018-10-08",
                                    "revenue": "8034"
                                },
                                {
                                    "menu": "tea",
                                    "dt": "2018-10-08",
                                    "revenue": "9549"
                                },
                                {
                                    "menu": "coffee",
                                    "dt": "2018-10-09",
                                    "revenue": "20669"
                                },
                                {
                                    "menu": "tea",
                                    "dt": "2018-10-09",
                                    "revenue": "7768"
                                },
                                {
                                    "menu": "coffee",
                                    "dt": "2018-10-10",
                                    "revenue": "23493"
                                },
                                {
                                    "menu": "tea",
                                    "dt": "2018-10-10",
                                    "revenue": "5466"
                                },
                                {
                                    "menu": "coffee",
                                    "dt": "2018-10-11",
                                    "revenue": "10578"
                                },
                                {
                                    "menu": "tea",
                                    "dt": "2018-10-11",
                                    "revenue": "14251"
                                },
                                {
                                    "menu": "coffee",
                                    "dt": "2018-10-12",
                                    "revenue": "16372"
                                },
                                {
                                    "menu": "tea",
                                    "dt": "2018-10-12",
                                    "revenue": "9206"
                                },
                                {
                                    "menu": "coffee",
                                    "dt": "2018-10-13",
                                    "revenue": "11790"
                                },
                                {
                                    "menu": "tea",
                                    "dt": "2018-10-13",
                                    "revenue": "6763"
                                },
                                {
                                    "menu": "coffee",
                                    "dt": "2018-10-14",
                                    "revenue": "19558"
                                },
                                {
                                    "menu": "tea",
                                    "dt": "2018-10-14",
                                    "revenue": "13329"
                                },
                                {
                                    "menu": "coffee",
                                    "dt": "2018-10-15",
                                    "revenue": "17638"
                                },
                                {
                                    "menu": "tea",
                                    "dt": "2018-10-15",
                                    "revenue": "16643"
                                },
                                {
                                    "menu": "coffee",
                                    "dt": "2018-10-16",
                                    "revenue": "15721"
                                },
                                {
                                    "menu": "tea",
                                    "dt": "2018-10-16",
                                    "revenue": "8291"
                                },
                                {
                                    "menu": "coffee",
                                    "dt": "2018-10-17",
                                    "revenue": "11475"
                                },
                                {
                                    "menu": "tea",
                                    "dt": "2018-10-17",
                                    "revenue": "14738"
                                },
                                {
                                    "menu": "coffee",
                                    "dt": "2018-10-18",
                                    "revenue": "10650"
                                },
                                {
                                    "menu": "tea",
                                    "dt": "2018-10-18",
                                    "revenue": "12970"
                                },
                                {
                                    "menu": "coffee",
                                    "dt": "2018-10-19",
                                    "revenue": "7765"
                                },
                                {
                                    "menu": "tea",
                                    "dt": "2018-10-19",
                                    "revenue": "15685"
                                },
                                {
                                    "menu": "coffee",
                                    "dt": "2018-10-20",
                                    "revenue": "22873"
                                },
                                {
                                    "menu": "tea",
                                    "dt": "2018-10-20",
                                    "revenue": "9227"
                                },
                                {
                                    "menu": "coffee",
                                    "dt": "2018-10-21",
                                    "revenue": "20179"
                                },
                                {
                                    "menu": "tea",
                                    "dt": "2018-10-21",
                                    "revenue": "10714"
                                },
                                {
                                    "menu": "coffee",
                                    "dt": "2018-10-22",
                                    "revenue": "13976"
                                },
                                {
                                    "menu": "tea",
                                    "dt": "2018-10-22",
                                    "revenue": "5118"
                                },
                                {
                                    "menu": "coffee",
                                    "dt": "2018-10-23",
                                    "revenue": "24539"
                                },
                                {
                                    "menu": "tea",
                                    "dt": "2018-10-23",
                                    "revenue": "19522"
                                },
                                {
                                    "menu": "coffee",
                                    "dt": "2018-10-24",
                                    "revenue": "12228"
                                },
                                {
                                    "menu": "tea",
                                    "dt": "2018-10-24",
                                    "revenue": "18473"
                                },
                                {
                                    "menu": "coffee",
                                    "dt": "2018-10-25",
                                    "revenue": "22575"
                                },
                                {
                                    "menu": "tea",
                                    "dt": "2018-10-25",
                                    "revenue": "8769"
                                },
                                {
                                    "menu": "coffee",
                                    "dt": "2018-10-26",
                                    "revenue": "7702"
                                },
                                {
                                    "menu": "tea",
                                    "dt": "2018-10-26",
                                    "revenue": "12228"
                                },
                                {
                                    "menu": "coffee",
                                    "dt": "2018-10-27",
                                    "revenue": "20289"
                                },
                                {
                                    "menu": "tea",
                                    "dt": "2018-10-27",
                                    "revenue": "9551"
                                },
                                {
                                    "menu": "coffee",
                                    "dt": "2018-10-28",
                                    "revenue": "13340"
                                },
                                {
                                    "menu": "tea",
                                    "dt": "2018-10-28",
                                    "revenue": "19450"
                                },
                                {
                                    "menu": "coffee",
                                    "dt": "2018-10-29",
                                    "revenue": "17003"
                                },
                                {
                                    "menu": "tea",
                                    "dt": "2018-10-29",
                                    "revenue": "17026"
                                },
                                {
                                    "menu": "coffee",
                                    "dt": "2018-10-30",
                                    "revenue": "16871"
                                },
                                {
                                    "menu": "tea",
                                    "dt": "2018-10-30",
                                    "revenue": "6465"
                                },
                                {
                                    "menu": "coffee",
                                    "dt": "2018-10-31",
                                    "revenue": "23826"
                                },
                                {
                                    "menu": "tea",
                                    "dt": "2018-10-31",
                                    "revenue": "19673"
                                },
                                {
                                    "menu": "coffee",
                                    "dt": "2018-11-01",
                                    "revenue": "19270"
                                },
                                {
                                    "menu": "tea",
                                    "dt": "2018-11-01",
                                    "revenue": "18604"
                                },
                                {
                                    "menu": "coffee",
                                    "dt": "2018-11-02",
                                    "revenue": "25795"
                                },
                                {
                                    "menu": "tea",
                                    "dt": "2018-11-02",
                                    "revenue": "14679"
                                },
                                {
                                    "menu": "coffee",
                                    "dt": "2018-11-03",
                                    "revenue": "7594"
                                },
                                {
                                    "menu": "tea",
                                    "dt": "2018-11-03",
                                    "revenue": "10930"
                                },
                                {
                                    "menu": "coffee",
                                    "dt": "2018-11-04",
                                    "revenue": "12899"
                                },
                                {
                                    "menu": "tea",
                                    "dt": "2018-11-04",
                                    "revenue": "9039"
                                },
                                {
                                    "menu": "coffee",
                                    "dt": "2018-11-05",
                                    "revenue": "20694"
                                },
                                {
                                    "menu": "tea",
                                    "dt": "2018-11-05",
                                    "revenue": "10354"
                                },
                                {
                                    "menu": "coffee",
                                    "dt": "2018-11-06",
                                    "revenue": "11845"
                                },
                                {
                                    "menu": "tea",
                                    "dt": "2018-11-06",
                                    "revenue": "13529"
                                },
                                {
                                    "menu": "coffee",
                                    "dt": "2018-11-07",
                                    "revenue": "26291"
                                },
                                {
                                    "menu": "tea",
                                    "dt": "2018-11-07",
                                    "revenue": "14703"
                                },
                                {
                                    "menu": "coffee",
                                    "dt": "2018-11-08",
                                    "revenue": "8932"
                                },
                                {
                                    "menu": "tea",
                                    "dt": "2018-11-08",
                                    "revenue": "12268"
                                },
                                {
                                    "menu": "coffee",
                                    "dt": "2018-11-09",
                                    "revenue": "18481"
                                },
                                {
                                    "menu": "tea",
                                    "dt": "2018-11-09",
                                    "revenue": "16957"
                                },
                                {
                                    "menu": "coffee",
                                    "dt": "2018-11-10",
                                    "revenue": "22457"
                                },
                                {
                                    "menu": "tea",
                                    "dt": "2018-11-10",
                                    "revenue": "10083"
                                },
                                {
                                    "menu": "coffee",
                                    "dt": "2018-11-11",
                                    "revenue": "8929"
                                },
                                {
                                    "menu": "tea",
                                    "dt": "2018-11-11",
                                    "revenue": "5824"
                                },
                                {
                                    "menu": "coffee",
                                    "dt": "2018-11-12",
                                    "revenue": "20175"
                                },
                                {
                                    "menu": "tea",
                                    "dt": "2018-11-12",
                                    "revenue": "14238"
                                },
                                {
                                    "menu": "coffee",
                                    "dt": "2018-11-13",
                                    "revenue": "12393"
                                },
                                {
                                    "menu": "tea",
                                    "dt": "2018-11-13",
                                    "revenue": "11290"
                                },
                                {
                                    "menu": "coffee",
                                    "dt": "2018-11-14",
                                    "revenue": "8579"
                                },
                                {
                                    "menu": "tea",
                                    "dt": "2018-11-14",
                                    "revenue": "15206"
                                },
                                {
                                    "menu": "coffee",
                                    "dt": "2018-11-15",
                                    "revenue": "12307"
                                },
                                {
                                    "menu": "tea",
                                    "dt": "2018-11-15",
                                    "revenue": "18998"
                                },
                                {
                                    "menu": "coffee",
                                    "dt": "2018-11-16",
                                    "revenue": "12680"
                                },
                                {
                                    "menu": "tea",
                                    "dt": "2018-11-16",
                                    "revenue": "9219"
                                },
                                {
                                    "menu": "coffee",
                                    "dt": "2018-11-17",
                                    "revenue": "23856"
                                },
                                {
                                    "menu": "tea",
                                    "dt": "2018-11-17",
                                    "revenue": "7574"
                                },
                                {
                                    "menu": "coffee",
                                    "dt": "2018-11-18",
                                    "revenue": "12224"
                                },
                                {
                                    "menu": "tea",
                                    "dt": "2018-11-18",
                                    "revenue": "9577"
                                },
                                {
                                    "menu": "coffee",
                                    "dt": "2018-11-19",
                                    "revenue": "18820"
                                },
                                {
                                    "menu": "tea",
                                    "dt": "2018-11-19",
                                    "revenue": "7339"
                                },
                                {
                                    "menu": "coffee",
                                    "dt": "2018-11-20",
                                    "revenue": "14892"
                                },
                                {
                                    "menu": "tea",
                                    "dt": "2018-11-20",
                                    "revenue": "11449"
                                },
                                {
                                    "menu": "coffee",
                                    "dt": "2018-11-21",
                                    "revenue": "21320"
                                },
                                {
                                    "menu": "tea",
                                    "dt": "2018-11-21",
                                    "revenue": "14748"
                                },
                                {
                                    "menu": "coffee",
                                    "dt": "2018-11-22",
                                    "revenue": "18725"
                                },
                                {
                                    "menu": "tea",
                                    "dt": "2018-11-22",
                                    "revenue": "11902"
                                },
                                {
                                    "menu": "coffee",
                                    "dt": "2018-11-23",
                                    "revenue": "20199"
                                },
                                {
                                    "menu": "tea",
                                    "dt": "2018-11-23",
                                    "revenue": "11508"
                                },
                                {
                                    "menu": "coffee",
                                    "dt": "2018-11-24",
                                    "revenue": "17182"
                                },
                                {
                                    "menu": "tea",
                                    "dt": "2018-11-24",
                                    "revenue": "14020"
                                },
                                {
                                    "menu": "coffee",
                                    "dt": "2018-11-25",
                                    "revenue": "23717"
                                },
                                {
                                    "menu": "tea",
                                    "dt": "2018-11-25",
                                    "revenue": "5185"
                                },
                                {
                                    "menu": "coffee",
                                    "dt": "2018-11-26",
                                    "revenue": "15467"
                                },
                                {
                                    "menu": "tea",
                                    "dt": "2018-11-26",
                                    "revenue": "12484"
                                },
                                {
                                    "menu": "coffee",
                                    "dt": "2018-11-27",
                                    "revenue": "11093"
                                },
                                {
                                    "menu": "tea",
                                    "dt": "2018-11-27",
                                    "revenue": "12015"
                                },
                                {
                                    "menu": "coffee",
                                    "dt": "2018-11-28",
                                    "revenue": "21282"
                                },
                                {
                                    "menu": "tea",
                                    "dt": "2018-11-28",
                                    "revenue": "9541"
                                },
                                {
                                    "menu": "coffee",
                                    "dt": "2018-11-29",
                                    "revenue": "24020"
                                },
                                {
                                    "menu": "tea",
                                    "dt": "2018-11-29",
                                    "revenue": "5197"
                                },
                                {
                                    "menu": "coffee",
                                    "dt": "2018-11-30",
                                    "revenue": "12026"
                                },
                                {
                                    "menu": "tea",
                                    "dt": "2018-11-30",
                                    "revenue": "7405"
                                },
                                {
                                    "menu": "coffee",
                                    "dt": "2018-12-01",
                                    "revenue": "15425"
                                },
                                {
                                    "menu": "tea",
                                    "dt": "2018-12-01",
                                    "revenue": "11483"
                                },
                                {
                                    "menu": "coffee",
                                    "dt": "2018-12-02",
                                    "revenue": "13045"
                                },
                                {
                                    "menu": "tea",
                                    "dt": "2018-12-02",
                                    "revenue": "8941"
                                },
                                {
                                    "menu": "coffee",
                                    "dt": "2018-12-03",
                                    "revenue": "25329"
                                },
                                {
                                    "menu": "tea",
                                    "dt": "2018-12-03",
                                    "revenue": "16322"
                                },
                                {
                                    "menu": "coffee",
                                    "dt": "2018-12-04",
                                    "revenue": "15690"
                                },
                                {
                                    "menu": "tea",
                                    "dt": "2018-12-04",
                                    "revenue": "18158"
                                },
                                {
                                    "menu": "coffee",
                                    "dt": "2018-12-05",
                                    "revenue": "7044"
                                },
                                {
                                    "menu": "tea",
                                    "dt": "2018-12-05",
                                    "revenue": "6265"
                                },
                                {
                                    "menu": "coffee",
                                    "dt": "2018-12-06",
                                    "revenue": "24819"
                                },
                                {
                                    "menu": "tea",
                                    "dt": "2018-12-06",
                                    "revenue": "7505"
                                },
                                {
                                    "menu": "coffee",
                                    "dt": "2018-12-07",
                                    "revenue": "7202"
                                },
                                {
                                    "menu": "tea",
                                    "dt": "2018-12-07",
                                    "revenue": "19961"
                                },
                                {
                                    "menu": "coffee",
                                    "dt": "2018-12-08",
                                    "revenue": "14163"
                                },
                                {
                                    "menu": "tea",
                                    "dt": "2018-12-08",
                                    "revenue": "16201"
                                },
                                {
                                    "menu": "coffee",
                                    "dt": "2018-12-09",
                                    "revenue": "19805"
                                },
                                {
                                    "menu": "tea",
                                    "dt": "2018-12-09",
                                    "revenue": "14813"
                                },
                                {
                                    "menu": "coffee",
                                    "dt": "2018-12-10",
                                    "revenue": "18314"
                                },
                                {
                                    "menu": "tea",
                                    "dt": "2018-12-10",
                                    "revenue": "16177"
                                },
                                {
                                    "menu": "coffee",
                                    "dt": "2018-12-11",
                                    "revenue": "22868"
                                },
                                {
                                    "menu": "tea",
                                    "dt": "2018-12-11",
                                    "revenue": "7988"
                                },
                                {
                                    "menu": "coffee",
                                    "dt": "2018-12-12",
                                    "revenue": "26723"
                                },
                                {
                                    "menu": "tea",
                                    "dt": "2018-12-12",
                                    "revenue": "6933"
                                },
                                {
                                    "menu": "coffee",
                                    "dt": "2018-12-13",
                                    "revenue": "13740"
                                },
                                {
                                    "menu": "tea",
                                    "dt": "2018-12-13",
                                    "revenue": "12613"
                                },
                                {
                                    "menu": "coffee",
                                    "dt": "2018-12-14",
                                    "revenue": "25378"
                                },
                                {
                                    "menu": "tea",
                                    "dt": "2018-12-14",
                                    "revenue": "8877"
                                },
                                {
                                    "menu": "coffee",
                                    "dt": "2018-12-15",
                                    "revenue": "7559"
                                },
                                {
                                    "menu": "tea",
                                    "dt": "2018-12-15",
                                    "revenue": "15494"
                                },
                                {
                                    "menu": "coffee",
                                    "dt": "2018-12-16",
                                    "revenue": "24977"
                                },
                                {
                                    "menu": "tea",
                                    "dt": "2018-12-16",
                                    "revenue": "19077"
                                },
                                {
                                    "menu": "coffee",
                                    "dt": "2018-12-17",
                                    "revenue": "15219"
                                },
                                {
                                    "menu": "tea",
                                    "dt": "2018-12-17",
                                    "revenue": "17860"
                                },
                                {
                                    "menu": "coffee",
                                    "dt": "2018-12-18",
                                    "revenue": "20548"
                                },
                                {
                                    "menu": "tea",
                                    "dt": "2018-12-18",
                                    "revenue": "6214"
                                },
                                {
                                    "menu": "coffee",
                                    "dt": "2018-12-19",
                                    "revenue": "15168"
                                },
                                {
                                    "menu": "tea",
                                    "dt": "2018-12-19",
                                    "revenue": "6705"
                                },
                                {
                                    "menu": "coffee",
                                    "dt": "2018-12-20",
                                    "revenue": "23130"
                                },
                                {
                                    "menu": "tea",
                                    "dt": "2018-12-20",
                                    "revenue": "19248"
                                },
                                {
                                    "menu": "coffee",
                                    "dt": "2018-12-21",
                                    "revenue": "25699"
                                },
                                {
                                    "menu": "tea",
                                    "dt": "2018-12-21",
                                    "revenue": "18329"
                                },
                                {
                                    "menu": "coffee",
                                    "dt": "2018-12-22",
                                    "revenue": "16376"
                                },
                                {
                                    "menu": "tea",
                                    "dt": "2018-12-22",
                                    "revenue": "19406"
                                },
                                {
                                    "menu": "coffee",
                                    "dt": "2018-12-23",
                                    "revenue": "22243"
                                },
                                {
                                    "menu": "tea",
                                    "dt": "2018-12-23",
                                    "revenue": "13153"
                                },
                                {
                                    "menu": "coffee",
                                    "dt": "2018-12-24",
                                    "revenue": "19662"
                                },
                                {
                                    "menu": "tea",
                                    "dt": "2018-12-24",
                                    "revenue": "6638"
                                },
                                {
                                    "menu": "coffee",
                                    "dt": "2018-12-25",
                                    "revenue": "11011"
                                },
                                {
                                    "menu": "tea",
                                    "dt": "2018-12-25",
                                    "revenue": "19326"
                                },
                                {
                                    "menu": "coffee",
                                    "dt": "2018-12-26",
                                    "revenue": "9038"
                                },
                                {
                                    "menu": "tea",
                                    "dt": "2018-12-26",
                                    "revenue": "5207"
                                },
                                {
                                    "menu": "coffee",
                                    "dt": "2018-12-27",
                                    "revenue": "23549"
                                },
                                {
                                    "menu": "tea",
                                    "dt": "2018-12-27",
                                    "revenue": "9533"
                                },
                                {
                                    "menu": "coffee",
                                    "dt": "2018-12-28",
                                    "revenue": "21703"
                                },
                                {
                                    "menu": "tea",
                                    "dt": "2018-12-28",
                                    "revenue": "10504"
                                },
                                {
                                    "menu": "coffee",
                                    "dt": "2018-12-29",
                                    "revenue": "9827"
                                },
                                {
                                    "menu": "tea",
                                    "dt": "2018-12-29",
                                    "revenue": "16193"
                                },
                                {
                                    "menu": "coffee",
                                    "dt": "2018-12-30",
                                    "revenue": "8959"
                                },
                                {
                                    "menu": "tea",
                                    "dt": "2018-12-30",
                                    "revenue": "14275"
                                },
                                {
                                    "menu": "coffee",
                                    "dt": "2018-12-31",
                                    "revenue": "7753"
                                },
                                {
                                    "menu": "tea",
                                    "dt": "2018-12-31",
                                    "revenue": "14154"
                                },
                                {
                                    "menu": "coffee",
                                    "dt": "2019-01-01",
                                    "revenue": "10091"
                                },
                                {
                                    "menu": "tea",
                                    "dt": "2019-01-01",
                                    "revenue": "15614"
                                },
                                {
                                    "menu": "coffee",
                                    "dt": "2019-01-02",
                                    "revenue": "24392"
                                },
                                {
                                    "menu": "tea",
                                    "dt": "2019-01-02",
                                    "revenue": "17415"
                                },
                                {
                                    "menu": "coffee",
                                    "dt": "2019-01-03",
                                    "revenue": "18413"
                                },
                                {
                                    "menu": "tea",
                                    "dt": "2019-01-03",
                                    "revenue": "8280"
                                },
                                {
                                    "menu": "coffee",
                                    "dt": "2019-01-04",
                                    "revenue": "21958"
                                },
                                {
                                    "menu": "tea",
                                    "dt": "2019-01-04",
                                    "revenue": "19780"
                                },
                                {
                                    "menu": "coffee",
                                    "dt": "2019-01-05",
                                    "revenue": "26905"
                                },
                                {
                                    "menu": "tea",
                                    "dt": "2019-01-05",
                                    "revenue": "9625"
                                },
                                {
                                    "menu": "coffee",
                                    "dt": "2019-01-06",
                                    "revenue": "10573"
                                },
                                {
                                    "menu": "tea",
                                    "dt": "2019-01-06",
                                    "revenue": "18078"
                                },
                                {
                                    "menu": "coffee",
                                    "dt": "2019-01-07",
                                    "revenue": "17336"
                                },
                                {
                                    "menu": "tea",
                                    "dt": "2019-01-07",
                                    "revenue": "5355"
                                },
                                {
                                    "menu": "coffee",
                                    "dt": "2019-01-08",
                                    "revenue": "13514"
                                },
                                {
                                    "menu": "tea",
                                    "dt": "2019-01-08",
                                    "revenue": "13804"
                                },
                                {
                                    "menu": "coffee",
                                    "dt": "2019-01-09",
                                    "revenue": "23767"
                                },
                                {
                                    "menu": "tea",
                                    "dt": "2019-01-09",
                                    "revenue": "11659"
                                },
                                {
                                    "menu": "coffee",
                                    "dt": "2019-01-10",
                                    "revenue": "9307"
                                },
                                {
                                    "menu": "tea",
                                    "dt": "2019-01-10",
                                    "revenue": "11657"
                                },
                                {
                                    "menu": "coffee",
                                    "dt": "2019-01-11",
                                    "revenue": "9762"
                                },
                                {
                                    "menu": "tea",
                                    "dt": "2019-01-11",
                                    "revenue": "12559"
                                },
                                {
                                    "menu": "coffee",
                                    "dt": "2019-01-12",
                                    "revenue": "11791"
                                },
                                {
                                    "menu": "tea",
                                    "dt": "2019-01-12",
                                    "revenue": "13609"
                                },
                                {
                                    "menu": "coffee",
                                    "dt": "2019-01-13",
                                    "revenue": "13788"
                                },
                                {
                                    "menu": "tea",
                                    "dt": "2019-01-13",
                                    "revenue": "10224"
                                },
                                {
                                    "menu": "coffee",
                                    "dt": "2019-01-14",
                                    "revenue": "12566"
                                },
                                {
                                    "menu": "tea",
                                    "dt": "2019-01-14",
                                    "revenue": "19040"
                                },
                                {
                                    "menu": "coffee",
                                    "dt": "2019-01-15",
                                    "revenue": "19041"
                                },
                                {
                                    "menu": "tea",
                                    "dt": "2019-01-15",
                                    "revenue": "7327"
                                },
                                {
                                    "menu": "coffee",
                                    "dt": "2019-01-16",
                                    "revenue": "13110"
                                },
                                {
                                    "menu": "tea",
                                    "dt": "2019-01-16",
                                    "revenue": "5396"
                                },
                                {
                                    "menu": "coffee",
                                    "dt": "2019-01-17",
                                    "revenue": "23856"
                                },
                                {
                                    "menu": "tea",
                                    "dt": "2019-01-17",
                                    "revenue": "14102"
                                },
                                {
                                    "menu": "coffee",
                                    "dt": "2019-01-18",
                                    "revenue": "8564"
                                },
                                {
                                    "menu": "tea",
                                    "dt": "2019-01-18",
                                    "revenue": "9464"
                                },
                                {
                                    "menu": "coffee",
                                    "dt": "2019-01-19",
                                    "revenue": "10857"
                                },
                                {
                                    "menu": "tea",
                                    "dt": "2019-01-19",
                                    "revenue": "17387"
                                },
                                {
                                    "menu": "coffee",
                                    "dt": "2019-01-20",
                                    "revenue": "11962"
                                },
                                {
                                    "menu": "tea",
                                    "dt": "2019-01-20",
                                    "revenue": "9542"
                                },
                                {
                                    "menu": "coffee",
                                    "dt": "2019-01-21",
                                    "revenue": "18190"
                                },
                                {
                                    "menu": "tea",
                                    "dt": "2019-01-21",
                                    "revenue": "9645"
                                },
                                {
                                    "menu": "coffee",
                                    "dt": "2019-01-22",
                                    "revenue": "21329"
                                },
                                {
                                    "menu": "tea",
                                    "dt": "2019-01-22",
                                    "revenue": "12756"
                                },
                                {
                                    "menu": "coffee",
                                    "dt": "2019-01-23",
                                    "revenue": "22201"
                                },
                                {
                                    "menu": "tea",
                                    "dt": "2019-01-23",
                                    "revenue": "19125"
                                },
                                {
                                    "menu": "coffee",
                                    "dt": "2019-01-24",
                                    "revenue": "20888"
                                },
                                {
                                    "menu": "tea",
                                    "dt": "2019-01-24",
                                    "revenue": "19241"
                                },
                                {
                                    "menu": "coffee",
                                    "dt": "2019-01-25",
                                    "revenue": "25333"
                                },
                                {
                                    "menu": "tea",
                                    "dt": "2019-01-25",
                                    "revenue": "12850"
                                },
                                {
                                    "menu": "coffee",
                                    "dt": "2019-01-26",
                                    "revenue": "16436"
                                },
                                {
                                    "menu": "tea",
                                    "dt": "2019-01-26",
                                    "revenue": "11764"
                                },
                                {
                                    "menu": "coffee",
                                    "dt": "2019-01-27",
                                    "revenue": "23212"
                                },
                                {
                                    "menu": "tea",
                                    "dt": "2019-01-27",
                                    "revenue": "14449"
                                },
                                {
                                    "menu": "coffee",
                                    "dt": "2019-01-28",
                                    "revenue": "11138"
                                },
                                {
                                    "menu": "tea",
                                    "dt": "2019-01-28",
                                    "revenue": "16045"
                                },
                                {
                                    "menu": "coffee",
                                    "dt": "2019-01-29",
                                    "revenue": "15870"
                                },
                                {
                                    "menu": "tea",
                                    "dt": "2019-01-29",
                                    "revenue": "8012"
                                },
                                {
                                    "menu": "coffee",
                                    "dt": "2019-01-30",
                                    "revenue": "9215"
                                },
                                {
                                    "menu": "tea",
                                    "dt": "2019-01-30",
                                    "revenue": "18332"
                                },
                                {
                                    "menu": "coffee",
                                    "dt": "2019-01-31",
                                    "revenue": "10821"
                                },
                                {
                                    "menu": "tea",
                                    "dt": "2019-01-31",
                                    "revenue": "8924"
                                },
                                {
                                    "menu": "coffee",
                                    "dt": "2019-02-01",
                                    "revenue": "14581"
                                },
                                {
                                    "menu": "tea",
                                    "dt": "2019-02-01",
                                    "revenue": "17286"
                                },
                                {
                                    "menu": "coffee",
                                    "dt": "2019-02-02",
                                    "revenue": "19488"
                                },
                                {
                                    "menu": "tea",
                                    "dt": "2019-02-02",
                                    "revenue": "10370"
                                },
                                {
                                    "menu": "coffee",
                                    "dt": "2019-02-03",
                                    "revenue": "24559"
                                },
                                {
                                    "menu": "tea",
                                    "dt": "2019-02-03",
                                    "revenue": "14963"
                                },
                                {
                                    "menu": "coffee",
                                    "dt": "2019-02-04",
                                    "revenue": "20410"
                                },
                                {
                                    "menu": "tea",
                                    "dt": "2019-02-04",
                                    "revenue": "12620"
                                },
                                {
                                    "menu": "coffee",
                                    "dt": "2019-02-05",
                                    "revenue": "23549"
                                },
                                {
                                    "menu": "tea",
                                    "dt": "2019-02-05",
                                    "revenue": "17850"
                                },
                                {
                                    "menu": "coffee",
                                    "dt": "2019-02-06",
                                    "revenue": "19808"
                                },
                                {
                                    "menu": "tea",
                                    "dt": "2019-02-06",
                                    "revenue": "16725"
                                },
                                {
                                    "menu": "coffee",
                                    "dt": "2019-02-07",
                                    "revenue": "23295"
                                },
                                {
                                    "menu": "tea",
                                    "dt": "2019-02-07",
                                    "revenue": "18840"
                                },
                                {
                                    "menu": "coffee",
                                    "dt": "2019-02-08",
                                    "revenue": "18636"
                                },
                                {
                                    "menu": "tea",
                                    "dt": "2019-02-08",
                                    "revenue": "6975"
                                },
                                {
                                    "menu": "coffee",
                                    "dt": "2019-02-09",
                                    "revenue": "25638"
                                },
                                {
                                    "menu": "tea",
                                    "dt": "2019-02-09",
                                    "revenue": "13562"
                                },
                                {
                                    "menu": "coffee",
                                    "dt": "2019-02-10",
                                    "revenue": "21863"
                                },
                                {
                                    "menu": "tea",
                                    "dt": "2019-02-10",
                                    "revenue": "7340"
                                },
                                {
                                    "menu": "coffee",
                                    "dt": "2019-02-11",
                                    "revenue": "22584"
                                },
                                {
                                    "menu": "tea",
                                    "dt": "2019-02-11",
                                    "revenue": "7957"
                                },
                                {
                                    "menu": "coffee",
                                    "dt": "2019-02-12",
                                    "revenue": "9531"
                                },
                                {
                                    "menu": "tea",
                                    "dt": "2019-02-12",
                                    "revenue": "11103"
                                },
                                {
                                    "menu": "coffee",
                                    "dt": "2019-02-13",
                                    "revenue": "22345"
                                },
                                {
                                    "menu": "tea",
                                    "dt": "2019-02-13",
                                    "revenue": "9558"
                                },
                                {
                                    "menu": "coffee",
                                    "dt": "2019-02-14",
                                    "revenue": "8010"
                                },
                                {
                                    "menu": "tea",
                                    "dt": "2019-02-14",
                                    "revenue": "18648"
                                },
                                {
                                    "menu": "coffee",
                                    "dt": "2019-02-15",
                                    "revenue": "24718"
                                },
                                {
                                    "menu": "tea",
                                    "dt": "2019-02-15",
                                    "revenue": "18324"
                                },
                                {
                                    "menu": "coffee",
                                    "dt": "2019-02-16",
                                    "revenue": "22277"
                                },
                                {
                                    "menu": "tea",
                                    "dt": "2019-02-16",
                                    "revenue": "5807"
                                },
                                {
                                    "menu": "coffee",
                                    "dt": "2019-02-17",
                                    "revenue": "8075"
                                },
                                {
                                    "menu": "tea",
                                    "dt": "2019-02-17",
                                    "revenue": "15334"
                                },
                                {
                                    "menu": "coffee",
                                    "dt": "2019-02-18",
                                    "revenue": "7145"
                                },
                                {
                                    "menu": "tea",
                                    "dt": "2019-02-18",
                                    "revenue": "9198"
                                },
                                {
                                    "menu": "coffee",
                                    "dt": "2019-02-19",
                                    "revenue": "16910"
                                },
                                {
                                    "menu": "tea",
                                    "dt": "2019-02-19",
                                    "revenue": "17984"
                                },
                                {
                                    "menu": "coffee",
                                    "dt": "2019-02-20",
                                    "revenue": "25480"
                                },
                                {
                                    "menu": "tea",
                                    "dt": "2019-02-20",
                                    "revenue": "14887"
                                },
                                {
                                    "menu": "coffee",
                                    "dt": "2019-02-21",
                                    "revenue": "15234"
                                },
                                {
                                    "menu": "tea",
                                    "dt": "2019-02-21",
                                    "revenue": "10207"
                                },
                                {
                                    "menu": "coffee",
                                    "dt": "2019-02-22",
                                    "revenue": "12939"
                                },
                                {
                                    "menu": "tea",
                                    "dt": "2019-02-22",
                                    "revenue": "15468"
                                },
                                {
                                    "menu": "coffee",
                                    "dt": "2019-02-23",
                                    "revenue": "24916"
                                },
                                {
                                    "menu": "tea",
                                    "dt": "2019-02-23",
                                    "revenue": "16507"
                                },
                                {
                                    "menu": "coffee",
                                    "dt": "2019-02-24",
                                    "revenue": "25263"
                                },
                                {
                                    "menu": "tea",
                                    "dt": "2019-02-24",
                                    "revenue": "16786"
                                },
                                {
                                    "menu": "coffee",
                                    "dt": "2019-02-25",
                                    "revenue": "13999"
                                },
                                {
                                    "menu": "tea",
                                    "dt": "2019-02-25",
                                    "revenue": "9338"
                                },
                                {
                                    "menu": "coffee",
                                    "dt": "2019-02-26",
                                    "revenue": "8641"
                                },
                                {
                                    "menu": "tea",
                                    "dt": "2019-02-26",
                                    "revenue": "7472"
                                },
                                {
                                    "menu": "coffee",
                                    "dt": "2019-02-27",
                                    "revenue": "15734"
                                },
                                {
                                    "menu": "tea",
                                    "dt": "2019-02-27",
                                    "revenue": "17782"
                                },
                                {
                                    "menu": "coffee",
                                    "dt": "2019-02-28",
                                    "revenue": "16639"
                                },
                                {
                                    "menu": "tea",
                                    "dt": "2019-02-28",
                                    "revenue": "18798"
                                },
                                {
                                    "menu": "coffee",
                                    "dt": "2019-03-01",
                                    "revenue": "15954"
                                },
                                {
                                    "menu": "tea",
                                    "dt": "2019-03-01",
                                    "revenue": "10075"
                                },
                                {
                                    "menu": "coffee",
                                    "dt": "2019-03-02",
                                    "revenue": "18079"
                                },
                                {
                                    "menu": "tea",
                                    "dt": "2019-03-02",
                                    "revenue": "11454"
                                },
                                {
                                    "menu": "coffee",
                                    "dt": "2019-03-03",
                                    "revenue": "23058"
                                },
                                {
                                    "menu": "tea",
                                    "dt": "2019-03-03",
                                    "revenue": "19055"
                                },
                                {
                                    "menu": "coffee",
                                    "dt": "2019-03-04",
                                    "revenue": "25802"
                                },
                                {
                                    "menu": "tea",
                                    "dt": "2019-03-04",
                                    "revenue": "10719"
                                },
                                {
                                    "menu": "coffee",
                                    "dt": "2019-03-05",
                                    "revenue": "9317"
                                },
                                {
                                    "menu": "tea",
                                    "dt": "2019-03-05",
                                    "revenue": "16812"
                                },
                                {
                                    "menu": "coffee",
                                    "dt": "2019-03-06",
                                    "revenue": "19641"
                                },
                                {
                                    "menu": "tea",
                                    "dt": "2019-03-06",
                                    "revenue": "14310"
                                },
                                {
                                    "menu": "coffee",
                                    "dt": "2019-03-07",
                                    "revenue": "26725"
                                },
                                {
                                    "menu": "tea",
                                    "dt": "2019-03-07",
                                    "revenue": "13774"
                                },
                                {
                                    "menu": "coffee",
                                    "dt": "2019-03-08",
                                    "revenue": "19488"
                                },
                                {
                                    "menu": "tea",
                                    "dt": "2019-03-08",
                                    "revenue": "15288"
                                },
                                {
                                    "menu": "coffee",
                                    "dt": "2019-03-09",
                                    "revenue": "12110"
                                },
                                {
                                    "menu": "tea",
                                    "dt": "2019-03-09",
                                    "revenue": "15821"
                                },
                                {
                                    "menu": "coffee",
                                    "dt": "2019-03-10",
                                    "revenue": "17179"
                                },
                                {
                                    "menu": "tea",
                                    "dt": "2019-03-10",
                                    "revenue": "7013"
                                },
                                {
                                    "menu": "coffee",
                                    "dt": "2019-03-11",
                                    "revenue": "11249"
                                },
                                {
                                    "menu": "tea",
                                    "dt": "2019-03-11",
                                    "revenue": "15886"
                                },
                                {
                                    "menu": "coffee",
                                    "dt": "2019-03-12",
                                    "revenue": "23393"
                                },
                                {
                                    "menu": "tea",
                                    "dt": "2019-03-12",
                                    "revenue": "8098"
                                },
                                {
                                    "menu": "coffee",
                                    "dt": "2019-03-13",
                                    "revenue": "16708"
                                },
                                {
                                    "menu": "tea",
                                    "dt": "2019-03-13",
                                    "revenue": "5177"
                                },
                                {
                                    "menu": "coffee",
                                    "dt": "2019-03-14",
                                    "revenue": "19336"
                                },
                                {
                                    "menu": "tea",
                                    "dt": "2019-03-14",
                                    "revenue": "16218"
                                },
                                {
                                    "menu": "coffee",
                                    "dt": "2019-03-15",
                                    "revenue": "24833"
                                },
                                {
                                    "menu": "tea",
                                    "dt": "2019-03-15",
                                    "revenue": "15856"
                                },
                                {
                                    "menu": "coffee",
                                    "dt": "2019-03-16",
                                    "revenue": "9728"
                                },
                                {
                                    "menu": "tea",
                                    "dt": "2019-03-16",
                                    "revenue": "11795"
                                },
                                {
                                    "menu": "coffee",
                                    "dt": "2019-03-17",
                                    "revenue": "15021"
                                },
                                {
                                    "menu": "tea",
                                    "dt": "2019-03-17",
                                    "revenue": "7319"
                                },
                                {
                                    "menu": "coffee",
                                    "dt": "2019-03-18",
                                    "revenue": "17340"
                                },
                                {
                                    "menu": "tea",
                                    "dt": "2019-03-18",
                                    "revenue": "15130"
                                },
                                {
                                    "menu": "coffee",
                                    "dt": "2019-03-19",
                                    "revenue": "19255"
                                },
                                {
                                    "menu": "tea",
                                    "dt": "2019-03-19",
                                    "revenue": "10824"
                                },
                                {
                                    "menu": "coffee",
                                    "dt": "2019-03-20",
                                    "revenue": "21927"
                                },
                                {
                                    "menu": "tea",
                                    "dt": "2019-03-20",
                                    "revenue": "16673"
                                },
                                {
                                    "menu": "coffee",
                                    "dt": "2019-03-21",
                                    "revenue": "14581"
                                },
                                {
                                    "menu": "tea",
                                    "dt": "2019-03-21",
                                    "revenue": "13290"
                                },
                                {
                                    "menu": "coffee",
                                    "dt": "2019-03-22",
                                    "revenue": "16879"
                                },
                                {
                                    "menu": "tea",
                                    "dt": "2019-03-22",
                                    "revenue": "18527"
                                },
                                {
                                    "menu": "coffee",
                                    "dt": "2019-03-23",
                                    "revenue": "12053"
                                },
                                {
                                    "menu": "tea",
                                    "dt": "2019-03-23",
                                    "revenue": "18821"
                                },
                                {
                                    "menu": "coffee",
                                    "dt": "2019-03-24",
                                    "revenue": "17907"
                                },
                                {
                                    "menu": "tea",
                                    "dt": "2019-03-24",
                                    "revenue": "15822"
                                },
                                {
                                    "menu": "coffee",
                                    "dt": "2019-03-25",
                                    "revenue": "20425"
                                },
                                {
                                    "menu": "tea",
                                    "dt": "2019-03-25",
                                    "revenue": "19098"
                                },
                                {
                                    "menu": "coffee",
                                    "dt": "2019-03-26",
                                    "revenue": "8395"
                                },
                                {
                                    "menu": "tea",
                                    "dt": "2019-03-26",
                                    "revenue": "8893"
                                },
                                {
                                    "menu": "coffee",
                                    "dt": "2019-03-27",
                                    "revenue": "18911"
                                },
                                {
                                    "menu": "tea",
                                    "dt": "2019-03-27",
                                    "revenue": "12762"
                                },
                                {
                                    "menu": "coffee",
                                    "dt": "2019-03-28",
                                    "revenue": "10268"
                                },
                                {
                                    "menu": "tea",
                                    "dt": "2019-03-28",
                                    "revenue": "15438"
                                },
                                {
                                    "menu": "coffee",
                                    "dt": "2019-03-29",
                                    "revenue": "10546"
                                },
                                {
                                    "menu": "tea",
                                    "dt": "2019-03-29",
                                    "revenue": "16017"
                                },
                                {
                                    "menu": "coffee",
                                    "dt": "2019-03-30",
                                    "revenue": "23807"
                                },
                                {
                                    "menu": "tea",
                                    "dt": "2019-03-30",
                                    "revenue": "5589"
                                },
                                {
                                    "menu": "coffee",
                                    "dt": "2019-03-31",
                                    "revenue": "8392"
                                },
                                {
                                    "menu": "tea",
                                    "dt": "2019-03-31",
                                    "revenue": "13475"
                                },
                                {
                                    "menu": "coffee",
                                    "dt": "2019-04-01",
                                    "revenue": "8678"
                                },
                                {
                                    "menu": "tea",
                                    "dt": "2019-04-01",
                                    "revenue": "19996"
                                },
                                {
                                    "menu": "coffee",
                                    "dt": "2019-04-02",
                                    "revenue": "10242"
                                },
                                {
                                    "menu": "tea",
                                    "dt": "2019-04-02",
                                    "revenue": "16196"
                                },
                                {
                                    "menu": "coffee",
                                    "dt": "2019-04-03",
                                    "revenue": "17934"
                                },
                                {
                                    "menu": "tea",
                                    "dt": "2019-04-03",
                                    "revenue": "8907"
                                },
                                {
                                    "menu": "coffee",
                                    "dt": "2019-04-04",
                                    "revenue": "19850"
                                },
                                {
                                    "menu": "tea",
                                    "dt": "2019-04-04",
                                    "revenue": "16450"
                                },
                                {
                                    "menu": "coffee",
                                    "dt": "2019-04-05",
                                    "revenue": "25227"
                                },
                                {
                                    "menu": "tea",
                                    "dt": "2019-04-05",
                                    "revenue": "14620"
                                },
                                {
                                    "menu": "coffee",
                                    "dt": "2019-04-06",
                                    "revenue": "25797"
                                },
                                {
                                    "menu": "tea",
                                    "dt": "2019-04-06",
                                    "revenue": "17589"
                                },
                                {
                                    "menu": "coffee",
                                    "dt": "2019-04-07",
                                    "revenue": "7196"
                                },
                                {
                                    "menu": "tea",
                                    "dt": "2019-04-07",
                                    "revenue": "8187"
                                },
                                {
                                    "menu": "coffee",
                                    "dt": "2019-04-08",
                                    "revenue": "23889"
                                },
                                {
                                    "menu": "tea",
                                    "dt": "2019-04-08",
                                    "revenue": "7156"
                                },
                                {
                                    "menu": "coffee",
                                    "dt": "2019-04-09",
                                    "revenue": "24532"
                                },
                                {
                                    "menu": "tea",
                                    "dt": "2019-04-09",
                                    "revenue": "15141"
                                },
                                {
                                    "menu": "coffee",
                                    "dt": "2019-04-10",
                                    "revenue": "25082"
                                },
                                {
                                    "menu": "tea",
                                    "dt": "2019-04-10",
                                    "revenue": "13508"
                                },
                                {
                                    "menu": "coffee",
                                    "dt": "2019-04-11",
                                    "revenue": "23819"
                                },
                                {
                                    "menu": "tea",
                                    "dt": "2019-04-11",
                                    "revenue": "10481"
                                },
                                {
                                    "menu": "coffee",
                                    "dt": "2019-04-12",
                                    "revenue": "22850"
                                },
                                {
                                    "menu": "tea",
                                    "dt": "2019-04-12",
                                    "revenue": "5094"
                                },
                                {
                                    "menu": "coffee",
                                    "dt": "2019-04-13",
                                    "revenue": "26399"
                                },
                                {
                                    "menu": "tea",
                                    "dt": "2019-04-13",
                                    "revenue": "11086"
                                },
                                {
                                    "menu": "coffee",
                                    "dt": "2019-04-14",
                                    "revenue": "12897"
                                },
                                {
                                    "menu": "tea",
                                    "dt": "2019-04-14",
                                    "revenue": "6759"
                                },
                                {
                                    "menu": "coffee",
                                    "dt": "2019-04-15",
                                    "revenue": "23795"
                                },
                                {
                                    "menu": "tea",
                                    "dt": "2019-04-15",
                                    "revenue": "19039"
                                },
                                {
                                    "menu": "coffee",
                                    "dt": "2019-04-16",
                                    "revenue": "25179"
                                },
                                {
                                    "menu": "tea",
                                    "dt": "2019-04-16",
                                    "revenue": "8585"
                                },
                                {
                                    "menu": "coffee",
                                    "dt": "2019-04-17",
                                    "revenue": "7256"
                                },
                                {
                                    "menu": "tea",
                                    "dt": "2019-04-17",
                                    "revenue": "6920"
                                },
                                {
                                    "menu": "coffee",
                                    "dt": "2019-04-18",
                                    "revenue": "14757"
                                },
                                {
                                    "menu": "tea",
                                    "dt": "2019-04-18",
                                    "revenue": "19297"
                                },
                                {
                                    "menu": "coffee",
                                    "dt": "2019-04-19",
                                    "revenue": "24206"
                                },
                                {
                                    "menu": "tea",
                                    "dt": "2019-04-19",
                                    "revenue": "6986"
                                },
                                {
                                    "menu": "coffee",
                                    "dt": "2019-04-20",
                                    "revenue": "14818"
                                },
                                {
                                    "menu": "tea",
                                    "dt": "2019-04-20",
                                    "revenue": "17095"
                                },
                                {
                                    "menu": "coffee",
                                    "dt": "2019-04-21",
                                    "revenue": "17488"
                                },
                                {
                                    "menu": "tea",
                                    "dt": "2019-04-21",
                                    "revenue": "7549"
                                },
                                {
                                    "menu": "coffee",
                                    "dt": "2019-04-22",
                                    "revenue": "23556"
                                },
                                {
                                    "menu": "tea",
                                    "dt": "2019-04-22",
                                    "revenue": "15170"
                                },
                                {
                                    "menu": "coffee",
                                    "dt": "2019-04-23",
                                    "revenue": "8826"
                                },
                                {
                                    "menu": "tea",
                                    "dt": "2019-04-23",
                                    "revenue": "14716"
                                },
                                {
                                    "menu": "coffee",
                                    "dt": "2019-04-24",
                                    "revenue": "26964"
                                },
                                {
                                    "menu": "tea",
                                    "dt": "2019-04-24",
                                    "revenue": "10810"
                                },
                                {
                                    "menu": "coffee",
                                    "dt": "2019-04-25",
                                    "revenue": "13302"
                                },
                                {
                                    "menu": "tea",
                                    "dt": "2019-04-25",
                                    "revenue": "15837"
                                },
                                {
                                    "menu": "coffee",
                                    "dt": "2019-04-26",
                                    "revenue": "9811"
                                },
                                {
                                    "menu": "tea",
                                    "dt": "2019-04-26",
                                    "revenue": "17472"
                                },
                                {
                                    "menu": "coffee",
                                    "dt": "2019-04-27",
                                    "revenue": "8846"
                                },
                                {
                                    "menu": "tea",
                                    "dt": "2019-04-27",
                                    "revenue": "7826"
                                },
                                {
                                    "menu": "coffee",
                                    "dt": "2019-04-28",
                                    "revenue": "10347"
                                },
                                {
                                    "menu": "tea",
                                    "dt": "2019-04-28",
                                    "revenue": "5506"
                                },
                                {
                                    "menu": "coffee",
                                    "dt": "2019-04-29",
                                    "revenue": "14578"
                                },
                                {
                                    "menu": "tea",
                                    "dt": "2019-04-29",
                                    "revenue": "17196"
                                },
                                {
                                    "menu": "coffee",
                                    "dt": "2019-04-30",
                                    "revenue": "25328"
                                },
                                {
                                    "menu": "tea",
                                    "dt": "2019-04-30",
                                    "revenue": "13576"
                                },
                                {
                                    "menu": "coffee",
                                    "dt": "2019-05-01",
                                    "revenue": "12207"
                                },
                                {
                                    "menu": "tea",
                                    "dt": "2019-05-01",
                                    "revenue": "12610"
                                },
                                {
                                    "menu": "coffee",
                                    "dt": "2019-05-02",
                                    "revenue": "8642"
                                },
                                {
                                    "menu": "tea",
                                    "dt": "2019-05-02",
                                    "revenue": "8412"
                                },
                                {
                                    "menu": "coffee",
                                    "dt": "2019-05-03",
                                    "revenue": "12907"
                                },
                                {
                                    "menu": "tea",
                                    "dt": "2019-05-03",
                                    "revenue": "11342"
                                },
                                {
                                    "menu": "coffee",
                                    "dt": "2019-05-04",
                                    "revenue": "10893"
                                },
                                {
                                    "menu": "tea",
                                    "dt": "2019-05-04",
                                    "revenue": "14531"
                                },
                                {
                                    "menu": "coffee",
                                    "dt": "2019-05-05",
                                    "revenue": "14835"
                                },
                                {
                                    "menu": "tea",
                                    "dt": "2019-05-05",
                                    "revenue": "11904"
                                },
                                {
                                    "menu": "coffee",
                                    "dt": "2019-05-06",
                                    "revenue": "8750"
                                },
                                {
                                    "menu": "tea",
                                    "dt": "2019-05-06",
                                    "revenue": "6133"
                                },
                                {
                                    "menu": "coffee",
                                    "dt": "2019-05-07",
                                    "revenue": "8203"
                                },
                                {
                                    "menu": "tea",
                                    "dt": "2019-05-07",
                                    "revenue": "17784"
                                },
                                {
                                    "menu": "coffee",
                                    "dt": "2019-05-08",
                                    "revenue": "16529"
                                },
                                {
                                    "menu": "tea",
                                    "dt": "2019-05-08",
                                    "revenue": "8649"
                                },
                                {
                                    "menu": "coffee",
                                    "dt": "2019-05-09",
                                    "revenue": "19688"
                                },
                                {
                                    "menu": "tea",
                                    "dt": "2019-05-09",
                                    "revenue": "9972"
                                },
                                {
                                    "menu": "coffee",
                                    "dt": "2019-05-10",
                                    "revenue": "19456"
                                },
                                {
                                    "menu": "tea",
                                    "dt": "2019-05-10",
                                    "revenue": "11151"
                                },
                                {
                                    "menu": "coffee",
                                    "dt": "2019-05-11",
                                    "revenue": "7019"
                                },
                                {
                                    "menu": "tea",
                                    "dt": "2019-05-11",
                                    "revenue": "13449"
                                },
                                {
                                    "menu": "coffee",
                                    "dt": "2019-05-12",
                                    "revenue": "24802"
                                },
                                {
                                    "menu": "tea",
                                    "dt": "2019-05-12",
                                    "revenue": "5692"
                                },
                                {
                                    "menu": "coffee",
                                    "dt": "2019-05-13",
                                    "revenue": "24992"
                                },
                                {
                                    "menu": "tea",
                                    "dt": "2019-05-13",
                                    "revenue": "5425"
                                },
                                {
                                    "menu": "coffee",
                                    "dt": "2019-05-14",
                                    "revenue": "22622"
                                },
                                {
                                    "menu": "tea",
                                    "dt": "2019-05-14",
                                    "revenue": "18611"
                                },
                                {
                                    "menu": "coffee",
                                    "dt": "2019-05-15",
                                    "revenue": "13135"
                                },
                                {
                                    "menu": "tea",
                                    "dt": "2019-05-15",
                                    "revenue": "15908"
                                },
                                {
                                    "menu": "coffee",
                                    "dt": "2019-05-16",
                                    "revenue": "7226"
                                },
                                {
                                    "menu": "tea",
                                    "dt": "2019-05-16",
                                    "revenue": "6019"
                                },
                                {
                                    "menu": "coffee",
                                    "dt": "2019-05-17",
                                    "revenue": "26703"
                                },
                                {
                                    "menu": "tea",
                                    "dt": "2019-05-17",
                                    "revenue": "13309"
                                },
                                {
                                    "menu": "coffee",
                                    "dt": "2019-05-18",
                                    "revenue": "11690"
                                },
                                {
                                    "menu": "tea",
                                    "dt": "2019-05-18",
                                    "revenue": "15858"
                                },
                                {
                                    "menu": "coffee",
                                    "dt": "2019-05-19",
                                    "revenue": "10966"
                                },
                                {
                                    "menu": "tea",
                                    "dt": "2019-05-19",
                                    "revenue": "19672"
                                },
                                {
                                    "menu": "coffee",
                                    "dt": "2019-05-20",
                                    "revenue": "26115"
                                },
                                {
                                    "menu": "tea",
                                    "dt": "2019-05-20",
                                    "revenue": "10698"
                                },
                                {
                                    "menu": "coffee",
                                    "dt": "2019-05-21",
                                    "revenue": "17725"
                                },
                                {
                                    "menu": "tea",
                                    "dt": "2019-05-21",
                                    "revenue": "11298"
                                },
                                {
                                    "menu": "coffee",
                                    "dt": "2019-05-22",
                                    "revenue": "24236"
                                },
                                {
                                    "menu": "tea",
                                    "dt": "2019-05-22",
                                    "revenue": "14352"
                                },
                                {
                                    "menu": "coffee",
                                    "dt": "2019-05-23",
                                    "revenue": "7488"
                                },
                                {
                                    "menu": "tea",
                                    "dt": "2019-05-23",
                                    "revenue": "13019"
                                },
                                {
                                    "menu": "coffee",
                                    "dt": "2019-05-24",
                                    "revenue": "20816"
                                },
                                {
                                    "menu": "tea",
                                    "dt": "2019-05-24",
                                    "revenue": "17961"
                                },
                                {
                                    "menu": "coffee",
                                    "dt": "2019-05-25",
                                    "revenue": "8695"
                                },
                                {
                                    "menu": "tea",
                                    "dt": "2019-05-25",
                                    "revenue": "15718"
                                },
                                {
                                    "menu": "coffee",
                                    "dt": "2019-05-26",
                                    "revenue": "10759"
                                },
                                {
                                    "menu": "tea",
                                    "dt": "2019-05-26",
                                    "revenue": "16534"
                                },
                                {
                                    "menu": "coffee",
                                    "dt": "2019-05-27",
                                    "revenue": "19267"
                                },
                                {
                                    "menu": "tea",
                                    "dt": "2019-05-27",
                                    "revenue": "6182"
                                },
                                {
                                    "menu": "coffee",
                                    "dt": "2019-05-28",
                                    "revenue": "11535"
                                },
                                {
                                    "menu": "tea",
                                    "dt": "2019-05-28",
                                    "revenue": "13107"
                                },
                                {
                                    "menu": "coffee",
                                    "dt": "2019-05-29",
                                    "revenue": "23449"
                                },
                                {
                                    "menu": "tea",
                                    "dt": "2019-05-29",
                                    "revenue": "11261"
                                },
                                {
                                    "menu": "coffee",
                                    "dt": "2019-05-30",
                                    "revenue": "9450"
                                },
                                {
                                    "menu": "tea",
                                    "dt": "2019-05-30",
                                    "revenue": "15838"
                                },
                                {
                                    "menu": "coffee",
                                    "dt": "2019-05-31",
                                    "revenue": "11023"
                                },
                                {
                                    "menu": "tea",
                                    "dt": "2019-05-31",
                                    "revenue": "19868"
                                },
                                {
                                    "menu": "coffee",
                                    "dt": "2019-06-01",
                                    "revenue": "25482"
                                },
                                {
                                    "menu": "tea",
                                    "dt": "2019-06-01",
                                    "revenue": "6780"
                                },
                                {
                                    "menu": "coffee",
                                    "dt": "2019-06-02",
                                    "revenue": "13282"
                                },
                                {
                                    "menu": "tea",
                                    "dt": "2019-06-02",
                                    "revenue": "6969"
                                },
                                {
                                    "menu": "coffee",
                                    "dt": "2019-06-03",
                                    "revenue": "13492"
                                },
                                {
                                    "menu": "tea",
                                    "dt": "2019-06-03",
                                    "revenue": "9460"
                                },
                                {
                                    "menu": "coffee",
                                    "dt": "2019-06-04",
                                    "revenue": "22130"
                                },
                                {
                                    "menu": "tea",
                                    "dt": "2019-06-04",
                                    "revenue": "14933"
                                },
                                {
                                    "menu": "coffee",
                                    "dt": "2019-06-05",
                                    "revenue": "20442"
                                },
                                {
                                    "menu": "tea",
                                    "dt": "2019-06-05",
                                    "revenue": "12545"
                                },
                                {
                                    "menu": "coffee",
                                    "dt": "2019-06-06",
                                    "revenue": "24597"
                                },
                                {
                                    "menu": "tea",
                                    "dt": "2019-06-06",
                                    "revenue": "16228"
                                },
                                {
                                    "menu": "coffee",
                                    "dt": "2019-06-07",
                                    "revenue": "15314"
                                },
                                {
                                    "menu": "tea",
                                    "dt": "2019-06-07",
                                    "revenue": "13491"
                                },
                                {
                                    "menu": "coffee",
                                    "dt": "2019-06-08",
                                    "revenue": "21481"
                                },
                                {
                                    "menu": "tea",
                                    "dt": "2019-06-08",
                                    "revenue": "10355"
                                },
                                {
                                    "menu": "coffee",
                                    "dt": "2019-06-09",
                                    "revenue": "7732"
                                },
                                {
                                    "menu": "tea",
                                    "dt": "2019-06-09",
                                    "revenue": "7363"
                                },
                                {
                                    "menu": "coffee",
                                    "dt": "2019-06-10",
                                    "revenue": "26791"
                                },
                                {
                                    "menu": "tea",
                                    "dt": "2019-06-10",
                                    "revenue": "6363"
                                },
                                {
                                    "menu": "coffee",
                                    "dt": "2019-06-11",
                                    "revenue": "21463"
                                },
                                {
                                    "menu": "tea",
                                    "dt": "2019-06-11",
                                    "revenue": "5466"
                                },
                                {
                                    "menu": "coffee",
                                    "dt": "2019-06-12",
                                    "revenue": "10886"
                                },
                                {
                                    "menu": "tea",
                                    "dt": "2019-06-12",
                                    "revenue": "8030"
                                },
                                {
                                    "menu": "coffee",
                                    "dt": "2019-06-13",
                                    "revenue": "19604"
                                },
                                {
                                    "menu": "tea",
                                    "dt": "2019-06-13",
                                    "revenue": "12371"
                                },
                                {
                                    "menu": "coffee",
                                    "dt": "2019-06-14",
                                    "revenue": "13704"
                                },
                                {
                                    "menu": "tea",
                                    "dt": "2019-06-14",
                                    "revenue": "10151"
                                },
                                {
                                    "menu": "coffee",
                                    "dt": "2019-06-15",
                                    "revenue": "7177"
                                },
                                {
                                    "menu": "tea",
                                    "dt": "2019-06-15",
                                    "revenue": "19116"
                                },
                                {
                                    "menu": "coffee",
                                    "dt": "2019-06-16",
                                    "revenue": "17307"
                                },
                                {
                                    "menu": "tea",
                                    "dt": "2019-06-16",
                                    "revenue": "9296"
                                },
                                {
                                    "menu": "coffee",
                                    "dt": "2019-06-17",
                                    "revenue": "11263"
                                },
                                {
                                    "menu": "tea",
                                    "dt": "2019-06-17",
                                    "revenue": "14697"
                                },
                                {
                                    "menu": "coffee",
                                    "dt": "2019-06-18",
                                    "revenue": "20573"
                                },
                                {
                                    "menu": "tea",
                                    "dt": "2019-06-18",
                                    "revenue": "6579"
                                },
                                {
                                    "menu": "coffee",
                                    "dt": "2019-06-19",
                                    "revenue": "24918"
                                },
                                {
                                    "menu": "tea",
                                    "dt": "2019-06-19",
                                    "revenue": "10502"
                                },
                                {
                                    "menu": "coffee",
                                    "dt": "2019-06-20",
                                    "revenue": "7006"
                                },
                                {
                                    "menu": "tea",
                                    "dt": "2019-06-20",
                                    "revenue": "6900"
                                },
                                {
                                    "menu": "coffee",
                                    "dt": "2019-06-21",
                                    "revenue": "12607"
                                },
                                {
                                    "menu": "tea",
                                    "dt": "2019-06-21",
                                    "revenue": "10594"
                                },
                                {
                                    "menu": "coffee",
                                    "dt": "2019-06-22",
                                    "revenue": "17247"
                                },
                                {
                                    "menu": "tea",
                                    "dt": "2019-06-22",
                                    "revenue": "8001"
                                },
                                {
                                    "menu": "coffee",
                                    "dt": "2019-06-23",
                                    "revenue": "13888"
                                },
                                {
                                    "menu": "tea",
                                    "dt": "2019-06-23",
                                    "revenue": "13861"
                                },
                                {
                                    "menu": "coffee",
                                    "dt": "2019-06-24",
                                    "revenue": "25318"
                                },
                                {
                                    "menu": "tea",
                                    "dt": "2019-06-24",
                                    "revenue": "6377"
                                },
                                {
                                    "menu": "coffee",
                                    "dt": "2019-06-25",
                                    "revenue": "23556"
                                },
                                {
                                    "menu": "tea",
                                    "dt": "2019-06-25",
                                    "revenue": "14284"
                                },
                                {
                                    "menu": "coffee",
                                    "dt": "2019-06-26",
                                    "revenue": "20922"
                                },
                                {
                                    "menu": "tea",
                                    "dt": "2019-06-26",
                                    "revenue": "12832"
                                },
                                {
                                    "menu": "coffee",
                                    "dt": "2019-06-27",
                                    "revenue": "14672"
                                },
                                {
                                    "menu": "tea",
                                    "dt": "2019-06-27",
                                    "revenue": "18243"
                                },
                                {
                                    "menu": "coffee",
                                    "dt": "2019-06-28",
                                    "revenue": "17306"
                                },
                                {
                                    "menu": "tea",
                                    "dt": "2019-06-28",
                                    "revenue": "6780"
                                },
                                {
                                    "menu": "coffee",
                                    "dt": "2019-06-29",
                                    "revenue": "15276"
                                },
                                {
                                    "menu": "tea",
                                    "dt": "2019-06-29",
                                    "revenue": "9534"
                                },
                                {
                                    "menu": "coffee",
                                    "dt": "2019-06-30",
                                    "revenue": "21671"
                                },
                                {
                                    "menu": "tea",
                                    "dt": "2019-06-30",
                                    "revenue": "9213"
                                },
                                {
                                    "menu": "coffee",
                                    "dt": "2019-07-01",
                                    "revenue": "15507"
                                },
                                {
                                    "menu": "tea",
                                    "dt": "2019-07-01",
                                    "revenue": "18573"
                                },
                                {
                                    "menu": "coffee",
                                    "dt": "2019-07-02",
                                    "revenue": "22647"
                                },
                                {
                                    "menu": "tea",
                                    "dt": "2019-07-02",
                                    "revenue": "15515"
                                },
                                {
                                    "menu": "coffee",
                                    "dt": "2019-07-03",
                                    "revenue": "19871"
                                },
                                {
                                    "menu": "tea",
                                    "dt": "2019-07-03",
                                    "revenue": "15372"
                                },
                                {
                                    "menu": "coffee",
                                    "dt": "2019-07-04",
                                    "revenue": "10533"
                                },
                                {
                                    "menu": "tea",
                                    "dt": "2019-07-04",
                                    "revenue": "5851"
                                },
                                {
                                    "menu": "coffee",
                                    "dt": "2019-07-05",
                                    "revenue": "14271"
                                },
                                {
                                    "menu": "tea",
                                    "dt": "2019-07-05",
                                    "revenue": "19595"
                                },
                                {
                                    "menu": "coffee",
                                    "dt": "2019-07-06",
                                    "revenue": "16573"
                                },
                                {
                                    "menu": "tea",
                                    "dt": "2019-07-06",
                                    "revenue": "16775"
                                },
                                {
                                    "menu": "coffee",
                                    "dt": "2019-07-07",
                                    "revenue": "17214"
                                },
                                {
                                    "menu": "tea",
                                    "dt": "2019-07-07",
                                    "revenue": "9780"
                                },
                                {
                                    "menu": "coffee",
                                    "dt": "2019-07-08",
                                    "revenue": "22414"
                                },
                                {
                                    "menu": "tea",
                                    "dt": "2019-07-08",
                                    "revenue": "9175"
                                },
                                {
                                    "menu": "coffee",
                                    "dt": "2019-07-09",
                                    "revenue": "17000"
                                },
                                {
                                    "menu": "tea",
                                    "dt": "2019-07-09",
                                    "revenue": "15592"
                                },
                                {
                                    "menu": "coffee",
                                    "dt": "2019-07-10",
                                    "revenue": "13756"
                                },
                                {
                                    "menu": "tea",
                                    "dt": "2019-07-10",
                                    "revenue": "15049"
                                },
                                {
                                    "menu": "coffee",
                                    "dt": "2019-07-11",
                                    "revenue": "9759"
                                },
                                {
                                    "menu": "tea",
                                    "dt": "2019-07-11",
                                    "revenue": "8746"
                                },
                                {
                                    "menu": "coffee",
                                    "dt": "2019-07-12",
                                    "revenue": "19137"
                                },
                                {
                                    "menu": "tea",
                                    "dt": "2019-07-12",
                                    "revenue": "14187"
                                },
                                {
                                    "menu": "coffee",
                                    "dt": "2019-07-13",
                                    "revenue": "12810"
                                },
                                {
                                    "menu": "tea",
                                    "dt": "2019-07-13",
                                    "revenue": "8752"
                                },
                                {
                                    "menu": "coffee",
                                    "dt": "2019-07-14",
                                    "revenue": "8089"
                                },
                                {
                                    "menu": "tea",
                                    "dt": "2019-07-14",
                                    "revenue": "7120"
                                },
                                {
                                    "menu": "coffee",
                                    "dt": "2019-07-15",
                                    "revenue": "26561"
                                },
                                {
                                    "menu": "tea",
                                    "dt": "2019-07-15",
                                    "revenue": "11348"
                                },
                                {
                                    "menu": "coffee",
                                    "dt": "2019-07-16",
                                    "revenue": "16791"
                                },
                                {
                                    "menu": "tea",
                                    "dt": "2019-07-16",
                                    "revenue": "13023"
                                },
                                {
                                    "menu": "coffee",
                                    "dt": "2019-07-17",
                                    "revenue": "13480"
                                },
                                {
                                    "menu": "tea",
                                    "dt": "2019-07-17",
                                    "revenue": "8131"
                                },
                                {
                                    "menu": "coffee",
                                    "dt": "2019-07-18",
                                    "revenue": "15324"
                                },
                                {
                                    "menu": "tea",
                                    "dt": "2019-07-18",
                                    "revenue": "19584"
                                },
                                {
                                    "menu": "coffee",
                                    "dt": "2019-07-19",
                                    "revenue": "14708"
                                },
                                {
                                    "menu": "tea",
                                    "dt": "2019-07-19",
                                    "revenue": "7513"
                                },
                                {
                                    "menu": "coffee",
                                    "dt": "2019-07-20",
                                    "revenue": "16256"
                                },
                                {
                                    "menu": "tea",
                                    "dt": "2019-07-20",
                                    "revenue": "6493"
                                },
                                {
                                    "menu": "coffee",
                                    "dt": "2019-07-21",
                                    "revenue": "19952"
                                },
                                {
                                    "menu": "tea",
                                    "dt": "2019-07-21",
                                    "revenue": "13811"
                                },
                                {
                                    "menu": "coffee",
                                    "dt": "2019-07-22",
                                    "revenue": "12377"
                                },
                                {
                                    "menu": "tea",
                                    "dt": "2019-07-22",
                                    "revenue": "8459"
                                },
                                {
                                    "menu": "coffee",
                                    "dt": "2019-07-23",
                                    "revenue": "10163"
                                },
                                {
                                    "menu": "tea",
                                    "dt": "2019-07-23",
                                    "revenue": "14705"
                                },
                                {
                                    "menu": "coffee",
                                    "dt": "2019-07-24",
                                    "revenue": "17220"
                                },
                                {
                                    "menu": "tea",
                                    "dt": "2019-07-24",
                                    "revenue": "18188"
                                },
                                {
                                    "menu": "coffee",
                                    "dt": "2019-07-25",
                                    "revenue": "7845"
                                },
                                {
                                    "menu": "tea",
                                    "dt": "2019-07-25",
                                    "revenue": "16736"
                                },
                                {
                                    "menu": "coffee",
                                    "dt": "2019-07-26",
                                    "revenue": "14515"
                                },
                                {
                                    "menu": "tea",
                                    "dt": "2019-07-26",
                                    "revenue": "18935"
                                },
                                {
                                    "menu": "coffee",
                                    "dt": "2019-07-27",
                                    "revenue": "17215"
                                },
                                {
                                    "menu": "tea",
                                    "dt": "2019-07-27",
                                    "revenue": "5824"
                                },
                                {
                                    "menu": "coffee",
                                    "dt": "2019-07-28",
                                    "revenue": "20029"
                                },
                                {
                                    "menu": "tea",
                                    "dt": "2019-07-28",
                                    "revenue": "17374"
                                },
                                {
                                    "menu": "coffee",
                                    "dt": "2019-07-29",
                                    "revenue": "19052"
                                },
                                {
                                    "menu": "tea",
                                    "dt": "2019-07-29",
                                    "revenue": "16881"
                                },
                                {
                                    "menu": "coffee",
                                    "dt": "2019-07-30",
                                    "revenue": "24993"
                                },
                                {
                                    "menu": "tea",
                                    "dt": "2019-07-30",
                                    "revenue": "17786"
                                },
                                {
                                    "menu": "coffee",
                                    "dt": "2019-07-31",
                                    "revenue": "14564"
                                },
                                {
                                    "menu": "tea",
                                    "dt": "2019-07-31",
                                    "revenue": "16344"
                                },
                                {
                                    "menu": "coffee",
                                    "dt": "2019-08-01",
                                    "revenue": "12548"
                                },
                                {
                                    "menu": "tea",
                                    "dt": "2019-08-01",
                                    "revenue": "14750"
                                },
                                {
                                    "menu": "coffee",
                                    "dt": "2019-08-02",
                                    "revenue": "20005"
                                },
                                {
                                    "menu": "tea",
                                    "dt": "2019-08-02",
                                    "revenue": "6630"
                                },
                                {
                                    "menu": "coffee",
                                    "dt": "2019-08-03",
                                    "revenue": "19426"
                                },
                                {
                                    "menu": "tea",
                                    "dt": "2019-08-03",
                                    "revenue": "13447"
                                },
                                {
                                    "menu": "coffee",
                                    "dt": "2019-08-04",
                                    "revenue": "21369"
                                },
                                {
                                    "menu": "tea",
                                    "dt": "2019-08-04",
                                    "revenue": "6830"
                                },
                                {
                                    "menu": "coffee",
                                    "dt": "2019-08-05",
                                    "revenue": "22592"
                                },
                                {
                                    "menu": "tea",
                                    "dt": "2019-08-05",
                                    "revenue": "11453"
                                },
                                {
                                    "menu": "coffee",
                                    "dt": "2019-08-06",
                                    "revenue": "21690"
                                },
                                {
                                    "menu": "tea",
                                    "dt": "2019-08-06",
                                    "revenue": "19181"
                                },
                                {
                                    "menu": "coffee",
                                    "dt": "2019-08-07",
                                    "revenue": "25297"
                                },
                                {
                                    "menu": "tea",
                                    "dt": "2019-08-07",
                                    "revenue": "17269"
                                },
                                {
                                    "menu": "coffee",
                                    "dt": "2019-08-08",
                                    "revenue": "24611"
                                },
                                {
                                    "menu": "tea",
                                    "dt": "2019-08-08",
                                    "revenue": "13039"
                                },
                                {
                                    "menu": "coffee",
                                    "dt": "2019-08-09",
                                    "revenue": "12132"
                                },
                                {
                                    "menu": "tea",
                                    "dt": "2019-08-09",
                                    "revenue": "15775"
                                },
                                {
                                    "menu": "coffee",
                                    "dt": "2019-08-10",
                                    "revenue": "8432"
                                },
                                {
                                    "menu": "tea",
                                    "dt": "2019-08-10",
                                    "revenue": "15258"
                                },
                                {
                                    "menu": "coffee",
                                    "dt": "2019-08-11",
                                    "revenue": "14435"
                                },
                                {
                                    "menu": "tea",
                                    "dt": "2019-08-11",
                                    "revenue": "18059"
                                },
                                {
                                    "menu": "coffee",
                                    "dt": "2019-08-12",
                                    "revenue": "12921"
                                },
                                {
                                    "menu": "tea",
                                    "dt": "2019-08-12",
                                    "revenue": "12397"
                                },
                                {
                                    "menu": "coffee",
                                    "dt": "2019-08-13",
                                    "revenue": "24719"
                                },
                                {
                                    "menu": "tea",
                                    "dt": "2019-08-13",
                                    "revenue": "9211"
                                },
                                {
                                    "menu": "coffee",
                                    "dt": "2019-08-14",
                                    "revenue": "7518"
                                },
                                {
                                    "menu": "tea",
                                    "dt": "2019-08-14",
                                    "revenue": "10751"
                                },
                                {
                                    "menu": "coffee",
                                    "dt": "2019-08-15",
                                    "revenue": "9884"
                                },
                                {
                                    "menu": "tea",
                                    "dt": "2019-08-15",
                                    "revenue": "10501"
                                },
                                {
                                    "menu": "coffee",
                                    "dt": "2019-08-16",
                                    "revenue": "25869"
                                },
                                {
                                    "menu": "tea",
                                    "dt": "2019-08-16",
                                    "revenue": "5635"
                                },
                                {
                                    "menu": "coffee",
                                    "dt": "2019-08-17",
                                    "revenue": "9857"
                                },
                                {
                                    "menu": "tea",
                                    "dt": "2019-08-17",
                                    "revenue": "18351"
                                },
                                {
                                    "menu": "coffee",
                                    "dt": "2019-08-18",
                                    "revenue": "9361"
                                },
                                {
                                    "menu": "tea",
                                    "dt": "2019-08-18",
                                    "revenue": "10873"
                                },
                                {
                                    "menu": "coffee",
                                    "dt": "2019-08-19",
                                    "revenue": "7736"
                                },
                                {
                                    "menu": "tea",
                                    "dt": "2019-08-19",
                                    "revenue": "19736"
                                },
                                {
                                    "menu": "coffee",
                                    "dt": "2019-08-20",
                                    "revenue": "22870"
                                },
                                {
                                    "menu": "tea",
                                    "dt": "2019-08-20",
                                    "revenue": "8126"
                                },
                                {
                                    "menu": "coffee",
                                    "dt": "2019-08-21",
                                    "revenue": "10292"
                                },
                                {
                                    "menu": "tea",
                                    "dt": "2019-08-21",
                                    "revenue": "15124"
                                },
                                {
                                    "menu": "coffee",
                                    "dt": "2019-08-22",
                                    "revenue": "26988"
                                },
                                {
                                    "menu": "tea",
                                    "dt": "2019-08-22",
                                    "revenue": "7138"
                                },
                                {
                                    "menu": "coffee",
                                    "dt": "2019-08-23",
                                    "revenue": "26695"
                                },
                                {
                                    "menu": "tea",
                                    "dt": "2019-08-23",
                                    "revenue": "10700"
                                },
                                {
                                    "menu": "coffee",
                                    "dt": "2019-08-24",
                                    "revenue": "24731"
                                },
                                {
                                    "menu": "tea",
                                    "dt": "2019-08-24",
                                    "revenue": "17366"
                                },
                                {
                                    "menu": "coffee",
                                    "dt": "2019-08-25",
                                    "revenue": "23390"
                                },
                                {
                                    "menu": "tea",
                                    "dt": "2019-08-25",
                                    "revenue": "15129"
                                },
                                {
                                    "menu": "coffee",
                                    "dt": "2019-08-26",
                                    "revenue": "26762"
                                },
                                {
                                    "menu": "tea",
                                    "dt": "2019-08-26",
                                    "revenue": "5669"
                                },
                                {
                                    "menu": "coffee",
                                    "dt": "2019-08-27",
                                    "revenue": "13501"
                                },
                                {
                                    "menu": "tea",
                                    "dt": "2019-08-27",
                                    "revenue": "19390"
                                },
                                {
                                    "menu": "coffee",
                                    "dt": "2019-08-28",
                                    "revenue": "22743"
                                },
                                {
                                    "menu": "tea",
                                    "dt": "2019-08-28",
                                    "revenue": "8153"
                                },
                                {
                                    "menu": "coffee",
                                    "dt": "2019-08-29",
                                    "revenue": "14572"
                                },
                                {
                                    "menu": "tea",
                                    "dt": "2019-08-29",
                                    "revenue": "8496"
                                },
                                {
                                    "menu": "coffee",
                                    "dt": "2019-08-30",
                                    "revenue": "11376"
                                },
                                {
                                    "menu": "tea",
                                    "dt": "2019-08-30",
                                    "revenue": "11711"
                                },
                                {
                                    "menu": "coffee",
                                    "dt": "2019-08-31",
                                    "revenue": "18846"
                                },
                                {
                                    "menu": "tea",
                                    "dt": "2019-08-31",
                                    "revenue": "17143"
                                },
                                {
                                    "menu": "coffee",
                                    "dt": "2019-09-01",
                                    "revenue": "25736"
                                },
                                {
                                    "menu": "tea",
                                    "dt": "2019-09-01",
                                    "revenue": "18070"
                                },
                                {
                                    "menu": "coffee",
                                    "dt": "2019-09-02",
                                    "revenue": "17781"
                                },
                                {
                                    "menu": "tea",
                                    "dt": "2019-09-02",
                                    "revenue": "5612"
                                },
                                {
                                    "menu": "coffee",
                                    "dt": "2019-09-03",
                                    "revenue": "17036"
                                },
                                {
                                    "menu": "tea",
                                    "dt": "2019-09-03",
                                    "revenue": "10723"
                                },
                                {
                                    "menu": "coffee",
                                    "dt": "2019-09-04",
                                    "revenue": "26926"
                                },
                                {
                                    "menu": "tea",
                                    "dt": "2019-09-04",
                                    "revenue": "5150"
                                },
                                {
                                    "menu": "coffee",
                                    "dt": "2019-09-05",
                                    "revenue": "12035"
                                },
                                {
                                    "menu": "tea",
                                    "dt": "2019-09-05",
                                    "revenue": "9901"
                                },
                                {
                                    "menu": "coffee",
                                    "dt": "2019-09-06",
                                    "revenue": "9364"
                                },
                                {
                                    "menu": "tea",
                                    "dt": "2019-09-06",
                                    "revenue": "10259"
                                },
                                {
                                    "menu": "coffee",
                                    "dt": "2019-09-07",
                                    "revenue": "14420"
                                },
                                {
                                    "menu": "tea",
                                    "dt": "2019-09-07",
                                    "revenue": "12236"
                                },
                                {
                                    "menu": "coffee",
                                    "dt": "2019-09-08",
                                    "revenue": "10803"
                                },
                                {
                                    "menu": "tea",
                                    "dt": "2019-09-08",
                                    "revenue": "9558"
                                },
                                {
                                    "menu": "coffee",
                                    "dt": "2019-09-09",
                                    "revenue": "9536"
                                },
                                {
                                    "menu": "tea",
                                    "dt": "2019-09-09",
                                    "revenue": "19522"
                                },
                                {
                                    "menu": "coffee",
                                    "dt": "2019-09-10",
                                    "revenue": "11870"
                                },
                                {
                                    "menu": "tea",
                                    "dt": "2019-09-10",
                                    "revenue": "11477"
                                },
                                {
                                    "menu": "coffee",
                                    "dt": "2019-09-11",
                                    "revenue": "26434"
                                },
                                {
                                    "menu": "tea",
                                    "dt": "2019-09-11",
                                    "revenue": "19812"
                                },
                                {
                                    "menu": "coffee",
                                    "dt": "2019-09-12",
                                    "revenue": "26844"
                                },
                                {
                                    "menu": "tea",
                                    "dt": "2019-09-12",
                                    "revenue": "8763"
                                },
                                {
                                    "menu": "coffee",
                                    "dt": "2019-09-13",
                                    "revenue": "18692"
                                },
                                {
                                    "menu": "tea",
                                    "dt": "2019-09-13",
                                    "revenue": "14580"
                                },
                                {
                                    "menu": "coffee",
                                    "dt": "2019-09-14",
                                    "revenue": "22874"
                                },
                                {
                                    "menu": "tea",
                                    "dt": "2019-09-14",
                                    "revenue": "14851"
                                },
                                {
                                    "menu": "coffee",
                                    "dt": "2019-09-15",
                                    "revenue": "22995"
                                },
                                {
                                    "menu": "tea",
                                    "dt": "2019-09-15",
                                    "revenue": "8787"
                                },
                                {
                                    "menu": "coffee",
                                    "dt": "2019-09-16",
                                    "revenue": "23789"
                                },
                                {
                                    "menu": "tea",
                                    "dt": "2019-09-16",
                                    "revenue": "10366"
                                },
                                {
                                    "menu": "coffee",
                                    "dt": "2019-09-17",
                                    "revenue": "16870"
                                },
                                {
                                    "menu": "tea",
                                    "dt": "2019-09-17",
                                    "revenue": "8190"
                                },
                                {
                                    "menu": "coffee",
                                    "dt": "2019-09-18",
                                    "revenue": "11022"
                                },
                                {
                                    "menu": "tea",
                                    "dt": "2019-09-18",
                                    "revenue": "5615"
                                },
                                {
                                    "menu": "coffee",
                                    "dt": "2019-09-19",
                                    "revenue": "16309"
                                },
                                {
                                    "menu": "tea",
                                    "dt": "2019-09-19",
                                    "revenue": "5148"
                                },
                                {
                                    "menu": "coffee",
                                    "dt": "2019-09-20",
                                    "revenue": "17623"
                                },
                                {
                                    "menu": "tea",
                                    "dt": "2019-09-20",
                                    "revenue": "16047"
                                },
                                {
                                    "menu": "coffee",
                                    "dt": "2019-09-21",
                                    "revenue": "22043"
                                },
                                {
                                    "menu": "tea",
                                    "dt": "2019-09-21",
                                    "revenue": "14607"
                                },
                                {
                                    "menu": "coffee",
                                    "dt": "2019-09-22",
                                    "revenue": "12355"
                                },
                                {
                                    "menu": "tea",
                                    "dt": "2019-09-22",
                                    "revenue": "5082"
                                },
                                {
                                    "menu": "coffee",
                                    "dt": "2019-09-23",
                                    "revenue": "20416"
                                },
                                {
                                    "menu": "tea",
                                    "dt": "2019-09-23",
                                    "revenue": "17208"
                                },
                                {
                                    "menu": "coffee",
                                    "dt": "2019-09-24",
                                    "revenue": "12147"
                                },
                                {
                                    "menu": "tea",
                                    "dt": "2019-09-24",
                                    "revenue": "11564"
                                },
                                {
                                    "menu": "coffee",
                                    "dt": "2019-09-25",
                                    "revenue": "24030"
                                },
                                {
                                    "menu": "tea",
                                    "dt": "2019-09-25",
                                    "revenue": "15203"
                                },
                                {
                                    "menu": "coffee",
                                    "dt": "2019-09-26",
                                    "revenue": "10322"
                                },
                                {
                                    "menu": "tea",
                                    "dt": "2019-09-26",
                                    "revenue": "5504"
                                },
                                {
                                    "menu": "coffee",
                                    "dt": "2019-09-27",
                                    "revenue": "11550"
                                },
                                {
                                    "menu": "tea",
                                    "dt": "2019-09-27",
                                    "revenue": "10066"
                                },
                                {
                                    "menu": "coffee",
                                    "dt": "2019-09-28",
                                    "revenue": "19768"
                                },
                                {
                                    "menu": "tea",
                                    "dt": "2019-09-28",
                                    "revenue": "10746"
                                },
                                {
                                    "menu": "coffee",
                                    "dt": "2019-09-29",
                                    "revenue": "24258"
                                },
                                {
                                    "menu": "tea",
                                    "dt": "2019-09-29",
                                    "revenue": "9441"
                                },
                                {
                                    "menu": "coffee",
                                    "dt": "2019-09-30",
                                    "revenue": "13650"
                                },
                                {
                                    "menu": "tea",
                                    "dt": "2019-09-30",
                                    "revenue": "14667"
                                },
                                {
                                    "menu": "coffee",
                                    "dt": "2019-10-01",
                                    "revenue": "25276"
                                },
                                {
                                    "menu": "tea",
                                    "dt": "2019-10-01",
                                    "revenue": "13054"
                                },
                                {
                                    "menu": "coffee",
                                    "dt": "2019-10-02",
                                    "revenue": "7901"
                                },
                                {
                                    "menu": "tea",
                                    "dt": "2019-10-02",
                                    "revenue": "11642"
                                },
                                {
                                    "menu": "coffee",
                                    "dt": "2019-10-03",
                                    "revenue": "13524"
                                },
                                {
                                    "menu": "tea",
                                    "dt": "2019-10-03",
                                    "revenue": "14142"
                                },
                                {
                                    "menu": "coffee",
                                    "dt": "2019-10-04",
                                    "revenue": "8650"
                                },
                                {
                                    "menu": "tea",
                                    "dt": "2019-10-04",
                                    "revenue": "7918"
                                },
                                {
                                    "menu": "coffee",
                                    "dt": "2019-10-05",
                                    "revenue": "10963"
                                },
                                {
                                    "menu": "tea",
                                    "dt": "2019-10-05",
                                    "revenue": "6837"
                                },
                                {
                                    "menu": "coffee",
                                    "dt": "2019-10-06",
                                    "revenue": "16922"
                                },
                                {
                                    "menu": "tea",
                                    "dt": "2019-10-06",
                                    "revenue": "13652"
                                },
                                {
                                    "menu": "coffee",
                                    "dt": "2019-10-07",
                                    "revenue": "21178"
                                },
                                {
                                    "menu": "tea",
                                    "dt": "2019-10-07",
                                    "revenue": "11388"
                                },
                                {
                                    "menu": "coffee",
                                    "dt": "2019-10-08",
                                    "revenue": "23261"
                                },
                                {
                                    "menu": "tea",
                                    "dt": "2019-10-08",
                                    "revenue": "17857"
                                },
                                {
                                    "menu": "coffee",
                                    "dt": "2019-10-09",
                                    "revenue": "21186"
                                },
                                {
                                    "menu": "tea",
                                    "dt": "2019-10-09",
                                    "revenue": "10185"
                                },
                                {
                                    "menu": "coffee",
                                    "dt": "2019-10-10",
                                    "revenue": "26851"
                                },
                                {
                                    "menu": "tea",
                                    "dt": "2019-10-10",
                                    "revenue": "13258"
                                },
                                {
                                    "menu": "coffee",
                                    "dt": "2019-10-11",
                                    "revenue": "19962"
                                },
                                {
                                    "menu": "tea",
                                    "dt": "2019-10-11",
                                    "revenue": "5410"
                                },
                                {
                                    "menu": "coffee",
                                    "dt": "2019-10-12",
                                    "revenue": "25949"
                                },
                                {
                                    "menu": "tea",
                                    "dt": "2019-10-12",
                                    "revenue": "8811"
                                },
                                {
                                    "menu": "coffee",
                                    "dt": "2019-10-13",
                                    "revenue": "24828"
                                },
                                {
                                    "menu": "tea",
                                    "dt": "2019-10-13",
                                    "revenue": "6983"
                                },
                                {
                                    "menu": "coffee",
                                    "dt": "2019-10-14",
                                    "revenue": "25899"
                                },
                                {
                                    "menu": "tea",
                                    "dt": "2019-10-14",
                                    "revenue": "15737"
                                },
                                {
                                    "menu": "coffee",
                                    "dt": "2019-10-15",
                                    "revenue": "16310"
                                },
                                {
                                    "menu": "tea",
                                    "dt": "2019-10-15",
                                    "revenue": "17934"
                                },
                                {
                                    "menu": "coffee",
                                    "dt": "2019-10-16",
                                    "revenue": "25837"
                                },
                                {
                                    "menu": "tea",
                                    "dt": "2019-10-16",
                                    "revenue": "13290"
                                },
                                {
                                    "menu": "coffee",
                                    "dt": "2019-10-17",
                                    "revenue": "18324"
                                },
                                {
                                    "menu": "tea",
                                    "dt": "2019-10-17",
                                    "revenue": "6114"
                                },
                                {
                                    "menu": "coffee",
                                    "dt": "2019-10-18",
                                    "revenue": "26269"
                                },
                                {
                                    "menu": "tea",
                                    "dt": "2019-10-18",
                                    "revenue": "19434"
                                },
                                {
                                    "menu": "coffee",
                                    "dt": "2019-10-19",
                                    "revenue": "25713"
                                },
                                {
                                    "menu": "tea",
                                    "dt": "2019-10-19",
                                    "revenue": "11463"
                                },
                                {
                                    "menu": "coffee",
                                    "dt": "2019-10-20",
                                    "revenue": "23510"
                                },
                                {
                                    "menu": "tea",
                                    "dt": "2019-10-20",
                                    "revenue": "19531"
                                },
                                {
                                    "menu": "coffee",
                                    "dt": "2019-10-21",
                                    "revenue": "14516"
                                },
                                {
                                    "menu": "tea",
                                    "dt": "2019-10-21",
                                    "revenue": "11791"
                                },
                                {
                                    "menu": "coffee",
                                    "dt": "2019-10-22",
                                    "revenue": "15938"
                                },
                                {
                                    "menu": "tea",
                                    "dt": "2019-10-22",
                                    "revenue": "15042"
                                },
                                {
                                    "menu": "coffee",
                                    "dt": "2019-10-23",
                                    "revenue": "22760"
                                },
                                {
                                    "menu": "tea",
                                    "dt": "2019-10-23",
                                    "revenue": "11918"
                                },
                                {
                                    "menu": "coffee",
                                    "dt": "2019-10-24",
                                    "revenue": "22763"
                                },
                                {
                                    "menu": "tea",
                                    "dt": "2019-10-24",
                                    "revenue": "19897"
                                },
                                {
                                    "menu": "coffee",
                                    "dt": "2019-10-25",
                                    "revenue": "26416"
                                },
                                {
                                    "menu": "tea",
                                    "dt": "2019-10-25",
                                    "revenue": "7672"
                                },
                                {
                                    "menu": "coffee",
                                    "dt": "2019-10-26",
                                    "revenue": "11658"
                                },
                                {
                                    "menu": "tea",
                                    "dt": "2019-10-26",
                                    "revenue": "9809"
                                },
                                {
                                    "menu": "coffee",
                                    "dt": "2019-10-27",
                                    "revenue": "13431"
                                },
                                {
                                    "menu": "tea",
                                    "dt": "2019-10-27",
                                    "revenue": "19999"
                                },
                                {
                                    "menu": "coffee",
                                    "dt": "2019-10-28",
                                    "revenue": "10258"
                                },
                                {
                                    "menu": "tea",
                                    "dt": "2019-10-28",
                                    "revenue": "18349"
                                },
                                {
                                    "menu": "coffee",
                                    "dt": "2019-10-29",
                                    "revenue": "21800"
                                },
                                {
                                    "menu": "tea",
                                    "dt": "2019-10-29",
                                    "revenue": "12106"
                                },
                                {
                                    "menu": "coffee",
                                    "dt": "2019-10-30",
                                    "revenue": "23527"
                                },
                                {
                                    "menu": "tea",
                                    "dt": "2019-10-30",
                                    "revenue": "7307"
                                },
                                {
                                    "menu": "coffee",
                                    "dt": "2019-10-31",
                                    "revenue": "7086"
                                },
                                {
                                    "menu": "tea",
                                    "dt": "2019-10-31",
                                    "revenue": "10548"
                                },
                                {
                                    "menu": "coffee",
                                    "dt": "2019-11-01",
                                    "revenue": "26013"
                                },
                                {
                                    "menu": "tea",
                                    "dt": "2019-11-01",
                                    "revenue": "6296"
                                },
                                {
                                    "menu": "coffee",
                                    "dt": "2019-11-02",
                                    "revenue": "10577"
                                },
                                {
                                    "menu": "tea",
                                    "dt": "2019-11-02",
                                    "revenue": "5630"
                                },
                                {
                                    "menu": "coffee",
                                    "dt": "2019-11-03",
                                    "revenue": "7990"
                                },
                                {
                                    "menu": "tea",
                                    "dt": "2019-11-03",
                                    "revenue": "13967"
                                },
                                {
                                    "menu": "coffee",
                                    "dt": "2019-11-04",
                                    "revenue": "13292"
                                },
                                {
                                    "menu": "tea",
                                    "dt": "2019-11-04",
                                    "revenue": "17418"
                                },
                                {
                                    "menu": "coffee",
                                    "dt": "2019-11-05",
                                    "revenue": "16769"
                                },
                                {
                                    "menu": "tea",
                                    "dt": "2019-11-05",
                                    "revenue": "14468"
                                },
                                {
                                    "menu": "coffee",
                                    "dt": "2019-11-06",
                                    "revenue": "11359"
                                },
                                {
                                    "menu": "tea",
                                    "dt": "2019-11-06",
                                    "revenue": "19003"
                                },
                                {
                                    "menu": "coffee",
                                    "dt": "2019-11-07",
                                    "revenue": "9962"
                                },
                                {
                                    "menu": "tea",
                                    "dt": "2019-11-07",
                                    "revenue": "9811"
                                },
                                {
                                    "menu": "coffee",
                                    "dt": "2019-11-08",
                                    "revenue": "26312"
                                },
                                {
                                    "menu": "tea",
                                    "dt": "2019-11-08",
                                    "revenue": "18700"
                                },
                                {
                                    "menu": "coffee",
                                    "dt": "2019-11-09",
                                    "revenue": "15500"
                                },
                                {
                                    "menu": "tea",
                                    "dt": "2019-11-09",
                                    "revenue": "11771"
                                },
                                {
                                    "menu": "coffee",
                                    "dt": "2019-11-10",
                                    "revenue": "26374"
                                },
                                {
                                    "menu": "tea",
                                    "dt": "2019-11-10",
                                    "revenue": "5577"
                                },
                                {
                                    "menu": "coffee",
                                    "dt": "2019-11-11",
                                    "revenue": "19470"
                                },
                                {
                                    "menu": "tea",
                                    "dt": "2019-11-11",
                                    "revenue": "6052"
                                },
                                {
                                    "menu": "coffee",
                                    "dt": "2019-11-12",
                                    "revenue": "11634"
                                },
                                {
                                    "menu": "tea",
                                    "dt": "2019-11-12",
                                    "revenue": "17397"
                                },
                                {
                                    "menu": "coffee",
                                    "dt": "2019-11-13",
                                    "revenue": "13167"
                                },
                                {
                                    "menu": "tea",
                                    "dt": "2019-11-13",
                                    "revenue": "10495"
                                },
                                {
                                    "menu": "coffee",
                                    "dt": "2019-11-14",
                                    "revenue": "8994"
                                },
                                {
                                    "menu": "tea",
                                    "dt": "2019-11-14",
                                    "revenue": "5495"
                                },
                                {
                                    "menu": "coffee",
                                    "dt": "2019-11-15",
                                    "revenue": "10223"
                                },
                                {
                                    "menu": "tea",
                                    "dt": "2019-11-15",
                                    "revenue": "11587"
                                },
                                {
                                    "menu": "coffee",
                                    "dt": "2019-11-16",
                                    "revenue": "14770"
                                },
                                {
                                    "menu": "tea",
                                    "dt": "2019-11-16",
                                    "revenue": "6324"
                                },
                                {
                                    "menu": "coffee",
                                    "dt": "2019-11-17",
                                    "revenue": "17882"
                                },
                                {
                                    "menu": "tea",
                                    "dt": "2019-11-17",
                                    "revenue": "16492"
                                },
                                {
                                    "menu": "coffee",
                                    "dt": "2019-11-18",
                                    "revenue": "8557"
                                },
                                {
                                    "menu": "tea",
                                    "dt": "2019-11-18",
                                    "revenue": "9628"
                                },
                                {
                                    "menu": "coffee",
                                    "dt": "2019-11-19",
                                    "revenue": "21112"
                                },
                                {
                                    "menu": "tea",
                                    "dt": "2019-11-19",
                                    "revenue": "13812"
                                },
                                {
                                    "menu": "coffee",
                                    "dt": "2019-11-20",
                                    "revenue": "14666"
                                },
                                {
                                    "menu": "tea",
                                    "dt": "2019-11-20",
                                    "revenue": "9286"
                                },
                                {
                                    "menu": "coffee",
                                    "dt": "2019-11-21",
                                    "revenue": "17058"
                                },
                                {
                                    "menu": "tea",
                                    "dt": "2019-11-21",
                                    "revenue": "8462"
                                },
                                {
                                    "menu": "coffee",
                                    "dt": "2019-11-22",
                                    "revenue": "20201"
                                },
                                {
                                    "menu": "tea",
                                    "dt": "2019-11-22",
                                    "revenue": "9145"
                                },
                                {
                                    "menu": "coffee",
                                    "dt": "2019-11-23",
                                    "revenue": "23803"
                                },
                                {
                                    "menu": "tea",
                                    "dt": "2019-11-23",
                                    "revenue": "11047"
                                },
                                {
                                    "menu": "coffee",
                                    "dt": "2019-11-24",
                                    "revenue": "10945"
                                },
                                {
                                    "menu": "tea",
                                    "dt": "2019-11-24",
                                    "revenue": "18909"
                                },
                                {
                                    "menu": "coffee",
                                    "dt": "2019-11-25",
                                    "revenue": "10074"
                                },
                                {
                                    "menu": "tea",
                                    "dt": "2019-11-25",
                                    "revenue": "16188"
                                },
                                {
                                    "menu": "coffee",
                                    "dt": "2019-11-26",
                                    "revenue": "19079"
                                },
                                {
                                    "menu": "tea",
                                    "dt": "2019-11-26",
                                    "revenue": "19385"
                                },
                                {
                                    "menu": "coffee",
                                    "dt": "2019-11-27",
                                    "revenue": "15262"
                                },
                                {
                                    "menu": "tea",
                                    "dt": "2019-11-27",
                                    "revenue": "15855"
                                },
                                {
                                    "menu": "coffee",
                                    "dt": "2019-11-28",
                                    "revenue": "25988"
                                },
                                {
                                    "menu": "tea",
                                    "dt": "2019-11-28",
                                    "revenue": "13268"
                                },
                                {
                                    "menu": "coffee",
                                    "dt": "2019-11-29",
                                    "revenue": "23293"
                                },
                                {
                                    "menu": "tea",
                                    "dt": "2019-11-29",
                                    "revenue": "9222"
                                },
                                {
                                    "menu": "coffee",
                                    "dt": "2019-11-30",
                                    "revenue": "18985"
                                },
                                {
                                    "menu": "tea",
                                    "dt": "2019-11-30",
                                    "revenue": "16216"
                                },
                                {
                                    "menu": "coffee",
                                    "dt": "2019-12-01",
                                    "revenue": "20803"
                                },
                                {
                                    "menu": "tea",
                                    "dt": "2019-12-01",
                                    "revenue": "19209"
                                },
                                {
                                    "menu": "coffee",
                                    "dt": "2019-12-02",
                                    "revenue": "16201"
                                },
                                {
                                    "menu": "tea",
                                    "dt": "2019-12-02",
                                    "revenue": "19008"
                                },
                                {
                                    "menu": "coffee",
                                    "dt": "2019-12-03",
                                    "revenue": "21729"
                                },
                                {
                                    "menu": "tea",
                                    "dt": "2019-12-03",
                                    "revenue": "12012"
                                },
                                {
                                    "menu": "coffee",
                                    "dt": "2019-12-04",
                                    "revenue": "24358"
                                },
                                {
                                    "menu": "tea",
                                    "dt": "2019-12-04",
                                    "revenue": "5003"
                                },
                                {
                                    "menu": "coffee",
                                    "dt": "2019-12-05",
                                    "revenue": "26720"
                                },
                                {
                                    "menu": "tea",
                                    "dt": "2019-12-05",
                                    "revenue": "13245"
                                },
                                {
                                    "menu": "coffee",
                                    "dt": "2019-12-06",
                                    "revenue": "19913"
                                },
                                {
                                    "menu": "tea",
                                    "dt": "2019-12-06",
                                    "revenue": "18790"
                                },
                                {
                                    "menu": "coffee",
                                    "dt": "2019-12-07",
                                    "revenue": "8653"
                                },
                                {
                                    "menu": "tea",
                                    "dt": "2019-12-07",
                                    "revenue": "15129"
                                },
                                {
                                    "menu": "coffee",
                                    "dt": "2019-12-08",
                                    "revenue": "25203"
                                },
                                {
                                    "menu": "tea",
                                    "dt": "2019-12-08",
                                    "revenue": "19860"
                                },
                                {
                                    "menu": "coffee",
                                    "dt": "2019-12-09",
                                    "revenue": "19897"
                                },
                                {
                                    "menu": "tea",
                                    "dt": "2019-12-09",
                                    "revenue": "18053"
                                },
                                {
                                    "menu": "coffee",
                                    "dt": "2019-12-10",
                                    "revenue": "7002"
                                },
                                {
                                    "menu": "tea",
                                    "dt": "2019-12-10",
                                    "revenue": "10667"
                                },
                                {
                                    "menu": "coffee",
                                    "dt": "2019-12-11",
                                    "revenue": "7491"
                                },
                                {
                                    "menu": "tea",
                                    "dt": "2019-12-11",
                                    "revenue": "14829"
                                },
                                {
                                    "menu": "coffee",
                                    "dt": "2019-12-12",
                                    "revenue": "9156"
                                },
                                {
                                    "menu": "tea",
                                    "dt": "2019-12-12",
                                    "revenue": "18298"
                                },
                                {
                                    "menu": "coffee",
                                    "dt": "2019-12-13",
                                    "revenue": "21181"
                                },
                                {
                                    "menu": "tea",
                                    "dt": "2019-12-13",
                                    "revenue": "15655"
                                },
                                {
                                    "menu": "coffee",
                                    "dt": "2019-12-14",
                                    "revenue": "13924"
                                },
                                {
                                    "menu": "tea",
                                    "dt": "2019-12-14",
                                    "revenue": "14673"
                                },
                                {
                                    "menu": "coffee",
                                    "dt": "2019-12-15",
                                    "revenue": "21392"
                                },
                                {
                                    "menu": "tea",
                                    "dt": "2019-12-15",
                                    "revenue": "16529"
                                },
                                {
                                    "menu": "coffee",
                                    "dt": "2019-12-16",
                                    "revenue": "20206"
                                },
                                {
                                    "menu": "tea",
                                    "dt": "2019-12-16",
                                    "revenue": "12806"
                                },
                                {
                                    "menu": "coffee",
                                    "dt": "2019-12-17",
                                    "revenue": "18721"
                                },
                                {
                                    "menu": "tea",
                                    "dt": "2019-12-17",
                                    "revenue": "9080"
                                },
                                {
                                    "menu": "coffee",
                                    "dt": "2019-12-18",
                                    "revenue": "20199"
                                },
                                {
                                    "menu": "tea",
                                    "dt": "2019-12-18",
                                    "revenue": "12332"
                                },
                                {
                                    "menu": "coffee",
                                    "dt": "2019-12-19",
                                    "revenue": "22032"
                                },
                                {
                                    "menu": "tea",
                                    "dt": "2019-12-19",
                                    "revenue": "19619"
                                },
                                {
                                    "menu": "coffee",
                                    "dt": "2019-12-20",
                                    "revenue": "25036"
                                },
                                {
                                    "menu": "tea",
                                    "dt": "2019-12-20",
                                    "revenue": "19428"
                                },
                                {
                                    "menu": "coffee",
                                    "dt": "2019-12-21",
                                    "revenue": "13510"
                                },
                                {
                                    "menu": "tea",
                                    "dt": "2019-12-21",
                                    "revenue": "8100"
                                },
                                {
                                    "menu": "coffee",
                                    "dt": "2019-12-22",
                                    "revenue": "23056"
                                },
                                {
                                    "menu": "tea",
                                    "dt": "2019-12-22",
                                    "revenue": "18568"
                                },
                                {
                                    "menu": "coffee",
                                    "dt": "2019-12-23",
                                    "revenue": "18157"
                                },
                                {
                                    "menu": "tea",
                                    "dt": "2019-12-23",
                                    "revenue": "18658"
                                },
                                {
                                    "menu": "coffee",
                                    "dt": "2019-12-24",
                                    "revenue": "25191"
                                },
                                {
                                    "menu": "tea",
                                    "dt": "2019-12-24",
                                    "revenue": "9087"
                                },
                                {
                                    "menu": "coffee",
                                    "dt": "2019-12-25",
                                    "revenue": "21757"
                                },
                                {
                                    "menu": "tea",
                                    "dt": "2019-12-25",
                                    "revenue": "16944"
                                },
                                {
                                    "menu": "coffee",
                                    "dt": "2019-12-26",
                                    "revenue": "16956"
                                },
                                {
                                    "menu": "tea",
                                    "dt": "2019-12-26",
                                    "revenue": "12323"
                                },
                                {
                                    "menu": "coffee",
                                    "dt": "2019-12-27",
                                    "revenue": "18754"
                                },
                                {
                                    "menu": "tea",
                                    "dt": "2019-12-27",
                                    "revenue": "10099"
                                },
                                {
                                    "menu": "coffee",
                                    "dt": "2019-12-28",
                                    "revenue": "15036"
                                },
                                {
                                    "menu": "tea",
                                    "dt": "2019-12-28",
                                    "revenue": "11914"
                                },
                                {
                                    "menu": "coffee",
                                    "dt": "2019-12-29",
                                    "revenue": "24668"
                                },
                                {
                                    "menu": "tea",
                                    "dt": "2019-12-29",
                                    "revenue": "16745"
                                },
                                {
                                    "menu": "coffee",
                                    "dt": "2019-12-30",
                                    "revenue": "16603"
                                },
                                {
                                    "menu": "tea",
                                    "dt": "2019-12-30",
                                    "revenue": "15022"
                                },
                                {
                                    "menu": "coffee",
                                    "dt": "2019-12-31",
                                    "revenue": "18891"
                                },
                                {
                                    "menu": "tea",
                                    "dt": "2019-12-31",
                                    "revenue": "17081"
                                }
                            ]
                        },
                        "text/html": "<table><tr><th>menu</th><th>dt</th><th>revenue</th></tr><tr><td>coffee</td><td>2018-01-01</td><td>10318</td></tr><tr><td>tea</td><td>2018-01-01</td><td>18064</td></tr><tr><td>coffee</td><td>2018-01-02</td><td>23543</td></tr><tr><td>tea</td><td>2018-01-02</td><td>11734</td></tr><tr><td>coffee</td><td>2018-01-03</td><td>14140</td></tr><tr><td>tea</td><td>2018-01-03</td><td>18537</td></tr><tr><td>coffee</td><td>2018-01-04</td><td>18482</td></tr><tr><td>tea</td><td>2018-01-04</td><td>19584</td></tr><tr><td>coffee</td><td>2018-01-05</td><td>8392</td></tr><tr><td>tea</td><td>2018-01-05</td><td>9517</td></tr><tr><td>coffee</td><td>2018-01-06</td><td>26544</td></tr><tr><td>tea</td><td>2018-01-06</td><td>6620</td></tr><tr><td>coffee</td><td>2018-01-07</td><td>10700</td></tr><tr><td>tea</td><td>2018-01-07</td><td>9712</td></tr><tr><td>coffee</td><td>2018-01-08</td><td>16578</td></tr><tr><td>tea</td><td>2018-01-08</td><td>10347</td></tr><tr><td>coffee</td><td>2018-01-09</td><td>23797</td></tr><tr><td>tea</td><td>2018-01-09</td><td>12011</td></tr><tr><td>coffee</td><td>2018-01-10</td><td>8086</td></tr><tr><td>tea</td><td>2018-01-10</td><td>7510</td></tr><tr><td>coffee</td><td>2018-01-11</td><td>14986</td></tr><tr><td>tea</td><td>2018-01-11</td><td>15948</td></tr><tr><td>coffee</td><td>2018-01-12</td><td>9189</td></tr><tr><td>tea</td><td>2018-01-12</td><td>12719</td></tr><tr><td>coffee</td><td>2018-01-13</td><td>19015</td></tr><tr><td>tea</td><td>2018-01-13</td><td>19345</td></tr><tr><td>coffee</td><td>2018-01-14</td><td>21688</td></tr><tr><td>tea</td><td>2018-01-14</td><td>6065</td></tr><tr><td>coffee</td><td>2018-01-15</td><td>19279</td></tr><tr><td>tea</td><td>2018-01-15</td><td>18361</td></tr><tr><td>coffee</td><td>2018-01-16</td><td>7698</td></tr><tr><td>tea</td><td>2018-01-16</td><td>13612</td></tr><tr><td>coffee</td><td>2018-01-17</td><td>26199</td></tr><tr><td>tea</td><td>2018-01-17</td><td>14540</td></tr><tr><td>coffee</td><td>2018-01-18</td><td>13283</td></tr><tr><td>tea</td><td>2018-01-18</td><td>15954</td></tr><tr><td>coffee</td><td>2018-01-19</td><td>15480</td></tr><tr><td>tea</td><td>2018-01-19</td><td>6226</td></tr><tr><td>coffee</td><td>2018-01-20</td><td>21969</td></tr><tr><td>tea</td><td>2018-01-20</td><td>18016</td></tr><tr><td>coffee</td><td>2018-01-21</td><td>20138</td></tr><tr><td>tea</td><td>2018-01-21</td><td>8540</td></tr><tr><td>coffee</td><td>2018-01-22</td><td>7142</td></tr><tr><td>tea</td><td>2018-01-22</td><td>7136</td></tr><tr><td>coffee</td><td>2018-01-23</td><td>8655</td></tr><tr><td>tea</td><td>2018-01-23</td><td>7141</td></tr><tr><td>coffee</td><td>2018-01-24</td><td>22288</td></tr><tr><td>tea</td><td>2018-01-24</td><td>14091</td></tr><tr><td>coffee</td><td>2018-01-25</td><td>17258</td></tr><tr><td>tea</td><td>2018-01-25</td><td>6326</td></tr><tr><td>coffee</td><td>2018-01-26</td><td>19784</td></tr><tr><td>tea</td><td>2018-01-26</td><td>11716</td></tr><tr><td>coffee</td><td>2018-01-27</td><td>24867</td></tr><tr><td>tea</td><td>2018-01-27</td><td>9134</td></tr><tr><td>coffee</td><td>2018-01-28</td><td>22788</td></tr><tr><td>tea</td><td>2018-01-28</td><td>12450</td></tr><tr><td>coffee</td><td>2018-01-29</td><td>22692</td></tr><tr><td>tea</td><td>2018-01-29</td><td>12205</td></tr><tr><td>coffee</td><td>2018-01-30</td><td>18936</td></tr><tr><td>tea</td><td>2018-01-30</td><td>19277</td></tr><tr><td>coffee</td><td>2018-01-31</td><td>8643</td></tr><tr><td>tea</td><td>2018-01-31</td><td>7504</td></tr><tr><td>coffee</td><td>2018-02-01</td><td>7482</td></tr><tr><td>tea</td><td>2018-02-01</td><td>13786</td></tr><tr><td>coffee</td><td>2018-02-02</td><td>18838</td></tr><tr><td>tea</td><td>2018-02-02</td><td>16239</td></tr><tr><td>coffee</td><td>2018-02-03</td><td>18227</td></tr><tr><td>tea</td><td>2018-02-03</td><td>17606</td></tr><tr><td>coffee</td><td>2018-02-04</td><td>19498</td></tr><tr><td>tea</td><td>2018-02-04</td><td>18324</td></tr><tr><td>coffee</td><td>2018-02-05</td><td>15575</td></tr><tr><td>tea</td><td>2018-02-05</td><td>13408</td></tr><tr><td>coffee</td><td>2018-02-06</td><td>19578</td></tr><tr><td>tea</td><td>2018-02-06</td><td>11296</td></tr><tr><td>coffee</td><td>2018-02-07</td><td>15896</td></tr><tr><td>tea</td><td>2018-02-07</td><td>10420</td></tr><tr><td>coffee</td><td>2018-02-08</td><td>13740</td></tr><tr><td>tea</td><td>2018-02-08</td><td>7608</td></tr><tr><td>coffee</td><td>2018-02-09</td><td>15969</td></tr><tr><td>tea</td><td>2018-02-09</td><td>13675</td></tr><tr><td>coffee</td><td>2018-02-10</td><td>18380</td></tr><tr><td>tea</td><td>2018-02-10</td><td>16441</td></tr><tr><td>coffee</td><td>2018-02-11</td><td>26856</td></tr><tr><td>tea</td><td>2018-02-11</td><td>9603</td></tr><tr><td>coffee</td><td>2018-02-12</td><td>21234</td></tr><tr><td>tea</td><td>2018-02-12</td><td>12399</td></tr><tr><td>coffee</td><td>2018-02-13</td><td>18316</td></tr><tr><td>tea</td><td>2018-02-13</td><td>8112</td></tr><tr><td>coffee</td><td>2018-02-14</td><td>26171</td></tr><tr><td>tea</td><td>2018-02-14</td><td>5350</td></tr><tr><td>coffee</td><td>2018-02-15</td><td>26659</td></tr><tr><td>tea</td><td>2018-02-15</td><td>8870</td></tr><tr><td>coffee</td><td>2018-02-16</td><td>20074</td></tr><tr><td>tea</td><td>2018-02-16</td><td>18519</td></tr><tr><td>coffee</td><td>2018-02-17</td><td>13870</td></tr><tr><td>tea</td><td>2018-02-17</td><td>6908</td></tr><tr><td>coffee</td><td>2018-02-18</td><td>18182</td></tr><tr><td>tea</td><td>2018-02-18</td><td>16729</td></tr><tr><td>coffee</td><td>2018-02-19</td><td>18275</td></tr><tr><td>tea</td><td>2018-02-19</td><td>11653</td></tr><tr><td>coffee</td><td>2018-02-20</td><td>22201</td></tr><tr><td>tea</td><td>2018-02-20</td><td>17886</td></tr><tr><td>coffee</td><td>2018-02-21</td><td>20751</td></tr><tr><td>tea</td><td>2018-02-21</td><td>19123</td></tr><tr><td>coffee</td><td>2018-02-22</td><td>26460</td></tr><tr><td>tea</td><td>2018-02-22</td><td>5402</td></tr><tr><td>coffee</td><td>2018-02-23</td><td>18469</td></tr><tr><td>tea</td><td>2018-02-23</td><td>9644</td></tr><tr><td>coffee</td><td>2018-02-24</td><td>26259</td></tr><tr><td>tea</td><td>2018-02-24</td><td>5681</td></tr><tr><td>coffee</td><td>2018-02-25</td><td>19918</td></tr><tr><td>tea</td><td>2018-02-25</td><td>11736</td></tr><tr><td>coffee</td><td>2018-02-26</td><td>16463</td></tr><tr><td>tea</td><td>2018-02-26</td><td>8588</td></tr><tr><td>coffee</td><td>2018-02-27</td><td>10557</td></tr><tr><td>tea</td><td>2018-02-27</td><td>8246</td></tr><tr><td>coffee</td><td>2018-02-28</td><td>20499</td></tr><tr><td>tea</td><td>2018-02-28</td><td>18891</td></tr><tr><td>coffee</td><td>2018-03-01</td><td>17900</td></tr><tr><td>tea</td><td>2018-03-01</td><td>10421</td></tr><tr><td>coffee</td><td>2018-03-02</td><td>18853</td></tr><tr><td>tea</td><td>2018-03-02</td><td>9847</td></tr><tr><td>coffee</td><td>2018-03-03</td><td>20432</td></tr><tr><td>tea</td><td>2018-03-03</td><td>15466</td></tr><tr><td>coffee</td><td>2018-03-04</td><td>17764</td></tr><tr><td>tea</td><td>2018-03-04</td><td>10898</td></tr><tr><td>coffee</td><td>2018-03-05</td><td>25528</td></tr><tr><td>tea</td><td>2018-03-05</td><td>7849</td></tr><tr><td>coffee</td><td>2018-03-06</td><td>19370</td></tr><tr><td>tea</td><td>2018-03-06</td><td>11474</td></tr><tr><td>coffee</td><td>2018-03-07</td><td>9238</td></tr><tr><td>tea</td><td>2018-03-07</td><td>15395</td></tr><tr><td>coffee</td><td>2018-03-08</td><td>9804</td></tr><tr><td>tea</td><td>2018-03-08</td><td>17586</td></tr><tr><td>coffee</td><td>2018-03-09</td><td>26987</td></tr><tr><td>tea</td><td>2018-03-09</td><td>12420</td></tr><tr><td>coffee</td><td>2018-03-10</td><td>15481</td></tr><tr><td>tea</td><td>2018-03-10</td><td>12359</td></tr><tr><td>coffee</td><td>2018-03-11</td><td>20472</td></tr><tr><td>tea</td><td>2018-03-11</td><td>8582</td></tr><tr><td>coffee</td><td>2018-03-12</td><td>21885</td></tr><tr><td>tea</td><td>2018-03-12</td><td>10660</td></tr><tr><td>coffee</td><td>2018-03-13</td><td>26429</td></tr><tr><td>tea</td><td>2018-03-13</td><td>6450</td></tr><tr><td>coffee</td><td>2018-03-14</td><td>14446</td></tr><tr><td>tea</td><td>2018-03-14</td><td>13238</td></tr><tr><td>coffee</td><td>2018-03-15</td><td>13584</td></tr><tr><td>tea</td><td>2018-03-15</td><td>13756</td></tr><tr><td>coffee</td><td>2018-03-16</td><td>7345</td></tr><tr><td>tea</td><td>2018-03-16</td><td>15126</td></tr><tr><td>coffee</td><td>2018-03-17</td><td>9222</td></tr><tr><td>tea</td><td>2018-03-17</td><td>7340</td></tr><tr><td>coffee</td><td>2018-03-18</td><td>16737</td></tr><tr><td>tea</td><td>2018-03-18</td><td>12202</td></tr><tr><td>coffee</td><td>2018-03-19</td><td>7462</td></tr><tr><td>tea</td><td>2018-03-19</td><td>8557</td></tr><tr><td>coffee</td><td>2018-03-20</td><td>20951</td></tr><tr><td>tea</td><td>2018-03-20</td><td>15720</td></tr><tr><td>coffee</td><td>2018-03-21</td><td>8285</td></tr><tr><td>tea</td><td>2018-03-21</td><td>7629</td></tr><tr><td>coffee</td><td>2018-03-22</td><td>25555</td></tr><tr><td>tea</td><td>2018-03-22</td><td>8402</td></tr><tr><td>coffee</td><td>2018-03-23</td><td>23066</td></tr><tr><td>tea</td><td>2018-03-23</td><td>11176</td></tr><tr><td>coffee</td><td>2018-03-24</td><td>9345</td></tr><tr><td>tea</td><td>2018-03-24</td><td>9175</td></tr><tr><td>coffee</td><td>2018-03-25</td><td>12481</td></tr><tr><td>tea</td><td>2018-03-25</td><td>8605</td></tr><tr><td>coffee</td><td>2018-03-26</td><td>18820</td></tr><tr><td>tea</td><td>2018-03-26</td><td>18304</td></tr><tr><td>coffee</td><td>2018-03-27</td><td>7812</td></tr><tr><td>tea</td><td>2018-03-27</td><td>18110</td></tr><tr><td>coffee</td><td>2018-03-28</td><td>25097</td></tr><tr><td>tea</td><td>2018-03-28</td><td>14601</td></tr><tr><td>coffee</td><td>2018-03-29</td><td>11093</td></tr><tr><td>tea</td><td>2018-03-29</td><td>18659</td></tr><tr><td>coffee</td><td>2018-03-30</td><td>16839</td></tr><tr><td>tea</td><td>2018-03-30</td><td>17035</td></tr><tr><td>coffee</td><td>2018-03-31</td><td>18098</td></tr><tr><td>tea</td><td>2018-03-31</td><td>16016</td></tr><tr><td>coffee</td><td>2018-04-01</td><td>10776</td></tr><tr><td>tea</td><td>2018-04-01</td><td>16845</td></tr><tr><td>coffee</td><td>2018-04-02</td><td>26071</td></tr><tr><td>tea</td><td>2018-04-02</td><td>14485</td></tr><tr><td>coffee</td><td>2018-04-03</td><td>16214</td></tr><tr><td>tea</td><td>2018-04-03</td><td>9356</td></tr><tr><td>coffee</td><td>2018-04-04</td><td>9270</td></tr><tr><td>tea</td><td>2018-04-04</td><td>18966</td></tr><tr><td>coffee</td><td>2018-04-05</td><td>12761</td></tr><tr><td>tea</td><td>2018-04-05</td><td>5035</td></tr><tr><td>coffee</td><td>2018-04-06</td><td>10129</td></tr><tr><td>tea</td><td>2018-04-06</td><td>18528</td></tr><tr><td>coffee</td><td>2018-04-07</td><td>19025</td></tr><tr><td>tea</td><td>2018-04-07</td><td>8468</td></tr><tr><td>coffee</td><td>2018-04-08</td><td>22896</td></tr><tr><td>tea</td><td>2018-04-08</td><td>12076</td></tr><tr><td>coffee</td><td>2018-04-09</td><td>17148</td></tr><tr><td>tea</td><td>2018-04-09</td><td>5620</td></tr><tr><td>coffee</td><td>2018-04-10</td><td>14599</td></tr><tr><td>tea</td><td>2018-04-10</td><td>11876</td></tr><tr><td>coffee</td><td>2018-04-11</td><td>13325</td></tr><tr><td>tea</td><td>2018-04-11</td><td>17942</td></tr><tr><td>coffee</td><td>2018-04-12</td><td>13763</td></tr><tr><td>tea</td><td>2018-04-12</td><td>7547</td></tr><tr><td>coffee</td><td>2018-04-13</td><td>26969</td></tr><tr><td>tea</td><td>2018-04-13</td><td>7220</td></tr><tr><td>coffee</td><td>2018-04-14</td><td>14828</td></tr><tr><td>tea</td><td>2018-04-14</td><td>17517</td></tr><tr><td>coffee</td><td>2018-04-15</td><td>15230</td></tr><tr><td>tea</td><td>2018-04-15</td><td>12846</td></tr><tr><td>coffee</td><td>2018-04-16</td><td>7665</td></tr><tr><td>tea</td><td>2018-04-16</td><td>5963</td></tr><tr><td>coffee</td><td>2018-04-17</td><td>10085</td></tr><tr><td>tea</td><td>2018-04-17</td><td>19658</td></tr><tr><td>coffee</td><td>2018-04-18</td><td>14358</td></tr><tr><td>tea</td><td>2018-04-18</td><td>16069</td></tr><tr><td>coffee</td><td>2018-04-19</td><td>19899</td></tr><tr><td>tea</td><td>2018-04-19</td><td>17303</td></tr><tr><td>coffee</td><td>2018-04-20</td><td>15824</td></tr><tr><td>tea</td><td>2018-04-20</td><td>16183</td></tr><tr><td>coffee</td><td>2018-04-21</td><td>8601</td></tr><tr><td>tea</td><td>2018-04-21</td><td>6326</td></tr><tr><td>coffee</td><td>2018-04-22</td><td>21227</td></tr><tr><td>tea</td><td>2018-04-22</td><td>5771</td></tr><tr><td>coffee</td><td>2018-04-23</td><td>25403</td></tr><tr><td>tea</td><td>2018-04-23</td><td>14636</td></tr><tr><td>coffee</td><td>2018-04-24</td><td>12386</td></tr><tr><td>tea</td><td>2018-04-24</td><td>18138</td></tr><tr><td>coffee</td><td>2018-04-25</td><td>25518</td></tr><tr><td>tea</td><td>2018-04-25</td><td>14813</td></tr><tr><td>coffee</td><td>2018-04-26</td><td>12718</td></tr><tr><td>tea</td><td>2018-04-26</td><td>6512</td></tr><tr><td>coffee</td><td>2018-04-27</td><td>13377</td></tr><tr><td>tea</td><td>2018-04-27</td><td>9716</td></tr><tr><td>coffee</td><td>2018-04-28</td><td>23462</td></tr><tr><td>tea</td><td>2018-04-28</td><td>14314</td></tr><tr><td>coffee</td><td>2018-04-29</td><td>13947</td></tr><tr><td>tea</td><td>2018-04-29</td><td>18778</td></tr><tr><td>coffee</td><td>2018-04-30</td><td>18456</td></tr><tr><td>tea</td><td>2018-04-30</td><td>6712</td></tr><tr><td>coffee</td><td>2018-05-01</td><td>8619</td></tr><tr><td>tea</td><td>2018-05-01</td><td>5714</td></tr><tr><td>coffee</td><td>2018-05-02</td><td>15086</td></tr><tr><td>tea</td><td>2018-05-02</td><td>19842</td></tr><tr><td>coffee</td><td>2018-05-03</td><td>23634</td></tr><tr><td>tea</td><td>2018-05-03</td><td>7727</td></tr><tr><td>coffee</td><td>2018-05-04</td><td>8677</td></tr><tr><td>tea</td><td>2018-05-04</td><td>6933</td></tr><tr><td>coffee</td><td>2018-05-05</td><td>8024</td></tr><tr><td>tea</td><td>2018-05-05</td><td>5801</td></tr><tr><td>coffee</td><td>2018-05-06</td><td>24321</td></tr><tr><td>tea</td><td>2018-05-06</td><td>5920</td></tr><tr><td>coffee</td><td>2018-05-07</td><td>23240</td></tr><tr><td>tea</td><td>2018-05-07</td><td>17512</td></tr><tr><td>coffee</td><td>2018-05-08</td><td>25266</td></tr><tr><td>tea</td><td>2018-05-08</td><td>14758</td></tr><tr><td>coffee</td><td>2018-05-09</td><td>20683</td></tr><tr><td>tea</td><td>2018-05-09</td><td>11434</td></tr><tr><td>coffee</td><td>2018-05-10</td><td>23768</td></tr><tr><td>tea</td><td>2018-05-10</td><td>9445</td></tr><tr><td>coffee</td><td>2018-05-11</td><td>13069</td></tr><tr><td>tea</td><td>2018-05-11</td><td>7483</td></tr><tr><td>coffee</td><td>2018-05-12</td><td>11017</td></tr><tr><td>tea</td><td>2018-05-12</td><td>5805</td></tr><tr><td>coffee</td><td>2018-05-13</td><td>15427</td></tr><tr><td>tea</td><td>2018-05-13</td><td>9114</td></tr><tr><td>coffee</td><td>2018-05-14</td><td>11522</td></tr><tr><td>tea</td><td>2018-05-14</td><td>19178</td></tr><tr><td>coffee</td><td>2018-05-15</td><td>19266</td></tr><tr><td>tea</td><td>2018-05-15</td><td>10754</td></tr><tr><td>coffee</td><td>2018-05-16</td><td>18658</td></tr><tr><td>tea</td><td>2018-05-16</td><td>12127</td></tr><tr><td>coffee</td><td>2018-05-17</td><td>20844</td></tr><tr><td>tea</td><td>2018-05-17</td><td>16257</td></tr><tr><td>coffee</td><td>2018-05-18</td><td>23052</td></tr><tr><td>tea</td><td>2018-05-18</td><td>13623</td></tr><tr><td>coffee</td><td>2018-05-19</td><td>18327</td></tr><tr><td>tea</td><td>2018-05-19</td><td>17502</td></tr><tr><td>coffee</td><td>2018-05-20</td><td>9470</td></tr><tr><td>tea</td><td>2018-05-20</td><td>19920</td></tr><tr><td>coffee</td><td>2018-05-21</td><td>13886</td></tr><tr><td>tea</td><td>2018-05-21</td><td>15409</td></tr><tr><td>coffee</td><td>2018-05-22</td><td>20817</td></tr><tr><td>tea</td><td>2018-05-22</td><td>17031</td></tr><tr><td>coffee</td><td>2018-05-23</td><td>20714</td></tr><tr><td>tea</td><td>2018-05-23</td><td>16683</td></tr><tr><td>coffee</td><td>2018-05-24</td><td>13477</td></tr><tr><td>tea</td><td>2018-05-24</td><td>11555</td></tr><tr><td>coffee</td><td>2018-05-25</td><td>15869</td></tr><tr><td>tea</td><td>2018-05-25</td><td>11026</td></tr><tr><td>coffee</td><td>2018-05-26</td><td>14104</td></tr><tr><td>tea</td><td>2018-05-26</td><td>6109</td></tr><tr><td>coffee</td><td>2018-05-27</td><td>9075</td></tr><tr><td>tea</td><td>2018-05-27</td><td>5695</td></tr><tr><td>coffee</td><td>2018-05-28</td><td>13794</td></tr><tr><td>tea</td><td>2018-05-28</td><td>14891</td></tr><tr><td>coffee</td><td>2018-05-29</td><td>25248</td></tr><tr><td>tea</td><td>2018-05-29</td><td>15684</td></tr><tr><td>coffee</td><td>2018-05-30</td><td>13488</td></tr><tr><td>tea</td><td>2018-05-30</td><td>8059</td></tr><tr><td>coffee</td><td>2018-05-31</td><td>13639</td></tr><tr><td>tea</td><td>2018-05-31</td><td>7884</td></tr><tr><td>coffee</td><td>2018-06-01</td><td>19133</td></tr><tr><td>tea</td><td>2018-06-01</td><td>15527</td></tr><tr><td>coffee</td><td>2018-06-02</td><td>22376</td></tr><tr><td>tea</td><td>2018-06-02</td><td>6809</td></tr><tr><td>coffee</td><td>2018-06-03</td><td>9594</td></tr><tr><td>tea</td><td>2018-06-03</td><td>19509</td></tr><tr><td>coffee</td><td>2018-06-04</td><td>22678</td></tr><tr><td>tea</td><td>2018-06-04</td><td>17269</td></tr><tr><td>coffee</td><td>2018-06-05</td><td>15897</td></tr><tr><td>tea</td><td>2018-06-05</td><td>11636</td></tr><tr><td>coffee</td><td>2018-06-06</td><td>26895</td></tr><tr><td>tea</td><td>2018-06-06</td><td>11830</td></tr><tr><td>coffee</td><td>2018-06-07</td><td>7920</td></tr><tr><td>tea</td><td>2018-06-07</td><td>10653</td></tr><tr><td>coffee</td><td>2018-06-08</td><td>16206</td></tr><tr><td>tea</td><td>2018-06-08</td><td>19526</td></tr><tr><td>coffee</td><td>2018-06-09</td><td>17644</td></tr><tr><td>tea</td><td>2018-06-09</td><td>8099</td></tr><tr><td>coffee</td><td>2018-06-10</td><td>18983</td></tr><tr><td>tea</td><td>2018-06-10</td><td>10435</td></tr><tr><td>coffee</td><td>2018-06-11</td><td>24160</td></tr><tr><td>tea</td><td>2018-06-11</td><td>18973</td></tr><tr><td>coffee</td><td>2018-06-12</td><td>7229</td></tr><tr><td>tea</td><td>2018-06-12</td><td>17082</td></tr><tr><td>coffee</td><td>2018-06-13</td><td>10898</td></tr><tr><td>tea</td><td>2018-06-13</td><td>7377</td></tr><tr><td>coffee</td><td>2018-06-14</td><td>23896</td></tr><tr><td>tea</td><td>2018-06-14</td><td>8138</td></tr><tr><td>coffee</td><td>2018-06-15</td><td>16813</td></tr><tr><td>tea</td><td>2018-06-15</td><td>15159</td></tr><tr><td>coffee</td><td>2018-06-16</td><td>16852</td></tr><tr><td>tea</td><td>2018-06-16</td><td>13892</td></tr><tr><td>coffee</td><td>2018-06-17</td><td>15797</td></tr><tr><td>tea</td><td>2018-06-17</td><td>17593</td></tr><tr><td>coffee</td><td>2018-06-18</td><td>8736</td></tr><tr><td>tea</td><td>2018-06-18</td><td>19352</td></tr><tr><td>coffee</td><td>2018-06-19</td><td>15269</td></tr><tr><td>tea</td><td>2018-06-19</td><td>5220</td></tr><tr><td>coffee</td><td>2018-06-20</td><td>11359</td></tr><tr><td>tea</td><td>2018-06-20</td><td>12036</td></tr><tr><td>coffee</td><td>2018-06-21</td><td>14472</td></tr><tr><td>tea</td><td>2018-06-21</td><td>8361</td></tr><tr><td>coffee</td><td>2018-06-22</td><td>11710</td></tr><tr><td>tea</td><td>2018-06-22</td><td>11295</td></tr><tr><td>coffee</td><td>2018-06-23</td><td>26740</td></tr><tr><td>tea</td><td>2018-06-23</td><td>18189</td></tr><tr><td>coffee</td><td>2018-06-24</td><td>24029</td></tr><tr><td>tea</td><td>2018-06-24</td><td>6132</td></tr><tr><td>coffee</td><td>2018-06-25</td><td>23443</td></tr><tr><td>tea</td><td>2018-06-25</td><td>12352</td></tr><tr><td>coffee</td><td>2018-06-26</td><td>19210</td></tr><tr><td>tea</td><td>2018-06-26</td><td>8371</td></tr><tr><td>coffee</td><td>2018-06-27</td><td>19390</td></tr><tr><td>tea</td><td>2018-06-27</td><td>18587</td></tr><tr><td>coffee</td><td>2018-06-28</td><td>9195</td></tr><tr><td>tea</td><td>2018-06-28</td><td>8685</td></tr><tr><td>coffee</td><td>2018-06-29</td><td>15850</td></tr><tr><td>tea</td><td>2018-06-29</td><td>19425</td></tr><tr><td>coffee</td><td>2018-06-30</td><td>13407</td></tr><tr><td>tea</td><td>2018-06-30</td><td>15634</td></tr><tr><td>coffee</td><td>2018-07-01</td><td>22079</td></tr><tr><td>tea</td><td>2018-07-01</td><td>5899</td></tr><tr><td>coffee</td><td>2018-07-02</td><td>16928</td></tr><tr><td>tea</td><td>2018-07-02</td><td>6984</td></tr><tr><td>coffee</td><td>2018-07-03</td><td>19842</td></tr><tr><td>tea</td><td>2018-07-03</td><td>12424</td></tr><tr><td>coffee</td><td>2018-07-04</td><td>12803</td></tr><tr><td>tea</td><td>2018-07-04</td><td>8014</td></tr><tr><td>coffee</td><td>2018-07-05</td><td>14031</td></tr><tr><td>tea</td><td>2018-07-05</td><td>15492</td></tr><tr><td>coffee</td><td>2018-07-06</td><td>14121</td></tr><tr><td>tea</td><td>2018-07-06</td><td>6990</td></tr><tr><td>coffee</td><td>2018-07-07</td><td>8555</td></tr><tr><td>tea</td><td>2018-07-07</td><td>17651</td></tr><tr><td>coffee</td><td>2018-07-08</td><td>16993</td></tr><tr><td>tea</td><td>2018-07-08</td><td>9460</td></tr><tr><td>coffee</td><td>2018-07-09</td><td>26295</td></tr><tr><td>tea</td><td>2018-07-09</td><td>8517</td></tr><tr><td>coffee</td><td>2018-07-10</td><td>10867</td></tr><tr><td>tea</td><td>2018-07-10</td><td>7633</td></tr><tr><td>coffee</td><td>2018-07-11</td><td>10425</td></tr><tr><td>tea</td><td>2018-07-11</td><td>7345</td></tr><tr><td>coffee</td><td>2018-07-12</td><td>22942</td></tr><tr><td>tea</td><td>2018-07-12</td><td>8802</td></tr><tr><td>coffee</td><td>2018-07-13</td><td>17448</td></tr><tr><td>tea</td><td>2018-07-13</td><td>8767</td></tr><tr><td>coffee</td><td>2018-07-14</td><td>23369</td></tr><tr><td>tea</td><td>2018-07-14</td><td>13048</td></tr><tr><td>coffee</td><td>2018-07-15</td><td>24218</td></tr><tr><td>tea</td><td>2018-07-15</td><td>18688</td></tr><tr><td>coffee</td><td>2018-07-16</td><td>8238</td></tr><tr><td>tea</td><td>2018-07-16</td><td>17099</td></tr><tr><td>coffee</td><td>2018-07-17</td><td>10148</td></tr><tr><td>tea</td><td>2018-07-17</td><td>16923</td></tr><tr><td>coffee</td><td>2018-07-18</td><td>8476</td></tr><tr><td>tea</td><td>2018-07-18</td><td>14938</td></tr><tr><td>coffee</td><td>2018-07-19</td><td>7481</td></tr><tr><td>tea</td><td>2018-07-19</td><td>19319</td></tr><tr><td>coffee</td><td>2018-07-20</td><td>13289</td></tr><tr><td>tea</td><td>2018-07-20</td><td>7699</td></tr><tr><td>coffee</td><td>2018-07-21</td><td>14762</td></tr><tr><td>tea</td><td>2018-07-21</td><td>8966</td></tr><tr><td>coffee</td><td>2018-07-22</td><td>26969</td></tr><tr><td>tea</td><td>2018-07-22</td><td>6571</td></tr><tr><td>coffee</td><td>2018-07-23</td><td>18769</td></tr><tr><td>tea</td><td>2018-07-23</td><td>9898</td></tr><tr><td>coffee</td><td>2018-07-24</td><td>12299</td></tr><tr><td>tea</td><td>2018-07-24</td><td>15056</td></tr><tr><td>coffee</td><td>2018-07-25</td><td>18590</td></tr><tr><td>tea</td><td>2018-07-25</td><td>8529</td></tr><tr><td>coffee</td><td>2018-07-26</td><td>18398</td></tr><tr><td>tea</td><td>2018-07-26</td><td>16883</td></tr><tr><td>coffee</td><td>2018-07-27</td><td>9990</td></tr><tr><td>tea</td><td>2018-07-27</td><td>16851</td></tr><tr><td>coffee</td><td>2018-07-28</td><td>16490</td></tr><tr><td>tea</td><td>2018-07-28</td><td>17198</td></tr><tr><td>coffee</td><td>2018-07-29</td><td>11707</td></tr><tr><td>tea</td><td>2018-07-29</td><td>9802</td></tr><tr><td>coffee</td><td>2018-07-30</td><td>9205</td></tr><tr><td>tea</td><td>2018-07-30</td><td>12950</td></tr><tr><td>coffee</td><td>2018-07-31</td><td>24846</td></tr><tr><td>tea</td><td>2018-07-31</td><td>19250</td></tr><tr><td>coffee</td><td>2018-08-01</td><td>23478</td></tr><tr><td>tea</td><td>2018-08-01</td><td>9195</td></tr><tr><td>coffee</td><td>2018-08-02</td><td>15964</td></tr><tr><td>tea</td><td>2018-08-02</td><td>14144</td></tr><tr><td>coffee</td><td>2018-08-03</td><td>26876</td></tr><tr><td>tea</td><td>2018-08-03</td><td>18350</td></tr><tr><td>coffee</td><td>2018-08-04</td><td>10220</td></tr><tr><td>tea</td><td>2018-08-04</td><td>6441</td></tr><tr><td>coffee</td><td>2018-08-05</td><td>26626</td></tr><tr><td>tea</td><td>2018-08-05</td><td>9119</td></tr><tr><td>coffee</td><td>2018-08-06</td><td>25391</td></tr><tr><td>tea</td><td>2018-08-06</td><td>7404</td></tr><tr><td>coffee</td><td>2018-08-07</td><td>8503</td></tr><tr><td>tea</td><td>2018-08-07</td><td>19900</td></tr><tr><td>coffee</td><td>2018-08-08</td><td>9424</td></tr><tr><td>tea</td><td>2018-08-08</td><td>7882</td></tr><tr><td>coffee</td><td>2018-08-09</td><td>16607</td></tr><tr><td>tea</td><td>2018-08-09</td><td>13262</td></tr><tr><td>coffee</td><td>2018-08-10</td><td>22563</td></tr><tr><td>tea</td><td>2018-08-10</td><td>14885</td></tr><tr><td>coffee</td><td>2018-08-11</td><td>24457</td></tr><tr><td>tea</td><td>2018-08-11</td><td>6110</td></tr><tr><td>coffee</td><td>2018-08-12</td><td>17657</td></tr><tr><td>tea</td><td>2018-08-12</td><td>19130</td></tr><tr><td>coffee</td><td>2018-08-13</td><td>15224</td></tr><tr><td>tea</td><td>2018-08-13</td><td>9127</td></tr><tr><td>coffee</td><td>2018-08-14</td><td>25227</td></tr><tr><td>tea</td><td>2018-08-14</td><td>15102</td></tr><tr><td>coffee</td><td>2018-08-15</td><td>22525</td></tr><tr><td>tea</td><td>2018-08-15</td><td>19908</td></tr><tr><td>coffee</td><td>2018-08-16</td><td>21497</td></tr><tr><td>tea</td><td>2018-08-16</td><td>17485</td></tr><tr><td>coffee</td><td>2018-08-17</td><td>15835</td></tr><tr><td>tea</td><td>2018-08-17</td><td>17290</td></tr><tr><td>coffee</td><td>2018-08-18</td><td>14693</td></tr><tr><td>tea</td><td>2018-08-18</td><td>13606</td></tr><tr><td>coffee</td><td>2018-08-19</td><td>19951</td></tr><tr><td>tea</td><td>2018-08-19</td><td>19376</td></tr><tr><td>coffee</td><td>2018-08-20</td><td>24472</td></tr><tr><td>tea</td><td>2018-08-20</td><td>9705</td></tr><tr><td>coffee</td><td>2018-08-21</td><td>14556</td></tr><tr><td>tea</td><td>2018-08-21</td><td>9293</td></tr><tr><td>coffee</td><td>2018-08-22</td><td>16569</td></tr><tr><td>tea</td><td>2018-08-22</td><td>7917</td></tr><tr><td>coffee</td><td>2018-08-23</td><td>9286</td></tr><tr><td>tea</td><td>2018-08-23</td><td>17078</td></tr><tr><td>coffee</td><td>2018-08-24</td><td>21031</td></tr><tr><td>tea</td><td>2018-08-24</td><td>11085</td></tr><tr><td>coffee</td><td>2018-08-25</td><td>7017</td></tr><tr><td>tea</td><td>2018-08-25</td><td>17542</td></tr><tr><td>coffee</td><td>2018-08-26</td><td>25098</td></tr><tr><td>tea</td><td>2018-08-26</td><td>18594</td></tr><tr><td>coffee</td><td>2018-08-27</td><td>16867</td></tr><tr><td>tea</td><td>2018-08-27</td><td>8252</td></tr><tr><td>coffee</td><td>2018-08-28</td><td>20978</td></tr><tr><td>tea</td><td>2018-08-28</td><td>13976</td></tr><tr><td>coffee</td><td>2018-08-29</td><td>23917</td></tr><tr><td>tea</td><td>2018-08-29</td><td>19596</td></tr><tr><td>coffee</td><td>2018-08-30</td><td>14624</td></tr><tr><td>tea</td><td>2018-08-30</td><td>18867</td></tr><tr><td>coffee</td><td>2018-08-31</td><td>22187</td></tr><tr><td>tea</td><td>2018-08-31</td><td>15345</td></tr><tr><td>coffee</td><td>2018-09-01</td><td>7503</td></tr><tr><td>tea</td><td>2018-09-01</td><td>17462</td></tr><tr><td>coffee</td><td>2018-09-02</td><td>18417</td></tr><tr><td>tea</td><td>2018-09-02</td><td>7526</td></tr><tr><td>coffee</td><td>2018-09-03</td><td>10915</td></tr><tr><td>tea</td><td>2018-09-03</td><td>8635</td></tr><tr><td>coffee</td><td>2018-09-04</td><td>23743</td></tr><tr><td>tea</td><td>2018-09-04</td><td>17024</td></tr><tr><td>coffee</td><td>2018-09-05</td><td>24347</td></tr><tr><td>tea</td><td>2018-09-05</td><td>18977</td></tr><tr><td>coffee</td><td>2018-09-06</td><td>24665</td></tr><tr><td>tea</td><td>2018-09-06</td><td>5289</td></tr><tr><td>coffee</td><td>2018-09-07</td><td>26848</td></tr><tr><td>tea</td><td>2018-09-07</td><td>12643</td></tr><tr><td>coffee</td><td>2018-09-08</td><td>7165</td></tr><tr><td>tea</td><td>2018-09-08</td><td>9628</td></tr><tr><td>coffee</td><td>2018-09-09</td><td>13974</td></tr><tr><td>tea</td><td>2018-09-09</td><td>10306</td></tr><tr><td>coffee</td><td>2018-09-10</td><td>21121</td></tr><tr><td>tea</td><td>2018-09-10</td><td>12423</td></tr><tr><td>coffee</td><td>2018-09-11</td><td>12318</td></tr><tr><td>tea</td><td>2018-09-11</td><td>17798</td></tr><tr><td>coffee</td><td>2018-09-12</td><td>19080</td></tr><tr><td>tea</td><td>2018-09-12</td><td>12429</td></tr><tr><td>coffee</td><td>2018-09-13</td><td>9414</td></tr><tr><td>tea</td><td>2018-09-13</td><td>12026</td></tr><tr><td>coffee</td><td>2018-09-14</td><td>18045</td></tr><tr><td>tea</td><td>2018-09-14</td><td>10329</td></tr><tr><td>coffee</td><td>2018-09-15</td><td>8298</td></tr><tr><td>tea</td><td>2018-09-15</td><td>6058</td></tr><tr><td>coffee</td><td>2018-09-16</td><td>23508</td></tr><tr><td>tea</td><td>2018-09-16</td><td>12049</td></tr><tr><td>coffee</td><td>2018-09-17</td><td>20980</td></tr><tr><td>tea</td><td>2018-09-17</td><td>13329</td></tr><tr><td>coffee</td><td>2018-09-18</td><td>15326</td></tr><tr><td>tea</td><td>2018-09-18</td><td>6860</td></tr><tr><td>coffee</td><td>2018-09-19</td><td>26562</td></tr><tr><td>tea</td><td>2018-09-19</td><td>15531</td></tr><tr><td>coffee</td><td>2018-09-20</td><td>14059</td></tr><tr><td>tea</td><td>2018-09-20</td><td>8848</td></tr><tr><td>coffee</td><td>2018-09-21</td><td>26441</td></tr><tr><td>tea</td><td>2018-09-21</td><td>17416</td></tr><tr><td>coffee</td><td>2018-09-22</td><td>26144</td></tr><tr><td>tea</td><td>2018-09-22</td><td>17756</td></tr><tr><td>coffee</td><td>2018-09-23</td><td>16321</td></tr><tr><td>tea</td><td>2018-09-23</td><td>9043</td></tr><tr><td>coffee</td><td>2018-09-24</td><td>26394</td></tr><tr><td>tea</td><td>2018-09-24</td><td>12081</td></tr><tr><td>coffee</td><td>2018-09-25</td><td>13424</td></tr><tr><td>tea</td><td>2018-09-25</td><td>6837</td></tr><tr><td>coffee</td><td>2018-09-26</td><td>11576</td></tr><tr><td>tea</td><td>2018-09-26</td><td>13434</td></tr><tr><td>coffee</td><td>2018-09-27</td><td>9353</td></tr><tr><td>tea</td><td>2018-09-27</td><td>17880</td></tr><tr><td>coffee</td><td>2018-09-28</td><td>11777</td></tr><tr><td>tea</td><td>2018-09-28</td><td>12737</td></tr><tr><td>coffee</td><td>2018-09-29</td><td>17500</td></tr><tr><td>tea</td><td>2018-09-29</td><td>19043</td></tr><tr><td>coffee</td><td>2018-09-30</td><td>20821</td></tr><tr><td>tea</td><td>2018-09-30</td><td>15885</td></tr><tr><td>coffee</td><td>2018-10-01</td><td>8469</td></tr><tr><td>tea</td><td>2018-10-01</td><td>9765</td></tr><tr><td>coffee</td><td>2018-10-02</td><td>8836</td></tr><tr><td>tea</td><td>2018-10-02</td><td>17327</td></tr><tr><td>coffee</td><td>2018-10-03</td><td>13214</td></tr><tr><td>tea</td><td>2018-10-03</td><td>9804</td></tr><tr><td>coffee</td><td>2018-10-04</td><td>7080</td></tr><tr><td>tea</td><td>2018-10-04</td><td>6659</td></tr><tr><td>coffee</td><td>2018-10-05</td><td>8320</td></tr><tr><td>tea</td><td>2018-10-05</td><td>13809</td></tr><tr><td>coffee</td><td>2018-10-06</td><td>10408</td></tr><tr><td>tea</td><td>2018-10-06</td><td>7592</td></tr><tr><td>coffee</td><td>2018-10-07</td><td>20469</td></tr><tr><td>tea</td><td>2018-10-07</td><td>8566</td></tr><tr><td>coffee</td><td>2018-10-08</td><td>8034</td></tr><tr><td>tea</td><td>2018-10-08</td><td>9549</td></tr><tr><td>coffee</td><td>2018-10-09</td><td>20669</td></tr><tr><td>tea</td><td>2018-10-09</td><td>7768</td></tr><tr><td>coffee</td><td>2018-10-10</td><td>23493</td></tr><tr><td>tea</td><td>2018-10-10</td><td>5466</td></tr><tr><td>coffee</td><td>2018-10-11</td><td>10578</td></tr><tr><td>tea</td><td>2018-10-11</td><td>14251</td></tr><tr><td>coffee</td><td>2018-10-12</td><td>16372</td></tr><tr><td>tea</td><td>2018-10-12</td><td>9206</td></tr><tr><td>coffee</td><td>2018-10-13</td><td>11790</td></tr><tr><td>tea</td><td>2018-10-13</td><td>6763</td></tr><tr><td>coffee</td><td>2018-10-14</td><td>19558</td></tr><tr><td>tea</td><td>2018-10-14</td><td>13329</td></tr><tr><td>coffee</td><td>2018-10-15</td><td>17638</td></tr><tr><td>tea</td><td>2018-10-15</td><td>16643</td></tr><tr><td>coffee</td><td>2018-10-16</td><td>15721</td></tr><tr><td>tea</td><td>2018-10-16</td><td>8291</td></tr><tr><td>coffee</td><td>2018-10-17</td><td>11475</td></tr><tr><td>tea</td><td>2018-10-17</td><td>14738</td></tr><tr><td>coffee</td><td>2018-10-18</td><td>10650</td></tr><tr><td>tea</td><td>2018-10-18</td><td>12970</td></tr><tr><td>coffee</td><td>2018-10-19</td><td>7765</td></tr><tr><td>tea</td><td>2018-10-19</td><td>15685</td></tr><tr><td>coffee</td><td>2018-10-20</td><td>22873</td></tr><tr><td>tea</td><td>2018-10-20</td><td>9227</td></tr><tr><td>coffee</td><td>2018-10-21</td><td>20179</td></tr><tr><td>tea</td><td>2018-10-21</td><td>10714</td></tr><tr><td>coffee</td><td>2018-10-22</td><td>13976</td></tr><tr><td>tea</td><td>2018-10-22</td><td>5118</td></tr><tr><td>coffee</td><td>2018-10-23</td><td>24539</td></tr><tr><td>tea</td><td>2018-10-23</td><td>19522</td></tr><tr><td>coffee</td><td>2018-10-24</td><td>12228</td></tr><tr><td>tea</td><td>2018-10-24</td><td>18473</td></tr><tr><td>coffee</td><td>2018-10-25</td><td>22575</td></tr><tr><td>tea</td><td>2018-10-25</td><td>8769</td></tr><tr><td>coffee</td><td>2018-10-26</td><td>7702</td></tr><tr><td>tea</td><td>2018-10-26</td><td>12228</td></tr><tr><td>coffee</td><td>2018-10-27</td><td>20289</td></tr><tr><td>tea</td><td>2018-10-27</td><td>9551</td></tr><tr><td>coffee</td><td>2018-10-28</td><td>13340</td></tr><tr><td>tea</td><td>2018-10-28</td><td>19450</td></tr><tr><td>coffee</td><td>2018-10-29</td><td>17003</td></tr><tr><td>tea</td><td>2018-10-29</td><td>17026</td></tr><tr><td>coffee</td><td>2018-10-30</td><td>16871</td></tr><tr><td>tea</td><td>2018-10-30</td><td>6465</td></tr><tr><td>coffee</td><td>2018-10-31</td><td>23826</td></tr><tr><td>tea</td><td>2018-10-31</td><td>19673</td></tr><tr><td>coffee</td><td>2018-11-01</td><td>19270</td></tr><tr><td>tea</td><td>2018-11-01</td><td>18604</td></tr><tr><td>coffee</td><td>2018-11-02</td><td>25795</td></tr><tr><td>tea</td><td>2018-11-02</td><td>14679</td></tr><tr><td>coffee</td><td>2018-11-03</td><td>7594</td></tr><tr><td>tea</td><td>2018-11-03</td><td>10930</td></tr><tr><td>coffee</td><td>2018-11-04</td><td>12899</td></tr><tr><td>tea</td><td>2018-11-04</td><td>9039</td></tr><tr><td>coffee</td><td>2018-11-05</td><td>20694</td></tr><tr><td>tea</td><td>2018-11-05</td><td>10354</td></tr><tr><td>coffee</td><td>2018-11-06</td><td>11845</td></tr><tr><td>tea</td><td>2018-11-06</td><td>13529</td></tr><tr><td>coffee</td><td>2018-11-07</td><td>26291</td></tr><tr><td>tea</td><td>2018-11-07</td><td>14703</td></tr><tr><td>coffee</td><td>2018-11-08</td><td>8932</td></tr><tr><td>tea</td><td>2018-11-08</td><td>12268</td></tr><tr><td>coffee</td><td>2018-11-09</td><td>18481</td></tr><tr><td>tea</td><td>2018-11-09</td><td>16957</td></tr><tr><td>coffee</td><td>2018-11-10</td><td>22457</td></tr><tr><td>tea</td><td>2018-11-10</td><td>10083</td></tr><tr><td>coffee</td><td>2018-11-11</td><td>8929</td></tr><tr><td>tea</td><td>2018-11-11</td><td>5824</td></tr><tr><td>coffee</td><td>2018-11-12</td><td>20175</td></tr><tr><td>tea</td><td>2018-11-12</td><td>14238</td></tr><tr><td>coffee</td><td>2018-11-13</td><td>12393</td></tr><tr><td>tea</td><td>2018-11-13</td><td>11290</td></tr><tr><td>coffee</td><td>2018-11-14</td><td>8579</td></tr><tr><td>tea</td><td>2018-11-14</td><td>15206</td></tr><tr><td>coffee</td><td>2018-11-15</td><td>12307</td></tr><tr><td>tea</td><td>2018-11-15</td><td>18998</td></tr><tr><td>coffee</td><td>2018-11-16</td><td>12680</td></tr><tr><td>tea</td><td>2018-11-16</td><td>9219</td></tr><tr><td>coffee</td><td>2018-11-17</td><td>23856</td></tr><tr><td>tea</td><td>2018-11-17</td><td>7574</td></tr><tr><td>coffee</td><td>2018-11-18</td><td>12224</td></tr><tr><td>tea</td><td>2018-11-18</td><td>9577</td></tr><tr><td>coffee</td><td>2018-11-19</td><td>18820</td></tr><tr><td>tea</td><td>2018-11-19</td><td>7339</td></tr><tr><td>coffee</td><td>2018-11-20</td><td>14892</td></tr><tr><td>tea</td><td>2018-11-20</td><td>11449</td></tr><tr><td>coffee</td><td>2018-11-21</td><td>21320</td></tr><tr><td>tea</td><td>2018-11-21</td><td>14748</td></tr><tr><td>coffee</td><td>2018-11-22</td><td>18725</td></tr><tr><td>tea</td><td>2018-11-22</td><td>11902</td></tr><tr><td>coffee</td><td>2018-11-23</td><td>20199</td></tr><tr><td>tea</td><td>2018-11-23</td><td>11508</td></tr><tr><td>coffee</td><td>2018-11-24</td><td>17182</td></tr><tr><td>tea</td><td>2018-11-24</td><td>14020</td></tr><tr><td>coffee</td><td>2018-11-25</td><td>23717</td></tr><tr><td>tea</td><td>2018-11-25</td><td>5185</td></tr><tr><td>coffee</td><td>2018-11-26</td><td>15467</td></tr><tr><td>tea</td><td>2018-11-26</td><td>12484</td></tr><tr><td>coffee</td><td>2018-11-27</td><td>11093</td></tr><tr><td>tea</td><td>2018-11-27</td><td>12015</td></tr><tr><td>coffee</td><td>2018-11-28</td><td>21282</td></tr><tr><td>tea</td><td>2018-11-28</td><td>9541</td></tr><tr><td>coffee</td><td>2018-11-29</td><td>24020</td></tr><tr><td>tea</td><td>2018-11-29</td><td>5197</td></tr><tr><td>coffee</td><td>2018-11-30</td><td>12026</td></tr><tr><td>tea</td><td>2018-11-30</td><td>7405</td></tr><tr><td>coffee</td><td>2018-12-01</td><td>15425</td></tr><tr><td>tea</td><td>2018-12-01</td><td>11483</td></tr><tr><td>coffee</td><td>2018-12-02</td><td>13045</td></tr><tr><td>tea</td><td>2018-12-02</td><td>8941</td></tr><tr><td>coffee</td><td>2018-12-03</td><td>25329</td></tr><tr><td>tea</td><td>2018-12-03</td><td>16322</td></tr><tr><td>coffee</td><td>2018-12-04</td><td>15690</td></tr><tr><td>tea</td><td>2018-12-04</td><td>18158</td></tr><tr><td>coffee</td><td>2018-12-05</td><td>7044</td></tr><tr><td>tea</td><td>2018-12-05</td><td>6265</td></tr><tr><td>coffee</td><td>2018-12-06</td><td>24819</td></tr><tr><td>tea</td><td>2018-12-06</td><td>7505</td></tr><tr><td>coffee</td><td>2018-12-07</td><td>7202</td></tr><tr><td>tea</td><td>2018-12-07</td><td>19961</td></tr><tr><td>coffee</td><td>2018-12-08</td><td>14163</td></tr><tr><td>tea</td><td>2018-12-08</td><td>16201</td></tr><tr><td>coffee</td><td>2018-12-09</td><td>19805</td></tr><tr><td>tea</td><td>2018-12-09</td><td>14813</td></tr><tr><td>coffee</td><td>2018-12-10</td><td>18314</td></tr><tr><td>tea</td><td>2018-12-10</td><td>16177</td></tr><tr><td>coffee</td><td>2018-12-11</td><td>22868</td></tr><tr><td>tea</td><td>2018-12-11</td><td>7988</td></tr><tr><td>coffee</td><td>2018-12-12</td><td>26723</td></tr><tr><td>tea</td><td>2018-12-12</td><td>6933</td></tr><tr><td>coffee</td><td>2018-12-13</td><td>13740</td></tr><tr><td>tea</td><td>2018-12-13</td><td>12613</td></tr><tr><td>coffee</td><td>2018-12-14</td><td>25378</td></tr><tr><td>tea</td><td>2018-12-14</td><td>8877</td></tr><tr><td>coffee</td><td>2018-12-15</td><td>7559</td></tr><tr><td>tea</td><td>2018-12-15</td><td>15494</td></tr><tr><td>coffee</td><td>2018-12-16</td><td>24977</td></tr><tr><td>tea</td><td>2018-12-16</td><td>19077</td></tr><tr><td>coffee</td><td>2018-12-17</td><td>15219</td></tr><tr><td>tea</td><td>2018-12-17</td><td>17860</td></tr><tr><td>coffee</td><td>2018-12-18</td><td>20548</td></tr><tr><td>tea</td><td>2018-12-18</td><td>6214</td></tr><tr><td>coffee</td><td>2018-12-19</td><td>15168</td></tr><tr><td>tea</td><td>2018-12-19</td><td>6705</td></tr><tr><td>coffee</td><td>2018-12-20</td><td>23130</td></tr><tr><td>tea</td><td>2018-12-20</td><td>19248</td></tr><tr><td>coffee</td><td>2018-12-21</td><td>25699</td></tr><tr><td>tea</td><td>2018-12-21</td><td>18329</td></tr><tr><td>coffee</td><td>2018-12-22</td><td>16376</td></tr><tr><td>tea</td><td>2018-12-22</td><td>19406</td></tr><tr><td>coffee</td><td>2018-12-23</td><td>22243</td></tr><tr><td>tea</td><td>2018-12-23</td><td>13153</td></tr><tr><td>coffee</td><td>2018-12-24</td><td>19662</td></tr><tr><td>tea</td><td>2018-12-24</td><td>6638</td></tr><tr><td>coffee</td><td>2018-12-25</td><td>11011</td></tr><tr><td>tea</td><td>2018-12-25</td><td>19326</td></tr><tr><td>coffee</td><td>2018-12-26</td><td>9038</td></tr><tr><td>tea</td><td>2018-12-26</td><td>5207</td></tr><tr><td>coffee</td><td>2018-12-27</td><td>23549</td></tr><tr><td>tea</td><td>2018-12-27</td><td>9533</td></tr><tr><td>coffee</td><td>2018-12-28</td><td>21703</td></tr><tr><td>tea</td><td>2018-12-28</td><td>10504</td></tr><tr><td>coffee</td><td>2018-12-29</td><td>9827</td></tr><tr><td>tea</td><td>2018-12-29</td><td>16193</td></tr><tr><td>coffee</td><td>2018-12-30</td><td>8959</td></tr><tr><td>tea</td><td>2018-12-30</td><td>14275</td></tr><tr><td>coffee</td><td>2018-12-31</td><td>7753</td></tr><tr><td>tea</td><td>2018-12-31</td><td>14154</td></tr><tr><td>coffee</td><td>2019-01-01</td><td>10091</td></tr><tr><td>tea</td><td>2019-01-01</td><td>15614</td></tr><tr><td>coffee</td><td>2019-01-02</td><td>24392</td></tr><tr><td>tea</td><td>2019-01-02</td><td>17415</td></tr><tr><td>coffee</td><td>2019-01-03</td><td>18413</td></tr><tr><td>tea</td><td>2019-01-03</td><td>8280</td></tr><tr><td>coffee</td><td>2019-01-04</td><td>21958</td></tr><tr><td>tea</td><td>2019-01-04</td><td>19780</td></tr><tr><td>coffee</td><td>2019-01-05</td><td>26905</td></tr><tr><td>tea</td><td>2019-01-05</td><td>9625</td></tr><tr><td>coffee</td><td>2019-01-06</td><td>10573</td></tr><tr><td>tea</td><td>2019-01-06</td><td>18078</td></tr><tr><td>coffee</td><td>2019-01-07</td><td>17336</td></tr><tr><td>tea</td><td>2019-01-07</td><td>5355</td></tr><tr><td>coffee</td><td>2019-01-08</td><td>13514</td></tr><tr><td>tea</td><td>2019-01-08</td><td>13804</td></tr><tr><td>coffee</td><td>2019-01-09</td><td>23767</td></tr><tr><td>tea</td><td>2019-01-09</td><td>11659</td></tr><tr><td>coffee</td><td>2019-01-10</td><td>9307</td></tr><tr><td>tea</td><td>2019-01-10</td><td>11657</td></tr><tr><td>coffee</td><td>2019-01-11</td><td>9762</td></tr><tr><td>tea</td><td>2019-01-11</td><td>12559</td></tr><tr><td>coffee</td><td>2019-01-12</td><td>11791</td></tr><tr><td>tea</td><td>2019-01-12</td><td>13609</td></tr><tr><td>coffee</td><td>2019-01-13</td><td>13788</td></tr><tr><td>tea</td><td>2019-01-13</td><td>10224</td></tr><tr><td>coffee</td><td>2019-01-14</td><td>12566</td></tr><tr><td>tea</td><td>2019-01-14</td><td>19040</td></tr><tr><td>coffee</td><td>2019-01-15</td><td>19041</td></tr><tr><td>tea</td><td>2019-01-15</td><td>7327</td></tr><tr><td>coffee</td><td>2019-01-16</td><td>13110</td></tr><tr><td>tea</td><td>2019-01-16</td><td>5396</td></tr><tr><td>coffee</td><td>2019-01-17</td><td>23856</td></tr><tr><td>tea</td><td>2019-01-17</td><td>14102</td></tr><tr><td>coffee</td><td>2019-01-18</td><td>8564</td></tr><tr><td>tea</td><td>2019-01-18</td><td>9464</td></tr><tr><td>coffee</td><td>2019-01-19</td><td>10857</td></tr><tr><td>tea</td><td>2019-01-19</td><td>17387</td></tr><tr><td>coffee</td><td>2019-01-20</td><td>11962</td></tr><tr><td>tea</td><td>2019-01-20</td><td>9542</td></tr><tr><td>coffee</td><td>2019-01-21</td><td>18190</td></tr><tr><td>tea</td><td>2019-01-21</td><td>9645</td></tr><tr><td>coffee</td><td>2019-01-22</td><td>21329</td></tr><tr><td>tea</td><td>2019-01-22</td><td>12756</td></tr><tr><td>coffee</td><td>2019-01-23</td><td>22201</td></tr><tr><td>tea</td><td>2019-01-23</td><td>19125</td></tr><tr><td>coffee</td><td>2019-01-24</td><td>20888</td></tr><tr><td>tea</td><td>2019-01-24</td><td>19241</td></tr><tr><td>coffee</td><td>2019-01-25</td><td>25333</td></tr><tr><td>tea</td><td>2019-01-25</td><td>12850</td></tr><tr><td>coffee</td><td>2019-01-26</td><td>16436</td></tr><tr><td>tea</td><td>2019-01-26</td><td>11764</td></tr><tr><td>coffee</td><td>2019-01-27</td><td>23212</td></tr><tr><td>tea</td><td>2019-01-27</td><td>14449</td></tr><tr><td>coffee</td><td>2019-01-28</td><td>11138</td></tr><tr><td>tea</td><td>2019-01-28</td><td>16045</td></tr><tr><td>coffee</td><td>2019-01-29</td><td>15870</td></tr><tr><td>tea</td><td>2019-01-29</td><td>8012</td></tr><tr><td>coffee</td><td>2019-01-30</td><td>9215</td></tr><tr><td>tea</td><td>2019-01-30</td><td>18332</td></tr><tr><td>coffee</td><td>2019-01-31</td><td>10821</td></tr><tr><td>tea</td><td>2019-01-31</td><td>8924</td></tr><tr><td>coffee</td><td>2019-02-01</td><td>14581</td></tr><tr><td>tea</td><td>2019-02-01</td><td>17286</td></tr><tr><td>coffee</td><td>2019-02-02</td><td>19488</td></tr><tr><td>tea</td><td>2019-02-02</td><td>10370</td></tr><tr><td>coffee</td><td>2019-02-03</td><td>24559</td></tr><tr><td>tea</td><td>2019-02-03</td><td>14963</td></tr><tr><td>coffee</td><td>2019-02-04</td><td>20410</td></tr><tr><td>tea</td><td>2019-02-04</td><td>12620</td></tr><tr><td>coffee</td><td>2019-02-05</td><td>23549</td></tr><tr><td>tea</td><td>2019-02-05</td><td>17850</td></tr><tr><td>coffee</td><td>2019-02-06</td><td>19808</td></tr><tr><td>tea</td><td>2019-02-06</td><td>16725</td></tr><tr><td>coffee</td><td>2019-02-07</td><td>23295</td></tr><tr><td>tea</td><td>2019-02-07</td><td>18840</td></tr><tr><td>coffee</td><td>2019-02-08</td><td>18636</td></tr><tr><td>tea</td><td>2019-02-08</td><td>6975</td></tr><tr><td>coffee</td><td>2019-02-09</td><td>25638</td></tr><tr><td>tea</td><td>2019-02-09</td><td>13562</td></tr><tr><td>coffee</td><td>2019-02-10</td><td>21863</td></tr><tr><td>tea</td><td>2019-02-10</td><td>7340</td></tr><tr><td>coffee</td><td>2019-02-11</td><td>22584</td></tr><tr><td>tea</td><td>2019-02-11</td><td>7957</td></tr><tr><td>coffee</td><td>2019-02-12</td><td>9531</td></tr><tr><td>tea</td><td>2019-02-12</td><td>11103</td></tr><tr><td>coffee</td><td>2019-02-13</td><td>22345</td></tr><tr><td>tea</td><td>2019-02-13</td><td>9558</td></tr><tr><td>coffee</td><td>2019-02-14</td><td>8010</td></tr><tr><td>tea</td><td>2019-02-14</td><td>18648</td></tr><tr><td>coffee</td><td>2019-02-15</td><td>24718</td></tr><tr><td>tea</td><td>2019-02-15</td><td>18324</td></tr><tr><td>coffee</td><td>2019-02-16</td><td>22277</td></tr><tr><td>tea</td><td>2019-02-16</td><td>5807</td></tr><tr><td>coffee</td><td>2019-02-17</td><td>8075</td></tr><tr><td>tea</td><td>2019-02-17</td><td>15334</td></tr><tr><td>coffee</td><td>2019-02-18</td><td>7145</td></tr><tr><td>tea</td><td>2019-02-18</td><td>9198</td></tr><tr><td>coffee</td><td>2019-02-19</td><td>16910</td></tr><tr><td>tea</td><td>2019-02-19</td><td>17984</td></tr><tr><td>coffee</td><td>2019-02-20</td><td>25480</td></tr><tr><td>tea</td><td>2019-02-20</td><td>14887</td></tr><tr><td>coffee</td><td>2019-02-21</td><td>15234</td></tr><tr><td>tea</td><td>2019-02-21</td><td>10207</td></tr><tr><td>coffee</td><td>2019-02-22</td><td>12939</td></tr><tr><td>tea</td><td>2019-02-22</td><td>15468</td></tr><tr><td>coffee</td><td>2019-02-23</td><td>24916</td></tr><tr><td>tea</td><td>2019-02-23</td><td>16507</td></tr><tr><td>coffee</td><td>2019-02-24</td><td>25263</td></tr><tr><td>tea</td><td>2019-02-24</td><td>16786</td></tr><tr><td>coffee</td><td>2019-02-25</td><td>13999</td></tr><tr><td>tea</td><td>2019-02-25</td><td>9338</td></tr><tr><td>coffee</td><td>2019-02-26</td><td>8641</td></tr><tr><td>tea</td><td>2019-02-26</td><td>7472</td></tr><tr><td>coffee</td><td>2019-02-27</td><td>15734</td></tr><tr><td>tea</td><td>2019-02-27</td><td>17782</td></tr><tr><td>coffee</td><td>2019-02-28</td><td>16639</td></tr><tr><td>tea</td><td>2019-02-28</td><td>18798</td></tr><tr><td>coffee</td><td>2019-03-01</td><td>15954</td></tr><tr><td>tea</td><td>2019-03-01</td><td>10075</td></tr><tr><td>coffee</td><td>2019-03-02</td><td>18079</td></tr><tr><td>tea</td><td>2019-03-02</td><td>11454</td></tr><tr><td>coffee</td><td>2019-03-03</td><td>23058</td></tr><tr><td>tea</td><td>2019-03-03</td><td>19055</td></tr><tr><td>coffee</td><td>2019-03-04</td><td>25802</td></tr><tr><td>tea</td><td>2019-03-04</td><td>10719</td></tr><tr><td>coffee</td><td>2019-03-05</td><td>9317</td></tr><tr><td>tea</td><td>2019-03-05</td><td>16812</td></tr><tr><td>coffee</td><td>2019-03-06</td><td>19641</td></tr><tr><td>tea</td><td>2019-03-06</td><td>14310</td></tr><tr><td>coffee</td><td>2019-03-07</td><td>26725</td></tr><tr><td>tea</td><td>2019-03-07</td><td>13774</td></tr><tr><td>coffee</td><td>2019-03-08</td><td>19488</td></tr><tr><td>tea</td><td>2019-03-08</td><td>15288</td></tr><tr><td>coffee</td><td>2019-03-09</td><td>12110</td></tr><tr><td>tea</td><td>2019-03-09</td><td>15821</td></tr><tr><td>coffee</td><td>2019-03-10</td><td>17179</td></tr><tr><td>tea</td><td>2019-03-10</td><td>7013</td></tr><tr><td>coffee</td><td>2019-03-11</td><td>11249</td></tr><tr><td>tea</td><td>2019-03-11</td><td>15886</td></tr><tr><td>coffee</td><td>2019-03-12</td><td>23393</td></tr><tr><td>tea</td><td>2019-03-12</td><td>8098</td></tr><tr><td>coffee</td><td>2019-03-13</td><td>16708</td></tr><tr><td>tea</td><td>2019-03-13</td><td>5177</td></tr><tr><td>coffee</td><td>2019-03-14</td><td>19336</td></tr><tr><td>tea</td><td>2019-03-14</td><td>16218</td></tr><tr><td>coffee</td><td>2019-03-15</td><td>24833</td></tr><tr><td>tea</td><td>2019-03-15</td><td>15856</td></tr><tr><td>coffee</td><td>2019-03-16</td><td>9728</td></tr><tr><td>tea</td><td>2019-03-16</td><td>11795</td></tr><tr><td>coffee</td><td>2019-03-17</td><td>15021</td></tr><tr><td>tea</td><td>2019-03-17</td><td>7319</td></tr><tr><td>coffee</td><td>2019-03-18</td><td>17340</td></tr><tr><td>tea</td><td>2019-03-18</td><td>15130</td></tr><tr><td>coffee</td><td>2019-03-19</td><td>19255</td></tr><tr><td>tea</td><td>2019-03-19</td><td>10824</td></tr><tr><td>coffee</td><td>2019-03-20</td><td>21927</td></tr><tr><td>tea</td><td>2019-03-20</td><td>16673</td></tr><tr><td>coffee</td><td>2019-03-21</td><td>14581</td></tr><tr><td>tea</td><td>2019-03-21</td><td>13290</td></tr><tr><td>coffee</td><td>2019-03-22</td><td>16879</td></tr><tr><td>tea</td><td>2019-03-22</td><td>18527</td></tr><tr><td>coffee</td><td>2019-03-23</td><td>12053</td></tr><tr><td>tea</td><td>2019-03-23</td><td>18821</td></tr><tr><td>coffee</td><td>2019-03-24</td><td>17907</td></tr><tr><td>tea</td><td>2019-03-24</td><td>15822</td></tr><tr><td>coffee</td><td>2019-03-25</td><td>20425</td></tr><tr><td>tea</td><td>2019-03-25</td><td>19098</td></tr><tr><td>coffee</td><td>2019-03-26</td><td>8395</td></tr><tr><td>tea</td><td>2019-03-26</td><td>8893</td></tr><tr><td>coffee</td><td>2019-03-27</td><td>18911</td></tr><tr><td>tea</td><td>2019-03-27</td><td>12762</td></tr><tr><td>coffee</td><td>2019-03-28</td><td>10268</td></tr><tr><td>tea</td><td>2019-03-28</td><td>15438</td></tr><tr><td>coffee</td><td>2019-03-29</td><td>10546</td></tr><tr><td>tea</td><td>2019-03-29</td><td>16017</td></tr><tr><td>coffee</td><td>2019-03-30</td><td>23807</td></tr><tr><td>tea</td><td>2019-03-30</td><td>5589</td></tr><tr><td>coffee</td><td>2019-03-31</td><td>8392</td></tr><tr><td>tea</td><td>2019-03-31</td><td>13475</td></tr><tr><td>coffee</td><td>2019-04-01</td><td>8678</td></tr><tr><td>tea</td><td>2019-04-01</td><td>19996</td></tr><tr><td>coffee</td><td>2019-04-02</td><td>10242</td></tr><tr><td>tea</td><td>2019-04-02</td><td>16196</td></tr><tr><td>coffee</td><td>2019-04-03</td><td>17934</td></tr><tr><td>tea</td><td>2019-04-03</td><td>8907</td></tr><tr><td>coffee</td><td>2019-04-04</td><td>19850</td></tr><tr><td>tea</td><td>2019-04-04</td><td>16450</td></tr><tr><td>coffee</td><td>2019-04-05</td><td>25227</td></tr><tr><td>tea</td><td>2019-04-05</td><td>14620</td></tr><tr><td>coffee</td><td>2019-04-06</td><td>25797</td></tr><tr><td>tea</td><td>2019-04-06</td><td>17589</td></tr><tr><td>coffee</td><td>2019-04-07</td><td>7196</td></tr><tr><td>tea</td><td>2019-04-07</td><td>8187</td></tr><tr><td>coffee</td><td>2019-04-08</td><td>23889</td></tr><tr><td>tea</td><td>2019-04-08</td><td>7156</td></tr><tr><td>coffee</td><td>2019-04-09</td><td>24532</td></tr><tr><td>tea</td><td>2019-04-09</td><td>15141</td></tr><tr><td>coffee</td><td>2019-04-10</td><td>25082</td></tr><tr><td>tea</td><td>2019-04-10</td><td>13508</td></tr><tr><td>coffee</td><td>2019-04-11</td><td>23819</td></tr><tr><td>tea</td><td>2019-04-11</td><td>10481</td></tr><tr><td>coffee</td><td>2019-04-12</td><td>22850</td></tr><tr><td>tea</td><td>2019-04-12</td><td>5094</td></tr><tr><td>coffee</td><td>2019-04-13</td><td>26399</td></tr><tr><td>tea</td><td>2019-04-13</td><td>11086</td></tr><tr><td>coffee</td><td>2019-04-14</td><td>12897</td></tr><tr><td>tea</td><td>2019-04-14</td><td>6759</td></tr><tr><td>coffee</td><td>2019-04-15</td><td>23795</td></tr><tr><td>tea</td><td>2019-04-15</td><td>19039</td></tr><tr><td>coffee</td><td>2019-04-16</td><td>25179</td></tr><tr><td>tea</td><td>2019-04-16</td><td>8585</td></tr><tr><td>coffee</td><td>2019-04-17</td><td>7256</td></tr><tr><td>tea</td><td>2019-04-17</td><td>6920</td></tr><tr><td>coffee</td><td>2019-04-18</td><td>14757</td></tr><tr><td>tea</td><td>2019-04-18</td><td>19297</td></tr><tr><td>coffee</td><td>2019-04-19</td><td>24206</td></tr><tr><td>tea</td><td>2019-04-19</td><td>6986</td></tr><tr><td>coffee</td><td>2019-04-20</td><td>14818</td></tr><tr><td>tea</td><td>2019-04-20</td><td>17095</td></tr><tr><td>coffee</td><td>2019-04-21</td><td>17488</td></tr><tr><td>tea</td><td>2019-04-21</td><td>7549</td></tr><tr><td>coffee</td><td>2019-04-22</td><td>23556</td></tr><tr><td>tea</td><td>2019-04-22</td><td>15170</td></tr><tr><td>coffee</td><td>2019-04-23</td><td>8826</td></tr><tr><td>tea</td><td>2019-04-23</td><td>14716</td></tr><tr><td>coffee</td><td>2019-04-24</td><td>26964</td></tr><tr><td>tea</td><td>2019-04-24</td><td>10810</td></tr><tr><td>coffee</td><td>2019-04-25</td><td>13302</td></tr><tr><td>tea</td><td>2019-04-25</td><td>15837</td></tr><tr><td>coffee</td><td>2019-04-26</td><td>9811</td></tr><tr><td>tea</td><td>2019-04-26</td><td>17472</td></tr><tr><td>coffee</td><td>2019-04-27</td><td>8846</td></tr><tr><td>tea</td><td>2019-04-27</td><td>7826</td></tr><tr><td>coffee</td><td>2019-04-28</td><td>10347</td></tr><tr><td>tea</td><td>2019-04-28</td><td>5506</td></tr><tr><td>coffee</td><td>2019-04-29</td><td>14578</td></tr><tr><td>tea</td><td>2019-04-29</td><td>17196</td></tr><tr><td>coffee</td><td>2019-04-30</td><td>25328</td></tr><tr><td>tea</td><td>2019-04-30</td><td>13576</td></tr><tr><td>coffee</td><td>2019-05-01</td><td>12207</td></tr><tr><td>tea</td><td>2019-05-01</td><td>12610</td></tr><tr><td>coffee</td><td>2019-05-02</td><td>8642</td></tr><tr><td>tea</td><td>2019-05-02</td><td>8412</td></tr><tr><td>coffee</td><td>2019-05-03</td><td>12907</td></tr><tr><td>tea</td><td>2019-05-03</td><td>11342</td></tr><tr><td>coffee</td><td>2019-05-04</td><td>10893</td></tr><tr><td>tea</td><td>2019-05-04</td><td>14531</td></tr><tr><td>coffee</td><td>2019-05-05</td><td>14835</td></tr><tr><td>tea</td><td>2019-05-05</td><td>11904</td></tr><tr><td>coffee</td><td>2019-05-06</td><td>8750</td></tr><tr><td>tea</td><td>2019-05-06</td><td>6133</td></tr><tr><td>coffee</td><td>2019-05-07</td><td>8203</td></tr><tr><td>tea</td><td>2019-05-07</td><td>17784</td></tr><tr><td>coffee</td><td>2019-05-08</td><td>16529</td></tr><tr><td>tea</td><td>2019-05-08</td><td>8649</td></tr><tr><td>coffee</td><td>2019-05-09</td><td>19688</td></tr><tr><td>tea</td><td>2019-05-09</td><td>9972</td></tr><tr><td>coffee</td><td>2019-05-10</td><td>19456</td></tr><tr><td>tea</td><td>2019-05-10</td><td>11151</td></tr><tr><td>coffee</td><td>2019-05-11</td><td>7019</td></tr><tr><td>tea</td><td>2019-05-11</td><td>13449</td></tr><tr><td>coffee</td><td>2019-05-12</td><td>24802</td></tr><tr><td>tea</td><td>2019-05-12</td><td>5692</td></tr><tr><td>coffee</td><td>2019-05-13</td><td>24992</td></tr><tr><td>tea</td><td>2019-05-13</td><td>5425</td></tr><tr><td>coffee</td><td>2019-05-14</td><td>22622</td></tr><tr><td>tea</td><td>2019-05-14</td><td>18611</td></tr><tr><td>coffee</td><td>2019-05-15</td><td>13135</td></tr><tr><td>tea</td><td>2019-05-15</td><td>15908</td></tr><tr><td>coffee</td><td>2019-05-16</td><td>7226</td></tr><tr><td>tea</td><td>2019-05-16</td><td>6019</td></tr><tr><td>coffee</td><td>2019-05-17</td><td>26703</td></tr><tr><td>tea</td><td>2019-05-17</td><td>13309</td></tr><tr><td>coffee</td><td>2019-05-18</td><td>11690</td></tr><tr><td>tea</td><td>2019-05-18</td><td>15858</td></tr><tr><td>coffee</td><td>2019-05-19</td><td>10966</td></tr><tr><td>tea</td><td>2019-05-19</td><td>19672</td></tr><tr><td>coffee</td><td>2019-05-20</td><td>26115</td></tr><tr><td>tea</td><td>2019-05-20</td><td>10698</td></tr><tr><td>coffee</td><td>2019-05-21</td><td>17725</td></tr><tr><td>tea</td><td>2019-05-21</td><td>11298</td></tr><tr><td>coffee</td><td>2019-05-22</td><td>24236</td></tr><tr><td>tea</td><td>2019-05-22</td><td>14352</td></tr><tr><td>coffee</td><td>2019-05-23</td><td>7488</td></tr><tr><td>tea</td><td>2019-05-23</td><td>13019</td></tr><tr><td>coffee</td><td>2019-05-24</td><td>20816</td></tr><tr><td>tea</td><td>2019-05-24</td><td>17961</td></tr><tr><td>coffee</td><td>2019-05-25</td><td>8695</td></tr><tr><td>tea</td><td>2019-05-25</td><td>15718</td></tr><tr><td>coffee</td><td>2019-05-26</td><td>10759</td></tr><tr><td>tea</td><td>2019-05-26</td><td>16534</td></tr><tr><td>coffee</td><td>2019-05-27</td><td>19267</td></tr><tr><td>tea</td><td>2019-05-27</td><td>6182</td></tr><tr><td>coffee</td><td>2019-05-28</td><td>11535</td></tr><tr><td>tea</td><td>2019-05-28</td><td>13107</td></tr><tr><td>coffee</td><td>2019-05-29</td><td>23449</td></tr><tr><td>tea</td><td>2019-05-29</td><td>11261</td></tr><tr><td>coffee</td><td>2019-05-30</td><td>9450</td></tr><tr><td>tea</td><td>2019-05-30</td><td>15838</td></tr><tr><td>coffee</td><td>2019-05-31</td><td>11023</td></tr><tr><td>tea</td><td>2019-05-31</td><td>19868</td></tr><tr><td>coffee</td><td>2019-06-01</td><td>25482</td></tr><tr><td>tea</td><td>2019-06-01</td><td>6780</td></tr><tr><td>coffee</td><td>2019-06-02</td><td>13282</td></tr><tr><td>tea</td><td>2019-06-02</td><td>6969</td></tr><tr><td>coffee</td><td>2019-06-03</td><td>13492</td></tr><tr><td>tea</td><td>2019-06-03</td><td>9460</td></tr><tr><td>coffee</td><td>2019-06-04</td><td>22130</td></tr><tr><td>tea</td><td>2019-06-04</td><td>14933</td></tr><tr><td>coffee</td><td>2019-06-05</td><td>20442</td></tr><tr><td>tea</td><td>2019-06-05</td><td>12545</td></tr><tr><td>coffee</td><td>2019-06-06</td><td>24597</td></tr><tr><td>tea</td><td>2019-06-06</td><td>16228</td></tr><tr><td>coffee</td><td>2019-06-07</td><td>15314</td></tr><tr><td>tea</td><td>2019-06-07</td><td>13491</td></tr><tr><td>coffee</td><td>2019-06-08</td><td>21481</td></tr><tr><td>tea</td><td>2019-06-08</td><td>10355</td></tr><tr><td>coffee</td><td>2019-06-09</td><td>7732</td></tr><tr><td>tea</td><td>2019-06-09</td><td>7363</td></tr><tr><td>coffee</td><td>2019-06-10</td><td>26791</td></tr><tr><td>tea</td><td>2019-06-10</td><td>6363</td></tr><tr><td>coffee</td><td>2019-06-11</td><td>21463</td></tr><tr><td>tea</td><td>2019-06-11</td><td>5466</td></tr><tr><td>coffee</td><td>2019-06-12</td><td>10886</td></tr><tr><td>tea</td><td>2019-06-12</td><td>8030</td></tr><tr><td>coffee</td><td>2019-06-13</td><td>19604</td></tr><tr><td>tea</td><td>2019-06-13</td><td>12371</td></tr><tr><td>coffee</td><td>2019-06-14</td><td>13704</td></tr><tr><td>tea</td><td>2019-06-14</td><td>10151</td></tr><tr><td>coffee</td><td>2019-06-15</td><td>7177</td></tr><tr><td>tea</td><td>2019-06-15</td><td>19116</td></tr><tr><td>coffee</td><td>2019-06-16</td><td>17307</td></tr><tr><td>tea</td><td>2019-06-16</td><td>9296</td></tr><tr><td>coffee</td><td>2019-06-17</td><td>11263</td></tr><tr><td>tea</td><td>2019-06-17</td><td>14697</td></tr><tr><td>coffee</td><td>2019-06-18</td><td>20573</td></tr><tr><td>tea</td><td>2019-06-18</td><td>6579</td></tr><tr><td>coffee</td><td>2019-06-19</td><td>24918</td></tr><tr><td>tea</td><td>2019-06-19</td><td>10502</td></tr><tr><td>coffee</td><td>2019-06-20</td><td>7006</td></tr><tr><td>tea</td><td>2019-06-20</td><td>6900</td></tr><tr><td>coffee</td><td>2019-06-21</td><td>12607</td></tr><tr><td>tea</td><td>2019-06-21</td><td>10594</td></tr><tr><td>coffee</td><td>2019-06-22</td><td>17247</td></tr><tr><td>tea</td><td>2019-06-22</td><td>8001</td></tr><tr><td>coffee</td><td>2019-06-23</td><td>13888</td></tr><tr><td>tea</td><td>2019-06-23</td><td>13861</td></tr><tr><td>coffee</td><td>2019-06-24</td><td>25318</td></tr><tr><td>tea</td><td>2019-06-24</td><td>6377</td></tr><tr><td>coffee</td><td>2019-06-25</td><td>23556</td></tr><tr><td>tea</td><td>2019-06-25</td><td>14284</td></tr><tr><td>coffee</td><td>2019-06-26</td><td>20922</td></tr><tr><td>tea</td><td>2019-06-26</td><td>12832</td></tr><tr><td>coffee</td><td>2019-06-27</td><td>14672</td></tr><tr><td>tea</td><td>2019-06-27</td><td>18243</td></tr><tr><td>coffee</td><td>2019-06-28</td><td>17306</td></tr><tr><td>tea</td><td>2019-06-28</td><td>6780</td></tr><tr><td>coffee</td><td>2019-06-29</td><td>15276</td></tr><tr><td>tea</td><td>2019-06-29</td><td>9534</td></tr><tr><td>coffee</td><td>2019-06-30</td><td>21671</td></tr><tr><td>tea</td><td>2019-06-30</td><td>9213</td></tr><tr><td>coffee</td><td>2019-07-01</td><td>15507</td></tr><tr><td>tea</td><td>2019-07-01</td><td>18573</td></tr><tr><td>coffee</td><td>2019-07-02</td><td>22647</td></tr><tr><td>tea</td><td>2019-07-02</td><td>15515</td></tr><tr><td>coffee</td><td>2019-07-03</td><td>19871</td></tr><tr><td>tea</td><td>2019-07-03</td><td>15372</td></tr><tr><td>coffee</td><td>2019-07-04</td><td>10533</td></tr><tr><td>tea</td><td>2019-07-04</td><td>5851</td></tr><tr><td>coffee</td><td>2019-07-05</td><td>14271</td></tr><tr><td>tea</td><td>2019-07-05</td><td>19595</td></tr><tr><td>coffee</td><td>2019-07-06</td><td>16573</td></tr><tr><td>tea</td><td>2019-07-06</td><td>16775</td></tr><tr><td>coffee</td><td>2019-07-07</td><td>17214</td></tr><tr><td>tea</td><td>2019-07-07</td><td>9780</td></tr><tr><td>coffee</td><td>2019-07-08</td><td>22414</td></tr><tr><td>tea</td><td>2019-07-08</td><td>9175</td></tr><tr><td>coffee</td><td>2019-07-09</td><td>17000</td></tr><tr><td>tea</td><td>2019-07-09</td><td>15592</td></tr><tr><td>coffee</td><td>2019-07-10</td><td>13756</td></tr><tr><td>tea</td><td>2019-07-10</td><td>15049</td></tr><tr><td>coffee</td><td>2019-07-11</td><td>9759</td></tr><tr><td>tea</td><td>2019-07-11</td><td>8746</td></tr><tr><td>coffee</td><td>2019-07-12</td><td>19137</td></tr><tr><td>tea</td><td>2019-07-12</td><td>14187</td></tr><tr><td>coffee</td><td>2019-07-13</td><td>12810</td></tr><tr><td>tea</td><td>2019-07-13</td><td>8752</td></tr><tr><td>coffee</td><td>2019-07-14</td><td>8089</td></tr><tr><td>tea</td><td>2019-07-14</td><td>7120</td></tr><tr><td>coffee</td><td>2019-07-15</td><td>26561</td></tr><tr><td>tea</td><td>2019-07-15</td><td>11348</td></tr><tr><td>coffee</td><td>2019-07-16</td><td>16791</td></tr><tr><td>tea</td><td>2019-07-16</td><td>13023</td></tr><tr><td>coffee</td><td>2019-07-17</td><td>13480</td></tr><tr><td>tea</td><td>2019-07-17</td><td>8131</td></tr><tr><td>coffee</td><td>2019-07-18</td><td>15324</td></tr><tr><td>tea</td><td>2019-07-18</td><td>19584</td></tr><tr><td>coffee</td><td>2019-07-19</td><td>14708</td></tr><tr><td>tea</td><td>2019-07-19</td><td>7513</td></tr><tr><td>coffee</td><td>2019-07-20</td><td>16256</td></tr><tr><td>tea</td><td>2019-07-20</td><td>6493</td></tr><tr><td>coffee</td><td>2019-07-21</td><td>19952</td></tr><tr><td>tea</td><td>2019-07-21</td><td>13811</td></tr><tr><td>coffee</td><td>2019-07-22</td><td>12377</td></tr><tr><td>tea</td><td>2019-07-22</td><td>8459</td></tr><tr><td>coffee</td><td>2019-07-23</td><td>10163</td></tr><tr><td>tea</td><td>2019-07-23</td><td>14705</td></tr><tr><td>coffee</td><td>2019-07-24</td><td>17220</td></tr><tr><td>tea</td><td>2019-07-24</td><td>18188</td></tr><tr><td>coffee</td><td>2019-07-25</td><td>7845</td></tr><tr><td>tea</td><td>2019-07-25</td><td>16736</td></tr><tr><td>coffee</td><td>2019-07-26</td><td>14515</td></tr><tr><td>tea</td><td>2019-07-26</td><td>18935</td></tr><tr><td>coffee</td><td>2019-07-27</td><td>17215</td></tr><tr><td>tea</td><td>2019-07-27</td><td>5824</td></tr><tr><td>coffee</td><td>2019-07-28</td><td>20029</td></tr><tr><td>tea</td><td>2019-07-28</td><td>17374</td></tr><tr><td>coffee</td><td>2019-07-29</td><td>19052</td></tr><tr><td>tea</td><td>2019-07-29</td><td>16881</td></tr><tr><td>coffee</td><td>2019-07-30</td><td>24993</td></tr><tr><td>tea</td><td>2019-07-30</td><td>17786</td></tr><tr><td>coffee</td><td>2019-07-31</td><td>14564</td></tr><tr><td>tea</td><td>2019-07-31</td><td>16344</td></tr><tr><td>coffee</td><td>2019-08-01</td><td>12548</td></tr><tr><td>tea</td><td>2019-08-01</td><td>14750</td></tr><tr><td>coffee</td><td>2019-08-02</td><td>20005</td></tr><tr><td>tea</td><td>2019-08-02</td><td>6630</td></tr><tr><td>coffee</td><td>2019-08-03</td><td>19426</td></tr><tr><td>tea</td><td>2019-08-03</td><td>13447</td></tr><tr><td>coffee</td><td>2019-08-04</td><td>21369</td></tr><tr><td>tea</td><td>2019-08-04</td><td>6830</td></tr><tr><td>coffee</td><td>2019-08-05</td><td>22592</td></tr><tr><td>tea</td><td>2019-08-05</td><td>11453</td></tr><tr><td>coffee</td><td>2019-08-06</td><td>21690</td></tr><tr><td>tea</td><td>2019-08-06</td><td>19181</td></tr><tr><td>coffee</td><td>2019-08-07</td><td>25297</td></tr><tr><td>tea</td><td>2019-08-07</td><td>17269</td></tr><tr><td>coffee</td><td>2019-08-08</td><td>24611</td></tr><tr><td>tea</td><td>2019-08-08</td><td>13039</td></tr><tr><td>coffee</td><td>2019-08-09</td><td>12132</td></tr><tr><td>tea</td><td>2019-08-09</td><td>15775</td></tr><tr><td>coffee</td><td>2019-08-10</td><td>8432</td></tr><tr><td>tea</td><td>2019-08-10</td><td>15258</td></tr><tr><td>coffee</td><td>2019-08-11</td><td>14435</td></tr><tr><td>tea</td><td>2019-08-11</td><td>18059</td></tr><tr><td>coffee</td><td>2019-08-12</td><td>12921</td></tr><tr><td>tea</td><td>2019-08-12</td><td>12397</td></tr><tr><td>coffee</td><td>2019-08-13</td><td>24719</td></tr><tr><td>tea</td><td>2019-08-13</td><td>9211</td></tr><tr><td>coffee</td><td>2019-08-14</td><td>7518</td></tr><tr><td>tea</td><td>2019-08-14</td><td>10751</td></tr><tr><td>coffee</td><td>2019-08-15</td><td>9884</td></tr><tr><td>tea</td><td>2019-08-15</td><td>10501</td></tr><tr><td>coffee</td><td>2019-08-16</td><td>25869</td></tr><tr><td>tea</td><td>2019-08-16</td><td>5635</td></tr><tr><td>coffee</td><td>2019-08-17</td><td>9857</td></tr><tr><td>tea</td><td>2019-08-17</td><td>18351</td></tr><tr><td>coffee</td><td>2019-08-18</td><td>9361</td></tr><tr><td>tea</td><td>2019-08-18</td><td>10873</td></tr><tr><td>coffee</td><td>2019-08-19</td><td>7736</td></tr><tr><td>tea</td><td>2019-08-19</td><td>19736</td></tr><tr><td>coffee</td><td>2019-08-20</td><td>22870</td></tr><tr><td>tea</td><td>2019-08-20</td><td>8126</td></tr><tr><td>coffee</td><td>2019-08-21</td><td>10292</td></tr><tr><td>tea</td><td>2019-08-21</td><td>15124</td></tr><tr><td>coffee</td><td>2019-08-22</td><td>26988</td></tr><tr><td>tea</td><td>2019-08-22</td><td>7138</td></tr><tr><td>coffee</td><td>2019-08-23</td><td>26695</td></tr><tr><td>tea</td><td>2019-08-23</td><td>10700</td></tr><tr><td>coffee</td><td>2019-08-24</td><td>24731</td></tr><tr><td>tea</td><td>2019-08-24</td><td>17366</td></tr><tr><td>coffee</td><td>2019-08-25</td><td>23390</td></tr><tr><td>tea</td><td>2019-08-25</td><td>15129</td></tr><tr><td>coffee</td><td>2019-08-26</td><td>26762</td></tr><tr><td>tea</td><td>2019-08-26</td><td>5669</td></tr><tr><td>coffee</td><td>2019-08-27</td><td>13501</td></tr><tr><td>tea</td><td>2019-08-27</td><td>19390</td></tr><tr><td>coffee</td><td>2019-08-28</td><td>22743</td></tr><tr><td>tea</td><td>2019-08-28</td><td>8153</td></tr><tr><td>coffee</td><td>2019-08-29</td><td>14572</td></tr><tr><td>tea</td><td>2019-08-29</td><td>8496</td></tr><tr><td>coffee</td><td>2019-08-30</td><td>11376</td></tr><tr><td>tea</td><td>2019-08-30</td><td>11711</td></tr><tr><td>coffee</td><td>2019-08-31</td><td>18846</td></tr><tr><td>tea</td><td>2019-08-31</td><td>17143</td></tr><tr><td>coffee</td><td>2019-09-01</td><td>25736</td></tr><tr><td>tea</td><td>2019-09-01</td><td>18070</td></tr><tr><td>coffee</td><td>2019-09-02</td><td>17781</td></tr><tr><td>tea</td><td>2019-09-02</td><td>5612</td></tr><tr><td>coffee</td><td>2019-09-03</td><td>17036</td></tr><tr><td>tea</td><td>2019-09-03</td><td>10723</td></tr><tr><td>coffee</td><td>2019-09-04</td><td>26926</td></tr><tr><td>tea</td><td>2019-09-04</td><td>5150</td></tr><tr><td>coffee</td><td>2019-09-05</td><td>12035</td></tr><tr><td>tea</td><td>2019-09-05</td><td>9901</td></tr><tr><td>coffee</td><td>2019-09-06</td><td>9364</td></tr><tr><td>tea</td><td>2019-09-06</td><td>10259</td></tr><tr><td>coffee</td><td>2019-09-07</td><td>14420</td></tr><tr><td>tea</td><td>2019-09-07</td><td>12236</td></tr><tr><td>coffee</td><td>2019-09-08</td><td>10803</td></tr><tr><td>tea</td><td>2019-09-08</td><td>9558</td></tr><tr><td>coffee</td><td>2019-09-09</td><td>9536</td></tr><tr><td>tea</td><td>2019-09-09</td><td>19522</td></tr><tr><td>coffee</td><td>2019-09-10</td><td>11870</td></tr><tr><td>tea</td><td>2019-09-10</td><td>11477</td></tr><tr><td>coffee</td><td>2019-09-11</td><td>26434</td></tr><tr><td>tea</td><td>2019-09-11</td><td>19812</td></tr><tr><td>coffee</td><td>2019-09-12</td><td>26844</td></tr><tr><td>tea</td><td>2019-09-12</td><td>8763</td></tr><tr><td>coffee</td><td>2019-09-13</td><td>18692</td></tr><tr><td>tea</td><td>2019-09-13</td><td>14580</td></tr><tr><td>coffee</td><td>2019-09-14</td><td>22874</td></tr><tr><td>tea</td><td>2019-09-14</td><td>14851</td></tr><tr><td>coffee</td><td>2019-09-15</td><td>22995</td></tr><tr><td>tea</td><td>2019-09-15</td><td>8787</td></tr><tr><td>coffee</td><td>2019-09-16</td><td>23789</td></tr><tr><td>tea</td><td>2019-09-16</td><td>10366</td></tr><tr><td>coffee</td><td>2019-09-17</td><td>16870</td></tr><tr><td>tea</td><td>2019-09-17</td><td>8190</td></tr><tr><td>coffee</td><td>2019-09-18</td><td>11022</td></tr><tr><td>tea</td><td>2019-09-18</td><td>5615</td></tr><tr><td>coffee</td><td>2019-09-19</td><td>16309</td></tr><tr><td>tea</td><td>2019-09-19</td><td>5148</td></tr><tr><td>coffee</td><td>2019-09-20</td><td>17623</td></tr><tr><td>tea</td><td>2019-09-20</td><td>16047</td></tr><tr><td>coffee</td><td>2019-09-21</td><td>22043</td></tr><tr><td>tea</td><td>2019-09-21</td><td>14607</td></tr><tr><td>coffee</td><td>2019-09-22</td><td>12355</td></tr><tr><td>tea</td><td>2019-09-22</td><td>5082</td></tr><tr><td>coffee</td><td>2019-09-23</td><td>20416</td></tr><tr><td>tea</td><td>2019-09-23</td><td>17208</td></tr><tr><td>coffee</td><td>2019-09-24</td><td>12147</td></tr><tr><td>tea</td><td>2019-09-24</td><td>11564</td></tr><tr><td>coffee</td><td>2019-09-25</td><td>24030</td></tr><tr><td>tea</td><td>2019-09-25</td><td>15203</td></tr><tr><td>coffee</td><td>2019-09-26</td><td>10322</td></tr><tr><td>tea</td><td>2019-09-26</td><td>5504</td></tr><tr><td>coffee</td><td>2019-09-27</td><td>11550</td></tr><tr><td>tea</td><td>2019-09-27</td><td>10066</td></tr><tr><td>coffee</td><td>2019-09-28</td><td>19768</td></tr><tr><td>tea</td><td>2019-09-28</td><td>10746</td></tr><tr><td>coffee</td><td>2019-09-29</td><td>24258</td></tr><tr><td>tea</td><td>2019-09-29</td><td>9441</td></tr><tr><td>coffee</td><td>2019-09-30</td><td>13650</td></tr><tr><td>tea</td><td>2019-09-30</td><td>14667</td></tr><tr><td>coffee</td><td>2019-10-01</td><td>25276</td></tr><tr><td>tea</td><td>2019-10-01</td><td>13054</td></tr><tr><td>coffee</td><td>2019-10-02</td><td>7901</td></tr><tr><td>tea</td><td>2019-10-02</td><td>11642</td></tr><tr><td>coffee</td><td>2019-10-03</td><td>13524</td></tr><tr><td>tea</td><td>2019-10-03</td><td>14142</td></tr><tr><td>coffee</td><td>2019-10-04</td><td>8650</td></tr><tr><td>tea</td><td>2019-10-04</td><td>7918</td></tr><tr><td>coffee</td><td>2019-10-05</td><td>10963</td></tr><tr><td>tea</td><td>2019-10-05</td><td>6837</td></tr><tr><td>coffee</td><td>2019-10-06</td><td>16922</td></tr><tr><td>tea</td><td>2019-10-06</td><td>13652</td></tr><tr><td>coffee</td><td>2019-10-07</td><td>21178</td></tr><tr><td>tea</td><td>2019-10-07</td><td>11388</td></tr><tr><td>coffee</td><td>2019-10-08</td><td>23261</td></tr><tr><td>tea</td><td>2019-10-08</td><td>17857</td></tr><tr><td>coffee</td><td>2019-10-09</td><td>21186</td></tr><tr><td>tea</td><td>2019-10-09</td><td>10185</td></tr><tr><td>coffee</td><td>2019-10-10</td><td>26851</td></tr><tr><td>tea</td><td>2019-10-10</td><td>13258</td></tr><tr><td>coffee</td><td>2019-10-11</td><td>19962</td></tr><tr><td>tea</td><td>2019-10-11</td><td>5410</td></tr><tr><td>coffee</td><td>2019-10-12</td><td>25949</td></tr><tr><td>tea</td><td>2019-10-12</td><td>8811</td></tr><tr><td>coffee</td><td>2019-10-13</td><td>24828</td></tr><tr><td>tea</td><td>2019-10-13</td><td>6983</td></tr><tr><td>coffee</td><td>2019-10-14</td><td>25899</td></tr><tr><td>tea</td><td>2019-10-14</td><td>15737</td></tr><tr><td>coffee</td><td>2019-10-15</td><td>16310</td></tr><tr><td>tea</td><td>2019-10-15</td><td>17934</td></tr><tr><td>coffee</td><td>2019-10-16</td><td>25837</td></tr><tr><td>tea</td><td>2019-10-16</td><td>13290</td></tr><tr><td>coffee</td><td>2019-10-17</td><td>18324</td></tr><tr><td>tea</td><td>2019-10-17</td><td>6114</td></tr><tr><td>coffee</td><td>2019-10-18</td><td>26269</td></tr><tr><td>tea</td><td>2019-10-18</td><td>19434</td></tr><tr><td>coffee</td><td>2019-10-19</td><td>25713</td></tr><tr><td>tea</td><td>2019-10-19</td><td>11463</td></tr><tr><td>coffee</td><td>2019-10-20</td><td>23510</td></tr><tr><td>tea</td><td>2019-10-20</td><td>19531</td></tr><tr><td>coffee</td><td>2019-10-21</td><td>14516</td></tr><tr><td>tea</td><td>2019-10-21</td><td>11791</td></tr><tr><td>coffee</td><td>2019-10-22</td><td>15938</td></tr><tr><td>tea</td><td>2019-10-22</td><td>15042</td></tr><tr><td>coffee</td><td>2019-10-23</td><td>22760</td></tr><tr><td>tea</td><td>2019-10-23</td><td>11918</td></tr><tr><td>coffee</td><td>2019-10-24</td><td>22763</td></tr><tr><td>tea</td><td>2019-10-24</td><td>19897</td></tr><tr><td>coffee</td><td>2019-10-25</td><td>26416</td></tr><tr><td>tea</td><td>2019-10-25</td><td>7672</td></tr><tr><td>coffee</td><td>2019-10-26</td><td>11658</td></tr><tr><td>tea</td><td>2019-10-26</td><td>9809</td></tr><tr><td>coffee</td><td>2019-10-27</td><td>13431</td></tr><tr><td>tea</td><td>2019-10-27</td><td>19999</td></tr><tr><td>coffee</td><td>2019-10-28</td><td>10258</td></tr><tr><td>tea</td><td>2019-10-28</td><td>18349</td></tr><tr><td>coffee</td><td>2019-10-29</td><td>21800</td></tr><tr><td>tea</td><td>2019-10-29</td><td>12106</td></tr><tr><td>coffee</td><td>2019-10-30</td><td>23527</td></tr><tr><td>tea</td><td>2019-10-30</td><td>7307</td></tr><tr><td>coffee</td><td>2019-10-31</td><td>7086</td></tr><tr><td>tea</td><td>2019-10-31</td><td>10548</td></tr><tr><td>coffee</td><td>2019-11-01</td><td>26013</td></tr><tr><td>tea</td><td>2019-11-01</td><td>6296</td></tr><tr><td>coffee</td><td>2019-11-02</td><td>10577</td></tr><tr><td>tea</td><td>2019-11-02</td><td>5630</td></tr><tr><td>coffee</td><td>2019-11-03</td><td>7990</td></tr><tr><td>tea</td><td>2019-11-03</td><td>13967</td></tr><tr><td>coffee</td><td>2019-11-04</td><td>13292</td></tr><tr><td>tea</td><td>2019-11-04</td><td>17418</td></tr><tr><td>coffee</td><td>2019-11-05</td><td>16769</td></tr><tr><td>tea</td><td>2019-11-05</td><td>14468</td></tr><tr><td>coffee</td><td>2019-11-06</td><td>11359</td></tr><tr><td>tea</td><td>2019-11-06</td><td>19003</td></tr><tr><td>coffee</td><td>2019-11-07</td><td>9962</td></tr><tr><td>tea</td><td>2019-11-07</td><td>9811</td></tr><tr><td>coffee</td><td>2019-11-08</td><td>26312</td></tr><tr><td>tea</td><td>2019-11-08</td><td>18700</td></tr><tr><td>coffee</td><td>2019-11-09</td><td>15500</td></tr><tr><td>tea</td><td>2019-11-09</td><td>11771</td></tr><tr><td>coffee</td><td>2019-11-10</td><td>26374</td></tr><tr><td>tea</td><td>2019-11-10</td><td>5577</td></tr><tr><td>coffee</td><td>2019-11-11</td><td>19470</td></tr><tr><td>tea</td><td>2019-11-11</td><td>6052</td></tr><tr><td>coffee</td><td>2019-11-12</td><td>11634</td></tr><tr><td>tea</td><td>2019-11-12</td><td>17397</td></tr><tr><td>coffee</td><td>2019-11-13</td><td>13167</td></tr><tr><td>tea</td><td>2019-11-13</td><td>10495</td></tr><tr><td>coffee</td><td>2019-11-14</td><td>8994</td></tr><tr><td>tea</td><td>2019-11-14</td><td>5495</td></tr><tr><td>coffee</td><td>2019-11-15</td><td>10223</td></tr><tr><td>tea</td><td>2019-11-15</td><td>11587</td></tr><tr><td>coffee</td><td>2019-11-16</td><td>14770</td></tr><tr><td>tea</td><td>2019-11-16</td><td>6324</td></tr><tr><td>coffee</td><td>2019-11-17</td><td>17882</td></tr><tr><td>tea</td><td>2019-11-17</td><td>16492</td></tr><tr><td>coffee</td><td>2019-11-18</td><td>8557</td></tr><tr><td>tea</td><td>2019-11-18</td><td>9628</td></tr><tr><td>coffee</td><td>2019-11-19</td><td>21112</td></tr><tr><td>tea</td><td>2019-11-19</td><td>13812</td></tr><tr><td>coffee</td><td>2019-11-20</td><td>14666</td></tr><tr><td>tea</td><td>2019-11-20</td><td>9286</td></tr><tr><td>coffee</td><td>2019-11-21</td><td>17058</td></tr><tr><td>tea</td><td>2019-11-21</td><td>8462</td></tr><tr><td>coffee</td><td>2019-11-22</td><td>20201</td></tr><tr><td>tea</td><td>2019-11-22</td><td>9145</td></tr><tr><td>coffee</td><td>2019-11-23</td><td>23803</td></tr><tr><td>tea</td><td>2019-11-23</td><td>11047</td></tr><tr><td>coffee</td><td>2019-11-24</td><td>10945</td></tr><tr><td>tea</td><td>2019-11-24</td><td>18909</td></tr><tr><td>coffee</td><td>2019-11-25</td><td>10074</td></tr><tr><td>tea</td><td>2019-11-25</td><td>16188</td></tr><tr><td>coffee</td><td>2019-11-26</td><td>19079</td></tr><tr><td>tea</td><td>2019-11-26</td><td>19385</td></tr><tr><td>coffee</td><td>2019-11-27</td><td>15262</td></tr><tr><td>tea</td><td>2019-11-27</td><td>15855</td></tr><tr><td>coffee</td><td>2019-11-28</td><td>25988</td></tr><tr><td>tea</td><td>2019-11-28</td><td>13268</td></tr><tr><td>coffee</td><td>2019-11-29</td><td>23293</td></tr><tr><td>tea</td><td>2019-11-29</td><td>9222</td></tr><tr><td>coffee</td><td>2019-11-30</td><td>18985</td></tr><tr><td>tea</td><td>2019-11-30</td><td>16216</td></tr><tr><td>coffee</td><td>2019-12-01</td><td>20803</td></tr><tr><td>tea</td><td>2019-12-01</td><td>19209</td></tr><tr><td>coffee</td><td>2019-12-02</td><td>16201</td></tr><tr><td>tea</td><td>2019-12-02</td><td>19008</td></tr><tr><td>coffee</td><td>2019-12-03</td><td>21729</td></tr><tr><td>tea</td><td>2019-12-03</td><td>12012</td></tr><tr><td>coffee</td><td>2019-12-04</td><td>24358</td></tr><tr><td>tea</td><td>2019-12-04</td><td>5003</td></tr><tr><td>coffee</td><td>2019-12-05</td><td>26720</td></tr><tr><td>tea</td><td>2019-12-05</td><td>13245</td></tr><tr><td>coffee</td><td>2019-12-06</td><td>19913</td></tr><tr><td>tea</td><td>2019-12-06</td><td>18790</td></tr><tr><td>coffee</td><td>2019-12-07</td><td>8653</td></tr><tr><td>tea</td><td>2019-12-07</td><td>15129</td></tr><tr><td>coffee</td><td>2019-12-08</td><td>25203</td></tr><tr><td>tea</td><td>2019-12-08</td><td>19860</td></tr><tr><td>coffee</td><td>2019-12-09</td><td>19897</td></tr><tr><td>tea</td><td>2019-12-09</td><td>18053</td></tr><tr><td>coffee</td><td>2019-12-10</td><td>7002</td></tr><tr><td>tea</td><td>2019-12-10</td><td>10667</td></tr><tr><td>coffee</td><td>2019-12-11</td><td>7491</td></tr><tr><td>tea</td><td>2019-12-11</td><td>14829</td></tr><tr><td>coffee</td><td>2019-12-12</td><td>9156</td></tr><tr><td>tea</td><td>2019-12-12</td><td>18298</td></tr><tr><td>coffee</td><td>2019-12-13</td><td>21181</td></tr><tr><td>tea</td><td>2019-12-13</td><td>15655</td></tr><tr><td>coffee</td><td>2019-12-14</td><td>13924</td></tr><tr><td>tea</td><td>2019-12-14</td><td>14673</td></tr><tr><td>coffee</td><td>2019-12-15</td><td>21392</td></tr><tr><td>tea</td><td>2019-12-15</td><td>16529</td></tr><tr><td>coffee</td><td>2019-12-16</td><td>20206</td></tr><tr><td>tea</td><td>2019-12-16</td><td>12806</td></tr><tr><td>coffee</td><td>2019-12-17</td><td>18721</td></tr><tr><td>tea</td><td>2019-12-17</td><td>9080</td></tr><tr><td>coffee</td><td>2019-12-18</td><td>20199</td></tr><tr><td>tea</td><td>2019-12-18</td><td>12332</td></tr><tr><td>coffee</td><td>2019-12-19</td><td>22032</td></tr><tr><td>tea</td><td>2019-12-19</td><td>19619</td></tr><tr><td>coffee</td><td>2019-12-20</td><td>25036</td></tr><tr><td>tea</td><td>2019-12-20</td><td>19428</td></tr><tr><td>coffee</td><td>2019-12-21</td><td>13510</td></tr><tr><td>tea</td><td>2019-12-21</td><td>8100</td></tr><tr><td>coffee</td><td>2019-12-22</td><td>23056</td></tr><tr><td>tea</td><td>2019-12-22</td><td>18568</td></tr><tr><td>coffee</td><td>2019-12-23</td><td>18157</td></tr><tr><td>tea</td><td>2019-12-23</td><td>18658</td></tr><tr><td>coffee</td><td>2019-12-24</td><td>25191</td></tr><tr><td>tea</td><td>2019-12-24</td><td>9087</td></tr><tr><td>coffee</td><td>2019-12-25</td><td>21757</td></tr><tr><td>tea</td><td>2019-12-25</td><td>16944</td></tr><tr><td>coffee</td><td>2019-12-26</td><td>16956</td></tr><tr><td>tea</td><td>2019-12-26</td><td>12323</td></tr><tr><td>coffee</td><td>2019-12-27</td><td>18754</td></tr><tr><td>tea</td><td>2019-12-27</td><td>10099</td></tr><tr><td>coffee</td><td>2019-12-28</td><td>15036</td></tr><tr><td>tea</td><td>2019-12-28</td><td>11914</td></tr><tr><td>coffee</td><td>2019-12-29</td><td>24668</td></tr><tr><td>tea</td><td>2019-12-29</td><td>16745</td></tr><tr><td>coffee</td><td>2019-12-30</td><td>16603</td></tr><tr><td>tea</td><td>2019-12-30</td><td>15022</td></tr><tr><td>coffee</td><td>2019-12-31</td><td>18891</td></tr><tr><td>tea</td><td>2019-12-31</td><td>17081</td></tr></table>"
                    },
                    "metadata": {}
                }
            ],
            "execution_count": 1
        },
        {
            "cell_type": "code",
            "source": [
                "select datepart(month,dt)month,sum(revenue) \r\n",
                "from daily_sales \r\n",
                "GROUP BY\r\n",
                "datepart(month,dt)\r\n",
                "    order  by month"
            ],
            "metadata": {
                "azdata_cell_guid": "1fa13850-fd63-4f37-8502-37500411f315",
                "language": "sql",
                "tags": []
            },
            "outputs": [
                {
                    "output_type": "display_data",
                    "data": {
                        "text/html": "(12 rows affected)"
                    },
                    "metadata": {}
                },
                {
                    "output_type": "display_data",
                    "data": {
                        "text/html": "Total execution time: 00:00:00.034"
                    },
                    "metadata": {}
                },
                {
                    "output_type": "execute_result",
                    "execution_count": 12,
                    "data": {
                        "application/vnd.dataresource+json": {
                            "schema": {
                                "fields": [
                                    {
                                        "name": "month"
                                    },
                                    {
                                        "name": "(No column name)"
                                    }
                                ]
                            },
                            "data": [
                                {
                                    "month": "9",
                                    "(No column name)": "1771574"
                                },
                                {
                                    "month": "3",
                                    "(No column name)": "1842775"
                                },
                                {
                                    "month": "12",
                                    "(No column name)": "1976681"
                                },
                                {
                                    "month": "6",
                                    "(No column name)": "1743348"
                                },
                                {
                                    "month": "7",
                                    "(No column name)": "1776062"
                                },
                                {
                                    "month": "1",
                                    "(No column name)": "1809745"
                                },
                                {
                                    "month": "10",
                                    "(No column name)": "1817881"
                                },
                                {
                                    "month": "4",
                                    "(No column name)": "1779348"
                                },
                                {
                                    "month": "5",
                                    "(No column name)": "1747046"
                                },
                                {
                                    "month": "2",
                                    "(No column name)": "1766496"
                                },
                                {
                                    "month": "11",
                                    "(No column name)": "1706226"
                                },
                                {
                                    "month": "8",
                                    "(No column name)": "1950745"
                                }
                            ]
                        },
                        "text/html": "<table><tr><th>month</th><th>(No column name)</th></tr><tr><td>9</td><td>1771574</td></tr><tr><td>3</td><td>1842775</td></tr><tr><td>12</td><td>1976681</td></tr><tr><td>6</td><td>1743348</td></tr><tr><td>7</td><td>1776062</td></tr><tr><td>1</td><td>1809745</td></tr><tr><td>10</td><td>1817881</td></tr><tr><td>4</td><td>1779348</td></tr><tr><td>5</td><td>1747046</td></tr><tr><td>2</td><td>1766496</td></tr><tr><td>11</td><td>1706226</td></tr><tr><td>8</td><td>1950745</td></tr></table>"
                    },
                    "metadata": {}
                }
            ],
            "execution_count": 12
        },
        {
            "cell_type": "code",
            "source": [
                "select datepart(year,dt) year,datepart(quarter,dt)quarter,datepart(month,dt)month,sum(revenue) \r\n",
                "from daily_sales \r\n",
                "GROUP BY ROLLUP (datepart(year,dt),datepart(quarter,dt),datepart(month,dt))\r\n",
                "    order  by year ,quarter, month"
            ],
            "metadata": {
                "language": "sql",
                "azdata_cell_guid": "cd82b855-a920-43af-9246-9c98ba2de4bc",
                "tags": []
            },
            "outputs": [
                {
                    "output_type": "display_data",
                    "data": {
                        "text/html": "(35 rows affected)"
                    },
                    "metadata": {}
                },
                {
                    "output_type": "display_data",
                    "data": {
                        "text/html": "Total execution time: 00:00:00.016"
                    },
                    "metadata": {}
                },
                {
                    "output_type": "execute_result",
                    "execution_count": 13,
                    "data": {
                        "application/vnd.dataresource+json": {
                            "schema": {
                                "fields": [
                                    {
                                        "name": "year"
                                    },
                                    {
                                        "name": "quarter"
                                    },
                                    {
                                        "name": "month"
                                    },
                                    {
                                        "name": "(No column name)"
                                    }
                                ]
                            },
                            "data": [
                                {
                                    "year": "NULL",
                                    "quarter": "NULL",
                                    "month": "NULL",
                                    "(No column name)": "21687927"
                                },
                                {
                                    "year": "2018",
                                    "quarter": "NULL",
                                    "month": "NULL",
                                    "(No column name)": "10709201"
                                },
                                {
                                    "year": "2018",
                                    "quarter": "1",
                                    "month": "NULL",
                                    "(No column name)": "2678478"
                                },
                                {
                                    "year": "2018",
                                    "quarter": "1",
                                    "month": "1",
                                    "(No column name)": "902499"
                                },
                                {
                                    "year": "2018",
                                    "quarter": "1",
                                    "month": "2",
                                    "(No column name)": "876540"
                                },
                                {
                                    "year": "2018",
                                    "quarter": "1",
                                    "month": "3",
                                    "(No column name)": "899439"
                                },
                                {
                                    "year": "2018",
                                    "quarter": "2",
                                    "month": "NULL",
                                    "(No column name)": "2643032"
                                },
                                {
                                    "year": "2018",
                                    "quarter": "2",
                                    "month": "4",
                                    "(No column name)": "861149"
                                },
                                {
                                    "year": "2018",
                                    "quarter": "2",
                                    "month": "5",
                                    "(No column name)": "882956"
                                },
                                {
                                    "year": "2018",
                                    "quarter": "2",
                                    "month": "6",
                                    "(No column name)": "898927"
                                },
                                {
                                    "year": "2018",
                                    "quarter": "3",
                                    "month": "NULL",
                                    "(No column name)": "2771826"
                                },
                                {
                                    "year": "2018",
                                    "quarter": "3",
                                    "month": "7",
                                    "(No column name)": "864219"
                                },
                                {
                                    "year": "2018",
                                    "quarter": "3",
                                    "month": "8",
                                    "(No column name)": "1004286"
                                },
                                {
                                    "year": "2018",
                                    "quarter": "3",
                                    "month": "9",
                                    "(No column name)": "903321"
                                },
                                {
                                    "year": "2018",
                                    "quarter": "4",
                                    "month": "NULL",
                                    "(No column name)": "2615865"
                                },
                                {
                                    "year": "2018",
                                    "quarter": "4",
                                    "month": "10",
                                    "(No column name)": "830337"
                                },
                                {
                                    "year": "2018",
                                    "quarter": "4",
                                    "month": "11",
                                    "(No column name)": "850009"
                                },
                                {
                                    "year": "2018",
                                    "quarter": "4",
                                    "month": "12",
                                    "(No column name)": "935519"
                                },
                                {
                                    "year": "2019",
                                    "quarter": "NULL",
                                    "month": "NULL",
                                    "(No column name)": "10978726"
                                },
                                {
                                    "year": "2019",
                                    "quarter": "1",
                                    "month": "NULL",
                                    "(No column name)": "2740538"
                                },
                                {
                                    "year": "2019",
                                    "quarter": "1",
                                    "month": "1",
                                    "(No column name)": "907246"
                                },
                                {
                                    "year": "2019",
                                    "quarter": "1",
                                    "month": "2",
                                    "(No column name)": "889956"
                                },
                                {
                                    "year": "2019",
                                    "quarter": "1",
                                    "month": "3",
                                    "(No column name)": "943336"
                                },
                                {
                                    "year": "2019",
                                    "quarter": "2",
                                    "month": "NULL",
                                    "(No column name)": "2626710"
                                },
                                {
                                    "year": "2019",
                                    "quarter": "2",
                                    "month": "4",
                                    "(No column name)": "918199"
                                },
                                {
                                    "year": "2019",
                                    "quarter": "2",
                                    "month": "5",
                                    "(No column name)": "864090"
                                },
                                {
                                    "year": "2019",
                                    "quarter": "2",
                                    "month": "6",
                                    "(No column name)": "844421"
                                },
                                {
                                    "year": "2019",
                                    "quarter": "3",
                                    "month": "NULL",
                                    "(No column name)": "2726555"
                                },
                                {
                                    "year": "2019",
                                    "quarter": "3",
                                    "month": "7",
                                    "(No column name)": "911843"
                                },
                                {
                                    "year": "2019",
                                    "quarter": "3",
                                    "month": "8",
                                    "(No column name)": "946459"
                                },
                                {
                                    "year": "2019",
                                    "quarter": "3",
                                    "month": "9",
                                    "(No column name)": "868253"
                                },
                                {
                                    "year": "2019",
                                    "quarter": "4",
                                    "month": "NULL",
                                    "(No column name)": "2884923"
                                },
                                {
                                    "year": "2019",
                                    "quarter": "4",
                                    "month": "10",
                                    "(No column name)": "987544"
                                },
                                {
                                    "year": "2019",
                                    "quarter": "4",
                                    "month": "11",
                                    "(No column name)": "856217"
                                },
                                {
                                    "year": "2019",
                                    "quarter": "4",
                                    "month": "12",
                                    "(No column name)": "1041162"
                                }
                            ]
                        },
                        "text/html": "<table><tr><th>year</th><th>quarter</th><th>month</th><th>(No column name)</th></tr><tr><td>NULL</td><td>NULL</td><td>NULL</td><td>21687927</td></tr><tr><td>2018</td><td>NULL</td><td>NULL</td><td>10709201</td></tr><tr><td>2018</td><td>1</td><td>NULL</td><td>2678478</td></tr><tr><td>2018</td><td>1</td><td>1</td><td>902499</td></tr><tr><td>2018</td><td>1</td><td>2</td><td>876540</td></tr><tr><td>2018</td><td>1</td><td>3</td><td>899439</td></tr><tr><td>2018</td><td>2</td><td>NULL</td><td>2643032</td></tr><tr><td>2018</td><td>2</td><td>4</td><td>861149</td></tr><tr><td>2018</td><td>2</td><td>5</td><td>882956</td></tr><tr><td>2018</td><td>2</td><td>6</td><td>898927</td></tr><tr><td>2018</td><td>3</td><td>NULL</td><td>2771826</td></tr><tr><td>2018</td><td>3</td><td>7</td><td>864219</td></tr><tr><td>2018</td><td>3</td><td>8</td><td>1004286</td></tr><tr><td>2018</td><td>3</td><td>9</td><td>903321</td></tr><tr><td>2018</td><td>4</td><td>NULL</td><td>2615865</td></tr><tr><td>2018</td><td>4</td><td>10</td><td>830337</td></tr><tr><td>2018</td><td>4</td><td>11</td><td>850009</td></tr><tr><td>2018</td><td>4</td><td>12</td><td>935519</td></tr><tr><td>2019</td><td>NULL</td><td>NULL</td><td>10978726</td></tr><tr><td>2019</td><td>1</td><td>NULL</td><td>2740538</td></tr><tr><td>2019</td><td>1</td><td>1</td><td>907246</td></tr><tr><td>2019</td><td>1</td><td>2</td><td>889956</td></tr><tr><td>2019</td><td>1</td><td>3</td><td>943336</td></tr><tr><td>2019</td><td>2</td><td>NULL</td><td>2626710</td></tr><tr><td>2019</td><td>2</td><td>4</td><td>918199</td></tr><tr><td>2019</td><td>2</td><td>5</td><td>864090</td></tr><tr><td>2019</td><td>2</td><td>6</td><td>844421</td></tr><tr><td>2019</td><td>3</td><td>NULL</td><td>2726555</td></tr><tr><td>2019</td><td>3</td><td>7</td><td>911843</td></tr><tr><td>2019</td><td>3</td><td>8</td><td>946459</td></tr><tr><td>2019</td><td>3</td><td>9</td><td>868253</td></tr><tr><td>2019</td><td>4</td><td>NULL</td><td>2884923</td></tr><tr><td>2019</td><td>4</td><td>10</td><td>987544</td></tr><tr><td>2019</td><td>4</td><td>11</td><td>856217</td></tr><tr><td>2019</td><td>4</td><td>12</td><td>1041162</td></tr></table>"
                    },
                    "metadata": {}
                }
            ],
            "execution_count": 13
        },
        {
            "cell_type": "code",
            "source": [
                "select datepart(year,dt) year,\r\n",
                "datepart(quarter,dt)quarter,\r\n",
                "datepart(month,dt)month,\r\n",
                "sum(revenue) \r\n",
                "from daily_sales \r\n",
                "GROUP BY ROLLUP (datepart(year,dt),datepart(quarter,dt),datepart(month,dt))\r\n",
                "having datepart(month,dt) is null\r\n",
                "    order  by year ,quarter, month"
            ],
            "metadata": {
                "azdata_cell_guid": "8fb91c61-b1ba-41dd-ba00-4ee1d39b9ad6",
                "language": "sql"
            },
            "outputs": [
                {
                    "output_type": "display_data",
                    "data": {
                        "text/html": "(11 rows affected)"
                    },
                    "metadata": {}
                },
                {
                    "output_type": "display_data",
                    "data": {
                        "text/html": "Total execution time: 00:00:00.012"
                    },
                    "metadata": {}
                },
                {
                    "output_type": "execute_result",
                    "execution_count": 14,
                    "data": {
                        "application/vnd.dataresource+json": {
                            "schema": {
                                "fields": [
                                    {
                                        "name": "year"
                                    },
                                    {
                                        "name": "quarter"
                                    },
                                    {
                                        "name": "month"
                                    },
                                    {
                                        "name": "(No column name)"
                                    }
                                ]
                            },
                            "data": [
                                {
                                    "year": "NULL",
                                    "quarter": "NULL",
                                    "month": "NULL",
                                    "(No column name)": "21687927"
                                },
                                {
                                    "year": "2018",
                                    "quarter": "NULL",
                                    "month": "NULL",
                                    "(No column name)": "10709201"
                                },
                                {
                                    "year": "2018",
                                    "quarter": "1",
                                    "month": "NULL",
                                    "(No column name)": "2678478"
                                },
                                {
                                    "year": "2018",
                                    "quarter": "2",
                                    "month": "NULL",
                                    "(No column name)": "2643032"
                                },
                                {
                                    "year": "2018",
                                    "quarter": "3",
                                    "month": "NULL",
                                    "(No column name)": "2771826"
                                },
                                {
                                    "year": "2018",
                                    "quarter": "4",
                                    "month": "NULL",
                                    "(No column name)": "2615865"
                                },
                                {
                                    "year": "2019",
                                    "quarter": "NULL",
                                    "month": "NULL",
                                    "(No column name)": "10978726"
                                },
                                {
                                    "year": "2019",
                                    "quarter": "1",
                                    "month": "NULL",
                                    "(No column name)": "2740538"
                                },
                                {
                                    "year": "2019",
                                    "quarter": "2",
                                    "month": "NULL",
                                    "(No column name)": "2626710"
                                },
                                {
                                    "year": "2019",
                                    "quarter": "3",
                                    "month": "NULL",
                                    "(No column name)": "2726555"
                                },
                                {
                                    "year": "2019",
                                    "quarter": "4",
                                    "month": "NULL",
                                    "(No column name)": "2884923"
                                }
                            ]
                        },
                        "text/html": "<table><tr><th>year</th><th>quarter</th><th>month</th><th>(No column name)</th></tr><tr><td>NULL</td><td>NULL</td><td>NULL</td><td>21687927</td></tr><tr><td>2018</td><td>NULL</td><td>NULL</td><td>10709201</td></tr><tr><td>2018</td><td>1</td><td>NULL</td><td>2678478</td></tr><tr><td>2018</td><td>2</td><td>NULL</td><td>2643032</td></tr><tr><td>2018</td><td>3</td><td>NULL</td><td>2771826</td></tr><tr><td>2018</td><td>4</td><td>NULL</td><td>2615865</td></tr><tr><td>2019</td><td>NULL</td><td>NULL</td><td>10978726</td></tr><tr><td>2019</td><td>1</td><td>NULL</td><td>2740538</td></tr><tr><td>2019</td><td>2</td><td>NULL</td><td>2626710</td></tr><tr><td>2019</td><td>3</td><td>NULL</td><td>2726555</td></tr><tr><td>2019</td><td>4</td><td>NULL</td><td>2884923</td></tr></table>"
                    },
                    "metadata": {}
                }
            ],
            "execution_count": 14
        },
        {
            "cell_type": "code",
            "source": [
                "select datepart(year,dt) year,\r\n",
                "datepart(quarter,dt)quarter,\r\n",
                "datepart(month,dt)month,\r\n",
                "sum(revenue) \r\n",
                "from daily_sales \r\n",
                "-- GROUP BY ROLLUP (datepart(year,dt),datepart(quarter,dt),datepart(month,dt))\r\n",
                "group by grouping sets ((datepart(year,dt), datepart(quarter,dt),datepart(month,dt)),\r\n",
                "                        (datepart(year,dt), datepart(quarter,dt)),\r\n",
                "                        (datepart(year,dt)),\r\n",
                "                        ()\r\n",
                ")\r\n",
                "\r\n",
                "    order  by year ,quarter, month"
            ],
            "metadata": {
                "azdata_cell_guid": "b0cdea70-a66d-42c3-aef9-17621e80603e",
                "language": "sql"
            },
            "outputs": [
                {
                    "output_type": "display_data",
                    "data": {
                        "text/html": "(35 rows affected)"
                    },
                    "metadata": {}
                },
                {
                    "output_type": "display_data",
                    "data": {
                        "text/html": "Total execution time: 00:00:00.003"
                    },
                    "metadata": {}
                },
                {
                    "output_type": "execute_result",
                    "metadata": {},
                    "execution_count": 7,
                    "data": {
                        "application/vnd.dataresource+json": {
                            "schema": {
                                "fields": [
                                    {
                                        "name": "year"
                                    },
                                    {
                                        "name": "quarter"
                                    },
                                    {
                                        "name": "month"
                                    },
                                    {
                                        "name": "(No column name)"
                                    }
                                ]
                            },
                            "data": [
                                {
                                    "year": "NULL",
                                    "quarter": "NULL",
                                    "month": "NULL",
                                    "(No column name)": "21687927"
                                },
                                {
                                    "year": "2018",
                                    "quarter": "NULL",
                                    "month": "NULL",
                                    "(No column name)": "10709201"
                                },
                                {
                                    "year": "2018",
                                    "quarter": "1",
                                    "month": "NULL",
                                    "(No column name)": "2678478"
                                },
                                {
                                    "year": "2018",
                                    "quarter": "1",
                                    "month": "1",
                                    "(No column name)": "902499"
                                },
                                {
                                    "year": "2018",
                                    "quarter": "1",
                                    "month": "2",
                                    "(No column name)": "876540"
                                },
                                {
                                    "year": "2018",
                                    "quarter": "1",
                                    "month": "3",
                                    "(No column name)": "899439"
                                },
                                {
                                    "year": "2018",
                                    "quarter": "2",
                                    "month": "NULL",
                                    "(No column name)": "2643032"
                                },
                                {
                                    "year": "2018",
                                    "quarter": "2",
                                    "month": "4",
                                    "(No column name)": "861149"
                                },
                                {
                                    "year": "2018",
                                    "quarter": "2",
                                    "month": "5",
                                    "(No column name)": "882956"
                                },
                                {
                                    "year": "2018",
                                    "quarter": "2",
                                    "month": "6",
                                    "(No column name)": "898927"
                                },
                                {
                                    "year": "2018",
                                    "quarter": "3",
                                    "month": "NULL",
                                    "(No column name)": "2771826"
                                },
                                {
                                    "year": "2018",
                                    "quarter": "3",
                                    "month": "7",
                                    "(No column name)": "864219"
                                },
                                {
                                    "year": "2018",
                                    "quarter": "3",
                                    "month": "8",
                                    "(No column name)": "1004286"
                                },
                                {
                                    "year": "2018",
                                    "quarter": "3",
                                    "month": "9",
                                    "(No column name)": "903321"
                                },
                                {
                                    "year": "2018",
                                    "quarter": "4",
                                    "month": "NULL",
                                    "(No column name)": "2615865"
                                },
                                {
                                    "year": "2018",
                                    "quarter": "4",
                                    "month": "10",
                                    "(No column name)": "830337"
                                },
                                {
                                    "year": "2018",
                                    "quarter": "4",
                                    "month": "11",
                                    "(No column name)": "850009"
                                },
                                {
                                    "year": "2018",
                                    "quarter": "4",
                                    "month": "12",
                                    "(No column name)": "935519"
                                },
                                {
                                    "year": "2019",
                                    "quarter": "NULL",
                                    "month": "NULL",
                                    "(No column name)": "10978726"
                                },
                                {
                                    "year": "2019",
                                    "quarter": "1",
                                    "month": "NULL",
                                    "(No column name)": "2740538"
                                },
                                {
                                    "year": "2019",
                                    "quarter": "1",
                                    "month": "1",
                                    "(No column name)": "907246"
                                },
                                {
                                    "year": "2019",
                                    "quarter": "1",
                                    "month": "2",
                                    "(No column name)": "889956"
                                },
                                {
                                    "year": "2019",
                                    "quarter": "1",
                                    "month": "3",
                                    "(No column name)": "943336"
                                },
                                {
                                    "year": "2019",
                                    "quarter": "2",
                                    "month": "NULL",
                                    "(No column name)": "2626710"
                                },
                                {
                                    "year": "2019",
                                    "quarter": "2",
                                    "month": "4",
                                    "(No column name)": "918199"
                                },
                                {
                                    "year": "2019",
                                    "quarter": "2",
                                    "month": "5",
                                    "(No column name)": "864090"
                                },
                                {
                                    "year": "2019",
                                    "quarter": "2",
                                    "month": "6",
                                    "(No column name)": "844421"
                                },
                                {
                                    "year": "2019",
                                    "quarter": "3",
                                    "month": "NULL",
                                    "(No column name)": "2726555"
                                },
                                {
                                    "year": "2019",
                                    "quarter": "3",
                                    "month": "7",
                                    "(No column name)": "911843"
                                },
                                {
                                    "year": "2019",
                                    "quarter": "3",
                                    "month": "8",
                                    "(No column name)": "946459"
                                },
                                {
                                    "year": "2019",
                                    "quarter": "3",
                                    "month": "9",
                                    "(No column name)": "868253"
                                },
                                {
                                    "year": "2019",
                                    "quarter": "4",
                                    "month": "NULL",
                                    "(No column name)": "2884923"
                                },
                                {
                                    "year": "2019",
                                    "quarter": "4",
                                    "month": "10",
                                    "(No column name)": "987544"
                                },
                                {
                                    "year": "2019",
                                    "quarter": "4",
                                    "month": "11",
                                    "(No column name)": "856217"
                                },
                                {
                                    "year": "2019",
                                    "quarter": "4",
                                    "month": "12",
                                    "(No column name)": "1041162"
                                }
                            ]
                        },
                        "text/html": [
                            "<table>",
                            "<tr><th>year</th><th>quarter</th><th>month</th><th>(No column name)</th></tr>",
                            "<tr><td>NULL</td><td>NULL</td><td>NULL</td><td>21687927</td></tr>",
                            "<tr><td>2018</td><td>NULL</td><td>NULL</td><td>10709201</td></tr>",
                            "<tr><td>2018</td><td>1</td><td>NULL</td><td>2678478</td></tr>",
                            "<tr><td>2018</td><td>1</td><td>1</td><td>902499</td></tr>",
                            "<tr><td>2018</td><td>1</td><td>2</td><td>876540</td></tr>",
                            "<tr><td>2018</td><td>1</td><td>3</td><td>899439</td></tr>",
                            "<tr><td>2018</td><td>2</td><td>NULL</td><td>2643032</td></tr>",
                            "<tr><td>2018</td><td>2</td><td>4</td><td>861149</td></tr>",
                            "<tr><td>2018</td><td>2</td><td>5</td><td>882956</td></tr>",
                            "<tr><td>2018</td><td>2</td><td>6</td><td>898927</td></tr>",
                            "<tr><td>2018</td><td>3</td><td>NULL</td><td>2771826</td></tr>",
                            "<tr><td>2018</td><td>3</td><td>7</td><td>864219</td></tr>",
                            "<tr><td>2018</td><td>3</td><td>8</td><td>1004286</td></tr>",
                            "<tr><td>2018</td><td>3</td><td>9</td><td>903321</td></tr>",
                            "<tr><td>2018</td><td>4</td><td>NULL</td><td>2615865</td></tr>",
                            "<tr><td>2018</td><td>4</td><td>10</td><td>830337</td></tr>",
                            "<tr><td>2018</td><td>4</td><td>11</td><td>850009</td></tr>",
                            "<tr><td>2018</td><td>4</td><td>12</td><td>935519</td></tr>",
                            "<tr><td>2019</td><td>NULL</td><td>NULL</td><td>10978726</td></tr>",
                            "<tr><td>2019</td><td>1</td><td>NULL</td><td>2740538</td></tr>",
                            "<tr><td>2019</td><td>1</td><td>1</td><td>907246</td></tr>",
                            "<tr><td>2019</td><td>1</td><td>2</td><td>889956</td></tr>",
                            "<tr><td>2019</td><td>1</td><td>3</td><td>943336</td></tr>",
                            "<tr><td>2019</td><td>2</td><td>NULL</td><td>2626710</td></tr>",
                            "<tr><td>2019</td><td>2</td><td>4</td><td>918199</td></tr>",
                            "<tr><td>2019</td><td>2</td><td>5</td><td>864090</td></tr>",
                            "<tr><td>2019</td><td>2</td><td>6</td><td>844421</td></tr>",
                            "<tr><td>2019</td><td>3</td><td>NULL</td><td>2726555</td></tr>",
                            "<tr><td>2019</td><td>3</td><td>7</td><td>911843</td></tr>",
                            "<tr><td>2019</td><td>3</td><td>8</td><td>946459</td></tr>",
                            "<tr><td>2019</td><td>3</td><td>9</td><td>868253</td></tr>",
                            "<tr><td>2019</td><td>4</td><td>NULL</td><td>2884923</td></tr>",
                            "<tr><td>2019</td><td>4</td><td>10</td><td>987544</td></tr>",
                            "<tr><td>2019</td><td>4</td><td>11</td><td>856217</td></tr>",
                            "<tr><td>2019</td><td>4</td><td>12</td><td>1041162</td></tr>",
                            "</table>"
                        ]
                    }
                }
            ],
            "execution_count": 7
        },
        {
            "cell_type": "code",
            "source": [
                "select datepart(year,dt)year,\r\n",
                "        datepart(month,dt)month,\r\n",
                "        datepart(quarter,dt)quarter,\r\n",
                "sum(revenue) \r\n",
                "from daily_sales \r\n",
                "group by rollup (datepart(year,dt),datepart(quarter,dt),datepart(month,dt)) \r\n",
                "order by year,quarter,month"
            ],
            "metadata": {
                "azdata_cell_guid": "3a72b182-ec04-45cd-ac4b-9f7e40166463",
                "language": "sql"
            },
            "outputs": [
                {
                    "output_type": "display_data",
                    "data": {
                        "text/html": "(35 rows affected)"
                    },
                    "metadata": {}
                },
                {
                    "output_type": "display_data",
                    "data": {
                        "text/html": "Total execution time: 00:00:00.012"
                    },
                    "metadata": {}
                },
                {
                    "output_type": "execute_result",
                    "metadata": {},
                    "execution_count": 17,
                    "data": {
                        "application/vnd.dataresource+json": {
                            "schema": {
                                "fields": [
                                    {
                                        "name": "year"
                                    },
                                    {
                                        "name": "month"
                                    },
                                    {
                                        "name": "quarter"
                                    },
                                    {
                                        "name": "(No column name)"
                                    }
                                ]
                            },
                            "data": [
                                {
                                    "year": "NULL",
                                    "month": "NULL",
                                    "quarter": "NULL",
                                    "(No column name)": "21687927"
                                },
                                {
                                    "year": "2018",
                                    "month": "NULL",
                                    "quarter": "NULL",
                                    "(No column name)": "10709201"
                                },
                                {
                                    "year": "2018",
                                    "month": "NULL",
                                    "quarter": "1",
                                    "(No column name)": "2678478"
                                },
                                {
                                    "year": "2018",
                                    "month": "1",
                                    "quarter": "1",
                                    "(No column name)": "902499"
                                },
                                {
                                    "year": "2018",
                                    "month": "2",
                                    "quarter": "1",
                                    "(No column name)": "876540"
                                },
                                {
                                    "year": "2018",
                                    "month": "3",
                                    "quarter": "1",
                                    "(No column name)": "899439"
                                },
                                {
                                    "year": "2018",
                                    "month": "NULL",
                                    "quarter": "2",
                                    "(No column name)": "2643032"
                                },
                                {
                                    "year": "2018",
                                    "month": "4",
                                    "quarter": "2",
                                    "(No column name)": "861149"
                                },
                                {
                                    "year": "2018",
                                    "month": "5",
                                    "quarter": "2",
                                    "(No column name)": "882956"
                                },
                                {
                                    "year": "2018",
                                    "month": "6",
                                    "quarter": "2",
                                    "(No column name)": "898927"
                                },
                                {
                                    "year": "2018",
                                    "month": "NULL",
                                    "quarter": "3",
                                    "(No column name)": "2771826"
                                },
                                {
                                    "year": "2018",
                                    "month": "7",
                                    "quarter": "3",
                                    "(No column name)": "864219"
                                },
                                {
                                    "year": "2018",
                                    "month": "8",
                                    "quarter": "3",
                                    "(No column name)": "1004286"
                                },
                                {
                                    "year": "2018",
                                    "month": "9",
                                    "quarter": "3",
                                    "(No column name)": "903321"
                                },
                                {
                                    "year": "2018",
                                    "month": "NULL",
                                    "quarter": "4",
                                    "(No column name)": "2615865"
                                },
                                {
                                    "year": "2018",
                                    "month": "10",
                                    "quarter": "4",
                                    "(No column name)": "830337"
                                },
                                {
                                    "year": "2018",
                                    "month": "11",
                                    "quarter": "4",
                                    "(No column name)": "850009"
                                },
                                {
                                    "year": "2018",
                                    "month": "12",
                                    "quarter": "4",
                                    "(No column name)": "935519"
                                },
                                {
                                    "year": "2019",
                                    "month": "NULL",
                                    "quarter": "NULL",
                                    "(No column name)": "10978726"
                                },
                                {
                                    "year": "2019",
                                    "month": "NULL",
                                    "quarter": "1",
                                    "(No column name)": "2740538"
                                },
                                {
                                    "year": "2019",
                                    "month": "1",
                                    "quarter": "1",
                                    "(No column name)": "907246"
                                },
                                {
                                    "year": "2019",
                                    "month": "2",
                                    "quarter": "1",
                                    "(No column name)": "889956"
                                },
                                {
                                    "year": "2019",
                                    "month": "3",
                                    "quarter": "1",
                                    "(No column name)": "943336"
                                },
                                {
                                    "year": "2019",
                                    "month": "NULL",
                                    "quarter": "2",
                                    "(No column name)": "2626710"
                                },
                                {
                                    "year": "2019",
                                    "month": "4",
                                    "quarter": "2",
                                    "(No column name)": "918199"
                                },
                                {
                                    "year": "2019",
                                    "month": "5",
                                    "quarter": "2",
                                    "(No column name)": "864090"
                                },
                                {
                                    "year": "2019",
                                    "month": "6",
                                    "quarter": "2",
                                    "(No column name)": "844421"
                                },
                                {
                                    "year": "2019",
                                    "month": "NULL",
                                    "quarter": "3",
                                    "(No column name)": "2726555"
                                },
                                {
                                    "year": "2019",
                                    "month": "7",
                                    "quarter": "3",
                                    "(No column name)": "911843"
                                },
                                {
                                    "year": "2019",
                                    "month": "8",
                                    "quarter": "3",
                                    "(No column name)": "946459"
                                },
                                {
                                    "year": "2019",
                                    "month": "9",
                                    "quarter": "3",
                                    "(No column name)": "868253"
                                },
                                {
                                    "year": "2019",
                                    "month": "NULL",
                                    "quarter": "4",
                                    "(No column name)": "2884923"
                                },
                                {
                                    "year": "2019",
                                    "month": "10",
                                    "quarter": "4",
                                    "(No column name)": "987544"
                                },
                                {
                                    "year": "2019",
                                    "month": "11",
                                    "quarter": "4",
                                    "(No column name)": "856217"
                                },
                                {
                                    "year": "2019",
                                    "month": "12",
                                    "quarter": "4",
                                    "(No column name)": "1041162"
                                }
                            ]
                        },
                        "text/html": [
                            "<table>",
                            "<tr><th>year</th><th>month</th><th>quarter</th><th>(No column name)</th></tr>",
                            "<tr><td>NULL</td><td>NULL</td><td>NULL</td><td>21687927</td></tr>",
                            "<tr><td>2018</td><td>NULL</td><td>NULL</td><td>10709201</td></tr>",
                            "<tr><td>2018</td><td>NULL</td><td>1</td><td>2678478</td></tr>",
                            "<tr><td>2018</td><td>1</td><td>1</td><td>902499</td></tr>",
                            "<tr><td>2018</td><td>2</td><td>1</td><td>876540</td></tr>",
                            "<tr><td>2018</td><td>3</td><td>1</td><td>899439</td></tr>",
                            "<tr><td>2018</td><td>NULL</td><td>2</td><td>2643032</td></tr>",
                            "<tr><td>2018</td><td>4</td><td>2</td><td>861149</td></tr>",
                            "<tr><td>2018</td><td>5</td><td>2</td><td>882956</td></tr>",
                            "<tr><td>2018</td><td>6</td><td>2</td><td>898927</td></tr>",
                            "<tr><td>2018</td><td>NULL</td><td>3</td><td>2771826</td></tr>",
                            "<tr><td>2018</td><td>7</td><td>3</td><td>864219</td></tr>",
                            "<tr><td>2018</td><td>8</td><td>3</td><td>1004286</td></tr>",
                            "<tr><td>2018</td><td>9</td><td>3</td><td>903321</td></tr>",
                            "<tr><td>2018</td><td>NULL</td><td>4</td><td>2615865</td></tr>",
                            "<tr><td>2018</td><td>10</td><td>4</td><td>830337</td></tr>",
                            "<tr><td>2018</td><td>11</td><td>4</td><td>850009</td></tr>",
                            "<tr><td>2018</td><td>12</td><td>4</td><td>935519</td></tr>",
                            "<tr><td>2019</td><td>NULL</td><td>NULL</td><td>10978726</td></tr>",
                            "<tr><td>2019</td><td>NULL</td><td>1</td><td>2740538</td></tr>",
                            "<tr><td>2019</td><td>1</td><td>1</td><td>907246</td></tr>",
                            "<tr><td>2019</td><td>2</td><td>1</td><td>889956</td></tr>",
                            "<tr><td>2019</td><td>3</td><td>1</td><td>943336</td></tr>",
                            "<tr><td>2019</td><td>NULL</td><td>2</td><td>2626710</td></tr>",
                            "<tr><td>2019</td><td>4</td><td>2</td><td>918199</td></tr>",
                            "<tr><td>2019</td><td>5</td><td>2</td><td>864090</td></tr>",
                            "<tr><td>2019</td><td>6</td><td>2</td><td>844421</td></tr>",
                            "<tr><td>2019</td><td>NULL</td><td>3</td><td>2726555</td></tr>",
                            "<tr><td>2019</td><td>7</td><td>3</td><td>911843</td></tr>",
                            "<tr><td>2019</td><td>8</td><td>3</td><td>946459</td></tr>",
                            "<tr><td>2019</td><td>9</td><td>3</td><td>868253</td></tr>",
                            "<tr><td>2019</td><td>NULL</td><td>4</td><td>2884923</td></tr>",
                            "<tr><td>2019</td><td>10</td><td>4</td><td>987544</td></tr>",
                            "<tr><td>2019</td><td>11</td><td>4</td><td>856217</td></tr>",
                            "<tr><td>2019</td><td>12</td><td>4</td><td>1041162</td></tr>",
                            "</table>"
                        ]
                    }
                }
            ],
            "execution_count": 17
        }
    ]
}