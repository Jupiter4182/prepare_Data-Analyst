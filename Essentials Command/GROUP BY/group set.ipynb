{
    "metadata": {
        "kernelspec": {
            "name": "SQL",
            "display_name": "SQL",
            "language": "sql"
        },
        "language_info": {
            "name": "sql",
            "version": ""
        }
    },
    "nbformat_minor": 2,
    "nbformat": 4,
    "cells": [
        {
            "cell_type": "code",
            "source": [
                "select datepart(year,release_date) ,genre, sum(inflation_adjusted_gross)[Total_tax]\r\n",
                "from movie_gross \r\n",
                "where datepart(year,release_date) > 2013\r\n",
                "group by genre , datepart(year,release_date) \r\n",
                ""
            ],
            "metadata": {
                "azdata_cell_guid": "3b003425-883e-4d11-bb1d-7f11ccb47c1d",
                "language": "sql",
                "tags": []
            },
            "outputs": [
                {
                    "output_type": "display_data",
                    "data": {
                        "text/html": "(17 rows affected)"
                    },
                    "metadata": {}
                },
                {
                    "output_type": "display_data",
                    "data": {
                        "text/html": "Total execution time: 00:00:00.008"
                    },
                    "metadata": {}
                },
                {
                    "output_type": "execute_result",
                    "execution_count": 26,
                    "data": {
                        "application/vnd.dataresource+json": {
                            "schema": {
                                "fields": [
                                    {
                                        "name": "(No column name)"
                                    },
                                    {
                                        "name": "genre"
                                    },
                                    {
                                        "name": "Total_tax"
                                    }
                                ]
                            },
                            "data": [
                                {
                                    "(No column name)": "2014",
                                    "genre": "Action",
                                    "Total_tax": "312968091"
                                },
                                {
                                    "(No column name)": "2014",
                                    "genre": "Adventure",
                                    "Total_tax": "883150548"
                                },
                                {
                                    "(No column name)": "2014",
                                    "genre": "Comedy",
                                    "Total_tax": "121863144"
                                },
                                {
                                    "(No column name)": "2014",
                                    "genre": "Documentary",
                                    "Total_tax": "18346024"
                                },
                                {
                                    "(No column name)": "2014",
                                    "genre": "Drama",
                                    "Total_tax": "37607865"
                                },
                                {
                                    "(No column name)": "2014",
                                    "genre": "Musical",
                                    "Total_tax": "130894237"
                                },
                                {
                                    "(No column name)": "2014",
                                    "genre": "Romantic Comedy",
                                    "Total_tax": "55961409"
                                },
                                {
                                    "(No column name)": "2015",
                                    "genre": "Action",
                                    "Total_tax": "639208031"
                                },
                                {
                                    "(No column name)": "2015",
                                    "genre": "Adventure",
                                    "Total_tax": "1522076961"
                                },
                                {
                                    "(No column name)": "2015",
                                    "genre": "Documentary",
                                    "Total_tax": "16432322"
                                },
                                {
                                    "(No column name)": "2015",
                                    "genre": "Drama",
                                    "Total_tax": "245631628"
                                },
                                {
                                    "(No column name)": "2015",
                                    "genre": "Thriller/Suspense",
                                    "Total_tax": "72313754"
                                },
                                {
                                    "(No column name)": "2016",
                                    "genre": "Action",
                                    "Total_tax": "408084349"
                                },
                                {
                                    "(No column name)": "2016",
                                    "genre": "Adventure",
                                    "Total_tax": "2408423122"
                                },
                                {
                                    "(No column name)": "2016",
                                    "genre": "Documentary",
                                    "Total_tax": "7895708"
                                },
                                {
                                    "(No column name)": "2016",
                                    "genre": "Drama",
                                    "Total_tax": "21420368"
                                },
                                {
                                    "(No column name)": "2016",
                                    "genre": "Thriller/Suspense",
                                    "Total_tax": "27569558"
                                }
                            ]
                        },
                        "text/html": "<table><tr><th>(No column name)</th><th>genre</th><th>Total_tax</th></tr><tr><td>2014</td><td>Action</td><td>312968091</td></tr><tr><td>2014</td><td>Adventure</td><td>883150548</td></tr><tr><td>2014</td><td>Comedy</td><td>121863144</td></tr><tr><td>2014</td><td>Documentary</td><td>18346024</td></tr><tr><td>2014</td><td>Drama</td><td>37607865</td></tr><tr><td>2014</td><td>Musical</td><td>130894237</td></tr><tr><td>2014</td><td>Romantic Comedy</td><td>55961409</td></tr><tr><td>2015</td><td>Action</td><td>639208031</td></tr><tr><td>2015</td><td>Adventure</td><td>1522076961</td></tr><tr><td>2015</td><td>Documentary</td><td>16432322</td></tr><tr><td>2015</td><td>Drama</td><td>245631628</td></tr><tr><td>2015</td><td>Thriller/Suspense</td><td>72313754</td></tr><tr><td>2016</td><td>Action</td><td>408084349</td></tr><tr><td>2016</td><td>Adventure</td><td>2408423122</td></tr><tr><td>2016</td><td>Documentary</td><td>7895708</td></tr><tr><td>2016</td><td>Drama</td><td>21420368</td></tr><tr><td>2016</td><td>Thriller/Suspense</td><td>27569558</td></tr></table>"
                    },
                    "metadata": {}
                }
            ],
            "execution_count": 26
        },
        {
            "cell_type": "code",
            "source": [
                "select datepart(year,release_date) ,genre, sum(inflation_adjusted_gross)[Total_tax]\r\n",
                "from movie_gross \r\n",
                "where datepart(year,release_date) > 2013\r\n",
                "group by \r\n",
                "GROUPING sets ((genre , datepart(year,release_date) )) "
            ],
            "metadata": {
                "azdata_cell_guid": "3c30b195-c1b0-423b-8e3d-aae2c50faedc",
                "language": "sql",
                "tags": []
            },
            "outputs": [
                {
                    "output_type": "display_data",
                    "data": {
                        "text/html": "(17 rows affected)"
                    },
                    "metadata": {}
                },
                {
                    "output_type": "display_data",
                    "data": {
                        "text/html": "Total execution time: 00:00:00.005"
                    },
                    "metadata": {}
                },
                {
                    "output_type": "execute_result",
                    "execution_count": 28,
                    "data": {
                        "application/vnd.dataresource+json": {
                            "schema": {
                                "fields": [
                                    {
                                        "name": "(No column name)"
                                    },
                                    {
                                        "name": "genre"
                                    },
                                    {
                                        "name": "Total_tax"
                                    }
                                ]
                            },
                            "data": [
                                {
                                    "(No column name)": "2014",
                                    "genre": "Action",
                                    "Total_tax": "312968091"
                                },
                                {
                                    "(No column name)": "2014",
                                    "genre": "Adventure",
                                    "Total_tax": "883150548"
                                },
                                {
                                    "(No column name)": "2014",
                                    "genre": "Comedy",
                                    "Total_tax": "121863144"
                                },
                                {
                                    "(No column name)": "2014",
                                    "genre": "Documentary",
                                    "Total_tax": "18346024"
                                },
                                {
                                    "(No column name)": "2014",
                                    "genre": "Drama",
                                    "Total_tax": "37607865"
                                },
                                {
                                    "(No column name)": "2014",
                                    "genre": "Musical",
                                    "Total_tax": "130894237"
                                },
                                {
                                    "(No column name)": "2014",
                                    "genre": "Romantic Comedy",
                                    "Total_tax": "55961409"
                                },
                                {
                                    "(No column name)": "2015",
                                    "genre": "Action",
                                    "Total_tax": "639208031"
                                },
                                {
                                    "(No column name)": "2015",
                                    "genre": "Adventure",
                                    "Total_tax": "1522076961"
                                },
                                {
                                    "(No column name)": "2015",
                                    "genre": "Documentary",
                                    "Total_tax": "16432322"
                                },
                                {
                                    "(No column name)": "2015",
                                    "genre": "Drama",
                                    "Total_tax": "245631628"
                                },
                                {
                                    "(No column name)": "2015",
                                    "genre": "Thriller/Suspense",
                                    "Total_tax": "72313754"
                                },
                                {
                                    "(No column name)": "2016",
                                    "genre": "Action",
                                    "Total_tax": "408084349"
                                },
                                {
                                    "(No column name)": "2016",
                                    "genre": "Adventure",
                                    "Total_tax": "2408423122"
                                },
                                {
                                    "(No column name)": "2016",
                                    "genre": "Documentary",
                                    "Total_tax": "7895708"
                                },
                                {
                                    "(No column name)": "2016",
                                    "genre": "Drama",
                                    "Total_tax": "21420368"
                                },
                                {
                                    "(No column name)": "2016",
                                    "genre": "Thriller/Suspense",
                                    "Total_tax": "27569558"
                                }
                            ]
                        },
                        "text/html": "<table><tr><th>(No column name)</th><th>genre</th><th>Total_tax</th></tr><tr><td>2014</td><td>Action</td><td>312968091</td></tr><tr><td>2014</td><td>Adventure</td><td>883150548</td></tr><tr><td>2014</td><td>Comedy</td><td>121863144</td></tr><tr><td>2014</td><td>Documentary</td><td>18346024</td></tr><tr><td>2014</td><td>Drama</td><td>37607865</td></tr><tr><td>2014</td><td>Musical</td><td>130894237</td></tr><tr><td>2014</td><td>Romantic Comedy</td><td>55961409</td></tr><tr><td>2015</td><td>Action</td><td>639208031</td></tr><tr><td>2015</td><td>Adventure</td><td>1522076961</td></tr><tr><td>2015</td><td>Documentary</td><td>16432322</td></tr><tr><td>2015</td><td>Drama</td><td>245631628</td></tr><tr><td>2015</td><td>Thriller/Suspense</td><td>72313754</td></tr><tr><td>2016</td><td>Action</td><td>408084349</td></tr><tr><td>2016</td><td>Adventure</td><td>2408423122</td></tr><tr><td>2016</td><td>Documentary</td><td>7895708</td></tr><tr><td>2016</td><td>Drama</td><td>21420368</td></tr><tr><td>2016</td><td>Thriller/Suspense</td><td>27569558</td></tr></table>"
                    },
                    "metadata": {}
                }
            ],
            "execution_count": 28
        },
        {
            "cell_type": "code",
            "source": [
                ""
            ],
            "metadata": {
                "language": "sql",
                "azdata_cell_guid": "351c8b43-7a0a-4e2a-9468-df329e4460bc"
            },
            "outputs": [],
            "execution_count": null
        },
        {
            "cell_type": "markdown",
            "source": [
                "group by and groupping sets () เขียนได้ทั้งสอง พอgroupping sets () group เฉพาะจะได้ผล sum ในคอลัม null"
            ],
            "metadata": {
                "azdata_cell_guid": "73198f5e-3171-4f17-a02e-fb039e11bfe5"
            },
            "attachments": {}
        },
        {
            "cell_type": "code",
            "source": [
                "select genre,datepart(year,release_date) ,sum(total_gross)\r\n",
                "from movie_gross\r\n",
                "where datepart(year,release_date) > 2013 \r\n",
                "group by genre,datepart(year,release_date)"
            ],
            "metadata": {
                "language": "sql",
                "azdata_cell_guid": "ad6623aa-9021-4653-a137-0d4935ed9609"
            },
            "outputs": [
                {
                    "output_type": "display_data",
                    "data": {
                        "text/html": "(17 rows affected)"
                    },
                    "metadata": {}
                },
                {
                    "output_type": "display_data",
                    "data": {
                        "text/html": "Total execution time: 00:00:00.008"
                    },
                    "metadata": {}
                },
                {
                    "output_type": "execute_result",
                    "execution_count": 15,
                    "data": {
                        "application/vnd.dataresource+json": {
                            "schema": {
                                "fields": [
                                    {
                                        "name": "genre"
                                    },
                                    {
                                        "name": "(No column name)"
                                    },
                                    {
                                        "name": "(No column name)"
                                    }
                                ]
                            },
                            "data": [
                                {
                                    "genre": "Action",
                                    "(No column name)": "303315465"
                                },
                                {
                                    "genre": "Adventure",
                                    "(No column name)": "856265000"
                                },
                                {
                                    "genre": "Comedy",
                                    "(No column name)": "118133042"
                                },
                                {
                                    "genre": "Documentary",
                                    "(No column name)": "17780194"
                                },
                                {
                                    "genre": "Drama",
                                    "(No column name)": "36447959"
                                },
                                {
                                    "genre": "Musical",
                                    "(No column name)": "128002372"
                                },
                                {
                                    "genre": "Romantic Comedy",
                                    "(No column name)": "54235441"
                                },
                                {
                                    "genre": "Action",
                                    "(No column name)": "639208031"
                                },
                                {
                                    "genre": "Adventure",
                                    "(No column name)": "1522076961"
                                },
                                {
                                    "genre": "Documentary",
                                    "(No column name)": "16432322"
                                },
                                {
                                    "genre": "Drama",
                                    "(No column name)": "245631628"
                                },
                                {
                                    "genre": "Thriller/Suspense",
                                    "(No column name)": "72313754"
                                },
                                {
                                    "genre": "Action",
                                    "(No column name)": "408084349"
                                },
                                {
                                    "genre": "Adventure",
                                    "(No column name)": "2408423122"
                                },
                                {
                                    "genre": "Documentary",
                                    "(No column name)": "7895708"
                                },
                                {
                                    "genre": "Drama",
                                    "(No column name)": "21420368"
                                },
                                {
                                    "genre": "Thriller/Suspense",
                                    "(No column name)": "27569558"
                                }
                            ]
                        },
                        "text/html": "<table><tr><th>genre</th><th>(No column name)</th><th>(No column name)</th></tr><tr><td>Action</td><td>2014</td><td>303315465</td></tr><tr><td>Adventure</td><td>2014</td><td>856265000</td></tr><tr><td>Comedy</td><td>2014</td><td>118133042</td></tr><tr><td>Documentary</td><td>2014</td><td>17780194</td></tr><tr><td>Drama</td><td>2014</td><td>36447959</td></tr><tr><td>Musical</td><td>2014</td><td>128002372</td></tr><tr><td>Romantic Comedy</td><td>2014</td><td>54235441</td></tr><tr><td>Action</td><td>2015</td><td>639208031</td></tr><tr><td>Adventure</td><td>2015</td><td>1522076961</td></tr><tr><td>Documentary</td><td>2015</td><td>16432322</td></tr><tr><td>Drama</td><td>2015</td><td>245631628</td></tr><tr><td>Thriller/Suspense</td><td>2015</td><td>72313754</td></tr><tr><td>Action</td><td>2016</td><td>408084349</td></tr><tr><td>Adventure</td><td>2016</td><td>2408423122</td></tr><tr><td>Documentary</td><td>2016</td><td>7895708</td></tr><tr><td>Drama</td><td>2016</td><td>21420368</td></tr><tr><td>Thriller/Suspense</td><td>2016</td><td>27569558</td></tr></table>"
                    },
                    "metadata": {}
                }
            ],
            "execution_count": 15
        },
        {
            "cell_type": "code",
            "source": [
                "select datepart(year,release_date) year,genre , sum(total_gross) gross\r\n",
                "from movie_gross\r\n",
                "where datepart(year,release_date) > 2013 \r\n",
                "group by \r\n",
                "GROUPING sets( \r\n",
                "    (datepart(year,release_date) , genre),\r\n",
                "    (DATEPART(year,release_date))\r\n",
                "    )"
            ],
            "metadata": {
                "language": "sql",
                "azdata_cell_guid": "ac3701d4-6fbf-424f-bffe-a76ee5d128ee",
                "tags": []
            },
            "outputs": [
                {
                    "output_type": "display_data",
                    "data": {
                        "text/html": "(20 rows affected)"
                    },
                    "metadata": {}
                },
                {
                    "output_type": "display_data",
                    "data": {
                        "text/html": "Total execution time: 00:00:00.042"
                    },
                    "metadata": {}
                },
                {
                    "output_type": "execute_result",
                    "execution_count": 24,
                    "data": {
                        "application/vnd.dataresource+json": {
                            "schema": {
                                "fields": [
                                    {
                                        "name": "year"
                                    },
                                    {
                                        "name": "genre"
                                    },
                                    {
                                        "name": "gross"
                                    }
                                ]
                            },
                            "data": [
                                {
                                    "year": "2014",
                                    "genre": "Action",
                                    "gross": "303315465"
                                },
                                {
                                    "year": "2014",
                                    "genre": "Adventure",
                                    "gross": "856265000"
                                },
                                {
                                    "year": "2014",
                                    "genre": "Comedy",
                                    "gross": "118133042"
                                },
                                {
                                    "year": "2014",
                                    "genre": "Documentary",
                                    "gross": "17780194"
                                },
                                {
                                    "year": "2014",
                                    "genre": "Drama",
                                    "gross": "36447959"
                                },
                                {
                                    "year": "2014",
                                    "genre": "Musical",
                                    "gross": "128002372"
                                },
                                {
                                    "year": "2014",
                                    "genre": "Romantic Comedy",
                                    "gross": "54235441"
                                },
                                {
                                    "year": "2014",
                                    "genre": "NULL",
                                    "gross": "1514179473"
                                },
                                {
                                    "year": "2015",
                                    "genre": "Action",
                                    "gross": "639208031"
                                },
                                {
                                    "year": "2015",
                                    "genre": "Adventure",
                                    "gross": "1522076961"
                                },
                                {
                                    "year": "2015",
                                    "genre": "Documentary",
                                    "gross": "16432322"
                                },
                                {
                                    "year": "2015",
                                    "genre": "Drama",
                                    "gross": "245631628"
                                },
                                {
                                    "year": "2015",
                                    "genre": "Thriller/Suspense",
                                    "gross": "72313754"
                                },
                                {
                                    "year": "2015",
                                    "genre": "NULL",
                                    "gross": "2495662696"
                                },
                                {
                                    "year": "2016",
                                    "genre": "Action",
                                    "gross": "408084349"
                                },
                                {
                                    "year": "2016",
                                    "genre": "Adventure",
                                    "gross": "2408423122"
                                },
                                {
                                    "year": "2016",
                                    "genre": "Documentary",
                                    "gross": "7895708"
                                },
                                {
                                    "year": "2016",
                                    "genre": "Drama",
                                    "gross": "21420368"
                                },
                                {
                                    "year": "2016",
                                    "genre": "Thriller/Suspense",
                                    "gross": "27569558"
                                },
                                {
                                    "year": "2016",
                                    "genre": "NULL",
                                    "gross": "2873393105"
                                }
                            ]
                        },
                        "text/html": "<table><tr><th>year</th><th>genre</th><th>gross</th></tr><tr><td>2014</td><td>Action</td><td>303315465</td></tr><tr><td>2014</td><td>Adventure</td><td>856265000</td></tr><tr><td>2014</td><td>Comedy</td><td>118133042</td></tr><tr><td>2014</td><td>Documentary</td><td>17780194</td></tr><tr><td>2014</td><td>Drama</td><td>36447959</td></tr><tr><td>2014</td><td>Musical</td><td>128002372</td></tr><tr><td>2014</td><td>Romantic Comedy</td><td>54235441</td></tr><tr><td>2014</td><td>NULL</td><td>1514179473</td></tr><tr><td>2015</td><td>Action</td><td>639208031</td></tr><tr><td>2015</td><td>Adventure</td><td>1522076961</td></tr><tr><td>2015</td><td>Documentary</td><td>16432322</td></tr><tr><td>2015</td><td>Drama</td><td>245631628</td></tr><tr><td>2015</td><td>Thriller/Suspense</td><td>72313754</td></tr><tr><td>2015</td><td>NULL</td><td>2495662696</td></tr><tr><td>2016</td><td>Action</td><td>408084349</td></tr><tr><td>2016</td><td>Adventure</td><td>2408423122</td></tr><tr><td>2016</td><td>Documentary</td><td>7895708</td></tr><tr><td>2016</td><td>Drama</td><td>21420368</td></tr><tr><td>2016</td><td>Thriller/Suspense</td><td>27569558</td></tr><tr><td>2016</td><td>NULL</td><td>2873393105</td></tr></table>"
                    },
                    "metadata": {}
                }
            ],
            "execution_count": 24
        },
        {
            "cell_type": "code",
            "source": [
                ""
            ],
            "metadata": {
                "azdata_cell_guid": "230b5c0b-7a39-469b-bf11-628173933ff7",
                "language": "sql"
            },
            "outputs": [],
            "execution_count": null
        }
    ]
}