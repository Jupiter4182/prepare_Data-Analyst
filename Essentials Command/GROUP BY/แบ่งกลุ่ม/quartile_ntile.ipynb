{
    "metadata": {
        "kernelspec": {
            "name": "SQL",
            "display_name": "SQL",
            "language": "sql"
        },
        "language_info": {
            "name": "sql",
            "version": ""
        }
    },
    "nbformat_minor": 2,
    "nbformat": 4,
    "cells": [
        {
            "cell_type": "code",
            "source": [
                "with cte as (\r\n",
                "    SELECT movie_title,release_date, inflation_adjusted_gross,\r\n",
                "    ntile(4) over (order by inflation_adjusted_gross desc) as quartile\r\n",
                "    from movie_gross\r\n",
                "    where year(release_date) > 2010\r\n",
                ")\r\n",
                "select * from cte where quartile = 1"
            ],
            "metadata": {
                "azdata_cell_guid": "c51ec784-aa1a-4c08-9609-2a9ce009d1a4",
                "language": "sql"
            },
            "outputs": [
                {
                    "output_type": "display_data",
                    "data": {
                        "text/html": "(18 rows affected)"
                    },
                    "metadata": {}
                },
                {
                    "output_type": "display_data",
                    "data": {
                        "text/html": "Total execution time: 00:00:00.011"
                    },
                    "metadata": {}
                },
                {
                    "output_type": "execute_result",
                    "metadata": {},
                    "execution_count": 5,
                    "data": {
                        "application/vnd.dataresource+json": {
                            "schema": {
                                "fields": [
                                    {
                                        "name": "movie_title"
                                    },
                                    {
                                        "name": "release_date"
                                    },
                                    {
                                        "name": "inflation_adjusted_gross"
                                    },
                                    {
                                        "name": "quartile"
                                    }
                                ]
                            },
                            "data": [
                                {
                                    "movie_title": "Star Wars Ep. VII: The Force Awakens",
                                    "release_date": "2015-12-18",
                                    "inflation_adjusted_gross": "936662225",
                                    "quartile": "1"
                                },
                                {
                                    "movie_title": "The Avengers",
                                    "release_date": "2012-05-04",
                                    "inflation_adjusted_gross": "660081224",
                                    "quartile": "1"
                                },
                                {
                                    "movie_title": "Rogue One: A Star Wars Story",
                                    "release_date": "2016-12-16",
                                    "inflation_adjusted_gross": "529483936",
                                    "quartile": "1"
                                },
                                {
                                    "movie_title": "Finding Dory",
                                    "release_date": "2016-06-17",
                                    "inflation_adjusted_gross": "486295561",
                                    "quartile": "1"
                                },
                                {
                                    "movie_title": "Avengers: Age of Ultron",
                                    "release_date": "2015-05-01",
                                    "inflation_adjusted_gross": "459005868",
                                    "quartile": "1"
                                },
                                {
                                    "movie_title": "Iron Man 3",
                                    "release_date": "2013-05-03",
                                    "inflation_adjusted_gross": "424084233",
                                    "quartile": "1"
                                },
                                {
                                    "movie_title": "Frozen",
                                    "release_date": "2013-11-22",
                                    "inflation_adjusted_gross": "414997174",
                                    "quartile": "1"
                                },
                                {
                                    "movie_title": "Captain America: Civil War",
                                    "release_date": "2016-05-06",
                                    "inflation_adjusted_gross": "408084349",
                                    "quartile": "1"
                                },
                                {
                                    "movie_title": "The Jungle Book",
                                    "release_date": "2016-04-15",
                                    "inflation_adjusted_gross": "364001123",
                                    "quartile": "1"
                                },
                                {
                                    "movie_title": "Inside Out",
                                    "release_date": "2015-06-19",
                                    "inflation_adjusted_gross": "356461711",
                                    "quartile": "1"
                                },
                                {
                                    "movie_title": "Guardians of the Galaxy",
                                    "release_date": "2014-08-01",
                                    "inflation_adjusted_gross": "343771168",
                                    "quartile": "1"
                                },
                                {
                                    "movie_title": "Zootopia",
                                    "release_date": "2016-03-04",
                                    "inflation_adjusted_gross": "341268248",
                                    "quartile": "1"
                                },
                                {
                                    "movie_title": "Monsters University",
                                    "release_date": "2013-06-21",
                                    "inflation_adjusted_gross": "278395641",
                                    "quartile": "1"
                                },
                                {
                                    "movie_title": "Captain America: The Winter Soldier",
                                    "release_date": "2014-04-04",
                                    "inflation_adjusted_gross": "268013076",
                                    "quartile": "1"
                                },
                                {
                                    "movie_title": "Pirates of the Caribbean: On Stranger…",
                                    "release_date": "2011-05-20",
                                    "inflation_adjusted_gross": "256263359",
                                    "quartile": "1"
                                },
                                {
                                    "movie_title": "Brave",
                                    "release_date": "2012-06-22",
                                    "inflation_adjusted_gross": "251292441",
                                    "quartile": "1"
                                },
                                {
                                    "movie_title": "Maleficent",
                                    "release_date": "2014-05-30",
                                    "inflation_adjusted_gross": "249089809",
                                    "quartile": "1"
                                },
                                {
                                    "movie_title": "Moana",
                                    "release_date": "2016-11-23",
                                    "inflation_adjusted_gross": "246082029",
                                    "quartile": "1"
                                }
                            ]
                        },
                        "text/html": [
                            "<table>",
                            "<tr><th>movie_title</th><th>release_date</th><th>inflation_adjusted_gross</th><th>quartile</th></tr>",
                            "<tr><td>Star Wars Ep. VII: The Force Awakens</td><td>2015-12-18</td><td>936662225</td><td>1</td></tr>",
                            "<tr><td>The Avengers</td><td>2012-05-04</td><td>660081224</td><td>1</td></tr>",
                            "<tr><td>Rogue One: A Star Wars Story</td><td>2016-12-16</td><td>529483936</td><td>1</td></tr>",
                            "<tr><td>Finding Dory</td><td>2016-06-17</td><td>486295561</td><td>1</td></tr>",
                            "<tr><td>Avengers: Age of Ultron</td><td>2015-05-01</td><td>459005868</td><td>1</td></tr>",
                            "<tr><td>Iron Man 3</td><td>2013-05-03</td><td>424084233</td><td>1</td></tr>",
                            "<tr><td>Frozen</td><td>2013-11-22</td><td>414997174</td><td>1</td></tr>",
                            "<tr><td>Captain America: Civil War</td><td>2016-05-06</td><td>408084349</td><td>1</td></tr>",
                            "<tr><td>The Jungle Book</td><td>2016-04-15</td><td>364001123</td><td>1</td></tr>",
                            "<tr><td>Inside Out</td><td>2015-06-19</td><td>356461711</td><td>1</td></tr>",
                            "<tr><td>Guardians of the Galaxy</td><td>2014-08-01</td><td>343771168</td><td>1</td></tr>",
                            "<tr><td>Zootopia</td><td>2016-03-04</td><td>341268248</td><td>1</td></tr>",
                            "<tr><td>Monsters University</td><td>2013-06-21</td><td>278395641</td><td>1</td></tr>",
                            "<tr><td>Captain America: The Winter Soldier</td><td>2014-04-04</td><td>268013076</td><td>1</td></tr>",
                            "<tr><td>Pirates of the Caribbean: On Stranger…</td><td>2011-05-20</td><td>256263359</td><td>1</td></tr>",
                            "<tr><td>Brave</td><td>2012-06-22</td><td>251292441</td><td>1</td></tr>",
                            "<tr><td>Maleficent</td><td>2014-05-30</td><td>249089809</td><td>1</td></tr>",
                            "<tr><td>Moana</td><td>2016-11-23</td><td>246082029</td><td>1</td></tr>",
                            "</table>"
                        ]
                    }
                }
            ],
            "execution_count": 5
        },
        {
            "cell_type": "code",
            "source": [
                "   SELECT *,\r\n",
                "    ntile(10) over (order by inflation_adjusted_gross desc) as quartile\r\n",
                "    from movie_gross\r\n",
                "    where year(release_date) > 2010"
            ],
            "metadata": {
                "azdata_cell_guid": "547dc681-e58a-43c0-a55f-2be6e3938282",
                "language": "sql",
                "tags": []
            },
            "outputs": [
                {
                    "output_type": "display_data",
                    "data": {
                        "text/html": "(72 rows affected)"
                    },
                    "metadata": {}
                },
                {
                    "output_type": "display_data",
                    "data": {
                        "text/html": "Total execution time: 00:00:00.010"
                    },
                    "metadata": {}
                },
                {
                    "output_type": "execute_result",
                    "metadata": {},
                    "execution_count": 8,
                    "data": {
                        "application/vnd.dataresource+json": {
                            "schema": {
                                "fields": [
                                    {
                                        "name": "movie_title"
                                    },
                                    {
                                        "name": "release_date"
                                    },
                                    {
                                        "name": "genre"
                                    },
                                    {
                                        "name": "mpaa_rating"
                                    },
                                    {
                                        "name": "total_gross"
                                    },
                                    {
                                        "name": "inflation_adjusted_gross"
                                    },
                                    {
                                        "name": "quartile"
                                    }
                                ]
                            },
                            "data": [
                                {
                                    "movie_title": "Star Wars Ep. VII: The Force Awakens",
                                    "release_date": "2015-12-18",
                                    "genre": "Adventure",
                                    "mpaa_rating": "PG-13",
                                    "total_gross": "936662225",
                                    "inflation_adjusted_gross": "936662225",
                                    "quartile": "1"
                                },
                                {
                                    "movie_title": "The Avengers",
                                    "release_date": "2012-05-04",
                                    "genre": "Action",
                                    "mpaa_rating": "PG-13",
                                    "total_gross": "623279547",
                                    "inflation_adjusted_gross": "660081224",
                                    "quartile": "1"
                                },
                                {
                                    "movie_title": "Rogue One: A Star Wars Story",
                                    "release_date": "2016-12-16",
                                    "genre": "Adventure",
                                    "mpaa_rating": "PG-13",
                                    "total_gross": "529483936",
                                    "inflation_adjusted_gross": "529483936",
                                    "quartile": "1"
                                },
                                {
                                    "movie_title": "Finding Dory",
                                    "release_date": "2016-06-17",
                                    "genre": "Adventure",
                                    "mpaa_rating": "PG",
                                    "total_gross": "486295561",
                                    "inflation_adjusted_gross": "486295561",
                                    "quartile": "1"
                                },
                                {
                                    "movie_title": "Avengers: Age of Ultron",
                                    "release_date": "2015-05-01",
                                    "genre": "Action",
                                    "mpaa_rating": "PG-13",
                                    "total_gross": "459005868",
                                    "inflation_adjusted_gross": "459005868",
                                    "quartile": "1"
                                },
                                {
                                    "movie_title": "Iron Man 3",
                                    "release_date": "2013-05-03",
                                    "genre": "Action",
                                    "mpaa_rating": "PG-13",
                                    "total_gross": "408992272",
                                    "inflation_adjusted_gross": "424084233",
                                    "quartile": "1"
                                },
                                {
                                    "movie_title": "Frozen",
                                    "release_date": "2013-11-22",
                                    "genre": "Adventure",
                                    "mpaa_rating": "PG",
                                    "total_gross": "400738009",
                                    "inflation_adjusted_gross": "414997174",
                                    "quartile": "1"
                                },
                                {
                                    "movie_title": "Captain America: Civil War",
                                    "release_date": "2016-05-06",
                                    "genre": "Action",
                                    "mpaa_rating": "PG-13",
                                    "total_gross": "408084349",
                                    "inflation_adjusted_gross": "408084349",
                                    "quartile": "1"
                                },
                                {
                                    "movie_title": "The Jungle Book",
                                    "release_date": "2016-04-15",
                                    "genre": "Adventure",
                                    "mpaa_rating": "PG",
                                    "total_gross": "364001123",
                                    "inflation_adjusted_gross": "364001123",
                                    "quartile": "2"
                                },
                                {
                                    "movie_title": "Inside Out",
                                    "release_date": "2015-06-19",
                                    "genre": "Adventure",
                                    "mpaa_rating": "PG",
                                    "total_gross": "356461711",
                                    "inflation_adjusted_gross": "356461711",
                                    "quartile": "2"
                                },
                                {
                                    "movie_title": "Guardians of the Galaxy",
                                    "release_date": "2014-08-01",
                                    "genre": "Adventure",
                                    "mpaa_rating": "PG-13",
                                    "total_gross": "333172112",
                                    "inflation_adjusted_gross": "343771168",
                                    "quartile": "2"
                                },
                                {
                                    "movie_title": "Zootopia",
                                    "release_date": "2016-03-04",
                                    "genre": "Adventure",
                                    "mpaa_rating": "PG",
                                    "total_gross": "341268248",
                                    "inflation_adjusted_gross": "341268248",
                                    "quartile": "2"
                                },
                                {
                                    "movie_title": "Monsters University",
                                    "release_date": "2013-06-21",
                                    "genre": "Adventure",
                                    "mpaa_rating": "G",
                                    "total_gross": "268488329",
                                    "inflation_adjusted_gross": "278395641",
                                    "quartile": "2"
                                },
                                {
                                    "movie_title": "Captain America: The Winter Soldier",
                                    "release_date": "2014-04-04",
                                    "genre": "Action",
                                    "mpaa_rating": "PG-13",
                                    "total_gross": "259746958",
                                    "inflation_adjusted_gross": "268013076",
                                    "quartile": "2"
                                },
                                {
                                    "movie_title": "Pirates of the Caribbean: On Stranger…",
                                    "release_date": "2011-05-20",
                                    "genre": "Adventure",
                                    "mpaa_rating": "PG-13",
                                    "total_gross": "241063875",
                                    "inflation_adjusted_gross": "256263359",
                                    "quartile": "2"
                                },
                                {
                                    "movie_title": "Brave",
                                    "release_date": "2012-06-22",
                                    "genre": "Adventure",
                                    "mpaa_rating": "PG",
                                    "total_gross": "237282182",
                                    "inflation_adjusted_gross": "251292441",
                                    "quartile": "2"
                                },
                                {
                                    "movie_title": "Maleficent",
                                    "release_date": "2014-05-30",
                                    "genre": "Adventure",
                                    "mpaa_rating": "PG",
                                    "total_gross": "241407328",
                                    "inflation_adjusted_gross": "249089809",
                                    "quartile": "3"
                                },
                                {
                                    "movie_title": "Moana",
                                    "release_date": "2016-11-23",
                                    "genre": "Adventure",
                                    "mpaa_rating": "PG",
                                    "total_gross": "246082029",
                                    "inflation_adjusted_gross": "246082029",
                                    "quartile": "3"
                                },
                                {
                                    "movie_title": "Oz the Great and Powerful",
                                    "release_date": "2013-03-08",
                                    "genre": "Adventure",
                                    "mpaa_rating": "PG",
                                    "total_gross": "234770996",
                                    "inflation_adjusted_gross": "243434130",
                                    "quartile": "3"
                                },
                                {
                                    "movie_title": "Doctor Strange",
                                    "release_date": "2016-11-04",
                                    "genre": "Adventure",
                                    "mpaa_rating": "PG-13",
                                    "total_gross": "232532923",
                                    "inflation_adjusted_gross": "232532923",
                                    "quartile": "3"
                                },
                                {
                                    "movie_title": "Big Hero 6",
                                    "release_date": "2014-11-07",
                                    "genre": "Adventure",
                                    "mpaa_rating": "PG",
                                    "total_gross": "222527828",
                                    "inflation_adjusted_gross": "229249222",
                                    "quartile": "3"
                                },
                                {
                                    "movie_title": "Thor: The Dark World",
                                    "release_date": "2013-11-08",
                                    "genre": "Adventure",
                                    "mpaa_rating": "PG-13",
                                    "total_gross": "206362140",
                                    "inflation_adjusted_gross": "213962184",
                                    "quartile": "3"
                                },
                                {
                                    "movie_title": "Cars 2",
                                    "release_date": "2011-06-24",
                                    "genre": "Adventure",
                                    "mpaa_rating": "G",
                                    "total_gross": "191450875",
                                    "inflation_adjusted_gross": "203522177",
                                    "quartile": "3"
                                },
                                {
                                    "movie_title": "Cinderella",
                                    "release_date": "2015-03-13",
                                    "genre": "Drama",
                                    "mpaa_rating": "PG",
                                    "total_gross": "201151353",
                                    "inflation_adjusted_gross": "201151353",
                                    "quartile": "4"
                                },
                                {
                                    "movie_title": "Wreck-It Ralph",
                                    "release_date": "2012-11-02",
                                    "genre": "Adventure",
                                    "mpaa_rating": "PG",
                                    "total_gross": "189412677",
                                    "inflation_adjusted_gross": "200354959",
                                    "quartile": "4"
                                },
                                {
                                    "movie_title": "Lincoln",
                                    "release_date": "2012-11-09",
                                    "genre": "Drama",
                                    "mpaa_rating": "PG-13",
                                    "total_gross": "182207973",
                                    "inflation_adjusted_gross": "192122330",
                                    "quartile": "4"
                                },
                                {
                                    "movie_title": "The Help",
                                    "release_date": "2011-08-10",
                                    "genre": "Drama",
                                    "mpaa_rating": "PG-13",
                                    "total_gross": "169705587",
                                    "inflation_adjusted_gross": "180404976",
                                    "quartile": "4"
                                },
                                {
                                    "movie_title": "Ant-Man",
                                    "release_date": "2015-07-17",
                                    "genre": "Action",
                                    "mpaa_rating": "PG-13",
                                    "total_gross": "180202163",
                                    "inflation_adjusted_gross": "180202163",
                                    "quartile": "4"
                                },
                                {
                                    "movie_title": "Into the Woods",
                                    "release_date": "2014-12-25",
                                    "genre": "Musical",
                                    "mpaa_rating": "PG",
                                    "total_gross": "128002372",
                                    "inflation_adjusted_gross": "130894237",
                                    "quartile": "4"
                                },
                                {
                                    "movie_title": "The Good Dinosaur",
                                    "release_date": "2015-11-25",
                                    "genre": "Adventure",
                                    "mpaa_rating": "PG",
                                    "total_gross": "123087120",
                                    "inflation_adjusted_gross": "123087120",
                                    "quartile": "4"
                                },
                                {
                                    "movie_title": "Gnomeo and Juliet",
                                    "release_date": "2011-02-11",
                                    "genre": "Comedy",
                                    "mpaa_rating": "G",
                                    "total_gross": "99967670",
                                    "inflation_adjusted_gross": "106270797",
                                    "quartile": "5"
                                },
                                {
                                    "movie_title": "The Muppets",
                                    "release_date": "2011-11-23",
                                    "genre": "Comedy",
                                    "mpaa_rating": "PG",
                                    "total_gross": "88625922",
                                    "inflation_adjusted_gross": "94189503",
                                    "quartile": "5"
                                },
                                {
                                    "movie_title": "Disney Planes",
                                    "release_date": "2013-08-09",
                                    "genre": "Comedy",
                                    "mpaa_rating": "PG",
                                    "total_gross": "90282580",
                                    "inflation_adjusted_gross": "93614037",
                                    "quartile": "5"
                                },
                                {
                                    "movie_title": "Tomorrowland",
                                    "release_date": "2015-05-22",
                                    "genre": "Adventure",
                                    "mpaa_rating": "PG",
                                    "total_gross": "93436322",
                                    "inflation_adjusted_gross": "93436322",
                                    "quartile": "5"
                                },
                                {
                                    "movie_title": "The Lone Ranger",
                                    "release_date": "2013-07-02",
                                    "genre": "Western",
                                    "mpaa_rating": "PG-13",
                                    "total_gross": "89302115",
                                    "inflation_adjusted_gross": "92597388",
                                    "quartile": "5"
                                },
                                {
                                    "movie_title": "Real Steel",
                                    "release_date": "2011-10-07",
                                    "genre": "Action",
                                    "mpaa_rating": "PG-13",
                                    "total_gross": "85463309",
                                    "inflation_adjusted_gross": "90848019",
                                    "quartile": "5"
                                },
                                {
                                    "movie_title": "Saving Mr. Banks",
                                    "release_date": "2013-12-13",
                                    "genre": "Drama",
                                    "mpaa_rating": "PG-13",
                                    "total_gross": "83299761",
                                    "inflation_adjusted_gross": "86249969",
                                    "quartile": "5"
                                },
                                {
                                    "movie_title": "War Horse",
                                    "release_date": "2011-12-25",
                                    "genre": "Drama",
                                    "mpaa_rating": "PG-13",
                                    "total_gross": "79883359",
                                    "inflation_adjusted_gross": "84762149",
                                    "quartile": "6"
                                },
                                {
                                    "movie_title": "John Carter",
                                    "release_date": "2012-03-09",
                                    "genre": "Adventure",
                                    "mpaa_rating": "PG-13",
                                    "total_gross": "73058679",
                                    "inflation_adjusted_gross": "77372445",
                                    "quartile": "6"
                                },
                                {
                                    "movie_title": "Alice Through the Looking Glass",
                                    "release_date": "2016-05-27",
                                    "genre": "Adventure",
                                    "mpaa_rating": "PG",
                                    "total_gross": "77042381",
                                    "inflation_adjusted_gross": "77042381",
                                    "quartile": "6"
                                },
                                {
                                    "movie_title": "Pete’s Dragon",
                                    "release_date": "2016-08-12",
                                    "genre": "Adventure",
                                    "mpaa_rating": "PG",
                                    "total_gross": "76233151",
                                    "inflation_adjusted_gross": "76233151",
                                    "quartile": "6"
                                },
                                {
                                    "movie_title": "Bridge of Spies",
                                    "release_date": "2015-10-16",
                                    "genre": "Thriller/Suspense",
                                    "mpaa_rating": "PG-13",
                                    "total_gross": "72313754",
                                    "inflation_adjusted_gross": "72313754",
                                    "quartile": "6"
                                },
                                {
                                    "movie_title": "Alexander and the Terrible, Horrible,…",
                                    "release_date": "2014-10-10",
                                    "genre": "Comedy",
                                    "mpaa_rating": "PG",
                                    "total_gross": "66954149",
                                    "inflation_adjusted_gross": "69055550",
                                    "quartile": "6"
                                },
                                {
                                    "movie_title": "Planes: Fire and Rescue",
                                    "release_date": "2014-07-18",
                                    "genre": "Adventure",
                                    "mpaa_rating": "PG",
                                    "total_gross": "59157732",
                                    "inflation_adjusted_gross": "61040349",
                                    "quartile": "6"
                                },
                                {
                                    "movie_title": "I am Number Four",
                                    "release_date": "2011-02-18",
                                    "genre": "Adventure",
                                    "mpaa_rating": "PG-13",
                                    "total_gross": "55100437",
                                    "inflation_adjusted_gross": "58574607",
                                    "quartile": "7"
                                },
                                {
                                    "movie_title": "The Hundred-Foot Journey",
                                    "release_date": "2014-08-08",
                                    "genre": "Romantic Comedy",
                                    "mpaa_rating": "PG",
                                    "total_gross": "54235441",
                                    "inflation_adjusted_gross": "55961409",
                                    "quartile": "7"
                                },
                                {
                                    "movie_title": "The BFG",
                                    "release_date": "2016-07-01",
                                    "genre": "Adventure",
                                    "mpaa_rating": "PG",
                                    "total_gross": "55483770",
                                    "inflation_adjusted_gross": "55483770",
                                    "quartile": "7"
                                },
                                {
                                    "movie_title": "The Odd Life of Timothy Green",
                                    "release_date": "2012-08-15",
                                    "genre": "Drama",
                                    "mpaa_rating": "PG",
                                    "total_gross": "51853450",
                                    "inflation_adjusted_gross": "54914942",
                                    "quartile": "7"
                                },
                                {
                                    "movie_title": "Muppets Most Wanted",
                                    "release_date": "2014-03-21",
                                    "genre": "Comedy",
                                    "mpaa_rating": "PG",
                                    "total_gross": "51178893",
                                    "inflation_adjusted_gross": "52807594",
                                    "quartile": "7"
                                },
                                {
                                    "movie_title": "Need for Speed",
                                    "release_date": "2014-03-14",
                                    "genre": "Action",
                                    "mpaa_rating": "PG-13",
                                    "total_gross": "43568507",
                                    "inflation_adjusted_gross": "44955015",
                                    "quartile": "7"
                                },
                                {
                                    "movie_title": "McFarland, USA",
                                    "release_date": "2015-02-20",
                                    "genre": "Drama",
                                    "mpaa_rating": "PG",
                                    "total_gross": "44480275",
                                    "inflation_adjusted_gross": "44480275",
                                    "quartile": "7"
                                },
                                {
                                    "movie_title": "Million Dollar Arm",
                                    "release_date": "2014-05-10",
                                    "genre": "Drama",
                                    "mpaa_rating": "PG",
                                    "total_gross": "36447959",
                                    "inflation_adjusted_gross": "37607865",
                                    "quartile": "8"
                                },
                                {
                                    "movie_title": "Frankenweenie",
                                    "release_date": "2012-10-05",
                                    "genre": "Comedy",
                                    "mpaa_rating": "PG",
                                    "total_gross": "35287788",
                                    "inflation_adjusted_gross": "37363513",
                                    "quartile": "8"
                                },
                                {
                                    "movie_title": "Delivery Man",
                                    "release_date": "2013-11-22",
                                    "genre": "Comedy",
                                    "mpaa_rating": "PG-13",
                                    "total_gross": "30659817",
                                    "inflation_adjusted_gross": "31787136",
                                    "quartile": "8"
                                },
                                {
                                    "movie_title": "Chimpanzee",
                                    "release_date": "2012-04-20",
                                    "genre": "Documentary",
                                    "mpaa_rating": "G",
                                    "total_gross": "28965459",
                                    "inflation_adjusted_gross": "30675725",
                                    "quartile": "8"
                                },
                                {
                                    "movie_title": "Winnie the Pooh",
                                    "release_date": "2011-07-15",
                                    "genre": "Adventure",
                                    "mpaa_rating": "G",
                                    "total_gross": "26692846",
                                    "inflation_adjusted_gross": "28375869",
                                    "quartile": "8"
                                },
                                {
                                    "movie_title": "The Finest Hours",
                                    "release_date": "2016-01-29",
                                    "genre": "Thriller/Suspense",
                                    "mpaa_rating": "PG",
                                    "total_gross": "27569558",
                                    "inflation_adjusted_gross": "27569558",
                                    "quartile": "8"
                                },
                                {
                                    "movie_title": "Mars Needs Moms",
                                    "release_date": "2011-03-11",
                                    "genre": "Adventure",
                                    "mpaa_rating": "PG",
                                    "total_gross": "21392758",
                                    "inflation_adjusted_gross": "22741603",
                                    "quartile": "8"
                                },
                                {
                                    "movie_title": "The Secret World of Arietty",
                                    "release_date": "2012-02-17",
                                    "genre": "Adventure",
                                    "mpaa_rating": "G",
                                    "total_gross": "19192510",
                                    "inflation_adjusted_gross": "20325733",
                                    "quartile": "9"
                                },
                                {
                                    "movie_title": "Fright Night",
                                    "release_date": "2011-08-19",
                                    "genre": "Horror",
                                    "mpaa_rating": "R",
                                    "total_gross": "18298649",
                                    "inflation_adjusted_gross": "19452402",
                                    "quartile": "9"
                                },
                                {
                                    "movie_title": "Bears",
                                    "release_date": "2014-04-18",
                                    "genre": "Documentary",
                                    "mpaa_rating": "G",
                                    "total_gross": "17780194",
                                    "inflation_adjusted_gross": "18346024",
                                    "quartile": "9"
                                },
                                {
                                    "movie_title": "Monkey Kingdom",
                                    "release_date": "2015-04-17",
                                    "genre": "Documentary",
                                    "mpaa_rating": "G",
                                    "total_gross": "16432322",
                                    "inflation_adjusted_gross": "16432322",
                                    "quartile": "9"
                                },
                                {
                                    "movie_title": "African Cats",
                                    "release_date": "2011-04-22",
                                    "genre": "Documentary",
                                    "mpaa_rating": "G",
                                    "total_gross": "15428747",
                                    "inflation_adjusted_gross": "16401551",
                                    "quartile": "9"
                                },
                                {
                                    "movie_title": "People Like Us",
                                    "release_date": "2012-06-29",
                                    "genre": "Drama",
                                    "mpaa_rating": "PG-13",
                                    "total_gross": "12431792",
                                    "inflation_adjusted_gross": "13165822",
                                    "quartile": "9"
                                },
                                {
                                    "movie_title": "The Light Between Oceans",
                                    "release_date": "2016-09-02",
                                    "genre": "Drama",
                                    "mpaa_rating": "PG-13",
                                    "total_gross": "12545979",
                                    "inflation_adjusted_gross": "12545979",
                                    "quartile": "9"
                                },
                                {
                                    "movie_title": "Strange Magic",
                                    "release_date": "2015-01-23",
                                    "genre": "Adventure",
                                    "mpaa_rating": "PG",
                                    "total_gross": "12429583",
                                    "inflation_adjusted_gross": "12429583",
                                    "quartile": "10"
                                },
                                {
                                    "movie_title": "Prom",
                                    "release_date": "2011-04-29",
                                    "genre": "Comedy",
                                    "mpaa_rating": "PG",
                                    "total_gross": "10130219",
                                    "inflation_adjusted_gross": "10768946",
                                    "quartile": "10"
                                },
                                {
                                    "movie_title": "Queen of Katwe",
                                    "release_date": "2016-09-23",
                                    "genre": "Drama",
                                    "mpaa_rating": "PG",
                                    "total_gross": "8874389",
                                    "inflation_adjusted_gross": "8874389",
                                    "quartile": "10"
                                },
                                {
                                    "movie_title": "A Beautiful Planet",
                                    "release_date": "2016-04-29",
                                    "genre": "Documentary",
                                    "mpaa_rating": "G",
                                    "total_gross": "7895708",
                                    "inflation_adjusted_gross": "7895708",
                                    "quartile": "10"
                                },
                                {
                                    "movie_title": "Kaze Tachinu",
                                    "release_date": "2013-11-08",
                                    "genre": "Drama",
                                    "mpaa_rating": "PG-13",
                                    "total_gross": "5201879",
                                    "inflation_adjusted_gross": "5367415",
                                    "quartile": "10"
                                },
                                {
                                    "movie_title": "The Fifth Estate",
                                    "release_date": "2013-10-18",
                                    "genre": "Drama",
                                    "mpaa_rating": "R",
                                    "total_gross": "3254172",
                                    "inflation_adjusted_gross": "3374251",
                                    "quartile": "10"
                                },
                                {
                                    "movie_title": "Zokkomon",
                                    "release_date": "2011-04-22",
                                    "genre": "Adventure",
                                    "mpaa_rating": "PG",
                                    "total_gross": "2815",
                                    "inflation_adjusted_gross": "2984",
                                    "quartile": "10"
                                }
                            ]
                        },
                        "text/html": [
                            "<table>",
                            "<tr><th>movie_title</th><th>release_date</th><th>genre</th><th>mpaa_rating</th><th>total_gross</th><th>inflation_adjusted_gross</th><th>quartile</th></tr>",
                            "<tr><td>Star Wars Ep. VII: The Force Awakens</td><td>2015-12-18</td><td>Adventure</td><td>PG-13</td><td>936662225</td><td>936662225</td><td>1</td></tr>",
                            "<tr><td>The Avengers</td><td>2012-05-04</td><td>Action</td><td>PG-13</td><td>623279547</td><td>660081224</td><td>1</td></tr>",
                            "<tr><td>Rogue One: A Star Wars Story</td><td>2016-12-16</td><td>Adventure</td><td>PG-13</td><td>529483936</td><td>529483936</td><td>1</td></tr>",
                            "<tr><td>Finding Dory</td><td>2016-06-17</td><td>Adventure</td><td>PG</td><td>486295561</td><td>486295561</td><td>1</td></tr>",
                            "<tr><td>Avengers: Age of Ultron</td><td>2015-05-01</td><td>Action</td><td>PG-13</td><td>459005868</td><td>459005868</td><td>1</td></tr>",
                            "<tr><td>Iron Man 3</td><td>2013-05-03</td><td>Action</td><td>PG-13</td><td>408992272</td><td>424084233</td><td>1</td></tr>",
                            "<tr><td>Frozen</td><td>2013-11-22</td><td>Adventure</td><td>PG</td><td>400738009</td><td>414997174</td><td>1</td></tr>",
                            "<tr><td>Captain America: Civil War</td><td>2016-05-06</td><td>Action</td><td>PG-13</td><td>408084349</td><td>408084349</td><td>1</td></tr>",
                            "<tr><td>The Jungle Book</td><td>2016-04-15</td><td>Adventure</td><td>PG</td><td>364001123</td><td>364001123</td><td>2</td></tr>",
                            "<tr><td>Inside Out</td><td>2015-06-19</td><td>Adventure</td><td>PG</td><td>356461711</td><td>356461711</td><td>2</td></tr>",
                            "<tr><td>Guardians of the Galaxy</td><td>2014-08-01</td><td>Adventure</td><td>PG-13</td><td>333172112</td><td>343771168</td><td>2</td></tr>",
                            "<tr><td>Zootopia</td><td>2016-03-04</td><td>Adventure</td><td>PG</td><td>341268248</td><td>341268248</td><td>2</td></tr>",
                            "<tr><td>Monsters University</td><td>2013-06-21</td><td>Adventure</td><td>G</td><td>268488329</td><td>278395641</td><td>2</td></tr>",
                            "<tr><td>Captain America: The Winter Soldier</td><td>2014-04-04</td><td>Action</td><td>PG-13</td><td>259746958</td><td>268013076</td><td>2</td></tr>",
                            "<tr><td>Pirates of the Caribbean: On Stranger…</td><td>2011-05-20</td><td>Adventure</td><td>PG-13</td><td>241063875</td><td>256263359</td><td>2</td></tr>",
                            "<tr><td>Brave</td><td>2012-06-22</td><td>Adventure</td><td>PG</td><td>237282182</td><td>251292441</td><td>2</td></tr>",
                            "<tr><td>Maleficent</td><td>2014-05-30</td><td>Adventure</td><td>PG</td><td>241407328</td><td>249089809</td><td>3</td></tr>",
                            "<tr><td>Moana</td><td>2016-11-23</td><td>Adventure</td><td>PG</td><td>246082029</td><td>246082029</td><td>3</td></tr>",
                            "<tr><td>Oz the Great and Powerful</td><td>2013-03-08</td><td>Adventure</td><td>PG</td><td>234770996</td><td>243434130</td><td>3</td></tr>",
                            "<tr><td>Doctor Strange</td><td>2016-11-04</td><td>Adventure</td><td>PG-13</td><td>232532923</td><td>232532923</td><td>3</td></tr>",
                            "<tr><td>Big Hero 6</td><td>2014-11-07</td><td>Adventure</td><td>PG</td><td>222527828</td><td>229249222</td><td>3</td></tr>",
                            "<tr><td>Thor: The Dark World</td><td>2013-11-08</td><td>Adventure</td><td>PG-13</td><td>206362140</td><td>213962184</td><td>3</td></tr>",
                            "<tr><td>Cars 2</td><td>2011-06-24</td><td>Adventure</td><td>G</td><td>191450875</td><td>203522177</td><td>3</td></tr>",
                            "<tr><td>Cinderella</td><td>2015-03-13</td><td>Drama</td><td>PG</td><td>201151353</td><td>201151353</td><td>4</td></tr>",
                            "<tr><td>Wreck-It Ralph</td><td>2012-11-02</td><td>Adventure</td><td>PG</td><td>189412677</td><td>200354959</td><td>4</td></tr>",
                            "<tr><td>Lincoln</td><td>2012-11-09</td><td>Drama</td><td>PG-13</td><td>182207973</td><td>192122330</td><td>4</td></tr>",
                            "<tr><td>The Help</td><td>2011-08-10</td><td>Drama</td><td>PG-13</td><td>169705587</td><td>180404976</td><td>4</td></tr>",
                            "<tr><td>Ant-Man</td><td>2015-07-17</td><td>Action</td><td>PG-13</td><td>180202163</td><td>180202163</td><td>4</td></tr>",
                            "<tr><td>Into the Woods</td><td>2014-12-25</td><td>Musical</td><td>PG</td><td>128002372</td><td>130894237</td><td>4</td></tr>",
                            "<tr><td>The Good Dinosaur</td><td>2015-11-25</td><td>Adventure</td><td>PG</td><td>123087120</td><td>123087120</td><td>4</td></tr>",
                            "<tr><td>Gnomeo and Juliet</td><td>2011-02-11</td><td>Comedy</td><td>G</td><td>99967670</td><td>106270797</td><td>5</td></tr>",
                            "<tr><td>The Muppets</td><td>2011-11-23</td><td>Comedy</td><td>PG</td><td>88625922</td><td>94189503</td><td>5</td></tr>",
                            "<tr><td>Disney Planes</td><td>2013-08-09</td><td>Comedy</td><td>PG</td><td>90282580</td><td>93614037</td><td>5</td></tr>",
                            "<tr><td>Tomorrowland</td><td>2015-05-22</td><td>Adventure</td><td>PG</td><td>93436322</td><td>93436322</td><td>5</td></tr>",
                            "<tr><td>The Lone Ranger</td><td>2013-07-02</td><td>Western</td><td>PG-13</td><td>89302115</td><td>92597388</td><td>5</td></tr>",
                            "<tr><td>Real Steel</td><td>2011-10-07</td><td>Action</td><td>PG-13</td><td>85463309</td><td>90848019</td><td>5</td></tr>",
                            "<tr><td>Saving Mr. Banks</td><td>2013-12-13</td><td>Drama</td><td>PG-13</td><td>83299761</td><td>86249969</td><td>5</td></tr>",
                            "<tr><td>War Horse</td><td>2011-12-25</td><td>Drama</td><td>PG-13</td><td>79883359</td><td>84762149</td><td>6</td></tr>",
                            "<tr><td>John Carter</td><td>2012-03-09</td><td>Adventure</td><td>PG-13</td><td>73058679</td><td>77372445</td><td>6</td></tr>",
                            "<tr><td>Alice Through the Looking Glass</td><td>2016-05-27</td><td>Adventure</td><td>PG</td><td>77042381</td><td>77042381</td><td>6</td></tr>",
                            "<tr><td>Pete’s Dragon</td><td>2016-08-12</td><td>Adventure</td><td>PG</td><td>76233151</td><td>76233151</td><td>6</td></tr>",
                            "<tr><td>Bridge of Spies</td><td>2015-10-16</td><td>Thriller/Suspense</td><td>PG-13</td><td>72313754</td><td>72313754</td><td>6</td></tr>",
                            "<tr><td>Alexander and the Terrible, Horrible,…</td><td>2014-10-10</td><td>Comedy</td><td>PG</td><td>66954149</td><td>69055550</td><td>6</td></tr>",
                            "<tr><td>Planes: Fire and Rescue</td><td>2014-07-18</td><td>Adventure</td><td>PG</td><td>59157732</td><td>61040349</td><td>6</td></tr>",
                            "<tr><td>I am Number Four</td><td>2011-02-18</td><td>Adventure</td><td>PG-13</td><td>55100437</td><td>58574607</td><td>7</td></tr>",
                            "<tr><td>The Hundred-Foot Journey</td><td>2014-08-08</td><td>Romantic Comedy</td><td>PG</td><td>54235441</td><td>55961409</td><td>7</td></tr>",
                            "<tr><td>The BFG</td><td>2016-07-01</td><td>Adventure</td><td>PG</td><td>55483770</td><td>55483770</td><td>7</td></tr>",
                            "<tr><td>The Odd Life of Timothy Green</td><td>2012-08-15</td><td>Drama</td><td>PG</td><td>51853450</td><td>54914942</td><td>7</td></tr>",
                            "<tr><td>Muppets Most Wanted</td><td>2014-03-21</td><td>Comedy</td><td>PG</td><td>51178893</td><td>52807594</td><td>7</td></tr>",
                            "<tr><td>Need for Speed</td><td>2014-03-14</td><td>Action</td><td>PG-13</td><td>43568507</td><td>44955015</td><td>7</td></tr>",
                            "<tr><td>McFarland, USA</td><td>2015-02-20</td><td>Drama</td><td>PG</td><td>44480275</td><td>44480275</td><td>7</td></tr>",
                            "<tr><td>Million Dollar Arm</td><td>2014-05-10</td><td>Drama</td><td>PG</td><td>36447959</td><td>37607865</td><td>8</td></tr>",
                            "<tr><td>Frankenweenie</td><td>2012-10-05</td><td>Comedy</td><td>PG</td><td>35287788</td><td>37363513</td><td>8</td></tr>",
                            "<tr><td>Delivery Man</td><td>2013-11-22</td><td>Comedy</td><td>PG-13</td><td>30659817</td><td>31787136</td><td>8</td></tr>",
                            "<tr><td>Chimpanzee</td><td>2012-04-20</td><td>Documentary</td><td>G</td><td>28965459</td><td>30675725</td><td>8</td></tr>",
                            "<tr><td>Winnie the Pooh</td><td>2011-07-15</td><td>Adventure</td><td>G</td><td>26692846</td><td>28375869</td><td>8</td></tr>",
                            "<tr><td>The Finest Hours</td><td>2016-01-29</td><td>Thriller/Suspense</td><td>PG</td><td>27569558</td><td>27569558</td><td>8</td></tr>",
                            "<tr><td>Mars Needs Moms</td><td>2011-03-11</td><td>Adventure</td><td>PG</td><td>21392758</td><td>22741603</td><td>8</td></tr>",
                            "<tr><td>The Secret World of Arietty</td><td>2012-02-17</td><td>Adventure</td><td>G</td><td>19192510</td><td>20325733</td><td>9</td></tr>",
                            "<tr><td>Fright Night</td><td>2011-08-19</td><td>Horror</td><td>R</td><td>18298649</td><td>19452402</td><td>9</td></tr>",
                            "<tr><td>Bears</td><td>2014-04-18</td><td>Documentary</td><td>G</td><td>17780194</td><td>18346024</td><td>9</td></tr>",
                            "<tr><td>Monkey Kingdom</td><td>2015-04-17</td><td>Documentary</td><td>G</td><td>16432322</td><td>16432322</td><td>9</td></tr>",
                            "<tr><td>African Cats</td><td>2011-04-22</td><td>Documentary</td><td>G</td><td>15428747</td><td>16401551</td><td>9</td></tr>",
                            "<tr><td>People Like Us</td><td>2012-06-29</td><td>Drama</td><td>PG-13</td><td>12431792</td><td>13165822</td><td>9</td></tr>",
                            "<tr><td>The Light Between Oceans</td><td>2016-09-02</td><td>Drama</td><td>PG-13</td><td>12545979</td><td>12545979</td><td>9</td></tr>",
                            "<tr><td>Strange Magic</td><td>2015-01-23</td><td>Adventure</td><td>PG</td><td>12429583</td><td>12429583</td><td>10</td></tr>",
                            "<tr><td>Prom</td><td>2011-04-29</td><td>Comedy</td><td>PG</td><td>10130219</td><td>10768946</td><td>10</td></tr>",
                            "<tr><td>Queen of Katwe</td><td>2016-09-23</td><td>Drama</td><td>PG</td><td>8874389</td><td>8874389</td><td>10</td></tr>",
                            "<tr><td>A Beautiful Planet</td><td>2016-04-29</td><td>Documentary</td><td>G</td><td>7895708</td><td>7895708</td><td>10</td></tr>",
                            "<tr><td>Kaze Tachinu</td><td>2013-11-08</td><td>Drama</td><td>PG-13</td><td>5201879</td><td>5367415</td><td>10</td></tr>",
                            "<tr><td>The Fifth Estate</td><td>2013-10-18</td><td>Drama</td><td>R</td><td>3254172</td><td>3374251</td><td>10</td></tr>",
                            "<tr><td>Zokkomon</td><td>2011-04-22</td><td>Adventure</td><td>PG</td><td>2815</td><td>2984</td><td>10</td></tr>",
                            "</table>"
                        ]
                    }
                }
            ],
            "execution_count": 8
        },
        {
            "cell_type": "code",
            "source": [
                "   SELECT *,\r\n",
                "    ntile(10) over (partition by movie_title order by inflation_adjusted_gross desc) as quartile\r\n",
                "    from movie_gross\r\n",
                "    where year(release_date) > 2010"
            ],
            "metadata": {
                "language": "sql",
                "azdata_cell_guid": "882239a9-f6e9-44a6-b191-bd3370071d39",
                "tags": []
            },
            "outputs": [
                {
                    "output_type": "display_data",
                    "data": {
                        "text/html": "(72 rows affected)"
                    },
                    "metadata": {}
                },
                {
                    "output_type": "display_data",
                    "data": {
                        "text/html": "Total execution time: 00:00:00.010"
                    },
                    "metadata": {}
                },
                {
                    "output_type": "execute_result",
                    "metadata": {},
                    "execution_count": 10,
                    "data": {
                        "application/vnd.dataresource+json": {
                            "schema": {
                                "fields": [
                                    {
                                        "name": "movie_title"
                                    },
                                    {
                                        "name": "release_date"
                                    },
                                    {
                                        "name": "genre"
                                    },
                                    {
                                        "name": "mpaa_rating"
                                    },
                                    {
                                        "name": "total_gross"
                                    },
                                    {
                                        "name": "inflation_adjusted_gross"
                                    },
                                    {
                                        "name": "quartile"
                                    }
                                ]
                            },
                            "data": [
                                {
                                    "movie_title": "A Beautiful Planet",
                                    "release_date": "2016-04-29",
                                    "genre": "Documentary",
                                    "mpaa_rating": "G",
                                    "total_gross": "7895708",
                                    "inflation_adjusted_gross": "7895708",
                                    "quartile": "1"
                                },
                                {
                                    "movie_title": "African Cats",
                                    "release_date": "2011-04-22",
                                    "genre": "Documentary",
                                    "mpaa_rating": "G",
                                    "total_gross": "15428747",
                                    "inflation_adjusted_gross": "16401551",
                                    "quartile": "1"
                                },
                                {
                                    "movie_title": "Alexander and the Terrible, Horrible,…",
                                    "release_date": "2014-10-10",
                                    "genre": "Comedy",
                                    "mpaa_rating": "PG",
                                    "total_gross": "66954149",
                                    "inflation_adjusted_gross": "69055550",
                                    "quartile": "1"
                                },
                                {
                                    "movie_title": "Alice Through the Looking Glass",
                                    "release_date": "2016-05-27",
                                    "genre": "Adventure",
                                    "mpaa_rating": "PG",
                                    "total_gross": "77042381",
                                    "inflation_adjusted_gross": "77042381",
                                    "quartile": "1"
                                },
                                {
                                    "movie_title": "Ant-Man",
                                    "release_date": "2015-07-17",
                                    "genre": "Action",
                                    "mpaa_rating": "PG-13",
                                    "total_gross": "180202163",
                                    "inflation_adjusted_gross": "180202163",
                                    "quartile": "1"
                                },
                                {
                                    "movie_title": "Avengers: Age of Ultron",
                                    "release_date": "2015-05-01",
                                    "genre": "Action",
                                    "mpaa_rating": "PG-13",
                                    "total_gross": "459005868",
                                    "inflation_adjusted_gross": "459005868",
                                    "quartile": "1"
                                },
                                {
                                    "movie_title": "Bears",
                                    "release_date": "2014-04-18",
                                    "genre": "Documentary",
                                    "mpaa_rating": "G",
                                    "total_gross": "17780194",
                                    "inflation_adjusted_gross": "18346024",
                                    "quartile": "1"
                                },
                                {
                                    "movie_title": "Big Hero 6",
                                    "release_date": "2014-11-07",
                                    "genre": "Adventure",
                                    "mpaa_rating": "PG",
                                    "total_gross": "222527828",
                                    "inflation_adjusted_gross": "229249222",
                                    "quartile": "1"
                                },
                                {
                                    "movie_title": "Brave",
                                    "release_date": "2012-06-22",
                                    "genre": "Adventure",
                                    "mpaa_rating": "PG",
                                    "total_gross": "237282182",
                                    "inflation_adjusted_gross": "251292441",
                                    "quartile": "1"
                                },
                                {
                                    "movie_title": "Bridge of Spies",
                                    "release_date": "2015-10-16",
                                    "genre": "Thriller/Suspense",
                                    "mpaa_rating": "PG-13",
                                    "total_gross": "72313754",
                                    "inflation_adjusted_gross": "72313754",
                                    "quartile": "1"
                                },
                                {
                                    "movie_title": "Captain America: Civil War",
                                    "release_date": "2016-05-06",
                                    "genre": "Action",
                                    "mpaa_rating": "PG-13",
                                    "total_gross": "408084349",
                                    "inflation_adjusted_gross": "408084349",
                                    "quartile": "1"
                                },
                                {
                                    "movie_title": "Captain America: The Winter Soldier",
                                    "release_date": "2014-04-04",
                                    "genre": "Action",
                                    "mpaa_rating": "PG-13",
                                    "total_gross": "259746958",
                                    "inflation_adjusted_gross": "268013076",
                                    "quartile": "1"
                                },
                                {
                                    "movie_title": "Cars 2",
                                    "release_date": "2011-06-24",
                                    "genre": "Adventure",
                                    "mpaa_rating": "G",
                                    "total_gross": "191450875",
                                    "inflation_adjusted_gross": "203522177",
                                    "quartile": "1"
                                },
                                {
                                    "movie_title": "Chimpanzee",
                                    "release_date": "2012-04-20",
                                    "genre": "Documentary",
                                    "mpaa_rating": "G",
                                    "total_gross": "28965459",
                                    "inflation_adjusted_gross": "30675725",
                                    "quartile": "1"
                                },
                                {
                                    "movie_title": "Cinderella",
                                    "release_date": "2015-03-13",
                                    "genre": "Drama",
                                    "mpaa_rating": "PG",
                                    "total_gross": "201151353",
                                    "inflation_adjusted_gross": "201151353",
                                    "quartile": "1"
                                },
                                {
                                    "movie_title": "Delivery Man",
                                    "release_date": "2013-11-22",
                                    "genre": "Comedy",
                                    "mpaa_rating": "PG-13",
                                    "total_gross": "30659817",
                                    "inflation_adjusted_gross": "31787136",
                                    "quartile": "1"
                                },
                                {
                                    "movie_title": "Disney Planes",
                                    "release_date": "2013-08-09",
                                    "genre": "Comedy",
                                    "mpaa_rating": "PG",
                                    "total_gross": "90282580",
                                    "inflation_adjusted_gross": "93614037",
                                    "quartile": "1"
                                },
                                {
                                    "movie_title": "Doctor Strange",
                                    "release_date": "2016-11-04",
                                    "genre": "Adventure",
                                    "mpaa_rating": "PG-13",
                                    "total_gross": "232532923",
                                    "inflation_adjusted_gross": "232532923",
                                    "quartile": "1"
                                },
                                {
                                    "movie_title": "Finding Dory",
                                    "release_date": "2016-06-17",
                                    "genre": "Adventure",
                                    "mpaa_rating": "PG",
                                    "total_gross": "486295561",
                                    "inflation_adjusted_gross": "486295561",
                                    "quartile": "1"
                                },
                                {
                                    "movie_title": "Frankenweenie",
                                    "release_date": "2012-10-05",
                                    "genre": "Comedy",
                                    "mpaa_rating": "PG",
                                    "total_gross": "35287788",
                                    "inflation_adjusted_gross": "37363513",
                                    "quartile": "1"
                                },
                                {
                                    "movie_title": "Fright Night",
                                    "release_date": "2011-08-19",
                                    "genre": "Horror",
                                    "mpaa_rating": "R",
                                    "total_gross": "18298649",
                                    "inflation_adjusted_gross": "19452402",
                                    "quartile": "1"
                                },
                                {
                                    "movie_title": "Frozen",
                                    "release_date": "2013-11-22",
                                    "genre": "Adventure",
                                    "mpaa_rating": "PG",
                                    "total_gross": "400738009",
                                    "inflation_adjusted_gross": "414997174",
                                    "quartile": "1"
                                },
                                {
                                    "movie_title": "Gnomeo and Juliet",
                                    "release_date": "2011-02-11",
                                    "genre": "Comedy",
                                    "mpaa_rating": "G",
                                    "total_gross": "99967670",
                                    "inflation_adjusted_gross": "106270797",
                                    "quartile": "1"
                                },
                                {
                                    "movie_title": "Guardians of the Galaxy",
                                    "release_date": "2014-08-01",
                                    "genre": "Adventure",
                                    "mpaa_rating": "PG-13",
                                    "total_gross": "333172112",
                                    "inflation_adjusted_gross": "343771168",
                                    "quartile": "1"
                                },
                                {
                                    "movie_title": "I am Number Four",
                                    "release_date": "2011-02-18",
                                    "genre": "Adventure",
                                    "mpaa_rating": "PG-13",
                                    "total_gross": "55100437",
                                    "inflation_adjusted_gross": "58574607",
                                    "quartile": "1"
                                },
                                {
                                    "movie_title": "Inside Out",
                                    "release_date": "2015-06-19",
                                    "genre": "Adventure",
                                    "mpaa_rating": "PG",
                                    "total_gross": "356461711",
                                    "inflation_adjusted_gross": "356461711",
                                    "quartile": "1"
                                },
                                {
                                    "movie_title": "Into the Woods",
                                    "release_date": "2014-12-25",
                                    "genre": "Musical",
                                    "mpaa_rating": "PG",
                                    "total_gross": "128002372",
                                    "inflation_adjusted_gross": "130894237",
                                    "quartile": "1"
                                },
                                {
                                    "movie_title": "Iron Man 3",
                                    "release_date": "2013-05-03",
                                    "genre": "Action",
                                    "mpaa_rating": "PG-13",
                                    "total_gross": "408992272",
                                    "inflation_adjusted_gross": "424084233",
                                    "quartile": "1"
                                },
                                {
                                    "movie_title": "John Carter",
                                    "release_date": "2012-03-09",
                                    "genre": "Adventure",
                                    "mpaa_rating": "PG-13",
                                    "total_gross": "73058679",
                                    "inflation_adjusted_gross": "77372445",
                                    "quartile": "1"
                                },
                                {
                                    "movie_title": "Kaze Tachinu",
                                    "release_date": "2013-11-08",
                                    "genre": "Drama",
                                    "mpaa_rating": "PG-13",
                                    "total_gross": "5201879",
                                    "inflation_adjusted_gross": "5367415",
                                    "quartile": "1"
                                },
                                {
                                    "movie_title": "Lincoln",
                                    "release_date": "2012-11-09",
                                    "genre": "Drama",
                                    "mpaa_rating": "PG-13",
                                    "total_gross": "182207973",
                                    "inflation_adjusted_gross": "192122330",
                                    "quartile": "1"
                                },
                                {
                                    "movie_title": "Maleficent",
                                    "release_date": "2014-05-30",
                                    "genre": "Adventure",
                                    "mpaa_rating": "PG",
                                    "total_gross": "241407328",
                                    "inflation_adjusted_gross": "249089809",
                                    "quartile": "1"
                                },
                                {
                                    "movie_title": "Mars Needs Moms",
                                    "release_date": "2011-03-11",
                                    "genre": "Adventure",
                                    "mpaa_rating": "PG",
                                    "total_gross": "21392758",
                                    "inflation_adjusted_gross": "22741603",
                                    "quartile": "1"
                                },
                                {
                                    "movie_title": "McFarland, USA",
                                    "release_date": "2015-02-20",
                                    "genre": "Drama",
                                    "mpaa_rating": "PG",
                                    "total_gross": "44480275",
                                    "inflation_adjusted_gross": "44480275",
                                    "quartile": "1"
                                },
                                {
                                    "movie_title": "Million Dollar Arm",
                                    "release_date": "2014-05-10",
                                    "genre": "Drama",
                                    "mpaa_rating": "PG",
                                    "total_gross": "36447959",
                                    "inflation_adjusted_gross": "37607865",
                                    "quartile": "1"
                                },
                                {
                                    "movie_title": "Moana",
                                    "release_date": "2016-11-23",
                                    "genre": "Adventure",
                                    "mpaa_rating": "PG",
                                    "total_gross": "246082029",
                                    "inflation_adjusted_gross": "246082029",
                                    "quartile": "1"
                                },
                                {
                                    "movie_title": "Monkey Kingdom",
                                    "release_date": "2015-04-17",
                                    "genre": "Documentary",
                                    "mpaa_rating": "G",
                                    "total_gross": "16432322",
                                    "inflation_adjusted_gross": "16432322",
                                    "quartile": "1"
                                },
                                {
                                    "movie_title": "Monsters University",
                                    "release_date": "2013-06-21",
                                    "genre": "Adventure",
                                    "mpaa_rating": "G",
                                    "total_gross": "268488329",
                                    "inflation_adjusted_gross": "278395641",
                                    "quartile": "1"
                                },
                                {
                                    "movie_title": "Muppets Most Wanted",
                                    "release_date": "2014-03-21",
                                    "genre": "Comedy",
                                    "mpaa_rating": "PG",
                                    "total_gross": "51178893",
                                    "inflation_adjusted_gross": "52807594",
                                    "quartile": "1"
                                },
                                {
                                    "movie_title": "Need for Speed",
                                    "release_date": "2014-03-14",
                                    "genre": "Action",
                                    "mpaa_rating": "PG-13",
                                    "total_gross": "43568507",
                                    "inflation_adjusted_gross": "44955015",
                                    "quartile": "1"
                                },
                                {
                                    "movie_title": "Oz the Great and Powerful",
                                    "release_date": "2013-03-08",
                                    "genre": "Adventure",
                                    "mpaa_rating": "PG",
                                    "total_gross": "234770996",
                                    "inflation_adjusted_gross": "243434130",
                                    "quartile": "1"
                                },
                                {
                                    "movie_title": "People Like Us",
                                    "release_date": "2012-06-29",
                                    "genre": "Drama",
                                    "mpaa_rating": "PG-13",
                                    "total_gross": "12431792",
                                    "inflation_adjusted_gross": "13165822",
                                    "quartile": "1"
                                },
                                {
                                    "movie_title": "Pete’s Dragon",
                                    "release_date": "2016-08-12",
                                    "genre": "Adventure",
                                    "mpaa_rating": "PG",
                                    "total_gross": "76233151",
                                    "inflation_adjusted_gross": "76233151",
                                    "quartile": "1"
                                },
                                {
                                    "movie_title": "Pirates of the Caribbean: On Stranger…",
                                    "release_date": "2011-05-20",
                                    "genre": "Adventure",
                                    "mpaa_rating": "PG-13",
                                    "total_gross": "241063875",
                                    "inflation_adjusted_gross": "256263359",
                                    "quartile": "1"
                                },
                                {
                                    "movie_title": "Planes: Fire and Rescue",
                                    "release_date": "2014-07-18",
                                    "genre": "Adventure",
                                    "mpaa_rating": "PG",
                                    "total_gross": "59157732",
                                    "inflation_adjusted_gross": "61040349",
                                    "quartile": "1"
                                },
                                {
                                    "movie_title": "Prom",
                                    "release_date": "2011-04-29",
                                    "genre": "Comedy",
                                    "mpaa_rating": "PG",
                                    "total_gross": "10130219",
                                    "inflation_adjusted_gross": "10768946",
                                    "quartile": "1"
                                },
                                {
                                    "movie_title": "Queen of Katwe",
                                    "release_date": "2016-09-23",
                                    "genre": "Drama",
                                    "mpaa_rating": "PG",
                                    "total_gross": "8874389",
                                    "inflation_adjusted_gross": "8874389",
                                    "quartile": "1"
                                },
                                {
                                    "movie_title": "Real Steel",
                                    "release_date": "2011-10-07",
                                    "genre": "Action",
                                    "mpaa_rating": "PG-13",
                                    "total_gross": "85463309",
                                    "inflation_adjusted_gross": "90848019",
                                    "quartile": "1"
                                },
                                {
                                    "movie_title": "Rogue One: A Star Wars Story",
                                    "release_date": "2016-12-16",
                                    "genre": "Adventure",
                                    "mpaa_rating": "PG-13",
                                    "total_gross": "529483936",
                                    "inflation_adjusted_gross": "529483936",
                                    "quartile": "1"
                                },
                                {
                                    "movie_title": "Saving Mr. Banks",
                                    "release_date": "2013-12-13",
                                    "genre": "Drama",
                                    "mpaa_rating": "PG-13",
                                    "total_gross": "83299761",
                                    "inflation_adjusted_gross": "86249969",
                                    "quartile": "1"
                                },
                                {
                                    "movie_title": "Star Wars Ep. VII: The Force Awakens",
                                    "release_date": "2015-12-18",
                                    "genre": "Adventure",
                                    "mpaa_rating": "PG-13",
                                    "total_gross": "936662225",
                                    "inflation_adjusted_gross": "936662225",
                                    "quartile": "1"
                                },
                                {
                                    "movie_title": "Strange Magic",
                                    "release_date": "2015-01-23",
                                    "genre": "Adventure",
                                    "mpaa_rating": "PG",
                                    "total_gross": "12429583",
                                    "inflation_adjusted_gross": "12429583",
                                    "quartile": "1"
                                },
                                {
                                    "movie_title": "The Avengers",
                                    "release_date": "2012-05-04",
                                    "genre": "Action",
                                    "mpaa_rating": "PG-13",
                                    "total_gross": "623279547",
                                    "inflation_adjusted_gross": "660081224",
                                    "quartile": "1"
                                },
                                {
                                    "movie_title": "The BFG",
                                    "release_date": "2016-07-01",
                                    "genre": "Adventure",
                                    "mpaa_rating": "PG",
                                    "total_gross": "55483770",
                                    "inflation_adjusted_gross": "55483770",
                                    "quartile": "1"
                                },
                                {
                                    "movie_title": "The Fifth Estate",
                                    "release_date": "2013-10-18",
                                    "genre": "Drama",
                                    "mpaa_rating": "R",
                                    "total_gross": "3254172",
                                    "inflation_adjusted_gross": "3374251",
                                    "quartile": "1"
                                },
                                {
                                    "movie_title": "The Finest Hours",
                                    "release_date": "2016-01-29",
                                    "genre": "Thriller/Suspense",
                                    "mpaa_rating": "PG",
                                    "total_gross": "27569558",
                                    "inflation_adjusted_gross": "27569558",
                                    "quartile": "1"
                                },
                                {
                                    "movie_title": "The Good Dinosaur",
                                    "release_date": "2015-11-25",
                                    "genre": "Adventure",
                                    "mpaa_rating": "PG",
                                    "total_gross": "123087120",
                                    "inflation_adjusted_gross": "123087120",
                                    "quartile": "1"
                                },
                                {
                                    "movie_title": "The Help",
                                    "release_date": "2011-08-10",
                                    "genre": "Drama",
                                    "mpaa_rating": "PG-13",
                                    "total_gross": "169705587",
                                    "inflation_adjusted_gross": "180404976",
                                    "quartile": "1"
                                },
                                {
                                    "movie_title": "The Hundred-Foot Journey",
                                    "release_date": "2014-08-08",
                                    "genre": "Romantic Comedy",
                                    "mpaa_rating": "PG",
                                    "total_gross": "54235441",
                                    "inflation_adjusted_gross": "55961409",
                                    "quartile": "1"
                                },
                                {
                                    "movie_title": "The Jungle Book",
                                    "release_date": "2016-04-15",
                                    "genre": "Adventure",
                                    "mpaa_rating": "PG",
                                    "total_gross": "364001123",
                                    "inflation_adjusted_gross": "364001123",
                                    "quartile": "1"
                                },
                                {
                                    "movie_title": "The Light Between Oceans",
                                    "release_date": "2016-09-02",
                                    "genre": "Drama",
                                    "mpaa_rating": "PG-13",
                                    "total_gross": "12545979",
                                    "inflation_adjusted_gross": "12545979",
                                    "quartile": "1"
                                },
                                {
                                    "movie_title": "The Lone Ranger",
                                    "release_date": "2013-07-02",
                                    "genre": "Western",
                                    "mpaa_rating": "PG-13",
                                    "total_gross": "89302115",
                                    "inflation_adjusted_gross": "92597388",
                                    "quartile": "1"
                                },
                                {
                                    "movie_title": "The Muppets",
                                    "release_date": "2011-11-23",
                                    "genre": "Comedy",
                                    "mpaa_rating": "PG",
                                    "total_gross": "88625922",
                                    "inflation_adjusted_gross": "94189503",
                                    "quartile": "1"
                                },
                                {
                                    "movie_title": "The Odd Life of Timothy Green",
                                    "release_date": "2012-08-15",
                                    "genre": "Drama",
                                    "mpaa_rating": "PG",
                                    "total_gross": "51853450",
                                    "inflation_adjusted_gross": "54914942",
                                    "quartile": "1"
                                },
                                {
                                    "movie_title": "The Secret World of Arietty",
                                    "release_date": "2012-02-17",
                                    "genre": "Adventure",
                                    "mpaa_rating": "G",
                                    "total_gross": "19192510",
                                    "inflation_adjusted_gross": "20325733",
                                    "quartile": "1"
                                },
                                {
                                    "movie_title": "Thor: The Dark World",
                                    "release_date": "2013-11-08",
                                    "genre": "Adventure",
                                    "mpaa_rating": "PG-13",
                                    "total_gross": "206362140",
                                    "inflation_adjusted_gross": "213962184",
                                    "quartile": "1"
                                },
                                {
                                    "movie_title": "Tomorrowland",
                                    "release_date": "2015-05-22",
                                    "genre": "Adventure",
                                    "mpaa_rating": "PG",
                                    "total_gross": "93436322",
                                    "inflation_adjusted_gross": "93436322",
                                    "quartile": "1"
                                },
                                {
                                    "movie_title": "War Horse",
                                    "release_date": "2011-12-25",
                                    "genre": "Drama",
                                    "mpaa_rating": "PG-13",
                                    "total_gross": "79883359",
                                    "inflation_adjusted_gross": "84762149",
                                    "quartile": "1"
                                },
                                {
                                    "movie_title": "Winnie the Pooh",
                                    "release_date": "2011-07-15",
                                    "genre": "Adventure",
                                    "mpaa_rating": "G",
                                    "total_gross": "26692846",
                                    "inflation_adjusted_gross": "28375869",
                                    "quartile": "1"
                                },
                                {
                                    "movie_title": "Wreck-It Ralph",
                                    "release_date": "2012-11-02",
                                    "genre": "Adventure",
                                    "mpaa_rating": "PG",
                                    "total_gross": "189412677",
                                    "inflation_adjusted_gross": "200354959",
                                    "quartile": "1"
                                },
                                {
                                    "movie_title": "Zokkomon",
                                    "release_date": "2011-04-22",
                                    "genre": "Adventure",
                                    "mpaa_rating": "PG",
                                    "total_gross": "2815",
                                    "inflation_adjusted_gross": "2984",
                                    "quartile": "1"
                                },
                                {
                                    "movie_title": "Zootopia",
                                    "release_date": "2016-03-04",
                                    "genre": "Adventure",
                                    "mpaa_rating": "PG",
                                    "total_gross": "341268248",
                                    "inflation_adjusted_gross": "341268248",
                                    "quartile": "1"
                                }
                            ]
                        },
                        "text/html": [
                            "<table>",
                            "<tr><th>movie_title</th><th>release_date</th><th>genre</th><th>mpaa_rating</th><th>total_gross</th><th>inflation_adjusted_gross</th><th>quartile</th></tr>",
                            "<tr><td>A Beautiful Planet</td><td>2016-04-29</td><td>Documentary</td><td>G</td><td>7895708</td><td>7895708</td><td>1</td></tr>",
                            "<tr><td>African Cats</td><td>2011-04-22</td><td>Documentary</td><td>G</td><td>15428747</td><td>16401551</td><td>1</td></tr>",
                            "<tr><td>Alexander and the Terrible, Horrible,…</td><td>2014-10-10</td><td>Comedy</td><td>PG</td><td>66954149</td><td>69055550</td><td>1</td></tr>",
                            "<tr><td>Alice Through the Looking Glass</td><td>2016-05-27</td><td>Adventure</td><td>PG</td><td>77042381</td><td>77042381</td><td>1</td></tr>",
                            "<tr><td>Ant-Man</td><td>2015-07-17</td><td>Action</td><td>PG-13</td><td>180202163</td><td>180202163</td><td>1</td></tr>",
                            "<tr><td>Avengers: Age of Ultron</td><td>2015-05-01</td><td>Action</td><td>PG-13</td><td>459005868</td><td>459005868</td><td>1</td></tr>",
                            "<tr><td>Bears</td><td>2014-04-18</td><td>Documentary</td><td>G</td><td>17780194</td><td>18346024</td><td>1</td></tr>",
                            "<tr><td>Big Hero 6</td><td>2014-11-07</td><td>Adventure</td><td>PG</td><td>222527828</td><td>229249222</td><td>1</td></tr>",
                            "<tr><td>Brave</td><td>2012-06-22</td><td>Adventure</td><td>PG</td><td>237282182</td><td>251292441</td><td>1</td></tr>",
                            "<tr><td>Bridge of Spies</td><td>2015-10-16</td><td>Thriller/Suspense</td><td>PG-13</td><td>72313754</td><td>72313754</td><td>1</td></tr>",
                            "<tr><td>Captain America: Civil War</td><td>2016-05-06</td><td>Action</td><td>PG-13</td><td>408084349</td><td>408084349</td><td>1</td></tr>",
                            "<tr><td>Captain America: The Winter Soldier</td><td>2014-04-04</td><td>Action</td><td>PG-13</td><td>259746958</td><td>268013076</td><td>1</td></tr>",
                            "<tr><td>Cars 2</td><td>2011-06-24</td><td>Adventure</td><td>G</td><td>191450875</td><td>203522177</td><td>1</td></tr>",
                            "<tr><td>Chimpanzee</td><td>2012-04-20</td><td>Documentary</td><td>G</td><td>28965459</td><td>30675725</td><td>1</td></tr>",
                            "<tr><td>Cinderella</td><td>2015-03-13</td><td>Drama</td><td>PG</td><td>201151353</td><td>201151353</td><td>1</td></tr>",
                            "<tr><td>Delivery Man</td><td>2013-11-22</td><td>Comedy</td><td>PG-13</td><td>30659817</td><td>31787136</td><td>1</td></tr>",
                            "<tr><td>Disney Planes</td><td>2013-08-09</td><td>Comedy</td><td>PG</td><td>90282580</td><td>93614037</td><td>1</td></tr>",
                            "<tr><td>Doctor Strange</td><td>2016-11-04</td><td>Adventure</td><td>PG-13</td><td>232532923</td><td>232532923</td><td>1</td></tr>",
                            "<tr><td>Finding Dory</td><td>2016-06-17</td><td>Adventure</td><td>PG</td><td>486295561</td><td>486295561</td><td>1</td></tr>",
                            "<tr><td>Frankenweenie</td><td>2012-10-05</td><td>Comedy</td><td>PG</td><td>35287788</td><td>37363513</td><td>1</td></tr>",
                            "<tr><td>Fright Night</td><td>2011-08-19</td><td>Horror</td><td>R</td><td>18298649</td><td>19452402</td><td>1</td></tr>",
                            "<tr><td>Frozen</td><td>2013-11-22</td><td>Adventure</td><td>PG</td><td>400738009</td><td>414997174</td><td>1</td></tr>",
                            "<tr><td>Gnomeo and Juliet</td><td>2011-02-11</td><td>Comedy</td><td>G</td><td>99967670</td><td>106270797</td><td>1</td></tr>",
                            "<tr><td>Guardians of the Galaxy</td><td>2014-08-01</td><td>Adventure</td><td>PG-13</td><td>333172112</td><td>343771168</td><td>1</td></tr>",
                            "<tr><td>I am Number Four</td><td>2011-02-18</td><td>Adventure</td><td>PG-13</td><td>55100437</td><td>58574607</td><td>1</td></tr>",
                            "<tr><td>Inside Out</td><td>2015-06-19</td><td>Adventure</td><td>PG</td><td>356461711</td><td>356461711</td><td>1</td></tr>",
                            "<tr><td>Into the Woods</td><td>2014-12-25</td><td>Musical</td><td>PG</td><td>128002372</td><td>130894237</td><td>1</td></tr>",
                            "<tr><td>Iron Man 3</td><td>2013-05-03</td><td>Action</td><td>PG-13</td><td>408992272</td><td>424084233</td><td>1</td></tr>",
                            "<tr><td>John Carter</td><td>2012-03-09</td><td>Adventure</td><td>PG-13</td><td>73058679</td><td>77372445</td><td>1</td></tr>",
                            "<tr><td>Kaze Tachinu</td><td>2013-11-08</td><td>Drama</td><td>PG-13</td><td>5201879</td><td>5367415</td><td>1</td></tr>",
                            "<tr><td>Lincoln</td><td>2012-11-09</td><td>Drama</td><td>PG-13</td><td>182207973</td><td>192122330</td><td>1</td></tr>",
                            "<tr><td>Maleficent</td><td>2014-05-30</td><td>Adventure</td><td>PG</td><td>241407328</td><td>249089809</td><td>1</td></tr>",
                            "<tr><td>Mars Needs Moms</td><td>2011-03-11</td><td>Adventure</td><td>PG</td><td>21392758</td><td>22741603</td><td>1</td></tr>",
                            "<tr><td>McFarland, USA</td><td>2015-02-20</td><td>Drama</td><td>PG</td><td>44480275</td><td>44480275</td><td>1</td></tr>",
                            "<tr><td>Million Dollar Arm</td><td>2014-05-10</td><td>Drama</td><td>PG</td><td>36447959</td><td>37607865</td><td>1</td></tr>",
                            "<tr><td>Moana</td><td>2016-11-23</td><td>Adventure</td><td>PG</td><td>246082029</td><td>246082029</td><td>1</td></tr>",
                            "<tr><td>Monkey Kingdom</td><td>2015-04-17</td><td>Documentary</td><td>G</td><td>16432322</td><td>16432322</td><td>1</td></tr>",
                            "<tr><td>Monsters University</td><td>2013-06-21</td><td>Adventure</td><td>G</td><td>268488329</td><td>278395641</td><td>1</td></tr>",
                            "<tr><td>Muppets Most Wanted</td><td>2014-03-21</td><td>Comedy</td><td>PG</td><td>51178893</td><td>52807594</td><td>1</td></tr>",
                            "<tr><td>Need for Speed</td><td>2014-03-14</td><td>Action</td><td>PG-13</td><td>43568507</td><td>44955015</td><td>1</td></tr>",
                            "<tr><td>Oz the Great and Powerful</td><td>2013-03-08</td><td>Adventure</td><td>PG</td><td>234770996</td><td>243434130</td><td>1</td></tr>",
                            "<tr><td>People Like Us</td><td>2012-06-29</td><td>Drama</td><td>PG-13</td><td>12431792</td><td>13165822</td><td>1</td></tr>",
                            "<tr><td>Pete’s Dragon</td><td>2016-08-12</td><td>Adventure</td><td>PG</td><td>76233151</td><td>76233151</td><td>1</td></tr>",
                            "<tr><td>Pirates of the Caribbean: On Stranger…</td><td>2011-05-20</td><td>Adventure</td><td>PG-13</td><td>241063875</td><td>256263359</td><td>1</td></tr>",
                            "<tr><td>Planes: Fire and Rescue</td><td>2014-07-18</td><td>Adventure</td><td>PG</td><td>59157732</td><td>61040349</td><td>1</td></tr>",
                            "<tr><td>Prom</td><td>2011-04-29</td><td>Comedy</td><td>PG</td><td>10130219</td><td>10768946</td><td>1</td></tr>",
                            "<tr><td>Queen of Katwe</td><td>2016-09-23</td><td>Drama</td><td>PG</td><td>8874389</td><td>8874389</td><td>1</td></tr>",
                            "<tr><td>Real Steel</td><td>2011-10-07</td><td>Action</td><td>PG-13</td><td>85463309</td><td>90848019</td><td>1</td></tr>",
                            "<tr><td>Rogue One: A Star Wars Story</td><td>2016-12-16</td><td>Adventure</td><td>PG-13</td><td>529483936</td><td>529483936</td><td>1</td></tr>",
                            "<tr><td>Saving Mr. Banks</td><td>2013-12-13</td><td>Drama</td><td>PG-13</td><td>83299761</td><td>86249969</td><td>1</td></tr>",
                            "<tr><td>Star Wars Ep. VII: The Force Awakens</td><td>2015-12-18</td><td>Adventure</td><td>PG-13</td><td>936662225</td><td>936662225</td><td>1</td></tr>",
                            "<tr><td>Strange Magic</td><td>2015-01-23</td><td>Adventure</td><td>PG</td><td>12429583</td><td>12429583</td><td>1</td></tr>",
                            "<tr><td>The Avengers</td><td>2012-05-04</td><td>Action</td><td>PG-13</td><td>623279547</td><td>660081224</td><td>1</td></tr>",
                            "<tr><td>The BFG</td><td>2016-07-01</td><td>Adventure</td><td>PG</td><td>55483770</td><td>55483770</td><td>1</td></tr>",
                            "<tr><td>The Fifth Estate</td><td>2013-10-18</td><td>Drama</td><td>R</td><td>3254172</td><td>3374251</td><td>1</td></tr>",
                            "<tr><td>The Finest Hours</td><td>2016-01-29</td><td>Thriller/Suspense</td><td>PG</td><td>27569558</td><td>27569558</td><td>1</td></tr>",
                            "<tr><td>The Good Dinosaur</td><td>2015-11-25</td><td>Adventure</td><td>PG</td><td>123087120</td><td>123087120</td><td>1</td></tr>",
                            "<tr><td>The Help</td><td>2011-08-10</td><td>Drama</td><td>PG-13</td><td>169705587</td><td>180404976</td><td>1</td></tr>",
                            "<tr><td>The Hundred-Foot Journey</td><td>2014-08-08</td><td>Romantic Comedy</td><td>PG</td><td>54235441</td><td>55961409</td><td>1</td></tr>",
                            "<tr><td>The Jungle Book</td><td>2016-04-15</td><td>Adventure</td><td>PG</td><td>364001123</td><td>364001123</td><td>1</td></tr>",
                            "<tr><td>The Light Between Oceans</td><td>2016-09-02</td><td>Drama</td><td>PG-13</td><td>12545979</td><td>12545979</td><td>1</td></tr>",
                            "<tr><td>The Lone Ranger</td><td>2013-07-02</td><td>Western</td><td>PG-13</td><td>89302115</td><td>92597388</td><td>1</td></tr>",
                            "<tr><td>The Muppets</td><td>2011-11-23</td><td>Comedy</td><td>PG</td><td>88625922</td><td>94189503</td><td>1</td></tr>",
                            "<tr><td>The Odd Life of Timothy Green</td><td>2012-08-15</td><td>Drama</td><td>PG</td><td>51853450</td><td>54914942</td><td>1</td></tr>",
                            "<tr><td>The Secret World of Arietty</td><td>2012-02-17</td><td>Adventure</td><td>G</td><td>19192510</td><td>20325733</td><td>1</td></tr>",
                            "<tr><td>Thor: The Dark World</td><td>2013-11-08</td><td>Adventure</td><td>PG-13</td><td>206362140</td><td>213962184</td><td>1</td></tr>",
                            "<tr><td>Tomorrowland</td><td>2015-05-22</td><td>Adventure</td><td>PG</td><td>93436322</td><td>93436322</td><td>1</td></tr>",
                            "<tr><td>War Horse</td><td>2011-12-25</td><td>Drama</td><td>PG-13</td><td>79883359</td><td>84762149</td><td>1</td></tr>",
                            "<tr><td>Winnie the Pooh</td><td>2011-07-15</td><td>Adventure</td><td>G</td><td>26692846</td><td>28375869</td><td>1</td></tr>",
                            "<tr><td>Wreck-It Ralph</td><td>2012-11-02</td><td>Adventure</td><td>PG</td><td>189412677</td><td>200354959</td><td>1</td></tr>",
                            "<tr><td>Zokkomon</td><td>2011-04-22</td><td>Adventure</td><td>PG</td><td>2815</td><td>2984</td><td>1</td></tr>",
                            "<tr><td>Zootopia</td><td>2016-03-04</td><td>Adventure</td><td>PG</td><td>341268248</td><td>341268248</td><td>1</td></tr>",
                            "</table>"
                        ]
                    }
                }
            ],
            "execution_count": 10
        }
    ]
}